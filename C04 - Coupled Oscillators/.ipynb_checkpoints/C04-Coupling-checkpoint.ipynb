{
 "cells": [
  {
   "cell_type": "raw",
   "metadata": {
    "raw_mimetype": "text/latex",
    "scrolled": true,
    "slideshow": {
     "slide_type": "skip"
    }
   },
   "source": [
    "\\newcommand{\\rads}{~rad.s$^{-1}$}\n",
    "\\newcommand{\\bnabla}{\\boldsymbol{\\nabla}}\n",
    "\\newcommand{\\eexp}[1]{\\textrm{e}^{#1}}\n",
    "\\newcommand{\\glm}[1]{\\overline{#1}^L}\n",
    "\\newcommand{\\di}[0]{\\textrm{d}}\n",
    "\\newcommand{\\bs}[1]{\\boldsymbol{#1}}\n",
    "\\newcommand{\\ode}[2]{\\frac{\\di {#1}}{\\di {#2}}}\n",
    "\\newcommand{\\oden}[3]{\\frac{\\di^{#1} {#2}}{\\di {#3}^{#1}}}\n",
    "\\newcommand{\\odel}[2]{\\di {#1}/\\di {#2}}\n",
    "\\newcommand{\\odeln}[3]{\\di^{#1} {#2}/\\di {#3}^{#1}}\n",
    "\\newcommand{\\pde}[2]{\\frac{\\partial {#1}}{\\partial {#2}}}\n",
    "\\newcommand{\\pden}[3]{\\frac{\\partial^{#1} {#2}}{\\partial {#3}^{#1}}}\n",
    "\\newcommand{\\pdel}[2]{\\partial_{#2} {#1}}\n",
    "\\newcommand{\\pdenl}[3]{\\partial^{#1}_{#3} {#2}}\n",
    "\\newcommand{\\divr}[1]{\\vec\\nabla \\cdot {#1}}\n",
    "\\newcommand{\\divrb}[1]{\\boldsymbol{\\nabla} \\cdot {#1}}\n",
    "\\newcommand{\\grad}[1]{\\vec \\nabla {#1}}\n",
    "\\newcommand{\\gradb}[1]{\\boldsymbol\\nabla {#1}}\n",
    "\\newcommand{\\curl}[1]{\\vec\\nabla \\times {#1}}\n",
    "\\newcommand{\\curlb}[1]{\\boldsymbol{\\nabla}\\times\\boldsymbol{#1}}\n",
    "\\newcommand{\\lapl}[0]{\\vec\\nabla^2}\n",
    "\\newcommand{\\laplb}[0]{\\boldsymbol{\\nabla}^2}\n",
    "\\newcommand{\\cplxi}[0]{\\mathrm i}\n",
    "\\newcommand{\\unit}[1]{\\mathbf{\\hat{#1}}}\n",
    "\\newcommand{\\thrfor}[0]{\\quad\\Rightarrow\\quad}\n",
    "\\newcommand{\\and}[0]{\\quad\\textrm{and}\\quad}\n",
    "\\newcommand{\\oreq}[0]{\\quad\\textrm{or}\\quad}\n",
    "\\newcommand{\\red}[1]{\\textcolor{red}{#1}}\n",
    "\\newcommand{\\blue}[1]{\\textcolor{blue}{#1}}\n",
    "\\newcommand{\\mage}[1]{\\textcolor{magenta}{#1}}\n",
    "\\newcommand{\\stirling}[2]{\\genfrac{[}{]}{0pt}{}{#1}{#2}}"
   ]
  },
  {
   "cell_type": "raw",
   "metadata": {
    "raw_mimetype": "text/latex",
    "slideshow": {
     "slide_type": "skip"
    }
   },
   "source": [
    "\\DefineVerbatimEnvironment{Verbatim}{Verbatim}{fontsize=\\scriptsize}"
   ]
  },
  {
   "cell_type": "markdown",
   "metadata": {
    "slideshow": {
     "slide_type": "skip"
    }
   },
   "source": [
    "$\\newcommand{\\rads}{~rad.s$^{-1}$}$\n",
    "$\\newcommand{\\bnabla}{\\boldsymbol{\\nabla}}$\n",
    "$\\newcommand{\\eexp}[1]{\\textrm{e}^{#1}}$\n",
    "$\\newcommand{\\glm}[1]{\\overline{#1}^L}$\n",
    "$\\newcommand{\\di}[0]{\\textrm{d}}$\n",
    "$\\newcommand{\\bs}[1]{\\boldsymbol{#1}}$\n",
    "$\\newcommand{\\ode}[2]{\\frac{\\di {#1}}{\\di {#2}}}$\n",
    "$\\newcommand{\\oden}[3]{\\frac{\\di^{#1} {#2}}{\\di {#3}^{#1}}}$\n",
    "$\\newcommand{\\odel}[2]{\\di {#1}/\\di {#2}}$\n",
    "$\\newcommand{\\odeln}[3]{\\di^{#1} {#2}/\\di {#3}^{#1}}$\n",
    "$\\newcommand{\\pde}[2]{\\frac{\\partial {#1}}{\\partial {#2}}}$\n",
    "$\\newcommand{\\pden}[3]{\\frac{\\partial^{#1} {#2}}{\\partial {#3}^{#1}}}$\n",
    "$\\newcommand{\\pdel}[2]{\\partial_{#2} {#1}}$\n",
    "$\\newcommand{\\pdenl}[3]{\\partial^{#1}_{#3} {#2}}$\n",
    "$\\newcommand{\\mde}[1]{\\frac{\\textrm{D} {#1}}{\\textrm{D} t}}$\n",
    "$\\newcommand{\\mdel}[1]{\\textrm{D}_t {#1}}$\n",
    "$\\newcommand{\\divr}[1]{\\vec\\nabla \\cdot {#1}}$\n",
    "$\\newcommand{\\divrb}[1]{\\boldsymbol{\\nabla} \\cdot {#1}}$\n",
    "$\\newcommand{\\grad}[1]{\\vec \\nabla {#1}}$\n",
    "$\\newcommand{\\gradb}[1]{\\boldsymbol\\nabla {#1}}$\n",
    "$\\newcommand{\\curl}[1]{\\vec\\nabla \\times {#1}}$\n",
    "$\\newcommand{\\curlb}[1]{\\boldsymbol{\\nabla}\\times\\boldsymbol{#1}}$\n",
    "$\\newcommand{\\lapl}[0]{\\vec\\nabla^2}$\n",
    "$\\newcommand{\\laplb}[0]{\\boldsymbol{\\nabla}^2}$\n",
    "$\\newcommand{\\cplxi}[0]{\\mathrm i}$\n",
    "$\\newcommand{\\unit}[1]{\\mathbf{\\hat{#1}}}$\n",
    "$\\newcommand{\\thrfor}[0]{\\quad\\Rightarrow\\quad}$\n",
    "$\\newcommand{\\and}[0]{\\quad\\textrm{and}\\quad}$\n",
    "$\\newcommand{\\oreq}[0]{\\quad\\textrm{or}\\quad}$\n",
    "$\\newcommand{\\red}[1]{\\textcolor{red}{#1}}$\n",
    "$\\newcommand{\\blue}[1]{\\textcolor{blue}{#1}}$\n",
    "$\\newcommand{\\mage}[1]{\\textcolor{magenta}{#1}}$\n",
    "$\\newcommand{\\stirling}[2]{\\genfrac{[}{]}{0pt}{}{#1}{#2}}$"
   ]
  },
  {
   "cell_type": "code",
   "execution_count": 1,
   "metadata": {
    "collapsed": true,
    "raw_mimetype": "text/x-python",
    "slideshow": {
     "slide_type": "skip"
    }
   },
   "outputs": [],
   "source": [
    "from IPython.display import Image, display"
   ]
  },
  {
   "cell_type": "markdown",
   "metadata": {
    "slideshow": {
     "slide_type": "skip"
    }
   },
   "source": [
    "*[Book: chapter 4; I will go off-script when talking about eigenvalues and eigenvectors.]*"
   ]
  },
  {
   "cell_type": "markdown",
   "metadata": {
    "slideshow": {
     "slide_type": "skip"
    }
   },
   "source": [
    "# Introduction"
   ]
  },
  {
   "cell_type": "markdown",
   "metadata": {
    "slideshow": {
     "slide_type": "skip"
    }
   },
   "source": [
    "This chapter is a pivotal chapter in this lecture series, and from past experience, one of the most challenging as well.\n",
    "It makes the transition between the behaviour of simple oscillators and wave behaviour.\n",
    "Throughout this lecture series, I made analogies between simple oscillations and waves propagating in continous media.\n",
    "However, these two things look very, very different.\n",
    "Where does the connection happen?"
   ]
  },
  {
   "cell_type": "markdown",
   "metadata": {
    "slideshow": {
     "slide_type": "skip"
    }
   },
   "source": [
    "Here is the pivot, and pretty much the goal of this chapter: when two oscillators are coupled, i.e., the motion of one oscillator is influenced by the motion of the other, any motion that ensues can be thought of as a linear combination of two orthogonal types of motion.\n",
    "The features of these orthogonal types of motion can be found by solving for the eigenmodes of the matrix, corresponding to the $2\\times2$ linear system of equations of the two oscillators.\n",
    "Each orthogonal mode of motion evolves independently, and its evolution equation is that of a simple harmonic oscillator.\n",
    "Physically, the most visible manifestation of one single mode of motion is that all parts of the coupled system of oscillators oscillate at the same frequency, while a different mode will have those parts oscillate at different frequencies."
   ]
  },
  {
   "cell_type": "markdown",
   "metadata": {
    "slideshow": {
     "slide_type": "skip"
    }
   },
   "source": [
    "If now an infinite number of oscillators are coupled, the number of orthogonal modes of motions are not to the number of two, but are infinite.\n",
    "This model can be thought of as a model for a continuous medium, in which waves can propagate.\n",
    "The superposition of this infinite number of modes can lead to an infinite number of patterns that propagate: waves.\n",
    "Once again, each of these modes satisfies the same equation as that of a simple harmonic oscillator."
   ]
  },
  {
   "cell_type": "markdown",
   "metadata": {
    "slideshow": {
     "slide_type": "skip"
    }
   },
   "source": [
    "It is the circle of life, PHY293-style: from oscillators to waves, and back to oscillators.\n",
    "Hopefully, by the end of my lecture series, you will have started to understand this concept.\n",
    "It takes years to fully grasp."
   ]
  },
  {
   "cell_type": "markdown",
   "metadata": {
    "slideshow": {
     "slide_type": "skip"
    }
   },
   "source": [
    "According to TAs of previous years, the challenging aspect is linear algebra.\n",
    "I am aware of it and will do my best to ease the transition.\n",
    "But make no mistake, there is no way around it, and I cannot substitute this chapter with half-baked lectures on linear algebra. \n",
    "I encourage you to review whatever material you already saw on the topic."
   ]
  },
  {
   "cell_type": "markdown",
   "metadata": {
    "slideshow": {
     "slide_type": "skip"
    }
   },
   "source": [
    "Finally, throughout the chapter, and in order to simplify the presentation, we neglect damping unless otherwise stated."
   ]
  },
  {
   "cell_type": "markdown",
   "metadata": {
    "slideshow": {
     "slide_type": "skip"
    }
   },
   "source": [
    "# Coupled Pendulums"
   ]
  },
  {
   "cell_type": "markdown",
   "metadata": {
    "slideshow": {
     "slide_type": "skip"
    }
   },
   "source": [
    "## Simple Pendulum\n",
    "\n",
    "You have seen in the first tutorial that the equation of motion of one undamped pendulum of length $l$ is \n",
    "$$ \\ddot \\theta + \\omega_p^2\\theta = 0,$$ \n",
    "with $\\omega^2_p = g/l$ and $\\theta$ is the angle of the pendulum with respect to the direction of gravity (See King fig. 1.15)."
   ]
  },
  {
   "cell_type": "markdown",
   "metadata": {
    "slideshow": {
     "slide_type": "skip"
    }
   },
   "source": [
    "![King 1.15](SimplePendulum.png)"
   ]
  },
  {
   "cell_type": "markdown",
   "metadata": {
    "slideshow": {
     "slide_type": "skip"
    }
   },
   "source": [
    "Let $x$ be the distance of the mass from the vertical axis (see King fig. 1.15).\n",
    "We have $x = l \\sin\\theta$.\n",
    "In order for the SHO model to be valid, we need the oscillations to remain small, i.e., $\\theta \\ll 1$ or $\\forall t,\\ x(t) \\ll l$.\n",
    "In this case, $\\sin\\theta \\approx \\theta$, meaning that an equivalent equation of motion for the mass is\n",
    "$$ \\ddot x + \\omega_p^2 x = 0. $$"
   ]
  },
  {
   "cell_type": "markdown",
   "metadata": {
    "slideshow": {
     "slide_type": "skip"
    }
   },
   "source": [
    "## Two Pendulums and a Spring\n",
    "\n",
    "### Qualitative considerations\n",
    "\n",
    "#### Setup\n",
    "\n",
    "Let me use the example of two pendulums of identical lengths $l$, at the end of which two identical masses $m$ hang.\n",
    "The masses are attached via a spring of stiffness $k$, as shown on King fig. 4.2. \n",
    "When the two masses are at rest, both pendulums are vertical, and the spring is not stretched nor compressed.\n",
    "\n",
    "![King 4.2](CoupledPendula.png)"
   ]
  },
  {
   "cell_type": "markdown",
   "metadata": {
    "slideshow": {
     "slide_type": "skip"
    }
   },
   "source": [
    "Let's call $B$ the mass on the left, and $A$ the mass on the right.\n",
    "$x_A$ and $x_B$ are the horizontal distances of each mass from their respective rest positions."
   ]
  },
  {
   "cell_type": "markdown",
   "metadata": {
    "slideshow": {
     "slide_type": "skip"
    }
   },
   "source": [
    "I will show how a systematic mathematical treatment of the equations of motion reveals that there are two \"natural\", i.e., normal, modes of motion.\n",
    "But first, let me introduce them qualitatively."
   ]
  },
  {
   "cell_type": "markdown",
   "metadata": {
    "slideshow": {
     "slide_type": "skip"
    }
   },
   "source": [
    "#### Antisymmetric Normal Mode"
   ]
  },
  {
   "cell_type": "markdown",
   "metadata": {
    "slideshow": {
     "slide_type": "skip"
    }
   },
   "source": [
    "![The antisymmetric normal mode](pendulum_syn.gif)"
   ]
  },
  {
   "cell_type": "markdown",
   "metadata": {
    "slideshow": {
     "slide_type": "skip"
    }
   },
   "source": [
    "Imagine that at $t=0$, $x_{A0} = x_{B0} = A$, and both masses are held steady initially (no initial velocity).\n",
    "Since the motion of both masses is initialized in the same way, and both pendulums have the same natural frequency $g/l$, they would naturally oscillate in perfect sync, with same amplitude and in phase:\n",
    "$$ x_A(t) = x_B(t) = A\\cos(\\omega_0 t). $$"
   ]
  },
  {
   "cell_type": "markdown",
   "metadata": {
    "slideshow": {
     "slide_type": "skip"
    }
   },
   "source": [
    "The spring is not stretched or compressed, and therefore plays no role in this motion.\n",
    "Here is why this mode of motion is what we call a normal mode:\n",
    "** all elements of the coupled system oscillate at the same frequency**, $\\omega_0$ here.\n"
   ]
  },
  {
   "cell_type": "markdown",
   "metadata": {
    "slideshow": {
     "slide_type": "skip"
    }
   },
   "source": [
    "#### Symmetric Normal Mode"
   ]
  },
  {
   "cell_type": "markdown",
   "metadata": {
    "slideshow": {
     "slide_type": "skip"
    }
   },
   "source": [
    "![The symmetric normal mode](pendulum_asyn.gif)"
   ]
  },
  {
   "cell_type": "markdown",
   "metadata": {
    "slideshow": {
     "slide_type": "skip"
    }
   },
   "source": [
    "We can come up with another type of motion, for which each mass will oscillate sinusoidally with a well-defined frequency."
   ]
  },
  {
   "cell_type": "markdown",
   "metadata": {
    "slideshow": {
     "slide_type": "skip"
    }
   },
   "source": [
    "Our initial conditions are now $x_{A0} = -x_{B0} = A$, with zero initial velocity again. By symmetry, one can expect that the motion is now described by \n",
    "$$ x_A(t) = A\\cos(\\omega_2 t)\\quad\\textrm{and}\\quad x_{B}(t) = A\\cos(\\omega_2 t +\\pi). $$"
   ]
  },
  {
   "cell_type": "markdown",
   "metadata": {
    "slideshow": {
     "slide_type": "skip"
    }
   },
   "source": [
    "I.e., both positions will oscillate $\\pi$ rad (or 180$^o$) out of phase, and with a single angular frequency $\\omega_2$.\n",
    "What $\\omega_2$ is, is not trivial at this point, because it will include effects due to both restoring forces, i.e., weight and the spring tension.\n",
    "I will derive it soon after, but at this point, I want you to remember that the type of motion is a normal mode because **both pendulums oscillate at the same frequency.**"
   ]
  },
  {
   "cell_type": "markdown",
   "metadata": {
    "slideshow": {
     "slide_type": "skip"
    }
   },
   "source": [
    "Could I find a third normal mode?\n",
    "The answer is no, because there are only two degrees of freedom (the positions of the masses).\n",
    "Is it obvious?\n",
    "Again, the answer is no.\n",
    "The definitive proof is a basic result of linear algebra.\n",
    "In this chapter, I will simply show that these forms of motion appear naturally out of the equations of motion, that no other normal mode is apparent, and that any other form of motion can be described as a linear combination of both forms of motion."
   ]
  },
  {
   "cell_type": "markdown",
   "metadata": {
    "slideshow": {
     "slide_type": "skip"
    }
   },
   "source": [
    "### Systematic Derivation"
   ]
  },
  {
   "cell_type": "markdown",
   "metadata": {
    "slideshow": {
     "slide_type": "skip"
    }
   },
   "source": [
    "![King 4.7: The general case](GeneralPendulums.png)"
   ]
  },
  {
   "cell_type": "markdown",
   "metadata": {
    "slideshow": {
     "slide_type": "skip"
    }
   },
   "source": [
    "#### Basic equations\n",
    "\n",
    "Let us now drop any symmetry assumption.\n",
    "The positions $x_A(t)$ and $x_B(t)$ are just what they are."
   ]
  },
  {
   "cell_type": "markdown",
   "metadata": {
    "slideshow": {
     "slide_type": "skip"
    }
   },
   "source": [
    "Let us first focus on mass $A$.\n",
    "The weight of $A$ projected on the direction of the velocity is $F_{WA} = -mg x_A/l$ (see Problem Set 1).\n",
    "The force of the spring on the mass is $F_{s\\to A} = -k(x_A - x_B)$.\n",
    "Strictly speaking, this force is aligned with the direction of the spring, but if the angles of displacement are small, we can also say that its projection on the direction of the trajectory is the same."
   ]
  },
  {
   "cell_type": "markdown",
   "metadata": {
    "slideshow": {
     "slide_type": "skip"
    }
   },
   "source": [
    "Newton's 2$^{nd}$ law applied to the mass is therefore \n",
    "$$ m\\ddot x_A + \\frac{mg}{l}x_A + k(x_A - x_B) = 0,$$\n",
    "or, after division by $m$,\n",
    "$$ \\ddot x_A + \\omega_p^2 x_A + \\omega_s^2(x_A - x_B) = 0, \\hspace{5cm} (1) $$\n",
    "with $\\omega_s^2 = k/m$ (recall that $\\omega_p^2 = g/l$).\n",
    "\n",
    "The same reasoning with mass $B$ yields\n",
    "$$ \\ddot x_B + \\omega_p^2x_B + \\omega_s^2(x_B - x_A) = 0. \\hspace{5cm} (2) $$"
   ]
  },
  {
   "cell_type": "markdown",
   "metadata": {
    "slideshow": {
     "slide_type": "skip"
    }
   },
   "source": [
    "Both equations are almost the same, except for the terms that results from the spring tension, which couples the motion of both masses."
   ]
  },
  {
   "cell_type": "markdown",
   "metadata": {
    "slideshow": {
     "slide_type": "skip"
    }
   },
   "source": [
    "#### Change of variables"
   ]
  },
  {
   "cell_type": "markdown",
   "metadata": {
    "slideshow": {
     "slide_type": "skip"
    }
   },
   "source": [
    "It is not obvious at first, how to solve for $x_A$ and $x_B$ with this coupling term involved.\n",
    "The method we use is a **change of variables.**\n",
    "Define\n",
    "$$ q_1 = x_A + x_B \\and q_2 = x_A - x_B.$$"
   ]
  },
  {
   "cell_type": "markdown",
   "metadata": {
    "slideshow": {
     "slide_type": "skip"
    }
   },
   "source": [
    "One simple way to make them appear is to sum and subtract eqns. (1) and (2):\n",
    "\n",
    "* $(1) + (2) \\quad\\Rightarrow\\quad \\ddot q_1 + \\omega_1^2 q_1 = 0$."
   ]
  },
  {
   "cell_type": "markdown",
   "metadata": {
    "slideshow": {
     "slide_type": "skip"
    }
   },
   "source": [
    "This is the equation for an SHO of angular frequency $\\omega_1 = \\omega_p$.\n",
    "The antisymmetric mode of motion that I described earlier on was also oscillating at frequency $\\omega_p$, because the spring wasn't stretching or compressing, and the presence of said string was not modifying the pendulum natural frequency $\\omega_p$.\n",
    "And since it was characterized by $x_A(t) = x_B(t)$, it corresponded to $q_1 = 2x_A = 2x_B \\neq 0$ and $q_2 = 0$."
   ]
  },
  {
   "cell_type": "markdown",
   "metadata": {
    "slideshow": {
     "slide_type": "skip"
    }
   },
   "source": [
    "*Note: why do I feel the need to introduce $\\omega_1$ on top of $\\omega_p$? Because in general, no frequency of the normal modes is equal to one of the frequencies of the uncoupled oscillators. In this simple case, yes, but I do not want to give false impressions.*"
   ]
  },
  {
   "cell_type": "markdown",
   "metadata": {
    "slideshow": {
     "slide_type": "skip"
    }
   },
   "source": [
    "* $(1) - (2) \\quad\\Rightarrow\\quad \\ddot q_2 + \\omega_p^2 q_2 + 2\\omega_s^2 q_2 = 0.$\n",
    "\n",
    "Or, defining $\\omega_2^2 = \\omega_p^2 + 2\\omega_s^2$,\n",
    "$$ \\ddot q_2 + \\omega_2^2 q_2 = 0. $$\n",
    "Recall the symmetric oscillation mode: it was characterized by $x_A = -x_B$, and therefore $q_1 = 0$ and $q_2 = 2x_A = -2x_B \\neq 0.$\n",
    "I had also mentioned, back then, that $\\omega_2^2$ was not trivial, because it was a mix of the influences of gravity and spring tension.\n",
    "Indeed, here, $\\omega_2$ does contain both the influences of gravity (via $\\omega_p^2$) and spring tension (via $2\\omega_s^2$).\n",
    "Therefore, this mode corresponds to the antisymmetric mode of motion."
   ]
  },
  {
   "cell_type": "markdown",
   "metadata": {
    "slideshow": {
     "slide_type": "skip"
    }
   },
   "source": [
    "#### Comments (to be remembered!)"
   ]
  },
  {
   "cell_type": "markdown",
   "metadata": {
    "slideshow": {
     "slide_type": "skip"
    }
   },
   "source": [
    "* Modes of oscillations cannot be thought on as simple oscillations anymore, with one object or easily identifiable quantity such as electric current describing an oscillation. It is a **global** concept in which **all** components of one coupled system of oscillators oscillate in phase, at the same frequency, as if described by a (D)SHO model.\n",
    "* The oscillations of each individual component are not independent from each other, but **the modes are completely independent**: there is no trace of $q_1$ in the equation for $q_2$, and vice-versa. It means that if one initiates the coupled system in a funky way, and the coupled system does a weird dance of oscillations, the degree of complexity is actually finite: one mode has a certain amplitude and a certain phase, and the other mode has a certain amplitude, presumably different, and a certain phase shift with the first mode. The pattern of oscillations might look crazy, but there are only two modes, and they don't exchange energy from one to the other as long as the system is linear.\n",
    "* $q_1$ and $q_2$ are called the **normal coordinates**, or **eigencoordinates**, of the **normal modes**, or **eigenmodes**. Their respective **normal frequencies**, or **eigenfrequencies**, are $\\omega_1$ and $\\omega_2$."
   ]
  },
  {
   "cell_type": "markdown",
   "metadata": {
    "slideshow": {
     "slide_type": "skip"
    }
   },
   "source": [
    "It is as if there is a physical space, in which physical coordinates $x_A$ and $x_B$ exist, and a dual space, in which $q_1$ and $q_2$ exist.\n",
    "Both spaces describe the same physical reality, but because they don't describe it in the same way, the \"dual\" space may be more useful in some cases, including this one."
   ]
  },
  {
   "cell_type": "markdown",
   "metadata": {
    "slideshow": {
     "slide_type": "skip"
    }
   },
   "source": [
    "When you start studying Fourier series and later on Fourier analysis, you may call this dual space the \"Fourier\" space, or \"spectral\" space.\n",
    "It has nothing to do with Halloween, and everything to do with the fact that the visualization of the physical reality in this dual space is called a (Fourier) spectrum, which looks like the display on a sound equalizer (and it is not a coincidence).\n",
    "At this point in your curriculum, I am not supposed to reveal the existence of this Fourier space to you. \n",
    "But I may use the term inadvertently, by sheer force of habit."
   ]
  },
  {
   "cell_type": "markdown",
   "metadata": {
    "slideshow": {
     "slide_type": "skip"
    }
   },
   "source": [
    "### More on the Independence of the Modes"
   ]
  },
  {
   "cell_type": "markdown",
   "metadata": {
    "slideshow": {
     "slide_type": "skip"
    }
   },
   "source": [
    "A bit more algebra, because I want to drive home the fact that the two modes are independent.\n",
    "If the coupled system is initiated somewhat randomly, both modes of oscillation will coexist.\n",
    "They both are solutions of two different SHO equations, and their expressions are therefore\n",
    "$$q_1 = C_1\\cos(\\omega_1 t + \\phi_1)\\and q_2 = C_2\\cos(\\omega_2 t + \\phi_2).$$"
   ]
  },
  {
   "cell_type": "markdown",
   "metadata": {
    "slideshow": {
     "slide_type": "skip"
    }
   },
   "source": [
    "In physical coordinates, this translates into\n",
    "$$ x_A = \\frac{q_1 + q_2}2 = \\frac12\\left[C_1\\cos(\\omega_1 t + \\phi_1) + C_2\\cos(\\omega_2 t + \\phi_2) \\right],$$\n",
    "$$ x_B = \\frac{q_1 - q_2}2 = \\frac12\\left[C_1\\cos(\\omega_1 t + \\phi_1) - C_2\\cos(\\omega_2 t + \\phi_2) \\right].$$"
   ]
  },
  {
   "cell_type": "markdown",
   "metadata": {
    "slideshow": {
     "slide_type": "skip"
    }
   },
   "source": [
    "Meaning that any motion can be considered a superposition of the two modes.\n",
    "For the motion of the antisymmetric mode, $C_2 = 0$, for the symmetric mode, $C_1 = 0$, and in general, $C_1\\neq 0$ and $C_2\\neq 0$."
   ]
  },
  {
   "cell_type": "markdown",
   "metadata": {
    "slideshow": {
     "slide_type": "skip"
    }
   },
   "source": [
    "Here I show that the two modes each have a certain amount of energy, and that this energy does not get traded from one mode to the other.\n",
    "The kinetic energies of $A$ and $B$ are \n",
    "$$ K_{A, B} = \\frac12 m(\\dot x_{A, B})^2, $$\n",
    "their gravitational potential energies are\n",
    "$$ U^{(g)}_{A, B} = \\frac12\\frac{mgx_{A, B}^2}{l} = \\frac12 m\\omega_p^2 x_{A, B}^2 \\quad\\textrm{(see PS1 or King § 1.3.2)}, $$"
   ]
  },
  {
   "cell_type": "markdown",
   "metadata": {
    "slideshow": {
     "slide_type": "skip"
    }
   },
   "source": [
    "and the potential energy stored in the spring is\n",
    "$$ U^{(s)}  = \\frac12 k (x_A - x_B)^2 = \\frac12 m\\omega_s^2 (x_A - x_B)^2.$$ "
   ]
  },
  {
   "cell_type": "markdown",
   "metadata": {
    "slideshow": {
     "slide_type": "skip"
    }
   },
   "source": [
    "The total energy stored in the coupled system is therefore\n",
    "\\begin{align*}\n",
    "    E & = K_A + K_B + U^{(g)}_A + U^{(g)}_B + U^{(s)}, \\\\ \n",
    "      & = \\frac m2\\left\\{(\\dot x_A)^2 + (\\dot x_B)^2 + \\omega_p^2 \\left[x_A^2 + x_B^2\\right] + \\omega_s^2 (x_A - x_B)^2\\right\\}, \\\\\n",
    "      & = E_1 + E_2,\n",
    "\\end{align*}\n",
    "with \n",
    "$$ E_1 = \\frac14 m \\left[(\\dot q_1)^2 + \\omega_1^2 q_1^2\\right]\\and E_2 = \\frac14 m \\left[(\\dot q_2)^2 + \\omega_2^2 q_2^2\\right].$$\n",
    "(Recall that $\\omega_1^2 = \\omega_p^2$ and $\\omega_2^2 = \\omega_p^2 + 2\\omega_s^2$)"
   ]
  },
  {
   "cell_type": "markdown",
   "metadata": {
    "slideshow": {
     "slide_type": "skip"
    }
   },
   "source": [
    "As for the coordinates, each reservoir of energy, $E_1$ and $E_2$, is uncoupled from the other one: **there is no exchange of energy from one mode of motion to the other**.\n",
    "This is true for any system of coupled oscillators, as long as the linear model is valid."
   ]
  },
  {
   "cell_type": "markdown",
   "metadata": {
    "slideshow": {
     "slide_type": "skip"
    }
   },
   "source": [
    "# Beating Phenomenon"
   ]
  },
  {
   "cell_type": "markdown",
   "metadata": {
    "slideshow": {
     "slide_type": "skip"
    }
   },
   "source": [
    "When a coupled system contains two frequencies that are very close to each other, we observe what is called a beating phenomenon in physical space."
   ]
  },
  {
   "cell_type": "markdown",
   "metadata": {
    "slideshow": {
     "slide_type": "skip"
    }
   },
   "source": [
    "Take the solutions we derived earlier in physical space, but let us assume that $\\phi_1 = \\phi_2 = 0$.\n",
    "It can be physically realized but choosing initial conditions appropriately, but it can also be decided so by realizing that what we are about to describe stays valid, no matter how the phases are shifted.\n",
    "$$ x_A = \\frac12\\left[C_1\\cos(\\omega_1 t) + C_2\\cos(\\omega_2 t) \\right],$$\n",
    "$$ x_B = \\frac12\\left[C_1\\cos(\\omega_1 t) - C_2\\cos(\\omega_2 t) \\right].$$"
   ]
  },
  {
   "cell_type": "markdown",
   "metadata": {
    "slideshow": {
     "slide_type": "skip"
    }
   },
   "source": [
    "Let us also consider the case $C_1 = C_2 = C$, because it is the simplest case that can illustrate the beating phenomenon:\n",
    "\n",
    "$$ x_A = \\frac C2\\left[\\cos(\\omega_1 t) + \\cos(\\omega_2 t) \\right] = C\\cos\\left(\\frac{\\omega_1 + \\omega_2}2 t\\right)\\cos\\left(\\frac{\\omega_2 - \\omega_1}2 t\\right),$$\n",
    "$$ x_B = \\frac C2\\left[\\cos(\\omega_1 t) - \\cos(\\omega_2 t) \\right] = C\\sin\\left(\\frac{\\omega_1 + \\omega_2}2 t\\right)\\sin\\left(\\frac{\\omega_2 - \\omega_1}2 t\\right).$$"
   ]
  },
  {
   "cell_type": "markdown",
   "metadata": {
    "slideshow": {
     "slide_type": "skip"
    }
   },
   "source": [
    "***\n",
    "\n",
    "This went fast, let me do it more slowly.\n",
    "A bit of trigonometry:\n",
    "recall that \n",
    "$$\\cos(a+b) = \\cos a \\cos b - \\sin a \\sin b$$\n",
    "and \n",
    "$$\\cos(a-b) = \\cos a \\cos b + \\sin a \\sin b.$$\n",
    "Sum those two and you get:\n",
    "$$ 2\\cos a\\cos b = \\cos(a-b) + \\cos(a+b). $$\n",
    "Subtract them and you obtain\n",
    "$$ 2\\sin a\\sin b = \\cos(a-b) - \\cos(a+b). $$\n",
    "\n",
    "Now, consider \n",
    "$$a - b = \\omega_1 t \\and a + b = \\omega_2 t $$\n",
    "$$\\thrfor a = \\frac{\\omega_1 + \\omega_2}2 t \\and b = \\frac{\\omega_2 - \\omega_1}2 t. $$\n",
    "\n",
    "Using these formulas yields the result.\n",
    "\n",
    "***"
   ]
  },
  {
   "cell_type": "markdown",
   "metadata": {
    "slideshow": {
     "slide_type": "skip"
    }
   },
   "source": [
    "Or, if we define $\\Delta\\omega = (\\omega_2 - \\omega_1)/2$,\n",
    "$$ x_A = C\\cos\\left((\\omega_1 + \\Delta\\omega) t\\right)\\cos\\left(\\Delta\\omega t\\right),$$\n",
    "$$ x_B = C\\sin\\left((\\omega_1 + \\Delta\\omega) t\\right)\\sin\\left(\\Delta\\omega t\\right).$$"
   ]
  },
  {
   "cell_type": "markdown",
   "metadata": {
    "slideshow": {
     "slide_type": "skip"
    }
   },
   "source": [
    "Now, what if $\\Delta\\omega \\ll \\omega_1$? Then, \n",
    "$$ x_A \\approx C\\cos\\left(\\omega_1 t\\right)\\cos\\left(\\Delta\\omega t\\right),$$\n",
    "$$ x_B \\approx C\\sin\\left(\\omega_1 t\\right)\\sin\\left(\\Delta\\omega t\\right).$$"
   ]
  },
  {
   "cell_type": "markdown",
   "metadata": {
    "slideshow": {
     "slide_type": "skip"
    }
   },
   "source": [
    "Because $\\Delta\\omega \\ll \\omega_1$, the curves look like an oscillation, oscillating at frequency $\\omega_1$, constrained by a sinusoidal envelope of frequency $\\omega_2$."
   ]
  },
  {
   "cell_type": "code",
   "execution_count": null,
   "metadata": {
    "collapsed": true,
    "slideshow": {
     "slide_type": "skip"
    }
   },
   "outputs": [],
   "source": [
    "import numpy as np\n",
    "import matplotlib.pyplot as plt\n",
    "\n",
    "# basic quantities\n",
    "k = 0.5  # spring stiffness [N/m]\n",
    "m = 0.4  # mass [kg]\n",
    "g = 9.81  # gravitational acceleration [m/s2]\n",
    "l = .5  # lengths of pendulums  [m]\n",
    "C = 1.e-1  # amplitude of motion [m]\n",
    "ftsz = 13  # font size on plots\n",
    "t_end = 60.\n",
    "\n",
    "# derived quantities\n",
    "t = np.linspace(0., t_end, 2048)\n",
    "omega_p = np.sqrt(g/l)  # natural frequency of uncoupled pendulum\n",
    "omega_s = np.sqrt(k/m)  # natural frequency of spring\n",
    "\n",
    "omega_1 = omega_p  # 1st eigenfrequency\n",
    "omega_2 = np.sqrt(omega_p**2 + 2.*omega_s**2)  # 2nd eigenfrequency\n",
    "\n",
    "xA = 0.5*C*(np.cos(omega_1*t) + np.cos(omega_2*t))  # position of A\n",
    "\n",
    "Domega = 0.5*(omega_2 - omega_1)  # Delta omega\n",
    "envelope = C*np.cos(Domega*t)\n",
    "\n",
    "# 1st plot: each mode individually\n",
    "plt.figure()\n",
    "plt.subplot(311)\n",
    "ax1 = plt.gca()\n",
    "#ax1.axvline(0., color='k')\n",
    "ax1.plot(t, 0.5*C*np.cos(omega_1*t), 'b')\n",
    "ax1.set_xlim([0., t_end])\n",
    "ax1.set_ylim([-0.05, 0.05])\n",
    "ax1.set_ylabel('$C\\,\\cos(\\omega_1 t)/2$', fontsize=ftsz)\n",
    "ax1.grid()\n",
    "\n",
    "plt.subplot(312, sharex=ax1, sharey=ax1)\n",
    "ax2 = plt.gca()\n",
    "#ax2.axvline(0., color='k')\n",
    "ax2.plot(t, 0.5*C*np.cos(omega_2*t), 'b')\n",
    "ax2.set_ylabel('$C\\,\\cos(\\omega_2 t)/2$', fontsize=ftsz)\n",
    "ax2.grid()\n",
    "\n",
    "plt.subplot(313, sharex=ax1, sharey=ax1)\n",
    "ax3 = plt.gca()\n",
    "#ax2.axvline(0., color='k')\n",
    "ax3.plot(t, 0.5*C*np.cos(omega_1*t), 'r', label='$C\\,\\cos(\\omega_1 t)/2$')\n",
    "ax3.plot(t, 0.5*C*np.cos(omega_2*t), 'b--', label='$C\\,\\cos(\\omega_2 t)/2$')\n",
    "ax3.set_ylabel('$C\\,\\cos(\\omega_2 t)/2$', fontsize=ftsz)\n",
    "ax3.set_xlabel('time [s]', fontsize=ftsz)\n",
    "ax3.legend()\n",
    "ax3.grid()\n",
    "\n",
    "# make these tick labels invisible\n",
    "plt.setp(ax2.get_xticklabels(), visible=False)\n",
    "plt.setp(ax1.get_xticklabels(), visible=False)\n",
    "\n",
    "# 2nd plot: adding the two, the beating phenomenon\n",
    "plt.figure()\n",
    "ax = plt.gca()\n",
    "ax.axvline(0., color='k')\n",
    "ax.plot(t, xA, 'b', label='$x_A(t)$')\n",
    "ax.plot(t, envelope, 'r-.', label='$C\\,\\cos(\\Delta\\omega t)$')\n",
    "ax.plot(t, -envelope, 'r--', label='$-C\\,\\cos(\\Delta\\omega t)$')\n",
    "ax.set_ylim([-0.14, 0.16])\n",
    "ax.set_xlabel('time [s]', fontsize=ftsz)\n",
    "ax.set_ylabel('position [m]', fontsize=ftsz)\n",
    "ax.grid()\n",
    "ax.legend()\n",
    "\n",
    "# annotation to highlight the envelope period\n",
    "T = 2*np.pi/Domega\n",
    "ax.axvline(T/4, color='k', linestyle='-.')  # the t=T/2 mark\n",
    "ax.axvline(5*T/4, color='k', linestyle='-.')  # the t=3T/2 mark\n",
    "ax.annotate(s='', xy=(T/4, -.12), xytext=(5*T/4, -0.12),\n",
    "            arrowprops=dict(arrowstyle='<|-|>'))  # the double arrow\n",
    "ax.text(1.5*np.pi/Domega, -0.12, r'$2\\pi/\\Delta\\omega$',\n",
    "        verticalalignment='center', horizontalalignment='center',\n",
    "        backgroundcolor='w', fontsize=ftsz)\n",
    "\n",
    "# annotation to highlight the fast oscillation period\n",
    "T = 4.*np.pi/(omega_2 + omega_1)\n",
    "pp = 20.5\n",
    "t1 = pp*T\n",
    "t2 = (pp+1)*T\n",
    "ax.plot([t1]*2, [-C*np.cos(Domega*t1), 0.13],\n",
    "        color='k')  # the fast period mark #1\n",
    "ax.plot([t2]*2, [-C*np.cos(Domega*t2), 0.13],\n",
    "        color='k')  # the fast period mark #2\n",
    "ax.annotate(s='', xy=(t1, .11), xytext=(t2, 0.11),\n",
    "            arrowprops=dict(arrowstyle='<|-|>'))  # the double arrow\n",
    "ax.text((t1+t2)/2, 0.135, r'$2\\pi/(\\omega_1+\\Delta\\omega)$',\n",
    "        verticalalignment='center', horizontalalignment='center',\n",
    "        backgroundcolor='w', fontsize=ftsz)"
   ]
  },
  {
   "cell_type": "code",
   "execution_count": 78,
   "metadata": {
    "slideshow": {
     "slide_type": "slide"
    }
   },
   "outputs": [
    {
     "data": {
      "image/png": "[encoded data removed]",
      "text/plain": [
       "<matplotlib.figure.Figure at 0x111aaecc0>"
      ]
     },
     "metadata": {},
     "output_type": "display_data"
    },
    {
     "data": {
      "image/png": "[encoded data removed]",
      "text/plain": [
       "<matplotlib.figure.Figure at 0x111fdcef0>"
      ]
     },
     "metadata": {},
     "output_type": "display_data"
    }
   ],
   "source": [
    "plt.show()"
   ]
  },
  {
   "cell_type": "markdown",
   "metadata": {
    "slideshow": {
     "slide_type": "skip"
    }
   },
   "source": [
    "***\n",
    "\n",
    "*End of 09/25 lecture, beginning of 09/26 lecture.*\n",
    "\n",
    "***\n",
    "\n",
    "**Worked example: King p. 84. **\n",
    "\n",
    "***\n",
    "\n",
    "*Beyond this point, I stop following King's book. You might notice that in his preface, he mentions that his book is designed for a first-year class, for which eigenvalues and eigenvectors would be too advanced a topic. It is our strong opinion (all the instructors involved in PHY293 and 294) that we need to cover this topic in this second-year class, because it is foundational for a lot of other topics that will be tackled in the rest of PHY293-4. If you want a book for help, I can recommend John R. Taylor's \"Classical Mechanics\" (University Science Books), chapter 11, which I am loosely following.*\n",
    "\n",
    "***"
   ]
  },
  {
   "cell_type": "markdown",
   "metadata": {
    "slideshow": {
     "slide_type": "skip"
    }
   },
   "source": [
    "# General Solution Method"
   ]
  },
  {
   "cell_type": "markdown",
   "metadata": {
    "slideshow": {
     "slide_type": "skip"
    }
   },
   "source": [
    "In the previous case, we had only two coupled oscillators, which meant, two degrees of freedom (two normal coordinates).\n",
    "It was simple enough that we could solve it \"by hand\", by defining simple normal coordinates, and adding and subtracting the equations of motion."
   ]
  },
  {
   "cell_type": "markdown",
   "metadata": {
    "slideshow": {
     "slide_type": "skip"
    }
   },
   "source": [
    "But as with all things in linear algebra, difficulty increases rapidly with every equation that we add.\n",
    "For example, what if we coupled 5 oscillators?\n",
    "Not to mention the infinity of oscillators that approximate a continuous medium.\n",
    "We need the systematic and powerful approaches that are offered by linear algebra.\n",
    "And in particular, we will eventually need to use the eigenvector/eigenvalue formalism, which many of you find difficult.\n",
    "It is, however, a necessary step, and a key aspect of the theory of waves and oscillations.\n",
    "So, even though I will have to keep it in mind, my best piece of advice is to brace yourselves, I'm afraid."
   ]
  },
  {
   "cell_type": "markdown",
   "metadata": {
    "slideshow": {
     "slide_type": "skip"
    }
   },
   "source": [
    "## Results from Linear Algebra"
   ]
  },
  {
   "cell_type": "markdown",
   "metadata": {
    "slideshow": {
     "slide_type": "skip"
    }
   },
   "source": [
    "### General results\n",
    "\n",
    "Linear algebra can be messy, especially when it comes to whether a matrix is diagonalisable. \n",
    "Fortunately for us, I will only use a few of the most basic results of linear algebra.\n",
    "\n",
    "* Finding the eigenvectors and eigenvalues of an $n\\times n$ matrix $\\textsf M$ means finding the vectors $\\vec V$ and scalars $\\lambda$ such that:\n",
    "    $$ \\textsf M V = \\lambda V, \\oreq (M - \\lambda I)V = 0.\\hspace{5cm}(3)$$\n",
    "* Equation (3) has non-trivial (i.e., non-identically zero, i.e., oscillations with non-zero amplitudes in our case) solutions for $V$ if and only if\n",
    "    $$ \\det(\\mathsf M - \\lambda \\mathsf I_n) = 0,\\hspace{5cm}(4) $$\n",
    "    with $\\mathsf I_n$ the $n\\times n$ identity matrix.\n",
    "    The determinant of a matrix is a scalar. Therefore, it is a polynomial in $\\lambda$. It is called the *characteristic polynomial*, and its roots are the *eigenvalues*.\n",
    "* If there is a number $n$ of eigenvalues $\\lambda$ that are all distinct from each other, then the matrix is diagonalizable, and the set of the corresponding eigenvectors forms a basis for the space of solutions. In other words, if $\\vec V_i$, $i \\in \\{1\\dots{} n\\}$ is the complete set of eigenvectors, then any linear combination of them, \n",
    "    $$\\vec X = \\sum_{i=1}^n a_n \\vec V_i,$$\n",
    "    is a solution as well. In all our cases, $a_n \\in \\mathbb R$. Note that with damping, we could have $a_n \\in \\mathbb C$.\n",
    "    Furthermore, is $\\vec X$ is a solution of eqn. $(3)$, then it can be decomposed as a linear combination of eigenvectors,\n",
    "    $$\\vec X = \\sum_{i=1}^n a_n \\vec V_i \\quad \\textrm{again},$$\n",
    "    and this decomposition is unique.\n",
    "    *Note: this condition is sufficient, not necessary. Namely, the converse is not true, and a matrix needs not have all* $n$ *eigenvalues distinct from each other to be diagonalizable. But in our cases, they will be, so let's enjoy it.*"
   ]
  },
  {
   "cell_type": "markdown",
   "metadata": {
    "slideshow": {
     "slide_type": "skip"
    }
   },
   "source": [
    "### How does this translate into our results?\n",
    "\n",
    "* First of all, we will have $n = 2$ for two oscillators;\n",
    "* the eigenvectors $\\vec V_i$ will have some connection to our normal modes 1 and 2;\n",
    "* the eigenvalues $\\lambda_i$ some connection to $\\omega_{1,2}^2$ (they will be the same actually);\n",
    "* that the eigenvectors in the abstract case form a basis of the space of solutions is a mathematical expression of the fact that any motion of the two masses can be decomposed as the linear combination of two modes, as we saw in the previous section;\n",
    "* solving $det(M - \\lambda I_2) = 0$ for $\\lambda$ shows the way for solving coupled systems of oscillators systematically. Finding the roots of the polynomial, however messy it might become, will give us $\\omega_1$ and $\\omega_2$. Once we have them, substitution into the original eqn. (3) will give us $\\vec V_1$ and $\\vec V_2$."
   ]
  },
  {
   "cell_type": "markdown",
   "metadata": {
    "slideshow": {
     "slide_type": "skip"
    }
   },
   "source": [
    "The math will become super messy, but the procedure is well-defined, and easy to make systematic."
   ]
  },
  {
   "cell_type": "markdown",
   "metadata": {
    "slideshow": {
     "slide_type": "skip"
    }
   },
   "source": [
    "## Coupled pendulums"
   ]
  },
  {
   "cell_type": "markdown",
   "metadata": {
    "slideshow": {
     "slide_type": "skip"
    }
   },
   "source": [
    "As an illustration of how powerful such an approach is, let me add the extra complexity that the two masses are different, and equal to $m_A$ and $m_B$.\n",
    "I hope to convince you that while it would have made it difficult in our previous approach, it does not represent any extra difficulty with the eigenvector method."
   ]
  },
  {
   "cell_type": "markdown",
   "metadata": {
    "slideshow": {
     "slide_type": "skip"
    }
   },
   "source": [
    "The equations are therefore\n",
    "$$ m_A\\ddot x_A + \\frac{m_A g}{l} x_A + k(x_A - x_B) = 0, \\hspace{5cm}(5)$$\n",
    "$$ m_B\\ddot x_B + \\frac{m_B g}{l} x_B - k(x_A - x_B) = 0, \\hspace{5cm}(6)$$"
   ]
  },
  {
   "cell_type": "markdown",
   "metadata": {
    "slideshow": {
     "slide_type": "skip"
    }
   },
   "source": [
    "Now, define a vector\n",
    "$$\n",
    "\\vec X = \n",
    "\\begin{bmatrix}\n",
    "    x_A \\\\ \n",
    "    x_B,\n",
    "\\end{bmatrix}$$\n",
    "and two matrices\n",
    "$$\n",
    "M = \n",
    "\\begin{bmatrix}\n",
    "    m_A & 0 \\\\ \n",
    "    0 & m_B\n",
    "\\end{bmatrix}\n",
    "\\and\n",
    "K = \n",
    "\\begin{bmatrix}\n",
    "     \\frac{m_A g}l + k & -k \\\\\n",
    "     -k & \\frac{m_B g}l + k\n",
    "\\end{bmatrix}.$$"
   ]
  },
  {
   "cell_type": "markdown",
   "metadata": {
    "slideshow": {
     "slide_type": "skip"
    }
   },
   "source": [
    "You can check that\n",
    "$$ M\\ddot{\\vec X} + K \\vec X = \n",
    "\\begin{bmatrix}\n",
    "    m_A\\ddot x_A + \\frac{m_A g}{l} x_A + k(x_A - x_B) \\\\\n",
    "    m_B\\ddot x_B + \\frac{m_B g}{l} x_B - k(x_A - x_B)\n",
    "\\end{bmatrix}\n",
    "= \n",
    "\\begin{bmatrix}\n",
    "    0 \\\\\n",
    "    0\n",
    "\\end{bmatrix},$$\n",
    "or, more simply, that \n",
    "$$\\boxed{ M\\ddot{\\vec X} + K \\vec X = 0. }$$"
   ]
  },
  {
   "cell_type": "markdown",
   "metadata": {
    "slideshow": {
     "slide_type": "skip"
    }
   },
   "source": [
    "This is our new equation of motion.\n",
    "It strongly resembles the SHO equation, and its resolution does involve the same steps:\n",
    "\n",
    "1. assume $\\vec X = \\vec A \\cos(\\omega t + \\phi)$,\n",
    "2. substitute in the EOM and solve for $\\omega$,\n",
    "3. use initial conditions to solve for $\\vec A$ and $\\phi$."
   ]
  },
  {
   "cell_type": "markdown",
   "metadata": {
    "slideshow": {
     "slide_type": "skip"
    }
   },
   "source": [
    "### The first step...\n",
    "... implies that $\\ddot{\\vec X} = -\\omega^2 \\vec X$.\n",
    "Moreover, $M\\ddot{\\vec X} = M(-\\omega^2 \\vec X) = -\\omega^2M \\vec X$ because the algebra is linear."
   ]
  },
  {
   "cell_type": "markdown",
   "metadata": {
    "slideshow": {
     "slide_type": "skip"
    }
   },
   "source": [
    "### For the second step (solving for $\\omega$),\n",
    "$$M\\ddot{\\vec X} + K \\vec X = -\\omega^2 M \\vec X + K\\vec X = \\boxed{(K -\\omega^2 M)\\vec X = 0.} \\hspace{4cm} (7) $$"
   ]
  },
  {
   "cell_type": "markdown",
   "metadata": {
    "slideshow": {
     "slide_type": "skip"
    }
   },
   "source": [
    "Let me recall one of the most important results of linear algebra: ** A matrix equation ** $\\bs{\\textsf{R}V = 0}$ ** has non-trivial (i.e., non-identically zero) solutions if and only if ** $\\bs{\\det[\\textsf{R}] =0}$, as I stated in a different form around eqn. (4).\n",
    "Physically, trivial solutions means are zero-amplitude oscillations of each mass position or of each mode. Trivially, it is nothing."
   ]
  },
  {
   "cell_type": "markdown",
   "metadata": {
    "slideshow": {
     "slide_type": "skip"
    }
   },
   "source": [
    "The matrices $M$ and $K$ both contain elements that are determined by the physics of the system: masses stiffness, length of pendulum and gravitational acceleration.\n",
    "The only parameter that can be varied is therefore $\\omega$, and it is omega we are solving for."
   ]
  },
  {
   "cell_type": "markdown",
   "metadata": {
    "slideshow": {
     "slide_type": "skip"
    }
   },
   "source": [
    "Mathematically, this step corresponds to finding the **eigenvalues** of eqn. $(7)$.\n",
    "It looks different from eqn. $(3)$ though.\n",
    "However, we can cast our equation in this form very easily by multiplying it by \n",
    "$$ M^{-1} = \n",
    "\\begin{bmatrix}\n",
    "    1/m_A & 0 \\\\\n",
    "    0 & 1/m_B\n",
    "\\end{bmatrix},\n",
    "$$\n",
    "i.e.,\n",
    "$$\n",
    "M^{-1}K \\vec X = \\omega^2 \\vec X,\n",
    "$$\n",
    "which looks like a standard eigenvalue problem. The two ways of writing it are strictly equivalent, the from above would appear if I divided eqns. $(5)$ and $(6)$ by $m_A$ and $m_B$, respectively."
   ]
  },
  {
   "cell_type": "markdown",
   "metadata": {
    "slideshow": {
     "slide_type": "skip"
    }
   },
   "source": [
    "We will also need the following formula:\n",
    "$$\\boxed{ \\det\\left(\n",
    "\\begin{bmatrix}\n",
    "    a & b \\\\\n",
    "    c & d\n",
    "\\end{bmatrix}\n",
    "\\right) = ad - bc} \\quad\\textrm{(which I expect you to remember!!!)}.$$"
   ]
  },
  {
   "cell_type": "markdown",
   "metadata": {
    "slideshow": {
     "slide_type": "skip"
    }
   },
   "source": [
    "I am going to do it by hand once, but the real advantage to this method is that it is fairly easy to ask a symbolic calculator or symbolic math software to solve for it. I will do it later, but for now, it is instructional to do it by hand."
   ]
  },
  {
   "cell_type": "markdown",
   "metadata": {
    "slideshow": {
     "slide_type": "skip"
    }
   },
   "source": [
    "Here we go:\n",
    "\\begin{align*}\n",
    "    \\det(K - \\omega^2 M) & = \\det\\left(\n",
    "                                \\begin{bmatrix}\n",
    "                                    \\frac{m_A g}l + k - \\omega^2 m_A & -k \\\\\n",
    "                                    -k & \\frac{m_B g}l + k - \\omega^2 m_B\n",
    "                                \\end{bmatrix}\\right) \\\\\n",
    "                         & = \\left(\\frac{m_A g}l + k - \\omega^2 m_A\\right)\\left(\\frac{m_B g}l + k - \\omega^2 m_B\\right) - k^2 \\\\\n",
    "                         & = m_A m_B \\left[\\left(\\omega_p^2 + \\omega_{sA}^2 - \\omega^2 \\right)\\left(\\omega_p^2 + \\omega_{sB}^2 - \\omega^2\\right) - \\omega_{sA}^2\\omega_{sB}^2\\right] \\\\\n",
    "                         & = 0,\n",
    "\\end{align*}"
   ]
  },
  {
   "cell_type": "markdown",
   "metadata": {
    "slideshow": {
     "slide_type": "skip"
    }
   },
   "source": [
    "with $\\omega_p^2 = g/l$, $\\omega_{sA}^2 = k/m_A$ and $\\omega_{sB}^2 = k/m_B$.\n",
    "It is a second-degree polynomial in $\\omega^2$, which is not technically hard to solve, but this is a lot of symbols to keep track of."
   ]
  },
  {
   "cell_type": "markdown",
   "metadata": {
    "slideshow": {
     "slide_type": "skip"
    }
   },
   "source": [
    "However, it seems as if defining $\\Omega^2 = \\omega_p^2 + \\omega_A^2 + \\omega_B^2$ might help.\n",
    "Besides, if $m_A = m_B$, then $\\omega_{sA}^2 = \\omega_{sB}^2 = \\omega_s^2$ and $\\Omega^2 = \\omega_p^2 + 2\\omega_s^2 = \\omega_2^2$, which is a good sign.\n",
    "Let's plug $\\Omega^2$ in the last two lines of the set of equations above:\n",
    "$$\\omega_p^2\\Omega^2 - \\omega^2 \\left(\\omega_p^2 + \\Omega^2\\right) + \\omega^4 = 0. $$"
   ]
  },
  {
   "cell_type": "markdown",
   "metadata": {
    "slideshow": {
     "slide_type": "skip"
    }
   },
   "source": [
    "The determinant of this polynomial is\n",
    "$$ \\Delta = \\left(\\omega_p^2 + \\Omega^2\\right)^2 - 4 \\omega_p^2\\Omega^2 = \\left(\\omega_p^2 - \\Omega^2\\right)^2 $$\n",
    "and its roots are\n",
    "\\begin{align*}\n",
    "    \\omega_1'^2 & = \\frac{\\omega_p^2 + \\Omega^2 - \\Omega^2 + \\omega_p^2}{2} = \\omega_p^2 \\\\\n",
    "    \\omega_2'^2 & = \\frac{\\omega_p^2 + \\Omega^2 + \\Omega^2 - \\omega_p^2}{2} = \\Omega^2 = \\omega_p^2 + \\omega_{sA}^2 + \\omega_{sB}^2.\n",
    "\\end{align*}"
   ]
  },
  {
   "cell_type": "markdown",
   "metadata": {
    "slideshow": {
     "slide_type": "skip"
    }
   },
   "source": [
    "You may notice that $\\omega_1'^2 = \\omega_1^2$ of the previous case, and that if $m_A = m_B = m$, then $\\omega_2'^2 = \\omega_2^2$.\n",
    "These are our two eigenfrequencies!"
   ]
  },
  {
   "cell_type": "markdown",
   "metadata": {
    "slideshow": {
     "slide_type": "skip"
    }
   },
   "source": [
    "Also, $\\omega_1'^2 \\neq \\omega_2'^2$. Therefore, based on the general results from linear algebra that I recalled earlier, we will have a basis of eigenvectors to decompose all our oscillations onto."
   ]
  },
  {
   "cell_type": "markdown",
   "metadata": {
    "slideshow": {
     "slide_type": "skip"
    }
   },
   "source": [
    "### The third step (solving for $\\vec A$ and $\\phi$)"
   ]
  },
  {
   "cell_type": "markdown",
   "metadata": {
    "slideshow": {
     "slide_type": "skip"
    }
   },
   "source": [
    "#### Polarization of the Eigenvectors\n",
    "\n",
    "We can actually separate $\\vec A$ into $C\\vec Y$, with $\\|\\vec Y\\| = 1$.\n",
    "This makes it easier in the sense that we separate the amplitude of the mode, its strength if you will, which resides in $C$ and which is calculated with the knowledge of the initial condition, and $\\vec Y$, which is a feature of the matrix $K - \\omega^2 M$, or of the physical system, and does not depend on the initial conditions.\n",
    "However, requiring that $\\|\\vec Y\\| = 1$ is not required in order to solve a problem! I do it, some textbooks might do it differently."
   ]
  },
  {
   "cell_type": "markdown",
   "metadata": {
    "slideshow": {
     "slide_type": "skip"
    }
   },
   "source": [
    "In this case,\n",
    "$$ (K - \\omega^2 M)\\vec X = 0 = C (K - \\omega^2 M)\\vec Y \\cos(\\omega t + \\phi) \\quad\\Leftrightarrow\\quad (K - \\omega^2 M)\\vec Y = 0. $$"
   ]
  },
  {
   "cell_type": "markdown",
   "metadata": {
    "slideshow": {
     "slide_type": "skip"
    }
   },
   "source": [
    "Let \n",
    "$$\\vec Y = \n",
    "\\begin{bmatrix}\n",
    "    a \\\\ \n",
    "    b\n",
    "\\end{bmatrix}.$$\n",
    "Looking for the relationship between $a$ and $b$ for a given mode is called looking for the polarization of that mode."
   ]
  },
  {
   "cell_type": "markdown",
   "metadata": {
    "slideshow": {
     "slide_type": "skip"
    }
   },
   "source": [
    "\\begin{align*} \n",
    "    (K - \\omega^2 M)\\vec Y & = \\begin{bmatrix}\n",
    "                                \\frac{m_A g}l + k - \\omega^2 m_A & -k \\\\\n",
    "                                -k & \\frac{m_B g}l + k - \\omega^2 m_B\n",
    "                            \\end{bmatrix}\n",
    "                            \\begin{bmatrix}\n",
    "                                a \\\\ \n",
    "                                b\n",
    "                            \\end{bmatrix} \\\\\n",
    "                           & = \\begin{bmatrix}\n",
    "                                \\left(\\frac{m_A g}l + k - \\omega^2 m_A\\right)a - kb \\\\ \n",
    "                                -ka + \\left(\\frac{m_B g}l + k - \\omega^2 m_B\\right)b\n",
    "                            \\end{bmatrix} \\\\\n",
    "                           & = \\begin{bmatrix}\n",
    "                                   m_A\\left[(\\omega_p^2 + \\omega_{sA}^2 - \\omega^2 )a - \\omega_{sA}^2 b \\right] \\\\ \n",
    "                                   m_B\\left[-\\omega_{sB}^2 a + (\\omega_p^2 + \\omega_{sB}^2 - \\omega^2 )b\\right]\n",
    "                               \\end{bmatrix} = 0 . \\hspace{3cm} (8).\n",
    "\\end{align*}"
   ]
  },
  {
   "cell_type": "markdown",
   "metadata": {
    "slideshow": {
     "slide_type": "skip"
    }
   },
   "source": [
    "* Case $\\omega^2 = \\omega_1^2 = \\omega_p^2$:\n",
    "$$ \\begin{bmatrix}\n",
    "        ka - kb \\\\ \n",
    "        -ka + kb\n",
    "   \\end{bmatrix} = 0 \\thrfor a = b.$$\n",
    "*(Notice how the two equations are redundant.)*\n",
    "Therefore, $a=b$, and since $\\|\\vec Y\\| = \\sqrt{a^2 + b^2} = 1$, $a = b= 1/\\sqrt{2}$.\n",
    "This is the antisymmetric mode.\n",
    "*Note: that the masses are different does not have an impact. This is because the frequency of oscillations of each pendulum does not depend on the mass, attached to each one. Therefore, in this mode, the spring is never stretched or compressed.*"
   ]
  },
  {
   "cell_type": "markdown",
   "metadata": {
    "slideshow": {
     "slide_type": "skip"
    }
   },
   "source": [
    "![The antisymmetric normal mode](pendulum_syn.gif)"
   ]
  },
  {
   "cell_type": "markdown",
   "metadata": {
    "slideshow": {
     "slide_type": "skip"
    }
   },
   "source": [
    "* Case $\\omega^2 = \\omega_2^2 = \\omega_p^2 + \\omega_{sA}^2 + \\omega_{sB}^2$.\n",
    "I just use the first line in eqn. (8) because the second line is redundant again:\n",
    "$$ -\\omega_{sB}^2a - \\omega_{sA}^2 b = 0.$$\n",
    "Therefore, $\\omega_{sB} a = -\\omega_{sA}b$.\n",
    "We get it: if $m_A = m_B = m$, this would be the symmetric mode, with $a = 1/\\sqrt{2} = -b$.\n",
    "With $m_A \\neq m_B$, $a$ and $b$ are weighted by some coefficient, i.e., $a = \\omega_{sA}^2/\\sqrt{\\omega_{sA}^4 + \\omega_{sB}^4}$, and $b = -\\omega_{sB}^2/\\sqrt{\\omega_{sA}^4 + \\omega_{sB}^4}$."
   ]
  },
  {
   "cell_type": "markdown",
   "metadata": {
    "slideshow": {
     "slide_type": "skip"
    }
   },
   "source": [
    "![The symmetric normal mode, in the case $m_A = m_B$.](pendulum_asyn.gif)"
   ]
  },
  {
   "cell_type": "markdown",
   "metadata": {
    "slideshow": {
     "slide_type": "skip"
    }
   },
   "source": [
    "***\n",
    "\n",
    "*End of 09/26 lecture, beginning of 09/29 lecture.*\n",
    "\n",
    "***"
   ]
  },
  {
   "cell_type": "markdown",
   "metadata": {
    "slideshow": {
     "slide_type": "skip"
    }
   },
   "source": [
    "#### Eigenvectors as a basis for all the solutions\n",
    "\n"
   ]
  },
  {
   "cell_type": "markdown",
   "metadata": {
    "slideshow": {
     "slide_type": "skip"
    }
   },
   "source": [
    "So far, the connection with general linear algebra results is the following.\n",
    "$\\vec Y_1$ and $\\vec Y_2$ are eigenvectors of the matrix problem, $\\omega_1'^2$ and $\\omega_2'^2$ the eigenvalues (or $\\omega_1'$ and $\\omega_2'$ the eigenfrequencies) and $\\vec X_1$ and $\\vec X_2$ are the eigenmodes of oscillation."
   ]
  },
  {
   "cell_type": "markdown",
   "metadata": {
    "slideshow": {
     "slide_type": "skip"
    }
   },
   "source": [
    "Based on the results from linear algebra that I recalled earlier, it means that all solutions can be written as a linear combination of these eigenmodes:\n",
    "$$ \\vec X = C_1 \\vec Y_1\\cos(\\omega_1 t + \\phi_1) + C_2 \\vec Y_2\\cos(\\omega_2 t + \\phi_2). $$"
   ]
  },
  {
   "cell_type": "markdown",
   "metadata": {
    "slideshow": {
     "slide_type": "skip"
    }
   },
   "source": [
    "#### Amplitudes ($C$) and phases ($\\phi$)."
   ]
  },
  {
   "cell_type": "markdown",
   "metadata": {
    "slideshow": {
     "slide_type": "skip"
    }
   },
   "source": [
    "As with every initial value problem, it can get messy.\n",
    "Let me just do the cases we investigated before, i.e., the worked problem on King p. 84."
   ]
  },
  {
   "cell_type": "markdown",
   "metadata": {
    "slideshow": {
     "slide_type": "skip"
    }
   },
   "source": [
    "In all cases, it was assumed that the masses were released from rest.\n",
    "We could check that in this case, $\\phi_1 = \\phi_2 = 0$.\n",
    "It was also assumed that $m_A = m_B$."
   ]
  },
  {
   "cell_type": "markdown",
   "metadata": {
    "slideshow": {
     "slide_type": "skip"
    }
   },
   "source": [
    "The first example was $x_A = x_B = A$, which meant that the antisymmetric mode was selected by the initial conditions.\n",
    "In vector form, this means\n",
    "$$\\vec X_0 = \\vec X(t=0) = \\begin{bmatrix}\n",
    "    x_A(t=0) \\\\ \n",
    "    x_B(t=0)\n",
    "\\end{bmatrix}\n",
    "= \\begin{bmatrix}\n",
    "    A \\\\ \n",
    "    A\n",
    "\\end{bmatrix} =  \\sqrt{2} A \\vec Y_1 + 0\\vec Y_2.$$\n",
    "Bam! No need to do any sort of math, we know right away that the symmetric mode is zero."
   ]
  },
  {
   "cell_type": "markdown",
   "metadata": {
    "slideshow": {
     "slide_type": "skip"
    }
   },
   "source": [
    "The second example was $x_A = -x_B = A$, which meant that the symmetric mode was selected by the initial conditions.\n",
    "In vector form, this means\n",
    "$$\\vec X_0 =\n",
    "\\begin{bmatrix}\n",
    "    A \\\\ \n",
    "    -A\n",
    "\\end{bmatrix} =  0\\vec Y_1 + \\sqrt{2}A\\vec Y_2.$$\n",
    "And again! We know right away that the antisymmetric mode is zero."
   ]
  },
  {
   "cell_type": "markdown",
   "metadata": {
    "slideshow": {
     "slide_type": "slide"
    }
   },
   "source": [
    "### Numerical resolution"
   ]
  },
  {
   "cell_type": "markdown",
   "metadata": {
    "slideshow": {
     "slide_type": "skip"
    }
   },
   "source": [
    "This bit is outside of what is expected of you, but it is hard to realize the potency of the eigenmode method without realizing how easy it is to implement it numerically, and how it is possible to scale the numbers of oscillators up from there.\n",
    "So, let's give it a go."
   ]
  },
  {
   "cell_type": "code",
   "execution_count": 559,
   "metadata": {
    "collapsed": true,
    "slideshow": {
     "slide_type": "-"
    }
   },
   "outputs": [],
   "source": [
    "from sympy import *  # here I import the entire symbolic math package\n",
    "init_printing(use_unicode=True)  # to print pretty"
   ]
  },
  {
   "cell_type": "code",
   "execution_count": 544,
   "metadata": {
    "collapsed": true,
    "slideshow": {
     "slide_type": "fragment"
    }
   },
   "outputs": [],
   "source": [
    "# we need to declare some symbolic quantities\n",
    "# omega_sA, omega_p, omega = symbols('omega_sA, omega_p, omega', real=True)\n",
    "g, l = symbols('g, l', real=True)\n",
    "k, m_A, m_B = symbols('k, m_A, m_B', real=True)"
   ]
  },
  {
   "cell_type": "code",
   "execution_count": 545,
   "metadata": {},
   "outputs": [
    {
     "data": {
      "image/png": "[encoded data removed]",
      "text/latex": [
       "$$m_{A}$$"
      ],
      "text/plain": [
       "m_A"
      ]
     },
     "execution_count": 545,
     "metadata": {},
     "output_type": "execute_result"
    }
   ],
   "source": [
    "m_A"
   ]
  },
  {
   "cell_type": "code",
   "execution_count": 83,
   "metadata": {
    "slideshow": {
     "slide_type": "subslide"
    }
   },
   "outputs": [
    {
     "data": {
      "image/png": "[encoded data removed]",
      "text/latex": [
       "$$\\left[\\begin{matrix}m_{A} & 0\\\\0 & m_{B}\\end{matrix}\\right]$$"
      ],
      "text/plain": [
       "⎡m_A   0 ⎤\n",
       "⎢        ⎥\n",
       "⎣ 0   m_B⎦"
      ]
     },
     "execution_count": 83,
     "metadata": {},
     "output_type": "execute_result"
    }
   ],
   "source": [
    "# define the mass matrix\n",
    "M = Matrix([[m_A, 0],\n",
    "            [0, m_B]])\n",
    "M"
   ]
  },
  {
   "cell_type": "code",
   "execution_count": 84,
   "metadata": {
    "slideshow": {
     "slide_type": "fragment"
    }
   },
   "outputs": [
    {
     "data": {
      "image/png": "[encoded data removed]",
      "text/latex": [
       "$$\\left[\\begin{matrix}\\frac{g m_{A}}{l} + k & - k\\\\- k & \\frac{g m_{B}}{l} + k\\end{matrix}\\right]$$"
      ],
      "text/plain": [
       "⎡g⋅m_A               ⎤\n",
       "⎢───── + k     -k    ⎥\n",
       "⎢  l                 ⎥\n",
       "⎢                    ⎥\n",
       "⎢           g⋅m_B    ⎥\n",
       "⎢   -k      ───── + k⎥\n",
       "⎣             l      ⎦"
      ]
     },
     "execution_count": 84,
     "metadata": {},
     "output_type": "execute_result"
    }
   ],
   "source": [
    "# Define the stiffness matrix\n",
    "K = Matrix([[m_A*g/l + k, -k],\n",
    "            [-k, m_B*g/l + k]])\n",
    "K"
   ]
  },
  {
   "cell_type": "code",
   "execution_count": 555,
   "metadata": {
    "slideshow": {
     "slide_type": "subslide"
    }
   },
   "outputs": [
    {
     "data": {
      "image/png": "[encoded data removed]",
      "text/latex": [
       "$$\\left[\\begin{matrix}\\frac{g}{l} + \\frac{k}{m_{A}} & - \\frac{k}{m_{A}}\\\\- \\frac{k}{m_{B}} & \\frac{g}{l} + \\frac{k}{m_{B}}\\end{matrix}\\right]$$"
      ],
      "text/plain": [
       "⎡g    k     -k   ⎤\n",
       "⎢─ + ───    ───  ⎥\n",
       "⎢l   m_A    m_A  ⎥\n",
       "⎢                ⎥\n",
       "⎢  -k     g    k ⎥\n",
       "⎢  ───    ─ + ───⎥\n",
       "⎣  m_B    l   m_B⎦"
      ]
     },
     "execution_count": 555,
     "metadata": {},
     "output_type": "execute_result"
    }
   ],
   "source": [
    "# Compute M**(-1)*K\n",
    "EVecMat = M.inv()*K\n",
    "expand(EVecMat)"
   ]
  },
  {
   "cell_type": "code",
   "execution_count": 550,
   "metadata": {
    "collapsed": true,
    "slideshow": {
     "slide_type": "fragment"
    }
   },
   "outputs": [],
   "source": [
    "# A bit of refinement: we can substitute k/m_A by omega_SA, etc.\n",
    "# but first, we need to declare those symbolic variables\n",
    "omega_sA, omega_sB = symbols('omega_sA, omega_sB', real=True)\n",
    "omega_p = Symbol('omega_p', real=True)"
   ]
  },
  {
   "cell_type": "code",
   "execution_count": 551,
   "metadata": {
    "slideshow": {
     "slide_type": "subslide"
    }
   },
   "outputs": [
    {
     "data": {
      "image/png": "[encoded data removed]",
      "text/latex": [
       "$$\\left[\\begin{matrix}\\frac{g}{l} + \\omega_{sA}^{2} & - \\omega_{sA}^{2}\\\\- \\frac{k}{m_{B}} & \\frac{g}{l} + \\frac{k}{m_{B}}\\end{matrix}\\right]$$"
      ],
      "text/plain": [
       "⎡g       2       2 ⎤\n",
       "⎢─ + ω_sA   -ω_sA  ⎥\n",
       "⎢l                 ⎥\n",
       "⎢                  ⎥\n",
       "⎢   -k      g    k ⎥\n",
       "⎢   ───     ─ + ───⎥\n",
       "⎣   m_B     l   m_B⎦"
      ]
     },
     "execution_count": 551,
     "metadata": {},
     "output_type": "execute_result"
    }
   ],
   "source": [
    "New_EVMat = expand(EVecMat).subs(k/m_A, omega_sA**2); New_EVMat"
   ]
  },
  {
   "cell_type": "code",
   "execution_count": 552,
   "metadata": {
    "slideshow": {
     "slide_type": "fragment"
    }
   },
   "outputs": [
    {
     "data": {
      "image/png": "[encoded data removed]",
      "text/latex": [
       "$$\\left[\\begin{matrix}\\frac{g}{l} + \\omega_{sA}^{2} & - \\omega_{sA}^{2}\\\\- \\omega_{sB}^{2} & \\frac{g}{l} + \\omega_{sB}^{2}\\end{matrix}\\right]$$"
      ],
      "text/plain": [
       "⎡g       2        2  ⎤\n",
       "⎢─ + ω_sA    -ω_sA   ⎥\n",
       "⎢l                   ⎥\n",
       "⎢                    ⎥\n",
       "⎢      2    g       2⎥\n",
       "⎢ -ω_sB     ─ + ω_sB ⎥\n",
       "⎣           l        ⎦"
      ]
     },
     "execution_count": 552,
     "metadata": {},
     "output_type": "execute_result"
    }
   ],
   "source": [
    "New_EVMat = expand(New_EVMat).subs(k/m_B, omega_sB**2); New_EVMat"
   ]
  },
  {
   "cell_type": "code",
   "execution_count": 553,
   "metadata": {
    "slideshow": {
     "slide_type": "fragment"
    }
   },
   "outputs": [
    {
     "data": {
      "image/png": "[encoded data removed]",
      "text/latex": [
       "$$\\left[\\begin{matrix}\\omega_{p}^{2} + \\omega_{sA}^{2} & - \\omega_{sA}^{2}\\\\- \\omega_{sB}^{2} & \\omega_{p}^{2} + \\omega_{sB}^{2}\\end{matrix}\\right]$$"
      ],
      "text/plain": [
       "⎡  2       2         2   ⎤\n",
       "⎢ωₚ  + ω_sA     -ω_sA    ⎥\n",
       "⎢                        ⎥\n",
       "⎢       2       2       2⎥\n",
       "⎣  -ω_sB      ωₚ  + ω_sB ⎦"
      ]
     },
     "execution_count": 553,
     "metadata": {},
     "output_type": "execute_result"
    }
   ],
   "source": [
    "New_EVMat = expand(New_EVMat).subs(g/l, omega_p**2); New_EVMat"
   ]
  },
  {
   "cell_type": "code",
   "execution_count": 554,
   "metadata": {
    "slideshow": {
     "slide_type": "subslide"
    }
   },
   "outputs": [
    {
     "data": {
      "image/png": "[encoded data removed]",
      "text/latex": [
       "$$\\left[\\begin{matrix}\\omega_{p}^{2} + \\omega_{sA}^{2} & - \\omega_{sA}^{2}\\\\- \\omega_{sB}^{2} & \\omega_{p}^{2} + \\omega_{sB}^{2}\\end{matrix}\\right]$$"
      ],
      "text/plain": [
       "⎡  2       2         2   ⎤\n",
       "⎢ωₚ  + ω_sA     -ω_sA    ⎥\n",
       "⎢                        ⎥\n",
       "⎢       2       2       2⎥\n",
       "⎣  -ω_sB      ωₚ  + ω_sB ⎦"
      ]
     },
     "execution_count": 554,
     "metadata": {},
     "output_type": "execute_result"
    }
   ],
   "source": [
    "# Or it can be done in one fell swoop:\n",
    "New_EVMat = (expand(EVecMat).subs(k/m_A, omega_sA**2)\n",
    "                            .subs(k/m_B, omega_sB**2)\n",
    "                            .subs(g/l, omega_p**2))\n",
    "New_EVMat"
   ]
  },
  {
   "cell_type": "code",
   "execution_count": 556,
   "metadata": {
    "slideshow": {
     "slide_type": "subslide"
    }
   },
   "outputs": [
    {
     "data": {
      "image/png": "[encoded data removed]",
      "text/latex": [
       "$$\\left [ \\left ( \\omega_{p}^{2}, \\quad 1, \\quad \\left [ \\left[\\begin{matrix}1\\\\1\\end{matrix}\\right]\\right ]\\right ), \\quad \\left ( \\omega_{p}^{2} + \\omega_{sA}^{2} + \\omega_{sB}^{2}, \\quad 1, \\quad \\left [ \\left[\\begin{matrix}- \\frac{\\omega_{sA}^{2}}{\\omega_{sB}^{2}}\\\\1\\end{matrix}\\right]\\right ]\\right )\\right ]$$"
      ],
      "text/plain": [
       "⎡                 ⎛                        ⎡⎡     2 ⎤⎤⎞⎤\n",
       "⎢⎛  2          ⎞  ⎜  2       2       2     ⎢⎢-ω_sA  ⎥⎥⎟⎥\n",
       "⎢⎜ωₚ , 1, ⎡⎡1⎤⎤⎟, ⎜ωₚ  + ω_sA  + ω_sB , 1, ⎢⎢───────⎥⎥⎟⎥\n",
       "⎢⎜        ⎢⎢ ⎥⎥⎟  ⎜                        ⎢⎢     2 ⎥⎥⎟⎥\n",
       "⎢⎝        ⎣⎣1⎦⎦⎠  ⎜                        ⎢⎢ ω_sB  ⎥⎥⎟⎥\n",
       "⎢                 ⎜                        ⎢⎢       ⎥⎥⎟⎥\n",
       "⎣                 ⎝                        ⎣⎣   1   ⎦⎦⎠⎦"
      ]
     },
     "execution_count": 556,
     "metadata": {},
     "output_type": "execute_result"
    }
   ],
   "source": [
    "# And now the finishing touch\n",
    "factor(New_EVMat.eigenvects())"
   ]
  },
  {
   "cell_type": "markdown",
   "metadata": {
    "slideshow": {
     "slide_type": "-"
    }
   },
   "source": [
    "The line above is to be interpreted in the following way:\n",
    "\n",
    "1. There are two different eigenvalues, $\\omega_p^2$ and $\\omega_p^2+\\omega_{sA}^2+\\omega_{sB}^2$,\n",
    "2. each of these eigenvalues appears only once (this is what the \"1\" numbers mean in second positions),\n",
    "3. the eigenvectors are $[1, 1]$ (antisymmetric) and $[-\\omega_{sA}^2/\\omega_{sB}^2, 1]$ (pseudo-symmetric).\n",
    "Note how python doesn't care about normalizing the eigenvector norms, and that it used a different sign convention from me. It means that it does not really matter."
   ]
  },
  {
   "cell_type": "code",
   "execution_count": 560,
   "metadata": {
    "collapsed": true,
    "slideshow": {
     "slide_type": "subslide"
    }
   },
   "outputs": [],
   "source": [
    "# I can even do it with two different length of pendulums!\n",
    "l_A, l_B = symbols('l_A, l_B', real=True)\n",
    "omega_pA, omega_pB = symbols('omega_pA, omega_pB', real=True)\n",
    "\n",
    "# New stiffness matrix\n",
    "K_2 = Matrix([[m_A*g/l_A + k, -k],\n",
    "              [-k, m_B*g/l_B + k]])\n",
    "\n",
    "# new eigenvector problem\n",
    "EVecMat_2 = M.inv()*K_2\n",
    "New_EVMat_2 = (expand(EVecMat_2).subs(k/m_A, omega_sA**2)\n",
    "                                .subs(k/m_B, omega_sB**2)\n",
    "                                .subs(g/l_A, omega_pA**2)\n",
    "                                .subs(g/l_B, omega_pB**2))"
   ]
  },
  {
   "cell_type": "code",
   "execution_count": 558,
   "metadata": {
    "slideshow": {
     "slide_type": "subslide"
    }
   },
   "outputs": [
    {
     "data": {
      "image/png": "[encoded data removed]",
      "text/latex": [
       "$$\\left [ \\left ( \\frac{1}{2} \\left(\\omega_{pA}^{2} + \\omega_{pB}^{2} + \\omega_{sA}^{2} + \\omega_{sB}^{2} - \\sqrt{\\omega_{pA}^{4} - 2 \\omega_{pA}^{2} \\omega_{pB}^{2} + 2 \\omega_{pA}^{2} \\omega_{sA}^{2} - 2 \\omega_{pA}^{2} \\omega_{sB}^{2} + \\omega_{pB}^{4} - 2 \\omega_{pB}^{2} \\omega_{sA}^{2} + 2 \\omega_{pB}^{2} \\omega_{sB}^{2} + \\omega_{sA}^{4} + 2 \\omega_{sA}^{2} \\omega_{sB}^{2} + \\omega_{sB}^{4}}\\right), \\quad 1, \\quad \\left [ \\left[\\begin{matrix}\\frac{2 \\omega_{sA}^{2}}{\\omega_{pA}^{2} - \\omega_{pB}^{2} + \\omega_{sA}^{2} - \\omega_{sB}^{2} + \\sqrt{\\omega_{pA}^{4} - 2 \\omega_{pA}^{2} \\omega_{pB}^{2} + 2 \\omega_{pA}^{2} \\omega_{sA}^{2} - 2 \\omega_{pA}^{2} \\omega_{sB}^{2} + \\omega_{pB}^{4} - 2 \\omega_{pB}^{2} \\omega_{sA}^{2} + 2 \\omega_{pB}^{2} \\omega_{sB}^{2} + \\omega_{sA}^{4} + 2 \\omega_{sA}^{2} \\omega_{sB}^{2} + \\omega_{sB}^{4}}}\\\\1\\end{matrix}\\right]\\right ]\\right ), \\quad \\left ( \\frac{1}{2} \\left(\\omega_{pA}^{2} + \\omega_{pB}^{2} + \\omega_{sA}^{2} + \\omega_{sB}^{2} + \\sqrt{\\omega_{pA}^{4} - 2 \\omega_{pA}^{2} \\omega_{pB}^{2} + 2 \\omega_{pA}^{2} \\omega_{sA}^{2} - 2 \\omega_{pA}^{2} \\omega_{sB}^{2} + \\omega_{pB}^{4} - 2 \\omega_{pB}^{2} \\omega_{sA}^{2} + 2 \\omega_{pB}^{2} \\omega_{sB}^{2} + \\omega_{sA}^{4} + 2 \\omega_{sA}^{2} \\omega_{sB}^{2} + \\omega_{sB}^{4}}\\right), \\quad 1, \\quad \\left [ \\left[\\begin{matrix}\\frac{2 \\omega_{sA}^{2}}{\\omega_{pA}^{2} - \\omega_{pB}^{2} + \\omega_{sA}^{2} - \\omega_{sB}^{2} - \\sqrt{\\omega_{pA}^{4} - 2 \\omega_{pA}^{2} \\omega_{pB}^{2} + 2 \\omega_{pA}^{2} \\omega_{sA}^{2} - 2 \\omega_{pA}^{2} \\omega_{sB}^{2} + \\omega_{pB}^{4} - 2 \\omega_{pB}^{2} \\omega_{sA}^{2} + 2 \\omega_{pB}^{2} \\omega_{sB}^{2} + \\omega_{sA}^{4} + 2 \\omega_{sA}^{2} \\omega_{sB}^{2} + \\omega_{sB}^{4}}}\\\\1\\end{matrix}\\right]\\right ]\\right )\\right ]$$"
      ],
      "text/plain": [
       "⎡⎛                                   _________________________________________\n",
       "⎢⎜    2       2       2       2     ╱     4         2     2         2     2   \n",
       "⎢⎜ω_pA  + ω_pB  + ω_sA  + ω_sB  - ╲╱  ω_pA  - 2⋅ω_pA ⋅ω_pB  + 2⋅ω_pA ⋅ω_sA  - \n",
       "⎢⎜────────────────────────────────────────────────────────────────────────────\n",
       "⎢⎜                                                                            \n",
       "⎢⎜                                                                            \n",
       "⎢⎜                                                                            \n",
       "⎢⎜                                                                            \n",
       "⎣⎝                                                                            \n",
       "\n",
       "______________________________________________________________________________\n",
       "      2     2       4         2     2         2     2       4         2     2 \n",
       "2⋅ω_pA ⋅ω_sB  + ω_pB  - 2⋅ω_pB ⋅ω_sA  + 2⋅ω_pB ⋅ω_sB  + ω_sA  + 2⋅ω_sA ⋅ω_sB  \n",
       "──────────────────────────────────────────────────────────────────────────────\n",
       "    2                                                                         \n",
       "                                                                              \n",
       "                                                                              \n",
       "                                                                              \n",
       "                                                                              \n",
       "\n",
       "________                                                                      \n",
       "      4      ⎡⎡                                                               \n",
       "+ ω_sB       ⎢⎢                                                               \n",
       "────────, 1, ⎢⎢───────────────────────────────────────────────────────────────\n",
       "             ⎢⎢                                   ____________________________\n",
       "             ⎢⎢    2       2       2       2     ╱     4         2     2      \n",
       "             ⎢⎢ω_pA  - ω_pB  + ω_sA  - ω_sB  + ╲╱  ω_pA  - 2⋅ω_pA ⋅ω_pB  + 2⋅ω\n",
       "             ⎢⎢                                                               \n",
       "             ⎣⎣                                                               \n",
       "\n",
       "                                                                              \n",
       "                    2                                                         \n",
       "              2⋅ω_sA                                                          \n",
       "──────────────────────────────────────────────────────────────────────────────\n",
       "______________________________________________________________________________\n",
       "   2     2         2     2       4         2     2         2     2       4    \n",
       "_pA ⋅ω_sA  - 2⋅ω_pA ⋅ω_sB  + ω_pB  - 2⋅ω_pB ⋅ω_sA  + 2⋅ω_pB ⋅ω_sB  + ω_sA  + 2\n",
       "                                                                              \n",
       "                 1                                                            \n",
       "\n",
       "                       ⎞  ⎛                                   ________________\n",
       "                     ⎤⎤⎟  ⎜    2       2       2       2     ╱     4         2\n",
       "                     ⎥⎥⎟  ⎜ω_pA  + ω_pB  + ω_sA  + ω_sB  + ╲╱  ω_pA  - 2⋅ω_pA \n",
       "─────────────────────⎥⎥⎟, ⎜───────────────────────────────────────────────────\n",
       "_____________________⎥⎥⎟  ⎜                                                   \n",
       "     2     2       4 ⎥⎥⎟  ⎜                                                   \n",
       "⋅ω_sA ⋅ω_sB  + ω_sB  ⎥⎥⎟  ⎜                                                   \n",
       "                     ⎥⎥⎟  ⎜                                                   \n",
       "                     ⎦⎦⎠  ⎝                                                   \n",
       "\n",
       "______________________________________________________________________________\n",
       "     2         2     2         2     2       4         2     2         2     2\n",
       "⋅ω_pB  + 2⋅ω_pA ⋅ω_sA  - 2⋅ω_pA ⋅ω_sB  + ω_pB  - 2⋅ω_pB ⋅ω_sA  + 2⋅ω_pB ⋅ω_sB \n",
       "──────────────────────────────────────────────────────────────────────────────\n",
       "                             2                                                \n",
       "                                                                              \n",
       "                                                                              \n",
       "                                                                              \n",
       "                                                                              \n",
       "\n",
       "_________________________________                                             \n",
       "       4         2     2       4      ⎡⎡                                      \n",
       " + ω_sA  + 2⋅ω_sA ⋅ω_sB  + ω_sB       ⎢⎢                                      \n",
       "─────────────────────────────────, 1, ⎢⎢──────────────────────────────────────\n",
       "                                      ⎢⎢                                   ___\n",
       "                                      ⎢⎢    2       2       2       2     ╱   \n",
       "                                      ⎢⎢ω_pA  - ω_pB  + ω_sA  - ω_sB  - ╲╱  ω_\n",
       "                                      ⎢⎢                                      \n",
       "                                      ⎣⎣                                      \n",
       "\n",
       "                                                                              \n",
       "                                             2                                \n",
       "                                       2⋅ω_sA                                 \n",
       "──────────────────────────────────────────────────────────────────────────────\n",
       "______________________________________________________________________________\n",
       "  4         2     2         2     2         2     2       4         2     2   \n",
       "pA  - 2⋅ω_pA ⋅ω_pB  + 2⋅ω_pA ⋅ω_sA  - 2⋅ω_pA ⋅ω_sB  + ω_pB  - 2⋅ω_pB ⋅ω_sA  + \n",
       "                                                                              \n",
       "                                          1                                   \n",
       "\n",
       "                                                ⎞⎤\n",
       "                                              ⎤⎤⎟⎥\n",
       "                                              ⎥⎥⎟⎥\n",
       "──────────────────────────────────────────────⎥⎥⎟⎥\n",
       "______________________________________________⎥⎥⎟⎥\n",
       "      2     2       4         2     2       4 ⎥⎥⎟⎥\n",
       "2⋅ω_pB ⋅ω_sB  + ω_sA  + 2⋅ω_sA ⋅ω_sB  + ω_sB  ⎥⎥⎟⎥\n",
       "                                              ⎥⎥⎟⎥\n",
       "                                              ⎦⎦⎠⎦"
      ]
     },
     "execution_count": 558,
     "metadata": {},
     "output_type": "execute_result"
    }
   ],
   "source": [
    "factor(New_EVMat_2.eigenvects())"
   ]
  },
  {
   "cell_type": "markdown",
   "metadata": {
    "slideshow": {
     "slide_type": "skip"
    }
   },
   "source": [
    "*Note: the result above is so long that it will not display properly on the pdf version of the notes. Which is the message here: the result is so long, it is not practical to handle it symbolically.*"
   ]
  },
  {
   "cell_type": "markdown",
   "metadata": {
    "slideshow": {
     "slide_type": "skip"
    }
   },
   "source": [
    "Obviously, in a practical setting, we would be using a numerical math package, not a symbolic one!\n",
    "These excruciatingly complicated expressions would become mere numbers, which computers could crunch out."
   ]
  },
  {
   "cell_type": "markdown",
   "metadata": {
    "slideshow": {
     "slide_type": "skip"
    }
   },
   "source": [
    "# Other Examples\n",
    "\n",
    "## Masses Coupled by Springs"
   ]
  },
  {
   "cell_type": "markdown",
   "metadata": {
    "slideshow": {
     "slide_type": "skip"
    }
   },
   "source": [
    "See King fig. 4.11.\n",
    "![King 4.11](CoupledMassesSprings.png)"
   ]
  },
  {
   "cell_type": "markdown",
   "metadata": {
    "slideshow": {
     "slide_type": "skip"
    }
   },
   "source": [
    "#### Equations of motion\n",
    "Let both masses be equal this time, and let all the stiffnesses be equal as well.\n",
    "Equations are:\n",
    "$$ m \\ddot x_A = -k x_A + k(x_B - x_A) = k x_B - 2 k x_A, $$\n",
    "$$ m \\ddot x_B = -k (x_B - x_A) - kx_B = k x_A - 2 k x_B. $$"
   ]
  },
  {
   "cell_type": "markdown",
   "metadata": {
    "slideshow": {
     "slide_type": "skip"
    }
   },
   "source": [
    "Dividing by $m$:\n",
    "$$ \\ddot x_A = \\omega_s^2 (x_B - 2 x_A), $$\n",
    "$$ \\ddot x_B = \\omega_s^2 (x_A - 2 x_B). $$"
   ]
  },
  {
   "cell_type": "markdown",
   "metadata": {
    "slideshow": {
     "slide_type": "skip"
    }
   },
   "source": [
    "#### Form of the solution\n",
    "We are looking for *normal modes*.\n",
    "Recall the definition of the normal modes: **normal modes are modes for which all elements of the coupled system oscillate at the same, unique frequency.**\n",
    "Therefore, we look for solutions of the form\n",
    "$$ \\vec X = C\\vec Y \\cos(\\omega t + \\phi). $$"
   ]
  },
  {
   "cell_type": "markdown",
   "metadata": {
    "slideshow": {
     "slide_type": "skip"
    }
   },
   "source": [
    "As before, solving the eigenvalue problem will yield the $\\omega$'s and $\\vec Y$'s, while the $C$'s and $\\phi$'s are determined in a second time, with the initial conditions."
   ]
  },
  {
   "cell_type": "markdown",
   "metadata": {
    "slideshow": {
     "slide_type": "skip"
    }
   },
   "source": [
    "#### Eigenproblem and solving for $\\vec Y$ and $\\omega$.\n",
    "The previous system of equations becomes\n",
    "$$ \\omega_s^2 (2x_A - x_B) = \\omega^2 x_A, \\hspace{6cm} (9a)$$\n",
    "$$ \\omega_s^2 (2x_B - x_A) = \\omega^2 x_B, \\hspace{6cm} (9b)$$\n",
    "which has the form of an eigenproblem."
   ]
  },
  {
   "cell_type": "markdown",
   "metadata": {
    "slideshow": {
     "slide_type": "skip"
    }
   },
   "source": [
    "Indeed, defining \n",
    "$$ M^{-1}K = \\omega_s^2 \\begin{bmatrix}\n",
    "                            2 & -1 \\\\\n",
    "                            -1 & 2\n",
    "                        \\end{bmatrix}, $$\n",
    "We can write the above system of equations as\n",
    "$$ M^{-1}K \\vec X = \\omega^2 \\vec X. $$"
   ]
  },
  {
   "cell_type": "markdown",
   "metadata": {
    "slideshow": {
     "slide_type": "skip"
    }
   },
   "source": [
    "We find the eigenfrequencies by finding the roots of the characteristic polynomial, i.e., of\n",
    "$$ \\det(M^-1 K - \\omega^2\\mathsf I_2) = 0 = (2\\omega_s^2 - \\omega^2)^2 - \\omega_s^4 = (\\omega^2 - \\omega_s^2)(\\omega^2 - 3\\omega^2_s). $$"
   ]
  },
  {
   "cell_type": "markdown",
   "metadata": {
    "slideshow": {
     "slide_type": "skip"
    }
   },
   "source": [
    "Thus, the eigenfrequencies are $\\omega_1=\\omega_s$ and $\\omega_2 = \\sqrt{3}\\omega_s$."
   ]
  },
  {
   "cell_type": "markdown",
   "metadata": {
    "slideshow": {
     "slide_type": "skip"
    }
   },
   "source": [
    "The mode, oscillating at $\\omega_1= \\omega_s$ can be qualified as \"antisymmetric\" again. It is the mode for which both masses oscillate in sync, and the central spring is neither stretched or compressed. Therefore, only the external springs stretch or compress, and their natural frequencies of oscillations are simply $\\omega_s$.\n",
    "\n",
    "![The symmetric normal mode](spring_sym.gif)"
   ]
  },
  {
   "cell_type": "markdown",
   "metadata": {
    "slideshow": {
     "slide_type": "skip"
    }
   },
   "source": [
    "By process of elimination, and because the system is neatly symmetric around the central $x$, we can surmise that the other mode, oscillating at $\\omega_2 = \\sqrt3 \\omega_s$, is a symmetric mode of motion, the motion of both masses being symmetric with respect to the central plane.\n",
    "\n",
    "![The antisymmetric normal mode.](spring_asyn.gif)"
   ]
  },
  {
   "cell_type": "markdown",
   "metadata": {
    "slideshow": {
     "slide_type": "skip"
    }
   },
   "source": [
    "Defining $\\vec Y = [a, b]$, we can find the orientation of the eigenvectors by replacing $x_A$ and $x_B$ by $a$ and $b$ in the system $(9)$, or in only one of the equations since they are redundant.\n",
    "\n",
    "In the case $\\omega = \\omega_s$, eqn. $(9a)$ becomes $a - b = 0$, or $a =b$. It is indeed the antisymmetric mode.\n",
    "Normalizing to have $\\|\\vec Y_1\\| = 1$ (*which I do, but isn't necessary!*) yields $a = b = 1/\\sqrt{2}$.\n",
    "\n",
    "In the case $\\omega = \\sqrt{3}\\omega_s$, eqn. $(9a)$ becomes $a = -b$. It is indeed the symmetric mode.\n",
    "Normalizing to have $\\|\\vec Y_2\\| = 1$ yields $a = -b = 1/\\sqrt{2}$."
   ]
  },
  {
   "cell_type": "markdown",
   "metadata": {
    "slideshow": {
     "slide_type": "skip"
    }
   },
   "source": [
    "Any solution of the coupled oscillator system is therefore\n",
    "$$ \\vec X = \\frac{C_1}{\\sqrt{2}}\\begin{bmatrix}\n",
    "                    1 \\\\ 1\n",
    "               \\end{bmatrix}\\cos(\\omega_s t + \\phi_1) + \n",
    "            \\frac{C_2}{\\sqrt{2}}\\begin{bmatrix}\n",
    "                    1 \\\\ -1\n",
    "            \\end{bmatrix}\\cos(\\sqrt3\\omega_s t + \\phi_2).$$"
   ]
  },
  {
   "cell_type": "markdown",
   "metadata": {
    "slideshow": {
     "slide_type": "skip"
    }
   },
   "source": [
    "Any problem would the completed by using initial conditions in order to solve for the $C$'s and $\\phi$'s.\n",
    "I won't do it."
   ]
  },
  {
   "cell_type": "markdown",
   "metadata": {
    "slideshow": {
     "slide_type": "slide"
    }
   },
   "source": [
    "## Ocean Tides"
   ]
  },
  {
   "cell_type": "markdown",
   "metadata": {
    "slideshow": {
     "slide_type": "subslide"
    }
   },
   "source": [
    "For your interest only. This discussion is based on the following two articles:\n",
    "\n",
    "* Arbic, Brian K., and Chris Garrett. 2010. \"A Coupled Oscillator Model of Shelf and Ocean Tides.\" Continental Shelf Research 30 (6). Pergamon: 564–74. doi:10.1016/j.csr.2009.07.008.\n",
    "* Arbic, Brian K., Richard H. Karsten, and Chris Garrett. 2009. \"On Tidal Resonance in the Global Ocean and the Back-effect of Coastal Tides upon Open-ocean Tides.\" Atmosphere-Ocean 47 (4): 239–66. doi:10.3137/OC311.2009.\n",
    "\n",
    "I have uploaded those two articles onto the portal along with these lecture notes."
   ]
  },
  {
   "cell_type": "markdown",
   "metadata": {
    "slideshow": {
     "slide_type": "skip"
    }
   },
   "source": [
    "Every continent is surrounded by continental shelves, i.e., regions where the ocean floor is relatively flat, and relatively shallow (less than 500 m deep).\n",
    "You may easily realize this by looking at google maps in satellite mode.\n",
    "In contrast, the \"open-ocean\" is in general much deeper (5 km).\n",
    "Because these two regions of the ocean are much different, they can be thought of as individual oscillators with respect to tidal forcing, with their own resonance frequencies, and their own damping rates: damping is much stronger for tides in shallower seas, because the proximity to the bottom creates much more fluid friction and turbulence."
   ]
  },
  {
   "cell_type": "markdown",
   "metadata": {
    "slideshow": {
     "slide_type": "skip"
    }
   },
   "source": [
    "Some continental shelves are fairly well isolated from the open ocean.\n",
    "The example that is closest to home, but also one of the best examples in the world, is Hudson Bay.\n",
    "It is very large (over 1000 km diameter) and shallow (about 100 m on average), and coupled to the open-ocean via a series of very narrow and even more shallow straits."
   ]
  },
  {
   "cell_type": "markdown",
   "metadata": {
    "slideshow": {
     "slide_type": "skip"
    }
   },
   "source": [
    "One would think that such an isolated body of water does its own thing, resonating with the tidal forcing without influencing the other bodies of water.\n",
    "This would be neglecting the peculiar properties of resonance, and in particular that even if the coupling is weak between two oscillators, if the forcing provided by the first oscillator to the second oscillator happens to be at a resonance frequency of the second oscillator, the second oscillator will react strongly.\n",
    "As a consequence, the coupled system will have a fundamentally different behaviour than if the two oscillators were uncoupled: modes of oscillation take over, and the behaviour becomes global."
   ]
  },
  {
   "cell_type": "markdown",
   "metadata": {
    "slideshow": {
     "slide_type": "skip"
    }
   },
   "source": [
    "Arbic and his colleagues were interested in paleo-oceanography, and in particular, what were the tides like during the last glacial maximum, were polar ice caps were retaining a lot of the world's water in solid form, above sea level?\n",
    "Then, sea level was more than 100 m below what it is now, and the oscillators as well as the couplings between them must have been very different.\n",
    "They realized it was very complicated, and that the slightest changes in the coastal configuration could change the global tides radically.\n",
    "Take a look at Arbic and Garrett 2010, page 2: they push the analogy as far as drawing two masses linked by springs, go over a discussion about damping, plot the same resonance curves that I drew in chapter 3, etc.!"
   ]
  },
  {
   "cell_type": "markdown",
   "metadata": {
    "slideshow": {
     "slide_type": "skip"
    }
   },
   "source": [
    "The two articles that I am attaching, along with my lecture notes, are proof-of-concept kind of articles, where they run numerical simulations of ocean tides in which they artificially change tiny bits of coasts.\n",
    "In particular, they block Hudson Strait between Hudson Bay and the Atlantic Ocean, and find that the tides are completely modified everywhere in the Atlantic Ocean (see figure here, i.e., fig. 15a, b, c of Arbic et al. 2009, reproduced here.) and even as far as India, were a 20 cm increase in tidal amplitude happens!"
   ]
  },
  {
   "cell_type": "markdown",
   "metadata": {
    "slideshow": {
     "slide_type": "subslide"
    }
   },
   "source": [
    "![Reproduction of fig. 15a, b and c of Arbic et al. 2009: \"(a) and (b) $M_2$ amplitudes (m) near Hudson Strait in nominal (unblocked) and blocked Hudson Strait experiments. (c) Global map of $M_2$ amplitude differences (m) between the blocked Hudson Strait experiment and the unblocked experiment.\" *Note:* $M_2 \\approx 2\\pi/(12.4 hours)$ *is the name of the lunar semidiurnal tide frequency.*](HudsonBlocked.png)"
   ]
  },
  {
   "cell_type": "markdown",
   "metadata": {
    "slideshow": {
     "slide_type": "skip"
    }
   },
   "source": [
    "Such considerations illustrate how delicate it is to predict adaptation to climate change.\n",
    "If the sea level is predicted to rise by metres, what will it entail e.g. for artifical ports, which have been designed to operate optimally under present-day tides? The changes in amplitudes and phases of tides might render some harbours less optimal than others, some breeding grounds might change, some touristic destinations might need to be redesigned..."
   ]
  },
  {
   "cell_type": "markdown",
   "metadata": {},
   "source": [
    "***\n",
    "\n",
    "*End of 09/29 lecture, beginning of 10/02 lecture.*\n",
    "\n",
    "***"
   ]
  },
  {
   "cell_type": "markdown",
   "metadata": {
    "slideshow": {
     "slide_type": "skip"
    }
   },
   "source": [
    "# On the Orthogonality of the Eigenmodes"
   ]
  },
  {
   "cell_type": "markdown",
   "metadata": {
    "slideshow": {
     "slide_type": "skip"
    }
   },
   "source": [
    "## One Last Bit of Linear Algebra"
   ]
  },
  {
   "cell_type": "markdown",
   "metadata": {
    "slideshow": {
     "slide_type": "skip"
    }
   },
   "source": [
    "The last bit of linear algebra that I will be using is that if $\\textsf P$ is real symmetric, i.e., all elements of $\\textsf P$ are real, and $\\textsf P^T = \\textsf P$, then the eigenvectors of $\\textsf P$ are orthogonal to each other.\n",
    "That is, for eigenvectors that have been normalized ($\\forall i\\in {1\\dots{}n}, \\|V_i\\| = 1$),\n",
    "$$\\forall (i, j) \\in \\{1\\dots n\\}^2, \\qquad V_i\\cdot V_j = \\delta_{ij}, $$\n",
    "where $\\delta_{ij} = 1$ if $i=j$, and $\\delta_{ij} = 0$ otherwise ($\\delta_{ij}$ is called the \"Kronecker Delta\")."
   ]
  },
  {
   "cell_type": "markdown",
   "metadata": {
    "slideshow": {
     "slide_type": "skip"
    }
   },
   "source": [
    "*Note: the generalization of a real symmetric matrix is called a Hermitian matrix, for which* $P_{ij} = P_{ji}^*$ *, where the asterisk means complex conjugate. The result above applies to Hermitian matrices, which will be very important very soon, in quantum mechanics.*"
   ]
  },
  {
   "cell_type": "markdown",
   "metadata": {
    "slideshow": {
     "slide_type": "skip"
    }
   },
   "source": [
    "In general, what the dot product is depends on the vector space. In our case, it is simply that if $\\vec Y_a = [a_1, a_2]$ and $\\vec Y_b = [b_1, b_2]$, then $\\vec Y_a \\cdot \\vec Y_b = a_1b_1 + a_2b_2$."
   ]
  },
  {
   "cell_type": "markdown",
   "metadata": {
    "slideshow": {
     "slide_type": "skip"
    }
   },
   "source": [
    "Let me re-use the example of the two coupled pendulums of different masses.\n",
    "The matrix $\\textsf P$ corresponded to\n",
    "$$ M^{-1}K = \\begin{bmatrix}\n",
    "                 \\frac{g}l + \\frac{k}{m_A} & -\\frac{k}{m_A} \\\\\n",
    "                 -\\frac{k}{m_B} & \\frac{g}l + \\frac{k}{m_B}\n",
    "             \\end{bmatrix},$$\n",
    "and the normalized eigenvectors were \n",
    "$$ \\vec Y_1 = \\frac{1}{\\sqrt{2}}\\begin{bmatrix}\n",
    "                                     1 \\\\ 1\n",
    "                                 \\end{bmatrix}\n",
    "\\and\n",
    "\\vec Y_2 = \\frac{1}{\\sqrt{\\omega_{sA}^4 + \\omega_{sB}^4}}\\begin{bmatrix}\n",
    "               \\omega_{sA}^2 \\\\\n",
    "               -\\omega_{sB}^2\n",
    "           \\end{bmatrix}\n",
    "         = \\frac1{\\sqrt{m_A^2 + m_B^2}}\\begin{bmatrix}\n",
    "                                           m_B \\\\\n",
    "                                           -m_A\n",
    "                                       \\end{bmatrix}.$$"
   ]
  },
  {
   "cell_type": "markdown",
   "metadata": {
    "slideshow": {
     "slide_type": "skip"
    }
   },
   "source": [
    "The projection of the two eigenvectors onto each other is therefore\n",
    "$$ \\vec Y_1 \\cdot \\vec Y_2 = \\frac{m_B - m_A}{\\sqrt{2(m_A^2 + m_B^2)}}. $$"
   ]
  },
  {
   "cell_type": "markdown",
   "metadata": {
    "slideshow": {
     "slide_type": "skip"
    }
   },
   "source": [
    "Therefore, if $m_A = m_B$, both $\\vec Y_1 \\perp \\vec Y_2$ and $M^{-1}K$ is real symmetric are true. In light of the linear algebra result I recalled above, this is no coincidence."
   ]
  },
  {
   "cell_type": "markdown",
   "metadata": {
    "slideshow": {
     "slide_type": "skip"
    }
   },
   "source": [
    "Cases in which the matrix is real symmetric correspond to a wide range of applications.\n",
    "In these cases, the orthogonality property simplifies the calculations greatly, especially when the number of oscillators becomes large.\n",
    "The reason is that it becomes very easy to isolate every mode."
   ]
  },
  {
   "cell_type": "markdown",
   "metadata": {
    "slideshow": {
     "slide_type": "skip"
    }
   },
   "source": [
    "Here, I divide the examples of applications into two classes: initial value problems (the free response), and forced problems (the driven response)."
   ]
  },
  {
   "cell_type": "markdown",
   "metadata": {
    "slideshow": {
     "slide_type": "skip"
    }
   },
   "source": [
    "*Note: there are relatively easy ways to generalize these results to non-symmetric matrices, because $\\vec Y_i M\\vec Y_j = 0$ if $i\\neq j$. It represents an additional mathematical complexity level that, while not that difficult, is too much to deal with in the short amount of time I have.*"
   ]
  },
  {
   "cell_type": "markdown",
   "metadata": {
    "slideshow": {
     "slide_type": "skip"
    }
   },
   "source": [
    "## Initial Value Problems"
   ]
  },
  {
   "cell_type": "markdown",
   "metadata": {
    "slideshow": {
     "slide_type": "skip"
    }
   },
   "source": [
    "Recall that the free response of the coupled system of oscillators can be written\n",
    "$$ \\vec X = C_1 \\vec Y_1 \\cos(\\omega_1 t + \\phi_1) + C_2 \\vec Y_2 \\cos(\\omega_2 t + \\phi_2), $$\n",
    "and that at $t = 0$,\n",
    "$\\vec X(t=0) = \\vec X_0 = C_1 \\vec Y_1\\cos\\phi_1 + C_2 \\vec Y_2\\cos\\phi_2$."
   ]
  },
  {
   "cell_type": "markdown",
   "metadata": {
    "slideshow": {
     "slide_type": "skip"
    }
   },
   "source": [
    "The velocity is\n",
    "$$ \\vec V = -\\omega_1 C_1 \\vec Y_1 \\sin(\\omega_1 t + \\phi_1) - \\omega_2 C_2 \\vec Y_2 \\sin(\\omega_2 t + \\phi_2),$$\n",
    "which initially is \n",
    "$\\vec V(t=0) = \\vec V_0 = -\\omega_1C_1 \\vec Y_1\\sin\\phi_1 -\\omega_2 C_2 \\vec Y_2\\sin\\phi_2$."
   ]
  },
  {
   "cell_type": "raw",
   "metadata": {
    "raw_mimetype": "text/markdown",
    "slideshow": {
     "slide_type": "skip"
    }
   },
   "source": [
    "### $M^{-1}K$ symmetric\n",
    "\n",
    "This is the only case you need to remember. "
   ]
  },
  {
   "cell_type": "markdown",
   "metadata": {
    "slideshow": {
     "slide_type": "skip"
    }
   },
   "source": [
    "Finding the initial conditions for the modes is merely about projecting onto $\\vec Y_1$ and $\\vec Y_2$:\n",
    "$$ \\vec X_0\\cdot \\vec Y_1 = C_1 \\cos\\phi_1, $$\n",
    "$$ \\vec X_0\\cdot \\vec Y_2 = C_2 \\cos\\phi_2, $$\n",
    "$$ \\vec V_0\\cdot \\vec Y_1 = -\\omega_1 C_1 \\sin\\phi_1, $$\n",
    "$$ \\vec V_0\\cdot \\vec Y_2 = -\\omega_2 C_2 \\sin\\phi_2, $$\n",
    "because $\\vec Y_1 \\cdot \\vec Y_2 = 0$."
   ]
  },
  {
   "cell_type": "markdown",
   "metadata": {
    "slideshow": {
     "slide_type": "skip"
    }
   },
   "source": [
    "*Note: if $\\vec Y_1$ and $\\vec Y_2$ are not normalized, you need to multiply these right-hand-sides by* $\\|\\vec Y_1\\|^2$ *and* $\\|\\vec Y_2\\|^2$!!!"
   ]
  },
  {
   "cell_type": "markdown",
   "metadata": {
    "slideshow": {
     "slide_type": "skip"
    }
   },
   "source": [
    "Take the example of the identical coupled pendulums, with $x_{A0} = A > 0$, $x_{B0} = 0$, $v_{A0} = v_{B0} = 0.$\n",
    "We had $\\vec Y_1 = [1, 1]/\\sqrt{2}$ and $\\vec Y_2 = [1, -1]/\\sqrt{2}$.\n",
    "$$ \\vec X_0\\cdot \\vec Y_1 = A/\\sqrt{2} + 0/\\sqrt{2} = A/\\sqrt{2} = C_1 \\cos\\phi_1, $$\n",
    "$$ \\vec X_0\\cdot \\vec Y_2 = A/\\sqrt{2} - 0/\\sqrt{2} = A/\\sqrt{2} = C_2 \\cos\\phi_2, $$\n",
    "$$ \\vec V_0\\cdot \\vec Y_1 = 0/\\sqrt{2} + 0/\\sqrt{2} = 0 = -\\omega_1 C_1 \\sin\\phi_1, $$\n",
    "$$ \\vec V_0\\cdot \\vec Y_2 = 0/\\sqrt{2} - 0/\\sqrt{2} = 0 = -\\omega_2 C_2 \\sin\\phi_2. $$"
   ]
  },
  {
   "cell_type": "markdown",
   "metadata": {
    "slideshow": {
     "slide_type": "skip"
    }
   },
   "source": [
    "The only way for the last two equations to be satisfied with $C_1 > 0$ and $C_2 > 0$ is $\\phi_1 = \\phi_2 = 0$, in which case $C_1 = C_2 = A/\\sqrt{2}$, and the solution is\n",
    "$$ \\vec X = \\frac{A}{\\sqrt2} \\vec Y_1 \\cos(\\omega_1 t) + \\frac{A}{\\sqrt2} \\vec Y_2 \\cos(\\omega_2 t) = \\frac{A}{2} \\stirling11 \\cos(\\omega_1 t) + \\frac{A}2 \\stirling{1}{-1} \\cos(\\omega_2 t), $$"
   ]
  },
  {
   "cell_type": "raw",
   "metadata": {
    "raw_mimetype": "text/markdown",
    "slideshow": {
     "slide_type": "skip"
    }
   },
   "source": [
    "### $M^{-1}K$ non-symmetric\n",
    "\n",
    "It is actually fairly simple to generalize the results above for a non-symmetric $M^{-1}K$ matrix, but you are not required to remember it.\n",
    "*So much so that I will skip it in class!*"
   ]
  },
  {
   "cell_type": "raw",
   "metadata": {
    "raw_mimetype": "text/markdown",
    "slideshow": {
     "slide_type": "skip"
    }
   },
   "source": [
    "In this case, $\\vec Y_1 \\cdot \\vec Y_2 \\neq 0$, but $\\vec Y_1 M \\vec Y_2 = 0$. Therefore, instead of computing $\\vec X_0 \\cdot \\vec Y_1$, etc, finding the coefficients entails computing $\\vec X_0 M \\vec Y_1$, etc."
   ]
  },
  {
   "cell_type": "raw",
   "metadata": {
    "raw_mimetype": "text/markdown",
    "slideshow": {
     "slide_type": "skip"
    }
   },
   "source": [
    "Take the example of the coupled pendulums, with $x_{A0} = A > 0$, $x_{B0} = 0$, $v_{A0} = v_{B0} = 0.$\n",
    "We now choose $m_A = m$, and $m_B = 2m$.\n",
    "Therefore, $\\vec Y_1 = [1, 1]/\\sqrt{2}$ and $\\vec Y_2 = [2, -1]/\\sqrt{5}$."
   ]
  },
  {
   "cell_type": "raw",
   "metadata": {
    "raw_mimetype": "text/markdown",
    "slideshow": {
     "slide_type": "skip"
    }
   },
   "source": [
    "Then, \n",
    "$$ M \\vec Y_1 = \\frac1{\\sqrt2}\\begin{bmatrix}m & 0 \\\\ 0 & 2 m\\end{bmatrix}\\stirling{1}{1} = \\frac{m}{\\sqrt{2}}\\stirling{1}{2} \\and M \\vec Y_1 = \\frac1{\\sqrt5}\\begin{bmatrix}m & 0 \\\\ 0 & 2 m\\end{bmatrix}\\stirling{2}{-1} = \\frac{2m}{\\sqrt{5}}\\stirling{1}{-1}.$$"
   ]
  },
  {
   "cell_type": "raw",
   "metadata": {
    "raw_mimetype": "text/markdown",
    "slideshow": {
     "slide_type": "skip"
    }
   },
   "source": [
    "You can check that \n",
    "$$ \\vec Y_1 M \\vec Y_2 = \\frac{1}{\\sqrt{10}} [1, 1]\\begin{bmatrix}m & 0 \\\\ 0 & 2 m\\end{bmatrix}\\stirling{2}{-1} = \\frac{2m}{\\sqrt{10}}[1, 1] \\stirling{1}{-1} = 0,$$\n",
    "and same for $\\vec Y_2 M \\vec Y_1.$"
   ]
  },
  {
   "cell_type": "raw",
   "metadata": {
    "raw_mimetype": "text/markdown",
    "slideshow": {
     "slide_type": "skip"
    }
   },
   "source": [
    "For the coefficients, the procedure becomes\n",
    "$$ \\vec X_0 M \\vec Y_1 = mA/\\sqrt{2} + 0\\times 2m/\\sqrt{2} = A/\\sqrt{2} = C_1 \\cos\\phi_1, $$\n",
    "$$ \\vec X_0 M \\vec Y_2 = A/\\sqrt{2} - 0/\\sqrt{2} = A/\\sqrt{2} = C_2 \\cos\\phi_2, $$\n",
    "$$ \\vec V_0 M \\vec Y_1 = 0/\\sqrt{2} + 0/\\sqrt{2} = 0 = -\\omega_1 C_1 \\sin\\phi_1, $$\n",
    "$$ \\vec V_0 M \\vec Y_2 = 0/\\sqrt{2} - 0/\\sqrt{2} = 0 = -\\omega_2 C_2 \\sin\\phi_2. $$"
   ]
  },
  {
   "cell_type": "markdown",
   "metadata": {
    "slideshow": {
     "slide_type": "slide"
    }
   },
   "source": [
    "## Forced Problems"
   ]
  },
  {
   "cell_type": "markdown",
   "metadata": {
    "slideshow": {
     "slide_type": "skip"
    }
   },
   "source": [
    "Let us assume that there is some periodic force applied to the masses, and recall that $m_A = m_B = m$:\n",
    "$$ m\\ddot x_A + \\frac{mg}{l}x_A + k(x_A - x_B) = F_A\\cos(\\omega t),$$\n",
    "$$ m\\ddot x_A + \\frac{mg}{l}x_A + k(x_A - x_B) = F_B\\cos(\\omega t),$$\n",
    "which in matrix form can be written\n",
    "$$ \\ddot{\\vec X} + M^{-1}K \\vec X = \\vec \\Psi\\cos(\\omega t),\\hspace{5cm}(10) $$\n",
    "with $\\vec \\Psi = [F_A/m, F_B/m]$.\n",
    "Note that the problem is not an eigenvalue problem anymore."
   ]
  },
  {
   "cell_type": "markdown",
   "metadata": {
    "slideshow": {
     "slide_type": "skip"
    }
   },
   "source": [
    "The vectors $\\vec Y_1$ and $\\vec Y_2$, which were eigenvectors of the free problem, form an orthogonal basis for any 2D vector.\n",
    "Let me repeat this: $\\vec Y_1$ and $\\vec Y_2$ lose their special status as eigenvectors, but they still form an orthogonal basis on which any vector decomposed.\n",
    "Meaning that we can write\n",
    "$$ \\vec A = C_1 \\vec Y_1 + C_2 \\vec Y_2,\\quad \\vec X = q_1\\vec Y_1 + q_2 \\vec Y_2.$$"
   ]
  },
  {
   "cell_type": "markdown",
   "metadata": {
    "slideshow": {
     "slide_type": "skip"
    }
   },
   "source": [
    "Let me reiterate that the projections of $\\vec X$ on $\\vec Y_1$ and $\\vec Y_2$, i.e., $q_1$  and $q_2$, are not eigenmodes of the forced problem. \"Eigenmodes of the forced problem\" makes as much sense as \"free oscillations of the forced oscillator\" in the case of just one oscillator, i.e., no sense at all."
   ]
  },
  {
   "cell_type": "markdown",
   "metadata": {
    "slideshow": {
     "slide_type": "skip"
    }
   },
   "source": [
    "The forcing can also the projected onto $\\vec Y_1$ and $\\vec Y_2$:\n",
    "$$\\vec\\Psi = \\Psi_1 \\vec Y_1 + \\Psi_2 \\vec Y_2,$$\n",
    "with $\\Psi_1 = (F_A + F_B)/(\\sqrt{2}m)$ and $\\Psi_2 = (F_A - F_B)/(\\sqrt{2}m)$."
   ]
  },
  {
   "cell_type": "markdown",
   "metadata": {
    "slideshow": {
     "slide_type": "skip"
    }
   },
   "source": [
    "However, the crucial point here is that $M^{-1}K \\vec Y_{1, 2} = \\omega^2_{1,2}\\vec Y_{1, 2}$ is still true, by construction of $\\vec Y_{1,2}$.\n",
    "Collecting all of these comments, equation $(10)$ can therefore be re-written\n",
    "$$ \\ddot q_1{\\vec Y}_1 + \\ddot q_2 {\\vec Y}_2  + \\omega_1^2 q_1 \\vec Y_1 + \\omega_2^2 q_2 \\vec Y_2 = (\\Psi_1 \\vec Y_1 + \\Psi_2 \\vec Y_2)\\cos(\\omega t).$$"
   ]
  },
  {
   "cell_type": "markdown",
   "metadata": {
    "slideshow": {
     "slide_type": "skip"
    }
   },
   "source": [
    "Projecting the equation above on $\\vec Y_1$ and $\\vec Y_2$ yields, respectively,\n",
    "$$\\ddot q_1 + \\omega_1^2 q_1 = \\Psi_1\\cos(\\omega t).$$\n",
    "$$\\ddot q_2 + \\omega_1^2 q_2 = \\Psi_2\\cos(\\omega t).$$"
   ]
  },
  {
   "cell_type": "markdown",
   "metadata": {
    "slideshow": {
     "slide_type": "skip"
    }
   },
   "source": [
    "Therefore, individual modes can resonate, just like a simple oscillator can resonate.\n",
    "This time however, the complexity of the possible cases increases.\n",
    "For one mode to resonate, two conditions need to be satisfied.\n",
    "For example, for the first mode to resonate, we need $\\omega = \\omega_1$, just like in the simple oscillator case, but we also need $\\Psi_1 \\neq 0$."
   ]
  },
  {
   "cell_type": "markdown",
   "metadata": {
    "slideshow": {
     "slide_type": "skip"
    }
   },
   "source": [
    "In our coupled pendulums, the first mode (the antisymmetric one) does not grow if the forcing is symmetric, i.e., if $F_A = -F_B$, in which case $\\Psi_1 = 0$.\n",
    "In order to induce a resonance phenomenon, the frequency of the forcing has to match the corresponding frequency, and the forcing pattern needs to match the *polarization* of the mode, i.e., the \"shape of the mode\" (i.e. whether it is symmetric or antisymmetric, or whatever the pattern actually looks like), somewhat.\n",
    "\"Somewhat\" means that the projection of the force on the eigenvector has to be non-zero.\n",
    "For example, if only one mass feels a force, say, $F_A \\neq 0$ and $F_B = 0$, the pattern is not exactly matched, but $\\Psi_1 = F_A/\\sqrt{2}m + 0/\\sqrt{2} = F_A/\\sqrt2m \\neq 0$, which is enough to trigger a resonance."
   ]
  },
  {
   "cell_type": "markdown",
   "metadata": {
    "slideshow": {
     "slide_type": "skip"
    }
   },
   "source": [
    "All of this is true for any coupled system of oscillators, and for however many degrees of freedom there are. It is also true for non-symmetric matrices, but the mathematics are more complicated to describe in the short amount of time I have."
   ]
  },
  {
   "cell_type": "markdown",
   "metadata": {
    "slideshow": {
     "slide_type": "skip"
    }
   },
   "source": [
    "Of course, everything you have learned about damped harmonic oscillator resonance also applies to the modes.\n",
    "For example, if there is damping, the resonance curve will have a certain width:\n",
    "there can be amplification for frequencies that do not exactly match the eigenfrequencies of the free system.\n",
    "Each mode will have its own damping rate, and its own quality factor."
   ]
  },
  {
   "cell_type": "markdown",
   "metadata": {
    "slideshow": {
     "slide_type": "skip"
    }
   },
   "source": [
    "For example, an atom in elemental form or a molecule can be thought of as a coupled system of oscillators.\n",
    "Atoms can move around, and electrons can change levels, adding all sorts of degrees of freedom.\n",
    "This is how the atmospheric composition of the Sun can be determined from an absorption spectrum (cf. chapter 3)."
   ]
  },
  {
   "cell_type": "markdown",
   "metadata": {
    "slideshow": {
     "slide_type": "skip"
    }
   },
   "source": [
    "The reverse is true: every molecule has a specific emission spectrum, consisting of the emission of light at the resonance frequencies of the molecules.\n",
    "One just needs to excite the atom or molecule broadly, for example by heating it, and measure which frequencies are emitted by the atom or molecule.\n",
    "The more degrees of freedom there are, the more frequencies are emitted (cf. emission spectra of hydrogen vs. iron from Wikipedia, reproduced here)."
   ]
  },
  {
   "cell_type": "markdown",
   "metadata": {},
   "source": [
    "![Visible lines of the emission spectrumm of hydrogen, by Merikanto, Adrignola [CC0], via Wikimedia Commons](800px-Emission_spectrum-H.png)"
   ]
  },
  {
   "cell_type": "markdown",
   "metadata": {},
   "source": [
    "![Visible lines of the emission spectrumm of iron, by User:nilda (Own work) [Public domain], via Wikimedia Commons](Emission_spectrum-Fe.png)"
   ]
  },
  {
   "cell_type": "markdown",
   "metadata": {
    "slideshow": {
     "slide_type": "slide"
    }
   },
   "source": [
    "# $n$ Coupled Oscillators"
   ]
  },
  {
   "cell_type": "markdown",
   "metadata": {
    "slideshow": {
     "slide_type": "skip"
    }
   },
   "source": [
    "While I have illustrated this entire chapter with two oscillators, all the qualitative results apply to any number of oscillators.\n",
    "Right after this chapter, we will study waves, which can be thought of as a superposition of a finite or infinite number of modes, which arise from the fact that waves propagate on a continuous medium made of an infinite number of coupled oscillators."
   ]
  },
  {
   "cell_type": "markdown",
   "metadata": {
    "slideshow": {
     "slide_type": "skip"
    }
   },
   "source": [
    "I actually hesitated between making this section the last section on coupled oscillators, or the first section on waves. \n",
    "Ultimately, it does not matter, as long as the transition is clearly understood."
   ]
  },
  {
   "cell_type": "markdown",
   "metadata": {
    "slideshow": {
     "slide_type": "skip"
    }
   },
   "source": [
    "I will illustrate this point with identical masses, coupled by identical springs (cf. King fig. 4.11, reproduced earlier), because it is simpler than the coupled pendula, but complex enough to illustrate the principle.\n",
    "With two masses, we had\n",
    "$$ m \\ddot x_A = -k x_A + k(x_A - x_B), $$\n",
    "$$ m \\ddot x_B = -k (x_B - x_A) - kx_B. $$"
   ]
  },
  {
   "cell_type": "markdown",
   "metadata": {
    "slideshow": {
     "slide_type": "skip"
    }
   },
   "source": [
    "With three masses $A$, $B$ and $C$, we would have\n",
    "$$ m \\ddot x_A = -k x_A + k(x_B - x_A), $$\n",
    "$$ m \\ddot x_B = -k (x_B - x_A) + k(x_C-x_B), $$\n",
    "$$ m \\ddot x_C = -k (x_C - x_B) - kx_C. $$"
   ]
  },
  {
   "cell_type": "markdown",
   "metadata": {
    "slideshow": {
     "slide_type": "skip"
    }
   },
   "source": [
    "And with $N$ masses, we would have (I now index the masses with numbers instead of letters)\n",
    "$$ m \\ddot x_1 = -k x_1 + k(x_2 - x_1) = - 2 k x_1 + k x_2, $$\n",
    "$$ m \\ddot x_n = -k (x_{n} - x_{n-1}) + k(x_{n+1} - x_{n}) = k(x_{n+1} -2x_n + x_{n-1})\\quad\\forall n\\neq 1, N, $$\n",
    "$$ m \\ddot x_N = -k (x_N - x_{N-1}) - kx_N = -2k x_N + k x_{N-1}. $$"
   ]
  },
  {
   "cell_type": "markdown",
   "metadata": {
    "slideshow": {
     "slide_type": "skip"
    }
   },
   "source": [
    "After division by $m$, we can turn this system into an $N \\times N$ eigenvalue problem\n",
    "$$ (M^{-1}K - \\omega^2 \\textsf I_N) \\vec X =, $$\n",
    "with\n",
    "$$ M^{-1}K = \\omega_s^2\\begin{bmatrix}\n",
    "                 2      & -1     & 0      & \\dots  &        &        & 0 \\\\\n",
    "                 -1     & 2      & -1     & 0      & \\dots  &        & 0 \\\\\n",
    "                 0      & \\ddots & \\ddots & \\ddots &        &        & \\\\\n",
    "                 \\vdots & 0      & -1     & 2      & -1     & 0      & \\\\\n",
    "                        &        &        & \\ddots & \\ddots & \\ddots & \\\\\n",
    "                 \\\\\n",
    "                 0      & \\dots  &        &        & 0      & -1     & 2\n",
    "             \\end{bmatrix}.\n",
    "$$"
   ]
  },
  {
   "cell_type": "markdown",
   "metadata": {
    "slideshow": {
     "slide_type": "skip"
    }
   },
   "source": [
    "This matrix is actually simple enough that we should be able to find the eigenvalues analytically.\n",
    "My intention, however, is to show you that from a numerical point of view, a $3\\times 3$ matrix and a $N\\times N$ matrix are as hard to solve as each other as long as one understands how to use the methods of linear algebra.\n",
    "Instead of SymPy, Python's main symbolic math package, I will use NumPy, Python's main scientific computing package.\n",
    "Unlike SymPy, NumPy only understands numbers, not symbols."
   ]
  },
  {
   "cell_type": "code",
   "execution_count": 561,
   "metadata": {
    "collapsed": true
   },
   "outputs": [],
   "source": [
    "# We already imported NumPy, but it is useful to import \n",
    "# NumPy's linear algebra functions separately.\n",
    "import numpy.linalg as LA\n",
    "# the following two packages allow me to display the animation\n",
    "from matplotlib import animation\n",
    "from IPython.display import HTML\n",
    "# More about animations: \n",
    "# https://stackoverflow.com/questions/43445103/inline-animations-in-jupyter"
   ]
  },
  {
   "cell_type": "code",
   "execution_count": 616,
   "metadata": {
    "collapsed": true,
    "slideshow": {
     "slide_type": "subslide"
    }
   },
   "outputs": [],
   "source": [
    "N = 10  # number of oscillators"
   ]
  },
  {
   "cell_type": "code",
   "execution_count": 617,
   "metadata": {
    "slideshow": {
     "slide_type": "fragment"
    }
   },
   "outputs": [
    {
     "name": "stdout",
     "output_type": "stream",
     "text": [
      "[[ 2. -1.  0.  0.  0.  0.  0.  0.  0.  0.]\n",
      " [-1.  2. -1.  0.  0.  0.  0.  0.  0.  0.]\n",
      " [ 0. -1.  2. -1.  0.  0.  0.  0.  0.  0.]\n",
      " [ 0.  0. -1.  2. -1.  0.  0.  0.  0.  0.]\n",
      " [ 0.  0.  0. -1.  2. -1.  0.  0.  0.  0.]\n",
      " [ 0.  0.  0.  0. -1.  2. -1.  0.  0.  0.]\n",
      " [ 0.  0.  0.  0.  0. -1.  2. -1.  0.  0.]\n",
      " [ 0.  0.  0.  0.  0.  0. -1.  2. -1.  0.]\n",
      " [ 0.  0.  0.  0.  0.  0.  0. -1.  2. -1.]\n",
      " [ 0.  0.  0.  0.  0.  0.  0.  0. -1.  2.]]\n"
     ]
    }
   ],
   "source": [
    "iMK = np.zeros((N, N))  # creates a NxN square matrix filled with zeroes\n",
    "# for simplicity, we set omega_s = 1 rad/s\n",
    "# I will fill the matrix in a somewhat clumsy way, for pedagogical reasons\n",
    "# However, there are functions to create tridiagonal matrices automatically\n",
    "iMK[0, 0] = 2.  # top left-hand corner\n",
    "iMK[0 , 1] = -1  # top line, one to the right\n",
    "iMK[-1, -1] = 2  # bottom right-hand corner\n",
    "iMK[-1, -2] = -1  # bottom line, one to the left\n",
    "if N > 2:\n",
    "    for n in range(1, N-1):  # this loop makes filling the matrix automatic\n",
    "        # we loop from the second to the penultimate line, which are all the same\n",
    "        iMK[n, n] = 2  # diagonal terms\n",
    "        iMK[n, n-1] = -1  # lower diagonal\n",
    "        iMK[n, n+1] = -1  # upper diagonal\n",
    "\n",
    "print(iMK)"
   ]
  },
  {
   "cell_type": "code",
   "execution_count": 618,
   "metadata": {
    "collapsed": true,
    "slideshow": {
     "slide_type": "subslide"
    }
   },
   "outputs": [],
   "source": [
    "eigvals, eigvecs = LA.eig(iMK)"
   ]
  },
  {
   "cell_type": "code",
   "execution_count": 619,
   "metadata": {},
   "outputs": [
    {
     "name": "stdout",
     "output_type": "stream",
     "text": [
      "[ 3.91898595  3.68250707  3.30972147  2.83083003  2.28462968  1.71537032\n",
      "  0.08101405  0.31749293  0.69027853  1.16916997]\n"
     ]
    }
   ],
   "source": [
    "print(eigvals)"
   ]
  },
  {
   "cell_type": "code",
   "execution_count": 620,
   "metadata": {},
   "outputs": [
    {
     "name": "stdout",
     "output_type": "stream",
     "text": [
      "[ 1.97964288  1.91898595  1.81926399  1.68250707  1.51149915  1.30972147\n",
      "  0.28462968  0.56346511  0.83083003  1.08128163]\n"
     ]
    }
   ],
   "source": [
    "eigfreqs = np.sqrt(eigvals)\n",
    "print(eigfreqs)"
   ]
  },
  {
   "cell_type": "code",
   "execution_count": 621,
   "metadata": {},
   "outputs": [
    {
     "name": "stdout",
     "output_type": "stream",
     "text": [
      "[[ 0.12013117  0.23053002  0.3222527   0.38786839 -0.42206128  0.42206128\n",
      "  -0.12013117  0.23053002 -0.3222527  -0.38786839]\n",
      " [-0.23053002 -0.38786839 -0.42206128 -0.3222527   0.12013117  0.12013117\n",
      "  -0.23053002  0.38786839 -0.42206128 -0.3222527 ]\n",
      " [ 0.3222527   0.42206128  0.23053002 -0.12013117  0.38786839 -0.38786839\n",
      "  -0.3222527   0.42206128 -0.23053002  0.12013117]\n",
      " [-0.38786839 -0.3222527   0.12013117  0.42206128 -0.23053002 -0.23053002\n",
      "  -0.38786839  0.3222527   0.12013117  0.42206128]\n",
      " [ 0.42206128  0.12013117 -0.38786839 -0.23053002 -0.3222527   0.3222527\n",
      "  -0.42206128  0.12013117  0.38786839  0.23053002]\n",
      " [-0.42206128  0.12013117  0.38786839 -0.23053002  0.3222527   0.3222527\n",
      "  -0.42206128 -0.12013117  0.38786839 -0.23053002]\n",
      " [ 0.38786839 -0.3222527  -0.12013117  0.42206128  0.23053002 -0.23053002\n",
      "  -0.38786839 -0.3222527   0.12013117 -0.42206128]\n",
      " [-0.3222527   0.42206128 -0.23053002 -0.12013117 -0.38786839 -0.38786839\n",
      "  -0.3222527  -0.42206128 -0.23053002 -0.12013117]\n",
      " [ 0.23053002 -0.38786839  0.42206128 -0.3222527  -0.12013117  0.12013117\n",
      "  -0.23053002 -0.38786839 -0.42206128  0.3222527 ]\n",
      " [-0.12013117  0.23053002 -0.3222527   0.38786839  0.42206128  0.42206128\n",
      "  -0.12013117 -0.23053002 -0.3222527   0.38786839]]\n"
     ]
    }
   ],
   "source": [
    "print(eigvecs)"
   ]
  },
  {
   "cell_type": "markdown",
   "metadata": {
    "slideshow": {
     "slide_type": "notes"
    }
   },
   "source": [
    "The ```numpy.linalg.eig``` function returns an output, that is different from the output of the SymPy ```eigenvects``` method we used earlier:\n",
    "\n",
    "1. the first array lists all eigenvalues (repeated eigenvalues are simply written multiple times). Note how they are negative: it is because the we wrote the problem as $M^{-1}K\\vec X = -\\omega^2\\vec X$, therefore, $\\lambda = -\\omega^2$.\n",
    "2. the second array provides the corresponding displacement amplitudes of each mass (the so-called polarization relations of each mode). The way it is displayed above, each column (```eigvecs[:, i]```) corresponds to the coefficients of the series of masses for one mode, while each line (```eigvecs[i, :]```) corresponds to the coefficients of the series of modes for one mass."
   ]
  },
  {
   "cell_type": "markdown",
   "metadata": {
    "slideshow": {
     "slide_type": "subslide"
    }
   },
   "source": [
    "It is still a bit obscure at this point, and plotting the results will help.\n",
    "But before that, I want to sort the eigenfrequencies from lowest to highest, because ```numpy.linalg.eig``` didn't do it."
   ]
  },
  {
   "cell_type": "code",
   "execution_count": 622,
   "metadata": {},
   "outputs": [
    {
     "name": "stdout",
     "output_type": "stream",
     "text": [
      "[6 7 8 9 5 4 3 2 1 0]\n"
     ]
    }
   ],
   "source": [
    "# this function returns the sequence that would sort the eigenfrequencies\n",
    "seq = np.argsort(eigfreqs)\n",
    "print(seq)"
   ]
  },
  {
   "cell_type": "code",
   "execution_count": 623,
   "metadata": {},
   "outputs": [
    {
     "name": "stdout",
     "output_type": "stream",
     "text": [
      "[ 0.28462968  0.56346511  0.83083003  1.08128163  1.30972147  1.51149915\n",
      "  1.68250707  1.81926399  1.91898595  1.97964288]\n"
     ]
    }
   ],
   "source": [
    "# here are the sorted eigenfrequencies:\n",
    "print(eigfreqs[seq])"
   ]
  },
  {
   "cell_type": "code",
   "execution_count": 624,
   "metadata": {
    "slideshow": {
     "slide_type": "subslide"
    }
   },
   "outputs": [
    {
     "name": "stdout",
     "output_type": "stream",
     "text": [
      "[-0.12013117 -0.23053002 -0.3222527  -0.38786839 -0.42206128 -0.42206128\n",
      " -0.38786839 -0.3222527  -0.23053002 -0.12013117]\n",
      "[ 0.23053002  0.38786839  0.42206128  0.3222527   0.12013117 -0.12013117\n",
      " -0.3222527  -0.42206128 -0.38786839 -0.23053002]\n",
      "[-0.3222527  -0.42206128 -0.23053002  0.12013117  0.38786839  0.38786839\n",
      "  0.12013117 -0.23053002 -0.42206128 -0.3222527 ]\n",
      "[-0.38786839 -0.3222527   0.12013117  0.42206128  0.23053002 -0.23053002\n",
      " -0.42206128 -0.12013117  0.3222527   0.38786839]\n",
      "[ 0.42206128  0.12013117 -0.38786839 -0.23053002  0.3222527   0.3222527\n",
      " -0.23053002 -0.38786839  0.12013117  0.42206128]\n",
      "[-0.42206128  0.12013117  0.38786839 -0.23053002 -0.3222527   0.3222527\n",
      "  0.23053002 -0.38786839 -0.12013117  0.42206128]\n",
      "[ 0.38786839 -0.3222527  -0.12013117  0.42206128 -0.23053002 -0.23053002\n",
      "  0.42206128 -0.12013117 -0.3222527   0.38786839]\n",
      "[ 0.3222527  -0.42206128  0.23053002  0.12013117 -0.38786839  0.38786839\n",
      " -0.12013117 -0.23053002  0.42206128 -0.3222527 ]\n",
      "[ 0.23053002 -0.38786839  0.42206128 -0.3222527   0.12013117  0.12013117\n",
      " -0.3222527   0.42206128 -0.38786839  0.23053002]\n",
      "[ 0.12013117 -0.23053002  0.3222527  -0.38786839  0.42206128 -0.42206128\n",
      "  0.38786839 -0.3222527   0.23053002 -0.12013117]\n"
     ]
    }
   ],
   "source": [
    "# and the corresponding mass position amplitudes are\n",
    "for ii in range(N):\n",
    "    print(eigvecs[:, seq[ii]])"
   ]
  },
  {
   "cell_type": "code",
   "execution_count": 625,
   "metadata": {
    "collapsed": true,
    "slideshow": {
     "slide_type": "subslide"
    }
   },
   "outputs": [],
   "source": [
    "# Various quantities\n",
    "t_end = 2.*np.pi/eigfreqs.min() # time array spans one longest eigenperiod\n",
    "n_frames = 100  # number of frames for animation\n",
    "time = np.linspace(0., t_end, n_frames)  # time array\n",
    "max_amp = abs(eigvecs.max())  # maximum displacement of any mass in any eigenmode\n",
    "L_inter = 3*max_amp  # distance between the masses; this makes sure that it is enough\n",
    "L_tot = L_inter*float(N+1)  # total length between the two walls;\n",
    "rest_positions = np.arange(L_inter, (N+0.5)*L_inter, L_inter)  # positions at rest"
   ]
  },
  {
   "cell_type": "code",
   "execution_count": 626,
   "metadata": {
    "collapsed": true
   },
   "outputs": [],
   "source": [
    "# prepping the coordinates on the plot: for each time step, we will plot the positions\n",
    "# on the x axis and the mode number on the y axis\n",
    "x_positions = np.zeros((N, N))  # N positions for N modes\n",
    "y_modes = np.zeros((N, N))  # N positions for N modes\n",
    "for mode_number in range(1, N+1):\n",
    "    y_modes[mode_number-1, :] = mode_number"
   ]
  },
  {
   "cell_type": "code",
   "execution_count": 627,
   "metadata": {
    "collapsed": true,
    "slideshow": {
     "slide_type": "subslide"
    }
   },
   "outputs": [],
   "source": [
    "imagelist = []  # list of frames to eventually animate\n",
    "\n",
    "fig = plt.figure()\n",
    "ax = plt.gca()\n",
    "ax.set_xlim([0., L_tot])\n",
    "ax.set_ylim([0., N+1])\n",
    "ax.set_xticks(rest_positions)\n",
    "ax.set_xlabel('positions')\n",
    "ax.set_yticks(range(1, N+1))\n",
    "ax.set_ylabel('mode number')\n",
    "ax.grid()\n",
    "for t in time:\n",
    "    # We loop over time to animate the masses\n",
    "    for mode_number in range(1, N+1):\n",
    "        ii = seq[mode_number-1]  # this will select the correct mode in the list\n",
    "        x_positions[mode_number-1, :] = (rest_positions\n",
    "                                         + eigvecs[:, ii]*np.cos(eigfreqs[ii]*t))\n",
    "    im = plt.scatter(x_positions, y_modes)\n",
    "    imagelist.append([im])"
   ]
  },
  {
   "cell_type": "code",
   "execution_count": 628,
   "metadata": {
    "scrolled": false,
    "slideshow": {
     "slide_type": "subslide"
    }
   },
   "outputs": [
    {
     "data": {
      "text/html": [
       "<video width=\"600.0\" height=\"400.0\" controls autoplay loop>\n",
       "  <source type=\"video/mp4\" src=\"data:video/mp4;base64,AAAAHGZ0eXBNNFYgAAACAGlzb21pc28yYXZjMQAAAAhmcmVlAARdQ21kYXQAAAKvBgX//6vcRem9\n",
       "5tlIt5Ys2CDZI+7veDI2NCAtIGNvcmUgMTQ4IHIyNzQ4IDk3ZWFlZjIgLSBILjI2NC9NUEVHLTQg\n",
       "QVZDIGNvZGVjIC0gQ29weWxlZnQgMjAwMy0yMDE2IC0gaHR0cDovL3d3dy52aWRlb2xhbi5vcmcv\n",
       "eDI2NC5odG1sIC0gb3B0aW9uczogY2FiYWM9MSByZWY9MyBkZWJsb2NrPTE6MDowIGFuYWx5c2U9\n",
       "MHgzOjB4MTEzIG1lPWhleCBzdWJtZT03IHBzeT0xIHBzeV9yZD0xLjAwOjAuMDAgbWl4ZWRfcmVm\n",
       "PTEgbWVfcmFuZ2U9MTYgY2hyb21hX21lPTEgdHJlbGxpcz0xIDh4OGRjdD0xIGNxbT0wIGRlYWR6\n",
       "b25lPTIxLDExIGZhc3RfcHNraXA9MSBjaHJvbWFfcXBfb2Zmc2V0PS0yIHRocmVhZHM9MTIgbG9v\n",
       "a2FoZWFkX3RocmVhZHM9MiBzbGljZWRfdGhyZWFkcz0wIG5yPTAgZGVjaW1hdGU9MSBpbnRlcmxh\n",
       "Y2VkPTAgYmx1cmF5X2NvbXBhdD0wIGNvbnN0cmFpbmVkX2ludHJhPTAgYmZyYW1lcz0zIGJfcHly\n",
       "YW1pZD0yIGJfYWRhcHQ9MSBiX2JpYXM9MCBkaXJlY3Q9MSB3ZWlnaHRiPTEgb3Blbl9nb3A9MCB3\n",
       "ZWlnaHRwPTIga2V5aW50PTI1MCBrZXlpbnRfbWluPTIwIHNjZW5lY3V0PTQwIGludHJhX3JlZnJl\n",
       "c2g9MCByY19sb29rYWhlYWQ9NDAgcmM9Y3JmIG1idHJlZT0xIGNyZj0yMy4wIHFjb21wPTAuNjAg\n",
       "cXBtaW49MCBxcG1heD02OSBxcHN0ZXA9NCBpcF9yYXRpbz0xLjQwIGFxPTE6MS4wMACAAABf6mWI\n",
       "hAA3//728P4FNjuY0JcRzeidMx+/Fbi6NDe9zgAAAwAAAwAACNCLwW1jsC2M+AAABb7QbdBDBxAT\n",
       "lWkYQX93nBpZ+9Z4KUkX/ts7xRfj9gyKSeQ8Im1ojPrBVIu6Wp9QSIqhab9dQdzWd/diERC5BM6D\n",
       "mW0f1SPQLGaAtIiQUOvWgeCZpwfLOLEIbI57EDU0l+VfYhpqcIEw0icQUrZtOL0yfpJotYfzEG8J\n",
       "PIDd4PdrE3v94LPmANQlUqsiXClnC12P7dLguJSfVC3U7ahMls5k9byt7MoQ9TEfnOCmJjq8kkc8\n",
       "nC3Mkxv1leg+UT1j+d8vVuwWeDswlpaaeyhL/oLDRWH3WADjnCnhHyG1unZfmghUjItixgdGgDco\n",
       "hCxqOi2n06w7V4lInCFo9i5s+IqX5Etp6wV+Ympv5WNu2q5ruKqBb/dIloHughqxo4SEEkPKyWb7\n",
       "ltsg0cpHxPQP7Sw+15zFEYAtwwHjpw11t5jGMR+v9iDEwEf8OadRoacgqARwbBXn4L3AzPrB9U78\n",
       "GF77W4Ad+Auo/i6O2sTVMCOMthLw/pCVSsDATT0Hpk6SLTVLO7Jb/9u+UYPj2VqSptPYgoYKnVML\n",
       "W5rc1wKUHWrYaaAx727pE6ZHBWnputy4kg/oFC2SyYGSljPKLWRMzTpO2PSeqJiXypHomg5re1C0\n",
       "PuTNYRr6Qp/orOomWkCzd4PD04dtPR7Jj/gWCtrPotBDG4jT6EH3JnJ77lyNOz48x04xHNZnlkTk\n",
       "/CeZe6oL6qcTKK5ftCGUyKThRuVw0Gl7KN+tqwf8QPXDlD5aQdtPfsxs5rS02fde4Qc6KfEjGky6\n",
       "+SyCrrKwYD22luoBMDD3XnUiB/giMnfXpKPDi2S8f8oTXNifnEUKYvyI8RZQWNTwfENJrJPdmj8c\n",
       "SWk9ZFp2wKP4tux4F9dP0s7x1i8xTygXK+mxcLjaUnMWgvB2ildnvmJA29ku10BHiUy028e8eeZc\n",
       "qlTgNkAlz48s5jBx6bTgDxdtgUgmrKE3U/jEO/DOsXmKeUDJYq8XC42lJzFp7YasBOz3zEgblNr2\n",
       "jv2j4wAL7uu4FjnEP42P3DizLNCWZqwG5BmriZRXL9oCFOPR2Tv6fv8XJhbViY+esJxfqUT8GsD3\n",
       "vXplULSNT+jbf9ly6vsSY3tnNI13GUXlk0/z90c+7vgsEY1mLhWYX98OQz/y190ZucLhlY4kJt/9\n",
       "76GUEps0wGZZiwgbqRpGe7LxV9b9ksh9XxZhpFm1zBaQCmv/IWHL7yx79cm0Gi8BBjgyMJjjVcKz\n",
       "PmN8xDSZC8a/7Ntv49//tUJarJ7UmkK8lHERVS8FLQQiqv9YwU9DdUlS5Jx20ihmgHLYNvDhZdKZ\n",
       "svCOaD1Nqd9qv0ZB7l/+Xzi/jddL8OFTWUeOvy7IZWe7wFGeI06mYN2OjwkVWaO3Jp0Y7JwoKXwD\n",
       "BVwHTr5JtaPodqOLOjmodPFEgECnJf/lQsTsSClCFFx7rCAaYX5iim8aiiaZJorzjmDw8TOrMMAT\n",
       "0NGa6319+rpf8FJhrGRDyE1VN5829tSvBe/2WgqYaOrGJvSkOYTePk75dMuBgXOEuZCnmpKWZqe7\n",
       "zXYcvRhIiHbVjrZX/MJBgZJZukXNW7DLQDrmWBfTQ3LEWDwPHpFPVGDfHVvG8AAKTM9uCzvI4v8a\n",
       "fEH4LCtGYBUE+aVUaBkfoSD9SU+HvvytGYvKflv4ld3FDatZ/gwt0JVeBzL2U+3NGbZJtaQZ9q3z\n",
       "mmhpru1bNQmVtG2aDxyocCOYwJSApVLqk8A5knQRpbvdLDQ87CFXZxafo/nN789mWX8kD7+WlzVr\n",
       "EkzE71voekdXpN8Lgdksa7ENqVXQmebtyjYVSBPcPMHeN1V/nP8J9kMyX5FlMIuyB9XiQW7JgudO\n",
       "nGsXBQU9Cs8Pgqa1Qg0QL5LNIFd6dMpTCKpclPhWAIS7QvbRMbXKFHGjZREHgloNHCiK9x66xZgX\n",
       "E4bN7V/QawHg8Bxyve9NxihRpcA52HkCE6x1KGEI15/duiz9A8/BHeTjl+AEum/re7qplZmbd7PD\n",
       "JKBFlWLLw3ykqBk/GHlnT9XDlSycNshJX+4sPIti+SBKGxhIOStajlIdpxxymS6BblpdLVuVZ4yB\n",
       "OSjmnYjpOIdvHfSm7wEzPXm8Bo8hDbDxbr4HUeYjpAzM54IgqxA/OLXDZ8aMMBTbS8ORE61sHJc0\n",
       "laqD9pBaK0pGFFvU046wdPyRclw3V3eQ88qCkgrr2vGQr3oZ9uTu4Z0eHRUWnMc9LqIFuYQSi3A2\n",
       "bCZ+vgrInyiaM2HC9NWvEykevzcLqNhOvs2VNwmDrVlOlcOsYjcImQWJstIKUlZGsed73qghepNK\n",
       "QySY6Y+ri3vkq5B8UesJFcicgTnBe8LNw23Ym+1RvR3UFdDD9QNanpTYRWCSMaD/xUOpSGDuOx7T\n",
       "a2e5Kdf8tgNcpDLYP5TiYt2oyPMl0HhXebJR/VOG5SRUtO5rLRotBwBn4fqXp++wk+uT+fyxvAER\n",
       "gN+a4Vi8UoQIHlWtdSE8AO6sf6CdrscILe1qS1hkza4yq2JSpesQ14trbv60Oxna416i02IKiAgW\n",
       "h4geWZt0Q588Dmos/lKwAu4BjkHdM6o8oF7L07MAo6TW4ncNB4g33Ok7BlFZt77wB86zgeuCXsvO\n",
       "PmGO1JsrYEQQJrZygNKLAAE7Ibwc100RzLYz+x8W+46OZkMEI7klZOSn2RcEInQmnQWgVBXfXeRz\n",
       "UfGsKIMPtrAxWOnWOgujId1KV8hkS+XgZFPgobfXnVIMc6NJIB3RaPhBz46HkE1vJxK7DX4JIJZx\n",
       "dGazzYOtj4jF2gJyfJVv0r5gJunDJsTsYQHhCHRsKc/PuBAcFqWir2Oy6wQn1vv/aFmDireYZ/wE\n",
       "FN3vgbDwWAaZwljhIf79O9AF8SmM++xF5xRLoD3al9iDRRNVjtcD0fvOrLRHS7baMc6rLpbDlpRi\n",
       "SX3msG2kbtz8lWaQBsIh4Iwpqlby1Sd3o7kU9swLkXfuEsd/PsMjFsesvhOjR4xnjzyhg9K/9wpF\n",
       "p1vu2dl//25inIklRtWxJaa7PDM9goTqOJLFB+eW2mh2Slc1/vELmf40Rq5igZwsnUaEneWoxt8Y\n",
       "bl3+h26GEI3Ak7zVu4OScHvTACRWIVPZQnEzMc8fSEfvcrTSnjl0MrX4XRJ0NRMAW3uSjq++C3z8\n",
       "ub89jWuqAhBrHM7CDulYgdtGhdW1c8O/ZkngPtdEMeW3TZUp7zTWjR/RggZRmu09JBAuPjThgId8\n",
       "QmS1E+uwW40Gmu5Gazy9rbRqmCZX0C8jws3kx+oe5XuRnroVNmdAGpaBipdMYu6DWIu4lWq+gV9v\n",
       "2dd8FDeWy+/UmypqV2NRUxbop3QyZfLkROmEt8ZQkOMw2d0/ZLzQK6sgZbA+If5bGFg75wCYsg/k\n",
       "XCa+rn3sb3LumC/FWAS4jXbna0an6ElgIfmPvWh2BbRIzaV5mJUv84ehHadSHR8L16HsSdUMy3R6\n",
       "AtB8NGOqg/pmJlXAA3xdzAApIE4Fy88s2zgPKKQ9O1Sac2SdA3NWxkCUAlKLBrUhINo0mhOdYsgQ\n",
       "zcQPN4otlM+3WNf0DgUr9Vh0w1L1J/Uc0RBWQAiTmAs9Qhx2dLXODuV3Za6Wcmx6Hc0+B5MCRGC1\n",
       "QpHMFxGcZw+L/zgjJYt2Y57frUn7e8o0rSLMzKHy44OP8jx6bb/s2CBH/oBOMtOwiYJF/F11qLqJ\n",
       "A7Z1Z1W3raIwgQaJlyY7QbZCaPMWLT0cFVVTBwSgEVFJI7A9TNQfnSgnZ9a9c1iG5ZUJSCr3gaeC\n",
       "Ce8xoe9KCxSi4ieJXlvd7JFaaBRj4QVjr0N0S/UqWP8HO2YwuzHXtOYJc5WuT+HnELlLS+HLh2p5\n",
       "61VzitWYCHDjyBZU/JX7roC2BDlsYJqhe3qfh8tilcWR3aaxRutCClj+g1Dfc8k48Xo/r+UogJA0\n",
       "1bDYb4gqqmXIzETNf/v/AueYQTn2SfmzpM5tQ4hikYaWsWqDto1E91upZqh/g+wdreG9Xn8KCfI/\n",
       "iOxj7uPKa6GUswpRWYXJSUX12jreXK6ertjS3s57YjdjBcqraQEpmPIzasVk6R+72trPE6tYs3je\n",
       "ZCeayCsPOwDdCEKsyt6zyFz2OSC2tBjZj+fPus7nYtemo3Ohp8r9ImdBoXW4/8RP/m/WEtfP1UKM\n",
       "StWCYbGDxHZJLzsndT1eB+T/ILnfV2cqsXPPjhHuk+hf/XJpW5vMNHvvXg1Qq+srjOpm7R8kjqMX\n",
       "cYyTCUheyDgTibRjW+pGLkQ5PpHBTVXnMIbywSpqAL3yh+6A7SnICenR90yBU5Xm8aPVRTTkaTml\n",
       "CTKTQuJnwD/o53Wvo7xbAUFNKQNj9KUbmWa/NeHQMQ/jlMl9ThrtH8hAGm1RHtwMQzpeKRQULQcL\n",
       "xZUYr63ioB9MHeVpH/Pe+GyYaxBKGVS6JnnNzz33Z2RWpmGCjJBCMWdsP85y6zsrLrCl5+swpqI5\n",
       "yrcIM3RNA7jfaQQz2gKNIoLRXJRzp/l4JWHbdOdsxcNmCkioMJBX0Fv/jT8/EXsEWMJWymfkv00R\n",
       "uCAxQAfLISHrLLSsqnvNYi4Q1et2MsvivMX1UURTjWhU/curuc8GPnzclXRFKe9gGnUHWAD1ka1E\n",
       "X7ftxYuOvF/8qcqU8oNXr+5MwPGNqGwCeHgowpA84V12rJwdRcz6Q1xSr5AU3eNKxZwgmE2cj93Q\n",
       "0HHIv01wNBuFQriGpW2dKA3hyUMeI1qY09Yu48TYA4aFIKYyeAVgAFOig6QgoC5GipqygWXjasHe\n",
       "v6SX3pg+XuchCyEv4Uv/lAl2WUiKHkKlEaD2cg9p213kSkqZ2jYFRywG1PZGq8DJX8SE6ad/I9oN\n",
       "FaL8x7kRimL3JD129astrp2reuG6HRK9pfVPFM1Mh49xfyd9f0+eoHvFXDoLrfOKOuVUtUWT5LWW\n",
       "8VX8O2jG1Z7iPDq6EieQ/YtmnW+dUM0TPjrR2wB01X+b4zfqh0Vcy0nFhgKUSForw21tdHJcRjVD\n",
       "S/WAaAa52tV/cgZ+wfvvUIpSWp01j22rBb4TkUnJSq8vZWXaHTpl8HWCceCMHhDtTYVyi6L59+iE\n",
       "4GjXXuHG74hP91JAgIgybBEowppy+HzLxIFyXEt6VPa9NMMbUtks+eh1Tsw49W58EFtA4eo7AzHH\n",
       "0xDF48rl3IAuqTGqwIDiQc42Dzx+X1f2+77IblmAgYSKWT8Xkd1HjwmZuhc1+MqIQEZjkB1XRFCe\n",
       "bGnEG9poZ4cfix0cgDkY7Dp2xe1t2X1K+qVBU2VOA7ewU6QSW/hGkxrkqMgYEsTdTVOcgnTGwn2v\n",
       "esJlzBgucbdCfBJL9uPs39aPkbRjKMKYJuP+jWbUwkpRwwnV3PzE3CDfg+k5sZyBs93wU/ZM2stA\n",
       "+UdCh5FN1s8cyH0VzTgtCR+UV6Yq11jYnWF/pDKz/3FYWZlbmzEbtfLSVxH1KSTUdPD0ss8ZDT37\n",
       "yHeHmH46bQfAZrVTQO0GAPEDc/iUhU6jy8FN4yWo87tlheRsx2cTeCZaWaJ02trxfvLtWMEXR64M\n",
       "CNm9gpxEeXnX7lDihw5RbZ7rAbZ+FkrmsyOCxP4KfeDbgx3mKNZBU2uoLuvmNZTEE/zCi1zu+tKg\n",
       "TQULEEeyfxhJm7P0c0m4lvpUFeXvv88DZc7zn9HaDkIA2UF4q/OKdhOu5hShLof9MWhrziEdIK1t\n",
       "+Q3I+k4DV4WrfG4qnHX3mdFBxUwPSLmphWIFCcT5l6HJPu4K80OUb9TAeYlyrhkceS2ZoBhb0uWm\n",
       "hm/qu5dt7OblXv976rt8Yzu0ZLF3a9RXHcGfcT4hNNsm+mrJmHiOvWffW8gke9Qvh/NeIjWSPWu7\n",
       "hcdPgeBUo5u0bBlWKSHY9UvYg98mr5s5i8NG+Rgr1LPZ/+slnxUvlxt4nK1rWv5OX4Hxu3E6tScd\n",
       "Xe3lnB7+w10o7MR/v4S8dxct6r150azYQzmotUMdGVmXjIXHw26Quf/6Yp0IiBK1SyugzYvn5zv3\n",
       "9gf/WYVREEcPO79gZgewrOumk9lJRfR1GiooiURPj9JfNY6BfTaNAUi5EcGkljbbQftrUXDUBfnB\n",
       "eCYyi3eDBuzugTiEsmwx3H69/mBup02xRgaWuIwWFbIQ7I1jaeRjlJVEp15RoC6Cz0Tk3PmNTDlq\n",
       "2ySoxPmtTnOJPdEeREP7JtvBB55hBPnApQApf0sr/f4tkZXfT/RGVTdj24La6t0LPB8N5ctX55T6\n",
       "FlIHrXQ3oiQjgh/4TQrjXYIVySQEG1KmXSgCFNhtULEZjoGjlLWd+CVri90zJeZpEldfKouMlXF2\n",
       "1yLKw9Bujf4JnQlhgKCiTshs1scjM8jQF6LRmlMd/EJ0kgfUia25mL3NNzk8OhEH0w59BJsaMHG4\n",
       "EIcUO9Bxds/4RHC9RILHGlCrcUTpGXajVWF4KanR+BqBcOogfY2FRHAmuhSoZ464XZXB+lQvCPHe\n",
       "a6Er6Su279ThjkHfydFbaNvGmemSHKy5zPuKPtrfO9bghKWe6TB+oA0WnJOttoNA1FICrXfNNbYd\n",
       "bxMKkaazbTb/oHse2B7XU1sKNVQ57AhpXI6beSy6efiYZxV2ulweQ2dEdLbtSyYPeIqUe9IomPtR\n",
       "DkMs5JzAp25vKTwmmoxapgPAZ2ltqgw5Ut74yDyJcJxsyZ/rmc5HEWs2I6zwK/DMQD6AXAJQUZgr\n",
       "vqor0bXbo5whKZFebZm9hJgeGoIIaia/6zXRLcNRGnU6ZyRJs2Sd6+5W++wFIXtQSoKdfnXiCjT1\n",
       "NxLQh0fCpYFf+pkpSoTu4LGJwc1h+kftpXJxEBCoaszwt3+YojyNogkgI0i6rulKaxxrgBvn92Hy\n",
       "PtD5YorrDkOL9FLMN5HUHiEImEq8S1RvT+aprZt08mQY3PZWrGLKZKv+WXI0n4Tw+l5H5yuDhbFd\n",
       "d0snzm+e/4M2RHP5iZoX5T3GalCpShrpjg26bPqLjMBU9K3Y3bzt6XCotYi8PVE5+4TDjN9A9EQ3\n",
       "BA2U8EcHaOQA6Tr2LY+p/+w8m8ASJhLN8+jfiEnG7kw96cLB/7CGmdZiU3oWgQLxbR+tMnmjTQFf\n",
       "cKQKDjYCRcfz4Zk5DoihmJBmSqW1z8HB8LrbQaRyS6QmEDXzAX2KrVztbg0XtGF5MVr237wkQaCC\n",
       "IOchZhzUhhGrWNeYxk3m/wNAA5cUN2829S0PBNV6u4URuhfyBBoedsqCNUjcEtLyGQUto6FOQUsJ\n",
       "ssYVC2JNC1PwPxP22kozalnrKXI0WEHdQ6NdPzMeuq92rpBiiqzu3HYbi7pr15aT0sGYrH/e0qvv\n",
       "pzgBYv4Vr0k/Ot3I8VBimINBpIlTyJdQW1rxaxaKDhftRNDdqQTcOKKJkaucHLQaBliuE82ptVIR\n",
       "DSsz8OJIItkXMq/it+ut0QNKMhsprpb/UjbzcJnDL1vzC+mno1B3fpDjCDV8gnG4KqTtYTVNR84c\n",
       "Uklw3PHPxCJxQNlxaltFqCzGivaukwZbYNqDqp+WyScUHQFQvCgmSb1A6XCDordf13xDHPZ93Uk4\n",
       "QsI0vW3SctD/HrryDshoqeyxjfYDY/wpNhdQJzmC5JCq0788AkO/c6fBZAsOn8RjG9IWUJM/ml4j\n",
       "XyUGWJq1MOgoeLNLhkqlz7SJnYtnJ6/B18XQz6aMTg0ufpC0F/sLMO7t2tFAB/PpwaWh6C52o0dH\n",
       "y4TIDv5mp4bBiJv6QkyX6ZZiN6gT/6Fg44ZVuogElcXsIJOAHXm2U9wolGsq4CxIc0o9OiUgaYfH\n",
       "uToX2bO9ndTKzWViMs+1LE36hHX+Tbefmw9LoRoSrwcPW51bvrflVtUdGFnWOAhE0MFbMp/+kr9o\n",
       "v2rWj9D/gcM2NZmFK6pxTkHJp+fDm2ewEPatNotn1Wp1o+rzkYJc4oUbriy4ciX/qvTActNsYa96\n",
       "iBSxyTLgnr79AFBQ3/V1fH3icODpKSviKVtdNcOYPFvyFSuXrgUQimZtJ/5F+zstQTqjRoOPMxX/\n",
       "9uHkYCsJSau644EZ4NakXm4sximAjeVlDzGA8w0KyUI6moPcg5i+avDfZSZR+q1iQP8EJg+DQ+Nt\n",
       "zWpLxJldnS9khco/43OQfDksUWRRrANN1zk9KPz3OWdTjMU++bdL3DTmUyboJ3rTGdMpnU6Oeuro\n",
       "4o6jbnffruPh9UERFSnvYPS1B5imeo+HWtuEqO5RfpSQG4vEitGeQKrsUs5wbwquGKGLfyV/1tu2\n",
       "NSFjrbIlgVW7x79lMBvtS0LfgR3mtZm5VsoHDbUstjMWxIg+TqzyCW88asKimrqYXNv/C0WeUq1v\n",
       "aP5yvxT840eHpEKex0lp38Di21sJmlSE/eiQlbkDZA1gLp1nz0Ww9oFXaOvg+kKP87imAsjJa6SD\n",
       "zZ2vFv/02tPWYlExW26fEC5JdwFCnAsalTKyYMjQtc/IMUvybbROC/XFDz03bJ25ndRxB3sOVxZz\n",
       "qmGeKmapEzMk5SrMsRZWByU42JUheRsoKMjRxcxpHGqrdvb6GKohaRRYbWB3nO313/cQJT69nyO5\n",
       "oiVeYjrCBP1tZSxi8ycxFJlT6r13GomenZvqTyT4+Uh/0J8dBRjU9VvCMeVLVXKz9/R4fMvqQCWj\n",
       "1A3asL+gdd9X2XoKNGLViWleNB3q3Vx/LzG6vXMIT5e4GTjFwNHpNnyXnGa3ZouT4rG7iD8JztVs\n",
       "M7EWyPfkKDRQ91nRlBDpns+XxlsLmgpOK6+3+x5QKMYqn/S76SapSBFfj/sXglUilpvUv0PJBj35\n",
       "/KAxHbKGkV8R012EEo0VFES1De3cmJ6h9nT4czJeM8l32Nqx/BOBvU8PbuHXVDAwaLH3fllFnbht\n",
       "ld317knZ8dLode04+8QY3pKu8kk1X8DOKuowQJ1sTmLFO4J2HVW9i51sP3EYENYUtmGsF2Sdod8+\n",
       "0kOfKTy2ueMPndrPpoRzmnjaD/Uef/3hgTmZeWyveUNZVn6sO1dEMn+tgau8Q5llPTGcGtQi4aR+\n",
       "MsXXVu4XgC/fnD7qvoIdX4eBx4Ek23TSoDTCFtCZPrgPGJcyPdpfiBfrAmeY2nFE//IYostBDvcI\n",
       "EgPrGxRYdVYOllvqoOGn+GbG8mx84PbeVtVcJ30vgMVTv3mF2hxay1eqYiymB635Y3969DAgLKWl\n",
       "IM/wPaw1KvikxdvHMq5o83EGfkeksquVkXpgCuL9ndj+ve23CgMgOZDk/+PJeJLbrBJF3kkakLf0\n",
       "m/S+oPDX/GnZklGivWK+CWM68RP0T6bEEXJxBhBAnXvCIC7m2ghVtWXDk660RUPZUBzm9u7TMvjq\n",
       "b94wzaXOJhQnG5AQ17YDCDKmtgypTcTNwVefR72DzodL5x6KMzXx1qWLoxkRrDKQ2hTrgoateQGe\n",
       "sPHdLRIDv85TSKu56iA7V1h8xIIQcbWsKC/XV13QcnVlh2ahkOLkzXXAf7GAJnqtWCJ8RUCF84YQ\n",
       "oa7BgV1lDW4qYKADz/A1CO2aeag4FeRchp3ukC9JOVCdsRojYO7PL+qED4NU4g6tLhdE+G3TGsQ/\n",
       "t1cYdmz7wek/0z8nMLEKEaWvGcfrUryW03vDLVtAKHzXF+agzTCSqNk6wAg6F+Z9lJIJ2NLVuINT\n",
       "hTh1TG9KYzd13/zmyKznXOjPwlUqqXN++sepPeqPxWU7hR+xDFXUP2BFsLjy1R4Mump4DHmJRSXy\n",
       "LVG6OedsRYbhypKeBg4duxnTavFBIjCPEZRC9/O9h6oCGYTHSSIbUwn8A9y4Ol1VIVDKC+uSYVc8\n",
       "fkPXl7eKatQoodBGTfsvi7FaEnVrihPlSWmSrGmOb5zYZVg3UOEvJ1y3RfeYI2TByTa9tdcGRbHO\n",
       "RkSALf0oplVjjMn7sUM+ySo25JodZkrlvNnCbsHdYu0ams0Rj3q6y9y3Y+cwy1vWAyhCBBisHnTX\n",
       "vrgXnibKOB8FmERlzQs4x7Ljte6MO5lD+QZzXRX3Cd5M8fBPNrbzemLDQeIn0LQj/85fXwRtuWfR\n",
       "Kxe55JgdP5tvAhPoqJwBpqCWmGzqkmqoGmcuq38h7Om3DLzCd5b2ZGDF53DPMkIaw+fyGgc77wOl\n",
       "Y5CUyMYXUVZ3xQ54DdbixVQexUgTI76uvhf2hIHRdqot0c16eqGwmgpifdcj4juzajd+pMFqwEwW\n",
       "OVPvZ2JU7+/13llJVP/z+tX6SQVNSlwujX0C52b3vjvbux166fp8rYDwkn4FB5h8Uct8hKyn4RMy\n",
       "mEHGmveFycZeCtDoOctb85HsZbP7jvHugDrR6n190LLmJooRUG+fjDmxlNLrlZFiS/d1bD918quu\n",
       "mbbni+t49DWqaofSNAnLhSqbJzrFKyTV+7DIrgfa3YOqBdXCaGg4T+5q0VhnvtTL1DmTUYdBmOgz\n",
       "hLZGr4znmfmwvfu7lg0da2gD88hhSMq5DWTt4Fz4dQ70C0s2Xyh3INwGskamUW49c8IdYNbP//LA\n",
       "MY0wGbjXu10r28l3K3uxZwiud3RUjfaBz1GW2rzz4dGWty/K8Y+ZSbQq/ryUv6Jwn8B2Buvsn/gh\n",
       "4d8VeLvEguGFfzVBeEqBDVW5QzRro+uz/wjzNHHAENQ6+CotGVbyWEt8v5ztWmwTUOdQqzNydYON\n",
       "SpwddbQ24WmmHIwO2Ab5Su9Wq1yPywzg27tDPFZ1muzndUOYRrg4IHEDtR6uZX5Hr+cyszJURX1j\n",
       "3VS7UYBchhgFTLRmeM0LcCUk4vak9Wq9ygvjKazuo46gB5JpNxmmGY3owuFGMvfHiuWziH/ujtsi\n",
       "A2Rwz3aEcxU7baBAiu4YVZS/mdBoBR01fpdyu+i2OihrjgWlF+JoEu5kWUkHD530A7biH2qOUlI1\n",
       "jRLpBp38IVqC/4P4hpcWue0nKcYThREgxGkOcOhXLZxC8LDydhFxAjwaciajXSPGZP8y23/wS4MB\n",
       "3OC71DGwmt4sgyKLDVBMzcymTnPWWgowrb+mvbmq5i8jcugZEUxkrWJvaaPJJvcTR8qKKmpuzf5y\n",
       "7T4iFKvzy2KzXn/lMDyHVe2GH/5eUZKLWcM+hJZU1klcVP49rhdJ3c7UVewgnsH/WzBPZglomiVY\n",
       "z5AmaeC2mNR5XDljyr4OGp6DE53ySOQmNLn3fEcxAKnROVHx7laIMAZRZDPm1kKwfSLs6TbC8BWw\n",
       "aG1N9n//M5wtMzIUpLRp4Byj+gt1A4C5KmBxBb3kpfLlpcgLGuOk7MhujGJ6cO9iaPef5H6lZDbi\n",
       "s89zZ0x7WBqQF2O0kT/pZ1yOmewhbLTAfUcKzoP0GE/yTq1njQy/T6t8bYOsVBIv+m+yo6uAQay7\n",
       "OuTX9a2bRy+SdnVUNji/evJ3TZ/dOFrSZjrS4QRNfWggOoKiRmqSHtmmW5i7TKyyV11nexpiCuI5\n",
       "1DhikUBTJ3pTkgEeGXnAeWYDbG/ifm+JVy2/lt/wGTajiUjPWJm6/o3LLTxjD2zHZXgkUXF94utQ\n",
       "PIlyQnI56KC0hmmYyowvyhZeesFtecAHS3/HbTHSL2NFZPb+u2Cbt8Me4cnjPOORis9jtQu79SkL\n",
       "ld3CJnHUBF2OLqdXbxFY62cgv1ABsflftiUy+kr42Cb0bMZ4RjGZaHxvP27J6BgmrKH+jW9IdSJ5\n",
       "Ia1HE5EJd/E8uadoJ7njuAJ/RDC8kNOifkyFVclDyIGsrI7ijqDbq3fdQuMZEkFpZpTyIGFAypKy\n",
       "v4fTqmWPSOQFsK6nzSpXM1JpPVcXWTLJaOsaZSxv//5SPtXJsZfFxvPYij1v2QaW7y51WnVQfco/\n",
       "Os3XsiiQ7jueMCujXESwWZ6tUS8mTRIl7NQhTpI0uyhxb5ZjKzwWf5hfg1+fm+xWQoki8kf1uz8u\n",
       "MlHJpkRmpo3s94U/3QeKqjWGj0dERzSUxezkO+OS4djmBDkVslnyd7DzNDBjDPbgS/hIrZjh0vuc\n",
       "B5IJWmOgdg353//8IVMeY7AkSCNjtK59CHYc0ocNA2Hgueaa0wMBXQE7kw7cyfrqetf3FRAimAJQ\n",
       "yHf9GI11+khjzs1TndgiH4srrxuisVoZd3Ju0QMYpN/LWk7CupUV/LZu4S1zWaL+/A7T5y/0CB2K\n",
       "TZMpZ4NNO4LD1gFnqScMUop6lxy1CX1ly6bBRL0bVKejWpoOUIm91kleyAgaRsLG6SAzs5PglW35\n",
       "4rjaAoTDe93xrMWT9i2ofI1QToPKgxnIfgfTB6bPCc7upa5ook0go0ISrLPUBLIOzfHNgxDnucDM\n",
       "ZddUJn0XClq9Js3UcWlVgtGvGd+NbTPYcgQyFk54kaQrojN+zAeO8LQLR6C3jNvd+gaK47aMHG/a\n",
       "foQuYCYMuL4H32Mr9HbdVvrMuhPFdh7RNS7WuSBShqAr2CszAsFJntKJnqN7kbFmRi0llp4dAZMY\n",
       "cvg0LnVhtT5xnW4ufJJXxr1ByrAssJcaqPNTRvowyBIOYwymzvy/vg9Sa0nsaw92unaIeBE6d3h2\n",
       "mGw/EftOLRr8p7pOk5su4X6LtJcuQslgnGcRnF/+pvJ5OEXxRqd57CTosEref38bbxwsN9RiL2B+\n",
       "BpNabdJiIEhxOcTknRf/2yj7XVJFG61FLYTJIDGBEsrM/2zciQSPXDxl9EnEQ+Dlx6SP41i+hRvt\n",
       "AcWx2V9Wnowe7Yy8hI1CJVPLrqXciOE8JSOx9VqhaEwrDK9LmwcJuiZXU4TGOtpWaX5s48fErswC\n",
       "jU1Oyz0Bb/SOKzd4PP0ev5JgNcK7dsE6sNn3q0d6kiCM9bR2vtg083TFFwSbl1SBuC2IjTL31QSM\n",
       "NQeWYu302WRh8yn76SYUtlXp8lMxbueFKWsmj4Ni4nSjhDcCUDU+RS19b9GacxFQZY3INfks1I2a\n",
       "Ry6bkV/nx0mMyqzOCaBX8+zk7Mn43TvHWIR6WwH2IeXz6gP9rN2kfwxf65BLj8t4ubFYzXocXR5P\n",
       "9G3qKoltBTD+yqlQte0j976vQeYbLu3BwM3mUogtPjBlM4P84qg8XiZAbqFdSOf84LNyC2xoAD1u\n",
       "iXx3kycYPmur7aOv/2rxS5vrCkqbyOIjZCflr4Q7TQghrSnS4xuygBgovsLlDg3seOPQWjXcxAUJ\n",
       "Bt4KaTrftApMfy7EUAKwV+p/2nV7Bqfsoubk3cBqHk/HdehsK+tRfYVn1azFy2/n74VVoPVEkF3f\n",
       "qgM+zuO+DViXK5RSPzF1P+M9NnAuvVO150W3Jlvt7WHjenrtspENJBRxAIx1agM0u3C8n7vc9vmd\n",
       "EyaBI8I+Mz9kk41T69yLyZMZMVN/iQRJeTWN5YoIFrDahdbiMHp2xmnRvRrCUM9wDT+180pFxXv7\n",
       "nDdc8vzwrXGLcCEee2tNSqM754l4ytoBUpiEbP0QjVIJ7tJ+fnIWCSMlMk3EDiL7qfB8KBjBXiFP\n",
       "K/eij9tZ51DhK/ffhVRSZB3f4Slcd0BqH9jVQ3X5ZzF5NamFB/tu9eWewE0tfQQaBKoy1KRj1urk\n",
       "JgMZkfjp2kt5L3paLBiS2R92C8Yh3IOqfAjFn/yxsjms4h1wfDkup8w7Nvfpsc3r/xo1Csxi8f3W\n",
       "GJMVxG7PdtVdzzSFXd+uvgS5i00eegGKDD8/op9LdKdEiFBxB0O2Lgx83j7WLNOGDB/PuTE8NYLg\n",
       "LsxttLfA/xWOfhzKCtQThMF3fSbzYX1Be3pWcWfBpEdX2/2kskENFHRpqVYQbrW+2y3yk37GbuUJ\n",
       "XL/AsZH5EYYzboM00dNpv/nlpy6cnHMzV0yVxIlxrOD3xH8MQAUuIxo7+PsVrXup8u+aVrd6+1Ux\n",
       "djcKt4a1arY3TtJwrLHyeCYpYYea9RIRE9ei1ACNuI0rQCYvow7b84ZIsZtNm98tfw32AnHra4dO\n",
       "Z68nXnzY0BVzLTlohrQPNrWu3oQY+wLmrvE//C4/V3JY8i0RjVq9aR7csgJLn7429DwuChwPhQTm\n",
       "/GH5KCW4eOgUbx/5ePqV22hVOHePXbSdwd65H+lHFr6mZ9M37iLzp2bi4FqaMC2RYh6Aq0wmA85b\n",
       "/7NnE57Vcje2ohtWPmUb3j9Zdf6HMckn7qGqdTCYxVSg5MEb63sQpn86rPuFzM//Hfda8Ym2beyA\n",
       "pqhA2eUrmsEW/9lIdoqe/Zq8LEz9WkClsD/melAwplNNsEXREZ50rXCqfHiOCEqebqh4Keo1LPZH\n",
       "tM08Ipqbp7Z/qN1JJCyjpRFUEfIyOulOm/ULmUylAOCQxozd6ABZ0g4cSwURvU1K4IEFLqJnjk36\n",
       "8sTrOagHtDb2rY51fs9RZYWcDP0zCfP4pG5gx/kgZY3INXym4liws5QX6uFkwAqH29lakotNlRV4\n",
       "CZhW4w42EvbHMA2TSXMTm+6bZ7/HQ/h+aTbO2i8LPB0MLBnrrw8oW0x4gPQ8BcOKis/jOfQQmAb0\n",
       "xhGpe5wZ8CIuiPtSKyJJJ73FaHHbjtTJRcSuFbsbkQroEn+Q134zTRByEKEfj/BAoE8gVKC0npnK\n",
       "rfOzTa0ikb1syWUHY4+vH7BUSCcLz7gQZwpR53vaTW6YFOZGR/MAaeTdLp2Kr0N0St9ASk36P6BA\n",
       "ralji52gghXdROqWU7FTUiWk4zSh/bgf+fw4+RK8wqEeVWxSoiC1lTsJ8fMue9i9pGdJoFz1iogj\n",
       "r7XH56aP/Ht06Z8nPA4WUON6WqCHYtXEo8DyDROdIPH4jhzDuZlBSThP9ezsKtw57xezM+91Zk4x\n",
       "g32VU+nU7uqEJboqLXxctOrwIlZWB7JUMbi4pCPZc3599fWlTzcLc/c2TKA27qSlvuBQpOHo7pmR\n",
       "BqkqChTolVUuUKYqfh4iJhARiiXIOmYkE0s4eNlstoHvRVO1HmfvQx2SrU+ejCSE6rcSszdaN7qo\n",
       "NHVf2ZjZCE3XPg7L1WUqk0FeyG9WDFpk9uCjfmcsrJR3/2MSspXvqEaI9hxIFShHArx2fWEDtele\n",
       "8RZWso7hv66ej+tL9t/5ay5gxjSLciyXAaj1GKcnhmBv3MgQjE1o5QwrkJ4Xv2jrWobrzy+qU+A4\n",
       "VpyGA1GCLUZBLfvfYrdSOiyoxs92kYUmxyWNF8WuDS/5qh65T22VCHWYpq2v0CL18zAe4PNIk8tK\n",
       "y4DCIgZi4E5VvWNMDWZgc1piGQhW2YxWjCEpGAe61YdTDYcD1LAkJgBtDm61JwSOatNHwV+Mb8U1\n",
       "i0doDQRDHCpEhPFOkUEcTWas4eecym0L+ehlvb45V/t6B3YIdnmx/VufeGJX7LOfh/hPmoC0Jl4n\n",
       "prQWg5Geox96EOaQGpz/BFguGQkBna3QwdacKjc9OOWpDBEtxyEQYduIXc61i57j6iovPcyjb/7p\n",
       "WTL6OAkr9XGAXlHCcAe4vFmDYJ3PotRA1rksGp0rRIn30kNz6+tLymoXKPX484MMmJcBDIYJdNBz\n",
       "HPWK4+gCG27+Xck/m7Zv6hQnYrgMZBXc2pEDfnkn41P0b6eKRoOerzOw16qj+XUj/9f65iaPB7dn\n",
       "kaUUZpRHQLnthBlCNemCyMnlhCaL3IESQo7Zr101VAoClB/tUMH1SbWMksnulpenFYxzG5B69oOF\n",
       "EnYIkoTlEeGLv/ie9vudJWU5jSA6Caj6fPFTcX2iNXbDo0+NOLjk4K438AYnMBZNGu9InEnj1/86\n",
       "p4dmlJfLNrbK4OrbpfjIrS3sx9QErxF86dq8RaWzM1EgJ6znd+hTtR+1wV5q2swq94bJyrCiLLRq\n",
       "kRJGmYjCoU4zhqZmGr9lj0aDGdXvdDj0BQ4laoerDPzufu2Gk0/HizCx1ZDlDKhKqlFjS9z+ouPC\n",
       "2DDLxuQ2AyEwszgbCXh2581BL9RgeElN0DWe0Y+hAs0IJFCef4oOIhVBwFmACiWPg6pq8ANTHZ35\n",
       "2Pf+PIP6LFj4WfD9CCEhFG2cY2Jf/I99H9jqz2OI6/uvSSoyI3cKhAoUIyV5g3g3mw89eW7+W3xq\n",
       "cSiseZiNKkIC8+9kGactxgxqOg0t4SAA8+ABQeDLUa1UzNXdJJDAjcwhYUAaMvZVePG6UZM+hN7p\n",
       "esLyKUfqB/S/wEnXOXCUTo8rpGDJGyfApKAm9KyVKRqSt2srE6UcIbgKNXxmINfW/RmnMRWyyDGi\n",
       "xcvu+RmuZm5tX5QVWoltoPtOK0wsZnc2mQLXRCKJsQSE+2j4803WZo7LkvG89Y6drX7PgZBTG/Gd\n",
       "uqVWT6fVQEVAP//+w9FgGecV3gKx+wqf8xSd11PvuK6w6LHSLDtmOR27eMvD5fn60FsrrzVBfrUK\n",
       "kEEenkidOjeRv3K8Q2eKigLepT+2b9aLqu3MtYBMXCGfc2HPtT7VBVu/1U0xCtSZ4Ho/ZjMQsR89\n",
       "p0yozvsTCPV3j1HpJueSAelguwHjBk7XZTKf1pt6kZLAcZD92V3JVWX29XJiagyXnXqTea0ZQHPa\n",
       "ntOWFLBjcCIZjZzTVjXGjFwc8bMT1ugtWlagg4/SGCEAOeDSiQQK0uIQMSQxtqG++g/d9R75OYXz\n",
       "VTEMoR+A56+njz70Yoa8YuQZMZLotCxIV0kj0mF3LSeFyz97x7emdTnltNSHMFmhBPzo5TRu4/Tw\n",
       "LCLRfjfV65DiIIJkrVKaRiwKUha7f85S+NSnTB7cA/dta2wBCjgTk5rttzlEK3Re0f9gdkMs4kVc\n",
       "NsQ9paXj1UHkHLqDsBsIK6NIMoFGD4CZU0TpnCYqSRDdZpcBWianZ8j5JXlr14VjRLK+ipaSYTR7\n",
       "hucbzeUocvI/4IuAdHF1yVUdUPdx5kgOcxlWsSpMVpb4HntmcfP6Plsmxx7+tz8hiKJLKIykfKpt\n",
       "8cjZ5rALQeVzzRkjkqa6C4qTi6rB+4hs6JS5EPdnfdrUfKkn1t3pI1OLpT2zieJqNmCPZ47q/Ybr\n",
       "c6ogmeymco3f1GjmDaslnzxASMggdVl9Tj8wJ69KaYV9nl/KP7sSumfAQx0Z4bLr6Nlpjk01NQCY\n",
       "vow7bjxjh4l0TZvfIIKM4pdSPT+pV2I13qT7Vy6WKqzfBjA+HKZs/HnUS4tDX5QLFjV8AnAakPLq\n",
       "tLLgo+7pwEH6TyAyhUAbICYBVtR45yjKGFujjcLhUqZrqhkp6r87RbdffUlieZGy2bpigWGf6/ay\n",
       "RiqAsevgnDEv4yKLX6720gXVwF1Gg3HkpH/WXgdJae/B2GMZz3UCgvBQ+8aLfM/yIcR9sVyoPxb9\n",
       "ObT9qEKmmwS6TIFjQQEbndiqvOpmma7q9ro8662p/2c49lhEF8rjHD9t/qDUyxS4TsjFAps9nKjO\n",
       "HcM/7pmY5CBcdoz8+24j6uvn+qSOOmly6l4yvJ9ZVmtX3H/2NZrzLFc85SGwIQjITuTehRDWQ1dn\n",
       "qOFxxlI/8d2FPRhvQXqnDiSCtK3aXUSWf230lZBLeEkxS578FarVLc9kFrWgRbXpO+/UYpmsp+JD\n",
       "dFj/ahbIkeCmtvij7yBXal5YkAq15rcjatTsUpcpk8uxlUgodsZPpWcYglGiooiUGMq6C2RMQ5TJ\n",
       "fMR+RFDXn3z+pKasl6lT34gWj7376BMcG1B0QDyCxRIAFICcijM4zey5MCcl0OBCXNJ2P48ZXAFM\n",
       "HbWA8wpFuuigkFwhte5Q0jWFHHt2EAdcpOsjlEkInhnezRtVsa2cvTo86ozyttD2xRjwZ4jSyHdB\n",
       "PaszX196toB5OWC9pisqHHCY3oLU6ALxaYfThTj7IkFyIyTg7q576YckMToWznkaJ04P/4tzAxRP\n",
       "L/kWrA2/sZ1WbJq/Cdk8ff+a09J0ERxtPC/ySo8biewkUCdHFcom+LDQV+Fe4EXytcUaQv2ECPLT\n",
       "CM755KAvlfNNG6Gg3U1Zw76aCCI8l2zfo37fmb80pTgNhe9rpk8PO4lf6zl9WSnrDQh4Yau4wXp2\n",
       "wtg14d13nCMa4sV2TjBMovmbLsHBU4v3iFPwucXJjvi3R6v5HjiR7kzHVrf/UHclCOnHZc6GSIVK\n",
       "eUmP9cPk+Dra7PMeEG5WiD3PGVhX8hH5LqrvOR6biDdlBFFwE81s74gJI1F2BpGcsX4iBgtYsQ+r\n",
       "J49jLUK1vdIzDnwY8kPlv4I0y8Ywii5MYrM47bzW9YPR/SwosyNGvzIcEvD4TqbWhzTAErXo8kut\n",
       "TtevzhYCj1z9wW41fGbtQNmKBWBHauGCID1zJDsrihyVe1YL60x3jqlp/ieL1bP8RnjkmEzXwdFa\n",
       "AhRQs/0pE2D7YImXKQsncoiL0aZafk3PpEZ0H/g5xyXFkTVunV7UvdWzKtVbyChInNVsEToMu2UN\n",
       "p75ErotpiYshJX7bKxXOp/yBzda1IJFnQDZ1cvSaStq4qeuImIhMz3H0eqqm7wmY31VIgrNNvGk1\n",
       "fmL6WHlrD4HJwOJ0bKG5e2i773N2GrbU56swyu+5CQYzmP38Atz5utp139bW6t7inDsAjScNLpcP\n",
       "8figOtuaDAS8ith+GvqBA5QU0qr65vPnr7w3+Ft2sDs6cZFuzxJOnkduKjcwSXh7/3Y0yUpshrCG\n",
       "9iTv+vlLjPEcxJNbiueQYuNUfAO6FN2oylwqxkvwX3NsY7y9AnuaCh+xjOR3IworOoB0oCCVmstC\n",
       "NsOzBCLfLfemh9AEj5etstKwLepwSZpoVXZKJEv8U1UEbToMbXpTBGmj0VCXwWkJKBfoSGbnCZqS\n",
       "DxeqgfzAU5aY4P5+sNQ5tZLN3l7UXsrNgEnO2U+de7LLy5jOLIsCrjJfWxL2xXCPhdycHgX9wCA8\n",
       "9p3vKGe5K7hkZkjrIrbjuDBMnFYLEWi7GQ1FSa5xm1pgs1oMHgmzur6b7nPAK+BDaqMjZLiKaWRC\n",
       "EISabiH4xhNMIANSikqJdFvK9c3NmDbpCnBBvkDmv/mC3JWh8ZDDL/zsLsYE5QZfpQ5/SHgHBCaf\n",
       "xU78CsNh6+kcw89aNhdWoOa0okUvhgwsbCJZB54IqMNuReYIEy8ZI1PAkvsBEso8DBsWY8mPG6IP\n",
       "RL8dq252+OWddILqegugXFKQXx4UXmIc0QrU8ZuKOZmivi1yiIxkwHRHNioDJ9mXTy9kksDqV5KY\n",
       "0TB45HVuTnWSOcgwEpU54n6CLztc3k2euoOf0dZzFyGs7pgsUAbc1WFIidDLUvHKVs0wz+y8rY8r\n",
       "2tvGvIXxMU7q+PLEYvf/Vs6YBsWzWxgboGglm7klIWqja8dWxEtD+VTEctyDu4Tb5F5g794ek6xL\n",
       "AqeGj3LfKOLn1e1ax+JzIT4nidU+cfUZgytA4ADkhgiSsCnUmWlN37h0NxJaRx10W9mZkMOWRIt6\n",
       "jKqrKjrYKkFfp1xF0XPVTJozdhVqu/xZsXNEhMCra//5PIkLTc1RT/F/ER3zwHKkzLs+fN6EXdF0\n",
       "N2c69tN22fLpU6elJ7vxiFC+OPQX0UlsaqkVkkx+mfcbx4KA2OJ9jJ7UlEkaFVl7jQnuyX6eqUqV\n",
       "J9CaYc2QHc/heRQ+FqrYZ4wnDLx6/b2sMp9qhc6s4PQvFdOqOxWdld1ZX6GJS65dohiVCjLUn1Zw\n",
       "voY0FXIlJ+xlLiBTL6l2b/uScu2ePNAKKf/2fC1A8+9GqiHRcGrNe/DEITijeV8hwTgODVLV9u/D\n",
       "Lb1iCtmYfruKBJN0g39n8V2gf+HyZ+excz4FpIBGxk7G+ok9ij659Nh8FTNr8HEhBGID3OQqFvIe\n",
       "iC1YLm+cMOpXlwU3X3i5fuMaKof/PBcaKzGp1eVtEJznO/raH9WI3vjBifloe1ZNAP6g5WBLl9gF\n",
       "a0/APT8tiZ2PDOpLIDBKDmxQzBf/884Ef2jiYS3IXmsbzmpa/gnmmx6nsFhOTUambHTCfSNkhq4+\n",
       "ljgI8/zqyXLNcx7fOQMTghyEfliyEpseEmN3jLvu1jJ7aDeoE1IiKVVcaFFpFWDYPRr35bAiIULq\n",
       "/cl0DOhfx3e+XcUkyfXHUJx99skwTq9LuGuMmQRmI4z/6JhA110w0/tI0HPKzjUgg5pyehG7eR0B\n",
       "Cgd2yGA0LMfXv4uoN32+eSMkpfaHCZUXotRThXAVtFbHcU36ymKjWm6o+NLi+WsZU3kqd9N1Bt2i\n",
       "hUx9FQJgtdDs2kSwxkoKIF2I7kTbx9QKOg/qo2zkaMMmdomd/aFh966WQQnzBqWpkCnq1AifLUyo\n",
       "zqasmSCsSS7L76mLTpFrnGQA9XQLB+nWmDNykRBxzxu1uX47S5u6X/HW4qwefTasXR4Mx4er55ci\n",
       "MfeQP+tT79uLNiBXeHD0kGMQoM8HcrdzjD2mMRbT/yf//m2iEQ01dbHKy5oMNMGhd03PdO+tJt+2\n",
       "B+KBz0CrwVqHonOk5o3ZTQ1RPU5xVmuKX4WCGQ7Tif7h2Ckjxkt2Zmu9Z2xQkfUTrB2/UhCOvqMc\n",
       "ebjKmqtwhFTox92LvVxYunwrynz2BwQhWs4rb1DZDBtxawUS4KZwxRh8CJhY4tgkUtzbvZDwpi99\n",
       "ct9xwmn1iOlmvpg06HSovoQOfYwQudIq8FjplTlY7ZOH6+dnaHtSvtPPIVGcySwnRSCXXtv45bcq\n",
       "pWJAUUYp2t3+Ilz/2aYxil/f/NwV0axTJBCUb7tEt0s+iahSl+EavS4vrGLDBlY0KhleyU8UkYWh\n",
       "0QrtMFItSun14Qpdt8jgZ4iOGGjodLLbj0w79+SKc6JhlM3at0HrwUTNXUHHst7Ro540SixM2mij\n",
       "5r+ZLENKgyUhdhPb2YKOMTIz8nJ+kLoN5ZEqslawKGUtXYyRmxrGwMO0PQBdKdmO8NPSgVD9TUsk\n",
       "zQEW7ymlNRJRF+xVqifOVNZVWtyHgwJ9GOG1Ni9g3lQYlmAr7luOJbRFChs4l4TYa/YQGG20k8Q0\n",
       "wUuNvJtTH5yvIqc+VW5s7SB9AGbQcgmwGMFFMt/VRUWojz44UpTPRtkS/a8gmxRwwd3EyWY18yiZ\n",
       "8Sl1CYwYD74+ZZkF6E4KzsVxQ7pJrnOWQmo2+b/rBGp8RSU6Y/jjTzubaEhd0JDQvwBHxKjQbAW3\n",
       "SDnkm4y03K8BkgR5Ql/sSQd7b/pr9QzRvRnwWXubPy3Ifqt1ZjxS5zE7lX6OOJUi/A/aHL+EaKEC\n",
       "IRB2waotdaGGNkbkv0kZ/+AW61EdjjsjboiLU4HHmpPOVwTTfz7UN+Vvvc2YOZiJgHn30Smfp0UT\n",
       "Uqc2aYzo+6lBJ3YlLD0DIlvfZVD/9lAWvK7rDI8Nw/FPlCNYsPAIMKhrTYTdjIstV0suNVpOPLCv\n",
       "0W0reT6Fq0Dk1Ip4M9SaGDbXSzgWyobbWs4BRqQ+zCYIuXMUjo3j2ghJMKaJkDKtCzbB/ql2rp2j\n",
       "MEjXTEcAIF5keLxvl0yCHcbt8o/E8idSVT0JP0Q1UbiEqnn++GYUL8t+wxK+uXiQWqUVolHNj+gc\n",
       "Lt4EPzJX+4nrRzJ3U+pAqXTSw4JNCLJ7UKbBBkpk3fQUcEmqAVbo+lWI9XwxWAlswDva6AUwuvfT\n",
       "0m1BEGvhbYMoUhrITO+M5nSxXaCqK9qTkeki4wJYs95BPIfzS3jnqaGuQowyOrCc5RXTVP4+CiIU\n",
       "DJQiI8IJE8I4jpG6JSO3wgh+gq9Km7YMq10GEkPixWamVVkYLqX0SBR2vXe19BtNikbqlem1T5CM\n",
       "LdEF06pVcsIaSdcb2hyPMIKISaHVOC0M/ORook+Q0k+KPO5qy763d7BouHiPaAzTgu+vldSL+HLw\n",
       "zDYXgNh8zVsWgQT+uNW6irYOsS3Yr038Pa7sdRN5ThhsCTXnunwgHN2wH7A6Ip6t4RuGSVo6YA7Y\n",
       "oiKdOfagv8TMeG5I3Rd0HYJPcx5WLKCu2X+n1JsXN70AYnag87wO7wacxR3ZEyZjVOYC74Alk0/h\n",
       "YoX9fELJsFuW5KO4FljWPbhEZsEz6UhHuArQByoYfkrz8yrOBxzL4jTDEBTsIURl0/3ttG2NfWYq\n",
       "wNQNuAH1Dr+z6v/2c7mwyxLCdaTVBTV+oIuMlsMdLvY1HfzV7sucQ1avRbeMUwLLOKRQlUvIr5nu\n",
       "oahT/QsrHZlO1MwCnN0CKzKo4a+Zw6U4r0+SIeXKvZgMFG6Y5jL27RxK8/rTW7Rq+R7o7mO8r9se\n",
       "7VAeuPuLem4XRkft7Vv/itlRDqLpnlEhSUFoSsdjTaMEzutJEjuDD3GH66GeTsAF9uj3P4ANfgUh\n",
       "C+iyDFo8yrrRN2c84KPZaCjha6r9czj/v50wAE2uSaxZ68uB7RgzrqD9I+n1A9yJEzs0rtf+nJNB\n",
       "ugm5wmbQToOtoqzjJgl1ROQGUSWFyBmyzWlFtu05vzXHdAo5qaBZganRvSc8P6oMR59O4OvWognF\n",
       "pAP7+7gAwT6DAt28HjZUDUd3n7plikWWu8VM7gorrjYJtMG93LQ1uew2NWnsvmSDjC1fsriV/4Q5\n",
       "AGTiI302z0pbD090i6AIK82PtQI24x+AXC8Bkm8AhqAKlMIu8F2dHdBgh7RVSNTwSfhClBbuw5GM\n",
       "WUyWCwt6ByExGiaBgjIjl7f5V3RS+UFNyfhASDdxQ5JkLAzOx+vvoXqofHH5Z0eu6W4R6cMKr6FD\n",
       "G9Q0i2TlMWC7wL9LoRvj0SQUF21/WkfV1e0kWBGXsLntn3KBqpCA8n+r01JdTAGYzJAjFSPZvW/N\n",
       "/tX5GxMW7GSHqMXgSB9rzUAKjpOe0RdH4P6A2noVbKDGQv+HzibK7nFgBFXfIgM4E16k3mV+t8l7\n",
       "ZFXP8be/55doj2UCWPlwukm+qCtET567E4FGptPTbwiHAJo2U0T3wtSHed3jULciKjpoEV+hUN+u\n",
       "qfPjWZeCPrCd4fyulDmrjeP7g11OZEyUBkYOaidPnDkOUnsFVeHhrqWnNzvKuAjFQTsloynW6hKe\n",
       "TwDAc8KySBzkUR9V6rxEq/wHdHez2+R9pUDzHb1AM9zoIayGre/2GhsYU6H60oqiR8yWsY/2c0Y0\n",
       "/DJp3Sybw+Kzrr8LgYaX249HLK/4DqPsOgbecs7gJ/l+66LFKr+sgf/0jgfkh/I5cDukX+DAnihC\n",
       "rqIq2/BZQSrivB6JxAENeFZiHyIE2NRBWsoPICKjUB/0Bh22sxtYFwl9gF/iqDq2cztXdg5N190a\n",
       "JOWD/ARAU4CzTD/MCNFwUyYeq+2xd9OEuOlFyrJajpt3OX6nz2cPQgdDEjlOMTxTSqaSTijYjq3z\n",
       "owStOPpScSd1mhstA6ge4qRbadP//vHtanmkZzLamH/sSiC9vqvEM5PWFJb9hcTth4IHlNwKSwX3\n",
       "OddDFdqbxrkAtGXFkWYCj8H+UA+2z+5zYwLZt77azeAVdt8URg+1uKmFThKfZmZIHgKN0E5RaeW0\n",
       "K8IRA+NsrnHvB+HJv6qFk8FsRUMuCP783SVPKBblxW985qzfOzTr0HDZ6hsJSqMqtWITtR2vF/9l\n",
       "Rq2g580Igos8iZpUAm7rocHuayPo/rd2l1pCqobCtor3oayPbHJqOIwbHlifou+F5ZGdT+5yUU8D\n",
       "/393WF0pYTpThi6rf6bNkIqy9Fxqkf+r0fTLF306AlpuOKGOLrhrseR6VcnP/CXovMeCUCMfA7Kh\n",
       "Lp8ni5Lva7RSWs8034S97oFr3qA+PTVzi3++ahNLXGxk7CjRGJyJ4qrDv/NTuKrXaSLVNGdDbw9C\n",
       "Dw4rRsy2LMYIbs1bGM1g/Dc0zNB0Tns26bQovW3Lycgz+Tvx6UE3FH6rqSOQlmBnSdOdTSvWgLLn\n",
       "MbEg7zwoly9Au+aVjdgdTzk7IGAr+R+vLZiP2kxN/5wlCbMsDoutoIx6t6Rl4Qbzh3ylLq4lmDP8\n",
       "g1rJzCIsWBz5XLPqqYUDdq+Et766FM6ss0ajm+OfTkGH6SL/FlwhQssZVxPezykxajyAmu3qwUM3\n",
       "TFWV08L8zNoKPsuw7AMTBTXukbXTOD6pZTInmIlckY2muX4z8jxIGGsjCReE3fWXy8+/u10e0r+0\n",
       "IADwpU8F3caEsWcDV0whlEi3dWXJQcdpi2zh+jgO79Ycac5/vEDtbayRweASG5y4w7QzHt9HALXd\n",
       "/BESxOfUT4ZmgQVEaIxw9E9SLjdX3FV5Mkg2PR2Q6f/k2HdwOw7L5DZ1z94bUeAV89vTcrkjrpnm\n",
       "DGVn7DGXiQxMhKAYCI0Q2wq1b2febT+tyLgCoAlBd1WkFuKcKcSCrMqzM+UEFZlgomWDp2zWJ/Sw\n",
       "k7mUaQesG7+dCcEY0LkNiEGsE09Q7NxbR2ROaTCP9qXbnJB0YXgukxDDPyiMsRde4sqaGvjsjSxZ\n",
       "T5Ha7l7oGO1o5kUnJK3KxbnCHzwcljt6UKIXERg0IucP5Tt35Z/vmBSC8ccRWwsk9fmQYlGYG+Us\n",
       "vZyD/9rf+RyDeHhEoLhg747FjPwSoBbnfm9gYiyHfe7ny5p0FZh/gV0DJrYbaIblVVtoST4ZOo00\n",
       "N5TblOM/HYkF47Vhxe4tq+fwme3in5gcO6U0NiFpwkGh8qGQtkdniCMcPs8MvSMmyWTXEVFhddF2\n",
       "TslLREqmoAbr3gSW9Va/lDN9OlzFktdjNqJCzpe4ixwe7BJMo54LsIqh10GJtqiJP0y7mPxmfa4u\n",
       "cM1ileE18zkg6IIETJciCw8QhgtZPSdhkVd0spEcLDOQsByJ4iDeHAFF5Ezl2FEQPlUfkjl+zxAf\n",
       "cpBzgx9qj1zbQQ8ORqQW6Enh3zNzc3itIErY0NEArIoPizoea76OQqiHDw8uVwaQJTlBNcpoAHyi\n",
       "XV8rnuL8ZgnRx4l/XgUUxjjgb+oYe88ZsION4sGx9BVAra0dIfZvwdjd6wLICuc4bWm2T83lW7mm\n",
       "A3W3Vfwgd8/5CQfVi7TXcBYqvC5bM28h524fyNu3zYu5CqQmJKTtWkBbF+qvoxTdDcOepOouZzuW\n",
       "dOVpi/vkAIvcBmfPg81pUO5lSW/563AxWsR/Zh4IIkS7mVEA3TCTq3gBHPmssYRAX3e1dJT4QG6p\n",
       "uDwpRBeOPghVI/XTtjq9Zd0znpCAMysUb9vWHuqxJdnBAZZAngiswZMPgF9JSgx7WuAomn3fMNaA\n",
       "8mZT2SdxhQOZmK+hjCXLDVpONGkSQndJBxLwigEoXuzUWxYBD9CWITWZu76GWNQT31UWRRuYv6AH\n",
       "whDyP7HshUws1JSKEkmlO3gguN2noe3MlQXuN+EQb5VfSnJeBSAa0CfB25q+LANh3O5SsqCBPH2Z\n",
       "YL0/xG69uMdOruzCAUCKWebjLrQmmir8kt+kX984q3JbEAbmWajCxmi+77sUpQfXnsu2sXFkj5nx\n",
       "M4mHHUhENwcnu1AnnluDfn9KpMPaVi06YX43FuSsl3BwDeugM5sFXGIy4j0tRvFbMZJzJ657h/Ag\n",
       "TicaRd32RnjygKRHVDquQH6so+n6CxwkR7gse3oiTRwj30SiIlC/FQYOvhtGbILIVEjtjl1pJvYv\n",
       "9WT21OTugmZX1C0OuYxjRQ3J0+6R9Jq+vv/uRpRkf1ILMc4D+gcxW/9A1UTML9OH0YyeODwia+tU\n",
       "Vhu6ZS6rMwVMFqYEQp3O7v94ySUlwqwc0QE1CvvYEoZ3K3Y+R2YLZ4OYRc1Yk5vHDPYhrgydm0rz\n",
       "cAUj8Uh1jwRRKQVmMX+2I3q9ks0xPNCoLABmssyeMGwDBW/F1zY/7AmCAPKc1nwwe8Gh35fbx2/K\n",
       "o+lYB2z7h9dfbOZRAVujQolb3QDULo3mKXY4UZz5+817D6NrpJGPR/+MxEYoXNJ6QB9IrySfP+QX\n",
       "MYxGOKwWC0/jI+kHpd+aq31PBlLEyHkhC8y/kj5tMfCIHa1QzjnZORTLnGrqkjAh1ixUevHneSkZ\n",
       "sluE0/LxGS9Ia3+975Q6R352m2/pz0k9IsOMhTkxWZcJVNZRQ1jGVC6gtjIjQBmy9KnuKQDO01Fh\n",
       "BKUWNJl8VjvxFTxIl8D1kLp5/RQrU0XLE6pVhNQ5wUGCIFGEOzO6qZ5vnw/yLrlG6jTgAmUUpknK\n",
       "r6abeW+bqreViEgjgBUAgfwFuUjdKNMzsU2xyVJS/D4SgDINW/xJWaEavOB8V8bbidQpvQ031/Pk\n",
       "i5y0E8nukwgzEgEsCAahweTYdciHjDXcDhWXH2V6UHIH1Xn652NsQrASMeW5sNHadD8gj+gh58tG\n",
       "GgElKaT3FuUhzTeV5DPBA3n4535SFJOwr282LRR7V+G122H2ctFkehWhEeaDh1/w5rI3mBjdgELx\n",
       "hDOCovWyHr2uzkpWFrE2H4K9YUAXNLnAaqbgsU4m8nmdTmbBlAXl0WNFLYzmzcb02201gtxSYqDT\n",
       "gqXTTMdlHl2FU187k2fbF6woZTx5ioCvRnq++/SnAJ61Ff9BhcQLHnRfPaO2GTYxI4UAH7wKYVpi\n",
       "pAkytZ+2oYw8q83i8wTfj0ymE5BBrncqJU1pyaXp7pIC/1+RWzM+Mu9nNF7YqN/k2siYqpbPQRF0\n",
       "sXspP0plkVPkcSPfPBfDcigjhes7aTlHnIgYsw7hjL8SHob4OTS2Vevh9/yTf7Xf+flCWwlXDG12\n",
       "gnysODb6EQ2D8h6bWgcS45Pv21gklc7r6NP48LR5yZKS7OPzGsZi+2yAKt+Mt//+kBJDufJlSdNW\n",
       "CTKSPGHxYOzaKAnC70XL0TU1y2bVLZ1nYCHoFMtjNRQX3WN8uFCZ7EA8ivbJF0IB6f+vfS0FnOGv\n",
       "/q5p2eqS53eZJr1+DHkeeqGwADXLd5twcfLnJ+vA2yg6lt29zApFntZcyR/1032MsHrGF4PWj6LO\n",
       "zPfeqSuxjDaBolMKfIZAZs+kVP58fSBFSV9RJWagFaEWYMcjNKKwHS+opMFbzghYfMifxzI/FrTR\n",
       "y0gfkdL9ezwPsSGbFykbX3XJQI2MmS6wT6EylyY4Cmgb3uTYaKBeX2bI2nuuvIinzSrdx6GdguBQ\n",
       "HE+tvtWVKG1kyTIHKiuLc1MFFPkcwUbb7ZK2EGAqynmrVuN4BY0QQqwuMW129AUPhfqsUHG0hfPl\n",
       "eb7ZeyZMuGiJhGo5KBdl2vWX6j8ldr74LPyOC7zY30vsvrNOkS4wT/wMpRB+CuZdxZTsacJHdEN5\n",
       "RHlCjn5LEaIikrXTUNRuCuLrZL3sS6a7qD0lHr82TxMiYBFd05jcZVeWelWtMiKac4r/unkg+XAo\n",
       "bNq1j56vn3L3JD26MId7Smmuao0zrlUTbYhfEOiFFzFOKGE0WAGGGsHQ/BOMn0za5zRQb/mPBbvy\n",
       "ZhAbkgEcWXAA3iX2BxS9PkyOF3Zx67EYnoXOzPi1TNpOhBR3CCScQKKABjxKrzCHE3ny38kgr0bw\n",
       "XHaoqLdSc0SjftHltMy38vBWZ3Ynq3Xs2TXlbYisq5xq/4j1Ai9nP7uMwjMz1qAbdV4QOSQi379b\n",
       "VIKGT9Whq79vQ8aAYPZzvHQmpRGVvCSPrGdyvd0kdOk2SB5I/rrJ1PJOv53F2FQBVScAmeefipow\n",
       "5MBG4dzQ3fYWY3RA4N310GTQjz9ekxOLZ3fhX8qmWxMPHbcA/54gLF3Tnz9OL/tKMFN0Uc2prGXK\n",
       "vZa1lGBvLfFRBQrtqJxN2n6jyYw7LWvDuEQreeh70gph7vQiNrTK8xnG96ug+yLDbvR0oDWXU36Y\n",
       "R3yqN0/wS+nQ4kY9CEhSDWzVcnHnNG3EoJ034QEme8IRp0V2b4QHfPFJh1dDjaLBEzL3vwSpmJcZ\n",
       "u9I1JgEhf20ytXn7Vvuv27yei5UV49XToJFx5LWaTzx6QMNsbRiM+oOphRF2bVtWHfZUL4XK6bVj\n",
       "7xfyMmucDbQ138ZtgtMc0Yrd6rhYeKbi0Pn0H+gHuxqiGTz0EFTZPQsNxwHQHji8O5GoXV+vXOrH\n",
       "X9oZD1GDQGNFbURJpyGOpvIAr3EYVgbvc4sQdXl6acQte7c+OVoCyNYm9mYVfh5qoNy/Q+Z0mkvf\n",
       "Uk/qBxjOCGDf1gl3S+KXSmTAySNJGXmu/W1ChRWvFIZntLsDsIAlMHunmlq+PNIf38Q+b1i+R2R+\n",
       "11Tv/V+Cz/9Bqn0OobP5GoQ2HyjcboprYek/7533vnSfotdzOPeYAKX9VQjAswI/aO59MQwR30Yf\n",
       "8zDT+UMscSnqMe1e9p7eW68R5COZa5HKU/EuwIyWnHKxe0V3w5svd+RbUQkrdihOe17Id9nBU4xE\n",
       "o/iaa6BrVgQ0TGdLVnQgmEUs/dI4PbBYFTWBrqP+ScnvLRD4CXZAy2stI57bq7vTJJcxXFEfMAV1\n",
       "e7Tbk2bTkyh+BQITvPueYTQh9EQkppLEjw4XxMAUwC+fzJISDoUB8Zgsyt4Hl/0z3plsQHL99uqE\n",
       "8vmCt5cF5fJNAkjSY66wGVJ4Gv25K7QVN57/A2lhHIqpikumLuDaZCOo0861vb78ATE+WgiussRY\n",
       "ET6pyVG+YxmZC5YEAhF92VCzMaoDiDoA7eSKdbtFxeIajl3ST7LQsisl5+kt3gLScV1EKTlr3Wtn\n",
       "w+GP+M7wkIP0vazqSdbPt96q40ewbj6vD6ZkZ90NiuBloWS3VxWAeDCRQOFzvZajsAvA56ZLR2KR\n",
       "nIDRW3CWx9C9Ep2a7j2CnL4ldoq/O4sQIs63ZqsY4ySKDukaOrC885h1nUh1eM3T6fdMSVSMezwj\n",
       "wAh7fQRUu8glGuBOFWYRtFKlTWpaf3Lm5c3N/7UzQNgVEwfufbXJL9WHHlk7XJFhfpGTSHB/wJ+T\n",
       "qHO59Vwijf4u7QrFURkeTp4JZJCmTiKWIqBEhu2SLarqmVfx9Wco0kxDeCu0jWI2kMkE4T/M4gB+\n",
       "JCGKwZSKbSOUb/N+Xk8o39k0eJU1HYbdhY0LnKyRRzWfLPB3xc37i6dSjxq6btXCNnEW1uyJ7Y6G\n",
       "Uu2lZnilHc98zAm136h/QoEEfbnM/x1jpyhxpguxzB9Taq8ah06//by+eX4+D7GRNkqrJtvJdgsx\n",
       "bCi2q5o1f7E0Yr2/E1o7IpfbJTbO8AHD/Z7px7rGxMs0JNvgUM3Lgxs07kFhLuoPknzqQQTKtXrG\n",
       "Ozv/28tBGty/ibFdC4SS9s5QHUkF+WJYaE/0qOgnAI9XbJXEHceIa9fHaGtMqbai99uJdJ0ko/pw\n",
       "QqClHBcq/VwkhqqRw/Wk5gXtdtOHZxk1TiWX8yTNGczvHSgOmsdW7aDrHTlDetUKYuKnzB9MwyXV\n",
       "cSbtL1C2ltgTq7c1nBtnZLw6sGL5BfZZWH+a///sES7vzPlzY9AJO7fsdrUAeHY8CQt7OgQdBnj6\n",
       "3196QY/0Ibp7CUibPS8E5q/bHn1QGuGaykChP56hms/NW6ct3DHSCh/u1QliQLfN61RTteu623//\n",
       "b6+zPpUrgGVKnX1jHWMWmYQB3yXwtuh89W8GiUJW6+PCBzRt8a4V0McFEcicta+H8GzIz/uA8ENw\n",
       "jyLREAeCmwodNJqa/QTw3fFRcd0v42rhNN0ucc21xzX09f+3kVaP3BYLpWNyVNqOd2t6+MnGkunC\n",
       "shhP0D91oqc+wAsKBuylVwsegCdVScJk7xHB+3ypBx9AaYjkZp1ou0GuYjoWE+qOPwLrQYgAbhPO\n",
       "IEnkVFmBxmMTeVF/3o4CNXkuYVUl4i2iS7NBdjDpI9k4bqiHPKQc8r+1dE0O92GZ/3nTBcRg//Qz\n",
       "kuAHLtXMXOkddGLZU9+lYJnLWM+7vUz7Jzsv/t7kYMu6kjsbA/rzjqI6sTO5J935TC4tLsF1ifjn\n",
       "iUlBjokXUSSkHGkY6qIYRL3/iWwidUS0kGTqUcKtUia1pI4XSZDtIMmYqvyiLMK7cuMJx6u6AbNm\n",
       "pv1YUi0qOX5sNcvkMqeviNsz/VkEnBW1oiF33C6SfzgSqiTdgshuYlemXIaFCjOGdhcxvbJAGrDI\n",
       "OigHtJPmnshFqsR4rOakQJ7xPsQaSd1IWu8gnyacX+h+rM5b/mFIyQjNjjlUUvIi5qxvRkPPmF9b\n",
       "KCR1RZ1RgOwuys/W7UIyVOse/ITIgNn9XEAZDHBsWFUoJ8HexrhJbKtqiUn8ScQ97hjD9R1XWVeL\n",
       "ayoO2cFkEtYoB4AO/QLm3cR362Tl1ygRevWW4Olc24ac6ZmQyMxsNeext/mrWLAzHbLmWznVLfmb\n",
       "jgMdJpHL5DDzIy3poXil+vLY6Ko8d9IqjuCb86HqEJgI+oLfUf+hWTSNwl4KRBl6qeIG437bFBJ9\n",
       "4gMFrw6xgmsFWU397tbHy+iDTC0cjjNpUM8R19U8mJULh60kPrMIucuxPXAaQxd8xCZnkng/oNjm\n",
       "SWJ51XRb9NXXauMwbv29z1EO7pLsWHeWI4PmtYOpjG9ZwU7luvcbK6LVj4R4GwlIXOiH6cCiA/zY\n",
       "I76H0UfgNY94SV7Z3+BJHEoZ5YTUMVsdmJJ1uqOcUrCiVPyWX3mECZEb+G7T7Rr95LBHzwuZVfXJ\n",
       "v5HXbbDOnCaWAbqPfPiBvjPn6mDNz7NmjfIjgAyOFp8qaXW8bl9NinRvdhCeh+yojBTrKhmydgpc\n",
       "vkK1TOsTrLp6kj8nUlecJxCpOckE4kiOV2DatgAOtFMKUUMI5jGFCPJcJa0UO9Ns7wSRyeDhnNYJ\n",
       "D2W1XM45mFn4tyLLJkrcnfP6IFNXTABDo/T2mfGlWVRYitn5ketR/Z2gbtqhSLOonGeUij/W2p+p\n",
       "DaWpYWjmj5/Pb1qdEDkKAOboDxpVYw+nSq+4jCHeWjZhl3AgAMhowp9HQoGkLfMy91S4uunaeSJV\n",
       "P8ZNms53qw6/Ao/ibSlnMecnktzR58ELvaATNK/2QNkLaqo573zFps45Lk5IOjWO7HlJp3WAqhV2\n",
       "UY6WE4MKD5PRYakJHei0YGRJICHncD/hms3OxDyfzBcO+1dAKmRc6fOnRMpP9v/QjQ/+2Tk3pbvV\n",
       "THNAok9II+dx68bHj+8e9c+PAeqO7bEi/SsUpkAEz+0tYfmCm8oWDxpuDVwTktcFYTjTDv6wh4sz\n",
       "a+QPPErpQFhjY6IT5ok2MO0MRA9OkHK9ZaHl8hsT5I8lNTM3S5DGBsoOfwdY/jihuKz0/ZxwXZ3l\n",
       "KKPO7NcSOhxNc8CWm+J+8KGJFJW9WUfvn4HfZ25dKtw709ReCOwF6bTiytL2ATmw7N8A0CMZZV9X\n",
       "0SdQh9OphfS4aHf4rQDP5/jtyVXU5KpJjTY1UHjc7luwCMlwTsd4R7/5cyMIT6FCBzQtdyjPKLT1\n",
       "b7kIopAAegvJGz1UHYPIhr6qQ4dGzEkO75TjxRnDpSxlq2PHcT01NMecsZcSngXp0/ZjdmrH1JA0\n",
       "v+qJgFZpDyyUi5VoyxMWk89RclspUS//mAEeH2msVGkB/aanY1agevJj0mS0OV/LJbzVQacOCeW9\n",
       "UAtqWM/PWEx0zzTpn1MBVaQRTjg4wb4ztYGpXONNqksnIKHR0PwYjIMeXKSCZriIB4NipDtL5umd\n",
       "1Ik0Z85MhRKpQBzJQzYUzHBkqND6+OOEgXTAhzkiojed2zqIKfiBbRyHqJK3GjAxciLa6u6uhavE\n",
       "CmhkNSSQZ7ln1si0LA9coQzJx08EDWKIwiMOuxZu6rSgaJRCMjWN+stA8GUE0HKvDRQXgDU72TRk\n",
       "pmjteRXNctwpiCsJKezXLBKkCI89hxwLD1Jbg7A8J11rufaN4oJFCp/yx57SOs0IeEfjaqhK0Q2Z\n",
       "8JcVR9PwTHcF2ReuDjSEhHcIRO0NVWHzCqvtM+M+EtkZVQMBoag4MelTOuFHdgv8io++9iaSWwzw\n",
       "t13ydRCY0ggZniOJ5PsJZbiz2UPNsTkjBaXTLDOetIvQUrjJ5Y5pIfH70q0bAaH655wGXZxxcQWV\n",
       "5HoZqhdt/7A7libp5qow3kOhA/eIEca9SNCzxk9hXIul2ebYeHLCrx5/kNxRyiYCPIKoUeGk3rNg\n",
       "mL7bU4wJNZ/b6KwZ1U+IhTsMryBW5kZQ2p7MXPvm8PFXZpNJ3Bm7sonpwHfDcfT3PeDpuSuKsGod\n",
       "es5PHirFuFqa5xTuhGKAc6fhcJzKM4fiqGvvdqscXy/o/tDHMx0UD5s1ERsmMoOlTkjfn2x6KQVT\n",
       "7bP3+FXiP+8NvbSgfa4rSGosyMBpZggB+mOzrcFSpH+87ElW4Et/tTpX3hKZqoYkz1MvepE4qFq9\n",
       "Y4YCWikAAUuEFdtJ9/uZtfqLu8x1BwJlMLN6LQqMkkInuYou/BQ2XmItpAdQJoH1+wBZoSVKynKv\n",
       "BMLOtsVCYvdLQmOkQvJAhpnpuknvwpX+T8tGGQNFzy1KlTzXSLqukKIa1A83Ywij+HDKmIPDqgLL\n",
       "1qT8pydZ0MEnw4jeGvmrO/ZOkAYGPJZyy9RZ80/zvHjPEpMUim1A0jSJAWQHnNGU2fHKPdf4eGlS\n",
       "kl/5slLMOTCq/BBTAFq5nKxM2+JyohDTEAWxoQ0Pyzk7vvDrXpygQxLRgRwGfMjQ8TuSDO2qBXIM\n",
       "Wy/lfw5bupjUZbhtIvv7q+wrLtP6LD+5qCeL4z888BCR2xhGz3AV2ecT6UaWA4PVKbmxY6Mj0DsA\n",
       "AN5tWb2DEdmIWH8pHLNFYenVLgHt43fh3k/L3uaR4QvuhuoAHLVSf72KNbDvZKg6Dh3Whnoa20ls\n",
       "/1i6YGiF+aBzir8NNtyu739urpWIh9qdGBtoHA+V0MLyquuYo4az2ErhvBZYolgkJlNl7ICOE3oE\n",
       "+7A8306Br5ryrRpyoVyg3KAQJ1SClax1k5N1EjZyO1Y2FJ50CoeL4zXiAVvdf3+EFAukfW1MYp+A\n",
       "THUHu63EB6HpzHBvHHR9s37MhgrpoPqY+ulrW6SxE5YQqWMacnLd8ckAPHZ9sRB6EEhM6fxqhsJB\n",
       "cA0znApcPxBxummziTTEWWVZ7oeh7l19074Pznut6u2My62xWsDrj1VMxvan+J5aK3Cvk4F7Rlt1\n",
       "CS5llt024MC5stRxqP1sMaeCJrq0Acwvlhb60qHovZib3882Kg3+2B83haRzqSiAzmImx4DZTatf\n",
       "IFe1aXukAAsVAhaleXWhOUhwxWUv3u1R4MNIFFg4dTm+hKim6ie/VmBMqvHhx3XSu6HlAWglrRLP\n",
       "kRjxIJ/TjedTIwEku+loQqZSSvMBHlD/W8AtFuN6nBiZx67eD18nm7Tj9cJrJUiRkE5ihLN4RFbg\n",
       "KttaQUlCJ/cFKXKNT7r8a5qsKd42HgzmFNdHrCxpPpvaVplvX9b14KXHImG8MU53kekOMRbEWb+M\n",
       "R7r37vN+06UYy3xMv1IvVQLOKi2bq/OktuZitzhKIRs74Hlk6lqldMF1AAAK20GaImxDf/6nhACW\n",
       "rMrgGU5RbxSVaPnJpOEv4ACIhpu7MV6tjPsB4AsTwwgbm9foeMLeTm4tAsta7vJZJLRCw0iFUaLB\n",
       "/p1ZwnZLuyPVnphoZ/rQPQ9EAiFVeZmbez8NT6vGQErJdEX10eyyisHpEvgBJ4VvZhtayRma+MGn\n",
       "oowvjY7S1FO9fwyTAQG+9QX8RojxB/XsulW6qlNGfaypVlZi2f+ens0AB2KE7zBLxzpi5yyL6rSs\n",
       "NiSkmP8jwEJBB6iK6ahXpvNA7BrpuHntY+S817mbt9U6uH3c9b+uaOwpE7or1gJbf2ZO4ZXpP9sD\n",
       "9JJCcnWgtpP/cSQqVCWtGBncyUEpkxcU6jH1em+JOoOOmQ/NwCOrY/2/rc5xsZHvYq4+iAI992Os\n",
       "mY5UakqwJNqTf05aj4LZc3Hmyzd/UqR19xMZteeqzGaxaIiMcP3dd5LI3u7nYdO/rNUthA1EkVe6\n",
       "reD4nk5+2FZ94ifFNCAZb7hp5AcnBXYVUx6Q0C7JpGWKXlnYZKYShZltdcC1LH2LKHhci9Mh9cLf\n",
       "qijBgIOooo9dWJ+Pypfq2NkBFGEP2hx778SVK5aH54NfLvfv46O9tuywUSCHmb3uBTjmftVUNXpC\n",
       "l3HPfT0bcvBaEbEe2zbBvMOPcIdkZERz2CLGdSN1EDC7pkYP53VFD7pg1y/ArmxRYJhI2Xcx9tTe\n",
       "IyBCGs7H3E7hQS9fO2b1f+iPNeJ+o6nUXzuQMdza7/VhUTejf5AYnVtQEK6PFjYHxOMPeCRtsNNf\n",
       "H+zUVcJJvGjg+6IKLHLXQCQhm2Xjh0D8djZyoxgnK1BfWu7VvWZb2/3n8uCMFPLoa0RIsVTZH71N\n",
       "oZP5nE4zrNkp9yl4wr1ua8jXBZcnIeq4QiKX0UjfX6T0NQdnHQkPXe2AP9pdfgQftd/a58RNRbjF\n",
       "q/4xJOYX992zbHQ1ToSISN6r2sfJPZyCswGKqollHdL8gD09OSTiSEIgEGF4ODQfv3bs4HyHr+tr\n",
       "asx3LN4lGRVYG+bwlr3900ygA2hTdq6kve0HeqlD8WgOeqOsEBZBPInRNvnTNW4t3gs897Rvo/b4\n",
       "+iiMAzUSM4OXdz+hBxOIU5n3OEQsT3Oupck3YcgC3GRYdHcdr3AckBGPPbzs7RKkQzOalzr7CZb7\n",
       "eeCq1PzzqSxAz5d3lSBf3smEyYD6xFxraMriDWD4SpvPJ0CAjpbEofikYHBzVtQHm6aFugzGgeQu\n",
       "CdIWArL0GHmSQFzZYQK8Huho/Ys6QQkhumeRVwyhSow1jCP0uSz6CMa4vlHipH7v7RFdh2IP8t3N\n",
       "DR/f+Dyettf00mkBEnC+EfVbHEwM9NK9QHH0sahv84SGkjJzUoCxwMSRbjU613xsmpiPR/bKLSGi\n",
       "FkwfGa1YgSZVrxeOHi6ffnqkjYnZ7fRhTIQ7xiFHeOIjTe7YtNXV8zqSQWY86neMxmFrbxVqZHZg\n",
       "tudQ6WDlx0JTxuqtMjhF+eTEPkO9DCmosGaqNu87jXFB0OPDWeuqQPGbUCHOv7xTRNpffMi6fx+V\n",
       "4dsJOcQ+skpMYn1ellNhB0XV6LdXPLLeHr1DAWZQhNzuHh/mmgHHRS0Ra8EHMCDUx54c9URQDcEY\n",
       "6+9dmDkA1y01c1FVTMdl9Kw3+kJVrp3L7cLChqLLQe4IjBQKCg9HArtkaai2gdZV8SvkNnFoDcbN\n",
       "tXszYKS91jz73S7oVeYDUPmaARutt5jORZzy0mXmjAGSHzxHlamSn7Fsqv18sc+aDmvybl7k1FFD\n",
       "F2gjN4Xt3rphwL5VQUgOBiZ35qn8iFpfZ/d/Qks2TIOxJaYpMKTIj1pSIyksMQw6+jHL7NciyKGq\n",
       "TbsDMZgKmtGuOvG9gkpmVxqoBvXQFiMfvM17FY8s2SglQfxbQfZEAUIVjUGOtvRIu0RV4kWAtaLj\n",
       "CzsosptjFLMlroev7Gx823VFYvf6FY+vNiuhLSgytvZsNgw9U4AioyK6VFTOgNSJbPa0tiKsOO0A\n",
       "4hsJSI9Fl5cP9diL4a5ec3MG2qCuADKamtosAljNERc2eMYs4zcaYijofLLZQvfyKXz0e4wqU4q4\n",
       "dwG2SbZ3FhrYJqGLbBwMz6fUUh/OjElb4EaDoK7tqQvQR+bJ+16szunQZrlxfuxWRA9nko/YGHPM\n",
       "MTG9UAEbOcD4dFora6mpUU6u4KBckR8LBIfuG0CS0H8R68MCX5m50eCwCD1V3laSf2pP5k2adbCY\n",
       "mqQqlkP+7CXb3jBhOuoNcNkonXzqRr10jGRnRyZf4LnDgucnAGsrMSMxHYw4sYm2r7m5xd0YxFfT\n",
       "qsefQm3YB8GnIFQ4gaZpt+uJ8irgHUEEH96gmme7GiElbSuTDjjlDhPFJiNa6x1Y4KNEJPZo6SGb\n",
       "WyYzPwNwLWEI66e/5M2miY8uwaVJSvYkkksvsti4vys4ZOReSotdvT7Ba6XrGBYsfdeC42ELo4r/\n",
       "XXbYm0Cn+gsTAe1z3h+4Y3fu/KhOANk/x/XG3DOUib+zXH5kxNKczyp3VWFP5SsHS4M7Xqkjp9je\n",
       "RgpDvwCvjtSKGTONhF8N+UZk4jx9O2uzdMBc52x0zHhbl28d5woorvWTLEPDtsn2HNbpPAtpj+QS\n",
       "uLPtBVS2ZWChWSKGHwN24xF/3LzXBN4Bzni3xpbpzpKfxCNf3ThdNGLR3vx5tEVLeQ9UBmqLrFTG\n",
       "VG7Y7XXvQ2Vlqwvm+jQr8MFq0fBKJvPyTUV8E6KxnUtZh0QCRVAnEJvnQjbnS8r99FI1wK1v2w3v\n",
       "vhq/UhWkkHfdkMaQpNGtI8m/faVLIAg7pkcwkvVzMxQg6OMJO2NvyZW6FzCRKBTFUzc+9j+Giccy\n",
       "0JM2tQCUuTklVsvuMJEAJeM3/pkwwtZuP+4Filv5OD8k9ode/rKAv0YlBwPG5dQ3eEr66gkce3Km\n",
       "OiiOvbRR/mrXFDOyHbvtW88qzUjFDZH1oPXDlAoensKftvJ5uOLIEs5LyTrv7y4vNYRYPgpKQvJk\n",
       "NNreqPkXt2gB3WRz9PN9kVuV2ZLW3qH7oVrm3ChCX52cGziGy0R8yL+fUn/drDtv/7QwkNBj+H8H\n",
       "1pvK6rDVBwHZJ4l5qSrQ2hlbBInXsQshlCawo8RDtCk5lMvRGS5drH6LJz73iE/4naC0CsqnokN1\n",
       "lSmByi1HkDwic/A5QB0Zfpf1X4nGqF0wscTmFMg5pTDY94O2FofOL2tTUnLthooSM6QCZGzW4rh4\n",
       "Oo9BPhGmIRy5nwmJpXMo21frNZP8LxJtn0JxZ6XEiY8hI+agu32bIvs9VwV9VFeIGOtAWG9UFwRQ\n",
       "BoXVdmEG9dGO2579YACdLXX7trIjXFlXU6qmFPiVdFBje/eCP+Q3OxWWACaJxlrKNoNkUGGw2wRT\n",
       "AtJWbByjZcM5wJCqyY++cRlG3FJaax7Molhh6wr81m0TEfcZFpgWzYGVWZRpjXQx0rUhvOKQOsSH\n",
       "aN22nECnIKolbmQGTv/NlwAZzmMRCC8zIMuJ2p/pg3wZZ9LVk/PX6VFI0GDtLcfSUZLxv/XbbCxU\n",
       "3IpJhgprzkUVpZT3CJinMDRp49n+YvUHqCEfZWHRcqnLU/B4ocn99T5DfQvlbm/q/hxaXyQxpcRf\n",
       "IiZjiOs41YRRlbdN5AhxEngwo5kuP/xjTQx5E1DM7QdvWax+dxwNLwDKMrtp735D9T2ZOmUFjiE1\n",
       "ODn3UYTOGHt/RPj/wKOEPrOTXffX1ArPxuth4KBiu8AAAALZAZ5BeQr/ADtxCL0ksNX+PWwAQ7gZ\n",
       "bb0jtCXCad4PI7o32nyF3pYK+qdbBQ4pEYjSXZmB+WEN/MuvNBP8xUFAw2CqRv7F+BNtpG/mHWN0\n",
       "5O3Q+t2sYZ//IC5Tj6MNGwIPGeCQ/8HX56aW282a2PjhBxUUucz7te4Mn1A4SitzatmNSs4K1G+p\n",
       "PRoetQNJta/z0dpfUr1E1k8SjVoj3o19wltcoUeH7cw4DeWD54SAskQH42RiVGp+4O2Bn57YB2uv\n",
       "SHzTvkseMQ53+fvsnIwywSFGttMsYZo3BQ/JuOY9jqqPoie6vhi454s45iDhpqiDf3sa9kX0Upy8\n",
       "lTW7CfxKt+KBfOa+CsVPyy9FPDhL8KiFlgjT29Cd3WK4iVLgbHuQ+RPEOR/C6jtPS/WA5mTlJ/8W\n",
       "TIuD8PXjC2vt/B7ZfsWfbPHwY1la/SaOC3IHx94zynApbV229R0Syj2UiLDuCf68EqMpWEbn7T8k\n",
       "jc+qWOd3+oHb5HoHbZIyI6HNXN7jHF34kVsevMza67/YKA5+j8ChOukHdCgN+yCs+fOTYycnQRaU\n",
       "PKqmbcGOSKdtcpI7TQznbMCQJ8tJRrnow5gav+GmTc9J7tiPFTghKSEHxXG+zmTrqb+mnlFTmafe\n",
       "twtC1LKQgYhchyp1xjQvSP71NTWJjvKb0D+iJb3t6/em88Bw0iANabybX57C8mFTs6f44QPmWmkT\n",
       "Qhpm3sHsAF8tDx/gUt7xfxbNKOuP4IZOQn8kVKpZEzn/xqvSVyy5kmyf8efskRPvithp6eqrWB+2\n",
       "e6oFrdd3pkb9eM513Qar+iR7AJ832wK4gQVNJ3gC03QVv0Os4CP0r7Mr07SFhR2MqxAcqMgJcHlI\n",
       "Et3qWYy86P2aCW//QhzLYVNLR2AqFlNyvkwIsT+6Kmr4T063cjIbucpsFJtH3CBX38Pex3sdYw4z\n",
       "GPRWtkarXcBZW5t/2S2r/NspWZr/KntxAAALsUGaQzwhkymEN//+p4QA1/OZQd1QMYAVtD16Nu7f\n",
       "C6MPQCbzFO/folHVHxL/11hqEAHoIufawoZ//vJ5OfHl4Iapgsgmpoya6dXChht3Soz6TwQ4I/qK\n",
       "jhh4c5j070kYVS9PLJdcH4060o29tJBw6hfraBcPtJJEd6kCBo4S3wUBo5pBZyQhsoBSJGt+h6HR\n",
       "ftnMSZSeJY2PFFQQx38aXFFWLw0ZqZ5nbDqBFy9WectNCzmGNzEczR627jckoj2JHOa7rb6UK+QQ\n",
       "MGdAGXj+kT8BTB/mS4z0TmT+cBk4fnKOxkf/+M9xEtjhJY+kj6Mu+h7xFg+XWSD1HiVdiXCi4thT\n",
       "ZDPi6jNc2t6w9SqaoxT4I2V/oH1VxBwcZigyV9Yqu6+XJbOUhpz2c9WvO3JfMhHzc/rCMUg/irQo\n",
       "CyH8M9cc98LwB3V7fKSMw2S9KNAo9DfTrtErmq/crp0yoHmKDFzVWcS1eCrmRKEE95sJUHa3kayq\n",
       "SO0wPPmWvBCKKsqqj8LQRs66FMPnLknROoG9WYUyxG7WKXaD28PINpdSOHoV9RCxFXdOe1sfRePl\n",
       "QLFMFprxIpFandU/hGudgAEPwhjNX7T026i/k72q5hLK5ITO5BZWC2IE/uDzBwHObL+DHVkmidSs\n",
       "UoePgDt09KQ2csUijqCkVrI24SPOlRkjDpBXKcj66kflZXDRNonXP+IE0aBzuVTdGKsczxDWijTO\n",
       "5pYJjYjWyr/V0csfpAZEIw07tJhwR68j3FNYD/hFOUszT6fcFesNEYBwjpJcPjxbdNyss0tA1NXV\n",
       "ouQQTY6XMOEWRnFZ4WssKxhzfwwDrExF8DCQ+DGHMe13X2zbUNQOiJ+aA4cDyF0NcycABS9/zWUY\n",
       "lSQVD8h3+0BINDQcMol5uxFT3jUZEf+8IQEmPbyug+4pv5eQm+9Wpj07n16dWAEj2JXnuVmhK3cJ\n",
       "0V65cD7lgjtednQmFRzBKQG6bnu8GZP8iz7J3D6r0uHd22SVEZ1rQsDTRGqB/FsUy1Hv4Ygq2W/C\n",
       "mSINbMBOszaCSRueD7eQvtagrBFCAbGvmacKtLIKZ8vvHkGbXTeN0ERfC0J0XLuTpcG8zsADwJvB\n",
       "CtNIhX9OxvMSGYbSC/vMgzSmmZjzMo6/qazj59iVjSnR8HXE2hKSVwu4pb8+1iMsLb2fGogK38Zg\n",
       "9a5Mbmwug+maR7OcAJ/C2t4v4WmBf49yd4wmCTcJxAN2TbOXhRsejpQtXozCoyOIsT+mR9bXlvN+\n",
       "17RRmgZEhHtdDwhfUELuk8cURxI2PBJhBcDt6fDLqkoo2Beh7BykZ2jBMIdbWGgnV59D9lAWVmIz\n",
       "va4fDjfK0xnY8QeAM7fkl5jSuCA/FlAwza3Dc/XUmf3mrlt7P+o2NECeYkVawDbDldvVowYB/qfL\n",
       "WR/4hVmjGe6UsCq1n0y45ICk3mV062AD8FSXdaiYQT/XS1U4WAmK77lZUjsWaja05NJvHCG6k9c6\n",
       "Co4cPHoZtwbkxKOERWbgekFE6/y3K6RJyPujqY7Du8Dejn2aOchwMf2zsOpfK+jzYoVUkfkho3PS\n",
       "Thj4pvg6THDBgzCHVy2L5d8rDPVX2BJ1IHlaNdYrJZOCBvgfhKZzvpE6sBlEr5AjplJz1HsIvQSO\n",
       "ojc4GIET85ohJsvJFzj91w2aA8uriOU+HsDxOHY8w/QWHv6AftPwMREmIPPh/6iwIU232VMbcRqc\n",
       "9duttvwrD0F206V0AFkPoDZPxfa9DymEMW7N9RIjZEoK/cltqxwb0Raw/3uz7U6NAJ5BYAx5Uydg\n",
       "EGP6p7wsu2wAj8r77cUsoxqPe5WgPD89W3VSX70oAT4IWD6OR0IxsI8rPD/5vAPMrOSQDJkZ9ZM9\n",
       "nFI4t0Tlj37sWyFhtgOULzvCMKLTqetfJJO4vSJyI+LRRLC8erxgd6jhhlHA+d5Tvu2uz/Kj+SAy\n",
       "WFvfWRdOdZCmtzYUiEfutN7hvgvarkIlWCbovS7mqT29klXVdJQ8HmSaN9XHa9/LfSNooSyKANi8\n",
       "BLHKAqzk8nlj8jjldYpjzfotaINjBL7coTtQZHQuHHHsN5CqnwKQN7oCaXoYjSNgtwnQECBBGMGb\n",
       "t3FankMt6jHLDAl5s58bDNr3UeiL4tovL5gl3gNQ6iqlmeRFmBEGpj1+FO5Z72VJ4LkwkZWVVbqi\n",
       "PpenHQo0TLoim20CpxBFUne/F3bDKM88vNV2sM+F5UEiDZt0OJ7JbqZjUll1+O7sNhf0r/7JZdZs\n",
       "se2KVyd65cJZBzxUKRNxcv+E0mZzPuNN12UB0/+E1isO4c/9dxR4kRxHecbbbVMxCYiSfJ4xoAKH\n",
       "km9WoR61REUwVexeeTnxZExQDGCu+13CGH674nzp53uR7x1lzwzmPZYAvxwedWgD65ch0a6LxzAi\n",
       "GaQK+T9NQzd1kOsB0GkTbGaSVbXcytWnWa2hGH3SRDxWVw0+0amPR2mRvTcB/VyswvW7JcGdMoJh\n",
       "PDcryKJZw07HQ3aXjeSURR3k+xjX16jfCoQAw/j/gipKC/rD6Cq/1pE+gIQ/VZYA/bYy3Y52CMuH\n",
       "59a243VK4OcA8ZjYSP7k6kr65mpIeMZ8GkyUpyin0617fhec+NWwUyrLKn59EfdjTdWOu5/wVwOk\n",
       "maTnTj8Au0XpK83wIcYRqs/i/f8wQqYqx054aNeCsUjn4wpuOI9tDACCSLSe3hH8Yt8B44A4FV4Z\n",
       "7zEsLzrecRHRVxgYi7vGtutOSqMXKgmxdV1ThD/li1VH0du0vyhcPdxCot96t6MwX6ZjK6TNB/CI\n",
       "9i/uPP6I6/0S2spmg/MAZfz5B4qeDaKSdhTo4YLDFZCtBS1s7U0C/xvChosjEF0BVNf16uJ+vGh9\n",
       "6MEyvgjld0WiqjJssXqJQISN/K9dHDfPQpugMPy+IXzzYbuzxaVvheJqbeIacVEn3xO9J0m1ypen\n",
       "Npn89C8+RdVJ2VnX1euiKM/s7BDaAKNGQdsAmy4FbvsGABTKkm8W0aloAv9q5lp/FLPnjDexXIHB\n",
       "VClVRuHrsLhv7r6e7EC/vwVnywRPG/KdRfv1ej2cOIBLdMz55kz0MExBin989Ptf50r9KwcOdfS8\n",
       "3EsxHzPm8Kd6LUVk46BsT/kyfTPp+ZjcLsmidSTABj27K+AfKK9ohZj0ZGTDigfqhiD0bM5juIf5\n",
       "3dTy8MjLcnxYbp0vc+kkny85cg+8IQbWfCvL8lcn3i497GQSba6WbRtbGS7uvZVp/T66GTKrQa3I\n",
       "J4KmgcNc6Gih9ZTV/nUnnGWhy4j6mJSlVtSlaTRRpRpR9cYU+onBIFKGGyA7cZPiTgSJqLFG3M8M\n",
       "/ZruwRfNAU0VGzAUSRGN+f+FDGdfXD2PtqZeK/ZeEqpzkeCXWoQdWITpSEgRCs53fyb3B0Ta7hen\n",
       "obdYoCp7lQRfwzfv9mNeA3ryRretBYHbO9WqhV8avr2vhXJCJhiAUzfQU614hyAdo8Tx6DRGXCC+\n",
       "IVV16+EmVjn16QNI4jvlCaVgOgVnxRVQd9Qp1Gq9eKllKAw1qNf9wpWW2xHQx4uUyw1Ck7jPqrVa\n",
       "xn8RE00NSpva7+1NW8hJIcJBlYdr93WlrE0Lkb5SxgHJSg/H71MHWnI6oBzIGbVihrRXPjkrr/5s\n",
       "QvXxEYbJbWvbzc1FuPvOaffCxf7FxOW5oHSTiHEJR0MjPWDxcyiYpS+yPpXCmZpOz+VHTy6ZbWty\n",
       "0KvIaYuomKWBCqndJ747rK3gGqQWMnksQaOqxLR15LbfV+I75SiWSXKHzgi4X2G0zBLpj+wCWW62\n",
       "KREDmI8mWZPBrFbcN5oZVNlMJqtjauywmP6wXbbbisCHot2yi4qne3SJPsChBt2bLssxwHf60z34\n",
       "7pfzdnuYox1p8DMdaloaOe4I/hMUnTaJIyBVyDIgkUa1npbZBvLsVIja6DRebOYeXg+MaAN+k/f0\n",
       "7oBPhzXtpKYe+S7pJIxoHz9Dbh2SAA0vE/JCF45I1AknSD1c6qbSXq6Eegyehtoj1kkFfdzjCcbg\n",
       "AAALlEGaZEnhDyZTAhv//qeEANu6tIO+UIy4u9AAukBHccKxi9oDyxvd/9nPqNDytO0dlepZXn//\n",
       "5/nZKAVL0WUFwzIWZSLTxCCQTCuKfBRzF8Lr7rqD0KrqtmVfqrPpdvCehVBYWlD6MlMVYeqkLpIw\n",
       "/iXtvirJkVQwuqroIYGTrH3WUowcWy71VkJ6poqLMXCyvRTtAgCe7VdhLBAnMKYylKeSFKBHHobB\n",
       "5xO8/BsmlsL0olCPwNO/q2T+1cQ3yB1FrXc6Vqirjaq7j6dzFtJUDghvnViJPcF7oBPjlPeqiwyc\n",
       "pDZJT2vwQ4qYfnH70WTzZxg9s1R/sfaqoL1kkMiiATNWPuXAbVsdkZDKCpFddckGhF9HyCS38oAC\n",
       "7H83JAfKt6CtEFT1DvgEgFGAzhNEjoEBAtHiH2rcqI6hUSEhoVvqgcww+JRi/FLARiSMxTdrMVbz\n",
       "jeCRO8X+jy3agG1jxcXJYwSBU5BJV+HntWdS6GyS2r3VpPMoQwZNqN+BTDr7sG8FatK4W2eOBcV4\n",
       "4fHWHLEWnAY/Pr4rYlR+zuWeVdkx9j+ao83HvOg3NiVlOUFUhUDiMsFUOhTNfazIxodSDoYI7HYm\n",
       "rn8bYmC661F7jcPOFkpodv9q6UXuGupPPyvIfoBxk4IMdmH2wOFxujYb6ymgkyPfXTigNvLhQ7Zp\n",
       "HaTkFc70tAhEaz08FJNvX7vlMhML3qjodwdH/gujLpJmljF14zy3RM5d0iGO5FImeGd5gLYmDflH\n",
       "CyBdCCUaBU32WKglz4G71qXl9XkzxOXfyTGE78NIZKAxPnPHtZzKSCg2vvmmuJgM3jv9BCzxNaUA\n",
       "ADzBQfMAQYrmO1jTwMAIZXW8ll3fviYBhMYty0T+2y9wSDIxyDanbXJdIDMvNjKo4zBs24aT63Es\n",
       "k7p/kLwffBb8BGO+Gcuk0lrINXRFjwMkzCnUJFwXDL2Cms4rvMjvsySsBQvBmmKFaVgyRah2gGev\n",
       "dilBAjOnvLZIAuRQ454J+38QfnBpH7rPFkNnEuyd/wBubMpRLmMaHCYx4NI2Cl4EWDLli6kwY8t4\n",
       "jwD6G1Q//tuo+G65rwwB4zRrsfo/zeTRdEmD08IkX3X2JqbK4ZG9wHLej+hIPDW4HBXY7sPv5Uvu\n",
       "+Z0/DPLgWG1uX2+8SsZW0fHmqiwBMDO1YVNFe0fxPpsaPC1sj07UYnIZpFCuBzrNd+IIf/veBSnK\n",
       "kQVL1qdUZrjDRG9l4nTvD3i48qcOCoL6R9QjxhQtuzco+cWzHWi6DW523DiQn2odyh3XLJtv+GOi\n",
       "UK5qavQ4qzZXUCgfTELkIDKEURQBAfIQcckygNkTkjsQ/T1SoiPaLoOtLaMjhnh48BEzK5lMy41m\n",
       "laGCwuZAiVDrPOwp2ymaXBbegO9BU8bVevTGMzZBpoZGjMwjgEoS82x8Kaa3IVbS7ugjRcOZMrdJ\n",
       "lxbYG4HEOLDc0cWP70e0una6GNLxZNEoFhtPUcKlHpXoDsvDan6r8Rbhh/Q1l+lnKhPxsAkXfrG0\n",
       "p0+MCvq1GbKpomeSquf5aDjz+oqePcqLhcFVu2qfTrXADJ4dWgDlZkd5CO1Ikbb3N839kQhNMyyH\n",
       "aIbxjCrRGakzfaX2ol4xPXNPeeZ6GcR9+YyMbXO1tRSwI52EQzkhNCPzgxmv6m1k4Sx6qO6bryp0\n",
       "6AEuY85mJnOjnAJ69BhaSJR3P9/FYcFEKQIyBBkkyIeRrdxETOTHHmhejf7zN/+6OOr0ytlVXaJ9\n",
       "PpeS2NSE3miSdQQutRagCFjFU4byHojT5KFWma+cjFcbXTY9RWY/XtWNFGMtwFX1u+k3AG+B7Nok\n",
       "R3qvxicaBOfhPw/nKDgQWW7fcqouHWRD/ZVDcxPjUYU5E5VcPJ/KXVlXA+UNIe7u8j1Kq6GPv+uD\n",
       "4rntGFQ4hccMy+WmqkjC/zN5AsKaJ9ONj3/JKuv7phuaYtxnEGyJ/QcfMNO5gT5P67bd0Nvk5/iW\n",
       "szJgqoywjiZWKNoi0Z93YzvdvuKc1EfKdkhUKN3cD+g+5nA75xv/XioLzy1zP8Ww5Uj6XqMS/XPK\n",
       "NuyjvQ+s4CFg4ElVEnhj4NxLWIYT2cR4uW7Jy1//8V+ZYA4W7WNLkPF91DLOWAflSJCkPcOmmNYt\n",
       "WkuTu74Ce2LiYXZUqRRd26I6OiEQOyx4y7QzfZoWIrqjqm/u20ricWlrmtccoIlhkH+ERcjZg5iV\n",
       "VA+M+ynV1Cee30ReKZeyJ8fNzGZqk7gUL0CEny7VLB4MB8zTGIbf4vLbXnZX9L91YtjA9ikm/sW/\n",
       "b7/tu5J3AjPTL5uS0kaJ0DJ9J8CWc+zERQ3rCmXq671HQBpV8n4VllmV5sFyMPJxc+JJZxfTaJx9\n",
       "7f1MCSLERR62xXIgehRffGav4e8HKhtOlFuyNf+wTNoUgMMWu/nBtQf6KtdQb428UsS37ZNT5z2H\n",
       "5rbJp9kWftshb+1V4vDL8ivCtY72IGCmgmBdsyHkiIL/FYVUJhOiBvDk0XabMVDOhh+WmmP1Eu+K\n",
       "JNcWgp85yu1rFtlfvVUQWEbknHOuuGn8RYVzIhcOCEGz/8uo65NM1yTyAfDhTasWV6atBiQspI3L\n",
       "T5xuMRGXxThScuU6bJQycaqSUjHClThmF0LqXVh9LaLuy8vsmGW3FtJ9RhdSnS7RVKPKnV6ACSOb\n",
       "aFE0rvuyt4+6g1cuNjA5D+kpRSpDJA/UvYo2Kzm4BLF82aM87vDrh5aigk19ATmizYdBoe04h76j\n",
       "ZJVVKhpe/AdWJ5p3UA2bd4OGh6pV1cAfsNwHLPkjHH/Qkbw2Dh6HgXjz99I+f+j7snRW8hFTbb+c\n",
       "LmZlMDf49n77c2M2OyKw/Rc3dejQofVrQdas2oc5ASUlimTW3r0Vtre069FDaxzED2MBME9n3d4O\n",
       "YJJ0ax5kynAuNfqXhKPO4U+Cf5KDQ3DnmtWkVzQP1xZIItBK8BDMXZ/TRmUu88faKGIUV2EJ4qG0\n",
       "b8w/S0X4l0qz/7BmmKUb2Y+qmyGVap6FJVH/rXu6nrLjCcD7ZFeKg8IPn5mevz8NYrqAW31T36NL\n",
       "w2kNc8qLUF1R91FeagY0ePxHuDyW/BDdQlgNUEH9gE0GJJrVMaiFYPRubkA5XkJD+zOUSG0uJzrd\n",
       "2bFoIdoQEknKGL/spZVh7KKuu6XQRoY9N77EEmuMfz/PYCQMxiGksZN/agv3EMVirw+zzoUrohJF\n",
       "3Q8/isSea/mMXhFE1jW83N9wf32f4Nkwr4W2FTx/458R2nu1YnhV+kGz/9+kua+/+GsiJGS22m+7\n",
       "Cb8yWXOOEGsnnEM8jceM6ozTCjWczLO785/Np8eq8CF5kkNTKPkNlRvWXAPsNgXG1lGqg7mici9o\n",
       "xYqLqJChdmhyqDuOvogZAxrUMBSvgNPk/rhDgVdNHTv2GJTAjHUGu1pHP5dI8YEfR98c+ywFI3U2\n",
       "Uz5NlQDDH9MmEhK5zrZOmyRArbzOYj41ej1uy0PlhOH8ZynQ5UFALmjz4JbeDzkFNMAEI1hiqGRe\n",
       "lv/uJxF1qoCWqy91EeFgfnAdmfi2VyelWPbnAlel43X/hLEOGQFW/Z/urD7wNA0ZSJ5S2QiZrv+d\n",
       "QH4ovmG4fp/0eGN5J7UKiyGP1s8mJE6yul1aevQn37xF8FdMkyXoG1BCbxhOVxg6MEqd0V5SifkN\n",
       "nbe9D3hESVYRbS+d2JQmwr8hTUZnSfnB3aTRvGY/HPDQ117IoXBW2WCdzyA1tDRtV3nJkHP9Lhsu\n",
       "+1Fa+ijiz6kUAPru7t20CiDsdqKDPDkrn1jJEZYYlOxcGIhUqJZR6hH8wvTBgUWKjPPZdfKwWVCY\n",
       "GpinxzlT5Ii33pdXSBYrkb1hW5u74a3m2YiYSctq02WoF4i12nvF59Uma6GxfWeP748j/XPkdaxY\n",
       "EET4kQNYC9B+NJFvMeUL9/T6DaDOi/TpfFjYYeGCcTsvXkyx74+DeC+jBMYeY01iFVcRD0aFIRwP\n",
       "fkrBnwAADcNBmoVJ4Q8mUwIb//6nhAAgpoOkAmKHjIhbZD7bRzjyFgr+8oemaUFI0md/m3vz+UwX\n",
       "L+e8WU4n9Nxm6O82NLKFg7Yl8kCEd8v1yPlCfK7P23QTWWbXgHQUEGeaA9nCaWt7MvZeE0Dsp5od\n",
       "0uH7M2NocP+9pfmWSxD4obsAFK2WUqJsGBwVk3tqBR7YLEpCL62cbU19TuPBwHxOboQ7DLiBaAhf\n",
       "hjHlaeGo3Y33n1rP2Rtr6jqlv3V5wdHdoN5o8KbTStvGjqH4F2vJwlfYSs43TPPmQmqWQUOdBTNH\n",
       "YcbrO0Ekm2twnpCf/XPT4do8ImtdhybuHVwoGH2wNqA3spoJq4J+t3PT3v/7CFCZCwG2d4ZnT8jD\n",
       "yGMMThFc2NQRv1aOmvUlZ5a8JYFr+EgD5VF8vl+34vSgAHyxRJAgdTwuBaXbsH5XQjFSsAopbkj6\n",
       "EEw3PGZ1fELRUiPzcCVoLqjQpn+SIyhoywU/bya8t+JbsAB4PN9Qib0pck8UB4tdc1/+AdoJSiOH\n",
       "40w5AbMJjkV51SG0lt+9G3wrIwlLYyojzPeTKhC8YE+Y9bHD2oHIm0d7suIJg35A4Ro/Ex7kK9Pd\n",
       "dXdrO+dyOJMiO7evEuuU/44gv2ZphwJwFKA7026EZBSYr31s5nwrKF6jFVNgb0u5sbzZppdAJ/KA\n",
       "ZOsWgfXh1uxcEXLC9bh1tOco1lEdKrI8WnV5U1I6wGiC+FdMVb33LYFjpZyb8jApBxYuhnP0QOdV\n",
       "zkM0ChwaRXK6KWXWWWh8if1qjLtjCvlUaqoe8KOiFoqb2ViH+l540UlsQArAKVHqhV/73MB//8jw\n",
       "XALCUltNumMI1PPVJaBjxZ2VjlIh2WU+WQvx/48+rTrNSRhOWaXgHjA5IX1ULbXeUF1PVfvUT0ei\n",
       "SoEWIVpUbOsBUrR0pe+BMAMbmRvqM7LmIxxL8hhJydXNhLBUuYnT1J1LSwsgkIWPLbTF+MaZKdzK\n",
       "Ac5W7AZAZ4TmOA3aCbNHfoe6ZCXCQK482NHs8HzgY0XPF2a1CWSj0IA0f3K9MVuO2Ey91ZI5oH0z\n",
       "yG5+K2hfqFMqfBmA0VxcBTUwziQG6fYgpMeoVD0iCxQgSTtl9IYfMeQsKOlkns9SzV3qOyB5e40N\n",
       "Ei5w6MrvONG3mPSN4+/E65TVE0OMm9SXXUcQ5hUuH5QkIXU4l0x9EEeDSzgEUx3d3sHuibzNcYpU\n",
       "cfN8bzpve9HG1uBMzg1XfFFaOkI5ViEePpCizESbqtCrat838J5A4oNr8zEfHgPmuAF9juUQMhFZ\n",
       "PveC925Dp61CDv8pqNnLIDdUeqZwL4mCcn6kYkMQu41ClhAt2thjPvdjSivF3kDo76YOI8H9A/Y2\n",
       "WFWiFbnKYWPEwNUJBEq+iSmPDDPa3aBstFEcmVQSrON+Y61WyctAVL9DO2A2JHsVZiDDh8TE2cK0\n",
       "ICy2Aa60EBdAyY89eSkoccuYT8iU32zTFBW+fXB/JOxCRGmrd4EG5Jh5FO9iSmhT0/0xCJyxjqAd\n",
       "cWUI4SQLvYQI7KXMosLSxxpk/73neyCf/wYxtFF3X2qZfHPUI/hzMZbp+co3QRHY2l6Fe18rOZCS\n",
       "Rv/8BfV1kfbmHkikqk/9YXNdFMVJUlp51PdJ1dnAC54k/eSZVo/yt12qPxoLgSf5eL2oO0rGFPqS\n",
       "MOl1zJ6bPvMfx8OmcD/L2cKJyo02JMsEDFquOo63BSMl9pidUi4AoMDutNS1aFnhtcuKNhKAB78M\n",
       "8LcKSqwPl+JrOtZWEGPlVtQILyeXia/RspeTEEdlox68FHWgpQLMB2C8sShWpgIdEhJEEKm3gIXu\n",
       "5IRurOGxc5mhyBAn5puUTATXiiEDF1VfOg1H43Pm+Fyaj9PfWd0X2VUSciESODmJmtnhW4gA93rS\n",
       "EaorTykko/6Mjeaxtd2a+XD+qEOl19f9IpbpV/7ZO7t1E7wERN4RYFUDIhFsM3FJCNQ0Dle3VwF1\n",
       "D85SKwh8EHHx8hl2Ri99LPLm9TUkMvoq5+g8tr+Ggv3uQ7e9mYibpSuTDJ8Rt2SStVSXgJpHeeis\n",
       "EPa2k/CyslKmYFK4sTXqGTWs8BMPvO0oG8GQn6baZ6YoKdg8taqcEmgW1n3u+t/8WdFMPaUkBOfJ\n",
       "u6e7rw5QmH2jnnT3xqNuF7HGEFmam6ySlzuKKUBYkaunGn5qgXA6gLiAzyZmI9FswM0wnl3CvGPB\n",
       "6hWPmT3f8T1VrTtA8zHvw+zfjyeRUScP0TqYEX59uBYseUMFN9fRVSJLQaXTG7NTEbfONSAqmznX\n",
       "uh3zgHm5QJXiBWaxRMeC9uRtx2g2aiqQFeagK5QDBXSR7sWN8Sea9ezUL6syhzrv7utHaXoQrz6j\n",
       "VDSQv6ki3sP9n2lVvEUInSRzUmvRMAjXUczoha2m4Wn8P4yc2dbTWA3W1vwUppO+PCYll7pQBDWX\n",
       "bXOLD5auSdVgbFulWYHixbStBmXvgkHX7+IMTxkQ5y/3mHlHz/3yUKBYgRtdErXSarUNZqLqrx9F\n",
       "mmfsW8LmUmg6JDEu0bBCthpN4I2CibuSXJEV13xp48qGK+TqKEgyVMDKFcBqT5FO4sX3sqp8Qtgy\n",
       "QNV+iwQoYDbHu6A5Mh8QRrZ6+LjWqJ5fyVEG0/t8mHXoFz70nRsVlkVFi7sN6aHWdYggA4O8RE4C\n",
       "UyHUSGHFQh4YgHkZ0JHRDQvlY1JdcrSW++453kXaD/T1XNbkR+H1IUb4e9TsIlxkYecANEvMcO5l\n",
       "gGsnv5evWjXCl3gCEBUnflg/hmlP2VLb/MpY/N2S1Zjuhne8dxjjzDqymIqycivpqFAd+aq29FEx\n",
       "gxPKQPI0RQyG0ghoSasK+f57LO6r/5PFLjeAqbx71iLh8BE1/Tq9DxvmLebdppjgIJrqQoy+LeXC\n",
       "VyEtrqK1UFnDhe7lIdOMBgKjSBWJjj9IejnaHmK8PUrzGoXkDqk9sZkXw+i8Ce2AEcCpFyq9/NSJ\n",
       "oaOTOuqB0WvCbZQC9bJKp5BIG+aaCZYMOjotUvrfjjnpl+orZvfUNICnME932aA03Uh8S5ENgU9C\n",
       "ATq1993qTwNog4SYdDq4lSc9w+CpG5kde4OI+kCe1BRde6a8UAN0tx6E0Q/lS+ZkUqV4v+QxkEmP\n",
       "YbVxqGJ05MbIBjQWJjVdgkmyeY7m6UT/oGmI51/eTQNpj1BZBPTkFbnOnq4o/moQID5l+5rc6yRW\n",
       "sbbFGu1anC3QuZL3wjsuPWR6+DYehqrMiC/dsSkyLUUk723li7QQIVK8TplVjzbHEUfp2+dHnwJU\n",
       "BACAxrDxMb/5uW2wsTve+X/2dJ/aNrkZ28QG2z09notQN2quxENgxqjGo9mdB5OE+L30NTp+5nVC\n",
       "gUSB2pQvSbZvCK8FH3Y5cyXMxaHzUXQ8P8VdL/jBt1Co6lOJO538TiOt8D1JByw0k2H4DxHlJz7S\n",
       "e1jH+ojHljeGArYzN4rBv/yvXoEQUgaM0QScaXc9i1R6NGBNaP/+BAB04O5va7TQ2Ht39UDOC+mO\n",
       "eu7GzECJAfNvQqf/MuIcdqRuoY/QLFPuoTZNWGvrlOwIT9P32tRmsmbuZsnt22zGfnhlvjVJCMpd\n",
       "shj5RuoXDefaIw75VDFd6sRZh4abzTm9DtxlktSF6TpAc2SiT39sTRgkzAbbxKJjsN/yNi5pDAY4\n",
       "EPDCRGZliRGuEV43jYdmkyinY8TSejV6XqWuqKt+l6d/FMDF8surEnPGd3MUyVgWPri65ESD3OKY\n",
       "ZKNzEgZ6h2GuuJLKiTbasY7vai49wly3MMMmcLdmgeH4MNGEPK8VWe5P0Qdld4hKorxIeobCWK2F\n",
       "GlMBVo51lXxKJw5ddu1kyFGdiYm27AgrFIncyVW0ed5qsgwGZBVIvRDuJTzl0E9u42bThEw1wACR\n",
       "2JLAw8+wBqHfZMvZokJvXJZlAAXqLcftXAEtZJ7ZLaulxPfyi+A4jGZvtSwaA3CmW6iaD+QjWgQD\n",
       "1CUgb6SWv6upHskGyC6MJ87jj2tLCS7wicaeUQYaimleFJvuWQ4YxESQQc6U/j/EGx0JLNvo7L/C\n",
       "HeoIUU64gE8JwK3NXgx/+FhSfzuK5RpboswDC8+PWmpEh9HLTVY0NdDGD1CQgELxbvVlqz9gUMBU\n",
       "q4pYtZap7tGRjf51/4su5IxpTDCMVYMOlsdbdubQzGrIlTyswScyAoZxX+AsgkJXa6zfOutoher+\n",
       "xIZ22yNe+pBqK3J/1kc+e25JqJznMAuKr2oWQsn7EyaxuXlCRbQP0sWlGZrwlqONfL/N+p1Xashf\n",
       "Ijfx4ZTItH4rWWGWPiGJFS/bKIt1dw4a5OEOoq0GtCVmf3GXxQzPG+3NfkRKY2NleKh6xDkqNfUi\n",
       "GJMrI8ubkcM9l8PyoJm+3RrozmoRxdG78pUuu54kdKU11gKWajPzOV58/k4YW2bKrfEK7A9IH8TE\n",
       "Xc4c6YhyoY8Vj/rsNenYlY8yXD4qWR/tbOmR+zmANi+o+6OaM1YXDk2ds7kfpiyfnlX2JwrSulgU\n",
       "FnQJjCUh4hLkO82jxakoS2CkLxz0qKHPpfVtD3UgcAEVH7Sia23BdUtPavt4OH8xVV4maZbeZmyA\n",
       "TkVDFDERAx1f3LqhRJXrI6ETKCPiap82kXQDPfGJAM+PR8souLg3HarwvUKTRxEGZBLfFpLpO4G/\n",
       "MkRePX/6sEzfmyTewP9fNE8eInD56NWhgtThpweSDbxVaiRPmRJLSRACqebAgI7AZYaaDCPhAAAO\n",
       "SkGapknhDyZTAh3//qmWAEZ7tqAvlUTS9+3v9gu94uJGf0yIRK4+5cC/ru9rlLn03dZupzzrYtsk\n",
       "Va9qFRpKkDiER+S3aKOFZwJWatmdLyY3ia4EMQY72bcQSMTij24PSCwyeFdxsKECFIreHQIohBWi\n",
       "siI9TunSh59bIjbyczsPsZ+f8lCMeDmLQpzFUhTh0ScNFF2N3RwurSGqcuhvC3NilLeL4qlSa40T\n",
       "Grnay3LKm2PypaF+s2d6VVNektiIFAQTn27M1z0dSBpO26ZapYnnvBFYd4qK6R4/EYYGxFvxImj/\n",
       "qa8CHxHS5Qhz6b4Nb18uH2JiWISKLwKiL8r8ASWOvfAfgMPYsgagySUh6mOEiSZT3DVwBRu3bSuI\n",
       "1nHnMmkdL/TNrHcpbEDtBdn2amorsNfo8gwFi1NvYDOH/b4YFt04rHhPbhMHL44XQW1c1JlYaEXj\n",
       "n/D/ZWt7aFzy23gc8xeeie8cYUZTpU9fMWdTRtNhPfb4/lFtKBamnWbkcgrqcOoysXv0LoL+3RbT\n",
       "J6jpeLXlcE+iIz61Lq3rNpbBYeC2JVdWJaVMPg9FeKuZkWuSH8KWJl3dJOvb7/XKdp922hf+pqBC\n",
       "1gwZYxk1BPxaOvgFrJB1x3AHrz6xS5odgYGL0IsFpgR3mcCfF6jPyZyDQrpTUAVuFwjBtEe0q3Vg\n",
       "K02zsqooXz6otBRabzWJBY9ThJjWwIWFIcMzq9zRktFFNlrSPrcXJbVJWU1Ll9HxtyHt/Vq62GbB\n",
       "DEhllx62HNtysdDP/ArdE35MWFz96q50GLAwAmRiMkoeKvgje/gB0hrYkxlsTjcENySNgxfoliS7\n",
       "iRbLNdYNkEvXcEonyECGTBA5aIhNL+CgLpoOvN1Lp6v1UExbfxi/kME41N1XzVo59GT7AnqA4D5F\n",
       "lXQBloFF8Bqme+nloy4obt/l7862+LTgGJbCT4xpTDvyENHLrlg9hM3DZLrUftHrbXfS4/f5xyCF\n",
       "dZmC9IpHVtV1P7sJef/2ROK//mf/MogZWTPS926z8b2koyOVkJKItoQ+gpszocZyJwFCOlD27GwZ\n",
       "OOBY+KFR7MBkwaiHQJnAy2o2MvgeoKsMA/Ck8zyWhrqYiGfLHzcNAH7JcCrJTs9VAcsI2L0Id3e2\n",
       "BqU8QWoJrrmJFvDjzY6v0FT3fOG+N9PdqiPbdd9lZ9sIk3i6z6eitQVEOdOncnLqncf1GMtwIiu+\n",
       "aWL+2s/BRh3qKfgLuwWjXeueewkGGnD/yVkXda80Hv/AMwtfrkNzCA1WPKp2hiGbI77UaalOHSnU\n",
       "TZsk7BVHkD/zyzU64Cszc6rFOMuKnWc8NMhGWnWZNpOVBWxkkjyD580p5Gt57E4A2Lb6NvPmZrxV\n",
       "fUMNl32/l3St/Uc/kMKJrY7P+FulR3KninibtZX9MhVVtf1NAbxDWrUkTfxSnKw6ETbW5ykuP/ip\n",
       "IlKpS+ejiR0td2FyXeon8fOHHe3+BVY4x9+6PesfjYZTO9wL1H3k9TnKEuHok6VLyrdd98EpcqJc\n",
       "P6pEd7s8LfNd833czPwQfBmaDB7ojqeK9QT9XaeMJJB9z8QtGx7nQfM8XJcvl3dFp3W4HZB58E+5\n",
       "cdPWwrA4R39JPKhYte3yv5GraufJQLNPMgAUplBuc4X+o64IY/j42rg5FZENiRwEDkrAClvwk4JG\n",
       "K/2Ml8U251GP3HeWb5RjjgSmYyaiLjWhVg6pSBwTtPEhUrVbST9f35bfTyK2SyYUGMD6YQXHm8b6\n",
       "BBi6lgrAvHpEgVcZh4tpwFEIUVctD5w5/bPLepd2GGMJPG000neVWQdOvPckuMzB/qWrAVhr76Ly\n",
       "dSS5mY3hp1MMqJtbnFS00ng9Vr5KWMTqaL56A4kV7FzjaM0YqLrrBvXaCn1LdrwQXaFT4hQKs5l+\n",
       "P0bPlR34ZWXg+8tmghkgTDAmJFOt3n2xudXl0Y33mwcgQ7mdaZfvPi0DSEFTMKGCGL6arNBDxXuF\n",
       "EaEf0/YO/vz24ZGcxsIyvTYimjOv3S6LEyG6ytCz3JU1fOYJiFeWNEezHiOwuiPeYGSWqhgxTZZ5\n",
       "YL+PCrSWEHJPLBbGU0llnCxzVt/1ouPBNln4y4Db+57xH+og+W7l17HDEFiecvCHBHUFdBavm0Ob\n",
       "ogWNoLqxLq+OLGE7SMisfPbIO8quPGUkvXxNE+tzlsIDjlM/qNnlbNKNqdc7VQ6a+KOm7UTm0iDs\n",
       "4EmWwU9JIcYowdGKkJMb57ROder+1IPgGkIRNPKjnn+24jeWnfCv3mSnNowuXl96t5f/Gyt+id0A\n",
       "mR63YM3Oa9zPQY/rzA9l7uFN31X5kB6kVCboz3nm+oZ4TtTJBhnydKDa7BATaQUUYcYK237Lo9xL\n",
       "HLvgdKZxoloS8VkqLHpH/gE7jqpCUtO7L/E1BmUPcxmVc2qZg0bKEbxEzplNu0tWiaKmYohuTUh8\n",
       "q7qSvLhLAUJoic95TWw/55xBLdZbPmfALA3FjsUNwomr8bOCYTTlQnqNYjjoTb59rMP3R4tWAAM/\n",
       "hOo9gn9FNn7V8mj1XPvVsUNE9nlwSOfeLuU75omxdG8mnmC4bIwiLKPypzIYvZz6uMn5+PExYGsp\n",
       "cREyFz5whqiyhKuawV1Bgiyjgrg3Ncj87u9StW0RUsq53V5tLcc9efBlj5kVWy/++7YIWPBUdw+n\n",
       "4yrB9VhEv2Mtx/tjUpkssS0VV6oWGgP81ZMnOZlqZVU3kQvjeRXcb49kgbOuCiJ6z5CH7O3OUOt4\n",
       "5cBYyvF/Qfx04C1iM0rcFNpL1A9D+z8GWqInx/tgeMJ/2QyBJ4QeEq+LBMaeupzDz2gBDDkbyd4J\n",
       "/bCCzBus9dxXTz3auilB4sUNdb36F0cPMxZmNmfmqjrVK+ACHka8XTkfMJ+cRzTFHmAtWuwdKaPe\n",
       "KijsHzPsYRhbeP3yjyJlOnjjq5TWPnMweHrh8N26Zh0fEckWO8FuhiZ94N2BKDIts+j8mp1W2eVu\n",
       "i7U0HBp3RXYGcy9VUwohNHA/kKVnZuYNjK7w0wZVotVtkNtuJXymnrn+JxlmkmuRTzefLoFehzwK\n",
       "9Nxe99a7Yih6I4PrcqSExezbzOca27tkt+h/cXJrSKNjS9sbOREDmzNu74ceDXA7d8k01jB1GD+1\n",
       "YZHzEf8wbu2uZYjjlQta7YHolNf+3VHriO5LPpsMwnUgka4bUfNzZ0sXhYU1Zv3+LLu7HmoA6Q/k\n",
       "SrPmIUo6G2W9LcJsBT5E0Q5+JLOxcCnAP1sW1rJdTwQYlG5I5h67YggLk3GCRbqvBWnroBB1edD7\n",
       "0JHtY2raFSHZCz+sObcL3wxXgmo9bK99766NRCg2TyJRm1OufydzNZ/0f4iN3bNAvUPCQcmvK1VD\n",
       "6AHORLvEdDIRuDh1/RAC+1GiHjq2H0pWQNK9FAtyhBuc57K4scmEU1qViM2wMvMkgQmr085maXSY\n",
       "C+n6mtfHrO5Z2hO7Vlfln45UKCNv6qCgWPyMxTwo/Fzvl+Fi/xvn9bQbgsa5EGAIIwDxwEFpVjuO\n",
       "wuk/cDbbd/eo9kTJnhf+dBHExdvThnpduwn/vx20Y2lLGQu92zkpBDofsNA2CoJLcrVhA/pUga4Z\n",
       "9IGFvcmsHUNs969KCW34+IaMgn4T29hyIgzkVzHx8NYjqyof8Z0EK1ApiB4tFw/Se4MXwAVPz3XB\n",
       "SHmmfRY6zADazFdVapmUBtUk70CiITUl8YVduVlmqiqBOGUGAODVMoNqCTlAe3RNVr6pM1FRWl17\n",
       "b6fcMz4eW9OUdkDWtgp5QzWddI7Ye6PkMuOcqkgceTdhv1FsCukJACEiEJUp+LxXqUgJN5o9Z+ml\n",
       "W427U8xmHKBnrxS6ZHdb3QAGsRv083c0rDKwQh3vWNwK3nj7ZRPivse6UWB0cLO3lCf0ZYoSHccG\n",
       "f8od3IS42TE+qTx7bI6jjZKCFDr/3esexXjb9aWakkcbDQsL0FtklqeIxRlCDlSGaGsgl+9RqdH+\n",
       "ffM/Om4KQwaFRa3ZaS7RafcfVtbRGZRW/407JLBheBAKCVE/MNBrLH3paiMi0HtDy83pJlg4R0bn\n",
       "0FSi4ywkWwIi5e9MiUn2jHgQ9PZvskttJJZciKfefyszAIRDjy1ioC9Pxn5jyeEQnSUzSbxrVISH\n",
       "jifxeqtkKlM/l9jGJlQw+bBu6mrG8IOkqT3E/tpt77MHgVm4UluCIUD7gQKaozWkPxBwoBgE6nun\n",
       "GXOPL7c7KVw67rI4lvZeAqV2+qSxe8y1o/8pER5hxq0ZPHVZ9H/qsCVNkTVXN8u3xswAwuX3E+A9\n",
       "7sDXW3auwOkd2MqjVMXdTOWE2zqvbo1AZSX1Qk1MzGoiK8hY0BlQ5Vbp8Hch5k+Cqvl7p+SVEv3a\n",
       "tfgEEs5wEUvyC1EfxIg5XOLegZfVYtf+y/5yMuR3/GBKTRFSF0KpnVY6rvhl/33BJwF8cqxfHW1W\n",
       "UEEGeTE4Mb0h6YX/MBEaVOdkdBfhzBz8X7d07vbEiGpUNApyOf6OS+VCvFm3aOMOmV3hBUqzsEtC\n",
       "L7ZNlOb4yPIAeFVJ/T6mmBb91mM2D+iBdtrwGtd9MICxx3kUq29qCEV06Xv82mFD4gm0AI5QJMZU\n",
       "CSYnPNEtQ5Cmnt6HK+GGCCVGCnIFkwyajaGft0ac4nJOYS+tuSWfX9k5NWefav9k9ltQgXpz52Rn\n",
       "2Lwl/DS2pILfXCINFeinACOouVhYIquGXP/GKD8kH0FqxlbfZczV3WVfXvNNQ7T2akFwHZEz6NFR\n",
       "6CecRdFVrrg2eUIeM66llae9P/BeIrUJ6EsOuhPmi8R+Lm25kD7r3XS91DL8Nql1FSwcBYTFOtmw\n",
       "Lfz4MzOtztovreKD+N8cOtxHhSBkystDKClkmUH+7lxjZxV/2zPTH4LYM7Ay1d2BuxMPlMTiZ44E\n",
       "sHl/FYhIGAlVAqcAAA3uQZrJSeEPJlMCG//+p4QAOj7KjJ1Br/ncLenYACEqs1/waqE49R/gLgXZ\n",
       "1XeKpSiWGCeexEs2lasT9rO2crB2ydLM0GdIt1IwHx+cWdEiQJhMTSd0wW1qGz1wBmcRGDCM3Fu7\n",
       "4aCtxBXlhXfgkKmGbia4trmC4KFWwpbHCuBvnBbLqPX8UgUlxeby9ofWTy7fTW8qEnoQhReSiOq6\n",
       "hSXt/r9xftdvBWFUfKRU8KJeT75ajKkRPLm4dD+cwM+Tvmb0z131BvkXRqL/BGj86ncV5DrEq1pN\n",
       "fvTrOLhbvQqbO2s36JEphF/dE+dvw/XX6tndUs/wRQRTqVvUMQrUU/SD0tMshwRMEZlmkaYoQqgt\n",
       "ZoIqj96vIMaRPriayOWcxFsNgRkiCHWE0oohW2V0dODnyqpNspUbxwV2fEZ2f82+HUesnrO/mF8R\n",
       "i7rnOdipcdcJB2YUnQO0hGn3O6yGf12whLBBiS2CdBcC6WLI/05B9aJWZ3aWdNGbpYY63sdCMQsG\n",
       "PrcORnCWTKN/Y7WmbbDKlnGTipw7ZzPYEIkzToLLUJ4+vHc/Rjo2M9T0kL5TTobIFRr3mEkDjI+O\n",
       "du1z6ZIRrcnUOL3zmprT2BFYfkXKlvdVIZy5NXw01JCELeKTyuI/GpqR48UxWy2XAjqtVtakb3Lj\n",
       "dvMCcFSue/OvnVEmTShGORGghydmlXx/zt1+6YuYU3+iChJZ5TMbunXRYr9SpQllsBov5CnwgfMO\n",
       "xL1WSqO8Jy6UiZqhGWbIjZFDbZGCumC7GfRAoYf5KH+h0X3QRSKuPUuxDai6jTsntmqdzNat1TQc\n",
       "FcUh9H4j0AqbARMdlyVYkHO8R7Nn30dQ4h1NMEhN83CJbegBaH55hnTGQ9e+bM/KcGFCLeKHQaoX\n",
       "ncXP2avZvi/bjnHtP69suFPUzqToMtLEuEOvajnDox+PcWhL4tHREBeiFNvI6LbADeApKA000gwo\n",
       "rIKcu25o314rIbmhIgeSVIMC4vaMWrlXe+zVbkOlosQaU/kWl4va03itVlwthbJZLaNYEgF7x2LW\n",
       "nQOYirfr+1j925pSL+8birkUz37LHDzBfcjAxl3RiEzHpi0aXQg9ty0sU8d+cvo7noLaDEZIgt+1\n",
       "fshQIe7CMgffQJOW0fX9x8lUA8bPTYyqetd3OmAZUm95IhPwUaPtswkBbevUIe6FDyleeaQCgZ5V\n",
       "ksNVSojy1XEUhAxEt71cTfcaoLBDKeJpRj2NDehWk89OvbshFe6NugWrDkwJa50Frqsb3BWvPVGa\n",
       "Ga9+Ceq3jZ6/SkESANWwK9jZtasMwZeFo39pCrh1q7qdZp5v2WZLnOwj/OqhtRX/u6ltA/EyPlkF\n",
       "2U0/zVwCgovez1cGFffJVa9bvOWzOqQekfHg8kLX0YV16wMNS8ZhzXYYsw9ieTE7E3iNds36ML3U\n",
       "He4Y5oi2OlWkoZBRu95+U+obvCAAND69y8JemMmdaecaniOriNVY47KZioiMFqiCHfMpzJIkDBW5\n",
       "CP1aHzkLpo5DQFB7SNAxU2DxzOAg8hyWo2TCZMwDDF6CLuKp1F6FWhiTw/gwb+hT0S7hgEM4l1BD\n",
       "qgygYXp5mI1hx1/8ew29nTYqWZMc4huOTHpRp7co0NNb5af4Hn3kp+UvWNNiM7y1Ba6e3YJQ0hu3\n",
       "Eaa41z3ShvTec6NHF6GL7uUZb/+JDHqzQx2Eoy/6QevO5U64ItrKmPPNVE0clj8rF5S7v7vO3ahg\n",
       "loL09fYGpazxcytt04rhiS82b43J999AtfzX8avaQVPzWaTNT40UpxykMuM8LrkoLmfOifcQsLj4\n",
       "+odHuFVhEohYCIAY/aEZoTqBcNYlm/imUGwmJci8HXz4wJI1fF9/vMlluxGZUfNsA54AAGH+iiUE\n",
       "b39vzK8igCZWpp9iLq2V4edvMXnCdUKOvnh6x2QggS8pxRMM6GjT0pgJ7Q+TOdZqC2XAhKYAqBnm\n",
       "Jc3WfbuAYT56u1oF/2PVC0GuVPCFyF9jFsV7iAJhILgMh0EoYZnGBCmr+gy+FqzMpSLxGg3uFyko\n",
       "KBxyq/hfWdeJB0hc7T5RbnDdYaJj61PYAlLbef30C+hfzthFSCp8exoojhbdDOhnZe68DfTlu5t6\n",
       "6hTrOCw/BSq+HhjN573A9nDrgV3kIRffrt9hZ+Rps+79MeWwWqZXxabd0xcq4jvbOtHgEMezzY4e\n",
       "4aKcMpYFNtY0HGLTr2mDfghf+n4GpMcKV3btPb625QDLBf+BlKhhjR0kCPwscq+dc1xQApwDpWhC\n",
       "2cP5SsEMqzwAhWUBOcZvaCuiF9YJ1d2ULl5tP0P7UgDB8lBF84OImOZvBY/lDdxJuTxCIAyzACj2\n",
       "6hS+Sd3xXYSmUbrTzwA76/QU8bbAg0myRfvG7GBxL1freCRy+Tfp/pH4in2+lb+iqQuEWc2e0Ejk\n",
       "slHoZxPXf2ZYJLfldUhSWoIhFbHF+wXgE5EWFu1IGI+CsrpKhyLRvu2hEfAmD5WgGw5MZ1FTmYQv\n",
       "dj5Fpx3wE2N+r6SB/4JbVMwib0EvYqKovzQgLiw4p9tgPQShz+Fxx2E9pJraSEyKsfdg2QGTtBv7\n",
       "xXq0dGpwbaobsHf8QUXwFbBxzckFv0+5Al7b/byBM6RU7N0TaFGicgo8f9SktQJsnIvidsKVZuYB\n",
       "+Zlk1lt3rc1aBpHiWvqpvNuCbkwcuu/+VqMtFxKOayVWoEknzPoRBpg7zPBu3tD8DpgoUF+TFj54\n",
       "iNeTki/WITK0wyK5XWEdpuzv1A5gJGdsrlSXVGdt8TEv28oEW4/qeH95WVALIHY/T9eKbpui8Asm\n",
       "zkPaJipfVoy2ptN0V9vujD+fbI2+Sia7Iqyq7oRC9eycrCi4DgJ2pzyjn1JnGZn1Y7nDmHDP95/H\n",
       "NaN2C9So2KD/TKgbCz9NXnGj+q9lJqur5vcrT+30f2FgRNoCHL7RtY12oCqF9HjFNsvxINqf30u0\n",
       "q9HYfHGgPDLYc1rdInl2fhqHo1puZJ9tGxhqimb2ZX3yzjjGxv2JhPr5K0JWvfF58Cg4AHBeeilg\n",
       "iF/HL+O2mhc+I4S0fXRQHwVBV7BmFBg+OCiiXQtIC6tFdOAuGeYtJlEZYGaG8SIjcw0yz+W2gEuD\n",
       "fE9zjtQZpl2WLgikOH1JVcXM13JWVbYoi9SHd+rm+tGmVvynmCpG+5+AT04N0+nOMWpLNk3Ddpri\n",
       "bqtpQ9dLRhmVJLhxASgQLcO50jtAg598dWTzWK5JX6ZnCmZChS489o+6J+g9xtfO2rkA8S+I1CX6\n",
       "3Mqo61GJjYRMjMa2oc8OM2O+qQgYpUDXghMCQ7scqgQLgRjsnhVShV+Pk+F4PlA8u68s2q0dCd12\n",
       "olZzhWJqqigfILrQlBnkEZBNaZ9cxpt8PYJ2v5OaMlLp2jFvg6JYFROO28oMmbh83s3rej7cFh52\n",
       "nD+pQdsM2ME0y+vIRTXSLAkdO5EEIcjeWKowjelpNqTYn7V98OWgNt8Bs4m0p91hfWWsw6rgFydR\n",
       "j9APdoM2JvYZkmzLfH4ZVvfigO2uhBwKkIl0GDFWDjJZdA5rtD2JHg3mmDc5weRsM2pkTFJ9AxdV\n",
       "26c91WJQY73ExN3b+VYi4WXGIcuFUONuahElZB1D00Pnpbj7efj4C9g7HqvoLths70KovDnnZoZ+\n",
       "E3yybvSbVD3/3AolwvFvRIvWOy54P2zxS582YLGLLUJkhncjy8mM4SWkAeHOS7JUk+1qDZJ2jy1F\n",
       "h5w3/6NPf6ZaccXXOHxdhjj9oQ2rJNZOlV2IRg5Cue04WBjUW4dzPp7cybhViIMuEOsnz+LyRcI/\n",
       "PJ//Ru9lv6GuS1CGBHlGoNIlEtRS28MJSPGC11oZIdkYB5UWH4q7vaGSzegOac+RGG6zsrQ7ZDTD\n",
       "QnGdHBPeGeIShyByOJiZ10wkKeu3iJaSgCqZPxNS3I4EtYk11pBJVA/ABObQOHgrrVMz/YHWv+wR\n",
       "6o9AA2BnHhi55SfB+HaRf/hocb1v/6/p7nJGvedFiUgsmsNQZBu/jdE5CtL0tzhU7rsMjnPHhBdF\n",
       "WSGIEMrAovPOdh+x1z9/uX5P+ABqPMUt08KNrQ21sxQ9CMW0kUsnkCF4k5fKS6NG4E/Ws3R99ZVv\n",
       "anBuiTRvo36by9rUeba8WIvHe+k8xqxfaIs2H2IYlEkx8KA0T9JnVsShwvGySEPXaIST2wunFJ2o\n",
       "FCtdh4zzSOQ/u3uaaH5ix707SuPkzwN2aMYppUpHbtsi2IdWqmJDbLiRPo2nVhmQdjs8vJE7msH8\n",
       "m1zayb5C4MOeR1dfHC9iFu6qNya0GtNZ1Fjha+wlB/BIPGi5CS3yPBQCvUx1lV2w96x5OnuLLgwx\n",
       "X8dyZ7S9u+epLTLxx1Xwxf9H5i0CVSsMhiQcnsIOXtuU+vrf49uiDOwyTbfXurD7uXJa7+d8Rp/d\n",
       "VWMlYtuHfOhc2GG14JI1chhYmEUKpt58hGvj3hLiYRbTaXOQ6z02g5FkwXcnFdQlTxd3Dhb/4LZZ\n",
       "HkigNRaQSCpKqmm/a5uWzLuRnEud+Gvzgrm1FtP12TR8/lTW6dN9LHw1fNxGz/SA/x8lE0REYpjA\n",
       "t1d28AmqCBTpkTKToXTT2JOrYGwiNEf6uZ0c2lMyXM6k4Xc3qukokQTiPMJ4oLyrS9RzO88C95Uh\n",
       "N5oGCHDQWITGqB9sCPh53Vgzndy5igSNYlkAuhOK1ckYgWxmnz38VSAr5wy4zeYfv1i6qxIfpZuj\n",
       "vRGT1v6oFxLTj3OUIn0j5mkJQ5/lIX7TcHMZWBe1l0QDjv4CGxpp37FRwU4ABeUAAAfeQZ7nRRE8\n",
       "L/8ANNEb+lDWfcFmy+upqcpKRkIoCV6uAEz4EHKCCinPdKoRtX2qpkVfwQNON5T5Z56vro9+BcSh\n",
       "D++tejJJRGBHdfqP2m41tjm7fw7Mo9Il800qUv7u6PV9bHLI/1ECqZsop28QjP60XT3ElOWjjz90\n",
       "VQdzaZPWs1ZeS2RNQlQRp22uYGQgAAgl1VLlk06VzKYj+gZ9xK2f8zxPznOwcSkzBXwdGadVqaTK\n",
       "OXF6h7EypYFdwwIKeW/tvcosrmlvTH7Ugr2UNNb66I3htYMzae3KR1L20ci91Z6sD1uvGiox1keM\n",
       "MvVqqCG2d4BHSlAbDxmHGoCGtfeJojDJV191lWm3cJkvzL8oUjn6P62rfyFJ1N8B/xnqNGJY/ULC\n",
       "KE6L8uK6ha0q3+HPnPF5iqMJqEhwafm1xNb6OxhadlFJ+9bfZh0Q18Xq1dJp7kCSBokvPFq98FL+\n",
       "SXXe91s9xH/swEYmCWVz1CprVHHSUQDwT75K0O12zfyZUatd744y6VfzXUg3JmfHySUdmtq+85++\n",
       "l2/HFwV9uJ3ySvPIE7Ti9IOaIGQPGVq5NVgnKTpUC6csmInEghZlJseaOGwAruzgUxXzuW7bV5WM\n",
       "QSkNtGthbLS2Ow+ot+qMHdi1eqIdpLZLB3OCqLH7BfjG8su8OEpkdhNnN7VE0mZpdpDPGOWi8iF8\n",
       "J3aUkLlrPKnoMXuy9XDeexKSko+PEHqCDqIGITqjUUWUsigq0NjyufJQeB/H782i8DWlC89HcG92\n",
       "u6fKtJp4G+ZzxtxumvMTgDfGQ8HoWQ+k+VqgWWLb4L4RLpyfr+Hk1ZB5siwfX4KKJ/oOtVFtQ8fm\n",
       "bNpag/Re4LAq3wlFopU+5x0l7RjP7cwQEGnkKHjc4uQfQWCCkefmKS7/UwwgJvI1ImNIqvHkfgNy\n",
       "E6piBibieB7rnrkzirlK6t7ju2MbA9zbVa/WoEk/fhWDjpq6YikyDXc+BBQNN+70ymqKlNayCCyv\n",
       "pWX6TQwMT0U5TzUivuRIZlJjhF5iGfkKW5NKu1/Gi0UEZ8p77ugVltWyGVseXl0y6w9icgNSMR5D\n",
       "kAWuM3ajKN5ZIBMO04FMtL5PQaya8I8oXF9HVF7+JqHgfgwdf1Ygc6JbKCMZyR7AZqNLikfuSCtH\n",
       "Yz8F/eE24IGrrsk4C3Cttzy5DVEkECHdofH+2qJ1JrlUu66J8cktCWBGhpcUIoIqAG0e3uIyejhv\n",
       "Ysbeo5PQH3uhGPxKhRE3AUfE2gjbSeaFuoDoRebxj2QXqC08uGVGJl+MPPHRuQV3x4nOjI25IhdK\n",
       "DXCQTEs/tlFeftVxu1689LrooKvYsHw0F5Aj/UPl8e2muh3dEXKEhWW0utJGAiSX/2t2SFxnGbDL\n",
       "VO5Djp6y02Ms/g87tzAi7qodkHjrs5oQnDqFwvM5zwKARt/D5DPOZf9J288EXmk0MVskdLNmBjG9\n",
       "WLMsUNgW95m01vIJXF39ClwE/hlHm8mX4N6Tv3yJ0MU9gzzhFAJdIpiv1SbHPo1i1Rw4bCP7ZYjX\n",
       "0Nix+zD3xfCt5RFEcY+Udfkh54sLYweQs8T1+D9Wk41tt0eXIlw84us1AMVVUIlcCJDS05TCCChk\n",
       "eBpXHdbdZgFjgO7lVTllwFXXQMH/LSHWDXZNinaN7uVtwJOeavoXVM4lGC/73Yr3n6LIe9SNUYWZ\n",
       "9B/3glAqt9ZPB3YwLaUaRyONtqQ6QkjciuOWvT1WqQcrL+J2b1ItLwmwUvQJICkve9QmCP8jMHB9\n",
       "pnKBqeM2+tYt8D14EmNakfBqGVqZQyYVs6VqJe+BsTLHu6qie87ISTSNGQWaS456I2CvgScI9pVk\n",
       "uGshQ/bIn4tdRC3z48HEzE4/BTYpuDtrALSDWNg6f4RfI9QnJyNRHWSX6QE/MGBbWAkNO37+/AI5\n",
       "+vicFi+AGDbfrFUnLYGYWXDf9gJ6bDjmnx54YVJ/owaNqpaqx6pIqoHRlATxxEcfhiKCF66kVo/h\n",
       "u2YZKeZBdA0yAn8eEh2JIhoraDAJ7RbK5hUu4r9Pp0nN1CGYf1Wb0s/SbyHSuzZHJdcWdT67PoXg\n",
       "pCN8jLKFq0dO4biBtPEh41CMbKKhdNiqGtK5GYforP46AIY7jOMNcw4Vi2G0Jq0PfTMjG3Wlr7Nf\n",
       "QizLKYjLtEp5UEbSDFGtXucQd1ShpA1IPXGCOLgioQojIulDvMQrG2W/S1mjGrfj+Fn2TLjqXF+N\n",
       "pypy5ABu1/6lLXAcd1kxpJgK0BphgsO57WMNDM6BPklREKXvRZw4qOfPTqoZED8hpCqdRJ9m8Gmi\n",
       "t6SVtwY3iOJK9kutKvIsYza4e+oB1Pq8nB9vSPi53SrC04PL95DgwAwluAiU2nx6FCkSOjU3DKU1\n",
       "+L7IeJ+dGQCB5jrJwj8xYJGa935wWH3FTlQ6MWPIQN3KhMmpbe6uREIXMpmASzdiiOVkj6d8bbDv\n",
       "EKlY+yQUV+V0387dtacqsbu9fqnaPeIGHel9VOf83sSIiVOCkbt4sVw4dLldwjBT1L0Oz3cyPP7w\n",
       "OAQMMxM790txgJx4u3wElcymNtRX1CK8eIwDu8dAatU62ipngfOGimc3raqlPHfsDIMn7P43zlwc\n",
       "phE1fyiX71NK5bhL5V2O4U6jbOJ45iRjVrGQvggMEULlDT0negW4S739XPg9IK4J816Sj4KZG1Oo\n",
       "mhX+pYxoIPrWy7A3oAAABKIBnwhqQr8AN06mMw0cZgPCdzJ8/1xoRfgzqsLRACc8X72NPWzh9Xhx\n",
       "b/Eoby9J7NNFGiiEXUmQ/qknPdejGuT/IrNXel6Ygi5CWFzpwHJmhLbInXhCe/5Tuhi8rsPpSzG+\n",
       "2uc8tGh/Brpv2jsXLc8ybxPbrF1PhH8T6Y8gHe1yoSCmEWz6kIT9uPw/1fcEiR30TVDLZFyMMOmj\n",
       "A0s3JSsG6KPE1WM7r5D5Tfr0vOqteUJOP83mI5bqfLa/GQGKp7DEPN+LcccC1ZI6JxEi5N7yb9bX\n",
       "bJM0FU2EYzEVeSYQ6OKAciwzo2qOVuOzFopsOThmwGgeTuwYK3qXTY3jlCtoEH+jQL+MD3AnmScE\n",
       "FekjMVbwdgWe8WFVN3Jv9BLkhvf5I2gqS+5blzwJQiFOed819lwaiKSggrJaM+Rgh560yMap8nEg\n",
       "fVHIwYXpnA9w1mKzDUHHxyEFwIBi3WLhAyQ10DOHfNFhOXibRtY3Dn63OkVYIQRCfFgYw/ChxDA2\n",
       "/2SZ4MFQ9gl0lB/0tilJhOi7WoDb88xKG5Kz2n4CKvPylQCo+INPp2lVMqCR15wRV5NRzeCtR5Ga\n",
       "H6CE00ritF3kfznCwHAO2MYsX0Z5Gsd56TGXaGGxqd4cTU2TdjDPVPYuGeYcHHZ3dIAxjwzIOVj1\n",
       "WGIDVMOjdMK21fXCvrwV/k1WcXfKcgq7szqytrWrMe8EFRLHa4z/AF4dWxIhJG9FjjEdCBUaxPXg\n",
       "hHVLBTXVogYHGKxPHxX5fHGQSYa6/wvHci4Ek1Am91dvtvJ5hYWBmg7zJoxQbqoYSYsr1/9ZCkf4\n",
       "bHnBHn1XAwQSaZ4maQrKuR4UY+byrSSgJCFPIIPFyozVJiB8l7/AD9oTc2+JEs9YoJJqOXHN1KuZ\n",
       "KVoKf6uRyXWBWzp0t8djlSiAUgoe8tniAZSXkPZaqFlifWLnpK7+jA1/L3XFiSJ232IvOZRuVCTV\n",
       "cgGcJTGh89djqpVK2/FH/VIJJ52+QD6VqKeEGpxSA79RbTuXE1XJszRW2c9/9PrhfbhQkclpGX8J\n",
       "a+1BYnnRWZkNFgAC1PMkxcLRfUf/aSgkaYP95KlDfynNHRAtXF++w58tF9amdZKaIPvIlxRzlJrt\n",
       "6lRHGSTWLTs9IixhuZjmlB5SSvi8FJOKDkovwxjqJc5L5YcCm6puhvT3MxdAaqOcwcW/O/rpGuzP\n",
       "S9K1Id6Oa6m/zMK9BwNdGble91gqtxMsFiACbDSVBr1rbfxgq2H7aMkz/qyeFUgyPeHJwGJZkvnj\n",
       "mNgdcgBho5DnEPXa68qXKsxM/n5FKnYFzTb9fpp2ZGjdq8Eyz1G3//DE9fiHVviIUhumbH2LIqI2\n",
       "FLfMMQM88k6jeRek1leYLZfY21bajXDKY6/21g8iAECsga1khFzoItlsUUcGGUMNkrbRW7d//r1b\n",
       "VYRRUUewoaOyMeDAe9VCOs+9dyxmiFUZv2m64niAIB1NLnxmO07CoGqM5KGit7cpHPniBk3K+6vL\n",
       "E/l5St5VkaK520vDCCJeMtqi9u+qC8OuCgwTjpvzVi2MpBvvan0ZRoG8YdJQzlkCs9y1HBjvfKQH\n",
       "l2EGgCTgAAAKZkGbCkmoQWiZTAhv//6nhADN85lDqy4YL8xG1aWmEB8hxw05oB8RCMK79ls4nntp\n",
       "/YEiFZBhEwsZEHugqNMQHw72nUGXlDnvvMcLkCJHXXRR/ObBdUN9GMvLdZE6DsGQWuqt8gFUQ404\n",
       "PJoCZdh6svk7HfPDfJ6G2TYNOWICnJQx5tWLQ2Qy1FXX6m2qETS6J4oYYQGLIxSjfS5K5eFAXMKp\n",
       "75dNtEfStCDPIU/a6gcSO5bfmGqOxehZv7fluHXi1ffOUgRJxdWUgbX6EEkrHPJN3tJ3Y13G1Npl\n",
       "Sfwr5MB2T4NZnLzGe4MfLd52bkWr8g3AqsGRmh1YfeCs2LAerAR4vFIPIskcPkXeadwOymL8d+oF\n",
       "+Nk4kB8zC1Nd6TYTwLRPWNQuXh/VIwQ4NVn/0H9VjQ0m+XEKpxmSPro045q+nSmS7I1WBFE4gYrs\n",
       "YXO34Cp0tPfOxung2AjHcE/rnNyopyRnvhnEXDijYyaAfESxYkNp92185nn5rD0YwtWu7ZSEdQeO\n",
       "yqi/nS32AAuvLhZFHeVWRoK6ud7rrS6/hEnqq+yt6I330xBokDfkexRyM0rMTBLdPhfx62UINxWV\n",
       "IuYl10VKdpgqFvTHKDrBDC+GuQKSohfFGULXt1SSUuIZ63MpJf4NtIRFmg7Vl3OUEgzgL61AeHwP\n",
       "ngMuvZrA1aWD5oGKeKLwCOVjzf4ieOE/hIklSuMapeGYNaJolNbeLCsFdG1qDiG64fT7U7c+x1vu\n",
       "CH4tLJ/LxDXdR8+iJsZfs43MABS11atMOGPNbX/AGvE/9jQeMjGOme7TXEbnEc8UgiZTXG1g6xtz\n",
       "UqEqYjtQIWsWdc5ZEQBxV4iPRyc3KuwCQ3IqQq1A7t+bT7LUtACj/Q/VEQ6ys3TEq5RnqrwDMB0y\n",
       "gu8N6saHk3jtcTsyN65KeDc9bUV6Fq+pZOrMbRi8F4cQNK5DrAoEh6u0l9NaUvjoWOxRuLQ7Phdp\n",
       "Ouotk7lwtDT0hGqzv8iGSwehJp3zGwlq8UxbFgX9cDg0cef3mmIJpvMMEyvEEQWOjvhRCOD56IoB\n",
       "dNAcF596bq54fFsnXfuMOIg0X6+Mak9GMrVaSotBTc2Mdr/WgOiD05Hm+6oMijalxobmggCDhEro\n",
       "GSJLMU+2dK3fy5DpVPt7IbLJePPRq68cqkHeRqlA1/NyLuKXXyM6e99MYc782fhNNX8nRjYSr8v3\n",
       "GAZ8ivq9HDrla2oHO6cYeysuNPLKgSDmxCBBaDezWR2k4AlzA7kSDbJSXVGpL77iXzYBd4Ny40xI\n",
       "eQoAejEG8oCwfAGCVp4lPDwFP1OScrwmQ/I9h3Y/VULKd/0rgUq7Bs0cDU+RccSW9hRbp0rhSnUA\n",
       "z98x0BGaq0TMTBax4K4mWUrNQ6dyr6qJ65krYL2bKwCBdsxhBFRXIzdUhC2t4EEt4u3a9d6ybQQS\n",
       "O9+9+7zQKP3mC/52Fe2Bg0pgPOag+VP6Qkwjkd+Sr47AzR+MK4v97CZ23a1B1LaroU7+XVD9dI3V\n",
       "9m48BiRfa1H5vltERO6krUw5i0a8SZAb+K5l1Kc2fhmiUSFCfLR7r7/DPUh4fGBvzo2uFPY+6wkg\n",
       "EdbTXeOBq0MTXrKLomXRAou6suAC6thWbAdYf5RizKYrfI/8GM4GuYAjhnv0dmeaWOhKcztO6H8m\n",
       "+OLUgD92E1Fn+/YDqCqZyXcj0VnHCsRcnEktF9UfixVlTGR7xMGYxfeWGTtDJIdSnEYwbY0UsWUJ\n",
       "nxrtPtKBra8785PGD2Fm/2Hwky/sQWTLLELJQEP8nu19WRcV9PkSYRPgBOKbVroZoDNQImEz6uMO\n",
       "hA/lzqmOVB6hE/i4XNKSMDKtv8EVWiuLRAbU8Oz1TTdTjdNn6nw8wAIR2Dc9EAjiUTHQgdbPyuFh\n",
       "D1P+TbvhRVMX4n6+cdqW8yYBtU40cYtvhx0L4tlvbhWuIZBOzPbp6r/yEXh8Fe+Dj20kS0OCX6Rq\n",
       "8VmWDv/n4ItHko7sRRnyoIMrYJO1m8j6wTNGxOCnnU7ASC97DS8l1OQudeIb2EJ9K/SdSlMKKhCy\n",
       "GmwlXHj4Nhu7R+3QBjBMrnjyDtibWVERQ+DXNlh72EZskIOCWeDdMmyt2Dq9msUAMow8c59D7i1k\n",
       "YHtg+nHXpTh5dv1LJTQ2UD/aVNP7/4L5XB/qJAEKaFIF8GuJSHoOD8JkPwUEBfPQSO5DM3OtyBZ9\n",
       "tMJDKvPGh4/pNxHDI8ZpuLRyjStSkH78wKDUh/VM1Tlsl0+aFwmgIAUpLhqo2UNQqC3CWCH0RAk9\n",
       "vhwoDjGBE6XefTxFS11jqZdoldlXvdi3DKaciGcEyP5D04E8eOw9Q6O77OZunk7we2I6mu45bxJc\n",
       "412jl0T6j4w5+btEJWfd2SgVsJoFLxLndHje3tqjX72/iFsuefG42vbn+whTX7Bq9iSIfVlGU7Vx\n",
       "Zs59WKixbjt+mUvSoae787ImrvBhWYQzTURJxcV/viaRZSOB8FErp0BN9AIpS+jJnyuPd/iSRpb5\n",
       "s94QlsH8hR2pg0hP3gfFPaGYFlHkwXOzTYYrPKrPcJoI5FeW+ApTUez+M8bEHpWt1zZekAGdAld1\n",
       "L1neqlIeav4l+UalPAvYlvNO0FpiU40yaIDCxpRs/ZCDwrf5HFLP4AIF19C8yOCjm87Th3ak7ILy\n",
       "anTUa7luPBwQNgzhStZ1iQGLw+r/+KL5XjJOQclfPqLYpMx2CDr63mm7mEXOOHv8hcxSRQheKVy/\n",
       "N+O/+hJawmIFIgfmuYe9I0aZ2TRgevajciQ+nfhpc1+eWhSGso/N+FT6qLsxWOSMvVRlYEy1b66C\n",
       "YZgQYu9B8+Mux+G4HK/jjRYQn6hnsL8gO4DjVK90piGZ0aYcmKQngXChuzNpBY0fBAQoLf8+q68P\n",
       "+qSu0KVGNBtE+VK+FkyVPP1J3mHOosEBbB8xsMUtoCvRAtpHfZaYuaMdaABJhvR/jetOZNijtOCz\n",
       "8TCbfkQ9MptmsM411TCpQBk/bb5bQL/b65i1j6F0qlcUCMAjsKA6jLDofTa45XbPqbU2i6qG05JW\n",
       "wNwk/AwEWArlQnnBooLjd8XiIwoEZcJf9eahays2uUbc0oUkyFTOUCp5DMYJc2Tp6e3U9ZGyoFf3\n",
       "5tBPQNALTiSKPuwFcXNeQHRDTBmi9xytAkf019VRYHZKkXns8w7nmRFYsBhJoKE7tUc+1wgVzoXX\n",
       "srxmB/zYjodvEENEm7/6eQGDDu7FkuCEP2Gyo/FzibQqBnGeI6B1KUKewXE+lZbAm1DTlTaFNtox\n",
       "FGvcKrSQjJqX3zCko4oLE+h91AvnCLBqP9kSTznoe6h+4MrRUvfSlIXqynwbcqS0M19V2NOjVLlX\n",
       "ojfYvEZa8wBchDO/+Mvrb4Up1N+ko5QDndl3sReGtJTEObjFbCOdM9HEF7gPp0U1zU/aAAZaNRp6\n",
       "gwxorCzibLCsyd11KaGzLcIcic6tg0GO7IyqrsoXYQeMHJOgPF+Qq6CDxnIzHjD/O7GmwfEKGMQv\n",
       "8RRcuLoXE0ZRHNJ1/RSl8JRdM5cPrRLGeke0XZ4HOzvwxKAjOAEcEqhgW2y+lPNwu9sAAA8KQZss\n",
       "SeEKUmUwURLDf/6nhACfcb74Kb8BB3/++WIZB9UN0vAfnOl1fC7hRhjwZJ8fxdNVUELxmWpevWVR\n",
       "WlCdQzO45NcM0A/RbSRUXrgmOFjr2FzNFFjJ6XG7tmUSGoQQw2q2S2N0XW8ecQ4rORapxeyAcmQ6\n",
       "jgPy37vk4QBTYzC6hhSQHJgzeIPR1zRsnaxXah7weN5DFNlmDJMjhEqa+L+v37dGYysTAkxWExlV\n",
       "C71841DrJSb2UEmYcxqUnnsxik0W0enpJ4K3fsIP0ErqjNfQ1M5+OrqCj23wBG7WU9aIxskMg8Ts\n",
       "Ye2QxKWS69d2tOsy717zKcLBeP/9YYSGJx13LZKjtbr8a3pVOhCNwr8BwcE5n5y7XCYlVxxUu42g\n",
       "dcvgrtmQ4laNqcroN2PTt28Nq7cuvDu4OqG+4yZNdhV8MkcRbuouIq/xu5APmZDs0uz/GIJLqxBL\n",
       "0brOE3udvflBAm85fL7Xr0aQh8rXIOEGsZ5KgK0yBgkwwMJg1un84czMvwSWAfwIG25yvL5WzMRp\n",
       "Fy3WhhTNLWHI6eGGsU0An5whkuCwPsE/G5q5WysPWStrLHOKtCGLDAMiz16pNmuFqup9VZD+0puB\n",
       "YvfJsLEAkdRt4QtTXGKLfEtFwx58ea1CK9/6lRS4obDgvtEjO1iPTjhyVFORgHoU8tLeXlriLwOQ\n",
       "qCTcNYk/xScwMVHx1jE6DQE1l8YVBeM7+mRX2f3TS+HPV/zmwHAxWaoL2XOJK/STzV9EbzPLxh0W\n",
       "92OuPPx8qptCavk7i+6as2H3+6YlXnWexDhnXvsRSJUoT2MSoSVBxMfxq4F0cU2b6dOXuPcppNuG\n",
       "X8soELgy3Dqthjecu8HcMVHTswSsODFl5t5ql66ob4Dr/eMG71DJx2stYkIawfdMQvwKsu0il3kx\n",
       "v9N4robgykwb7dNWD1Bqh9lDHeNAUWGqw/WIjefz/a2LmS1BaMY0pe07ltE30seSf3kboSkXG8kS\n",
       "U5DlHGCLrBZyiCeCXYyNL9POZDbYqUeg7W6kopxBF+GbdJg42COSY7VCdLfcB6y6Wug7XXPiUIh3\n",
       "CQCJLc+ly3+j0421oCMABeOksNtldzzUQvl9q6fXf8xed2oyVL9dx68CnMHFMoMitXjdAj94EiBl\n",
       "bQdMKXNJUUhDPhl5EnhNDFI92U7fMaJk5NZPogisWV3XUnF6cTnSDWtrwpy/ey0+pA/CcJryiPOG\n",
       "II6ko7uvAMN0dyNXV33i6z78wegcYwoUVp59JkkhdDY/RTbfjlcD4LsGZaJ1uEb6CKmAVrRn/PwA\n",
       "Jk4w5+U8P1u27MIQHift7PBVcrytvL4BkEe2KK/iqWCYdQHGzNxrWO2vvBtE0rzwn2viU6pcycYW\n",
       "CO+L+rapV+YBTwzBpaatT/LkJyefSU6wbEQbs3CGo4RoqVQLE7knnc2Ojt7ilmx45mg+fxfjuIY8\n",
       "p2fGz3kSfBcWkYhx7wQr0rsN5jahzEefz3vTRjMgoHzVPgqbcG5M741R8AlS+CtJKWGPhjqVcQoK\n",
       "JFZgX+njEJ2kmNSIHnpGYWAYs3Y7cKX/TatdVRax/VGsmo8gIhA1Cn+wq3TQJL7sP9IZ3kXd19I7\n",
       "9OgrVxNmYdnyotulGtwMZLFsQrtGWOrUJ1DXQPqzSVm5AWo74OFCteLKwF+UwXxitEldcKmVwotg\n",
       "2TOe5Rj0+hDRU5Ww3UOxjPAxwKRn9F365LmR42AB56U+mMZWBxTAbsCbnKY9SVpXe6Op9569ES3L\n",
       "n2iLL0AZa/0zDMJFL7LASFjI4aUrF4dXzdLwG36/RcyMe/SfQUXTwYkslElAGt2gsV3xXeZR84t5\n",
       "vIUnPdhrMSn1Ehsa/uwzSakONvkoaJtB/PU+HK4tqf/xalD/ZcJT49fuWM4ZzXFi0/b4zmDGojIa\n",
       "V/EQxpxge8yzfTHlcjjKk4C+D1NdLGWrAEwW6dmRhG2JeA1JqSKGUu52veiTzlmemyVFkbHjeNfG\n",
       "PXXl/k1mWNIKlJSant+uK2Rv+ceof4BH4XOphW9Zpo8rcWs6QGebWaskmDkq/qg2J2IhIQHG2Lm6\n",
       "zbcP0Tps1eSt1lF3b6LF8RHyLipKyJEgTtBg5zKMgpVJZWaD7i8DLaIxRB3Kt6oK/7RV+BcfpmJ3\n",
       "c3bcOp3//94fdxYJ/mtxUn06ec0tdsA4h++9OJRbM1QBmNmlxe3godg/TOfdAdTPApGaLq66Yffz\n",
       "R3hPmqlb0dK/k7AyynQ0SWY8IlO6sgd8wefG8s+YCYi7mme9jL891Ow9ZTU1hxU7D3LWv1yzFoi9\n",
       "OET7yzhuO9ULqvFfz321QrtuqUhfc9N4H8SAm0R7l8uH+bzeToHkwOgqPAtLSnbzNIIQzG672Ely\n",
       "h7NDDceUzth6ZCACZdJJ2cYcxMS3nuPmZXgAxg96MdUNmyzH+R3B5Xj2NVGHpbRXGYPJ9Yr48NP9\n",
       "Tq78gFqqKKVYLDZDYMar83KYY7TaXuRbasOZeR6DxcPKk+8HFyTW+ng0t0ObFFPDSvxMjTMbSKvB\n",
       "UdBltnglXR6RErOtR4LPClE4sZ08LoEln+ZebEjI4pOC38PPK5dOLebFe3lYqZRNLO3RZpmS9Sw4\n",
       "yIpl7FdKffMFo3t6U9Oe3fyhtLoo7SHuISsRHpdHkJL+c3Ji4M9p0rHSOE1nlB22Nx9Lt0KaZg10\n",
       "FSM1cyZZaiX763AiodN24L8LQpLqEryvFLa1j4sUo0AKC84Dk6wV/JkKxhk4MUWOQwGh331pPOFz\n",
       "I8JPBWTGfNETFEl4cJr/o7bD4XhVXiVgyVzke6vQ+f8dT5GwM3OOflsc86YtSOWz6uRI9MooBBMN\n",
       "fzpFEV+hdBOVfF4UkwFiMdk4yLxRvXLHrY0Dh8npVA5vmjC6Nva+immeSSmJ/bOHTWKjuoDGnSFv\n",
       "o5INjJnF3R5qDeo/Qj64KCnoC85Ls/Me1Z/Vu5C+QsZbFUNHLhIbuvu4igU0GOoJdW09iGfmUh81\n",
       "wZMlBQe5YOz2EYwNg090904WZTyJSe2u98phUdQLP0jaA707ATwxhOyvywFMYxwK95DMzMp7fZ3R\n",
       "r9eNJLvvrPcX+CMHJHFmhihRTHDZ18LWB+QbgxGUP5kmsX0JcAgPyvkKWj2IB7UdQr8EFpQ7W7AM\n",
       "knfcyKvwyiQTdgpL5Fq7BjHoAcs1KTMUczY2eTWbERukX+ghtn9yZIP+NRcRa6EICOpLHHIlQXot\n",
       "KADWt5eyMLQIiRQGiKEJvIpPzDsIc0UnnO9lFUpKYzct5KvaNYj8be9uOJihYKIuI+SCe1pjz0yQ\n",
       "1fMZuKPkCUwvI4/sN/pxtLHDBFS72XG7UpbrJA8pe7VklJIc/4FblIOJ+TLERPs0W9NVnOumTCZ2\n",
       "HUk+GbZRYT07zmd5hlW1Z8QZFcclvwHmgBxotXWpaitCe7p0tDrYGueuMZ916WeaxcXdoLv75ToB\n",
       "2V/WzS5rO3XOtM2kR+0zqXacVATVa56FPdoPwypN6CsQ35QydC8pQ/EEpKM5rEj5e6OoGjD3bUGP\n",
       "ljswkEki6dcmM5zNyrbpHkscAJMa86AQlL+PLW5zPDuSs8/1aevIO5euAd8m8VQqwV4LZGGPXgXx\n",
       "7YYmcPvFz2R5YIWhbu8rpEDeMTWTBY0GSgAxPP/3KHmNENuAnLAoy1vSPAqU1rOV02OJZr0Qsoho\n",
       "z67r72oyD5jGULWzPI9vMQfU4PZsCmETT7Ak88p4Bwm4odSqC7Y/HHVc+t0GLL2uBxLKdFB8/iQX\n",
       "7AmqpOYR8l0BL7fm/mlwKTJsvHapCJ3QokBIpD6s2E6/pT1mUu8GCw0Ubre1X2D/OFV3/VkLXo4I\n",
       "k7KmknSZDLBMQEwtu3VX//5AoXp167bcJLBfP8AOPsBIrWHAzN4rjea30vokhkxSMggXBjip13sx\n",
       "OcxcJyWtYaetzsK7BKANW/bN78vVD0R2+AAJgplCP/gzdtLIsJY6PsALPD9ZOq4BjBYTvDDHJCTE\n",
       "vD2K1QUguLr0p5NadZU2FbHjDb4Zvu5jsJXGyLBFhtIQ9PE3BsicDtS2GHRU3DjqVm66smWFkZEO\n",
       "KtrBY5Q8UJNPMKBgriUJ1kq4Q0DJsrtjnKhvty3ILArjYaBnGWvRLRN3VpJuWCqWVjUDQM2HHzTP\n",
       "vUgVisLGFD/aaG8lIG6PBDgvXLU/4pjVJI8AN61t6SRumLqWuSdTD//RFuoUAXVmO9bQA8HLhi9Z\n",
       "QiZPQkf2yFppNXuOcVjcu5dMHI8VjMqNV0Dt6oK51PJFSHeK+c2ZcD/P1Qpclm3KUJL/fI3MeJb/\n",
       "wvdqTd3j3HvRxiRfltpa20/fp6eCjZtyZpRFmQsfRw9NTuSeveN9wexmgkSqsNp53kr7i1PygdSJ\n",
       "PasTpqEyP0amCqzg5tj5pPmljmDOfmVD/S1yRQLQ09CmEtJtKHvNAXR+7dMEa4g9OM5Y38+mjxGn\n",
       "/iSL5NxZyMFGO54HvilEf6B6FbrzjcHyWvV1Hpor7+OiKsxR1c0ausVHDVbLV+T1AFcXs4CEIuWB\n",
       "dErb9Xbgl/N9mYF3hbTvZ8dPGXrMbFqYIO22L2JIN3vJgiT7de+oJDGhiGvUOMcTvoHso2myl+L/\n",
       "UR+6w6fYlZGL6pX+IgmrBywLqENNPLsJYsQhc9OFZaa6xDKJMaiym4d+RenXAimpAXRyOnwzNB50\n",
       "zGqdcHKyQIgMUotLxf1FQ6C5+pXVgOkd77vKY6Bh8gQPuhS3Nu80Fn7dIdPqL5jAKiwP0ucfwoMP\n",
       "EDDV7gz0RNZGRJ95A7NKNXRgVFF/UQSR67VxstWYL1hIMsuuhgdCaSxqkMAOsfFZK/LmsebD+GRo\n",
       "pYzuaTun0pvyb6LHsxCMKOakA0iY97IV11i+2NcNidQL5WqqruqQWMw+nQzIkNuYQdQdou8vKiYC\n",
       "VAKLu0F1TJe/XresN/xXPNav+Lm0kVXpP4kgR9IWrhOFYNiYvll+W+4lEtiqvtzzG7JPWl9n6SsE\n",
       "zJVOWvDkWIbeYt7sywkl/Owmr/VK6BKeiuzWGWueXC/WnpHEiBCm4wQpBskjFMdSQdcZzrpr5bz3\n",
       "CIwH/GxOkFThI7Gzc46FvFAamjtgsDqBOeDyMaG1rcUOPEAIwoR6dKIKP+D2hmMOXIesOZjb6XZM\n",
       "ZvuWsjHQAmOv31a7lCId4Q9n5z2Wv3FexgAOmAAABjwBn0tqQr8AQYM9VBsLO/ePdU2m5TQAbRIM\n",
       "YXLOTn2oeP5GOr/mkz5bIGUEW7gXIrPUapGuo1+wSSk2AgMAvPBOVW1U2nBfZRxmx/jCwllorZOk\n",
       "MzEBfk4G+XfSLrBIS4RzjYKEkGRcyz6bYPWAY6pCzD3jxlSFr3jY1aBjazXQa0tHu5zFoeVwQ+p0\n",
       "qqDYwRx9n0gs4ORInO6GtW+/gf5PANNNACKv+VozpbcBYvgc7QgmttV8ruJ4Z7LI8BCbUb1FDNSm\n",
       "P1fj3976vcOJIhoHjKULKvxquP1DCrs581YzV3jfiuUUm2kOSUppbOY9jjFpSC0E/oedmC3gWcst\n",
       "tSR0QddFL1vpYTN1ABO0eFuKvi9IH6yckY/N6fQ6qCW0HKhujtsMpAkAGWcdefNq732WbnrmuMsO\n",
       "dyq8i24UtwInFSbq6VTr0Ijbf3Db4sFTp3y0SgXveRgzAcY/UMVhhNQvT4aRDE2oACRTWF2UjPNA\n",
       "FKQomdQn9qF1fs3ycafGZttghaIin0WGSREQ9NPt9corFgDnhwRIla0PlqkZ/dxpNo3Hmtu5aB+i\n",
       "c3Pa4TLqqQZMCGwHS9xHWDdXRztq4jpHAVF/859gRiHb/1J9k6R2gaRF7QYqc54KRFsdqg/Ye0Fk\n",
       "EMpIp3v18mych7ufwmaRjNfBVnXIFH6EwtylJRO4Ff7qlG2UsRTkT58fA7QLR0r35tRD0gQOk1jd\n",
       "AwHn2jh+nl5LTJ+QQk9rdb5wTkaIqbv42IA6e0XyAUe+zsY3Y+rX0vpLB7QR5GuvjfhYEmjvWgmr\n",
       "orBdwh85aZu4uu8I8JvT819PpObFJQHJNXuT4pDv3LEs4jXGYFEeLnf4qg3bE3kEosxvXOh+35K1\n",
       "wRfRFj07dGVmNrUad4+nVH4HFbDZo2fQS051Slx3aSY+eic7/DheYK0/30vdKsyue/U9qOv6JtYI\n",
       "ZY2Kj3gKzdRcK9kGMcbwRN6RDJN6yKmg8nNf5ygBtRBtFdeW6GGxYa9XMc7C5u2UYXKQZgXhHVMM\n",
       "9vuqAmaixa4X/gvYJbPSUU+MhIi6JR/G8NT2GfNg6Q+34ePBlimgV/Ln8VOIDS4XpUKkBCOpgbbf\n",
       "Gqr0bOHzpk2LEiWTMV/M+fAqRNLo39fWmcbOCQQ0cFOHBCdcN8L7TYoZMP0becWoZzOlkxVkZnb/\n",
       "mIBqEb57wxVAfnIQxx9VOCJbv0bPQ+hxlt4jnomtWEeKYAk6Zt1Tl3/AVBuVf1MBnpG7dcUs3SLB\n",
       "L0jXuu5lHlRnpIAkh+q5XJ0CEr3zcnApwEdvXXX1+aEyxJSOr7p1haMfjXyOVlYgxsGIr1YfhQQl\n",
       "calo1JE7MuLkiF2YZTAygVLPntUkiBGcmQwAqHFQZr/s+0+6LmxpOrNbAbmrxPJF8+VRPZMYji98\n",
       "XMyqLcjPlxoNw2WpNakvf70rzFHU6ssz0gCriburPaJUBA6xtl+OV3w70T+puTNV6dQ93CzIKuf8\n",
       "z2gHd/P6mwxgN6xs+l//T4iScH+dFWBEUvetT0eQpDWIfar4EAui0YS8U+e3lOuLx4SDZ0i/zhD4\n",
       "ROIZA76NcAcPixC5ESLmD+zzcdT8ywLYMmdY0Tq4yb4PqMsIl+mQ9eqWNDiu21iEaTPy82/R/CwR\n",
       "OBX67pBeLZfC7Zq8EHjzlL3+6MzxdTXcI+CW/d0raGWNxiWC2UYy4QzrfQiHhF10WZu8Gt+whAKO\n",
       "oqQQc/IosEO4uG1rmX9K6VEM5G2l2XmvI/R3gAnGF8xu323yiXGf5LmykDkraa+yrWCLLAJprNNs\n",
       "3E4dkic4Ko6OwJWq5lB0emeFm5XiW4BkasHltuLss+XsZAUIM1QNefDTtLnjRG97IZ1OfqzBn36C\n",
       "CDWG99TTLNxUQcByRFIvAmST7H52uXR9PaClmFTEQe/WfP9vrjHokXQbpgKSWCI+DzbBca44kqoa\n",
       "icMqvlX9kOUoB7qsWlpAcleHmAm3P3aMz4H7ttFgKRbBssvbzP9RCc3GQ9foKJ/GEVUVnTYwVtBX\n",
       "/FN0GmQ5RET2VQXqWahqb0CiGP0V2Zxs4EEf29Qp3wivmQGKLcvb2ydJt4BreF6q6209lsnyk08S\n",
       "d9yaHDv3AhrJGc9xCDDMxclSPcL5yS4dMt1O0TKACLgAAAyJQZtNSeEOiZTAh3/+qZYAD/+g2Uu1\n",
       "jugAfZ1mY5dMwbY7vfPR93fyI07iPKP2TGf5lOqYaHvzqEWCHi84EMX2HyyM4uqN8TZiHnCLguZi\n",
       "tF0e3y9Gms/vm2dImyRiZxwm02CqUmuVe7vPlEThUib06XlMgYL0+Q5W38YrAZhM2v/msVAbfRo7\n",
       "iwJsWtACuydTuYxql3IkHCXjpO7OF4V5qYQVBH/WsialkGyBVTwll1mMjEUMBILWlNv9YqYY/Zey\n",
       "tEAuPnZD0/hBTcWSIveC/XfyO9YMKXMNuW2xhOov5qR4M6W0m4t5UCd3CHQznOi0cBfbSTWXkbTi\n",
       "1ldaOaJLX3Yhvj3DAvgMASlRp3RMbGtbzN2T5uH0holb83AIbMQz8v7HdgA3iMZHirBDc3P+K1aR\n",
       "2M+jYMhiDKEkg1/o1ZEQCDHFr6JAlmF9NyPUkTurDGdf+jGwmv46EAaH3NJq0H1G/1Pcs/9RueOC\n",
       "+ozkhswywBoAmo1td2JSBWg+wyHc8UHA9V8GZ7LYDGDaLLafBR1lJbCOJf6rDsZwMx/OYJDxg4Yk\n",
       "m8ilV5q2KeQqXF2IMJtyz3pksX3Iv3ICJAvQBwYoPsyZXE56Ajvfv7K13wM9lB9oaIOO5Krc8t6U\n",
       "+QgT3lRXdqi5AVq5m5HYy++cpvxVKINZd6GUcUsfmXR7tFZ8QCX4yb9AptbNtl6iTNF9BSIzFC2h\n",
       "FRcitF4VJxQRqGIALDMF/lUe473SOwWDVIBIvNcBE4JKxfYHujbexcBg236rPfrfaGrUDpfhkLn7\n",
       "fej/g6cboU52sbLFrmvgvVMbQhcxrA4QHOHYzrFL72hPD0ZKuFirWy6uKoe/97wI+l/JH7jxfV7P\n",
       "tiJryTtSwdW5kVq/4qHCHsX6maKXPWgBxAKJ9cSADS6zeYjr/6l3br95MSQWBZvY5TsyugyWyZgs\n",
       "eG5Gu+lqz2SLv+2FF7ixo2PwtcmtZhOc/NIk7Jr73xcveYnY6Upktj3Oy8puvPjjHl3QnW/5PfW4\n",
       "O+3/FMYTOLB/ofMRIhnu+MRDh7YbEotNjRZRn3L8ifDvyc4kCGMhIwqc/6R0Zcj7L0Giln4pqtXP\n",
       "1qDCu3gze4O+H+FdXgiw/9cMQ/C3zuSRIZbON/lXJlKT7vuR2GQF5Eztxo8MDoWRSRRvx8fY9vYx\n",
       "kn0Y8xYlJ1Pe/HvGA6b1yRoQoTodXJ18lzPHScGaYmFCH64Qq/XI/gyDQzYYSSpWEd/ao2EveXV0\n",
       "nDTTg5iH4u8S5iZM7OO9ZFtGKpHywLZ5B+ofMO7wd7WffREYAr6UkF+7o4wdcyKn9zqiU/aWDRgg\n",
       "zo5bw8bVklrlyaVd1LUnwrfOmRX1erJh64CdJhCvsPsrGdce/VcMLt3XMZdvO4XnC/fsu6mgsfE9\n",
       "MbOjoNl+h/o4txvwpHhQsN22t7jdLssdsi5nse3R9QBymt5E/Pqj1QKlUxG3hp2YXX9vOh8f9uP9\n",
       "e/W9PvB3zfhCvqkd8ax5tlKGG6pOnWpuAVfkrQYUJtppzGnyvn0Scz/wV8kzrI4MY1O48cAWUnyc\n",
       "C9p9AeXVrkmti/skaDv0arX9SFta5wkBFZRmDwpvZhsWrzJbfa0PSgUYLBcJB0heka/8xFDZV1Py\n",
       "TfaFcc18GqKpREcEZgyOkZyrmXy/HlqoAmkWs0t6B/K4pjEjTB9UV2XIrOiUWWL9Qmf7vgmzFi6r\n",
       "fYnmbyB8gfUfU88rtCKsQArHVARzY2W6cF6Jz8WNxUb2wUwnhxR9hk+5MGV/AR6Z0V+iTeb8pU+t\n",
       "WS1w9dukCY6mcK3uBzIRBrVpHHETrsG617Ux8DTEXg0CD/EePPeXWua/QBOULO0ryP6jRPOs9m1c\n",
       "TCz7Ry0PihRX6yuYNtjQA7zpacqWVD+uF3v/QRTGlpKmre2LyylegPKtTgSJuA6PW/6tG7Z0S60d\n",
       "i0vIB9dbem7fdTXSs3opgVorGYcawY1MTuUe848TmB+o3q77wzWtgSvtqHiO9eUwhGpJmlrvpqpi\n",
       "cSBi46FDsOzdPVUGlNMAHWV3Pwh0L76/DkoiKpfZ5ZbeJPU9a1Y7AIvg7cqkDJN0M0OGnNf9/J/z\n",
       "IT8kZLSCtO0gmb2rsM4mR2l3oHUNdnxHHbTtcESfyouY6iOWOZs3ZOATg/62CHr8/srN2hxI+J+z\n",
       "Zw7dQ6F2OmC+tcK0WkOr66x6pXkmRCK7B4g8JmwqFXNbtoLUaXo6pWkBvFpHoZSSHdUlYbz2zfvb\n",
       "MGmYaGW6GPhCA63gs/gLc3AbOiDfUy8JlZqX2KUNiD4Pr5vKOs/9+lt4oa6qqqZxbnOB4kewTgk9\n",
       "8bs8n8MMMEUII9RuTUPzuyS7JEO+IB6KSP3jjLa9cf8bbzjcAylDoo2SFZS2Io2TcarOMQriUbNq\n",
       "8VVX9F4PYeCBPVBKj4y6h1l/UHEuCIA9hyqGZ2Neel1RkAM7O4MN+lWgLk2OuDtD1R0Rj1BSys1U\n",
       "0mt/UUaz5ekRKf/leUM/hWqYXJ+woihno1pSBaOh8epXchER6Y1v+b+dAVE+wYv7v1e+w8wRWPVT\n",
       "UDE5iPzZP+/8HN7ASf19z4+Qr0kNQin5w56NI2qTXlJSvcDcWf5QXlujbXrSjESgVf74ZgyWHXbp\n",
       "bfeIzRtCccOdR/o8/Irb5yJU5UblVjjQIaOltW3bq83gNmJ7H7dTl9pdUqDg6QAIG+7vztZal3Cw\n",
       "FVeOwxUgjeZfM8xIAjiIkGHqEx1ZvI5B2blHKgjvDF2ZSyKqe1qYySI4YDKIiVG6YtMPw+LShQ/b\n",
       "pftkz0M8X9VJgWKVqXnk8ZzEMWyOwCvqtQ9hohWex+0jSYxH37GY/zZZQwA4y5NxnX241dcD79MQ\n",
       "KbI/F0e1oQvHmQSQymiQ6N2mybEW0ypUpfolU00ERFMxCd6sbn4/tUW0Drv2rbZ56XcUohG0hsG+\n",
       "AakcV4RhWf7tT4GwNV+to3iuHbh3pwUnqL3QcGD1LRvT44zS21MrQLFZKQku31Ey4KzVeIwYZZx3\n",
       "UdDaug1hu148NeSnJy7kivFP6FFr4eSY9QANRUfjC9iNBpPcVFDesDMpZ2mwchlgAaLpALTViVma\n",
       "NB+Diw/wBuD/9XjVZsQg1kqkQpTspjuiTUzVmT2n4F3zMl+OuoaYehdOpI+5t2mvdeq1dNqmvJoI\n",
       "IxJoBde6LZsiMzShPBYK3bjeaZabDHcxynDoK9XVWP+l89HpLnMyy0uD0AHYDGaqDEJHW0QBNp75\n",
       "aZJ9AficCkjHPkNhG3Mfno0FoAu4eWRosS1NDjLe/fbsJ+lZTlfMs9e3KiwZo81ATQNUZP49eYAs\n",
       "e89l1C4y9uhOHVTueMivcJhCu1ZIgg4RBQ++gtn66/A+9lj3u3BioIpibaAxWYFdOFFdWTrgtLGY\n",
       "UTP4YtbXylbd73ES1h2FKTjDBloTsQAxwDOn0KRkKWVvuQkeWEuxe4qO9DC7iBRJqyjSHHXB4QL1\n",
       "XY+xtQD79tODmf3g31r0uuvBDv06ICdBZLhiKlGJ6yrN56907NMa9p1buPNEMDtFgKH7wwYaDGQG\n",
       "fenAFD3VJcWgbHNJCYvqv7UWPGI/jmsQureRbxlTmp9TpNcLRLNXoBtSuSe7O41kIxCpKXH/qAi4\n",
       "L2Rl3XHL2h/5z97qYTxTZunBj5ovi9TIAjB7i5NncyTfxh0DPbKcRD19hjIA1bDgKBP/o38ljqfO\n",
       "aT7QWM1kO6In+Rc4kYolw0Nm9GLcWdknApyCgFANJtv+FplubO/qy7pmvds6t4N8o/dctDjx/cod\n",
       "WxEFSdPiZYol5NmuNu9XS9+cVdDEwtwzrXWsh+S5PkE3d4u9oEwJtbffI+1E2vwOjdo6yCLhK2FR\n",
       "zsSYKaV7BfyGPaJp1uQdON2glhrnuLPknCUXL8VmvnRebMmH3uqCrNhSsAq6curoIKm4q4uKGyfS\n",
       "UFiuLs+N5tv7QzK1c46QNwAMwDIhW2CmZCRDELZeS0xhM5JVHTp+tri2VyA5GVgGeJ84Je7J+y3Q\n",
       "Tc3FYU7FaJLodZGqJwgboBhMrDl611UENMJNYIPpmsmyFhH4Aa+HOmb9wHy68YaAtqMmm60bOpXw\n",
       "9lcMGbJUuHk+g230Z8mWKSlagx1uYZfsqso0mklXrAPTWclWiYJuMVuvVr1FETg566LuEeCfh7+g\n",
       "/4zvHIiLSFL2QbQ2FSxSWttZ3RVu+Eh3ChlfXauFcwC1PVT72Kn2IQBHMCqu5HCNqnfcCX30BDZX\n",
       "w3bA1+9W8ZA3gtucZKEXJklbSUeyaUEXPZwlREdOmbMED8/HDYRkA0ZqVrFtprNOV13QYsEAAA5m\n",
       "QZtvSeEPJlMFFTw3//6nhAAeTZb04nCqfNAAnWhsrgDHXv4sB7lXRPRhpSv4/ozp+w5bOm6BZSPc\n",
       "u4ym7hmzNhHvkLFdkF27LDVnjI2VBvmA+QCwK5TE5vhTNbXpUPB3Ax+TP7ujoHHHvrMly7FDjQyH\n",
       "W30zBje4FVDCyVff3ZG5qKjOkuezYvRtOkG4mQfkNNhVmEaw10X0nCacdNAT9QWVBbZjFPBzsL8N\n",
       "wv9gUnLPr4s8WTNx7msyv+vMgkaVNpKblb267BXoXbMKsJoAwpet+IpDrOCfu/U+gQpqNVSw35FF\n",
       "ZOUmp1IrBocXOYB8X7XSgpnN1RPLmZI96tugnkFFp1L3/umlMVRCHxangJFdoKbvoJJ/mn+iVBbd\n",
       "+OpD4hvZnQ8k+vyVOaPDu357DVPCuSGd3m/NY4yU7Q6uhIQOaWtcHJXuBEiJ12dYILRcIpvgQd2s\n",
       "KT4TrTya+Fz2OAnm8qczj4/3DjWU+OFrKBP3JuyxMKkSK6eB3USJHHfKCnVOneiIrZ/fam7iANuo\n",
       "ptRUDHU2CddrnhC+0l1Azwiy0ROoE1yNlHV5jisVlztL1QVdHvz9N+0PjmpoeXmumkj6MAMvxVWN\n",
       "7/yiLwyTtsFUHhq+FwcAx8C9u8IROIU8iGReR3tyBRdxaeLHMEpUGWoECtdk3578/p+DMe9YOD3J\n",
       "UNharDTxN2iJ0cPPIT82qM9PkohxW1FC46/Ee0XP0myd0nkCM7dE2XO5E3f0a2dguFK+mThDzemj\n",
       "xc9No2frq0Hv9qHhAtetRHlB8vSIpQDIy6Z/FLGrwVTSLe1oC+NZ3RybNbB1WLx+T6f+zEz+m5nV\n",
       "uuwnCZiQNWit1UiQSVpPoEC+M3TR3ySbVRxcZI8Y54g+Y550Lzv8FYrUBAwF7iMttCEwwjO96+2S\n",
       "1V/lGXho6OX0WZ09UPZVBHJ9QzZafmQR4zeW3A2wHzOU3RlNeRc7SyFiaHU/8CwIgIRwsw3pnuT1\n",
       "hjAKBBB/VzPURZSeNL40CF/ZmraqSlIGyxXnrIiZ7JBe7K3P7YH9dsCmuvv8KqmktYGvAM6miB8p\n",
       "mwoedLqlCzxGFWp+QgW2TwO8qc/M10rKYxtUaMDXE5pojbapCRs0puX5sEJHraymTVO+BaKf5kWI\n",
       "hots/2L1ulpCzk7HZkQU7Lv8OiIAf7/Vs6aLjhd7difkDRYOaLdJR/AoCtfLoMWTCEzF8gujVRm1\n",
       "jmYzQwuY/6ytXOzF3E/PWDSeOTd2nYYfpgYGdNK0hkpgURKKdorbGt+kQ/Um/CIwn8bSJxUCsOZw\n",
       "1ea9yjcs6/ldyShhlWericG25vlz2W4aOemV3aRvTGH4vTj2m88xFKRneL76sVZhLjGrjuCY2VgB\n",
       "0Qi9RVBMAJFgkkVBNiG0DnqeLU5VFbY2xhjG0+MvUfLFlVeayXCggcNVDpmBxO0yZDlDbdJQTS1S\n",
       "Zi4s5kfY0np1moKzRQDTMWpLg6a43O2qp82hONzufh1E+R9s2IWmdeP9h83tOpCHzGBvoYkUp6TR\n",
       "JNuqscZQ/3U/Ah7DVXTJ/tEV+m8uF4nmWDFNazFlN8IMQ0HSQApeyx3x+kByrXWPOjT71TssrRPL\n",
       "hwuX/nzNMAhXLyjWnrwYCDvsF43zwTT/Oeso1YXrgoMi/3bbiuqJsyGIx4YcDrQQ18JWDlU9KtPj\n",
       "xXGLyIYQsRL5uK9V0CwzqfrmzUfKYi+Jftbt0ZCJoFZJh/X912GOClLK9kbZmkrciSfjtPGH86CV\n",
       "/Gh/RexNmP3u0tWSNd0yXQemjXk49hB8oQLphjnIZOU8emwBfnb3Wjb4AAZTD4aERxRX8X8i9ZxI\n",
       "hYlKHG0at3xhpixQV9lvpq+JaiLS/i7L55UQp3YKTBSpfhPze9+LzEgSQv48Nx+5ZmJNBCSu6Mkx\n",
       "x9rDuKCnYt8YREjtE7q8Giz5psBC//Bur0jrLomnOZmgSnzB/SN0z4+8YjhW1Jyb+S1xpHdyNlV8\n",
       "Rcdl9JXwjX+FUM9hlH3wWhnjOVd9JOrCYpg6/r1Q0iYQg69136NNM/KD1k0Zb4TT24RoU6y7FAFq\n",
       "jwnDCpVmoVfsonaCk15oGFvyqe9+GRoNekHAl7421EN2nUhwBBQoZkV4lwdJtkm0UwUPfKwcXnEu\n",
       "wYusONh/8PH764fKN4SG1f7wl9gvZP679opVatljsIpW8R8rxBXU0H07dOejrTXaH0Hwrsum4Gyw\n",
       "Kg+mtKcy3FKXnDoTNfmJDv8gksdT5XOct/fpcfGRjUKEhzihAOxsOlyLwZ9EZy4b+HFe5s+24UsE\n",
       "as5XRU6jf/sTA+vTriD/AMlksM8WlbDegJeZHJPOPZDGAZn8SmsoLxbb9TEDMjyHt26e4mUuwBnU\n",
       "IMZn3hFREJhB5IGfQYTIoDKiToJJfiiXnbjfKZy8UoOJ5bhzXk8UlJQX5F2qXz6W2D/e+E+ILaW9\n",
       "yoiYP5/PRMoIpX2mFa462Fyud7Zk87Uo3qrbfPa3KJvGHALlSKKbqQu0skDcuRnyOfs1IV1xKksN\n",
       "XzT7uQd3u4hlmWN+r5gL08cgZXzcfTXtKKzgQK6Uag2sD/rVnFsEg8L1Ms7fv5GX1DedCYWFX3YD\n",
       "1J7+1uzXLKW3ChTzRjxYyvSxEFOAi0D0rvIVAOTZEkUAgGxp9dWV9sqbvoujq41vdeonaV2qEt0j\n",
       "5cG9SIZxUsGLeOvEaryPCzsJX+LrW11HH/TzEyUnHWx+ioa3bsdN5owKD6NUIqgnIqWU3C5nEtui\n",
       "doj1PMDlLNoAsUj4VdI9xKDUsRaMuuYrSQupnDWFBMlEVPqUcl5xG1mux89L2uAn8YNTnMhSJ9zH\n",
       "BlzgVoKJ7aCT5QokS5TM0goUiN9exmV6pa94SEcUrCeX1EAIhH42N2F3m1SGK98SmkpWNAgeRnDz\n",
       "1r3d+bXmxWl6UIPt6M8vDZnBnYdPjDDeZ3jPr3a+SQW35ckKIyo0S9z7Cw0zURypfoAxiCkvlXLU\n",
       "oNU6nrilC9unpf7CLwI305A2kUgdPOhZSDi1M9SoQ5CT/5tzfoL1nhimPFrGe7+CmXO/uJds7wRM\n",
       "fEd0RTMwosvLWoWvi7C7hnO7HEB7taEqrk4kJECaS2DgP6Zx6gFV1yaiVYnYRNg47iNiijwBg9HG\n",
       "RMO77asba/DrJp9ZzqhRFqKd9pN/Wk6wgrR3TMhV+lVPbvN0DIAggq8h5ga/oL4H7CzcYks/VR6n\n",
       "AB5M9L9hdpccg73/u9voM1oy+a9d24LJnMITLxRGECMxau8VftfURAtVDoDE0fE1g58tgSHqkIuo\n",
       "NTqeiCGBy2nfWbLxstaBvMSFBPPshS6NPwoMzwWza0THfF1x9/GoX33MUQ3fI8BiIF9fTqPmTL5t\n",
       "SDd+gKVtdpe7FIypfdpXyhOSVUUS3ZA8QUNIbqCzitoFc3QampSrTRyHbhDLOlL2NKAaIJZqf3G+\n",
       "/+UAc4iyruid6Mnwh4iM/O7AF9NLhF9/lVRT2IQ6DusTTMbykEr5iMciAPqXn4rqEFMu9Fi8WgSv\n",
       "em8z+Q5kK5wENHc769zxG2L9Otz0M+IFwQ5nOiWUOiOCBkDe3n6jRin25LlRZYjazN9TLPAOGIh2\n",
       "IqwooGQFmQxxeKAJUP2PxCkSpAdS6amElcj2VIN8uVpS0jOnmLuex4Ss/hWheV73d68da4AWG4ZK\n",
       "AJD4/A6/gCpz45DGZdNuHHEfyrPwLeuFauWW3G3SXe9ezUULxTt/OrCazwMD11KWZ+QpGJLYc98g\n",
       "ZoAziISt7exkYNG8aSWrlzAN4Gketebt2lGyqFEKGOExdhaALJUfQhcfvRoth17rFCIQe/L9hxzk\n",
       "M/+xMWvGzoA5ojIQ9E9ABpGg62Wi0wOA16r6rRxy/5VDsxeCXUPLcF5CZeiwyE/+kT0ATbhLvChY\n",
       "c+lVX6tdtZ6vB8usqYBr4n9vSr7IFEL03//vAQ5h2Jr6COmlsHepRwzCasaM2Xn4rZ3Z7NlmhADo\n",
       "tExmahMpo8PgMgeG9eSF1APiMYchEClGsD9T7vBJB/jCXXknQAWT4sIcSvPV6AOG1cioj3LC0wTD\n",
       "s9qCqiaS99z9c9jk1FTSUQpi1R+AWl/Y11aIE8quaE9whtazw0HN2KZiP0eAdkRRPR8B1CM3Ccsv\n",
       "wnhCsEzxhKdWcjAs5Gg07GYniOpEHkz3GXhdm78MuzqVuzBkt3J12Bsfb7+nJxVyIweMBDuKJRIg\n",
       "6q8kMsFmtjRRmH8F91MpY0RBCJ1yoxbHUEUDYOptgkbEIf1b7vF9XmBl4LZVJPHmyww16yIHE0kT\n",
       "nC9uZAxNQRiGYVv95jR+hs6DDh9E1IqTOGCixACKxwcEkK3rtyodu8Ff6+tPHTZImJ4SKqnXuX06\n",
       "FRiKMKspdSoV2tSb+W+1CskYAn26RFnymc7/u7xcyjj+cMFdnoL56wTro/vix8RoilldCXy5S4Hr\n",
       "YY/8fUBWeQBsY6qesS2bMzDjq2voon5DREbVD7wZtjdMTr0sqJ6FduVWN9V+BrGOfzZnpi1jmrqr\n",
       "rAkTFEasahoKc12oadYHj4wJabRCkob3iTIGgzf/cQJ3gzKfhf+XhMF1VOO0DQMf2ve/DTk1d0VW\n",
       "G5aby5aeWEhgXxCCL6Mz8jOjBBLJtsMel5VV2tO5DeyLzY3kTQH6htKqLxScfNqgzeXjFqY8tJlW\n",
       "rAZ+AMvKUpNzRZbYg6DmHMN7zJsfXJMrs/JeDK9zCffTdwSD4/Mkyh5PVkE9oL5qGLMUxSQ8IZP8\n",
       "LKhC4vwVkYRT7urhLQfWQ6DVZeMV8Ib4njHq98xXJk3JYr0JS/HEsBjx2OTOt+IIrl1BgFSwfeII\n",
       "9sMDKoA2IeFWTOzk8iYKnjBtJok3d15jiO74EcJ6dwFVd4A648FsvKsbGaV0XPYZWBCx1vOqsg5J\n",
       "gey7sIDDxZuNnJ9ulGywAnPOnBAY80OfnP4cKsCvmjqM0qYAScEAAAVhAZ+OakK/ADn20r2PXkFB\n",
       "9UZU8kTABsoaaWift6B706pZiey78I0CO5KDjIOwAsm/CsvF4ujTlZrcEfGU4trD7HbyvYO/1HEF\n",
       "WvRQuSfPqsvgH5qIGfvAnHd2Y4vvrDMb4n0WqzV73WEMMW2muDDQD0f97oj0CR67ifxH/ZBcyc6D\n",
       "6JsUorOT5gsEE770ifANxaqZkI0VGxaTZ8SYO64In/IWlcNKixsYnlMorVWY5VHSf2UcWeOKbdAW\n",
       "rcWJtOHImrV+6GLMN4R47acYVo3RH4oQCiql8twf3kdi3IiJA4mwYykDLsW2lUtAXRC/5KUqgWmh\n",
       "hS9T7tkKrlsVUlWHSjh5zOKpwLYcK0GCrYpMwEkZ2RwZouqExv4aMdbBWSRo7h2q/WkezZpLqYAF\n",
       "rEDSJpnk5s8KSiVlVBo8yGEkiO/AdDug3RTjQmCKqBK9zzVW+bK3c/SzN7ShZG/59KKKUZOjo/Eu\n",
       "0mAhG2U/wBRAHTcfUUXhaBchLbkXGxAIvm6L+KANV5sUUDHdppzlS+lm4k9tYyAFAzVzQEQK42uT\n",
       "X9pkfdgD7WAyplz+RXq64fz9YmQRgUVcAr6HnKwKjaCHz5+LJnrmk0aCRt70+GZVpw0lg5zTwt6M\n",
       "gbcvTLq45gblnGE/0SWpi/k4QUJ2wnqb7sh5pMn+k6HVlLREa5acRZumvqqUNPk+JRUREPNU6LoU\n",
       "wIblVmqFfQHBmrCkkju7dFYIumjvwPlplBJvxZAkizh8PxjJe1R1U9N09f9W+syh8juVhxglMXGe\n",
       "1Z0aiYk1PApfjQuWbaXyJQQ4zAdPKwh6dfOyzbgr0dAsvZY5+1+Gqz+kZ+8CWu/kj1D5+zy3yDKE\n",
       "heqe6N/Jh5XMSXxMDd0Qc8uSgGJVtV+RtZH3lTaPtZyvQX1n2BAwfxqpRNsSJVgwBYYEHQkQFEZW\n",
       "4vf9X/4PZdqXEY+MwnDEqX9R5Y0JVYoAkNuTLLp/ttuVwPPo3M7nbHkbGD8iP6BX0HFgy5MSxX2Y\n",
       "cFNgNere6LeDZHFEcPTVfYigP4c39IjwigROlH0K9wxsbgXCPFy+QAV55q1adO/vgLwTucp/DOFD\n",
       "ZmYknaeQ/UWtiqVXa2XmnokJJX5R19mVSSEpZ7pPdAg+actMGYEuJG/cfqi9de+6aek0RUOcjYYH\n",
       "1w2/GL9tEldqfpgwXQpxo1vrGLD6USs+xr/SlLZed3GX+K1CX79kf/6Mjte4W3SwBMOKiYvAfz3C\n",
       "ijq6H/f4DUJ1x2M75wuM9MGF4N+koWdKNRqe29tiYo8SQbt6EyBgdY335SEVMFz1lL6S/DCwe8pU\n",
       "MaCaLYjO8RX8Y+2rzBgwyL+KtJv/FhLWsyyDPlfT8QT/slsx5q2GOq/C3xt9dDALQ+DjsyzKt6xl\n",
       "fWASPd8eg9XXkYqrkvg0Hg/CLVYer96mwipkSIxdznra4UcMo1yruXUWkX/IyagzNygPrWIZb/fy\n",
       "HVb3GnB+nS508EmZ27cp95i3M2MEPR/t6t4VwmroaCI0ReeiekixhuQkLvlgZ5ozfWMB0ssV9jxY\n",
       "0AR6QQdIv794rM0QpFus3ygBc618SjMc8+CdJYgjjfoVG086PykKaWO0XMRRXoi9tqyJHPmtPfIz\n",
       "lQkj/udGq/mI8QBTKH35sOGqR51/afJOtpjMbmcVeTcCkeOBZho87Z3vpURTZwhfupkINFVLYlOo\n",
       "nYn7a9duy6P/mnte8pzepIuNJeSbn/bJLQD08hN5A9BGFGApMCVOkzXVf3tOBb49Ciaed7b5Uz7n\n",
       "+P5wFqG5YcCxNwBdGVGu5Qfb0UHphMewseQiq5aU4OPFgxQCZlkw5yFKvEVIiu+EAPSBAAAKDUGb\n",
       "kEnhDyZTAh3//qmWABAA2L0G2U0uAEEyxtomoPTjNYhcEMbn4e2irvYof+9x+bVRiB05j9VpJyqq\n",
       "qsr9ZpMphelfexxukpPsUaZLduSYBvwkESP2u55tQO1vftOErVYMRwZip11WDF7rgVFNW/d+SijN\n",
       "DXgywdojEqv6Xp14eAMYMF0owWcZfs37qV8QcCPABi9oV5Pn2OqTHEUCwhJMgCD7bg95lDp/fJqo\n",
       "mwuogj0id/XXW9WidmBwSIKblG6ULS4RM46XvLFKZiiB4dLr3MQhDdarl8pPn08ZrxY42rTieJ3q\n",
       "yhp+nzz3fObt+mCS+kMLU+PIUf+yfo/YYggeUI35ya6OxbGLAI9kkG0Vb8Xs4bOm2dTb69Q1Zq4m\n",
       "Vumf5uOCmC8fUY5pl4if7fRpQEohFEEWqaelGaJhzK121dGm5GT3Q36Tj5xwngku7YMaKJEdMXLT\n",
       "+CD0Tvsii1mSB19KJY0fZP4+z/H6ivjn0gbUC/Zc71uc4gdO7pcQv6QEIM8r8ouo/wRDIVk+AofV\n",
       "U28DiZBXtsK1fhCkw4GjkFCHO7UWsOifsQMTY2PZxgVMPFntZHzoPIswG7QDelWeuKExOI0DXQFl\n",
       "aZB/h+yyh5zI5RrQ5xBCVZiFNNrh63eL2IRw7+rKDC7Qwa1mEN9jZX6aK3XnDrooDycRrf4AG1BU\n",
       "QUrlZhx52NpEmbGW9FmUIXDXW3dVjg1aOYh3kf5OYcRcrrEC70B0dzmse6MWrDH+63dFAd5P+MQ2\n",
       "CO8CA6yuDMltOgao9RcIf7Hy5x8nyI8fkT79S/BfTkQ+5IMx9tQbCAG/XAk/VMJMuM/PndqnMYXJ\n",
       "Hc5o/k8QwRgNJEUtQ0s8gCMf9R4B5tk+DapG7/G9Nwv1TgKJSOFPT4gWtSlf49mB69vxyDLQZ2qj\n",
       "O13gsTYmuIswQJ0J+/Xto3tJGdvCeJaKkmT90vThUBGnroFwBB/Tpjp9ntC+KVXPAwK1wKqJFn9R\n",
       "PI7MHZYbDgmhKK8JP4EtYZY/sOACICIzj9h3UAOlAYhk3FtwSKVLQ63kgz9iy45wAWgU7wWqZRGd\n",
       "2v9E/8Pl8wrwXpRFfOJJdQZCZyq8YkZ5+Mo5JRiaRMKiOC7BkuX8/yaP/2UVP2j/DRO7t6t5g7aP\n",
       "PpBLS2cf6Ygzdy+r56LzzttFV+oZq8wQ4o0mwIqc/eqFBMuq8gbdDd0wg85ft4NMoCMgz9dGz2tF\n",
       "gCz+3g6MYJ/CYHQJ5Il4vB2SK6cZxrE4iMj7Sq+S6oQ/kQK092apuIuo3XDJhDj3z+4M3YrAJXya\n",
       "qpFW9oSeqbqOvuR8sX+z9MtbMytJMnN/1RX8OJPaenyVpyYkqJLzeLHE8qX5nZyirw3Va1v19B7J\n",
       "4WZBvulmQ0ONiBMxZ9eChWBRNDZdAfwwNeOQ4lF7Yld2ffHR87lwdVXmUi1ZNw+uPjnjDorIyXbD\n",
       "ZaSoXwCu0tKVdiRP7KDPDXgTYOFbAYY6dF7E/SRFR7nOqwtRaJ5OzawgmopefkEdEFiZZITMMXk5\n",
       "+w5kZ51jpY2G/SBB6Qic7rraYlwxf1eROwiMAYPywfNFpgNqgYDd24E86zsY3aQetYcoh0l1W+Om\n",
       "su6NbOlfoa2hLuMiKm/fylMOQggjdDNZQ8sEsan3VoOIHmzbEp3Cnog59iOkX5Hoe5dPTL9vXtUa\n",
       "i9xhicgkEQoUOBBSwharXfgeeiHgdpvsjmIawqCAJNLacE7kWMYCGd5l09kgmPF8qOSmjqN6aL88\n",
       "2DrJW//1X321+CvC80eeiuPbbxMMcy+dV+AhvemSsfE3yrzqH/+pwtESWBg/BHmXkpsW8VQseSNX\n",
       "5yKEE+r2duSdwICDfefcPXEkv/owoEYga8fWZUvz1f6UrVfTrwdyqCTjhp5K66fTBZHjrJw8p7Ml\n",
       "y8+r3hnfJrVXWri8hEGMzB7/3tHPHTtKoLqnayvzMggWox967jKwwENkkEeVj91KB9gavpLEQjEf\n",
       "99Jjj/otHTwfUH6Qn14mnydAE8nqQYvSOXF54PFl8IIbvp3cKF4nZ1CuYaUPqixZyJE/Zwhx1TC7\n",
       "YzfRMlZkkQPXRy0dJHKdaaRMufxoUClliqMZNRuN6oQypdPr90HS7qcBGJtXXZoOS6UDWHVl05lr\n",
       "XPhS6XrlgjC60vgMD6NVaIExjbpYQQ6VjEeKPJI0YsPW8zIJwtrqJ6ZCNYJvcUpe2L8LKwq4lmM4\n",
       "5L+q2Jt8iHYi0CxmdwRm5+AQoDbNaaS1MY/Ylwt9gBdQvT7wY0wKnajwwV61kG76xPclqcEKuRfb\n",
       "TgX/YVBhkUojnBkcBbV5jAlwjluqkZAdmIth/m/DBB3PezkcOIXnUrwAqSxJ5fYfWbh7QEK3xOb9\n",
       "/Qn5maXfaygY+5VtnV47YGS2mp1AiK7HG+HW505QhBccrJs/MTcw5pUJUW9mzxQ2a6IKpAwAYPcH\n",
       "ofgnF/PLPai8YsbDPvmny6qy06JsvMjjoFg+6g99EGGHDBmdKDazKOP9uui6T5AQjVfLi83wRbKm\n",
       "urzXatjmiBFE+XII6y36cL43zQfCL8ov24Khbm3qOv8htHHYdN1u/hSTwnTwwIHwtP1f/bpH8vQ/\n",
       "Qj6/woZHFo7mV2MHLlCCPimp5j9r2iyjhMc5J/h5JVcYtpA6+LTQ210Rl79UlhzIZw30tT0lLQ6+\n",
       "DV6RVdMZL8h/8PWXANOdNS9TCPy6EYFV2ceOu1GjZnkHA18Y2oowOL5VerVFitvv7G3EX3qHuWMr\n",
       "3dxD9/okX2WVziPTdyLRrxrrqbmrgf98KojL0QjD0KHx8+Oyrij1MjDKCHQSV8n8lPq9R0Md4v+C\n",
       "MEHVMvX2fU/pk1ulTdp2hoH2fKvHog4uJGWT/FfTmdFKo+f52HailpeuUgwE8/HO9PQtgWFVwNLL\n",
       "/+vqMVoxa05vhJPF4cRjH5KQ49hDJPUWIg9ybzemXZaGaeeVQxt6sACfkIItRrTVn04gJhfejlIN\n",
       "fZGR0yZPBSE93BmPTuPs+I/ZOD5UhRoAtLophVJohAa18g0vbbwO6Im9DukeZjLhLq/642m/2BW9\n",
       "v+Er3dLyrCaq00Q8gZoe/sLjF5fylUTPkRqnnxtIl2N8lWlSpinbM/j3350LLDkWqP3REUy5AFjK\n",
       "12dhB0DG7l/bQDO01hj7dU7sO5qGz7sQ6APDl0m39BzltMAAe2/s9vTZb5ohHIIgXJOLn3mJeJ8Q\n",
       "BdebaozYpqzQ0Br+6Egku5cPIjD9I21wBDJ+wTBmp3Ejyv3t4htkOvFOhQKumxzq/hLd4BzO9jIc\n",
       "hQZPrydkLH0LDo7WNfZTjxKhyJqjphpGjO8kLVgocFVWSryR8jj/696y1rXmtEa7r5VbymONxA3U\n",
       "KEpkc7YerjMCvYMIAI3Z8VhuCxwQ1zd3pGZ7x5JTun618IB22o10dcaA1yuKQCcDWdD2YQvhfdVY\n",
       "tMTZwAfMAAAM4kGbsknhDyZTBRE8O//+qZYAVTskodedHBgJST2GDovESnEPfH1lOqbgsX/ffViu\n",
       "U6OzL0Cv/ofzO8bvEmM/ButX1kwVQuVwz6s6diHVfrDpHsHKgel7jQ0zvexHtUIPiAxt2QdpFkyi\n",
       "aU6ESvHsICEmHB6R+HqfFead0fGl7POjxkjlVh6GYZi9c2l/lnXthdVm8Pe5MoPeSWiTpQtL6mBz\n",
       "W/D7frIUtN0ErfryXXxWCtKCQdBr9QXHXUetUVh56ADaQ6fTvL0dhiz+t3GFZp+HaYKk4CXwRjOl\n",
       "Pw8Q/H14T/a8IoTnTqcSgNtVh0ZXF9DUx4DmKwHN/hPc/VGlL5wqHgKAPVXVorVBU5tAj2JSnSYz\n",
       "VhDdF2fDDlQqH26A3ydQrK6EuCRVw+g6fuPfwJ6zaR8O/hq8QXoZnA1X1y+rFaUOtNOTj69Mog+c\n",
       "2kzBMTbq8JPWkTEMi1WoWeYQdsQzXsQ/x6vjc4dbokVU65RNgwIrySnlRr0gsfXKxdemo5S3/zHE\n",
       "/A93dhjeEhV4ebqEXpH5wGvRdkc6TEwxuUf4mX5p6tAxKAe0V1qb4tq75qM1J4kuaiEJrX4aRp6q\n",
       "sZNlRc5lAGAh27aTGSt4uqJOBLmiTpGL7/cRqR9z9JAtibiTmEDdvmV5fGdLjnhm0oFu2mP6fHNi\n",
       "PA96GMu1IUfGnRkKIWc8FIj1LBpLGT5NP+dFlCYZGLHQnb3fXY5JTY9swPzqcjI65kq2kWk2yC1j\n",
       "HcufjhHserHVUDVcA4ppeyiTyaYj7gnu47v+ugLJvdj/FDVKhiMlxvd6hsdAYw24Ke12YEmSkpZe\n",
       "sulPm6OygRq6tsgeZy9FHTJapj/rizSq7dE1RaaenbgkKmyLUjjisIM392uejHeDO3rhaYYSnv8i\n",
       "OOzT+5GgG14QukYK2uX/ESt+p5q12t60+mICNC9AIR6ReRkcvh2lJYkQev0jbKT9EJ6MyeUYHfuD\n",
       "YFiPx43ypGnfwQOTO7nE0H/KiAviRuwfi8u12XyP52KV7CNYE4eBb3BB5cv4Zoi4Ta10NIoujbje\n",
       "NNq8q7E/i2BMs48toIqLFXlLhRYK1o1pgpu5f+Bxtp3eTTqgMq4kAU9ah5mvS/BljpAat/x2uRe5\n",
       "WrMVjIraG8Sn3uG8nEz3RW/NNoV6iOcMlH43ZGGAO40lEofEGxq0guHU3K2/fnqRdaNi3r9h44sL\n",
       "Hz4iows7rllcy4gndUhU6BcIrzkzUI9NybvxJLcQfmftCEn93DV9e8zsRG/uYa7Wx1k6fKfi+zmQ\n",
       "idSePunutR9kfl0ixLq4p9YZ77mBai5JM44JWyPCyQej9p1gMNiBOUNykqu5CxZwYoyq/84cO7/8\n",
       "+Ovt0n6gFOsZnhD2T2f3TXW/LAFISgMt9/BgvAfE9Gzcm994YZr8+Lsh0+oFqAxNgnP+l2KPgqpe\n",
       "7yGG13FwGCpYucLeTz9sf1pqN6no8jKVchjl8W35Uyxvp3b3/nefjq4lh6mzLPItxUBALAuxAZ6G\n",
       "JRlhAEfFK3U7BOeGr4cEIAMY4uinxf4/0rfOdqiEcXfSewpAmQbRv1Gf3WWyBV5UWi8eWHufdNDJ\n",
       "6ZM+x8OLoZy8pVUjLSqis6uEtnLvQlDcur/N9eyvDAzxTUE8y5uQaVTG/avg9jZdLD+svNQSN+3+\n",
       "DUjGW+yypHlUS4nrMev2X8KI8SbmtFHWKeQo1iIZNUUGi8GCvA01OuppWHnZ+12lY5jZr5lY2R4L\n",
       "g99oTA1XDyXgV109TsAgc0XVvMl5tJ+Mpa1Pcy8cLC4TWvJX8kJ0SeALXQn2NuZxxoiNLfhKG7q7\n",
       "UJkNSk7+Zrkek7CZnu9nKWsyXJEO2cqCtZXyK2sq6GmXXwv0a8vyRzQ219GKgp9ETsPh7orb58OW\n",
       "Fq7SkU57GsW6Jrd3H9K5OKHScrhHGope8ncyl1WcVKGqI5c+WoxN4l1786v48AIaLhQefFbkzp2f\n",
       "tNoscTKPN5EjHkfjDylezWvzJgRwldJyGLWMQGS+D9OrXsHsR6vqNgnTNd7m1ydDKY+O7UC5/YAa\n",
       "S/7wV+fKanHJ7o9N5SfX9OrTOX/ikLI4dOwUO47XY9ZKx4yUMe0Ib79+n/prxUhv5vYGZyyXZGuQ\n",
       "z9Eol3D7BKu7d13EBVTs5LxY8iyh1UpIGDehmwvBSo+tIMbR9rXwg9OIQ/6rURs2GN8JZ8xw3Cne\n",
       "FgUgvx7vt8aahp11AxLr2enBwNU4EPUhg8ubXjDflKLOgbKTtC4EmQ748rCwlJrIf7qM6F/tQ91e\n",
       "to1qUbFeLrHCQQvDYsq/DTOmQpVpjt+qpp+hUc/rWf6Q9Y2pvk4EoeImHZ4rVpyURT0uuCc2UcPt\n",
       "/NjFZkbrfQLg6sx2pbksrEvCha3DL9FH83y1HBW0oV4v0GY6xCgTmap6A1PjkDaJrGpNq+VE2YW0\n",
       "H6x5ViB7et1fDkCMGy/wxymoreL1n0ffmgjLgepTkEmvqg3snBu2gYRE59liC/llTCqK2Go9OX2M\n",
       "X5LEPQL24m8A2Yct8yUbKi9Uy09eATGDd/6qqSu5ApyJSNLWaqRJkK3avO0F6c6T/qm+Q3iQcHE1\n",
       "eDacFB4aUf37J6nEorH0y47zr77FiTq6jdyhzet8EHWCle0bcnGLjwXEYXPBWYJJhkRn4v3ip4GZ\n",
       "Pvp1AI3CmuyKQz/MXHpXFVHoX80XVxCnmlTBgH5eEhZolTtTaCFqa0buxZ/rbsMSdctLGDNiW4Dh\n",
       "VVmeWiQGrOHYBkQgC4t6phDTMUoj0PDh7ntOZH6x7kqo7jVJXUSPpeV6oi4vmZ6s7Ni/1aXqG6pJ\n",
       "gvNFn0C0na07+jb/TRXV8h2+v0PO2wbbN2IaiWHJQpH+95mjlrIbNnpsJqpDHujcNL+DMZqLYs2w\n",
       "Pbu5oiMLP9vemcQaW476CNq8nS88J4Z4oEHUUJQm6J1SYK7UvJzPk71BkAwzUTvMO9d/1PhdFI3/\n",
       "lMP6JSEiXxpXHQeg7uAECJXbULOACNkVWa6EobdX6DXt9wlkuGklMMwnWqXtDw223YJqOZsYUGoF\n",
       "SOChbL7QsrHTwjox6J8u1ClAI4njQejwXWHBTW8qdmZc0ISURys3x9D1UdJm1n15adVoKXJetp0l\n",
       "UL3ErsR/qNHt7UrL1Y0yavKLrdYrh9JZz7b7LXf+B5QrqW/ukWNDGLc2fXK/qwAplVXzHEZLC+0n\n",
       "Ob0NETJwskunaKakqZmbXkVNK4/QGSuCo3LTwIR0BUH/yIE3QuFRd77ruL9QrBnCPwyBxMj0RyWD\n",
       "PDQIsYpps+mP4ya6t7+7/L+pAMtNRwYqNtO5aXe2cwQDwkLrue9G8UaPtqEny6S5V1I7Uf5200vx\n",
       "uEVZtdLpy2wrhjVGqM92x9rL5et6Dl2Pscx/UG10fH5wUDhZCVXhVGfettP6kbqd1PUlkCozT0nQ\n",
       "NgVanjWVIayloDEsHbbqElo+EwtpruK4vnadgxUW0dsfGlgI05678E/Co0OcVYR8curQ1QUW6kOn\n",
       "NXarEq6vtvWx6bmztGEb7ZKssCSIve1vlzQAZm0WntzUyhaI2gWSzJcpJUIH5RDIdsBT7z/76fuh\n",
       "xkYOmO9PybLOwhG05u4x4cBdAF2evCLYXSxubVsEEyw8QpjPbz9JwvHVAIpQqUcc0Tye7bIBbNog\n",
       "o/iH9gwtgxpQ3nmROzjLgQc2QsoI5ZIZ+hDdH8PQtsyZ0CDRssrfD+L6z28E3wUm1VS+cvMXipBK\n",
       "k4j+ZfeH3E/mlz4Ab72zAH8/3ZgMZY/2WKF51kPjtm/7CgGUkgvbiLy/k4+7U1ABLxiFyQVwW1Iv\n",
       "mVqG8hRC6GqQHlo6/7n9VConLNIq2fe4RIuUfFeFag9dx2hOiWPmU/kP7BQYOHt1HhLrHR+Xe+fs\n",
       "xAoQ7HBFtpcYgAcwCk5t036lMI+vtydE/oudz41WLc3NbiK4yTBd7DeIm3KbDCT1Teu8oWgzh0DC\n",
       "F7vhoyzYCQBB8iVcSLvkJC9f/92uyf1ecUw6v2MRuLZ1Mc5Xv4/1/a1i8mlBQtmwQx87/ToPa7JO\n",
       "6sNT+3js0DCfsWHcarBYoPnxDICVvzdSvgFGrIP4aqFG7IlFmaHm5YKcdkKXo4r0MJQH2JzWpNsu\n",
       "xPjMKjGrzmEixeKZqTxJH12FuA400cNdMW87M3e+lVaknDYI6ZYivuGNDAA7xnjJVmv2k0YcsHZW\n",
       "R9Qa0VGgt4DCcyK9hYE5Gcx9bfSVKq5KWpPBuoLtxuPLQXzoRY1TAU801zN7aSSna7kNmGCgn/xY\n",
       "3N24lxV1Pbw/MsjKFMLxMaFews4u/QqU3YsoExTpgwxjGtYfw8ZtLBUVWqnFzstEXVZii4Af+cTZ\n",
       "b0v4VXxP8V4JFK1hujpQ3BN33Km62WfoNv9Ky5TwqiXG2oRRkr89mAJ0DqICToZ9SXGuE1LdBq2A\n",
       "AasAAAb1AZ/RakK/ADtM388ERmuexOGkkl2HKAblFSyhAAh4IEfN9QC3H18s26fjLVroB8+Jt3pm\n",
       "Pv6KKy2fdhFdBtjkwkha6eLF2vAZbRBEkHKTivf3wTteosScE2tBEqTDcZcQjl1LzApeX2N1MToh\n",
       "OHqCKQs4DGb8Kd1OF2q4fuIOn2s0C8cNjuyK8KbinpqBqZ/PeNUICvvikIaQ2gfby6lHBQ9LZPRU\n",
       "ftD2BSA/KMYgc14Pcu3N9wWbq8bGXpv3nVQpiESBDt5JzMWF7snE92i/jCnOOz6CuS6hjsfin11K\n",
       "F8LsvuYH8ss6NGNlwkhVlsSdc7HY/AObt1zCu7dFMq3ESapUp1YrAYgBtY5i3hnxh+wWgMWnxR8B\n",
       "JSZjYqdbWiW0jJSE89Rijex5ayk1HhBQi0aQUPMFtIJN30LAW1yXvEb/0+7q9C9afOWsxHuTip9L\n",
       "NGv76kVQfw0/zCGyngIH67ktuWg+FGHHrE0bK3oPRsaECHWS+3wp4GpNCPnDhysVZen6x3C3W88f\n",
       "m6QuxVeqtZ7OSfBtZO8MMRsIdLaUNYmeQQ3w6tHFT0M1S8rjRNGt2sjepfRvX9xgrFOb1a5tzaR3\n",
       "ZbEaQN2OuMj4kP1q5ddD1S4t4g9OyKR2G0SWcLtd9gVTypPkdLb+X5n7jfklqifHbq6xb/YAF/QW\n",
       "WOeLLqvOBNy1p8vneKen2M581o/N7p7Oiu8s4QeuKKMq3qJ0ZBMt4Ev/ZXne2VgCvQRKAJAUs7cl\n",
       "/jVZMxa55Or3vRH09hm41jYdjG1KPKL1nR/St3HF6luPDRFW5XVracuWkRCFVPBwpyOIPiqxn6QV\n",
       "X/fZ4N+DuwWRBUgvDRmMXkbKqMTKP0bnYfKCcI8RWe0dLKGOcpyTXsoLcmpmCNqD7siHvSEzgpNr\n",
       "C/9iLvDfsVVkXaVt59nTtEGPt2yX/dcW3jIxyeT4VjGZ2n+KetetJ0g6OTLj0Ty2tVwIQueycznT\n",
       "wNaGJLiUBLT+Ac/FHyxeqLThrG1mD/pry7dxjZdQzwnCJwOBGVFCnJsvsLQadFNzhr1Xn41Y1P09\n",
       "521Y4GMIvWCTbCml2D8ct/x7w/jtjrN1Ufi6zq9zDsHq/C2QdVziopDaH+D5AWqQdTVXSx+h9uYa\n",
       "gtOi0IFu43xWNG9ST9vRv+/2Il+/JpYo1JdKaK6LFjBOvPU7QxKlspftPmpFB9TbiCFWjFreaSiq\n",
       "0GFEbmAnbxEIp2ITirnKRD/u02jBjjJQH2LFrpWb7csJZbwyrLAuaDuzq1fxQgqHBq8cX4IbgUux\n",
       "ZNr0dWXLGeqhYSMNWsLIChTU8Bw50cV38cKgl0L6U4GVdvshO+WRpQdribzAuxmPMuwLJm70qB3G\n",
       "HB9gxCpsOc0NCx+sQqRF9yzt8wYxuJaBEx2hlzeJ1PVJLPh0IfkwlVfUCPfr7s0RpJMbyo/v8hqB\n",
       "H3cH2VkzBhU9D7A1eBwHPz6rZezcRPtOBLhjZuFf2194Z+8av/v/MCl1CxaT7NfrkQkdODGDbJrz\n",
       "cOXpF3M3C2969QsiMYChM4aUZWNImgYNvPkS+clAMnJlf2CpftJ/S4X2yrx/uIe3y6SBwFAxpH7s\n",
       "QYCYNQqoSgrULdkfPNUfrRQ3FdPn1IQaMDsVFHn4xIdAz7iCJWZHCtkzyu84lRjimXnBbCxRuW40\n",
       "nBTB+pl9IpOdtTzDILxe976/6HnvLsAzq8SZyINIdIks1ClWBLHA8cfPrLgU8pjUPY10L7UMxN24\n",
       "Qzg31kxc4Y4PjBnNqaonI7qQxBNYVqxJdsJ8VzpP0kQAQnjyYAZwshdJztg4Aeo4xucLa9ZKG5Ev\n",
       "H/XLxeU6GXtR0wkjpRnUw0TDCmkmBkbULkTJcXnE/YmW2J4otzGwnswVbmoNtp3XBEyrVKuSySb1\n",
       "OqmNdGbPWfaqzJSplKdbN2piHL+jbopXCS0EFdA+VziLCeTSmnvRd+1u9JBP7E099R7VcXZA+uDV\n",
       "QBj/BaoRMiZ91M3OOiXAYJq7ecCRAfO/Wsx+DMjusnJWBRdV8wNfo2ctvDpKlCeBCnzZkn/aa64H\n",
       "zxPme4cqaGpx8RFuNFZebbksFaz/nJfNDEFQcbhpQjeXxzO3Vy4dmnCRv5kO7BAJjEDvMvBhmr3l\n",
       "hoG3+IxSzDgA6xOhNEQUoEUoH8Bs2tOXIsk2JIohENxJl+GZuSd0oTePLtRkUQgbswF5Co+7O/W5\n",
       "2jVp5XyP7SUqKeV/2Sb3floNb6bduaT5qaMkjb7q4rRZkQz7FycpnhPZ2TQnA/bDGen2UmOQU6zr\n",
       "cTqcRsM1ZAnuU94mrlc1IPzJdtjv0D7J4PbScHedtwDD9e/usiGa2J14GCaoNL8eTLXEGfvSmINH\n",
       "0t+TW7HshSgKtKFwiziI1O5AIuEAAA+eQZvUSeEPJlMFPDv//qmWAB9fbQiQ6jl4Ng2AKujQQtmU\n",
       "rSt0tYcVwZnnK7umdbwyLYhN1zmstdYkqYfKDTk4CxLgZ8XDF5/089r5BjWgE2Iyh4X3nlgO42Fk\n",
       "Td/YIbeYpZXYKnk8/oZvaaObAtjhcsHKEXh/Z9T+mRJMXqM+eAuQuShsOacV2BD3N5OjLP4TAUDe\n",
       "KAnyfUM9avnhmdNRD+MP7q8Yi7jXOwBnMUgijGUoqrPKd4SSS+kT1IlbZrl3679k/iFTgUhV/mMo\n",
       "+N1LJGZBIvWaCIghICsletpXngXIgAlftLdaHBoS2Plf6ruCaPYJl5dt4p4mKllj3IAHnbj2ei9h\n",
       "nALxc31zD8ToEbHKycBPErvOEbjHguJCCw48xrlTeSYzS1hu7Lel/qbWA+9+A9QqqQpI57Rr5vPS\n",
       "9uJNb+5N5fdxXn4pXAGx12RYR6nJ87S6tiuYbxgzZ/ilSrgSUaOIVxVo6JbcWV42Cwuk2qkax7yl\n",
       "TUhAidKbGKP61RzdJ68/h8/QvN3zMtD4BBGEcWKdnyjgQMfXYe0LF87wRlQOtpAviPz/cozKBP1U\n",
       "ZCi1UaUDwUzalW3LP4HTZn4oUzq+O6BrbTJ6bNDBGMmUiZbrKrJWNblCda/qXZZ0Pc9unGHze4LX\n",
       "qtsyiGMCQrTuXIGEcOlwDVGwhuwM0nDT/DnhJmHTjX9lgcWgmybJ2KnHNuwc4q3SZN5fIo3t0XH9\n",
       "ElkWkoDk3AxGtGgQlhqc54bdA966XVnDC5N5JF+R//7U2QKzZwoqLBLN5WYWCUosGtSE6cVEr5dB\n",
       "R7L4CgZ3lio10LwDeh0wLBICfmJrKc1zoWaAOQOjqb3kmcePmItFxFTO+3r6XtiJIuyCHDjgVSyp\n",
       "cmA7/hSxdrM21QIlE5h38I/oHcD/T51Twf/vYe2D08dw7hN21tYcfcY4kB191IQhQL6Lcq89xshE\n",
       "7bd8wCr2yJiLMhxH5n1AjZqRTsPH8tLDx8SYAuov/D3Q4T9Wdr8yWBbbg1Gv5hOjX+g/m6OmgI4V\n",
       "sng/PsIJReNijNda+4oM3icUAbwyZrv7fSNkbtcYGS2ecBUEjJKwwVC1hHiMN52AdUaYHVUFLRFq\n",
       "MX3PfzuVx+kVGD9RP2wDk+fpi8z9gZfv/KjEa0SAIxefmTECKpdW0GxsFgj8YEK4thB2zHn8c9NS\n",
       "5hJLgdiwTaEpdex1Dgk8ewEs6oQWcJLPc8bxARg3ksC0WD6WQmYjU+2/i5WoHdTaLVb9wcD+9af6\n",
       "gi+3C8ntc9ekKloVr+UwH3ck+buNJdK/047eGR8AxcEttB06v/WEPU7Qbc4oS7GG1wBRNOhbRySM\n",
       "x7A6NUn0OhJJT9yAtMzr734zAU5MOQY5bHJ9OpV+zMEB773YKTtciFGYuiN1VtaOnYpEDyT4iG5M\n",
       "F7C0nprcfxRGccGHxUcfh58jxqnZNdolMWB65hvfjNOZT3ZTe1ohnesjUml5VH+z7A8TbFMgcDN2\n",
       "4FUO5mE5qZcF7Ct3ikjJjarfbjfEidXreSCk46Cj+GfTdztDHqrY4kUdpBfZN6DM8TbjwWAoFLt4\n",
       "g/XEnWeTUHP9ROAGvcHqMRtJJatSvyqbmOUexHP8PnHnibbn/8Ruk0huU3Kvg+Zwi5GS3fHu4+DE\n",
       "APgClsmFL/70KYFseuL+o2puDUZcP5UgA8ryeQrXmpaSzbOs1/w81LDxlGGzkhkn6LIufkqjspD8\n",
       "hkJrE47KyqgiTXeneXglR7E2JDnano0zqIh3yObbhFizPXbXSORSFPSJrk2S08s5UIP0OKGXxO/Q\n",
       "hKO/IlE4pUem5OxLYwM7FBeaMd/kFAcVbU9ZZ2aZe0Y3GqLppzcW2uSBfZmgW3SpJR8Ul/B0Boct\n",
       "sLef88pqGacPX9mYcqKOLthe0qcMFvSKrIb81LaRTIPf1gm6+wZXwM9+lVDryS5kTFvU2ajJiqNu\n",
       "IczXaAq7rvPAfdTw0Q0Lq+FMr7ZfXnrbBnGXFpxpSa9wBqXW6CM1cOh0OnePv/l7+Ua4YvWHpfAO\n",
       "3/EFle6an9CipmeRRNd4I+13TLwij/Nf01WdQhwsmQJUtZMQXezAyufx4A7KIX00rqM2S1iInITi\n",
       "57GI3WoAUkTQTGdLSSNeu8MDM7fAf+yNi/xL6+2iq4xqoX2cwaWGcrSeo/jx76yj6+aRl5qVgR4A\n",
       "Vd9b2Y9VF9M9Suofg0z5gPhj5gmfHOLcM5OoG5KgQ9psjbBN17SDSLq8x0crfCzu/DPVWARuAijR\n",
       "AboRjIwenIAVCOCvK/Kj+jko9WtjzlKEcwuECLuivsYjt8HbdKDMGiilR/E40xgOvWjIkiFgYBuz\n",
       "Stk8YifuMXKA+7q8cSiDRqO99h+4fJC95YRji02PvN3hN9BRUcjn53LO+DIcRLWquln8LkWlZUiP\n",
       "a/0Sqlw9/1YX9dYBcmObfKxtLEVHkRp5HhZlflEqZZOewNvk7CfounJ5Alv5LdXFowSPQjQOtyXP\n",
       "EYu6C6AFoOhsXf8h5lKukfqmkveGrW80qD4e31kwG3WoiMViFOo7H2u/Svn5WuJjeZaDBBZB29Q5\n",
       "LFf83D1/bCgQ2SaIi/ODQs4R3taCLRI6wg0eigQAlcu6syr93ZJZUsh31tbLF2+yqSB/hcmREQ1p\n",
       "i5ca4pGZbelPOmhhg7p9O2tyJP5dNIntTjvojfYvQ2gvX7h0WIUQP7iyt2OD7uyulTEPA2BRiA3H\n",
       "qiSh0550WGDS1wJaOfWUJLsANAnxpp9fdOI2caYjt2laqbuQ9PDAywSOTdtE9x2fdjouLKHN9qYS\n",
       "+HSQDtyYxbrsZVIEJTDwIowPvylOJSiaIQhIFhfzuKfkR0SiwyoTr/39qOccdziDU0GecDATcFCb\n",
       "Khtubf9PNf4yFz+MuX56eEEjQJoPm0uA5/tVtKvj5PEdZ2oRqYE/qrqPzoc6UoE+WGA1euTtztQM\n",
       "PKV9UBmuFwaCUhwSHmVIQ7gsMOMe0TH9YOEFfcCc4FoYw1dUE//5t+8s6+b8sLbYuYjVFID5Vu8r\n",
       "H5TWqCD2s1OMW6f2PEHGXW3g2i9aNg4N0rQ5dCH0MqVNeF23epjl0H9KHqXny8SZFWRC6Kn2KbSD\n",
       "pjZevr6GQBcxjzYLJJxOVuCBAr4oycX3hp8J5n1NdZWEY1L5MgU53phL0BQZxyGahbEH5LhBWFrk\n",
       "85kqx68ydvmGmiGLknndiCEwjW5GG3Wie/acTkvQgUUTcRrO52t5belUJ6d0PxHJs0cx5iPsycMC\n",
       "XH3eFh+7QSGd8LKts6Q6ruSumZlufxdEBkKh4RxaRJNdpVhEDMfAn8T2wTSlQNyP3uftfT6YVUTR\n",
       "hORVX8MMcGZigkDgp7Ym2OC7VUqXamSrKz1X7MjDLiVqLOfAhrS6jOXwEJNkBqjYkd/rEn9a82Ak\n",
       "bqe6t9nnt3ra/tPV/xd8hFYaQCI44gKsChl4l/FdgE3WpxBzg5uidhvXIrnFcPp8xznRLiME0mLC\n",
       "X4NVK7i77dWZMXhC0ruh4mUnbX5lOUe1TfFy9lIk1bM2ajLjhXhJPhvbG7a+al2EflG3cqNwPY1C\n",
       "4ouMZHT3ARFNlzEXZvYcmVYbdFXlOZebyOIRvE+gTCbMTsLaCBwQwlkzdz3cWAPb5MKPIHLVBUzR\n",
       "FgzXEMczAqxI3vMzJ1zTmPPzHPlDYRlxGZmzOG/d4+wfOwQM1gKNIhLYVh9yzaf4SvdbTNjtDcAI\n",
       "/KqrWnvtt2w/eT78EAN1t5MSoi4kdHOZdYqYPe52f+0cB8yH1Dn9pty4/UJ5MSBYqLOf3fiAw+Ug\n",
       "CmbyF7NLUoO4q4ryoqJAiDxpaTb+b7gc2jTfg8dVm2OY3l6bYhZCQx3vsYepNIvrf/VgZG1AdonG\n",
       "KSStsFSpieAv7ewmm2doUL3TlpaYuov+8ktxBpyU9dEiNvalm5kBPJ9wGmVE/elk+fiSzGzt6l/S\n",
       "REAwHLw2Anpd9ed7ZuZAZkr3OnDS/KV6iZNXNDNi4j9x7x/y7fCwJN9/MdYwqc65jCZ6k7YumaRe\n",
       "hgLubDcS91MT4xRYtALfpeg1F++sRVT5wyLxK7G/BORr9nHEvYJxuDgdfehGKD03Epn20+B4FkSI\n",
       "pUDNjarKBsgkvC44mVsJKKXB0TNa+ZftoBXV4IJyI53kEnJ4FnGlmTYi6kgTq3PS1wPYBjyYPAP0\n",
       "PYqccPp2Bre7GWbc4xct2a+biEIgrfT+zEIY9SaQzGOKEZMNuo51lLogrEXsb9+LSGBP210PR9/8\n",
       "zzyMFfCI6Qv516EQyZv/nwc/KL7dwDlTYGc7ZOC3HvZ/0CrCumzkuS1vl9482Cz1mLXQm1xJ+rMv\n",
       "lns46t/svaOYXadf+l210Ms85DI41Gqbvg0Yc/YteN/NN8PJbloDTZpJTHQXbH3IKhHyrRQ//yH5\n",
       "ahbDIktx+77xeoozS9l2o8xmxUNSawcXxDkQ0aL2nx4k7Q46L57idFKxyEu1RrFUq/rqX/1ZBrM8\n",
       "PnskFr4Hr5WCRpML+NWRWmh06EOn9OIFYUmKPAeNvMlFhmGWa1r1DyyDwyVTP9DNCUPr/DVjfKqR\n",
       "1p3JwndQmuSv+lXKPuAgMsE4DEnIhyZkJOAegAGls5FQgcU3Fwoga/T1BaLP+A1v7etJqJBcHr+L\n",
       "0axh4O1CTQlNNPeLhiPuT0VB8YrmGDhgLcsQgQiFHTZQvkFBC9NmtzzooEO9RU/l1T7d86mEwzfd\n",
       "3v1IVrxPd2cI+e2iW+o3ir5H3p4SsTEIAXVc9ioBXMaX/LB9Oq9v0+E5I2ScqMtG5ILtExnTWG3n\n",
       "FZkhpGVU8/qaUlQwbnXI4EHak71L9VG3gGw3arR/4de66kxiP88klAAd5bnc2rEpe7EJ+R7lHSxt\n",
       "epJwa0QLvOxZHxffebFcrUakgmuXzotWaJs+rJ0oeSKDYFpcNUuwSGGk/sC9tng0uWJGWxX/QuIn\n",
       "UWNjC8VQaP1ZvDJ0C7p+MdQYlsfRdnWlrQ3MM6xjic50DBRo0JZbZcgA72Oq32rE38OwTmDJgjdJ\n",
       "p8/T3D0/wjdEnB5EBpn9ooR0hJfGFN7osclVL6TANhccdqmCsccD/Mpfec2ALD4wCsXthMFxwIL7\n",
       "P//6seZ25rx70b1qd1soRmMHEZ7Vo7dJMftmayB2G3+ZAAeV1UdHKOS+1VbiET48NZHKtrcMNKDy\n",
       "wRquDj2uhb/A8pcllkT43klX6Vjuv1gSAVqW+hafTHnrz7tq85gluzqzDR7OwDlpJNJugLnqidmo\n",
       "tdQXvTd1R6TRwHX3dVzhac1R/mDI8zMNN7GNh9Xvyl1PRqFOIG1zMVELuxFDFgEp/goi3BdXlFQt\n",
       "/3395vJJX8mpUEMVUq3UwsseL+GT+5JAQf7wHimAA6oAAAa1AZ/zakK/AD2KO6xzZlKYSGv0FQhw\n",
       "BGRpbtWAasoX+j62NT/ReIM2pGfbTGjsWIHfAiNIKpZidukVgB2t4V2UvVHWdA+I3lm7cjieAAxK\n",
       "PXegDXlr5IbbS1NAZHR2ST64BYe31TpC55GF3E8wEhryWEFfI5Xn+IE+O/9LeORhAYaVPr7xXcLL\n",
       "14V0/N7Hwr+JxxUPcjSbg7lkdlFG86PFxtJ4iH4sIsbsMAi+uSvTBjxuQeUIm3gwtuD47sYNI//S\n",
       "YHB2yqmOM1BXmxTPcFwGAnUDHPWff7v3alftnEuylxe0k9qfRtZcwPpmpY0EJWgw6A3CW4MeBUXW\n",
       "JDQgCqJQ53uB9EQsgoi8HQo2sHCLSXWvZsdj78u4fN+PGB/GUI14+kE9Ee4q+UEbbkFRovsDTjau\n",
       "fJm2QsJEoYHtBZsDaCK99mqRr/QqEDKVFpHSvlnxOAePc49i7LHl3Tae4D0Pu4YPla/9KTX17Kjn\n",
       "4l9y+ul/NIHVJPwSRLwWbUoi8uuUuNAcWYNiEXplRB2+6FlVTcS/aYzCYDTUQzK17rOr1n0y8ZJA\n",
       "3SEBpiaDXyJTs6BlJIqJ8+ngC1w01O9OGWAbaLViLxoAU60/1rrg+DROwJRhkWWasCLJxhy+9mjP\n",
       "Cl5RYiv0h9OVFee9hKVUdV20IlxYi5mhmYoHhCO7GgpKuLiCZiqb0nRy0k1fVJ5CWKgrMTgwFn4N\n",
       "oCyWTT7VBUjHloBWjwL33cKMAauGUg5x033A6m+Qjm7K2qlMcfRmMrqYn7g/yNchkWnxtqNLZ2ie\n",
       "6+1uuTshUHDvJ+HBcMxT4NZ6tuAlSiQmjuvRyFSOLN8XanwEflpdgN9VpwXRwvEdFWPDVwjUYYUd\n",
       "tX7Xjzrelk9myiwAkVkJA0fUtDKwrUJxBdS9tbu7k3ce7U1MFUVLPvpAeklwxWxj8EXrTqWIczX7\n",
       "OcUwEAoKUQtEeWVcUYwp2n84z75za94HAqGyLyFfEoiaakJbuuOtId9jumRXaSI4l/i4BaZk2GNu\n",
       "jvX2E4jjVH6cnpp58152SsEWq7rEvm4EQ1ISIt6gPtIvhmMy5pYrGnuWNjcPxGNFfDH2Lcat/Phz\n",
       "wj1inES2RcAnKEUHa8MTRxAZ0AhGKhrowJbanUm6J8LjfBgzRIMiCrHq0BO0puf/0rHjStWNaK/p\n",
       "r5Xu7MZ8E3D7K3wP/TyRT9fbo5uZbbeEb8BvnrGvwneJeMMH7awUudjojZpVm8sC9WX4xhrNCHh5\n",
       "NhOWazpcByGru1HmPGcSmwscEEfiGUJV1E7mLr4o+tf9Ja0UyH/riBgpdE1dgL6WVjDiUi2Ummz4\n",
       "tvVd/On5mS46CGFRjXaeJgYW+3ZGIpM5GY/c7H+Q5i+yvMo0R4mmW1OUIhjjuDBii6TyJliHQkJ/\n",
       "u0Eim7Re9dI5IYAHuH6niZx0v54DcfvuRUDHNr10TDKARysu81pK4jQaMNcANCGTlDYTv4zr959O\n",
       "oMzMazSJeafKwZp55YsQSf0O8Esde0OwBNLCZO83ter2kJc0qspc8vZ/ikf/ZSKNFJl4QhBCoQce\n",
       "mGz2hwlmvHQNS37fXCEuGtnhGqu7+WfjRiblngTRYQN9UWy0u5qYhRxBd7GDzi9wvEPf38Q9m/iI\n",
       "N+gfsdAiVRKZL5oYzkYkCp3JtDbO7JIIeoKgi82N87Db8LKmZAlBU94EZmfIbWHGCfmbsxVhdos2\n",
       "EUqBkRRT3Qaj6tZnjpWa0qM4T20VxoF6oYDF60Avf7Z1089mhRnTA46B2/otejYbqY0WPIL0vfZe\n",
       "BVQQNcp6p1gTDSduY3p97x9DnSVhSRMWJky5nyU8WWboQR3KKEIozslbnYJRl5Rzzd+Q1ZmeBdvB\n",
       "FPiRKUPodM+jEyD9zpzhrrHcO8RE/6xRj31J4aAR8oOeiLXExXmkfRb+T/a9qTr4PlyLQCw4bB88\n",
       "gJXZ4JvqoGuBZGu9sHavUIO3/p6cW8IWgZ6xtOFTkstPi4uT1Hg5cl635A6Wl2297cfUTRLx5K2I\n",
       "37XPyVcojqMywLowmMHeu2btMnDz3GstDJFm4bH696Xdu6oHmB/tRraK5bLKGhZhwjtEkL7Mtj4b\n",
       "s6wUILXCteFIM2uJeZshjsHQJTPyp7PthkMYLjAd6mBZ/wir8sXc+4iCw01IgM4dYbgFFdIIblhL\n",
       "PCZreUH7i5ECB8H3l84WGcqLE/JlHXQUgFfNKdBWkjzAD0bOo/+6bsXOpJs4UEVFZw/NPzYHUdSv\n",
       "UOBwk0ZwyPMluzEDCndM6aQ/I/PYQugpQv+Efq+bWAt+Ejk9EsiyKJAMWAAAD49Bm/hJ4Q8mUwIb\n",
       "//6nhAC19glCEquXaYBaYU2HtKw9W9CEFpjyffNRC6neKcK9sWpanlQQ1lUNNw90FRjwy/uYLwDj\n",
       "UDoD/yADLCOChyiN0K4SnhDodsgZt4cxhZhRc7/YYBgxyXX0PuHhPr99joob32agpZh4kZRWiUTg\n",
       "IWK3pZFfZdjYjkxPBhsZYkRcKgATaBlwdBUMdIbhxv8MccU1hkNyc8gpRsgUueBa54ktDMsgyx7h\n",
       "/vJ6McUI7WZv4y7R40G8tOCuTus9XM8jhdawXgMafmMNhnWkMhVRZXmQAA2DoddJpYN/5sAwWMb9\n",
       "3uw5zkaLH4lj+qXHWXW6hwgBkhPFFbp+pr07rzV5AX9EJ0RvN2qpFivJzMyn4PQ1LGDYwP60xhwa\n",
       "GP1sCbGOsNG3/EqJuhMaTs7Vo+5SxynipyMk+28CPdblnYzivp8hshgPpLPgOqnAgjlnsxsTJpsv\n",
       "O+nRf3XahnaN9MkC2OlOUWc07de2o1LlBoSr8aCFrfZ15exNS3CmdxzjKLytKLpKxjvh5fH0/YuN\n",
       "9UZoqmNS8cvrV0J8hlOuWtlbAs5Pdua7K0tFBE+x0gNT1LDQtM1BtuqctyQaGOOyiadHt9/I7/Rg\n",
       "Zhgoj//p9f0bPFc1thFTF2Pi5VZIGVDs6OByqjCe23qG04aWnFByp7RWwKglNh/NW6Rj+pwC75gB\n",
       "0mLYhlf9cIsYQ2zJx/yk1kag8YD0VFA8oWLb1UuZJBchnOsoRqq4MsibQ62gZVk4IpWsuYS9g2SF\n",
       "AEbTPG9MObyCMuTXOsJFWFs61GXjVn6JIrtCJn10dVSSg/evNWLmXGrvyYsDUegvkspucWOmSUBK\n",
       "LoJykAT7MxD1OepP1SO+DIDy4ok+JzxJh/E14G3HSpd7BMYexkye/ZNQXo4kJ+n4HTibQghPbY7w\n",
       "1AYsixnHCo0090emdz2OxxCVFT0Lhg8k6S0maZneTsr3XKy68OSsF02iOPFWSlq/0pa1icj8t0N2\n",
       "mYnjGUuSShUWdD278P0k5/CIW8/pmoIijg0M3yKnO5rN4xKnau9BzdThjkShYA468qpDZF6FEfvB\n",
       "fBlzjohuv8pYKEpmiFXX08Buv/+vnjdj0gjxLh/nZ5+U5NgncFfDc4C1AvY3fbsNeJihBA8Fv+MD\n",
       "hctM7/mo19ei8A2/tAIMr+B6hdvFkk+t8i/jGMIhR93Q9/g0W0sL0BG0gK08FkyJOdzsU8m+fYjD\n",
       "opfES1dm5VsUJSb57pc6AmEW+mjATMRn/FdFyCme4hBMr9awPszmNTM49SjTJJl3nnztd6qaO9Zg\n",
       "SLGyws92l8F4xsaihFiDGMD5X6jcHz4h656mUjtBsQA+dL/Ck+o1MLTn5swsuNTesg5MtoV40rkp\n",
       "PQ2kD1nm+NJMuymdzkAb89PYMGyUATPhA0ylXJxYkwWH62A0g848mcQq71drZifsAQVG0xWWVnVI\n",
       "6zz7tvjTkLgoxyNMhci0S1h0Gwbh6odFSIbhjmI/I+mKw+iCkzDtJu+AyxB8UVCDnFNi76MgzD64\n",
       "ziwwBuDwR3V+b+G2cVzAG+5h8gQDeG0ZYjzz+zC04qtt4g5NPcp/qZNNdld49/H9x9AK+Gm6jtml\n",
       "tq8l+1cXje8YPhnpxbQ4k5ffTRKmtf6MXUEgeH5czgJ6FkwHcYoRWyckyy1/R/tsqMIeRAg6gh0f\n",
       "kJ3vyX3UONUQDNaViRE5G6sFvqn3BTLGS3o/EwyjKl7Ls0g80I+0fMMftY6N5KLDOcaUkoFJ8TwW\n",
       "SywRwLtWSm2BDW15EALnTlPU1xuzBAd5vYgriPcecgDLyegF7lmexgrF4oS1LY8r2xGePAIA9Nlf\n",
       "uBQ7sGDfMlNfsplFOmcvNz6jsiwebO4qJ+pl2bDE0GMfzkC6pnKOQVV53eurRPKY246+DdYQ2zFz\n",
       "eNfKe0Wid8PG9+7jQq//MVbePEThpysQQvJXPcqHl9ugi+8uGzzLBwVOXo7HP+R8rOhwOs737StL\n",
       "eOFEtNVPJw2HIwAiMT+cyf6PIf3JAW/+ZY42MRuPpbLvJj/A/pXoczncXccoWaPrDefLOnJfmdB1\n",
       "LOdoWIFsvGE3R/Xsome3O96ToG5R0gL35QurTbRwafJyBH+QGOlqTb3nqe0u9TpBaMF5cul981KM\n",
       "UOVJ2rkK//BvYNdEIb5ELvSA8PbFlrsnzY7eUxUHUC7dNvq08k1DC1zkTl9d7q8GoVHHUiuQufwD\n",
       "napF8Vp2sJFQ2jvcgqudaXReSpwNJPgr0JeKv9ghLHJ/7rcu71FLNMKHpPCnSkKgaBbLmQo2euiN\n",
       "EpEy9sYCSAOspiX7YpHoFAQ1S+eWqaVR65hebbobxFAKS3W/QnSgYfjcYeBIHa/WgnhJgwz4Chx+\n",
       "HVZkLNdl1CzKrTVmUxxhuoCX8Tc26jAspooCG9iQM87V3PXsKoV1yS3FWouHPEdY+bi5Hi3VJO+T\n",
       "+ZNSve2ib0ZWNyRnkb8lgCf5qdutkgacTk8OFjeJJY28ixqlHGgs9ITdeeUV0WCibyoI1/XRqIZM\n",
       "sR3rJx4oafa8VyIMQktpFtEqT4qy9NBSGZW3lvFrU4DkZHtSnc4xzDisglbba/R27H2MJ6GC6aHE\n",
       "bx4dyP4rVEWRaz28ylh320+x1jukhNTDVSBfOvv8I7l5WIX6kcGvVm1YUcKBvpSSmyyHZSaiO8us\n",
       "U1Tkdr9nGY2jboPF7DaxEcCJBJGX46JtieMIooMqorrCyJzNMbkscW+b/AC84ieZ23XNNES/EBBL\n",
       "1v7M1vQgQZ/1eji3tOtn1F6XX9gSVEn2GQmmLuEsiM9+oisDCsnFCXKmttr6p4jtsIYPA1uRQl8D\n",
       "C6vf/uLtaOWpnXxGQZYwtl8A/8R2/MvMxoixK87dIZdSiTCHAaraOCmJQeOsjPZTaMZ/0eRfA+PU\n",
       "rfF73Rsz6Om3Ez/+F+IZSuijvR1+lCKQiKT7s/CfCWOgkCVjNN6PRpC3fXAcgh2GCoibHYzlM40A\n",
       "c0YHx/0LcpwNV3uq7JJwv9lCH8ldX0IMSl7EleLlCrkD5ithyPPqVnUaxkJmSrrMj3A70WbHThub\n",
       "/dx/y6lC85TQKZbosp29A4pa2HmA0KHq8E/dV2Z9FTyNjPNa5ZHF/naQ5NLffsAAS5/V0oOmtcqr\n",
       "gBkGB7rhv0GvGMx7DYdH+mRZaWcMkqd3tE2lG84ECj01UHTMgnyv9mfhb34xTbwSbxYxCiQOEoCy\n",
       "tqyPPKKo+Vao/RD+zLCA9aJG9PgNpjkQp+Yj7gAFO3PswH723RcSqBESV2YaH6CvzHZkPReZ7dA1\n",
       "2Tin2vI1jy1pJEXiUJiGXapjl6ZvcuH9ImNJiYkMJSQhUVkGBU434RIYgVjVTCqJO5PjvjlkrPrU\n",
       "KjdD4C8RY4LVGzhUaBm3pJ9VC64YuEmOaxeyuDfvVtL8g79fvmfmrcfTZhzlbuODih25SSMDJZHV\n",
       "691MIsrwKCDzJqFTs5X6NtFqsoY26DVgRk9pELn0YfAlPVBFaMLstBq8Hc7uON68yv7SqzVmUkUx\n",
       "ynGLTcrW9Tv+E6tp1qj69dHYQDyA3C+D+MSBu+F6DyzZHN6kUn40qql6jjKDkjZYAy1GjV8+s/TI\n",
       "JpHzxBrDC7zFxHWRmrBBftV5A7qJY2N0kovhhNfmBqtFWsD9AGjAKKg7+0yQqpaFyDdmRXEF1dMe\n",
       "++Few7xQMdmTPGbu4VOiWiH7ZiHifnqZp1GftUe8pIMkaTRV3gVlgJrtwONVVGKM1u6NqGMXHFqN\n",
       "7eqwMAHlWh6SyZp/DcCUAQ6Gfz3eDpMonXeDm5j/8MquxiOqRv6z751fuFxRvPgFtt1uzCa7M3ii\n",
       "G+h7oZ7J+jPvJyQAy8AHniPXZ90Cll6j+cyPPkpah9SiFUbdxl1uM52ni/lVSVH+/AjgFoEJ6miA\n",
       "SLrx0/MlHVpOnzYGq+mVj7whAhCwfHcPDqYZDpANt6cBpgEOUY/mVZajwOAqMDYdbWQYijBlgfC3\n",
       "GmGLpt/yjZ4/B1Hsdv6D+LpDQaE49Nr4S8wjj+9LhU8TNx8quoGNm460ePSHcvx29R6lS389bIIQ\n",
       "Fh7/nFURXWkqgutABe1mqyO0bbWPwZPMcCMXMQVgDYtnsPV+ChTpIUpUiZJHjIecf1FJiKkfv192\n",
       "uAfuEmGhL9jBU3kTO8xMrle3yTnQI6Y6qxgQdGmNWTR82Xmmov98f8AWHhRgf1W2lbyHxlu3kZzp\n",
       "YBvtOvzTqVM8l27doTdCINBpNO0Yrvj8FtRms+hU//anIYaqLXOern9rRC1QwBgSoT9T1Tlzzm64\n",
       "cpYLsIEXvtcDLu9FfLiqw7uNsGUpuEw79qbQHyOu1blUrWpadwQHcUpNTRf0S3BB5aX2/AZGQ6W0\n",
       "M1XaZFzPJiD29fgCBsFZYGZ2TG+LOs+AfFXoJKq2bkvaONtpngw5GtAk3d0g4F+TFClIZMMubOGV\n",
       "cFtMk/mhZiNBqC9wEa4NAkpht/C40ceC5nKbT8ae2XOdVrUUPG8UhLpyudCahiZ8cspkwgLnEG4w\n",
       "IFYLIW2IHx4AiqJLNAJMv12tE3s0lfnG1BzwxE4dO9fHwRIG2TSFmy46cmkqsqHA8yTsKawyQr6E\n",
       "pCop6hwdwUus2fqyGz4j8N2ospMLj3DJFYglFQRlRFnxczIT2GRKl1wZ2WmYeaO+WAqODkautciP\n",
       "QQTwZSM11Bii8WBmgZwf+SQA4JjZDgrvG8/+4JjM7q0mDQ81LewRRmtmyZnFMNBxranuQRhB9rq0\n",
       "Gd4HNgqadCm+/Uw3C4b7XD8EU1zsufbqBpqLl5ikEtMxo7Tm6w89kGl51WPKq7f/Ek/6uHz0Ht6J\n",
       "8+WrWCmfc5DpsL0NxmWbvj+93pXe1kbFWL3YU6Lb9Ru0aGQ38iwbXv0hVMLvR/JYubB50ne2A6jO\n",
       "LqyWwHbllIgfC1dYpjPhdJno/BbnXJhajhLiBgdO6jj4TEzHJPEohCNFmH7sjttDRBNwnZZpW9vZ\n",
       "8bOq05aGb8PexumJ0psrfkcBXSjlozHWKN9c2B68FxKrlQXpLwCkkQkRYh8RUkG0ktyj/O14eWjR\n",
       "HoZjX//tFjKy5mlvPUfiAcQOb13FQXsh7e7W5sVRuU0xxbfsbKAuyvEYQBRV5mkVrS2QtNvb+yCT\n",
       "X8hwOBIs6dmD0WFn8RPJP/GpoWtAhmQBc+Ig9lCvX5aNmzHwyYnnE3OQkORqlBfD0L43RbEPqo3u\n",
       "T4dv4u9XNdCZ6jPlrYtCK96QPQvzA9nf+CrrUdowEvg68MKuWt2/kk/nUUaS8XUJIp9XXQ5Bekdw\n",
       "kOAe/leDFEqMDOS8zf9p1kdRXjNZggj8eF8BXOHDRU9Qq9HxgFgHpQAACWFBnhZFETwz/wAhUHLR\n",
       "o1RelMEHhwEAAuXkw1gV/5yZBpJiiT5WdeWCV9QbJRUHXyamT3mN1RgiArADx6YtcjnIAZac/tJm\n",
       "YzScYNjEAHzUOzg5mbnRFh5VoWMOkUauOMOgLr/2YMD65NS+Q1XDv3DTUKb8vaY8g03Y+XBEFEDp\n",
       "3vim+KcGvzNT3E4t4nCr1TpKq5P3QV3yHKUaQxg7RF7FaYtMcMIrR4lwrW2dKfJuBRwims5f976D\n",
       "VG8YCqXt/tlernHC/LdADgFtDsLM76xya6cmuW9ton9ABBWOCSYmFKdJGj0olI+wT1/cUk14YZxQ\n",
       "ttuDZA9C51+N2tl050cOX8Qd7ZGd223+USQKfdWDvayRq3ezL9OOADgfcB7ScPbABK93xogBt4A/\n",
       "cyKsnQAUdMY/gzJTQmzgAM60Hf7uGuO1h5pCoAIbpUzp7KbWmamL1HSm3I2glH6blSrNZalrzAVx\n",
       "MaQ/EuOKCiygsmbCKLFISmX7TcQGJrd8FVvwssza8VtU5FjoTyefUCoWNsRbYfyfJJZKlFC2paHe\n",
       "WpKz49PQIPoX1NRFr+4EFWOSzmKsrAHfEy20zliwEc1tGnuXnqz3UfYjA6Gf14SfOShbAiqki11Y\n",
       "U0Zn4dwvnCDToiOqFAEoWLfHplrpTTrrZsuWPnWb9T/hd3kD/y56DMZWyqs70gcJGaeLKESmArKZ\n",
       "2B8/QBedzhiZaUTanttLI3knoAFqO5d3jYENyCsa1xFgQ9kSBP7xPAcP4j6GezEuUOZ4bqzWSq7f\n",
       "MhUR4BTKOnY8+Ku8IUCnMGRVgPSCcdHX5EPx9PeyTSpHc6466RqK7+ZNjWOn8JQubQQ7Dde63rL0\n",
       "7ETN7CiXztTcrJGWWa4r92YcOgtKR3/xjuYoq0jCCaiIRKkulx7IlOwQ4ZGrb+cqrk1v1okcTX2J\n",
       "f2QuOYH1jci214zVC8fZKhb3ITbU9XGum6HeB1jMEBbym0TasgCuspkZ/idK0M51xBBmfTcbq9nJ\n",
       "ISULuKOWN8Wr7RrZzzcIjvXF/R/qDiYHQ+Fhec9xGJ8EqqEq/ZkMX89Pk9eYASWNk2HlRxUvfyD2\n",
       "DJDeRrBWltV2KUebND+LWqNDJT5qoHPrDZjktewj77taIxa/BFfjdB7ON5k6izj2vPi//1KHRKVb\n",
       "O5e2pUxuW1sQbTyowuCpCG+BzWtZlVnJfX/VfUGEm5fU21wFT0BttNOAqM2HP0GoiiwjBJROzzEo\n",
       "WHQYoe3o+pQw561egiEKOs8L+UpVtrrst477cLUOLtYIX/Ot994Xn1NQIfTVdLNt3h9/sT1Cp8/A\n",
       "mYpPZ3XC59nfXsqj+CoMLdteLv5qzlAtrAUNTc6MQ1rlEI+hoiNso7kjHf3Ea+jctosLGLDHbyjf\n",
       "4TMESkfJO7pWoduFipbJmsu+nUbRibejtSluOlvpKtUMDqbODTzhSFp520SV9i82GAgnLWtiCRJE\n",
       "cHykPBvqlu549ZQI+2ZlIAcD0Qsm/0DHpLIEu4XrgYPIVsIh9KcRgJdWvcz3nT++Pcne6sSMcMpD\n",
       "HZSiWjIV57uoGRulWXAdjMWIsgFnb50hlmSEaYPsNTcRfAKNiQS/ZxNHYW0kg6At3z0y18e4aRUO\n",
       "9S4Eg+E7x51RK+yLMtEN/RCx/HWnoznguXV4QqlZkIiQ0xteRWr+SNp65Ru+3CZrBiDl+wibTaJc\n",
       "6M+KAo2og4Y0qPk3cEHkOsLiSPmScUC8UzUItPUrWpQDzeOmrSZE5jpg2cvKumWSyp1Ax0HnoV7u\n",
       "1OOK3oZvTMsvP8YQAVl565Q/Ux1n7jfC9yHFXFhuZuZ6OTHqd8Wo8I1NgQXg7ovr+5i1cKpvyvOT\n",
       "hWUTZ4rEADJ+yjt+x0croN3UuTunPedhCNpyT/t//4gHi8kCN5pY3uzTXriSxReZTHuby3KvBA8C\n",
       "uy7yZrupiHbTAUngmq/GXVUagLtYxTzli/76OTuboxJiT2XdQCxuQTBcQ8ez6xckaLmlCJJ7Wsi0\n",
       "t1z9f1CYcTiGtrcwu2lbOHYRrwWiNq5tcrZanbQR0nyNq6qZddoMry2Elo+x7iRg2Q67Abl6uH9/\n",
       "9bJV++RtZCVtZe3+YbQDhtXaG1ZEObLyMoN0Rw55oPAR+wcWa53yf69XaYm865BmiT0udUtBzvGU\n",
       "kPn5AKNh1fGqKBCVGwU5OyHy9lViq7dLH4U902jrmznDUq1AhmpIlBAgQ3P0Fn5qvFbt5oT0XGDn\n",
       "C+esoMOTze1u6z/sFR6/t+G7YgGfmWY9Cp3T5tOXHroZUsPiWY8+Jr9DG9Lw7QrZxn//xGB3cYZT\n",
       "GDAOVVLi9HdZoLcFlXDPgvY95bl0mvkGd83FyxH2Z9InTznp7G5jjY7VTTfakTrgl1kNFxy8NPDd\n",
       "rLlWu7udztHbSFZcDSOn+HedF5J3HOvXdQYBDjokbBMJhrXm6v45igmIySXnjky4Z/vqSwgjr5yu\n",
       "3M05Y2/VulBM9onX/KENa8DtVgWJq1NzqhF7jn1uJg/A0wvw7Y7/AEJldmJB7UjPvdR+a1MDci2P\n",
       "dQ3f6rIJ8aY/YfcPl8mHxCrtkqtxyMS+V5eqROw+zXVcjn4kZ85ddNzsemN/2fzzYjb4RFJuFhha\n",
       "+P/4tgfVIaFfBraD2ZVX/4a7xqupnS9SabzBpclqmKRPsEDnMj/OHxSkf8gg++U7BHUMNyc32aXH\n",
       "rgXf2XZdq7zqv0yQiXLyyM7wN09Pe19bLjfna5WLXGNOpzsu/fAfReHXs6RFSn95I1rZNwxBqdbi\n",
       "bnRz3FZ5V5Xv6a4cDpcI5R2pVPLCJ6J6h/irBi3YZ2fC5IpXcFaB45Dac2ZMmFFXOFnHvy8ITYPu\n",
       "l+gQYo+dhn8crr50zOTsRId7SzUsnAyCAZe9XrdIgY2MK7KX+gQkaXufaKfsppQHiWOxmVEery7i\n",
       "0OpW8KeqRUm6jlP3U92lCkKreKVBtgJcm4EV07eq/ySDqNEPPAiJDruJiMSB9nOZtIEzeTuKNccZ\n",
       "ddujWAEW6qCGL4uC3K29g8EsUan8wHMrgX6nG33kJlAYkBX1H6uAQmN7HoG/xNTvZN/EE+YrHgJo\n",
       "qfGessPhBDRZSPejCGu4zAlblADkIlsfv5WnGuJpo8rQzlEWu8LObtEXUQOVVnHukIMSirP8rmbq\n",
       "sn5TzyjQex3elgNcqV2AjQlCAsQzhMV/FK+M7O22DDvUn/gdqgMPbeM0lOnaR5mrsKmAAAAF+gGe\n",
       "NXRCvwA+HBGaa91TfA8VQhdlRFny1hACEgT+6NGar5A4U2xx0d8e51u4rVLniVLlF0Ocypv+FRjU\n",
       "I16vrzHMSd46rH3UXdO8UhmBVmbxbPLH4NSfTaQ04B+eLvnYMsvHISbvxatvmBMPG/1n+Lmri8Ua\n",
       "JTTLKFWnYGX14t4IHObZMoPKr+h14r/5phD9zVHg4DIpaDVYVBYLT3lVMVtuc5aNesdrnCk3fTdQ\n",
       "Xj0xyI/CGFqFVAOC0KJ+wL818utWYIeR8UjUmsTbukLe/IR2it134wjIo+Jqy3o2oJFBSqhYPSit\n",
       "/1/HXSW3Rd5Ha2sMQLm8acLl+jMvTZrxzpmLdHqx+rOFrYhERON+9hkEIdsKYd1zXiN69otgWI6G\n",
       "MfuQhimCWPHyjD03XYHiMaKs6ZZqDN8QUMCaNQyd8ZVEDydLOy9LZGTPTzyx3sjKN7foHs/UV+GN\n",
       "eHV61Vv5KWhq3/Kypyo7cODU+pP2gzl7OXvUuDs8d+NKdV24o8kvtOXnAxad5W6fw7lYg5ykQbx2\n",
       "aglfU9Yrr1h6NlnVP27AGWQr02OmNToth5dXT7yhE7k+Jb97dUNnek53ifSZ6WcvAcm3OTmCF5Kj\n",
       "VoGeACmR2XUXNOH59HspWrlqS+MXpdXsP8cRa/fkqwb3WrJuvnkEcaXGSL2FNZwetACejXzCN+iJ\n",
       "aHCMx5sDDdeCzDbxgzm5apMOqOLFEv73JgF5B6TcBa4bCgA/T4SHijMjxSOUFWPxRFNbIWm24VFC\n",
       "Qb8ymtG0OYdSrPJ1BRJxbtKrcswXOPd+kL3x3dINLTuw/2xLIjwKXHE46yA7DwUp9VFsd1DKZkPQ\n",
       "mRYrv04lTXT7y/FgT6fWfcg6WP0R/k/WE8YIfGbXm0i1E5uEJ+iwbKp3gYj4JEQaDzO6HE9WD3N0\n",
       "spmE2t3RPDJYEtodfAJmOhI4Tz0N76yWzx4l2mTrip0/8TrLzKDKmfFm8F5hQ9GQg2QpqLN+faJR\n",
       "LU9+Hj5DUnRxWSsgQ8d8b6xVUqGPgGdqeHWrQ0H0eniqKRzSHYIYkDcKI1M3k/4AXdc0yd5iwQ/N\n",
       "MdiLurHtK1uL3aa8Uf67zLUnU5EdlzEOGZCCr5C5YfIuJ9fjsptYzErXaxH2CwiJAa7EWp44Ktyw\n",
       "X33hfHLfdjbdduXQkPJ6Y5mjQtulUTU8SRkrHUgdNYMA6PRiq8LYz6tJPBKjV/EQYjQwyO8OcEaU\n",
       "xDdiHyoC0w/12IsdliAyQXXpgZ/mqBnXgTzYwt4v4wvIP748X0AazFP9wovO1wAMTq/22GUooHY/\n",
       "pTliX9Ugia9gVdgr0KP+qe8NDc//qP8xof9dVYMj4XVKpDlgY5vSi0GyRG9wfV1m8Q9vjJ5snqqS\n",
       "2u1SM2RLkRvsdNkXAwASMPk86UURMalOsTy8CfcRQv6yo1HNz2d5VH/veiciYk4iNvPyqV+NuQ7x\n",
       "tFJzao7mXkiP449rrrtmv/gyrSgXtIpzxMvh0UUyWV5ixNfLnRKgCheoOpVx/qRo6kJjOxmnhe10\n",
       "amMNGrujQXoMaEHvHSoERTkS2tR2Whj0c/LZjaRCo9l4bAN0CDkG0JKPOt8/K0q6VTWBMLitNuuq\n",
       "yVyU7PDPmTt2kdf8tIJtB3GSHug4dRzJKvQh6+iGe05GHMtN7BgjDzrSFiv5pxt8LBCD30xrqg8w\n",
       "Mtax9Cji1yrFh4tQBKQsJxuOx9OIH/PdlGdXEmGw9rFAvMbERlNZxKZ/7L2fP+SDgdgCXIJHntj+\n",
       "tYgakR1M3VC4XnLta3+5J6C1Yz2tgpi2N0vpxWi9dojvXzIJCFjW0+X+EAy0sJveL+I8h2Smw39l\n",
       "xrPRF4stUnP4Cu84ZbmJOUA274gxo3Hskw+9nteWGh6Hg8otPtGOwomc3pUHZsUII3nDGWnDqS5h\n",
       "Wi7nelGFpwCouW+bdYoowycH/RQ/tkO7L56cTX3jKMWXACvYdg2L3gYNi8E4XNf54JTSuJ2xijTQ\n",
       "EzQbPDrWyxdySaqDup//MEJZWaFBsx73OC/wqmnyFr1ZhYd29Tk2uJ2ZOAA44QAABIkBnjdqQr8A\n",
       "Piyxlh2sLf9nZoO2hE/c3gAhGhKFwe3Km4m2HzCZgxJWQsZZdvgHmJlL/TxKkC1RC5N17kiAHKU6\n",
       "Shs9++fGbUCUH/wJ1g12BpLUg4qdssmIxYTKYYjQfTK5H2+XAu6IQ7NlX4dFQ77mk+dRLYxVRGW2\n",
       "DuEN2tm/GHVz1EQ9Ajs20ttIjfcAj7M9cBLHhmBxnCBnDqBLOwoFxO6gy4/WYTrZ6vD33GMwsjUg\n",
       "CdnY2WnZ1oXi1uqeGHV5d8P3GINE9osykAHay6pP1tx1T1L7FC1QGiuft9jCPz+aI7s/vK4j32Po\n",
       "1/j7m5IPmFQ5ABW89edATVesCJqxHSl0yV3EWZiau3zjTbzCQ9CTnl2b9WkSSfMbS7+txA/iH0CZ\n",
       "9Yuppv9FXRzBoZQnau52xn3E5KboFrJ57NrM4G2HXhEPL/WQW/nqeMVICV8G+HNq0QWwXVoDOxVI\n",
       "wRHovlxS2ZczCn1Rf6XKZIg4xmJGNKz4K8mMX0zWIESOMfDl3L9tisgqdHHlYBfPjB0CZA97sOOd\n",
       "M1+azVMFNT0xWwnKMBusLcYa9OFrTEFT1haVxkIi2E/Dcgcn7SScVsOYQVjxmLB0wQVF0X2c8rlU\n",
       "DNY2M4eaBMDtqiNzFTCOX7+0B+vlu7OgLh5NFOqqZv7uotU4S5AEL1cvC+3mS8EQ9aksuhrKGo1P\n",
       "iag6ZOUHKqCUzp2RypBE7glbQ6JndICb7UHKBvPbba/7kopKgj5oGghRwyylHUV5oDWzPOGktkGb\n",
       "bZSv4cOuzA5M7RjPlsSGT/OhiBj3e9pPiczBjYxdkoRXlsLFtwv6Y09gpQTAHO7gmhPBjef3D5B+\n",
       "Daj6iCTTkQb3jVTs7iko5iJjLcTG+3ZwWvwcSZqAsJAxzH0hqm/l53PhM9XPnhHBoK/QhslyqR0z\n",
       "6kBXlCmNihAJSahLGJB7+nGwAE38yk2OEnueoAuBSv3GCik1vStHVD5x1KRApYOJe8fWd4U+u9FK\n",
       "QLHjLXchk3kNmMZ34IvuErW6nlbQ0ro2R74J3UgMzAwiM6tKxcAFh4ZM2ORgUlpP62fR3D8OwnJr\n",
       "IvpxkYgcgAvIwEpJxA30bJPmw2zzdoeMalv8zc5CNyJ9TG7IwdVFDL3fw6jyLL/Yq4aeg1xkgIFV\n",
       "jNpeqoKsnsnxgViKM4/nDgD+N0rmUt2/yVJO8gwFmlF3syzI2aLBBCoiYbsBpj3qnYpEWhwyQNmC\n",
       "tq/EYHW81o4VjMWv41g3op4e8d34oMYvE0c7bLH3jvJlcCjGLwC/ueK/6UIkkhL1XyMsfe04Vn5k\n",
       "Zml4ORyLCbRnzVvbq2n1rZkAG6pXCM8a/0RVLGUGJlfyPQ9HT08LX639zDJkZUMa1AulV3PvXcZZ\n",
       "1HMv3ZDl1l9pjTQpvmXcLol+qIBoU5iTyEushhtbNchtDJQ8vtTtgCQ/hjwncJaO/D2Z7JC+HcJs\n",
       "Pmcoitr9RFQYc8n9locnQ11Wg3ZIaCPtKULUvzDodzqd6IJiS94yfDn5zO8ZUT6Yp5zbw1CfrZzC\n",
       "TWXmT0oiDdZe77DdEPEAAAvzQZo5SahBaJlMCG///qeEADT8J5pPwgSEkAEsY1eewAe8xJ9IU5HZ\n",
       "qlN8SB36SIynbmqWXpYVnBNenk6Fy4FGxoPo3r9dPeo+kyWmbY6uiQXhLIS8X9qBffr5MoEy27qh\n",
       "vg+rvP+0BSrqDfD+K7wOsmKXR+Kl8sz2O8CiQqpHvOJQyZZWZxvQ0kVkLgWbDQ8k18BPLvh+BYC6\n",
       "Um+4rzWthaPsEITpy+sE5i+pGbB0FSAp7rF77jqquHNBOiJ5sScgywdD1CKWgq99viNqtieKKGRQ\n",
       "+pfVKM2qivlXhmQZHFqn/PCmmRD/aISxfkHfaAMKJcS/Ra+HZ91V6Yvtkd+2iLLENU3zIaDOAGSl\n",
       "mFCYpB15yXjq7AgSRyzhT/0oio77ZYAKw9QucNRMLgxabnQ5OFSR15j5JiOrW+SFRfxMLQKTdnl6\n",
       "C9KYP04bJ/9bEa0vCA9LOXtqhFenBHQS8kpuyqLIPjW8I4orTAxMV5Z7NQQk6CNW40CBZMm08rHl\n",
       "Qhuk/D95qgQwAApAAVizCaSvpv1Z3s00cfXJlalR+HWSS0n5VSOFhuRMqH9PO6pgrvS9atAgVWNj\n",
       "8fiZI1Ca6rgNSKD6Bl/UFuVzBKEt9Fb4EJANofHAtPxlLR3yteg+SE4JmtlYrK5I5HSBPcT3gGC/\n",
       "ZKCLvf3OCGyVVsCUiBTCVTUOrKm0L7WrHtgB3n/qXUjWVo7vDL4vjiLtGSacIynAtxzdsBn0Xb1V\n",
       "0TAwxxxaiMVurjwt+zFFsw4s9I4pl5LV085pjHXiqYo9H2XUxnefD7JkctvLHkKi+2DYRLRqmdUq\n",
       "m7J/wD9zjugjIF0EgDSrVmwwkaiHsYdf9lssZdLCoHOglzaOg2RnOkT3Wy+rX/oHOiIG7GaJei/a\n",
       "7zdLkHOr//LIB4O3UBWhCyxkC6Imn/GRTj2rDsgLe4cN1SWP8w+8Toai6Uj6Ig6xl91N6ZZBMokr\n",
       "vw7msxpIJdxsNytctx2yxx/49D3mDx9wqKxVKVpFtSq2wpJmXuKXrnWZ6S1+Zdw+48Tthgqd1vDa\n",
       "ZrobH8Po7+RdNIdWLSkk3R0GY09XolfPmn5v9LfX4GE88rFr2ha9CdL+84msPoAzD9F1/ojRyggO\n",
       "ToNb2xt+QRR/qdjMrfuBGapgb2rQq8PuCrhgsTSMOZ6HXVMrRnYixrSHgC1Zx8T+i/SCMvb7udY8\n",
       "gYKWc/mYZqkleu2IGtH0jp1KWfyt6rXBlfwEoJDM6dQG8csfjsYScFvNhETaOE5UD+8dtw8b3BQr\n",
       "pqsuYAHOzTKBa1g2JPFYhVhLWS7l060NQPp/2T4P2TWcI32JtCTqXS+zhrk6pw43TSubTM0Z52rl\n",
       "NbdjMLdynysfjnpy6h/eixGnWLfrXhtCRWrpHEFgfLEgl2s4grXan/C9rSQmbeGFjRFvKX1L3Mh+\n",
       "SyIMlIusC3slVoiRHVix9TGhVxfucE8kr0qrSeSUSl4DolwRJbv6aNe7R0JBHxcJT1nNEnLvZxr3\n",
       "amshiCpcrQalKPvKkYPl3iEu2RdFxDrz7K9dZ3VmB213vcSdqiDn5DCNoYo0EOALPMqhXNaDuycH\n",
       "nRM6QkXcOzaaCQYw4LA+5+Bu8m0OVPRjOCj7XhQQol+EAqu+Dml7UTa07LQ3ksvdPSDh6fspFTDc\n",
       "bBLgim2gNS2WZYGtnpos1kyoThXOZi9UcTuRzNxwpnaZqEPfN49tuZyD3sVvOE0lw0eUOmctglpC\n",
       "fJRDCRoOxIfMkJqTK2QqvLZnJSwEIabMYGP8keNepEDwvePImb8gFzTQuK8ICkBKWCOxXa1MAURY\n",
       "JuVl4BOmXpejesJVTpKKo0L193t6gI++2T6EjSW/A6vFYdQdQMquiq+6mkrsgC9+ojf9vezagBOt\n",
       "5Mf+vo6LZuxiNPi7CqnZYnJdFbOlIvMfUE11uwOGlzv5iQNYeqZ4MQVOpeke/ARdCzWeFaGbN9XK\n",
       "pAdMHUKyYM47KJcWPF/EMaAhXbMbs2FyDOFuuvvP2lxwIosUK2otRtgGm+RT0utEm+KxuiJO5YDm\n",
       "Wy2aEO505VcgfORWZt52hCbcWssvw/xpQUL7kVYcbmzcXlciiKXIoWuQVl8Qp8IP/lfaduf8eoie\n",
       "peUNCLAihy3RXJFhMEohSnQ+Zl9buThsVKLOYcA/WZnFQMCYNQsMh27RkTmy0XfPPZvarZbNhq8D\n",
       "tWxdLI/6ztQFMwK2v3S+VYQsC+Pq7vKcojUVDFNx2r4Ubb7A/F1o4nai03xpPDNb0UgS//9JgnZz\n",
       "zA+fnhrmnSgdt7Av5rCCXyfs2EnSIHx306jkDbXYpa0XCbPf6NalYMoPbBrbtBLyVOkRBzM9jgKj\n",
       "35En3QdCotKEYYwA2LEc/rJWjpYLGg0O7fKZA66Y5ff3aOplhCuP+6BTPTFBj2aCBQNbuLLyEUcV\n",
       "f1d5SBeTOsIDolBLgL1IFqWFaU0by7pmF1cFRgLlHCpmivJvNZb3cSniULeIgZf9ttpd08hl53as\n",
       "KGw38WvQI9hdjOQh/4cicIaMv41iYYpDuPqK8dy0JbbZR5eyYk7w+j61sjuKNBO8cvgrbqk3GZr+\n",
       "rp8/8IXsIuwi1/ycle1SDT35tz2cl8xwCf8Jj8+2TnVCsawqGv7L/Jg9LGBwTlaDi3XR4UIuPQ+J\n",
       "liR4XfYMmoABv7jNqXOpoYpk7oYRrcLMzWOEElnE9qIYlZdZWH7iJIwiwgN3i27Ad2nV4bQUj6Po\n",
       "8K5aNNjVIyw759DnNfIWYJzLHX+uv9i1h+lm+MBMV4agdf+EYMKF3p9y9M8QcfobHn+Sk0tmP0PY\n",
       "CUTOlZy/OTlvdd4W7X6YIIR9DIdqAIaiWzMp4AonZ2GzDw469zwFYfDBbDgkumjBtjy+6k3hes2d\n",
       "08a8+dpIPXhTfjfaZ411hs5wBmPtFkyVOvqS6DtAZ0ZDXt7lLQM+wQpKCRv0hmsrZxYB/Ob7eA71\n",
       "TBe5e7vAIrxA6o1x3qm3RJ09kEy+E6FsEQarWMbAdQHw82wUamQlO1pYmyS7BE6DHvjweYYNllsN\n",
       "31JR1o/mZ2rmPK4QHkHfmrgoiL9L6NteF8kPyLUBtkbRJe2z0iUoNspwUu9U13CXb005n6KFOCur\n",
       "ncD+P5jzzKOkjJyJ64h48NaALoYhEGZN6KPlPflESyzSwZAS4eeEp1nJ+/rAWj42rQGdXwXU2U8q\n",
       "ropBg/Iai4D1GQm/PUYZMoy7FvDNguJ1rdNld82rame714Vp+i3e9ldTHQYXmRbXHBbOvyZzQm5t\n",
       "anvbtNEO6O1mW07tX2cyuEpYcB10TCjFvbltFfHiCu6oL6yK2LYpE8hEe69J+Ei6DYOXs329td5x\n",
       "AHHtJrsH3cpJo2MIS6553XVdBZvYiOgICo82sAo1vQLxSbwsFtDrR0w0X+kDv8rlF4QyeY3ve/5t\n",
       "lKfXqxT2PpTkOBC3sH1FP8cklP3KHc3gU6l4lV48vQixILM4nImfgt8t+pFCy/SA+T8KCSUwrJ1T\n",
       "dPkXrr+HCmQPoXZPZvFjAQKQ/dExvrnYXQZI8Rx6h016XFhprd0TX0FJBneEvOycsfeopi1hwfc/\n",
       "gBlKwGwCHjs4DGKulO+/IlApFdkFPvgofeF204qaTGwzBcRatb3yufzRIMSgNH0nskzns+L2a5FZ\n",
       "oUlmOk2LIKK+2LurVnquZWQ1dWKGFbgssizdNyUepKxBy+bB5s2v7MBdNnsvBNeprvC94mPbGWdj\n",
       "5MI01ZsSIeK9XbQEgF0LsGIR+btlLIiGc+UL2rdWQ9TJOVLQDkz1x91G3tcaDXNNCRRup3s3Y+4x\n",
       "Pwvs2dBrvaEqygVRWF6KARu3ctHxtSGnpqhZU27OjdzpJ7ywovk5UBGxd0+P8UGTBW6/C+8emSog\n",
       "Fn1hQfqhobo8QyKpwv61hE4Wv8NZm6Y84oK9BVWx44T+oZHdJfZqkhe1/KBFNTGYqrmhyaEjWtbm\n",
       "5rOWlbMRS4TNQ/CS6r0xcF4qzalu/TZGZPZ9qwMz4Cpjpgjg3+M1gD42+UMumvzjWanV7AsRnIlH\n",
       "dZ/RkYw3LIuxWzL5j3K/b+aN47RghbXyv7drAAxrRnXcNh47sSrEpwxU23rlCPGmLciDaGwABQQA\n",
       "AAnAQZpaSeEKUmUwIb/+p4QAH6xQBbrh2IuAFunqY+D1bfqPjyl00pQ90rAzQ9EnxpffSYaIZiJg\n",
       "NWF3ZWUkz1Uq9ByITMiC7EdXyM0heSytjAnDgb5x1E9I0To6sV0x49yWf1dGxPnhIMgBPRTK5XYH\n",
       "dZjLfFRnHkL4U2u03DiS9J41HW+r176ABS16QXWX0rc7FCajm/r2kJ3z9iBX9NmaCIzx/ZOW3f20\n",
       "73m9y9xkZMR0yoZ6dFJ8tliX4bkOF3Ru2H7THsZDtOV4zyBW333zDLSgqkY0JUo9F0buK+H284rW\n",
       "/eAeTSBe1sgAvm9A927PPEX2JglM54TkGOFtjb5mRI4opO0aoqvSR3fhSc/lPLQHavE/rQFgLZzw\n",
       "FW5PaiOIVnHB5DlqU5skL64T2h8Ffev2Lf/WsfyVHc7Lf7p9tXix3OZcc08Z0U4c8566WxzJHZZX\n",
       "3csnQxyMTw7IeemOeuf8nThR6EUGaVCncr++MczHoJGkoTUbCcLHjEI4pwTHlLwCspPb4ZeJa55S\n",
       "GjVHM4VE0mnJwKg56lgpOPJzjFBauAFaIA+eewzIpgHCfxlHAK5MukESQm7z2u62SkSVXoklToAL\n",
       "exLzVjKAm/a+QLxUWbTSa/k6cdVAuYZEssuHwVYtkoWf2dkWteYkyiNkE6IWAZftAHnV4E1uuwL5\n",
       "LTwwvwHbwZtS/Q9DTesfICTgF581pBi9MlqNEBOZQXaptYVPPjC3R0A2w+0iopc1YJa7nGg7uh0L\n",
       "XFlaGtL8NNzDysnPELCClKJ3GoMxkvIXdWFKTmwOmAQKA2NRBAoHieLL+61iA/rVIKDheZO9WZ4E\n",
       "JpbGNAsjaMryooTxXpDkwfpKbpR6o3eOUHP15VNcIkLNqBbCDdkE2f63ySKw1nLz/PHAHVHbk63+\n",
       "rWIiBjGvdDdywI6FvgYEzpOST2nbcRtlpro8kB8OQRBTakr+AgJa4fEii5hhq2WTVtUeA7xp86Hu\n",
       "fHXcovf+nLRTQ/T/k7f3fnfui4X9JQHJDutfeA5nJO3JMHMm3OYf6wzolVZtZrTx/4i/9+0GRfTz\n",
       "BapAGxGXsrZtQ9vY9y+LEtHdTsxiXj2Y/HF5jizaZikcO3LrCT1m6Oux6pIJInq9aWjMNQ/hl4Il\n",
       "JROXOL2RDdydaNB1eZDkn/atP3gKpy8pyww92BWQsO1VJbP8O+a7yDtSX51WB4KJWSuAkqDTQ1xb\n",
       "Hw9f5c5byyQKTlEUYa+H+AUrRv6boffCZVuG3slk1bkoL8vsPLHT7c3w3Iiuslaq5hnKlK2HNV8U\n",
       "EegdzeaKqesLbUO0I6ruH9H/HN4+yCEfBD1OyfYNs3SXgQw+l5Lquch+G+Xb++RFjqV2bDZIqjjq\n",
       "t/J6buxI6Os8ovo8VcBRQ+KnhD89ietNRwtYfZpwHNrmyBc6E75ovg5TP4c2UmzniN5Uy/SmyfhV\n",
       "gr3OoZJYpO6RqSKmLq4I4ytZa27ivUfsOhelKUz5o9IY39pDJJnuYmWgl5w/+DkRdFeO+bFo+SM9\n",
       "K8x3j/q7X5ShdezYX1EZLcSpG1hPio16Aa7aQheGYM434B013weH1iWa/pp00DEbRWh1r+JzrUZf\n",
       "mg/+NiODiElT+nF3pF9NvU+1qtWxAZodA0unbUyeP0V3H5O1oSqQbDxN2Dhz0McbDR2t7HgVGtyw\n",
       "lkPb/e2SOYOouXPFTUPnmvczXmqWubxd3XgmQO3dQTwZgFE9txKzgsTKYG7ARaPiWGhShKH8Dx0c\n",
       "cz223zyWIB8pG5Z7mOojFmCa78svBjrLuAh1xN3mdkwwmihaOeBNldGqMDPX31/FPFMLQmZXQTAF\n",
       "2CaEu2AIzSIOwfR0MR4EMZ8/vbbnv+gAk/KFvuY+JrN/s3fR4RJV2Zawmp1W9u4wqfr7MU7xDJ0o\n",
       "VCjPO5UPq2VFo9i2sULDMddasBzwsJJNhq7+8rqdpY2EGMihmB/fGSJBKVSgNhD1hl9SpU7j8oaX\n",
       "I+7gRCflvnKNF7BplKxgsJNwRyriosde2s7wL7LGdjvbODY5KD0Z1I9pJTR/HO1/yikpnvvdleXV\n",
       "iUq+eMDi3xJlz0hqy1YWsDsP8GGwi4Jo++mkMw7a435ld++WeZfODfgQkK0UK7//3JelMu5sU6cA\n",
       "jxsykceh8LmWh7yTdB3IFJMQlyuxMOfyR4Nm+5TufhOBh5XG/nHqcg1HqnOvURBbMt33T4VasFmr\n",
       "cqwk9jhA73751oW/8uRcYo9qDUoKGaW4vdl3ZSg9FEo+U9d8tXNZMKfp7iDAP5zm/oecTJ93J1lW\n",
       "3/xBMdwDA26SCCzBeg7/XEsff+/q3/NWjrQmFQA41HoSjtrjb6MgMvyIEKlGGSc7iNNHmXNyQvIV\n",
       "8Rvis0XSL82UJz0qhAebGzI6JJmwsFWYvhs/Cu+1WUW17EYkeJWzPHfgVcmugd21qWgSCpCE1iO0\n",
       "Ksifb17Mm0VdBwoCjhMtTqYE7wa5dfHvwpqahLoa3eO3fyqpWaOhpjGZOTige5oXZNCSN4cmcVae\n",
       "J+mh+1h5A7FEN/x01ZngOXX2KpcgRdwtYhgnGqV0l7/IT1ltANhAIEQmsi5Lq1/Vj76+uJIT0BrT\n",
       "8J0xBOfECIn0Y3wsMOacNMcO9Yvq/HDUqquUHwunFLeVDybWjdsbiFrvmHaa9qesmqsFmBQmeH7u\n",
       "PlMA8h14hK/09J3FFg74qWeEkEynAlUJSZnZEcbREnRcMJ+3yMPGdkznpIwsWU7peibE3DYyxdSt\n",
       "RYRUk7y0NpOqfxVKQW8iijyoqya4OuXiixTG/mzhO+PBtHevt/L5nNxpShuaW4sP/w5NIEt1ADM1\n",
       "L1IuJBSfEi/vvnUl57IRe87MMVddYizbS7yrarQ4ixNM9mKk/JXTdj6xkgmoXg5Rx3/wdGX9yCLx\n",
       "T5F1DJwVmztGy7g7fm6GYK7w4nDn4gH2nEPybjS8Bauei43+APNJEKRolWqm5DWPQ03gNPqm1fyZ\n",
       "zoassfMNXN/ulXlPBils7loQuQZROlY6ofmzOqltM4D58ueyMfUs6PSTG1w36aJ4db73yEbT9ucm\n",
       "DlU0pl0zfkVDpL445Scb2g6wGPe8sojspU+rjkU4PVbjplkCUx00T6yG7P2wdU9FnDJstyWi+ru2\n",
       "Nj8hngAPEF5DgApAs+pHv1q6JxRIFVwC7CVCpKqB49jjlhzMUaBR6vhJNIwgf45LzzoDNseAgNFl\n",
       "BXsbdA8xAn+esnxkbgFMeA7X0fK4+ojVEunfxtjx+aCm1wliPjK2vudAlLjT4maSVPaGjCjip5Ca\n",
       "kx47SgePBT+BYBKBJILjxxQcEJyKqligLcnKQgdKNAY1vGwVX8tzrt8V77uRABeRAAAO80GafEnh\n",
       "DomUwU0TDf/+p4QAL/wnml5QgoseBk3gAuTqNolp2DuT9GhpFVMigRRaxXfGGMNqKXRwOvOEA7vO\n",
       "f+Y2asb/Ea9mYbDgrH3N+KC7x96KaQp+YWCiminYFrN025XuxDCC/JdpacH+uSQOWvMBRIycemSs\n",
       "H6xXDtgWPPRtXgkgZlsLuASbt7IoMgLxEIgN6vW3Xn1fsP2NTm6NdgMq1CgCAqNJOLBZhNHzqOiO\n",
       "ovCFNLp5kN7Y644qBVEfMrmHbSVKCTfwadfD1XlCgk5+kBuqCgitxjdhrH0ShKVjP/GZSeX3OSGD\n",
       "hVi80C78CE8w/wqvQcuGbo3NCRQEe6WAkuHlVb0qLLta2ooQP/r+U2Fb4OSGyNS96IX0E3cCvLaW\n",
       "ECb0nhPGxMeBjod47Zk3MaBeDHygtF3eB5m8Cx2xlMW3/sq9X5bvLkmNtgnU8AQEgLhKzOReHTi5\n",
       "2sTEKqBIO4V1D0ZHeeQYGs4LP5LfEvRZRTUazAKK5HTLvHdL/kHCEQIxLC4qz2ePAmaGJTMkcql1\n",
       "nqzLAMd0YnMvZK32kc/eiyt/yfEFe0R2mIdPNWZoUBDqG7q8GGS5+wRAjwlg9sOgIREmJcxL5X9q\n",
       "LW/4IoP3Wgt6Iw308o7/zbQJE67jhe78yjYtMziXF4u5fEQB5pxsABIr8tOWkKhhcNHzyLkJTIDM\n",
       "oCcw/3TaFlhXq0vidDcsZrHRmsyy6ausgEPxvoitslAdIxDLkGL7mQ1QqXfFiVh0vud7tjykxCqX\n",
       "RKnjO5yCojWB5hIgDiCLtdf0otV2zY8t/yvRWgEypL66MaXlHJNPD3V9PKECyO1wAQ7G8lRDX488\n",
       "ajmewW3ZqDyO/dACrMGwY7HEHcHnpC9NnquWSCh+Pe3RmO3/4QASBZFlT6cWLykAAVg+YcX2BLDW\n",
       "B40N16gQrhPf4W0shXtdLQfPFEEEj8ur8N9LBW0C1Ads3MWLe34mC8psXF1vGd8HX6Rxkt7t65fw\n",
       "6EU1bfQBWU2Wy7NeFE0XnQNtXSoT8IMAh4VxDdpHhYGX0iSZx661rbUgk7CApFFDYmGf3LhkNcRE\n",
       "8FUqyjro+jtyr7kw2msjDoxX7PniylyMHkRzCEGVZXLNkYT4jGBR0nwdaowsrtCl5SPUdzSRH9uM\n",
       "Edhy3iQuTkVeMScCZT/H+cRtjO4Va7LzA+NLT76FQYwkVnnrHcGNZYXF6UCaksvSf/XQqsof9wim\n",
       "Qx1YXAHn1gJeXsOjgteq42I3BLKr0X6DoaqIbS0CC6K0FO+szZw/nWEJXBC12mHwM5OT9VukecCC\n",
       "KmjaDI9F1/tLb1YWTB7quwWfpGDiq/ZrGZelh0WqgaqpdjmuPDGeZuxK4XW6v4jIhndXy3COA4Ck\n",
       "eqTYx8YN0po9ftoGaFRuCQFuO+6T7he945Lc7tLh8+tmq9E+Xibdod7yA6CzsnCoHMX28di3H15g\n",
       "Jyq9i7sYhlC3+k70h1IwmkEHiwliEKwzZegS1JvbLVsLLV7nsOOr7BpaH4/YbaGJSPe6YUbphglM\n",
       "JC64rDMZrZxuaSzGiBPm/ZIjIXa7nmZhjxjKZ2UKe21rrIY8AmcwtXLmnleyCYEuNoCqE00jOJlz\n",
       "ymXUZ6yppqWK4MB4Hq53ey1t/LxK456MqZf7T0nJN7E0ivjyi7uLuMPo2TW7h16hsH6r7yOqADSt\n",
       "sftxQj4oKfKHWWk+X2CydIse012Animgg4nRP4GavTlsfWZwiZoUC/qhF0KOh9dXKF8K5pONFfTh\n",
       "3lcOwTdzf7RxfT5m4RPCGHJ0WGcs6PIhhLjHJolrGLUf2npoJp8OYG785A5hxliQo43aKq23Oo0d\n",
       "O4nQhjI4nOPAJKvclb9IBZ29NCcojC1rjM/RzROGQbxvsa0c//5fOVGLKf00noex4RkfVoL/WgP5\n",
       "7L07Z6G/EhtYnf4J+wldvhu555P3njn5vAQGkF+jvnb0HOHUUlMG4Vs9FXiu1UXEq9jDNZ/uZnaH\n",
       "v5xsMRSAz07bOQ69gVFplMF2w+pVhSZRI+k18xgCdiUhPhtQ0h9C150KYhK8iglcjQ/29M36YJtG\n",
       "3aMqsZra8JxSFZbij19TiWLKIXhTlysHmNtlz/A1Q32PlcSXFfae5SL17cjRI7zmQu/KS2NfL5Dp\n",
       "i+QmilNCvdh+c8EJIy+U+0Epf7ZgAatdtf34F/FlS3icjURsTjzP/hhCRYGGwKr6WQSk/9QOJ9Cf\n",
       "uBEnl74xu8kobuDC4Fjl466XK8kuIlbLz3FlaBy5Jp4RNJSQ/wwLc/j/TOlTsCKdtcR1xN9fF1Vu\n",
       "6CxNkZddBUPL88UdEtgRxQX1/hGq97hjgn+gVHMmExpO3cUYbwukRk3TiaSVhaAkXFP9cinGlC5k\n",
       "smqiwvAlogrhEvasI3YgaW125b+ZzewVlMLmHx6ynSiDgKeXRqoSXDF2/Ntwytyu6wZsssEKfjK+\n",
       "/ZVmtJW/SydswXmaGChTN4f1jsYGzE1U2KR7s4C47hVMcno6Q1yEu2VWwVSrOE3YqaiLZ3rQZuwq\n",
       "yGLWGz0lIay52Gcs6efSQbdZCmgwOtVwnansVfUI03n++8OFTyks/SDHD3PkmujvCqUi2CmnvRkP\n",
       "lfBT+SBa3KF0XYllWeaHXTV7vil9mfmR+qsneKWlRz2NEEuVohcrXmtlx0SZF65iDHLmU8Ticgds\n",
       "Lly3KIMxB/q24rgcj5XSdnZbP7BxNcrvyvYgZfUt5FhKMWrQr5OvXRCewx2TCblgvcjzPLQzwXFO\n",
       "jl9UncDlFogSN8yq50EKj+CjpL0hxsbhgrEz+98s5uzcwau0+XCdHuiaz4R+B0y7v1t/rEHkK6LH\n",
       "AtuFKFBRlDa5tHc/5KzGR01p/7C1z6w594vbgsGC+oKi9S7uUKTPv5QPAZu6dF9iJmFJgzrTkuvu\n",
       "sRI3j0Hd2apPjYWyl1rmGD0YUjB4ssoLmYHCsoCIbChrhgnhXzM9QP6ljtuCt8Qc/wKKjU6Lsw6Z\n",
       "7nqBc6TYN3K18yvsQbI1IQJ63FVZXUfYvYGUhWzbPRfHL5H8FfcooaDQl7Kr6k5ntuohD2SeXFYz\n",
       "kh8zxbgEvnM1TvTOQE9Ty3OLUKlQintGjlhB8W4CTBg+slUkSrwlDQUGA1VtUvw8xQdALt36ah82\n",
       "dEqyns8qFQCSctk9VYhkeX8CbZ4b12034JuWymCMMlIpu2dV3qSsrjRfJc186Of70e4DBQlojTNl\n",
       "LA/WWAmDMEwORshBsOgFXSUdIbeN94U5WthwD6qE9z3q9ezUCfp9PEwJDsT+OBU7J8tdw0YpMvD+\n",
       "iamW+KYMQqxBu9UvfaPCMsdvMvL0GNU+rIT7kQv+QsplSMH1ude3naFlhoSlsqtZe5eFQFHaBmXs\n",
       "GwvVVbtLBtFqsqpkPKvo9JxEe5IxCbiu8VP9Ru6BtNGK7BMlYZziejhN0CkBB9HmABURwQP7KWXS\n",
       "yhQaJQnXOE+rbQSqjJUYouSNVTh25aaTERqUlQL/XiRrI8gCjrY/rtVx6xghVZv9WetMd1zQbdQL\n",
       "JpPbTzD84cO+zLu1I1mxVPErF5/hG99OoDR+x2f/W2hv8GrGhnBaU3T6dSj/veGVU04ox1mQM9Tx\n",
       "7duwPsT8qcHAF50XoqhDpOJS62t6dDlBeB1fwF1pDo3V4CiHTQ5hUNqmrV9QQe4G3BZ+MwaeOHQD\n",
       "8jylaWRnlXoK27lQyXvD8Bu+vVIEMI8iekQYE5dK/cXr8QVpvfnNVHPfamyP1WSODBFGdSWxHqKv\n",
       "nD4sFaKiLS4dgW9vizbPbklJwbowRJPgakE23Z6hfnlJLTmVNe+J5BzkI4MXLG6JcNhm2EQkxtcb\n",
       "7HTxzKXNXi+HEkYT5KFi1r0KHXzYYTaefzqoT5ctzbbBwOLhEk8G7ipd4CdFhgjK+yOCFmBsjOV0\n",
       "HHM6PriW8jN9oRFKsnd6DP+xB2QeW1nyy8w7jUREZd/dYgPVf53njkxO+WTdASqs7dNqvyWtkaCC\n",
       "7XSeuJSl6GOTh4vDDcoYpZePt/xSu88SIznTXuZIHVqJS4NyK2btodkmvj3vMf1uyY5b92AjXNzq\n",
       "0RmaFfxeD0DauThs6koHTx51bWwNKtlq8hOR15OnuMR+9Kt8iBWWCqwl4mAaUEkwh5995oMEOhWr\n",
       "P36NcLYfQgb3qMelC31e/ck3RkpG/v9yA0f6/3I2KCYQR0zaSXBNW+nX1kWCh/KBHOGBi4EnMy45\n",
       "sk2u3I6RL0wCq+Tvy265Jmw84N/ygjm5ySeDnW3jO8BGPXxLxE3lvEABBeTs3nZoIeULSVNMIahu\n",
       "C4pdhWXXRmN32f4qprG3QiYKRLWNpNsAkXYXtWWDVMbTjXJK2F/eCV9DR/OoJjY710t/T+v0mvCU\n",
       "m8smpTmvkGFcpdSNdOejsFM/Z4nO+NIAZmR6CunmFafAfq+gbT5ig9Yt9nm7LE5m+wGcFSoiYpR/\n",
       "TXfp8tcpFVSRUAVG47WOkTlUCsOp1m1dn+tEMS59X7R1wk5UmQlX9maq7gnG5uiqgWPXsF362mwU\n",
       "FW3n8Sh4CLgWoBUc1vdkY0kUIcGXGMLGKST1D83OyYMxlmKqJQ4W5QA0r8I4GMTtqd0AgiIt7ztB\n",
       "8gmmfCX1M3NsCbK5pwpfuVw2PIwYZUpj0ttD6/7wXP0FYkV3nLKNaLmUWcmnYJezGD2AL7CrIFmg\n",
       "d+nJ/xz4CsADhJYrKrafpCJ4j3M4SibRh+diW2Y+bHdepQ30QAMQCaaOwM1yQpZygzszCO6B3tpS\n",
       "Sy85SvTUCyR7/5/8FJSzwRdn3U4u6WatSVYwmNQZg0M7kfnxp1LLMrbJAd1X3We4vTF/ka6gXR6e\n",
       "8E8Jyx6QUjKgeLJpzs522eW9fhNm3huefecmAS93Z1g3ihxDON+3TZaU/k2gl5fPWDVOXMANB0jx\n",
       "Q2yEpk0+zg2vwFHlqpEbs5vSigiPGkKIpkSPXGi+HQZrnyV3bZCdz9DJDXvomsYbYLsud5vzToEP\n",
       "3NnGt5c5QoMHtr3VZdPHEFvrHCuvKxGQhphhLyWBapqy3zMcyE+wW38FrXGp+eJB8U5hAe0HXr4+\n",
       "Ks7n8SNgFdabwq2jhwT7WT8u3m4fJSopH/xvvduBUsDrECFRFDLI6+B6jz41+3adr3C8r1rzr/dP\n",
       "AAMWAAAGMQGem2pCvwA7X9422Rmyn5wjCTMFKf8B+AAa5ddyH088qxfDkRsUYt5tGtyiwmMxRrrp\n",
       "GJsgRY5dFohI370SX746S3Gb+Nhd3Sae9ZYeU3YkDs5UcgdkmnEGw4m1pe13a5BSxOvBxzkgYzsz\n",
       "NsjJyoNZk0M0gMXrJspi9eZJjskpyhCjUnjEZzpy2OXqleGwxq7IFlV9pyoLWKTjYgrQ8NLFFrBu\n",
       "8t1mZ1VjYwCO3TK+DAIcvHMX5A+aqR/5Z16tQq3g0Xm+vfUaASrQbitKVCEIgITmhwcMTg6wJeyn\n",
       "R1p/1fN5sayU7VL4c+ksilRoTNGRHO2fQEje6nGxqCQhfSzG1fOldB+9NWuwzA+FxvuITMqJhYMK\n",
       "bnud727rZyUScmfitrdyH99pomMZf2nYyii6ycQuzNO8yN6XCSP+2O+1eAQaVJZeG3uxHPnbml+l\n",
       "+wMaDsD2ByurjOYSjdvPhap2cxfyDBqCSurRFiscz5q8wic5xOYzA03qxOL/UKpy9nFWyDFR2p5F\n",
       "NMi/6S5PzBe2oePxAV3WFWWBuG9dUaVGMHlvkZm2xXXdeX+exB0vcQmDDcNI3rya7qwqi9Boh92K\n",
       "GABj1CZMsMxLKjIQBq2mwOoo28310xfdrhO+6gCyYdD4P0cs9NquiI9Hpaj6Ox+rZM/ZSrkSgaXC\n",
       "Mi1SFJ6V1OF/dDxKNHQq8RV45tiNmz4mX/AAd581iwXXTKPvwuC24HQmvT6+D9ie5Ezj6i3Ufcvx\n",
       "beFy4vTN2iCt6ONQkCXgyqMaMr+fMR6tuujfLXAQFOBxiphXX+b3qytW3PNx3ukxzHLWT/zODFxb\n",
       "+Z8qMprqHLJDpu8nPcxtMsgoI9d/tjbNUGxVtzZBLXeMDYEJpuwaJ0f8jtAKsuWHy/dGykSSOxlM\n",
       "4mRMcwCRLus/4eJFGO3/lM9O/Sm5bm/XiP5VsobbT4ay3Rvz3HT/PCD4EuzQWwMes/mSnzrN5PDC\n",
       "7ziHw5h8cztuQTTKvEJM8JyFF5dQ4plt6Wzxgqd92SbMKSvOSIWdTt4sZmaXS9/8Cn3yn1tjbehe\n",
       "65msrcPM1pt/7VSuvbjf3u28jG0oPFqUFu8FLrB/fVPUBacEZY5Xyt3hI8yH2z43wLxED1ZbFNDK\n",
       "zZz5b47XgyNRIAexyNBBR8aUy08LiaVsSRUKgxRqZSl+1sj7DmaS6i+CoWGUA1PvLrNHK1HDMJjV\n",
       "JZvb5Jysi3Gp84tPee8s3nZpHMuVOROBRJ5+87/3JK7cJh0ilH2oMkfW0qQEFM6u9WvfQysGvtqY\n",
       "Wo4Y9doAMNsqEICNzXmxDKLoOf8m0tJkGv7gE39Dl5GjqWjV8Q6dY6FqtGRSy0bZ3EgPrdBNWAEa\n",
       "Y63tXIrd07IoXrqpjIksQ4u1WKotJapOGyiMg6kC9XAHkbPakkUYyzOoMiZq5t3gg0DMdMR3qBzJ\n",
       "PVxUSYdkDtz1aXl23q/hJ7Yfd2EAzcuH80VK1IjKybFM3koHiWNS+Lrx0rUIwYB+sAlkvuOQ0cwO\n",
       "jxblENvQGtxNjRJyfh626UiCiwe9OY2JBpLl9jiyqhWaoKYpEG3NT6+IvI/8IM4QSBGg1EugY3FA\n",
       "RnSuiP5UxitWHlSop38VZfCiYLwFQVqePb/0zf+ECPf0gaC5DjZ1WBk+nXZ+A3/9fivwgW01gsO/\n",
       "a7M4GmvujKPkIPOg1KsDkjwGNAhm+u/dtClodWWsVyzyUAHqGv/n//OugY3JiHZ6a0uqJ5HNQ/7F\n",
       "yeEFZTr2M0x520AlGeVTO/Y0TudjkcJulJ8w4B18+JJ40VNWKMylbP0j3aEn4nvrin4CD6cW9aEC\n",
       "bZxzUrJZlN3j7o3RT6HSkaYr1oaYog3zrtM7LwpiImd0ohKxge3AmDWYjh+21MxxjNhF+j7FDRWo\n",
       "6Mt2hwBFqDLYwCx2iMmsPAcbm1YrRpEWy4WJMADgAZ1zhMcR2W7D1Iuu8JwmVrtrTYILeIcIRw6v\n",
       "bHOaFbgG6WPywI4ZJYFkVKpW3hNDJz2kUfzmTRDEfQ0wFimst5ScxARXbTFt2tPPAtwv5D90zUwy\n",
       "8jDeokXUzYFjhXzSADhc0rN98ORp8kuuGhTvRyLWyR6aDkEIgOAHDKsuxvfQWRxo248Az4EAAAsU\n",
       "QZqdSeEPJlMCG//+p4QADECpjnACsCfQM3H5wHXjBBRAdOaVfIIcyT0dvI+JlHrGtSWhwjcE0O3h\n",
       "7DmHU3pfF2/4J7n5Hq7E+kijC99TyLSZJBJUR1206eIyZd0uyScoRF+lHMSfVLQ9taOAmfFhMFdf\n",
       "AdOjarppu5lfuq06LciGVYeUIesGl5kpmMVnPH4MNS/LH2XWME9gWmzfMoNmp/yuAIm1cMu9RW/v\n",
       "mCaKCRhbWoFcHT3lkEmWpsMeRV+D14YmlOVsAeo5GhtgTda6hEV9yhoFkl/zXV3oxBI+oepR8E7Z\n",
       "qqLTjQusJ5MUlx5XcnWBG3r8JTuyVj/ZuAKZJVmohOMLl05AQiZ+NT/BXBqUVs+SPkqW3GHCxdmy\n",
       "Ds0dDalp69zJ47hMBUrjtzwQOAZSL64iJ8ohgAqu9EtWTBa22bOH6bRqxQfL3NC+KW+D7S+uGrvi\n",
       "6S6+Qd9zQ/PhmL147d7xh/zzHTnG20+Pi3JETWLWuOWGIxVxvc5T53/iN65+PrYDD/czzkAxFd3V\n",
       "mTMDSe8NGcJHZHL6S+JXLisIhzy2S2W78xIkTA0jc7g/Zd2HjVVHbUZXZatMSIRPC5A8gRLxbU/e\n",
       "5dJ0UVqy6wGAiBya+mEizvN9DG0BdpsDx7fPFYatKwih4lViGM5+nwENYiaSlDfaC4XFLLnE8+9x\n",
       "ObyOpLMC8Z9Uxudw1HcLAGdyyX1OBnNaDGLzdrxxoymIwT7uO7EGohowdXsLYNP2FDes/2IupC3P\n",
       "dV5Z9gkBFUGLpNpRYxyD8HO+b68oRkWiRyStNFWwd3qn3oLw1sEBWHh83TNL79aTAKTTAH/+iVGz\n",
       "xyh6nhyh8qCy3i2pfUzSperKqy4gdCX/d5gaY8dv/4tqiTwxGmczMNsgPNuwXYj21i7bxgp22flq\n",
       "54FQAf8brLFAu5d85jVpAzdJTSIp1WPRf6OS+BVKfD7DAFpiyHv3lW+MoM8UkM8IQPGAl2EY0gUK\n",
       "/qJ0dnyr5DJzF2DyWJFii6uEUnLm+oDGsl0MuDoeI6eTczloSH9cyEcJP0ulM1z542d2ntNFGSsB\n",
       "dD6i3K6e0TpByJNyLu2fDh0bV9D8sBDjSSEHpjdZRr2h2RRu3vfbBmpSOcXW23ODLRjNMN1zj6a8\n",
       "gp4F9CKRw9sLVijsZoYXmhIN/Ik2d5BVXRWrJVepsG3CkoH6kjFP08sp7RiwBlZOSD+hI4T7oc+h\n",
       "ZrayA+3EguPFNIAOrb7A+wTO64PWuMq1lVOXBRoQuGn8P+//9qvtr69U8GlRaFgF8YOhwQCB/cxQ\n",
       "m+Wq7cPrQR9+evF+GuEGfMoaw/hC7ixwrVHRGfQSs52h4w4wxHemSGxsJill2r2FqSC+qxCj9me5\n",
       "JCKdhE+0H9Q5PudKRvynbbFTYrh6shDujyagb/F618J9YrBfNFtztz6yW4sc4SYsQw+biW84w3O/\n",
       "q2UYOKFOnMbJlSW1ll09Xu2KGPI9WLzur/PA16GmLzAhzcR2QxLJwtIwsG6RTtUd7QmTMzp7E03j\n",
       "eYOsMB366iXxJtRxhECfdUhsmQdBUbh5h20M0DO4sQZHCZrWIyPrs9PPZc+/cW5YFYAxf66doV+a\n",
       "YNQPG1GgkxiHPpGz0+wMgj0k2I/cbIxFaQz9KsCYga7qTampeyc63r1J501Y7APa6StNJZCAQ/6Z\n",
       "1d1NoLty2ahmuHqnJuUmdNa/DI7mFXiRwn2JAXXR/zIPg6FMIs0ob2qR8QppH6Bfwcdksj7IxEk/\n",
       "tO4NpPbMckALRjf0ULF12RuBeUboUZFxyEKtptRMjyw46+p+Y+Jk+bALYGqOuu6eAkGG+v3CAi2e\n",
       "Lc6vhDh0koK0OJkoblOSZELfEj5YMqO5KjVTfQgWmjVQ36d7AdOkJJvPjLsLAawyLPfVxXV2S1TE\n",
       "Pm8uInF+DQBf95FtpdrZFseqbSWNO7OJPQGx8WQdW/L7PkkC8vqef6JANvCV+s0gJKw/IL2st15L\n",
       "jqlSGTiNrEYLy7rxHSQWDxT+ZMnO/Eh1R6Wde/nmAoFAErLJAPcAVJZFVpcB4MG2Ke1W+Zel92cF\n",
       "GFo2YMnJ5s5vKB7K3odJGbufzR1EN1iZb/luSuIIuGLn4/rJ2pmBGoAaW7JkMjkJ32LZskrO0MSu\n",
       "RHJHG7VI8449HNnNvckofDPoQv0VcL2r737h7tnjEJkI8bq9Rm4GkGPSL4RKxCWZiLINN6wh8pSH\n",
       "j9l9O7gLoTsT7D3xss444jXXTbb5U/xkjclj3tBk7JxRxUS4ekbvIFzMghvJQlfb3nkWDgPZIzol\n",
       "/jgAjBVe6LO+T77bCTfZr8QJj3qriMGmKKm96NgoMR02SvtEPEUemZ3HyFzN2AvSWJdgW+dob613\n",
       "QLad6xFBJY6yj4C60/Xqs9Xka/0otD5rruCeyjW181PkY1T5Hm2XbJSyMhLHg0BLxkpKwdtIiC/A\n",
       "9IyXNxTHnHo07gV8GzN4/qozRXxm9mnlxuDcs7ph9MQlVVqEqX3ret/KehI4KB2tzmWLDbEjR0HS\n",
       "aZUlH5356Q7g2MlKZeHzqCjWAx+rvAtDegleKYh5L/bhPGU/nAx7C02tFDF5CXoGBHf0lb8RDGld\n",
       "XUQTeSgYqaVQppTI1tN1JD3W4t4JYR5WVdZXNaa2lBzXYzUlM6U6gYwuGHfLJGIzGePxjW/fMgVW\n",
       "YbzQsZWKIgvXteh+IGC9wtEcT60TYDXceoe70K8BjQ9G54SJyWM9x/uqaTChEDlJENRmEHgnYnWw\n",
       "t3Dmt53PyzqeCbEL9dnky7DotqHMJecG3IB3rhye0m1XtCtC2Y0vcuYBjgS0yfwILJHAvGPq+OJ0\n",
       "9D2P3po59N2ujoLNyDPXoSAK26MCeEpKA1MMRQMBWS3nwrkMfnsytDyqKZ0wQk2QwCZKAlpVxEc5\n",
       "3UIXcNAjbF23M3K0WrAOSe64NUaliR9h7mp2Mly3fGawox8knPoov1AFw6VxoAFruxu3Jv7NOGnz\n",
       "bGlZ6+neMlnBvABa/s62V0HahJVztagkmhgRGsiC2fn6WoT2nEvEqs+at8u3WrdJumjHoevVl5Ie\n",
       "bmVwzipta+DAf/C5xYltKUQYQsocBXNypMySNOeOcy9DG379BISBWSKVDyCmS1svUOLH9clhGFLe\n",
       "ZtIOyLbmlXOBwVTq/Hy85s/fDL7/s47OUsoNQW7vqkJyE4FJ3PWwfsko+XOEefKy7o8DbYakiAhA\n",
       "cJz39ya8PHyU/4E75Gcr2th6FjZVGtSbzy6L0t18HKJspwI98lI0Uaz/tvBHXUtw96w7QB5M0FBZ\n",
       "4pGizPFTf/Ug6AA0JDvbqoaVqJL++KsI4dOB4v70AJ7gCTrLzk64QXBDdFekFUlyMRJeQBy0lclo\n",
       "Z3AywRo2bGpmJgzz7XHoKDIhEsu4sXTfHBF5kRUi+0Z7ZE29gt+0f4ODfMuFtxu/0QQ9ddd8EhPP\n",
       "Bx1oJgl9Ua8d4dhVz6OciSxyl7+tsAX0Hc63vfBLV4kBqxiWZk6RXE5DfK5xJqYJwO1HFkP1i+qs\n",
       "K4TSZU1zo+1s6HRyTwpax4bR71gbM+U8Nka62skKUhyi1tB+aA0UyCUdvfIYHWaqrJRicwiOaBkL\n",
       "X4S2zTO0Q8aRDbcz7nIC9iONYbT8y4DHer+/g+bwUElwjDtzbz5Sc/GFUjiNBZS7g6bZ5FE1DYBJ\n",
       "jBzGVi6u4imnFPThDLY23I4yzEfV6Vx1uiTbbIQVTQxxH8x4jYf7DrmnQUuP2MF4piu7imuTa3HW\n",
       "olCJmujxLGlEHU9TM837zeBFTWWObCmLcEo4nRWdOlGzzmL95U20IgArYQAACipBmr5J4Q8mUwIb\n",
       "//6nhAAfrZd4E5aZcAJkNZDlknvWOt7BDJzTTCDsuy1uJ4kFzG8rfOGYDMJzsW2qNyhYUpWKtYRq\n",
       "l6y6KfEycGTiDBlsptPLvKYDHMLEGyZX2K5hVLAzpYujaHFocoKpi4abMVDh8VtuyHm9LiQDx6l5\n",
       "TqaHJ9CElwtDpmqER173BcIVUrZWr+FxYdvkOQqlLxV2dT2vQAlJ5uE0sFPc24x0H15l/ZiiPUkG\n",
       "H/BQzihBn4d9rNZInRjkCHcY2zLA7VKRIQC4ZKfQR/EBTF6to4psi1znhtFV94PlfcavaLihu4qS\n",
       "4LaG8x3BgzEGKpMrNTF2nOzK0jwllMijTUy+SsdlziuxHv/OMFoHUXG/2pGGXcXo0lAm84FhPPnO\n",
       "IHPei/UeGH2//ga8V7xdH63IDzP4PSpJsqBnWjVqEDfCupUs05vKHTV/RXS9RP8We59p2QjArhet\n",
       "jrFo11zEDp7EHMIraBE8NdxdHvHFhz7F2A5VYmquYngizHlFnaKJjBFsFLDGfE72b89YUliVypIW\n",
       "MBfmruHRXPWlJhgUq/c6oAax0xV2uCXeLB6wHxCs5yr2hU7mDNf13mjin136Z0RN6QWPPYuARUsV\n",
       "B8GmFPcp2BBVByKpUoOJj781F2SspNtyGANnZOGtYgqM5R83dQstJ4JIBqLKow+ymiig1PRiEkh5\n",
       "X5QxgBAo8Q6sM6lbYL+X6xrJZywR0a+3GX4/ZpJVDraDG9XaMiyj+nKjydk9jDda+r1lMFFrxZEi\n",
       "7XLr0UL4qpC7OIXVUKfa8SZ5WXAEgTGea66b5txb0b70Dmjn+IhpC8TgTPxRO36/xhmvgOmSHvuW\n",
       "dIhgBRktt/OjWFiLfcMYFKe74QMZjaE6ciU3pp43kwQ+UVHr445ay+vDUZLDT/YZs1nkZKysKR9U\n",
       "8VbAZgWwKssRjRijP/GW0UI6/6jUiTQbO9IKjK7NEZxwWAw0HEfOgxP+J5aLemCtpp6efY4gA+Jg\n",
       "gABSJT41OKVk3KVhOK9uNq4lT5vFiawcLqVc85SgTy9i7EG/NJ32zEpA1PxPnUmooOe0FNXsj3o8\n",
       "vIgJaPoc5mlsy5dnmaMJB8IhnxeqSkLhv4QbRJQ+RMR3ilDfVKbLm3FHCjVBNV09nmfcmpG41Fof\n",
       "MO9SxxZW+oKGfG/8UMvQaN6mjf7cy67RP8FlRVFn5i8VE6tdAFzhMig37Q0MB/UbvNi6iP7i44yf\n",
       "pLtfpCqDH75CmESpP7y7fQyrpKayfYxG/SgoMD1NOw6bTOg2A89KGOxwJAqvj+R70MVZ8VeQyqgb\n",
       "ciJF6MMwWblch/f+9BzOxCuFz29yQMlu5aC3+rlMLR7ADmGOnjv3h0LAkqupoBU6vWM+V3AAdtrw\n",
       "Z5UdcFMqSD8huni1PdiCM5piLjh4duKzBxz7bMNsbWb0n0QlSLoEOm7LM37S6XwT2jsmmeQOEhSl\n",
       "NqEcBCS/wI2+aiCyj9zBHKowTW1wQWfRfZgETH/yiI0uUQ4VuBGuW/9CT84Q0RlZaz36FohjsHzX\n",
       "xri0Z+iQadcfr+t5NWSDktcM8S/J/ZnowGUkTr6TqwGUlXvBYV/ueBeIdZ6YXRWyzP9DWBQD6BUd\n",
       "4704DQ3mj2MkHjBwvCx/WFCjJYFbKFRMGvJRYpbqQcSMdXWzXMyjXOfg0PlOQ5DuVkU4H589P++V\n",
       "o+BJ8clHOmrYN5yI5Bga9Jie95mg05C9r8V/00Rwu5JPtZJmOXuqpV6tF6dJhMVEMEl0DTW5KQl7\n",
       "NwHqqBQEzcOLFc28gFGJ+7InXcVqDXbJJGcF4nWsQr8AHEvu3CndhEUMrQV5RbQkcA3LjgX7VX0a\n",
       "xXpAgL/OXh301r2080MtOf+u/ksfFjnpw+w6PGdXAvoTuMVtYNXOJW8L+VLZKBfp154LGz8Ja/hY\n",
       "TtkODIEtsqt8r+kDh6n5FT0dQtgrlCLtPh2Ekn5ccPozOuEzUd5zM+3eo9RZtL5uF33+wx5HwXii\n",
       "cxSQV1b/QDQexe9uIrIhwCgZh4PLuO0rvnv2zdjPv5TYLw92EkBi9Tj0QBtKnYX+nujLyyyS7SzT\n",
       "cIfSnFds1pum63vcPE8dNKYfhpU8UJy1wny4ohJg8nZbjkIAbwfx5/AeN7FeLs+TD08V7AiF27EO\n",
       "XZGNp6M7dML1RU6uGoGG8z1eLb5jTGJhipEYwyi97DMHMR0p0LeB8n2iFyeVy4074kNzlMh395d6\n",
       "ifBC1er3uw1ZkiOg0YMDhMOTweu6eOFEaVtmz3b1KOgFNqwjRMQBN+A/dJ0ucludZU17RgDwFBcf\n",
       "LNGa7N/epXYIS/pjRDwX2x3uiii0hhyuhiGjFgN0iL61vuxv+dj924PP9F4GbXIXYtOWfoheGy8/\n",
       "ZOOtBl82a7h2S8SAKn0JbBWZy4F5cz/Ix7tl1yZfX+C51glJrN9crIBfUIpe91mcCzTt7VfUgbat\n",
       "7N3pNXExfLmxBK6sEGojP+tMnSIg3NJD53tAExWAM1nULjUZa2K+lHaDwJoM2fQFjlifUNPVAva9\n",
       "z/7p0Qpw02ZcV4e3iErFl+Zpppal11bWHCRV+Z0V4vCRY7Kt6hih//HwTHjZMS6xECSQlqxL6e40\n",
       "+Za+vtilLoy5Fex/IJ1SprNfwlVOE/a2n39oYW9zhq7ii44O42N1QOybs+GD/6lXidTr9wWLCSkL\n",
       "/jGVPyD5+pHWRwyKurCk3mYWD6VPW8LHcgAibTMvCta/D7YIVs/XxO5tSL1GvDZ3EEoYo69oL0JB\n",
       "zgv6qxUdNi4lSbRrE13cLpbuX96V1xz6uNACK80HA7h7j1ZbmlkLO0GFXcsRmzOgFjZa/AiI45h5\n",
       "/HpxmQ2F42c1XSeZBIpYI9LGV74jyxWX1VSVYTvPWE0ItXJQ2JAXXe6ed1478p3EIvPIamkyE5Lj\n",
       "v+S9bItE6XWeC+OHdskYKp8ixgr0Z+Ub9mApBaoWU+DusEgrE50nl4r/9L1hLDmbq88cN0KC4Tdn\n",
       "O0QaXtu7innL/3DhCqy8vnCc1/+3H6/395DuYojJKOmySv0o4Dd8OMj7jkpTO1SO+pc/kJ9r/usJ\n",
       "k4lR4cC6zx28+eYiNx5fuAp+wfKu8BToxfDAL/dxHHwv8fNp/k0z9MYnFqwgWYX2GIJ8xH9rSxkZ\n",
       "UmxC5DLbbv23MJvKoQttXMdoD2LocSwbx6YYT0mrekM6rAvD/cWDicLttKOpg/0QrZPS7+6787O5\n",
       "GyLCMqapsA+G6nIkZItekG6OF/6NFvgGlVlnJgZ9SHZ2UyhJvPpf89G3V+lDJTQLlB8Td6pW3Xpm\n",
       "EgX2wvHBGpPX8uD89vDZ7ZC0qX+h3xbgfhysiJJKhblVcMVCzMfvzao/i/XIgrgHuBKnQAEemZ4L\n",
       "6WjoxAJX0TnfwgTUjdqDQ5QUd4XYUujAs5BkTXUjFr6h4ao07tfPsI4hXnkM29+dJ9GgAB/rTUhH\n",
       "0x/ekTnaokLUOoXtYVfclYgPl02F3yBqADBgAAALZEGa30nhDyZTAhv//qeEAEe5864o50LzCKAB\n",
       "rYsEczpu38HpXZnAwtxp34F2NaPULIWYZqaNrHZjrEIkr8gMWt6dscHvg685BwLJ667WikOp8lZn\n",
       "jy07k/WtuzWa4+hMsMy7B3kARTsVEQ1GKDx/bvv+OSM0QuwjuWheokHK3NhWn1MS18FkFk/6h+nz\n",
       "WuBfmbgqWpGcK9rC7n1s3VEB3KXNzG15f+DRt4rpP2BIdleB5TtQx3Oyff0FRxIpyMw+a9r6tIGg\n",
       "AVCDiUy/4JNoQ9OwAH5mgc/TZ7yDqMoVrR2/IFR8XQVYaAAAVf4hfpsjsXEZuRhKuAyflaseS87s\n",
       "qP2M21R7Ft/pNpoV39Ggjy+0zy0KHwClZLE4Uex/SeSEwvhOwy5sQQWLNF1FBUUMX/j0hRLraxlI\n",
       "nUL9V8Hvvuaj9k3MwWzoxQwx76ND2W8TwgUj760MZT7ZH+K/X1pyFRT2Kpw5IrN7rpEBspZOI258\n",
       "QvdtlkU44eyKI+gUegA4ntoaa4v4otGnOJxRKIfdslV1xpgEQAgJyc9e5hJoGaB3FnF6GcsPFxbd\n",
       "iqYFVqY24c5qz+rixWQYRpSr5IoYFCnmRgyWSO96/gCQOKWbNDAwhmblp4fhreaOhmLGf2kIj702\n",
       "029yOwlUyoIAnKZaA62UmK0A8kVuif9ytlyUP4miP4yO5fyJG1fpLqaD4bAFGj4Vb7/jwEuFueNt\n",
       "tXg1XvP/d21wYFPtM3kDKpZAmuAF7TOga6jGGCyxR3QZU0Ihkzo19h8Q8tTbaIFmh7lbond5VjWg\n",
       "UZYrlypXgbANzfwZBUplrWZONIHuDDJN74LEEfqBzNUufcEJZBpAx0At6MoAaJY/AfDtS4ky+b+/\n",
       "hjIBLLDox2L4zcdVMNiBHs9TnTzmQSWb+lmKETayBZq579ms3cc27+FmWDMV3uoQcwwmc+0bU/Eg\n",
       "AOSJChLHcHfMkH/kucVvzf27d+X/gEew1ux5P/mjn1b73YSnyTj5H6djD2MQmNGS8lEXX5v+h+tR\n",
       "JHG9g0a7DBZYG3ZVaPLV7c0e9/9Twz34Rqqqq5B5QarQSHJHl8L3SAzBbcS0lpWZyZ0mhImT+qh+\n",
       "8o5797qkXXlH9X+/aVBCABIkDmLaIHbSVA4ewH3I+yxDcIRVTTZPfcAsQIKag5iVPHLbtxmCmCnx\n",
       "3ewSuTTqpQl/tUxhUMRsVtqhsx8iirx8ReISrwxwHiJZWmztrCdGeTAHw/Av06GLlhTmkQRoT1FZ\n",
       "d1J451LFgdA3NYTJM+Lp1mzfnkTeccxue83ieDKP7YH1HcdynS36ostOLovlA+Rpdhpq63Bq36Wz\n",
       "aqf3vyleR4t5kniRw4u15hGIZKJlm0dHm4VsdKwWGsJdWy5F757c8LuKIcB7HlVxUJVcaEKHBXQ8\n",
       "sZ2oo+H1g6LbeTdd5d5WAAM6GWOEY0+5JFwmjdkPuRXXgbBliYo1XgMaDcdjyGzprI3hLVY4YVdH\n",
       "9ylqlvhWYhqaUZZ0k56Smq3vyGkl/6rBt0Rc9riNZHz8MgX8XDnmqQr6n5qoHhd8IoCqn7OhtRqY\n",
       "2VGGFGTI25hmbuQGYUApbL4ev5cbJXKdWhh35WQzoErZmv4Nf9WyXlAKT1WyMWnzfe4cZrz0YxBa\n",
       "t/bVYhBMJYpNIHax4E4I9V8tHaCc10oPtyd8q17tgKi6CXu/Hf/vnfGGDG9ujytPEJHSseL6IvP1\n",
       "axP0KJxHvR7DtfoW8GTyj8JC85sAWhVvUlIVtjEWCBIGWatsA9r6ljXSBzl8K1XKspbzArw8O7Ix\n",
       "TNr2aXg/4uGqw93sn5seqKvlkJXpfAK0gkVY0jEMNLtM5ltF7v7b8pnuxAbLrSlBM0g0JepJBcaU\n",
       "3TiA4GvLlo0FeNchSZI9m+iQGZnUJkIUP3UKBgS4OtBuONs0u3wY0Dwkv93omsTTR5i3LN9AJVtN\n",
       "NsxCo4H3KOnyhkA3QXjHKwAUAbF47WrYcu/P9p+q14VEgIrSHpIyJcJ8biE3wxtyh+JtDImpf8jz\n",
       "g3nG+Dl/xLONLub8/lfAv86NhxdHjnXaAUWEh3ZtJ1lrj3YmJULxezsBFlRc0BeNKvlD8XTSErek\n",
       "ZxOTk3LfSRZk7dJDkhkHS/bWlaAFJI8wJyZp+oUOnK4e0qgfQAKwJwT22/+zmqzcKJhuVTc3UIz6\n",
       "Hn4fhD3xkP8lPDHkFyZzXVyYLcec2aG2HC8MPOs7xzcBlx+qvreQocIflcePqHmkm1qQijnQXqfU\n",
       "vH3IdSuhgYJY16ApoEyXRIRfvE8e3zK5yqp4tBA7v2VblN/3nFcy7LFXdq5l4O8/aeprbAhpNEMo\n",
       "whNS8F9rUmGVmgt3w4/2+RZWdE/zhDn2/+WwvO8/w1bRsLwib9oH6HwNMtU+58FLXV4rlRKvhqXM\n",
       "KTD+pQrXP/3PY45h1I/+fMx5B4ArMPw/DqsMbzdqZhEDfhmJR7lifYo2fVoCCzjODL+WT2iG3Ayx\n",
       "TsNt0wyozLqhsDW72xMuA2XAvUNs7ORboypt3Y7IISc69bgRTLThutu9OnLMQNpzOuKic0FGZmhe\n",
       "qhXdWdUxZrg+BBZhU8JXtV2TGmC/hb4E1Lm+WUYmmPmzu3ROHC+oC6dummvaseWQ2gf/ghgmb7N9\n",
       "2fU7vWfXYIhpK0lUOC4xJB2mJeNNHTEoJMLH8V4nl8wNMNXzqJFAKmTD9UiagGhRrR7UD0aabz+n\n",
       "168HK8mI9zwqgG/3HA34OQhIFwWjTZwNzJ1xFZWCFB2R++MaDYSwXG1WPwJavdVZZyOGcZMbfkfW\n",
       "lef5+8xxxpAnkf/g8QBBz7nYhrBpvBm3P9N/3n7m2KxKO7mSyl+ccGSB5VMDyAqFDkRCXKftKxhU\n",
       "9ekdUomDUrNXjzLGDOYE154H2c7iKVJS/7yWJoTJD/saHhS60PzvD4MTmyorFTHRNeRwpHhG8ctA\n",
       "pPHAFj15JoSkaspiVGzdUmLHVZNjLsXIG1wq1rWUW/ewjx0ZK0/AJOmOpXEFvQO/tIb1f/j95vj1\n",
       "mzdwYJc4geolnXg0HDSF6U0sZcG+OtsqxvhGfadZJZPvIJN2VkF8LnINYZrVIJWAy/tU0zFe5Wy8\n",
       "GG4gwC8IPa9pULTN/+RFeVPEWrWXGj7UVNOjVGv3OrKmp6YTDT5Vaa81308AK/qAgoWpT5/gSHgI\n",
       "OMtuKiyVOwLDzBip98Ru54tlL7h1ZqUk75T6S7jZgWuCb0cdvov7kBGzS6MXRwm7ohs2ASkSx7r4\n",
       "Dw6bLqIMyUDg+jCk9rxp9sf4Rj5ErmIQqwIr0h/wMc8ROL7I6BeYIF3bsPsv0ZQ1M4n1Ss2dAGU/\n",
       "MVxDTY4nlQXaKm79Lik6DZR/KdLgl22DHx5xSJ7FTEi5yZBruEwBS3PxQbP+1tk0Yyo20AjojbSM\n",
       "dMpELDIJh6K4DWGw4AySxjdgdDdjzjv7Qmo4AO8cHT1IWWqlICBMFcO8pVbgLcq6+PFMmbPCN8El\n",
       "ZOgQubs3gzApfcdjZYL6elyrUhffVbCdxt0MYH9MBNr8ZIw4oEp+oIlSNj9RCFJamWExo+gfYcG5\n",
       "sbmrc6gBuxZ+4aJwKEa3WfG+bHgHPR+rY7M5Xkf2hPGPzzdWo6Mg2/cIbd185urOE08t7EXzkGrn\n",
       "7BgsGmB+7buFRgJ/Ttje7OBIh0xSiPnrT6sSzwQTueVjQyzYnUiYk4juEOAius15CA9UxzWPn93I\n",
       "VhAXRM32GwIvGqc4DDPeF2W/HrybfTk599jtx2Mvokpk3I+6jReF67oC6YPsj0IIZJ2j6w/4AIbO\n",
       "iVrsa2F53Pwtqy5mAK0y1Z3oUc32IbvK4zoOCebZ5d0n7+NisoRTyN5m5PZfQBicI4+paoNg/uWO\n",
       "ElPft2PaL14hm7kIk7njNTtZW368xXACXZDRRDFgDSv1Nm4Z6QABDwAAC+5BmuBJ4Q8mUwIb//6n\n",
       "hAAfrE/ln/ootIAP4O0YZFPV//vwdLOmaVydm6ORcLZb3qu5ZxLw3rGQcDMZ0t08lD1WVGF4S5Zi\n",
       "nA/8YanSEWNIddD9lO/QaRoK0pJT59MR6cNVt/erhPIKRdsn1pz/piM6h/c23rQila9uuqbE/pv+\n",
       "cqAoS0raVGjZZdFP9C2IcfgeT4KLYNUeCXsG8BRGwjquy//rqFkX1tt8E8wfdb54/mB+9r1WdhF/\n",
       "6igbfSruaRZR3J0MC6sN2s9zwX+0yXNLznmQWC4r5o90bH3LpOgdaN/VPgN1vN3aYacbT0l3poA4\n",
       "5VK0GYgaPlGBdS4DdII6otcKDnIS1G8oWFob4v4KAu6kg94uHxWebaEX9hU1ibELt+uMbkm9jObC\n",
       "6X054iHZMtnRQlplv/5tXim7DAVe4SHfxh9OHKla6F3Ew0EvgKJIiaJZX5GMC76iO2Uyn7ign6Ox\n",
       "BVw+1T9l4r3SRPAlrJjGVqygk6B9/vp3FLvBYNwRqLnzUVQcJXVElEbbsQ+eTMYgogp4PxITpVNU\n",
       "oRFL7uD4I8hT9zCUc3nd8lUTD5QQFqhiEyUOJhbrbN2/kZisI+7Z7QvrfbD8nD3nBs55THitzOKp\n",
       "vjayxV5VGXcCUPdTIr1DWo95k+rWONRF1umeZmYjhsUhstf/uYgIM1ZU8biRHRnFXfrGeJFNshUQ\n",
       "v1BLtft/xxbYjWUBvN66Drp1L8O82X+P6RNj1xDzt916yzWmlZXk7V6YPkbcBSJ0+MoLcAwzKW/f\n",
       "lOzrYnVPSzwW3mJgq6fkyr4e9au+IhcQ5Yi+3tXwju9sgEAui/7KTzQ/0kQc6aa8wxhCTiNYgDVq\n",
       "UL/BRB2C4kKpllvUigM/bct4oDAmN85hYFcMVLzbnpkzIRvsACaANQLdQDPJQKdJ/8Re6CZ/CB1k\n",
       "l/6ZzIrXHZ+81S+IHDqcTNob/RErT5gNVbuDOt3Sq7zYiI6h4d7Mag7q417bnIqbbjXlxdCQd2W3\n",
       "mXf0ANUKzgnGMK5vbkyMBDjGkYjI+ZwdiZ3OjH2tPaNmnstkkETEJleC4yAB9AF/t28PUYetIfuh\n",
       "MCzltv7vLlkVnxFd0fWY/r/gq8kViWPAuLAns6Hln05tJCvwwmejcA5ZMoTkEo/DKOKNDkT2fPRW\n",
       "Fj94dxZ3fUB1rLftKLh8cAClfTJ3CM+zyoUSidoO39aTkWjrubxjYEC5m6JmgwUnojeOv6bVTu5F\n",
       "oUqX7UIKcfPwpK0bW/bWYY/id2M6dQRWSlnnKcLbEtOxmDUMf/8KmBXp8nQ4LA5iu/EjtXwfdDW7\n",
       "ZUOPfoBlinQ7wHj/gHia0Y9fJt+ortcT1yztDbNAmBzXAGZ+O7IX2lkBpuj+H14SORhW9mgRHoOh\n",
       "7p/U2oiXOon1eUUP8bKJ3C5nkyrnUqfSLDao1S2VCCC7qzb1jCCl9LnY7tdZVQf63WhKcCs4kvbk\n",
       "KHkOVA+z6MdXcri1Tf/icCX9egIcANCzxuRv1FIES4TsS0l9YgphjzzDaMmqzwJbDfKGHyZGNsDQ\n",
       "7FRh3QsjkVaNnCBJlECwf7BPV9Ty8p0BA14XAIFmbWWkUOwYsld/CXDy76jNjx+sb3zAUiWyQEWi\n",
       "r8USvyuO/jjrtsJdSGSyKd61LVXXLaFQvqVdv7r6VaXfSVGC+2ejScgMCh9NwAnpYHLm7tY1QIrP\n",
       "cvpRnxUGhZ0+fHd1Ll20w8887eNjnKO6ILqceCuCR/cAGhWK0uXJfK5Wa3/ujall3BfrmeU96DuD\n",
       "6Qcs/6Nz+/B9rYmNXczTxsEDYapb/2sX2q+R7few9D8XjBD6NnmetYxdQVLX3i6MYZ6s/rFEHbzW\n",
       "Q4qv93RYMnFYJGHp8y6tFYhl0zdUhiudCTxsTaLANSIi5tMynFGRHEG0rdt+7J3qIjIq0Rs7ssuJ\n",
       "xb1C3huhZ6rGkArC4tWu6tjqY4sq81qoZBPYkkuy63x62YWhN99bZHJ5yNbo3F6/mL5b7uu6o++g\n",
       "YtpgXhg5ES766iaDIWu7zv5zUQ0HL2jZLGzxyUVRZb8GVnaf4SshRmgl74APtFpgU1FEHKOLwuM/\n",
       "5ZKoDQZgGha+fs5vYS5X+RxkoQYSU+F40bXjK4ecS0bG+sPPb1AmRo6OJoILbpC5Mtj3RMSCHryO\n",
       "sUGYJ9jK9tZZfABoxXhYTb8bBTB6Kdo2Wp69ZHia/SaQ1THGIPYvh5lH6OR9/HRQkzcZzuLe/d/B\n",
       "nIGCAMjlfVBdcA3HTd8DE5RumJHJ5voR65ioxmSHiyxO7g4u5ddW/Rq4VWjEFwzgTZeKv5uF4RgQ\n",
       "VODFX5JbE84sOkTRGWu1F+dP1LATep0QpEOE1M8QFGMde3hzPTh8H17muSpmBs/KXQSPvXYBLLvO\n",
       "4y0Rm3XE96K5QYxn4Y/xIHO4GEu3F6lTCxyqcE4+mUNaXV/8WhM8VMiRmhPmDYIs87KtT/rtVBZx\n",
       "UnlXDBWk5pQTTkhco+1PAQ9maH7F5jNMPoY8p1LxRz+BlQM7UKMVFP4g7blEzmKTsGmxfHBord3d\n",
       "MxPmN0/plgH90r8Y8tDb3lGg47DcFrF8L1r8flolJGX/63u7Nq4Qg501qTZssyNX2sWLFTTpCwg4\n",
       "iyfD8nJQo5Jq+pC3R8uoCmmEEVPARYZk7+r/dgZ73IToO9m0VDmTU07wALv3PVN48hHcm0SjRkzJ\n",
       "W0CrdNlltC1r1Jlg99prWJucuFYsFpDsmKwR76IKOxbYznfZfupewcFCcrB8VQ+wYAjjqmXGhihn\n",
       "hKk7CwlSou1srm5ThLfjEDmsoOxBWgGAbD6rblBwYD9rWKNhEsSj8EYd+smMj9RdsbCj2ZdMbPMK\n",
       "/GM4PRDxocbymBN/lT6q3olTUUNvoGkwk8JJH7z/nCGTNRd0dILc11voYjFZ/F9g/HbL0qipBXYe\n",
       "cvkZjInQsWZCfqvXwUOYkQpkFbQkZSdaVsbYahjjvtCVrMOnHvERYrEwOL7Xak7wVzFTDSRDhY67\n",
       "v+I8S1PXBNXoYalzdMeoqnZSKnlJlVN0NIEDuGGRwkcE/IGD+cNQWG/XBbpfABEwrsBnGJxeqoab\n",
       "tMlTgQddZHbpuJ/LSOFdHUlCxwKphj6TdyFMHncKgHFrIk+YSQcn7XSHXxXYMON7rltu8UTX+T0M\n",
       "Ee2JVDeU9cWm4g2LpCbhsek99DBwfpFI/pwdY/rFNZfJkKw1P7jldgm8dmkWJxZaNf3DgIAUWXGQ\n",
       "2Uiki9uLJyNh/2Cshy1xoFT2DqB2KSLoH4BN1QYKUSXmKPQEL3SzgjsqUHIxSLVmh7aL5zmWobXH\n",
       "1bGYbCdO8HbtSvuiouHw1M4383c8VIM6PRiDcplPHfLx6yvi3/gW3sPxtuOgwOBNK0GnW7ZIZTAx\n",
       "/0GNXDK6qhA/KkQpMe74mrOzVBvwD/F3fpsWGF2YJQrhQZngQTCB/d2zR8gXk1R/BNN+dnRZrgMJ\n",
       "NtWu4+KfqoSEwVprNP5qpT1bhsLxF8ZiRp1lh1D3NXOtvFclwn4VTTPKDR9rYAH2OE08k2kT48UI\n",
       "FlDt67+p2a7o2f+cNer8CrXf5T6RFI0NoZzmgLZV1mhJnaa+NofTMc7xIDFnOV2UK7zHO98KXn6k\n",
       "unyDvxi3iFPCM+tXYyrQd5E61qjBMXsSJfkv3qu2VkoOS2bR9IIlvpRxoohvh81KT7JejKTO4KdS\n",
       "SaZJZhSPZ0/jAWmZZ/JHIXSRIYZXyq2AyyZBnjxuNIh5Gb5rMmVhKccGrLYK0cQf3v6VZGmgTk5l\n",
       "VHM3ZCHekl+RukQnnhAIxQYyD1ASRYJRMineYaobmI1dUnHLC9FSiLqRnmSJjqPX8uKQnBlFpcdu\n",
       "jJfI7eFtp/MAPu9MT42vpX6AJvfTU4ms3lKC3mvZ+O1zrWdynJZGu54nFXReIRnIPqR5Budq/55w\n",
       "Zj88xDWdRnBGaD+WCgHADT5RKcFEA2n1HJdd3RUnTY8vLbzfBetCq/gfA46Aj0C4bbOJ48NDB7RM\n",
       "TnzjM3Kgln1rWgua18viEdOr7W0wVtiKbqItKXLheRpwEytoQOoTkCxSv12935YkI4/7D8Ei21YM\n",
       "5pm83XtFbpYsOh3srMucOPtoAYEAAAp7QZsBSeEPJlMCG//+p4QAvvYJQ6suGC/MRt9HbmjPNLVe\n",
       "s/yOwJBQxThi4f9AZt+CQUVEboaRVwPvUHK1Q2SZlUj3GZL4Vj4/27iiUQEVIl3zEsh7+NPweUCj\n",
       "kFhi8rq59TH8Q3ttkucb/ga6UJIV/UBUHlMuEA0loeZ+CPFnIRM19gKZ5Jn9JG6lz4HENzJMTrvm\n",
       "1pNG99IdPdtq2sYW49tMPGP0sVxWKLAMVelMEr3i9W3sRN6gLOG7+4IGiyk6Wl7yDoT1LcwyzXvt\n",
       "0gdb5TrZeGFr4v9dNljxwAGVnRxBcfggxcs6snkeGclyiyciABoVD+ShYp4iMN6q9ffjMkneDrsz\n",
       "BM065iVOKCy2DYfuwEsI2qfeOGVtV0xQoJ7XIAm9aw9JShQh/k+Ct6jHyb3baxRVAjg6tpYiqDsj\n",
       "KTXiz0nkWliz4kRNvm5fuz94pADuqpH9guwQQ+8EA/SBstiSNbC91dpRXYJDOYQ61SM4NYPn/ck0\n",
       "NzDgHh+7Vj7m6D/KxZGkyqFjW1KHH8dLvQRkvzOsDL33Kda5XhGwd+7L1phuE2o/QP361PRdsAoN\n",
       "qUFz8afyyTwUGbVKI6m1bFLds8P53EizLoOfG7xp8ryfDUVMCmTSPIX980nGBvsqQ9eM8B8Hen1J\n",
       "CrG9SPDDOW3FuYHlQm2ZN0ePF6NWvA7BkFYcaUdFjxTxXswCpEOjpkfzyrKBluNJRryua6GFDEQh\n",
       "ACMEk/wgJ50GvD0wemI1n/xeItc/iSB262cyClb74XpUtr6jeHwmO+0OiQIvGwDCj2k56qOLUVpZ\n",
       "Wj8Vq908GvnaMMynho0EiJnGW+kAyYNFBWkTclYv8pIZ9yxlMlg+rueDyxsSiQSVEbu7uj5T4OC0\n",
       "hY4K7zCK7ntlspfA9H7L9+B91RdYYOhdIoO8W0jYd1n93u3JFVSI0HhGp5N1zJlzwvictQI1Wzv2\n",
       "eUsRunqSyrbq3gyCaCfevGY/1uVY0mM50y6xpKheiXWvlbj/2jC5rDQOpxyG7510gdKD/9F/CmzK\n",
       "ZF1v0Q+EWNrA621nMmxJJsRpr6K9T+zfiXUpmRGr2AVkUfTn3/0vdcrHmaXyfbq0zuYaxL5RA3ns\n",
       "Mjf5zaaoKQAbNrIllQDe+A2emCje2+uLauUT7m4KH5cJwO/xQE6/Y3631ZRWV1cnfZzrdnMdtLTK\n",
       "ERDdVx61mGg73fJxmSX9BhO/brLnVjzqeqQ7cYLFVlo9NZ0WvPrd6CTJQ0fPsi2Lr77nSdyPFowG\n",
       "XRN6k0jcgY7hqojSG9dJSkL+LX4+uFzfU8bESyTDritc5BMM/s6SpIWbsqT7Frw/B273SnrJKF/5\n",
       "KZXELUFC6qeGjHZbE82WkHqpKAp6LYFKHL2vcifvZG8jrLMhyxdVDoZzhpydOoxps/tmRDS6G9as\n",
       "j3sKoYdl8yaDHx7Zs3doIOgyKTo6VISMQw79kQbn4vkvgqjZoIJcAKi9VVrh+beVdfKrSehWGFtZ\n",
       "QNAs+qLd0UZduH15YGXxu3wG/ExBal68BCmj+cyK55FCyzsusvUjA4EvaNZKzp6Mu/U5h7MJ/mvx\n",
       "4NZvaX0TxXqoOpeOGpaA9MOSCfA7c8Q7jvtzVOFsZTgVe4JmvdwRqo+impGZmvR6JEgFz+IN0w/S\n",
       "9BVG16HrTNmO/I2hsQY8jE1oq74q+WXXYtrvNwJAs8/rPeCGaxEsoiEZrfp+Zv5VtkkWZybwuvU6\n",
       "TqUs1pC5IIKeW+dqMGpAfUffaKwo5c7mmYvQGqn2AzSVMAaJcFxC9RoMfUiT0g33PjBr0SZYrumw\n",
       "FRVrTGEM+3rqfRyQwLIywgVdTvwkYE5jfFf0gZfuAyods0PwxF5HkFdQlauroYsKFbNXCrqy/frS\n",
       "Y/BiBpDmY/XXb6hjraNVWqII0rNKmxaQXZhHq6VXNt+kaUOnYCIXVXDPoQ4mH1NIPMi8SVazmcM/\n",
       "Iq4p/pZHcUNT5vDCe8MRxbIRC731U8gxGlnnMpLpawxnmCxEjd/iwBO+UTzxZZohYajj3QVyGsP9\n",
       "qS4QnU+jJjiGnqFnd7toomtDFFOaRJ3Tys1PrPdArz1SoSJ+L47hEFyl3PGCMXRR2PVg0zldhWRj\n",
       "BrrVHJND1uxk0QYZ98Ko4oQ2Uyb2Bsnnx/VwPZlDRjbGNVtz92jkaWHxIOZFDP5YPczcPZp/gRvR\n",
       "UMbM41INsWM19+FovFiVvxpEwW310SXcT5QLltV17h5W5/Vk9RVy0CdjiU86BzX1EbImIMdO7m83\n",
       "8g4h+tV7ez5hJe48fQGGhrcMpqbhlpfSANEmcEbY1KmNDP3C6rPiNeCiQvvalQMcOTdi8LyMxWPx\n",
       "nmZfHUQVpuMaQIG1upa96RO88hYcr/NPqN8+yo8K03Tq7WXTnviGY/n6CaLUy0ZI3k1MEXIrKI/L\n",
       "xAeYd0ZV55imruaS+SIGp2vrM5YBhMUAA8Wj+8wfPJ7X1rVwfX3KhP2ix/eNKkq8acMpO5NjaeSf\n",
       "MoSN1A+KPN1T5Ou8Z0aeRkbgin2oYjUjAzOhRXfm8q/JjrM8Q6HCadBxGOZm3OOmNQFsB6ts/BFX\n",
       "woxqnYl8XyDKWpMtkbf/iBTOoOyjOyNBWH2xXcKX7NCg5Dc+DWtWD8ua9e95VufrhkPRAER2C/D0\n",
       "LI/gAVa6M1uGzcAYnrJYzz7bJV30jserDoHk0nDPsm0xPwPY/Mzfijw+1pFmY92AIaCvZIF7HDir\n",
       "+KNMEEWXlPe4a1IPuqasI9clQcHNqcOoBSPeBajJoXcu6EArP1Xi2Aj8kPFYTEKYmD07PrADYmad\n",
       "y5o8YLNEn1qBxy/KfRdZKIzTWMxv5CjWUzJ6pUkMpbx/M7o5cztsipczBw7dRxjXYJaO47WwY2DG\n",
       "isTCPjb8odTknPvLo8nG6aC0lAvtOmDZKGv0dqZ5V5UBHkScpwtP3NF0iRtVecizWsYmd2n7pk9X\n",
       "1oHFjWe0NmkApTenSzXEM7oFtQXiYVVIpDaO4C/RdAXFj0zUqGGxG0m0CB5vc3Moh/+PSZPGrcKZ\n",
       "dLd9tk84aJ/rd2cMJdj1EDCQFhxpM6gYQLx+pXdcxhVmErvzGu7792J9Ekn6xyOXzsxzjBazkhl2\n",
       "sMH2hFm3RNkqQBC7U7OVsyQaofMQccSEXo3qG+UcKTt1bIOKQIk2p4Lxh+DsPJtkuv//TyRrrOO5\n",
       "PWgTl0yCJY5O7l5QIyaTG0TMeEPvCSMvbY8NPAI6ZFtQNC/3K82M1WbiZNjBMVS9fuh+BZzA32vV\n",
       "3d/kKoD5ghEJ5rR7je2DPoOvNwfFSg/K5bkeyF/cTb/NYxSpQxWghbG8hsjyignYHKFXcGTLmIHe\n",
       "csQSGSkIaeFvI4hdmArUbxFsbCM+hsJ1P/RKfCh3xuQL0IDO2r9XfhnRzVLJrOEejxsrJZCR4Lru\n",
       "mU82vupNhE84FjefF/ouf+kyo/WwsZ3NDZ40bf8nEuDr94AUlExFdQoMaK25z3UFgmH4VH/nFtsu\n",
       "BMrfxvBMIH/k2hwBxIuDeYBJzr3s8sGGQdsNcGihzF1m/26wJnp9r019cfeKUfy2rNqOqx1BDe86\n",
       "OY6z+fCVpeqVPiqQo2WswEv+rTiO19Haa2CpgAAADEFBmyJJ4Q8mUwIb//6nhAAgpoOkARCCxjgL\n",
       "Yn+nspnj1IiygC7SZ+MtWvGDwEmJuW2K+mwWBRHyhQaCqZeOlOrRgtTPCKPVr2myvxjdbPz5rcW6\n",
       "KNTpKX0qNSyPz2TwGWEsy5WJZJtzfzNN4l1lBDKIcOyG6VfV8SFD/zETWkTTRnmexPb2aLWOaX6D\n",
       "mUD0j8CSsnlIAZlhOJrhXdPH8W+wdXPf6Aj+lnc7P8Sn+aECxgoBTgoBfZXqfsXiz9wUC+zSqeux\n",
       "TiSZgYs0YWy8AvIysbRSwjbpvNpD1Sb7GnC7h5aFuxInfCwRmjgks2ZBzKY1kEbcU8tyuxkpBXdh\n",
       "YZCoogZZ/ABIQl3Gw0QV5h7xO0jmkFpBkwlfTJ9ksM6SS1TFqnLwWa3UVWToLoDjQHpWv5lygy9a\n",
       "VRorMgBHsBJn7XdfHusZoASxiczEkTnQECJmPAcWXTSmPYMszwBqrhGRLdkOAXhQR5Wyf9rvNEFq\n",
       "vnd7WWvITl9e3KcbEXH/akCfA+qeQaTf8zaE1eYAFgNMFMnNhCvM3BtDkF7DGvGgwZ4bPFged7R5\n",
       "2axkOJkwV/SWV0/vTaQ2h1QUIkfpzww+j9/p131P09yGcUQYmolWNwu4kr4mbRtAuhegsD9CA6lT\n",
       "tKnTaQjaUVHZWwY5KXMG3XZcNNIDJ+G00gDqydDK+3Bv3YX+3GdvORnWWbIxOX/AFIOA8EPNtec4\n",
       "a3EQxZMkUKSbzUzAb1Xc0Y99czBjTF4mYLr9bvhk9iHRsVw/ibDAvrtbkcVcUKW7dL3qML2DEm4H\n",
       "PG7x2rh5RiWr01/x6CvyyOt2jQNOwvxOC1yzQB9g9T7uH66ZzMx2OiBhNAnWdMDk9e2KazbF/ueD\n",
       "j7rOPchrc8LejoA4p3lFq3o9GsiJ4hoQ//xvzv8jLKeZHCbXnhlpUMZZ8CHXqPIY9wrEQQghXEFQ\n",
       "lb9I6DvXF7qm+aOz//Iopw9kGt0XoFf63dHFvCrRdfaXd0gno6thHoeblfUgBe3NiIGLG8uAEwB4\n",
       "IVm4/mFn9u7BE17UI7Mt1TUCFOrq+I1UdptzTCIdm85MTsvuwgN8+gy6CgrDZy/aA2RY+Tcf/1/9\n",
       "eblbI1aMFyupEh6a/jlminRTvJ0UjawCheEK5b1qsc53M8Aw3f08HyrwQq27bu5Govj0nGyyeogx\n",
       "fvJeIJwavwg+en2V1iWlpMRCAzsRFOVSY/EIi8hoFMXNEqhYKds0lAniJ1MG2mXfIYw+wJYvXgl/\n",
       "zCB1O95VFkcOyrvGaGwj5ZmUcz58hsWUHFlhdfQvY5NpBXPnpUtGz+5oPNRahKbbeu+jQlcbrB91\n",
       "efljD4F4imUcsfxl7YOG5fH0avOWsihOLriv5UBPHRoU3EDYo72D+JXkmd0ast6kBS/AuV+RzlSH\n",
       "8t3imz47Vvd+wbIFuP6PS2zKxE257Q+dLFeP0GUpNQx+bcrbLT08OSGnnNL+OMiDuUeDDhnA3YbR\n",
       "XNGrTSvLvS7cmwWYWxN6isPEbSZkNyNeEexbH5dWXP0He75OGSwW5z4qyQDCT5lLatP+BP06Cau5\n",
       "7kB86y/W1dsoGk8zDsLEe3aFS/qVgiotnIt/n6zTeHJ5tae6xf/oFR+q24gh3CIgvdQKD75Q3LNx\n",
       "iiimCNKF0opubrI9mzrocDe/gcdttMrZanyQkz0ORi4XUnU8tQQRYW/LhcNLAMeQGWSkqLEWE5j5\n",
       "1RJ6tGfpUIlSMtSLCTQ+gfRbEBcu4UkHZD6AmK6aEDxEtutG7/45GFErCH52Syu7i/817inUPp4V\n",
       "XhEAKpNBq2A+MJHOmyo6DNbqb31SX34IsPsxsEsodti+rr1cdPnCeGf4MiorciA5LdQNplf5yuq/\n",
       "/7QakhT9EMB4+iIIgF8AlVqNZhZa4yajjceDiD6DUYTRT7mDkmNrKaNJD3NqXN/aJopCQv87i3TI\n",
       "Nx1tz9QsoNvFimsTVAJCRPAmIDimQR/iC73crn9maL/YaBLQ4EHdwouvH8pMQMrmVL3J9TC8Dgk6\n",
       "abB9fUtVhV+S56iS5bVAL23W7HvzNe4Bd6TEViaE0bOVUE10vYTniUxFFgMW/swXgUXOydAgRyvA\n",
       "a6fNxbGvID07f1M30RUCwtJUMdHbeh4qaD/mqvttRRD/5BUc4gTdfbp0MyyDQa5oJNPjxELsOsey\n",
       "QjX/fDsbrtKXyKzerxDsqItZVeBJmRs+WHFpw80fd48Q5Jf3z8+tn9fHmmZglbvnrL7XNZTspOzG\n",
       "2YxxLjugXBnL7u8ZNGcBDJritfEsj6WQFSHTsbHxKN6K3wrh017vDzTmqceJyOe8+wgk0bMOwOqJ\n",
       "u/0dzDw+jMcgA1jLLYUbz6GWHw3aS9dRMlXBG0x0jmMx69mMi1j2se/uHb8TPJo9sd7eREn6Qi6Y\n",
       "Rv3dzmISYJQdamrRbaYJfHSf52DCKGc3J3p9AhukkHUasRK5iv0xeT/4Nkqb4W44luCl3i+DAGdq\n",
       "NriHzEK8juXbCkVEV1C7ykbosoAldL2L/lNnOIWRQfL6g6m1yXdVk5hQws/vIdSoOQKIfaK8kFx3\n",
       "z0ZiFLK4BrZkoCJaH/yGEU4w4qXGWxDWtpI5VUzKRhJrwR4AprgKHXf39XsK7JkbNVsiUD+swiGL\n",
       "UYWseczAXRKWPmD15zR+BVUvbbgWq2AI5N+XwhwyNXiMtpF7pMzjLH40Z9sQEAnwQQ4B2oF1qekj\n",
       "/Zntl2Byf/O04Waj6MpX3tdav76JIxrA7a5Uw3D92HpnCAfOIAfG+/SaqPOXbNGfDM5qL1JL4Zkf\n",
       "07YWgDIJtoxf59+YakVcOpSBkbfCsaTSbOFQ5mpURocle31wKWA7x2PAqTA2xlf/DGheuHYDRL3G\n",
       "ww3kUhL3n5hfWqs+vI3bozOrsohB02FaSaI0qHb5y3zTFbud0F/eLk4WdryfOXIWNHHXtXAFp75y\n",
       "sfbQ3qHXV4T+CM9iE6x2LZpck9UWCHaI5h0avPjkolKzD+/gxkSwmh66VBnzrFAL2HdECFHN+9Mt\n",
       "8UzN/1XSDMzvEJlU0eO+BJxXEMEihVNGGHF4qyF2AXMgV8uAzqIFJJeAr7UHKdrLxZwUhkdtwR0z\n",
       "PYMwdf+H77h/oVj/nxc/kUm3VC3yrtcJzw/6xDvqXJK8QTe2IciqWJ2WgiGt1lyAqBpIF9yJCTH8\n",
       "4HWBk0WMZjYfLyP7UJEtppX+sJ3A4ZrbPFtWJCoU7yd3sUsqR25RpF9GdIrLZzEklcwif82OkcaH\n",
       "3fXphi7z8nHNOToENxU7/+WsHQV/FnDYXDWgk9ldC4Lqr9U7YpnAP7l07TtXGb+gwqFd9RldUCxI\n",
       "cMnRXSg7DtfcyIO6hiFl7DeLPFZFUBXmjOU1TlT/Mtfq7SFzKb1yaWFoN9cVsyAraTgYMwlGVYwQ\n",
       "arMs3/C/SJqymb8AfOx2r08bg8WN0WsVC4zl8si9nVtzDN/LsSoGcaI4nFvm5+HVASKEJTWschUq\n",
       "VmvX6uzeWIexmX+lA6OZMVDJuXYfA+OJb8RGJ8/E/tPRBQwsWX2/0f/7gi612j/rhY6yFloyk9IN\n",
       "QuDhWMchCoNQ97E3n/HZgRh1xpBzcPUVckRxoiB2HWqw6XtKKEUPVPIGA9Bf+hjeMM7LRwQTiMD4\n",
       "eKcJaE47xxO5jobrRiCj49GS9I1gLWIzXbZ6ilTljH6tCDH/SqfEGW7s4mjg3wWj694h/36zPtEt\n",
       "5XgKBxPIKzVIIQACn9FPkT7ck0vlkdb5y1rJ/ngon/QDPtBC5/7proU54AC0sb6Nr2oSVkj3uiII\n",
       "alDJyxC2uBRtIPpq8RYSlWDtB44nt9/jzBqx8xQ5bWTSSyCtdM4bKa3y2kMC1TnlBp6Y8S4WUlvQ\n",
       "/QRfqd1vR7J/JhHyoi5sU5viNdJGJWxWxCD////rqTXu+p7Zi8jEAPtR6Zh/H4da/vkUc6AdUbH6\n",
       "wxHrkFOjIw8V+QRh8djYorzqJBmdxnV3QUKLLfQ+RrVxCMx0QcO3FstzWgYhryioXGPMqWipsS53\n",
       "IBvKn1eaIjyhy7ZifrJChn1aRelE8XcyG1thuS4jOwI70K2TV+F4MMaqvGDygPmFr+w6QMhe2ZZe\n",
       "D+SkHzNdCIM257qrU2V4uT7v0hh7tM9wJmhtobBnINdJISC+vnAD7HQBHre3QURYeDfamgF+fESD\n",
       "hrhqwV+1dUwa1pNlF9v91WpXLIj0nFyvLnQ0vCBmeQCbgQAADt5Bm0RJ4Q8mUwURPDf//qeEACC0\n",
       "p3rQALpQGAW2tJCraCesdfcMz605nzfy0fQ18N9BVQigY279kJQUKX1vBe91qeHhdERwDGNHxXuB\n",
       "rO7xHoqrjlA6KRzZ0+hLf/ryBKlkGZL/+RBAxkjew27AO6Kx1/ZEtVpB0YC+zIcsgJDSUj1SHwbO\n",
       "d2pa/XjBpCwbZ0RG0f79ICqFjfPUg/KgY6/F/3uJql94I4r1wWsPF10StO+wsipkF5ohnvwpVY/e\n",
       "OwomECg3biCzqjUxYIeBWwsSXv9wR+irbSoTr8jVV3/kLksws1R1v8ZiWSLvaxOTTnrwiqvpzXVI\n",
       "Fduav7puHeI3KmMD3ekBSQ6FNm2DbPW39hksZCOzVPbc+dkCu5ztvLt6ro/mUmSFwC8KEtNBSs5r\n",
       "3ggYXbmNoituVCrGt7DJ/IDNweVheJs4h9IcwhnYej/lj8gO9tvechPBZLAy/KAqARl+xAj6OZSf\n",
       "l/1JOzskVsiiSntdj0T0b9+G41/rLzKFTtVNBrgrho0yLL+wGn/vajt3KqZlcftqiLaddUho8bUK\n",
       "DKxWFcWXFFH/xAueN4f76vFN1q5s9S3YIVTS468Rku/KJspRbYDnqeeAbrka05LVtTtX3IbrJAqI\n",
       "IUViG1a4JkpsudVsaqadpghp81yVktK77XnTkjEw2cZsnoBdeLT+IZzXBkBGJw/Jo2+I7UaO1Ffa\n",
       "JVR7zKmPGGxgb7PeiDkDoU9sCcgwze9EsMXQec9voc50JBD6s/NSfj0feIyn3zbCAN/PN4kCCrL7\n",
       "gQqkpbEtS3XbW8KrDbvh/N4ikJD34pBLsXrg4gA60ktDDNQ/13r9UrGqKuPNz/jeh7isnhbPXP8I\n",
       "lrwuwocFkYJ4YSjIOZb+unCRjivD6jj8hlJgWKORJfs2b05HaF4FncZoM+gh9oT1mU0i7UJcIiEE\n",
       "fZJOnGq0SK5RbFPKxXsI2VP6SWh0gjta3nGqB0zleDxU0AnySyqOucEfg4em4Uu0pVB05n4ITnq9\n",
       "QFcjri53IgbbcaItgCFidibp70SRig2vKt0W1ujauQrZ3IUBhi7CIWNDLGjlEQvVuI6Ic9mCcDfh\n",
       "Lm3U2jg/N3Oq3UMNrAEZJTLUA4N5qFuYOpFUv14Gff4w83lalL9WFg7A/ftoMe14TLQza7uh7Vz2\n",
       "T3B/DeruUvEBUK4PdK3KhtS7n5KE0mv2z6RrKwUbR60R/5N9eIX7Z0tdtcvTt0Pst3c3t7/LMTCp\n",
       "ncmA4joQx+7ow9ixapAElrU9UVDWO0Gd26tluF9RLjPnccp6hHlT0CamnZk8vVwouJpE05WIR574\n",
       "l6Kg9KlvsnMOZTcns0FiN2/oNEQR5CL4b4/nmlsCEIBFBmenL+BXO4txYgYDjHzcoReIpMwrNKRD\n",
       "xzd4jvwbv/BZnTgnZb/dr73h3Vhr+Sy4Gfhz8eFcQPFj5sZ4zCvIhQh3o4NaTaJPxXZRV5/h8ixe\n",
       "LSFq9L67YlyzEX0XP63UzaaCPcWQMy7gdE0PkEShfO9EHvg1E9VbrhGZJjYV2ksDf+kdOQQI3tm2\n",
       "WLOk//3nMxztKLmEP4jiS4pL+3JNeKAnorz/NK6bVefphIQhgC5FTKKVvukYiCI2x1nq3yQdvlK5\n",
       "4P5/IbtoKj0y8O+5+oA4xtRzL0TF5p+yIk0YU3R4h6OKGFTqdjQR5AjNT6NPDA4Pb7wSYqYD7IVu\n",
       "7qlCj4+DeIhXmC8FcCUrtEO3QWH9EteKpYhXGaWJBOTHp2/WxlTjD6ILgSdFDc3g+4HD94AQCXeh\n",
       "bpuxgEFjg0IRFdBGqyN5hriGHn2AN+WTngKxqULFMHk3e3dgw1YeQh7GAmTUEq92FAajal6Eo4l7\n",
       "JyRIgIeSXUrSBZuKU3Oi25sY62X+8fOLT+Q+8z/YdzjPsr2fMUt9jOHZit5PoNkf0kl38bsTLWay\n",
       "TwASlN/mfJ+Dw1IBR/TY2ywLcxtL9ebugh/+gXTynroMNw+Z1RQoMDeTlF0OchBrWMm8TFlE1SCJ\n",
       "AqbSWTi5WWl/39U4RSr3OthnztaPbVBM0arIDRmVNo5y+xnm6PHv85VGHqm5r0hcqXALi/S2oqjR\n",
       "JxTiyhv7T1GYbQTNxLmlZ7HeQt4ki3Dbx1Yh3WtPdyBpIZHVH5MWH5smFrl3NT/IZvN8VhojETlJ\n",
       "fMgn5WjAfZuyAEfAV9DOc94SmtffsqCz4mSCvPUTnpK4ryGxD+P5wW8aQl05XnqsDB1KSDMKfXeD\n",
       "kZUhpgeobs+riF+tL0v/bOpBKldwIe9+SjisZT6qYfUpzsFkkXrlbn9XKQ24ZkBhLlF54/p4nDTJ\n",
       "jsQE0Io/j93U6akPMvDJ89QfLrLONYZC8K5sh/EEAvBGZeEeMga88KQfwSxwjxDmtSxoBDbuSW7k\n",
       "OiXTSzq9fKUx+aTM9ehvuVQ/Oq8i6k4kRV7L6rNCXjfEuxS3op1a5q43MbIvfAyPssVGirWh2TB/\n",
       "0tfX/ZHtJHuBxJRh5qeYFMEYbUbb8l6ik2nacpWtV7lpjk1wGdgXeGCaFHIK8XDuDXGlBSff0uMi\n",
       "C8Tze7oULw6jC21e8/7vm33UmpkiLSQeKcXKQy49URkPFsf70QOH8cW1qqacOZx8GTqkTLHT8YjY\n",
       "CcAXZsBFnixv0llhYBoY3WwcKNPjuJ2LMYnzxU7YEVBZkGVBBJHcYLrIB5maI1ie9ioculqd2fMW\n",
       "4uJMpcoZlw3U3FSyxgqaRGtuafLwahm622doI7qFog/4Wzx8DgdpboOVC0iDUOYpXuMTkaSj38OK\n",
       "nFtStAREXl2oqt1UyzjnFIald6W2dZVuW2Kc+h8THlt9So7NisQP6hwzjZIe8d5EzO0lBzuOlAev\n",
       "fkqzAIx3rPUyl7/I/Q5v1c69XeaAyO5Wp4ygW8sYqkQhfjqvQaA9IJSkjUo4OxEntSI/+OF17Eh4\n",
       "RQo+VT8xFDYPZnN0WYGLAMogtbxKIHIW3u/P9dFGVLUDWJ5bKolbtXjMIh50rTQGyAP3s5VAq0XW\n",
       "JOihu2JgCfXtoHrZ9g+dMGPgA1WzMbNTEfZJGFMPpwvmCNt9bIBjG7P0DY+xb/mz01RWT2GUHFkk\n",
       "OEgZpIBVqbFhV/FeE6ajVh1WHDRJEWMNaNr/im+ArtYI3wRoHDYKRBt+6s07S/qz5Ye+1m7wp89H\n",
       "+5FkY+qnYgTXDUW8XqBt4U0yDfeMc7f4GsUTPjJxXPNbTBUyu0RENk1ya9PzZ366j/zWzEzSV7IE\n",
       "xOGg5q1Vk9t+piA24xgF38k3/t4V/8ID2IXwcGhcpBAMUC/nKMbMwdKqa5eVBy+nm4jMFi5Qghb1\n",
       "3tBsx0d2CYQhteViPDJpK6ZaDxE9VQb5Ea4KQTvvPeRZjaffqgF4vIsDNowwFgJ1qAkmgqzx8h/6\n",
       "Bq04buFLHCDaQrHsa9Yb4ipGs/7u8b09h77GKJfIZhk40OfTRaOi2G1fAJYV8LGFfKHgpMZE0LKw\n",
       "QxZYCYA3Zgf5qRkyvW5icUdW7+jwzQFdz3XhahuNyhprq7XA4vH6qI0zN7Y9yk7JYBzyKpcUnfsx\n",
       "j870lCH5m53p526zZIm/L8/8///H7Wo9jxMvZQZiI+JSxUMxkHvyOnSUxtm+HSdWvzV6Cvg04gyM\n",
       "084F1UkXlJHrBdU0P/I9JO4d9Wq1JI2IfV1vfXXt4f2ZQ1L8U4XuJzEImUfQ3TJJqtDdvv9vLtvy\n",
       "BDhB+uoKYqwK+vJYbZiDN2gwFltAl93DSgY79yZT2gskJviWL4Lr5//8FgPE3JMNyphkoM2tKIVm\n",
       "AuanYDdp/2xkyf1nGNfhFsS/hGnI74RQSiVGaYCgk0uFIJDcGx5g6f+qxXaWTIZSPMwQBP2aZWwb\n",
       "8Lkg0ZpBb5EtVgXY9ml8qqfCTWYsvb8dxCjaZSeIuQ6fPNFZptludKA0+b3+0yfbm8t1lKsRiXbJ\n",
       "bsFU1Zeiw3zfMb38qoPxuYwLwwNykZ0dnhBAbpqe0Sp+2TH4TF72qAMJPjW6VircqosWzmdGI0zL\n",
       "5D/cXZB4xpqLSNJYtfcgXANPO0JCmmyLJlHG7oeyYAcXRfoEW27qqDp1uU60UJU9+uugtP/JdrZP\n",
       "Zfb7Cm/cKVbwQCzC9NCU5AAX9pXwqia43gItt9WUWhagwnDUc3fJgEodK5fRQ6JqLNiTnkqGbRXb\n",
       "c8PV/xyj4TRb3FFWTpJzM3+8E2O6/U7LsEFu6ZcMqv5RTX7Ce4d2OCZq/rBOLt0eHZ1dPt7IA9Tb\n",
       "Dm0X7yAEQkzThGAUWvbXp3jLfnzqiaOd/FZo32DXNHWfvB2RANRnM4Zs41Vp3PUwREBZil65phr3\n",
       "FLPadu/+FmD0U+yGkTIYg6o0/jMHKexvmRwAvfwqdRxgjK3IuYEKPYWR7qFlJ4V1wCcMWNkor2bh\n",
       "32ImwhXUN4kabxmbZ2c1b4gCHCljv8US7uqQP+ecFRoF7A9C8VAbj0PiSijnYPe0fpB8DZJyUNSr\n",
       "cKWjAseQPH10rR/Oa8BnyQ+C46+j5azDWJCC4G6cDFTRe635itUAHmc7KWEhInNOBoVCbei8hQyW\n",
       "tjpoQzO7pgWLvZC4Ow1Bg1SeH4M1WMI1hXI0AL5fJKPx2m1E15lojNHTfuB4OLtJ5uXwBkLjcb6N\n",
       "qx4JPjL1GD0POPM+YshK/5Y40avdzRpBQsu7GGu6zxLfab/xWUMd6lhPl2xPYKMzmVi/lUpbUA5E\n",
       "qHWQlPr1DJscR5l/AjVkLWIOHucw/gnadisf4Byzs+m2Ife0Yjf2XpUPd53K2VpqyUFiasFtKUUO\n",
       "nKP/b1RBJjbRXGoW+6GufSMtLn3Rn7Be1s9IUjTMpeCEaIlPaLyY0Z1OJzwZN+Et7d+8yoI7e6sk\n",
       "31K0Hw7kI66g9gbz2565Jor7Ys21Wk6OmkoZhLHEssK9KzK5nbIOnL/V8/TbZaGcbhpTv5JzixrL\n",
       "lE8C/0Fn5j7J6qD9/0pNXekZeN99SLXsVbazpVHkQO4TuGS9Pd8CHMBf5u/HuKkzq4PRva6D0+/u\n",
       "9mf4ADZ4T3DkzMNigVmGom8fQy7OJl4gu1dLFs7iHtfoVOuqUCjfSLq6FTyBjDYmVe8m0pm+wwlo\n",
       "jI17OZXmbbHoFTv1IIBC/n0DC8x/WVAGVAAABd4Bn2NqQr8AR4R34L8lEBSrN7mujeo24kT4pNul\n",
       "aSCAEnjV4bg4uM0f1gw5aZd0J5K8A6HRGjVG+GtfAp/KSjcTNj6r4Whl/3X825uQntWLLD597C6z\n",
       "s6K6Yqf2fGpIpT+cbxPTqVC2qqAEpr/i69PI1n08zIwWvadJ12dvhINNwPRBtxzxzVIolNG6/p+r\n",
       "1pcI6EEOfBfqFrzF53IlP8bdU98iYjnGORvqQKBTSI5to2yYHmnckFcPk6CxtRX6WwvihPdb8tXK\n",
       "ji/kWcam2Gx7r4xgiZRnr8tlY9tMzV1E2XU3bn8KCoJYNBBpF9fjPDJLO1yImeXAFXG+edF8hNwb\n",
       "hNx/RYWPusUS88qwsFrY1GHZnehnxKgwB/2uDsdhFWHsaKsh4QwP58P1q7HniU43ADBiry6C7Eso\n",
       "iM/PWXz4156J38Nb5DaCTctnvcgM7rbutljPCnH9x78xBei+MpDcEjNFIscQ7UWZi6RFWoTCRths\n",
       "kQgLSbNLJDUI2mBHKLhg7jfgUh/MNK0QN+l9E4ixmxjyp6NwDy6QsdKIf44QQs2JDIB92hwUAHQH\n",
       "6zJ8Q7pisDuwbja24RUvbPqBMOyiWTlA5djRMS0pFncCI1HKUBfZj+JtDKEL2dVkW3dGPreZ3gTg\n",
       "oTziX21QDhm3o0jldbQoXb3DsxnewD5TeQpMViudVlAwlRS7TBp/ktboJwH/gixKcz8mS6IsRFFN\n",
       "Iw6nmzjJDdAT84uYabirjQaV3FTdp2n2IC8ML8ZqIE34b+o62UrGwAdW1SEO1u3V3IR/PDQdMLrT\n",
       "IhtsI4keOqwClWATe4pTQVyn/mdvs2up7sqLCJ9G00im8IEId3ubUUP5VeGLjHCq19W/cnbVg3XD\n",
       "LLODyL7YgYyVgYpHUvj4HZh9/3DF4xYoF3wm7eEz9a2sX1yHlnmTtayTEe65pM5GOHFMe+eFEOvZ\n",
       "cUnQI8ACy7+Wr0FuIODo/7mWZ3+IMRMYv2gK1MK72dyP8U3j/h4h3TxkO/IAJ4YnUjtzqI73TVyu\n",
       "S+qQpUazOVMmXtABK9QIzBj+T0NwlNhLNkUWFy8C4NqLsJTL6QH43mCKsqzLcNSwzYdqJs0LDRMg\n",
       "Oy//MKH2AygzfFMX416VHpVl5bnL3Wchjw9aOtOne9bl6aw3EaHmy8+y8urj2SZ4MeTQ6SoumdzB\n",
       "iW0fcJvHXZ4TYH1IBiJ2o6xhZUwp02cCOLmyeJUNx6irZSQErKMc161b/Ht2V594SpIB7ozyvzi7\n",
       "m5LxGFozycT4E4lEIWLTAHTScebukotfSCM22z8ztLVJJIA75uJ/RWOwpRz9y1dqnAT/pNDCweKi\n",
       "hNPQhkWPyXScZg8F8oOSeIaGUm1XTznfel7dI5CKi9dc6swJ5cEHJX2fpD45FHK5GmtUAZimMteU\n",
       "Pil0i0qaPT0obn2zQDwis26tWvA7tjYm1WYfc4DTf1UlUGv8MSupMvBYUrf6svQ+X03yl7zsYyw5\n",
       "NeQR0+pRzv6LihbjSflArJIYkSJshqFHE/xwnOLH+q1UoqpGRmLH5Wb8Shk5WXCOFAty0vPn1I37\n",
       "L65gH/HlSJ28la2DOBiUp4LQ7gHhwTlOCEHUrtz9cQI8uP2dR0i80FuoS0mzToa1euKVpJ0YEnb+\n",
       "VEWQWOW18Fk1LVMWHsNAw/XJOFUZ193akWaz8xCTBjnd80u050uXKfigQBzhwMlGR3muAeY13kOQ\n",
       "XVJDPnJhCeDQa/qpiymevPG5VEZ+h7rGNboo6zBssn3Vj4wWaoAVtyplrhiMr72coF9vZuB1bnxP\n",
       "nKyUNURsV8z0k3Hm5B7sK0aATv6B+FpS4renckGSfwomNzIgfjlVN6C0t6fIajFl2sMxTxCgz5xl\n",
       "9O8uM0L63fWcB0eVlVDXO12oDYsqj9LWsWZl/XXaA6r7oHMFDLfD+1dgX8iBnXmFph3BtPnbF2Ue\n",
       "aCGurHKNnXnQ7gVHEXX9yJzvyFnLW8cPsmbTSIrjjOwxoFR9zJ2MTimtXmbonaACRwAAC0pBm2VJ\n",
       "4Q8mUwIb//6nhAAgqgelXACvN70NMjZeceIO9FofDuVW2OH1GfZFdCp1I5QBV2iPmQE4Z/TP7g6g\n",
       "DrppO7azOJgCWVvsb68mZZ/6c17emMocCTVoKbeukvKs0oTdFp7pF2Hn3+UzuC9Bfx5L+LaORlvm\n",
       "vqCaF7aSyQ5WvH0624t7K2zMXQZE1rJtwg9i+vwZwS8QoF+k7miMOn9INuvxoBSXXVtwN5EOcVaD\n",
       "dCrwcdWd3esoBgz8aDhiNH+L4+kWKSJfrfQ+ZKPAPrcZVCWNmu7I9cGu6ZSLsUxCmiVpEJjziz/+\n",
       "+3r+gKixp43rTsqkn441OtjdobBlTmrEjcdaZugjZczC8qZ8hm01Oiyp7Iw4WKqto7ti34NruTN6\n",
       "gnraDjNzvkHfA04N3vsBboSydTNECD/qJB+kS++fj1YzM7v6PMwgWGJHoT2sSf5DyOfkap0eE25a\n",
       "oPsc/hy98e7qcU9WiMMfRiA8qKiUTkHCEybnFtJHEf8aDbDdPrn2OTvS2zhPp5SS1yW0J3TN8WLz\n",
       "W/2CVQarb8Dc8Zd634/E/tdG4MVbdhEhTGsLyngT+V/ucx4QmaelmX9ycWdaV/n11LkOHnWEBwgf\n",
       "RuY4lA0+qun54HzEbD4EYAlEEn8QPdGA98bE0Yz0oOAS7uJIS125oU4K0Y9nrR9CWCZINh6zH+Rs\n",
       "CKrMJYzjHPCmBJJIQASCFBVuK3h+wqp2xJNyBIxA7BOczfdt7No8GlGaz3a8qzR1UdpYxUWcKM7C\n",
       "Z2XtyKQZfRQ+5WSmlGCMj+frextUIIbRrXP+9ia3UzYSGPuUZn0ebxnvfvnka1ewCQ5UJ/MRc6x5\n",
       "E5nJ9naLOHrQxq7V6TX7UN/uRhTMoNieXjjxndtC7xJ4FWoBcQ9jgcs+QKb98HHn/3e4kYRTkCbS\n",
       "LamSUA5kZ2MFKsMWYeA8drt0CEtJ+YMrgRLDYfE+4aRxpXqhm8XdW6gX60v5kTx/e+YhH7NxJBJV\n",
       "JZ1dP4WE/AjwYvrhq/CTaCKKcKC9jCpk+D7OuDZKLLVrIXKyuhrlCDsSosEzFFeJbddX/kO5WSlW\n",
       "8cYKrkGbLQKLg5YlwbeKI8ebQwdOg9vrdGKxLGzzWyQ5g+GVJrnEnPOKNEOSCubuXNBkQ/qAp0wS\n",
       "kH8L/YnZ+uZZuCC/bPN8fkEYxCArOWmi/vRpBkqWKW1BsQUxreDLpxltTGPvat+4QZShuhqrTC9B\n",
       "Y5C+rlCLogLGd5AKKzJf9gmNWBOeTQ6JdBb4bpxid9+K9jsr8F3SeeIqyiUVIwaCjDtVfGXDMX14\n",
       "lGsklRIgefAnTil4ZLWT9U+Ow/kxYEqqY1OXEw8iLh1sjGgW5E0hWOm/cOXBYBYjEZvqY6aFlaHB\n",
       "Gqd62uvfXmVi9dfkm7FEo4645zV0/JFusNSW2VSr+qWfPRYbcL2a/LZPzF+6MdfYPwLpqFsp47yW\n",
       "XiR8775DhMY6S5xg0HUDvKT/lntZbE48w88tbNTMU8eP+TDofJQcIv9a+E4uLrAZxU+JsPb73wWg\n",
       "FE5Mxeqib13XTGCLIXuwryw6TaLNukUMEEQRPM7ATUk5YXT/g0eCT90l6E3DdoWys1sUks6EOwts\n",
       "wAtXiUIC1w2vE9qXr3Exv+8T8FZ6umpZANZZ3p/q9sWNueR95eJg9oF1/8vg2mKYEqYo7OAWgHRr\n",
       "OCVDIUoYvVqbVpB3DxuJq8anYKMYsiHefkvZZ92fObVWd+Dyl3IBdSCdoy0HILvB9ZJoXZ63jISB\n",
       "NrdItB+9Qjs4dm5u+oK5GHqGPJJs0Ddwpc7V4aPvNYX1+/1tJ6HqAPcmmtdRY3wvzUKff9GjkTzv\n",
       "rAYi41nMtVY5feRZN15Ij+8TKm1owTid0FrcPgGSe3FH2K2RAmepDTQFNecAJEjZFlU2lx+zymtc\n",
       "AzVP28RRyEp1Xpf5hCc9k55xzC8TANp3T/vOfvE3Ykxlo5OnJAmIhCf6ytWpm3lvuImIASzUiGcC\n",
       "lt/a0ab6yUWoA7piDh1+/Z4zT4v6O8nUMIzr3HrUaGtI0ondOCjCHEkvVOtvmfB2kLofkVRtvcKV\n",
       "6EsmyJksysUcozDK1g9lKgHeu5WKSXvjg/rVtRPm4aHfspECSgHmRmj7DGTi7g18QmhVAKNAQ2S+\n",
       "mlph/5yXQ+44QBHG3bX+9GBsSAB12FT8tNRG7HkV1rnItfA/DlgwtiOsUaN55xrUAjUdD/DFVXkI\n",
       "q9U6eSEegkYHJG+pG+BwTuTu+lK5FG+2PKyvK8sXmZuQlyNJS+1k8phEK6v/8ZvLQuJDLhfeH+mz\n",
       "SqGp/c7hInpfOJMNaCBuKi0bpdV+cjic3l+WeQ+tsQisoMZJGO1uv5UHxenhKdlLP9vp8lp4Eldo\n",
       "mnVOLgxFTH9SUcpjAouloX4p777vhgBRJbsZEhuevxReNeavQE3+RtLcfFlu23pDec666RENFI+I\n",
       "kMWVgEtbnciQgWNdYqYIOA/gJg6TrN80P4S2uJVLNUUocfvVxOnqre7ZejMQ8QIBgh7Jhylf9SFA\n",
       "wa32K9TV7W31MgUVx4bYgMnfy+jgIXwqMp2vrA+8h0BriXV3HoK1rJ9vFViGNqfb52sie8dOxfXI\n",
       "FUlSkMw3AN1nGYJELz/yyH1oL7O1MpM4Vjm5Qp7WnQdnoJ9Q9ALDZ+A4ek6FAHv//DUhwxH1Pl4o\n",
       "okH5ZqBqxRO4XP1o3WWZpp2Hbzf73qzVv/4/r2uZdTVlAOIDsv0Yg/jRnbdcpfmbaMxki8+UpvmU\n",
       "+NEyPl2Mt3WUN7n5594sEx3/q4gncSJQ1B2KqmL2SZAUtFXoqzZuqMtFEusxhFn2nmWcFHgOUYnW\n",
       "9mWq9eKwfgLfAgGbk8G+TpmRXHYf+UkOIF666UHC5yy98TYlte6+LZ/R9vHqIhv+LJDaqMa7DmiQ\n",
       "M6v8vNur+rpNbR3tAoEIIp1lCJd9KKogUckW1/GN77HoBhAP9uku1rg1nmb/9thKJbRldiAp1thr\n",
       "3/L7AkDqDkWOm6mIs4tCZO3JB3NtDYdbTMEeE0kSoGUDAvQpW6FclrtEmypEqPye+uKK3GAR7N+j\n",
       "oLnVj8mtnYDKfe0JOfWIsNWOIc+eUXux4MBywffvlp5KkEnz0dj3MTudJnVehyZa+mS/zBqM814t\n",
       "1Kbp5/cu/B6um/TY88yPYx1CjVtv9uJeinBuvuGuwc0Gzo1+EKMfJG8K1l/oc5rfYaODd/eCNPmV\n",
       "VQIg2JDBVhn9xrdfYgQTcbGgtNbG20GOVfnq8bsEkzYmyM8U3N8OyQil3H9zqlqBn1ES4lqJ5Jmi\n",
       "HJZKMoNxeMq/zs0Y4she536gF25JSZiwxDxS9Ri83sW7fZAWm4aEZrDAFVbblatDEqrjRZ5mT1/4\n",
       "ICxBMAwAGhLWNPgcz+Sr7jZ3HVutJ/M/ww2KYxB/mrZYJej5qcmo/AdB3bsPRY2B/UXzUQuWCPSf\n",
       "PxmRMNtoZjRMWJZbtd48nKznt8o4tySgX1XFVgCsjIDBiKWJxw1e1p04tEB/eZRrcsyGmzxGL0Hr\n",
       "ZKLRcJ5Zpu9aKyxFm4zZWOwfAFTCxiDggPX2dWh8jzyVtZ04hFieaWq/3cLvz16It/V9GxYQ/11A\n",
       "obZPG4ncC6/2fTGhpKuAnfCqmpYNRonXN0HrFXLD9vpPa7zQTeDOSduMhrv573cdAMisAK1v+A/7\n",
       "4W8sJHvlEYpdmMnhYQzP2Rl2oZ6JyoB804rnlPxEyumNpOuH1xQyZIXgZaMGYM0vTgs/wBJ7Fi8R\n",
       "0krqpVMIFp8OcdJ6UwbvkSBzpYjqB4qjo4OK85RYKt/jyE0NY8ZSXHv/GPZs0ToBPMaslbVVIS7U\n",
       "jvQb8cLApjtoec9pV8wNkIS1Dj6py5nPemsGRPn0KBUhgGzBAAALO0GbhknhDyZTAhv//qeEADT8\n",
       "JnVaH/dJt4CfAhFS7RwGa6Gp7NBvZwp+2WMhnE1d1g9iTQyAdWhrqr4zTdmAVF5xP6bjNP8WyrYX\n",
       "M9tALljv+2FH2NSAANHjiBE7DKu7/ZmFnisFTUmeNWLlNWlGz+AGkXshFsJRL/ghDLDj+woeA2sS\n",
       "Foqv5P/ZEMsNvXIxSF0McqM06kkMax2i3R+uRsLHcl80exZfTLewwWlYCZPajRuYYpIqMl0Zy4qv\n",
       "j4y0eJEyLKyNq/jvcHsoQTcliyBXo+aaRKsGnTeN3+9/q7Wf3Y9RRSJPJPxf7sWVdafW0ZGT6BpT\n",
       "1rNu/FcTAJqqRhO/fiheCX9ykHt0kv9VgRVGxA5HQ2cZaIcaioHW3ydHI9mmt21VDNoUm+52kG9R\n",
       "2S3g1KQrC7q4WM6HgTGZUlQraTvlEyHrUt05YEqJWqq9ScvQ5mlfjVl0e+2tXyhEvD143i43KyRK\n",
       "dlO+5q9Ra9VjaYPfWZJPXO4qm/6ch2QedkxJJ6FWpxENrlUQygU4qu/fWNR9cq2IBTcftmuRUyZ2\n",
       "QnEkdnOB1Tx63/rKo14k0dR7XvdNEEAKU6n5ZOHzeBPkL6hrkmI9FG6zJyfwB7DZrkV9vjfSbk5k\n",
       "luOVpPROCBusJ5BSpLJxfySbVYJKmNlmIHYsc5JpGBIvj+ZE8CHNtMZcShHyqwSdltotwLz/NvNN\n",
       "wZkQu7/PeWpbUAe/jTcpbepi/CsYU26PGzdquOos1Sh3G3/pLQTZMnCX0rp9xa2YB3S/icWEs+Mo\n",
       "gPJcruZGrsFTwjeZFeu/f38HExbsdQwSoAgYyh8EsnImcBJ3qvJ83+Phr3qWAynswZ5Dm9vmf/1c\n",
       "8Fn7CXK4uIhvHKM6JUMho+MmJQY8u4ktQ9CsWvB90omT9//Bt7NYG5jrpCgEhyhQei3RTfmYzK0+\n",
       "nIWoiMKX3Z+40Vj0KBxwfLrTbZUftegXB3SYbtNmb6MDaw92+QLsSRONwBh10JtyAfRGgImor1qa\n",
       "iSI+v+6YMwGzDaKcP8lQnGMesXrIWRvXKU08uuhIt2T0ZOhKuPdulqOpq22E3VuOswYDtY504NDT\n",
       "A7iO7uPZQnhmeoJyeqf1ynJcU3vomTkVKG01t69Jq4m8ZpJXlkylAObD8ft24H2fbfUp20OUmrIk\n",
       "mFqgDOr7/+ddcHyRIG5MJB9Tj2LtGxkE5Tzde+vP1wEkx5RleyyOB3Z8LN0YEenDybxlza2xhgHa\n",
       "y2rUhEXIXP9WKNewEleXXCtOpU/ckvKz4ZDER3VWhXnEU13iKVwnSF46DaVwE89xpE/krlYPXBm5\n",
       "mdrJpmjbqu0u/sNCF1MqevNCnuQFqJ+jz598dJuibPvkYhSKwiLjszBZ2ViYoi4eqfpsk16zBF3D\n",
       "g+qWPTMcIcyUtGjhpyxkT6/nW1sK104B9XIzlMz0lJ0Y7d9vM0iOiIJ0SlExjB3IQ1QR8+fF495t\n",
       "da5+7j8stC9HBKF4dkdLh03C/F7aoMqKVYIipBIpPJQzND8FopFOCYOSS/hMsDHECNSYNsQxvXRr\n",
       "CRR66nlii/Qd2kp84jCMCahYHlHxUcMVO5CZFjUYoFWwiLA+zi9aO4U27Xufvg0CS6HlN0n9QJh1\n",
       "tQaxjsnATV14WF9e8NYBiU5irPfX7Uk0tYhbcMYpbEjSHoddMtpOOQFDc35gE85/yUCQFEIMeCUk\n",
       "+lKjXUdYSwTIETaZoZv8yq7zEpT5lAFvyasNpAEPcdsGH3gdZPFrx3AapiU9YYX65KxMRpNE87hE\n",
       "fS/0bC3Euj/D+z8zLp/G8RkrL8apZziXMr0B52wPqd76hazlinF/7H6jzBRKaTeJZJtsudp6r0ES\n",
       "nMlhq7NcNYZ6WYqQCtx5fVHrzzs8KrB03tylKUebbhq8VAAeaes8VYMMnFd4hrsGCzHAT/BGVPQC\n",
       "tJvKPNHbYKJ8zMBL8ZdDUZ1SWgmm4Df7orw+OBvB7dbrHPWadcCamzLy3iXA9RwYYZ4Kz4gt26fH\n",
       "CTB/4Nx9sSpLoTZUhiFeInx6qO88V25Z1BBfd6EYaEyXKPKI/CO0f+XMoeuDTVMskWlf4ElzbCVq\n",
       "uxTmn7iVkWXjZ0dcmVSs1d4BMkGFRl4iRp6A4fvn+8hU4SuM7dkwLuCjWWct+D0ggG4LWn6XKNzR\n",
       "xK/OwfIQG3rgj3bIqPg3QHYLc1F5UXYc3uyZjwmUEIfi0mpv/uFPkUZe/E5BmJ2brbfY6dYUZdfW\n",
       "3n6qUSFAsyGLflxJ4UvZWCEbqcE6ecRbMDRQAbJZ9hu/4xXRrVekz0a8hrRZOhYmUIxY69y2bu3s\n",
       "GKkR6WtoxmfbZPVaNPrtrVI3oUud9Fhjf4QH88wzkR6HII8jJ0HFnCfeIuV6mKeTr984AqVLGN1H\n",
       "dN5FjXG3/+omeOo4qeIJju4hklCZU+Nvtb4U96a8GIn1Q61r0O7KVIG7owhFsV7CgarPhAyKXf0Y\n",
       "lV+aBFf8yKj1DKAIL9xo1DmAjssPHk8jHfyJMZaYqhTjQPDlmKNhZfn18GY3LjmKHZnrCjVFmkQf\n",
       "ZUi3uR+HalaoonBR2wmpXVUCdbk0Gc/TfbLUoI8/zp0ZuHClgKh708BdfgXq2FacP0zwwnI3dTZc\n",
       "4sO3v6G7AH1bcDP8pQSCQW6xRb3Ef6K6lRPTvZ63+dXP8ytxe5AHT8xKCX3j/qy2PRbbFx1HoyXe\n",
       "BmmZAyr4QRip27EV2vOfIRtOSSNsIy8nXbbcSnTkyEgDmpm8WZYVlWuoYUGCM8RrQMCUiaZrWYlC\n",
       "rjoRheT9u0uo8qR8QAGWb+/KqlZZy6WkkdDjsonzuzYjAZQv7I/8ebN0vZN7UA69IeOM0IRLERHt\n",
       "/PNTa/B3A5PAkw9G29D5ZcN3HOr+skEtyWiaBC8HKfy9XxIfrK/KdhCAzGlKaRjMnT1H6t7avkOg\n",
       "JrrzxSGQjG0Gdd87DuEMc2ax7oOvX3/IGR3A5b2zBPrpR9gb6TDvgVxHZUPNYGMGnLR/VlgoYD15\n",
       "bmX17irCPTxYZXC23sq3zNJdfNZbAJavBFZdQDKxDJJMzgoJzExzybPFQvI6xVRH2Mw4wKskv5Hi\n",
       "O/7fCH/78brJdUNkf+IHSsqzEgLxD+GJi8xNwdvIZZpZgLXd5B1/IFh+twNpqJ/3i8xXibwT+gIh\n",
       "+8vA/PXL6nMSdhad2F0huIxG8CFTaLBk+eFCXRBEt4oqvmuAIZe+U2K/2Du9lwHUsxgFcDhAIoNJ\n",
       "ZtXnZJcFD/J54rLxmCpUeVsKfNyoninBp5ykRcHI03vfM6TDJJaTCjTtLfyNPt4c/mkOQru0CYyE\n",
       "oGsKrs8LmqJeXHa2xYRm3diIKxzJldTJxZRd7VfbDGdz2tgzHfQUq2ii/PNoQwANli72j9MQjvnR\n",
       "QNINe9poSLy9NfFVOnWAt1DcrAz4ej2Dx4LKXmL8/x2ybBqBM7mzTps2HFhrPF8O9NqJ7F+/i79D\n",
       "9i47Mh7tvNhOs2Zr/exz9KuQkbTMdrcfbOLPbvK4zjGdMfem83pL4eKHyFVERv//+wH8mcXQ8LJY\n",
       "0Bvw+q/avpgMZNk80OCjJ+yUqARaP+ziJ7NIztKyrS+N/xn+F54fwzQFR91XmHsBINCoXABIyZOU\n",
       "SGvdLA/O08Q+wc/wPb866qWtq1UFMYrf2WDfIbEN89nJsdDG/vF5/yra149Ae4l4ZXn4EhLt5L4X\n",
       "TUbRJJU/DMH1xduY6LAsusXrdfZcsuOa43sz3SusI/4Q9FnsuGp1zu3LBpsbCraUCjjqlwW4yJsE\n",
       "tCt+JNqbwSkjIWl3DHrZp28Mwg4X2z3myx5Cv/Eih2CE2HO2SAK6WDKa2ZqlV8wzPz6vQcE7jCIR\n",
       "E0RnupMiBO0AAArjQZunSeEPJlMCG//+p4QAILhOqabQB7pwqa+cTmNqKMkeSBy++7CjkelcW4wF\n",
       "PB2Mz0yIvGktqSaYMzAwntUXtFjoO6qjPcQyRsG7C8/un4PvQb+PC1G2Uxm0t8mh2civ509zGpps\n",
       "WSduHdFbwl/3s2onelnzPMKrAL49bS8kT3SysPBiOnH2VpGN+F2gBBFczPjlyXgBf5y0AvyseQgP\n",
       "CXMwFaryKNlv85w+q9jRktXwyjktc0mMgA/mKr8BWQIo7AFMgkUisXmpF32JaWTI+/2hkIdkUF51\n",
       "CQHMLfn1huFb9vuGXcMy5vAhyQXbdl7Tl7GXKquHMzCg9xYzhBs8nJnmuQF3MvJR+phziHYPMip1\n",
       "9DdxQ/ZCxflfB5lSOLAsadqlRPJD0W6Wf1ZXhQYUhlGx0VXEhfyM3fOpqwjqLi2LwvLXIayi9jqf\n",
       "oEI7AhI1qLqOTN2oeTfsaPfoBEOW3+n2nUZzS0w95v4YRmbe5n5YY8DKpWol0IMgJfLbAgJ/jHZZ\n",
       "5Anyy8kMSutxuUTrQDGQzlJSxWnVq76ypy/EoRGxflANE3OEeL4fFN73wUTuPYmRTIVOqfzA62D5\n",
       "qojc5mZ5Jj4YnARLI6dRYyR9C3co8r1WMZP0AENBkJI2KTAJah/RP7JAAXcVt54RmxG92UeWoOdh\n",
       "3IUy5y+KDzxZKsHiQSfEAJ1zkvb0pBDMMpAJq1EyvOWkSVN66hhbzln3w1o9fMnzSjOHSEPqQ+aU\n",
       "m/UtS5OZfRTS+2C95+S6DYZUzmtYCQHTSJLCDpYON6xhufkHKtn6d3vEb1T951zi6sxvDlziU2x8\n",
       "kh3nLszq60dZWXMQdCd30exYibGM/s6mav14f+3lW4/bO0KOpEH2vS6YUYuZYqyhZ8Sd2vqaGt+X\n",
       "fUGv1eVZbcvCaMJwiPHE9FV/MEjzqpYslY5Oiq+XTABleGzehE+kOPXEdRgfzokZkrUHqVvqBjcx\n",
       "dIrDMdyJG73y/DJre96yQ/Djq3ULr3PZ7UDofTD45EjYs3GFdyKRWmNZll4sQv6uhlBog4ZUvtN9\n",
       "tf0iqIBT5eQ8XMmx0q8OsVAAQ4TVRJ2VreVX7XMLKGOSRQknU/44PXhcgHS3G+9wT3Yh7o6HWnWR\n",
       "vuCNQrW1a8eVVOEAxV6U0HFnlbuhm0J0+QLbuRu1yEa9oVpPetjLy9q6kzDVE0zW8PyThXNC/x7+\n",
       "6dgPyYIBK2L5HvYI2DtswFGQl/FQ1Nioh8NAzZK0YpuMnc2cUE6pqwBdxfAaJKm0KIU/kgpcsdkN\n",
       "3M7eLUPYpMTbYmr7H4PTaw3xjP/LLhNdQmwuv2FO5S8IrZDOzKgibtTL0Bt9u1CozkmediEszL9s\n",
       "MdJDB8TO47AM/23oWCvsEPkxWGaNIiFE3LwY0ysrna6H14Nj93l+FkAI0qsgJoBFtLYzDpg/rOL2\n",
       "3dNjJvnRmQE70v+KtKISAROvB9DT1HLnoIbwvJfO7unWjese2bfD9z/qt8Wmn7OnG4us81k2oCmM\n",
       "yj1kf4Eq/KZNBqT5eM3hGua+9d/DSmDZBLS5rckZ54pdQ8ydcPn04G+1drITdUsQo5JLAgrlZ3Ni\n",
       "ubht5kvJxZ2A+MBdqN2I6XKE5FoV+rNuePu8fDWPOnER+Mdte9B5byN3w9C8P0q3Crt1+Udyyx2B\n",
       "Ukm6r5YAvpOkAgtRGLITvLs919oDMCNnqO9y1GocaB6jDDA2pHggUfXuBCN05HaqK2TtDbCu9f+W\n",
       "K8iQgSzGNZZmuRV8LF/HUCA9mum5pLSuTM1+qNcy+2/yX1anErx/BCnKvPE3wZlong8EsQGuHFO2\n",
       "+NAqeSD8+7xxp/TyhKA6J8ejY8/cgNPAPGKSkinnOHlLU++jY7G1RYe+8VFFF0s+8zljfUIjPBoc\n",
       "KZ6xiE/d0Fqa9UwhlnCxaQ59I1Jip5XsUw7Pr5rHd8fcTRmT87j2hRUCZStDMWdSQCqjiDYJNnGR\n",
       "Zf62N+dPA8i7w99qNEda3qxadWOunP6b5Xso/ddY4Cca3ZS3MwLXWWbZKUtq8lj0XUNX6gJE+5J+\n",
       "kl6D8px+UE5WGz3MaHC/0S3bzJBomdsCxwe4Q0GPA/zvAQyP+Ay8vIVH0XRm+GtVtlOC3lIZFVJP\n",
       "xyBdq6cg1Ra/9w6wPyZc2Y7meMTOHILnXdmEme5YNB4u0og6uXpW9fDetaq06H9pspfFFgS10Y+j\n",
       "oiM7kew8yD8Me6rMPuyWHSk7rQFauaq8lIOsiNP8dyg+vLp2XDAV1fypL2h4F8IA4ySp+wIxKqCD\n",
       "D3XTqBTiUIwobt1uW32aFO6oQmP4NL+7T99v//xpLZ42rSpmjg9vxfbTsIiCV35J5lPZf3Jri+aS\n",
       "mz1YjAZIvGDZEZjLHB8OlMEKOcqqKW6KH/AqSQ/0xrzI4TrNXy71SQajqyC5fmns8IQ8ZtIbT2ht\n",
       "oSp59PCraicltGZ+uWc2eYVxdw54/G99biTL9XPyJVYlRMJOqx921uh5OuD6QFkxmVStWs5MydFo\n",
       "YHP6KYJpg+5lbPvqvOZm5nvC65mWMquN7cVfxWxw+fMTAOMYv/4EoCtAzdCapJaeefqVatmgTh72\n",
       "MKvy67us90BzEwUyM/Z4eGav63Flhj2El/Lhqxg1dFcG7O5lheypa8PcMHhAyBSHEO57b78f5wUq\n",
       "l2JL3hC/rtWxlGhxkZv5i4l+4bwdCRz5xMZsy9vZNSnU2wP0RRpqUv5CVb3nrKzvtmMqvSi68Ba0\n",
       "U7WNO1FORsmjeFuqzmc9Bq8Uf2rU59A7mpwnFpl64GJerpUKvk3ZM226UX6uXDulL50cPKpUh4oC\n",
       "+IfQL0FZDAHXeIInOsLxcxU0+BX2rj2J6f4Wr3hEiG0bwqgnZ101RnQ8WY5oiDVxKgP9yCqhMS2R\n",
       "9H+FL03DPQkrOtQLSSnQX4m7N5wG58nEK778+x/269WT0J9+33FUMi0bRJ/vxYpi8rSYIHLAk5gI\n",
       "FLWJlf/KqutM/vrhLlMTYYKfGU0VRwalkrSWZGlxQFpEyeL4q/PVpW0P4AeVmRHHsCdEH7XZ07dt\n",
       "yvwu1xY1g+4wyntZUmd0RWMdlNy1VW+Wc1aOJoOCm4CqanMmu62+mR2Cpgb/BNKsGu9qDS2+Ef83\n",
       "bWpykSkFkmu8GI3/9TQcV3tY+kgfApG+4sKIAa7tLQuypkZnRrlU5ySnW/G4wRcpOxGc9gVA64o2\n",
       "L0uvqNX3YNX2fGd+kzgHfMVxyWvu0bHuAQox3flevL5EAL2NTil5iNqpx8gPQ+kRdwmYnav+dKLf\n",
       "ai6uo37xgKe3UlNEDCQbIqcAux2kb1B99GEJyPOVBrhDPM+4TD3Ul95ZQKNkPzmq6Oip8PDXJgIB\n",
       "dEULGIoG7LA41kDva44nNZFIW+4TJm5kCzHOHRXKDzDeYmj0Gndyc+UqD54+3WgO9D6OChoXbkNE\n",
       "cgCyJMv56KWLQffjzWl+XB846w5YUfTiOZsYKyA8Yv88TkHsv3zLa9PsBGhfvPkja6RMFfTP7rOf\n",
       "8TBXTO16/onRKUFxFMfB+sS6Znt9NaDFFvAY7D8JiOkItJJitpIhIWuNuZxVlbrfmZ3psA8AnkGW\n",
       "naGCaadX/OEMjDAp9aP6u+U7q30J+i+Q/v650LmvfmQIWJ7RrKg+uroHM8rdm6vuLBTKBsUo9HsP\n",
       "OOoJnGVEWtMSdhP42IagCejnIHn2HEa1PXtN2tiLNzheUDtdYJriuLZnD692ZQLt6CNijkIE70fw\n",
       "AMCH8Ai5AAAPB0GbyUnhDyZTBRE8N//+p4QAH62UNwymHvsALVgDsg+JPUF8fCxOyWiR3/jiR4qX\n",
       "x4pWjyuub4D/26aszVTo943Skmpn1Nn344zYv6fQQMAK5UQSJryUdmcKrPwQfMMLS5jQ9coaJy1A\n",
       "RxLye2z8F2zJV6GEIo/Rcufab30knkiPCYIQ6j2/m9zgUUF8MqNWMOrz6ptDxXmINqsS2kPBpXO7\n",
       "IItftpeJzncBHuAs9hBolmqxMRPf7KzIq7OT7TwQzRfBc6k9Z/19WxoYlAAdIgKgKkNtf/SCgLUA\n",
       "vVES+Rx0OboBkphF2TBSdjlqTZHa5W1B9fRD7WpJYTBHv5PBtSZIAy6hRzagZwK+ZRPMbzhpv1h/\n",
       "UpcfcMgm43WnTrjdMKYnbv84hLBSwClmrDC4+5NsheRq2M69jGpmblTm7bBdXvqU/9EKxNnnI1qo\n",
       "3Jxgennh+OMmTwCLMIhiwuv3LYi2GqYrEjfb4pnX+aAAccq/qdn0oxjtU1MzCs1bTYf8Eifrft8r\n",
       "SdeNw1Z+oGoGR/pJ4lzyRCkNcX71s1Rh0aGAliS+2hapuoORr2umh8WDa9iqQCgPCxX9ZtQvr9DR\n",
       "r3oLTX1G5KaPCLAX4vM+yAv+yvt3kuSK20a1CGAfBY+c9spRYPrZqzthDA6W2uc0T8ht1inSf4PE\n",
       "nkwh7TIVBwGaKmegiay74XL9zmGiukx8eTbmogY38v66hjRila4h9f6qYcJmo1ePbOiHnsyMjPJf\n",
       "y+F31YfOKTruBk7hzR0Kn6fMQUfvbBkoj+4quo5pcUxgWrCkTg+tiBjM/yW0OYq5LmnrtOerrjD7\n",
       "aL1cJPx+8akHODw8JWM+G7QSpbQmruf71Ftum9rHetGzNIvdBthaa9qGWq+G3cejavSwkaofDgib\n",
       "ildxPk5xHif31D9I6D/Qk7GqPgT/MCuKKCK02sTx+jPWMTlVIvEmR7O7d25OgYUNKL772dDquXOU\n",
       "Az6maNs4rkCrI4WBmh5myAdhMSisMromNioLaZzhNujbSkpNetdpp6ouu47XdQqYFxSHbVSwBP8w\n",
       "jtA+7iT3+2XnLSgBWWR93P6hZGI5eZW6jQsIHD62TEhdEhz7iWc2bqysRy/ibwjR+1EBUXv9UmlU\n",
       "WDAgkSvuSUQI2wLQWDTKE3ZrO0gRIfEXsegPazNvotCvxX61ebqZVt9FBVrAbptyhDSYXExwButm\n",
       "aqI/1InCl46zPA+99//FpXmkbxsjJJJJGZN98ANe7zCnxrq/KT7lvXqgihXwl1xoKR831aDzLfcv\n",
       "oVMEU8hqfW15H5icQJoYM9cuikb3kTIB0AWkwWJbSdsc3+/x9D0xOEPUJCxbYZgFXXmxY3fgUwT0\n",
       "B97wRjn3iQxggpVaNXj7H9M0UbAddLS8ze9gMZqqycanl9IOFT7pRi6my5RSvoj+zT+M5EhmXxma\n",
       "a9JeVOaISA0IU0+jzhEQx6icgsN6S8twzk3DQ3IpqqLg5rlU8xfEw9KJghAtTB8Ovq/dLGP/SosM\n",
       "bgkNihD4vaJqlb+78YFTVEmm3su/u4DF19PkwWqWP5BrTlLGTiFjGJLAUVot0c9x8L313ddFVmvK\n",
       "kPOD5xcoQSSVSL/7EH/lgosNU6lxVYSlKzZPwzDjuFXGuWeBZj4K9yc/D4msHycH0Tvuj95S1JlJ\n",
       "Rr7DhSng5rzv1B/uSCcHL74DH+7t3mvT+7j7hssTrPBIK2wCIiwRPV+Gd3C6Umq6X0Jf52THXPpj\n",
       "jJ5YdksE0RWJ/r4/+98kIpQXmGn/hoapAlX74F03IcVWpd+OY2IKkerLUaoA1Zq0+fD59R626l2N\n",
       "kJXS7tOS7mbP4OVSyJ4ZXwx0xmUK7v/zPu7K8pbxC49qfEhHotXgQXRM1MftyZXzeTEf0luU6ivG\n",
       "wmqzD37ErQ7PkGMvHGcwgwVpst73mYtwva4JkqfpZT6GZkoCzVHitb5YS7RqK/7TS/Pbk19E4Es8\n",
       "4MVt3yPPGnamha/m0bP3uWBR2OsPNlSH3s9d6OD7Jjt5+2HbxdYEWoDvv+zHKMPLzPcBALnOPr9U\n",
       "werNZOvqW3tY11+MHSr+FcPRMWPzN3vvHl7tf/+9/KOebhCEtZ5siTZ3G/18yq+CHdA70pemIsSf\n",
       "PpeOTkQTa3L3F9tNrog62PxhFn0rcZ0RgPY7kMm1KSmrshzK62g1nkwWmXizEy7S10zhaQqpOaeh\n",
       "uOzvmYwzEiivBtnQm5Wz7GTBXvjBZ0dBhE8LO1Eij7btBJinxqGMgo6B4Zi327+XYb/kANZREq7o\n",
       "qF41E5B5l89F39AzA5gVC57cgUik6aRR8aJSSWZaATnK+98O23Znn9IZ9dseInF9HmY5CrNy1mKC\n",
       "T7iIcWU9CJiWf0FeaBSTKmbaUKntxeYTSsGW7y6V/SluKaE9ot88HXrsmqNYnn9bLe5T5TkU/yqV\n",
       "MpK3mFAX+vXnIgsjD1x4Zj1w3rJdHimjb0tFIC6rdINI6cmEOHxYqfJPak1Uyy240tWIJot72I3Z\n",
       "UsN0nVp+K4DUVd+VDxbQFie+KYr4Bb/1EtDaOQhXxRvZiQu8S2kIIJCu2NGH+tDyC0BP+0ouhYMz\n",
       "4y4FEwfzlRkpdaBKTT3imaVdLzfjmilgFaH7BeEUJHgi7Wc0SL1R0XGJe6wpz86VyOgeYsqE3DDb\n",
       "xUMkbE+R1ZaaVTqj50mPWHdD7nhI1gYGLzs5Tu6K+g7uKnXUHsLjlrWvQbat5tXBznNlqHujV/ME\n",
       "TgNDwPzm5iRAr+1oSrU/B+mL1WEuXUqkv3lKc5BuiHoJUY8xG+SQs490QLwj8zS22lYQEDBSGEZU\n",
       "3e44hjk3l2BEFQwO8tWl3nvLkJwA6uaTe2J72utQyaz8+nwgVRS/FQmKx+EzCISzbH3d13ablWFp\n",
       "l72s68Y4JcGu/oUX+CX/volF+IrXYakkM4uYhVoGDTj+rUp5hApBwNUsaNQrlUm9gPXTPQ2MstK2\n",
       "BZNmeUgKMV8eDNIJZkN5exsUx4uLj3loikCkVXNh4BdK9Jflt9cKqUT6PPw1CCMSW53fdBU48uln\n",
       "HGVzobrkxdOHxI4f993me405WHcSSCxSPS1olpNP0nJT9OSa1t1ZEuqm9jHP4WGKmh5O8+108A8M\n",
       "kP/iaeNMeEDKGRi+EwBKK1jiAz0kalQwFUlLY75e/RG9j5AO6NZIDdHLi40030STDzENAzSqNReH\n",
       "OfELwFE+VMTbKiXZj0S1KO/BBedpYvLdzc0lLocbzyZdrPHsoDGW1Vau++JM0ZrNQM1NNdBzfYqv\n",
       "2xej/Ur0gt6fykw8j7YUpGlRCGCd5QrsnOX1Yam6vzYtii6Dp2+6RZ6BC6VlvVV1z5jd8FgC7r16\n",
       "vdaF0Y00sZ2z3jCsTMH7vODv2mcINORYByqW/PufsKencZJXAdNhuBZtexK7NBwDlsOkZsfFHukc\n",
       "6Rrdd/iM2/zWtsjDaKca2vCmgUZh7hg/qmgl+hs8HWVmipoXbaTVh+884/ip66J6R87GyqcD8t4P\n",
       "IYrNSi/xigTn1gCD/i4VQQRGwG/CnjtlC9y21m0TegI14mxt2RuLqRD/BzqXv2WXuFQtjTdV8TGC\n",
       "RxIaldeSetkwpKVM8L9MlqElJX0FRN0cbJiXrDQWr/QEZ4ka32cT0MOCppFaRNlR0AKZRJWqe3Xj\n",
       "LH4FuHuzZZO2Jlv/ygBdd3T66wh1fwnTD0K5QVZMDKFMQFKZL82omKMkXiapbXTY6QDtrLACX2ad\n",
       "2mx2D9+qDcRoBOuN50V5d10NTLpEhHZnH0W9+0u3FoBCvK18B+Xfp1Le9ESoDBOCLR2cRv6p3fPw\n",
       "WI/DNjdNabBCeL3fFDx84oImqOxo/ZWK6QHzSN3YB0vhWQjLmrQ64xuvtFKNbS+lQTmk7o5NAyxG\n",
       "F/wq9ilqYR8DNA1ti6R+1aX7z+8czj6U7tmDn3XgKxVKaS2n0m/qZeI6XZOIbDfoI6oMo8OFg4Vp\n",
       "pjwk3xqqnoYmj8wmYB5fl4npI2o0BxvjYaTFzBn2Z2lfdhMcX963rxv0ZJwQnXH2tYuLJz9+TLm5\n",
       "412ZgZzrVivFb7yPojSn35AenqFCX6fbElVu12oP6xEyQOSFJ9G5MAuIA6FbO0K6uEaOBlk+Zb1P\n",
       "LZFXhM28nNWqXVflm7sCejIJb56kDg2KYnNOef7udhaPja2+rLM/tCVpFD48IJ34WGrQhekWwJAE\n",
       "U/QTr7regSUyerSEHdSYm7+XoNxvLKeQ3n48DD1zrJklfJHpJK5Z9y1zRQNhLJNdGQy7wYqYsVT8\n",
       "MnBbOGQMFLEcee9Z9IFA+sQtUxTzKu4tOtM7LrdmtNZzC7TxapLZgqzXy3VtJuvZfmdxndgW24CT\n",
       "yh9GtZqcxWcqLoTngXC8P3ajZuVLRx85uRbgRAhrFt2Kg6/tIhxLcITw4frKPoJcEZWtBVOWFqud\n",
       "ZNh8wBTesq2qN2g6thslS2gWNJh9fJz9ZlwGsCPV6ys4az8JPKaVFmxWeMXG5rfPUxA8SuRXuaDf\n",
       "9JQRzv4D1ruivYykcB0+qK7Gpr4rb+l0nLZTipy6wsSY0aQfCDmQFWiy2RxJW9ISF/uV4Rtdz1Ht\n",
       "hmjxDlP4lkGaZqK77vHcR1at5WA9Ox39Q0NlwlTIzRYfhRMAT0OXnu3Yln+U76Pvfg3DqLloS2Gh\n",
       "UunTRe1WY5N1bIwGCW4bm+gAvfobInZaVEXVtZIUtw+gyieHV/jRJbM654wvaiixmFrj0/1af5Bb\n",
       "/gYtXX4jhxItUpgCLjhvOcRiy1t2Z1/2V0f8ozt8D3UNxYpgyRkWEZK/CoBH67afF0Avi4Sj4GCm\n",
       "+Bn5Rb2XnwA0iPpVI+lSEfhNRGTpYva5KKbotc4JUKl73Cj3B+tl1BbP7Ky8CAUMm7LKIMwdzxnG\n",
       "w7BSnKdbaN5/uQGFxRXMHUkmxkhqC3N8VxachpzY/Fv+z+8Ft9g34ECalIeZSirFS2/D+rNUSreN\n",
       "6YvjxT5SGZCjMOEOu/gHeVkJJ95CVjdjbeHmSozWxl4Us370t5+iOwPJlKf9fdyBoaMuf7LJJhCn\n",
       "NmxRDSigC+Ce66eyfVuqvAXTa5iZTppT/YsD5P+Lonrsq8OIqt3N3M8VxSUSd9qrKCyYQaDc3PM5\n",
       "DCDzPNOGNEpqBRcdTmIFPy62FZcCJ28QVJpfiWaZP7oF3EoAI2AAAAaBAZ/oakK/AEaWTOlYZHBC\n",
       "Twt3yVCAEJzf4fMkIRbiaBdXXQqKo8k35AIMu9GNNHb8lQsFOmhEHL8sNV/0h2gHDMKT7P1dwzgl\n",
       "hooHYAoomAdtnU4Llz/+DnJMqdAc3A6KY+bD3KtXo9aZdDwa61AR0RRzIlrW3RoJQ/kot12QKUVH\n",
       "/f9502RbsAXw9WqkDE8cubmxCsUYZyh260Z9BMddax3KqK6TeREPNkkSFZxxxx0PsvI3hWSDNW86\n",
       "mnrpW3pcGiD/wwChKg3p/KYCgLO6HXOJ+A+kPtJQc2ebqUrOmsWvvwMv/hStk0smW/NsQd0Qkros\n",
       "MGWkdTQhcbw1Vspsj/3T+1pT/LG6UTUNntvljbGDtlGWfklon2dCyRK9K+chvPyAXth1PkC3hfbS\n",
       "6u9xWEmwCpu/mv7AMIo1WnyQwj2Jd5kMH3bzj5+CUcMGkA7XIT82srEOjseyAzFLmf+AxOxhQxl9\n",
       "/yWVBzH7GgLGiksIXYoyVC5Q3doQyOAhuLjD3WqOq5ekWNe8NTLII8kb7gzq7sSjti7GrlXCvTwC\n",
       "z129U68hqvXKxxwZ/U2e1JupSpCym8zBQ18GqGsJEZKGcp/MkZmzIw52gn5w+elaff3btqEohZZh\n",
       "1jAgJieoPW1YHgH2OHZP3ZVcPlH3cg+pV/lOhpa2oDQhgj4NlRcVMU3bujBtdT6eOuLkYgRgn9cy\n",
       "jZVY+a8jrxR7RYVThJ0oRFXP3aqdjHxLZFETcAmHmK0t7ljeljpGCucEFcNvCEYR67UQfINmPp2A\n",
       "z6rThh7GqC5UK/5bwBiA0L9K0P7YWz6DQ07Iiqogrk4xABVNaZKeUSTkhYbogKAdvcBGdSaohseF\n",
       "fu+b8j6AICLaPpv2dF0hf/OHU4Li3OQfOplqr7G2uytiyYHrTAJeowggQyeQptfR9uq4s/VmLHjd\n",
       "fp5nOvbZZk7rmwUDCJKqrehaRqse4JuPQHQllWRktNTgvGyJ/+kbwzbq1Vz1SYID4HfcUzkWgXhf\n",
       "v72Ro/rOc+Q8r+9A/CSFuGUFzhxbmk3Rx91CwMoXnNiklEUThvj2Bdd2KmT1S1yT3Kb6tjQ0dVH1\n",
       "Xiy5DwKrJ20pGoCTUTf+v/T1sAIApU8ygseWHwgECk0j2bpjndHWw3tXHaam+v7eGwQsd2p3+hFj\n",
       "jjJ0vQUZOZd9n+42V3ebCJ6NB4UCADyx6h3OlFOlsH7+4cdDF7mw/kDb/T0m0o++1DBfvC8L9NBd\n",
       "8i7nYTh/kYPlZkTAKpDtL6kTkHsCi0btC+mXJ3vPoFDj67YWtvtvI+flZVeuwxOWoDnL30O9ELo9\n",
       "wf1RjDbHRrYP98wRZHBYb03yDKgeI1qd/KkuzM0BYOqEYVQeyPd3jnzncNjMl4eq7grPGo5nttMy\n",
       "I41/Nm9HpTvlcb+A1Ki+dWxiXp+qsrIVUOvppOR3kLQ0xgo/J8ErXv46mmzA0lrjOwABtOnWaN75\n",
       "ag6tYEyS31Vcdl8Bpgiz+kryJaPEkfa+RxdSlASZ/zQs1BgEgwzN0zG3nc7deYcLuzhZ3iY/l61U\n",
       "U0PJEnCFtxV20BcJJdmHhAG8EgKxte9mlnJ8rKQRzDk3t0aD+6AKnDpzcG8lBz4fuXKMLtZsCOZt\n",
       "5ZmFvdy5AV8PbQVDQSFxhikneBWf+AlCMsO5eFbEHToGFFMaNgHdUc0inspnDutc6cnqICI0wIyE\n",
       "vLYLrxTFEQ7rDMldSURzO7NQc3iUBAIGFgVqzbfXdIaXyBi3WzaUrkja6Fa6TkrxQs6sfX5VUfJa\n",
       "QnkLzvJsV7cnRa3lM6tEOvXf1XSNPOrDJ/2hs3+uofrGVDtw3+f9udKuo+4iVb28jzP39Dncx9SE\n",
       "CWI1z+IhIFXTae8aPCG/qIjb7GsInfMdmgq7AWc30t1AfDgfuIT2WN2ZW4dzN0yzzV84+/iw9yzA\n",
       "Ep9SXfVwkTz9me1Ss6AuhLPiLsYIffsahlx+/YgMvQwSV78wEdkZMoBNlVDLCdeUvhyvAQoV0Qt+\n",
       "bIkZNfdP9sEhVOzGZue8e6TqjmrljsqDNWzEN6wFl2Z+MnZQBBI6UllK0nFzmhklO1sBjlUhGm2r\n",
       "c+4y+EXWdEXFzOdq5NgBN5+1A1FaSGEnRquWP1TDLZAPZAPkJh40a8gMdv2gpo3M1CXmxLS6YJ58\n",
       "4tHh2NFffdpsggsgTWW/fJXWNn3RR64UkFELcdfUabXIkxS3FaxY5u1Rt5P0hQjLsl9bgBqQAAAL\n",
       "3UGb6knhDyZTAhv//qeEAB+sUqWy1ACAC4AuvHDbyB7m9wfpS0vTjMWQiJbgJ0Oj4xAgAMQ2Uw+E\n",
       "uNsNyb1TK4uRmFhP5OD2a85Zquj84pn6bW62RU3ZqsPjxcc27oTpRocAGaxzkGQqTRDH55ML6BQv\n",
       "qQIYG2hKIEh6YzZzEawBrVxtFfCxVNvq6uGGYZKUC5dWb1KYULyKWCiS8Mg/cjGuglWDI8c2OSIZ\n",
       "bAKmZ2eHKX5C8KvR5j8Nvn5JkTqvSU4hkVXshIKpxb7cJL/R4CzvtBN9GKg4Ksj+0yTHORXmDvKu\n",
       "irDGhjz3lQa08nSTQiWxJ+1V6cikb5fBIrD4nPMoBdB36O0P0en1eZzi0813Lad8UpZftzV8r17R\n",
       "DJ/yrhAA7QkXhQyrKYQc7BGTUcFG6YN4uNwzpKzZGPmK3FdzadtiGYX9iF97KufxtLhIycVSdO0l\n",
       "zPp7Hfxk7pEXjlmiwJ6fxxHwrOpDtlb91JA//v+yZ0EXJ9zDTo3rcoZ23tkKy/X7dg5DoP9gh3g+\n",
       "WWrz97Gr53nI2RuDO2mWVjCUAz91YQALVf2GiqKskQ+VkKuhBppfK2Uosj/JGbKUiwQBeoc2AFxg\n",
       "pjScoQwSfGRpbRjFznrHozYt3VQldP46GoUkA/H+KQ0SRVrTcZbtQyjNxWYXSsLTuxa9dR4DtOeK\n",
       "p0ODr9ng1J95U8Hc6xQ4wv3nLP/CIzqExA5sLf1HOp+HPcuNZaactkaFsJlohMUNwdbF5FBYl6CU\n",
       "39io348TqU1ApkCaewtpz5/fRxIkqAF7TfGEahNH0g2NAaN3C9oPuCKtKaBIfEI7YuYrH5WJbvUt\n",
       "9iaGI9l5tS4Fvfn+SAsn1QIte/WbrtMvgy0jhvZfWCMlU6iKqMdf0DKuX68wJ9HsrZbK5nveomDK\n",
       "eKXVVER5bc3P1eAOpNBdP/QmnIfbHDUSWtPEiIGah2IxxJRdwjqFsqZr1WcOBK3R4I9AN2Qa72Xx\n",
       "WQLCtGgpBOWp1nAqkehHYEvxTdT0IGsc+6BVhUYdqQ9wq7Y2mBE4uES1ZvLNOa6TVA1sqm5hblcW\n",
       "1n3orN2ho6hdcngmSqVkOT3d1udz62y7GZrZMYEzfgm8FbOBdrstN3kL2Ja28I9TixIxZrvjaH/o\n",
       "CkoDjIQBTeoHSmPMZAN41nm3vIksQCEPpHWIvCRXUGxsZjAucGEB5waM1bUykwSIKxZ6imKO/Y/n\n",
       "FWhiraYcDihpq4Y8GWZnv/bYtQGgtzlXWrZVx/XqNYNZM3U2Nxf3yb7AXDVCYodpo6FEFY2JIWqR\n",
       "PvRbCbVjN4G9386nlub83+XLYpuFHxkBO/FKU1I4Z8rlLnbZC3RAbncb+U1XmDL1W0pMaJ29/BFh\n",
       "AF8vl+oagk0dAC5wzL6vfLmFftmaqCeZwTGQtrRv2R3FXNPg/axJaxiuzv6imvN90T6uUNy2ytCT\n",
       "3h3q8Lkcx18SB53luSJu+uM4z/CFNfYn5V2QsYrqXLHIa36BKwVs74bA8nPJfmnLepuUcxIo43qd\n",
       "h9Wz6NJe6JVXQ9qJdRzyU2N9h4PCeVzil0dab2CZTS8+FduYHRH89HvyavCMUx+Y1stemXlHQMjm\n",
       "QVVJBfHeg/zUqMxfVWV8+g8HkNX7EnKTuaL/0atEBVLrKucLm36EPpyvuoN3v/ysr4K9QXdBmplD\n",
       "FHiKsVxQUiT2f67ffYDX2BmL7IVyPftjp8Hb2W/2drxuDN9HtcHpLWnxVKtphy3ZGOxx0YfK/OYA\n",
       "EcESW2iqZL30m1HzP0ahjs4weZerlURODua7ZfsfdTX8FlboCyWu5xnmzKfEprQgr5PSdAPheD7A\n",
       "UazdyXG2tM6zJvYqadYytxdV1aj4+t++vCU7OtyV32e8J7uDMM9mNhZc+X1IPN+AXLOz8yI+Rzfz\n",
       "dzxoh7vxaQpD73QsU9xWIynNAFB6kFuYjE2do8fPmMIG4z1D2E/H2F3p21bvBfdvdXoOx/+N5gWz\n",
       "+/DvAHvmQuNZCO46KXQ7Qt1JO+yB+0kV4xQbdmZMoPy1tpFeLHvOogGnuryvN6oqQQqpHmNTUkZg\n",
       "np0iesCQij5Cjl3G5nX1J2dJGymU2K3qtb3NDgQu793rqvqC5STl9HAU/e6wGICo5lGnV7S03bEn\n",
       "63Y4iGbHvm+FJhJ6eepsZ244w5j2U9GnQfS7uTCXi70cpn0Z37RC0cpKoSS2xeBdjf9Xjsynj4Aj\n",
       "NggM0LbxNDZpRAR/9zuIA/WZAFVm+6UFJScb4QCmaZ+BZhBiPaLaeFJ+W3pjEObZXV/lPlOpLIuI\n",
       "a3bzpX6S1zKfyb30zo9CRCQBo6iHDjOabGVrIdSSsImDwt4FgQ2yTYrPMXMQVUhisaIEgPa8A+lA\n",
       "Tf+AV5tPTly+IZDfzi2d3qwr8mJiDGFVXYkUPOA2inSzRtYNJuNmU2+qrr5QbfiMWOx+pEeofSMq\n",
       "y5BAR4BIfqqLRe0M2nAFpygq5UEBr/vt3Osm43NtBr91puKWAnOC+aYIgWxjR0h/m7BHbf2d1mYp\n",
       "T5vutT4YALpvlmZ3kkYFP0MhgjCRjGUy7YM8xJN63CA6Ti8HtqABuU2aFMaeKDrcBNpZwCrUjUE8\n",
       "AXnxp4vDfST62JxFF5ZA/iuYPKLWhIZ1B+uJxar8qB0e866SYtlaxabSKsfmZvpuzb/7LfpbiyKb\n",
       "MWLJ4GSqYnowZa2aaMu4vSEbFMDPgbmsYl3QLgI9BYwWdAu1ihD3jp0jrawtOpnmRWnYOTW+6lYu\n",
       "RuxhjMq9EaC1DuLFFgMN/sSWfiCraHTphnKnjNjiwFH+UskqXucloQ8hEhoVV7KLDvFdIpDD88ld\n",
       "YdmBtuiNRtqPDattRWfVD5+sH+lwLH9HsStaK9XsRLPJsKLuuhVsiwx3ONHPR13+GrF8BAa1k2kU\n",
       "D23eyMXT1kQl1yLnfgQgTqFcJHRx2YSwH9Cy8U+AOMpWgQFwNfXXPZg1Pu+esAFGQtuBjVvy65Ku\n",
       "l2QcKND9SydZwUVPIzJIg8bJAIDW686lWbE+pJ+zIBw2EBDcUGBCyECBcpakycD9Rimkx8W0klaZ\n",
       "LQ7qUiQOQcTw8Ey6nSDtL9WvziZmbJVW46JCjajv7qTJoAGeldU4wIU/cKE4QrBUDLMFs419CLHx\n",
       "/Tvq0xllUELC4s7m1JAybcT4x+/o+htXu1ABJxPf0TtCOjJeXsDIKPfPT/AKE2bwCRNmaKR29P+L\n",
       "tQPliaFEHHVY2kyEqEgBrqd6WS7wjwHwEFVOyoSvBfzqoFMZDa4JuIi/1rwA8tvr8nSqx7CACcMH\n",
       "DwKL1GN8xQ0YzquLPs84HEzJpjl2jM41j9Lxh0DVZiwJAv6kAcsyv/WoaYc53COX9XctdS/t78hO\n",
       "v7C70i2CcqIadwImYF+iKsQNw2qxdaTXfcF0QlS9I2oWoJ22YHytVCJdqq8s5PI85dASVpsIet1v\n",
       "+0fu4ilmDYmUlq9xHF2NoPL4D0/Sszfu0MkDYsSVQ0S9tHrDyWshmjhqxTjr6tkPVuqI9w1/LGCO\n",
       "iuUAGWrQouBdHZvwZNWSjQ4CvcMbYziJ9JgqCEaG2mpkdzuoxEFgtCOMx5zSJU1vna/+Mi8aNIJN\n",
       "Im8qwXkKEG4GHNtfJ9wIurRMVc95bo0nDiuDzDqb3OeqieqnGhStLvokoeAG+0/6UN8W2ZK0iEjZ\n",
       "jPDK+v9CMFnZCT01NMtwLpOTijnL3Cn/eqQ7hIYMEYiUVOQ6U2bg4dfXBafHYT664Ku+cq0Z/8GL\n",
       "NxvKRLE0t/WYL6mcowR/fI0K4X7qIeN2McZ7RaZPFejOssmG2CgbqJPQ3T5K9a8WrxXN2V+IQXah\n",
       "gMQ4/3dL37YoYpiupE9Ba+YzCR6l893ycdtXOsngVayyCSnga7SvQIGBZ/RtPd5/xwCTcyGwT/YC\n",
       "DCfQXPkiHu8jKDr+SIBaX/4vAjvXY5mSSAeYqyToaYMJ1gZvEEuJUH+3cvbJKJ+KjmPLarJbN1S9\n",
       "KykWWxp4kcFRa6H47g/VLkzW18NmV2xG/HH/tq1FnAduT+gsFrFKt7EY2dsLFfkspzl1WbQNhnoX\n",
       "HKdSmJPyyZ3RodQLEFwwoIEAAAshQZoLSeEPJlMCHf/+qZYAID8jt3LxdFa/D74CZ5IIlyCGqR6M\n",
       "4j//zZBNN6wdc8tqkSIdOCRsNLxjauNnbNQBQTfat39o0ChK6qcK3GrwQcv/LguLvSqugto9hq9K\n",
       "3dPtZpmhmatti01W3OKgEfyEeohEIaJ23AfimTUeeC5nxXBlZM6wgM2LBcGfwmb6Fh2KIiroX+M2\n",
       "Xkzsxmrzpr7spaT4aDdc8l9liCjVwN+1eCAN8r4fNkYKg0UKD+lYXr21oilJgqhQrbCvpQv9t4qy\n",
       "oufskZdfA77d0CEZvAvQ0Vz0tDbKvcZSmxSgI1n8j7xbzqU+eNMt0IShOGio6hw9yRTdvI4rY9TR\n",
       "9w6sRq18JNQCTPTnEkg2+KjhTbbTuX62gxZAznXhdtcpHM1Zrp6XgQVyParchgaC/ySpOAqC/vWX\n",
       "Sg9wFZzeINIGpr3hzDTtwVn5+P6n6e81+GYo24otBnEm3IEROobWksXBKScM7MNxVzwlDakDRHwz\n",
       "wNfxr9dVZLsA07KV/fT9YEJpRJ+iqosL29dIWrogXzfdZe2YhU9rkcbqhsiO6jay4oRHNpbNLrrc\n",
       "xnWeKp1a1UydHSXNTZSGVCSRh7QwX5hG3HJhoT9dYNO+Olw4uHND4iYZJFiY+zOWfUOo+WWqQsRE\n",
       "j5rAUCG1AAFakDWW0Y0in65284A6OdTuOzqXRMOlOkIcJ6bs8NBwzks9fK3dcfnguCYrd7FL9m7N\n",
       "mogaQv0Ll5hnX1Eut1HWbcik6UxIoakfAo/XNLiAvATGHscOsgFg1158xd+2B3r0PZ6WkR9bZt/G\n",
       "0kUhcSHs3Eb4lKSnwFfGcpnm15C9iXkVEdNafU7Vc7hPRFtXnwTTUs9SKJxIdgRw74t0r/iYyg+i\n",
       "V67zdbf2GuPrN+Roa3AVKUlFEPXAQpRuRXK/e5+VLTKoIF83AZtPv08dtefMKOjpEUQjKyR4L62V\n",
       "Yh21terbhuEAo2hWiEwT92Js1yk4UQ4B2T6hWPn05XYAcDOrkngtI5eQsL8fLLEfkK5LdJViC2aF\n",
       "ssTuNmW/7YuwlOQGen0Vm2UULXAUAP3igD52lXHvyK+6nEy/HAigDIFSZGDIy8qd6DqpWyfSNFTG\n",
       "WJpGG+6bFwDaRX0bYrtGXAv1dGdBcHoiYezAGsrfdorfMu22P6yMUvHglN3ffVErHSd4r1VX8//u\n",
       "w/WAmZ5YjsmjrsB4XakaxIH/SIOd5CVZVNj0AsIJ1pFkQisFAH2z51SAooO4mK4puqSRwTzJrheA\n",
       "dlpbD0t702mTivcwq76MFXSjNF+BbnQxJE4XRTxpDNauZ0ac+fTZM37ZMFpRLHrMxcptmSe9T3HT\n",
       "bnj6Fcla9SqwcqIyxx+j7f876qedQJv//i9PqwCQguGPx74jpzUY8/FQm/VGN1k4KRPXQPonRc1Y\n",
       "SmUHndmFsoyPlzwxp62K2PHwoqCjqJGcw49Imxb8ngdlgkjGmpw62p1UZmrgBZaBvq5xI6PW9tkN\n",
       "SpY95MNEHzHw00PdqKIUE9oeLNTdc7dIUpOt8oWztp/7JbVhasdQTVniO5WcIOPJFK/tfVWesCle\n",
       "YjZhnE2Td+QwM0CB0f5HYtKrPtC5Zhs900iplrKNrC25KP/NrC92JVF6Dm6Fa5GrS1RRbznCoX7k\n",
       "ITavKs+qCW1YIhMRbykR7v2Xk4LyFA5Bydzk+OJO6AN7asv/Y55Cidw86DLYW6si6Rw7IEDqcgvD\n",
       "6d8rVgc3C9L0EtiaF+2Mkhp2UhZJ6aK1pNNb/V6KXXmGVK5u+FeaqQeA1ymsB/CceOtNgNWw11iI\n",
       "7zLEUbMQwqaxciG2q7pODB0ek4dhacF9WihHqOuUHTZSvwFbY0uSDNYtqjFlxDhKESu93+0FdAoN\n",
       "IyN48KJ/BlCjPJzRlXI1YW1mmrxEn54EF0FZQRtIbWFxB5kFz5VV0hQ4TtIGz4BCHSVzRUwCiQwW\n",
       "hxV4b+fFsnRfhMQot0RlM+VDhOIv55RoAB5nK2QS8FaGnX5Y/cjDAFn4JP5kCvBKV2jeGISd56+2\n",
       "bLcDJN9T88FCRfsJ4EiLZC+D0Iukzesr777RfoaW+9WB5Qp9EfCnuAE5lWRdN2xwp1R13zfWRcrV\n",
       "RTmqD6/3J3UmRHFacb8TEeCO3dXiVMsnMInqzM61RNcnzgJ8HInEubk+tEdDdyYbIVHl3FNEaDrn\n",
       "/IabPvKtvzRfisu5OZHFIAD3A56PuAV3uY+rDpP0lf85TXWDZzJzuj0ubFOACbEbF7Q4uCavlBKK\n",
       "Vo2N2Yqs0RRgL2m1WW5AdXXrq6lf4TamhYnqL2hbYBzIUm3wfeSX0hxFdJfM9qTYtWqlKiliTFP7\n",
       "7UCqo/2lHj5r8aOtT+HgMChmvOqkFSRs/fW6P8PQ3kJvv7SI+chDEx4mZcj0QwmQYfa3qnTqA6k+\n",
       "eyIbXsMqgYD9LiVIoLupt69U7ifES/A3OfRE/VEG0hTKCUDCFdLnnrETuCCI3tlA5uBW1iXJkUIT\n",
       "ellxEFGA8wY0r8tcah+5KSazTXPl2gymk2O0lFx1lchZ6EEobJ3qRjW5zg0xtPzlTQEy0HDC1f0O\n",
       "g9SWyK+i9hKqVzbbDAwkSx6Xer+ewldDIFObtdRkSDvoNAzKiGP++dWK82hqAZHnFajlDwfGbRVE\n",
       "knrXjdL1hHtX0l2fC64kowkfqzAZsNfskKWPkC1vbYcbKlovUBDl0boaHuMs0VtrpSZk3kdvpi/w\n",
       "8cg/+e76EFFV9IXJzBkDYrPHlTsUQKcH/8ET9c2U73HJvTwnNaR3pElentLmYLb20YO2StQV8swg\n",
       "2VhQzwinPTrlYroWwbAAEkOS/rm6Ap7zeWg83h/7vmxFKVz47+vj9tc3JtLneLsfCX+eEF56UvsX\n",
       "zc4i2gXATXX+4OIEAyuJxQoUBG9isZFd3hoODvAmpl2fF4bhPTJ3XXNrTIW42znJLvKjO1LQg014\n",
       "wZzM+1/x+FnmrXWWNULz+1SrBn4lLzyXvp+ositt/dKSG5kfhcpmeDCNSNob7zUCrIiksgpjekmu\n",
       "iJmHNgUZp0wUI5S4u/4EW9vyZs+8b+C3WZFw8nFBeCCIitPNYuKM3aaeC9PDKJEwa8QKD/6HEtwp\n",
       "yMtMW7elnJDixxnhQDNQwIp59Vew1Ha5M6RnqrmbDK0gg4U6wCcjBMpwd3CcDHEvkFHj317oGPU1\n",
       "ndZ/ItHCWIxyd1lT4kclA65lnBPQl226BLuWUQK55Ll8x1LIu3yCuIYCPuNy7JiqffIqqs7HhGH3\n",
       "+dMJJ7t4poSXZTSbLMLzID3pBVHo76fzSOj180/cyoRJE150c+OArMNUT03jSeCa84HE/TXkrUSk\n",
       "3k5k/ZLeAxZHupDbdeJyBH+OiL9Ez58fEqaGd0NKXDK5QE6uzDoEbZFL4bTZK5e+tZdjaT1dUPRF\n",
       "yduJ8x7I4ZwH8ko8OiijmNjrOwXW6T4UcbGV9ux7GbLnSIISV9iGCvgQqDJkL4S/Pg3e76ycLgbj\n",
       "lCYlvrT1vpqYUFkXBmxvYtj/JNP1Wm+bilhof731uNqrkpb/2LPjAodk+qZIBhUVfftriPeMuVeb\n",
       "TiMB7rhv3ce1aETlArupcmZHgcQrl2KAbTdf8Ufhi5/B7o9qojK1kgcy02OZt2YATMQskFouppM5\n",
       "F+HEQreKG8kEsX7F1mOrixzIkIENJ3ceXFsrGLXepbMDjH88rSjY1OVEpn1n+WAGSjV+uhKURzVe\n",
       "j3i3h46zm9ffu3LnZ9nyQ5Kolag9btBxNhF2BiwKteUuGFyuRjKhGanM+lPaSH+uwvyCev2boaYG\n",
       "ClKm/oL44rX2aksIu1+RyE9gHzAAAA+pQZouSeEPJlMCG//+p4QAH62Xc9uPym0gA1dqIEyux1aR\n",
       "UrG2ouchkIh6f8wA0PMUMBlT+/apOcDmpOaJBQt4/4zq9DcgXAnAr+KZe6kytNdfQ+hHL24uiCJM\n",
       "ZU5YuEDafSEGgwtu8XUvYcZNum59wWDq80hRgHJV5gTtqKQMl0qkWfOcUV2UuLUXV6gwe5yOwlJ4\n",
       "Fu8EwvoGUiaAOxJ/BD6gr44h4UqUyQHPrvtF8iU/oqSNdxLisd6WthHnO3hT/RHmnTDv9PMQlZO9\n",
       "pD33npgiWhYl8nm29qCBDzL8H7ZvRvO/5MWqPG7I4tRrq52GhGid4p04tmu66KDcZfnOFVNY7O6+\n",
       "dqyvSkWhSpZu/nwrVoSJ/WmqEyI5Yj+yDLv4ZCURV+Mt4u+D58aXIOSzAaKTJ5ZFEvl05BNbmggH\n",
       "DsbMBpvi0Uhf0ABjkHJ4GfZuB8AK87kgPWPBp/7pkh/v4LRpzgRctYAAcCiVJSKvLCS5IBFz3Boe\n",
       "57YKJ+FJX5KaE/+8EkPY8017FYfnUwHJE6PBbA3AnmHKVfEc4+7lEO4gQbs1Yro9Z1nn23s1zPCG\n",
       "NkaMpR22qI7oNrYpcBddxqy89z57wuZ1vRc2+tlxBh4idKt9juZ5NQTtPCRJ5Q8Rb85nSFONLhuK\n",
       "L5Ma8Dokqq25Wa0d46iMn5FDf0QRR8jR7cHb8E12736Lclj002oIH36oNrGC046rehreRAh9VOgQ\n",
       "aNhNvpuCYI/UwURwdNPLg4EYv/j9Aa7/iyRui757u7+ERq3k9WWpvgI7caUZE8i6swVe27iii1KL\n",
       "tniuiZcC3RoOCUNrHfPi7OOhDiwgn0WD7++NwGXSm975gnI2mH2QjhhV+ezlcjGnXm4SaVF1x2ow\n",
       "jzQgQvX+fyzAZAu4/6vUWWcsn3BR5fIdYsyC5WUdQPE3B/YMOvT7EaXHlEr0Px3Ytf/0zjD4u7wQ\n",
       "t21Mjei6PsaEwCQaZOeBj3qUs3EdGxhKWgC+G8lFVxb0gFL3qj3Q6WcPVSaiP+gMpPjPgDeIJn2k\n",
       "k47W9fvU81XSoAaEBAtCTInL5L4LJoOk4DQmCMSnwlWTZd8ZEBMwPjdSmuNYtH0bweBW8hoIEGkR\n",
       "XR/XUrejkFeWV5Ny1YHA6QzsxLT5qyIX67Aui3Plj1Vj0TDf01FLxCyT7tENe61uDNC7LGW/0tcC\n",
       "/ljLv0E2DK69shl7CZme3OiF628zmO8sDGxEksLvS+caLqDUbVQAB7R7S4Nvl+YK9Wq2+M72mssp\n",
       "g62d3zR+aLADYV3Ev3D9XaB8tU/qIs90wG237mFitzfrgJjMtGtOjzGnNQkaj8V3vn8hmQ3zzaQD\n",
       "mLEbZ8i74DLBb2pwcsywucVQh08afV9Wh22sz3YShiu5Zeh5v7pE4/WT0ovbN52JWMJNuahKZy1o\n",
       "M6dtnys7GKZM3Qp4uiIMwN05qCl3w63QlVEvNfEFi7ylNOC5fc67HnZz/UHKOooT33Np/OtdnPx4\n",
       "pZy7SD43FOgrebcdKx8RoGg/MZQoQCg06jCK5zhEnwwMSQtrk9ovR85GwohIA3g7+jkoO3SA+s4w\n",
       "WNN4iRW3bI4ePMwA5Rksa+3E7DrvFs0vy5P7X/rAs00qkEJ6P6MSjNCwzfSRuNel9RN1Ht/7lmFA\n",
       "mCAyQg343Ib+AfvzZv3XcKKrDJmMPP9LVZxyQXNN5SqbICu0d9v0GZkBVz9ejou9xNSVRjRxVQvk\n",
       "TDVNG9Air5spAzi+KPrk+8qOcUxUEAI2PJJMMBWTn7pvGCp59KcQM0EskxqOyye5yn6pp/z22eby\n",
       "ugi6rMuksQZSZhSBNlFBXp1UcCrr/cLq9B4N8dXpGq7NGgIOGzkNifKqxbgdSG4+uHnIIijAK+/+\n",
       "90Ripiu0a9sH5e8riAxqQcooB7TLsg7Z/K/eLQXkCecBwn5zb7XDdacCeAz24Pw9kB5kFvdSwZqB\n",
       "CGryalXTCW2Nu5Gpswo3mS01v/Hdm2ucl8isMU/GmINLTqg8P5I6HWMpjWzRxl8M0YXOyUYK3Ix9\n",
       "8BS7F++fVZ2OdNKGZaHv+fmUMcjGcOiMD0+hQCtPqWIPsK+rez/AGzhXeka1Iig556HFkpI2JMxU\n",
       "8iOoqJYKWqx7FRtQXfszQKkhtKK8odT39vCsoLi9s1MFeFBZwPHQMNfFhMr5an8OkHLH56N2v3uQ\n",
       "0QgSbAqVsA0HaTOLS4ASEGFrtrHbnz1teA8TxnJrzKaiymXkpGyFtC48yZjy0OFV4XI03RxFDuYB\n",
       "mc1jo0gtbjcgmzo11oUfrSVL091AbATLdJ5a1PmG1/3yLn4f7l6Y+5s8AejxAtuFNoccd3ysscJB\n",
       "+Dxggz611nfQeIxSiYn3MaP5locf20LcASH9f+CCeaiLfTCCAxCdotjBJ58p2RIeGMQtzf3CP3fX\n",
       "6jK8F4StxUxzGN6rwX1wHUTBtgF7X9flu/MjUamEfR5JkSbZ43Hm9QrZ4ODvlJUNJovqE/mFPxln\n",
       "C3GTewnPP3XGcMgaMxdIcYVMl0ag5N5GV/0wkLEWLlM0EPljzHsSBYyvBwk/eZkpR4pe8N6/aFNI\n",
       "Bp+30ed9RoBoi8lPP9AxlTOZc/lNr7yvTDaeYN/sc/UwqMtm7k41edtMDumoOKMxYvrLecs303+l\n",
       "8fJwTwa6Lq2t+32r34bohODX10c4qPbJLYz4vNdrqc2Kc8sgRcPzoCr22fHXelCJdGhCipsFuDCc\n",
       "692wp+miOQzlEGYVu5qLTfKeVU1GM2cNecWs9xfKsUZqphcG3hBW5K/irSS0Qe/IIYLkFZHSZ7P6\n",
       "5edElMCNNOKYk5O9gp68vHVLGNdtUYombn//Ugh68gju0CBT3VSgzQ0EU1aa5sF6kfvrVyuhJM00\n",
       "VptaWHJKULoLCqFmnJ6HINczZAktR24d4pDtvhJdfGTt8prrZh+HrWD6qKItQH8T936FIWvXHzJ3\n",
       "6Chh4jNQEKbFhsyt/ZJ7V/JZHDfuuS1+rBN1RJH1gq8A2VecWzEevktAcm20P49RyX8zbwXRhjCX\n",
       "SqPyNTxk9jdGTKEpKJOns5JwUqp7EoPv8jmMyNwXKruUrKk0yfg3aG+837K/9G9neUx7MAv+jiX4\n",
       "b7tFxHHCCrWINOGoy5XMkY3u3ADLBVVEOc4DEsUQLqGnvuKTVgQGXl0o58G6vyryOKi7V8q9+UuO\n",
       "Sg/zVjrUnahWIAuFp+wo8z3XAjiB7YA6UmI6aZ6JT1XTzbBRiZZiy2cEmv64314jMJzICaDuG+nb\n",
       "ATXY5ql1VGQXWPNVWH2xla2drBUJJVDp8wLehciNETBfxqfbkJit5g8RaKS8M+hV6/U1SsYA2zDC\n",
       "Yayoj/5HelaAqRlfFr7Mab0TNe96DxpOB0r9rsCj2f+L359g1G+SXZmbjz5Q2/HztrPkmO9bSj3m\n",
       "e8zm3xIPJv34/UtPTpm8uCCr9mJfGYgnET5BX4rUZfY4W/JlsdXp17Uc+Zycl9g9HWc/sSs+uDuJ\n",
       "ieV5qNBqrerC7v9MV+9aEVN6LYhgrQ60FSgmuGKO6ZjCf9mg81V2rwZYYEJxqPrZLHt+BxyWYGvw\n",
       "yUumlNJ/kqK9mqXtApNkKwyqxbrJglYc2I56mhu5/M0+7mSRjDXxd92CcT/SZ+N8+h8qSlemMv6W\n",
       "upF6H+XZnwjBhrn1iTgBDEQHpFNfJ3Qha58dpmNsBRMQX5F3LaxWI+nDqMihkSIXef83YMMs2x5B\n",
       "MPtHwZMPDyDjyYnKN+rUfcIMoC1Q78zvvasx8LiaF8/SDKH+BuyC8PiMEZIJBOw7gmA5F2fBUxQR\n",
       "eXu+WhwvPqaREHsl86MRhGwJsxOkRmj2oQj7c9IFPgX9nsthlG10Il6zUdSIgWR7DwAHF7QRDM6F\n",
       "dyN0liq7qDcy1ZhbwhL+qHeRM3CZe04x/JjwtpC7ZnblUpPd77om28P94KgFMixXVuv4TOyzH/yA\n",
       "LvBB6RJbr/MIvBZL+/8SaxVUkHnLscdvAMBpKZkWPSZCoTEKCt6JD3JpRXcEhjj7LGdY/c9O3eoD\n",
       "nc4//opovwpcnJjMMUMdcSlbLBy4D8DtlHyb7v1nDfvzxQEZugN0BhfaW0COLV+lDPjJCQKLqyL8\n",
       "7iq7OOuX66OH/JeS5Ocgy1Vydw/uYPw0hAqS00gu7tQAUQLdrzfMaxNP2m2RgMNwSLwQro+Dr6WQ\n",
       "66ZNbchUtPXZErYiQzCFm8hxd5oaXCss7qLz7B/y8K7zJKJ2oW/3XeA3HKqIjpxceY7dqD0tzdRY\n",
       "N18uUfiFaCHn7frQ9QyGPfDjpGtax6rs2SwDNFzur9I01qQZyF577JU82OjjtkhdVhgegyfAJaTC\n",
       "WnjR9GDqdsZnialXxQlH6Et+LW+GNmVgwdVLJK8FoaVbt6Q9u+0Cyiq4b5A2+cPDpM6/Z5bj3/bz\n",
       "d36x+YPnQTf6mkpA08V/yr0HjCOt+aUwvPjimaaad+KxRG9d5owMZp0G2ciHN0hB6HZtQGFzDbuu\n",
       "sPRMFVJgnlvszn8E6Pz88rk6etImM5PBCPcAPubIRjM2VCb2fnE/t0Q0dUAX+FQdxLG7Tuene0rx\n",
       "J3kZMynTsRFBTuM2/2KVitaUTKEPmC/3/B8Zz2pRpLrGeLEF1ETrXlKgnDcO+xW8kBjEKaKwjY22\n",
       "1QaSJ0BYZ0dw344zj5KP8GyZFuk7rqfJH7UWMcHI9qBbTLTP+FIUVj3LUqhVeaGX6/y0EXZS79GI\n",
       "K0e21GGGU9N6Fe0UR9JeGx77zgwiYnucz5CPAijHwqpimVbp34riAahkwg6AEyId86NReF+W5fFR\n",
       "juyuefV/UPCClLfgg6XDccFNSosKetVFKiWTWSOixCyF5yBlonO8n9o1qLJeaNCUjPlPBunfpXHh\n",
       "iYCT25HRBniGXEp2o0rKVN9qJd4twq11ThvhR4p7Sq6mCVRBeUZdQPhVSOYE7TMCj1s8nh9RcQRb\n",
       "EILrLS/7IrhkGmRZhR7fgkOnQAnQPuLkbJy2bf7l6LTMrjX5zFnP3NLO/QEzlPlKKNMYRovVE1X+\n",
       "jntPQ3z5WNDDCmbCCBwbokyTubWwoWmzMYWZ9JENv7aruMJHkiwXKgTKVDp3TJVVNeZ15+oB9nH+\n",
       "OURM0CNUPboz4IZTPEKnk1Uc4tvebcEt2VwOsS+G/Z8g8wP1aHyVlkZ01bYuJk513wLXqa1EOY87\n",
       "dknHmhkRa1sz2Up/g7nEDh1NLVzfYJ/SzPsgzPigI6sV2Xl/DJ7BDtdDis4h7OLpNQJb7bIyyCFi\n",
       "lhto67CcsMFnNhGrBVAzY03E6q5q/Z4hWCL8k+zdu26BN6Cr343KhaMncJaBwyvH9ZhdrpYjnbwQ\n",
       "7i6TUlRLFtjBC73C3YIXZGz6/Tgpz1ZvGwoWC5MHF+ouPhsZfQ+J2iAqYAAABjhBnkxFETwv/wA0\n",
       "PFrTW9byC+7uLdIu8bXcmJfEUlZ9uAEJ0ACoYnHaDeIXNijnx6PDYHg/njboq2YovVkDhy7pTWmm\n",
       "daFV69PNJR3NkpM+xwA5bI3MT8l1fhvieq1rlcMJ+ULKAPFYtcxQIVvRmOgSMdtR62wKyjWzxksQ\n",
       "ROCfAIaDtLipHncNBonkHqRKnVNPijCSABw7NPa5hXPUhtTAOroR/4raJo1y9gZkUjqoZ4373oRl\n",
       "85KZjShnoQPpXzegrm/AvEOlfI9LRi71q5uowe3teBDf5ebmvUPb20ZAr7IvkXRgjGGV3BwUnXQd\n",
       "x59o4b35xESXVoCw1AUP73Q1+H854rM+mdAOALsLqdYNA7Ng0YvawXbBtWe6tQrg+VYvzjXjWpV6\n",
       "hloh2k/TdSs77dCEOY4t9BPEOpasDzlbe6VjDF3XpCQ1dHdmkX2/H2YjdXinUjo7nsDMv4s+leLK\n",
       "nM+PN78YUT2VEauvdUpEwwkQfnk8q+h9ot1Otf/MZxmSZKeoy54zokF+vusmFSNRtkz6/ka2IHlf\n",
       "GBaDUWxZRiOIYj58k8EJXlAAXAcilZh3jPpyps3B+maq2XmKgSHKKoL43X++OTQn5VOZeLGJSX7O\n",
       "F6z4OLiyI41LjunfihFBykDQM/bIdqurkx2L1FL4n5Lt/pZopy1ykebDRh0imbWlQZ9h5q5fJgMz\n",
       "02mrt30/fyXaUJYPM/wcoIeCX7whRgebjdCFr3NssIbQAWuWM6d1b9I61e9mfaTPNDCGvg+b4++5\n",
       "29vCyDTMqeAbSp0to6vVcg8079bllsGhcb93zFLyxSGHI8eQJDS84S0EyLuVtfIqc3XRnrgSxBoV\n",
       "yBSXrPjU+gVsI4d5PE5gMc44KjtGNUqnq/CN+P4sEWC3a7hjXY2OpfAb5u+RXW98ovJz9t0qsBh7\n",
       "3LyCFd9wAN8ia+WmPhR9v6DjMmQfHwRQGFSvve+Wq00DMkSHV6xvJV23KS0Jaml1tymO8HbsJlm3\n",
       "5yB0bzradw9Dh8d0qmhHA1q9iVgXYmwrwfkmFQGOf72O2L5bstgS49SGTOZ83xwlJ15Lp2ciU4Z6\n",
       "lcjvSAhg7D8kvvLGJSrTOGrYtAjiV+hUknnRcaJyE9ZJyfJdsMkAr32WSgbv0vHyQnSgnNFDnZad\n",
       "2hEk1ZhnyWlI6P2xXZZmc4DwmCVBGbD6hp35ufx5H/xLrDvkyVR0x6ZQ+JoWSqKNn98WBGgoYV1O\n",
       "EfnwhVuQ/giGm4tv/m66f78GL9yZ7CKUgqaeDvHj7rQ1NFbyT0PZQxHcGZ7oLDpFF9bwM2x5IZz2\n",
       "ynY3BWNvRIUp/h8LsBAF/RIwm3cWDA5ZTN9vr0XCzli++X9k/4sU7FPwLcqQ0WfBK6UjxcLAjkBT\n",
       "5+YZ00/dkrel6HM672hbRMCsbUMlOAw1bkzZKR/9U4mOXLCGo56YG6r4SZhVL4B4qjVtUegikYZf\n",
       "ZyDbLmVde800dcLJZfAQfR8/J4jx78jCgwiXWdsVG6FwAidQK5YjxNDKElHFd8fBBcTDb9FzGhkg\n",
       "tgfVwuffeZnqcnKDz+4eAj0yIMjIgGJc6MSR3JvfPjlAJDhKKOJSKaFh03whdjawIfqAAOYDe/kL\n",
       "EBOvQ7WYdTjnxY9j6P3ZS0He964GLPjbB53MqBlBCRIvl+rXjAHuxzzZsToqjLaQgASxThZRiudR\n",
       "JNmBP/Ly8uCWE4o/YDDupxM9vQZBzcS7/+iS1UP4KJ0TgnfjiZGQc4vHBisprMBro1J8bp2qvJVd\n",
       "1RC8z3Cqp+wggSkcv/PhpuN2lFIDJPoQzeLiM9YxdHfEi5zjOaKDS2n9ApeAzRXqGZz1y0OV5EjX\n",
       "mdjn/8+liE/53ZjY/LkJZAXCpA+FE/9B1f3+xZb0ogcYZJ/l8feLSqc82CvSGJgcOryQldvQgZ4n\n",
       "CnQPOulLrTspZ/Ytl+XVh3Uql1X8dkBLiwz7CApA31GDwoTmsWG+PY5q1QTvtx7xWIjO4/qVvEz4\n",
       "T5vQqcIWx3o91+kQpMm3xK022TCI/3J8o4Y6p2/vUXlSy6VxEcxHKjCNXg4MMxMyx8VecaEqJhKr\n",
       "bjTgi8IWslhKh5FNOIXzkJPq8NttP2rTRBGu9gh3kS5CuZQCO/KKq4CkgQAABgMBnm1qQr8AR3YX\n",
       "mEOPwlnTfiFTO2AEOwdGasgBzyrdrTJSWSnAB/CrRUL61HZU1I4xVrp8AmMZRglugBgqwmCo55kr\n",
       "+Hrdjk1AKAdYoZoqVuxjmNBG4FciEVtvG+jW3xP1Sw3pwrt+C0sy3ThQY7Q1DH4wyxpZbgrthCxP\n",
       "mSg/j5HPvUeJzTznYvY9uy+ydnAI3AIw+YQSq9V+yJTZZGVz8VLHXtBFLFU3yWwpQBRRWvorxW7i\n",
       "irKOd7N2WdGmcPY2qUZy9P0xNTel+dYizKGOO/HrwSmBmZOHBvrR9DiFGyG+jclk+IxGe7kaSjg1\n",
       "PiBpRFeVdvUf4bpGWC6rV1uzhy9zYTQT2C1MeF7sqwlDd0B70YGkTHda14H2Ami7kv/KvDxozUOO\n",
       "fjSJGN8MxVpGzRgZTc8TCqJ/+4h75M1FVyXam6bCMXK0AUxxokcYPrqXF0xRZFtZXDNVvhDAZHAp\n",
       "EmXfWwdSrfEolG8h8BgIcdYCd9O3U1yhVZ/xJjUshz97v1zYY40yiwf2fWFecex9uLq57K+d/ON1\n",
       "+GNkOPOjFDNKJxUipd5/T6nj0IlvscHOTVGuVhxkVP6DWCQzqVzpENeFys5ROVlSAGrEVVDq6Txq\n",
       "MlSz4tyWCGhPh7uV5g/t5aXmbN+PqknCN61UOnMjaIKtfVVlnnCPDC8MM50O4OzA/kGd5+PhFLQZ\n",
       "8eMHZmhJEN/HN9mmImZxVhmUdIev2VW37hdsAFzzcQpG1P3vESf06W1JrTg3yVGDrWWTYZK0GSn5\n",
       "WXNpVyqzJC+Z/GwlxCvZ6SlfBIievnenxLsgry760ug3zzwwgfczvyZbXRx8/SmF9aOvQ33froOu\n",
       "RBH+xwAym+5P+v6i/hhAHPKQzpek7N2XmFbGzQLVTQVdqMqhT/v6lL4figYVZOYTmQ8u9v7pOnRv\n",
       "g203eVhyDyDquTKCrf68s/pmT/FMuu6UvQA/T8MIlmdbTrK/MBqnLpC/3umOQyCR+gLYbMC54kMR\n",
       "E+7bPBnFjHEcPl/twHJti7DMcMSN1khqvWyFai54ARs5BfAaAMZWBv+5SXw5kqh6IyvNTy9n5mDP\n",
       "lAZmXSVqmJDa8P04kfLHQPl+EhrhRC4gmXPDAwxWDZ7n2ParS1aq28rtPTxBq0DvFYU7SPEl2z3l\n",
       "pYAXUqczJABTfdvklQSocuiIbyvwmhLcTR1k7O8/otoyaE5F9TOIY24YVkfqryneUSPbBw0u6N7q\n",
       "cp3u4W59LI6vOX+A/7djFBnbKHgWr7zMX3qrgewbFKxAjeJeS3oxaiKGXSW2GvZJpLGrXe8gISk+\n",
       "7Z1TfhCGw7YangEeC+g5Vs64Mz2FdM5FnpALCBJ7kKQT7aVjGZxmgYYiup1wt+jZKltGg4qoPi7X\n",
       "fxpXTxsPzeb5wcn0A7PPru7XJ73Qcsr2gDxlhcO7EzSkeGsk2ZJ2aKX0xy14rcssuI53VYSAbwYt\n",
       "e8UH7d6F3BOKEk5Zy5r5MWjDaqtFsw5hE7HTzImHidZcEI6EPtIb18izq2QYMcY60fFbzJphsmdi\n",
       "pgbl/NAyIb/ECv4Bmjmbmrti4clDNIx0otr7EpzAihxm9JV2k+xr7ehbdxnuo+h+jBygLRi1UBjA\n",
       "7iHkCFUIpsiCfvmlG5GYD9qdmBl8KGT1Pya1tvmm7dJb80NoASjaA0diVU/5pqy5j0rXaMRpgAh7\n",
       "+JofypKPRqCM9CdWyqctPYafGklCpgUMVsimH3sOrzbujq1moBOSrCHwzOjl4FBbJk4zsdH+3uB6\n",
       "tvglK+wQtEms/T1rXmlPdsqAnrqsqq9ndcYKWX1nPPkSiojlvYPywjf89V8t4wZPgAIWBRdg9FIj\n",
       "mi6Py4k47vBa+Q2okrDzB8SkZ7Xg2Oh5Fg+T/B1Wic84dSFjdAEwk3QXr+FlvgVLGr9DXPgUFmd6\n",
       "AVAr56Dy+dZ3Gc6pE6CQKoh/EH9Y7f/ULyzg0cSmq6IsdRFbuLWYNlgCiuVS9mCGoqBdIfu0Y68+\n",
       "asfOyEgr6gYnVT8vJsxcilIi6wVszEIdvbT0U9DBFoVWO2EEdDmm4CU8nf8t8YEAAAopQZpvSahB\n",
       "aJlMCG///qeEAB/N30ZaQAfwe7OAMLup+MucoFJdqeAeO3dPJY+QM9f2dnZxjLd55Yk99dgu+2je\n",
       "llEPa6KL8/KX+/QyNQq98Tk+eDzE1X9jHxNWqemQe3A2MplSTghbmnLa7Pyf/bQSNNfd3GKrTXDK\n",
       "QipSabRXx3cczP9865VlUVjz4SsAGdZOwAHkofwlnp1cHldzuTQp1uz3y8ZeiGpyRpLvAikwKJKV\n",
       "+41OVqKyl2z83F3mgSXi+5L6ZCdiQs76URuex7rqUciflgHO70eqCbI+5m58gxyU8xtJVb9HfbJ5\n",
       "UlLOO0rEC/ChusY5tV6zU/FrcvDJMAByNP2tyll7fb/LnIl3ByluhYPdye+062MFpwH3p/v7PfS2\n",
       "DqWlUTCD1JmS6igQquaQXzr7gA5vRgPiedmU+sFnuhRAG5OZ5mTkvUMrM9gX98mFZq+K+zv7d/5S\n",
       "I0oTlnR8Dn5fA3DteqybLr/BZJABRidIbcApK02/RMwqisCx4HJEMO0kaBukEPvzg7hAybfrrW5n\n",
       "t+7UVXILYqkIRX7chmFEiWB8MRlKmokk4hNpYKb332BmmKSn9oG/Mr0QmL+fPw7LbOVPYxcWQ83g\n",
       "JKQA/5NJ8/jNSepLcF+OHo3BbwUMgbyTVMU2mjvO3IZHB1cygMhSMJtPAHLWaGrdq9W6cLQo4AP9\n",
       "EuhZ9iD77M37Dwq9GtIIYo4UwPLr0tYtg1+xjT89KqFxVT4xt87JFxl/uMFm0CUKPoi8KXFCmhX2\n",
       "px/N+fyTJgXE7hMmmZbHfJX9ALybn/csBUPb30RO4nUeCfhYVnmSjLfMmU/unz4boELx1ykt5uKs\n",
       "DvsdpsbGyfqVCiNu73Z/3XnviyEongPJRnvRiEZ3rc/70tZNVOV7SjBVEe31cVQu6k9ADx6Z7SIM\n",
       "sA+JkYbyVtXqGfakEpXpDAV8u74K4avKrapWymNWVwZnAb8O0ifxyHa+yxKEH1sgEf1IL15nFHr5\n",
       "Rfau8mWSgxrdfvs8HziT3uPxJrCwJAUv0L4x36+JfkqfBK393B8QUUrXQVL2kJci4aN4I517gsdR\n",
       "S8RH8p7oYQjlLgQPOVBfj6Q2tyG9B6CrioH/9VNDBOOHU9EEq7dUnrRtphP08bpSOyxcagx1odjP\n",
       "97x5Y7UNHuT54T9BmYRHTFLPX/5zBhY/zbyOZPIEN+ZFWNbD45d5p247m+JcKRG6MvuvcQazXDtg\n",
       "lpqKBHTu4atQVr2lSauHRpuin4sXC01FJ5bhm4c3O9zfCBOFsP0qHL6b//WeTFhEXTZ0VhkA/r5N\n",
       "wwMLk3VBz76kBRfWWCHblK2qwvTphnno2SsQyQEm2Z56wm0I4JE8WuEF7lJNffsFXyBtwKE03vlQ\n",
       "fABg+lD6UNkw8HrenQewKuM+ICpBPEQeqknV7RjV4qLw9+sttRSsPd/OSUOcXWiD6ZWtDCaXQf5L\n",
       "wOGte2a5qcHv9kw0qEdUXHfxEjieKcDYOQ156d4EYl9XHWRlXWkb0XQdN5P+Hb71OcoxMMNpZNHZ\n",
       "2Xcu6XxEHoJhmKz98dNUsbFuuldL/HlmSbljrirM0p0PTQtqldUC7LRldAB8atWzv4eXb+2F3tpU\n",
       "m6AlDRNXP2ZSSH3WrGJdVOuy9LJCpoThgc4nYxOse4cavfJUqMVmQk9xKtAH3thPx3/KPhyqOAHc\n",
       "QJRapSn7bsaYI4Mg6AZqsfh7f3Sagk8Std2PfVOyqKZo2iC1D8/90mqwJ6QnRs6+Mpllz1GJMf77\n",
       "gEC4FI6jyGgyKVuV3/Y4skqD6N4ifOx5ZRsdVPA572RWUHe9DMxSb0RrfBcuDWcCQit6QxlvIf9U\n",
       "jjqHRwhs7zYi9y/KRxon3//zF5dTmPOJ96i8qsOJRpuFHzxokF2TXIXmanzDDy/P9GbWJhDCOI1p\n",
       "XK7CVoVZtPdy2cpagq8aTpFH1smF7vPcj3QYhsByARHgTBh7zZwTWFTfWh5mt2KC3KS9jYlRnX/e\n",
       "GDKmobEIr9ofBaTR5p5G0Llybu+J2PnsP9VD+5PgL/UeSAkXxQrMizml+pr4js/frkFAiDpX/VGI\n",
       "lrttQqUaMFQF+TmKSKy/FWizp0ZpfP3MDXwcu2AZ1hA5cfZI/HB2sNg1Xh8FGXSfHYdpXGDypqcJ\n",
       "fV29sZNIIQpfTR5hopxqiyElBe49p+zAoS1ZqtpWpjg3YEX7sDSmwPrqKVFtTTeCXDK1MiEwnYz/\n",
       "8bYy7MRds8QdaRFeFPv9qBx/5r63yjmhtdVb8hgKvlTVjWsHLZyzn+ZCsVC5haiCMwFxJ5KGSiln\n",
       "aKAMv06nL4iPxwews/EZik53cQuLerO5jVTJHuXBLNvW2PZJgPBX4x8NuNNHPe2QnZx/usqF5LaY\n",
       "QkfkdQZJJk5XtUN4VFCdBQ9RdkFera8v/RFVs5+W5jtGB6m62fGysnirfWqUScUu/3/iW43qftXU\n",
       "iMVube1V9KzhNMog71WdnusxhrpZBKiCfZgRnpxZBMI2Y+zcfbGjkzKQmGhVexGz5aErW6rOKCuO\n",
       "XUYAiApkfc855+RdzuWjM8PIIfu2ahFCEy1mODtW5nzr58DIwmdGraBJDf/5uEx6cYAy0ijTPMAg\n",
       "hTaQhJ4gX2XFXTirSDfJeAuf1Vhq+SqlMpxQGwnPfhaKd+w0itUpe1L6LPE3EKwa8aIZtVv/retN\n",
       "pR0HJOyKwBndu/qv15rxSd96Sxsi0ggAltL3EJKnyWkXjrbY0NM4tUJzKbbC1P8UObx6oobAx7PJ\n",
       "sHsAEhUbA91pOfl4hQWEO2kMJB/DdMQAvQ0Dg2DFSTwlLsab8K2z+LTKlOeMv/LmbZ9J9U7Yt3Ws\n",
       "8W4Q78iPIwt4leufKMEvQh4fWXeW16JKlqH6rUsJ0RWP6irOVM5WXPHyROuwlWWe8JcgElVJhXyg\n",
       "GUCw//uquzz5woCmX9gZo9vA+rBpfZlmkHISh8QG9K2RsUdgUK0Hb8eeoMpB6kN1nZEDPSUk6no4\n",
       "/vAwAL0b7o/ApXDEMSYTsELOARKMcNmaUveI3TS510IeeDp/sWlkeLTSm7KEdjQlBBeFuebPo4PK\n",
       "adICekk8m71WnPxgM6K/9AN1ia5UQ/EnoFX+kschyz7Afh94OmwbX8tkdsD5/wT7D+nFAeZ1Sstp\n",
       "NARmjk2Dh7IA7mczEIJLqyZzKZYYM+nHUpI3KK3Eg7OfljnU1yxSajbmomOZBSlaw/8SYiCXok/A\n",
       "CJN9pD1iELC4MFeMbPMOyi2xiaKau0ZjiQwDtc4dKnHtnsmMi6g2gRsc8lYMgbI6s5hst8XEYHUB\n",
       "gknfn/KVATkUEpshAAcvvgYOKK17rKMFCcOIcN+1kUUh61qB/0Db1FGvUAVVvFeWwPQhSEudzICX\n",
       "asC3fa2H8Ny1fplPvY/V4zB8FPANqToQ7F+bK3udm+hnnuUZFmg75unSJ3HnL8Ai/tK+jACZilQt\n",
       "qJ4BcRYlueDsizc1jv7zhmcgw6FAcm7GfJ85gAspAAALJEGakEnhClJlMCG//qeEADtMAsHtaCAC\n",
       "uol6oBQvMtp/dsAKRFyjAeb4TjqYZn0YBXZNjBGEEEd0wKKdXMUVtr5WBsNY5xYbr+s/+loHHSNp\n",
       "/MhZM4rinzW4SlI/1l+PDGokzs7sCL1I7yq/DFiVLOzJwP6xLNndBU0n7cfLTTLrupEcoc7f0r7Z\n",
       "YkGBR+SDdlavmjKwG5Xaj90hAEIiK4eKbiA/MAxQRfwsJ2jxBBIRtB4OnF6Oge6iXxNkLHgZqwOt\n",
       "1pjZtMxszkVECZlpclK1O2LiWY3rWe8jKaZJmUdHlXh0aD04QBPiKWveV0k4XWivR5E+sdSdM5Yy\n",
       "qucYP/NdMC87i5tVd2+XSB5fsX94ptyLz9xqAbWcLrfC3p6ivmwwZtFZY2lkQxrgNlTZSlZlATPJ\n",
       "jJMfVZd5k0KvIp0Kk32QdsmOoPYYuBVI5g5FAy6VWEvScGiMkG95mYLZ2AR52lVvolnIe7AAIbNz\n",
       "15GJQEMl1iCKGMxOq6k+wbpTCxH0dFS5l+AxxAdKItMEGnpHGxnA021Yqie9kRwbqJSrjQ+S7rls\n",
       "XpI8M1VpB2uhBwQrnwLrF9bJjzirJNTpxaHkR/C7thTIG2evTRIgdmodwYX9mQoBAd9jnGhNzSt8\n",
       "Hb2qYwmi1Wd0dWpV4qgWIOEggKeOZp102XkSZVl4YPdBikiyG9+/CRL52IC90k7S1oGckRDGNMoL\n",
       "Umb1CoYbmqh/ZpXA0IPFv+oKC7F+323LQVCrlC2uW8/0TkLlsygUqcyZjlJiT9w5qBjeXUdnfBE7\n",
       "/AHkkuETBVG2c43UYKHAD+e25vWdK3XAe+OSEvDkzdRBsR+8rDvLokm7QAtoquTg7Nf42Wq+GQCN\n",
       "sekZtkHNZaCwzJM0q5S1Wv5Tcizve4aVGLeQDzIersQOs5Hjhgk75oMhXahZpkk2haPsZ2gmtyYi\n",
       "qAYI1/qgwEt+Nv5sy0o4+1jB97rhD1oaHsu5vIvZTRmyBNzM2/G6yfqBKVZau+hhtBYWWlOVGW4V\n",
       "KQUyCNjo4s9y0SuoqM+56S4ZRt/xc75XqthU5ZAV8/41bG8BBBP7Nbpgh3ldAIdn0iEHSyDR2Ezh\n",
       "KJm7hEmQvsZl/6uV1YnSh3AZZ4PG9DT3uFwwR86iF3s02GyACbNA0apHWTg1mG7kljhZI8t2OMzH\n",
       "h87eDRyykVamT0Dyva+U3ZgyTcUGSt7TZlm/un9oRS3LKpIwkFG2BVpHRRFdeubxIZ2oam4uGnI/\n",
       "7eBYHwr6+02wYeqW9esVjQFaGcXaXBe/6ZcKn8sYLIJUc35lUOf5ybCDLw3tAiltrt2zZai+7bkr\n",
       "Ktdbo6+Y1XG8lEGdtqgpv6osgzZ2wqgMYD8W39NIDFCVLmNfnA5IAOMn4qA0hKWK+lwZZrMDakVr\n",
       "aMagAEVz7CR/xOGckJ+/3ldZM8+IaPIyCXSWJMIBjGW+sIu9xa54nOU0tK0w4BQJA90KmFoLLbSO\n",
       "fJjlWNUbzrA/AXw0Gx/lKA5C3VYt34a53GNpG0/6lidf0Jl1q1AAD4VEAEcvUaofouE6TU3IK4z0\n",
       "oCfjN/0D3oK80CDxe/ddDp+aR2v4I+scKZNXxPJDOhW/+JdDMxBO3Pznt5h4XKhTaO/R3hyqIioL\n",
       "Ww4O/dud+O0To9mfaxvHsUL+E1HmIajW2FPKM1R9EEXGQhLkKw9r96YgUs+VRY6ZQ1+kYuCQ0nk8\n",
       "OcqmOXeGCFXybmTJaPerfpUBefurc2Tn9RUksJjcfv9aIDLQGvhPKWpVDO/Mbuc/GBsCDlUDXXC8\n",
       "0Snz7bbmx+XMoZXFv2B/2Fc+8+r58enmxC7H6f1KUK9riCT2ObOvMFGjjhcTNG5uyWO8kIR+FATN\n",
       "nMFg55YXjS+O7idttM28heCmYLdyuCxZnjC4c+zOuzRGKoSMzpQQN6ozB94BLbk/dB3YpevRgzbR\n",
       "DX1nVK3JDRTtNrmfYpYgTT9hvV8MROKkoOkYlQzHv2JImhjmwihBec8/WOX5zt8SPirt0w7uUl1o\n",
       "Q4w7NjuuKitbb3jTdvY3unM+UKwl1dNjV90GtSdUccSCoElFVgRNerRbRfviFIr5BMZjZALLSjcO\n",
       "yekK/baM78xJKNYjYJF6CbjIanIp6qZigl94j8boqG/f5IFVDe4ueHG3obNRuN4PlrzN33H1aIlY\n",
       "QGjAmYdfgntjXgy0mavNTNQAnNw0AGMsSsMbxAT7Mgnp6+TFgW1TfwrFzPzazfe1lD9rsWCZaGJz\n",
       "Hsn5jEHYbYT2cuhL6lx5oN2VWqg9UVKtDkkY4sEPaSmL5K/7UIIvWMmy0iT5/I11KwkZRfLBO5VW\n",
       "iKlesGDtimP0qvJ1IXcEqW6HDpBB3QLx7FH3qaeU5Lqgtr5gs6d1+W5WUzpC1k5uRQepnk8h+47M\n",
       "ytvi3KYdQ3iNXruWO3LksRg6dhn2/c92NxNjpeErbh4zoKqoRFvkdlvx5z/WOQCn7f7ExheFBjXo\n",
       "dGy1NrycXiBBeX9XB4GSnIJTM7e2OO+izMqYwlkqth61PfSwTbSVW53jv8htVxXiE4QSdeVBqg2W\n",
       "yMY+ATXshLf7uMn6Gu4o7adiOfyFtE1Ne/PcpIyPNoi2J6o/X5PD0f3QLY7p/Yzvn7qMDHOvp7Ql\n",
       "uqKNsl9N9kVyJGLIJFCwEaLH7/NmMO+Ta5ug2fm81O4OL585Wpe6jWrnXFKIg3b3oN18JTVewkxC\n",
       "VufvQVabhqgFqOusLUsiCKTx31APZ/KnB2PXNygAmQExAOTcniE6UeAEyIR8BVeKucOkxpCYAnpt\n",
       "T/kXV+hGqsY098cJMFAUTH0EFB2oKMnB60zPXAhfFRU1WfK0k2Ktk3q/og9f3DFvYTC/SKg+ug2v\n",
       "uYslbvoL3pnNji7F4gkp4Pzo8bNghYGWMqaW30CjdhUKU5sTF0xOYxPleMebM5kJYqGeLmGHg7Yd\n",
       "/Pkh1ri8m+3TyIsr1uGIL+0uxw+D7jaGDF9Rbmyb9A8U9c0N4KBLE7WoIspfH7DtujnfU5meFVY5\n",
       "VbyqFfbiYhJ9Vwm3mEW6ocb2LhrGydhftnNK6DMjhos7wAIPoBIT9C51WBIGgQOC5ENqCIpDhjZZ\n",
       "6UeI76yKeqQ1O6QSXAEtkAZ9ExtbRvFY7BMbvu6JIyX1Rui4wV8Ej+XgY4kPWSA+Ry2BiqcPkw7p\n",
       "/j2oCqvNdZVHCAEBKq/zJHghuqBT8Ww0txwg4N27ayNOPa9t65EzmTfGqo09Vrc4Uqj7zvxpdNve\n",
       "JVR/KCy/dDJqFvaDdf/cu23ySJNKNfoPBGAXmiP+qKjWOVpHiHXodkA3WVZ+njYLX9XSBdNmhPPZ\n",
       "FqQc4uUj9YsNAec/ckmZ2WhRfFWDQ2+pgC8r3u30P77wnf6kBbBsb6A/3gIKW43V8oyYVznqRv/Z\n",
       "idvEU5f6rW3y15ShUjScFPbBUcdXOZEHAw7uUeZtOo8nw8c/BBwR4cp5wXSyZb/4eSo75ozIvh5z\n",
       "gKUnC4fnQqPCRb+/M3zch3Ws3XDmTaXsKKwYYn9Y+3ElcnGDpzDYdij7d6RKqPck77NS7c9vTgRY\n",
       "Eyi1pUpj310dBzQJO/pIfZ010ESTQfhiws5aJzSNPxi9mfTPLB2n8mAXeUlvGjZ9ouC5czG6nHeO\n",
       "CY4cRGF0LFe1v3wa0ecgae35NeMI+PD37soa+buZHqmybRiQ4yYjnKfYS/xGXxwdZSa1kBOy83y8\n",
       "qNVW1cpwfTrK0UALkcydKzGsOXylpLGoOshzwD1xSuYP/r83rTPhjtz6kbU5qGE/md7C/ChqOpXc\n",
       "z4V0ziulDpc//obT7mWop8/EgpaLQOtoLqLZ199aGpFnIf/wAAAK00GasUnhDomUwIb//qeEAB2c\n",
       "UAW61DLSADynnvt4h+7vu4W0VaDB7/RGNoFr1QpCBR3+x5FAXrzaeF7m2zRJMGIuRnvfOfc2ahz7\n",
       "zg3wmcpNIL167TRxsQTNrjgmJ0V/0RKmcM5I5N9yOpH7eZNQn6bMLVjt0vwBETlFhOUDhVl2tmKF\n",
       "bltCpj4vx44Tcgqtu9MHCEncr16kUx7mOeil0E1ipcpHqC+/UfNBYGmMMz2sd1wZUf38yfYvdBsE\n",
       "ufQh+ISX4B4S1wUjst7Cph6PhMaaXin9BVsnwdLLaonJhNP44Mt+GrEjGsEWXTn8NNkK0nELZSP2\n",
       "2sRDFdNUn4diOB3CGwLPchCsG2sadAVvGYbcRancYHRPNl/jm30UMMly9XcB5XMX2mdM6nj2PHiq\n",
       "3pYH/e2VYHCgmmr+wjz6mvhNAGn9uztHIFgHnEoAFC7uOgA8Z6MCR/5mDalCA4hH/nOk1AMAonzY\n",
       "KEiSkZfudJ1aEEDwkup5LzmCQ6rBRmLuYWiWV0lI6ADuV8AGPf1+OpQRLTabo49+v8oxfwrEhc7P\n",
       "PgeD13ZJUSDkt6TbWqxC2zMKm7zHxacca1exqzyGCcJeq5nasJsuHutkOWSWPDhTmlDbhzhRih8G\n",
       "lP+C198QrBBYrMTmJmbhNQDbj+uIo3KbKL2wDyiDusRt+nZqGJEBV8lL9sRJnl2laHe88nCw8oNc\n",
       "TWesYiAlS7ZEBzTS5SVXiUjGfxcM+S4tJrOrOjGeKs5Cccs3Oyj7TtOOSaVtPS1DyUsAlwihHOjy\n",
       "9Fhkt2MdvfvH6ukBDGPVKhMeeNjswybKKEZqs/VgSHmI3+M1jqw+uevesYYmEOiUprA/zmbNyXXq\n",
       "Xzf2yPPj+0lTN6IP9JL3P9fIjVEBZNrYreHP+rc/hmAb5Ydq6+BsbIudoyUruNETOBCB1ePZSbfD\n",
       "UILZ6IQWEmZ5IRcQqRnGwgdXYwyQYL7Iyg19rX/EcgqMtyLrJZl8iGDvmWDb9os/pxMkDQJUAjZ/\n",
       "F4BNL0EblXbLr88KIG3ne4PSvj3ZZU57kcyomU+haN5KPcwcyIXoJ3cFtRHOWlVdCUlq9JNTtwFp\n",
       "Y4fFa7Pop3GnuY5x9fgG+j8Wuv2W6jDsX2t5nHClyvMqQN8AIa/a/46nf30jw+NX0nJT4UJSXRS1\n",
       "ZmEqf72jreXLI506Utupb6ByByWfGMAn4PiTBb7s9JEeiWiCVWPutcC1fPdeaQ49k3vDrSsa8+9c\n",
       "OWlMoyZ6s1GzUU6lrsOaFuXykvFWb6tu/Mw2UN+8lCmQShm7hGdgZQJporXLS3N3slYXpXlQ6Q/h\n",
       "ANLtXGh+gbdivp4wzOL76d4OYKWBhGGkEVY2e0jxX3BYaYkMcpHnmPjTvk52cLYJK9zJkXqDq5UI\n",
       "DAYliVzrT7e+PI1gRBkhwwMhJX6OTHRcKqn7EHK5U7gC1a1HXR0O+JO+hJOlJEPFaB0JnwcVPpha\n",
       "CWJwvE4u/Yivj6Hp2zNvsifCA/wAhLeCsAspD1RK58ndUzhxFulAFYwhrG/3yA2gS9ApZ/pX+2SX\n",
       "5Rmr+OyRCzhNENjwDoM9l5ST4DrEdddrZ7Zn62z/V9xdCHdFQuqUQo/zCR4mrFk674sjscYR9KUd\n",
       "DHO+asBQBsju5Cc+bChrm5oDPfpiGAhdUP2oJUG9Y078lciRPb64gglzlhaC/AEocD7NGQo+dFv+\n",
       "NtRfqp+9+al3weVhiHFK+y2jlnAtu88En1WtLhsdFMl15A2c64JwA5+rCS2zkujYTmuFNI8qdxqI\n",
       "+FK34+7cb7X4YbfmiY4q/z7xkPJTsUM3iX1eSSB7TF5clNxFK3U4iUU7/M+Jz8gFt1C8Y68ib8kh\n",
       "xdc24oLfRzadPR8vyqY9MfgIXjOJHyBjoM6RL47168439Qe9d4w3BnCI8upCWAVCpobpRhXa1sKT\n",
       "k7UK59GT3lV0k1h5/RFYWqSDOpseEI5DPH/Z1XOHlH7Z9615etlj1Ej3kN6uutNaobgX0hHZDrk7\n",
       "sHXriB9XlcVXHtwVGdbBV5Vc2o6HOZnY3RbNF9BIPOh5TV5b9O/WlLkpnx4Hci7x9WMuar0v2W6j\n",
       "K8kufrmiVofSNVEMybpSynj5NIOFxDJmeunrngqtRLdHkEJUQx4cuNxKqDumYCBDyyRmbne0zHUW\n",
       "uUFSWJM1GKHyRG5ZNKSBMkEPZqftxIbVK+BbuyVKEADGrufnCQgvUM9T2GrjXdtgeKCrKWtMQgCp\n",
       "GZMHq7sut1lDtuoPLr0CsL+5ekwov9jdhanvojOKfQTgNH2OTIDY6WtpHESJUq33wMHVL2fjEE6n\n",
       "afKvPKvsrJ2jE4+q+5MRTqE5BdzVAG8UI0SEXrfBFbkFCXJGk6Fm7Sk1pPhSAEogVeLJj2xA8Fhe\n",
       "2zNKkFhrVo/jJfH+0FkDSkNqEiFXZEImm3fP/+GlNjxyBLFhcMc40HeKKBmALnjuVd8ha2NwNiFx\n",
       "ssvD2Mlybt4QXyAprt5jmahUU4cDiryilmfVrlYZEWj1W8+P2OLxOiIzojAnZAES5irTiz0PDYUi\n",
       "JeYIrFD2Qpn7nXuMHREfIRRORR+t6MFc710YtVk6rPcB+m0dGwn6knmZoL3p/HDUGRZ0JIA7lAGf\n",
       "f9k/u86L+XLSC6e8W3Vcm0fXPOFXrOaaxaAmQ7aZzeuly45WWFrdiZKcH8FcQHfzI/DM1kiXGGgr\n",
       "BI5V9U+GwovVJZ66by9nc2ccQqdyZE+RW9dtQprRYIitHgSDP7Pc+iUEe9rlByctBsKKITqUrpyD\n",
       "zYJOOitIpsieq/7totSpTqT2IOAqXW/IzZDJ60gIgU+1xDnvyuNsXOIPtmHNjsKA1VpNqwtdYMkA\n",
       "BBTLGdf/8NwtfOfg9Ncs42j31XkwPlRqR7JXqrxSolhDQMGfk/lKY/9Dxj+VDVFxXexDa8oB1U9C\n",
       "Hqdhs/V5wfvMzXnz/TmNqb6BAbBoIcCqJuXJ9mOrzeUm5fAip1+7oo2SffBrGTBDq9IzTCpj1UT3\n",
       "X+P+KiSKJBPWCyFPTKTmxAFDrC7MxvvA6t6CPhePhluw/1rOMeCI+AyiE1SiBNMOO6EazofaDc4l\n",
       "XJ0AavOSYV7CC37X+lr+JkK2WeZF1JsYq7THf3vTkqOhZqq6D7KsQF7LvhIiins14XitHXI/cVft\n",
       "GLsNnqlGGtotv+4gsJv2DvzdtgQkepwF4hsSax4QN2bPWhVC486HvEsS7danctpFQKsu3Z6fub6b\n",
       "sza3fV26iqOH8CNRXnFePqPKNEQNcNlthVM0W0xmR16Of5GWLb+fJn1r3/GzR/06Q4yRrBCpwqvK\n",
       "bg6LAOADxIVmPaqzaMplP+bvyMztrSErLHufXhthVrZcj+wtjyiXVsoAdZ+NldqW6yaYEIUyqZTn\n",
       "0JruIplMWVTzs4JGjf9Uqao4dfuhomEch6R0ePbvpzMzSNBHCDhTtDX5U2VLtYIIMdkn6tWnLAre\n",
       "DjGEwjnPwJWCaZrGJvd06cSEKL+pJUiWcJ5CDzrQgpyBk6huZNZ9mJIlaN0YLvCboaEiQIWkE0Qh\n",
       "KQrHgQLX9e3W/IzeNTwWRh8tZwdViSGhUEe53l99B+c4gHnwuCD/qD9K3LWZEtDZ+2gXk5zxEI9g\n",
       "SF5qWTBlf/y0o59iPMSPbaq4VfrCHlEVPCvt1ccNp5GmBzBUFT/iJk7SEb5lEeqr21L25RJDPys9\n",
       "hmWaj8DI9DAJHn8m4S0nQZ0XAAAJG0Ga0knhDyZTAhv//qeEAEO6b2o1q8aowALYPmcqVL4Ah1ED\n",
       "rQGAHrvfCZvcJv5cdng7XVi2x4ZW+8b0SUjpezZHeiOmImo9+BUzn6pzvrdXkLStbK7ctSyJfqvJ\n",
       "FOMcOGhPqczHCaIn10u2YGipTBMCr4qLkoE+O8+0UVrdl/mEIWS0gqKmNZRkwlFn28u5MyIN6pHp\n",
       "NTAS2RuAoaES54wkI2+FjyVijj4nKrt9aHW9TaQJ0CKipwXpIIADoiflL63U/8t7dL1s6EXTNX2l\n",
       "BFpPnwfBNjb5pPgBsZKtXDfU9JwIbYm5opl6PZzlecoaRguYf8sD7i+PgmqToy+5TWcyw21WaEYa\n",
       "k4GPd2CWj0GQNUKy2hZdj6/KSAHXKulmVQcGW2/UQ8qf/RXq2KNW43IDJi/JpvypTRiK6ZC23Fdl\n",
       "UvEuo97oi+06dCsIi/Mk9lM9ZimC18786wyCtHpFbv/k2V1Ueig/3CowdqBG7k3hWm8sZVrUK/X4\n",
       "hszOWX4+GYCE3AQB68ltCpqZBqxb/0RSEwb+LUlD+sTR7MUO68REQnGdP+Ntvb/maxac7A1UKT/e\n",
       "zHAtlDczIoqguTgAXgyOPtSaNFiKwAHrFCj7IAI01JRr9MbHjTOrTpbAymf+SYuHIH3r3eqlPUuW\n",
       "W3g1EUtqIyITsyaRsHGqAmgIn1F0h1Xk3ZfjcnXQjfHz2LfEGV2Zvj2j2Ra3dDr4QD9hdxcErDig\n",
       "ACjuDafb0hL+UgbXBC8+wQVTCszhcSu6DuVWdR/vo3amvV1YJP0P7SKfh51S/4OHi1zqymnXQ0eU\n",
       "OTnU1LqEejxjfhEvOlx0aqkNk8RcaDi9Sr9FydWQmCp+w7BqZP+kpQsuivS5n/7MZs6du4KnreT7\n",
       "jXjt7s3IeXMw0QuYwus3ouXhTKAPC+vkpz6rbhEjm+ohTyf1Q5obOoT1u+mKhzCvmgjqODo7w4sQ\n",
       "Et0286KhIy3aXX6G2aVN9WTFhSanvhaCliMC+RLS4Pfc8pjH8VeO36UjHP+lO9vyXmEkQyH7XFcI\n",
       "MuOdPZkOS7kxC6SDMkS2CFrm2l3MJiy7JK8DPsw36M61W5x7crA57Nt48J3LfzDci9VZCgikdEsx\n",
       "sSS0Pl6WIYjt7lEMOifC5ZQZO8QDkmuEiSdadGOp2K2GDqsyiz9vUeCM8k/3/7EB0oGqUAddUx36\n",
       "1pZ9GofSbaMTOOhOSNJX0KjH2usdSly6RfDo2toShpYrnvyo6eXc873uIU6LDl6tUKgjOELutRJd\n",
       "HWggyxlgfYqxEka0bICDeWHfxSVlpxAKmPndpfZH++T/op6w/wtaBRVfWe9ZIyhj2pg60QDPPCG6\n",
       "JI28YlHHZ47t+l+7LY1TW+RVKKd+x0Xm8y5QdiLk/AC0LkA3FFNSLTVQMGcCFsxJNE7SSSk2Le3n\n",
       "Ac8wbtIGDNmn7W8fe78FUaElpdRtSQlDF6QWyYBmPkJkWlTtKeYzSMwRJF+FXDUNhnJoXDydAtXZ\n",
       "3C3VgIslaKbg2ZP5mkcr8IJRc3DB5BYNhrEXdryKQZnhPQNKwj+//hAgg48RxfYIEu0n2c9aymIu\n",
       "0Tg+5Fv+J8RsVDzml3+OSCKs5ZguvNkHkggNm3kpi0pQrmayz2GrNs2/ArdSOai6/QpgStdUdQna\n",
       "o/PuP6A58MDx7rrg2V+lsgxTYj3YMfj1alNXqHCSawAknuYAoyZyRIuF1OnycoEoP688fSmguNvZ\n",
       "8OhC4H03PZ31aa1apJ13Wn4zIwNpGduQRvAo5uNDFq4hL0U5iMGThpb55IhTcltJvckooQ60Fa2B\n",
       "4LJELTDTyrjEFOLNzBEMP7BkdEjt0tNGlg5CqdxNwYWgyPzf+/PCYDGBvaaCpDevoFkiTSPgI82t\n",
       "/pYDs+/OyfIAECPLOLF2XDlJ/2ZJl2jz4wiyRY1yl1BIq92jW+IqFTIMfF3Tgg9LkHVTmyWoHPRI\n",
       "Jnj5XjNlTONrho/VYBuIsBlxHWm1GtG3gNiRqH5cfkeJgRq/Qfr65i8YIcMBIUPhn004KtwtWzzy\n",
       "OaHkj/ajduBuBQJZpRdh3YyQchWYJKkCR3p1p5j9BVds6sjy+CzLvHx27s11fILsJAvvE/Miqsvf\n",
       "ssSmjAH38A7F8TMGkTOYvnGlbCHZT62ALrab1DmMGyClHc4GpuQG8aIYYgg56+UhviKdrLuAV8ul\n",
       "wmhw26B6PHVFmDstcRrFgc1llc1u4b7DQaRFOKmMaVimAgz0D+6olMtuAp4lKa5cwSlA2XxdTk7l\n",
       "pwLj3MRkswENO5tEZ3Ta2LV34qav0m7rygfvYSNuQZmI3VpXTwpxU1X5MGrLnSHK2Ul3ExYSL/DA\n",
       "DlFN6/6g7w4NkOeL4/qyrF3g1qn9HbPnAqL14Q450xoN6XZ3q2Av6z2gHDXJmTVbDuqwDlTS7mpF\n",
       "djeD9kPKin4/YbGEecZ8MS3J7+CPsPuKNHUkDZqDfM38vZJDAlKKdC+4qoRV72kDnuQxvTrSYWJx\n",
       "EjFZxPHkw+X5YlSuEknHdtm+sdusaIptycYsJmodK9pT1xf2F2cRaucFXYdJlNsqH/MqwFvvG0kS\n",
       "XGKPsX6xPk9ymSh8REYXkl4xEiF4lWABcbXfSmNJ9exLzgz/Yz97GnPw3XsdS0uSeAh/3cSP0cmx\n",
       "0GzARgwuDt2XBXuIlIRbKsBnsSkaQ2CuKCLJt3xQfCUL6hgKXClJl2L2Dxq4FPILVETAOSyO0FET\n",
       "+KgZmtIFmwIpI5rxu0vURE5cmTuqcsOkB0YrxuOu9KajIDSzhjEcZtgfQN9Yj1u8IUs5nnpadDns\n",
       "1gMutrFN+xJq4I+WO6tVl8C7D3g74I2yoOCi8kx7trGdT1hyAR/oNqNPIR0d8Owc1FmQVVhVdXqc\n",
       "l+jh+4vWjxscgysRbvfg1W5ft+jxH9fJZrFex7PPF9Hgj+CpVV1Up/6Dp1/PzO2unnnIo0JtXX00\n",
       "oToQtkCvyTjnJksnBWQwHl6TarSsx+oHLhL/ukhtdpebtfgKrtnSK0qoCX/2ZvqnD/BZrFOkIPWr\n",
       "NQw/kASI+QJNsB7Q1lGHsOk0+7neGjLDjP7ONQmxczmDkWIjxpLFnoXrN5pZs2JzHijfAH7C8rna\n",
       "plKu0F7NDKsO5vjJAUbF3QAACIdBmvNJ4Q8mUwIb//6nhAA7nCeaQ9EP3oATkjaDN7AAg+BYS4kY\n",
       "l9TIZe4OiHK7E89xTRxdUQnfVLggqzsAd3N3fgi3cA4U7ywSZhFYV3trjp2X5J06WfbupBZl++Is\n",
       "N/nTjCCAjjtGgpZ1vSDqbMOQNlMeviPBAVmQQ6t366fZE8/aD6Ecm0h3GDsrgsYryt9bPYU2hFOs\n",
       "Cn6YtAXgsWyk241Yo0W0j9iSXlzu6BVQW5whuv4PIkrfLypkhxQRT+E3rAO1xdzr9bQNjoG2m5Zj\n",
       "3lypkbZjXFntLi6Vq/heD+vWvDYRsJgZulCLYkhe5i7gwtSGI/ZlUIgsPECqTwmYjikas6Y8GR1B\n",
       "2I3NsCw8Y35kV/CeHfUFeRR/aQX6750nXNOOLefdWfE4yl0j26Lfhf986AxnGTVlgqIGVAubPoz0\n",
       "bCaTihQ52w+mGsjGG2fahwP6u3/4jJYwYl+6lOkNOO9RLRTSOEsir0wbWE3xbht8bN1e7D5QVODW\n",
       "lhfoGYDiorzGPRo5ffj0ONmod9RMH9vIJzZLCVgv2nDECJ+UAsRYooy6zWNlvkIwemOtE/NtR2MS\n",
       "hEtZL/HHFZfGNzNt5bstp5AL9gg0ZBJsWCUSYaTHAm8MBX3bcMCE0s+H6wyNKeQPC5zd7sSZaLCf\n",
       "dezVg72O2HlBCqNwIgx/IupTOzsA59fdj/dNBk/ozsFAeSXwyJoMrQtPrvdfIMmWs2JEAmQuvFU8\n",
       "u1VNeT1n2sJxFSRa+qWLzqI2T3zZolnEOpYhAhAeXtWoxa22kEarERb60I4KNmieBHhkatuUCpSd\n",
       "E8Toh8T3QygdbJOJ29tsYkcFrAzEq4XtgKh58C3Ic0CcCEkdSnC4aU15YMPPWfdMki15h3+6G2f7\n",
       "gMT4TRTPZAqFUyPFBkdrj+Ajj3Mi6njB0GFZIxwHtQTwbQzq++k7vxjYTsHUt6plc+9N6XMu9Q1s\n",
       "Y0pgEtwsPYD4fkB4PdHd7TDX98i1C+YL9Ryx1lHBAZrmkss6NZqvuMX1i6nyFRlUtX50yiz3MKHM\n",
       "qNKYUQyB1dRAEd5XZXA1w6E3LWcKh4L8ZvNidEJL8SsdJQRVhtU6lZgDyrF6v3ThfggFTkOXQsFo\n",
       "UR4lZ/LtqK1roLtSSAWsq+e7zXUn2VFT7nz+MP0wPK3id6Dpm68egBKjKO7Eq7eMhYvgfVa53wX8\n",
       "wAYrBrGO9Bd9bnx8qxAHRnNvY5LAX1muUiDF5NP9PyKW5G04x//Pfwf/7jlh2/kFapP9Z42paBDk\n",
       "numnrsr7JUeNg2ZTl/yy6KHRELZAFcjPOeJ6akmz765B6N9qO0slqqJ1RUEn65KGYyLEi04pM7j4\n",
       "oBDAaHjgCsCEBQhABbS7G2XxYFEMxIYnAsAZ/PpECZFPNXRxxUVlaEnwUhLQkJ3UnO8twfSJ23o9\n",
       "sWzZavckeQa7U1DT/373zeD4YFOeSyKPlaUlPdcDAJ0tbuCdjg9DHLEvYX5HCT2hw59uKtNDNqy4\n",
       "2A+T+htzobA50OZ+nAQG0ZqBfUZLAaOZ10FZjK0DTd0uwI2LQVMjyLdMimzm/xzK0v12h1fvNb1V\n",
       "gFs693JnH4Bqbxap+RgVj4iZII7MSK4j/XbL5zkLJduv0qINiWrzSTkIRN3IRmritaFWuzNh6U9K\n",
       "AazRnI3dE4O/vAYiaiwcXnh5Kh9G7jMSqj40A2sZpDSmocjkNJpJKPq1qgHJfFC5155uIAE2i/rk\n",
       "OgPwCbfLUz3LfmXJBWO4HsOP81ixL/EyctMjDzCwqbYoGF3K+Ul8VlpHzPbrBv4WAN7I9fnA9kZu\n",
       "pXg6fiWPIzg3QBdbW81vhqYA+79ThwGlwvlALcZqo34vyGeYuuXR3yrJLqk724IdQfuA+qCCxdDN\n",
       "Tqqo2kTAsk3HN3S0yjrmQ0gAAY+R0hgevD56nA9M7wkM3qrfbpvijf/dOisv4wALyQUn5mxEx/bJ\n",
       "iGV2I0zzcvcLCNrFLwr4TUMb+LhGDnWo2nR2aueX4wXy9dNv8tSb+wnNVxk+9f/7vLymMxYdL5Ru\n",
       "qVr5ol+0j7oV3ElWfqSHHla9i02cXJ6XSTKt6TglaQZNjrymdGieR0UwqnXQjQJ83gRTeFj3fOz/\n",
       "vtn2U3ze9vGFxdbdHw66Vxb5dDR3In28N+J72gjjCC29Lf9pulYlsG0vnkTTUOyLfl+W4QcRRhk4\n",
       "U8GHctCLxlFBuTLASgTTVhTaG2/H7oqL8pyzxPwmhDEbKpWdj63GroPIjoh4SDjFFk76G5Nnrq37\n",
       "dyhRlLll849Dg8VmriyyHF3BylsFbiNBoH4CuN76cBIdL7kOKkVfde8XDLrpi3pYVHtNg+3dhARX\n",
       "JEWC8Z39bH5ywjhFKyLjNXJ4bsKbnFWjjgxjhKHZVvEtuK2vbSLOnxyMGnV8LrVu1fYdzn1e7uQB\n",
       "Cr3cOz9S9ZZeEd1CQtAEIzvK7zUt4sAhoR9k8FbUa8Hz3HBwTeyKjuhji6FcC40T9W0e3UfrgCCb\n",
       "oq7cglPh95d5OHaFCEpWaOtVhPq3c4MdLwwrziA5WJcq22HU3vWQ8JyO10ejMnfnGgNZ0IYineTD\n",
       "UmsW+w6VVEUG7z7PAsZvdvPf6/ZFKA+Ce9MBwV+hsFy0YbJkFYnjJ7wkoandrvvVTAXlHcae3Q99\n",
       "RowuBs4nKoV1d5dcg87nKwKOyXnoD/NMvQEiXGfWnSalXfyn+8kuJxwAGS21zE8KCOOq5EP5RsRB\n",
       "NMjYp/tiS/maH4og6H9usTjpg38wiHs8cuUe9BboopDCV7ZAx07zMweVMCMpKnsnslTaKz3eDDXC\n",
       "31T9WybuJMjBgN9HlMRX1DeptPnm70ajhdV9ElTj3H6XQt5i5dFo2vKjI7hIrrzJPuAJw11Avek5\n",
       "A8JM6A47OeqhTrqnMjQAHqMp6gS8HIRxBRrPkZ+eBAcBpRa4gAAACDxBmxRJ4Q8mUwIb//6nhAAg\n",
       "tIOhzQB6omcnxiE+A9rd7RxGMTwvoelHOhOJq7rNwAUuWd9RuxQVIAy6mHRLTSYe91OM9lzRVlZH\n",
       "afDDqGXYBvTfialVybNOw+a3teW24FXIWmaaScyFcQ25bqnS/pazQlyArmZ8AjC4YtfhiQHgkpuv\n",
       "JpCEo4pInNL2m0QJQ4F+Gs3LtXPHqIo/GeMxbzCDF5PuDNCeuJpbZ4NycTde1MDciE+qJMqIpAcP\n",
       "seG46ocmD1hq7muq6S0neNu9bRE3Tz6RlRXyWdfQSIT+VN/Ye+H9mmRihchxm/jHqt7NtEim+/C1\n",
       "WsVl0NS1uG2Gp0qD0+q4EqurpwVGecHkyZT97vTsmU8ECvO/3Jxu/udsY3lPcijPL9gqnhQsY3II\n",
       "MqHoqGxMXC59bpOefDfRRO32XpMre7IxDD54lbfA3r9mYwU5fLd+TqJy9DLvCG5wMIr9PjnTuyIq\n",
       "6GGjhRWXL/dtZySCD/74QLEph2ledLHelhjJGxWNYUYQ0aADCK4qtYM/OsKS2tU799btrtO7QMA+\n",
       "aWJpHGLbohJyVQeTbtr/5EDKEv/cxH3WB3B1o0ecDkD6WkK3v5KGn/EY4DhAncdypcwdYgbM/p5q\n",
       "qJvT+oBNjCc22zJ28XT4EohgyfrSIckuThKaJobUaTih2vrUzJjTLduCGW8E8XnaccfTvjG8iCd6\n",
       "kiOuponF07XpPEyqcFSWSDBPixu3xQVIMEextLqOJhYFSAPUy7zrqicNxS44KjxJETPm3vlJvCvR\n",
       "afDPYFqkGU+2eJCC/fXcURLIrqWg3V0lZzoL7MjhHzZu5ZzxfCL4OwrmXxQqSoo1LQNVcLCD7TYM\n",
       "QciVKvHN35MKXJFZ/xCQVWmSwUbn3sM/5rf6PV3TYLpXlTb1bU8DdxyE69ArikwYCSyaY9hBu+Rj\n",
       "PPC8lo2S0gpjs0Y1V52WcC4hl3bla4IPGG0ROY6fRkBOk+t/+d5TgLSq6tXey+xM9hj1tmYbpnPZ\n",
       "47ziFfLsiBBlaDWqPGcpkIhGmx8oMsNPT3ije6R4WrGxVGlFk8N2Rxl0LBwREZX9+AipFlOBLage\n",
       "+od3D5vdoEJ2xGdB0LaEH+3EsEE8uykcVimYTsgvDZMNrI1cB0zV6OXjbah1yjjlCK2IC0KhudJJ\n",
       "jUOehnVv1z0KkmF21GljdMudWQc+NMCoq/cQzLOyiI2im8peVQUfxcuIkgXwY8ThGLhz6uqqHSgk\n",
       "NKc2nQR38rJ/c48PmQRQ6qYeELSs81pWmOQQNAV2rRCR8R01BudvGnigGvn9/0PFJcRiWun6HXc5\n",
       "5Eenwd51guoby4cmDDttkeQm8bcRKm9y3fY4hBYiYIt1vXpNZsGd4tLDuO9AYX1/asl4JEyD+GcQ\n",
       "JfcSbfk2fs09XlSk2NSMVaWySeozuQl2SOWGFUf2rbFNfWtxeDRbZTfbeyPU9xTfcOOb8E64wK6t\n",
       "XTgOZMyYPZhAgsja8oMxWHBFHceJpOqRLZGVRmnhCIlkgTt7O97ixL8GTs0IRbX5yFvRHaTnE0Lk\n",
       "ozmV1HnPs1FheR+sHvKNEuWm0RyiDvVAdCluPnpQgf+WtBcLk4sw4m2bgKGrlQySFR03K0LVu/a6\n",
       "QSO/LeHvAyIFs93C8WN57OHmzHItPh6KF/7WlrHUA488Lb8/RKvBqp4L/bxTzu4umcqnwCUtKZrc\n",
       "qT0Pedm5bH8HHPibTYv3eyV1fnxV94KW0Q9zMrvoeMTsJ6rVhzKmeL5qirQ3o25jQob6xkmSbpqm\n",
       "qYRRu0OkUZtdS+1GwlXJw+LMR3fgGaHV9PoFx4dWzZD0xsyoVhWIsg+Q72bde2c68qwYC+IkdG4f\n",
       "cQLCGu+BCty6y0+FFMyNk3iGiDh2LnUqFQBhZXihIJZjWeR/2OxzLiBvwGi/uc1epr/2i/mf974B\n",
       "ys71tICE8LmcsfZBviXExCu6pbq8O5mw6+uC3wco29CJkzhGHZPfG+nqSft8y8jPKLR5qSTj3PYg\n",
       "YGIVqfPQ1Y8f9azsi13X6frAs2Hyzsg9oAuJ5jFUvyfksa8E49PNLekrZzrsP3vkceYH0lFK7zgw\n",
       "p6vsKZVvAGlwmHVGoztZGWwGHIEBxru6kOPT75VXNXVQ0Qyk5rFrnlraTf3kWVo8j1iUtPVuPZNw\n",
       "S55fw8RFgnPY4J8NP8shNH/mll80KKhpilVdDV1IFBq9DDwtDrJXitm6NeFCsSdSJoXhwKtGkU0K\n",
       "rfX7+7TUmw/vxK/Kv4jRSYFVt12LyqGPGCI05qn8WsEnsYC68pxYn+ofS7BYhSow+yIHQCBAbJbS\n",
       "0jaAdeFZ+5REwUFrS+bKRLJtRwtVdyhfx/KEyErC/Fzb4cZV6NXYUCcXlJq1Co22CkkH56zfpLyS\n",
       "3JaEH6fZmxembYXPalKtXBZ6LpBW6CbLNp6nOWZY//7pV19lLQubzYOFiFlb2ogYA23UrNGfZNl1\n",
       "BuOgIJxAQzS8yXPXefLUeFOor9skjqTGnNu9UGzJkWdrE/xYcCKH82u6IYcJUVf2Z//jwue/3JgK\n",
       "zMIlfJ0IejDaOpvlZqFZH2JMPw/qKT6teT97PDVyW69xBgG3sv8EXD209OOWmbSp2Exih+prDE+C\n",
       "MakvG6xutfEp9HW4nPNFf0lZHVQvHSnpkNgNN68d2o5oRujnrxQiUvEfsXZV/84NMbaJdk/EPVgN\n",
       "v3tvm9mIUXzqZJqzTMOK86kPhjUREqrKEbRyYy0ioFMjBV51NtZO6y1gQZvYCPJJKWU6HbI0OyEb\n",
       "CXta9yZjzsbztVuyk1rCrIn7X0S2YcN5mtE+KkzF0x0s5As82M4JeAAAB/9BmzVJ4Q8mUwIb//6n\n",
       "hAAguE6pptAHunCpr5xOY2ooyR5H+T3IQygwQ+CXRJQuRFAmBI8BIeYyJFIp1QvU1ao/1i7X6njV\n",
       "uPEPsVJqmU1NK+7y9w7FCDp5kWkVTlxn5M3HwQWM8514Y0xaq/Na6VXq4T6+OVuu+kp90VS0sn2r\n",
       "a+5+C7Rtak/JOnFhIo3LCauEIPUnHk4mDLCAlTokigLPQWpxOkBmaX/pkRHHLjqX2EYYkRMoT+36\n",
       "Gbsk5j50UZAoHatf2IxK/WJ4jvNVEIc3afkDQbTat6n4HzyR38voRdvpRBVFAP4YjVr5iLRyGpYQ\n",
       "OYILK0nMlXjj4NvYiijYQ2nZ0OUDs4C5dkiz+wi6SXrEbPFH9U1SXpiYyWUY4H+gWvFriLiKbr3z\n",
       "DCRgfcAzD4jIhdt1kJldibfmOjRPGPuWs2lT3MyPK+gMCgNq/wNNEr01Qi0NEQzwqZ2ttfq/FhiC\n",
       "KnPYEiEMgFoS5Q4FXZXXqgU93HmYGc3uW+SmgJQ6W5hbs3pZXcP8HdoNPOaVEMmf74axpHi8gJdk\n",
       "QZbQHYmgoTLnaub16000wLFbxWhvSP0/DxX/wyXKAKZt7bj31Fydo5pNUYFFkkI11yYxxpYCDjrz\n",
       "uAXgRbGkSz1g0wrwBIZ9eymdXkSSZszeiR5FNLGG89vg/dWPJrnT+jkZCXZ01HmltJdBpG07qM3U\n",
       "TrF47LzRBqg/Ng/9m+2PV9g6unInSH+YaWD7x1Li4NLlkDjQh1v+OHwMtQfWt29vn05KQOeJtucJ\n",
       "3njguv8EIHehR7tzBAcVEVfT+Vgtl+Sxpl0bw66p4YzMDM5fOLFSfXOKnPrMO/oyPIDvllVa2SHM\n",
       "Vn8ys63Fam2OOKTe81mnF/dQQmKvE7nsUpJoRkJuuGle389fPtODBnuwf3x1oLqsy6BSoWbzhX7T\n",
       "HfSToEPOtzCwsAmncHyYW8+1FthU9uHJ1RjvoK9mmVSaz1MoVBwDSCJZfIfayz5MkCG+s2BIdFo0\n",
       "OACQ38KQDmcJ1MJEjUNvtTT65YY42Ap3/l1VcCAhY73u+MfsO4CcUbmEiRUrUL+tYsBOFfNG5Xth\n",
       "NQiFvZrfFvhS+y6WPO6zNRZABMLF2A4HM7vySNT1H+ZZGT9MgJxnOMV7+x/Bnr9z033T5n3Dc2qh\n",
       "g94JDWR6o3yckNu81v+MVvlSTh9PX+rovZXbsk9Rw0b+ldMGBhTd112mHk0/gdj9494oAJytiyGV\n",
       "+5NoWGUrk3RLoIUlaquMzfwqsv7UAKBV0kMsh/ar8akx5gyqj7qPq67sLw6HxP1G9/LOr1QNoj43\n",
       "835m6tOgT/2ixTrHJgtdEQsNEMbUsQX/I9E2PUlpYGClVYNE1sbrmGuopoMVSv9GWuT2aUqKoP98\n",
       "LUthWqoCpV+kcjPaqF+3JKpI+pxxRALV8w1AG/GjETZm5j03AioLuDoFnz9k0jqwgUnbC0HdrEyd\n",
       "Q0FKvxS80HGMm+zN4jMkTeFJCNQIQFjZN62p9AVLYOit79zEkrIv7YLyERm1Uy6/NwrktzNaEMRR\n",
       "1cwzXnkujpXFGBdpsbgOyGZruBc+6P+g5S9sGvK0Z3xcmOF2IDcLS3aA/gPXmVb/QRZcu9S1pRZN\n",
       "zDUMMNdh7O9tQZd1fBftH1A1N/ICAqjS4Q3wYUF5e6bPMyNNjg+j5yYBDP4N0D+desX7I3BNBgeR\n",
       "jyG+uMCvf9cBTdWkwi9nQE2TMkxioRPi99tLpWEOnnGSnHyYJi4qRAxtMH7ceIZjOxZWOqvkdcry\n",
       "ra/1b9FHPhdjEbm/fUO++6jxI07nXL6wRcNaquAjUQiIe3IAk01Esc8v4TErAhrsnyYbMPQ3dGBs\n",
       "2dtZWlTxMQ82738Xif1CS3m2IDqfRWUTG/aYnC74rKfsHDmUWCVVWo8A0SC2y3igSZ5DN+FSom6b\n",
       "FSJScr2/9Ua6fsS+iI1JCH/woAuiskAuD/ds6wipBT3+CqN/2kZahiuxcFtXvDi5FjIZ6VK5hvs7\n",
       "AI8A1pkfSNh6GA5JIn1jhtkih/DcXVCLUj+q8D1qhGdqTsniSch1h2S05vsEioTmITdvMnrcnHLA\n",
       "ieiOFvUcrtApI97G/3SoxfZSIyYAmSYZ79V7Fp1xthVCYVTf/VMBVr/MQPKflrMzbpsUW0E9Pn61\n",
       "cxx7EE3ZWan/+rPYifQdLDeOde8wyS2jaong9qtn5/okl6Pxo/22hSAm+3qGUH7el/Eyh5uWUVYa\n",
       "YS00qdH07gOUjQ8eEv3tLjYkXfUxrV/YOmU0HSjT+MJgnJMVIcUwVVsn3eAJI4OZEGcmvAaK5BON\n",
       "bVkLvISLJnj0E9IchFAvs2ivRTnn/bhqZm2tpuzk+LVA/AxDaqcVyIe7/+RgFOZv7R7bIJx8Q5kw\n",
       "IoJn3+47WbxpBQ+hwdEQj42erw0RVulBG38ESu4j5AT2vIv2B/Fh/78Z3n3kz3SGSwamNmmE3aiD\n",
       "i6T9H/AsuR65KaZJ0tdUi0hTfCOlITD6q9uiTWXOX+F3JeY52JCxM+xWr5/UXXBZjLEaTcCcleDN\n",
       "5kEhJlqOebik3aXFiPCW81XUeygKkJFnSSPiAdErY7m3qz1xVE7OrdHPHS+40nMBvQudvQu0JHDl\n",
       "4dlxJzURqo4wL3Z8NMu+Lgf05PLlWYDDMvY0OKDdqsVC2VbPPjWkfKRzhtOoVxnitDzq72i+yOpg\n",
       "kzBmFco6P/pZp4mPuqWZB60vGpml/oe8XiwIbaVVd6B5sgT5MK2BAAAKbUGbVknhDyZTAhv//qeE\n",
       "AB/a4lP4oAW0KEoMkP+6UuzLVTBSY4um/ijCPwDnvkGiQyQgnanpTh20Nqo6T06efXbj/ee+t7ed\n",
       "O4MEhpni021WQzgWlnIN+Zo9l7cwVsTaA137cHJEjDGV/f/p4z1AAwjYMwexV39/o5Rr8AkKTQDt\n",
       "Myamgc2QcugXmMXoGQCHLHACUUN9uhO5B5r0lyRSJTzORWuLuwu/0e6O5nVOFY+FN50IL5bd3URA\n",
       "jIcq4XjpU79vWsp5O48JGtA6Al/dVRUwsbOl858sUbbA+pVWJg2uUT/KyBcXTxDhMsw9yrs51yJi\n",
       "3vwM1T2tPxdqJGdmoP9yFpk/KrS0+NFzoYGIdEv/ec4cNruEwYOs7wM5mqW8yB8xz14Ll/flDgLH\n",
       "G+mUNFgJq2IC7AZlesO6VAAzOI8qhMpqSZjNSQJyrgnMGCkkkyoS3k1yQ4ht6fUfHBIvEZaePfJz\n",
       "V8qoxwGONe4D0dkKhHar2cwmLCM/7yRivezFDX2FC6cGDOl9EGev2gNyGGbxZIpckiyRJtUJucqr\n",
       "YBX/X8RRSCvnj88sfltBZGqgN6U0+PDaImATCdtm88mIhYl9NdumkkpghMkPUcdSZuyg/0M2j0z2\n",
       "vrhggPYot4cmuYCAoQ7fsuK0/38DuQwtOmVorqL/mF6dZe0wpTHEyxa+cAXpfidUFLTxAJg1HaPx\n",
       "h2LI3Q60Ub/A7Klczpb2mauEbGLSoYZMztXotczNO/pHknRMKcemiBBFimdqxcyvOh+/6l5tl2uD\n",
       "K/7TUThr/i7Ic/ZgoPAtzWNYN6tW0LZ0JTfb3VXxGAAUm4h/mBvZgQANRyuUdBq35Y4xBDFtAGrI\n",
       "QeMrFDzSkswsX4P0QNfCG++5+KyYTFQ1qJQ6MddQTgeRJ/N8hy0Xz00Iz77So2mgi3vXJv5WwBph\n",
       "Een9xtYInmQ5duBz/zCrKjkr/CKzAvOgAVP28ybOlnO44kHErPcD9AjwGf0yzUM5t1cOnPRGg0ia\n",
       "5ZOeYKQEDPBC/PAiI3LLvBsFqil3xBqnVDVMqFDug70rgCXEKSiLepZty0fnHMo6hp6+2Ib6jqYn\n",
       "xMMLKRqfHpqmBgWI/vYCi6hxK9wEfHWj9k8MB7P4WoDadJxUytfiqmLcDxY8oSMpXs/VYp2rvQDL\n",
       "ZjGFgazcW9Pcgvjdmoil/WSfjBl7PrH2ZDOJjguBfW0JzLvEqSPl1njNZqAC8ncifStQidSVgvLv\n",
       "/kimwIpDKM8V66H/YYRqT8OZFi5O4eXuAULoJNVeAdu8kcM9/NHQyNBUHKpFGG2xdhXq9BeS033I\n",
       "ty5i905wa+kTktdtyi5zdHJejhmoSAqserBtivYfG/nT6gn/Ni3D3xxazrQpFpsXyBHTXAJZI3uC\n",
       "P+Dlsh+O+t7dx3IPePjtu8HWffQSgBiP8fN8inZeHAW0X/qCclTq2d/a76so6fitIHGOs9MMUIg0\n",
       "7/vXquO+oO69OayVlbu6XHqEl58eVRw3LFIpzWRlCP7JuTnX/vhYErk898LmDPpHv6CpQnfdC038\n",
       "08gVHCwBgy5brQ0N+1lgWFfVIi4eCTnGXbpAPbE6QzvhHyvagTHagkTVQVtm/V8h2+SBUh0k0B2K\n",
       "5LIYcEp2nKWAe9fJ/5yzZSFpR+OE81oKDOBgnsuJR6weUAx0BzOb/JtjxKoyEzRdlX9IokIedeaZ\n",
       "xT7NsiEnR7Jl9ON78PsnlIY1aGTRIvYVsFsDLtXzKL4EQe168DroHNLF7LbgVIFzsZG+ASR+5STm\n",
       "fjUn7S5FCwpEqL2GweEOtmhfUoT5XA+uPfR5FSeTsweaRZw8ZnI9w9sdADDv7G70iJHnb8XYDSO6\n",
       "rqMnjONFKPFI0zBlujXJp5fazKFggPc/O+wwUe5CFBdOBZPCfUj4MHJW3wuY3g8z/xbtCTKp//Py\n",
       "gzFH2r5lpkHEf/+eOlc6TZ0IdW4tRmZlvDjjOhjW794fOaHOivcgwxvDYB5TT/bMTbdoJTWkbbXf\n",
       "xX8I0a7Dkvq1oP42u+quz5WQoQoJAcc2iMSgNRR/1H39yq1F1P0/JjNTtnmxEgNd9SFz/7hSUgmK\n",
       "pv5ElCIus1Vu0zeKMDx5r6IVdXv5KQmh1MXRCdosyIU8DYXPNga5jQ9IVNTIeLL8uSHhRwemjBkC\n",
       "OfDVwlzW3z16OeSBBdPDMqelqCKSCQcIVrH4YyvgdABtLPmp2qBVLhn/Q3OcyYTdoBsAICY83JQK\n",
       "5cQfVZUhsZW6LUm5IDT0tPShnI6Zn8WN5vdzXMXwa5aogqV1a3Cgi5LUr+CmUvEcflEWmi00jfLr\n",
       "XyoK6uNd/Sat/fmeADdGwzYN7K9Mrb0PhLHj7RvjhIr19xll6FF4k88x9gX4E0/P0cGG96+Z6q8q\n",
       "NZVeEGjZCfs1M0RdqvqrMYodTZz2APURTzB7luVezlRDje+e2nRnZ/dVKAqznwkT2nS3AEARKxGg\n",
       "b1WQTEuNZQeHbWFTE9pGCfpXOMNLHea9SP17C3hN4XKP3BbhUorVNRNRqKAmEjopLV700ulUZyzy\n",
       "jDiP1MmlBpVo0HAn/C1q9dJvII+k0bePMJIKXih5qPBLpKugEIt4rQEnZj5owgAFCNbmV9D+pM8b\n",
       "ET0h3vbL2UpNjM1uHt14we9chk6/Q+0lM00+yJbAoC88zJNau1Znbp1/tZ6ebv+l5NQy4Pp4mBeu\n",
       "kNplvVCSXtRImY71F4CtdAAtQxLpbeZ3rCBO5iPZdRClgs+8kSLhf57Wqz0buSzrpZjVKNj4EWKR\n",
       "CKIjxScYPS3bcgnmyjFaKG5IvCaNC+xUgoyBj2Lrl0DHR2mrWkOAVq/+cDvgPMMj14tk1i8e+zzh\n",
       "Jrhy3by9m6v3Q1YJVwUCK4rLnMItl5USBd5ge3181WBy7nzLd787AytYcLzhd+xFtu6tDxiZLl8w\n",
       "iLaBWbWEZq+G9fciOx+ohjNlBjhgXL2U6l/2FCOyQas5Ifd1yGKTt6Ffly4S4aenycdQzeBcmUH3\n",
       "J29y4xn6XLi6nsRvJs59zP2jxkJsreV5UrrHNIOr2WfuOeG2kBl1kGzMRyB+DqZS1W1ufj+7HdOr\n",
       "74FwiBkNiYHqObaOxsZ7SMmoHfSFmDO7bJpqmn/HgfPNc/zI1DctRVrMyekiEBdvztoL5bpCtfMF\n",
       "qdvpXDVPXx6DgdaI3a6Z7dNkhsG6T/EvTFv4Utb/gyyi0haQ5E6IQK/D8wRezayiRxI/35uKF8ol\n",
       "IYLRVEF2firW+F9KESa7IZjA5gKhIWK6VV0nalPR2weHC6jNwEfFiv0Pr90MCrlnfXddegd8Rmo/\n",
       "msfrRPchZJkdDjbLOcDoYU6421WtkkJaTuok3A+1Q/IIouZBplmbwJPOjwgp78c7VTc2JOfhYGYJ\n",
       "8vN0tP9xr/5pdIC2sUpcJEVGf9iVJ+yEeknXRiIzJ74YtvYEgvIRDEFSLfBsXzEy9KdtmLEn8iH5\n",
       "Xe5QeXt0K8t8VP9qimNM0KH9UNSpA2BDl16I1szZePc0hjFJp2Ai6RoWENDRoWckiLqMCwzmeVp9\n",
       "Xkr7lHk/Mbel1LcxGTcS1KNDtRu5kvMeN1pQRy/yQPSAAAAIvUGbd0nhDyZTAhv//qeEAFI5l2oi\n",
       "1kSWFjwABKVv8LrQNQmOybaN+M4ml6Op3K9EwJMKoeWT3c8T881/xe76o/kcxbDvTn8zoXcEbWDX\n",
       "9afzWAJzomV+WQ3k06r3O1hPsNpm4udCYmlwK1ETO67FTJ3E9t4qG4Yuh0H+Q8+0YW2RRC/jofL0\n",
       "Ve8ObG3TbPWv7Z+yQWMxr4SqRL9NrwBEkG1ZJVwtG1sEqCE6qu9R79rxVRUx57uBkbkD/xzNo6xC\n",
       "zL09U7t42LI6ecL6EhibVfgYNX3SoIpOn6BsFJKVEHO9k2Rhbkucul4733YfL7kQDirStRgAVXSN\n",
       "r/AuyU1ve5R9ZYou73EGGyteMigHbFsXe23HqfvLwCrNHGwbOh1VQXYow+0t2t1kpmNmDJjRPThO\n",
       "w69QNQIGJzuflV/c1njGrNSGFXhFo3j+pL1N1/dg05u61kOyJWaLv5dkm+U6vFNnAMycip+LfOhS\n",
       "tCpjZOke/gPtqpI1Be9nPva0f5J6dj0e0AhM8YGUeRDyk0sMhtYFJBBafZH0FRb993EJCg4+addW\n",
       "mQyxB/x28+qVfXjdLJLJpYzN3whuvqkJYUJfVgfHOCLQXrHzoZ27vNzeForMWbVvlcrVFzUMbADS\n",
       "eihI3ucGCzofn+abGrhdJB57PrB9VqXv76X51WhNaZTxS/pwkXwsar3NMqL1wvtHtGmkkUMb9Ung\n",
       "Hm3gRmjnj2rbeHCYZwlZzx5D4/VwZaql/3wmcTAe4wdgJawW7cD1WTJ0IDMZZrhuwuACSe6lxK3i\n",
       "3P8SOWcDhCzVRMDie8cq27O1uVwSq9i5OtptnEKXGi29IrEHKnqMqKviycNwKCvXUvpJ7W/G82j9\n",
       "23YcGOaS5YC12zdsrPFenrt7R5zDAZ/V/YhwuNhBmw7P/yWnVM0B2g8v2bzXFk6JDrcgjpCsJGwJ\n",
       "0nu5FOZTHs/njPLNWfXEspBrPStjoarpbNPvDPcn18ytdv/szrtDzRIfLeMRl8KOgn47cok3DY5t\n",
       "NVKrZA8jk9NqUpV6LgEZycVu7AQi+h4vChPWXS6+P5bvYIChR1jtf+0J/RmUfnfivjfC9INZ63ve\n",
       "6V7ZDVFyolHbbXyEyhkz3qChewPVV06dQwJzTxR7fXCLeCAasnACaK+pn3UyvP+FyrgYBXS5K9ZL\n",
       "ort2SxQ2IB/bJqN8Ue7GEkXYNBGbm27EI65zh9EVzxByWgxVbbPE/joUoBqNWWLPD70qEWUZwyLm\n",
       "3I1uDRYUL/s9NaaDwLKEU5SzzVtrbG9lbP0mbIhhvX95UWhJykAvhHIHosdoMqY9OQYxfqjzrczC\n",
       "MuGUi7EQ9wjpjJsq1uggbgMar7yJvIKVtJM6l0KOoLgBZ2bVGkJ/fRHvvJIz9xRr+RCupmRkMBpN\n",
       "J8AfTq2NWF5Le+YjTYCGHvpvUwbtcmJ/Yub8F5Ou+z1gKS0iUWfL5c1QMDHEDTdjS5lhpq7UeFcL\n",
       "BV1uZe9+aiacEVAj/BhcqwXsibVb9K1jHWlx92xl0nZ8964WR/U+rkHxrPXWodX5/l7HnxWGzRIc\n",
       "5kvk5ejmJ89M4sIcHZtpVOKMWoBbRA/+G1QzQH7PZW4LIT9aUZ/oMvJT2XhmA+x/VeJyXQOjb4WE\n",
       "DCnL+KL4WCvwjOeolv1ft6y9S6RL1WD3ZcsqhEAdBYZBeziDQqaOT2fw/rkrEd7gCkrPN9x8X9i1\n",
       "nJAz8gxBW3rkfg52/CO6lGGB9MQsWF2XH7Wi2JS6s1+hI9xRTLs0FuWCq8wypIFobylBx4LOt2bG\n",
       "Up84wysk+dcyd0Pfotsfyeog8bjTaztihuZs5EvBBRmosrlw8bogcnhJAheSZJDZw3Q2lbhMXCtF\n",
       "YvGDffKiPJJRgvgoO860S8/kQFWVXHpzI9Jzgaf1nEj6LwpUKaPyjThyFa0c6COp4YrWFqUjy++d\n",
       "fsuAFgp3ITdXm0ayG5WBOd/38fMrw90ek0bhpw/0viRxZJHwLI0kDZmka/q5b9+MeMUmmYWM5PuW\n",
       "8+cbAQ03a8mx21OVRkzF7FUmKEeZNtp6QbTnM/xctgUDNmi4uEkKUMUe5TRN0DE21rmtct2CjFkP\n",
       "dxTV0yVYsLwrorZX//uOVV1J/FBxEkx4CbqNVigGau8cc/spfaBttv676U7bXf6yxD/jNlCZ/mWj\n",
       "HkQliqlVZ2r9F6J4DlzzjR5Uw2Gco5/9EWrdq8TEJzoBvq4tI5nlaipBqlB+Ek7ETijFFOyekQRI\n",
       "C2cq5BDFsy60alsuqfT33ReaNix5czZ1dtFIpkdiefLSpnwo8CK7U30QKloRGu4O1Q6StAle7210\n",
       "/oAoxltQUCdcBhTqGD2XB395u5HRyWecpa4NeB5uBNh9AN88QjKLCI5LJIWSDsB0W7XO+XLlt+TL\n",
       "ScxnslTqzkuG236ysTKyqXVEH+qhcK/4K9/Ze1lxxAmv70bINPgoOjSUKe0mZ5VqhPm4GLoEgJ2S\n",
       "ylQFFHby+z2NXYcw83YzUzxwLCR6l3IvsXSRwHAtViRwJs99Qo9hcX+m6erBJWUadZoj6oKjwrh+\n",
       "uKn0fEy55yaMSfZ+6/T+SQYs/8RSRJ/pjL29/JFBkiMXroeQl7e/Wpf+3dEDUKHFQGcX6FrgnY2u\n",
       "97ySmN4AQFanVNXiVMtn5e/BcptTaoTk9n8i9k/+i3afSKSSe6IEAp0gu0jvr8Y/gVnzRzIekACt\n",
       "7l/stBsBQogewAIH3ZuIWZcWc6N436W7g+nn782d7soMTz7+WAd58K26NMu38POkUv1tBLavwuyD\n",
       "nU3KByu4KshmNDgcsJIaolR00rmLIpeqDle4Rp62tKxk2JoXra7L1O3dRxApGMMnL9Gj5HV64gKy\n",
       "yskLbKrozuMDpiNAAMEOyYkhwwULE7BMcBKTo2WjGvFN88Yv8156O/+iM90VhA8nIvXkRIbpMRhR\n",
       "9O2A26SE90yWecVn4DLbbINYc4N46yAHnlQxd+29+aUIi2oi62TW2IsKu17NI2JUDH+BAAANBkGb\n",
       "mUnhDyZTBRE8N//+p4QAH6xSpbFcZcALTkmZDY8ARSRyGRSz3PiVQiHCGb9hqU+flSz6rcALssoO\n",
       "pWgRzftlbMQVbCd7BGzbpik22sZFEL5SL/LEz5satXN4cL5ynocVZRQ/dRSWXPzLPkDPk+PB8a9M\n",
       "ZLoGQ1FsVgQm27educCoCe0raivSusGa35TNEsp/hxG0XZ/MTvUIo8AMAkgDOIN5jtIZwYlxk+pG\n",
       "3Nna+xN1IFEaDR9tdjhbQinp174HuTVNsReQ2k2VsoIaRK7YGnzGZmtqlSUPTBWjMAYSUPj2cwYK\n",
       "w+7xrfPwEeC3gPWFwlw+g5HeZNU20UlNLWuQXP6ui6ZjwqdRZ5+5cfnaBF2F9RuN7z/rajT5kr+g\n",
       "f6DdNCD902dCup+vt3esAfpMQIQqqY/ZD5jOcmPUJEcB2c+auXy25I00raLpHTgWko4AeGL4NL3c\n",
       "6HEDWWoo89Du/D4+2FA3Nu2z9OjI5M+xdkYtrXouMYOPcZMThAvAkUOqUEFlo4aADvv0Lko15ZZM\n",
       "tujCyjTPiVtpTXR2jghQQDPaoOPgaG7ym2TW3+f+r/yKCsLHQYsCD4k/bPjWXnloET6rzCq6A5Ue\n",
       "bjAjciE0OQ86Og6cE5w8MvrNzt2I+bOhEK59E/eB1zlYsn4hncbyMYN92Yq+dEocOK7c/TacrhD+\n",
       "NNULTj5uhWNACTAoziNBgs9aX3+JV6JNo9BO8npd/dBukWeLksVoocqKKFjTlAUrrRcBKXeM+MaS\n",
       "kKfE33mHcl8Vq7skVjtmQOehMER1YAhyLRkHgt4Z4LxX/ztCL8epzLD+1s80DomcuqisC8VKLWjt\n",
       "337OfvuOzihCCDvPjAQa1XkikU/V1Y0Bdg/tVgym1GaQ8ygF4xemvg3ydn25wAlgaG5HKH5GdubE\n",
       "Rjv485UaxF9YPRBIx/T+NGv8GZ/anUVl8Dcttjf74Xz9blQ/chAs2fNX8zTNrGOTnvTptU4kkkca\n",
       "cuahqrXFDSoJ9p+LaHp2qz283A5SW4Cz4/s8mqQTyQOFcw6cHp/LoiehdypLNAQqiDuYm7ms8Jie\n",
       "AuPmQPOIfth1by9UpH+EFD7ZbcJpbXNpQBmsfdn3DP2+FPTgRRL9+JFU0hCOi5HR2aNazKtg4Ng3\n",
       "TzF7FbNdMZITtDhEeMzFzvy4xRkPvV/DDgefNpuHyVQQ6pWWP/ZHtquwALV5RK7kmgxFjEvLcUph\n",
       "HjloaB4Awoljuzg/1zpNH0v+U7g1a4h7OKkBHL4pFZ7BTRSL+o/heyP3uWg89SM87bhuV9gJJbUP\n",
       "jcC4njflcwA08hlo6zx9vIM2zHjh8oodwRHnE04MPz521OXPpKtQgHFmem3g1+0kqcEnx3vltkL6\n",
       "QPHKpRpZ6362spKBfdU5S+mf8TQgFlMYM56grwxAV387mdh0PPNNCRbsp/qvkc5DYwRlAnZnXbbu\n",
       "ne/1I/fFT9p00jg7wS5I4qiWKscCpJebSQWsrdhRRa0ia/yxxuecKrbGkbw9S5IFA/PszD0prxUI\n",
       "rCX6L8tcrbr+blXIskM29/PHoNLR1GUWsVh0Qbc//X/nr+bJ//1TN0DfvRaXn2MDIySjBXo/2QmL\n",
       "WHul5HWGdWam0RWj2aCtC9R7BxN82TQhTWOdNvtaqC7mb2p/WYz9VZi/p8rzdIZesN8UY2szrfe6\n",
       "tHVfmng3+pz45O/rLHyQ8mAfzmckPjB9VVTW+NElIjKl06HGt/e4xgPVyOlkvNL4D7hwqK/5nRFl\n",
       "2sHjf2DJpwpIO1+A+EbeEmzhZ0pZiX6HSiX25nVLqalpRAGlm2kzO+buSYubzZrg8fMMrwQGdsIN\n",
       "BlizZHcg6zgjKhL06tzZndzIOv9vWmImbf6TEoF/Zn0PZqvlqAVg0wanoPDaKc5tS7v3oepyH2aj\n",
       "G9McI26dWAhwn5DcA1e394Oix04kzlTlbcaC/raDEaq/zpfO8H796FhIJalUmC90m3Z8RE08WhjI\n",
       "xBNIiCmgCJduHfEnSMwjMeU3rMtwKmfJEIlxLHV8tcb1ndTSX9YDaPjal5IsDB/lL+kSRFsezZEF\n",
       "E+JBNYmBzEf+bFYKS/Yv1dFIi5qU8+YxvZ/O+5YbvZS9LT/WwHqKSS18gG2X9i6AuE9YGqlQmvRv\n",
       "nlGNxRLVspAmoCayUogq/z5O5KlL49hL/6P4vjM0F+tN7AXiU+8Xu9j2SYRh91ARNWzI/CqIptGb\n",
       "gb8SgCR47MPm0wa+VTrJ3eqCz9vFWFzXX388aLZHvPmgRqliazKgWsJ90b03HzciEbRzLsuH+Z74\n",
       "jPUgZ3mT5JQxdiBwzXKGkFuUyX+neqHndSCqXOiODxNWYKyl2hWY46WhHFqiEfCnIaHJ2baJoegW\n",
       "vfNh1HlohT9doVYQpnZyE/Z6aycUM9lYqyjgK9KkplnJTIdAvv8qMR45lFy9Jj+xvc2pbRI4J1Tj\n",
       "Zu18o670hdWEKQhkiEgnmVWFGs3Qxl6bzeHKL0OHrWYDydMOgilFje11NegxMAl/Id/pOCcNNNNf\n",
       "bmxdu3toFwhUdiF6I+GXQbdsdMVCRZfbbuDTuvmasnJbg6D+q4/5TILU0Uy4J1ZAIkJOHTY8KkHN\n",
       "nrfYmPJWcAsGzXOHp8HFEOIqUS6FubxLOxd2IIIxgXCwm79zDyUhTzZcLl+UMutWolVK4ZHaT6Um\n",
       "SsGUwfPqqbSWtJEns434vIPRaQTHZ2vVM1hqr8hCmO9+kpcFt1weYTR5HTjaNcAEoYriBeGHXabF\n",
       "rfnij8RolSrF75/FF/Ib7ICIXUfxuwjUrwCgQpZiHbq0JxrBR6gLsLDkk/u5ZsestHZYT+CHf5/W\n",
       "UnlAcWsLLTSfgmnBn0myN6upFetVmWB9obJqLY4Rr8vZm1lzIpPQaOmqmnEuvFZAkNrInWWew5D1\n",
       "jb/cDdorAutq4AdwMDsJqF1lZqcJ0QHPD7uaGJHUcKgyxKebivh6xegyujZJTi6JOyQOCHwV9pgP\n",
       "Pz8p6BdFUuBPwz1kCI3kDIZwuVncc0AqQMSQ354ozS8BPtS/TAysczDIxTBRelg5k2FEU0Ecs4Ur\n",
       "CxJA8IumkdvfoCRlRJmerlf8iE2T+yJcjWBUWaGlVrlOrT1kqt8sIcJXnqaoFSlJAYBtX9mjcGR/\n",
       "g+cc0vMMvulA7Ne2A6CAqXHpJasRM71UoQEDaNOM8bgzbnvAHCQbjao5fbnKgzu3bnM+qDgqQ5ym\n",
       "mTge/b7C85J2g6FhqJvz4MGMitHjFhHXvzaXsGTF7UkXSPJVBTGkhv8aONzRpcKDFlTvTtM4Oo7W\n",
       "NhxSaQllZQs8heiGQQONXgYKcViwNpt87jWCk4RPy/JlqwR8pSorMX3ww4ptohNlyu+MuX/1TnYt\n",
       "ojl62pqIQ2VuTXsKOC2fZQx8NgkHM9fqPfbTFUfKFZXZ3FAFOijQ5G1EnqQ9EbZYbb/I4h5F58pL\n",
       "NoE9frc9E7fKvVxysbqFmLTJbR806pDvLJbauLcgK7Ddc7rWVIhtRMXXgY5GGJKEEUXVMvgoSB5b\n",
       "+dax25aMaN82eUSKnjrv+5WEXwuVKYJ7qw1Ao0bCYcxKqnjjfYIbGYr8baLxEj5+S71/3Xf3KfIO\n",
       "NU/s7W+m+4gThbBEGnIpaImKKWFo7S+XAWcZquapjNazVClnNcGzXNEJ1GzgIt7jN7xUursBPXsI\n",
       "Dz1v6Y8P+hVzkNikmvHiHoufto6y2viG5XM54JP/BbODmEHE/FOkNKRU7DzRABNEl9Ow5wgZzRxL\n",
       "iRSUGJRadYtJhi6BfMtxLs2WV470YeDLs9/kzJna7rB+VujCRXdlzdsEnb/a4392pylMAF46LcFX\n",
       "LjrLT/ZZtGahSPYIIXTQ6Z5sv5B/+thiCYAHbjItH1p48jpoMBAk9HZiZRDoiAmMNMd1RtBtngqE\n",
       "3xqfixuz0sVsZsMsJIuPY0wMCL2bPMCOkJVtjSstPFNf/Rx9vBXZ4Npv2AI5XRmxU3LICKqPdEPr\n",
       "13y5K2q98QFKI4qRuJkPlx6Sz4rqqjI8sWxfdczmrdujwi3/ZCiXQqCMv93R1rGvyJiAyxL8KE7e\n",
       "gLN6gnnm2FsDpUYSWEfigNCwawLuDUerq60mylQjdJkyIqv3Mwg8KFh1UAdaM6KZJ6bhf66xh2DB\n",
       "2Nal+Q/S1P6TRyCXoreOQQHR8FnREFbta0k89IUyaOQbXkTLiNfi0HyQS9VwTfA8bFjcuSRWxuRh\n",
       "Tz1A1uWQFPhgrYD7N406kr2XYhbpYFIk1JIkTp/EibptHBnvWLrfyMBjNMkmPeaSMl6SrYxe/cEf\n",
       "1sv2MRMsLRnK9o4HofQpN877ogkPVzG3ANv1BmBMmZ654yMDps67QaF5qCNqlJUGpbnVIg3IUv5y\n",
       "Lq38DZGQ9vH7cDd5YHby8IBzOLHBx3RFVdHITYrWwkvenZ0q5EkmNFCM3UomQ3hWWdeYJDU2B2ur\n",
       "UzX9SpmNc4+Co+mpEqRkzAENkuUbhWIgC7kAAAXVAZ+4akK/AEaWTZWwqoiGc/x6QqbnFr5aMUAC\n",
       "Hc1glnR0t1txksSDMhvIkOcdWkVkMMEWJwYVnhtgHNnaDK8gDRlE5D14yBUpP1h1mKCb6aeo+498\n",
       "8uLfy0obYQasVK0/gh5MqfnusTAfuij8F1fOa+f2xelU+zUCSNrI+wKQzm6LhiKQohiFnbJATbjh\n",
       "XBqUCJyamrDVJXFwTdUIRz4kBnQ5ZO+IyVR2wtWmzohl7RIbBISe9QlMXnOZl+4xv03fSr/cHsp8\n",
       "zAV3K+gTIjJ3mR+bWtdu35PAXgYKS/L5AE8fjvbojlhcCEGOFk83N1zehFnSdV+qM/I1qO9/Uhjg\n",
       "9U1yepo3VSBaeo4ng0wH3rBLf9CjnmmUbz2UdeAluDYlCqB4J5plVGlRblzvjgQsUR2j9v3sY8wi\n",
       "HeyDk8gJkZaJeoegLSRTOYLtWj008bdFnQdvTe5dkAgnoDSBbIxZMh/GuiemYuUXybUPLhFbsv40\n",
       "dSLiDt7xDMS7DGYQ+Q/kLwiUOdH0GP+/2ldrG4Oq1D/hDY3h1jtEjcSzuGaTnULwKKA05TT0OJpM\n",
       "UpKMYnEsswYm1juZy3C+MxZdl0R6vPNfgjArUMjxaeK+7j9EX8D0ZyF0XnfpDF9tDnlRf+Cq62PC\n",
       "hQgMpxXaRR6jskY75WeHu2l0OD2vu4qUeKzxv37h3JwWRed5wHpZQCy77YZ1q6/kO8mTxpLoX6p2\n",
       "pAzkxiqwUqZ15EXdFCIo/UWcmzhO0eT7fZEcA+CSZrIgY4fdBhzTK+qXAs5+fMZpMB4WWJEch2G8\n",
       "G0qeF7uWrwwQ+9H9InqSRsioZdLMfvapbDuezsx+aM3b7DrtQrTG7py9wxzxt5yRB4zNvzghctYf\n",
       "5ABE4xiqn1vHykSMcYrAwfNyZUkFomVDCuPaqOxmOX1fXuG6eXYQi3fNrGODIgR2PCkHjJNiQnqK\n",
       "e5lg5fPTBzlfVKahldvh8gcFvvZD6ie5af7qbdCWRhWD3+AmIrd/GcNwJjq95q6Jh/tGb8sLZi1E\n",
       "hq0TfLsWEY7Ly2Tgtkwr2Np0miL6eihX7v4UIy0qgE20cR9NdasycZNyuBcaijhGqC78lIVO1wun\n",
       "5V07ri8r4PqxsPScjpyZwgh/k87s1tsoLMxDlAMTilJV/51PbEaQY/z031yQzs/3BGptZ5Ou+u5y\n",
       "AFev+eoF6rPMjaG0XOA1AFt5t0jRPXy5qSSwrFDXXQwOUIsg/JCBcQ+tvQ5O52TUpLYm7C971Mrh\n",
       "okwpsobyWLD+oIdRAU2hPByXt0YN4L/qxGxoiDPqrYdO6JmnhHq2Aq8indKIP+XeIuarNr+rPPiD\n",
       "PfTa6O8t8iEnfsEf2XW0VaPK/SNI0O7qs0fxhmSZYnDlmnWrByztmnppVl05IM3bZfROCnurvgBN\n",
       "oMT2Tl9VTqrUW9D0wcTODu5rc43RXzTRUib+ZRpVUY02IMinhTDnI34otmnEE3MyW4kIOH0Nm2jg\n",
       "sTB9yxAZZxlXAM/jAcbwogJsGMorio1U8vLXw2tfEe+DXDjL1frkLxbREk0e/hFeDVj7ow1kWVIs\n",
       "RcLDLMOr3dn7sqUwfUNOLLOSYOYmP7ByNnMinZzovvRB79lLI9SZUHHnIBq54hi80YZW00mGotIl\n",
       "vsap4d1NRSwrV37DruzaaRN/CK0z2baiLieccY1kocAebYZ1hu3gORdaKvPwqgZ5FZeG0t5Ai8BU\n",
       "nndSIoV1etdi2qxrlw5oRUUNB+gdBM2cMZFMGkbxLhV487BiiwB5hfcczYgXx1mhSw0obTcIu6VX\n",
       "xVmUtWjzS9D7GSfx/NHiHIqqp/ezt0qTI+b2ZCQeiGTo0rFXWIqrAi9o00NjdGleQUyPjYBdMho0\n",
       "WUoWcnXsXeKiQ4VvtuiB6DgONwg0r1LBhtmJkT7W2SIEmbyb4t9O+j1k+0zrNgbWypFcnBzxFLWe\n",
       "CrF8jE/hnmnP7xhSWOHyoQ09FTNPuYIOypMJUtRYAEOoYSIqdT8AGBAAAA3gQZu7SeEPJlMFPDf/\n",
       "/qeEAD5cJ5o8/whhVOK2KAEKegbUKau4G8x7wgvT0zUz/xNo+cPMiP/iaVuPFBlleX6TcGsi0N0k\n",
       "UbrkjwJ6kBTUTvfnP8wraW60zUQKq/hooXcpA+1CXGmtLkwzcDgkiB8rfTrdGAS+f62cYGbpTogI\n",
       "by5O5SKrlZPCmFY/5DlezhRUkWd/PA6RIY6xu7UgUbgj5W1vQAXiDJWurqgAilrOOWj4gJYTOk78\n",
       "JNOaku+SMRS1HXkhXXxxJ7zd5UbKscMVlB71b/KOkvapmMChd/l49tovBSpdQmTrX4dN5VrFgbxa\n",
       "Oj8kdDIBk4FhDh7hEyDxfFQ9m34cYkVlR7ksv+Ak/ioGiW18K6j+IFh7nkljuvtP47MkfhtUm9Vz\n",
       "wwEdjt7pkWcZd6EI1HT62+t2hdEKi8IBNdj5K9ZH/oZvJp/JzZSOVTLYMrP2PnyTR28OAsznwjXj\n",
       "+nNnQQQ95ZwdUvBxLYTTJ/NQ0wJTreCAZ/A8VLw4NrxtahvADqx2xEhwsH1Ty4TlFPRTqskd9Slm\n",
       "go+ji6yajyn8mvFs2zAZRKpv7Rn2ThoY2Mf/ONTYe8dEi54rcqDHtHDZYeQ+wegemx5z6AYUZblJ\n",
       "dkTpHLv+2LfDUllpW3ugWSEZ1JslcZYTAMSxbyJp2Wlzz8TAy3ejQyk9NkqJgTEk5MmvRKkKe4GW\n",
       "JraZhz0ZQCQMGDNh1L15hP4sS54yTroziG7VbWIz/Gyjplz4D7mRr7GcHMB/kitIB6XyH9LN12NZ\n",
       "aN4AriIAc6o8MKeO9CHPa2bvvVGUPHBYNb6ChsRzfRxMGxL9/ljmJDDE1Hz9Wi98KLuGi+88WcgR\n",
       "ARMiHOymtNjwQh2Hxr/p6WkMoqq6OCVFkwYDpwKAJ+Gv34Cf+nvpkHYh0veCQORo/XNoy4W5Ql+n\n",
       "Z1EEFKymd2stdB8BMazGdI2xe2Mf8CVYgkVfth/5U5IoUiJq9xDfe0iv0kzCp9qp2sLjwG3JV4wg\n",
       "TJPn6qE2SunJSPwGr53IJxk0yoaibxkXN95OiriRXkrCPIeIjGlICaHOUN6KgJCXEGBYy2Tb5eia\n",
       "fBEJ4p/9QVLY+v51AlFtRrnM7MKIec3yUK/s0NSD/JP/EN0XZxFf1cOViE/c7guNqYJmJ9UVMEMt\n",
       "BuV5K2FeS8AcC5E2zT6/fW/eZc1HhkhmvCeiJPbD1qTkd6BYBTXylJmt7ypiQewdl1Eb4DZkaDhb\n",
       "V3SzwQKaOBF+EJwmOILI4tDkFV5GE9yNEPzuQGKQhz2skI21dAVHgY8U8GioigosArleIwDqqqbg\n",
       "Zeh2TBTEihqJPYflhr4tzZwSPixgr3wBGDeAyWELAZAhSSpSuSAh2pqeM3dKXdRuI9negKsfZ7kn\n",
       "bBlcBLw+fxkOmqco2YENxMmE3Dp+LZzyp3QuUeECT2GcUoR7hIXsTJ9pWQrSdmBXUQp2cz4tgXjV\n",
       "48BK1zRXGIkIwq64n/UgcQwdvsRCLSoZ9SAh+gLfxl+7TyKdwEcQusgEHhpm2ZQoGqgXBRsY3crL\n",
       "Y0oXPDFzCraKZqweJpR5V/ZE/1Kl5POYIUxKi23jGewWy6wIxd4MsjgShcWJpM52Oq95X3wjkMIP\n",
       "b8ibnar+eBULh260qJzq1t4g9vG5c7kyUKuWdbWvTxTss1Q5K120TvGTBB0QFa2TQf3WrxwA0k0j\n",
       "PLrGa6m9Dlc1K+8t82MgBxXcZgqXQKg9N8qSfS/IsfUo+S+5oMhW2pI9W/nc2oZ4m+Bf8DPV8Sgk\n",
       "G3sYx4aUXNm0ToLFattZuoIj0DUsPt/GYvGD6x0zHNnJFyZCG2Qw1Zj7ZprlmDf9x9WGheNs7iFt\n",
       "/eohHtK4zYfzJzH0fys4HI6fHyx5xL+hEAHczBCpd/D/k2CPbFdbIeJHMOEhxyvN7DhGoXCGSoHL\n",
       "+zVVwWUPaB6EBYhyyQp/eAt8gOaBWzVH9l7iaHl795zgXsTMWi2So4i3fjsbY33YohOlYDi7GS1u\n",
       "ltrNh79C6Qy/ZBkDPMAhcnQSmLM2XcqnEiY1K3GOFi134lTgdWwp6vBcxzVrSHoAD7T9CBYga+W+\n",
       "qhFLJ4/X1ZFG41HMc6KaE/8hfBU1xuKiehaNO+m5eO0w8T8MJlRjnw7cB9WI4/JfEZ77JiCrFMqP\n",
       "8t7NXI0QbKgMAGQ5PuS19s/Rkb+ORV133aEUzNKx93L9BMPXvSHqT2wzMNgVaXTxUKd2tKL4dK6K\n",
       "wwQm5CAGXKXnSN3mGmrYuKHZr/MgEzS6+cRV/Rjx4lmDaxO9Qc1yW6bDM9VvPWAs7FOUgerViJQP\n",
       "o9DbwtHFCOv0/K4Lcz2H0znjPDrPALiZlkY1wNku+z1+8Zwkhhl85EmJJayApaB0KSL/KP9+W/5Z\n",
       "dtus3NgouRqlSYZ3cn2JKvBAdwMfy1NglO7F1Hi8HId5qgQf6Yt48MHve2v5fcCi119X4Qixn0vM\n",
       "f0jJOuOUh591HOPcEqswhRGGCmKyHcuaxZgB0gumqRzWS2FLsmLcVSirFwB5yokTg9jvgETilA9R\n",
       "zcCeX3QKdOQ7NT/KwAk7pOUy+JeGas3WfTF9/aEXZLtO+BRHzbnCmKx1AB5cQiWIGxgLgeXUf2RV\n",
       "uGbIBevtZK3arfjJIAKw3hZWzsFGclAR5eUZ9MM2wkobZZwnROd2jRp9b/T43TA//QGND4COzA2t\n",
       "JBii4Jdh03p3Ejm5YSgpboA1jGCYUySSmkSTz9a693eQSkLZ1VAknCJ5YZZDGUv9HqNiXFa3LGPQ\n",
       "FPj2MGaoJXsDXcYlof/FpYM63YtNp72ND2WDX3FcuPFiDbsB9nsOlisAFVWBpZY8MFEcU2y85c9l\n",
       "fcooF/tfc05J0GbV6/cb4EvDjloZ5t6P/FvZB8UlFXL6us0Og5rSraEVfPn6/QanWBbV/ScTrUdt\n",
       "yNQxJwLWeG38sQIg0ntgihI/V/CjaaRnPEWXQ45Pe3yDqxIVIqnOOHWplC8YzHY+ODDx3rzZMZRU\n",
       "yoeCDLPtN/PXSia7F5I4C8jT59DCrKliIaKgwu0rxAIczqpYvTwO9BmKYD3xK0VjjZmgXXeliC7c\n",
       "MEa2bgiPdVSDRtLRlK+h68Ix9wTip+i9UdJgNTJas4CZNGpU1LSkBNS6DFch+Y+ijpivFNbEZ2WO\n",
       "aCn+6VZFrohgSY75TwSQU7EuYmvDIGJG++3iYQOJSn6zjS7Sc9CtJanfNrQQbw0AZccSEAdx8xq0\n",
       "kSyK8oqLMiNlrYbCzF4NoW/4/lNaNttK/iFtmik7D2yOekLzUWBHTteVYz0ZHpOJXllPxsMTq6Wp\n",
       "db12ZDk6ilqFotXlgu3u8ib6OcWUJjK3Thn4fyIX7owKanyjKO4ExBXoKWOxIrjGj24IFdd9mxfL\n",
       "oeU2v+8NpIzIpdzCPFGskoin3VCQwiHPKfE23iTjS+0qqcnmfk8xpFrbhc5urspmXip5/VKzplZ7\n",
       "z/oqQ4vMT529oGkcmH6EnRZaS7/2kpyet5lKCJMJY2l0wy2uWWJNBDFHpQ0C5IMdSn7A2PDULSvE\n",
       "dr+U10sVvzETnxdcdKQdHVkOxTUsNSxjXXUZKD7/CvRY9La3g/0YkWU74zxVp+5QEJrDltLDkf4J\n",
       "fdgYP689LDVA9ZYSTO9+au2ka6EMOIgroEBZBdjigrHod/BV1lTknTubtsrqW8DLie3QpLsLAkYj\n",
       "dPNa32Hd42JlO3ENFoky2kbluW9uL3ktp+U/NbwkukxZSsJ4Wp1Xo2v4b4knNdn7Dr2BwJe4f2Bi\n",
       "pNy/8DSBh7+RH/ctl5NW36L/LF2E7KpwbgcXyyVRNxMnRBK2CPCb6eo/UNDtX/I1Wqjo6baNEm2r\n",
       "lLU5kkhDXtP7785KBBtnQ/ohCZ/SL+UhhOgkYVw5FSD47H+j+AsrSTOnHarREPY1AZxy6p09gULX\n",
       "Fa8tSm01ApxjQPSgdLi8W1sMLfKyOdN5xUTb/8HoPz8JUCOM1T+9TFUaQ1vVrYjKQOdC8MFoDl+b\n",
       "sCU/LtgMuG8F7cXAkceIuhB0k8gvy7b1tdghkiawqgb4islfkAtE6SeP9E2klf6BDCY+/we/kTmp\n",
       "TBkpwZr1fcPGpzw0lytFxc/nlQImJ23PlgkWCQVR+YJn4S5s3qbOCz/ZVkZnsFpKlsqI9sNPszit\n",
       "OGQ5tQ48MXA75APndmSbWvKIHfhWwoPC5GDH8VCeybiWYoI2fsloGuOVrXQKmfqRCYFb5bxFGgIm\n",
       "hJmcc2k1VIJ9s3NTC4zgWc2uGf8iVUj4yUiwsd3jcKqrtapJ4+H3wIQCbL1ATEY0NpxDG+YF3i7r\n",
       "z9zk/7/ijNtYDd8DfbUGk1CEx2dErU4g/tlOhlg16h45Zzov8ytPvXj103o7W7yF3w7S4oz8ePCK\n",
       "8952Suo6Y8x3p6svghfSGzE2frUu5uBM5lNMA3hNgsOjeNLIC0k3Lh+m2ltOq50uJpXypHWCd66q\n",
       "s5/M/gfneh8qrrZrgE9ipmuBzrc+dD/zgawnifa9ZK6OnLcBm4KxhlSUA+V4n7tjK2uPgZHQEDyI\n",
       "vcaA8eLl7n9BBE/87l1KGnE9mgQr7IDBP98dBIA1SPAUyWTfApcfqbAzQbxy5AoWfdd/iAfwptcy\n",
       "nMbLEpuIaPK6/wZ6NIIHqow2DI2ZxF0R7vrebCHDi+b0yN9Yd/Oiy5Oh6Dvfp7p5S9tJRZ+p+8+J\n",
       "CJAM+mtHw34JbP8ldD9TQ3ItnXVwyajAnz3deynMySt5dxCk1mIBv7t8K6eCvB0CtZ8JHAIstq6S\n",
       "uAiNBYd1AAAGlAGf2mpCvwBGlk2VsKqIR2lfszo2tkzRCABDuBMyBI3H7ljd4NaeXOGtnffeIrEW\n",
       "E0g6rr6VEJ6Mi9pORhvOqS5J1eZuUlCtY0dm42M5e5sowUJXrRTnAR1W/VuQQhQCvWCZUyaGM+uG\n",
       "B4c0pHzvBfVUHgmpnkS1G/hMjsyyy6cMzIe4gzna0+XDkhLqTPjlqfvg2xPeFKulJET6zG3+cjL3\n",
       "/A9VO0u7D9pfEmAL9DRJ6PVhSksIk0XL35F+1f4ORbV6rnSIU/8w7dmh1OkAaz+gIuHOLsbrIAuk\n",
       "xjgRb+3eqqmLH2BRkE1JPd+pfcKusN5Wznys9bGKJBBJCkDQ6VHuFOEqiRYO5eMCO5dtlkysd8wW\n",
       "md4s01ULwsenbUzL4xiupyAXIC3m+sjo1ar4YqE5ZldpwDPrRHUECmXXdsu7EDgwfko7arjVabCw\n",
       "MYlH2Uj7v5lT+f/2klq2nzzPI3+G5w0vn+vpEHoR1AixH3vbT4OLc8ZXjQFXdYr8Za948GT8xqG4\n",
       "4axpB8g7zOdZwHBmm9dJguzTEhtAcMt68rZPRSsc+vcg3i+BuFDQz1laZM/kzZs3F/j/RNGUumQI\n",
       "DuE4qqoZFbF1Woh6svy0N5bBd4DznU4DDGPlct3PfrB4HfAgbQ0UPt9e4Tr5pBcP30L7YgFBUoIP\n",
       "RGbICmMVm/l4qUSV5zSXgPsCn3H6VA7ndWcfNFQ5+shTpuDMBmsmvLZdRLSuztMnfMJ1DadIWKZ5\n",
       "6wrsLUpQO4ezpXs5NN5fxdcZh8GVznr/CiLW8KIQ5ahfELi2CUBbDgTbPNs2rOF489jWJu4e9BM/\n",
       "40UrRayWtt2RNVh298WWdjvnhm2IKgGRl9N98dWr4+XxRoLAM0OMIkdGlaFAkcX+ltFZEjNs27iW\n",
       "6ccCJ7L5nljIaFJ/OWavkeWXQN3Qq6D5p98QfzzpidbU2Jmz1IlQpRUEwRj6qmPtk7asI0ktuzTN\n",
       "LRDnFsXSKsvioxzx41i7eJ1speT+V/v2TKNqjJhzaWTXO4BT+9EaY3uFqBP7QxYAv3/I5mn+3GlB\n",
       "XkgcHFT5GjHHuYd8/PRYiEKOdmqNUZnXrV8d7kUQ5VWpTLIfbvipcxF80mZarHy6F2vgvwGn6szm\n",
       "c4kQ3lxFwhtjg5qWUwmQjTiJBmOgoHBq2lNvbk2C86Mjk8nLwD76038gIc+f5NBDzfqnWTpgudwe\n",
       "0VZeBb7uh1Fqq6wQSy/wI/S+HC+XQiaFlQuB34bZDUXeXk8j2suL2/+/8BycI28u1V6F9KpCviIq\n",
       "abLkaNadYsEtsd7HPTm5QnUEpUIFZI3Gkk0dGSj5bp2xcEVTsthN6VZAbWR8Z08jhk5vnO9xMlON\n",
       "PPJakfpY5D8H/a8Er15xQ0Ey8BnvtITbyn19slWbtzonNlvqmCXqkR+XRr44Fkv630WE4mnWp5Rf\n",
       "tMy69fzatR9mA2Fi9vBS3l/0mvgMHVYarj39Nb0nr5sViDm2NVGigYSJ/aVYb/rNbzrymKLRAlns\n",
       "LcYUaeE+agEQfoABwJfLgRRzYP8bbRQgQqU0tTArQnmh9gOV0DuqaopP4HEdBqgelayhyJTfilhz\n",
       "oJ+6yEiLGhhszwOPTrCQutioJ5NYKuY8cr1bqPlsxUQXIbrZshcAhYBvN8DIhZwvoCj8siurDVVY\n",
       "vOiNa6DDJt1TfJgiKqdN3yOAI0MsYsnUT4EPqkpuTPnC5iCU9rmvbPa/6lddb/QnqVo/u/xSkug0\n",
       "e1O1ziF2RcSTD5JvU+ysldmjTIypzzabGMJYpuK6G3WA8Ced1CW4ZiUsRKRqq4dnhd21sSYSF6TC\n",
       "kInx2f+lRN9UdZ+zUo6Bp4CGz7KJr982Qlat85H3rd3S1w5lNSpdjNFMMwtGKfvL+YI12e0c9p2w\n",
       "oq9ocyJ/euBF0toVx5jVhafyau3WXZt2jswFYpvhrZM7ENFJ8UlySoBzvy6gKSCPnEDXMRdC4tgc\n",
       "yirfpY3NQXpNY6MowOwD+NWBXGOvcchfY7Hwnmnk4k4oo+tiz3GUEA6yYi5iedBcSqkuN2cwU79m\n",
       "PgL/D5y3hYFDL/2e0ggdCsXmzKzeVWaxdKRh/MF8727Dk7yoFWl5eMDMUBEfz7Ai4a73QYEwIhLQ\n",
       "u/wp7YSNxw6GE+g4u+E+gXFVnW0q/rZU5YjgU9lt4+s/qcox2cv628xfLUKZthBr4QsyWoCutod4\n",
       "79wMkh2RiPxafHA+7UZqimAcsymD4TNJZLCaAupVMiJADsfnQJWiAfMAAAuCQZvcSeEPJlMCG//+\n",
       "p4QAH6xP5Z/92tIAPgEfgBZip+J7DMP0LC7zvWDcVrEaaBf8JbamJXZg934iT/4dZNW6Zt1Xx6oI\n",
       "AhkYRmd9WQM2drVl7e+58eSUAxJ2V/i6P0RJA+RHe7Lflzus+jho46WGt2xnTPpRlxSrfjxM6G0R\n",
       "86pwilNPcboAL/SmkslPYdD+Eeem8X2roSYPu0v/gu7cDi9PvJ7AbC7PYGHEuKrvvF0R64LfrNq9\n",
       "4vbuom6ZeNhVStHWMvxjoTG+X0NtaqyCpODpT9wdXPZMXEvg07X0Ata+FwVFc9BQs/YO5omamY8g\n",
       "BuMOQlyTSbVbhu5lws6ywMaUxgxNqwbuO9Xa/IGLiVdR/2jIAGMFzsqMLUWwDnTC1qxIquJezWlP\n",
       "5t1iaNrP9NnlaYpeBQidMycFYVSesjctIDDx1KIzom9t99eKDUchxYU+/b3Stfk5he0vzYvvzr0h\n",
       "MHxc9xbIJg9tEUY1PJddbDLDoKL9Hda4378NDFAcCJm4YkcJPNTEZ2J5hz0/0zohkxqANh/3dnsz\n",
       "7YazrQAXQAWMu//b0fyEfVT5xqeyPTSYjce3koeaijy/mhFvpUXtG1d6bMq1MBMXKxyuN1gb+0Jn\n",
       "8ALzMxeAQmx3/EiiG7+mZ71VAyoyNH9Qbu/iFVnKFCtUfw7upvfenyKWdCaw0eE8wLnqr0MyAvXw\n",
       "5YUE5xNNgQ4uHuFs/CjpWGPgCdvOeLSRLPzvCrCtNjU/iw8MRSfUaF50R0oqffy4AtGxMomIB3uU\n",
       "PkG+whYseiMZuGO6Ug8imd1Y0TZyQ5G/lN2IIlO9NIW6Ia9iBqPtQwSE2kQwqRfki5gAeo4Ye3Gh\n",
       "MgVmP3y1FSVTpbT8IM9ixaf0gDdGmSWr7TKgrU0U4rMaFcl2UL3uS8h/De7Aoyla2+zbqEM2Kx6V\n",
       "8Il6zxoW6koAioLufC83sSnKVQVggUCht290QlGlFRae4qUSQAQoz1tlTaQsSu9tuJ52OQkhfTur\n",
       "Vz08AwVvJBMZcKRNaEoXl8kiQB4SDwrOisA2WmwpBAuAEBva8CnS4MA2Nwp15k/Ab31sPi5oUQj3\n",
       "SJoc1affhjsLEGSiLzdCk6LvJe2j7hvB66iISOkuoQOogKya/LzbxGoQ+6/lib9qIqYwWDnE1BRH\n",
       "Ai48a3F9EfTHjnVcWqXFklpSqIMB4YcBM3dP4aHXNRKD4jK1t7U3giirIeMKL12Ul06vfOF9z0Z/\n",
       "LlaYUbRhPgO+8b7DTmUQ6fi8i3nGQnv2/KpGOdGoMjcF80L6XMWw0+1gX0fyO6mOWh8TX6Aye31I\n",
       "KnDSFv4AOgaUn7KPPN/0ihCq+wmwHRD7yqnFvcV9yEpAo9D0NlJ9nyfPjbCDjmjJXiCmmVDuGNiI\n",
       "q7ESf3v8ExlsHowKohDb3hgIOHNyhVIGvRx+OCzSTAe9+kIVyMEni5jgTpju36677rQeJE52tyrM\n",
       "+mE4Au8zZZcXFe3mIaGEgE/4VQs1klHVYmupEkZZDrn+xKS+tskhIH/IjIpDWslT4dKxzkMRbj0n\n",
       "SZckLBlYCBlal/2e7uw6yd9CjVssjl8xV319wNczb9cDsditx9e3Mv5PbS70cEyp1Ysr1jmNdrW/\n",
       "M1knKEIyg+PlVA6AHMCGxXVzGqE1B5Tbw2Dm/5WsIX04i245PSd9d9rY4evEjFpxxv2sXcmmc11p\n",
       "E5od8mzy2r7DRK0U8MKHt8hf2U0ZoucbLuyc3Qi0voXADefumy29pMKQHkgxE7ng8HX+9nxVKbsv\n",
       "1/8IoK932L0z59C4nyTNSzRCKTYbz+4lGxcShFVH3f1GM7TZOBVb7xQEWlS1JYAv584e1RPdpUhs\n",
       "3fc8raYDiOEOSbhPJSD8cahjEYbb9CjNgATbKJNNsB2k4W2KUqzxiDOEM47eFCbhXgwYq/1JKhw1\n",
       "ANYr24PwAzMkD5sakW5ypGYQEilmXBfblUSahEnbcnky8S0IAuxp3Od/pHw1xh85YBtzUMs8nvqA\n",
       "SH0IbXOU+Mf3GXEijjSBRU2eCpILhqqxBkOb6zmQrw21Pk2Te2kJRSDYW/tn4j4BJfh9WQfxVzmX\n",
       "CTLC5BfXpAhsJXCUiG/jw1pwv/o7lqtFMJtm7vtDl3txrrO4cvtly8HG/7YAasMh1++jyaJhJ7GX\n",
       "LIUlkxjM67+wtjNtJEujO2qlaKnR/iKUoQgANt0FCH9Rn8YXp439o0fPYUv7lYm1mFrb6/ugzJ5E\n",
       "B2Ugl+d0wRHAa4o8qmACiC/2CcE2use+NAGhls5VvUcD9yHwVL276J0j5X3BYegOSyzMqZbdZaAW\n",
       "4CatY4qks0+Rqwfp1x/QU49KBmZzbXIeAttEEorzWwlij0MKYRS+KRsGBRmgp4TxoulVAXqyHrrJ\n",
       "Dmn01zY+1HSb3yZK1XKbD41uMWeWtwy9JG7peMsVZLpfSEpMIDgjotGXN+6aXAa44vOwr8CZ3MbT\n",
       "b1MSbZOILEu9H3AvAxWnvJZP8El6szHT/uqrZyRFjjaPmG9xzTrKFVYggL71e/dbjDSXlZMVllEa\n",
       "NEZ3wMuYd8UmQuNb+6j/LbfDj/EcQ9gjfErge1vtHmYm3cpy0hQkoopoM1jzVfkLISB8zHI6VFiy\n",
       "GZAcL1w7Dwmtd4LpVskaUP4ZN6Hh3F27GCjsJDnGftgrwOh0+wexIgsQrZEoK6QDulV9HWZVNlJJ\n",
       "fBxslynDTU2wKdYaGasX5eEBYYwo9VOXBTuFZfhi/tE3qB/wHApSctSqD8gAvUub45ZAgs4ADmjX\n",
       "NADJ5Hfj7nEcN9iMXL22vR69ORObr2TC91yYRoR3imDgRWu8SJN1bpD3b8dTaJjn4h0KOpmQmr28\n",
       "xrwB68cvJnEFzqGtsjasXONjCxK9iIRVwaYZuyhKfHQvHxFsi4HlXWTmKmXtzzpzQ1vRLGoMPRWx\n",
       "7zJYMVaTZhrxOn6SW6z6DgVioS+MnmJAYXI5IxTsE2/PLgdPoodHQRojqurJ8tyXL7oDG40eG4ID\n",
       "LI8PLJBxdGTgJZjH/G7+wl7gD2EVmjQhDpcYzWBnzmexWNmbW/3g7WRsZPY0W2YPBLV4KzfH4mc9\n",
       "0/wQQpPdyC5zOj4WotBTN3GXpDAtByKT2OZDRo/Tjyb0pd3W/MwZuPzn4S6CCTv8onH1lbuu9fiw\n",
       "o4ogxo0+Ij6Ov+lsMkBeUWD0QOvKqH+H4WErdZn9EBN7vAOWiWvH3/rl8+yTbQn8L+T/jkWU/HZh\n",
       "C5jxmGqdhcP7llPiU313tizDUI3hgdzCtSo0CSa2IbfLJb7rztOvD29D+rjAb22IXkU46lxp2d3L\n",
       "968py1+9QwMKUFvzQMgKFPNUziygpUHxgS4cVs4waIRNXHHuoQEJRlbBYy2bXcssjWn/99okCiFx\n",
       "1JUq3qU/FXsLrceoj15hHXhs0rI5urGxosVJrP4jeJjRU5dkELu+YcEl//0dY2tHA8mJY9ZVHgU0\n",
       "+hjyRJ1L43Sh7CFDmR39DSptMR3LkkxA+UOAuXDvWaauBpZUqBtTBi67vgpBZGE4Mw+eQej5/15L\n",
       "zv/EwGeC7TEupKpzztv9+/bCL7U63EbCg2laTaQkKXWREww6kKf7AzzheC97WdjAGdS2fv/oZHPh\n",
       "Kl5fhB77n0gX13Y7cirBMxh0MNKyx1r8G+CvVsDGrK1VKWYhJA0Z1Nh+Vgtw6aaeRXZHLoIeZ8FS\n",
       "bPOcaYSa2KcsAY6/1woNZQ1H9xA9rg3knUUnbwwKGIEfAZQw9eOwTorIPyvqhNwzdbTM9QPU4rOd\n",
       "z9vMRLFJ7R/ftjBBGaHDnUWH7vd/mGaVdh+l3wvc+T4UV705xDmP2kJh3Djz7TF9r5VRMQOtgAx7\n",
       "a0zfnG+Sazrn+DByfho64M3qmhYaktL0xITe2aHiWNxpq8z2JkC/+x0nd/IR85GQv9IyNC60LJ+2\n",
       "x6gpCZSsPx60HhyxwXyrvb7fD8fCKd/9gEXBAAAOG0Gb/UnhDyZTAhv//qeEAD++youFfdGEZAC6\n",
       "S8P7H69113FBCQRL9jT5pOAQzyWbBfIT65ykscV++gV/E7ek5OA9xyJao8HHtvQIuZa1nO7eV+Wm\n",
       "9jjvPv1Im+BSCjroj5UZa4KTVoCr/jDlf03o0AG+fLiFzCMHBQAMz2XSlhTABqBpxvfaMpXuP9Kj\n",
       "k6A/dPPDGBKy2NpvKWVSSuMfNkv3kEFaxN0/YrUywqPajBflzOU2drtg2nT5sMGmcDt4F4CsAjsg\n",
       "MV977VSnwCZOSGASJB0XCVVC2QcwpbMCCUPapsvWPJQInZXQ0TOMnxXBMi/q4hTj7VRuxL5sxsNh\n",
       "aA96qMXHAg9U4lwacvMLiNl1yD4rGB9fJNy3aGwT6aTgjsNlYvgMUDSdNGOHEi0KFHgG+4qg0pTl\n",
       "U9rGNWI93iSvhOqmUWMUkKVNTUD+4L6wZUHOHGGTzFx5yYvDQiyfv2ytYvuxf/afvKWccLcLWNiJ\n",
       "6LZtFbW5lwb1MpmpUGX2b2aoGK1QpzdMLmaZ1L9yFCCoeRZR/gymy6+hU3QSeehpnAZv7P3IL4qC\n",
       "6hsePW9M/7cUwOm+nqROP5wJTyb/5PF6rDVnwSsVa4SZ6ShSzle/mlhQIHUcSRZEt+fJtgRTbl7Z\n",
       "GCOx3LruDELf7rhhdws2pkuFfXDPnQA7qMpGrJVyICdTK4078zEGGJPmTQh4xCubaa7Q6vW6v7sF\n",
       "0noz5k+o79O+gEnL5hD1sk0Qy0FNPRiKlvus9pPitu32PzYH35k+zt+pidrm0ms2FKQhk0ksgDhz\n",
       "fEbT/eTzBAFgW3GZ6UIqmVLozYN2i38jyovhHdY7gNjmRk6eT19CkVTP+3N/iah3W2nj1NK8tMo2\n",
       "NLMqsWHnxrxgVTa7s0YHlhodQt7GkYY7oPiMdKNCwt6zc5W2WAlwHQSYJgakt4IJy1T29sV8EeZK\n",
       "1pZKJU/gUBWT29iboc62DJcJr6fbJiG1X1CABRloJHefQ7HNejh8YpL43/Yu0iVIZVe8rP01lqAy\n",
       "5UxeMZTih9pblSSSdeNC7Kq/mwCI/nU/tbzrmMrs5l46DzwcZlm5PbhGu0iDcTzajmlQMLdoRoQH\n",
       "VTiw/LXkZ4ntBDiUUaEPvV+ISmSSj1lojAxkbu72Crp9YHHYIW2rQvccU0HU5UCVNmq/LhjNlEaE\n",
       "p4mrQ13LClyzLlnjefDRiz3XgylRBMFZWFAY3ORrVHim7bUGmgvqjYg3VMbXgbzVJ4sPcofFRm4k\n",
       "4B5IpWMUB+jD2QCXSoF+cF0NCUfWEY2aPq9DnEJV1kAVgAHtljePFPJh5IhCrO0HPLyXriEJaNxQ\n",
       "UdFrJrGTh//aIMxak9dxMY3ZzCGNh1/H+KDqLasEyKyeC4VqI2nX4kgLTIPkPU73YNzw5AeY1ew2\n",
       "ZjGmGb3uRCDPTTYLZBnKY+wxpdsXNHMy4pjDwc1wPmHDipUpnJ8FT9OpPFor1zZ6Cq87lFM1ncPe\n",
       "1JFejnl85Xs0zPJhWAtBpgoSzkJDywRTX0mRxecWznfnjtDClOZt/bTcDoG+vt2JuHuDewefUeEL\n",
       "0vkbUwzc6uv0wCBR0Tg/bB5yhWVIHO/NYYclAwlYUehFboyKQkOEdGjOoe8Cd4PjEZgNviHxysXZ\n",
       "YXTu9uzY4JfJilTO0u+VLW/jdTxgnOsm3L0JnZvSwho2/i0XEQxykPQ6jGFo1cotaXQIJCtEPXfw\n",
       "GDz4BCADEB32+NcAN1PbIOFFX3Ac/sjymTN7xxaL1QNb3E7kRTsBRXqA15ivvyb6hDMPfxe3Smi5\n",
       "p9q1Fv98CfujvdcfvFZDDHolgWEmdZppH3NcZVX8siUQbnsmy8O9IZ4nKwoZkEaSWLBvpepvyUY1\n",
       "gkzMnE8/Mp9P8v8ZzYvfsNRMqtML8DmnWR7k15kVIwwngDhLhtcHFr3lCn8dX2c03Ugb9oQoLPUs\n",
       "hsere8REi675lzaYXioPVbS5N5/YZn1Y8wrgrKy/kaC5BJPtjP1vH9DeyCwSqIyrZR77qSupJjl9\n",
       "vYfG5ZvE7rth0dzQa5xx8bT7KCe8mcr/erCRoCcHkgM4RleaQ9+4cyEWoqihd/w2wm7mEmbLmmFn\n",
       "/5PAPLYpggiuEqODUpzRZ84xot2onrYk4pzbCkAgF+17Q0NXWVtgsoW0+qF/ZQIO4gcLDv+d4U0R\n",
       "AYOqUz2rQeutqT4xb3uGG+zQE5Ky/ePCCiO6uJFnbvttNcsLQlPH/xWlHHgVvVSMNv324mY9Kcju\n",
       "435l5rWhkt0wUs/ymEKwhpIC4lKPjZm5xZAlkgNfUkBzPclhbn3wi1ytRQFyYJHkLE9I8HgZ4YA5\n",
       "giPuByBFx1lJno2vizXmIQfkSqI4iF8B/QVk1bbE3C9HS3iVW58m7D/l6BzP5REZJ+XH7pB9Wqwx\n",
       "6TVrkc6EIm7Hj8XSrWkHxzfVdwFiMZ/E+UMduoQd2uS1cHoM7DdMNBA9PVMWK308KOdl32tggtGS\n",
       "IrsCmekkKw480Tjnx9E0Bzz2RIcK26zdkt3VOKFalcUzSB8bg6VVFp2QSnEzZV5MRguPu/S5gDrz\n",
       "FyZbpefQ8+ARbk+pMdATGX3YJUL5ZG1c3i1XVnKaXpnwnjukDlamJQvwbSPjdfBAxOPvkgp5pSUv\n",
       "9Wmuo1a3VskdfOoX/8WyP/z/o9NjAX9JrKfKS0NJ3+e87cY2bZ1ob6STTd/7AC7JS4CDP/RIDTeF\n",
       "nnuV8U7jUALroW53n4KIVDb7y40nm9jZlwsqDG1qyJp1+8C+R0ttu4E+mL/qjKHekZtwSz7kbwIK\n",
       "dt+lPiiFNRs9KUo8g9GJMvrEnDoHLUOoL2txcQaORz4ODtgBkosagj0pH7OtBcMbeoP9UyIu320b\n",
       "ht4wrManMr7OQetsTK3fZzmzVcKXhoBA2Kcd6oFwt910hj9k/sHUIhAfrjnzogqBMVwRzJR10Aqa\n",
       "oHX47cWOdCKwCwXoDCljVij4AcaSDvEMm7++lyrOyX47zyOcJT+zT7/+VkF8zypiB9NmNON/4se9\n",
       "NNSmDci+1uCJ6+QXso2vf7IkuCXXNwQzGGk2IbXvw6iBKUO1u8isLcM995Hfvo1gIMpTJudYSV/U\n",
       "3Z5bkxXNuVM2SwW6J9fgnAhhnppLltbZ6j5NfFxzRv2KNLMBOkad3Eb3pTHFPdfugfEWdvOgGqHv\n",
       "hwsY1CpibAE8wA1AobHSxj0VAuZD1tcTTb76QL0yNEmSNe3BpuKOme6eoNpbafd6Cd854Knu1/+O\n",
       "6YD6xvypdUYMqKDz8A74R3xS19/JlNx/KNYZZQCZ5+WHC4DMRBggh2+NK1tzG400NJbFy5EyVaIX\n",
       "AxcEvpxW5ojB1SHiOTYzR/TCEn13CPFldBPfUwCD17BRjwoHbADkXxFJEQp4Pwyht84hMNDtooEh\n",
       "3y9ji/xjvgfME6GOziAKbc5OFLDlHK9jXrPjtzOlBEBbylnuIVMAlKBimIHlkIMj4sc17h1QTFuP\n",
       "AS4tpbW6bY0FRLW4v9gKfe69AyQBLooajgLou61MklvLNulTdus1QWx42ALJ5XZ/vNSS5+P0/SB8\n",
       "xAsS/EEOcWbLG2rkkfnLpWyXK9POtVoOyG2e1viklTvErR1Eit4koGawL47I38SWW349Ghph/S55\n",
       "XoFEGYVMl1R5RI881FwYBvx5y5jSFeqO2t+cw42jzN99M5+LZJ+gZS/cWF4if/1mKdm7lTKbJes9\n",
       "8wE1SvkCl3JjRtUS2YJidUohC2c/3zCxGFC+9HxfMszVwqyi4BUERg2Ka5aNHiAb+roSqKXxfTbJ\n",
       "0dDpqz+ZEFBWvlaPg3YW1FLCABHtGWyB9jn0hoV3orzZlDb19F+e35UO7u9YmHdloCpK4aoSpsev\n",
       "uwSkdFLaE6EqrTUt7d0cw3ctkTL95JXB5CbL/AI0oAG01AmnDzywRPV5vgZMKbR9NXciqeo34E9A\n",
       "JuBkXGtajaR+SBVt4Je34vJZN6faPqcRmvhm9r7MccpCdB93xjwAmcdIgruMriaOgiQ8c2Xq7R0D\n",
       "C9VVlcKE/+c6FZ3e3sn3TIKU/pqnptTnRVR5Pv4p0utMDBh1KKuBCiU83jhxJWts3k9MD/g6GL7h\n",
       "2ld03C+60VZHusIupdoWhP8Rm7uMnnzLldwbRwJcqFQE6+YL7ou7MBnzNE2HRdKp9QPS8Uabef5l\n",
       "MJ6lN91f2emuKzwuFg3+gpUGcgnY+hRt4xnKa2V6U2VtkPiCOWoqCpXVn7wkSiP+s091REwvh6Om\n",
       "OP/+lUEICzru0DMX8tUTQ5J0/M7LtDw9YkpW8C/gmd1qGLHKXme8q+U4mL6vtDtUFyuLjfeLWzOP\n",
       "09W7xKnq5gy4+WVGnH72iD6PVbc2OumO7PCP62vp4nND8n79dBKkZkeGSDx5GlDF7DEKbycZr1Hb\n",
       "rd1ar63ueLWCS0lNZn1LRzq6i2qik7KleoF2KhEcGpx6ru1iWslgQo6YjVQJ5G+ENSOlqe0QrM0L\n",
       "ijtMBAMNo+qnfm9VU6KToz8mWZoXPF7t+6nsoN2wwQwmUGprR8L9OVLQYYLisjRKGXECzI75mKLH\n",
       "dxqstRdn3GqM/UqrHkkOF4A+Dx+LGtOXAAf6w1pqcVoX661QgMfxtDmEJ8+4naHjtFnRMIvzkQTa\n",
       "eYGhH3lMF3+Lv2gzzytlnHvS07ocEpqo4VauV8kPhxMelOBylhztAksEIjR91ohn08mJ2omf/GMM\n",
       "Xb4mx6J0d/1eln8TteRSJZzM+RYqSgNRuRg8re68xQUYIJNmnw5NIQLiV8+3mVxj1/rSAxMLTxzQ\n",
       "DaPgwql5Y4VHi9eUPdnPDAAj11Z39oZHoxmfiPovhOA5r6aIa7n1jbDPEB/RBpa5OHTBAAANQUGa\n",
       "HknhDyZTAh3//qmWABCDqPQBBEokRr8DEzL//QSE4lXeejTNTV/SDe2CVpHimo2HAHEF14JmnnPP\n",
       "XHjdYKFKgeuphZkxKj1pjlZ3Un+Nj4Z6QBpVk3FP+sVG7XBi+pJH+IoZS0NrXAYyAYYdw2j/d3sP\n",
       "1xHPuIjl4rFJdh/24sJ+Dnp5BCJH6BIH7/eWzLD6mUl6WZ9TJgsz+gp+IwWY4mMyE+Ea/o9OPr9w\n",
       "WYFEKKoKlkMZxXfXBdBIGCflTguyc+RytZCIAm3kZf0YwvjJ32iY4ROVoycn5A4lcgnmudop1SXN\n",
       "ihnj2U4AWr9arCIfDFM0vOpQ9Ia98qZznL8j9QDyRdw80zp1MGhqeZmlPqudWjlvXOvrN6BQJc9k\n",
       "MSME9m0nRWwvrk/y2w8UGDSQ0UEEBhv+gyEZmNYCN++bYGea5YogIYVL+5kflDcIL7KDd9YG+BAf\n",
       "Abu6ZpnLbpPVK7YoCQviG6NDCxVaPWg4CsZuYJbOrYikJRTyTviOQsgxv0rjjjM3hCbCO83IlSBS\n",
       "y8P7McuXqRXFHzwE4uMwo+5y2T1wAWv1IAncbByoHEiRhU0bipDzTO7EWPZL/V2dZO6k8/8EaeKl\n",
       "igX3WoGoy27Ph9vwU0/b1KNXVR+Y5kaEOSg1YyFl2X+RS5X8SXk619d5dTAjQSvjoyiDRNqe48TR\n",
       "UFJyr65cADru5kmIb9vCx/3N9CaaEk8FUYeUl3QUNiO+64hUOyh3PqgS88D9Bo4saDyt/EjIvQ0f\n",
       "rgN7zmvitL3/l+uCtS/IolHRgRTWdzaJzflTaS9yJifzmVXspPbtGABWIbJYCd3mAOd9iAg4lI2o\n",
       "WElKBQvHHKaGpSqIZfVaTbD5B0ujytjP+Az8iVZS5PYcvTN5g78NKe2Fmj/EQn1N4WvJgKt8bO0s\n",
       "U7aZgB8GRhYs5tNrlbxLY51kTx+d3PU6qk/bCv1DwlvRwJFYafvTOC8U+DQPfU3Jt7pRj+xOJ7fp\n",
       "Eml7BNRcALkhrLhc3xUesTHXA0VYIyj1urXFIzpbLJ76A33qklQvQusPXgNx61RJi4SfxP9nnXA/\n",
       "gOdH88dvgJJXKKiuB3cbxJHpbRodJLxAqihEfvYCNm2/qpCTokfW4hV9TA3Tljx7YByVaTktF+Hl\n",
       "IQaXvCe+E77nQ6kHoDrSNx2dnHsu+Qy1jcqXouK4N4PNxXInjLGarE3ue401smmIBhcNS/EVMNKr\n",
       "Wir359Eo3RnMv/Sa0GUeaPeVIncQUUZnFidKI4CbOja+df1QFFvc9dmSULoqFxlzYtDQDESBx0ZJ\n",
       "TGmv4iTGjXctSrcYWRFiKDdP2ulDac61BKuuvr2ijCfaq9CNMrmGi4M7Dh4FEqfgO/X8lB7JjWHN\n",
       "uJDdDu7SkDi5eC+4o00ECaF1LuH5deEJxPP4e+UD+kAF+rzmyM25+AUj9RzULPeXCQDyZlUzsnCt\n",
       "gwbbbIBhenAsij1a+pUgiIz2EQR9RlNI7PkqsUDczLQDHWZQsPvlsWXWB01/fB/InxUuv2DWybiu\n",
       "W3jIDhp1O3YrEw4NcLIaB3vTOYykQsOllzZ9kRRNCzii7QlnsNzx7NpPqEYX7xVClpBL7oU84m+w\n",
       "rnx5zMi2gttj/ljMqDqGlo2j7DVkOLQUg0cl8c7YZssUZbT8V87BQf+Nrm0Phen8UT0/fjF9EN8z\n",
       "MfS1A3QwvOw2XP1wDYAB95r9M/vND358YckIlFfRYwFhFNxWQh8mruSd6RGrcdaiqT8PsSnTi3bW\n",
       "JRTz1hJKORXQMSgpCreR4A2YjJV/4hvVAOHx5WU9wjUetZMJGhmYXPVDPrgEa2oxgVNB2nMgXIsv\n",
       "4ebVSZRoIf54VgmHPCJ9esvljaGxSN+OEgwFbF316uKdhR9eA7SuMPdeRVa6uKdEBqcK5tnovX17\n",
       "JvyC3vtmm90AiXj/5KZnVceFxrM1RQA9IcuD4RzGMieQRlmNqKzNjBa9S5MQfKHfHkOjrRKo4B/z\n",
       "2xJJ2Xfr0NrWg4+xBOrz694kSo5vjYzUzKIWeI2AhP7iEDOSdNDiUGmdn8sw6O4OS7OqDFmb9uhV\n",
       "1+mvt3Jred4Rf4kyinxLzVRn06tHkXH5opYt3UoGvUrr6pbGR+UXsZd743PtZffKMv+OHKBtYmji\n",
       "9qDEd6NSP2mTWTDxVEVgC3Qnzzdx+WrqT0Nl7TclNH6g+Pj5gUmcV+qJKUHA4pfpWMVRKJs8Ia95\n",
       "AXlB95Pf41+X4CfNP3WhRjhMgAZJP5mpm7Bh+9Bn+kjtUT4hen8SmaGHbyhMky4bPe99VQFQT94F\n",
       "Z+XW8fHzFt0YRHB5seiWQpdqZ7g+/9+sekkT2kXyugey1uC3h3dLUiC2Alo+tUsFsDY7yJ1orrr1\n",
       "OQt1XNRDv4xlWsf95+6ua5moTIax7B/AIfm58xBe6JKE5AtobPMRTkJVAA0qtrleoJKBVBSXHpYG\n",
       "wBrg/OnNaixmyVAWSlnytQ4Ms5L5t9GwfmnbOhwAAB6oXFwy+9vNgHMuJgdGKH5NRQY3N/j6iybq\n",
       "oZiw/dd8zB6Hn+tBPtMMfubuGA8bn04WYQkmVvAlIDzEFhT1YaDfDvj79bHKm03Ln7QD+4FsVzkc\n",
       "Nf7SB3bR5IXKcx7WHuGqIZcmaqQ59khcw0520bZ9MoqGsExr89AfRAYBQk/Yey7TfoQS+x7L4f51\n",
       "Z5CP3AV4HdlaPiIJHBBCnRaqI0ltkmYueo2ezEv4WSk6S6bGvHE9KaOSxRyiKrVNyLQUIp3AMhus\n",
       "gh2X0XSMb67e7ITFu9kMBlgWqDb+FBP9ZXeLDCnWAdY3NRyp+N7P6KsivA0DIn5Q8oMH2pOps6Zg\n",
       "bsOCwKHNjBer9rbqifL6KRErC8pdPBaS8M/YyTEqB6bZ3AoPr+NpZ1ytaYWFk3cbuxXHv9tQZSc2\n",
       "DRLDRNeP/dQI5OWSYeo6JBYDC3UpxvsWxDyrF5mXFKC2LRZE5Gu9sK5r3tEwuuiVA1yG2x/MgBIi\n",
       "7QiJm/5znw4wzY+p3Dt0ckcG+lZjllfntl6LkI4Sp/tBxGJ9G5d3de99QYpJYu4HsB8yKMwkZrlt\n",
       "8FTg9YP59nNmH/iDAjQX2Rld/EgQmBqhNLx5KltFkh23mf6JFPOaUKhXFIVjHlBFnxplZHzAjf4a\n",
       "uWGWcxWZoFoekzrBFdSUKqQvxTpbzkTo8SQBOh9cCbayGeB40cnbHtBwMne57A7E/dVXy4sgwjJP\n",
       "B28AsI5CYPHQJ+0L0DtCgjDra6gePOxwDZMMvyqfJuyW0YGYxvibr2YW+nNByzDg55iYOp7TARog\n",
       "tpdMVH7nV9twRzbVRuokxEelaSrCjIMknGFydVV8WI+fdNIKrvuqBwjz95NuBTypV1BVenJziLmx\n",
       "VPYI4Iyoik/KzE/PJ3MmoVYQ7svcP/kIQWDtKX8o/A6KyXrE+pSBykENKGK2T3VHxYmoWXgtq+EA\n",
       "7ota1x/lILk7nS/DPHeq90F4RZX0SQllGcoLgDFbVnmn5lwdkzs1oi/bT0GCZSdW2NnIxla1ZoUZ\n",
       "F6rwwVNIyJs/K2vAGU1oBBV2L5HIqfnuIwLeI/+cAGAwFuIBfc5D11E5NBT9/ZAPbheLBnPhWJsW\n",
       "sBqvAyKwdZLdYGl7EGhyUsyAcKu74H2h4yIDy6X9FyAci11RCbDtRHsY6u5u1DIfgLb46WwkxbYL\n",
       "chuDUUsS7VBHkL8vakISrKbMmGIJZi4vIAOafNBk29KcXgs9RH9o7ih0tguU5cTzajvX7vXAh1cC\n",
       "dAZeg+HCiP+rlw/853pE0NUj/MtWK4nts4/ooYTB+sy6SX4FdwbugbFRKtG1GUsSIWsfXIaigbY3\n",
       "y5M/lgGznwmgYAKreFMaB5OeXWIETRJ8HvOmrMtmLwrDNOiUnucQXZfobVb/BvWirlisdOSHUYYw\n",
       "2H7Bk8EcAzJNbQxonM9coGzCQigCIbf0EELHtRs4twmSAbZ1M8sTZMBJv6iXc1syKTzj9LZWnqE3\n",
       "5lduD4BZoyPo8YrqbFDu8NHJqh7b33XyXfrUAMYu8EO77xNwzI+Zyfj3mZY+seb/UcCx8tMwDgGc\n",
       "I4Kyc5E1lWlzhRbv9SWll103e03q56S0q+UiUCQ10AXDKU4pi2Ww014oCFbGey7rCKUR0StybjYk\n",
       "41Ekhbb//C+y7yiLuZH02/Sm/kPoi7IaJv4odC5BUzNp+w9/VyldHnORiXACqOIhgrGrQoFJPynQ\n",
       "QMyRzEjh1nYIzoTymCUVtX69UA+9r/x5HIDnO3KMxUUrM3lbTOM49OWDZmy5SAJwoW+Eaz/SzUT6\n",
       "cGrj26gt9i4UMVyJWxb2hd3HqdUYiK6OD8qI5y0xbdfLm/vTmeAX+dnUCsugEoB4HhDsNZbJxpLS\n",
       "orX3XxwUD+JSbB0aiSnLhGpd4L4i1VnWFq0TFC5FedlJIEFvQcvjCvvaPrM4x+mNMcTCK9vaMR+J\n",
       "HEZgL74oHFS/HluxaUwVx+Ul0IbZl2XLusZ37VDPtBV4WRnvDLc0anRvA0HNeAon8RWhLuxgH7yG\n",
       "2QtHc+2lrd8QqpwVK0FFx49WRDuMe/qHsQDFgAAADiBBmj9J4Q8mUwId//6plgAiPVvIysALJgYA\n",
       "rVd6pvuWyrc/9/RfS51rSp8bn6WO5rbJHdxXA5S5xEeA5f/sqloIR76oArV7QNkl7ye26HLuhQ2R\n",
       "IZhAo9yywPMOJhpUdV6HaN2BdGRp7/CuoISJsab0YM//isZGTjeOA5Lihfr/TaDimpI7xSekFgDN\n",
       "H4bEyH7jlzq4GN5C0AIiCo6DC8m9h+au9Pt32zdsN+MFJqOcl0OzNdocd5MSjjXgD4/qVsOmZYCR\n",
       "m45k/G9OD6Xuq/97B/6GETK9Nc3Ac9eMmq5O2kMy0bJVbPsR1pnSAMAuAKfIrqLtRbFKPUeSfb+A\n",
       "Ccqy+chQAl3uv+Y8nAdLTMm/rl7SgWZ7p280cspkNbHsnwGgIe71fgJHmklHSBQRSm2jotAFfyPR\n",
       "fQFLSvTeMmAqyaUyE8uilRCj1IfVuItd22gzMCPwcYg+IpUtDp9M4Pw4DPHrcDLceF3riyo2Rvv5\n",
       "YKNXk9KylsWxG5+sFc2lyk4Bdb6bBlek6Aax3SufK0A3bYlvMmNMxB5euPWPCrJTX0sS5fxdbv++\n",
       "CbftcedV9skuAaV5RE4KpNYOmBsmuzsQFBpM2rf987oSF70pI2JfbfhRvP4Axwdm5EQZ/8HTmHqw\n",
       "nwdzMQen8ca7J7pjZPdQaLyZZmXMjK8wCTRw1zZD4aQ1ZKEposZIv17xBrfiUK2yRNlDVojGX490\n",
       "QcwXXfU/Jh+cDLutPiImKIo30oDvcceUOLsbkGoNRoBPWTHyj6HSER/AHv4EoffOgJB7of9NubTf\n",
       "E388zVp7zxtFATsyN4S5C7Sdyx6QdP1WI5oRuPuM+0pCZ9tKkmAouZsgVogUbZ9eqRUhj3wd2Jmi\n",
       "cagMzOn709o2nF0gclL5UozJNa4ZUCiv6JtZt9OkCX1egaxbtMtpN7lsVqHHgwndwhhum4eLKwg6\n",
       "Z9DCJ5RMkF1dS1/CNRExpV1j0R4qaADkF+6QrnGERd5wSc/4UUPI9nJCEwEYSGHPFLV08gO9efcE\n",
       "JdX58WxR3jtByUhrXTvdNb1PTLKKYA1U4B/azfgMCgE2qYoH0u0MDtHf2+NYf8MYj5+W+H8yRiYg\n",
       "SxcN0e/RIYVHn0GEH/MzLUtst07uV4riPEpjzz3fIUb0ScIGtOOxpYeOD4HRaYlvl2EYPvU7Wu87\n",
       "7n8e+i7xyrc9SGP6wagkCl1fHmGsF7inrwiTLLgUtvsHncsGF1j8fj+Ry7pjVDfJAE5A5/YdHDn1\n",
       "XXt6Co0C2GHKgRPamSoZh95yOhuGOLEi/QnpESzxoHWjs4mWL/Kyt+o57i20vjU1C/zyzGEu6HuM\n",
       "MRw5ggDmIIp6UJNeNHoZmBeb8D9oydS+V+X3R1cp/W18xrzy9HFXVlOgR6SLNvQcJPewCzKIDi7D\n",
       "095wrR/9+1jj8+xTU4yJQWvOj+QHo7YFzPNglVfzwEw1SR19Xp7A8+9szm9Fj8PokyFGn5YF+xjP\n",
       "zgEDOHijNXurjZ73ztQtCnm9VSAtnEwkSxvPVvfTvkkJNY3cbiG/97P7RFWADw7Pmlh0NwBLgWgS\n",
       "peqEgjO/vuIL/KProQyeEvgLQdR46onUyjtev8qVEfGXmZ8apOuPm8sQBN3o34sjPzLOlFzuqs7h\n",
       "1TfhlfDNjKpAr5920DPjdZkRdzTzWbsB+g0CmUhb0fGtQzsVXFbhqb0I0bV4EnIK35csk56W5iva\n",
       "HvOsc+NXfJ4HXdBvgZOmx/fqkaKVPpxpRnrtzzsmRys64Rj5uZKsiiGQpjPXCHZosYkInWIbF0Uw\n",
       "LZsgMoP19o2v40HL7idf0iU+7Vemx/Ons5bProHSUpa8JWKSubyqSqEm9m8jzrriTvqctNzu190m\n",
       "negjpel08tuID6mH9g0XqeXyEf4+FdpG2zzNyasLHJ+blv/D7utIH7jH6F5etqp1zEpkrJiI2NYW\n",
       "7jiWL0fnIcNLnt5/bKy/FtwuAOulbWXIn+L1N6oLrw6zPn4IAaGsmebYa3hOaEWz6ZH+uXezDn25\n",
       "YLJ9pnsN/n2lG1NzSb+PhjvlhRWnWRtOeX5e0QCPjNzFxjzxqz8E/j32Bz9JMZcyabTP06FeQrN4\n",
       "DNujsF89E+shDEG5Tn67t4b02GU4oNbfH+8mwvgkp2bqtwr//Fq+1pJtXQz/0VnB8g7Vii2pdWtt\n",
       "kSt0+EoTe6uEcIslPVVtB3XH22ULq7MQArD0TNM7R2wLMPFvaPAJ81XDJlpEKQHiX9XRxDWtO7u3\n",
       "6l4QIIpJmfrudNTxag0D+0JghbqRxpcQSQ2O71ZEQKWYdsLre24HbR0V0WF8pzipairwyO8oo5i5\n",
       "TSs+Fufo2SkqxQkhJcVG8tgmQTRg3cblmrgOb1S1GY4QKe73I9u7A9UMN6N9GSPLtjsOGYKW6nl0\n",
       "8AAd6QQeprx3UOhfrQYa7us6QKcxbqP4r2e5YUPVhDuW3xxKQk0+qNH82Lmc1e8DyF6ki1oGHtZ9\n",
       "cjRHkmq/6s4AEX5OgKVoNQUvVSf/Hogw72xcGDLADExZ8Do/rSIm7YeZRXHYaMu/jyouqXVPu54G\n",
       "nP2798IGr6IcyOaye+oN4ph7w9r78xx4Xxgg9PXwi/uyS4FmeFqc3ViPd5vfTR/bNuRsHePbvjIo\n",
       "pvaEnDptUiX6GLmrbm5OSOgTQZeuI1BaRWXMzRvSHEbjRHSkP/nPrkqZrAlEN5jPQaycmYYK1UDw\n",
       "wjI8Y2U59yYrHba4TIG8KU8CMP2Ij12YY9tTdKJkGjhufw/RASDZthdliu9dn+0AbLeWh3HzepB6\n",
       "R98Gg2B/nae1hWfZTPup3UOszLFKD32rrYoc5htWxcEpuWB1+tH9D1I2slfysSsh7xgsXsnHuzGt\n",
       "+LmawJml8RCHB1294oBT941MZOEcdSTs1AIZQdok7G9abbLpyS3K/zgPxp3IFjUfTeSV8m7s1Ljc\n",
       "9lqXvkOIR6ejbUvnhbU0qE1tIw5gpmfV9IpjPjUE/Vghe0yrdO72lNdNkytJ4qyKU8sklCaOCfKf\n",
       "ZNgDEsoDU3wZW1S58KmNORe7RdJJmLmwYTXwVFr5YTVPTpyyjBmxX48dS2T5lmHHpKl0g+82KWCE\n",
       "qoZtCwKy+jWX431GN4HoIh2NhTNMnihFTu01wXVybs/i7xZ50ZqtnROM8NzndGv7kgMCBOXd4qIu\n",
       "btseKgvfTdbdliEQKBaur6tDvKw0T79w3eX0kta0Z3kfdiAvniBzwRTjpp5gDH22CnckV2jFDhSm\n",
       "G6hS4DY+nYf3XVwII2+AT8g3ClyDJTQBCsgi8k3Qy49I7Bmcx/ejAkrNvMO6FsDkdROd2ZsNqI6t\n",
       "9SbmZUalj0m+F330X89dCXYb+sDQ3ho9UafnkXff8/jU0J4iRrPfrw6JDGX2ARbPtLlcipWKvz6G\n",
       "1CkjEWcmUUkvplJzH0IlLeFq4EDaNSHglN28TyTeT4AX5sN87ZYwVnGExZuFxyPp2ohiU1+DXpBd\n",
       "KOGdEBDUgJgxHYVTbT/4mFcOYUj5c/GxOtDx5aCDuMfTnIpIvewK+tmhe5L/pbnHdadc7FgpM6c5\n",
       "Vwf+QGo1eL0cmA4l7SXIdizWtMCDqLEVFfxQ5n0yFXAYPvGv8O1wKyVOdlsqRtBoPpD+6sZZSd1Z\n",
       "D48DqVXUtGoTEHV/ZCo20ea+BpUFEqk98tbxqlJy7aF9SJDVsF1I/TZwxgU2yoyPUSMWMpUVucnx\n",
       "5LXZ9xf1+zNjdpqx+AxEV3mNw9z4B8YIfyvhJEDLo12uOxL+CN+YgVzd3X4rvmHkMIkbXE/bq298\n",
       "9UYalp4hHCdKr8JoPPdkOW7rPD+dtO+NEiuKn+wEVlNYj1izpXJVeZfyVOfO/8+hHf1zRQw08LNx\n",
       "wkJPP6Qjr/DdSE6JMR6Q6lSY9Al+rPGXVwdWlz1/UrUXDqzXLZdz9bDhTAQXIRv3GF2fpwO98UNt\n",
       "uLSiu/tqZdxBWYNzMUetaTZCCnla/8Lg0QdNG9EGVkRJObp0AK/zhyapxsze2zR/MBBGjr8Rau5u\n",
       "VUda3AJF1iJujmX2uktyn3WjYwk4jqPypFMYSdZy5kqRcuANRyALpbpt05AMz435lVVhk9UCArTs\n",
       "KFGpClaODLxf9NRAKgLbdQiT4BOkPYK6wsxG5m3S2jM/Qell2UnOqr/hAJHx0QgdBTBwIn9F4YCm\n",
       "lm7xIxyyqC5IFrJT2fm5ddmVYS4tTX1WenUqeTvgy8htJKYsZsUant1/VlkAwzlYgndJ3YnReZ7k\n",
       "hydv7OITeWd/lVoFcwxoeTvOpMvu3QjyfKVfpHFMgpJAn9wQ/DnQQbZJoQVUWRtL4NskCg5hM1Qr\n",
       "j0ZwNwcGL+Cg4VQHqHAU5uHV4b+1DMhfxyj7EVCu+oYbOoPssDYBlzBo+RzXEDhTujLmNlZe8lwT\n",
       "9W65J+6Xo3Dmz0yC7NumynmL3OT9hZnHv2/V2kRccrktP0UoC5GCHNbfOgDU31dFeZU5P5qUzgoN\n",
       "ndmN9I2RS+V6gHLXXJKPkLuZrpaZdzgXuhy1NOALTWY1HPuQ4jwgbEUYeU7DsewkiU/MchfYTQrj\n",
       "u6pLGb1+wm/gCD7QJFQVJ/gtnse8NfWlYLtYn1xgfKLNvWXgtAIyQB7w1Bnw+3wfBW3ARslr6DxV\n",
       "wEqbd6dY5FY83CbMJpJYfTZPECx5HdS7Lw+Svgk+AUqqNC82axAB/ZOqvR3LWahcccmA8s0iNXgo\n",
       "Ml6cz+AhDQ1lhhLrcyDGcv5cfcEVENRoRz9k13O0eBl31Pj8FNOYuXGwUuIxyezPKXyUf/7b14OU\n",
       "1JwZ75q6ZD0i4T159IPP7/FMliHrCwVrFkgZ7Z8LNvSQo1ZtJlvcKe6APj+Ui10hEPApvn9D4DQg\n",
       "AAAOcUGaQ0nhDyZTAhv//qeEAFj+P3YMlQfYQxI2xVwlPQAOAx773aiZ1+lV2fYJaaw7ZaZs9wdN\n",
       "IYqti7joDxmHo1Ts95ml6dBlnjU2fkRS1U3HccsUrMEvfzhCDzDPLpG4uAaSD0QntqKh0oTN3UgB\n",
       "L/+sH8Z45ihzfIgTpekuO3zTmpORQ431ujx6OOTo0T+oxASsR7LdTcDm49SG/Ss0UXITe9emx7ba\n",
       "+b0iOQu664uyqRr9HdzVQYxNwiEJROqUy/BLpq3CkqoT6Nt9/xHaKl8uYvowdSIcaIZfLvMB0flu\n",
       "S+y6mL2AlflUH0cMBMdbtN+o2t7BAtDhWjI7DXR/K420k2NHM02K10cLQ9kMGrx2+bE3JPsqKQrM\n",
       "q99dHQb0C3RyPNbf4e+4xabTlc9QvJcos70BKDA5I7bpe/RiBva/yyLgLwqYnTrdVkYYSMOjeKMq\n",
       "lJ9v5T147x3GwMt2f2MS4IIIpHD/DmU17tG+y83zIDFARopgZ3QVEYluhqLdmug9ksBuU21Z9D7u\n",
       "qiEORCvqAABUPTPGMdj+GkOtdlkT6TjezHbHyrKYMoF8EKjg356Nd1y/lxyVMugR/0iP7M19LSjR\n",
       "82jfFOxgTCplRSH8Ma3lTkV/YwoTifqeRyzqB403cLuFajbJiOHXZWNSr3k3TXHTBeWcMMpnqzDt\n",
       "jyZniO41jklW52fn6CZjY5RaSiEIfZ7cYywiOrH7H9bIOGdzun8rQpaHfTd1diglTaTNL+ikwESj\n",
       "cRpf+fXDCongoz5et1TU/dQDniiubPSp2G2ChxiTfYU1rO182QjBU+V6btum+Ye5lOSzs8oJKDGa\n",
       "F0oShIMHy3hx9x2/P3OEMM6GAUmlrcUaAow1QR3lTVm+NQDAHNWDZ0hTADRZ8yGNuWEk8yf++jC9\n",
       "4W+QC+fa5qTT/Z9dxlGvmhPpSeErBdy0Q5wIORsIWB9kR/TIInXJ0rk8Az+vmFWWkaoSofApp71s\n",
       "UyC1fP8HwOeBzIbsdfpdyq6nsIgH9GXL5fDfWuPoP4JdsuJi3Wm7qF3A9EMugndMOAp6IBnprw2R\n",
       "4/p8Ag4sau3ZqexsR0EFg2YH5Mx0h0L5bc6OnfGU9iF5CjprfDQT6kRI3XjXEuQ3ntYb3aOZ2k0n\n",
       "DHO/YIoHtaoOYSAEnucTX0ABBpFbStrsUZexdfZzIldHkiW/+oXdY056feTSYiwPhhRyo3d+fjgo\n",
       "HCM/yZ9pJKBxi9+piFHebCDFRiL3hAC5WtuXZC/Nba65aeRgJ8XO0nHUifUYcy+Fnplws7fomyp+\n",
       "UogtctAFWsVMOIQArdJZikm3rDy2aS5xzB4Krgfzuqpf+kIic2bQNmgphTujk+ZaYucsJwH+uQSW\n",
       "ibIpr90G+eCbU5Sip6QV/z4SPqeSre7qoXKpZmyPiBFF5OzBbro7bH0b0QvkeeYRL9wvClPK0Vz6\n",
       "tMDuNj/NDR7im61GytYCdcmgTppIqpJ8YGcc49TWjiJ/mO5FkqV7Any5ekVf8uZlSUGCERI9FfXf\n",
       "6AtqODLNsge8o56Vyd2/cqWJEa3uPl55S5PsLN1beJv1HFttkk9m1ggmGgu8xkaZfeu/z3UdesXY\n",
       "d0G5MhOt/q0nxRvHhhTR3rjgXvgGC3vFpDE4t6piyr60ggqHyKAHOQSMx44U1C5s133INTS1qc+i\n",
       "euK/k3O5rc1gQlyr4jNhwNHh82kARTNREk6nXamy+2ygaIOFQjY8CFTVQRd2u9FHwWumlAAsr2aS\n",
       "nku9+iO/K/SNmNqQJiKWbwhqMpSiPra5RdJNZ9ImAQ7DVHkCzdhJRjfmZR+Oob3QdWvQRjH64Xvs\n",
       "xX4wWvULk85F+eihJj0IJEdWgSr7lje6aDkYn5QmMgnVWaTrXm8tHVi8vxR48oKYKI5h1ls/NGrj\n",
       "umNJF/Kf8FJ/j+0Xfl6HmgoTKm4iiO5fRIcY/DEbY/FO7zWFIqPGI09mnlrE8u7OIrfhruAQCU87\n",
       "HreYHoeFHzzREwJ4h/GkACofX9O9yQucDWF/IKS61dfNwRTYRpIpLh5aVQaMTPEx59XIhlbgqb+y\n",
       "QP3BCYyXVkqDn/QIa286bw/oiCtRZuepIyNGbzSfJexgvtTXYaCmFBlRDQ41Epxya3YlYrI40sYm\n",
       "3zByLdiqR/8f8sxFt4Lydxnc6PRT+IbVke+pBc/Afiy8j3xsjKTNbhcnQMsESRtAmnDeNBejz+Tn\n",
       "5YZr194ZPTNmR6y6OJWkmcwswcVT14kqLN/6CaMFw5Vi65u3Zapq69socDf0xRiffFzDkhDvKVFE\n",
       "sxfAWZv1fwnThxlqgXdagWAI24GLONvnTQ6T/675u0DQ/K3zQ/AtfAfZGJ8MzogVwzZa5mri5nhi\n",
       "SYzKMdypIbkcc41c2VfSkboW/H+G7cqUZYYPxkBU+WJLI+mgsz2fLFMVKaaLIXKPMM8G7gHqfs2j\n",
       "1ivAKsNuoCLc6MIH0FP4imivb2jqoHOrL+zVzbmcva6nO+9DIk2iIldDjl7oV6fIZkF+75uZVmgB\n",
       "TDyFj+qZicQoklZalxJmQU75m/lszbhCUXjIrWgzumzdMMUyV/KF0GiS09YyQT1mVR67slejOO1F\n",
       "jA7Ok9VgjxAgr4C63PQprwQL2UX4sh3Zx9t/GJDlXRMx5T0+yJWN+nYFhBRfBS13e7hOp7GDL2Vs\n",
       "JEG2OBiU22Zp8BxBr46e+y8/pZoIxXtL1cO4rOXTMCl2zi0UR+jkXvnojXMXN0nEuAUgUMyeDTW0\n",
       "b13itXrC5TQIu0+CPRmPcVzv6I4/Aju1A8YcymhxaqwSwShM39mIQV3MElOLSIxcqprRjcjYI0b6\n",
       "M/IFJosFOEmIDRuuHZn4cPyk8MthYESvxveOPndcsHhRW6LEGWiqOxzAmDJXzXARUbFCXjvU7XCw\n",
       "NfTuN+P8FEI3sJg+Hfm1Gxf0WCzo7z/cy8PxmzPnnERUlvR95zIEL7tk8mt1tm/1q+buhXLh7QNx\n",
       "E7fDmugBQ7EzpV7lbwEKpH9by0scxhJv8M6lI947nrrbkrMFikWRq9b8W2JA3RCqFUbWN4Y4Ktpy\n",
       "4wrzQFzznhvnKHE48j9CTS6kQFM8zF8c4aRA/++tonVyNhsfjT748nGSO79k8nSQM895JY7G7qo9\n",
       "OHaC/k/1otG0edwdnU/NtYec50kX9uTi2HzXMgLztvIHoeN/uYl7RKEZ0faj3rh9kRJlj1iJbv96\n",
       "QxFY+w1mC5S7RkDMhx/6n6PxuCu2yWoJNkimavxYKXO1CJLF0fWlZW9VT4wWbQGRL0Wgx+pk6hd6\n",
       "x/5xyDACtNfBkWd4UyjXhpF/rorJBmKtQNibJhC7DIszsw64ob9KSyzezajYG0Ac7EugDvXgV19c\n",
       "5rBiutu//Ksqz8vgZkjdeCh2THcBt5vn0z0Zi8/pqR4eRPTqVZd9okvBTIf0s4E39Foz6F4366Tb\n",
       "UthEjiseQVs5qr7+BVYuj9IhFcSpTI03ymZ2yNpbuArr/855Agw3k6NDPwhROglyjXXhwIR4puXH\n",
       "Cj7d9MI5HZSW9r/Zy1R56/PMWFHuKqB9lhCVSEftMxhXzyfhFK1oXAEAMBG+X+YBTMnGHaDIbUNF\n",
       "vvsDgDuQDGET8DYo/TddeAqj4LhZ/2mk7WI9GsMu9CHagNgI80wVQabKr05g+ZsnH0evbIpEeaoT\n",
       "ILcj2/O735Ag+VgS2vRAFU5LFtRqRq9Sdp5/+14+ZLK2jg6wY+lpTAzuMhaNkQBIYedSXLf/nPbQ\n",
       "eA7flTVy3uoE3jvg0De8BjWrjzJleQa+m1/ettqAlhAxyOUUNMs9D9xvnvJg55VyZDBLOhjHdfh8\n",
       "qDuWHw686mROQyhl1ayKxa6gS7RlgRQhDcBFY2PMC2NlMN/EQwLwx3E9e57uWbxGrmM3cX1u8vEp\n",
       "n8RQrzndWc11/sxW0DjFv6uXpz5Xo9fzi5/PdodJGOo3QSajR2Z25gP2s92H+XsByC0kRd0VV8uf\n",
       "/NQu9L/YUljrGSZAp/0qSDBh1EQspXD2xtHvDuhRj6z+cBMduVVySDj2yJUoPIt0WBE0RDsxhpTs\n",
       "EkkLkaSgEQxma//9b2a0IuNWY1bghRUai2Z9GdQcDZKTDQD+TnILBGrfdtjNnjZMZZe5ZwpK8B9j\n",
       "sa72XkRs6c8nbOY+9ZcPSkolSAVkvhDsMq9T4944LjR3TarwMPz3dpa8caAB+06VD2TIGu4NxIFS\n",
       "+M7x8aoptsj3ZQHN6t8D1ByNMAFXcw4cGshWTWrqgIsyk4uQrILsm6rMqvvp0gHKRmKISKaS2OTd\n",
       "aVX6q+S/e9UjTvQ25mlHQAjreh6luwn742orBhECx0GyQdFML1hg4mJBNBFdf2AOOC4ro9VmWTeL\n",
       "MxVHnIDd7j7afBI9aVeA7HLeHoneqqEseIH2QB3R/iO830s7uuHEkmDiYJ8fI56fqIhjVsLcBQu4\n",
       "mUcHn7oiQ5cuGjRbqeE66LwPBAJhLYzfk8ioMztZU5ECN8Nkl8NMB3SkInQEKfgmiCTK/C1T4SEJ\n",
       "zwg6on4/PsCNKWAcifxzJIwjbgqlYettdX5fH+ssEXOBo5hsGGZ3w2YKC4I/S+DVekMFTtrcJ2Du\n",
       "p1W0HVL2p7Awr3x0EPq85XAY0Xm+u66PKu156f4J51nhMSd0ram8XW2Gw/k23/z+UZfkzhFYulh3\n",
       "rAcktT6OEHQZxtAX4Ae/uZeyEvZ0+aw1VKfROiitWLaquWPoofUYk4Yu7FI+YxMmpG2y5pE99c8c\n",
       "3drF5jEl5Se10jmMJXvs05yXMnbdOJf0Fqn2xJ7s0RpHX6P4ObWF1NIpYLQhLYIipLMiBm626azG\n",
       "0wNpnYCQb8KNqPIlUldgUhzii4Yi58cuf+jPMItojYpeeU7umIoVgPLoVx800Pfmh9Ke2CizP/oq\n",
       "1jy9IPsW4lC2ueIqRv224Yi3aG+12EGYAO6QpC4v4Qjmi72xFD+fyETsDqRYi+N4F7aoBK0AAAdp\n",
       "QZ5hRRE8M/8AJrF12zGhWGOyLhulFlVJPrCKwZLACEC6+IRuDJbt4cQ4zTpuYXAjKKgms8g4y7ZR\n",
       "flsdWQMpWVbwSRbWaKH0g56nYppfOhuNQjG4t0GjvUwq6PxxCc98f5Tdgk75oI2/w08zBao4Erm4\n",
       "+PEH4SITsVItqRxlPxQ4Bh39rirB1EldK2fHiUOlcW1wtd5mcDQX4gThUohYwXhuh59QX5PTfUnO\n",
       "a5/SErH0SLeHu5ECXxaumNsN1NS8aPM+fW9cMQqY0DCd3ci3vmdadainyT5EBwpZk5gt3x9+e9dP\n",
       "S4adrtwVpZrRmZ4qBHzTRBnFcHu6gm4vWaLhB/yR61ofK7ZJwR3QiOI0QAq3XMYCMrMgZ+/IaDSQ\n",
       "SYkRtDMSXK37Vq7hYNIv9cbxHR33G24Li8e26x+6QrPd/vnyu+nXp8JO0cxqHZidE2un/DMHdy1X\n",
       "M31haNhSjYgGCEhU1yH+tTgiUGArK//flLwz6oLuKAaOLGPOHLvybgmMFBD+UeR7pKa0KyAK8hrz\n",
       "gkf/VJg/aVTGKrbt6iQbrVLZG53nWDihh35sMf4cQNFO4xLQRFba8cmco0TGTHOTDOmHA6Ryv4B/\n",
       "i4g1V/xMyHdXtlCqvBa9RvnVeVtakSs/hGusVXqNrXtmDqUAsJ4CrWtR7K7J3AzEwdCJkYw3KrLE\n",
       "scSuSdP2SnMuh+5wdOAsK08PP/IZdhAiV6onpvPjP+1oYzk6I2X9cMVRXX7jzeCFRp4Vq0WXmTjR\n",
       "Xi1pC9cRP9geA37H3wGb9ESxgW7JdKjo3d+B2JJTxYJ/dqYBXI4pgSSKpjFfaBxZW+itjmnXnCVy\n",
       "ZGx9kdPa5dr7cVT9Wbm+vV12r0gSofEyg+69rNEJfsP3Xi2lBPeRAqavW9zPfOLtvADCku116GRf\n",
       "Kp2lQtB2gYND9kStaPtUNBstNvayKV2l1v+TNZtviuV+1NXNjRwrHP3DXKPn4ZPQO5ZiBZeWOEcx\n",
       "tdrrd50nsbhLvFDsWlSsBEN9IxjKaIrlv9ymTh5ZKQVwe77+ItMIxIfLQafsZhLChb7l1EEXpDB/\n",
       "EIm3179uVYFgkyK/8nhfixNnS7o/xWfYmih1F89AzGi1wKUkihUh4nYE+7oTLQQDZUhKeguiG2jz\n",
       "QCGOtQcJxqc8qqEe4XrbocTNzhYAyJHMqc/r4dHPXYWHA8k1NSw81NTZ6ZtAuypFDKKT7kye+/d3\n",
       "yb6sF1wNga7gqict8EOIyXmGH/cl59SqBzzJr/dwkiUPKVSEkObtq8LEpbpnl9Q4f85JpGKTpvJj\n",
       "TgP1H7EDiu7Iori5p+tHU2/Lv5BCtkJdH9tIP/8f1b77F0+u1w0IuE3t4lQDyZvYPDS6r55MM7TJ\n",
       "j/d5QUhR1tGwn7BJPnLyo6xlR5BTaddH2tjs6mCCNxGQHLLM9dE6BdYvh9v6aA1wUzR8IaBDxVT8\n",
       "Er+IpO4VM+oMt1GfmXRENJaxgizKTDW5XAescSCYAZUiPEBQDUIKzNHpdAsbq/3eucs9fTgYeens\n",
       "LHGga+MfuowXyd8klkSDUaKGU52/oJGHoAEt7KYo6Tukykz11ov1IgmZNCxplkBYAfkB7FCzQNGV\n",
       "efBoAl/u7bl4IjKdYr4cBIq5O8TYn9JAR4pua/Vls+F8DN88Gh5Jh6LFrwXZhs9bNXA2EAM+SY/M\n",
       "opJkMvgLHbzrZclNmgsxXO8hzP72L7/neSyRS5r5B/LfOu2uQyuUHfLKhI/7SVNQTZ5ruwuf79rp\n",
       "rOJHwTNq2SpV0Udsguv1GqC2JafQxICLAYe/N9alZbW/muT7RwL4gSXasJVqRBX0QUJQcvLDaz3H\n",
       "JY0wn55mqoqlTx1yAcaUno0F116rE1ZDElA49HVBfFtNN/OCcZTFpWqDk2xntJ6A0m63nPKRbO9C\n",
       "mpHMe+XC2Q5i6VBGBIMaV9uktTstXDAWO2GHxWLi7Bn0NNkVpAsKNT5g4qcIhELhq1emUztJrS/f\n",
       "wofMui3L2fCSjrzMMFO8MmwziIbVKTFOV7upodYgiXETZuwm+1AODtK9wrjmANuhh7YUY/YPVAA/\n",
       "cZyUhGVQ3o/LPElrpDLYoVkbjniaSqci6iekOeNtOT3VdkctQEkAejVWVRelsQGXNOAi0qwKYKwR\n",
       "Ro9Nw6967qC84yG0uTEL5AJQhLvwGPZOf7UKAa3VOfDxFmYRWgpZnvIBYNlxwKZ4UfiZ2k5dJI5Y\n",
       "Kzv2kOU7XQ6lpv59ibV3kecq0Ixc60+OfuqXp2+9QtA+QONN+zc7D5RiijEBBwdkRXG5tlbsiFEk\n",
       "PB7EUnx07FHuTM3kZxKjaz4OJZaRxQOJSSjAMGWvxyrElTMLgCjAXZWG9RgEaq9KNSc7Df/ScX/S\n",
       "lL1oUxhySxo31M0PgXYg1r47goKOZD6tFt0lExuYMLIT2TS0cTw7OJkbSQAnuL/ggBWd1xbMzbNT\n",
       "9QE0oq9NpcITAfnZ2env9ievgvFK7NprkAAQ4RAHNIdvbjKCyZCFpmnQij4ad8dpaP8OXhvAdC2J\n",
       "F0lpJlfsx6ExGxszQ4QOOAAABcMBnoB0Qr8AR102YwE166zOV1TrkgBLIrfmnIidG9aDBDGhGOPr\n",
       "6sQtohz86wgcUluQhsOz/TjfMA7fmJUaLGQroKLjnj+8ieZtE+v9OfFo8EqDicunvAwaPp/EIxvm\n",
       "B6KFBTAyNW8k2xFhy4L2dno/Fs6CKjWMw4rFpXWeeaTsKiBdME3/dQAe0NqEtsDaLCmPwsj8w7CX\n",
       "g1pDrvm4OC3iJmHxTM9+svbm5WmIFc65KQ274HHjqvhaNk98RdZg+MNjFryy0H5gXArin1u1KOQO\n",
       "f8AnuP0iDuvIsQgnIftNP4F2rv0NhMlKMCmjkw//6JBK/z+7uRLYgD5QCBjgCJ9uLlUMuRMpSm+U\n",
       "v1n+wEJATz8B8MQUQM/zMquXq69eCg/rYvscWs5O/IoEbrB7n2ymQxjgj+/vy4MYoF7I2IWiRl7r\n",
       "Gwhv6BKPYaA3bltllScZ4TaKMFBOWDVszAer6TEvNuSWzzMKwb89hZ137yCVesbDqa5Fd7XNKGZ+\n",
       "DBrQHqcVklvpws4AtrNzPCnDlkndVMfO4oSbWB70WbD9n5gJb6efF8GO9LNKEnyOX0r0Olvf329a\n",
       "4uWayjHZszW2tyqtjhXFlJfYYkZzh5Vw3FcX+erSDWYQCsfjYn4M1OqXbVOBJjEDysRMdNDyofx3\n",
       "CJta8yyHYapBIsUcbRiHcN32eheKiJ7zPFgr4NXiLjiHUxNTacFbi3ruOOaBukMog2XIMo9I+doZ\n",
       "kxyWnUBSsKfRvAwwZqoREtVZK7wQJU6AgAk+U6xtfg3W3TIKuuKeBZEfvj2hN4YBInC4Qs19WfNB\n",
       "u4szInpBHvWor0LlfFWafMMkY2zcX1nbG8lwdOrtR0m2GWJ/k8bR5fE7i9+2SlecRofNg1ubjycE\n",
       "KnX3i16m3IbPm+OsBiBGxriuHHmgqXKfrPRKfeIlNRFSTCEVh/tJYw0jB3KiZIcGP2NyUCU/vx0p\n",
       "QOdYuOAIMfsj/pbvm7o3vNxeO4iGGFpyT06Ie5hWnUVIUb9aNdSiDIro32hK/b+fr981DUDQkV7P\n",
       "A3r6ibKg+gkK5GHHG1kvArVK0+989O1Up89MHuWOcuK1s3nHOiDHhE/pZYTNNdsS6LfIguYEEZFa\n",
       "3nRktin+sMRA/fbCEvERtjdaRqPC+WtktW5rLDdmzySv66tshy93jsHavsV3Q3wryG9uTkjrTLZH\n",
       "ZnUngN4CwCyZwu5kynSzZdfoQFgN3JbcX/kD7r1apT5i9Ya+ElD+z1WRN+DFvvqSazH4+RCKbls6\n",
       "9TUxrCg1js48RzvYOQAN9AlCMp3Kjbffz8dKEG95r9sVbBtqjJGgJEHPqcVWXsB9G2BetoJhRGoT\n",
       "V6DcYD7Vm6StTHLwt/ItEVPTSfwyH4vdLpGlXpOjghFMl02YzdiSbh4oWPqgzuej3XaKOyPd+5aZ\n",
       "9dXZ2Y8ChB12parmRNNNsymo7ma0oIuZtYHRb58+apeCP/8Jyf3/0IzGMLS3BBLzJoO8H+aVWfr+\n",
       "tCc5PlObcrMOUWbQNxweVr4umtqCYP8/yg6d+osjCmkKOswsLr5jWWwR6Ot8bXE6gAC34VVfTaZO\n",
       "hFfhA1ammD6exNbPeZ9ypx4xuxtFGei5iM1jF/BvD5SqGlq1feaV0ulFHkQ5CPLrM+WYFf683gj8\n",
       "AomeFayzNAXMniTp2W4JvL3uLR1Bm+RSeoxooxBoUlL2jtLtYtdi/tgbFqp/XIJVatkwt3JFxfYg\n",
       "eICHv3U9bxHYnyFNQpFMIQtCEj5fS2tXNyP3ucHN1YAbxF0Fi2mOV6He3P5IVrRfQcKRTGYFS2xw\n",
       "BZXPi4EaeWAYCb5W3mURJmHHZafsDWflOErF2+jcaS8b0BUvQ78I6HNF9UUt0fkgGccYaMilwd8i\n",
       "CZNMHdMk42by3ADvh2N94f0oP147aPYE69NqQQ8z1haUoqTrzIAIRzW15CKeCsRjY27H5zj80sk9\n",
       "naXfBy1fHV/m6cA/wQAAA+QBnoJqQr8AQXYNkfmqo+dgCCaTaGKThmn5ieZjYnQ90QUBguFcnYzI\n",
       "oxvI6AadYCAVjmQpdFcx4oacRHZqo8wVv6aiVDDV5bEP4gsIO74zmFeKB1ILfDAuhqmQ6yJcgQTC\n",
       "ApANWlD4D25s15WgaRpldjBK5cZrVaMJrJWQU6kJLhZnrEDIru2DmnxAN+DSPmPJCWva/pCdU5BJ\n",
       "ZIkrYAWpUbaCfUSZmKypsgYYAhZTaIHtB4/WqynUR7q+Y2M1VUmTwUP+893rzJd9ud1iHsTmdqAO\n",
       "Y4kyZw8At9GngjOy8ufuViB9zXa41EDOTTJwXUjfkabz9F3jjs4Zqi0wKA4r7+Wchl8gXkmlrjT+\n",
       "hpKxIhrcHOImBb2i8Zw3qyUBvszVBZyU51RPvXvH2OeSrRRUlZrG/YK+UgAsCHRugGP5U/W5cDN+\n",
       "bRbPUYc6fEfzhGVuNPz7+A4UA7ob0n2zUF6/LpAa50Nh1zNdDxFflTtnXZhZvdGjt/bd2NdroA7C\n",
       "HDu8YCvIWHGvPELvkxP9RRhsYqM416pjUKalOryWzgk3BlT4MwGoGgKVZYYK3rHsxEjNJ/jM24lu\n",
       "HvIFwtRMTKbM9wzv2mJACcVYL2Ar+u2a2A4fCUEivK15DKTOwXWXfNm6lk4szl1LyTsPOzesAeNO\n",
       "A5bc1Gp864wv7xr/lMMZnfKDw976teQT7ktVQJuR6WvMs4FbbCUiYM/GhpyaUWHJLV/U6DGfO98y\n",
       "bNV56Sk58p9IFwjsOY7tcy79vrhoRMnt6la9U5YwRC/MlpX86cs/1BhP4o1Qr9Svvi2f5uRmg1Wj\n",
       "EJBNFWGe5G5m+zCm/SLFhekzzbctWO0D2STcYbwmx333BY454PRtNfwOcY1dNsrOxFGL9P1SY2Gy\n",
       "BMiGdKNwWrNQ+QF1Gaft8o37PDQTIPdLH1TQeegoFNjxkBJspkRz6zHghMNw4513KqWGVa+5vhFI\n",
       "dt/OI8/Vor27Xv7a8HHMM+uXlzO7qJ2SavOeIl6b/iHOUlEJV3+TzPNp/jv9djBnqrzK29PMUTB4\n",
       "yaAXgaFR+L/+WEuuvAymrpJ+Hg7hXZnh4svjPWvsjkxvWNGj/axRw57gIhAH0AKzGfxJgKDmQpUF\n",
       "U0lPHeEzotfzGZDlsK5NdzMLYc3Co3oT9IP7efMPbnOI+Akd9m209nG4q/R/4+TsYnC0UgPHeul3\n",
       "4WB/nMHk9FlB6GaWcpB0+IRejQMWm6DrLYRerKD4VyGLn8+dMWGmweNjPK5EI95Wa3kBL20JAZal\n",
       "P7BOHgSupI1Zv5gTxWvAWGzipepd59QZ1tyOc+ysd5JsZ+b8CMhaPBS+/j4AAAyEQZqFSahBaJlM\n",
       "FPDf/qeEAB+trEH72QO2WgAXDRrtozHgoFeS4Codfmbx1AmPlXBilJuKfHvzMM5xEov7RUggVSWo\n",
       "3mnt4Iw5iqeZAXgWRG6ZDjSR5pvQLGf4If9pCLsWKo2+wF4PgLua+cUKjfdKfULBPEhwfD5Ug1Tu\n",
       "6mBbrN0NslJ6ldeIBgaGzLxrN/bQcHC4cRqywMxnqcJK++3Ui72Hp2OGrMF3vgQy8XtCio/mJB+8\n",
       "IzYm8kxj036RR1vw6lvAs6rffJ1P8LUe/4JTh1gJUhQ9u9XtyQebBgyq6P5shLaKFCfXFS3JVZQi\n",
       "FCrMTq43WVKBVq7cfEHaSF+1wFb+U0cI/EvRZCzcGzMBukP3PTceyg4FrSKKhD7Mbmkfq1s+fI5i\n",
       "/zXG5S205iBmRvZEQbWOgv3xUjzHcI1ui7BEL5HajGr74VTSYmRmCuOcbG2XQgYLI5Bwef24pmSN\n",
       "t8wpn5NaKZXAnjp8haNXLMoI/UiEIV20qmXDZqUHZXO8Kc5VZ5mPvLhK3a8/7isFLAw7X3rUCopB\n",
       "t1suHKiwfUr4CvVD+EcXG239Lysnj5qt+hnMmOjpwfH0xCCxKbro8E8BWXQ+sJw0CSHJ7OSZvZmh\n",
       "Ik79vEQv5ZLpNJN2GFpiRlL35p8ScMm66nW7B1db305v9QNGbKK2lNz/oiBQhxwCrbxJoIC7BrDN\n",
       "KwccjUZpEJvacw7KKm2vLPLo87p/EBhikqanD0vB7igsH6RwMvdKfHv/oqv4LZt3ZKiFIbpFqfWw\n",
       "7XbSh6H4kBKcCjKFJzDx2FB2a0oR+NGaxOuploheZBMR7wqPyUQfo2DMewlswMS9KkJB2IOis7Rl\n",
       "A96STpKEMnEXZTzhBOHmj5PjZ+edrzYNlZ1LT64fUdtSyh1BPx7h7sc5qQE0JTBgyBeZ6XNoMv60\n",
       "+XTs53uTDHueToOnYvi1CH95X8qPNLZFE4DKJLCxv9WuSFhVORRRO/EewJgYbaAWhpw5/QaqNfB+\n",
       "jEPKiLaT+v6KGkgJ+CPJmhKVxL9uu2pffAdpOyaXxJsAnZddbZJ5did8rSn8bZ3b44Hil1uTtPi9\n",
       "RLi2h20Jzb15gdaOSGdcj1drILHEnbAw05LWs6uzMWXwnvprILj90tDu3zZm12fcOs1/9+VY++G4\n",
       "J31k6iC5nhWP09UJdB8GonZqx+vpunhSlPkRvgZPE9HcJEqO8QSC69UOZECfmjQ86y8Gy3T3hGFl\n",
       "bM/XyQ38i832VEy5tm6lkfTTTyBvs2T59/59G93Ieq35B6bVIQsOH76LIh9Q2HCqxXnAv2luy6Yq\n",
       "MkkPWt5XbipxlmQpsvcWEJOZUEij3KzCDbd3Jgi9ZiXlbhD4DtOK11l3nXWb9TW0V6VEoPm8iBRq\n",
       "0UJHvoHWOME9OFbUm8FkFeTX7OgKXHW0jiSSMeMgoVdBbRJqZBq8eQ8LwCuEFXfzdbDlhtOTTvJH\n",
       "tM7lUHvyw0+5o/xaMXoNzYWco6kixb8grpLXUbD1ZURQpH9izvK3eMHbwnOUhehUd6xzmB2YIPbp\n",
       "//gLhX+FBpuLo4pmViBMeT7BzYfT5uVDzODXOMIjtCSqd2tovrrJQSCL2LFrufpkRoNPWVkY8f7E\n",
       "PzJ7NlAATiqFplrpeBrvvoCwueJA5UbamouJZxcGwu9TLWSGURBE8CuYjCQ9eKOxncAi6eq2Qyxf\n",
       "2bnHRWHR/XgKEok2WcQ8J2GSd8VtXv9aCBfYbyqUBaosqqD22YJ09gL0AdGh4kNGFdelyhHRDA7k\n",
       "IUuPyYzqrbix31dq6CbUMk5//NmLVPEvmzCPLskWK4BsEpDi6Pzz+YnTvkRlIXMnm48Eq8Q8KqEj\n",
       "VOYZLnhzmFsH2fTG9TkGwYfOClPlYZFEMGTbBiu+gVQY5ldzgTqNhAjKGj+/RfJInUwbfU+FTkm2\n",
       "2+sYZO4B9aLRqzpDxowviM4SweGK/JgX0vqP9v/1TiVkRwosECVMpSKwHEG+M1hUJA4U1CgT4lk7\n",
       "mjJBnpGOlAQybwqpbbfvDYFSV+rmv/nDVRbI7nRzxx+3GwBBE7qsm9XF9KvkHXUl5cQhjhr703yb\n",
       "42DEPtolGD8RdJ590AmyczSufa3/OCUqbMUucLPAkSbMSj4Hd8yv5AkDDCGoEnboGYPl9lU+O6l/\n",
       "KBwIviMLsvSMJSmlWv4L+S3Wld6vPSIIFtUtOVvoSE+J5O2j4yMY/6cgIM94qkprpaoFNhI1ax6i\n",
       "5BagwGiebhmrRn56EN5kxpTaOiaWvT9QN7o5MBzC9Eg8NZxE74OlBUwkQk37G1B4+VDwYYHkRQk2\n",
       "1HSGLwS9H+mDgeHY/HXHvDzQct7+Vu0USdVU93s/C2fdknd7ZI11utGVPgQcrPz8gLa/d+BR6Uwo\n",
       "IpmDv5GmKQwyTIQAEtOurLRRPPTJvDr/MCUPIa3BTRAtQfw61y7y6Nxoa9m8ThEKTROmZ/PntnAl\n",
       "/uxPcOZBLGBnRP/y72iVpcthAP3/hmvTKa2PnAgQiq7I4xP5T+rHVa8eWRfD0psCVxJwKACtCvgR\n",
       "+QZIG3PK+9/AQxtH8az+zLVTX+w/0p0DGf9EHLHkUtmL3dNGfl953t4X7rzlt9PykR7dfSZwmpHe\n",
       "XrK0ARK6eXo8GEZ10Zhg8KXi0bgKgS07bnUlk72iDhrvd5PSF7P5S9fy/wANxI14QpOvqQaXUFkH\n",
       "47iUfbgKQCnOarLW6nVmIvaN5+PGzMhEu2bVKYNCUdbIr0NA8V5WoNsB4NMMxaAN+91rgrXrGH8I\n",
       "hXnCqI1qdN3wT7ib7+w6GRy/avaCMVR/jPExavNVViMPRlgq2ASokiiIn3qNZjLJ9u57vl962rg6\n",
       "cRfGueZ1i6jAJ9m80q+ZoMQxBBRMcUL0U5B94Gz8AzcO9hPBoUSuXsUFXPmQK93qb+F8f4qRAZOa\n",
       "WS535vaCAtJ5PsdWA6XOUq0ZlWfDG4ePc4imnDdCSWukJCW5bIOVmD0L88a9Kr6xprorTavprd9l\n",
       "45vox7iiwGzztHlSknUSBmHFwoBWtYkeDk9NXv9QQiYCXJpUdPEmw+UO9zSevUWxDrZriswkLSEt\n",
       "j9v/g9eqi9ioN26C2tm1N4CSD2zKoai+o6ay5niOcZplfZLd6/y3MgiNQTFfNOI0XVDagsMsmI8e\n",
       "Vjn3fmSC4MP1vNrigGVwjP9klnlxj8zLwfUdnWyjqgydyNuEm2AaPf4Eqm/VOchodBjELz68RLKO\n",
       "gowyLu/6wZMcIV9EWN1VD8fuDrYItvgk90BopBzCJMJMJp1IQYGpKxdmsF/+m4c216+wkw1tclWG\n",
       "WhhZXvORxfr33gErayQAbzB9U29KRwEdGHribpY0H5R/Dnp9LnObZqiA9OmFlVBRavCnlb34OBfV\n",
       "spt8dHwmhZrXHLVfFZNsDFaiZbPtwoXcM8e1COX5YeqGtkuOrmiqraNVroE2uN0WBeD3jBJbDboz\n",
       "Ko4SGMjcHCWKTVddl+cOicF0yWON/mQk/vBqU7F/zRjzg9i5pbIEzizCHsbOpfsR3DcxfcEKTe67\n",
       "5xgxI5Umj+WLHZt6Ldtpgt3L6bAoUhPhk354EXclefsQl9nihm1V8C/nsb6GGo3oFBwyTMS5KDW6\n",
       "pRqyYLQ08Ied+WQygfxBvkOjiVQTghYU1oTZm+/Gy3Rey03xilyP1oXbqlhBTA3652TXN6CI3Q+j\n",
       "Yxh9mHLmrPsfhNMH0lqz1bqIn3tbhkHoL4mpLV4EaZN4ZmeG5D+hOPhYN6NNDXA1c+x3czmHPI7u\n",
       "/2yHl1AMdBre8pbh9ohmcdlZMZjhOJM+kmrbNfLpTg7SFHK2WQIwRE5XtZj4thqHoP8Yz15my08A\n",
       "2r4MmWTYY1EsiLT63sEtPnvnDMzMzQ7oK6wjmesdNI+GtEOjv6GAH6WQGYGPbURywELU3P27wK+L\n",
       "X2Fw8/mPVt4LeaTJMdLONyyWMM788PUyPN/JLE070xJRjviStRXxJ6QcDuke4+MvRr+CARn12ftM\n",
       "RLW/XVhi3t8yPFYZ5H3PBNYKtT9SYeFbQN6NWIYk6qgn7bFOAyQXo3yI5m2yGU/O056lrtJjAyyf\n",
       "p/RP6iXCCvALwd9MI7MJxMmN8qhppnCuR6eWXQ+pu2JAvYd3WXMcRFgMPkG3x6gL3LwWmeaYen8r\n",
       "8lI1rcdk2DWm5zt16fyoQKlP4w1vch569XwnTWY3AIkaICY1Di6bH4dIgYiWQXHGseF0npb3d2wd\n",
       "0cRjtyzdgiKc/13bRdcwzXqnLBjAtH4iKInWDmuo3SXJ/OxXlXE/Mn2ShsoAGx7e8izyGImXxjGA\n",
       "ADKhAAAGhAGepGpCvwBBgziI44yN8BXqis4AG0FWNNwxPi4/m963n3El4CSUdqRZKxWYcMV7A4dz\n",
       "u2R/M8VYjPszSzVTrh2rOg9I3uVXoIPUCXKxSaHdriltSnvbtrM3Ptx9WGYxe23XA1Qbnzg37WFq\n",
       "HJvHFDi390lKg+KR9/uLGo0x3d5x8RwwELuKawVf9pctHr413VH+kEuQ/4u/8b70dualBNmxCbEH\n",
       "p9mjFtfVaiBPZCLAxct/WSyXjhDN8yOtrJfaZNrO9YCrOfK/I0/HateB/H/FxHvnXUGsiSGzN3d+\n",
       "f7EEC4h6HwjW5HiUWHe7qkovbOtFdvtIpbGYUJVNQqRbpTkPXxZJhOfwyWOWeVza72PrX6gcesVM\n",
       "49efVEVPecbP0sFiXjZwEgsfKyyYMLjqDAIe0UT0ZzHkW+bTyUXk0D4Bzc/8+nNMVK1daftzCB5d\n",
       "BNwlZS6iBx8xHo8Fsqp/GmCbdDMVnIzXi66lKyJ4oWdoKqS1GOPq/sCxdVtveFxP+kdJkBtOd6Jd\n",
       "QHngL3HEfynhBB1wVUZSt3FPD+N3rkz6a8V8gAJwwe6zXY0JN/RPTXwI75WtqCnkbFQoYPrySRJU\n",
       "7u8ejzFeTxuWpi3G8bFPIHEiSTq4l5w7ZUt9o4RjVM3QijzSxbxE/aRczRQ8ZtyI0yHi7Raz/qJY\n",
       "LVhs8PDVkCGwNVwaMX3ISr9w5RAnCI6azFDCuUWpHy7VHDLQUbsnsuStlE0QqGJrpH1q10grESFI\n",
       "GQknherkd9eJXmawkW8GgO9iRv5fRtaXMq3m770o6p5X6Lxkyl3xr9zzveCWu+IJuh7KU2qiq8OK\n",
       "N1mj/bnX3bQnwBlvj9ftJJLH9uL5awv9ztckVeviVbRjL9KN9y9cfQ8OsDLjRuUl/WEu4hqr8Nzr\n",
       "H4k13+9NzagNSW327FaMxY0p5UOWes1LEvsv7Ui/OMJeQoYCdvf6jhHIUV+zFpKVjBRtaCzpE13l\n",
       "2KUdPOt+j1OKOjCcoXdMqZxRG3Yv3yCshWeJJiMCUOLHwupZjABbfUZYuSOj7rHm3At7JFlTiWLH\n",
       "lJO4NnIU1KkHcEAz3YCqtubM2P0WINCLPLOu9StF/m9TZPAPzACV53WPZ9TQ6sRk1AUXiGFtoCs7\n",
       "p4dhnh31vTqJJOsYzr0uDmkBs/SCY249svShjNkd9yvpRC2rs2pV7TPSiuANAHk8NKrmJ1NX9yhI\n",
       "kAyci/6JIZMzILouDCpBju0O0i892CdgvzcHG2njOXesB1YVEQOQrgFikMWIq+Btf+zgH6QUq9NQ\n",
       "/eC6UqYnUK71Qrrz705yHToBi7JwQJ+g55SfgdiR/XnqinKoS5mJH686Ky9UzXyEub9d5u2zeJp+\n",
       "9UURuxlVt9/qAXzsrFTnaVxsNE3+TadWDIbMt/dG7HoBOZcisavY91pcETglXtjL0SA7GBbpqrVw\n",
       "3npuGcy8nyTtQ/8jxclqVrn/TltzIFe7VsfonlmT86UIXKZI+tNitsWezm0FdiZYFGt3R3+Ryq1v\n",
       "kfp41GzIOM4qTSQoo4r6r1vz6U/DzfgtzfaVE8gsidnOkxR0uxcMM9dAm2TTbS1NrG7Fu3W888Oi\n",
       "cAcuQ4qaOvR3qF03USGwlJtq9/Q3dgWlofn4AuXkXzKKkY/mcwSS5w29aXPBbsiF2CeEQ5xdqY+u\n",
       "ZGfuA0efIMEMbgmEiB+479Mtxgh7fgTv1+UyIR8QZ3sLzJYNgAmh7utFsjtSUvFWTrnT10B3R4PJ\n",
       "nKrkDkID91X96TvBIVdTuOgqiR821RSioalIJmh5aOxlGFu7vsAL6IPPpZsOmGKcEEqGXKSMXjHV\n",
       "McVoj/ECggfhC1t+JcAmT1yBfi71Lxvl/PiHyuLXVLFUiIUjIoW1mYXQ4IDqNBsaZAHYXSAxPtW4\n",
       "G/d+izz1vIhujbJI3yvXVNFQf2YG/1xyD0YYYYnpsJNBpwQ87q5pQtUFT2ZLL/cjBnCdECM2VPf/\n",
       "jCwq20dXiTlxrMr/XZ1l19aPIaO8w1Yd5ubQp8E7HSZw1cHBEAEe8EDbBTB0GfQugnxjhM2BSXQh\n",
       "JgPPd4TshhxX/xnXacTzvDzJ11c/XcvKQzNh/Zvxbo8qENYZpLsX0081OHfUtrXyO+Jhg9UV0BKF\n",
       "tMBHt2gPrdVrKK/MbzlPTJ70NHptodenCbyHJrWpjMmxDpYBXVmt3aKVaHiW1lbaMMisqHJrVTMc\n",
       "R9T9JzTK6eJqCnG9XLM5CBAOs08CZwAACslBmqZJ4QpSZTAhv/6nhAA7nsqMF74HbAAlUZd1fGxE\n",
       "yq0veb7MLSsuaC8D2wtYTxXCiiqoww9NFAniEsZzP3Q+2orodK+Yt8OkqsNqxAim8Hfn215Hwgsh\n",
       "GFEhnadrw4AMP/y/xHeRdrdULCQ1fsFZapFC6HdM3PCIO44zcWsXuI/O1uNsmFzEuNExPKVTW8ZT\n",
       "RcPBItxJKVBMKMgqq5kmhyerIiOSAEuOagCvfxv4LCiT/+okhT+tx9yME704dykJHef6nX+9ik6U\n",
       "1uGb5wtpa15uo4e2Az/2JDo3MGQF9U/jCu8NJrP8h175KsKlScpqtd4p8UmJlpWDz5RE13eSI3mi\n",
       "HuE+2zu1ZOj2EZ06REDMYz5ZNLH42nlTcIEgZSV/BBh/YUFYWPSa9wAtX541hhd4+nC7/saE8W8c\n",
       "4ZNtoa9jY478BU4xGrpuv5HHHXqrV2LdKMnDhPy/2o1+NtOY6ZAMzxpeg+CHXV2v+n/9FPwBIjbO\n",
       "IUZrvd5zS5KM1OWaNtYnEjDeylWv6yjvtz4HsTyYa9it6Duk9c4nXeuQY/tJ4DrKnInFfS2VBcMB\n",
       "ZXfSZp3CkyCiCiCuxB8q91Y3R/uaYHjVrIXpSbFNaOVH+FbiPyVE70OlAE/Y73KFcjnu+aNfXpyE\n",
       "ioE2CwLW5pKOiM2cGVAja5dOa6anHOhJvYshrjjdJh2gZpeceICOib8NkqqB4kYDvEj60FNWd4e+\n",
       "CSC8d46hNCTHCMXBhvgLc40VWDBc2pPcAW6hrKnw8Qb7F4iFISsWq74Sbn/SEpvyHfPy65fcnM5q\n",
       "1Auu56I1ft1rAmXX405ZI3kQiM+XjIwt++m4hQiwSaE1fYOoDs5lp7yAnDVopmIqXrcQQtypweOk\n",
       "t6coXvl3PDKw550eQXzfSD7JBkVqmnKNB8V86o37Zu6P/jAkStgifv9XsxKYq9jubLI96zKsFw6A\n",
       "ejNF6xQuoSxDBHe/Zc/YpwmioherJ7zM5JHLo1Yt843sSNX0jFfQ9pwxzjVsdR6iPOhU/G7/bn9w\n",
       "IL7iXKR1JEDHqSzvjvX4ucJDxtO2fdjmArI1TkYQBYib2aKn1y1Orik5mGf7u3i2krbyzkruVK3L\n",
       "1tM4SMCD2w2BSvTiVwZ3Js0gQV82x6iFQVGljHPKYPhPeSm7WtuoCSebZaphbtjmRmVm/dLphsda\n",
       "9hAVwpVNYswiQNlxtY6xN56nNsBabbEtHE2YZFrP5mRO6IUzyGFLk8Umyq0e0LqivwsPBuI6jSG/\n",
       "qazrB/tXZhLLT/y1ufTzZ3C7rOn8FoOELShyPp7lrCK0IkhE4wTW8XxZF5v4EJh+lkPhIMepDJRT\n",
       "GkaxNDXuOSEYWQpr7z6bzQdT5kNniCCNvXH8Zs06SOY0rKaIp4JtrdHHSceKpA193ofNeHCBrkKj\n",
       "+5lGT8ljcUDEz8naYT16F6gJD8h1AuEBFg1WZVQta6cO/Y0nUPa5zTuaPGjPe6G7WanGiz4ol9bd\n",
       "egPezjL4xZeP+PvMqz6411oJTVnPMYGhMnOBUjfaiD50+W/xjGeYQ1b/sQt4noeokFJRFUjNLuE0\n",
       "IiBlC4NjsSck94R+ubEf4zqQWYLpyklGqrojqFxWnvHn7rGBGWpIa8oTKrrRe/2CWDci5g+Q4bGa\n",
       "cvgKkC/Gqd+bnfoimsDPzsta59iJPCIqsyE2YEVFlHVAQUuRFW49VhICxTpV3/RECi0ZmmMEYIMJ\n",
       "QyRtlRVkZux40bal0FjLiMngI9ECxsOmi3+LRKZ2pprTYp6DP/KlH+6muOhBnvt6UkG2uHv+Sizp\n",
       "sHXnt4DVWiruy82wNObYHkfkHAnA5AN2QAOD2tk00Brzv1/LblsEif1F+uFBGFF9nOYZ4PtuNS/D\n",
       "PqxisM6dczgjozvSYwfU1e9VF2+1KDheY1OEMqQpOzfeEj9j5kRMEGfAQJLwnF5qD1t9DwCIR0/7\n",
       "2VEv9e2pbv7fGas4kSTn7A5RKdJUWWb/WDwWMriKlb03GkMk166ybNOD68duHb0M31oCngMQ4LOA\n",
       "HPBKsrnYcrpGQo5imGskYgRqhf23vOcHbRlIslohwpQvxQHu3sPgvPV3DLpyOf1McvTEiyvfrWM6\n",
       "jKj+m4hs13iJjBy2xslufUQK0yz8wI++5jynwy6n4BvESRfqLm9uJWv5LvrAIPmD8eIODADTo/gK\n",
       "MEaNdnoIslv6a7IGtgT3fYw9EBZAn442431tCvwM4SGEJDXa2edwSgSB/W0iRaB6hjefXJG8IdHL\n",
       "TDxI79pmTxu5x31qXuDiC8HG7f+AK6/p68PDfJBhxpscQbrPCYLEycRuls0FK66VuIyINwLIi6BW\n",
       "4Y0Iy5EfV5FpJWwOqDoyr6gS1DU9kL5MWxzxoC+fA/T9Q/DXZG2icd48taXaf/umkcX8bNefBjqY\n",
       "kkkY+y7qhpRDxb02DSocUSWtVp5iZ0XZC5y1ReC/OJ3dASDcBfv6wVgCNW9Gw8zrP5K80nsTmQl6\n",
       "gDyGZS6pUgpCb/lLTpJYFZKMF/jQG0oGECtZ3tC40mEMMld/B6i9hBCAIZjCjmEy93F1J1St9Bgp\n",
       "lkgah8/aDI9ODyeU+UL7RtkCX4RF9m1SYVhWqvEk8Mw16u5hGVJzjMbD0UhLoOtVbzJrah47lQtV\n",
       "VD3U5ZGH10PwVYwrb4yBEqsbh6C0LnbhKqJg679v7T1N/NqEiPDid9FBgbz8SnXB+wOX0rbXhGHS\n",
       "/tuLLSVkJAKh5Vy/7mW7NJMZyH+Fcxw9JTq/LXBdShuV4tGRNoch74Lwx78uXMa7WBVzwvKnHFfh\n",
       "aYCM2wY8mAjTzfm+rGPH4scOQrvyaCVn96G+3j8+Fh8ZRbqOJfufkRS1BLxpJU85DX+ltc1c9Q0t\n",
       "RPISD1OR2/IxkZBFNNL9ejETr7zfYA8hDWMmIhAMxcarWP41BrLzLSRybHxuCDjtItOlOeflJqCW\n",
       "SkU9nVbfh5LchDy07Cl5aiFhMigEY360zkhazBkkZYtZi36oy+dhbKS3cSF8a9cv6WfW4pK2V2gi\n",
       "cSSMV71ZJUC2GW0XRGroxY/1FTD8rx/qFCH8ObMW+/evBmU7xqUPiQtGZkeq6zMy1+1kqEY9obUZ\n",
       "kRs+NN7F2AcGUW+lLenOTxhemMxwxUU97LTh9Y8hUTUyLbtabYuhS1txBi3FST+vdnAIHbwLeH/j\n",
       "n99uM/AXmwC729eRdaOgFcSP2l9wDLC4nWJMpxUcAjkNgrC4Bza3pQLJHbr1I4utN/CJOO9Dj07m\n",
       "1CQyL/gAGDY2GzuYI0rhF4xYCTXuuoyGOB269kq7VKtPLxCSha0vzjwapThFeCiXeCwYpj2/dctE\n",
       "MahmB9Fd8ucu6YRd0E/iRIrvc2bv2SUkLwy9X0vNGPviVfyF5CqWEBr7OziNK4PtNPizLtVWf8a7\n",
       "e6drblMX/W7Z4Xenr2z7pvuBIY1etL2WDRLpAQJugwS586AgfwHinabwdKJb2ItO92ayfV/DRGK9\n",
       "owMCdFEu0q4DGwREabSQ+sXPFAXeWDyWNLz+HltGFUpnvC6vB5+DB7VurYQzTdoCbU1zPiti8Jql\n",
       "XeoHAGkIDoW44pD2uHPXs7tc31WtquVJswPRzxSxO6JzHTVNyiOaH3456iyyy8DikQ5SKuoirpaJ\n",
       "3ngflr85vmS2JTR70R8n/vFEqqAfc+/6qMu7BwJqEw60bjOvfgNlCr6pHYE7rLL+AAd1AAAM60Ga\n",
       "x0nhDomUwIb//qeEAB5hRKRgdQgBNNaEhGT54Rxv1KdgP3FVgjC3Njxsr9GTE0eMdGfUAL9THxu0\n",
       "3VOcKm3P1gc2vZF9T7VuTqltGPuDvJzJ7UxAFY82oNuhmjCi2ZlJpGiD+jHYEnzAXsjyFioVIxpe\n",
       "zGVQXGA5IBS7+qOCrhZ/A8x0/f9YM6KEjs9xZiCFtzqE9uIGOGlJtFd4YiBSYWDC9yGAw8Gzrv/t\n",
       "xNtgbf6bKhpiV6DFHIH/QLZO9osgRPmj63gNo9/Yfz0GC09IbUPhYuk6zefvy7BICA6hl6/LBOdS\n",
       "HFyU1K7HnlpHqWeImOhM2mupyCtBloTl5ohlnZAlmPOpQe+zjKCfQtccR/c8fMj22ZB7xpI4lk5V\n",
       "GwA4Q8AaYF0XUOO3XtTW5EP7CiPlCTStctiWssbbd5u55fT9D133yyCTCayoLxSFFxGwW7O4q9Xs\n",
       "8Z4D3ZLphKlaS1LsdVZ14vMXtaC/GYCAxmkoYGxt6Si/ffTmjCtqjWDoJ0STL2/AolsHlAwh1/8O\n",
       "1irDIxG7EX9TuXrJOVreDE1uiCFCGTAWB2LbNOUJTHc684WW32ZMPrOTzMZpYexGiLVrZ2g6r8qV\n",
       "LUBKc7J91tMACMRwce2r2i/KymABLSl6fjhRbC98JYug3Fq8CTjPx/w/Sb/SCe9gwQzqMIbMpCzt\n",
       "UPKTCjTJ19p7SW5xxLL2VuJyh0Ymo8f1R8pT83HyLR6S6ccgx5OpGohf9LfPaL5nyTQE1xfuTAjf\n",
       "Mi7KnLbN0HwAAOZ6SSVqPPgQ0WdeA30xoQVrQhIwOpiYp4Hw++aSSNWt5Y/JFa85BYvQYkWhSm96\n",
       "i+/lNteAk4jD8RJMxcK6s+nxIP87wXzY0MwVjDDj46vOIwXcCuX0OrrEhJsOKcNMLjmDfBDFRBQm\n",
       "FczVaIacdaCW2GR+3BlvClWcrt7qcsJkBMzEZei5F5ocsI5NWhGp/O+zSVo2Gr7uc8GRRfyWmHSB\n",
       "VcIQjCc1TfIuQ0GOfwcgPvc3Y2Fz7esQxrnTrohbNlp9zZP/zq5b8OfFEDlJ+eVBswrt29KDm9e4\n",
       "1PB5SoNNJ0xXOpkzbNSYiOZvonYsxgdGTOLN1qWHto48AfZ7B3fBoEeSjhLNIhbHhuyyvNxaQHnl\n",
       "VaQGNBapbuB6Nx3ji5aU1GKMUYAycVNoEOW3f6KixRgQ85KbAIMAc/Ztw3FEm903DwdyNB/O51Ml\n",
       "OFKmyikztexN5/Xdmvmt5OHyCb7VEt1N1zmj1LPQSDu3F5BsYC1GqnkFhYRyMZBdXxG3h0y9JcKm\n",
       "7D2hZag6wCbYP3iQz4Kv9uYV/qeBZuYXMqQOylGwz4ktojg2w4g4W332q9UuKNK0uLSG30sCmJSN\n",
       "BHrFjWk5jBZ3wxcMvx1uNA/oq/F6caJtVi84X4FUWk/faXeVjwVAznC1L3evNB0jfyD+vYU4t00e\n",
       "sQwE61+Sp82fpV7uxc5+laXXldzTnvGqUDK7zCk79eQ+4bwTwwj8Ezg5A/fQx8Khc6EQDiNdMps7\n",
       "HN/zZWnG8jewnMhl7lO/WybX+++OvU8+YBckyVelU9G3d8aIIvj0rW9Zq76DmF9Z97R3mGXb1UFt\n",
       "b/1eXQJgAgJogx+wqRdNeqZYvJeko6KyMCTVRQngs9QAXaE4IuOuh7NAtVGmuLEK9llkz2dA5C23\n",
       "YlqEAnZvKXSXXeNd2lx3p4QH31tw89M5uEMKbs/+TwSR1xnnLdx+VDY1P+mg86nBLN6IW+ASezcl\n",
       "eOWFg4fpD2Ul+nq2S2kHV86+UIxFBkeKwD9OpjLAmj8QUx6ZgE8Hv6rbI3qWm8/U8LtHKoDo6/M+\n",
       "6XYt1tpW+m8yk6Ov3VFx6QaY2Tt0VhNMyyA+VGmiX5NQk4cuJ03JQAVOGcGJWTtVpUpfyLp7zdac\n",
       "sI/chzZ5YbE/nemVtgHdoCeeOTzv6JqVqhE+Clm8mStt9B9wvV6vnIh3+u5ImD4r3u0aTB9j+ujJ\n",
       "cJ8XHEZiwdHq6TWSGll2A7PRdDwLUYTq0f1kU5U6ry4wLjkKur3vWnio0X1KrsRI41zGk0uixeS0\n",
       "i+NAdJkqAKko5WBiHeJ4o7nzLHMPkDbHK0cwDxkBqsn9DW7lz8fq/eLAFnubhKVwJwlRnU2BO/kz\n",
       "EfrXMOCTxyGGK6W+T7rup6vutdPr67sdvykP1/NnfRw9DVjdcGZSNSYRsQ1JZ4Uv17fWXAtaaFpE\n",
       "kzzriToqesJhGIM24fmyxMgjEF1R6EW1XuQtk78iSclakmY/wQBk16lh9lMP2IuOzneXIv0q5rPF\n",
       "clTmjpjRgctSxBwQ1IK2pie1x2BEX7YMSZNC3pqE4vjHgk9TX1Q0amlBNWYY6APq7jcEI3XO4HFh\n",
       "QM7exoDuSCnTXMenJ9GSJWst2RGC/X6bRUtO84nbbVBUGNLEbDWJW/LBKSEG7eTYGgc6UaRPQsyg\n",
       "+mM4lgJLr8BfIc1sl7JqEHZPZwyO8DBoTGtHHUdkXmDQHZXtk5VcqjNsRRPzrlbT7dJ1AmjC1Oud\n",
       "+Z/TFmVEPtNhNSlnsdNrdiG6EdugZqNNSJ+ZDSHiKJ129fefcaCYmzAe8vx7RVj4FvRh3NGn+FyJ\n",
       "FM4XH8FRI3ODSEINTv4q4Ga4yzLzx+HB/O/CrvUysMosBrfBqrCc7kk2Mk9gpBJmukQ3nCOAawuN\n",
       "XBKtfvUr6BARVeFBI/0rg0/Jdm2Su/8npI65JLSTuqo4ZNkqaARtZIUaLki4S2+PI+tkGQbcWpae\n",
       "IY3lFZ7/FXXA6NNi+DHAE/EjqfQ1eswgB0ke3r89LjQQ6gm94zI3yVCguq4HyiNOcI10Bo8sNix3\n",
       "iVAR4dZYqv7AuRmH+nTd9fPjTXDhV/vKyGDCTqd88Ra1C0+T0iT72zJQSXYfTuRSNJr5UjGt35+9\n",
       "A2iTWCSRCeoc2IeBdztkxAn2Nh4r0I88TwlT/2zbINxFuSW6j4kwYa/DIsYFPmHWHWeyRljV9af9\n",
       "1eqto3nKum/nhk81BzHBeJKV0ukEbjJI31wsIGjTY4dTu0Wf6wgAW5lcmleuXNE859s8eB99MJT1\n",
       "O6C1C0LiqxYlFxvdoBydUfc51jljWIOfhLZXB2PMyXghBFdSG204mHlde8qICao3UifZvUUTVc7s\n",
       "Oh/iTlZb6tiaM5WEzoKW9OR1/xAKnyhjx43fvPnk++V5Z8AVYQCRVVODR212RNnlevfZnABItZr8\n",
       "XnQIO4ADX4o2ab6LfE/LNIK2h+EyrX5Ch7UVcpAahJG4NjqJJUmoTtrU5JPP7/OcMbShplYMwtjO\n",
       "A21iUru2gPiGDoj2ioVewlUh8UDrAWWyg9HcIGdL3jMwd3jppymIm+t87iqADbqtJe88Zhsnv7aL\n",
       "DP5UQmmAtLRh2+xz29cUfqZbAj8XUd5hPXUNjDEeiXwJkhuYO94woA6uDFmqDrmiYokSCUR+Jxlz\n",
       "rwyCL9+SIsQ6Cs20Bx6xkZvLLydu9005+yOtRYyOsLT8p/khUTNgst3kHq9PMKJim3dGxFn4G9nS\n",
       "1hnE0SWDsVqmt+NXGF3Zk4fVj1evG38bysV/yG8U01gqtuzbYrgFPT4B8Pm+kOhkHst8DaILOega\n",
       "fyrgx/GxxuMl8OoR/SwO8LDqfXB9AUJ5R/WfdDwkxWTjFZa00fU8TLn0aNkCSY30AUN1jZeYSsh9\n",
       "50IxmF/QldoooO5tvzghkdNsmJI6TUaqbnmJ3DbSH4wfb1KKRya6B67mYasreqxPreRgcZcERnqi\n",
       "FeDI+QO/Z8PSar9tWRpNYCehYkJ1d4wDSwU7+1GcX7mV4Z07wwQ7f1uFAlHtmJ1GiXLHseT0Yrd8\n",
       "Ks0yYsRLbtHAcGOHn/ZATEf3s2a6d3nMc81/quvf+6yVdQ2TO1QbrT2TTIITjJop4nrFhlor+4hq\n",
       "peO+L79Y0+R1tDyzdk6yNqNJTT6WMsaw5aPiNKhzHeCe06Q0dDcYeBvnEbV6YhbFz8zNSk4O8Izc\n",
       "IQzD8d7Z9lQZgM070YfVMTAHjU0Q6dhcPre2+3iPZrY9nMSbHU9G6uQEUKYErAVfR+VlsvjVw88L\n",
       "I+p7uYPkgscZVjfYEThd3YE4M/J6WR/DzkmQaY25QH38T5CAwegGS5qdtuDDydpvfNBIiHwacoer\n",
       "dZW3lwCKz7Gii1c5NXAVv/7EsFY4DVmVmnMERXBfv+9THNkdykcmdq5VkWspD6m5t7WA3nVzjJel\n",
       "3LOUFSUEaLmvuM55ifm/AscBAw7crI9PSZfSJ0cXESZ6t14o88lCTddxVxD26PM0a0P7yxiCQpUO\n",
       "Lf08B8qnt7/JNdRrpeDqxyFcQRGwTyHuLZK6La9LBU+TUysZyVE9+5dr4+6aW+CvMx7DXm/HP4BF\n",
       "HAaAfIUkQKKiRQLRn0wAe6I26F0spsNPB7BLOHtSc+iVOe+cTRYAw+l0pOFlNsfgdKHR+RWALKEA\n",
       "AA1GQZroSeEPJlMCG//+p4QAN37Ki32U2V77V4gAugr0qEToRMZgBaKxEbe0yDXvdnjA9J9QJrX/\n",
       "/DRa5FkdNXX3ln0QQrmay/5cWMBlRKY1E8sKV3lJndrr1WlCXqHNcP31WfyBi84ZSq3T26MZTgzY\n",
       "8ecXo51sGW08dc7ebrBBK3+7wSXOWhBiwj0nX2WSMMyoTa23pAvSZBEMYiem6VEuI2otRQrLfsWm\n",
       "ouSLx3Xn3cQXO7+W4jNmSkXzlW9Rc6GpsllCZQju0sJgb6vnIXQcjaAYeOxeuC16y9bu2Lw0yWFV\n",
       "0JrECdcqYt3mqpOaM975lBTUZBXQfhdI6OVJ7IJCV2NJm2dMKfEVtHVlXzQRYR7Uc7vFOy8f79a7\n",
       "8YJMe1OwV2cTR7tbhBIiwCzUv4MZasmTTa+43NVTjs2er1OfHxv5t4gC7KJ8l7qik+cJIr4dXljU\n",
       "8zT/aSFs45BqUsPiTo+XkEIMWJJuHNvCZw5HLHi6ZB4/hINIYdzhvtNcni5yjyia7ftRWy5OxPM2\n",
       "UfXVlr02uBVcppnHmIYiYGjjsgvbMYp51hWZPadyjVEcynrLZptOBfazSggkDEXwm4Tc8U3ZDOI5\n",
       "uw7HZFDDaoCznkL/AEVwmudClOTLklPg2+owc3c562RNkFzNXRdTLg+DQ2x9XVv/w31MB+zjTnU2\n",
       "SDr27BBqHbSXzQt2GR8HzkY8TUaCElY2vsh/AvraSxBxI/bQzapcu+JhsUe61W0HF7gDckkpdSbz\n",
       "spjx5qfmLq+GveOEqspSA8lCyCvGP/3rPzhTEakTr3O/q5OaLPpX4jT8cj1savpLkHZU8tZOufp8\n",
       "znSKTalGOON6drLB2uJLmWZ38oRNnAjpdXsDUs480BR2y5ANdwQBWVQoWyQnH6HFP+oYlKr26mRI\n",
       "g05lAsPH5sd8Jba7wZgki0aifdSTChj06VOZLibmvr43gvQ3lGtlbEXYWdOXlaJTMGGii0DKz22I\n",
       "GMfdOAm5VcHqoi9pDpLMVDHrI8jBjR6BVzrbivDr8NE7zXOFPoH8mJRTJFiLxPMIe/FprWBxGX19\n",
       "2oPGnCRlpBx3RB3ysRa7bk35xFHaIlJ4dwbDyaOJNC94HeSSgMD06qoLL++79jHqltQbBFD0tu9p\n",
       "s/Nnf3iCI9isvv8BgVl6VRGrg/cbLo566Ga2Z/M74mSmdgeEDpN4veaOvpArwbnR8EbXg4WNGwu9\n",
       "ODWFz/CfgabA4b82Mdjjt4Qn5pZ0P2wPpysdHZrf87dJ4ijrvPgPXtBVx4YRAwbNg3ZQ0ZlgAKuP\n",
       "7cL4/4ZJlrhk93PkAsIpOwxYFzH6t5gwBV8aucwVDYyZCkOEyJWylmothCkYrjgdNq2bgUnYFI2+\n",
       "s8TWl0FxK4WOwdT81SHvdTXldEag/o+teDz1oKaPJvRH5TOyIPg7yHxsj0SHfoXkMoGskk0v5bSh\n",
       "TS0vqiVRLXL2dfvI1Cy0ZJAvKeT77tuknGeSvOqOSMEagmC45FlQHn+IWpfVfhGtfcMNItoEoL9I\n",
       "ku7hazldj8oBO1OgXdeHCF99enmCEDoRMGOyQ02Ep2/Hf321FzkP4x9LIdYM+t2Dg8FxGtaLWOgt\n",
       "W1w5LfBrK5BbJL0Yu1GaE+wt8Zqi2sdZCMu7iH/9pbNNzBa4qVbR/ZTgewDAPIQYtUT1tnP8QnPB\n",
       "pOndp7mnhxLsI9NngGyqmup3uGK3bu9FMjvMRI2cVnVqAxormsNYkeYS0gae3JYoQiVMfuZnglJW\n",
       "C0WRceKAsjtvs4KdY1ym1u2dykvWa3vaF6uvx8Yc7ouXRRkAEnEbgZ7iw3zLl6ECzvYqA6PXdgeT\n",
       "kcG71pmJ+4LFRSI0VNjFD30j+335y/iasuZrNwGpwBBWaps3Za3/9qCAkK3q3BltBvCwXMPhWpsw\n",
       "3/s6/x2tr4Gz7399/2oKkYsTjNyQAEJEmz7kq3Ua8IoJyifbveXZa10ZhyKNaCKhwI0OZFBRnyzD\n",
       "nmTnPqYcn3gN0Un1hpkMoVeh0ziXrXvRL5alX13eTAaP4qRRrthLT4Ck7anz+IJSJUsFyBHfx0CR\n",
       "ylwzEiUp1GXxPNHvSEwAJTJnaGythx87qpdZAhOhqcGsUFYFNmgrsg8toQzwnI2XkNwHKrxMoDi/\n",
       "unE4CdUcf9XdPY2tbFlHbi/X93oA+1jS3/umvsRop1vPy0JW4YmaDdnc50m4rUDjrk2zBUIDaE/W\n",
       "BAUJqLJ6+LwgFhGVqHnlh377AVRu9XohBLis8JnHmw/9qC41P9Ru/LDKI1fqXilO6jQKOjKy6cCW\n",
       "WRklRcd6/Ppz2/qacVW2IAycDXb3Jthvsl3O6hKNuSyPY5n2YvRLl4lJYltkR6p26Y1nVjLpDaa3\n",
       "+2kJ2wlJaQciRgx+v5rCFtyOff9exZ9MCxrv65UR11EXRRok94yJBz7eLi4QSkcdBr9webTXR3SX\n",
       "31fW+a3ubuFZwQED4lPGr21Qxf5784ev5Z0JzF45pkpvRX/GHaR3jIC3V1dy0JXceIH6Kw1l9q3F\n",
       "5UO/5FWAd3SyoxKHE1Q0KNMULmbnVSKnupOpTjFC27f+MWUa82AB/CHiidyvMhsoxJqBmeCt+wxD\n",
       "9dggV8mYPweb2Kn1UK3W0jSro05mhDGjdOhW4h++e4YV+w0/mBse5zTboU61xaT5QsPO0k9kqArT\n",
       "kcIqqLU/TrSa2K/8/uTrE2FxYnfRWI4IhNVKwFOmyDRspwohUB9zKMCVtEbAUrQhy2weyiXXOdPj\n",
       "3YtlrMDLSiJPIJ3SlLqRddG8KAKX6V/aWB+zfdsMx5TRdjFqI1MPwGbgCFQqVfAQ05lVw1UVyiea\n",
       "Pbj+lXJG28BhcFXTqyPpIU5BCbVhDF3B/k6JJ9uZp3tmpvmqcyxU5I76wiFEFse2wqbM+EX6jKMk\n",
       "dzuJQovF+IXvNVSMbWvPHgZeSibr45OyOv2M/NYc/8kuimHHAjfZoylLq1Dyq+XQmepgV9ihOLr1\n",
       "I4OfqSFzgHZMR6sC6QXe4uAayOstbGHp2DMIhtYv8PyYZmeNYsx/lX6P7HCOeo0gLY4KhpYdFTHr\n",
       "JxeMETOMdRdjyp4MykTM8z+QE+uk/3U0lXLL8UIx2xw3qZODmCFbV7xwrzOYjek0DRfzbeYl8jhm\n",
       "OSCArGVBP4+GEAZtFqPQdvBlMpFZAmAYlryNMQeSIXQ+M36ktuqsyRx+t5n+crRksiKVMJHp4QbH\n",
       "QdnwyJTD/nzTZwE8KOPU30xC+3CWuT51rD2mFxVoC+18hrobcWC+g8cCKyevFfHE5t8hJWngBIed\n",
       "q7MgnLgtP0celKtJiuKUgw2S99LuFUJRXSjSGUgWO/FOUswh7bRIy8NNrOKb2fdTwNwuHfbKvLMQ\n",
       "p4LzRbJtWuHS0SRSKxp/1M0mQzIQULwJRG39japHlF43Pra2RsZ+iYRgDtaemnB40K4jrIO28b0T\n",
       "YGj4ORPYcui0GbbOOZxmxvwq7fidCCmbxf1P6ZVPxgA9LUcBlz1E8jpQhyGqBXRrEp19R/7AFerk\n",
       "X83wDkrU8ZjVWZ+CWFG79XGu21L3KpNc7AjNIxg1T/ztzJvfpOBZYDAgc8sreFjXVImXpiRAZXvR\n",
       "La/dd3M6aw+F0ym8JTL1+VkE6VOOSbQo3q3M9jfwMBFdIHZ5NzFALTbL7B22xGw83l4aqxOXzQoc\n",
       "AzGjKB0SX1mQhVqz8Kk1gUimaTjpBptTTQ4SoIo86XqkiPv3wTbAgK/wNnAKoVE9tqEJ4JP1AEIU\n",
       "JGqz1OELpq6V4/FCZT/i2efGdjBsPUu7Pw4ol1zfvPDFN98cLVTAWbmBQCtKlH5Qa0UBgnEgE1qp\n",
       "d0ICJiqBLuPOluuc9EdiG4mjq0ffpEshyLM4xtYiRPH07kuXRQZ/qssHNHow1lo9sVBbgAz7ynpH\n",
       "0uldjTNF1wxNmUpwVC0/VtRVCKjTUuaQ16dSF9XXCgRP2TUvUwwM7nC4OMNfzVKaPJI3CZHH1DFa\n",
       "ghh1vC1LuTaAMMfhSmHLk2VT/NOpV/Pj4kIVn1BQCK+ytrT1xxzYRuGF+3AbX2wDMavPpzLZ4kiu\n",
       "jOTYZuFHNhHlz+SWs2/vnhb4lT/6/9QHy6kuEtkDhyHAMYXaEUahLgBmzFta9LIuP2BwtHHoMbhC\n",
       "lHyBnd37bNS03sGmtKFtlRaSRsTa1Iducw8zWHQ2OZATJJsf9gE5UERq+TGLUpeBfKOZZ/3UOMUq\n",
       "lQgdSGCJNPwzw07iREMtg+RdbEf0CG/0bzaPu8I9jkuF4TEG5ESZt7YLZzzMwv2Ym1BOggLvrnu+\n",
       "Q/gzAcbxXh/QSBXOty7KTNBOF4eC5WOgdcGYEU+m/MNxjCKvEqgPHopz3QEJ+TxFuUEQInOYyepr\n",
       "2DmcUGQ+rxuI8/yoTDykj/cHS1mMjRM2Ya6LkfyCLpTm3o2TClXIFVma8WaTolwsSHBX9ppvfxNm\n",
       "P/J+44qnr/K2B4f5Gsf86JW3e2yWj656rBL80D+0dv5ju+ngCLOmVJYJt1LUtO/DvwIHJjKeY7jH\n",
       "VhQynWhRE7NwpIEBOTZ6L+Sx86090PaCRkBxs+P4+knsuh4AP8AAAA6hQZsJSeEPJlMCG//+p4QA\n",
       "H6xSGta0AIAJxjAsiqHFZIYu5GKRhh+divq4OX6CzfH1HbRaOMMERQGh+aRqrF30RykC2igh8C56\n",
       "p/yse/0ke8B8xHmQMnX9pU6e2qq7ynIrw+gVHyEIr3j2ShdEXzW1kgyZdvuow+7LuOZSKno2idng\n",
       "TiVmMKgThbdCypqoi6gXtLYGyO303I/pfZ8QrWOKVmUu5TfixJpZNpU/oEINHHmhMFPdOJ2guvgN\n",
       "i+WeTps0O2BShU1xu58tlQrzvT78trzEXf1uL4H6a6TOOERRP3vPPXFzzHkAvb5GEhgdDkxu5qH7\n",
       "WM25WqWym5MfTk/mlPDEsWZ+CZqyMvi7lFq4TP6jDfwwljKYrfZ9xyASyWqSIvwFTp4vWFiQDznS\n",
       "qqziX9R+CAEzWM3043SeBv5fodXoNQYD4QfhDGxaWtaL9tt/HSUbpE4b07NMX7RJYK+59mMPL8Un\n",
       "rgyCbDEwdw9hL8c0/uQSRU85iYRE9aqhPTs14v0A8Fy1ziDj5/rGIWBsgRArunjBt7vZ/6KUZX3z\n",
       "7bej4ALSyzBFMkL6gtY4MU99gWY848UyllUpCwjZg50tvQdwVS97Mm3YKoakYAj3qkJ/2uRKj/z0\n",
       "E3y+Bl5kbb90MvsN/YfMTAknlvRFPG5I6y/NS1rXFicVcTt4ekC95vylAzgmSpFnq8tAuRJkSIh6\n",
       "tkQutIP6OtpGMJQnDgZe5KZqFOg+I3O7F2ve385/RX1ALar1ofkMPjI6oKEX/HjH2vLR/TcqOcnj\n",
       "qCPAjIiuz4XlsZN/b2e9GmwThrVN6aUyRfYPRm7eGf7PlHQYJkVXAUn7hO3KQ+aFnG5Rgo1PK2PD\n",
       "wHujmcTGDtZDtq8bgN5SZauFd/Kwp4R7xYdIjmH42gecsVj32hEraW1v3o9/ecZrhGs7QfEuc+xD\n",
       "CQ06pNpHWi0pcJr2GpxHwOPb7gJ4sJipPgcf1t7ZVFmO3Wg3xyv6grY2mz5WmUQ3oHxdx/v2ataB\n",
       "AuZHsx/404HdWfSkTe55j8w4ClC448VvcpIKQIEplbJCs0GlYXOYgB04cA9b2AlFireo20DqkE0R\n",
       "f7KcRdLBLK/UVKuSVLWOVnz9PGMpMDL289ORmj477LKfSRNFg7/lJrF4k/hO993+b/KIoQ9SdkH2\n",
       "b/pjmp7y49t0at87WGD/7za34FG/QFnu2aYZyXJ26drUVC7iDmcipJvDypZQrcQItG9VV1J1s/7a\n",
       "BbMRDiekXETnF+wdihdrFCnxl2FdghwqyobPBTiU03jt+CPAz2c1yVe8a18//fQh+6Fd5R2ilGrM\n",
       "JPiaTJxUCvp30pd7XqEq6Y8r6Bbw2tPZ896+dwiL8QgnSlOdK1olQdQ/9/Ao479s4clOysx3YjMP\n",
       "2UjSLQyLsTIhBphPWhT437JL30f6yXGavQR5rAvljsvw0yESKDJbvfxOexGafdfg+QBqzqGEyWpG\n",
       "Vb3laL3JYLlOX4j1aGeLWInPFVoZ/M1oJOJiPErwq9nCaOqV8y7B2nod9NvtJZrn0XJ/N/0qdCwP\n",
       "CA5is/PtT/q9egtNOVy7j/zgAzT3J/9HYf/gMpeWMX7PJ2xuHLPwaxIz7qU16nZtOSKQwWlMyklv\n",
       "xjswA0CiohPkAwKygtCanri3AqyjZYQboyRbgEujuB5Thn7nJXj9qj2/QOVfLg9Lp539i5AqR0Z7\n",
       "DesmAeWf6mz4oBH2NYxdS8ltZi/egY7UN3scqN2beLJ1IguHR+bSsJTDsJvM6R4Y/HWLvyRvASt2\n",
       "tbDggfGQYRLsuagzejsQGEOI+DvMdNfOPbPLz8ysNSPstEq/A+SybKlw6gagBuNBqhs1kFrUr2dG\n",
       "Ji08N3AO3vEY0Tpsk1x1Ty2fOhpncrZoVL7tu9lsfAWGGSFF4/rjVvuuRJs5l4tLJEibkNJdZAJM\n",
       "v1c5kJ2DS1zphMCikc6uYVhhkooZbEysJ1v1SeUwgYYJ+nQCudebAeqQ/nR0JkKcf8mw1juTw8wM\n",
       "Ewutluko7AZrgCjPErpnR3M0NgnqA7oAmooQ5YI4az4rvKSbcqHxEu7R16yo9ZmsdmJh/hTlzXRA\n",
       "zymQ5IIh0UxF3NaOK0SQp1t0uaE6eD5wgn27sU3lRIIsNJAxzVxtNp5V8of8EvH/shPO0TolU3QY\n",
       "WQ+x5K5H9lvi7Ao3MkKB4kHpDUmZZt58ocNWVp1wvUbafuY5MAeaie+rG994Ewtm2MHMe1Gm19dZ\n",
       "PKE9riyrgU/Xf+ANemy3lEYRJIIdIz2WzQg5xw9EWwpIyT8pT4AKyduVInRxJjTKsgrFckTVvpK0\n",
       "9zeJYLz0qobGs7izDXh0NjxDCzBKKfMU3H3Qn9uc3SPABNttwb9iEFNiZmN+4lCFEWvvzCgQ7wSc\n",
       "JFgWswDzc/Ge4qO6bt7mbXS3mxeJQm44TmW0tEl5ieXlVWf9eyS6u7rFPg3tHOxIIJpoKZZSVEB1\n",
       "jOl59rmuU+8BdkNmXZiSA1eVPZcvtK6hYMtwjEwhMXfiqwaM96t6PBMWuSQ23/B1KGHJEMbe9mx4\n",
       "NEgXzknFMjZxwfcngQtGERgW+Ly3BQfjtQ8ocyPBjfC0Wbg0ojhKVwggtbN9TTYgSUMT6roP7+Tc\n",
       "QwXSWsub4kNf2jxibvDN6nyZgSwLSqRtMDdMYFChakugkXj/6kG5yJ6PNY+2DvMUrb4nVcBYRNMk\n",
       "jgI45BfWXSI+YaUL3tx4J2t+8uw7aKZpYfPlx32sAQEmlMvrYTiGIjZPXZXxGX+ST7A8NW7mj5iW\n",
       "xLcemIWRvnbX+6veeDtgiltu+2015pEtOa0GXddzv15ma/Znmqo9TsdhaFpLl7pE1FoWZM9MR76N\n",
       "+Dn2+kSHlSfod3X6pnsaTygotBYomDSPbuzwX43NEibJr8F7M8HhBm9rC9Vswl+Ap3ydspPlhu5V\n",
       "3ZoqZdWu6UOaB88Pmla/JMM6OgTSgYkMVzcJJ1YUJxpsrSd8DqevSoIbQGxd/1siuVYhini9Gl3r\n",
       "mUEeXnM4AmHvB3MsWEQjY+8L7fSSk2YrQnufQsUBIF6m9l5Xo8/s9k9E8+G3DgGGtq3kl9xj87YL\n",
       "DvyDDoAJ9km0nezLvslhfSkpx3iQHwIxR4h+3L9nacU2WxsBwIcX5gcAVODpYePtg3RlSXrdi36z\n",
       "M9I/i2f6GS5yfTPWRDqJ2///N5FYDMaj7aPLPMlXhQz/5HbcSmE4LWZWl3Rybk0czbbM2x7SdQYd\n",
       "IiJrmPPtfxCK4dFOWMyEXvimlcN1dox4ldX5esC0n3SxW4n7U3wnkty+JPlyCG2H7WnYBGht9HQW\n",
       "4FzFgrvfLSXwl4rZrf/Flt8BaXjKqcaVQ4YIOcbIarvZcj49T4Y7GWEUVxrc6BrVytank/Iy2BNO\n",
       "h5X0ctD9enGewm/D4tgyDdLk60YfRUE8ZcNoioBZI2hbzkVqMLUliifekjzdXRYxRlNP+N2IU/E/\n",
       "eJqUoUHL9NdqJfTkrsg2OAUHrAa99IlLfiEycVMZILY68nx0ZAq7UBymvxCRoPKstP3adoMKP4Tr\n",
       "WKy2cfua4QfpWpa4iPowZy2kWxdhSZgWFBEyDxHTcIGHdtIOF8NmxWWUcmNihgnPq/oRWZtkiegu\n",
       "rQqk3XmXkZdS6Hl/1gQ4MLsxoR1b23E8NZ4YVtUu8AOOQqrD/tT842hzrBdeRV/jWxinZCm4rSn0\n",
       "ONO1J4R5GtSEHNZ1gCJOgAiWSXQkGFDNT+OygeEVQ7XUBLGuWs7NCC9lxml6yIoRH0UtEVD1QR3T\n",
       "AGGYqZHa/SNr/e7UGUzM7iCaRn+34c+n1sFT3b8D7elef3iFUuUc6FiheN7QIHZ5oUPkX0qi0XuK\n",
       "hE+vbmqbR9S0fynBtnudDXQe8C4WMW5Ac7t8mPRJf74U3PiQlwHRdRFVx3AbvvOB3Zpt/oWg/dCN\n",
       "wK8nM7izoziLsQn6QJDhb+w4eBM595eX/J9X1OOUrqBz6n0Za84F2TDSbApZDE3tY9Qvt5x2ZWLY\n",
       "LIxg/OBedJmSbE188hMDYHvcUvCOizbzS48FaNwG+Mb7nXEugGuz74o56BT2A5pX2V+qJ+iW/tKS\n",
       "iFeckCfP1JNq5ePX2DPSawbrVej6Rtf1280xX67KlEBwzXUEYORdJOScYwxHch/oiJieuJzXngUH\n",
       "xIN359bfoYB5VOpUMFLCAsmz8ahmqTUmldAzSd1A5ikQ/r7Hq3ywHyXChL9xnAXXBue23cN5ipub\n",
       "853BHHqHVT0NCLvtZx0y0w3K1faQb5FxFowtsQZ3hfE+2hDpfIr507kEqegSqhNdiI2ZMzCXC/TM\n",
       "LYi8yu2Y6KEnZ2vB/jKvOHJ95yttu811tK7ABdP+bHqNGQ08K1ggiyeq2RUpJWKIvUDUtLEx9ABD\n",
       "JFVMJmHpuwB4fWQkQVHFGVoA8Lb1tmzhnA6G4o3HEMaP72mygqWVr2ke46btzOwFLOCfO+mTDDWE\n",
       "oru+lQsHbiEodH+gy4Ro/kalMfe3++tSVVRnUjPoULV/wNJP0o9/APEqZ4ahxEgHWMLsV8Z/U89Z\n",
       "Sc6wBkwGIEgGxuAW/c14UgzGqsCKVql6+VB2xAURh2m8JvdbzLieexwp5GSGM/QZ3lxma1PFHMsj\n",
       "hnnTCe7YVpU32RKdz+cJHXhOqnErVIFyfVrKubaVHbIDG/8UvCW/B/jpi+TviKeCcXKXtyzBv8Iu\n",
       "F/iEB3kWR6JmX1wVxglynKpBSvV3wKaWR+6U/0DgoaHbAnYdZa7jtkz5e56Jt/8IwNDvhdvKzUrP\n",
       "5Up7EOAqIGWVI4oGrURFMy/VsUbNajQO984yE/dd8QfWhUBESOL6B7nehyhAQatFrJcOHa4pldZB\n",
       "wvazn9EZsPvDaC14V2t7w36hkovAvapVnpeZuTrxFQfvNhRj0pnWlu1IkvIGYKN//tEg6JxLH4Bc\n",
       "CFMaD2seFnVsKShJl4hRx6CWPopunzI+EU5Qar5ygR+oLkcX5LeIDSyccBWv5529/cPQ65bCKxuM\n",
       "tRVAckJGBwr52EUUuWosHFJqi6iKScADFgAAChFBmypJ4Q8mUwIb//6nhAAfrFFtZiOegATjsmN+\n",
       "n81PY1ce2ZWlN+H8w6AW89C/0HlaB+zw59CY7lOAx9KzQSN5IW8KFJJcSkltBrN6BuzDPwU4iYCW\n",
       "dsT/iqOqBrg6Wgb14TuP8z7TT9pk5sq1uxyXqaBg9o+lrsh7FOzI3ZCYWnUw4qeXodmliEAKIAAl\n",
       "Nn+TAf5V2dAynHoUp5Cb8Zdw9eqDh++8REjqv3wpsBYiTDKn6ywzznJGLlxb+2kqOgzqAXgfgwAs\n",
       "bTjMmMQAI9Gy+I4nhhHpCd1O5Jjpn2iRt1GaSABrbYShioSXVZ4sJPqQSdQ0LNFUyuceQCQ1EK8N\n",
       "ddX8YLnJlBKhy7KauLAIkXrsyMqsGNZy4LkqaDY267kptRhw1F7AqiSzw17uEhPn/L/z80TqQdtc\n",
       "e370f4X8zf8xj6t7ZAQkyyYms4f9ZkB97Lr7JhkfgiYK0wsG4Sg4nI5+t/tXiuuhZ9IMJaUKt20K\n",
       "zZt6r+5IxiDACplLuQYLslcrUQd+MSfzpB/eCHywyhyAop8AorzEvYyoX6HEOVM82Kv/ijmKVY3y\n",
       "iPV9CH++CmXxSBC9texWRpK6tQUI3p0DcXk1mRZ5bZcAmyNlk0e6/3hlQle7Q/NGMIABh2ZIj3uv\n",
       "5Fm3u4Dh+5cfHrTPZhfk2fiAxt5Ik9hXZr9cquL8CaiFsTzm+2T10/feiMRzxXeBBn3HTvha3fas\n",
       "kCrKVEDcbzu3yUv0NA93v7RP6KylylkcWC6Ru2UJBmoWW9f+S5aH3jBYa5d6jDVr6dpxAM2cCw6L\n",
       "eAz3E57JG43UaLg1zWb9aOw7JPsXU3DILOFVx1d0nkIMNB6dNSopyGLF2kK9okTZTkBYrzA6Ekpo\n",
       "zxdxtW+p8bs+3qiIVXukGvylFsolzWLYUeTMoMa2YN+FkaezMby10nNvE8sG9wGXhYSXIl8pfrWR\n",
       "matt3/jYURqe6EzbMlnW+d1q0Kwzv23tgz/X4gAyPM/NBmp5FNLSXlGzcN8Ur1W/AB1cRwCjUcii\n",
       "dnKmP4FSrJQQQf5nxCy8VVGBcZ92zecrSTQMKJhM3t5p1AMilWpu3UfXfq1hBxP/voZbQnHYKIrV\n",
       "anKZ7/pWlk9OgqS7IehQpgvQuF5d95aPTSYfGnuKVOd3IyjZsN1XSw7X3hzmleWUAzoTSh/Fuovj\n",
       "cD7UNO0UqJDoQPnaRnXgLcMWk4P6ZSZZLAF8fldCuwAS4yDo+SAW/hDkSF/1ZjT4YCzXgEtmHHN8\n",
       "kGHLfcEnEywzr2F/ADsQxDJr8cTPfUGiuKO0Osb45ivb3/vZtliW/8bVACbfTXKzpHFJahlZHOaq\n",
       "RKnm2GQkzEplHGlhuZmEO8bo3R1fZMhpMZKs7hDze3m96X4yhiBbBn77G3YfXiWFlbUaGTL1SLvj\n",
       "RETC2SJzEwUflZrzqDJzzxSDb9wce4lyZdVAl3MF2kzkeu8no77GADGtFm63TV98bOSKeRbWmrxC\n",
       "DKyU8yBTEU9LLpTe9hq/yMfY5kZyVJ3kgX9ZDqYvTMeEAzMRhtFzooB94E8F9Wag0kQ8Twymh3cg\n",
       "3FNmsJxqZdOXAfZmKXDwzE+jnMnnqb68xe3UHPQAJBTEcvWK2U4BGHc41RmA0Nss1a66MKwlufsh\n",
       "WSmM1eK3DHAXaZITroQbxuckpbRoSesAMcKdhLc4aLz2rFWkKuDLpwmvvDLVuy/Qp4cCrXz6qpCc\n",
       "zNOLQtD5ZCptfS3IvzTEAjRGKFoaeULzlzfVb8h1B6ofWrUrnIZ2YbncJcvyzFTGMoNm9d7gC0Gv\n",
       "yz8O5OL/jvNkWjcM4KHdutCcG5A8t1+E8vqoOrs1jT8NPWDsFdCvWMGiGgAqGNJ2Epm1JewA1zRB\n",
       "9UCXa7ch7FMvcuZtNj3dKPUcy5wcLlpshobneyfzeCBCIEE0RWamgcmURR4GJi5dRsj0a9vyMmIw\n",
       "WPpB0JzTQWVzaG898au59IaAmE/McIB2H30ffuWXaiRezBRJAfzJqhgRqbY+Ur7lifKltE5XLyQn\n",
       "xs6Nf9WodzmOiSJyuROR5OV5dmTttbQrMPfG1APs72dVps9sny2EZealH0Moj4StXgARB40O3uaN\n",
       "JM+dhH8MEqYrK/K0R3dX1BX0hcL++2M5/tjxeVg+WwHxj1dRCwidfhrcIL82RmprY8wgtcByflip\n",
       "HwU75V7M+hrBaGtS2TSoz/Jg6uSyT+Ec5fqyjU4AvfmfmiojENlpn4eWU6Trn4wXnkg6tnKH/YL+\n",
       "R1l3axKrWmPlS+QYS9hXQ/zpVBahYJvJlmfLi/mSTKepgn2EYjXRPRwl6EDbZYIARYqzEDH+0xRU\n",
       "RVnRGnPZNk/e8SmVBLGeg86BY6HlxRX4SYC/MM5GQmD5tfoGvFSqVA8CQ8cit7zn+L4wISCi55ve\n",
       "47euzzBuopHoWwsgRnamRW4LF6Z23dGWHMu+A/9AZx68Tl2kc4ljSgFpILKy7wlH+jBQqv+a0SQe\n",
       "H88A2hJxFCtRXw7rRCmbK1/LceNb/SGyzVuLfcPnKLCne5dYPLjNduCEiXMc4Qm/EM0dilOAN5v2\n",
       "XZ5Uy8Zw3YTfbiaB48R7j4+PYY68VzmxdpEz2gKsJiniRqQ3EAb93LpNhhWTHGlWSzZ0dbpDKcWN\n",
       "wKnhqUWBRymCV0xgRL1FfT69nklDJfdZz6bRuZkj+YjUR90xKgAmJjh7moW59XridYOBonDgPlGQ\n",
       "FBOTP/RtqQxxz9oJp3sOG4GJizRfpgeEXCD8LCxofW7wVXV+tdKO4atY7vo10APFGaSTmEGNs7eh\n",
       "WM3c0YqArM2mrAdNRhW6v6EgDy+NQyMMl/Aso4pdCOrKlmcAGU7aleC+PbVdUFaBXmTCwluQ4UNq\n",
       "qlWYCj+QBaaUEQca53Zhl7HHDK/ztmLtsIhjyy8XMV8uujlCDOHxqTxCeJ94P/zdCSPlJ+mUS8pp\n",
       "eAGVxpGAAXwV9uOFX7230+w1Ah1nFHJ+F6f161TeuP8EidPpF/Ki3p6iAiCWzA54Ic+ITfCteYwb\n",
       "NTF3eI+0WkyrwRcChfhmkFXuVTuQXCtuft1Fqg3GkaJLxV6G1W+583MACiNz75HMWuuBoRb5TUuB\n",
       "iWERe1oFKrytod1It8EbS0vYYJFYLX55hcPEjBrELzTSXpRXTZ83HjLwaT/J8YKc8lfzP7najkpN\n",
       "sxPtcvdAccPTqpBlxl+nI9euKS+qy104l/JUYP9a3m/wIT4gTdWseWMUXnve3FUAvaF4bRouezLt\n",
       "Zy+ezENoqBEttDsxC8vlN9rq1tr64DpKnJDW1MLQZXvO9bElMF4WZsVA4rQN+9PXruBFr10ycVeX\n",
       "q167HEuZsOBEPj43kuzZ7EeoKmTEuzS+CpGzv8ShB8Jvs1Ek212391JrXAjS7s5RDHckDTkSDd/i\n",
       "B2Pqy05Upf6M7jNgd2H4hYwUMJBUb/6T5WJq0E5twReVkXBFHFRgQ8EAAAxDQZtMSeEPJlMFETw3\n",
       "//6nhAAgpoOkAmKHjIhbZD7Zz+PGjuT2LPFAzgIuc/yIEsDNUVxyXunF2AV53n9k9GTNEBTw5GjT\n",
       "K3OcbLwPNTu8U7qCZde6gV2VRa3s41lDWJKJuNL9fJhhgapMMHr/+kvTkklBrwz4sg60A078VI1w\n",
       "Onu+1Qla+MVqTEMwcSaQcJFy5AyxBcP6gZEiKfFZ2UDwXOHAtY2Sw8FuPvhG2Ab9ZDVAxympBGwr\n",
       "GJKpwLxDoiZH71YVe7Sm8PQqotC+pUq7Fv+OUTdxNKRPp7IjR0WRAWkMx2z0aUp9hBHhtXMkOTKL\n",
       "ZBvY8AzzXA3AdaOSVdTCY+JcxfBq8Em127VOW1v6iqeFKp+S9Xr4X8WcsUfJLiZN1qHG7OiNdkY7\n",
       "nm4sEWGgeVwcHznO8aBCk/hzRAUJ+3GVXdvDgHGZvDMNd4edpR6AkUyehXfV8Qsy6l8Oa88dkx5q\n",
       "7Z0ZjqKMq3oKo0jTBou8KOSh1Vq78JEAzok6flStGJKHbxZ7L1xPKInpaEDhpEQwsArSjtP2llIe\n",
       "D7NUBMBYmZf4bldAcZbmOQ8XyWyP3C87N413JBrNrnN4e4eSEsEqtINzo5C0dLXTc+LUyN8JRTJv\n",
       "vQ9ux6DG4WdAd2SsSFX4fNeFOIJTAXNeirtHmld7LQWpUvWjvuf+l0/5gQy44NqwpcbnIVI087ar\n",
       "if4NohHIN/lGnq6cSIcgHKA9DcGhUd//ms/n3/ur4CQCbM4bxGtci8HyxqshRq1sjWeS7PFxLprG\n",
       "+CVPWa7kz5msVBksxR7hgIh0Jt7Lcv31VWX+jtF+YrUnbNglaAj6N63+88qIljHwXjy6mvi/6kco\n",
       "4uT2kaeXI+Rgcu2HZSk7WfGCRWsEwrr5b22QcGhj0/uK8yZE/XsXP2vvylLWke59LaLefmD5TOrr\n",
       "9O9BxHU1ha8SNn9zmz7RXljnanpHLWI6LfsWJpBNt0UvfZe4BPGINH6Z75B9Oxi8MVN6gZu56BtI\n",
       "5Wj5sxjSR6gsRrh60cUg72NcF/tD1U+ALIk88nx3SGfUhJ7z7XhD/emmVFbDqTztufai1fBU3Kio\n",
       "E3SVw7diQCnmlrrS3sqdhmHC40Ozy70zvluh2hPvG+MHUzmQkrgWvSz5MkE2giqq3Ld6Xpxr007R\n",
       "bvSy7xddLHMBsq29l6Scjg43jWkmkVPy88CTor07m7IOgvfGOrJ0GdtCMgwecLQsmm0nJOt9oDRY\n",
       "RKYcgCrp0SbHw+XVjVt3F5UwQdJs3240bpVRIUDTEmGc8a+4l15vlxnYcemsy8hqKHTOdPOuCELO\n",
       "MwMWCJXcGF/kskdIMux/Jo2AGBq2X5IQkZ6i8Lpu/+4A7FqWL4cszvm9ZIqq1sO+eUoiyA4iuG0B\n",
       "K8x2DLXNMoHw+feDsmH4Z8KWN/AZQq3NIzj+n1cTQNMTZMRV+WYfK9XavN7BmMj6OkNSmxtXbnuL\n",
       "4sLzndiKO/nKoNYx6EeSTjgkZaHzUyTmkBkIgjTabTIZxFhZ5y2EnurZuLlTt19DL4sgWqjAiLSS\n",
       "vBd0xqjSTJnNjkZl3/2UjFGfaDAkSy7yDrCoXOJlJgYesra+2MYyQjBZ/DvpuEtEJYgcaNCcl+nP\n",
       "qiHZ0n42AuaWiZaNZFxHpSnX1AreV1CaBx4SHuaaMI7PxJmBkaiJ8dXJditK8vkTWCz6ifgIi+ft\n",
       "ukZRqTOov6ky+nMocfC/CzBzeEEPQOZQ54ZCzLQ5wwnW3K90pXDTTUsz0AeUga2FTaIvd2ydgZ29\n",
       "Jfl0+veyTCAyrTIMYHfJOgm6QsGN+fw6oDmSQt9V1sfftrW1LVF6Ul3bupMh9UEjMJLPx18S1HOP\n",
       "9RepyWJSGGuXlU35/ZNLr8KHJ92Aiq3RdNGPRXw/QzRVwzo6rU6qHT9kIkD7qv155Wx+B/WQi45d\n",
       "KcPO/P6c0YcMOoMsoyEfiLMZ2bdHaWL7894PhgfMeRQjtoPQE6ta3yG7s71EKKGHi6FhuK3LrAdO\n",
       "mGZvKhmEIhMmir0jlvuaHMpCnTGL3XwIc8hoDmokmnxHXHNTd0UZoBlqB8clbmSAlgtd/Dy1/aY7\n",
       "iehyFQSg18NminJsKgWUGUXfPrxiv1W1S8nHrrKHjuA1VIKtcjfMqOT/0fHi2fRbuxR+5Fq6glDv\n",
       "V/eVfVWgBkoWhLrC0Sj6sPC14P9Q1Xs1DP34GtbT6ympD+JmA8JceMWCNWrzj+E2qJ7YqWEzcOHo\n",
       "MQY08wO1Xn34Ymn7+SMu7ZZFysokV5acpSWd85TyJYR6kqKFxTZGaNZ7pHd7AVvf+sS4E1YVJlcI\n",
       "v71IjnN7HGlsRWDUPKHg9ZF0UKVkc4hmLtqvY2Q/6kBU+gQco0/VI+vdt3eELWf/56wvIq6lA6m4\n",
       "ZKTAmP/cOEtr/spdHiW+/7lU5lfxalqRIK3EspeHVO1PsLnVKH3wH4ay6Y8qOWvyYxK8kMQGF0yH\n",
       "CQFhX1PjKWfi9aZuOYFn5eB+FmaUNtRhyR9x/KYR93bL7EKMabjmhn6xuGAFVgRhw7VLFEez9oMX\n",
       "sERIrH7JN05082pxS2R+INcI2XEuNrDeiVaTVFr5Z404W6yJo9evuIOQJUhx8sHiKFEcMCavw9Ve\n",
       "9l/Xkx8Sm9ye/iPPew9MIpJRlPDmVi6+mHfk6qMtJmuRsT7/pb4kTte9Xbeu3fA2CSJ92bF7/O4Y\n",
       "34cbsXK0X+pu2LTOuGqnAE5mk2C/0wgaICDqwzhY2MdhtZaHlP+GZxkAllmzub90HrCMJwXGJyQs\n",
       "5YaJoZWHdJHXfyt4f5nDeD/12YmPHaEGLZlxhQFh78IoGkK7r0y+YuzDwSCcxXIHyPTYQdkqMFbi\n",
       "pfD2YytHe8WeP6YCxERVChSSzG2+X9D/Mr3fJVoYBqDf7KwZtJUsIWgMX9RsvkcQ5mP8WvL37V15\n",
       "nGZNnvuVfhvf/7HTHCyr9PQsV6BnuTuygszUmtzG5oXeN/2mUTBeLo+Alu5wdgfilut1b88vjl0I\n",
       "0WvwFaUm8LtbvUMiITUc0vRuFDb7HWVjApvmNZW13CZATHICgl1JLnFkOcIOljPV3KO+Mtvl54hS\n",
       "6PjDs3QmTpzP6MwnP8Ddw/eDEiiQigz+/7IirWG5a1BclNn4B8g+nGYKu/33yoa08YwcZaf2EwAy\n",
       "Dvae3Zve5IGdEoVyaA9ZXoxYfVvW+vILb/9Nw1lw7A5Bqfum/tNCK/rWcAekmhuf6TjoQsN5OZcr\n",
       "xXKMHWhXY0wHXIuhTtn0aCSxHlBhVQBwrsyCcbHA3x/1PnKNwSn9FVqMp9LAUv/LGlG/N/Cz71j/\n",
       "RbnrW6uo8WYuVHaIUIUZCdAWg9806OZYWSRNi6ILSbKCm4s16I31uNyZ+sFi/zgJEg8HuxNX+m4a\n",
       "hVD/oPR9H3UXWD24Fi0CKuNn5jDFEklpozmfOh6R3hBgHwApR7XbU2SQhxr3MPFAu1jYeL+N7Qun\n",
       "UFNPwcjrNUZGjnuNkvDRUoowIScBWYnqqQ7q4a1+X9NaQtZRC4VUJ27QJeTeXNTVKx7swA7IdXY0\n",
       "QSAedPRPq4yshOaRP/JUvXMj1bHkEf64lyU+mljYaWanHlO4yM/osgJv+/NWzObYYJ1QBcLIuy/e\n",
       "n3hEgxs2Caj18jK6XsGV0MAYlb/zXRFna2wte8oYnnzZSUO4nI+zl9ORFddBdfDnEdYyuM1Zf/ua\n",
       "DtOxISostYfw1sAovbVTTHArAzZtJzX7n9eJWBX2HpGSdmnOLUPQ6AZYtXhUzoO9g3/AFwdf94Ym\n",
       "PPtILVXOLXoUXh4PclX8vL6wyG9BiF0rpyvvjnF6VKMnySSj4oFuUZG77xFx8/intWxOobj2bshw\n",
       "KjKEgbQhwnrHogdjqtQxkJV4JQ5lZR2kgDJWcVLIdD7M/+mgUapXF38JxTea+2UCZHL51leTqjUB\n",
       "FxFD3+07il26nKETmftPLJxOj5ozf1nAYOH4shCvaDWIgA4OqgZBrVxem6+T+3wNl63ZQoJG07lK\n",
       "DFXrzu47V7t+lQk+m5Z0daaH5IRmsjKAHExZQRQDrF5w0s78Y3YXOi/dn0+c0WoDS93YGYIRuVmA\n",
       "HaSByVYRpBBfY3cnPf7o/CeznfxRYa65NebFxIK/cr+WerXcCo6QqFynFfCxZgce+3kMdfF9bLxw\n",
       "HYNqHzeUXMLQMiX8HKVxTW3OA6NBAvv/PuV9+l41QuNJUKoy2wJi2MUTQbxnWQACVgAABMABn2tq\n",
       "Qr8ANDnf4PoHaAs1c18CABsy5a3uN1K3AAynY4KzG2rzSj7zXc1ALUkW3RjxJUlcAR/X8pWSurc3\n",
       "NFsWecaJYqaAPR2SoOli70b2tr+VvHHm26HbzH/0vOdCZiNlOT5Wf3EZy3gX3BryQXjcHR6TMEiq\n",
       "2vxalt2q4pv3NWohQax6iPoIN3D8Huug5z9L8q8SBPJI228popJIBhBMh3aZbbOk/WC4wRirgXNI\n",
       "lt9qRMz2BQmoH/HY+MB55SHdG6JmuJlXdff4symvQRLujHT95+NnEtv0La9UQgz1zhfmNPnEKQ98\n",
       "7LYoakUzogwzH8kE9WHaUD+9ezDSDIpYLfWnONx1FTEgx9PtqvdoJTWKaClJRLuz3qXCdjYrGX32\n",
       "otFqjj1pVfVWPTKC63WJaDE/rYZQi8Ux0hrf/7yfblWzY/EGL14/3xaUBxc2N09h4Nlo0TA88iAf\n",
       "cKbN/+Ug+CEXAQaLD7zlVpT/XAcw0tx+SittBagXtudjdPUkqf/VEEMkBj8Sftpd9hVab136dYRa\n",
       "KJB92WycmHLScG7/Zh5kz4kpvCRuwO1kDUhZxYvMFzhjWI3/nxZ8s0ME2Cx2B65oBFMSPZTTDOS6\n",
       "TB6uPMXZu7yJ+P6pLFRNvSEYafsddXsYD376QunjfQYwTTzAkjJJ3hN/4q8ilpXrq5ZrvfuezynF\n",
       "hgLe6XElRyyNPDta4aMssEV7fV6+GyXUyxlv5uukr4HLJUtdCjbRtia/wGeXQmnvXB+cgv55TS3X\n",
       "zbVe+dmXe6cJmFM2M4QdXdOF5V74S7AQqBR6nul1N3d3ycjVVykE5scQRaI1rO3OMXc4IqYyrH1P\n",
       "oveluVm6H/EDl2HZmqYhTKsOQtr85weHDNRc+KLcdli454oXqOYoKCFwEEEZLqeq5g9wgXDTpX9S\n",
       "Uk9diuKEsqoQAQXNolK32Y+mCa9oHGMA6r9ev9SCqpMVPay8QaymygKxW7d0eJrOA0pRCRWUQVQI\n",
       "RylKrcXG+T6a7i4seBZov+gEbncJLdX7vjH6GUCnZq93cwK8j2XXODavN7JBAEl/6JPP8tGNgDn1\n",
       "GaqT2IXrZXrDRfG3nH6pd22mLVQaADO2+IH8tKSkZqHq8Vzotj2mWc0r7PEKxqw8lWTf9MQ8CYQU\n",
       "DWrBHQGc2NXHnxJNmI7vRfPMsCt6Vq7TVe43qhSH+qwnwthay1QRQs1gMQWaC5fRxeIMxmm1elOq\n",
       "I68EDztmT4qvsEsxHajrrEz71ZN9HrOzx6I+8Huhc8iOC/Knh2TQkmULuixaPtUjnyCqQIqiq1T8\n",
       "WHc2eB7UjnTh3qyfzekRx/9CdZwHAGF2VMcvf/MWFKqSxbH/8MccyufjaqLfMT8URhEwsFn7vCvD\n",
       "DgcyJgr3Z1AOzPjHoemgiJn6p8OD0NFWRsiJsz2KMjrXin3YFlO2SNENwHGw7FU2fGIHTb1Cs9bt\n",
       "Ipl+9d0JhkeinXs3jS9aGOcNrMNENYS2FTeYOt/qc/cHK7w8uzc8twCljiMqUKs4NajFBPrTaLc5\n",
       "vAqJb/3GQ9Sg/OFG4amkyj3E32EpBBpcM/5znxFxe7UGWRmEnYF2bjGiIvzm+GpFqnkKHEuRRjY9\n",
       "5qXFhsfVV3rIjbcAAK2AAAAKOkGbbUnhDyZTAhv//qeEACC0p3AIAWCtZr/SrebFOaFmlfZWMCQD\n",
       "OWy8bca8ggc6ub38CgpboPMLo9UWhKwFkA7o1t//G8+YgHmMENTLKu9h/ZXoSq+JNY7j2GX9qM7C\n",
       "0qP43jQjT7w4gVNrU8gVhEaGPf6atbI2wWqN6sCSWHFrjtJFPi+03x/Kn5aCvR2pTg1p/Ny3j6D3\n",
       "5ELCZIuYbpZzgLE//NzbM/vSm8+XwdphPVq+eMCGdefGUbuxclPbqH/dV64UFTSYofy0HATaZ9bL\n",
       "zjphDGZ9LgwFhS4qJTUqBcgqQjo9AQasYJJVwzuNmTlqBQPch893JecJrfWdPfmNYTR5GiIfyJ/P\n",
       "EKewxihyKIitk9YcGnS+vu39la6GxlLBklV69vnAjXNDfcpL4Gtzsf1weHkWgF0wl80hIHenEYfj\n",
       "KSe98fyD4zZDPvcSKlL3lkJmCvxIcsW4QnU/xIi1g0W3TfBo9EKfI5KUZ/PMWtcv/dxQpEzaDvtM\n",
       "b+5mzm1AXCevla92B/Ve2jIttU9iLv4Qqx5ZlvgGy16tS1GQTVofHd0IlY7SyjnOeLJmHaelY8H/\n",
       "m2NddIMEnKmxSaQMly+okPnAJ+yKNuwBWouiQTsvU3elmGEo4RV8giHCOkuSr1tngYuQ47ATEXyg\n",
       "IyRHo+4kUhRqL5YLGXxvp32vjIZ4sXHLmHpr5gBBCKfX3BjtzE2MyEStBFaQZuRebdnhDTRVKBZO\n",
       "1xoUgo/UW8r+3fFmhSB3I1y5BMX4MvoUncfl8/PT/GFv+uu6gER7kbrgFuNSHltqbm/Xehs5w+ps\n",
       "SUQW/LWu16grjXn0up3BEu1LJRqCYiIzUNxhowgHtAmxhrNvkeP5Ww+DWLoY8Q/QBgUsFCssLyxi\n",
       "3roi8dZYR5aCDjuZO/o2T7Wyz2z5b/mMShhohBYiYepywrpyBFRsvvYsGYWFuylp0knyHIuedZfP\n",
       "CO58OGu/QM072csSaXI7vtYpbzq+WParsBVQ6jaHfl5CjDWcoBQ9qoeccISzeg83qR01LpPSuvAW\n",
       "h9L7x5qIZq+7s2QAYs4zSuMBQfGBvJzdxzf0xBBA9GgK1gygTiIoBV8U0VbwHZVYfyKFhy6bGHW+\n",
       "2y8H6Ji+zw0GZODn0Pyz7aNqtpZMaWLpKMyeEXF07Pz/rpGu2SsTnThxMO5jAfZAA7kS7bI5xvzc\n",
       "U6ZINBgvnFnNorhSERpFiIoDI9X0IM/tLI/C52qSN1lG6JfSzgLTfWomtRAY8S65Ww3tH/twMbVO\n",
       "RZ/1MjOIoYWRWlbPQvsQcp9IMg/IR5+3U3k/MRqSwzDSIgpjscjetwje3JTMiOhSSzqqNmlgOBJk\n",
       "C/YkWea6bvrdvnlgnMjI3ZzKDQ7MbcOxIwhgcBtDCBUXAMjCNRZ8kCuKacfugG/UTlAxrWCMMAhQ\n",
       "+6ssIRb1Gkzb0EzM3zxA2XJuboNlLKStiX8RFfBfOqQ3SUZhQYrhwGo5d817V/ZHEsQYHpUVU6Cd\n",
       "rW4756IurAJAvwDtnkzwU9hQDRkREOHuf8N4wk5Oqyn2WeIlkDOkamiCfxlMAAY+C1VECdJM3X07\n",
       "KOQTLa32RGiLOPy+fCo/NI35vDmH92nH2E2aZeOJJFcl5yDoHqM01UC33gG0K08/TuJAEEnpoEmw\n",
       "IKIPpfIna0M+InK04B04aUtFxYgBj3zrC3kPpH8sqkRXSlqCNUYfbZNYaNMrF3Gzo4IRid1zsPR+\n",
       "urJ590LUMpGOrCQUTSKv4DAbJsis6AzHUT54kr9OrQlNHPMlZ0R8A8B6ReXeYI6gJRj3GaaPm47j\n",
       "AS+gM4EGdjqqjSuby99wGydEZj4B2UacXWwq3pHrKp/WLE4bjZ1KTbQvQQRgqDrU/0/HqF4I0I7X\n",
       "ABSMz/0hZZF2fIihY6BZ3cKEQCJvoGW/BYrIDkttGXwr91fXQyeP+vRoSlOhB91oIyaCJt+roCU7\n",
       "YAT/Lg4NxMP04LHdQ6wgzRIcee6UbdY78Un2RT77GMGQJRLfC+jobrysZdsl/3/im/PvNM6jn96u\n",
       "rp+ehsucFkAK/bGgy2J7oYAowix9A/7SZQRSHnkV4x+l2mXP31U4CwLcGD0naLpnZPF9K73sEWDP\n",
       "mBQK/oyalOIeFN85wZXCVz+csLm+xwsd3TbAiJ93el0RPElBaU+e4WOdg8t96JsN/hiVeQbf+kC1\n",
       "/b5xNkpJmfF7Ai94SzBi71pUg6Tw4lXUFq697QscpLh82oxMR4i5CXdFlLB8pYLX2htbTbrCG8Vi\n",
       "kq7922KxiIRMX53Fv6IEQavrxYca3TfSfL3CotlEyVZRgZKuKiS98aAJiR9ayuiSVe86BdPZfxNB\n",
       "zCIeUvtzUhkptH23++iuhK0XW2GKQhR/wgvVHRPJUfvfmB02divU+W6VhYh9gNKzIiVIESStsblf\n",
       "WWDBplLbEoyEzKHMFzOQYU6x5/TomG5Ak7tPWARJARqOIHnzONQIFKjN2KHeVS7pMAenCqsjyGAM\n",
       "G2DPkiv81rSAFlUBK7el7al863TkUT4ItfNBwsYb+lWv4u4+IBap2+i0N6TBbCRIPbj5w8FX1uXy\n",
       "Fmhb/vwiRoTeV5pARwg5nBi9Sefv+jJgR0vyOsvr+eiHQDPmCbLqZH3M2aJIkxZ2SyjsUr5PFCd0\n",
       "ZTOv5XiG5nS5pPbKNz67y5TZMY1scFJbC/UErHWymEHRdrLlug0A8t0HnNMw1hbiusfKKxjrGFts\n",
       "7bxX+C5bCBOLpptPvieVp+NVIBP9drbGt8+OdYAMTa6wKbSat1lQ6cWqd7UsC99D5t7qyb275edn\n",
       "2IxCjX/bxgON2piev9wIX7LgsPcxcwSMWk4JhBQ3xLw8yJMhhhSJgpy1Q75MXalOD68Oy14RVkvx\n",
       "Mkv5L4yN3AVlRF3Vn0pZNc2Ft/jlo5P/9oucCnngmd7Duo7tJ/VwfAHeuj7Ot7fv80eBjeHPV9iA\n",
       "m4IX5FiVj3+dCxuTo3MPq6iu1QsNjUuZW8SS+jSbUpEf+PeDk46Fr6hWR8KKlC7YD4knEmyfmlXK\n",
       "uskRU+N255eySP6f/lL7VB/O24hpXebkkxZom/dNid/0Qnbdi00unUA7m6fcNQ2bqWxGStN0SIAO\n",
       "ZA9aROK6umoErT5rT3AT6IgmegAm0DJddtBDZ+LXKRScJYff2pY580NbbMZEMGCPhV2lRVRS/GHp\n",
       "I9ipxYu+bUKpZNCucl8N28y5EoXfPhVnolOq2X9WFFMqJ8R813DJejaYpPjgfjdep5Vz+N7IjDFL\n",
       "OxcvZwCv+6RrNCGrJaUd3vRLXNaojl5b5Gbp953ESfPbCSfutBbRV8Q3XNcm/Y1K+fVusz50mDgA\n",
       "rTV9V/uXY5Rl77fGIPN7cCrteknSrbfZWeFr8hc+2DJGMCiDWDlmU1g9gxQHET14VZ4dqRsZCu20\n",
       "Pj+5tO4fk/0hUWz8ns9/cZws+J8a2oXj1+v//63FiuiiwE5K1SBS72VlUC9TSFPf1lknDO29HBER\n",
       "HBxWc+q3TLwPO7kogFbBAAAJn0GbjknhDyZTAhv//qeEACCctRz0KQA4yAwCg6xWTtcpdTjPJA2+\n",
       "R06y8yZ5tkbRPdvRwD1lGvf6z98g1TZgnEbDwwgMQfy41krwCu29a3DUyOAY728c13XrLmGhbaSX\n",
       "v3s3/tR2wrmIlugPg30ZVdNDy5khSqqeHHSX1O/mbIKv29odRif0RfAc6vtmukJs8WYzzhBzHQeo\n",
       "ltMil/b84Cgt537eiHHJWPoYZBrlfe+WRII+M9d+j6vgcA3+VQvDVxAEvl/BrT4FN7v3N4D5Fru3\n",
       "TGinVcUFFjlUon4y8pkNiMiYIq4wGh3vsuAnosJPhp5LnNBHvY/q1kWrQWkw2O7uit8EIzQKCUUv\n",
       "fzw4tUXfu0Pwdke3BtyqvtKQ7td5UYS93fHWKWhoCZ/xGqZwC1SzohOQpwiG8XPkEsPoaCMo7s88\n",
       "u+c0U9xDaBevWhwJyyRpGdMCPM38xZbcWst3Yp+J4gz688zSHB13JLdPkQWChccvOI7jRzN+QtyG\n",
       "3Xtira7fzFyMP9TaxVVDUdvd9wYhrM2Iw8y/zWRQK520KIGjJ3L0mCzlUNzQHo4FngqlJRnd3LdV\n",
       "U4CmStCiKVk/kQ9tPMm1CaWiqTC5odeTk3RCxyX0rml2txExkdhhjKdeQAiWpEm1V9riIboMtzoe\n",
       "sRxKwzueQ4SaXBhOn1Y1bt83qPuA2hgyCIBa89jq9d/Co76GFWMY3mKG/bjo7T0emMBxJcI1KAVE\n",
       "TTLQXqZWFPASXA9+icP4+d+V0IU8SawP2IX0ZWgK23KLNKTUC416lwWfrlahJXvxstJYvFPkZ/bJ\n",
       "p50vcPvu8SeZkrL6N3v0ntNPcj2HpVgD0qbVuaytsKrYdtJ3SFpswMob+bVTrTtb4S/8NTZOaamO\n",
       "A4Jf1j9AC74lapzb0DMsB5vh68FV6hyICsx1H3ChHqEbqOeBym+CazCIGNkrZe7KkzmDR29xifNY\n",
       "MDY0p/fU9lwz3U7XTNAkkCewonaL60i19ltbW+RmT1ZMlJMubPPvJj3AmXyGYHdx/BtWLznuOQOk\n",
       "QTNffNdFekxIPIwx1NwKiof1RSB9dxT+OIOb0FhT+Mepqh0oJxvnHjSDG4RoivP5VY02LSpvnSdI\n",
       "Dkuaeicco3oPYjfJNl4tGRGBBKnEQlw/GhiWRBhve85J2io1L2s387z8AzVmQMvmmZg40LIbVbak\n",
       "dpRs3QwMuut44pZcPkH3Drx0Hl69UW5wdFoJFck/s835Xf0F/4VFRR8gg75ayKd93F1n9uj9KmMt\n",
       "9+1DXxUh6Tr2y+HWrBc5BIyR299QkRMqJRWZtv93p65w8jyuqp/X9zHtIbp/CBWjIwngBV10JUeK\n",
       "9t2d9spuPBQn1U0YjC2qe80YH/g2HhOw1mRbUAvyq6uhK9Nt8amnMR7bXUQD4LB3KmVVErdyEhG1\n",
       "oYyCrimzXH6m2XCqSaiOU6aJmfvtZeW0F4l0F/ynOl8/u1qKrzuU/qhNX+sIkUTCuQaW9BjIPPVt\n",
       "9gYtj5ZvXhZv9s4T0Lq+bxx/eQzj8FXonu1WIXjbXQtOO51rmYHoe/HFEh3Yoy4Cu8/mbEiAtuTg\n",
       "30vwr/fAC58NhT3FK3mNq+3j2a6HmUqw2G0+PRnmdaBfygE5Q142nmWRNtJU34AabsbfN4tM0Mft\n",
       "2OFwYkH3uRsiAq4yRkwVl/DsRIsUnEj1XvUy4HVPCWVnsPnSU3ft7suEE/HoLdmPaYKEzBAfBi65\n",
       "CRxRKWWBIZZsPSFNnkxdk8lnlPHb5f6XkmI7JG0wMtICjpU6P84MCoda7tQT+WVh9ApnnQC+jgZc\n",
       "g71+/hVjLnyEDc4jemxKpDbP93WndoxpIFXBZJPv1FPwVFmASI5e+GW1g/+C/vdPaJQVOyAIyuZZ\n",
       "lBs9bMY2ltx9DjuDJrs4B6fqI5zx7FO2xMO1G5MZ1CpKSVObvOk/Az10wxsNAt/+74kQjP6zUp/4\n",
       "ZcX503+afhwtUR2hz66ZzfjSdG7MWyNVlXyvo4oGvW/52ML6mfcYsTz33qTKprReLRK0y2dxbCu/\n",
       "29sBegDZY8DYnUfDJSoIJ6hJ3R+QCq9ejFNJEA4NbxFU2Ldxcfr0WOrCYwf6/FQVikPopOJmh6M6\n",
       "r2Sgn36WYIQit2FWNOpfQdWIWwtghtr4AP5jCtzwnw2MP4Cnw2czwrzvS2og0lV4SKBwyFtZMLlh\n",
       "jF/IdommfqjQ0ms3Tj+4Y1Btw5axkpmzUq+IoQgmK4vRjfA5dGvlSHoQYAN3jcKHuMZdUSH51/4B\n",
       "gRBeiomlWyG+CJrTvHjX7kAtbFNBuSJaeLOwLR1SGR2ld+oTH5p4KKMSdDvPLoJqNlx61qBvt4Im\n",
       "cfkD3VhSmn6IP/GpFBSxBwSuFDZKp13obn6TeJRAVP41eAQMAIB1E90cBJCslOHoH4/inh9PPGt3\n",
       "JGeITSbfJvFkYJubkfgO5zQb+lQv0HiN8in2uBm6Zvdzew3ourds7y9wwNg0uGL9Jakgfx0DSIVt\n",
       "uqVx6jerKU7WFMWsrOMi6F5Q+MnWHl5uRyoXgfSw/78bYmCGiMME7EYka68ecO58e0p2jAvgMfuO\n",
       "LKYtg1YBLmNZCzS6FyDSmVVAMsFQczKs1BFCJj+OzOxdg2AtLzVnuw7Dke3mJsHGIq0CB/m/GS4o\n",
       "NlexxBN10POPTWULHVR2LfsIGhmkb3mMKVWAhjP1nAABqvRodvav5wP6GpyRWs16xGFKAHMAltlB\n",
       "qTRgWCigfvipRv3oY1cJtDnGKOWyAad4hkbGJFSTjheCBOnt/fQDX9xPNhIFNrusyfmv5O1CDZhP\n",
       "pc6GaNmFg8ZYet9Z/P/pSIPHDS+AzgrJwntKklTROYzatGITBeRrplilfCEG+yHaY1j6iFlENKPg\n",
       "5fk+Rh9j3rMv1n25J6hMrGfhffZvrQHIHxyDQMLGFVbST6HyuXw8sxirYvhiZUQeIPweR6vIXovB\n",
       "uuzJHjvTcFYNmpWgopVRDQM9D5QlBDkcLje+vVHJuM56V+ic6cy1ZY/ZyI2UYPnnlTstGqd+tKDv\n",
       "3yCJCXa4oi6YAQ0CJdwYvSHMT1q4bL1mX3DCBKMgipThZjXCOmhozeWSuDAeir/Z69eh7Z/4AyuU\n",
       "MfAvmA530ecfQrQQAvxpJ75paY4EO3f/sASl43KmMkmOI/8GDT/eJHMBOWgsIy44ORo1gZ9GmPcI\n",
       "/y1Rz6UAJ8+7MaREv7ijxnWpImfvzEKO4eT9DzkapUwqfWR44rs8MY6UqcN5ljjdnE05vCLJUfqf\n",
       "Kptg6rHd8UDLbylKRnFrdsBIRZHko8kronz8bQwPSQAACmlBm69J4Q8mUwIb//6nhABDvkbBezWx\n",
       "UMALbdArbdlVUssN8gz4Q5auzps2m2AoIs7PQx0RUSds0Enf4i49zQY2DXAK28UmMgXQI/Kh7naE\n",
       "mH2cvZsEQx7gawFouj2AH69UM+XpTPuiNrxCqtQTqbFtL4pQo9OiSXdpp4qXl/lQ8Kn8FRdYpxvp\n",
       "9J3ErKtZ4CUABr7GEZLPAEzdS1Zx7yP5ilTJ6l09evnbVfc7R9xFHD1SXWtqVwQQK2tHi1cVaj2y\n",
       "FbrMK1azDQM1pbL5b+hGWC0llUWSC3nk7M6Zcpy8IkuuNJtNGxPS7cE36rroF22s1E76ifa3Zl7Z\n",
       "r5WDkujErUDk5fjr7FY8tfkkKgRoGrX9ajvr2dopqHt4qr/5cGT0JJJtIqZMX4aOaZ25fjMFExMe\n",
       "gsfOavoS5DP0m92OcElpRH7qrEyvLy2Ucil5wr731Aik7+IAWZsKJ14bmhtKJfSLR0DUGz7xLOKo\n",
       "n+cWUVIrWVoc7rCH7Zh97sIFwcVRV5evgi73hMVe+tX8iVCCRooBg0ArhVNR8uPJfS6YnPHFAR+w\n",
       "nabREOPKfbnElyune50BWSjtxhV381yMquETzmcYwQqErpbEiDtW2yTER949ZJQcLJztvo4W9En7\n",
       "eWfQABo/H3JHAOhkKTYF63kOcAxk4oTiFFHvXpd6qKJzLHzRw3ZjBZjKLl/FdNjz+2oEPO/gEXBc\n",
       "rj4eRfrVSbcTY0EzUuTdXUicqJkuXkIQvRGy08PrWAplcvLfurG4YpOxbOQpFBK5XuS3ygLao3G3\n",
       "ySkUDW8dOk0SU3UQSSaNU9syoUzTbNlBIEmZI43ddAubPe8dvAVfRUZ/FhXwQErVyOSmV799vJd+\n",
       "lYPBUxI5svh+6vGGkLdKaDqyjfgLCD/fb7NsZhguJD+/u6kXDH3vCUkXm+0GV8EDnXBb8En55uhW\n",
       "lr6pjSqgeSY3uLCldqqFUbKmtj/9d7QPRvsMrQIu/QAHj+n7VUKXCVid1GchBLO8QDousKjkK4EL\n",
       "eG24HQ+25en/JkAFQWrV1FSLJdSdlD3I2gASzUe+ZaFpvljtUkbx0jTYewrrvyMRGFSo7RcbotPM\n",
       "jrx30XHCpjHgUXMRaPmVWIhkx1/8YeYJGwEulzrrNn872I8BZETb4d9rJetVkIFwZRlwcPLGlEqz\n",
       "RlMnru6kfnrz4nrLE49WxVfMHg74J5KuIk1H4aHTF+obeGTCF+l2XK1qubvI/eSnXzbbZPGVg7AB\n",
       "/zSkpFb+oiNCO0pTYVXeAWtxVUkDfia0e7x4fqo3HsaC6GxLcbZMyrTrHKqwJ5XdnVohAjBQeLHu\n",
       "ZR1qhuk4g45VUK7c+aDIgHUMJuHAA8aC0SOwc7HYEADi4rWNr27ZUVS52LLlekfftj4q3v1k7zzO\n",
       "x3+eslOnljHmuRHGN6rIhShdOcu9fq1xhzMtG289H//sY6FyfdZ+LB251NgtMBwiOyMdwSdSpmHU\n",
       "NpNopDOqdI+wd+mGYES93FKz9m1UrJgNeJ16RtVvaQUCLgXiX2Sf8ex1I7oOryYi9ABPYQOHB8Ef\n",
       "bxVnbADy9sF93N/Bc4FnZVSo2S8vLeuz5LCqMGWLE5qsUMXhfUATP699N9kIXrDC3xRktVMgMCHK\n",
       "JNOkHoyp5/IyqmqLAuEaYzE452Szj/swj+o5IFkYa13zFh8rnIqKKerKjLLlNt1YAYdROMfnv1cP\n",
       "aaoeo8p59enSMzSW/gx/EIEs69mVlLh1ojdGPRGfg0rj6em+sxMUHxj5JXLfRZ7T0dqetK3yh0kH\n",
       "o7NJ64miMqfVw2Pb/9+ie3HxroAyz+lhHZD/jGXSZGjJCfAoPfI+eP2s9BwD41feA3Oxrd8LdAo6\n",
       "0GhSd/rNrM9R/cG5efPKiFRcxs1bk/aRM1JPoQk5b8DNkbeCwoE755WjEERevkSDAZqjgjkpO+1w\n",
       "xp/wdrTmFnsRqZgd0xtK6w1WkJjH/GjxyTWwwViB4rvtEo5HzeU8JRBTmuLUfWnJZOjYrYq0frL2\n",
       "TP3LhWLmq7bFuxlD9VWafPnC5FRgfMJ/pk3E7Ap2zkKZDUP54GGpvEtfb11dnVCTSkUFVyGXiLWF\n",
       "2H1Gq//+a5eMiftW7Y5IWSYgCvErrKdqTBqNkl9NXCDu9MpDqpjTA3wl7ZxwHg4dMTpFBj6V0FyE\n",
       "2zn7ERDHLlYsvA+EfSbsKBiFBw68ZVR+a3XVzkJXy5FTZ3Lq0E3RUyBufENDejoppDkqyDiTi4r0\n",
       "Z4px4IRV73QC/lACYQDt6yn3wBXerjqCZ9pD57L33BrkhOP97vwbHZxF3oMWCPkrjZyVErRLnpwQ\n",
       "a3TX/Pe7NqerXMa67F9ywxC0k94UI8xhMu6VyQ71AXti0widZZRA4fbISmLeTxJj1SOaHDhRNZyx\n",
       "liPQ+85jvHrocXL5vtS2Gl0vH1Ukl5MkO1oDa2V6LmICUYX0FLy6rL1LOK0R0LzG5bSzTvh8ZiNL\n",
       "T6mc/U/wnJS5Cza8aNmiHZnPAdGS4tt02vL0YdYThianVdVGByp5vRF5qgT2DHPd7/fCECUx9NKi\n",
       "+1p/sj8HCbOrkO3V20TuVowEgVqdAcuzpRWRRvM7W1euiUwvyjgBU9K3mP2igmkIDpsQQ1/P4KiI\n",
       "h+zYzmdOKA/Iia7ucWo5mGrpAGkUjN03FTiD4mdy3+iVtRIdGWfifR0C9IHTQyg6zAjP5q3vBp0B\n",
       "SC60rsOlam/KEXZwxp/iA7k6oqHF2zq4P8I//f8ILtVY30LQwB7P7ujcpnawEaH6eT2fV0YK23DD\n",
       "jgI1LtBAiVZfYl7EAS/wI6UjPN9tCLgga1w0DnHd1KcwqdgU0MMNeN4yRyx6kpIzOcobdBacYXlw\n",
       "aNgH5mq8L6qk/r0c7mvApe+kaGnzvYGyilAmnz5epUN0+xCA6b0sON/ZxtN8/LCSircG2sAW0o2s\n",
       "LhpR2+uyqublrLdQCrXhX//Zd84qfsyVL51IJH2m8MdGSzEBGUPp7acIK/htCdhLh6HYbj7tR303\n",
       "YMhV7Ds85gWytrQwDxnWzz96a7KpJi74dxPO7tMb0BJmXULzF29UtFS9UnM2Ybxx/LJl66YcS9C8\n",
       "xWUKlHB1xNAW66a1fLQAEgp9f+oGBa7m2VMs2Ja1qoVKsSL+tb0Kuz5o2wHZenM+1jqExv5EWDWj\n",
       "sM/j1CC5eV3GbOu06GEDkNd27YsfKyLfUEWl9Bu1t/2eLZcBdpMSv4VCkWlby/dkfkXzFzk+muik\n",
       "2Ize8HyRQxsW05+ZtkupVGgRDNV1OSyK2XHtNK9o8TbRQVFcVJYLByOd9peJbRRBxjXbjoDsjNVp\n",
       "/T/XDxj5ZQogDbwWGl0RPHTveFnZIMRlmUYUZZnxQkyWuOHe/v0gsOsM5u2CEvaR9LXzPsabgY7h\n",
       "5wwSkm6S3sKAEvQR9GvQQSUWTb2ZLgqRQ2c3+GW3YVC+Jsc2TV7Lw0tCck964y72jB+vHQst2XmE\n",
       "jOyC+5iBRZcvID3+DuZcTG0V8hifKIfdTQQtd4J0PPXOEdF/9+O2XrpfEJ+keH9yp7HY8n1ifmH2\n",
       "ZkX9ufsLuHiMqGyHZQ2y9j1WMA45AAAMUUGb0EnhDyZTAhv//qeEADucJ5pD1B3w/7vh+apjN1eA\n",
       "CaJX+uAzGhdYIik78Bzy96iXtiVkHLLiSo86OE19aFQVEI3xao/89vGqFGBgVYF1awRpsT1FZ+iO\n",
       "uO4b2xZCihqeC53DAVIUcZIpp364/P2NwkOtRCXSfAPJ0y1JDAJ0HVc0EhFgObYkfkOl5GIuqH1m\n",
       "J1S4Udmz8NYflOZHtq6gsGQA3nneC+tGEMldN6e4MKcn8wXKtPDOcFbA/TJ/b4vrtUFrUJ/XSPKr\n",
       "MqbmowjEW7dBSJgou1mq1AnBinCA9j9dDTFOZ6std2qF9QFn1lgpNy5MB/EBeP/kjb0wu5Nyfgj6\n",
       "iFlgnDgU7ixKWRgRUQ78BaVcOOFdn+DLT7kmFAc92mSE6uCzlC1i/knKSPjuQauIDDcn5eVuQ5tR\n",
       "FFiKbNN/0aLRMXiLA/m6treZmyxtuBrjtmN1MLo89+qrTSUdfzcleYlk1HMPOn1XjmFiqeEDYNJ+\n",
       "SvHHmTZlFAT04inaHjKzy/X/Vpx2ojIC5B/L0lRQhEWAYVCEo76w9hcZbUfwg2eEtxooywn6oTzz\n",
       "gK7ApuqXnF3aNpSHZt3gDAbLe/X931e0UmSb6qfmNQPMzhyKBnO0W2DVx+my3Mfi/KCBMOXSmcxi\n",
       "sZkHH20Fgt/etT6F8lbUHsHYWHrEex67CxCtdz8/g0KiBveaii0jzFkcqrK0p/f/XynbN0QvEgyK\n",
       "gZtNVgwvS8hYVXuQgOVSD1ALh7QUNU5c/USofqwR6jld0l2vieGwMH7EH4nWy5EF2Bcs4ksEe4Bx\n",
       "eggsDKC/aD43tQNFkjI8E373gdUiXK3TqriAx5adbvUEXNlgT//sFK6LU3NH3/Z5w6UraMaJQZSI\n",
       "fqHtwUJgvPGoLeAAD1H8o5TMcjRstvoq4bSQooKbXR0Ybs7uTma261kLNZ0tJFV/Uhn4S2vOIs9v\n",
       "a7sYKvAc4PyJiZpGlpTQuzBgJmDYnaotUc+m83A37mYR8hxbfinOkT4g7FTsxEB/g1qoXswRPGnQ\n",
       "61fvmiJ4lHMhMZVlg+aTYhd7Tk+1zaAbnmGnJV+oobv0ijFhycRj3xUlNDHSdu/me2N1dpoY58OD\n",
       "XZpP/h7f4Zqqb03MeAbrw48wEohfpjXof7kuzKg529X0pvRoPhAIxvMvyRIZu37Khj5YY/d/kGY+\n",
       "S3umoZtV8nr1QH8/NBlRIZDDWJwYzb3BbogHzOMRG6jeo/H/mC2s79xbfGbB0b51Am5DxZSzh3nr\n",
       "sM5vizVCTu1gXPV/bUL5VlkyPDEAJgnVdMJhSKWNRQ46zDmFkK4oZojF+tmp5vD3rqNjAwx8hPp4\n",
       "gF6I1wy7EVV4VI1UgpbhIIb7glxTTfPnEUFcpLOuD8AGdG9d586dwbwiJSO2xUIMhKbRn3MUiTmu\n",
       "GufPrF4u2fki2++/7P3murquPyxSI5/ErCta4RtNC2kRQ4pNb7pdCNlSE6X0KLrCo7ZnGqJqTyVT\n",
       "0a+qu6KhRMISl2akxFNTCVuQAKdu/juO+r4Y5aQC6vCILwA1MRXkHzju6umt//5zgicS9esKQtKQ\n",
       "Rgtlm65iGcSInBlniPWA0u4X0U/4nt5tpJxrsgSB3alZfqT8ykieyYOBqy1iYjaw0Yo7XIZWUlXn\n",
       "GIl4g6iQG4els+6kZwMjiB7z+8TwP2yqeNPv7XQ4+YuJCGmt9CRv6bGHgECwqcjCwuwmDKXbJb6v\n",
       "JwCJpG1vg7Tfjgjzx2+ScW9LWEHA7x3n9vQzp2gOsv9jdvA6DX2w9STSyvG2N5BKvoedsNAT0NCN\n",
       "gjrZBeGYirlvzuyCI5EYV5iuIbVku8wUzx0eVvyCw926zweYz50+jslY2kQRKODlKDtWk8Kxgbtd\n",
       "g3Ant7jDwa4YhF+/11Ll1MzxbusxAdHHy8tsK5v8Awb2wWGOBVGLLMiSyf5C8Qq5Qp3eo6IUUxxD\n",
       "PHCI59eDC3TsY3VjgXR7YbhIWbWVdn2meiD+5oUEuVuC426LCIscS4Wlc5vddQTS9Hm0WaGsJDua\n",
       "roW+RwtBJEfln4OjDwlZ3ZSkXj/RglaYkvJKCbow5cUv5JVrn8YBasUDDKDCkNVrdICNNybwRW5w\n",
       "VvStmUZ/YA98do0TkbBXpSWHRur0gpAJ7BIGyWfIgst/9UteKiCJvbTEtZ3D7L1F8GgT1DQEgcWu\n",
       "+eP0RDp9Xm0TTf8poOwMNGwab0eP5FzcURp8/Dm7ti0LwXU0gP+NLFux7OTrgFvi0P+ITbYSWkao\n",
       "oi/x1dlbKjBAg/M27GT6j+4fF5oi8VZy323KZoiRi2duX6t+8YNpllXoRihnx+p0e+Gu+vX7XitG\n",
       "MFct3Iju2gyToBhUflChw1cTwXCJ7od1DbVlBYdak6vFnwb4NFqrtgfEfO9vX24R1KuYoAxC+DOT\n",
       "JnnohqLh3A7OkjdrdnKGfx3TfAosr85v3vGZKztubzC46K2opr+ULwpQ//Mm+NIHVx8jZENWw5lt\n",
       "nrHQ1YLniOxHAahc+234CIOteNxXNi+cxuokHctwmo5wn/uUqX9o+6VGvH7z+HIqyUmC6TQuKtwX\n",
       "hSbdR9XkG4as86b8vCRw5iNCPLFt65JS7hN6/auSb9xzJO94u7ED7QBc4tFRyU/cpjzBVmB9hhMS\n",
       "//6FkDzLnLfF1nb92+X0I2CeYEByS9Qp00rlORZFTfNdcl7Ty5sc//7Ia4agtng/wXh+nYykET7z\n",
       "KUhR8a41qH4E+cm2FiDI8v4Lj/kGFO8G6r7yvVMk5QEsgbydIX2YrmJpCGZQjcBIx9TVXplNEUxI\n",
       "LXXAFwYhDEnHlYZkUjoDGSzv2igWvFbcZG/zGHnzYQK9H9G7c0kYnupYuN0wo/x0aney5KAE2Ed8\n",
       "yVPIYpzIJZ//L4ozhwWH94ewE5+RlvDYbaT7+y2EZuA65N7IFuA7SG758XcbYfifY2Ge2kZMwHaq\n",
       "sFWujCNBxJXkYCBIJIG/hPjdC1mzQpCcilF04Hnm64oMpys9XyuzgOfhVlVF3M//fI3fG1EO+Vex\n",
       "7x0s0TzuSC/YZcrXcWxYSLuspUtPVkkuPaN9Fjh/Dn7IgNhMTDHRKLKaWd63uS5gOnCItsZbWoxc\n",
       "ljUqkp88+euLWqL6DdxNj5XqdFrbAwSAj7j4RKeQRqMmppF6Sf2v+EC3/90caZ8qPfuH4kuMADoZ\n",
       "zX7gShIw98w0EcQP04HzC8NuBh5oYG2lMdO77+u0GHxmEVqgNMTkiFBCizhQJq7Hg6VQb/+sNO8Y\n",
       "Dk1qelCK+3blFUpLACAouTh+MSYLg2W4W5Faw6r9153p2Nma7mVup9j3H5XT7u7c+6pQQ5OCNj1f\n",
       "ZDKGEDagEJG2rQ5yy61i2yyyfNWr0VQ314bmgIj5sSoGGGVVgmd8q8Kef38VsqxVeX9rLTeHGC04\n",
       "PjyiKlwahhSk2851+0wm6TMvX+alOgdSMRiGBVbaJF6l4Sy+VnxyS29ZDzfBRcCdjJvuVw5bH8t7\n",
       "8Ad48s3gH/5MefwRKCYcCyM3BG5oq0NDhIORjWtFRyl4fuHug5sBzWbZkGUzBv0Om9vGmP7lvlFK\n",
       "UUAm9ga+igdFxPcdjwb0vYQ8vUmNL9EvwIgIEmwTX0JdAEA8AnGdtMc8i4yFZ61L2BKxvYaC9aLk\n",
       "Gaqek7SDE4zAkxT2O/wHJm53on+FEfDdl/UsIjg8AfEARccIUgjvJ19t3wDOSMo2lMEd/PZGC1Vh\n",
       "bih5xWvJzKaXPO44K3Pe9mWWm4jeoHKujPfF9xu6L3aV8Ad0udyS0AoxlZo/lvDz/4UMu0WYQkYd\n",
       "oxu+ooS6f24S8xT5j1cqAwMI5/YqPHVzySOb72YfIcsK6rXRysAhrU3xA8ZFySkFicqEzwVo1i3w\n",
       "wIYQcL2Lkl5rvs+HLiLUSYe3xia6rj4bn8Is+l4Y3zbwe5OX8cOQ7kXd8LP1uON4BXkhgm2ENN2W\n",
       "9/x0Qt2WY0+FF/zFmhcsaRJkydbQNxo5cr7tQuo/NZrUaxOBnK9MtEUcYqvpaZ/qHmbiasW8oNoM\n",
       "pcfDX0KpeVYNMMkRF8YguTErrDdc9rJdgz2Hz1ZMGs+UJuLOIrhLbXmICXioISqaYYqhvT89ZLGk\n",
       "4pVgUxzqfzJB73vD6q5bqTajDIp+fTkJeZ3AxPaRNpF0tjnuvMnCCKjQIC/vv4dMENeA5UOfbyrt\n",
       "rKVN3M3igvQGr9pJVwJqvokVTRbBq0ywJMT+KuhaOKeBBuoyQUBkWTxC2gAADH1Bm/FJ4Q8mUwIb\n",
       "//6nhAA0/CZ1Wh/3SbeA/cIOdUMHpqGCSYKX9G/XKTqOTZTwxzuSXd7KCAqDLc6f4/2z5lxTbJLF\n",
       "WwnlFyhxzs5V+aTtNItsdvyKjMjEx0jjmMar3Y5Bq2b+zBBlhF7GjFuKfIhoA+GRhr3q7hkro8la\n",
       "iIa0Tno79ECCD3zGsmlGgfyk1J5Mu5SkECrOMkvkoqgh3ZhZsstVyJGJG/qCGTqWchHiHrv54LEX\n",
       "dvUTIAxfJbwz5f97jBfJ9BCn5UN5LUqFT2XDSfEvqEjvhzT62FHvyoxo16imZLA+mVBVhYsp638A\n",
       "MbZnQZEk8uJao+WbElArullHSxjWyENwIvB1BR0BA91CAu12NLclC66fJqoEBBvdZ/tqoc/Yk6OP\n",
       "7xhalADv7OP+wVuSJ1snSifidZb2iwLkzPSrNZSA0j1yYLQ0IpCB2vTJXrfGZmsHfGCyVS+2Iogn\n",
       "csRbUYUAeuZEavJH96gdD/X3OY17IOwQaO5NxPEPagvFbmOfAf98wOXIBDvYTLhSBiN6BlWRHPnU\n",
       "GUTHXBpnNKrsg+Cff40zX0x241rt9lYmrmxMUDzxNDU/mzRLKW5RumjC1eMPk2UV396+hF8yMsgA\n",
       "p63ms33inGZ7BbKQJcMxNDwkTOU41Hoa6aGoAWnzUTyQ6jfi6IyaWtxR6SYTrGHDfFik+liY00Wz\n",
       "i90RZg+TeSSDLwIxHVLHSM1pl5QOOkYaHVbu9LRavAtcsJRF7nzHHD9IRxhyVRM3GHSfhh1y/AYE\n",
       "yLRhoMDJeJrzCS56k3YKiU/8ijKpSnv2LHVOXWZsYtgCxZEjqkhT+APvAKYg6VI+AsZfnXqGLUKa\n",
       "Vpx1tEV9PpdTIc7RTRQOTFDFVYaF+XX8DVYm5yo1KSzTfJ8oa+sBkrXM48LuuMZ5vr/D5giTFRn6\n",
       "Aga3aWmSgPgxRqrKRAE/6L9HPRKAltNqo+ewsaHAQdyNfN0UDZmYncbBZHD1yRiFMyPKVfJHrXN7\n",
       "mYNN9nN5Ivx61xr3e3R5llgJiSGTnKxajlHaH8aToF9bteAY11Bvtyz74UbHMtopN+XLNqOTIau6\n",
       "Ruy1ROh2aJ9MDVhZC2PJbCM2t1bZmNvein7BIBvSjimH7N0gacSy/5czx5CU+uchv23elJj5RoCh\n",
       "qavUFUx/fitHe6QFaxlJpXCDYfkwI/DAfebkRticsRgeRsJM4Ru0/XPexm6ZzRBR/CvzI8orH0MQ\n",
       "1xYQoMVqo1/lyLiRYMmMr2GFUTioZ25+5/o9uL+XiNQO9T1ofX1mImvcD3NzJ6JtJkYKu5Lx+QLs\n",
       "PnWg8zWbVtEv3avKBc6/euNMnY6KRMsON13qRy6yMQB9jUoHXh4Vr8bPnhZ8o3PWTyxKhwuyHBXF\n",
       "N89grqLgjhirkvf6jSiZ/+rFyT8AMLzxEEtidrHaIlC3+eHKWIX1E3aOo60Tpx91zWusflez+/Ja\n",
       "xBoTBHpxKbm17bA0OMwUTdh3BtND+MnBQEZP3rq4Ha/85i3Goes3VweIyKxV91DyydauC7YJym4A\n",
       "HDDQOocmiSKQ818ooIn9ItyVBbuekIJzwwceoRui7pRys26hGkVv8vn0z8FFvCi0OsQ4cFCdnsnu\n",
       "op357jsuIb6nk7HoRk9Ab6gDD6ChmC3WycMro8Mg0f+wYm+l51mRWBRUqv14ANui/z1rZK9jawMJ\n",
       "6i/ukajx1wH6BKr0hbHjBQsy9rz2VkkzSZlvM/39lW6OOunzlsXRnx1CYFW/2Vd5D8a/lWm5ft7o\n",
       "0HAl9MoE6EY3P1zR2bqtS43SH0bvnub1fJH4IKOSpqYukCWmPV4msMG9RxIFu7OWAOKmfznzuQcr\n",
       "WlJ8P/feC1/lVrgGS87Y+N4WwIi2a/IGOhxqUj7g0GoXxPofvt8ZCWLcoRkr1NiQREIlHxAcoOlp\n",
       "G3UTUqKS7sNBds3/Y3xt7i7ql0QRe44RoSpO3nDtVTqXS61F7z/qb0A1a2fjierKBu58d3fRhRGn\n",
       "iMT+oC+V7ZMEPLv5tQh2nlX+7s5DiqXEvOyNOvO6+fp6cTc2XrxV5CEmLospksyxNn3+HX2ghuN4\n",
       "FEzmb/nA/gD0WfQhx2OFyvjsGPcPJPNQQQDDApe446xpUEPWFl8WfaiAOKKFoGbnY+gCzKKvh7H2\n",
       "pOVipBlIDZ/9nvgz09VQDnVRwtv0YPzAlqEsBLCOEDxLncCPK16QO5XPwy/rEX/IZMpO1bhKOuAy\n",
       "n1qTDafXKA4HIB///v+yNO7tCOa5NNUIQba+nCoebP+SIF2T8mhjEbSMnzKHMvc8bW10MfD1HPYw\n",
       "4rqshcR+csNsWlKRkFXLoDRlNcwK8xwnBEMKrNMlr0R9uV4hl6yAxlkqfAmLy2MB0wMmfWKNkQBn\n",
       "pe5YqDKb+iBs13RCE7J3ZlKWQT3PgOVwyBVJokv7Pnl3GiM9v9YCn0GGlkvRY/KAhFiWyPKimb7u\n",
       "m0fwaIUC6pLUxae8IBIjJjEjI7DrkAKbMm50QkBJ4bT/fKNFem8yOxfqneDL8DD+d4f/BQ+tl0OM\n",
       "9R0sXMMSlqQf5JDRZF/21DhclfH15cHXxcDgW37r5p10twmV8Hg+AQ14p9J4IdWtictp78anK/db\n",
       "rYWUvQ0huKaTYBv50vzCkMJH3TMbr4/UoxN1iez6Odl9dAgAYXFt/Ya2uy8miZClwwhCCTUJP/8k\n",
       "y9sQQ5lfeUuIqt+VK+YbsSxusb6OPjQMCgLXw+63Aist+dL9yl93z1f99VrJ06KW134FG2WPxiWH\n",
       "/+eEtHnauNJhBKYh5cCmPnMIkw/O5Hbunc72DOcWBKjDMfyz+saeFuPIX1w3xbN5AEdVStelA90y\n",
       "MzrtdeYafFj2c37/6n2K6PhAz8g720H/1Ll9p2/rWB68ASj5GRJuzirDs/lF1OhjI9ymbT4c+x2N\n",
       "BGnzW0UxsIpAh4S/30uayG9R2VpEPcdqyEF/CAJgejiT4AH5rA5dLeqv+CreQ/r2l+tXrjxyn7BR\n",
       "cICjaUL1d7PSl/0xQxYPJLe+yytQWSFqV3ZlvtMjzAsHBCi/TuE38x0b8aI/Ab4zNdnePnw5q1zf\n",
       "wVqmVyRu6euWCNhPiG6tIoiaxgXSefnmJBjPw+2FXp/DrYTk3LLmkvyeFlVXsjiWnaHDh48JgWtf\n",
       "WlcdS99IP7znseqjfTwxuI/WTKjweujKjYe73azi6RP1nG3GuVEWEkorP351Wh1oNpQKF6oOtsPF\n",
       "qal/Dbji+odAuQLZeh0DfIqERr5dE1Xw3zXYms8j5TSlNWMzdUM444QMvJQcEnDZxcO3TI5JtGPg\n",
       "N1NuId5GU5Q/fpyFaJ7WAlfuxiPtdZolKpZIIboAsdVsM4T5xsFQhK5oc6tYxLoE1Htlycr5YKjP\n",
       "UaZQiYwx6JCTmABRu8QPwi+Lu7xfILVK2nPOE52QpxtoZPl15JNhJM1wTqw3QKzpvvzGU/NG61KZ\n",
       "IrQCehPuBCdVZTtHeVmzIWDr4bvdSHLpBO1kYef0d8YHgFQL0qv+DAWDrYWPev8XRYmg6cLbER6Q\n",
       "qCsgHUWb51ZSMt02oURfIo8jEXEhJFozDnMshm0DzxtHLNPMKVyFgjlPgAcfWAmPMRnUaoV6Kv/B\n",
       "aJ/IeMf4QelXRVj8UOkAybsqNZPHC0twCqzLBREOy7lTgTumpAM2e9dT6OY9uBSJVOsc1qGAH3B9\n",
       "0IJNONOnY55IK5Qg1FnoqwQnQQHENWmdDVzGQsS4424UBnn+24FwbyTL0Y9pZ75N/gMcOKnlXh9g\n",
       "XsaLKePe3e73QU+bWlindfBL8xZiEXa9GISDcS2kYn6tSk/mdqFc5REP34GKprQhEAarYiMpYDMY\n",
       "B/AVVUgKQEwr9/zKejJdzivgNEHktfnKLF33qhMQFIpqK/y77K+pbjdZ4zU4N4bLdAz7Ag8gQLYZ\n",
       "KxeCAKKtaOowRTq1XDBwpTK0f+O1h/Uzzh7nPfNFeFNh+/nH8rLXl5Slh/iPAhSd5aEqKTbMiS+O\n",
       "TjLp7ki9GcYtbQYdr5HdOt4MvIAdwvNKLywdGX1YYGRqxIIphDTULDVmEoS7Mo/tyANMMVEd11xr\n",
       "82X0uucn1YovvNNmiSIYnAJghVBD5jXX6O93YWqrANBkpiTKNDzq5d6Sv/W6QgAb8I10CNNzvmnM\n",
       "gN/CUdggx0rJVAi5AWMhxd/Ow8f8OUe5YEaS2Bp3ZRaMEQz+BAeJgjvTPGM0OMTH31wM3tG45x4H\n",
       "1sHLz1CQ0jiisWZJdTwTZ68HLxYwDXYBooslsttW2OTrhVoSKStbg/mtXeP4iKBMLZ2BOwAADDFB\n",
       "mhJJ4Q8mUwIb//6nhAAfzeNGWkAJXcYwyF74jLUySUgGwBKC0EP8cZf+ZHrZuw94i/7Aa1E/72vr\n",
       "frAMLcLjwBU5WDDEOeLX8tT68jyvEvhkfFIyeOuu0FIz1HNPHhbW0nY+kgpdkuRoQAjDna8+v3Xs\n",
       "slgN4/ZsAt4Y5ZPRM2CjyExqw+QprSxUtHXCeJAjO4bOtpV9184tRoludFZkWia+TRcMc0jB8ZdT\n",
       "G6mnIduQ1Bh7fHEJsInV6TOF78Y64adHa8tOOOAMskq5N1BZ6hcCoi0Jh8yE/gZW/v+6PuZBHRYI\n",
       "3tzwpt+fL0QYwYzkspwTfSpNgJmQ5CwEZHCYZpOSJRc8uH8IQCx8rSGwrHKVrxMGsssnxDuu/9Sq\n",
       "JcLyAwwOxioHuUV1Jt6YcoRhicFXOzDqybmmRjq3M06k38v9Fq9sZfBys0+hFfXGeDfoaLmF6rfj\n",
       "gxcM+wb49pDe9RiuE/ycR92oG8AC/zGI/DWLN3IBu1K/6hTmEz1LMbnB8E2Um+19azbNsxn+DBz5\n",
       "m6mj4H7kX+9ps679/DrrWY1W0+r0GgXOzbrWDQxPSnecW4KxDwlsHXW0ZcQA/92S9/5SUTgds9lC\n",
       "gkihW3ZJOlEJZ7G/dMXDmj95ibtMBx7WoKEs5svJ835s9Yv4xTD1WhMv0ZkWCvBagqSh2HkQoofc\n",
       "L5xu/hbBWhbtXGWf2WtogfARFukUJdMCSz9KENwLdDzM/ZoXrHekw4I1ZtfIkcbKE6Fu+FEO3Gmg\n",
       "uKQGE74GN20qOaFSL6BqwLhYXvtKpwX4oyhT/bgSWOerC1V4Nma/lIBEBtXg6Y6jqMq1GcLpN3dP\n",
       "2JrfbjNJM85L8cy3Dl1LUaw7ZTjU6wXUO/vV8FMnZghuaGhZPFhzIcwuRE42+lr5TwhuXTLqYXta\n",
       "eUDqhMM14Jmc8vAfAoIwG3ZryA9Q5C3rEQXO8Jt0IyZ382IzlqmfmueovoMfowM6MM/tLYd5oWUw\n",
       "6aWQ/qP1S7oCXb6TgLx3yMFRI+rfwDS6EsyjuneplEfQ8NouSHXqTHaDb5Xhske97vrfLmVicnYv\n",
       "sKWUsEdlPyH980DPn28UMLWYT67qYZYMIBW4ACaQUk6XHlfhBCN0Y0cRojYl2s56kDofEavDryyo\n",
       "ODEZbvjgVo7Eny/OSr2FepDgY7NT9fn7DynbHDdexhB5lnqj024kaYah5JbN792Lqa2VW8cTt+s5\n",
       "rQVLSYnmO/2RhW2AXZoY1B33Dn55QXXqaTqOVxZbpk47q+O9pG+8VCkTa3ZdPTWpWI2yURO+OQSH\n",
       "2z5662t/FagABGxFJvLmf/yCj3kml2Eb6ENvwzXn/8zVJfmLFsDUSZThp28TTkFhGrHyWp/Ek5HY\n",
       "3aVEUEB3x+MJAYDQ0lcbQjbfw3U52W28sW7IUSoSpC9QNNAZp6OSJVra/rEjj8vtnoQtOupPCYyp\n",
       "HruchbCQnlNSjizU2xGaGP829L0IXH8m0YJM5PQBqSyrraUs1bQ5Jrj+7BxCKo/+Ybx7Rw9honEA\n",
       "Wqw+ffssm0IhMVQwVQmFz2xHa+epA/+3eKchB7oxJD53aGbE127lvvV2bqthZMZTVv6XlV7zIOWV\n",
       "3leTsltPjyBL20KucBHexfK1JhOJ7T2m6d2SRfiHIxNcdx4UBRD6YYN68fS2dF669MsnyvMEOD5Z\n",
       "61H8xjhPwwt2C7yXzPxs4cZe8LX0O8h1Op5Z04lq/skU66OvzUiQDThQwPqjKuTkWk5x5sePlXl5\n",
       "T+VCqJir76FoiN0Xdcjdc536ukarzPhakPx5/SvXaPDnPy0QXUSzozFNt6Mm+JAUD+QliUaFCA4n\n",
       "xwdtPXkluY0cx9OAn1HMnMfFjhJ8lhgmOUpCvYJvhFpNG84cnSqUVlcms3fw4rx9cRDZ/IgWEBui\n",
       "y8my2FlV+VbwHSDCJ6fbGQ2qNU8hJHvxp6O6t8TdeusuVk2j7yOd5MgE24vBLzUXEG972zEo18oJ\n",
       "0WcuucwHsb8/z3kX4yeC7uZ4/lAgh/o0SSG8hCODyuw0/EqEenkkVkpb5LdV+8v+HJlATcDt5tRW\n",
       "b2G8TgEEYQo+EN9ajADJkD3L3VFQjMn2KOGg4895DXoEhYjwb01xmNWlqHynzbzqQEz4eeuIP2mG\n",
       "nZVnyxH6hmOH8PqUek62yjLycTS1p6+h4zu3D32RKJwBGgpoj8qu+dz7muTxVEGzIUpSoHpQlAli\n",
       "W+ixUVHVf9VvgyCgsNaERYsOT1afX7aGtvVO+dl3jikmW8dVknN58LgZbMs37ZLJWQy5FWnqwVsG\n",
       "18cASvCwqfp6AY1f1dsowCA3CzX9COa39qe30416t/LnpTrzr623cSpzEDkjZ/Ijd3cK9MI3tKv1\n",
       "mKWuP/RBGNXYFJU5QmzLz4HW0YIFklHn8/OgDoqN2zkTELM1BWi/4WlcHLhjFe+vLaNkogghwv8r\n",
       "tuxgLMyF0ZWjV9YMMlQPJeep/6Af3mHBH0i/5GwQn4tFvo6v/hZ9HElC5cuG4uPU9jggcOQxoCLX\n",
       "5n1wyUCStrNRWyiWoLBZFo9lyu0vnYm7uY4yjhmN0HUpfRY8TzbwsCz1LXPXxiqZ0VpDbkQWXcdt\n",
       "nojD6G29bnrPDFRC9B3QkIuW7JzK/Cb3pprwEM8vPZ6rldvnZc0oWtrZSXn/zVZPzkusCee9WSXf\n",
       "p9oblY54cpaWFyGZCjvv/2UhE0xb4IMmQuNrhOwCpqF0q5AKCTdCH1KELynPXfxYGvTu5ZSvUYzr\n",
       "bxP/JnoFcMQ6o2fpGC15bL8sv6CV/+Xp7L0BMTJe4EQnh5TtrCwAQXOiCBoNifz9QLs0an5Wy4YR\n",
       "HMQHUmOR6P1ooUtebbudy9LtYZU2eLTSRyohQOa+hzdE/4V8sjJYzJbAt3p4PSgd+0C/tBzT7Dnv\n",
       "hpM61cOqRvTZYtahLkRI+MfaG68k4ECv39lEOScvE38YyDNI8eykjWoWpzJi3BeXzyItOWmkY1Zm\n",
       "CgfyjBZlwg1dFK83AF8fJxeURRBBOzY+sxX3tCsruadamFr5DcnwWOdnrirYf0daIjI6iRj6rUua\n",
       "vc+0eZFt9dqSRmCnMnYUflsCVBYUZX8qFEcY8gIGq9hqaDiJxOqNR/SBp4YNhaoQf5B+0r5O2C/H\n",
       "cl82pTSs3vXBdY1Rfmd+pupz0wGqnuBoj3ebTTO33bJPu31bIpiM/I2Q7PftSj+T/++1okzVTFMB\n",
       "yIrHUStpMbjFEiJLBUcxFcuy+djskkVwRlaqGZvV5QSQp+P4IVAdr0gA+MEABCEYXUWAyUHuKmXo\n",
       "lopfjoGo6bAg6+n6cd3QToZFHAnhSxaGNnACW8POn953BfhXaDptx17KZ2jjrBFHXBY/bP8lgmED\n",
       "VldNew3kTvn+Me0nWSbjxzAKgl2OPVzTOowSBI56XATkjXChUcUNCCYRl199CIZW1TKDmYsWWNJm\n",
       "AJF9ENzztLz9vdwdIe16aWVU7znC3padlBH8FkZaBmEKbt4RX3ytHSWzgD9DaGHdt+850S7J8jo5\n",
       "YvtTPMWfMIe6Zpmd+eBOx/dFFr9oAWSpjKqN+goa5LoiYksFB4+9QJpiGpCRCZmhdskIH2uPK/oI\n",
       "IVZKNzZ6tMEo1PfcMjejrQCRyc7PggARIb6+qf9jIP/hgoI7QkIfGjGJ0A3ieroa6l2O6LEygy07\n",
       "ZXQUzM07QRPmnDzOFgi4iHHKMw40HtmND70+m5W8PRcHVtUL0n0ydLlcGarSEwbOd1hPydFxK2hd\n",
       "QPST2UNFLcU0FMlKdfPqEelyptZ9VKrq4wDy7JEKFQihwjfe0T7G7ySXm42KdkDcfUsLD6GFWcGm\n",
       "FNaALFFzN8QThnV6tiJjFBVFp/xaJBDCc6/FtfF8wM6M+1Tx6hr081AkB06GB3KQpzWhDZCSnwT1\n",
       "2z/e7CoPF5ttT9e3xpYunzIGQUpRnmW1y2g3x8LAxFQeFT9AtUmCqJlk56NrFa6hvgXOCPhQ0Dhy\n",
       "xBGS++wkXrSHIFAz1tT6z2GIkquxMEHSv2oesItjVPcy/UPCs2l6UhX5m7dKTtfMT9kTYUbBOoWm\n",
       "+Sc1eRlXOMv6lmjt+Akc9XqkE/9yXl4NULFGQoodrp5C737D5RAH4gZKzPRXfY6WZDdknIRbD54D\n",
       "nOCUOk/JluyhIvFOlsvoNf3xLl0CHt5uif+9k5kSurhA50kudeS9AANDAAANEkGaM0nhDyZTAh3/\n",
       "/qmWACl/AOHk2dAdfqekAH8IBBsUTFotnW3bktieSLKtoJCbqtnz17t0e6Qms3Q6Idfc33JI2ng2\n",
       "/xP6iHhph4rl17DT8RrUSuosTK2vSqlrcLOPXj5X664JF+qWtHHzSrNac1piGOc77c/huq78iMY5\n",
       "wanwBLEkq//30xcg26u9IxNMoAgedONTMwn07xnkJrwGi1Ve+SYII5kyTnXuz+W0LkvMGze1BEkC\n",
       "EvQB8oHR7mx7SbGkLHW8+YORN37X8k9sC5JtyDbwPB4qcrPXCDFlXSXDYOTvc3cKOCYHcGhmAou7\n",
       "dRV3OgKKKL1Tc/X7We7os6uZh+c9JNqOVDHO34Z2CDLukneJcAEG23yfX+7gtk7GmhL9kkZhIl2b\n",
       "LAPf7yImzygZI2uFUYxL8BHEHRIK55RilFTZ+3NFvTXmwY0+q6WAi0iiYRC2rCMs1H3mYL1RUrcd\n",
       "1ZN9+qnBuWrX+BZVloSKbZZXXEg4GWBRQTg5Ir3gm1hTWXpE9sBk3AF0BtwxOgMCRvc+lP2ESfZJ\n",
       "roSTZpKiBE/Qo7TIGly++gNiySOzCQBgrgAXKGFld97BYcQ06DQY2w3CzkeDm2fjxj3xn+Pdjboz\n",
       "OHpfu9qsk1DIPmgWgAlwl1zrnEKRx6d2pooR0l7FZ8xjp/D1BUPWa1Xbs8VU2Dzb+7VAzvCHC2jX\n",
       "4INQTvu3soEGBraOnIMxkoH+RiMS/63ezxM+Uiiqz0RsM8KH3+9MRuwv2ZoiSRorrctjoohaIolu\n",
       "YAAuRzsumq27sIemE+tFmV/DLPK0MXQuOrqjGo/x7BeNti4FsykIUrMo2mwN0jCPMWKIjovPKo7y\n",
       "FHb9Rr6rTMwsjxVvyWe26tl4sA0lphS8eF/1S+MpMhXI1eVtt3q1oMYiya9dprg1V9lNPYXFjIPE\n",
       "NOtK6dM0VUsuNCOALQIL0vc7S48dCt92s9JukpQPhyhe/iuObSRd7/3GmnAC1uAkTMbg5ZZAtPTQ\n",
       "6PkhNdUI8IjNimv0TBTvnbXTFHKULPc8Hv07kpqfu8kJ85j6fRprYfcay3U8fBtrAUbEBJijLViV\n",
       "oRqai2aTLfThdISkzHr6aiIPGIggni7jgN7dbwJTkRNj0Jru0ARlWeg3PFc7jP6vaW9zfIVADCWY\n",
       "IiUB3gidU+FRdRSeRpETWodlYJq3kVuODWTHQLf+Ml51uwbhR8oPWCitfj7lhUKJgNLR1W+0TxfE\n",
       "162XXBdplX8Wwdu4RgxT0xg3qL18puvIDNi+AE7EXQE8ebzICCnks8V1mZjk4Mc4Dx7Zd9wxlLFz\n",
       "XHjqs3vAM8tK+R72U+Yu37y9KxSVWzsN6nyNfuSh5oGae6Bw2H88p2AY0/TYEt9Ic+jhNI3SzMl6\n",
       "vwntZ62fNwCH9+U8qkhn5PAjJU09gmGigpHpdgbMCYZ+NXDyY0elAvDc5sEINoYiwcutC15azX4o\n",
       "leVKF7P9stTCH5yoov4L7kGZN558DrKxozS1OEIcrI6Wg/Eyt/AlzTQv619j8oYpAWzqqji6/2P5\n",
       "Kn2xpFRZbSO0nW4GIXd1d+2FWndUGcoEeuSWbPVS/hTLsd6NTqSps8fW2SUcvBxC9xEh5bb75vfT\n",
       "qZkhy6cUVd+f5vguimPWb1sMEKd2OOjsXlM+7+r1dUKYpFDWSCVZ6uXC5w3a5UHkh2SlUWRgBFr6\n",
       "0Lj+tK0LKOurUzU0jDHJpvtkFv0czAYeQU9Ni98U9zP3sfEbMol/+tm49FCXbiafFFf/ipbZLnra\n",
       "kuhokZUUy8eB6k2sxSUjNsqhP0V/pPQZhy5bKxteET1YEm/q8nwYxvhVP7mI6R28HoIWLe7Yf5gi\n",
       "E/g5HNV0CiFNb5h26JT9q41hdMPZlPIZIYCOSb4ydt63WY22dC1WmBsEDV9rGZ7FI770lMmaO8BE\n",
       "4R67HkaSKTknXK6TFT3Ain1Zxv7llQlmg8wenQK9wp094eqQ4IS4S+wVdNlZE/ih9BBwwK1Kaa5M\n",
       "4rg5Csh3xGf6NUVV+sSifHPUz1nQoh70kg5+Z//uzAJWcsETMA0D8+F/HOHUs88yqLq7FDEzt8l1\n",
       "fJDLHp2ljwxHvirq1muyb+lmykC2gxqtCiehaPANpEid84zHPNagSzI+FHlvj3kYiwOrzZfY3Kxd\n",
       "qSLyVJl3wseoizLvzW5mpK5T9pCj/+pNLw0r8mPASqmyI/KYc1MfrdUWGtNJvBVzPa8ajnqluz55\n",
       "PE9y7vDFsuqAAciTPbpxP/Vsw2i14ABtZeB9wmJeFnmIfJQZLbiC3W1bW6iNclH+HIJ8DI6JQula\n",
       "b2weyBa8L2tb+C7mSyHlo0wt0q32DdlsGrSwbmeYmWz726xF0lUY0zXeMOpQvBG3nu6HFJjXBTfm\n",
       "86Dep7c0duX7pePeUTl6weACwOVG+Amlw673O+vw6od/UmIXkS7UPKlMf13Pqy1LSsbBooOUPe/U\n",
       "2yZfX9kIDQNpV3bfpog8fpUViB8k602cczub5KbJhnUqGgSMIuyCI/STzLSZwXNepA1As3K6F2SJ\n",
       "N0QzBboQXuS/EkGSArSkN/52IM5M4qZ+H3rZuxiFtshBKplOovKrWyAA+KtbxQVr5l8jYpaI1ehI\n",
       "yodK4WnXAzwmPr8eR1BV9anXjYI75FBY9li0fOsWDUu42yKMaVyD36CMgQRNPKct/kNMltqHx0Mu\n",
       "9iDQG441S1FIKqjWzgt4Qq/ANaLsHHCo8rrHMzeEGgi+njzB7VljoWAXVFzCdzWeY0bs8cpnLkCQ\n",
       "erAl/TR5zOXMzSVmUiEj0WZRDxA/cTYGcrtri+6pksBZqAcmLYNmt+1KEp3lOGCv0Gjap4valBYq\n",
       "N6R7NZoUG4Smf6OrVMfGIyTCGjLZ+OpY2vCaOVpnPWxvudSDcwEeJP9jd/r40TfGXACUC1mJom9x\n",
       "VR0o84Z0QtkmEqmHYmHrzh6m5UuJvtsFbJsZZ9FM8TuFgh2ol56zJ+vwjV7xQlzr+qYDvsMxpDyb\n",
       "KotM8RO2AQNoSeQPmPaxXWfckHfddD/c4a8ZXhaIKqs9YFyuUuwFkLkUIklahGu9KLVShyFSsJmF\n",
       "4xuTXgSgeRyCQXLalVZhcSPunpLV2U+NsKaM2UrE8bGZh8rDScgMmqtW5unJn1XZ77Fb2UVPhwh1\n",
       "08FaFngLUsT5Xj8GN4EG6Klcc5PsMBRdGixGvu54slj1cYoIUsDe6nGPQ3iRQseI9UGNXCPL7D8m\n",
       "9DASbI72/PaHIUVu0pYxsI96yHxpgtUwJ7qLbCLCQVYQsvw3Q5+6xF9UZQ/H+DBhP0qE7F7BAYIp\n",
       "BV7kgC+QsP86888nfEjC4I3J5HMm/ZYWF3a9u9Ovn7ZpuNkB/hWq5nXhdWyRzssZZLqbYZW3yFBd\n",
       "+uTbSI0QGmq0tqiDWpmcGe+9RdABFGyuwUHG7cZ5ghbPfZb5Oh22CzM1IAkINF3uy/fKJJNcEMxU\n",
       "CIUPkAhQPMB9D1W2kMC0sHAAmWm6l5Cg78Q1hDkHUzykBsYgrOHFG8hVJR7TD4PleJwX7fy2KJu5\n",
       "CzscsSRBaeVe0LdF96AHs6lpgst8gMsimZteKvvigerG9FYksKrt3cEfHrpSt2ApswAatokTqPbm\n",
       "1Agty8exrkeLpv5cXUmkUjDKlWhTyJbKWf+EFTxgRTSqjQBVPP/PF0gl3o6SkYIE7Na8ultgLAzZ\n",
       "YH69W8K3Ow587BqpsGj6fOxkCxu64qlxNqL5cq8hmSy3IPpdaKAbOL6QjVDyzH+TiXxgAFKgPIqx\n",
       "CBzWDB8jsHNdkn7uG7HDwugFp7WZKDapbqlhTbnIxS/f7jfvmddpWwG3kkAYawa2fAQdSNeA12de\n",
       "L5I3WBTmY6iSD8787YDnz7wDO/5KgX8x7LUaI7YfTM/k6oFYQKB70nmopg4GIiuYRDcQQxtS+zi+\n",
       "gwtpyYLoeLLDuIk8yWWpu6T2DMr3CYo8iK8IGTLY9yrJFHvBjk3f+6O5r0XjJbA6G5+M+mhkP9ND\n",
       "ti9QBI5dswJmMrmpxWnWdhz6k5PeThUnxCt5MDmku4cvrEeKladeiTaRBNuLUBJ/sLEE2kB11D79\n",
       "MTbuFlJNNSWjmFUFngmnI8QbJCi4o7xjZD1oVlWLZIwJYvRV1lZxYT3Gic+nJTR2Red6+tW//hl+\n",
       "GNaCP5biA7aPlKv82SBiFURnzVlgcHZLgPOIGB2k3I/he1m9D1Kv/FSozm+8cH2ggacvaX6NB8ug\n",
       "67O3uDYjJC5RU94e6yR8cOZ9V+/VrYtyk7Kmkmrop86RaHn1wojAWTm3OOpEFDKCbYx+2BGNxmnc\n",
       "MjsP+EXJY252/7jzA783bckmHROh+KTWN/pdzseQ0epxYB3Am+Qt4lVfPxTOCYBuFoEIZ4KF7IUI\n",
       "TIJAjuigFD69YwMYXnfEL/WttpzruDHXZh/WKVHp2Tl298fgVZFowFKBZPVPKuT6gruy/gCEPeBb\n",
       "IOpCLygCiHV/616eWnK3aeSjn4ST6nzZZ2wAi4AAAA5AQZpXSeEPJlMCG//+p4QAH6xRvBbW+KAE\n",
       "yxNN9KEuhGEPkpdAWOeReYzNkYECozVK06s22zxslmzcxi7aNKnhR/gVQfAbc6RDeGFsupD+FZZU\n",
       "udS79xkYPFVAJQw5hs9MOwVUhR25Dz+NvTCT4ohG4A2z4mXoMQaJm7vodkX+PwwmGT7Xg4kfvmSu\n",
       "4dshPs/ZiraLkYkAj0XCCXS1gHMk2IbhLWM1gE6CI27BicEkABaJSHru09NlRgCcCXU7Ie2ws9IU\n",
       "aT2pDKRED4Nv2nGP8pjCzmQYbRjUtV/ECe9QRKxUcF6T3TucSqWO1OmlEQcOJOqrr6HkD+vBIJU5\n",
       "PsPoG45lmI15OwcO6uGf4eWijsAK3w7/HFBW25K+q/WXSPS+ASh8EBfUZ3SGInH81UxXiQuoyNTf\n",
       "jhI9rCI1WItNitq5FczhwcBlQwoOsqk9/2+thMFRbOcTH5rxrA3ewjXYo2MqKAV/8/Dq3teL+OJ2\n",
       "CsFor+jX20jJhTe8kUEXf6CvzvlykIRDN+qq8AcKaRe9HC55bxDeGPW+Btniu5QYFkxyqdnlKZiK\n",
       "krb8zo7SiT4kDVLpLFrEaFhDeSoA9r4JbqE0eYIdlYKptKlJCbMyeBnmFTLKa+bOod9zLZ5d5TgD\n",
       "Ha0n4TOKrZiCtKLuQdNxlgwWZOZBxsOCvWUYqAwNyNEXx09Wgq1Zjjzblj9ud0g66nbBM9RZG5zC\n",
       "vlv9jLJXt1WmqQspdZgLTVFOF0AQf0BrnyD8rGE/20ciATV33iE+2ZjKOaHyF+Z2RDnPVykE/qKt\n",
       "IZF/oUFkWThSfa42BwnGz0GSARHT9qLy7iEDPzywqNnVHcsSsBVsXmcyhcwcOb4xeyl4iTKmEzRJ\n",
       "sASpv8lYTR8qySRrRvLehathX32bhwkkUVSBGTn9kr3MkIO8fXSF0hh1eOUUDR6PpvMg9GN18Qs1\n",
       "+4NgfWhxiGRH+DArd4QWvsABpJyuk/4Y9aTelm3DUT9zztR6414FaDPhF0Wb4zRglOMfy58v//50\n",
       "QNDCozz2aUVfPZUSkLWwVeG1lnTwAfwYjBH1ifjV1AgNMJIjhmkY4UIApa2lmf534hKuS/5ZomrP\n",
       "qOQLUJKVsdGjYKr6kIMtYd2303e089fLXgaZIYQ//UxExLOkvEMkkqcRRvyO68DHPGLuhyVy/3lU\n",
       "ZRd3Jw6f3wtllXFBV8aMi1OA6CshBblGtyovfk+fH8wVJhi/+eijYRN+XLKykBY4jSZrO/9yssLW\n",
       "rJEZ//754dObLyWswWUNAleIYQ00N39WiSSTWt5LBxruMXA1hNA20l2f3B5G5OpoJGmSOhgtQ3Ti\n",
       "5EpYhvxRHBuj/0FFwOfht8lRLAilvLG88nrkhb82unNXvRk4edW2T+CGgJ0d7AP3//ykCTswQ+4i\n",
       "UGoOE8QAKmemXkr3XCDeSeKKw7CmK63WlEzg7+CwEIX+dCT/keMAa7NGUHE7PQ/3mVqilAtWD1MF\n",
       "TohKsP5OigpMwJ6OpbqixWzxgBaC5Pal/JsYTHCs0YGHuAsqDYcKBj9hmjrckuWFJTFdhF/ONvmu\n",
       "UydbON5fKE7GMUiQKktQFBWuBaKbqXQqHhBXcaCPbSU+OWVWs7rIIxGJnsfNr9ZWk/Xyfb25f9Uq\n",
       "6WI4omiwzh5tdKKGKQLkWkOR1BIttD/To2WNzZZTnMuq85LDuCF0PAR2I6lzeADFlEP0y1Ivu1gy\n",
       "LB4t4g3TE1J2e8o7imf0F+LL81AL4JWJUBlGOif3jBbbQU+2B+8A/q6DGMyCGSe9aH+SKsGP5gtu\n",
       "hYS7BGp0uBvJy0W9+gheFKOqPqI3vQafXVnxhfn6euqRpJwSz6afvveXKkoi56dj/jgDtNyYUM+t\n",
       "0Ble6AUDXCtMu0oXII4liF7clTJXTqCizeX3Fxn7g6ZScIKMTiD2L5cVPUCdpI3ppTI1fpvoNiId\n",
       "UlazM2vkLukzuDrpJHa/cRU8FqBumVuXBKEWLiuHhb6hAPv1s7ngXav9PnMJxBqPdc1J8crvFRkn\n",
       "02nOxrj/C/Gb+G2fa3JCwrMbc0ATSRreeEHymfeKACd+YDyce3dJih/XOH5WbAhOqNmXDZ3HG3V0\n",
       "qLn1Cv41IluZFhxGh2tH1KWGnw9OCQJ2zIkb8WPT+ejo2fp7wqNsl4oUJT9sAWs0BR+sRT2gwSbT\n",
       "5nOB5itrjYCGosGOLVDpe8pt8LpX/JMuP1f1f9o6EBemXeMP8sr1yJ+dLJzqfKiuo6I2BlEVEWnX\n",
       "h4kNxLDqEzYH6xT5a+t/cDFQd3Q7MXSFZiXezxMGGfPOi1nBSIJ6qOkHHEkfzM8CtYyfd1JBZJzD\n",
       "vvj4xunQ0NiJrlKXZQl1Ax9VNrE63bEQGSeSll5PMyPM7yYsXUNmCKvSoPTgdbat8aNVzyfnJEQa\n",
       "klh2vbkI080hAzMEQM22RhV5yqUf8Z0X55Mwv6IxrzTKhUN8IG8IslcetSV+PBLHxgGEUEKHyohw\n",
       "6kz3MIXP9FZEQxgyf6y6fL80goH7wmfI+9EOC9IQjyT2dVvyOJkfP4vUY7Pot8jikc0d/LS5oXEr\n",
       "/q+NJJ780cA5Xd5c3kOgZMWvST9r7ou3fF4UKV6kKPQ9GnGmscIlIH3hI9PGU8AQIHfxXwkby6mI\n",
       "Yq+HY2O1ZR9cmuc66nf8Qa8nY01ca7V1ZQsO9h3IBxHTXSnZpM5DP+0nX96IO0vkgvK+Yflt3jLv\n",
       "5xSZh9OC2dyjRnQ+UQV03t2DCi7KRZ/6j/GJe3MKfzm+NJ8Sqb9ZvbNdov5Fcs7kTo+mwirWb4mb\n",
       "5U00+JDybYsWGE+DdPGhTtzNMpOcGCEuPYwDkyTSFwC5imqCvdYUjceTowKJwTenqPGuJ4XfDvzO\n",
       "qwmBFAvKLM/tvFtjD+NvcInJ8O49NErqK2vVRMeMX39DtyIWO77u9kzXer+n3/TNapuMy3bd0Bzi\n",
       "g4BHArcz+Z1Ktt1MK3A0BniSADJwt/LFv5kOeUpkU+JprQSKcpj/+CA/9oN8XB2KrQhZK4m33e5+\n",
       "CEnIXnO4ltW9CEQPuUa6YtRfWsqs/R1FfTlCljp3Nd0/VyGd+3xSJuR9Emu5Sfa0BL4en506jwGZ\n",
       "v5+psimKzRqgUE/apWsDROTyAhLQnci0fdg8tEWnO0EZu3tRso3Lsp67EMY10VbvWnMJDBQ9bH2N\n",
       "uKHv3fP38MZ1Rzmc5S/MBrKzdcADhIQpK9rBf4OH1hqz0e+jHalx939OYxa3gTKvJ9vVOQOkYbnO\n",
       "TZvDbnRsneAEPvV6YeQEyM8lZvaXFzjH7u3Mi8BUGxgxdwkv2Q9qpnbu5a1Gd3OwMylq4NZNHPwI\n",
       "WTPNkCTc+6tzZ1cvqmiR8NBL+2gQ8EydLf+/giwNKR/66v2jyaswV+Qc3ix8WtGSIcN+9+irHW2I\n",
       "v/8o5MnWXClYi/82YrOF5+zLlVkllUo5O6auDaSbyccXQYNu0Eo5hwmWdiD/bt0j0fJXruoTbDYe\n",
       "ncsIktrFFdkSIB8OzkyyViTuyYC13ViJgW3lmen2+iPTEgGlmyDmS6SMSa1/0Wym69lP++jrADeR\n",
       "9pWM5VQUvuMU6ZGhz1UiWAeEyqTySUveEj7SQShI48BgJ1YQjr6tNOOVmDi0Hl+T7xsduTeye8Qe\n",
       "L+MSR8iHc9/gQUVuj12dDg+b4cs/gxqhHlylNJrReYiw+1rtnL/VWdH1PS0XvS/h7P/5L94ETA3a\n",
       "bqt8gbyOuLGhYFhUf+Fvw8zbIN1sGaqhydnuJzAfqGXSk/3Q05dS8TXU9lNLukLH6bY6qvpYiMd0\n",
       "e4e8Qmf2Rr56haRY4KX0u+yqvIyJn5ifE0pdfN7AjqYC7aj2wlxQP4u6nVUIzP1mQPO9CIZRPp5S\n",
       "fPgEVuqLL4vhRxRrHceLUc0wNjdVgErntaLL3hTB1buuPsVlpEUlvrXjzci7OB/9tXPjjRBAGYas\n",
       "j4k0KW+vXojHroi6NSPq5BCw1oEGf1pcBgsAusmRJRU0SJBVVCwt+ln+Jp0HmJavBrcGukglJhZJ\n",
       "su3nZmKalkfNGp9zsXNz6Sl4USmwYHguhOb7+VdSctR6FKK8uHOtW8YK2HRlEbxMxVAnVTXLFH5v\n",
       "X6dAQ/AL7y9rnMtKJAfCxCxqmiS788dMzGKZLhjpIXbt/YN3XEX4wFWjjBSWzENA+zEkCLanARlj\n",
       "NfdnYhGPHGf+c8mevLDNqVBgdxQm4cj7qv8IQiu81srVXUXmjg33ml00JBS4QzFlAwHwNaTlSV6v\n",
       "UwPpYa2mhCVPm9Wf5utwADgC8nhYH3WwAHAVBd0mdK0lALfuc8oCmiJ+OxCF+UPCUcMgXowUIT1q\n",
       "RqS1HXO6sZCdRTn+yb5qlZilDvrulcHnyxJrC+Cm07hPrY+ixYOVkCCjwiqPzo8loY6OKR2vSTQE\n",
       "IQ+MMZ5pAs1ERo00cszHD51nXFLl3NDtze7aLgSA3JN+cAiCTI4TXMNGZTIXQ3ckj2S1wg0BcT0V\n",
       "UjVuI4MoogWHerrt9n2Kx8PNJEhroL66U/NeSFacRIVW/vvcMwX3Tl5qgwP5GRRu4VJ0JKj0ekqp\n",
       "EWfm8Fvds6cCCV8nXvPQCZPyLdMR6OL8Nu7Ng90DK1FbFXedtQZm0B+aa1lwpm33+ZtPo1JzwIis\n",
       "kgPCXSGo6Lnsy1mPVJ/4TBseDElzllnkLAtip78ovAwcV0fq/cV3ClBEIZ2bX0XsVNbmj9jtSlAp\n",
       "ta4wgen9itQNAxcBqTJtov8VI0Bk6xEj27hgQjC1SXwVsEEKOhwNQH8JSvJNkgn2juBUQI7E5dBO\n",
       "Z+vOVZVpoRn6/28hcsOfzDYzNBRweP1lKqt9EHjTnZfTomeeIBpxqaCV75HoEoBwCnKXoXYUpujZ\n",
       "6E9TRxrHLNwUC5Tw6vdmRqTGVuuNlECsvggkb1ZJAA3oAAAHXUGedUURPDP/ACO3G20vyPel07DQ\n",
       "q1GA61ax+JcWAB+Gy+pp8l+XsGMmpGSgGNXxQQ8E/B+gEpGdtFmPAGxVGT8PbgrkNy6lIWqeVGdl\n",
       "/9intoo0U8KHHrN9Rox+dgc6Ko+ftwW+iKr8xOg6l6AgnqJ0COl/mDxxNJgqQzURmjP3Xu34BIh+\n",
       "9uvsCS+kLOg/iDltXcBF7nlooF1c/0qc1Q8u1ft2w9//vslbSDrE7DFxp2YqKPYNBB0UmPJblj8C\n",
       "gNp0uOv/J57Ts0Hp195jMlNfrUeXZF+vj2ETzqckTz1eUbKSISmwMYTwCZruGrBOs6P8M0nMeJQa\n",
       "54Dy8bTNMXNvyCfNYLDMv3KTAVzZ+elS92U+N4rAnynyNXg/5LLmYzmnVEJLdKxOOrX0t4cqNSFJ\n",
       "Z7qEoL1UOSD2T2pOjzy0OV/Z08C1jtLMy5p4FB3rdgvPjagdGHxEMUyjzxWZyg/PfXMXy670VVU9\n",
       "gme4jSxpCHOyP6raeui183hyJ1hJKmAAryzlY/Sz8PND+/YLOnoasAbiBSyWWupg7j+v9MQTmlrH\n",
       "kP9GWl9OxyZb6sROPxXL9Dfnu0QcRKqXqocLC1KiOy38SkspmxwYPDVMHOf01FFC8Pj5lHFd9vcY\n",
       "DWN+nfwmtLTMtQCZyP4I8YeXNrGoudPQY9G1K8gVoffKHASnjSXFRw4tJbt5FLtfR4+6LeoiRYhn\n",
       "Yb5Wh+DjIz9r490zCQckk1I999uvev9BY1ipVDlmJM3JRYOz7oRgR3+EkcFofbu369Wc2gG6w6bF\n",
       "XN7bC3+RwjnUy5O+4pU98gsGbOdZHmZ+2OJOdNSASvJqptxizrn0sPABgvgiNjkCVuuGtm0oTTxb\n",
       "FnI+SLLf6FyT9DnAGWlsvNIdMesvbCP/HioYc2MMT3at4nQ8tLniIgQLOtVUrV+4IxGzt91g9tTT\n",
       "jMpLbZOVugFpaNc85MiWgsmBvWVr1Eead64p8USomjByp8VOsmixNeg7BSwGSTkqsKtutD+bOLCT\n",
       "9Kia+VIMdO9BYSavWYjXbOpFYCVhpfdWStmc1Hu/+xgRllURV3udx0iApv13HTL4AuTb21F8kQRL\n",
       "Jqo+a4uPlT16zAVXI3aq4zMBIvdRZ50x1Ew2iA3GYXty/COKyZahHuByguLWCP61cbVOV6VNvHhk\n",
       "KndKGL5WXo//QgBdUa869y203mpoMRxgA74j697PddOPLxGSv7beDcBgocwfzhzzgALce8FqhmjG\n",
       "4kwB91v3+p3KfVazP8ARgHytVEFm79/OwFi1UfLRCXfd/bzSIet2p5Fric6kXNfbUe0ZcKka39g9\n",
       "XeEeWsLIkW52WlhEbAJqifJA4cckxObmNQdjPULEPCs9piudVnFlkcRjk0saXTM87f9HKNsjIloB\n",
       "cZtoEFgL34RPOGoAdfGk4RpNwsqVpMw1blZAUFo01MAMLafynK1nCHNYvMKZjTircXwKO06ZQx1C\n",
       "5yM/2OFevnyuErNSnimhgW3bLi7T5JwHW19ABBN6O08S/m/6x2hA/W5N08GsHI1YKY+SgP8TdFUM\n",
       "Je+8/T7PW1j0QDoyTF12Xo80xppxZayfHdVg60h4f7I7KeWNyDaJw9ZdY1PqI3704Ov04oXtLo2a\n",
       "haCmUWg8OhphYaq/go9CQ8ASjrLjlRwnaa+oBkwexaon0CMPUmrMuIfLVKOMRC0Lt2VCKZNVkvSj\n",
       "19WuWGIVIA4jPncmeQpS6AFz45olcg8Qb5IUBwu4k9Sapo17vdYuzsyaA2xN7KP+63BB2bIQd3MR\n",
       "KAhpi9FH0/KLKvYAbJO4wU4X11r4SxmzyNanajAZx50upaHQfjIoe3DJtEv+YBJu1Y0SF/SRWCGw\n",
       "UMPjMK60k0NfjzmmDaya6FSFrtDoOd9llPrZ7xSxOLVxIzAy9TJGpJCvnjXtvXP4sTpyniNcoZuU\n",
       "q25gl870d0zt6IUMkMycT2k6Z3ONt/43czk1y1W4+iOLJDMUiaMeIKdVHUjqG0bwKP1/Ra3ni7Ev\n",
       "P4rpOyul/TmHEr3AZEgAJejCLpRyWoKwkF6Gbe6ERrQiR0DKge9IemWKSOFzejkYBSHF5f9oZswx\n",
       "u36D50kJmyhK5yD3RUAhGe/H7+7dWXes/j9BCMWSnnrtP1DZ6RZl3P78L8I6DwAR9G9t2JiKgOFC\n",
       "B6FZFN4Y8mHa/1o/I69/7s3Wh/AMjg3PHi1WONH5lNaohsyzGTVAF4FfDuDwumtrhbx/r49azjaa\n",
       "b/6sGlk+7bmu+djdKCRyzakEw3gzKs9AYRSpIMNZZaX0gLce1TGaX/GsLKPGJ6DIoN8NVjTzyDb9\n",
       "jvLyGS9jul4VFvuBp4u7hTU77ay7OG4b41CW1XvD9KP39PAkFNYqMVp/DfeHN1zP0Vyk9yAkL/zG\n",
       "mjfCFQ8MZ3Igt0w4rDQi5eenWcs/iYnyHsmSYd0KcJgOoGno/WD+IRoJ6gPTwOCXayknrealn1uC\n",
       "swvZzmRtXPuBCv3peguzbzjwMnIYAUvSC3wcULDQ3Vp/S7WFppMAR8EAAATwAZ6UdEK/ADlqO34Q\n",
       "ev3EmO4CQkAGz6GBkB8k2RTHdM9szT7LYkNLSfYPQ8nD/sNQVM6gY+BHZ8QdgVXWmReaS1TgWPQ5\n",
       "7NC3js6EmnFCuDY4IPBJckgTMqPRf3tMkdzH8ylm+wf6LejujNHuh3/hZNHKHuTo/hMtQ1SW3RfU\n",
       "pST0ZM9Yt3sMa6yvygeNudP85W6gaxmSvAqdwTLMqE7kkdCvPPE5H3YKlUqnqF7m5FtaXHh50XdI\n",
       "gpfdoO0zwGf8oTJyp1tFA10Pp47LF3W55m6XywX0ZuSxAUMvLHxiViTrU9TJYINvmLStbhfmimOz\n",
       "ugbew9pP1du+c4Xq+DrSPf4KnYW19RqsReGLVMAqBtU/pqzkTtQJwAEXzE5wya0gplei9yEC+Bbe\n",
       "x3Kq5cA+FbRWH83vnXjR1xhGXtgJ58LfUS4Xidc49WFgjI/cFFRxtFZvP9hecR66t4yoTMlAE3Bb\n",
       "cnM7YbDh75IxFoyUYaNlIRq8ehLQPhUdbeZpacdC8K3hbtn3HAkjtCFVUyTifpBu1cbRAm02+FAy\n",
       "MYzlADCE8NUH3MeLd1PaWSA4oUv5r3Miy3tXRLwBLQqpuSByzTee5j9jBl8bRA0oJ0uICZZSdRU0\n",
       "RF8T0Qc/hTg+WyJRKaJOfYRox7dbkCqOiZPcGQ2VCiHRJc+OCICpxCQ+892uhW13QghLv7hcd1qO\n",
       "I31GDUymjr3GiTXSaB0wvGT7YjJjqe4q4buyirVsGjUV8BiAEzSL1Y7QDuUjet1Up0VMpwf9HlXc\n",
       "Jyb7DC68qZu6Js+OMqF5+wLX7NIyTaudeZuQbjAOUSssoDxzZ9LUoVuKAhNmY32/GQakHPf/Sy0d\n",
       "A1pltAEJI3nQ8XgF/VVPhCT0kmE1z6/SknPQlXGZdhjV7bq2OMzUJN8X8A+QmzDfEGuZ82L8XzLe\n",
       "bidIxLYZvSi+yMc3Tr24FoOufoSbSFsN61VMW1vFGkdBi8wIMdgz+FG3ecPAVl8lo2aHFjIJ369p\n",
       "Rza2jHHrBMmuPdSsGmilGlk1jZmFipxgf6gJIeZpBsRxwMYUsbgDWhwfDKxKq9ubrtqLzqF05UZD\n",
       "EnixO0ZNNX49dTazeACv09qs/V6toCDpnqcO3RGgHnD4VS1lu8kmSv7TC+pHgqb/DnJU+iJAHTL8\n",
       "UfMd3yYuJAwwM+mMqCD3DRyOYa33UOM50pjC7JPx/BUUL9Vw6z3DzbgEDFYsyBZImLvvjFIRzd9a\n",
       "woyu1hClpK+TFcsUlDju6cOfhIzDGnWkyu2cttIPJmkIslNeySlIU3DlHrAog0L6yb/hu51UegAQ\n",
       "WGYp299B+WEJd95Bx+hZ+a//7A81DrpgC6AvqpOrE+usmVNXA9w9z8lAg1M4U97p950fzkZLabI4\n",
       "K3uyvin6prqQ4k13i5hrXVE4TK04Y9uoENlMAOOdrZDxhnKvyUbhrE+YZV8RDAQ1TBGtIjJvRPhU\n",
       "WUfJQn34u9/RNEbOP/a/Ogwoi5DUNdLEJ5Om7gCtwg+BLc0n8U/Gh2kYo52zwgUw5mO5WcOmxIVa\n",
       "0DGDOwxRxFa/YO0xYdy/S6GyEeqO9i3o+tKTOZWG9vnUCH0SD9ItT9B9T5M199E1NYR97G1KRHkr\n",
       "1sfjx9Gm8FWJ3mfmYd5CRjDEUYbzU5P9vrwICyHF+063vPBqF6fOvSPyMMFTz4KOef/OcftKSAAA\n",
       "BXEBnpZqQr8AOWo7gBQ1dFiRF2AS7HCsiNkAIcfeOa9yd0PAjh9NNU6cmrWR5JgrMHE7kt9Nz7Ex\n",
       "ZdWd16k9+pLmjtJLjQKTErbFkmXjjAKVpZtNG+vNE3ejKMqFf4KPgZl36n4XSgzOtxC5yejI/0qw\n",
       "A0GX91j+LOYluNA8XzIZNU7iEEG36EDZadFnaiGz33ri/IwI+NO3Yq/Jp3UX26Yh3jvArDRT+cMu\n",
       "2Pt6PzqKgEAjpy9eoB74Pt0wTm7NieX4w7oJHiywm6RiRKjbtURNLh8Y8dcjD0WVKOdxhP6862xz\n",
       "b5o0z0S1twpVdYuS8A6peyIk4iDngspZ8G2NKMjvyiQqRb9U+c9uPATSJdghQ6CAQo4zoZa7MBx9\n",
       "XTs/MCaUBOm4edc2QXAULiq984/o+x7oCN29lSsyagouQFOiNMrFtb2fjDzvLlvMvDl2NiOPBDGF\n",
       "iap1A4V68l81/bQ2/tWGEm7Q7hia0cOGDoQf8h2wBHo1X2HFIOEzqtt4kSF1Y+A0qP1Q8iKb7dNz\n",
       "+muj/dbojKKZG9sYxF80vnbUrfrhwe9TwjrCPbBu7Q3zSUe2hLPbw7gg68GYmME5OS0nwMTRE6ji\n",
       "vV1ooP9mLCxCSxOI8DmJMS2IaK6XiyRRW5Y/DQazD22VoGgtT2A6xYILNi8hMBq2H3JDE+4eoJmD\n",
       "cYpcFv9CPDCrBVDEbGpgkdAlrZ8nGIiX4vpSHRR7EA9U97B0gLvC8emZtCx0MoKz+eBNcHFOZ4GZ\n",
       "40x+mZt4mjbw5uPiCu0lAvT6RAG/ne1/3l5/T+cX1USr3OZvO9914lnozrZy3GQyTrCx4CuTmQYa\n",
       "DaJJ4opWBm8i9IzZdFFMOxMWjWNx/8tdK10K7phQL/unnyKG6PJZFvXs0JjSpmJZaijJEewzoGEY\n",
       "E2LlQI+CQHWEwH4s1GJjZwyA5J2eY2dFc6TiSJO9h640jVPls2hThrp+kxEQQazpkpTudF+IQTlg\n",
       "OaF+ONNRmCAvGtvbjCmr41dRNsU8TRWbIKRJ+N+u5ZyyFLdVmET3nh1Q+pJcmi6+bOklmOommF4h\n",
       "57+AQ4w9ZKZxQ0Ov8XdoWQ8UzUSGGlPqK4N1SgGmuyFg3SSqkQmH/Zhg/eI8Ojrsj8hN0DXyK4uh\n",
       "pu6JVbKcfqG2WbCvnsGz4zji8oKAKuWWe2ohxVI5wac0Dxl3HiZSFK0gkCQXde16Ejpuwl/bqHdv\n",
       "fPWw5hsw12JE6f8H29aEdtAcQCCAcVXD0RXjP08qQbSONBSzn3cTvGRg98/wyywrtMOpZsaXYL/e\n",
       "aIMscL3rR4jXjds8ymxhY/yG9UJkNL7SgTvuXWZ2mxHaVBO2JLl3Gfe6F+guCGABmItrt9zaEUyg\n",
       "voTxpLjswmJ8+DovbUD49XvES1wGAkU2+zT6GAzlaNckJYdt6R4bNebUnYkGVWNsmkJOW+cKRkOQ\n",
       "emheBuNNyvt19/EaFHwPc/q57AVSwNyOmJ89FyU8VJY/6CX0MXg8z4iuYP9W44j22Y94X2TdGBx6\n",
       "QztLiRewyy6MgHzBAyeIwOpSTdETEFCm+C9O/MhZ8MIs8Dl6P5a2YlJcsqdyuHSjOaQNfNVogiOa\n",
       "iFq6kF2UNVthqyvkHwAo4jGQAMDcY/6ba/kaNJze4Pe2hgyW0X0HahRAdNhbsQNfr++5wD222AcK\n",
       "KpX2YL6lOdOVEP3/g0MWnhX/MDAjtQvjTurHrfqwlQHeEuq5nVAsUU4CFXGZMJ16YHJ4jhxlyinv\n",
       "Aaz3d6tRLOgoQRPulr8WKWwQQzh7s5ZtpH/BLkHNHLqRva7eAuiZbbvrka+zCYsyujkKn+ecqQyq\n",
       "ar8VGkmPQKaqAmP+YfZ3ASLIm2TwIxQAAFTBAAAKzUGamEmoQWiZTAhv//6nhABHum9qlmk6WD/o\n",
       "egc8ccb9DXfmESgBA1Wa/8bk11KVuRuzc0lAJrEUQlZLQfSfmN6XJtQyQZxV8rBFAOGDiU6hlgYk\n",
       "NIU+AQ//4AuzGPSUF66CLRzJ3sDRGgVCPqtJzx+mWWl/rou7EXGJiryyo1EXQMP7CryPopnFDlXl\n",
       "FIZdjzKaip/3I5rVjXKo184OCvNE4O3O8C/KN8ofRU79h8Dm7lkDErBzg+BEEWWKa0WWBVu42ZNM\n",
       "iliO4Lxp+mitKDQHjf+n1aRQ2siuJynKqqFuWn4MrJFWcfn9hdgrWx6Nm3qgCosBAcmF4bEIKGHx\n",
       "d4orG07dJWw6dSyyDK/WL8SJkaVKzdTUAwIMdpHvAW9+xhSLjayPDO2V5R3uNXErmmCyPcBBtzen\n",
       "Hj+nr4HWClry/XFOVCEQWJZkugBrew1fjPcFfQMISAISUyl2nZYIJmbcwJ3Dxqk40gx1vCRmxaFR\n",
       "Q+StMbaXqd9v3dEJWTIHi47oWFWNgI5RvAWkXlHOZg80puwGOSCVzNYn32a/jQGwevv2obaE8gFt\n",
       "Byue4Ak4vD3upFxxrfKUamwQAl/zKSBKweoYsQVwL2wA7UALsQrNCRkIYXZNuOLfmsHEugirFKDx\n",
       "c0NB1oZ7UZ1E/wcfkZfMPhNttJ7vLcHyuq2pTp1cDtap9gINGEucZLvLtyCCeXtqcT4oZf0ri+dI\n",
       "0GWNH/jFGHLlXtMDd5Jbd51vp1yfH4GsTlkvSYsANOXMdJlHVPgjOSLLRQpEbfSB31ekLKrfX5Eo\n",
       "M8AiutCcCkkc4X5JXYiR2D+WrmTACp7GY0Rz8idO6H2N5bw4PJ54juKBo1g3q3iOegQjAp5sS4Qz\n",
       "AJS4M6eMfp+5ve2+abr+nzk04+s8kJq4FwKISNDjLDWn/0natXHEYQzGhvSdey2YaMgX0t+GmAok\n",
       "DoUPAvdDvsfPjacJMKPZiQy+GGQN/ubBhYDspvU4mcYY+9aPlpA+2EH+z50QtZLUoqv5FZJFp4m5\n",
       "W7XoItBLAnPhu28ZHasCdXXK91rOnU+KMGarysyMunoKvFeLDT5VKbDOwil4AfmifnGwZQ8tH0V/\n",
       "FBAVDwI/C0sdwAsyDGdiYaMWfc5lYt+Ko042/VsXwxq6L7cans6h8EKjB0/h1b+ibngBP1FdZ6F2\n",
       "4biGT/4VVf6TfI+4yG+v2geIlcQ8RlQFALJfENqFsSK13OuWNvKeDxMbhyd21rGobkw+uZYExkoM\n",
       "Ea90KtFkv+4g0fH8Ugz2RDA7fd7NL9aXZi6esj58vtc6VlxMMC3A8xYmukK2MqLwYQEoC2cFlb+5\n",
       "DjCkbnJvb/4QlYNug8rVzZav8aG9XJI6qGRYNaPlejp6Jq9gqSoBdeR2C03wsm/VvKeOaLj1RGDx\n",
       "nA8gqTBtBIUiOqUkLOdZOlyMcHhhMX7g1WcbVLcOaMM0rCR50r6siSv8TXOh/zHmZiGT5LNs0187\n",
       "UqBz29GJMJtafO0c7KkLAcGqE0JXkt/2lHWqi36ON3i5j0JKdFKHIZkRbt1D2d48pqkkQJWyP/60\n",
       "v80v9/2HPBJaY+5VAUleJVDh4FR9cv+H2NKtWJxODtCM10iW2PEQLI+m4CHbcwMwc/lkzN6s/rCV\n",
       "AAyXNYqA7fKi9StqxYfb6e1xBmb3SKX1mSgBuNOb+uvvXCQ1SHxFd1wwGWXIgr86h2z7KYlU0E/K\n",
       "uiRWf06KOEqO2wQf2wy5DpvUo/KsRgXXTwiH+CrL4Js8nSsYhYSY1AkRanVLxnMVBO8gw3lffWE+\n",
       "Gk+Cz8JBGjkuhSTWCkbZPspQkgxU4AI1PW6+TfRJ7ZoBMNCdN3nk1XGoR3ULYRE0yoPO99pApr0Z\n",
       "hKO27W0kxm1I9Nyyy1wXXSSp3GkjFnRKJfwxVop/gDAO98z5WuKslbObSA6acknVSsX1RrsiQNLR\n",
       "7ZzOZnYGE+YdNwemdqDgziMqgc4dgwQGY48JQ+zm34sdJtfNXa2g2uMabrfXnUwWzgpesc6aHvE6\n",
       "PUcejIZMAAoddfxG6e7MoEUOPi1NnFn+QvYB8F1wOgciSYwGkSnByDEEWpaR0w9d37+TSbf463rA\n",
       "Mzyiu/3GzYKALbgaDgxiA4P5rZKjjfHq3XlkzbjpRWkYyB1G+T3v4D/vR+U/kyzgv3n6XY1AvZEj\n",
       "CJzzklIix2YqQ5jnRLE30GPf/NblTDpf4Tlboa+UQY4P0ggygGAMh7kx5jaa7D6zUhE0Mln8I9us\n",
       "eo6gIEzc+r/bCm7wyctr2qFu/i/4UCLkxIiERbBbE07EniByu0cdaJhsq4Xa4AdQl96oIqRRoX2b\n",
       "CDzcbZv8mCLk/AgSAZ6nK5kV3nvfKh+CGnIwVR28UxtdhLt2R3kTBEmikcBvzhfzJmRqyaSos1Gw\n",
       "U4Rm0wLlH455r+6D1BI6rlWEio8aZBdTt8nGiKz9AF2gwfLU0iBdaY4fXDW2amgMhK4Ksyw4gWma\n",
       "EgxphuSaRBngc09LhsXLQolqFMAkZfsGnXgBS5+LV2Ff2basvx4rKB5mZPRMxHcZ0HOMefNkdbyX\n",
       "zyAxw8p48KeRJP2YGXYpKJ7LED5beJ6JKEVWmzSJMd6d2TJzuizhK+u7R823lesc2ZZ/aMyxYVOY\n",
       "qkJUcGPfHZkwJOSV+r9LBT9j+snnWJRMlT19X1/cie9LG1vq6p6eS0nJ8d8yVGWyo9J73ly6XexR\n",
       "mvB49iJxUjDkfF5jRZ/3RAVdX+j3xjWq0vqBokRA6vu16m5fdvrfofr4iZEHZonZ+Zlheo/LSWXs\n",
       "ILRZuMh6J7JlfkWcXAijB00P/qnOl1t58s9Fu9Q3g8jaK65iMtAjAryFS/TVBn+649OCz1Bq13s9\n",
       "t6KFhOP4b3Bz01nw4E5nJb9LQyZ6OhFQT6I4CTJc7TEgRGNRCKHEkJO6+zlzmSSyA+YWilXwk+7M\n",
       "jfBpwy+5KVXo36z1G2RzwZ9GRH6WVeWBIGsrn5PS4I/zEnqm1OKVWKDV6ptgCBxp4ldVrnC1h83k\n",
       "MxRda5JeylOFaQGg0+oz8rOuF1vlfBtziCcww7K1pk/pX+Netx+/tHzKmPTJRjEVp7YLAcLsKT/F\n",
       "7+Ot0rYdLJp4Z3inActEt6WoC765Y3uK89ya5Lq/Vx+DNyQJvEV38b/HsEIgK7z1UvAimCDla7tH\n",
       "TjCFDix+uBHhDYSB7bW/fAKtLsibVHmMWWv1nmyIBYX4jlnViNfD5GW6dHRUJn4ttjCCA/RI9onF\n",
       "cPGb20g3fcPZEQbMQ4zIGydRFu4om76/juS7bM3LQudlV4AasExF2iL8jIWhB5rAS3NXK7No7c1Y\n",
       "jX/SJ0FkgRB+5kfxYpIcqRZbmP9mZr61AqtNUKfJmqwDfeudWAdq9nUk7KtoyISBP4XRgDcaV5sF\n",
       "v7OQ8PUsIxesy+lMngmNfQySKKxAWQkDVgfX5qarrng0qYcHKhCg5AB3zP/3HfzdYV+LCpuiivS1\n",
       "41Sy0nkTXx4UdUgCtlWUOdOAiF2uHf/kCRWTL5nAFdCLapsf01Kw9JQJ298g4nY5jndtq6i/6Kd3\n",
       "sMAsfwOZMTu/9d4fGAyWeFt/cZwYajGcbvwAt/I6BfSWMS9GyTUmLSOcy5QJV+vIB/8YEw5ycUVD\n",
       "oxpgCMcAibdld1e3BitCoXhbqNzgH3fJymdmKOGWue9Pmu3DVfdugWwYP3sd6g8/qlC3c1c2g8PD\n",
       "d6qhAAALjkGauUnhClJlMCG//qeEAD++yot9U/ln/3a0gA2k+kPlECGhh5T7MEFQ2iXkM0N/Jgvr\n",
       "rXUdaFYZPqXyDiEnhaddpzQlP0RMRR2oC/1Gl/NOAWTnB+JiKxDjFE2M/XViGeIEdaGKEQ0nYLjQ\n",
       "Sq4ha9wSNpon95RyE4RnyOeHLvqXphCv1ZeDcbTiiC14r+YvpdsBRN5Kdh/8I+6CwV89OdwdOAN8\n",
       "P6qmolIKbAZ7kpEQrepij/sTbp/U545rbGhKyPtjEgY0Lra9Luk45fwso35XwETH1HxrwxKlrY35\n",
       "Yolw4BxY+cNky+bdHQ8xmYhhpbj+w95zkmYj3qs7OEJDUgS5zNc2nSqIpTsI6U0Z+/TTK28GekGI\n",
       "yqdnH/PNsxr3QWVVzEP3tZ2n1gKVhP65mK2b3Vfh/YSA8v9orLswREzMgXbaGlRIAxjwMSeWkrc4\n",
       "XWzdQbw2t3hUjaJQLVN7MhUE/waTIM7N0Ylr5pHTAOAul/jx12ZPLRUr9HmsP96lewy6jpSxPcd2\n",
       "iDVr2zB6SBCSOKjT2xyYB724rMYLWxcO5Kx33J/pdcob48ax1cA/SNdLsQ/kKxGPy9g2RtyPxtm+\n",
       "TY1NeEqvWrkqk36jyYvD9qKKLPzvRwLEGzPC7sPs2aUpFaiwG9dlPV3zg+qL5ChmavIe4JHw64Wj\n",
       "WGxIGHHnhH2zZvXy+JIHTf90XyLUdy+Oy9efokQFdhcMmWAjzfgQJHbrDGE2J5GVNBCvc/Bcnp/2\n",
       "POMoEEF+1o7rN0TwSSZldVZqdUxZNiohlNJhka8Vi3B4GSyskS2rlY2yRd2an0yQkITzBXVfMMLI\n",
       "9/AyHp2F/AE03bmzsgqVlJKL6O0I+pctL9EENDYDcZKif2A/1ZT0PEf895QRbtNteaacuY1k2UF8\n",
       "U1ir5kbbFNL1uKfKN+X343ZbOsJmsziNZ1chIk9OB2FJA76caCE5uEoFNIrhSDpp6B068wiMOzYJ\n",
       "cLtGOpxZ7nUokCKdKQic4QnD4pN2b6emyOhBGBGIH5YF5IpaIYwcKsfKtAzKQ+lybh/awUIlUVxg\n",
       "00egk93jwZqb2jFDD250vPl9B6C6iD5u9Tlqua86W8YMtpZLucnRnUbmZ23mukZ5SlSFM+d3eUwM\n",
       "10GRbvOW4hgeGqVHAK0vIA6XFoRwzPHcTHrSt49Kd8WoGkeLKZqOdzZ/G5AxsnSdOGKhxGkW3luw\n",
       "D1hmk0DQcsvokj4UB8p6Gfp9YC527xRpm+7SowmWo7HqOP+p5zR8piCZ61kl4RZnKfZc8/X0GqUg\n",
       "+o2740cvYeknh1kGIT8rbbH8ngDP+xVVKeG1lvowl/QiMNNDFPRpQGLBQsJ7uGAtVt6b/Zc7SIZe\n",
       "Y+bVB5qctmAc+aiil84I/NCZSdp33THGiBgdbo3klnPdhm76B8Dg2oWLqIl1w1W36yLggpoLzKun\n",
       "r3dSb3rqDZo6BQoZwgsEPKk7NwWUl6LoGJhw2Q6hPnVOdFGARybxuA5blQy35YpTrxaudF/KRkgx\n",
       "AEJkp91FfyYqg6YMoD9EsbKL5psZq4as0aL5qCXVMna6eLwHCJ0O7yHQch33tsgORghUj0ULPijT\n",
       "TX/DxHIQbPEc1OzXxzwYSoWW6a/jBwmi1XD3n0BQTXHN52tCWUo8qhEXS7drLoMt1CG3Pooe1UA5\n",
       "04bv7qY3OUYv/8oWdbwFE6lvBymPSw/sYBBkC/bZ5ilbsjchi3PnlcljSSWDuVLZpQzgVfsraSoq\n",
       "KcZopqRYxcDvz5oljizEVxWBvYAB+PlT/PEIN1yRkcPThBvnn2Dw8RSoSLz62zyrK8Mvqei3hVWB\n",
       "Wud3YIZ0YETilJUHqXLvzWij89nepzvBL1nzbr1G7Xg78BUfIdLGQNZheY/+1I+bbWkjPVgoztG8\n",
       "f3457ScHOJ1IlXnR6tRwJAQh5RVFkSgYlsnL4o09jMQdeAwjx7u15R+CCPei2chz906Wjc55G429\n",
       "YX2iXdethsPA5tHA28+bw4ZbL1I/oWo13BjgJruedkO5ZLcXAwLp/42yX6+qTFQ3V8odkM0zuySP\n",
       "SLX+ySmRmXs72O6oQEM9wjgLOEao6Gk//b0z9swhOSHFOtmpWyVsWp4T/o3+AfazI68BtjBBbgEx\n",
       "k9HYhlTaDIdIJ/jBgnAxW2xmROdYPz2dor4G6OGl9dDXbGNp++qLcM6fphUWTu5G9ABqxugLmWHX\n",
       "GbDftqXJrJs3LPQcCJ7QH4Kiuar4zMGopp/olpdsxpEpWEqeIfzdnFZvJ9t9edsXb/MFlDwyV2zC\n",
       "vOdBacuN3zPowKw/gSCMRASfjQKuSoVcsdMmqRiy3vhXmjjHJ3s5RPNBjM7NWlgmYLBS0jniqW1x\n",
       "qe877U7C0dSQOW+fDap42P7b1lGosy7c87/9Y6hDWB5zMkvgUkJR8dEnWT8RXO17/Kcdtqv4wE4I\n",
       "0e3MQWEGXyNoGROQKPwuL1/LoxVnuoDZCbY84rLNZ+VqwdYIulBPp8GDimXKoV12OxNgKrWXSODT\n",
       "nJuRhWdN/In30bokl8H1RcKcTn5xW98BTPkEKqnPFW6ILxGjvHR5Nx07QOdLQG34jHA5/+Adn1y4\n",
       "5bWqbjydqD+B13zwrEbMcLYVd9NGOb8+KwUjcAt3iCiYqLO43w4rVWzdC39QWAyeobwbqgUjGmKf\n",
       "AhoxPePiKk2KiH1CQ5XWHFMobQDCfhi2voG08TdGXbIL8cd9G8iRXlbVgJHQyX1mDqKERimI/qWh\n",
       "RrJEGxqCe7yglgnJmt796kYhVPDcFLGPaY7vTiQZciU/12oJSg9Nv/HM1NsQtYM0EYmv4a8kZL1C\n",
       "UMfpkUyQHJ8a8Njw5vlNSp4P2+MvDTMqVRj8T1cRCSW11Dpr+T/sVOhGDqFuuNaQNfdTtYCoezbp\n",
       "snn2GXmFgcq7ZoXftu2AmKVvh99eTbtX727sYB8OFtT50kLnOJQtjYVxMdwR14znTSv57hc7FyV0\n",
       "S6VBuYioRfqyru0ZdJZTmpVOuFaSYfpdNDRZFAXdHGH2eQThBkPafSKtYZq8d4tUN/TVhDzN/ak5\n",
       "cxRvtqcx20/rfsCuErSzDILK0rAIE2YMm8z/MdLL4xBru3+kqNaPhGZMjkJyFCi2XfDF3CDIKGGn\n",
       "I+9bzCFR3pLuLAtOIdjJwQtiRjB3E1LzkNmUiODxS+E0fzw6rcq7PO6KW8yYGKVOTjIAYUecFh1I\n",
       "EHEoacwxFIhBBFGrXHGR3/UrbZPctge9p1+G8nTR4V5O/rCLO2frnMWbbl73Ni57Lz+EbwbTEI17\n",
       "Oo3ChDcCRgHwH1dbn97jL7IjyAI9XhdJ2WK2VU/3XsL7WsjzTq1QW273ZDhQ9aQqVPqCi3Z5wFAl\n",
       "YF59NCIFutZY/fr918z+x/opRbAgLa7XdrxkvylBPcZDy6VDFbu5agNeGt4ouE4gG3pty1FCOTXx\n",
       "U0aR6yXNdeWf1l00UfQ5AOUqOLYT6Uf5GoSm2FCDTPBshF83PRjixsGEd38xEaarVxFR+X+pj2TV\n",
       "E9cniHNCOah2X9Ht6v7pS+R67XVJjiIsn0TtNUFYmhn5j/gyfbEY3559uH94MoyFoBfTeWoiJGHB\n",
       "0WLP6jqwGb4Q5A2fHdSAABwoumZouHatzpZ7VIHA1RaIzvNBIfohWC03j+f/+WpqdsUIAxoK204n\n",
       "fJ3i6hH3zdFy8fdiikJxBKiyJhxCh4WoF8rx52h0YGdahft+DbR6A2xH6THX3qE0zHu4azzuH7uN\n",
       "higsJsr6S+kXJOuNULZUjWgBlqjUjdWrm7ZR3a1gHU26F9evEoY9g77XDYx7AekFQfRQYKfKU6R8\n",
       "uzInc7VpmR1wHkqSh/5He3lpl0a4kjnUfg8YDuRhYVs+akds8mHHOXNnPOqnTINRSPd0XQr2D7K1\n",
       "prErTBzJBM0WWGNrM1SehvB2hNoB+2MoBQMC6q9hR/BxMNAxnBvqepwUOfsAr7TMsRZU5YdwqQBl\n",
       "QAAADUlBmtpJ4Q6JlMCG//6nhAA+XsqL2jvJAF6GChELbIfRaT2oVPU10TqcChs+OGuOjSgdLX9h\n",
       "kBkNcipNGqsHc1ZPrfGp4UeSaTbTLgBlYW4F/jnqe0YEsyrNIGn48SH/O+4o35BAutkOX4lknMrg\n",
       "RJUuVJZ1H35s6sO91rOneZy7vSHztpABZg3p81jMWcx2VA7SC+42tjiZffOYO6eHQUkKMvo4OAOQ\n",
       "E8jbZnu7U0OlBKLmc5mNLHJerv7Rq6rh4bN3UXt7qIcmoo1vN5SadmgJm2qUSx8NgRURoYphpok5\n",
       "Zrg47wR32pLqNWfBFgMD7x6LyfY9rZW6v1sA73sXdtuSpKy/E8m8/xLLAIlsDpsqEt8o4eFpEhzv\n",
       "khCZs8Advgrm25aYn5uaEVezWhTBr0CFYc44CAd9wOqtbpZHeZwtKi2Wpxw/NwogyrEjMYQFd/nG\n",
       "W45XGCEJKPmT4/X73BZWTFTejJB4B9cT0q7h6HVyicPQKe5nnjmJF4OXoQpxS0sHvCT1dqv5I7vn\n",
       "rBez7bEVJrxXgojZztFZLpM3aAxtXZ8+e6xOXJ+goUcF8xLPzHpNeoPdgKpCo7ZPIcvUJte9ZV8E\n",
       "GPNbPXucvfG4YqUj/DAgojHZwFJCCIhp8lO6yR17054SWb9uM5YX50uHdAMjE197uLFPEQ8bdZmX\n",
       "2EtMh+FZ5qLzB479X5HwwdQFSg0oreFaS21VWDkQROs3g+ice31UZ83z7HsbUwt9SpHHjgVff29t\n",
       "2oWohpe+wJu7uD2aIUb2obGsglg6mZiWP1k2NNbYMY5tc6iNVwaUa/RDzTZ2GN1AofCTpR8OmU4R\n",
       "8gMOXfe9i9VXM9BciAOKD5f3VwEwahU/qdTGwUVPdw5b2K8Btpl9Y13ShmZW8m2we6eLoxtDKBt2\n",
       "3/EOSi8IdhAqBFwwNtmRb0PzhbjPQyjbQkfi6j5L4nSZ6hXqfhTuN6vYBL82SJPCm7IgMxTMomKt\n",
       "B4UL6vcmhRk9x9DxzEM4BmOLcq/OE49jL8ubi/FBX42r6r/ebISVma3iQYp9doD3DRLon6qYkZiA\n",
       "OIgvHzzs4WEA9YK6nXP+4dCQYLWpgDI7hf9D8N3+zwzMP5kdhN7Y/9In2kzN1rhhGd+3qFf2FHj6\n",
       "PoLHE14FfbDGSAKfxPopDxYmx0odYjeoozEtixmvUTrjsH60zhyWNZNNF2iTwf8vFpkhVwsk0UNj\n",
       "2LgqT6bQh0RAc8rOHqYVCamMs7/pBSEsspCcHfE35+5lR6ailBNgqr59PvppRjsqq6YMBV4lAAbh\n",
       "MJu7G2CQlNpA9q9MvjT/NJ0vsFPxeCpZPu33VKUeWXr6Ulc0pimdKN/J9/cgGSUhvuqSX711zXcu\n",
       "6DU3NzwIwM6ZMlETIYB9nUQ3bV8e/+8PIy7JnEVKQ2xu3w6l6VHEtLKuUHmcqBdkBT8jQ2YJmU4N\n",
       "ufNo73k/hegfo+etOMm0GnBLBf5AgRn3lcVXp7cCED+Sp7nma5LqYMo1aNH3BfzqbVpFcbsoUG4U\n",
       "QFlcLZEatMdI3Wi2b2gXd846O48lLbix7LkXMaH5O0m/GnxLT5s+B/xJidoHEVyHyLliHDikxyon\n",
       "ap41Ys975xyvI/gtj/IwGgvqVztsOUbGCQOtuCDDmrMe1iX0J5mOwURKgCEVE6lELYMxRrxo04Fa\n",
       "7t4m1cUicVmg1x0CYR7Uo6Sa6QVAlj0gkljwFqPtY8MqpjAhXAvtxur4yXogGsRY8wja35/mkboz\n",
       "dj8MKRgPBYxSlAlFZDkWbh0BlLWz0YuqyMvq24coBrKvW4EztdZb7olT50z7opKyb7Kxx+jemCqi\n",
       "tD4SMvj9lh9/3xt7o6LdpeEMQYcnWUDmUc/WRuYjgwSwjJ+v2sNNWnAGr9/7b/C10bF/C3H3juvd\n",
       "MhvH+U/ILxdD9EzzzQEaUaltXacILMggoS6CCH0xJG6VBBU/mEQNGQDr6LXnW+99mja/2bkcjsiv\n",
       "3bT+tEYPFg/wYycZOmg8W2H4tlTQOtHjJVpC0KpEyxDJdmsawhd2ELIbtgJjLLwNNViHRSwRIhSP\n",
       "UouenWP3kBMhlbTaFhdsW/p5SteKcIJiSfWQuDYVZkAR+zZv3p4yfZlfc1DxF06fATXfMdHUh1To\n",
       "WlJJnpqE5GVbfgcB1J0+oU0Mg5L0xJ9yOYfxS+mh1CCFm77uS7aCbS9xhnF3GdTZgTW8Gh4W+ma4\n",
       "Re7cPL2I3xhQX9xbGRzwSZ/2A94H+v0zTuKkSAcPISmC6CvRGp5ig6OdB59bTuAbKoWYKHHpemvy\n",
       "BQAMQs108XIcAnz/V9Ih0GbGhbyyTPX9RwjNR5f2JnN2OECv+OmPHztNIwU13MFm+ZLmV0AqJbD9\n",
       "LKaOcfcv8aU4KYUYPel4gZH7kiD7DkjhBzhRosY2+wjLUn4eItgW8z0t1GnY1qW0BlTw7aN/6/oI\n",
       "sCXUW0thDuQeO1/ADV1iwG3zy17gRx5V4KiU6TPQLCefixZ6tyij30PRc2KQJTOlnyaE+xxbbFTn\n",
       "FOKcIAW93e8XXTQEJzpUqygJumhMwIm4zsvrTBxL7SBbo05eMX4bnMmEJ/r0qSLGTqaZMLkRQMRW\n",
       "ZbdVVecBD8QjLnedGcbgp7gRDcoY9W6o7QsVlo8PXZ2JrVDL49uGsPwlUsVRZ86yMyG2YpOKB4Rl\n",
       "KB/rcEMGiLbCYeAxZ0w7bTm+VQfANT1qhhOGX4SKTBjZCcy1BJB1fWLQlPJQ01KeCHB8diyENOCu\n",
       "DNnx3BAryHawEKv+iAPR4eMu4+QBLxhXM/DfllJ4SPaTcrpApk/3uJsVETJ5t1BmB5U/8E1toWE6\n",
       "BwX2TNL0d1niUWYWBEpVWYyG5d0nuzV92yb0Hy9h1+UJpJFjTbVK7f68hyr7M+OtwIM3mpl7v2JB\n",
       "tKAKyv//6fwPXiCHZiH3b8qDV3zWW10lkeb/nv1eAtvUIEnANIAi1gY+jEbA0s9y7aRH3qqv7oWd\n",
       "3qm8kbz+JcP6c/52MSYTRC1quphs/0WfDTiiefs1l1hpqZtOCIIHA8SXY+78YAxv9DRplWk/MN/T\n",
       "6JU6FpPfyQEwtt+cwAbXtcSpXTKS//70wfKthTzolPjjGry7TCe3GQ7LtgeZlhriQqjcUNG9zEGx\n",
       "nv03I034d2hVFepis+26EFj5tguinI7osWF67fTpfIl6mnGpkb0fBBkdE1vbKANBXVGK6SRSngVI\n",
       "T/NqSsk3oZQkZsNhbV7wnprKEZSGRlkisLVyQymou+rnGjmKb+IId4VjPTTJJDQudj+MBgOqY2DG\n",
       "yaebQfcEehoa311gTD6FtykSiDxMhaMpBSpZnyq9utuNToCt5oSQMzShWSGg1TE9cY2NlSZjlst9\n",
       "lEdknL8jKwM/RoFo3ut+umklNEAek9oYbU8kjiiyjbVSbAIC3w9iV5sgmH3STd63NaTXtaoWCHUQ\n",
       "7B1ihpmuogTVvMifAKYhnteHpmEZ1Cmlw7YMzQVSfZUFxxf1pPVBd5gCR8+RIQLCS6Xz/8Wl1DKi\n",
       "BwvPQcgSMxrJMXihMjDZLEOyk3wr36J9cflwiNQ489D19/ed6RI19Ldm6hNZiYmBGcmeR6ce+w6B\n",
       "7WIP7hk76U7pVJjunXwXUgzWSaXWzMka1ZtceqIUjufdZ45IukVMeum/Bwihxm22jlYAEuObpZKG\n",
       "vyJyENKDmdsjOr0j5/tsEbXBIJ5qYdNLSL3VX3ty+7LhH1Ke/J1dTY88qRqM4LVwAL1djWzSKZen\n",
       "sxhG/FwtUuEHxOfNxK/npqZduvNuLNpXnhGn8X/SLj35cQrTjWdgUGgE26yrEeQ4WqnaavSJcy6h\n",
       "TNAT3Lbto11s2a7n7Okr8Y3bErOVupKCEMt5shPbawrXgFSpzRTZ5kkSYbKAUwm4i58l8F25ZSkv\n",
       "/VJW1J9HEimuxDvC1cyPBxp7buXFpgdbo8+LoOurvTHbw0IHLu8E90LGkm+UueRBFB9uUV+UqaY4\n",
       "IbwoTBWm4tXwrnswNc58nQ40Z0fG4tE/MWP1lzRNkWdx3isaQfRpb4XMzu5yYoximCRUprF1SbNd\n",
       "IGLQRK2/0Pa+rlMOcjeSglbIo45MnOOd5K1ehU4rB7Izkognm3gN9zxacr+kw+rpwBn13ZucoQ+W\n",
       "bhtXGTtDvhYb/e0rU6NUtxA6j0gy04uHhYwb+6t5nkGR3sE2OopcknuRqKYagGXZjas9KjFiwcEZ\n",
       "dOUrqsIOaCmhyz/3Xw2C/GYzx0ofOLFBs2n2hhM7SVfs2P2OdZ5C5dWycecmYAadzzkqevflwJZy\n",
       "N8JFUlnOnEQTC3eARyzNi7EAO2W4eCOgvMgvDat1Vy6Av1mWgfLNDdXynwNRXdRXhpgMHR2w9ZdB\n",
       "d1q4wk3HScvyfnhR6BC2MkAAfK1sBkGtef59S0dcZY2Y7B/JfveTOSA3nVRgUlYE36mpKdRebwrf\n",
       "3tMvCkRvl7CoZSC5A5CT7iWsQX9w6adThRfvjXZXLgMylplprNsJdBGFf9LwILJU8rz2HSgk4PTL\n",
       "doZyKEtuj4qypknE+ykzqSXIcZ1JaobiKlFKTQ+m/4hVVmy9rd+RbySHgQAAC4lBmvtJ4Q8mUwIb\n",
       "//6nhAAgtKd60AEYoDOV6VcCvBuRZp1nzV6iWypZrHJgsS/KFfOhwHUiG87YMv71df9oGkyLuGc2\n",
       "n4Q3tAfvdNYg8eRSj37kumEh73HlLxLpnqsb3XRy1bvV+ueEmc8HTR8PVXRR7JT4k7YMgLJOBC6I\n",
       "NOrz5AbskUW+m4bhQQd2PJbX3qBjYqxudoDUmXwHJwF05MxInSylqk3D8p8fXv2C86qAXZRdAXAI\n",
       "DY3oGWffnTF/u2HniSZwe4YslULkvgoFm+ChifbLEgN5uHlUpHSoduMwfMEmm8pfj8JAhIPMf9gJ\n",
       "Y0maVBtnCOH4c96uU69Moz0QAJ9LfQhzYA5m0Ira2ZLl4fVp/gqdEMg/xecrLcD6WAA+ihqzKzzd\n",
       "5cfRKP4xgOQ+HTzOP2mUhzWWlfmXxx/VOoYvb/MAd9YQiWBBx8P/JDpOgm8hv17FxTFwvaauq9no\n",
       "ro7Cq9/desQ02QDC8ObyuP1MHPSq/KZzouBn4vjMt5cteq5N8F87DEI5xRnQ7L6HJS/HAZbjHvN7\n",
       "TC0Q2rI3EYaXl0E2IH6T9LIAqqO6XvrY/8ilz6YaFX5eIqofS5Jg2EvcGlc6YmFe6O7h3zsWhD1S\n",
       "24WY/Bw5ZtE/bDT1kuLrt30jMNEAwC4jWTQXNWUJTCXBEPtyISJ5ZPYYvlwLf/UUt3OF+nhM0TxP\n",
       "FM0bvrD4oV1NloRDYzh5wx6NymH6uZN8zgBQFTT30cLDsyDrv6o3SBeqvvMoH43VXqiCzOqQAIwC\n",
       "mPkWb+salpbISq7Rw9/kLGJAmasjLL3Og0Pcf0MsBrx6qkWQkN9qr4EfV1Cnjrd5rX0NGy3Huk2x\n",
       "/3EHZZzk4htvIsGW0+SflYOWyc8HAf6p0j8QAADk5rBOo938MT1PJbE1gLjxy4axH80GGiQgg+ua\n",
       "pJ4En7wHXt3VWcr3d89ykvY9knftSS+otyv6zAuoIX6lKNYBQ+oluSVM8ScrqVJv6OCmsUET5QZU\n",
       "HtWgmnmwTdPnzqAv/wO2G/Q9IHk+bFEDPXp3PCRFw00nbd0TLCNxn4A1E4xae28JlxcfNc35bR1l\n",
       "JA6h4gqD9tBzv0ybxJ9iOcVJTVqNSxUhoU451/u7X0aYNWfAw+a3b38VaJhj2ZjAPQH8WH3LG7Yi\n",
       "xza339OzO/uSeQY/SvTm6CTcfeFG4h7QklgQMyw3XVoUldc/TsLsfGYbPcH8/hbBZuP1z0Kj6Nzd\n",
       "OKtSPY8Ei15ETlF6ZLjdv8wA/+d4rF7Q+EgWrwImw+nVQ0aB1zD84QLwz7FZTRi/dh5w4GmpLZWt\n",
       "0B5T7s4TIUJldmU+pMNZguzvVvtYrGDzWA3iFJ3XAXv/6ygsGVwXFwOcNoPM7J1HuV1cW8eAstx9\n",
       "ZmqRx2NFn7kO5j+TcBVLN0tWaSN7gKG9Bq4i3gHZMGrz7epI4Pn8Pk74VCmuiIxuF2TWEIqf3w+N\n",
       "Fp8DfO6eDRbtaeK8xIWcqV6MNcHsGe8iKXnUZ3/3zxm4sU555rq3E3rsVboQvYXlKa6ULaHgXKHR\n",
       "cF0P4HjuJGNVE1Zp253o+DQ4+U5s15qfTad/hnaj0r4WQiR7hZdJ6GpzGEWD/KTSY5P5Ez7cZqPt\n",
       "F+vccAShxeo1mgTwJ8ehIpg1DEH8Qw0MPEMe7a6D3UPg7eTAsXECo/gOXtLxFPu5Txi/llAnT5yh\n",
       "eLLT6FFdYzAQODQLOJP/ogxkQnqU1FeJOg5IONcTBfNw0Oy3eZq9D4WwGAQ+KqIxq9MLuciqsvwQ\n",
       "Y/OnncFoV2utTcDsxBl+aO+Ipe1DfzAZTHkEnG5+w7TfSzkXqHDjjq4mzSDh7aGraszvlTKZbHoi\n",
       "Em/yahxDLdbUsO6IkxrjMFa7jnkn4oXzDPJ9tbGksK+nLd/ujtvH/Ch39E+ed0kmYVDs+0CylPUS\n",
       "1ObR5Wb4oFxC+374inYVJxNvBygvKyQ1Nol6wdl38ryy/WzDoCFDorI1UqpzKy2a94nwg3bubPQD\n",
       "sL5A43Yjw3qmbFfLz8iDBSPWQxm6608YhuoA2F1i1aD9fML7c/I8Z3Ui7u8+rLP0uUXrTINWP5wk\n",
       "mV5iHi69wMZTUcIpI3hvuM40xsP1ew4GfPF88n+Jd4hLTP1k/MlchXLvqs43kCqnReMgjpJa2TfM\n",
       "JcoJime0LmB7UWUhX5irP0M3RjrNxGNDoZvIzF5CTRQSmBpcuFtycBEJBKVPAcWdub3C2elpSsd2\n",
       "2Rlx1DK1H4ByFnukOYs3bHTUcpamVVHHiYMSqMXVPDG0oHz+gmUOQfeFhq9+V5mzhDidXLjmed21\n",
       "UZ4iihx7ttigCBuN8R79vtaZi9ps+0/JciXhlcGG15QwGLsdFmJjSdGOX78zazHDXcNDmh61MaoP\n",
       "xssGpRK5ctDsydCusZitdeogFrXgGiYvmAJhauVelPqio5YEc/Ut/eR9WqH7BcscOfEqCc6n8Wi/\n",
       "aJVS9JSGkSTUZlzAkeH4MkzxzdMewfEc84h4RPXMPsvyi5TCmYbm4gBNgJIjkJ9+24C+IuYt+mdA\n",
       "kXRev0jTg3e8nj65c46NP+Ox+DbDr7yOJcPdNkriXAbF380/zcsXCo3Pu8RcF07bNpflEPHgb0ux\n",
       "sl0nPQWuo/mYdo53b/zPJdMjwE3RpyBAwVpcDEuFiLg9KsOQmDdk2PUT2ARkiGoNqUFACdK14UV/\n",
       "e7wEhxXv6pelurqQoXFuTHI6NVDGetCRAEmUOPLywHHBAPsArMn/hiinR3HMXfS6N6F1IpHrRpH2\n",
       "S6wBR8iwaXory4vbo9mlf+CYA61sV0k9v7eCtync0nAZpHepRh6kxwQIG7ZPW1SM91ZXnrq7WRXy\n",
       "mwZbaYYfSGLcE0PzaISGPAVIySsnTtlR+gqHRFvWui2oXCFUORqjYO6uXlqwjR5jo6/CwLhzi9Fl\n",
       "Xzzv891VJPuxe6fmicXwHsnuEadCsCW7Oyqul+fmND7Bp6EVVLXoEhUcFome3eUyypLAdINnERud\n",
       "LD/psy2Imootac663x9pNayAA8R41OwAIYfM9QokCqok4FDygeZNWN6CZrGFpfpY2ddiZUL1bYxN\n",
       "tNbVJ7K3lsqVMCKA12Gv5a9ni74ELz9+y9pQzQLaJWSxRPN7CbU8C1NI6E9k6QkBWgu5iCoNQGGT\n",
       "P4iaTinxRQOF+keJnXjp67iKX1gXVV/bZaI+3fK7NrBHrK0TT0XQAdA5I6sessI/6zcpEkDkL5t1\n",
       "j+6duDrokc1J4SgbKGz9LeobS3zBAgCzj0fjAhzkhN9KMaKa+pj17n2rnKxWCf2Cq2pMkoYDYk6U\n",
       "+KRD7CDR0mDgFQ9wJlFGHNdUW/qnISaS9u1OqQ6OGxg58Xm0rknIpBbeV3lkpqujjf9JEdT2lVca\n",
       "dRbw8Ytsm7HBHR32/U774WX2GN9OSTJ6WSHtGDV1jCZAjpeDRQ4a+LXYcvdSSOELenE6BrySim/9\n",
       "9Z4sscNSxQaxuR/Ljo1Lx+0o0bP7zK3dyCzoH4cIh9J7ZzPU3BG6rHnQaZhgWO/EUHyYdyYTSvnh\n",
       "VfqioFJhTiqdtABm+AMrXnzAUVHVS1436MdYVLPx3FckkUND51PuP00X5odHvM1GX29F+E2ZDFec\n",
       "7gACiQKmX2WRkq3Qp4rszRSd/puAZeFxrBdgovfm9BJYJ00a0D/1losqKyLGIGyKrfDeI4z/IqaS\n",
       "05xJrFjMIeSSRA9MrIr7rMWE9okWou67B5pNdeRvrYKUbQN1YcQB1JWxE2qpbSEg/c4BP5MZmYx1\n",
       "gAbCa/4CXLL0WlLPdCWPsL23F1TXU6PT6frGdiUaweqBCVBi8Y7u4821DoNO5883RcUJ9N7KKNJ+\n",
       "0riWD48eOHvs6lQ6BXTZapTVe7zLXnrANUOpaqFA+7+4zZ7iCrjqTITRfVWRQ/Bh+/vWsmSv7xCJ\n",
       "eRXP95Ve3LL578MrD2gJxhIm2GVLBC7xUf+wS5NsRw5oANmAAAAK1EGbHEnhDyZTAhv//qeEACC0\n",
       "p3rQALpQGARSNLSw3ziZalYV4WHk+b7oVH6jTi4Bc/ADLV20bgPq1HNCzjhpoVgOTsz1Vpd5bazx\n",
       "4wQO2LkZ0UH9OyvlANzaqsQIjgi5Mw969ebXQFC6E5bP2Pgn/u8qw9/iZSVSG2ld5us2j1lGnLgn\n",
       "1MAkkv3UM0LKD+8B6JPvlON66GmICltF1SnnWC5SSTkQdmSiPUyjXGfaNLfasohLsAMMb1NYdkDk\n",
       "Wyaf339I2daUANXyQTdW5+eGAtHommnKTzh3BTakDsdAUDfXsI761h/SWa6K7Lt82FjggABP3rdI\n",
       "UaJbV+hN1N/cGDsvr7g2My6VxW3GzQsdQkhyaFTPdlLnE7dAUSws9sBSrY7zivJ0RphJ3oYiYSYB\n",
       "MeFFglsi2Yb3k63cDzBeqA+BAdXO3QZQbsNNxAh9zDvvgwM9m4ZCpe2O4b/Q9fMMonAUvXw/641K\n",
       "UZ74xPYswL4OEl9ykKGKtPP555xO2XtNyuDyZS+783LQattLqXi+nQ91zXger2AN94Csp6JDSYYE\n",
       "L7jrmi/pIX4ruzVcwkWXHOHAsz68yW2HwZ0Lq4OqIsWNPpznkM5p3/wrKJ+AsQaU9vNMy4y8amzF\n",
       "HiGVTSAynMyTH75sTKjPICS02zYsy2zxC4J5JdN5yr8MKWAT7SQu2f5DDAtmWQuxmU5JMOZ/6flh\n",
       "xgg2CZwqK32CEjv9al7u8YtPblN/uUPYAMNt/tM3WBRMFSi26wTsKJqr1hHJC5LHmBCpQc2JGVG9\n",
       "jgHv4705JYdgkK4dVc+1umJlYakpa3cV26/Gp/kfDsLEvSqZg54RALKNd1sJV33k1c4pniyhGQiz\n",
       "SoinPH/cd+MbZEp6NCmWrNN3r0EQRztuPmxHMicZMj4lHLP+bEAc9H+FAPsYcuuRyXqvXKImxEqP\n",
       "2J1lE2+kvpYZ9lpsmZ3oPOKA4btJttKoR1AdtDYQ5G0KpCndAO6QTvaU8hlrOIxOQWS/7tuFvTTh\n",
       "XAcH+ZkozCI8N9Tl96c/EwwCi10nMHOcwHdwl9iT4G6lAZ+/ocbRRLO3/3vsUI3Zqna3Ax+aDy+N\n",
       "Fhci+MK+vPFWT/huaO2BgHTsjd7ElnWbwsyPT/pg19VJSN4ZxBNxAtA6V3xYBvCETNXcJO3aNApV\n",
       "QCbYOPeH/nSRTrIslV5TmnuJz0lCu5/Aj3Bof0TuVoYAtTF+kmSOR7OrxL0HHrN5zFDXnU7HeOSO\n",
       "DzqzG9/0tsv0ZzeYSVtnQEW7K56mMZLh35U9I52U2iuKD3yFcTkAmefBZTXLqV2vqQrjZDKIZSfh\n",
       "FXCpqTgSmNYm/cnJjwtdPDWahSPDuBwAHVLK34/PN+U6XQicQgOTb6vjE7E14H6js62jn19SF6l0\n",
       "tMOnKaXRTkCtllxXEC6F/1IcxpEgHIMKSkA6XW+/eKQp30NS5cZW57pr5w/jiAXxwXvXdHVhUj+t\n",
       "b67wWhDnhKanMkdOoFxGaLBOyzGquSNK488HonrxaMLzJSQUGbh09Ov/m03zZKRpvAv+UDJX8qqD\n",
       "QNIgNiqP8jg9Amifqb28dH+RBH30NIXtGf2Tr0QgZ/7MXFzs2Vf83W+1Sk+zLnvK0c6E2j/0F/UF\n",
       "UtvVyiPAZPMjCtbszDSGEVkPSNHZNCXacGr7QaACFHxIoL0QbKpwLXI9IAS3xz4JNneZyLMHFHcf\n",
       "ULguX23nnQqwPXJxVeWiC30SDrwgV7WJsdHjc4RN2+kGTZNMq3YIE6b/095jplf7yJF6581a/khy\n",
       "lJz8ZP7aHPtMDKeJ9a/g4I6M24OoU2lB7Bl4amxWUMLYOW7Cihh6wFORE62wOr2/MvxoW2SvmfdR\n",
       "KOS8XjtuifNEBDUAZpOM6CSUS5VSeF9S/UWBalz0TtPeqVx08QqBLLf2EF7wfms3hPhgxcsSFh8d\n",
       "UikOuWWm+arAscZXwa6DGLD9Yrp9AVWMGPyTQVzwKCBqtc85T1u0nDB3On2HfEVTC1Uvsij6U9GB\n",
       "/ZBjltU9r4JDvFatT6VnlzqukdNTT0GvCEhHyMUem4irl7sYrmLiSX9tIA1OtfDSi5yx4cvrcxIG\n",
       "jhGL+gDW+pH40ppfB8CXjbjQnVRIX+e8Euk6TZ2aT3BBk2k8jE8dQkiMj/+I4Jv6lF9WGTxIeZWY\n",
       "yQk9/GsyHLYTQ5cRwjQUqokjllIutXjUSTH4fawjbh8f3gtTO3keJDLi7Kvnz6rKhEKDNmGYiNzy\n",
       "VTYswIAUJHOsTuQ0gF+Y8WJGiUiVpPxjp0jczHkksitaKNLp9rg1qPPE4pPYORHtUVTVYI32kV1N\n",
       "f6iTJwCTvx/ssEGC3X8m+qpQmaIu+nYfc3TTmFwWdzBy9p/x0HZkP6ykDrGP3AUBNOewmaXUe5Bs\n",
       "kX5Qu08So+NZkWAH85w3e3HISchYMbzuh1eO4EhjVK6Kcet8bIo7a3K8akcthgNLBVj2naYiYrjS\n",
       "VFmeTI4q46CC8O/6RD3k8ZClNCKxMrn717yx0pfPs3hDC0knefsMF+9l2YP4GxHMUkMDupCahOY+\n",
       "rvx7ccJalily/nGI9XvCFPtzDRy9kVufhaduSYFAuunyAIrLl6yXquvWX53Pl8EeytgX5iCAihpG\n",
       "Fzy2q8ErtTfoN1w/w4CSgkdaEqXU1kJzAZTYr39XqxcEOQQDjXjOth4aCGja4Fh94bCyLwCaAD9/\n",
       "qoFyxmGpOT/Z/6wpHutups5CtZZknRPaihPoYEHWulYU+2t0OeYakRFNHAIDlUauAZfHw+Ed0R49\n",
       "i1MNyVqvcfNo3CtdEY24hVKG7E12PDRPFvmdbgs1rdUjDNTkARwfzZgYcrsKPkc8wvIRcg6jX4dL\n",
       "IHR/d9/8wALNM1TSk8b/FJRLNRgZ4EYZ8BvRLHTCdqe9/KJCQZwlpGgmTSGpuHxhQqIaue1V0AtF\n",
       "V7D3ya880QrTxKGfC+JVXADw60CFwHbZu3GnhCem4y5L4yYUFOGHRb8CKRqSquIIx7EBtMMXVrtc\n",
       "ffyCm0dASdALYb+hDPETaZcvjM52FmYy7gxpZxt61aA3Gc1bN2pcPRm4eZV3WgiZq7hdpOHa2bDA\n",
       "T0TBBBSdH8W5Ai74nYeXmic/t/fR1t+FPw43OS2hQg26u261c/z4ASvSZInYsVq2WkAzV4Bj86qA\n",
       "zmjWEy3e1I5//FYiOKMh8jOWG93P0AqTVcY2uc2RFgW2wR8ySS0uoxefFN4DdGDbhf8x5C7zmDG5\n",
       "0PT+3Jexpr4CqWKluF5bsH854apPZGLeh1wic8AjJjxCEXn3I8iQhZ51aWlZkXuQ7DcrEI2S+1Vq\n",
       "kM8OOmCtHFVXFEvWIDVPP5nuXIG2FKf6xevIRskoaeoMMtIYEKYyndLqW/9vVM8paq5tNlDiz+Pu\n",
       "coDIbUFlVkHHLlQpe/S229DqxQeY12mzVA+0zzvqPJIxm7z7H8pk4PmFWSyXZULg0nQ65nWvRCLh\n",
       "5Tj3ud2SgD07IUvi7p3bHoy1aYnWS/802vZGc20C9zb3ERCY2i3MF8IzmrR1NSFKlFmY+/V2S7XY\n",
       "6jK0GxEeve18t70GANu7ymiZ4cIx05X0zWQczZRc9cWQSTDznPS1BovIi3TZSi7+LlJ5fp8H1yWg\n",
       "NsJfSFZhadC61cSVNEciefXEhoF1vMzzP7TyVk8wfhWq+XDVhR+p7O3BNEt/Jcaq+UvSJCIVqLGQ\n",
       "yF2EHgLHZN5xPvoBAcokcCADpwAACdxBmz5J4Q8mUwURPDf//qeEACCqCib6D468feZTUw/r/Kty\n",
       "mZ7hsTQUANvkZNfOwJnaSLBZIs4pjddi4+b/ijOUBfCM3KktsZlO8ZnZV/9J11KNWOF1zWU+cBe6\n",
       "HsX3vILlGdxwhVC5MGiMT8xMtLYR4RIHzrka2iBnL3ttQzRoxjp+clA9fRU8NyGMUmMrhxEo+dEn\n",
       "YkA/mUGSuMVIJOHjBvKr+Rc36Am1lrbI+owWJQ5jB8fBFilMfMEdEKlaT1ksoy4NtPi4CMuivusH\n",
       "pp2nl9xiYjtE8lyaQ9FpKt1kplgkJVVLskKpY57GaG69ckoYumYV8J3gxBF6p8kBpRmsIayXLrmi\n",
       "vAggbjC4TbOv1igHHdLpUvocuDzLeJgAXFxXfwQQO/1E07WjJdNyaCTLJrxu0vo06HMCBA/QO7Gh\n",
       "395uwf+rFyQLXUI6scWH3ABl9/l8JPuurUnGTcg0kT4nao28WhbBPOTtyXxwg+PZSIFvUFZ5P5fu\n",
       "YsngU979azAkr5V5bom+ILyUl6fgFAfodieHlBL9DFHkmdXeX9cp5BaQvMCTkOJ7M2+WYYG4ko2d\n",
       "X0JnxdDJZE7iA7E5XAOH1MwnpRUqTKJ1UAA/TsWYr6LzgML7EJvxHlg9QWUsAvhjSmAenLb8Ps65\n",
       "HVAaQl2fjuMP4UdJpTgLdDngBdToyjZz8GX8uRBT3hMJ/qapILG2x0PG4+8XBQJV+/8FpMRGgj/X\n",
       "IewhNj2sK7kcA503cxtuSD4t7JjYnilvF9rNgN55APSnR2T9tBnhKOF7sPoSXBqL/7odJob83uIz\n",
       "ZmzkysypO26+t+o6Xc7a0xTR9muWYIrwMLlRknw1/NK0aWnLLzfaj/v1PHQNjrIafFRTXo/LdJII\n",
       "tiwEQMa3jXYnyhCgpEkXHZ2i5bfA5skkpdHYl/ExN5YZZKqIKa4gWn1pnxogPoKhz96v5l3QZvme\n",
       "vCAHJCPifoqWoa8do2Wdv3IgZatVIXPAS2yxK7rH+p8inB82Ym6kV3bYDII4D//V7+YkGRBz0zCL\n",
       "v7Msqgo7RDp24WtdLhkwQH3tn7l4J666/HyB6kAChrPBLQDgwJS+m6tqpFP9qwhq0NLNNPoW2XNN\n",
       "J6eXWvg6+Az2jod6HrUkB+XgTrkYg49Tri44x4N8YFoiQyWk/b43ikozpSpjtJP5Ux2EncZOmt/5\n",
       "lMYe8cRR6d+rjoKm7zqJZ2icj35as1frMVZa0t9TTreV2uuBmxcG06zD+aNTZVOGfEls708zLC9i\n",
       "UqaqhILOV1y8Opw35KkHDBwJqkD5CN3wFT57ZP7YUmlxCa8WLVHemRpJkKaPNM+IsTmVJoDLVnrV\n",
       "qwIFiEnYg5fsve5AMPCfQ5ouejKDO9v2rdI23G2ALzVwe98Hj5JbXY2FclOCHXLXaHu7B0l4Sqeq\n",
       "mD/jP/Iyj9dgo4QQ8TO14Qx0OJfvGHms5Cg7c3Fn7VkiF7Pz4Ws4DfZjykIUt7r9bmkNBvdJcLnx\n",
       "vanVNLlwD8sCTjZ7eH2YD45wfQuGbs3t/+vT7jKnZuq8/T/H2cqCB1PUV9zQJr4pcRlgWr2l2r/w\n",
       "DrYkvbKFTZERILMz9hYJEGGARYt6fwmFYKtk2q7tUjgK51LrweCaxIU+bGAECw/H8xY2iSZn/H0w\n",
       "RbNzkjT9WJLJCfa/cAOBqn4N/KDmJMWNwDloxhXuYhi9kbu1TCCatCYEiZaErSMCBeMVy1Nl20yY\n",
       "IzpYdWs7+YWnxcKxuFFNx4cpYSV49WYtQik9c22Zb0QMxYbE9iRzBr5q2g27fE4rKl+8cFTzN4nx\n",
       "lbGoTOMQCa/ssh/U8uxMgdXQNyxCx6mNoQKXWVWcLFw8gXOwKhX2Wo+DaICVWJSwFzDQwsfMIyMV\n",
       "GzkOs/icCnb2vf/nxeldpMgn3lTui+82hAYgeHY6qtZ0YkBMazY84Y9ftAW5+GXxQ1WvRi+xHweU\n",
       "IshhXjOr6G3EF8cyTl3C3+r35AgEG38BzIezC7BtqEVhh4gOSV3KS8jP+7V8sqrfx3AFovwSp52k\n",
       "Vp3DHyR2kBRTvSi0FU2i44k4ae0LoLA01dbp9csryCrCgJkDKGk+E3IV6/SnqQ5B/mDVSnIwAfLG\n",
       "UXu9IpgXy72Nk9/p4BAHFs42lkpq891Ai66ki6zOn7vjNaFoLtPdfk89O/kWyh6hcj1HWtTnuwrM\n",
       "5uaUMuKGuZuz/5EY/INdPX8l3dPlenPL5AuUm14DOt5zmFmi/bAfgN3y1wv1b5nN4gjj7Jq6G3H8\n",
       "S0oK+PrHOIkyNpDQsu30Mq3quBqzdaXbqewFA+WXjJQXGx399vhReAdpAZPCIT9SjPAMBOjecTE7\n",
       "2ScbMg4AKIX9WVXDhs6uEvrCwTkBBtZvkMlpSRPuM5IoCtN6FRd4asVD/vaMtccv0PSGPkslylSa\n",
       "GnR1VyWIG3//FGp2DMIkaHudgBPYef+u1uqwYtT0O717U/LWg2tV/RS33ish1SfaC9M1euaN9vnE\n",
       "W7pjKzi96gmBp3D74RhjWniQfj/vv9aoxgeYqMtpJK8hQ4Iy2eF2PXtX1h6uUfMQ80cEcmEwl0u8\n",
       "bcu7VPXp7v3GaHV9AaSGWjPnLu7lJkD2rieSaGiuHj65T5aXZVn1S5m3l4CNOKPCOuZD6X+k17xg\n",
       "vwaZFL8hL4dsjWDJ7uVglx7halFxebQIiEYTHULSqEfJT/p/tyGnn4jjAcquOeILQokT7wZXPQP9\n",
       "nXBUTfYRVC8kUkwG5z+OEpXhCRBUTo0lRmdAkNNpe8ZoCYzG+WuiApPSg5jTB7jt/NE05OZL3pfB\n",
       "kB3A8uQFgTGApTHnnRsVfFj0AvSAVDgVXlEJT8FrEhd3z9pv1tiJ8CzqMAJEqioBlyLiTkMQTX/j\n",
       "hWSiEJ9HoVllg00cN5vZHcoBXwznuuQlH7P4R3Z6AZ5LkokFaYCYitAwS/lmfAAaFkZ0jPkVS2mI\n",
       "ZilVzYR8SfEUQckVKKW9c9ZkyyXaRr2+tNWgrBgm5eWIBWrq27w3tqJ7wGrXq/M5hkdO1sbLXV0w\n",
       "dwDpTKLCpg7jUqxOF0jGB57UoMU4c5BEp3+Mn0VsjEtNt8JN7tgW/TWxvg/JdIB6PptugoOI2Fiu\n",
       "ZvgcFQD4O43bDIQEat4hp/SxIxecA0SXsrFYtPUUgtM8uaSsqq+x9GABhCeFTiKRttL/ByIetWLt\n",
       "trZ+AU/dJl+uNlrjf4MZr/mdYe+svL2jqxFa0HTLWU29bphukS5yRl0MhYXpvlP7rwqzk+a0C5mN\n",
       "k9AFrQ/zt+VX2QQQV9abC/bCGHZuX8/jbk/tZwcNLjZL3eCvVaKr2Dq/B0SJag5Bo7K1gzCoO4Kq\n",
       "nJP/QVQ3XyQRxnv3hENe9Z/OL9KKVls1BfuNNXy1TAZZ+6mCgGBBAAAFggGfXWpCvwA9ijtE0aiK\n",
       "85OEpITU23R7BR4wmlvU7lb+h3327kdgAnHU9U6F4OBLMWWtY+MBmWXkNzokbW+x/qFx10eeJqSC\n",
       "ksE2EWb3xtdViV1Srbntcq5xafjQfWOd93LG0dJoG9221FNXmeMoPitU5yGgl+SJve6Hsa8A5gr5\n",
       "bGRKQYndNtYZvcIx+iukb4NPuhMYpdiy/ff86oJJSV4UihUWckNccD/zJogb2ZEz+0voJC3YMgRJ\n",
       "o/4nHWdjZXfwGdlVNVRqAP6ijpYGWxzttYrcmXvQOZyc+PDU470wIF0fwT2/99z4JY/GyxVK2Oyn\n",
       "dG4hocgvI2hs3rISXCsCz5VutnLP5Fpms3Ru6oy0qXzEd4fPFwX7pvhNuVFsZ61F0oWJ47HtXUQ8\n",
       "q0ceFOLdWVzVXQ8iSzLVoat4qBL4AdFubnd4seSdapVr8vXK2uwyN60uwqzDXrgwKtrWFIKYwlvi\n",
       "7IuL3LSUrfPA57NKNM+Ld5j4945nunlyWLCPkbvlWHPj2JEhDUVAQnyVqnhPTebbTFrp3IxYoNYg\n",
       "G9mxti7tG1u/Rz0s0o8OSKfabmSlP/kM6yWg/zmISks8aUwud9+5kGK1LVWLxcmXah23t3EOKH3O\n",
       "yYOyXsao+M9krDvr/iZ7dwffKmU0ZNdVh8IppPVipUlz8IM36bIEWeLfNJqZJamaTEnlrQFYAxGb\n",
       "BADAs4hMT0EZ1xQ+Xff9C6JefHi7i5jXTtVH7mJuGM8am2EHPgCks6IJyAGUHN76otq5Uueh9F/L\n",
       "IUsq1vmFskl9ELOSnt3lmJzaDhvr//z/8EWTgFAAo7WDEiwZOIrEzKB1adUpubY4gmvqZpjhcEkO\n",
       "8F62tX2KAxSJolTY0veYyzT+ZT02atWzle3yl9ceSBPI6RE16SY3zxwflH1zWktmon9S79RjlFcG\n",
       "51t536mhg882IId/6weGcDHDZ2B/tFMrjwGsvm29Wzs89TSJ4qhDUwt210396xEWSdWXMHkOE0i4\n",
       "lYrR/8ms8JIHmPz45eBcg1LD2D90Ovs/EUvm+hXEeeq3jrgeI6c1AbQLirkYCeCquvwgtxEuf1ZZ\n",
       "nGkj4AaF+cXfiAH0FfSIlPrmYtvDC9GDzjq7lOXiu+GEnpao2MrQt0SrXTzWwtT77jDb1Tmuxytf\n",
       "zNVqEHxe9trAr26JqK2+SPCDQBLaAgoz9CmC64e+xWlxKEi3aiocGWC91wcTqYldB6wMo4ox6p6A\n",
       "df9K2eIiAQ+IZMYT0ibh7obK+wvBY9xOAyEy6pMnRDoUZ7gBRu7zbnmavO/mK8fghM05nWPATooR\n",
       "OOjqYNPNos0XJEIrSWNjQgcV4f5YXuRErEwCzZeQ45cmukqEQ63VOQtNpzfN+VAEfWYJlrWo5YBX\n",
       "zDp3BDDz96amEh/IKIOR5eN0D+J3nXyceJigWLIVyOMkaZL6noNapVeTYFIiTY35yzoRSmB9vz29\n",
       "3ZwBpDjD6r7H+y47nezCU2hTZ6cuqTjHf0fGMGvA35bYFBp18mf3r9rKK06AJj+0vFQs9PaF0twO\n",
       "0H3tHiu/qMlsfw6iEYmDPC9GOsGSVONpjgFGpQfMxWTaDIvx1tcJ6Y7BiFr7V5hwAxhdfd4mJpp6\n",
       "X/fYIczCQpIdxlOMij3GXJtKp2OqLPz6voml/+V6jSrFiFdj++pygj/BdioiHUqBgOZCvm25Dnt8\n",
       "xWpZxNK2N46R4mNhDnw3Uh28GW4OJG0gfk0Q5CdFWe3UsIthMIpBBvvUXca4tGahgyr50IK+RvjH\n",
       "iMmQXwRyg5ZHmeY/7wwbiAHobWtNNeYI0vKAs+Lx5pd5V/KsL7LJC/ecmusT260aM9eWjF8G53Hs\n",
       "PlkhShmaV8g7Wv3nmSSLvtxW/QMFbw5yCABgQAAACQhBm19J4Q8mUwIb//6nhAAgnj7m06HSAS3z\n",
       "vThDnpWEyi4bHQ+bsRHVfyyECQFTgAS0bbjPCQeVjRCRiQ5X6THKwc4JWlk3nJMCNNXMrdvxa8e2\n",
       "TabXPCkY42YyU2txAvrjS64zRw0G5PKDEFxikEDHBuB+d2bH8CSuJc0A51VmKUTDUfE02WVF7Oon\n",
       "okJC7kDABW9QmtTTD4LxHagVf4DJTWNeLdOaA0KaeNHeiz5ZrGu9fndVig6duj7vGM9du48ejBmL\n",
       "L10xdnMSku8lEw/6YISN3yD+8s5qgccUxkW45o6hrQJ9Frr/xViObV5ogu+TNYQoJ7yvAAGTbZar\n",
       "2vfA4aLiEIH5dZ2toOyb1RQlOlnen0mnMDrW5FrCakt0Ldj1Qyq8R+/sqL8u9kkO/bF+zSOQ41OX\n",
       "T/JTH5msivxm/oJuPJORbakM1F+ItCYWp3fEaYTByEFsSAHsdgepVIa41wOjPn9WJzbKYhOTn4I1\n",
       "wHAhWnk6+QiGMDGZIj84hd5YBtF5qjIIeJQ+MytJtfu987O9OLrzU++vyXVfZed3m7h/2lLYayDl\n",
       "CGQWkH7tOC4q2xqU4ZeKgc3l5PEOsCavbkXaSs+WTcaaSsXV5SuWCBX6jVavAv2FHlSmeoeQ4jp9\n",
       "WvRQRYc2rkdGXErs3LVNx120FCt4zDu7OAblZNo5UbizfhSSGxQ7dMfP0AItiKd/v0ETkTz/Rrek\n",
       "wrZOfs+YxyEofPG8E6bQqIlQBdiGUbgl8oQzvShWGuX4a298Myb4sGW2W7ewAuwoWVLoyC3J1IGP\n",
       "kpSjZinv8JeJpzEVqf5Hj2vFrSsuKbbJQAPXFZGOM7eoJ0PVXBOnabyEOfrKo9leTaG60Xtr9jaP\n",
       "YHjHtONN5pIsFxpVtF/mbB3qe/eYgElMpyUejBOxCtYwoET9epen3oN6fhtAYHP7SZMPPaatq+/l\n",
       "/ktWTwjFi3G1oZnKx/eNahzzU13ausxXDSxDH+y3rHGUUBl1fsymt/RHj4oBRxyGCe0h1BffnXtH\n",
       "UfMu3QTXlzOKJmb6d0Va1PL+Lq0yBSKmT6v2Ay4G/5hXNuzw/SNrfmyhCkARaE3a3a6jBkGTB7sA\n",
       "oZNHZom/lKVbSbRqo9mEMqh2D3ehBzzXBmId/zRNAm/Fz1BkcKqkU4CciRCURrFX4jYxzcYgOZuH\n",
       "kJrMRI2Dc2l0G/LqBgwNbLMAZ41jzUBv18DIkcLIL+XmeZ1Z5OnpBeHMaT+QdpO+wQ9lDhrXnSGH\n",
       "XG7ml/qHj5pCq4bxGPyjXvaTBeIZS2siqdwxOMvtJDHLvDYabJOoH1lUwB9Wfp/YO6s2rlqU2j7R\n",
       "OhR6p/2spB/VDkRF3ZpirEtV+na+DbAYugs/0pT8W7/ZrY6BAzYOXzH1Us5JSBfVuXZfIqiAvmJn\n",
       "URxiox+F5DUQ3oqolpeqgYSB5J6TUUUHNxo1nTDuKUSWtVYNjK+f7/NzTdOOxnN6ye63s1P6G+1M\n",
       "nfHZS1CqAUh+IVtSSjyW9qFJloDjqV9reRx5j5L1eZYrEVw6RYAmpOgQxuT+WDm799ez/f374BOI\n",
       "lB4mk3Lvhf/AOFgWehroogMpQK/4rC+BJEceqiuRt//H9gzUO9bmo2qSM4N3CtBsbYL0L0KSsSu/\n",
       "oQhN8DyJszWPkP1z0uSxmWuLiVgAVgHl+RsKAE/a4k+WczDj1kc7xMEIUuzEPBYwXhWYxK4NKOAh\n",
       "wwT61pM/VlkJrJcCPHI/vTrDXije3xi0DFy4BVTx1Ofp3eipkJLKlxazQcdT0a8r5hc35uCqWJNO\n",
       "9DNh5OQI38j9sSxLd3hwXSgGUDzrFBwoSyif7c/DMknvUIpqJyuKeN1NdIZJCZgvDXu4QMHA+juv\n",
       "6r4SyCiHU15zAqOIJFZZYEeT6wViCtoU3Ue1T1gn9fwle3YSRWThV/r5Q6lfJMIUlSoH1J3c+tM6\n",
       "ycqhprFo7XkT+PhKutVTvz6PBG6PfGB37L1mmVzKfULEnArOu8VxbKatrMRuWBISqjYmBh7yJ6an\n",
       "Y3NIxUaomQLB8Pes1BscJvqoFoxUe7P7BHlz86gofVYGKGWSDYRraBGmE42gCLYPxG/bpCsay8CB\n",
       "zJTJZ4rV9IaV0L1ZTd9gOcrTLfTyHifIM/SnYWizVd+BWUhPG+mR1ufKVVlVrCb42nYbIE8g39il\n",
       "BsqsxdAMkIcJylUwoeeiA0eay9oUhoXkeB7zj0KH4KW1NIWdTNnvmepnlO6bvw3vGw6zn01YkxKE\n",
       "5hRwwDrjk5id5EKSCrftF1mTUeMIrKsJujB6X2EGmWFCef86VCz8xFpWeTOQ/wCJA1hO9l40EdO/\n",
       "/n19BSyfOqFtGez8lit9c+7smukb9FDARKALya3PWuzIDZbCgJiUayF8lBkZrI/o9psrjLqYcriw\n",
       "NSMLW6FoNB06f/OVA6qhLnPimf116/mb6tPzM6naWRHCwBkf0soKB39EUAdBhRayszaptHP73pCG\n",
       "787pjwYWu3g2VpWLMCwK9itD3/SweRqn/HAbKUz6sfLy5WyC+CI6+O/JQOlQIFZgMPVqCzfGOljy\n",
       "8OllzLbnShWDODH66CwXfKyfXfCqHPZrONDxJuGr7pL4Nxx094mq+ErimWkcD8Onj4m2wp2kdOcz\n",
       "tUKpE8T6opAnue94udqW02+aYzW/8iOp0umA2+rYAcqGsMB55+36f0TORfVdg/ONcEY2H0f+Ovuz\n",
       "kKle+cbKvaV9am2qbyK8P8vltEqlitwq8va404/xa3LQCtw2jF0+buy5c4wFCAWLxtDnrxo/Y2//\n",
       "uJMFznAY2exFDEDXddzthnkpvHM00GDxcyqeytZWJsQXHWYqCNVa6VLw53Ghk4v27qgDnG1IS62l\n",
       "kb/AtrV/V+RkLu+fk4DWOT68vCAqDK5d1yy/6vZdIi32mKgrIbtUassSCgzWCNoi4h5owefxtKeS\n",
       "Ez8aZ+9EeAt0QUuUbxDE7Y6bHufnP3L9qgWirMVcGf+J/+7acqt0ob6y6uozu6KW/MHFh2AXYYEk\n",
       "JI4tXaV3jRU6+vP6UmK/X8n/kPxx0DCfVfz3ikJ3R5T4ntjCCLMKZrfKVERzE1dG6/1bjSMwmKKm\n",
       "R3W511DegAAACSFBm2BJ4Q8mUwIZ//6eEAB/ATTEW+AWpQ9VLAEqgceoy6jW4uaMIvzysMEK+9w9\n",
       "bbZqCzWTV7enzAg3Ixwry1DAcjZT8dITtAEDUMGr7XmKVWKGiSh7qSbGkFIRU7pjc1ikWaxhTtWu\n",
       "vLxqqD2EVxU1GIbXI765UIbcepCHqJXjQGa34nZDUIVxyw0IDDNq2wJk/Mu7G9aDa45yKvVk/jlm\n",
       "O/egmHBCdnI2NDYOthyCw0kGJIcLNv28H2RSuWO7mHXivgZUVepxavUmxtv2INKWqdQY+4cUHH1z\n",
       "uO1tnbLWjGMI+yyvhAnjQCkHDaVGxEXvoA0eV29ozDoiqyBuD2zpR1k+GBw8C8m6AcUlZyS4cDoi\n",
       "UeX1rjGYUzLkgZoqA1j4YXaYAhgwE8P+XMMS58OasdIQd7lOY9IPzorhLMdYgl9fL7olbCVJz1Jx\n",
       "M619ddzvTsMnSm2Wos7YFTmehDOi+uKSm9GptKBvOd51oenP4ZKANc6Ww/TUxHAlw7RSFGzsix/H\n",
       "AP8ttQ6f9V+F+b/jREhIMOxd/YcQNTseJuz31H0ZWytq2fJeRjR31lsuq6zhTA10ayik1gv4qmin\n",
       "Pmp9Vg+NgE0YB9jguLqGol2wcw89/406/6yDT1tcoLSHxCDUrxUbj89r7xweuDsxqyLJT0S0xP0v\n",
       "m/fdOn6wyO+NHtV7RUSbM76eoLKI4l+Is9OuZTAsrI2km3DIvhu//Gc0jspfcP+A67HYg7GdhJId\n",
       "Sy0o3u/6+9OcGxVEwGExJpSFSttMTwtKAB7bYX64K4zggcuhXbQN6z9G14qnqSvi09yBQG4lThRF\n",
       "OfvFSqBMQH+qTekcKA7vhvB34X9Zv/+HZiy0IOZv9dM2TL/BR+RrIzbmNLl1gCt2l1hzaSU324UK\n",
       "4gV+DLYPfI9A3ghnbQ14uDHPv4sKHz4t/hApEY/DNU1vELlVgIUv1k+/L3EPp2YMJemJfeRxFxVe\n",
       "RwZEWOKcmtKWpz70d2N8RYPkEsyL2p5Jvhe84WmfDZt4mArWGIrGSWXAIqAsV61hacTIdUDoD1KK\n",
       "2uoODdovhSRLPKO0GJG4k10PAQf6+dshJsxyKFokulL2XP829+T/9D+kj1oeNkzCHKMRLwGYcEIO\n",
       "zculzel5ijNsLYYzJRNyG0pY5k1Ap0VaGsNukJl9xnuVCirX821qUdnIMVqjzWLakgUi0WPoaA2y\n",
       "cby4gBwsqR+NXtiENyE3w3g0C2+GMCr3OPZMVduRTx6stw0G5tup9jLbg4hVtNtj3P5aQ42UmObz\n",
       "v6+Dz5izQq80V/r0kCbo30ZYkCGn8vwKrR+Ig1xX1NQcUm74wWydjoaDgW7eXmW6ceBL4lRGUoSV\n",
       "cn0kZ/fIVAnbsYh8F+Dp0owe5py1XqLfZfGXb34SxMGo1cIz69qrsgN0D6sfHBMXdSj261ZhZSCq\n",
       "ESDa4n7WlPa4oqN6Vhu4gebu/gQMkM2BffYFp+mt+BpAHfQEt+AWdqm10z/PPux/84ljYjMfvTAc\n",
       "eRnLcDrK9frSKA0cJYGyRPmKr/vaXKzrOPXw195mnKFm1PZ4IZ/lwtAxw2KMSUSwpvyGTY0YqbPL\n",
       "kAH6VKLvjPiupIGR6K/1+HBW0F/MqzXl4nbArEipNgq45VLojUcdPYUd5FLESS0xhb1ZoGBA8yC4\n",
       "mRWKA2gG8ofFoKpklJKdVfCq0qLXC+kbfrNH5Z3hQGvTaOXiTcAFVDozX89TlFiY9Ad+2sVu6JgD\n",
       "uChKR0br2RdItEGSJGuam5eUINOZwD5aPj3r3KruvpMuJFV3Fp0wjPIARGaeRzPcmtSWZ5kLNqrJ\n",
       "pVzHIZ/RALcF2aN972EyrQ/jvAIVnqiTROZHXhGTAYIzijuJ4w5EF5AT/YtvnYXP/khudazYP4aN\n",
       "qbL4X6TNvN5J7iQfOwYOaZkNLfk4kU0WTLhzNGY0bZ1qdzxaAInjuswa9Hhv/oJvdHOGuC99aOKd\n",
       "kI9vf0uKNPt6PibLd1y+eidk1lVzLWlKjcMy/ok8esa98qNz3Y7s8DD0aBSEsokkE0Di71afjrgY\n",
       "QOTabI94J5HTVsgAPvHGCcxp85Hy2eR6dGHBnQlNx3nDoBZPE4k21amubaLBbctbj1Y2Vg/nla1m\n",
       "kD0VZGcP4qPHnfb24v88XtEn+k50X3M1z89jylJK6RoCR9sB0SxzvHw1XT601MMCvRDOGnb383sH\n",
       "fnk9EUGYIshHTlnkXvYsHahzCrO4laElAK9yehXke2RICZypA3FBiukLyr/qopGYv2RsUzaVEVlV\n",
       "HiqetKh6Uu7RueBk45Df39EEgFyPDo2YKynj2ye9UzStO0s4Hkpin3SWYXjeF2I9WEWh4Xksz+yB\n",
       "VyDFtOWfmFLpHOk/BHcPWbq+0EetjJQM6nkQcHMlF6ltM5pd8/Kz/LWOHsCbRB4+HlOUYATG2WDq\n",
       "57+NBzpVLAPh1SzhrMPig6pWdRIuVrvhGwOXR5IPpe/jlcoaiObw2KMo3RZ4IpuwG4jMAdjBRNB3\n",
       "3TSdR2BFr0jqVy68kaSu5wl84qRlWIvrMd1M0CN2x+xr10UM0FqrU/Z6s98BNS8SAnGsBZtoVV1G\n",
       "UPdEtQN/ko0O5WtKO0v7k0+CMk+C64hzYVvhp02PtlvtoMPBRruJHUO0AaH90Gqs8QlRmLk3v6+y\n",
       "y98XjeH/P0YNOGq1BtZSQ0/cWN7Y6hHSROsXNzuOb8m/JM54DwHF0S3Zd9Ejb2/5swHds+50cvdU\n",
       "KXdkaiPdpu95f/7bl83m0pVj3SY/bnPFbyAtudPZQEeohSP4OgZKkIRagOzE+TImvXzyBGDIW023\n",
       "Nfgw8bDyMy7TfXuslugVSsCPRMMz+9KwwP5zktc858rHEP/dowvuTuqGvylSmYF1Hn9zBwhf1xBb\n",
       "QuopFS6bjBjjIo7bGnpN7tW5YIVIctDNL2tGYlp19sv7zTwaeb4FexqhXvW5w+2ZLvBBjJvGICXh\n",
       "frjfFYaOSd00KnCkyZdBCxjiscfUWVTr3ljE67Djg+H9geYJMKwgTwGVepcBpQP2N5jllpebku1e\n",
       "QPB0+/DbFMP1xectArKujL3NiQWCWBzNVzu5NnadQlFg5C8yIcMhYJ9Sc6r7Bcj8vNyLxwh7vKV2\n",
       "uOJrJijuVAfuHLEAAAjoQZuBSeEPJlMCGf/+nhAA43seHLaedmZ/zLgA/dYdTNabNAKJoqbtyZ+u\n",
       "aSwuePqY7jtbWtPQQoowGYfH8n42ZTceuj9tBfFRaViwoTm7/cJO+LjmV2O1e2ebSf+d/7Ia/TiW\n",
       "hZUuklc/lTjsHPRUjWGlQEYFeG/avAguUlWIitD41lPqcJgyDK0/+/582V0jr5P3frTpUW7BLmMv\n",
       "FRBX/6w3wP2GhIRTFhsRwYg3aYLYcgWFhNV6k6jCncHf6EnGmrY5+XzD3cD3sxUXrG0VelRkh0+J\n",
       "/8vZyIueuJ9HS32WSTYxoM5+5lCA1dBnuoCuEFI0TjIPwNtxplF99VxXzn9/RO1cMvNH233adarr\n",
       "KeuKTAfYX9yZDXZpq9msNLsGyy6D4HNH5GYjNf6ec1pr4p0L6w9x5u1rN6s33/dQfB9oSBQaW3DV\n",
       "v+DolkWN2jyvtzWsPVS/roP9n7qMYEN36wc4s/mdWnCBQ/PoF7Xe7gkdPF1Kt2eNAdun3iNMkowr\n",
       "CvRRveIsoeWPp4AyrpHEamX+w7VNl3vcM9/vIhBOvZJAE8ZxwSAOjai980xE7KcQ6DXF6X2CSNgj\n",
       "s6XqZi59e2irbfkeGqOS7ps/y8twlVN1ONMcjilX8crFlIB1BXACRPUtl02bMWlmowzbuALMacNN\n",
       "Kp4aVwPIyW2q6kUbFvgrmB5XTCbCSsjmdQYaECOjXkpFdhNElrNEiIMzlXS8b2XJOOYLfLZDx+0C\n",
       "tecBTd+mGYQ5HqF+b9jYJreE4i7951342LxXPpVr4tTt6v0TfYzvHMN4dKtnAPQlR9z/X7++UxZq\n",
       "UobmrJPekt+85K3r9jlx4vSW903jocxpEpMBlvme2N/ReC2ftr5Qj+VRfrRWtjC5OoL323dSFsHY\n",
       "atT+0X3ugvGQzfX51WAFQtFgF38r8prr+hkGS9E96QuRNa4Xgp6Zr3jteD6VWHH6UFnckdJKwM/l\n",
       "UMSLrOav38eNLCh9s+sR8uMe2FuXX0FeWWMU911v76Lm6KORlZirVcZ5r2yO2eWP8+SWbSr2qud4\n",
       "O2D8R9wzbTfr5hXkeDOu4TW57VtS5Ty1NPQQkt1WTDnhb6w7bBskTEVE/BeVgPhnX8Se1EATdRqD\n",
       "PwjCTCKq8OLeenUEu4ZCWeM6d1RnATB0akJ/IloXUrK2YbfEU9u8c2JkKonjVvT2ku+huK1lIhiP\n",
       "ogd/YrtYsOjDuaPGhgyO9C7imOH9ycP05hpl17UpFWR4+y257f4f3iL0HPmm8Hy6JACEDp/dc227\n",
       "nB2k0+c9vDKCF918oVRLWWTZuqB4J69b++cErTtoTWy1zWBtBmJoFTpOcbQRrvyj6j2KomTIuedf\n",
       "w2VyBHYVCEUTcYA0SCZv1l3IEaWzSypO9I+HizPnF1LHyK2In+w5JkluI+lOIUI2KdtkY8TW9gYU\n",
       "LgnmnLZOWUa5TVkFGLeTodr40zkVJOD95QLxgCOWbZpaNvm6kr81ewwHRSoP2pZFP6wYGde9zxm+\n",
       "DkBulhZn8ibCgDbkYROkw/bY6MAAj7BF7PGczAaZ00aTsRaojAaCqc0VKNLds4DXQkcCSMvOWwSO\n",
       "Ot6p2o41eZherONM7o7+aGNSnEkMzsd4oztjBGn96BsB3NSP89J6DiBUTsRzgRk5vDQrN1wj0gvt\n",
       "1JZP8gN1yHhmMyuHzrWo4OcNiS6SNFdET6qnlsLs/YNAl7FxEr9tkVUHALj46G1Ps98CqvT/Xih0\n",
       "PifN19NFqneglGaxwM7osFT2rXXXNAwtg3rhFWLug9X099umkc6GUJCY1rasZy27hew0IQsSWkw8\n",
       "lgZXnM8/zXDnydxN3px/HZvIWE1uOq5uWi/SeH0cXHmHgHEm6CJqU64QvmbZR0owdxMEmbACxE62\n",
       "std2FDs6lTf1K8M7KaAUZ+YyGsuaJv3WzUcQa+qzGdLWxYOo9EcLdvKz8cUD4CJ72lOQ7KMr594e\n",
       "aV5xCBklBSlIV6xw1Rv9hjx2ju+KTDuOjkZ3YZpXNAcIznih69btCoPDtdDrk99FMnmaNYm4FCr9\n",
       "k9rTn/HkCMc/QpYiLEhOZh+OQO6lLUYE8rKSDSALxZD/+id2Dwwu/5Rcj3xAzPQGJJE/8f9J/hbT\n",
       "1at/lwijyh9OZ/URNyQS5hc/vmtFvH7u3XIZvvdPibf17URbonF4Ya6GL90K4p7fvFLSoZqDu1CP\n",
       "2oQ+YbtPGy2OvzvMQiutB9Wu4iHyrf+IijmcD4uCgCqQoMyXENTAxf4rx/Az1X/bEYkeGfG1Png5\n",
       "+RQI4Gjpc8XKPqv6N/Qp2zYNZ6W8cNqypXxIFnuQC6ag9LfJlNqo++Y6HR6lpSe9A2VwG9X4AkXy\n",
       "JHOufszBQjT5NM8LD6YAODDhMS1PRbKJj1jZEOxjvqlHxbOEY2sq1sM3BDoYoeYiCFPwzwkExE5m\n",
       "ZqTuCHpAiNZOYLllrQc8mho6Y8gKIAklEo4WZNwqMfE2ukRRpBE/3db66E6S2ON7eoBmh1mr+lLs\n",
       "eQFvGAYtcJoosiGaeXtrVnE56yRcek+8/lUnYtwAk9TmiZl7HScGacCUKr3rp4cLd2Ov/ktAdG9W\n",
       "T6Tckxc6dodm61b12jNdB+47FJwPZ66HFLZaSkBXin1WPHwEBp+Rj3BePeO71SkwajEKh06ufKBF\n",
       "YCUgDM5LaWD+M9jHe+RwrTOylVXxsbEmXyHG9DG6Jcwmsd5Up2u69o+XPbKQQLXxPn9KYPuHEDLz\n",
       "0l9aCEFlfGp8gY7DAxGzvJAaerwvFfXf1ROKGp92/lzyrHt7e41L731FPxB1iZq8ksoV7411ppY7\n",
       "tHI6/Bqq51kzIo80e2qpAsyietfEAosxtnyaomuFwIymK52HVKc8j/ghw139sy6H9ugfg1y5OwRi\n",
       "C11VMOPJhKJ3NWPTXQBVmwzDvpfN9z5ZLl2TKvsyVRaQs9B//h98dMHI7BnAYOvT2nFEmuhBl7ec\n",
       "yCzqgF7af/f3L3SGCMDyGx0/tIByOGTFAL0kAnI4MYkJP7JQG7qrAv0kwqh4LbfLpcV5qUBAkx/Q\n",
       "MfF9/QKkEKe0sUPYOAhYAAAJkUGboknhDyZTAhn//p4QAHvoJ+e5O9AAIbLu2VkkrIZ12cv38pYl\n",
       "3W1HQWahTdgQewHPv6SaKsiPW7bvCgP0JJgeOqfBZsdJOiOYGQPfB+xGrt+lOQ/Rc1Al/eoKJfbk\n",
       "WPX4IbLjzEE3f/Xg7INyc4Bob4Vjw30L5IoujDrCHPpiMCghwYK3+wVkwNRq6menVCrsuM4gu1i4\n",
       "fyXOUC9Ykvcl4iXeDfm99G/ROfZ6EFsNLtgDWkgn/nvw7HRzl547fumLaGwQDAhIo6s+gkXEWFg+\n",
       "PfIEbo/D4/+Tj2dZisgOeu9cH3gPcmMl0VXH3ycHMlhkRBZdS8fYXUKoxr0cDKfHff//F0J4FbPG\n",
       "tPf9CjOFJmAGLyJaTJ3+kn4t4PLLw0H83bnUqOXEruwidU8+JuWnaFUcDMnfJ2DY6nV6g/AEsryi\n",
       "dEL1Ls4t0PIiKa0CFNs/uqCIihhzMu30w1LUKQguSyn/WyUlYhtySeN7lfoUvammU+F9xiynQk2z\n",
       "oTX95mfE47lIsWBR5nej7V94jvsX94yWySJmQcbDeL/AUWba1/CQXYr0o/2o89zKaHlouZ7cLd0J\n",
       "G+9Ue35NyefwQuS6aNe4rFFHkLFxezes+WMGaODg+Dg5XEAquK0BrHqROJ7fOXOO/WtplmAHrcvH\n",
       "cT/Zw5AXuMzZw6SLVnX+rfcLx2iL+znKc6U3eZesTbbcCFqkfRWBKmIaY21GHx9yPsw+B02wAWpU\n",
       "FnjdOm28+FwFKNVVE5+mL+KLV0jqEtU/17XG/4bTWhdAMz5rfiWIukSJCdZxkmy2FQjUTG30xeMj\n",
       "R/5zekr/pkd0RKA861dcSxvqq3IP1OFKGpkYIyE8whFL9XPnnRYS2+wPPq1xS2WHuPi+GIIZhXc8\n",
       "ikcHNkcbj5r9vabhfx1NWMcvIjKDuy1yoTQjVzS+EyuAJt02REDm3LBYSN1zUaebUqvx2i9RataU\n",
       "8/w0LO4bjH+Fq4Ef+0d9OQbJIL+x1E4RaC1+j+iiPmNEz+lGCavMsg9Ev8GlEBbxYh2mb+60NDFN\n",
       "mTe6hQ9OR6OaiZCzPvfZHpCpyjSjMKcxa3d9i+LNpZodFN3NBA6CYrrS09Z6eS4aqKgSYmW6HYax\n",
       "kS2Uir6cmz53UNch36BhRGM8GGCtN2G9bPbvwga2HofEE+K/VlJVyWiE4dwctdv3o92h+7chjR/K\n",
       "CeDkZbrpwmtwb+Xek9yVzwj9NooCIpI5PyJeABmLob7lOouNkgbiNyMOZ7T/by9jNUR0x00glzHT\n",
       "9/ZTb6Sj5Excdn2SH2w5qpo3Zto4lsZY3uQZwa78kva3tt5XzX9NN548FGC4RB7yRn2HhwVlbXdg\n",
       "LGq2yGi1VkPRmBdK5WKDPApjEap/O0sJjOSi/lBfU7jfw5vWn5fBDMbPtgIMvXhDpjKPvHvvfuId\n",
       "Qo8/crNQZBExlHCb7K3zOkqeqq44Xc0TfCDGfK6SEXMlG3hTYx1YQjLja4av55OK3PmBzeRw9jVb\n",
       "3eSG8+rbwSNUTYB+C2Q3SDN0Jbn1i+G6MKNZk3WQxNsSmw1mXhFkmJ3METEmMjCwNNFp5X1iYsI0\n",
       "MQ+J+vLBwMNtlKOsc2iVUYGxgg79kImq/Pq+jvRJysHoFd67rQO31QuA51glHZQdWt90EI0NkMJy\n",
       "gk1AutbgjrS/xbN5C5Ol9MLg9xpNXNBtqCZlVrwqzBnHM/rO6As68tVAzgnLEZrLsBe9JO7Ssscs\n",
       "6kdbl0veAFF4U941dsmfVxPjJTG2VUg9CUoiP8Fe9a0f/6llSd/UqQ+HgBLRRGipmhp58dukg0i7\n",
       "/nn//e81uQv/uAwdZneeY9M3vcLiMrEyhezKqWFHCVglLFvPYg5yFugG3ZCDnmFLd9iiCFOnxGwl\n",
       "72k7sMCed7zW4zSixDOdyF9pNLalz8b5XbOa0qQ64SP/qRCvOYeQzjs6prPJdeMtieEBcnpz4pnq\n",
       "LP4abPLB7Ss2Mf/3ZWnjOWlBspxVs8UZ2GeO9pR+gru6KBh9U7jglAcqJUGOjjaeAJ2zx5rGO2bg\n",
       "sGnobmuQ/ewqNVbETGr3tJZj3HPkSlNJ41VB6NFJl0aeVQa+8jhBdse7nav4qGGp3CMFa5oOBzlp\n",
       "7sEtJP/FwGIophUcOS9ipIoAiNwAAKdCHrxOyQy0SAWVsqYzPtEH0BpwCHvcIZfgdlTL6IGle9xH\n",
       "w4+kvO+yrQQu+3s6rFmo3BU9PgR9L1WB4j9juqHnKHacXRa0Q8YVdp5MJviMHeuNFZ0gG7JAhlkQ\n",
       "/BzqfR4wYTiPrT7ADlLV7uKu0KEe9OhAZr5C84uts6mh6xGKIGjOH46OvXb6u3hevkZZEiyRFLg8\n",
       "nlrb9GYGJRfvqZY+O+kUaGI01jrx8bx1vfdI6rQvKd2AFdSGJLTiC5qlc5LqtJttzEdeHxGhs+I7\n",
       "3MyPgrxMqOS2iuVQiJEmzI1Vqzjt/xpN7YSOopHV0Xgrq0TwLL05WkfRgoVTHmgpzlR//tZf/k//\n",
       "tVk89EqiVwecYUACR8exFaw+12/NboDnmCcv7P7zf/WPS4t/fsUcQ3D1sWMyha4DMMiPWRa3/9c2\n",
       "p6ytlY4m+m5yT603BASspX5XLA/5FMItv/5CQ8yjmHjqTCDDjTOY8vzKYs3CaS7AnusSL1X+G5IN\n",
       "o4DnDc/JkhRb70abjnT3aKz8SOycEYwPntD91YaQM/UKZxqTQxqYaEPEO38t9JaVYMwlUh3KpIh/\n",
       "c0q5s2A/QRuhHK2CU9BsXUzPMT3ufg9AvzmwUANgiTC1gL39ZrPDUG4XMeLX6oKm00UXR3+Z0fbc\n",
       "HDCt6zggJS6pGYMWATc4SJDDjfKzGXI0NCuS4DqUvsJZGYWpa/a9GPy9Urk93hHRpOtGhxC+Ngld\n",
       "lEsiTuSACW6T923OAAySmt4WXyxKkCsoG+TC0U//w9MybbYH/HGUp+Uu+d5eA879seQvjGoApVGe\n",
       "HaPPyiV+fC7vkzp8ZG4CEZGkT5Opft/IF3mz9tMqLU1HKRqX8t+xhK5v5klWf3F7duo+R8LWQ+UJ\n",
       "+uhNyqajjI4V9ihfH69HSb2/Hdv1Aj4vgmiSij4raFgSYNyCwLY6xEIMyIyIenCHs3x2l+ZWJYqW\n",
       "rHdRDOw15OjuJ4mOy3gsV3xbTft11MTyq/nNUWDSrwanRFBXLq5dXHxdsNZMBxBSOjRKIS2ZByFx\n",
       "58xsxfaEOZrEDzP+txFmeZz3BmdLIRXYfEq4PuhfswX1B0t8jQNqLGUplS3U55DoTAOSWw7Refz8\n",
       "DOmM/JgW4Hkbpi78cuCDjFkAAAhFQZvDSeEPJlMCFf/+OEAB5GUM8VM/jACCuHZSOF52R/p3Z+ED\n",
       "eohCiyH8Ke8SATwqIc1ts+Zsb7CPYtQHB9bTVCskq3cOAAADAT5vf+dK/ruZ56Aa0x6j++SIc1x/\n",
       "CPenxdB/O5cvY7ZQdPFRyytaO+eOx00fEKuCzOEos0McN1sjETyY+TWFDJP6znrSrBV9kYBhSLjz\n",
       "iXt3oGmV/cAnLU9cS0229YcJZOcAZMBGxlbebt52BYac/6EHDZy2dQyG/Qj+07IISt5OD8247AEV\n",
       "p0N5dXRLHljfg8dvRtO84spFpzcD3basum1ZgkRFv2qyDyUJvyukEbhpuumNco3lyXA0IeIZ/v7o\n",
       "PGErlzy4Abp5pSP2f8YWAKWqDBH9Wxh4xjwacdvfctdhf52Fe18sPkM9qVHrhxpQ9KqitKrr+IpK\n",
       "kUhgn77iTF623o7nA8o49CL17zkEWrLscurVq9uqmHrW9DXIhtvuvSW2Gkz6mRSUsJRC76KMSLDu\n",
       "qW9GAopi3xlcqNgbF0gqqIoe17/vSw/cInq9jD2ofvvc9ThL/LfHJ3RK1fDD/DErBW67sWWaib3I\n",
       "YVPuVH3DgnP7xLumSflo4F3wz4w/OQc1WquN/P7XFEWmZIYOgyr1SWFKuT6tyLDHrG+AbfsbRraw\n",
       "8Y1IKqCGLANT8t4nBFbh0aNc6LiYpKW1LrU6VL066i03o7IIcuTVG1U63g3YEpUOMCKDSvmYlvYd\n",
       "JgItUmI88oKbkMvPD9ih5hcCuZNRmGCQQsFSDVHvgfClxEr8yUIKFNJkm5Gy41l93VO1clBbIJih\n",
       "WO7fniZ1jY87+ORQ+fKzMrmhERT0apu6kqVszxAqt+H7BZ2wQSF4FfjuVVWkX3tDLlOCjpFFDvrr\n",
       "H2wIZ4vtxst7YwHWnJ8lj9gg2p144efnLYOYw1eQnAR1uvXjAurzld0s+ERdJJ/37jysyB6T8uv3\n",
       "1/P83z77uQlVPK2U+DuByIc1A7FyU789Bp3DMEx/NU2mAdg96a6LOEQiEKq+4D8O9sIrFZ3866MV\n",
       "qZwal/zGdbmbc/xn1xtZIlvEdLAHQkYFhZq99lz0h/Cp5cIu6e7MAsXnnGuiawe8n4fUBWkEAu4j\n",
       "O3+1LH1z6zBJZ6Q9+ebPrTcHlxhKHgE0I1d9jIRv4sFEOXo8fN2oKBnUcG0ZbMRfdYm6vsUwadav\n",
       "fz6IMNmTDEOvsUSVgC9N0lDJIdZgophwBWC3vIg9nUfDzrpMui+ElytNVQVEeK5XQ/Dkh806MUUF\n",
       "Z54dV+dxzSSQo88rhdm2G4sXtCKjOS/Tek9G67Ss625ZHrx4U/Su0wtzU6iyyCFxEoJz/6W19LPD\n",
       "sYOkt1lhM1ptQbY/o+IONIUP3XP31I/+uCX2ovg0T3u7bfyA+s5QXE4RY4npBGbBYAsh3X+MJ/S1\n",
       "0mzG80uYgv5BwY+HyU1ZQbl5Q+Z6vz4q/zn9ydjWYID5IAlfsvY0Zie/aJD3UDMv8QhVsB3pTusZ\n",
       "prYotMkA7MVtU8CC7g3DM2VxKtWfyGBwlPSEG3PpKmXUNQRDLVNrUe6uhWjlNSzKXmz1kP58ukdV\n",
       "A9fuwsNG9EO5DZrkIa8KkKYTfqnDZzqZUpNRdsrzVxAqwDrEMXOzO9FXe7d7Y4az19QiNU+TaKQ1\n",
       "cUbIPMBerh5eew1uNEht7HZO3i+X9syk+svjwW3Up9M8dwk+IqpS9zCr1+aAmXh6xOGqIRYeIuR7\n",
       "jnPOByp7m+52u1tgFXZAGHB3mSVsjE2XTAILgeFAQw6O13bASqQ1+tVwyC4co/lq+tYvQ45qxsuv\n",
       "pwEb3oxeZJrJSsWo5cXQZ9ybLQkgGouLs/ZaHDiGWlIF5gRDhPTCw9R7PhPh6OUpLAfsK0BEMFtg\n",
       "g0FjqVduGC/JgH2HU07/R7cathFpPXovv98cPhxIKSwAviY638QbdK0+qkORc7EyQJWaL70I6ObB\n",
       "Ysbo/9V21FcMxpZCvgdSZJOk8V9PdJ4dmQcI2xRr8tM4ifX3Y7UAmn5jC/5cZLvCsMt6PCsfvEtZ\n",
       "5xOGx7dK7t+kZiptd0OQzjTUPH9zWb9gPa3PW3aMLLtVadtz/+KBYdcOGiyJrHpU/T6qCTKHl8GS\n",
       "ZnE36g3tyCtQY9jLAwxp39GfW0DvBYllzCklXpOKT4BbsS1JYox0PV3nbtu31P/hbOhkiWju4ULH\n",
       "mbO8iGcgjgFvfhooRqMuds5wRC65XOWlsZVo1bKTJ/NdEyITu4pbY3HYAA2oSbpjhJf8s8Gko9HK\n",
       "p7snXrPEJdQ76f7rKg0BCq8BvlI+N1zUzCPCvZrfyafbskOLMTsqSwWy28VKmNAlVJXjAUyE1Ape\n",
       "iP/djrrlAuknWCoVI/h0PdTLq9wO8xV70dujsz9wKDhYJi5dG0KscOirl5ISRvoFImlRc21A7y4P\n",
       "VmS6dtoRXwD/z2R4qOfex5le0PATGDMI0YtxSmsavEsP6g9vTWs6ZiHYRhC3MufNIi2uycPGVcWt\n",
       "GpmBYcltGR7Knf0RggvWOGLwOHxkeKEF8K5udyUT312gtMF8j4i277loRNoV4zq/ym0gW4J+DjN7\n",
       "HehxlrIwnNkI5fE5yvW/+mVSC7APf3syaoB/dqemVukyfSsRgXo9gKlyV5U3ORcxyp2OJe7zZCK/\n",
       "EoeR+t3p7lokYcvwLFQtJuzv75RFkeiNMCZ+HS5NR6bQ1Jy9gG/jRwxDmgLG7EXJaI+Vb7RNdqjO\n",
       "Awo0MGx2EKYgLA96ATMOOxSiVb3G0R0H9gpaa9a/u9F/P47Oz+DE6pc8wfpby8iQ6nLLKe0fS0CD\n",
       "v6LiiF4OmBV61zhkwV9aR7CWd48CpPbhy2sWAakAAAaHbW9vdgAAAGxtdmhkAAAAAAAAAAAAAAAA\n",
       "AAAD6AAAE4gAAQAAAQAAAAAAAAAAAAAAAAEAAAAAAAAAAAAAAAAAAAABAAAAAAAAAAAAAAAAAABA\n",
       "AAAAAAAAAAAAAAAAAAAAAAAAAAAAAAAAAAAAAAAAAgAABbF0cmFrAAAAXHRraGQAAAADAAAAAAAA\n",
       "AAAAAAABAAAAAAAAE4gAAAAAAAAAAAAAAAAAAAAAAAEAAAAAAAAAAAAAAAAAAAABAAAAAAAAAAAA\n",
       "AAAAAABAAAAAAlgAAAGQAAAAAAAkZWR0cwAAABxlbHN0AAAAAAAAAAEAABOIAAAEAAABAAAAAAUp\n",
       "bWRpYQAAACBtZGhkAAAAAAAAAAAAAAAAAAAoAAAAyABVxAAAAAAALWhkbHIAAAAAAAAAAHZpZGUA\n",
       "AAAAAAAAAAAAAABWaWRlb0hhbmRsZXIAAAAE1G1pbmYAAAAUdm1oZAAAAAEAAAAAAAAAAAAAACRk\n",
       "aW5mAAAAHGRyZWYAAAAAAAAAAQAAAAx1cmwgAAAAAQAABJRzdGJsAAAAtHN0c2QAAAAAAAAAAQAA\n",
       "AKRhdmMxAAAAAAAAAAEAAAAAAAAAAAAAAAAAAAAAAlgBkABIAAAASAAAAAAAAAABAAAAAAAAAAAA\n",
       "AAAAAAAAAAAAAAAAAAAAAAAAAAAAAAAAGP//AAAAMmF2Y0MBZAAW/+EAGWdkABas2UCYM+XhAAAD\n",
       "AAEAAAMAKA8WLZYBAAZo6+PLIsAAAAAcdXVpZGtoQPJfJE/FujmlG88DI/MAAAAAAAAAGHN0dHMA\n",
       "AAAAAAAAAQAAAGQAAAIAAAAAFHN0c3MAAAAAAAAAAQAAAAEAAAHYY3R0cwAAAAAAAAA5AAAAAQAA\n",
       "BAAAAAABAAAGAAAAAAEAAAIAAAAABAAABAAAAAABAAAIAAAAAAIAAAIAAAAAAQAABAAAAAABAAAG\n",
       "AAAAAAEAAAIAAAAAAQAABAAAAAABAAAGAAAAAAEAAAIAAAAAAQAABAAAAAABAAAGAAAAAAEAAAIA\n",
       "AAAAAQAABgAAAAABAAACAAAAAAEAAAoAAAAAAQAABAAAAAABAAAAAAAAAAEAAAIAAAAAAgAABAAA\n",
       "AAABAAAGAAAAAAEAAAIAAAAABgAABAAAAAABAAAGAAAAAAEAAAIAAAAAAwAABAAAAAABAAAGAAAA\n",
       "AAEAAAIAAAAAAgAABAAAAAABAAAIAAAAAAIAAAIAAAAACQAABAAAAAABAAAGAAAAAAEAAAIAAAAA\n",
       "AQAABgAAAAABAAACAAAAAAQAAAQAAAAAAQAACgAAAAABAAAEAAAAAAEAAAAAAAAAAQAAAgAAAAAB\n",
       "AAAGAAAAAAEAAAIAAAAABQAABAAAAAABAAAGAAAAAAEAAAIAAAAABwAABAAAAAABAAAKAAAAAAEA\n",
       "AAQAAAAAAQAAAAAAAAABAAACAAAAAAUAAAQAAAAAAQAABgAAAAABAAACAAAAAAUAAAQAAAAAHHN0\n",
       "c2MAAAAAAAAAAQAAAAEAAABkAAAAAQAAAaRzdHN6AAAAAAAAAAAAAABkAABioQAACt8AAALdAAAL\n",
       "tQAAC5gAAA3HAAAOTgAADfIAAAfiAAAEpgAACmoAAA8OAAAGQAAADI0AAA5qAAAFZQAAChEAAAzm\n",
       "AAAG+QAAD6IAAAa5AAAPkwAACWUAAAX+AAAEjQAAC/cAAAnEAAAO9wAABjUAAAsYAAAKLgAAC2gA\n",
       "AAvyAAAKfwAADEUAAA7iAAAF4gAAC04AAAs/AAAK5wAADwsAAAaFAAAL4QAACyUAAA+tAAAGPAAA\n",
       "BgcAAAotAAALKAAACtcAAAkfAAAIiwAACEAAAAgDAAAKcQAACMEAAA0KAAAF2QAADeQAAAaYAAAL\n",
       "hgAADh8AAA1FAAAOJAAADnUAAAdtAAAFxwAAA+gAAAyIAAAGiAAACs0AAAzvAAANSgAADqUAAAoV\n",
       "AAAMRwAABMQAAAo+AAAJowAACm0AAAxVAAAMgQAADDUAAA0WAAAORAAAB2EAAAT0AAAFdQAACtEA\n",
       "AAuSAAANTQAAC40AAArYAAAJ4AAABYYAAAkMAAAJJQAACOwAAAmVAAAISQAAABRzdGNvAAAAAAAA\n",
       "AAEAAAAsAAAAYnVkdGEAAABabWV0YQAAAAAAAAAhaGRscgAAAAAAAAAAbWRpcmFwcGwAAAAAAAAA\n",
       "AAAAAAAtaWxzdAAAACWpdG9vAAAAHWRhdGEAAAABAAAAAExhdmY1Ny41Ni4xMDE=\n",
       "\">\n",
       "  Your browser does not support the video tag.\n",
       "</video>"
      ],
      "text/plain": [
       "<IPython.core.display.HTML object>"
      ]
     },
     "execution_count": 628,
     "metadata": {},
     "output_type": "execute_result"
    }
   ],
   "source": [
    "ani = animation.ArtistAnimation(fig, imagelist, interval=50, blit=True, repeat_delay=1000)\n",
    "plt.close()\n",
    "\n",
    "# Show the animation\n",
    "HTML(ani.to_html5_video())"
   ]
  },
  {
   "cell_type": "code",
   "execution_count": 484,
   "metadata": {
    "collapsed": true,
    "slideshow": {
     "slide_type": "skip"
    }
   },
   "outputs": [],
   "source": [
    "# Save the animation\n",
    "ani.save('masses_for_{0:02d}_modes.mp4'.format(N))"
   ]
  },
  {
   "cell_type": "markdown",
   "metadata": {
    "slideshow": {
     "slide_type": "skip"
    }
   },
   "source": [
    "The last command saves the animation as a ```.mp4``` video file. I saved a few and uploaded them onto the Portal."
   ]
  },
  {
   "cell_type": "markdown",
   "metadata": {},
   "source": [
    "A few comments.\n",
    "You are not required to remember them at this point, but you will later on in this lecture series on waves and oscillations, so might as well start early.\n",
    "\n",
    "* For some modes, some masses don't move, or hardly at all. Likewise, some masses move symmetrically around points that would be associated with zero velocity if they had a mass on them. Such points are called \"nodes\". In-between nodes are locations where the velocities seem larger. These points are called \"antinodes\". We will be able to visualize them better with waves on a string.\n",
    "* The distance between two nodes corresponds to half a wavelength: every two nodes, the motion is periodic (spatial periodicity).\n",
    "* The larger the mode number (or the frequency) is, the more nodes there are, or equivalently, the shorter the wavelengths are. As a matter of fact, the first mode has zero nodes, the second mode has one node, and the $n^{th}$ has $n-1$ nodes. This is a general feature of standing waves, again better visualized with waves on a string.\n",
    "* Modes with more nodes are called \"higher modes\", those with less nodes are called \"low\", or \"grave\". The terminology comes from sound waves. Sound waves with larger wavelengths sound indeed graver (lower frequency) than sound waves with smaller wavelengths (higher frequencies)."
   ]
  },
  {
   "cell_type": "markdown",
   "metadata": {
    "slideshow": {
     "slide_type": "skip"
    }
   },
   "source": [
    "# Expectations"
   ]
  },
  {
   "cell_type": "markdown",
   "metadata": {
    "slideshow": {
     "slide_type": "skip"
    }
   },
   "source": [
    "## Remember\n",
    "\n",
    "* a normal mode of oscillation is when all of the components of a coupled system of oscillators oscillate at the same frequency. It is an object that is shared globally, by *all* of the components of the oscillator;\n",
    "* that the modes are completely independent when the system is linear; they all have their own quantity of energy;\n",
    "* the definitions of eigenfrequencies, eigenmodes, eigencoordinates. And that the 'eigen' prefix is equivalent to replacing it with the word 'normal';\n",
    "* in the case of an initial value problen, and as for any second-order system, the future evolution of the system can be predicted if one knows all of its physical characteristics (for pendulums, that would be masses, stiffness(es), lengths and gravitational acceleration), the initial positions of each element of the system, and their initial velocities;\n",
    "* any solution of an initial value problem (IVP) can be written as a linear combination of the $n$ eigenmodes."
   ]
  },
  {
   "cell_type": "markdown",
   "metadata": {
    "slideshow": {
     "slide_type": "skip"
    }
   },
   "source": [
    "## Understand\n",
    "\n",
    "* how results from linear algebra translate into solving the free oscillations of coupled systems of oscillators;\n",
    "* what the process of beating is;\n",
    "* what a degree of freedom is;\n",
    "* how projecting can help solving IVPs faster."
   ]
  },
  {
   "cell_type": "markdown",
   "metadata": {
    "slideshow": {
     "slide_type": "skip"
    }
   },
   "source": [
    "## Apply\n",
    "\n",
    "* a systematic approach to retrieve all of the eigen-stuff is to solve an eigenvalue/vector problem. Remember how to cast the equations of motion into a matrix equation, and how to proceed to find all of the eigen-stuff (solve for the roots of the determinant, replace $\\omega$ by $\\omega_n$ to find the eigenvectors, maybe normalize).\n",
    "* how to use initial conditions to completely solve an initial value problem;\n",
    "* how to use projections to solve IVPs.\n",
    "\n",
    "I am probably forgetting a lot more.\n",
    "See worked examples, tutorials and problem sets."
   ]
  },
  {
   "cell_type": "code",
   "execution_count": null,
   "metadata": {
    "collapsed": true
   },
   "outputs": [],
   "source": []
  }
 ],
 "metadata": {
  "anaconda-cloud": {},
  "celltoolbar": "Slideshow",
  "kernelspec": {
   "display_name": "Python [default]",
   "language": "python",
   "name": "python3"
  },
  "language_info": {
   "codemirror_mode": {
    "name": "ipython",
    "version": 3
   },
   "file_extension": ".py",
   "mimetype": "text/x-python",
   "name": "python",
   "nbconvert_exporter": "python",
   "pygments_lexer": "ipython3",
   "version": "3.5.2"
  }
 },
 "nbformat": 4,
 "nbformat_minor": 1
}
