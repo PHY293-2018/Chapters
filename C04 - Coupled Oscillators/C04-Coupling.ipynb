{
 "cells": [
  {
   "cell_type": "raw",
   "metadata": {
    "raw_mimetype": "text/latex",
    "scrolled": true,
    "slideshow": {
     "slide_type": "skip"
    }
   },
   "source": [
    "\\newcommand{\\rads}{~rad.s$^{-1}$}\n",
    "\\newcommand{\\bnabla}{\\boldsymbol{\\nabla}}\n",
    "\\newcommand{\\eexp}[1]{\\textrm{e}^{#1}}\n",
    "\\newcommand{\\glm}[1]{\\overline{#1}^L}\n",
    "\\newcommand{\\di}[0]{\\textrm{d}}\n",
    "\\newcommand{\\bs}[1]{\\boldsymbol{#1}}\n",
    "\\newcommand{\\ode}[2]{\\frac{\\di {#1}}{\\di {#2}}}\n",
    "\\newcommand{\\oden}[3]{\\frac{\\di^{#1} {#2}}{\\di {#3}^{#1}}}\n",
    "\\newcommand{\\odel}[2]{\\di {#1}/\\di {#2}}\n",
    "\\newcommand{\\odeln}[3]{\\di^{#1} {#2}/\\di {#3}^{#1}}\n",
    "\\newcommand{\\pde}[2]{\\frac{\\partial {#1}}{\\partial {#2}}}\n",
    "\\newcommand{\\pden}[3]{\\frac{\\partial^{#1} {#2}}{\\partial {#3}^{#1}}}\n",
    "\\newcommand{\\pdel}[2]{\\partial_{#2} {#1}}\n",
    "\\newcommand{\\pdenl}[3]{\\partial^{#1}_{#3} {#2}}\n",
    "\\newcommand{\\divr}[1]{\\vec\\nabla \\cdot {#1}}\n",
    "\\newcommand{\\divrb}[1]{\\boldsymbol{\\nabla} \\cdot {#1}}\n",
    "\\newcommand{\\grad}[1]{\\vec \\nabla {#1}}\n",
    "\\newcommand{\\gradb}[1]{\\boldsymbol\\nabla {#1}}\n",
    "\\newcommand{\\curl}[1]{\\vec\\nabla \\times {#1}}\n",
    "\\newcommand{\\curlb}[1]{\\boldsymbol{\\nabla}\\times\\boldsymbol{#1}}\n",
    "\\newcommand{\\lapl}[0]{\\vec\\nabla^2}\n",
    "\\newcommand{\\laplb}[0]{\\boldsymbol{\\nabla}^2}\n",
    "\\newcommand{\\cplxi}[0]{\\mathrm i}\n",
    "\\newcommand{\\unit}[1]{\\mathbf{\\hat{#1}}}\n",
    "\\newcommand{\\thrfor}[0]{\\quad\\Rightarrow\\quad}\n",
    "\\newcommand{\\and}[0]{\\quad\\textrm{and}\\quad}\n",
    "\\newcommand{\\oreq}[0]{\\quad\\textrm{or}\\quad}\n",
    "\\newcommand{\\red}[1]{\\textcolor{red}{#1}}\n",
    "\\newcommand{\\blue}[1]{\\textcolor{blue}{#1}}\n",
    "\\newcommand{\\mage}[1]{\\textcolor{magenta}{#1}}\n",
    "\\newcommand{\\stirling}[2]{\\genfrac{[}{]}{0pt}{}{#1}{#2}}"
   ]
  },
  {
   "cell_type": "raw",
   "metadata": {
    "raw_mimetype": "text/latex",
    "slideshow": {
     "slide_type": "skip"
    }
   },
   "source": [
    "\\DefineVerbatimEnvironment{Verbatim}{Verbatim}{fontsize=\\scriptsize}"
   ]
  },
  {
   "cell_type": "markdown",
   "metadata": {
    "slideshow": {
     "slide_type": "skip"
    }
   },
   "source": [
    "$\\newcommand{\\rads}{~rad.s$^{-1}$}$\n",
    "$\\newcommand{\\bnabla}{\\boldsymbol{\\nabla}}$\n",
    "$\\newcommand{\\eexp}[1]{\\textrm{e}^{#1}}$\n",
    "$\\newcommand{\\glm}[1]{\\overline{#1}^L}$\n",
    "$\\newcommand{\\di}[0]{\\textrm{d}}$\n",
    "$\\newcommand{\\bs}[1]{\\boldsymbol{#1}}$\n",
    "$\\newcommand{\\ode}[2]{\\frac{\\di {#1}}{\\di {#2}}}$\n",
    "$\\newcommand{\\oden}[3]{\\frac{\\di^{#1} {#2}}{\\di {#3}^{#1}}}$\n",
    "$\\newcommand{\\odel}[2]{\\di {#1}/\\di {#2}}$\n",
    "$\\newcommand{\\odeln}[3]{\\di^{#1} {#2}/\\di {#3}^{#1}}$\n",
    "$\\newcommand{\\pde}[2]{\\frac{\\partial {#1}}{\\partial {#2}}}$\n",
    "$\\newcommand{\\pden}[3]{\\frac{\\partial^{#1} {#2}}{\\partial {#3}^{#1}}}$\n",
    "$\\newcommand{\\pdel}[2]{\\partial_{#2} {#1}}$\n",
    "$\\newcommand{\\pdenl}[3]{\\partial^{#1}_{#3} {#2}}$\n",
    "$\\newcommand{\\mde}[1]{\\frac{\\textrm{D} {#1}}{\\textrm{D} t}}$\n",
    "$\\newcommand{\\mdel}[1]{\\textrm{D}_t {#1}}$\n",
    "$\\newcommand{\\divr}[1]{\\vec\\nabla \\cdot {#1}}$\n",
    "$\\newcommand{\\divrb}[1]{\\boldsymbol{\\nabla} \\cdot {#1}}$\n",
    "$\\newcommand{\\grad}[1]{\\vec \\nabla {#1}}$\n",
    "$\\newcommand{\\gradb}[1]{\\boldsymbol\\nabla {#1}}$\n",
    "$\\newcommand{\\curl}[1]{\\vec\\nabla \\times {#1}}$\n",
    "$\\newcommand{\\curlb}[1]{\\boldsymbol{\\nabla}\\times\\boldsymbol{#1}}$\n",
    "$\\newcommand{\\lapl}[0]{\\vec\\nabla^2}$\n",
    "$\\newcommand{\\laplb}[0]{\\boldsymbol{\\nabla}^2}$\n",
    "$\\newcommand{\\cplxi}[0]{\\mathrm i}$\n",
    "$\\newcommand{\\unit}[1]{\\mathbf{\\hat{#1}}}$\n",
    "$\\newcommand{\\thrfor}[0]{\\quad\\Rightarrow\\quad}$\n",
    "$\\newcommand{\\and}[0]{\\quad\\textrm{and}\\quad}$\n",
    "$\\newcommand{\\oreq}[0]{\\quad\\textrm{or}\\quad}$\n",
    "$\\newcommand{\\red}[1]{\\textcolor{red}{#1}}$\n",
    "$\\newcommand{\\blue}[1]{\\textcolor{blue}{#1}}$\n",
    "$\\newcommand{\\mage}[1]{\\textcolor{magenta}{#1}}$\n",
    "$\\newcommand{\\stirling}[2]{\\genfrac{[}{]}{0pt}{}{#1}{#2}}$"
   ]
  },
  {
   "cell_type": "code",
   "execution_count": 87,
   "metadata": {
    "raw_mimetype": "text/x-python",
    "slideshow": {
     "slide_type": "skip"
    }
   },
   "outputs": [],
   "source": [
    "from IPython.display import Image, display"
   ]
  },
  {
   "cell_type": "markdown",
   "metadata": {
    "slideshow": {
     "slide_type": "skip"
    }
   },
   "source": [
    "*[Book: chapter 4; I will go off-script when talking about eigenvalues and eigenvectors.]*"
   ]
  },
  {
   "cell_type": "markdown",
   "metadata": {
    "slideshow": {
     "slide_type": "skip"
    }
   },
   "source": [
    "# Introduction"
   ]
  },
  {
   "cell_type": "markdown",
   "metadata": {
    "slideshow": {
     "slide_type": "skip"
    }
   },
   "source": [
    "This chapter is a pivotal chapter in this lecture series, and from past experience, one of the most challenging as well.\n",
    "It makes the transition between the behaviour of simple oscillators and wave behaviour.\n",
    "However, these two things look very, very different.\n",
    "Where does the connection happen?"
   ]
  },
  {
   "cell_type": "markdown",
   "metadata": {
    "slideshow": {
     "slide_type": "skip"
    }
   },
   "source": [
    "Here is the pivot, and pretty much the goal of this chapter: when two oscillators are coupled, i.e., the motion of one oscillator is influenced by the motion of the other, any motion that ensues can be thought of as a linear combination of two orthogonal types of motion.\n",
    "The features of these orthogonal types of motion can be found by solving for the eigenmodes of the matrix, corresponding to the $2\\times2$ linear system of equations of the two oscillators.\n",
    "Each orthogonal mode of motion evolves independently, and its evolution equation is that of a simple harmonic oscillator.\n",
    "Physically, the most visible manifestation of one single mode of motion is that all parts of the coupled system of oscillators oscillate at the same frequency, while a different mode will have those parts oscillate at different frequencies."
   ]
  },
  {
   "cell_type": "markdown",
   "metadata": {
    "slideshow": {
     "slide_type": "skip"
    }
   },
   "source": [
    "If now an infinite number of oscillators are coupled, the number of orthogonal modes of motions are not to the number of two, but are infinite.\n",
    "This model can be thought of as a model for a continuous medium, in which waves can propagate.\n",
    "The superposition of this infinite number of modes can lead to an infinite number of patterns that propagate: waves.\n",
    "Once again, each of these modes satisfies the same equation as that of a simple harmonic oscillator."
   ]
  },
  {
   "cell_type": "markdown",
   "metadata": {
    "slideshow": {
     "slide_type": "skip"
    }
   },
   "source": [
    "It is the circle of life, PHY293-style: from oscillators to waves, and back to oscillators.\n",
    "Hopefully, by the end of my lecture series, you will have started to understand this concept.\n",
    "It takes years to fully grasp."
   ]
  },
  {
   "cell_type": "markdown",
   "metadata": {
    "slideshow": {
     "slide_type": "skip"
    }
   },
   "source": [
    "Finally, throughout the chapter, and in order to simplify the presentation, we neglect damping unless otherwise stated."
   ]
  },
  {
   "cell_type": "markdown",
   "metadata": {
    "slideshow": {
     "slide_type": "skip"
    }
   },
   "source": [
    "# Expectations"
   ]
  },
  {
   "cell_type": "markdown",
   "metadata": {
    "slideshow": {
     "slide_type": "skip"
    }
   },
   "source": [
    "## Remember\n",
    "\n",
    "* a normal mode of oscillation is when all of the components of a coupled system of oscillators oscillate at the same frequency. It is an object that is shared globally, by *all* of the components of the oscillator;\n",
    "* that the modes are completely independent when the system is linear; they all have their own quantity of energy;\n",
    "* the definitions of eigenfrequencies, eigenmodes, eigencoordinates. And that the 'eigen' prefix is equivalent to replacing it with the word 'normal';\n",
    "* the determinant of a $2\\times2$ matrix.\n",
    "* in the case of an initial value problen, and as for any second-order system, the future evolution of the system can be predicted if one knows all of its physical characteristics (for pendulums, that would be masses, stiffness(es), lengths and gravitational acceleration), the initial positions of each element of the system, and their initial velocities;\n",
    "* any solution of an initial value problem (IVP) can be written as a linear combination of the $n$ eigenmodes."
   ]
  },
  {
   "cell_type": "markdown",
   "metadata": {
    "slideshow": {
     "slide_type": "skip"
    }
   },
   "source": [
    "## Understand\n",
    "\n",
    "* how results from linear algebra translate into solving the free oscillations of coupled systems of oscillators;\n",
    "* what the process of beating is;\n",
    "* what a degree of freedom is;\n",
    "* how projecting can help solving IVPs faster."
   ]
  },
  {
   "cell_type": "markdown",
   "metadata": {
    "slideshow": {
     "slide_type": "skip"
    }
   },
   "source": [
    "## Apply\n",
    "\n",
    "* a systematic approach to retrieve all of the eigen-stuff is to solve an eigenvalue/vector problem. Remember how to cast the equations of motion into a matrix equation, and how to proceed to find all of the eigen-stuff (solve for the roots of the determinant, replace $\\omega$ by $\\omega_n$ to find the eigenvectors, maybe normalize).\n",
    "* how to use initial conditions to completely solve an initial value problem;\n",
    "* how to use projections to solve IVPs.\n",
    "\n",
    "I am probably forgetting a lot more.\n",
    "See worked examples, tutorials and problem sets."
   ]
  },
  {
   "cell_type": "markdown",
   "metadata": {
    "slideshow": {
     "slide_type": "skip"
    }
   },
   "source": [
    "# Coupled Pendulums"
   ]
  },
  {
   "cell_type": "markdown",
   "metadata": {
    "slideshow": {
     "slide_type": "skip"
    }
   },
   "source": [
    "## Simple Pendulum\n",
    "\n",
    "You have seen in the first problem set that the equation of motion of one undamped pendulum of length $l$ is \n",
    "$$ \\ddot \\theta + \\omega_p^2\\theta = 0,$$ \n",
    "with $\\omega^2_p = g/l$ and $\\theta$ is the angle of the pendulum with respect to the direction of gravity (See King fig. 1.15)."
   ]
  },
  {
   "cell_type": "markdown",
   "metadata": {
    "slideshow": {
     "slide_type": "skip"
    }
   },
   "source": [
    "![Fig. 1: King 1.15](SimplePendulum.png)"
   ]
  },
  {
   "cell_type": "markdown",
   "metadata": {
    "slideshow": {
     "slide_type": "skip"
    }
   },
   "source": [
    "Let $x$ be the distance of the mass from the vertical axis (see King fig. 1.15).\n",
    "We have $x = l \\sin\\theta$.\n",
    "In order for the SHO model to be valid, we need the oscillations to remain small, i.e., $\\theta \\ll 1$ or $\\forall t,\\ x(t) \\ll l$.\n",
    "In this case, $\\sin\\theta \\approx \\theta$, meaning that an equivalent equation of motion for the mass is\n",
    "$$ \\ddot x + \\omega_p^2 x = 0. $$"
   ]
  },
  {
   "cell_type": "markdown",
   "metadata": {
    "slideshow": {
     "slide_type": "skip"
    }
   },
   "source": [
    "## Two Pendulums and a Spring\n",
    "\n",
    "### Qualitative considerations\n",
    "\n",
    "#### Setup\n",
    "\n",
    "Let me use the example of two pendulums of identical lengths $l$, at the end of which two identical masses $m$ hang.\n",
    "The masses are attached via a spring of stiffness $k$, as shown on King fig. 4.2. \n",
    "When the two masses are at rest, both pendulums are vertical, and the spring is not stretched nor compressed.\n",
    "\n",
    "![Fig. 2: King 4.2](CoupledPendula.png)"
   ]
  },
  {
   "cell_type": "markdown",
   "metadata": {
    "slideshow": {
     "slide_type": "skip"
    }
   },
   "source": [
    "Let's call $B$ the mass on the left, and $A$ the mass on the right.\n",
    "$x_A$ and $x_B$ are the horizontal distances of each mass from their respective rest positions."
   ]
  },
  {
   "cell_type": "markdown",
   "metadata": {
    "slideshow": {
     "slide_type": "skip"
    }
   },
   "source": [
    "I will show how a systematic mathematical treatment of the equations of motion reveals that there are two \"natural\", i.e., normal, modes of motion.\n",
    "But first, let me introduce them qualitatively."
   ]
  },
  {
   "cell_type": "markdown",
   "metadata": {
    "slideshow": {
     "slide_type": "skip"
    }
   },
   "source": [
    "#### Antisymmetric Normal Mode"
   ]
  },
  {
   "cell_type": "markdown",
   "metadata": {
    "slideshow": {
     "slide_type": "skip"
    }
   },
   "source": [
    "![Fig. 3: the antisymmetric normal mode](pendulum_syn.gif)"
   ]
  },
  {
   "cell_type": "markdown",
   "metadata": {
    "slideshow": {
     "slide_type": "skip"
    }
   },
   "source": [
    "Imagine that at $t=0$, $x_{A0} = x_{B0} = A$, and both masses are held steady initially (no initial velocity).\n",
    "Since the motion of both masses is initialized in the same way, and both pendulums have the same natural frequency $g/l$, they would naturally oscillate in perfect sync, with same amplitude and in phase:\n",
    "$$ x_A(t) = x_B(t) = A\\cos(\\omega_0 t). $$"
   ]
  },
  {
   "cell_type": "markdown",
   "metadata": {
    "slideshow": {
     "slide_type": "skip"
    }
   },
   "source": [
    "The spring is neither stretched or compressed, and therefore plays no role in this motion.\n",
    "Here is why this mode of motion is what we call a normal mode:\n",
    "**all elements of the coupled system oscillate at the same frequency**, $\\omega_0$ here."
   ]
  },
  {
   "cell_type": "markdown",
   "metadata": {
    "slideshow": {
     "slide_type": "skip"
    }
   },
   "source": [
    "#### Symmetric Normal Mode"
   ]
  },
  {
   "cell_type": "markdown",
   "metadata": {
    "slideshow": {
     "slide_type": "skip"
    }
   },
   "source": [
    "![Fig. 4: the symmetric normal mode](pendulum_asyn.gif)"
   ]
  },
  {
   "cell_type": "markdown",
   "metadata": {
    "slideshow": {
     "slide_type": "skip"
    }
   },
   "source": [
    "We can come up with another type of motion, for which each mass will oscillate sinusoidally with a well-defined frequency."
   ]
  },
  {
   "cell_type": "markdown",
   "metadata": {
    "slideshow": {
     "slide_type": "skip"
    }
   },
   "source": [
    "Our initial conditions are now $x_{A0} = -x_{B0} = A$, with zero initial velocity again. By symmetry, one can expect that the motion is now described by \n",
    "$$ x_A(t) = A\\cos(\\omega_2 t)\\quad\\textrm{and}\\quad x_{B}(t) = A\\cos(\\omega_2 t +\\pi). $$"
   ]
  },
  {
   "cell_type": "markdown",
   "metadata": {
    "slideshow": {
     "slide_type": "skip"
    }
   },
   "source": [
    "I.e., both positions will oscillate $\\pi$ rad (or 180$^o$) out of phase, and with a single angular frequency $\\omega_2$.\n",
    "What $\\omega_2$ is, is not trivial at this point, because it will include effects due to both restoring forces, i.e., weight and the spring tension.\n",
    "I will derive it soon after, but at this point, I want you to remember that the type of motion is a normal mode because **both pendulums oscillate at the same frequency.**"
   ]
  },
  {
   "cell_type": "markdown",
   "metadata": {
    "slideshow": {
     "slide_type": "skip"
    }
   },
   "source": [
    "Could I find a third normal mode?\n",
    "The answer is no, because there are only two degrees of freedom (the positions of the masses).\n",
    "Is it obvious?\n",
    "Again, the answer is no.\n",
    "The definitive proof is a basic result of linear algebra.\n",
    "In this chapter, I will simply show that these forms of motion appear naturally out of the equations of motion, that no other normal mode is apparent, and that any other form of motion can be described as a linear combination of both forms of motion."
   ]
  },
  {
   "cell_type": "markdown",
   "metadata": {
    "slideshow": {
     "slide_type": "skip"
    }
   },
   "source": [
    "### Systematic Derivation"
   ]
  },
  {
   "cell_type": "markdown",
   "metadata": {
    "slideshow": {
     "slide_type": "skip"
    }
   },
   "source": [
    "![Fig. 5: King 4.7: the general case](GeneralPendulums.png)"
   ]
  },
  {
   "cell_type": "markdown",
   "metadata": {
    "slideshow": {
     "slide_type": "skip"
    }
   },
   "source": [
    "#### Basic equations\n",
    "\n",
    "Let us now drop any symmetry assumption.\n",
    "The positions $x_A(t)$ and $x_B(t)$ are just what they are."
   ]
  },
  {
   "cell_type": "markdown",
   "metadata": {
    "slideshow": {
     "slide_type": "skip"
    }
   },
   "source": [
    "Let us first focus on mass $A$.\n",
    "The weight of $A$ projected on the direction of the velocity is $F_{WA} = -mg x_A/l$ (see Problem Set 1).\n",
    "The force of the spring on the mass is $F_{s\\to A} = -k(x_A - x_B)$.\n",
    "Strictly speaking, this force is aligned with the direction of the spring, but if the angles of displacement are small, we can also say that its projection on the direction of the trajectory is the same."
   ]
  },
  {
   "cell_type": "markdown",
   "metadata": {
    "slideshow": {
     "slide_type": "skip"
    }
   },
   "source": [
    "Newton's 2$^{nd}$ law applied to the mass is therefore \n",
    "$$ m\\ddot x_A + \\frac{mg}{l}x_A + k(x_A - x_B) = 0,$$\n",
    "or, after division by $m$,\n",
    "$$ \\ddot x_A + \\omega_p^2 x_A + \\omega_s^2(x_A - x_B) = 0, \\hspace{5cm} (1) $$\n",
    "with $\\omega_s^2 = k/m$ (recall that $\\omega_p^2 = g/l$).\n",
    "\n",
    "The same reasoning with mass $B$ yields\n",
    "$$ \\ddot x_B + \\omega_p^2x_B + \\omega_s^2(x_B - x_A) = 0. \\hspace{5cm} (2) $$"
   ]
  },
  {
   "cell_type": "markdown",
   "metadata": {
    "slideshow": {
     "slide_type": "skip"
    }
   },
   "source": [
    "Both equations are almost the same, except for the terms that result from the spring tension, which couples the motion of both masses."
   ]
  },
  {
   "cell_type": "markdown",
   "metadata": {
    "slideshow": {
     "slide_type": "skip"
    }
   },
   "source": [
    "#### Change of variables"
   ]
  },
  {
   "cell_type": "markdown",
   "metadata": {
    "slideshow": {
     "slide_type": "skip"
    }
   },
   "source": [
    "It is not obvious at first, how to solve for $x_A$ and $x_B$ with this coupling term involved.\n",
    "The method we use is a **change of variables.**\n",
    "Define\n",
    "$$ q_1 = x_A + x_B \\and q_2 = x_A - x_B.$$"
   ]
  },
  {
   "cell_type": "markdown",
   "metadata": {
    "slideshow": {
     "slide_type": "skip"
    }
   },
   "source": [
    "One simple way to make them appear is to sum and subtract eqns. (1) and (2):\n",
    "\n",
    "* $(1) + (2) \\quad\\Rightarrow\\quad \\ddot q_1 + \\omega_1^2 q_1 = 0$."
   ]
  },
  {
   "cell_type": "markdown",
   "metadata": {
    "slideshow": {
     "slide_type": "skip"
    }
   },
   "source": [
    "This is the equation for an SHO of angular frequency $\\omega_1 = \\omega_p$.\n",
    "The antisymmetric mode of motion that I described earlier on was also oscillating at frequency $\\omega_p$, because the spring wasn't stretching or compressing, and the presence of said string was not modifying the pendulum natural frequency $\\omega_p$.\n",
    "And since it was characterized by $x_A(t) = x_B(t)$, it corresponded to $q_1 = 2x_A = 2x_B \\neq 0$ and $q_2 = 0$."
   ]
  },
  {
   "cell_type": "markdown",
   "metadata": {
    "slideshow": {
     "slide_type": "skip"
    }
   },
   "source": [
    "*Note: why do I feel the need to introduce $\\omega_1$ on top of $\\omega_p$? Because in general, no frequency of the normal modes is equal to one of the frequencies of the uncoupled oscillators. In this simple case, yes, but I do not want to give false impressions.*"
   ]
  },
  {
   "cell_type": "markdown",
   "metadata": {
    "slideshow": {
     "slide_type": "skip"
    }
   },
   "source": [
    "* $(1) - (2) \\quad\\Rightarrow\\quad \\ddot q_2 + \\omega_p^2 q_2 + 2\\omega_s^2 q_2 = 0.$\n",
    "\n",
    "Or, defining $\\omega_2^2 = \\omega_p^2 + 2\\omega_s^2$,\n",
    "$$ \\ddot q_2 + \\omega_2^2 q_2 = 0. $$\n",
    "Recall the symmetric oscillation mode: it was characterized by $x_A = -x_B$, and therefore $q_1 = 0$ and $q_2 = 2x_A = -2x_B \\neq 0.$\n",
    "I had also mentioned, back then, that $\\omega_2^2$ was not trivial, because it was a mix of the influences of gravity and spring tension.\n",
    "Indeed, here, $\\omega_2$ does contain both the influences of gravity (via $\\omega_p^2$) and spring tension (via $2\\omega_s^2$).\n",
    "Therefore, this mode corresponds to the antisymmetric mode of motion."
   ]
  },
  {
   "cell_type": "markdown",
   "metadata": {
    "slideshow": {
     "slide_type": "skip"
    }
   },
   "source": [
    "#### Comments (to be remembered!)"
   ]
  },
  {
   "cell_type": "markdown",
   "metadata": {
    "slideshow": {
     "slide_type": "skip"
    }
   },
   "source": [
    "* Modes of oscillations cannot be thought on as simple oscillations anymore, with one object or easily identifiable quantity such as electric current describing an oscillation. It is a **global** concept in which **all** components of one coupled system of oscillators oscillate in phase, at the same frequency, as if described by a (D)SHO model.\n",
    "* The oscillations of each individual component are not independent from each other, but **the modes are completely independent**: there is no trace of $q_1$ in the equation for $q_2$, and vice-versa. It means that if one initiates the coupled system in a funky way, and the coupled system does a weird dance of oscillations, the degree of complexity is actually finite: one mode has a certain amplitude and a certain phase, and the other mode has a certain amplitude, presumably different, and a certain phase shift with the first mode. The pattern of oscillations might look crazy, but there are only two modes, and they don't exchange energy from one to the other as long as the system is linear.\n",
    "* $q_1$ and $q_2$ are called the **normal coordinates**, or **eigencoordinates**, of the **normal modes**, or **eigenmodes**. Their respective **normal frequencies**, or **eigenfrequencies**, are $\\omega_1$ and $\\omega_2$."
   ]
  },
  {
   "cell_type": "markdown",
   "metadata": {
    "slideshow": {
     "slide_type": "skip"
    }
   },
   "source": [
    "It is as if there is a physical space, in which physical coordinates $x_A$ and $x_B$ exist, and a dual space, in which $q_1$ and $q_2$ exist.\n",
    "Both spaces describe the same physical reality, but because they don't describe it in the same way, the \"dual\" space may be more useful in some cases, including this one."
   ]
  },
  {
   "cell_type": "markdown",
   "metadata": {
    "slideshow": {
     "slide_type": "skip"
    }
   },
   "source": [
    "When you start studying Fourier series and later on Fourier analysis, you may call this dual space the \"Fourier\" space, or \"spectral\" space.\n",
    "It has nothing to do with Halloween, and everything to do with the fact that the visualization of the physical reality in this dual space is called a (Fourier) spectrum, which looks like the display on a sound equalizer (and it is not a coincidence).\n",
    "I may use the term \"Fourier\" inadvertently, by sheer force of habit."
   ]
  },
  {
   "cell_type": "markdown",
   "metadata": {
    "slideshow": {
     "slide_type": "skip"
    }
   },
   "source": [
    "### More on the Independence of the Modes"
   ]
  },
  {
   "cell_type": "markdown",
   "metadata": {
    "slideshow": {
     "slide_type": "skip"
    }
   },
   "source": [
    "A bit more algebra, because I want to drive home the fact that the two modes are independent.\n",
    "If the coupled system is initiated somewhat randomly, both modes of oscillation will coexist.\n",
    "They both are solutions of two different SHO equations, and their expressions are therefore\n",
    "$$q_1 = C_1\\cos(\\omega_1 t + \\phi_1)\\and q_2 = C_2\\cos(\\omega_2 t + \\phi_2).$$"
   ]
  },
  {
   "cell_type": "markdown",
   "metadata": {
    "slideshow": {
     "slide_type": "skip"
    }
   },
   "source": [
    "In physical coordinates, this translates into\n",
    "$$ x_A = \\frac{q_1 + q_2}2 = \\frac12\\left[C_1\\cos(\\omega_1 t + \\phi_1) + C_2\\cos(\\omega_2 t + \\phi_2) \\right],$$\n",
    "$$ x_B = \\frac{q_1 - q_2}2 = \\frac12\\left[C_1\\cos(\\omega_1 t + \\phi_1) - C_2\\cos(\\omega_2 t + \\phi_2) \\right].$$"
   ]
  },
  {
   "cell_type": "markdown",
   "metadata": {
    "slideshow": {
     "slide_type": "skip"
    }
   },
   "source": [
    "Meaning that any motion can be considered a superposition of the two modes.\n",
    "For the motion of the antisymmetric mode, $C_2 = 0$, for the symmetric mode, $C_1 = 0$, and in general, $C_1\\neq 0$ and $C_2\\neq 0$."
   ]
  },
  {
   "cell_type": "markdown",
   "metadata": {
    "slideshow": {
     "slide_type": "skip"
    }
   },
   "source": [
    "Here I show that the two modes each have a certain amount of energy, and that this energy does not get traded from one mode to the other.\n",
    "The kinetic energies of $A$ and $B$ are \n",
    "$$ K_{A, B} = \\frac12 m(\\dot x_{A, B})^2, $$\n",
    "their gravitational potential energies are\n",
    "$$ U^{(g)}_{A, B} = \\frac12\\frac{mgx_{A, B}^2}{l} = \\frac12 m\\omega_p^2 x_{A, B}^2 \\quad\\textrm{(see PS1 or King § 1.3.2)}, $$"
   ]
  },
  {
   "cell_type": "markdown",
   "metadata": {
    "slideshow": {
     "slide_type": "skip"
    }
   },
   "source": [
    "and the potential energy stored in the spring is\n",
    "$$ U^{(s)}  = \\frac12 k (x_A - x_B)^2 = \\frac12 m\\omega_s^2 (x_A - x_B)^2.$$ "
   ]
  },
  {
   "cell_type": "markdown",
   "metadata": {
    "slideshow": {
     "slide_type": "skip"
    }
   },
   "source": [
    "The total energy stored in the coupled system is therefore\n",
    "\\begin{align*}\n",
    "    E & = K_A + K_B + U^{(g)}_A + U^{(g)}_B + U^{(s)}, \\\\ \n",
    "      & = \\frac m2\\left\\{(\\dot x_A)^2 + (\\dot x_B)^2 + \\omega_p^2 \\left[x_A^2 + x_B^2\\right] + \\omega_s^2 (x_A - x_B)^2\\right\\}, \\\\\n",
    "      & = E_1 + E_2,\n",
    "\\end{align*}\n",
    "with \n",
    "$$ E_1 = \\frac14 m \\left[(\\dot q_1)^2 + \\omega_1^2 q_1^2\\right]\\and E_2 = \\frac14 m \\left[(\\dot q_2)^2 + \\omega_2^2 q_2^2\\right].$$\n",
    "(Recall that $\\omega_1^2 = \\omega_p^2$ and $\\omega_2^2 = \\omega_p^2 + 2\\omega_s^2$)"
   ]
  },
  {
   "cell_type": "markdown",
   "metadata": {
    "slideshow": {
     "slide_type": "skip"
    }
   },
   "source": [
    "As for the coordinates, each reservoir of energy, $E_1$ and $E_2$, is uncoupled from the other one: **there is no exchange of energy from one mode of motion to the other**.\n",
    "This is true for any system of coupled oscillators, as long as the linear model is valid."
   ]
  },
  {
   "cell_type": "markdown",
   "metadata": {
    "slideshow": {
     "slide_type": "skip"
    }
   },
   "source": [
    "# Beating Phenomenon"
   ]
  },
  {
   "cell_type": "markdown",
   "metadata": {
    "slideshow": {
     "slide_type": "skip"
    }
   },
   "source": [
    "When a coupled system contains two frequencies that are very close to each other, we observe what is called a beating phenomenon in physical space."
   ]
  },
  {
   "cell_type": "markdown",
   "metadata": {
    "slideshow": {
     "slide_type": "skip"
    }
   },
   "source": [
    "Take the solutions we derived earlier in physical space, but let us assume that $\\phi_1 = \\phi_2 = 0$.\n",
    "It can be physically realized by choosing initial conditions appropriately, but it can also be decided so by realizing that what we are about to describe stays valid, no matter how the phases are shifted.\n",
    "$$ x_A = \\frac12\\left[C_1\\cos(\\omega_1 t) + C_2\\cos(\\omega_2 t) \\right],$$\n",
    "$$ x_B = \\frac12\\left[C_1\\cos(\\omega_1 t) - C_2\\cos(\\omega_2 t) \\right].$$"
   ]
  },
  {
   "cell_type": "markdown",
   "metadata": {
    "slideshow": {
     "slide_type": "skip"
    }
   },
   "source": [
    "Let us also consider the case $C_1 = C_2 = C$, because it is the simplest case that can illustrate the beating phenomenon:\n",
    "\n",
    "$$ x_A = \\frac C2\\left[\\cos(\\omega_1 t) + \\cos(\\omega_2 t) \\right] = C\\cos\\left(\\frac{\\omega_1 + \\omega_2}2 t\\right)\\cos\\left(\\frac{\\omega_2 - \\omega_1}2 t\\right),$$\n",
    "$$ x_B = \\frac C2\\left[\\cos(\\omega_1 t) - \\cos(\\omega_2 t) \\right] = C\\sin\\left(\\frac{\\omega_1 + \\omega_2}2 t\\right)\\sin\\left(\\frac{\\omega_2 - \\omega_1}2 t\\right).$$"
   ]
  },
  {
   "cell_type": "markdown",
   "metadata": {
    "slideshow": {
     "slide_type": "skip"
    }
   },
   "source": [
    "***\n",
    "\n",
    "This went fast, let me do it more slowly.\n",
    "A bit of trigonometry:\n",
    "recall that \n",
    "$$\\cos(a+b) = \\cos a \\cos b - \\sin a \\sin b$$\n",
    "and \n",
    "$$\\cos(a-b) = \\cos a \\cos b + \\sin a \\sin b.$$\n",
    "Sum those two and you get:\n",
    "$$ 2\\cos a\\cos b = \\cos(a-b) + \\cos(a+b). $$\n",
    "Subtract them and you obtain\n",
    "$$ 2\\sin a\\sin b = \\cos(a-b) - \\cos(a+b). $$\n",
    "\n",
    "Now, consider \n",
    "$$a - b = \\omega_1 t \\and a + b = \\omega_2 t $$\n",
    "$$\\thrfor a = \\frac{\\omega_1 + \\omega_2}2 t \\and b = \\frac{\\omega_2 - \\omega_1}2 t. $$\n",
    "\n",
    "Using these formulas yields the result.\n",
    "\n",
    "***"
   ]
  },
  {
   "cell_type": "markdown",
   "metadata": {
    "slideshow": {
     "slide_type": "skip"
    }
   },
   "source": [
    "Or, if we define $\\Delta\\omega = (\\omega_2 - \\omega_1)/2$,\n",
    "$$ x_A = C\\cos\\left((\\omega_1 + \\Delta\\omega) t\\right)\\cos\\left(\\Delta\\omega t\\right),$$\n",
    "$$ x_B = C\\sin\\left((\\omega_1 + \\Delta\\omega) t\\right)\\sin\\left(\\Delta\\omega t\\right).$$"
   ]
  },
  {
   "cell_type": "markdown",
   "metadata": {
    "slideshow": {
     "slide_type": "skip"
    }
   },
   "source": [
    "Now, what if $\\Delta\\omega \\ll \\omega_1$? Then, \n",
    "$$ x_A \\approx C\\cos\\left(\\omega_1 t\\right)\\cos\\left(\\Delta\\omega t\\right),$$\n",
    "$$ x_B \\approx C\\sin\\left(\\omega_1 t\\right)\\sin\\left(\\Delta\\omega t\\right).$$"
   ]
  },
  {
   "cell_type": "markdown",
   "metadata": {
    "slideshow": {
     "slide_type": "skip"
    }
   },
   "source": [
    "Because $\\Delta\\omega \\ll \\omega_1$, the curves look like an oscillation, oscillating at frequency $\\omega_1$, constrained by a sinusoidal envelope of frequency $\\omega_2$ (see figs. )."
   ]
  },
  {
   "cell_type": "code",
   "execution_count": 88,
   "metadata": {
    "slideshow": {
     "slide_type": "skip"
    }
   },
   "outputs": [],
   "source": [
    "import numpy as np\n",
    "import matplotlib.pyplot as plt\n",
    "\n",
    "# basic quantities\n",
    "k = 0.5  # spring stiffness [N/m]\n",
    "m = 0.4  # mass [kg]\n",
    "g = 9.81  # gravitational acceleration [m/s2]\n",
    "l = .5  # lengths of pendulums  [m]\n",
    "C = 1.e-1  # amplitude of motion [m]\n",
    "ftsz = 13  # font size on plots\n",
    "t_end = 60.\n",
    "\n",
    "# derived quantities\n",
    "t = np.linspace(0., t_end, 2048)\n",
    "omega_p = np.sqrt(g/l)  # natural frequency of uncoupled pendulum\n",
    "omega_s = np.sqrt(k/m)  # natural frequency of spring\n",
    "\n",
    "omega_1 = omega_p  # 1st eigenfrequency\n",
    "omega_2 = np.sqrt(omega_p**2 + 2.*omega_s**2)  # 2nd eigenfrequency\n",
    "\n",
    "xA = 0.5*C*(np.cos(omega_1*t) + np.cos(omega_2*t))  # position of A\n",
    "\n",
    "Domega = 0.5*(omega_2 - omega_1)  # Delta omega\n",
    "envelope = C*np.cos(Domega*t)\n",
    "\n",
    "# 1st plot: each mode individually\n",
    "plt.figure()\n",
    "plt.subplot(311)\n",
    "ax1 = plt.gca()\n",
    "#ax1.axvline(0., color='k')\n",
    "ax1.plot(t, 0.5*C*np.cos(omega_1*t), 'b')\n",
    "ax1.set_xlim([0., t_end])\n",
    "ax1.set_ylim([-0.05, 0.05])\n",
    "ax1.set_ylabel('$C\\,\\cos(\\omega_1 t)/2$', fontsize=ftsz)\n",
    "ax1.grid()\n",
    "\n",
    "plt.subplot(312, sharex=ax1, sharey=ax1)\n",
    "ax2 = plt.gca()\n",
    "#ax2.axvline(0., color='k')\n",
    "ax2.plot(t, 0.5*C*np.cos(omega_2*t), 'b')\n",
    "ax2.set_ylabel('$C\\,\\cos(\\omega_2 t)/2$', fontsize=ftsz)\n",
    "ax2.grid()\n",
    "\n",
    "plt.subplot(313, sharex=ax1, sharey=ax1)\n",
    "ax3 = plt.gca()\n",
    "#ax2.axvline(0., color='k')\n",
    "ax3.plot(t, 0.5*C*np.cos(omega_1*t), 'r', label='$C\\,\\cos(\\omega_1 t)/2$')\n",
    "ax3.plot(t, 0.5*C*np.cos(omega_2*t), 'b--', label='$C\\,\\cos(\\omega_2 t)/2$')\n",
    "ax3.set_ylabel('$C\\,\\cos(\\omega_2 t)/2$', fontsize=ftsz)\n",
    "ax3.set_xlabel('time [s]', fontsize=ftsz)\n",
    "ax3.legend()\n",
    "ax3.grid()\n",
    "\n",
    "# make these tick labels invisible\n",
    "plt.setp(ax2.get_xticklabels(), visible=False)\n",
    "plt.setp(ax1.get_xticklabels(), visible=False)\n",
    "plt.tight_layout()\n",
    "plt.savefig('BeatingIndividual.png', dpi=100)\n",
    "plt.close()"
   ]
  },
  {
   "cell_type": "code",
   "execution_count": 89,
   "metadata": {
    "slideshow": {
     "slide_type": "skip"
    }
   },
   "outputs": [],
   "source": [
    "# 2nd plot: adding the two, the beating phenomenon\n",
    "plt.figure()\n",
    "ax = plt.gca()\n",
    "ax.axvline(0., color='k')\n",
    "ax.plot(t, xA, 'b', label='$x_A(t)$')\n",
    "ax.plot(t, envelope, 'r-.', label='$C\\,\\cos(\\Delta\\omega t)$')\n",
    "ax.plot(t, -envelope, 'r--', label='$-C\\,\\cos(\\Delta\\omega t)$')\n",
    "ax.set_ylim([-0.14, 0.16])\n",
    "ax.set_xlabel('time [s]', fontsize=ftsz)\n",
    "ax.set_ylabel('position [m]', fontsize=ftsz)\n",
    "ax.grid()\n",
    "ax.legend()\n",
    "\n",
    "# annotation to highlight the envelope period\n",
    "T = 2*np.pi/Domega\n",
    "ax.axvline(T/4, color='k', linestyle='-.')  # the t=T/2 mark\n",
    "ax.axvline(5*T/4, color='k', linestyle='-.')  # the t=3T/2 mark\n",
    "ax.annotate(s='', xy=(T/4, -.12), xytext=(5*T/4, -0.12),\n",
    "            arrowprops=dict(arrowstyle='<|-|>'))  # the double arrow\n",
    "ax.text(1.5*np.pi/Domega, -0.12, r'$2\\pi/\\Delta\\omega$',\n",
    "        verticalalignment='center', horizontalalignment='center',\n",
    "        backgroundcolor='w', fontsize=ftsz)\n",
    "\n",
    "# annotation to highlight the fast oscillation period\n",
    "T = 4.*np.pi/(omega_2 + omega_1)\n",
    "pp = 20.5\n",
    "t1 = pp*T\n",
    "t2 = (pp+1)*T\n",
    "ax.plot([t1]*2, [-C*np.cos(Domega*t1), 0.13],\n",
    "        color='k')  # the fast period mark #1\n",
    "ax.plot([t2]*2, [-C*np.cos(Domega*t2), 0.13],\n",
    "        color='k')  # the fast period mark #2\n",
    "ax.annotate(s='', xy=(t1, .11), xytext=(t2, 0.11),\n",
    "            arrowprops=dict(arrowstyle='<|-|>'))  # the double arrow\n",
    "ax.text((t1+t2)/2, 0.135, r'$2\\pi/(\\omega_1+\\Delta\\omega)$',\n",
    "        verticalalignment='center', horizontalalignment='center',\n",
    "        backgroundcolor='w', fontsize=ftsz)\n",
    "plt.tight_layout()\n",
    "plt.savefig('Beating.png', dpi=100)\n",
    "plt.close()"
   ]
  },
  {
   "cell_type": "markdown",
   "metadata": {
    "slideshow": {
     "slide_type": "slide"
    }
   },
   "source": [
    "![Fig. 6: upper and middle panels: two oscillations with slightly different frequencies. Bottom panel: the same two oscillations, superposed.](BeatingIndividual.png)\n",
    "![Fig. 7: sum the oscillations of fig. 6, and you obtain the oscillation above, called \"beating\".](Beating.png)"
   ]
  },
  {
   "cell_type": "markdown",
   "metadata": {
    "slideshow": {
     "slide_type": "skip"
    }
   },
   "source": [
    "***\n",
    "\n",
    "**Worked example: King p. 84. **\n",
    "\n",
    "***\n",
    "\n",
    "*Beyond this point, I stop following King's book. You might notice that in his preface, he mentions that his book is designed for a first-year class, for which eigenvalues and eigenvectors would be too advanced a topic. It is our strong opinion (all the instructors involved in PHY293 and 294) that we need to cover this topic in this second-year class, because it is foundational for a lot of other topics that will be tackled in the rest of PHY293-4. If you want a book for help, I can recommend John R. Taylor's \"Classical Mechanics\" (University Science Books), chapter 11, which I am loosely following.*\n",
    "\n",
    "***"
   ]
  },
  {
   "cell_type": "markdown",
   "metadata": {
    "slideshow": {
     "slide_type": "skip"
    }
   },
   "source": [
    "# General Solution Method"
   ]
  },
  {
   "cell_type": "markdown",
   "metadata": {
    "slideshow": {
     "slide_type": "skip"
    }
   },
   "source": [
    "In the previous case, we had only two coupled oscillators, which meant, two degrees of freedom (two normal coordinates).\n",
    "It was simple enough that we could solve it \"by hand\", by defining simple normal coordinates, and adding and subtracting the equations of motion."
   ]
  },
  {
   "cell_type": "markdown",
   "metadata": {
    "slideshow": {
     "slide_type": "skip"
    }
   },
   "source": [
    "But as with all things in linear algebra, difficulty increases rapidly with every equation that we add.\n",
    "For example, what if we coupled 5 oscillators?\n",
    "Not to mention the infinity of oscillators that approximate a continuous medium.\n",
    "We need the systematic and powerful approaches that are offered by linear algebra.\n",
    "And in particular, we will eventually need to use the eigenvector/eigenvalue formalism, which many of you find difficult.\n",
    "It is, however, a necessary step, and a key aspect of the theory of waves and oscillations.\n",
    "So, even though I will have to keep it in mind, my best piece of advice is to brace yourselves."
   ]
  },
  {
   "cell_type": "markdown",
   "metadata": {
    "slideshow": {
     "slide_type": "skip"
    }
   },
   "source": [
    "## Results from Linear Algebra"
   ]
  },
  {
   "cell_type": "markdown",
   "metadata": {
    "slideshow": {
     "slide_type": "skip"
    }
   },
   "source": [
    "### General results\n",
    "\n",
    "Linear algebra can be messy, especially when it comes to whether a matrix is diagonalizable or not. \n",
    "Fortunately for us, I will only use a few of the most basic results of linear algebra.\n",
    "\n",
    "* Finding the eigenvectors and eigenvalues of an $n\\times n$ matrix $M$ means finding the vectors $\\vec V$ and scalars $\\lambda$ such that:\n",
    "    $$ M V = \\lambda V, \\oreq (M - \\lambda I)V = 0.\\hspace{5cm}(3)$$\n",
    "* Equation (3) has non-trivial (i.e., non-identically zero, i.e., oscillations with non-zero amplitudes in our case) solutions for $V$ if and only if\n",
    "    $$ \\det(M - \\lambda I_n) = 0,\\hspace{5cm}(4) $$\n",
    "    with $I_n$ the $n\\times n$ identity matrix.\n",
    "    The determinant of a matrix is a scalar. Therefore, it is a polynomial in $\\lambda$. It is called the *characteristic polynomial*, and its roots are the *eigenvalues*.\n",
    "* If there is a number $n$ of eigenvalues $\\lambda$ that are all distinct from each other, then the matrix is diagonalizable, and the set of the corresponding eigenvectors forms a basis for the space of solutions. In other words, if $\\vec V_i$, $i \\in \\{1\\dots{} n\\}$ is the complete set of eigenvectors, then any linear combination of them, \n",
    "    $$\\vec X = \\sum_{i=1}^n a_n \\vec V_i,$$\n",
    "    is a solution as well. In all our cases, $a_n \\in \\mathbb R$. Note that with damping, we could have $a_n \\in \\mathbb C$.\n",
    "    Furthermore, is $\\vec X$ is a solution of eqn. $(3)$, then it can be decomposed as a linear combination of eigenvectors,\n",
    "    $$\\vec X = \\sum_{i=1}^n a_n \\vec V_i \\quad \\textrm{again},$$\n",
    "    and this decomposition is unique.\n",
    "    *Note: this condition is sufficient, not necessary. Namely, the converse is not true, and a matrix needs not have all* $n$ *eigenvalues distinct from each other to be diagonalizable. But in our cases, they will be, so let's enjoy it.*"
   ]
  },
  {
   "cell_type": "markdown",
   "metadata": {
    "slideshow": {
     "slide_type": "skip"
    }
   },
   "source": [
    "### How does this translate into our results?\n",
    "\n",
    "* First of all, we will have $n = 2$ for two oscillators;\n",
    "* the eigenvectors $\\vec V_i$ will have some connection to our normal modes 1 and 2;\n",
    "* the eigenvalues $\\lambda_i$ some connection to $\\omega_{1,2}^2$ (they will be the same actually);\n",
    "* the eigenvectors, in the abstract case form a basis of the space of solutions. This is a mathematical manifestation of the fact that any motion of the two masses can be decomposed as the linear combination of two modes, as we saw in the previous section;\n",
    "* solving $det(M - \\lambda I_2) = 0$ for $\\lambda$ shows the way for solving coupled systems of oscillators systematically. Finding the roots of the polynomial, however messy it might become, will give us $\\omega_1$ and $\\omega_2$. Once we have them, substitution into the original eqn. (3) will give us $\\vec V_1$ and $\\vec V_2$."
   ]
  },
  {
   "cell_type": "markdown",
   "metadata": {
    "slideshow": {
     "slide_type": "skip"
    }
   },
   "source": [
    "The math will become super messy, but the procedure is well-defined, and easy to make systematic."
   ]
  },
  {
   "cell_type": "markdown",
   "metadata": {
    "slideshow": {
     "slide_type": "skip"
    }
   },
   "source": [
    "## Coupled pendulums"
   ]
  },
  {
   "cell_type": "markdown",
   "metadata": {
    "slideshow": {
     "slide_type": "skip"
    }
   },
   "source": [
    "As an illustration of how powerful such an approach is, let me add the extra complexity that the two masses are different, and equal to $m_A$ and $m_B$.\n",
    "I hope to convince you that while it would have made it difficult in our previous approach, it does not represent any extra difficulty with the eigenvector method."
   ]
  },
  {
   "cell_type": "markdown",
   "metadata": {
    "slideshow": {
     "slide_type": "skip"
    }
   },
   "source": [
    "The equations are therefore\n",
    "$$ m_A\\ddot x_A + \\frac{m_A g}{l} x_A + k(x_A - x_B) = 0, \\hspace{5cm}(5)$$\n",
    "$$ m_B\\ddot x_B + \\frac{m_B g}{l} x_B - k(x_A - x_B) = 0, \\hspace{5cm}(6)$$"
   ]
  },
  {
   "cell_type": "markdown",
   "metadata": {
    "slideshow": {
     "slide_type": "skip"
    }
   },
   "source": [
    "Now, define a vector\n",
    "$$\n",
    "\\vec X = \n",
    "\\begin{bmatrix}\n",
    "    x_A \\\\ \n",
    "    x_B,\n",
    "\\end{bmatrix}$$\n",
    "and two matrices\n",
    "$$\n",
    "M = \n",
    "\\begin{bmatrix}\n",
    "    m_A & 0 \\\\ \n",
    "    0 & m_B\n",
    "\\end{bmatrix}\n",
    "\\and\n",
    "K = \n",
    "\\begin{bmatrix}\n",
    "     \\frac{m_A g}l + k & -k \\\\\n",
    "     -k & \\frac{m_B g}l + k\n",
    "\\end{bmatrix}.$$"
   ]
  },
  {
   "cell_type": "markdown",
   "metadata": {
    "slideshow": {
     "slide_type": "skip"
    }
   },
   "source": [
    "You can check that\n",
    "$$ M\\ddot{\\vec X} + K \\vec X = \n",
    "\\begin{bmatrix}\n",
    "    m_A\\ddot x_A + \\frac{m_A g}{l} x_A + k(x_A - x_B) \\\\\n",
    "    m_B\\ddot x_B + \\frac{m_B g}{l} x_B - k(x_A - x_B)\n",
    "\\end{bmatrix}\n",
    "= \n",
    "\\begin{bmatrix}\n",
    "    0 \\\\\n",
    "    0\n",
    "\\end{bmatrix},$$\n",
    "or, more simply, that \n",
    "$$\\boxed{ M\\ddot{\\vec X} + K \\vec X = 0. }$$"
   ]
  },
  {
   "cell_type": "markdown",
   "metadata": {
    "slideshow": {
     "slide_type": "skip"
    }
   },
   "source": [
    "This is our new equation of motion.\n",
    "It strongly resembles the SHO equation, and its resolution does involve the same steps:\n",
    "\n",
    "1. assume $\\vec X = \\vec A \\cos(\\omega t + \\phi)$,\n",
    "2. substitute in the EOM and solve for $\\omega$,\n",
    "3. use initial conditions to solve for $\\vec A$ and $\\phi$."
   ]
  },
  {
   "cell_type": "markdown",
   "metadata": {
    "slideshow": {
     "slide_type": "skip"
    }
   },
   "source": [
    "### The first step...\n",
    "... implies that $\\ddot{\\vec X} = -\\omega^2 \\vec X$.\n",
    "Moreover, $M\\ddot{\\vec X} = M(-\\omega^2 \\vec X) = -\\omega^2M \\vec X$ because the algebra is linear."
   ]
  },
  {
   "cell_type": "markdown",
   "metadata": {
    "slideshow": {
     "slide_type": "skip"
    }
   },
   "source": [
    "### For the second step (solving for $\\omega$),\n",
    "$$M\\ddot{\\vec X} + K \\vec X = -\\omega^2 M \\vec X + K\\vec X = \\boxed{(K -\\omega^2 M)\\vec X = 0.} \\hspace{4cm} (7) $$"
   ]
  },
  {
   "cell_type": "markdown",
   "metadata": {
    "slideshow": {
     "slide_type": "skip"
    }
   },
   "source": [
    "Let me recall one of the most important results of linear algebra: **A matrix equation** $\\bs{\\textsf{R}V = 0}$ **has non-trivial (i.e., non-identically zero) solutions if and only if** $\\bs{\\det[\\textsf{R}] =0}$, as I stated in a different form around eqn. (4).\n",
    "Physically, trivial solutions are zero-amplitude oscillations of each mass position or of each mode.\n",
    "Trivially speaking, it is nothing."
   ]
  },
  {
   "cell_type": "markdown",
   "metadata": {
    "slideshow": {
     "slide_type": "skip"
    }
   },
   "source": [
    "The matrices $M$ and $K$ both contain elements that are determined by the physics of the system: masses stiffness, length of pendulum and gravitational acceleration.\n",
    "The only parameter that can be varied is therefore $\\omega$, and it is $\\omega$ we are solving for."
   ]
  },
  {
   "cell_type": "markdown",
   "metadata": {
    "slideshow": {
     "slide_type": "skip"
    }
   },
   "source": [
    "Mathematically, this step corresponds to finding the **eigenvalues** of eqn. $(7)$.\n",
    "It looks different from eqn. $(3)$ though.\n",
    "However, we can cast our equation in this form very easily by multiplying it by \n",
    "$$ M^{-1} = \n",
    "\\begin{bmatrix}\n",
    "    1/m_A & 0 \\\\\n",
    "    0 & 1/m_B\n",
    "\\end{bmatrix},\n",
    "$$\n",
    "i.e.,\n",
    "$$\n",
    "M^{-1}K \\vec X = \\omega^2 \\vec X,\n",
    "$$\n",
    "which looks like a standard eigenvalue problem. The two ways of writing it are strictly equivalent, the form above would appear if I divided eqns. $(5)$ and $(6)$ by $m_A$ and $m_B$, respectively."
   ]
  },
  {
   "cell_type": "markdown",
   "metadata": {
    "slideshow": {
     "slide_type": "skip"
    }
   },
   "source": [
    "We will also need the following formula:\n",
    "$$\\boxed{ \\det\\left(\n",
    "\\begin{bmatrix}\n",
    "    a & b \\\\\n",
    "    c & d\n",
    "\\end{bmatrix}\n",
    "\\right) = ad - bc} \\quad\\textrm{(which I expect you to remember!!!)}.$$"
   ]
  },
  {
   "cell_type": "markdown",
   "metadata": {
    "slideshow": {
     "slide_type": "skip"
    }
   },
   "source": [
    "I am going to do it by hand once, but the real advantage to this method is that it is fairly easy to ask a symbolic calculator or symbolic math software to solve for it. I will do it later, but for now, it is instructional to do it by hand."
   ]
  },
  {
   "cell_type": "markdown",
   "metadata": {
    "slideshow": {
     "slide_type": "skip"
    }
   },
   "source": [
    "Here we go:\n",
    "\\begin{align*}\n",
    "    \\det(K - \\omega^2 M) & = \\det\\left(\n",
    "                                \\begin{bmatrix}\n",
    "                                    \\frac{m_A g}l + k - \\omega^2 m_A & -k \\\\\n",
    "                                    -k & \\frac{m_B g}l + k - \\omega^2 m_B\n",
    "                                \\end{bmatrix}\\right) \\\\\n",
    "                         & = \\left(\\frac{m_A g}l + k - \\omega^2 m_A\\right)\\left(\\frac{m_B g}l + k - \\omega^2 m_B\\right) - k^2 \\\\\n",
    "                         & = m_A m_B \\left[\\left(\\omega_p^2 + \\omega_{sA}^2 - \\omega^2 \\right)\\left(\\omega_p^2 + \\omega_{sB}^2 - \\omega^2\\right) - \\omega_{sA}^2\\omega_{sB}^2\\right] \\\\\n",
    "                         & = 0,\n",
    "\\end{align*}"
   ]
  },
  {
   "cell_type": "markdown",
   "metadata": {
    "slideshow": {
     "slide_type": "skip"
    }
   },
   "source": [
    "with $\\omega_p^2 = g/l$, $\\omega_{sA}^2 = k/m_A$ and $\\omega_{sB}^2 = k/m_B$.\n",
    "It is a second-degree polynomial in $\\omega^2$, which is not technically hard to solve, but this is a lot of symbols to keep track of."
   ]
  },
  {
   "cell_type": "markdown",
   "metadata": {
    "slideshow": {
     "slide_type": "skip"
    }
   },
   "source": [
    "However, it seems as if defining $\\Omega^2 = \\omega_p^2 + \\omega_A^2 + \\omega_B^2$ might help.\n",
    "Besides, if $m_A = m_B$, then $\\omega_{sA}^2 = \\omega_{sB}^2 = \\omega_s^2$ and $\\Omega^2 = \\omega_p^2 + 2\\omega_s^2 = \\omega_2^2$, which is a good sign.\n",
    "Let's plug $\\Omega^2$ in the last two lines of the set of equations above:\n",
    "$$\\omega_p^2\\Omega^2 - \\omega^2 \\left(\\omega_p^2 + \\Omega^2\\right) + \\omega^4 = 0. $$"
   ]
  },
  {
   "cell_type": "markdown",
   "metadata": {
    "slideshow": {
     "slide_type": "skip"
    }
   },
   "source": [
    "The determinant of this polynomial is\n",
    "$$ \\Delta = \\left(\\omega_p^2 + \\Omega^2\\right)^2 - 4 \\omega_p^2\\Omega^2 = \\left(\\omega_p^2 - \\Omega^2\\right)^2 $$\n",
    "and its roots are\n",
    "\\begin{align*}\n",
    "    \\omega_1'^2 & = \\frac{\\omega_p^2 + \\Omega^2 - \\Omega^2 + \\omega_p^2}{2} = \\omega_p^2 \\\\\n",
    "    \\omega_2'^2 & = \\frac{\\omega_p^2 + \\Omega^2 + \\Omega^2 - \\omega_p^2}{2} = \\Omega^2 = \\omega_p^2 + \\omega_{sA}^2 + \\omega_{sB}^2.\n",
    "\\end{align*}"
   ]
  },
  {
   "cell_type": "markdown",
   "metadata": {
    "slideshow": {
     "slide_type": "skip"
    }
   },
   "source": [
    "You may notice that $\\omega_1'^2 = \\omega_1^2$ of the previous case, and that if $m_A = m_B = m$, then $\\omega_2'^2 = \\omega_2^2$.\n",
    "These are our two eigenfrequencies!"
   ]
  },
  {
   "cell_type": "markdown",
   "metadata": {
    "slideshow": {
     "slide_type": "skip"
    }
   },
   "source": [
    "Also, $\\omega_1'^2 \\neq \\omega_2'^2$. Therefore, based on the general results from linear algebra that I recalled earlier, we will have a basis of eigenvectors to decompose all our oscillations onto."
   ]
  },
  {
   "cell_type": "markdown",
   "metadata": {
    "slideshow": {
     "slide_type": "skip"
    }
   },
   "source": [
    "### The third step (solving for $\\vec A$ and $\\phi$)"
   ]
  },
  {
   "cell_type": "markdown",
   "metadata": {
    "slideshow": {
     "slide_type": "skip"
    }
   },
   "source": [
    "#### Polarization of the Eigenvectors\n",
    "\n",
    "We can actually separate $\\vec A$ into $C\\vec Y$, with $\\|\\vec Y\\| = 1$.\n",
    "This makes it easier in the sense that we separate the amplitude of the mode, its strength if you will, which resides in $C$ and which is calculated with the knowledge of the initial condition, and $\\vec Y$, which is a feature of the matrix $K - \\omega^2 M$, or of the physical system, and does not depend on the initial conditions.\n",
    "However, requiring that $\\|\\vec Y\\| = 1$ is not required in order to solve a problem! I do it, some textbooks might do it differently."
   ]
  },
  {
   "cell_type": "markdown",
   "metadata": {
    "slideshow": {
     "slide_type": "skip"
    }
   },
   "source": [
    "In this case,\n",
    "$$ (K - \\omega^2 M)\\vec X = 0 = C (K - \\omega^2 M)\\vec Y \\cos(\\omega t + \\phi) \\quad\\Leftrightarrow\\quad (K - \\omega^2 M)\\vec Y = 0. $$"
   ]
  },
  {
   "cell_type": "markdown",
   "metadata": {
    "slideshow": {
     "slide_type": "skip"
    }
   },
   "source": [
    "Let \n",
    "$$\\vec Y = \n",
    "\\begin{bmatrix}\n",
    "    a \\\\ \n",
    "    b\n",
    "\\end{bmatrix}.$$\n",
    "Looking for the relationship between $a$ and $b$ for a given mode is called looking for the polarization of that mode."
   ]
  },
  {
   "cell_type": "markdown",
   "metadata": {
    "slideshow": {
     "slide_type": "skip"
    }
   },
   "source": [
    "\\begin{align*} \n",
    "    (K - \\omega^2 M)\\vec Y & = \\begin{bmatrix}\n",
    "                                \\frac{m_A g}l + k - \\omega^2 m_A & -k \\\\\n",
    "                                -k & \\frac{m_B g}l + k - \\omega^2 m_B\n",
    "                            \\end{bmatrix}\n",
    "                            \\begin{bmatrix}\n",
    "                                a \\\\ \n",
    "                                b\n",
    "                            \\end{bmatrix} \\\\\n",
    "                           & = \\begin{bmatrix}\n",
    "                                \\left(\\frac{m_A g}l + k - \\omega^2 m_A\\right)a - kb \\\\ \n",
    "                                -ka + \\left(\\frac{m_B g}l + k - \\omega^2 m_B\\right)b\n",
    "                            \\end{bmatrix} \\\\\n",
    "                           & = \\begin{bmatrix}\n",
    "                                   m_A\\left[(\\omega_p^2 + \\omega_{sA}^2 - \\omega^2 )a - \\omega_{sA}^2 b \\right] \\\\ \n",
    "                                   m_B\\left[-\\omega_{sB}^2 a + (\\omega_p^2 + \\omega_{sB}^2 - \\omega^2 )b\\right]\n",
    "                               \\end{bmatrix} = 0 . \\hspace{3cm} (8).\n",
    "\\end{align*}"
   ]
  },
  {
   "cell_type": "markdown",
   "metadata": {
    "slideshow": {
     "slide_type": "skip"
    }
   },
   "source": [
    "* Case $\\omega^2 = \\omega_1^2 = \\omega_p^2$:\n",
    "$$ \\begin{bmatrix}\n",
    "        ka - kb \\\\ \n",
    "        -ka + kb\n",
    "   \\end{bmatrix} = 0 \\thrfor a = b.$$\n",
    "*(Notice how the two equations are redundant.)*\n",
    "Therefore, $a=b$, and since $\\|\\vec Y\\| = \\sqrt{a^2 + b^2} = 1$, $a = b= 1/\\sqrt{2}$.\n",
    "This is the antisymmetric mode.\n",
    "*Note: that the masses are different does not have an impact. This is because the frequency of oscillations of each pendulum does not depend on the mass, attached to each one. Therefore, in this mode, the spring is never stretched or compressed.*"
   ]
  },
  {
   "cell_type": "markdown",
   "metadata": {
    "slideshow": {
     "slide_type": "skip"
    }
   },
   "source": [
    "![Fig. 8: the antisymmetric normal mode](pendulum_syn.gif)"
   ]
  },
  {
   "cell_type": "markdown",
   "metadata": {
    "slideshow": {
     "slide_type": "skip"
    }
   },
   "source": [
    "* Case $\\omega^2 = \\omega_2^2 = \\omega_p^2 + \\omega_{sA}^2 + \\omega_{sB}^2$.\n",
    "I just use the first line in eqn. (8) because the second line is redundant again:\n",
    "$$ -\\omega_{sB}^2a - \\omega_{sA}^2 b = 0.$$\n",
    "Therefore, $\\omega_{sB} a = -\\omega_{sA}b$.\n",
    "We get it: if $m_A = m_B = m$, this would be the symmetric mode, with $a = 1/\\sqrt{2} = -b$.\n",
    "With $m_A \\neq m_B$, $a$ and $b$ are weighted by some coefficient, i.e., $a = \\omega_{sA}^2/\\sqrt{\\omega_{sA}^4 + \\omega_{sB}^4}$, and $b = -\\omega_{sB}^2/\\sqrt{\\omega_{sA}^4 + \\omega_{sB}^4}$."
   ]
  },
  {
   "cell_type": "markdown",
   "metadata": {
    "slideshow": {
     "slide_type": "skip"
    }
   },
   "source": [
    "![Fig. 9: the symmetric normal mode, in the case $m_A = m_B$.](pendulum_asyn.gif)"
   ]
  },
  {
   "cell_type": "markdown",
   "metadata": {
    "slideshow": {
     "slide_type": "skip"
    }
   },
   "source": [
    "#### Eigenvectors as a basis for all the solutions\n",
    "\n"
   ]
  },
  {
   "cell_type": "markdown",
   "metadata": {
    "slideshow": {
     "slide_type": "skip"
    }
   },
   "source": [
    "So far, the connection with general linear algebra results is the following.\n",
    "$\\vec Y_1$ and $\\vec Y_2$ are eigenvectors of the matrix problem, $\\omega_1'^2$ and $\\omega_2'^2$ the eigenvalues (or $\\omega_1'$ and $\\omega_2'$ the eigenfrequencies) and $\\vec X_1$ and $\\vec X_2$ are the eigenmodes of oscillation."
   ]
  },
  {
   "cell_type": "markdown",
   "metadata": {
    "slideshow": {
     "slide_type": "skip"
    }
   },
   "source": [
    "Based on the results from linear algebra that I recalled earlier, it means that all solutions can be written as a linear combination of these eigenmodes:\n",
    "$$ \\vec X = C_1 \\vec Y_1\\cos(\\omega_1 t + \\phi_1) + C_2 \\vec Y_2\\cos(\\omega_2 t + \\phi_2). $$"
   ]
  },
  {
   "cell_type": "markdown",
   "metadata": {
    "slideshow": {
     "slide_type": "skip"
    }
   },
   "source": [
    "#### Amplitudes ($C$) and phases ($\\phi$)."
   ]
  },
  {
   "cell_type": "markdown",
   "metadata": {
    "slideshow": {
     "slide_type": "skip"
    }
   },
   "source": [
    "As with every initial value problem, it can get messy.\n",
    "Let me just do the cases we investigated before, i.e., the worked problem on King p. 84."
   ]
  },
  {
   "cell_type": "markdown",
   "metadata": {
    "slideshow": {
     "slide_type": "skip"
    }
   },
   "source": [
    "In all cases, it was assumed that the masses were released from rest.\n",
    "We could check that in this case, $\\phi_1 = \\phi_2 = 0$.\n",
    "It was also assumed that $m_A = m_B$."
   ]
  },
  {
   "cell_type": "markdown",
   "metadata": {
    "slideshow": {
     "slide_type": "skip"
    }
   },
   "source": [
    "The first example was $x_A = x_B = A$, which meant that the antisymmetric mode was selected by the initial conditions.\n",
    "In vector form, this means\n",
    "$$\\vec X_0 = \\vec X(t=0) = \\begin{bmatrix}\n",
    "    x_A(t=0) \\\\ \n",
    "    x_B(t=0)\n",
    "\\end{bmatrix}\n",
    "= \\begin{bmatrix}\n",
    "    A \\\\ \n",
    "    A\n",
    "\\end{bmatrix} =  \\sqrt{2} A \\vec Y_1 + 0\\vec Y_2.$$\n",
    "Bam! No need to do any sort of math, we know right away that the symmetric mode is zero."
   ]
  },
  {
   "cell_type": "markdown",
   "metadata": {
    "slideshow": {
     "slide_type": "skip"
    }
   },
   "source": [
    "The second example was $x_A = -x_B = A$, which meant that the symmetric mode was selected by the initial conditions.\n",
    "In vector form, this means\n",
    "$$\\vec X_0 =\n",
    "\\begin{bmatrix}\n",
    "    A \\\\ \n",
    "    -A\n",
    "\\end{bmatrix} =  0\\vec Y_1 + \\sqrt{2}A\\vec Y_2.$$\n",
    "And again! We know right away that the antisymmetric mode is zero."
   ]
  },
  {
   "cell_type": "markdown",
   "metadata": {
    "slideshow": {
     "slide_type": "slide"
    }
   },
   "source": [
    "### Numerical resolution"
   ]
  },
  {
   "cell_type": "markdown",
   "metadata": {
    "slideshow": {
     "slide_type": "skip"
    }
   },
   "source": [
    "This bit is outside of what is expected of you, but it is hard to realize the potential of the eigenmode method without realizing how easy it is to implement it numerically, and how it is possible to scale the numbers of oscillators up from there.\n",
    "So, let's give it a go."
   ]
  },
  {
   "cell_type": "code",
   "execution_count": 90,
   "metadata": {
    "slideshow": {
     "slide_type": "-"
    }
   },
   "outputs": [],
   "source": [
    "from sympy import *  # here I import the entire symbolic math package\n",
    "init_printing(use_unicode=True)  # to print pretty"
   ]
  },
  {
   "cell_type": "code",
   "execution_count": 91,
   "metadata": {
    "slideshow": {
     "slide_type": "fragment"
    }
   },
   "outputs": [],
   "source": [
    "# we need to declare some symbolic quantities\n",
    "# omega_sA, omega_p, omega = symbols('omega_sA, omega_p, omega', real=True)\n",
    "g, l = symbols('g, l', real=True)\n",
    "k, m_A, m_B = symbols('k, m_A, m_B', real=True)"
   ]
  },
  {
   "cell_type": "code",
   "execution_count": 92,
   "metadata": {},
   "outputs": [
    {
     "data": {
      "image/png": "[encoded data removed]",
      "text/latex": [
       "$$m_{A}$$"
      ],
      "text/plain": [
       "m_A"
      ]
     },
     "execution_count": 92,
     "metadata": {},
     "output_type": "execute_result"
    }
   ],
   "source": [
    "m_A"
   ]
  },
  {
   "cell_type": "code",
   "execution_count": 93,
   "metadata": {
    "slideshow": {
     "slide_type": "subslide"
    }
   },
   "outputs": [
    {
     "data": {
      "image/png": "[encoded data removed]",
      "text/latex": [
       "$$\\left[\\begin{matrix}m_{A} & 0\\\\0 & m_{B}\\end{matrix}\\right]$$"
      ],
      "text/plain": [
       "⎡m_A   0 ⎤\n",
       "⎢        ⎥\n",
       "⎣ 0   m_B⎦"
      ]
     },
     "execution_count": 93,
     "metadata": {},
     "output_type": "execute_result"
    }
   ],
   "source": [
    "# define the mass matrix\n",
    "M = Matrix([[m_A, 0],\n",
    "            [0, m_B]])\n",
    "M"
   ]
  },
  {
   "cell_type": "code",
   "execution_count": 94,
   "metadata": {
    "slideshow": {
     "slide_type": "fragment"
    }
   },
   "outputs": [
    {
     "data": {
      "image/png": "[encoded data removed]",
      "text/latex": [
       "$$\\left[\\begin{matrix}\\frac{g m_{A}}{l} + k & - k\\\\- k & \\frac{g m_{B}}{l} + k\\end{matrix}\\right]$$"
      ],
      "text/plain": [
       "⎡g⋅m_A               ⎤\n",
       "⎢───── + k     -k    ⎥\n",
       "⎢  l                 ⎥\n",
       "⎢                    ⎥\n",
       "⎢           g⋅m_B    ⎥\n",
       "⎢   -k      ───── + k⎥\n",
       "⎣             l      ⎦"
      ]
     },
     "execution_count": 94,
     "metadata": {},
     "output_type": "execute_result"
    }
   ],
   "source": [
    "# Define the stiffness matrix\n",
    "K = Matrix([[m_A*g/l + k, -k],\n",
    "            [-k, m_B*g/l + k]])\n",
    "K"
   ]
  },
  {
   "cell_type": "code",
   "execution_count": 95,
   "metadata": {
    "slideshow": {
     "slide_type": "subslide"
    }
   },
   "outputs": [
    {
     "data": {
      "image/png": "[encoded data removed]",
      "text/latex": [
       "$$\\left[\\begin{matrix}\\frac{g}{l} + \\frac{k}{m_{A}} & - \\frac{k}{m_{A}}\\\\- \\frac{k}{m_{B}} & \\frac{g}{l} + \\frac{k}{m_{B}}\\end{matrix}\\right]$$"
      ],
      "text/plain": [
       "⎡g    k     -k   ⎤\n",
       "⎢─ + ───    ───  ⎥\n",
       "⎢l   m_A    m_A  ⎥\n",
       "⎢                ⎥\n",
       "⎢  -k     g    k ⎥\n",
       "⎢  ───    ─ + ───⎥\n",
       "⎣  m_B    l   m_B⎦"
      ]
     },
     "execution_count": 95,
     "metadata": {},
     "output_type": "execute_result"
    }
   ],
   "source": [
    "# Compute M**(-1)*K\n",
    "EVecMat = M.inv()*K\n",
    "expand(EVecMat)"
   ]
  },
  {
   "cell_type": "code",
   "execution_count": 96,
   "metadata": {
    "slideshow": {
     "slide_type": "fragment"
    }
   },
   "outputs": [],
   "source": [
    "# A bit of refinement: we can substitute k/m_A by omega_SA, etc.\n",
    "# but first, we need to declare those symbolic variables\n",
    "omega_sA, omega_sB = symbols('omega_sA, omega_sB', real=True)\n",
    "omega_p = Symbol('omega_p', real=True)"
   ]
  },
  {
   "cell_type": "code",
   "execution_count": 97,
   "metadata": {
    "slideshow": {
     "slide_type": "subslide"
    }
   },
   "outputs": [
    {
     "data": {
      "image/png": "[encoded data removed]",
      "text/latex": [
       "$$\\left[\\begin{matrix}\\frac{g}{l} + \\omega_{sA}^{2} & - \\omega_{sA}^{2}\\\\- \\frac{k}{m_{B}} & \\frac{g}{l} + \\frac{k}{m_{B}}\\end{matrix}\\right]$$"
      ],
      "text/plain": [
       "⎡g       2       2 ⎤\n",
       "⎢─ + ω_sA   -ω_sA  ⎥\n",
       "⎢l                 ⎥\n",
       "⎢                  ⎥\n",
       "⎢   -k      g    k ⎥\n",
       "⎢   ───     ─ + ───⎥\n",
       "⎣   m_B     l   m_B⎦"
      ]
     },
     "execution_count": 97,
     "metadata": {},
     "output_type": "execute_result"
    }
   ],
   "source": [
    "New_EVMat = expand(EVecMat).subs(k/m_A, omega_sA**2); New_EVMat"
   ]
  },
  {
   "cell_type": "code",
   "execution_count": 98,
   "metadata": {
    "slideshow": {
     "slide_type": "fragment"
    }
   },
   "outputs": [
    {
     "data": {
      "image/png": "[encoded data removed]",
      "text/latex": [
       "$$\\left[\\begin{matrix}\\frac{g}{l} + \\omega_{sA}^{2} & - \\omega_{sA}^{2}\\\\- \\omega_{sB}^{2} & \\frac{g}{l} + \\omega_{sB}^{2}\\end{matrix}\\right]$$"
      ],
      "text/plain": [
       "⎡g       2        2  ⎤\n",
       "⎢─ + ω_sA    -ω_sA   ⎥\n",
       "⎢l                   ⎥\n",
       "⎢                    ⎥\n",
       "⎢      2    g       2⎥\n",
       "⎢ -ω_sB     ─ + ω_sB ⎥\n",
       "⎣           l        ⎦"
      ]
     },
     "execution_count": 98,
     "metadata": {},
     "output_type": "execute_result"
    }
   ],
   "source": [
    "New_EVMat = expand(New_EVMat).subs(k/m_B, omega_sB**2); New_EVMat"
   ]
  },
  {
   "cell_type": "code",
   "execution_count": 99,
   "metadata": {
    "slideshow": {
     "slide_type": "fragment"
    }
   },
   "outputs": [
    {
     "data": {
      "image/png": "[encoded data removed]",
      "text/latex": [
       "$$\\left[\\begin{matrix}\\omega_{p}^{2} + \\omega_{sA}^{2} & - \\omega_{sA}^{2}\\\\- \\omega_{sB}^{2} & \\omega_{p}^{2} + \\omega_{sB}^{2}\\end{matrix}\\right]$$"
      ],
      "text/plain": [
       "⎡  2       2         2   ⎤\n",
       "⎢ωₚ  + ω_sA     -ω_sA    ⎥\n",
       "⎢                        ⎥\n",
       "⎢       2       2       2⎥\n",
       "⎣  -ω_sB      ωₚ  + ω_sB ⎦"
      ]
     },
     "execution_count": 99,
     "metadata": {},
     "output_type": "execute_result"
    }
   ],
   "source": [
    "New_EVMat = expand(New_EVMat).subs(g/l, omega_p**2); New_EVMat"
   ]
  },
  {
   "cell_type": "code",
   "execution_count": 100,
   "metadata": {
    "slideshow": {
     "slide_type": "subslide"
    }
   },
   "outputs": [
    {
     "data": {
      "image/png": "[encoded data removed]",
      "text/latex": [
       "$$\\left[\\begin{matrix}\\omega_{p}^{2} + \\omega_{sA}^{2} & - \\omega_{sA}^{2}\\\\- \\omega_{sB}^{2} & \\omega_{p}^{2} + \\omega_{sB}^{2}\\end{matrix}\\right]$$"
      ],
      "text/plain": [
       "⎡  2       2         2   ⎤\n",
       "⎢ωₚ  + ω_sA     -ω_sA    ⎥\n",
       "⎢                        ⎥\n",
       "⎢       2       2       2⎥\n",
       "⎣  -ω_sB      ωₚ  + ω_sB ⎦"
      ]
     },
     "execution_count": 100,
     "metadata": {},
     "output_type": "execute_result"
    }
   ],
   "source": [
    "# Or it can be done in one fell swoop:\n",
    "New_EVMat = (expand(EVecMat).subs(k/m_A, omega_sA**2)\n",
    "                            .subs(k/m_B, omega_sB**2)\n",
    "                            .subs(g/l, omega_p**2))\n",
    "New_EVMat"
   ]
  },
  {
   "cell_type": "code",
   "execution_count": 101,
   "metadata": {
    "slideshow": {
     "slide_type": "subslide"
    }
   },
   "outputs": [
    {
     "data": {
      "image/png": "[encoded data removed]",
      "text/latex": [
       "$$\\left [ \\left ( \\omega_{p}^{2}, \\quad 1, \\quad \\left [ \\left[\\begin{matrix}1\\\\1\\end{matrix}\\right]\\right ]\\right ), \\quad \\left ( \\omega_{p}^{2} + \\omega_{sA}^{2} + \\omega_{sB}^{2}, \\quad 1, \\quad \\left [ \\left[\\begin{matrix}- \\frac{\\omega_{sA}^{2}}{\\omega_{sB}^{2}}\\\\1\\end{matrix}\\right]\\right ]\\right )\\right ]$$"
      ],
      "text/plain": [
       "⎡                 ⎛                        ⎡⎡     2 ⎤⎤⎞⎤\n",
       "⎢                 ⎜                        ⎢⎢-ω_sA  ⎥⎥⎟⎥\n",
       "⎢⎛  2     ⎡⎡1⎤⎤⎞  ⎜  2       2       2     ⎢⎢───────⎥⎥⎟⎥\n",
       "⎢⎜ωₚ , 1, ⎢⎢ ⎥⎥⎟, ⎜ωₚ  + ω_sA  + ω_sB , 1, ⎢⎢     2 ⎥⎥⎟⎥\n",
       "⎢⎝        ⎣⎣1⎦⎦⎠  ⎜                        ⎢⎢ ω_sB  ⎥⎥⎟⎥\n",
       "⎢                 ⎜                        ⎢⎢       ⎥⎥⎟⎥\n",
       "⎣                 ⎝                        ⎣⎣   1   ⎦⎦⎠⎦"
      ]
     },
     "execution_count": 101,
     "metadata": {},
     "output_type": "execute_result"
    }
   ],
   "source": [
    "# And now the finishing touch\n",
    "New_EVMat.eigenvects()"
   ]
  },
  {
   "cell_type": "markdown",
   "metadata": {
    "slideshow": {
     "slide_type": "-"
    }
   },
   "source": [
    "The line above is to be interpreted in the following way:\n",
    "\n",
    "1. There are two different eigenvalues, $\\omega_p^2$ and $\\omega_p^2+\\omega_{sA}^2+\\omega_{sB}^2$,\n",
    "2. each of these eigenvalues appears only once (this is what the \"1\" numbers mean in second positions),\n",
    "3. the eigenvectors are $[1, 1]$ (antisymmetric) and $[-\\omega_{sA}^2/\\omega_{sB}^2, 1]$ (pseudo-symmetric).\n",
    "Note how python doesn't care about normalizing the eigenvector norms, and that it used a different sign convention from me. It means that it does not really matter."
   ]
  },
  {
   "cell_type": "code",
   "execution_count": 102,
   "metadata": {
    "slideshow": {
     "slide_type": "subslide"
    }
   },
   "outputs": [],
   "source": [
    "# I can even do it with two different length of pendulums!\n",
    "l_A, l_B = symbols('l_A, l_B', real=True)\n",
    "omega_pA, omega_pB = symbols('omega_pA, omega_pB', real=True)\n",
    "\n",
    "# New stiffness matrix\n",
    "K_2 = Matrix([[m_A*g/l_A + k, -k],\n",
    "              [-k, m_B*g/l_B + k]])\n",
    "\n",
    "# new eigenvector problem\n",
    "EVecMat_2 = M.inv()*K_2\n",
    "New_EVMat_2 = (expand(EVecMat_2).subs(k/m_A, omega_sA**2)\n",
    "                                .subs(k/m_B, omega_sB**2)\n",
    "                                .subs(g/l_A, omega_pA**2)\n",
    "                                .subs(g/l_B, omega_pB**2))"
   ]
  },
  {
   "cell_type": "code",
   "execution_count": 103,
   "metadata": {
    "slideshow": {
     "slide_type": "subslide"
    }
   },
   "outputs": [
    {
     "data": {
      "image/png": "[encoded data removed]",
      "text/latex": [
       "$$\\left [ \\left ( \\frac{\\omega_{pA}^{2}}{2} + \\frac{\\omega_{pB}^{2}}{2} + \\frac{\\omega_{sA}^{2}}{2} + \\frac{\\omega_{sB}^{2}}{2} - \\frac{\\sqrt{\\omega_{pA}^{4} - 2 \\omega_{pA}^{2} \\omega_{pB}^{2} + 2 \\omega_{pA}^{2} \\omega_{sA}^{2} - 2 \\omega_{pA}^{2} \\omega_{sB}^{2} + \\omega_{pB}^{4} - 2 \\omega_{pB}^{2} \\omega_{sA}^{2} + 2 \\omega_{pB}^{2} \\omega_{sB}^{2} + \\omega_{sA}^{4} + 2 \\omega_{sA}^{2} \\omega_{sB}^{2} + \\omega_{sB}^{4}}}{2}, \\quad 1, \\quad \\left [ \\left[\\begin{matrix}\\frac{\\omega_{sA}^{2}}{\\frac{\\omega_{pA}^{2}}{2} - \\frac{\\omega_{pB}^{2}}{2} + \\frac{\\omega_{sA}^{2}}{2} - \\frac{\\omega_{sB}^{2}}{2} + \\frac{\\sqrt{\\omega_{pA}^{4} - 2 \\omega_{pA}^{2} \\omega_{pB}^{2} + 2 \\omega_{pA}^{2} \\omega_{sA}^{2} - 2 \\omega_{pA}^{2} \\omega_{sB}^{2} + \\omega_{pB}^{4} - 2 \\omega_{pB}^{2} \\omega_{sA}^{2} + 2 \\omega_{pB}^{2} \\omega_{sB}^{2} + \\omega_{sA}^{4} + 2 \\omega_{sA}^{2} \\omega_{sB}^{2} + \\omega_{sB}^{4}}}{2}}\\\\1\\end{matrix}\\right]\\right ]\\right ), \\quad \\left ( \\frac{\\omega_{pA}^{2}}{2} + \\frac{\\omega_{pB}^{2}}{2} + \\frac{\\omega_{sA}^{2}}{2} + \\frac{\\omega_{sB}^{2}}{2} + \\frac{\\sqrt{\\omega_{pA}^{4} - 2 \\omega_{pA}^{2} \\omega_{pB}^{2} + 2 \\omega_{pA}^{2} \\omega_{sA}^{2} - 2 \\omega_{pA}^{2} \\omega_{sB}^{2} + \\omega_{pB}^{4} - 2 \\omega_{pB}^{2} \\omega_{sA}^{2} + 2 \\omega_{pB}^{2} \\omega_{sB}^{2} + \\omega_{sA}^{4} + 2 \\omega_{sA}^{2} \\omega_{sB}^{2} + \\omega_{sB}^{4}}}{2}, \\quad 1, \\quad \\left [ \\left[\\begin{matrix}\\frac{\\omega_{sA}^{2}}{\\frac{\\omega_{pA}^{2}}{2} - \\frac{\\omega_{pB}^{2}}{2} + \\frac{\\omega_{sA}^{2}}{2} - \\frac{\\omega_{sB}^{2}}{2} - \\frac{\\sqrt{\\omega_{pA}^{4} - 2 \\omega_{pA}^{2} \\omega_{pB}^{2} + 2 \\omega_{pA}^{2} \\omega_{sA}^{2} - 2 \\omega_{pA}^{2} \\omega_{sB}^{2} + \\omega_{pB}^{4} - 2 \\omega_{pB}^{2} \\omega_{sA}^{2} + 2 \\omega_{pB}^{2} \\omega_{sB}^{2} + \\omega_{sA}^{4} + 2 \\omega_{sA}^{2} \\omega_{sB}^{2} + \\omega_{sB}^{4}}}{2}}\\\\1\\end{matrix}\\right]\\right ]\\right )\\right ]$$"
      ],
      "text/plain": [
       "⎡⎛                                                                            \n",
       "⎢⎜                                                                            \n",
       "⎢⎜                                   _________________________________________\n",
       "⎢⎜    2       2       2       2     ╱     4         2     2         2     2   \n",
       "⎢⎜ω_pA    ω_pB    ω_sA    ω_sB    ╲╱  ω_pA  - 2⋅ω_pA ⋅ω_pB  + 2⋅ω_pA ⋅ω_sA  - \n",
       "⎢⎜───── + ───── + ───── + ───── - ────────────────────────────────────────────\n",
       "⎢⎜  2       2       2       2                                                 \n",
       "⎢⎜                                                                            \n",
       "⎢⎜                                                                            \n",
       "⎣⎝                                                                            \n",
       "\n",
       "                                                                              \n",
       "                                                                              \n",
       "______________________________________________________________________________\n",
       "      2     2       4         2     2         2     2       4         2     2 \n",
       "2⋅ω_pA ⋅ω_sB  + ω_pB  - 2⋅ω_pB ⋅ω_sA  + 2⋅ω_pB ⋅ω_sB  + ω_sA  + 2⋅ω_sA ⋅ω_sB  \n",
       "──────────────────────────────────────────────────────────────────────────────\n",
       "                    2                                                         \n",
       "                                                                              \n",
       "                                                                              \n",
       "                                                                              \n",
       "\n",
       "             ⎡⎡                                                               \n",
       "             ⎢⎢                                                               \n",
       "________     ⎢⎢───────────────────────────────────────────────────────────────\n",
       "      4      ⎢⎢                                   ____________________________\n",
       "+ ω_sB       ⎢⎢    2       2       2       2     ╱     4         2     2      \n",
       "────────, 1, ⎢⎢ω_pA    ω_pB    ω_sA    ω_sB    ╲╱  ω_pA  - 2⋅ω_pA ⋅ω_pB  + 2⋅ω\n",
       "             ⎢⎢───── - ───── + ───── - ───── + ───────────────────────────────\n",
       "             ⎢⎢  2       2       2       2                                    \n",
       "             ⎢⎢                                                               \n",
       "             ⎣⎣                                                               \n",
       "\n",
       "                   2                                                          \n",
       "               ω_sA                                                           \n",
       "──────────────────────────────────────────────────────────────────────────────\n",
       "______________________________________________________________________________\n",
       "   2     2         2     2       4         2     2         2     2       4    \n",
       "_pA ⋅ω_sA  - 2⋅ω_pA ⋅ω_sB  + ω_pB  - 2⋅ω_pB ⋅ω_sA  + 2⋅ω_pB ⋅ω_sB  + ω_sA  + 2\n",
       "──────────────────────────────────────────────────────────────────────────────\n",
       "                                 2                                            \n",
       "                                                                              \n",
       "                 1                                                            \n",
       "\n",
       "                     ⎤⎤⎞  ⎛                                                   \n",
       "                     ⎥⎥⎟  ⎜                                                   \n",
       "─────────────────────⎥⎥⎟  ⎜                                   ________________\n",
       "_____________________⎥⎥⎟  ⎜    2       2       2       2     ╱     4         2\n",
       "     2     2       4 ⎥⎥⎟  ⎜ω_pA    ω_pB    ω_sA    ω_sB    ╲╱  ω_pA  - 2⋅ω_pA \n",
       "⋅ω_sA ⋅ω_sB  + ω_sB  ⎥⎥⎟, ⎜───── + ───── + ───── + ───── + ───────────────────\n",
       "─────────────────────⎥⎥⎟  ⎜  2       2       2       2                        \n",
       "                     ⎥⎥⎟  ⎜                                                   \n",
       "                     ⎥⎥⎟  ⎜                                                   \n",
       "                     ⎦⎦⎠  ⎝                                                   \n",
       "\n",
       "                                                                              \n",
       "                                                                              \n",
       "______________________________________________________________________________\n",
       "     2         2     2         2     2       4         2     2         2     2\n",
       "⋅ω_pB  + 2⋅ω_pA ⋅ω_sA  - 2⋅ω_pA ⋅ω_sB  + ω_pB  - 2⋅ω_pB ⋅ω_sA  + 2⋅ω_pB ⋅ω_sB \n",
       "──────────────────────────────────────────────────────────────────────────────\n",
       "                                             2                                \n",
       "                                                                              \n",
       "                                                                              \n",
       "                                                                              \n",
       "\n",
       "                                      ⎡⎡                                      \n",
       "                                      ⎢⎢                                      \n",
       "_________________________________     ⎢⎢──────────────────────────────────────\n",
       "       4         2     2       4      ⎢⎢                                   ___\n",
       " + ω_sA  + 2⋅ω_sA ⋅ω_sB  + ω_sB       ⎢⎢    2       2       2       2     ╱   \n",
       "─────────────────────────────────, 1, ⎢⎢ω_pA    ω_pB    ω_sA    ω_sB    ╲╱  ω_\n",
       "                                      ⎢⎢───── - ───── + ───── - ───── - ──────\n",
       "                                      ⎢⎢  2       2       2       2           \n",
       "                                      ⎢⎢                                      \n",
       "                                      ⎣⎣                                      \n",
       "\n",
       "                                            2                                 \n",
       "                                        ω_sA                                  \n",
       "──────────────────────────────────────────────────────────────────────────────\n",
       "______________________________________________________________________________\n",
       "  4         2     2         2     2         2     2       4         2     2   \n",
       "pA  - 2⋅ω_pA ⋅ω_pB  + 2⋅ω_pA ⋅ω_sA  - 2⋅ω_pA ⋅ω_sB  + ω_pB  - 2⋅ω_pB ⋅ω_sA  + \n",
       "──────────────────────────────────────────────────────────────────────────────\n",
       "                                                          2                   \n",
       "                                                                              \n",
       "                                          1                                   \n",
       "\n",
       "                                              ⎤⎤⎞⎤\n",
       "                                              ⎥⎥⎟⎥\n",
       "──────────────────────────────────────────────⎥⎥⎟⎥\n",
       "______________________________________________⎥⎥⎟⎥\n",
       "      2     2       4         2     2       4 ⎥⎥⎟⎥\n",
       "2⋅ω_pB ⋅ω_sB  + ω_sA  + 2⋅ω_sA ⋅ω_sB  + ω_sB  ⎥⎥⎟⎥\n",
       "──────────────────────────────────────────────⎥⎥⎟⎥\n",
       "                                              ⎥⎥⎟⎥\n",
       "                                              ⎥⎥⎟⎥\n",
       "                                              ⎦⎦⎠⎦"
      ]
     },
     "execution_count": 103,
     "metadata": {},
     "output_type": "execute_result"
    }
   ],
   "source": [
    "New_EVMat_2.eigenvects()"
   ]
  },
  {
   "cell_type": "markdown",
   "metadata": {
    "slideshow": {
     "slide_type": "skip"
    }
   },
   "source": [
    "*Note: the result above is so long that it will not display properly on the pdf version of the notes. Which is the message here: the result is so long, it is not practical to handle it symbolically.*"
   ]
  },
  {
   "cell_type": "markdown",
   "metadata": {
    "slideshow": {
     "slide_type": "skip"
    }
   },
   "source": [
    "Obviously, in a practical setting, we would be using a numerical math package, not a symbolic one!\n",
    "These excruciatingly complicated expressions would become mere numbers, which computers could crunch out."
   ]
  },
  {
   "cell_type": "markdown",
   "metadata": {
    "slideshow": {
     "slide_type": "skip"
    }
   },
   "source": [
    "# Other Examples\n",
    "\n",
    "## Masses Coupled by Springs"
   ]
  },
  {
   "cell_type": "markdown",
   "metadata": {
    "slideshow": {
     "slide_type": "skip"
    }
   },
   "source": [
    "See King fig. 4.11.\n",
    "![Fig. 10: King 4.11](CoupledMassesSprings.png)"
   ]
  },
  {
   "cell_type": "markdown",
   "metadata": {
    "slideshow": {
     "slide_type": "skip"
    }
   },
   "source": [
    "#### Equations of motion\n",
    "Let both masses be equal this time, and let all the stiffnesses be equal as well.\n",
    "Equations are:\n",
    "$$ m \\ddot x_A = -k x_A + k(x_B - x_A) = k x_B - 2 k x_A, $$\n",
    "$$ m \\ddot x_B = -k (x_B - x_A) - kx_B = k x_A - 2 k x_B. $$"
   ]
  },
  {
   "cell_type": "markdown",
   "metadata": {
    "slideshow": {
     "slide_type": "skip"
    }
   },
   "source": [
    "Dividing by $m$:\n",
    "$$ \\ddot x_A = \\omega_s^2 (x_B - 2 x_A), $$\n",
    "$$ \\ddot x_B = \\omega_s^2 (x_A - 2 x_B). $$"
   ]
  },
  {
   "cell_type": "markdown",
   "metadata": {
    "slideshow": {
     "slide_type": "skip"
    }
   },
   "source": [
    "#### Form of the solution\n",
    "We are looking for *normal modes*.\n",
    "Recall the definition of the normal modes: **normal modes are modes for which all elements of the coupled system oscillate at the same, unique frequency.**\n",
    "Therefore, we look for solutions of the form\n",
    "$$ \\vec X = C\\vec Y \\cos(\\omega t + \\phi). $$"
   ]
  },
  {
   "cell_type": "markdown",
   "metadata": {
    "slideshow": {
     "slide_type": "skip"
    }
   },
   "source": [
    "As before, solving the eigenvalue problem will yield the $\\omega$'s and $\\vec Y$'s, while the $C$'s and $\\phi$'s are determined in a second time, with the initial conditions."
   ]
  },
  {
   "cell_type": "markdown",
   "metadata": {
    "slideshow": {
     "slide_type": "skip"
    }
   },
   "source": [
    "#### Eigenproblem and solving for $\\vec Y$ and $\\omega$.\n",
    "The previous system of equations becomes\n",
    "$$ \\omega_s^2 (2x_A - x_B) = \\omega^2 x_A, \\hspace{6cm} (9a)$$\n",
    "$$ \\omega_s^2 (2x_B - x_A) = \\omega^2 x_B, \\hspace{6cm} (9b)$$\n",
    "which has the form of an eigenproblem."
   ]
  },
  {
   "cell_type": "markdown",
   "metadata": {
    "slideshow": {
     "slide_type": "skip"
    }
   },
   "source": [
    "Indeed, defining \n",
    "$$ M^{-1}K = \\omega_s^2 \\begin{bmatrix}\n",
    "                            2 & -1 \\\\\n",
    "                            -1 & 2\n",
    "                        \\end{bmatrix}, $$\n",
    "We can write the above system of equations as\n",
    "$$ M^{-1}K \\vec X = \\omega^2 \\vec X. $$"
   ]
  },
  {
   "cell_type": "markdown",
   "metadata": {
    "slideshow": {
     "slide_type": "skip"
    }
   },
   "source": [
    "We find the eigenfrequencies by finding the roots of the characteristic polynomial, i.e., of\n",
    "$$ \\det(M^-1 K - \\omega^2\\mathsf I_2) = 0 = (2\\omega_s^2 - \\omega^2)^2 - \\omega_s^4 = (\\omega^2 - \\omega_s^2)(\\omega^2 - 3\\omega^2_s). $$"
   ]
  },
  {
   "cell_type": "markdown",
   "metadata": {
    "slideshow": {
     "slide_type": "skip"
    }
   },
   "source": [
    "Thus, the eigenfrequencies are $\\omega_1=\\omega_s$ and $\\omega_2 = \\sqrt{3}\\omega_s$."
   ]
  },
  {
   "cell_type": "markdown",
   "metadata": {
    "slideshow": {
     "slide_type": "skip"
    }
   },
   "source": [
    "The mode, oscillating at $\\omega_1= \\omega_s$ can be qualified as \"antisymmetric\" again. It is the mode for which both masses oscillate in sync, and the central spring is neither stretched or compressed. Therefore, only the external springs stretch or compress, and their natural frequencies of oscillations are simply $\\omega_s$.\n",
    "\n",
    "![Fig. 11: the symmetric normal mode](spring_sym.gif)"
   ]
  },
  {
   "cell_type": "markdown",
   "metadata": {
    "slideshow": {
     "slide_type": "skip"
    }
   },
   "source": [
    "By process of elimination, and because the system is neatly symmetric around the central $x$, we can surmise that the other mode, oscillating at $\\omega_2 = \\sqrt3 \\omega_s$, is a symmetric mode of motion, the motion of both masses being symmetric with respect to the central plane.\n",
    "\n",
    "![Fig. 12: the antisymmetric normal mode.](spring_asyn.gif)"
   ]
  },
  {
   "cell_type": "markdown",
   "metadata": {
    "slideshow": {
     "slide_type": "skip"
    }
   },
   "source": [
    "Defining $\\vec Y = [a, b]$, we can find the orientation of the eigenvectors by replacing $x_A$ and $x_B$ by $a$ and $b$ in the system $(9)$, or in only one of the equations since they are redundant.\n",
    "\n",
    "In the case $\\omega = \\omega_s$, eqn. $(9a)$ becomes $a - b = 0$, or $a =b$. It is indeed the antisymmetric mode.\n",
    "Normalizing to have $\\|\\vec Y_1\\| = 1$ (*which I do, but isn't necessary!*) yields $a = b = 1/\\sqrt{2}$.\n",
    "\n",
    "In the case $\\omega = \\sqrt{3}\\omega_s$, eqn. $(9a)$ becomes $a = -b$. It is indeed the symmetric mode.\n",
    "Normalizing to have $\\|\\vec Y_2\\| = 1$ yields $a = -b = 1/\\sqrt{2}$."
   ]
  },
  {
   "cell_type": "markdown",
   "metadata": {
    "slideshow": {
     "slide_type": "skip"
    }
   },
   "source": [
    "Any solution of the coupled oscillator system is therefore\n",
    "$$ \\vec X = \\frac{C_1}{\\sqrt{2}}\\begin{bmatrix}\n",
    "                    1 \\\\ 1\n",
    "               \\end{bmatrix}\\cos(\\omega_s t + \\phi_1) + \n",
    "            \\frac{C_2}{\\sqrt{2}}\\begin{bmatrix}\n",
    "                    1 \\\\ -1\n",
    "            \\end{bmatrix}\\cos(\\sqrt3\\omega_s t + \\phi_2).$$"
   ]
  },
  {
   "cell_type": "markdown",
   "metadata": {
    "slideshow": {
     "slide_type": "skip"
    }
   },
   "source": [
    "Any problem would the completed by using initial conditions in order to solve for the $C$'s and $\\phi$'s.\n",
    "I won't do it."
   ]
  },
  {
   "cell_type": "markdown",
   "metadata": {
    "slideshow": {
     "slide_type": "slide"
    }
   },
   "source": [
    "## Ocean Tides"
   ]
  },
  {
   "cell_type": "markdown",
   "metadata": {
    "slideshow": {
     "slide_type": "subslide"
    }
   },
   "source": [
    "For your interest only. This discussion is based on the following two articles:\n",
    "\n",
    "* Arbic, Brian K., and Chris Garrett. 2010. \"A Coupled Oscillator Model of Shelf and Ocean Tides.\" Continental Shelf Research 30 (6). Pergamon: 564–74. doi:10.1016/j.csr.2009.07.008.\n",
    "* Arbic, Brian K., Richard H. Karsten, and Chris Garrett. 2009. \"On Tidal Resonance in the Global Ocean and the Back-effect of Coastal Tides upon Open-ocean Tides.\" Atmosphere-Ocean 47 (4): 239–66. doi:10.3137/OC311.2009.\n",
    "\n",
    "I have uploaded those two articles onto the portal along with these lecture notes."
   ]
  },
  {
   "cell_type": "markdown",
   "metadata": {
    "slideshow": {
     "slide_type": "skip"
    }
   },
   "source": [
    "Every continent is surrounded by continental shelves, i.e., regions where the ocean floor is relatively flat, and relatively shallow (less than 500 m deep).\n",
    "You may easily realize this by looking at google maps in satellite mode.\n",
    "In contrast, the \"open-ocean\" is in general much deeper (5 km).\n",
    "Because these two regions of the ocean are much different, they can be thought of as individual oscillators with respect to tidal forcing, with their own resonance frequencies, and their own damping rates: damping is much stronger for tides in shallower seas, because the proximity to the bottom creates much more fluid friction and turbulence."
   ]
  },
  {
   "cell_type": "markdown",
   "metadata": {
    "slideshow": {
     "slide_type": "skip"
    }
   },
   "source": [
    "Some continental shelves are fairly well isolated from the open ocean.\n",
    "The example that is closest to home, but also one of the best examples in the world, is Hudson Bay.\n",
    "It is very large (over 1000 km diameter) and shallow (about 100 m on average), and coupled to the open-ocean via a series of very narrow and even more shallow straits."
   ]
  },
  {
   "cell_type": "markdown",
   "metadata": {
    "slideshow": {
     "slide_type": "skip"
    }
   },
   "source": [
    "One would think that such an isolated body of water does its own thing, resonating with the tidal forcing without influencing the other bodies of water.\n",
    "This would be neglecting the peculiar properties of resonance, and in particular that even if the coupling is weak between two oscillators, if the forcing provided by the first oscillator to the second oscillator happens to be at a resonance frequency of the second oscillator, the second oscillator will react strongly.\n",
    "As a consequence, the coupled system will have a fundamentally different behaviour than if the two oscillators were uncoupled: modes of oscillation take over, and the behaviour becomes global."
   ]
  },
  {
   "cell_type": "markdown",
   "metadata": {
    "slideshow": {
     "slide_type": "skip"
    }
   },
   "source": [
    "Arbic and his colleagues were interested in paleo-oceanography, and in particular, what were the tides like during the last glacial maximum, were polar ice caps were retaining a lot of the world's water in solid form, above sea level?\n",
    "Then, sea level was more than 100 m below what it is now, and the oscillators as well as the couplings between them must have been very different.\n",
    "They realized it was very complicated, and that the slightest changes in the coastal configuration could change the global tides radically.\n",
    "Take a look at Arbic and Garrett 2010, page 2: they push the analogy as far as drawing two masses linked by springs, go over a discussion about damping, plot the same resonance curves that I drew in chapter 3, etc.!"
   ]
  },
  {
   "cell_type": "markdown",
   "metadata": {
    "slideshow": {
     "slide_type": "skip"
    }
   },
   "source": [
    "The two articles that I am attaching, along with my lecture notes, are proof-of-concept kind of articles, where they run numerical simulations of ocean tides in which they artificially change tiny bits of coasts.\n",
    "In particular, they block Hudson Strait between Hudson Bay and the Atlantic Ocean, and find that the tides are completely modified everywhere in the Atlantic Ocean (see figure here, i.e., fig. 15a, b, c of Arbic et al. 2009, reproduced here.) and even as far as India, were a 20 cm increase in tidal amplitude happens!"
   ]
  },
  {
   "cell_type": "markdown",
   "metadata": {
    "slideshow": {
     "slide_type": "subslide"
    }
   },
   "source": [
    "![Fig. 13: Reproduction of fig. 15a, b and c of Arbic et al. 2009: \"(a) and (b) $M_2$ amplitudes (m) near Hudson Strait in nominal (unblocked) and blocked Hudson Strait experiments. (c) Global map of $M_2$ amplitude differences (m) between the blocked Hudson Strait experiment and the unblocked experiment.\" *Note:* $M_2 \\approx 2\\pi/(12.4 hours)$ *is the name of the lunar semidiurnal tide frequency.*](HudsonBlocked.png)"
   ]
  },
  {
   "cell_type": "markdown",
   "metadata": {
    "slideshow": {
     "slide_type": "skip"
    }
   },
   "source": [
    "Such considerations illustrate how delicate it is to predict adaptation to climate change.\n",
    "If the sea level is predicted to rise by metres, what will it entail e.g. for artifical ports, which have been designed to operate optimally under present-day tides? The changes in amplitudes and phases of tides might render some harbours less optimal than others, some breeding grounds might change, some touristic destinations might need to be redesigned..."
   ]
  },
  {
   "cell_type": "markdown",
   "metadata": {
    "slideshow": {
     "slide_type": "skip"
    }
   },
   "source": [
    "# On the Orthogonality of the Eigenmodes"
   ]
  },
  {
   "cell_type": "markdown",
   "metadata": {
    "slideshow": {
     "slide_type": "skip"
    }
   },
   "source": [
    "## One Last Bit of Linear Algebra"
   ]
  },
  {
   "cell_type": "markdown",
   "metadata": {
    "slideshow": {
     "slide_type": "skip"
    }
   },
   "source": [
    "The last bit of linear algebra that I will be using is that if $\\textsf P$ is real symmetric, i.e., all elements of $\\textsf P$ are real, and $\\textsf P^T = \\textsf P$, then the eigenvectors of $\\textsf P$ are orthogonal to each other.\n",
    "That is, for eigenvectors that have been normalized ($\\forall i\\in {1\\dots{}n}, \\|V_i\\| = 1$),\n",
    "$$\\forall (i, j) \\in \\{1\\dots n\\}^2, \\qquad V_i\\cdot V_j = \\delta_{ij}, $$\n",
    "where $\\delta_{ij} = 1$ if $i=j$, and $\\delta_{ij} = 0$ otherwise ($\\delta_{ij}$ is called the \"Kronecker Delta\")."
   ]
  },
  {
   "cell_type": "markdown",
   "metadata": {
    "slideshow": {
     "slide_type": "skip"
    }
   },
   "source": [
    "*Note: the generalization of a real symmetric matrix is called a Hermitian matrix, for which* $P_{ij} = P_{ji}^*$ *, where the asterisk means complex conjugate. The result above applies to Hermitian matrices, which will be very important very soon, in quantum mechanics.*"
   ]
  },
  {
   "cell_type": "markdown",
   "metadata": {
    "slideshow": {
     "slide_type": "skip"
    }
   },
   "source": [
    "In general, what the dot product is depends on the vector space. In our case, it is simply that if $\\vec Y_a = [a_1, a_2]$ and $\\vec Y_b = [b_1, b_2]$, then $\\vec Y_a \\cdot \\vec Y_b = a_1b_1 + a_2b_2$."
   ]
  },
  {
   "cell_type": "markdown",
   "metadata": {
    "slideshow": {
     "slide_type": "skip"
    }
   },
   "source": [
    "Let me re-use the example of the two coupled pendulums of different masses.\n",
    "The matrix $\\textsf P$ corresponded to\n",
    "$$ M^{-1}K = \\begin{bmatrix}\n",
    "                 \\frac{g}l + \\frac{k}{m_A} & -\\frac{k}{m_A} \\\\\n",
    "                 -\\frac{k}{m_B} & \\frac{g}l + \\frac{k}{m_B}\n",
    "             \\end{bmatrix},$$\n",
    "and the normalized eigenvectors were \n",
    "$$ \\vec Y_1 = \\frac{1}{\\sqrt{2}}\\begin{bmatrix}\n",
    "                                     1 \\\\ 1\n",
    "                                 \\end{bmatrix}\n",
    "\\and\n",
    "\\vec Y_2 = \\frac{1}{\\sqrt{\\omega_{sA}^4 + \\omega_{sB}^4}}\\begin{bmatrix}\n",
    "               \\omega_{sA}^2 \\\\\n",
    "               -\\omega_{sB}^2\n",
    "           \\end{bmatrix}\n",
    "         = \\frac1{\\sqrt{m_A^2 + m_B^2}}\\begin{bmatrix}\n",
    "                                           m_B \\\\\n",
    "                                           -m_A\n",
    "                                       \\end{bmatrix}.$$"
   ]
  },
  {
   "cell_type": "markdown",
   "metadata": {
    "slideshow": {
     "slide_type": "skip"
    }
   },
   "source": [
    "The projection of the two eigenvectors onto each other is therefore\n",
    "$$ \\vec Y_1 \\cdot \\vec Y_2 = \\frac{m_B - m_A}{\\sqrt{2(m_A^2 + m_B^2)}}. $$"
   ]
  },
  {
   "cell_type": "markdown",
   "metadata": {
    "slideshow": {
     "slide_type": "skip"
    }
   },
   "source": [
    "Therefore, if $m_A = m_B$, the two statements \"$\\vec Y_1 \\perp \\vec Y_2$\" and \"$M^{-1}K$ is real symmetric\" are both true. In light of the linear algebra result I recalled above, this is no coincidence.\n",
    "\n",
    "Cases in which the matrix is real symmetric correspond to a wide range of applications.\n",
    "In these cases, the orthogonality property simplifies the calculations greatly, especially when the number of oscillators becomes large.\n",
    "The reason is that it becomes very easy to isolate every mode.\n",
    "\n",
    "Here, I divide the examples of applications into two classes: initial value problems (the free response), and forced problems (the driven response).\n",
    "\n",
    "*Note: there are relatively easy ways to generalize these results to non-symmetric matrices, because $\\vec Y_i M\\vec Y_j = 0$ if $i\\neq j$. It represents an additional mathematical complexity level that, while not that difficult, is too much to deal with in the short amount of time I have.*"
   ]
  },
  {
   "cell_type": "markdown",
   "metadata": {
    "slideshow": {
     "slide_type": "skip"
    }
   },
   "source": [
    "## Initial Value Problems"
   ]
  },
  {
   "cell_type": "markdown",
   "metadata": {
    "slideshow": {
     "slide_type": "skip"
    }
   },
   "source": [
    "Recall that the free response of the coupled system of oscillators can be written\n",
    "$$ \\vec X = C_1 \\vec Y_1 \\cos(\\omega_1 t + \\phi_1) + C_2 \\vec Y_2 \\cos(\\omega_2 t + \\phi_2), $$\n",
    "and that at $t = 0$,\n",
    "$\\vec X(t=0) = \\vec X_0 = C_1 \\vec Y_1\\cos\\phi_1 + C_2 \\vec Y_2\\cos\\phi_2$."
   ]
  },
  {
   "cell_type": "markdown",
   "metadata": {
    "slideshow": {
     "slide_type": "skip"
    }
   },
   "source": [
    "The velocity is\n",
    "$$ \\vec V = -\\omega_1 C_1 \\vec Y_1 \\sin(\\omega_1 t + \\phi_1) - \\omega_2 C_2 \\vec Y_2 \\sin(\\omega_2 t + \\phi_2),$$\n",
    "which initially is \n",
    "$\\vec V(t=0) = \\vec V_0 = -\\omega_1C_1 \\vec Y_1\\sin\\phi_1 -\\omega_2 C_2 \\vec Y_2\\sin\\phi_2$."
   ]
  },
  {
   "cell_type": "raw",
   "metadata": {
    "raw_mimetype": "text/markdown",
    "slideshow": {
     "slide_type": "skip"
    }
   },
   "source": [
    "### $M^{-1}K$ symmetric\n",
    "\n",
    "This is the only case you need to remember. "
   ]
  },
  {
   "cell_type": "markdown",
   "metadata": {
    "slideshow": {
     "slide_type": "skip"
    }
   },
   "source": [
    "Finding the initial conditions for the modes is merely about projecting onto $\\vec Y_1$ and $\\vec Y_2$:\n",
    "$$ \\vec X_0\\cdot \\vec Y_1 = C_1 \\cos\\phi_1, $$\n",
    "$$ \\vec X_0\\cdot \\vec Y_2 = C_2 \\cos\\phi_2, $$\n",
    "$$ \\vec V_0\\cdot \\vec Y_1 = -\\omega_1 C_1 \\sin\\phi_1, $$\n",
    "$$ \\vec V_0\\cdot \\vec Y_2 = -\\omega_2 C_2 \\sin\\phi_2, $$\n",
    "because $\\vec Y_1 \\cdot \\vec Y_2 = 0$."
   ]
  },
  {
   "cell_type": "markdown",
   "metadata": {
    "slideshow": {
     "slide_type": "skip"
    }
   },
   "source": [
    "*Note: if $\\vec Y_1$ and $\\vec Y_2$ are not normalized, you need to multiply these right-hand-sides by* $\\|\\vec Y_1\\|^2$ *and* $\\|\\vec Y_2\\|^2$!!!"
   ]
  },
  {
   "cell_type": "markdown",
   "metadata": {
    "slideshow": {
     "slide_type": "skip"
    }
   },
   "source": [
    "Take the example of the identical coupled pendulums, with $x_{A0} = A > 0$, $x_{B0} = 0$, $v_{A0} = v_{B0} = 0.$\n",
    "We had $\\vec Y_1 = [1, 1]/\\sqrt{2}$ and $\\vec Y_2 = [1, -1]/\\sqrt{2}$.\n",
    "$$ \\vec X_0\\cdot \\vec Y_1 = A/\\sqrt{2} + 0/\\sqrt{2} = A/\\sqrt{2} = C_1 \\cos\\phi_1, $$\n",
    "$$ \\vec X_0\\cdot \\vec Y_2 = A/\\sqrt{2} - 0/\\sqrt{2} = A/\\sqrt{2} = C_2 \\cos\\phi_2, $$\n",
    "$$ \\vec V_0\\cdot \\vec Y_1 = 0/\\sqrt{2} + 0/\\sqrt{2} = 0 = -\\omega_1 C_1 \\sin\\phi_1, $$\n",
    "$$ \\vec V_0\\cdot \\vec Y_2 = 0/\\sqrt{2} - 0/\\sqrt{2} = 0 = -\\omega_2 C_2 \\sin\\phi_2. $$"
   ]
  },
  {
   "cell_type": "markdown",
   "metadata": {
    "slideshow": {
     "slide_type": "skip"
    }
   },
   "source": [
    "The only way for the last two equations to be satisfied with $C_1 > 0$ and $C_2 > 0$ is $\\phi_1 = \\phi_2 = 0$, in which case $C_1 = C_2 = A/\\sqrt{2}$, and the solution is\n",
    "$$ \\vec X = \\frac{A}{\\sqrt2} \\vec Y_1 \\cos(\\omega_1 t) + \\frac{A}{\\sqrt2} \\vec Y_2 \\cos(\\omega_2 t) = \\frac{A}{2} \\stirling11 \\cos(\\omega_1 t) + \\frac{A}2 \\stirling{1}{-1} \\cos(\\omega_2 t), $$"
   ]
  },
  {
   "cell_type": "raw",
   "metadata": {
    "raw_mimetype": "text/markdown",
    "slideshow": {
     "slide_type": "skip"
    }
   },
   "source": [
    "### $M^{-1}K$ non-symmetric\n",
    "\n",
    "It is actually fairly simple to generalize the results above for a non-symmetric $M^{-1}K$ matrix, but you are not required to remember it.\n",
    "*So much so that I will skip it in class!*"
   ]
  },
  {
   "cell_type": "raw",
   "metadata": {
    "raw_mimetype": "text/markdown",
    "slideshow": {
     "slide_type": "skip"
    }
   },
   "source": [
    "In this case, $\\vec Y_1 \\cdot \\vec Y_2 \\neq 0$, but $\\vec Y_1 M \\vec Y_2 = 0$. Therefore, instead of computing $\\vec X_0 \\cdot \\vec Y_1$, etc, finding the coefficients entails computing $\\vec X_0 M \\vec Y_1$, etc."
   ]
  },
  {
   "cell_type": "raw",
   "metadata": {
    "raw_mimetype": "text/markdown",
    "slideshow": {
     "slide_type": "skip"
    }
   },
   "source": [
    "Take the example of the coupled pendulums, with $x_{A0} = A > 0$, $x_{B0} = 0$, $v_{A0} = v_{B0} = 0.$\n",
    "We now choose $m_A = m$, and $m_B = 2m$.\n",
    "Therefore, $\\vec Y_1 = [1, 1]/\\sqrt{2}$ and $\\vec Y_2 = [2, -1]/\\sqrt{5}$."
   ]
  },
  {
   "cell_type": "raw",
   "metadata": {
    "raw_mimetype": "text/markdown",
    "slideshow": {
     "slide_type": "skip"
    }
   },
   "source": [
    "Then, \n",
    "$$ M \\vec Y_1 = \\frac1{\\sqrt2}\\begin{bmatrix}m & 0 \\\\ 0 & 2 m\\end{bmatrix}\\stirling{1}{1} = \\frac{m}{\\sqrt{2}}\\stirling{1}{2} \\and M \\vec Y_1 = \\frac1{\\sqrt5}\\begin{bmatrix}m & 0 \\\\ 0 & 2 m\\end{bmatrix}\\stirling{2}{-1} = \\frac{2m}{\\sqrt{5}}\\stirling{1}{-1}.$$"
   ]
  },
  {
   "cell_type": "raw",
   "metadata": {
    "raw_mimetype": "text/markdown",
    "slideshow": {
     "slide_type": "skip"
    }
   },
   "source": [
    "You can check that \n",
    "$$ \\vec Y_1 M \\vec Y_2 = \\frac{1}{\\sqrt{10}} [1, 1]\\begin{bmatrix}m & 0 \\\\ 0 & 2 m\\end{bmatrix}\\stirling{2}{-1} = \\frac{2m}{\\sqrt{10}}[1, 1] \\stirling{1}{-1} = 0,$$\n",
    "and same for $\\vec Y_2 M \\vec Y_1.$"
   ]
  },
  {
   "cell_type": "raw",
   "metadata": {
    "raw_mimetype": "text/markdown",
    "slideshow": {
     "slide_type": "skip"
    }
   },
   "source": [
    "For the coefficients, the procedure becomes\n",
    "$$ \\vec X_0 M \\vec Y_1 = mA/\\sqrt{2} + 0\\times 2m/\\sqrt{2} = A/\\sqrt{2} = C_1 \\cos\\phi_1, $$\n",
    "$$ \\vec X_0 M \\vec Y_2 = A/\\sqrt{2} - 0/\\sqrt{2} = A/\\sqrt{2} = C_2 \\cos\\phi_2, $$\n",
    "$$ \\vec V_0 M \\vec Y_1 = 0/\\sqrt{2} + 0/\\sqrt{2} = 0 = -\\omega_1 C_1 \\sin\\phi_1, $$\n",
    "$$ \\vec V_0 M \\vec Y_2 = 0/\\sqrt{2} - 0/\\sqrt{2} = 0 = -\\omega_2 C_2 \\sin\\phi_2. $$"
   ]
  },
  {
   "cell_type": "markdown",
   "metadata": {
    "slideshow": {
     "slide_type": "slide"
    }
   },
   "source": [
    "## Forced Problems"
   ]
  },
  {
   "cell_type": "markdown",
   "metadata": {
    "slideshow": {
     "slide_type": "skip"
    }
   },
   "source": [
    "Let us assume that there is some periodic force applied to the masses, and recall that $m_A = m_B = m$:\n",
    "$$ m\\ddot x_A + \\frac{mg}{l}x_A + k(x_A - x_B) = F_A\\cos(\\omega t),$$\n",
    "$$ m\\ddot x_A + \\frac{mg}{l}x_A + k(x_A - x_B) = F_B\\cos(\\omega t),$$\n",
    "which in matrix form can be written\n",
    "$$ \\ddot{\\vec X} + M^{-1}K \\vec X = \\vec \\Psi\\cos(\\omega t),\\hspace{5cm}(10) $$\n",
    "with $\\vec \\Psi = [F_A/m, F_B/m]$.\n",
    "Note that the problem is not an eigenvalue problem anymore."
   ]
  },
  {
   "cell_type": "markdown",
   "metadata": {
    "slideshow": {
     "slide_type": "skip"
    }
   },
   "source": [
    "The vectors $\\vec Y_1$ and $\\vec Y_2$, which were eigenvectors of the free problem, form an orthogonal basis for any 2D vector.\n",
    "Let me repeat this: $\\vec Y_1$ and $\\vec Y_2$ lose their special status as eigenvectors, but they still form an orthogonal basis on which any vector can be decomposed.\n",
    "Meaning that we can write\n",
    "$$ \\vec A = C_1 \\vec Y_1 + C_2 \\vec Y_2,\\quad \\vec X = q_1\\vec Y_1 + q_2 \\vec Y_2.$$"
   ]
  },
  {
   "cell_type": "markdown",
   "metadata": {
    "slideshow": {
     "slide_type": "skip"
    }
   },
   "source": [
    "Let me reiterate that the projections of $\\vec X$ on $\\vec Y_1$ and $\\vec Y_2$, i.e., $q_1$  and $q_2$, are not eigenmodes of the forced problem. \"Eigenmodes of the forced problem\" makes as much sense as \"free oscillations of the forced oscillator\" in the case of just one oscillator, i.e., no sense at all."
   ]
  },
  {
   "cell_type": "markdown",
   "metadata": {
    "slideshow": {
     "slide_type": "skip"
    }
   },
   "source": [
    "The forcing can also the projected onto $\\vec Y_1$ and $\\vec Y_2$:\n",
    "$$\\vec\\Psi = \\Psi_1 \\vec Y_1 + \\Psi_2 \\vec Y_2,$$\n",
    "with $\\Psi_1 = (F_A + F_B)/(\\sqrt{2}m)$ and $\\Psi_2 = (F_A - F_B)/(\\sqrt{2}m)$."
   ]
  },
  {
   "cell_type": "markdown",
   "metadata": {
    "slideshow": {
     "slide_type": "skip"
    }
   },
   "source": [
    "However, the crucial point here is that $M^{-1}K \\vec Y_{1, 2} = \\omega^2_{1,2}\\vec Y_{1, 2}$ is still true, by construction of $\\vec Y_{1,2}$.\n",
    "Collecting all of these comments, equation $(10)$ can therefore be re-written\n",
    "$$ \\ddot q_1{\\vec Y}_1 + \\ddot q_2 {\\vec Y}_2  + \\omega_1^2 q_1 \\vec Y_1 + \\omega_2^2 q_2 \\vec Y_2 = (\\Psi_1 \\vec Y_1 + \\Psi_2 \\vec Y_2)\\cos(\\omega t).$$"
   ]
  },
  {
   "cell_type": "markdown",
   "metadata": {
    "slideshow": {
     "slide_type": "skip"
    }
   },
   "source": [
    "Projecting the equation above on $\\vec Y_1$ and $\\vec Y_2$ yields, respectively,\n",
    "$$\\ddot q_1 + \\omega_1^2 q_1 = \\Psi_1\\cos(\\omega t).$$\n",
    "$$\\ddot q_2 + \\omega_1^2 q_2 = \\Psi_2\\cos(\\omega t).$$"
   ]
  },
  {
   "cell_type": "markdown",
   "metadata": {
    "slideshow": {
     "slide_type": "skip"
    }
   },
   "source": [
    "Therefore, individual modes can resonate, just like a simple oscillator can resonate.\n",
    "This time however, the complexity of the possible cases increases.\n",
    "For one mode to resonate, two conditions need to be satisfied.\n",
    "For example, for the first mode to resonate, we need $\\omega = \\omega_1$, just like in the simple oscillator case, but we also need $\\Psi_1 \\neq 0$."
   ]
  },
  {
   "cell_type": "markdown",
   "metadata": {
    "slideshow": {
     "slide_type": "skip"
    }
   },
   "source": [
    "In our coupled pendulums, the first mode (the antisymmetric one) does not grow if the forcing is symmetric, i.e., if $F_A = -F_B$, in which case $\\Psi_1 = 0$.\n",
    "In order to induce a resonance phenomenon, the frequency of the forcing has to match the corresponding frequency, and the forcing pattern needs to match the *polarization* of the mode, i.e., the \"shape of the mode\" (i.e. whether it is symmetric or antisymmetric, or whatever the pattern actually looks like), somewhat.\n",
    "\"Somewhat\" means that the projection of the force on the eigenvector has to be non-zero.\n",
    "For example, if only one mass feels a force, say, $F_A \\neq 0$ and $F_B = 0$, the pattern is not exactly matched, but $\\Psi_1 = F_A/\\sqrt{2}m + 0/\\sqrt{2} = F_A/\\sqrt2m \\neq 0$, which is enough to trigger a resonance."
   ]
  },
  {
   "cell_type": "markdown",
   "metadata": {
    "slideshow": {
     "slide_type": "skip"
    }
   },
   "source": [
    "All of this is true for any coupled system of oscillators, and for however many degrees of freedom there are. It is also true for non-symmetric matrices, but the mathematics are more complicated to describe in the short amount of time I have."
   ]
  },
  {
   "cell_type": "markdown",
   "metadata": {
    "slideshow": {
     "slide_type": "skip"
    }
   },
   "source": [
    "Of course, everything you have learned about damped harmonic oscillator resonance also applies to the modes.\n",
    "For example, if there is damping, the resonance curve will have a certain width:\n",
    "there can be amplification for frequencies that do not exactly match the eigenfrequencies of the free system.\n",
    "Each mode will have its own damping rate, and its own quality factor."
   ]
  },
  {
   "cell_type": "markdown",
   "metadata": {
    "slideshow": {
     "slide_type": "skip"
    }
   },
   "source": [
    "For example, an atom in elemental form or a molecule can be thought of as a coupled system of oscillators.\n",
    "Atoms can move around, and electrons can change levels, adding all sorts of degrees of freedom.\n",
    "This is how the atmospheric composition of the Sun can be determined from an absorption spectrum (cf. chapter 3)."
   ]
  },
  {
   "cell_type": "markdown",
   "metadata": {
    "slideshow": {
     "slide_type": "skip"
    }
   },
   "source": [
    "The reverse is true: every molecule has a specific emission spectrum, consisting of the emission of light at the resonance frequencies of the molecules.\n",
    "One just needs to excite the atom or molecule broadly, for example by heating it, and measure which frequencies are emitted by the atom or molecule.\n",
    "The more degrees of freedom there are, the more frequencies are emitted (cf. emission spectra of hydrogen vs. iron from Wikipedia, reproduced here)."
   ]
  },
  {
   "cell_type": "markdown",
   "metadata": {},
   "source": [
    "![Fig. 14: Visible lines of the emission spectrumm of hydrogen, by Merikanto, Adrignola [CC0], via Wikimedia Commons](800px-Emission_spectrum-H.png)"
   ]
  },
  {
   "cell_type": "markdown",
   "metadata": {},
   "source": [
    "![Fig. 15: Visible lines of the emission spectrumm of iron, by User:nilda (Own work) [Public domain], via Wikimedia Commons](Emission_spectrum-Fe.png)"
   ]
  },
  {
   "cell_type": "markdown",
   "metadata": {
    "slideshow": {
     "slide_type": "slide"
    }
   },
   "source": [
    "# $n$ Coupled Oscillators"
   ]
  },
  {
   "cell_type": "markdown",
   "metadata": {
    "slideshow": {
     "slide_type": "skip"
    }
   },
   "source": [
    "While I have illustrated this entire chapter with two oscillators, all the qualitative results apply to any number of oscillators.\n",
    "Right after this chapter, we will study waves, which can be thought of as a superposition of a finite or infinite number of modes, which arise from the fact that waves propagate on a continuous medium made of an infinite number of coupled oscillators."
   ]
  },
  {
   "cell_type": "markdown",
   "metadata": {
    "slideshow": {
     "slide_type": "skip"
    }
   },
   "source": [
    "I actually hesitated between making this section the last section on coupled oscillators, or the first section on waves. \n",
    "Ultimately, it does not matter, as long as the transition is clearly understood."
   ]
  },
  {
   "cell_type": "markdown",
   "metadata": {
    "slideshow": {
     "slide_type": "skip"
    }
   },
   "source": [
    "I will illustrate this point with identical masses, coupled by identical springs (cf. King fig. 4.11, reproduced earlier), because it is simpler than the coupled pendula, but complex enough to illustrate the principle.\n",
    "With two masses, we had\n",
    "$$ m \\ddot x_A = -k x_A + k(x_A - x_B), $$\n",
    "$$ m \\ddot x_B = -k (x_B - x_A) - kx_B. $$"
   ]
  },
  {
   "cell_type": "markdown",
   "metadata": {
    "slideshow": {
     "slide_type": "skip"
    }
   },
   "source": [
    "With three masses $A$, $B$ and $C$, we would have\n",
    "$$ m \\ddot x_A = -k x_A + k(x_B - x_A), $$\n",
    "$$ m \\ddot x_B = -k (x_B - x_A) + k(x_C-x_B), $$\n",
    "$$ m \\ddot x_C = -k (x_C - x_B) - kx_C. $$"
   ]
  },
  {
   "cell_type": "markdown",
   "metadata": {
    "slideshow": {
     "slide_type": "skip"
    }
   },
   "source": [
    "And with $N$ masses, we would have (I now index the masses with numbers instead of letters)\n",
    "$$ m \\ddot x_1 = -k x_1 + k(x_2 - x_1) = - 2 k x_1 + k x_2, $$\n",
    "$$ m \\ddot x_n = -k (x_{n} - x_{n-1}) + k(x_{n+1} - x_{n}) = k(x_{n+1} -2x_n + x_{n-1})\\quad\\forall n\\neq 1, N, $$\n",
    "$$ m \\ddot x_N = -k (x_N - x_{N-1}) - kx_N = -2k x_N + k x_{N-1}. $$"
   ]
  },
  {
   "cell_type": "markdown",
   "metadata": {
    "slideshow": {
     "slide_type": "skip"
    }
   },
   "source": [
    "After division by $m$, we can turn this system into an $N \\times N$ eigenvalue problem\n",
    "$$ (M^{-1}K - \\omega^2 \\textsf I_N) \\vec X =, $$\n",
    "with\n",
    "$$ M^{-1}K = \\omega_s^2\\begin{bmatrix}\n",
    "                 2      & -1     & 0      & \\dots  &        &        & 0 \\\\\n",
    "                 -1     & 2      & -1     & 0      & \\dots  &        & 0 \\\\\n",
    "                 0      & \\ddots & \\ddots & \\ddots &        &        & \\\\\n",
    "                 \\vdots & 0      & -1     & 2      & -1     & 0      & \\\\\n",
    "                        &        &        & \\ddots & \\ddots & \\ddots & \\\\\n",
    "                 \\\\\n",
    "                 0      & \\dots  &        &        & 0      & -1     & 2\n",
    "             \\end{bmatrix}.\n",
    "$$"
   ]
  },
  {
   "cell_type": "markdown",
   "metadata": {
    "slideshow": {
     "slide_type": "skip"
    }
   },
   "source": [
    "This matrix is actually simple enough that we should be able to find the eigenvalues analytically.\n",
    "My intention, however, is to show you that from a numerical point of view, a $3\\times 3$ matrix and a $N\\times N$ matrix are as hard to solve as each other as long as one understands how to use the methods of linear algebra.\n",
    "Instead of SymPy, Python's main symbolic math package, I will use NumPy, Python's main scientific computing package.\n",
    "Unlike SymPy, NumPy only understands numbers, not symbols."
   ]
  },
  {
   "cell_type": "code",
   "execution_count": 104,
   "metadata": {},
   "outputs": [],
   "source": [
    "# We already imported NumPy, but it is useful to import \n",
    "# NumPy's linear algebra functions separately.\n",
    "import numpy.linalg as LA\n",
    "# the following two packages allow me to display the animation\n",
    "from matplotlib import animation\n",
    "from IPython.display import HTML\n",
    "# More about animations: \n",
    "# https://stackoverflow.com/questions/43445103/inline-animations-in-jupyter"
   ]
  },
  {
   "cell_type": "code",
   "execution_count": 147,
   "metadata": {
    "slideshow": {
     "slide_type": "subslide"
    }
   },
   "outputs": [],
   "source": [
    "N = 10  # number of oscillators"
   ]
  },
  {
   "cell_type": "code",
   "execution_count": 148,
   "metadata": {
    "slideshow": {
     "slide_type": "fragment"
    }
   },
   "outputs": [
    {
     "name": "stdout",
     "output_type": "stream",
     "text": [
      "[[ 2. -1.  0.  0.  0.  0.  0.  0.  0.  0.]\n",
      " [-1.  2. -1.  0.  0.  0.  0.  0.  0.  0.]\n",
      " [ 0. -1.  2. -1.  0.  0.  0.  0.  0.  0.]\n",
      " [ 0.  0. -1.  2. -1.  0.  0.  0.  0.  0.]\n",
      " [ 0.  0.  0. -1.  2. -1.  0.  0.  0.  0.]\n",
      " [ 0.  0.  0.  0. -1.  2. -1.  0.  0.  0.]\n",
      " [ 0.  0.  0.  0.  0. -1.  2. -1.  0.  0.]\n",
      " [ 0.  0.  0.  0.  0.  0. -1.  2. -1.  0.]\n",
      " [ 0.  0.  0.  0.  0.  0.  0. -1.  2. -1.]\n",
      " [ 0.  0.  0.  0.  0.  0.  0.  0. -1.  2.]]\n"
     ]
    }
   ],
   "source": [
    "iMK = np.zeros((N, N))  # creates a NxN square matrix filled with zeroes\n",
    "# for simplicity, we set omega_s = 1 rad/s\n",
    "# I will fill the matrix in a somewhat clumsy way, for pedagogical reasons\n",
    "# However, there are functions to create tridiagonal matrices automatically\n",
    "iMK[0, 0] = 2.  # top left-hand corner\n",
    "iMK[0 , 1] = -1  # top line, one to the right\n",
    "iMK[-1, -1] = 2  # bottom right-hand corner\n",
    "iMK[-1, -2] = -1  # bottom line, one to the left\n",
    "if N > 2:\n",
    "    for n in range(1, N-1):  # this loop makes filling the matrix automatic\n",
    "        # we loop from the second to the penultimate line, which are all the same\n",
    "        iMK[n, n] = 2  # diagonal terms\n",
    "        iMK[n, n-1] = -1  # lower diagonal\n",
    "        iMK[n, n+1] = -1  # upper diagonal\n",
    "\n",
    "print(iMK)"
   ]
  },
  {
   "cell_type": "code",
   "execution_count": 149,
   "metadata": {
    "slideshow": {
     "slide_type": "subslide"
    }
   },
   "outputs": [],
   "source": [
    "eigvals, eigvecs = LA.eig(iMK)"
   ]
  },
  {
   "cell_type": "code",
   "execution_count": 150,
   "metadata": {},
   "outputs": [
    {
     "name": "stdout",
     "output_type": "stream",
     "text": [
      "[3.91898595 3.68250707 3.30972147 2.83083003 2.28462968 1.71537032\n",
      " 0.08101405 0.31749293 0.69027853 1.16916997]\n"
     ]
    }
   ],
   "source": [
    "print(eigvals)"
   ]
  },
  {
   "cell_type": "code",
   "execution_count": 151,
   "metadata": {},
   "outputs": [
    {
     "name": "stdout",
     "output_type": "stream",
     "text": [
      "[1.97964288 1.91898595 1.81926399 1.68250707 1.51149915 1.30972147\n",
      " 0.28462968 0.56346511 0.83083003 1.08128163]\n"
     ]
    }
   ],
   "source": [
    "eigfreqs = np.sqrt(eigvals)\n",
    "print(eigfreqs)"
   ]
  },
  {
   "cell_type": "code",
   "execution_count": 152,
   "metadata": {},
   "outputs": [
    {
     "name": "stdout",
     "output_type": "stream",
     "text": [
      "[[ 0.12013117  0.23053002  0.3222527   0.38786839 -0.42206128  0.42206128\n",
      "  -0.12013117  0.23053002 -0.3222527  -0.38786839]\n",
      " [-0.23053002 -0.38786839 -0.42206128 -0.3222527   0.12013117  0.12013117\n",
      "  -0.23053002  0.38786839 -0.42206128 -0.3222527 ]\n",
      " [ 0.3222527   0.42206128  0.23053002 -0.12013117  0.38786839 -0.38786839\n",
      "  -0.3222527   0.42206128 -0.23053002  0.12013117]\n",
      " [-0.38786839 -0.3222527   0.12013117  0.42206128 -0.23053002 -0.23053002\n",
      "  -0.38786839  0.3222527   0.12013117  0.42206128]\n",
      " [ 0.42206128  0.12013117 -0.38786839 -0.23053002 -0.3222527   0.3222527\n",
      "  -0.42206128  0.12013117  0.38786839  0.23053002]\n",
      " [-0.42206128  0.12013117  0.38786839 -0.23053002  0.3222527   0.3222527\n",
      "  -0.42206128 -0.12013117  0.38786839 -0.23053002]\n",
      " [ 0.38786839 -0.3222527  -0.12013117  0.42206128  0.23053002 -0.23053002\n",
      "  -0.38786839 -0.3222527   0.12013117 -0.42206128]\n",
      " [-0.3222527   0.42206128 -0.23053002 -0.12013117 -0.38786839 -0.38786839\n",
      "  -0.3222527  -0.42206128 -0.23053002 -0.12013117]\n",
      " [ 0.23053002 -0.38786839  0.42206128 -0.3222527  -0.12013117  0.12013117\n",
      "  -0.23053002 -0.38786839 -0.42206128  0.3222527 ]\n",
      " [-0.12013117  0.23053002 -0.3222527   0.38786839  0.42206128  0.42206128\n",
      "  -0.12013117 -0.23053002 -0.3222527   0.38786839]]\n"
     ]
    }
   ],
   "source": [
    "print(eigvecs)"
   ]
  },
  {
   "cell_type": "markdown",
   "metadata": {
    "slideshow": {
     "slide_type": "notes"
    }
   },
   "source": [
    "The ```numpy.linalg.eig``` function returns an output, that is different from the output of the SymPy ```eigenvects``` method we used earlier:\n",
    "\n",
    "1. the first array lists all eigenvalues (repeated eigenvalues are simply written multiple times). Note how they are negative: it is because the we wrote the problem as $M^{-1}K\\vec X = -\\omega^2\\vec X$, therefore, $\\lambda = -\\omega^2$.\n",
    "2. the second array provides the corresponding displacement amplitudes of each mass (the so-called polarization relations of each mode). The way it is displayed above, each column (```eigvecs[:, i]```) corresponds to the coefficients of the series of masses for one mode, while each line (```eigvecs[i, :]```) corresponds to the coefficients of the series of modes for one mass."
   ]
  },
  {
   "cell_type": "markdown",
   "metadata": {
    "slideshow": {
     "slide_type": "subslide"
    }
   },
   "source": [
    "It is still a bit obscure at this point, and plotting the results will help.\n",
    "But before that, I want to sort the eigenfrequencies from lowest to highest, because ```numpy.linalg.eig``` didn't do it."
   ]
  },
  {
   "cell_type": "code",
   "execution_count": 153,
   "metadata": {},
   "outputs": [
    {
     "name": "stdout",
     "output_type": "stream",
     "text": [
      "[6 7 8 9 5 4 3 2 1 0]\n"
     ]
    }
   ],
   "source": [
    "# this function returns the sequence that would sort the eigenfrequencies\n",
    "seq = np.argsort(eigfreqs)\n",
    "print(seq)"
   ]
  },
  {
   "cell_type": "code",
   "execution_count": 154,
   "metadata": {},
   "outputs": [
    {
     "name": "stdout",
     "output_type": "stream",
     "text": [
      "[0.28462968 0.56346511 0.83083003 1.08128163 1.30972147 1.51149915\n",
      " 1.68250707 1.81926399 1.91898595 1.97964288]\n"
     ]
    }
   ],
   "source": [
    "# here are the sorted eigenfrequencies:\n",
    "print(eigfreqs[seq])"
   ]
  },
  {
   "cell_type": "code",
   "execution_count": 155,
   "metadata": {
    "slideshow": {
     "slide_type": "subslide"
    }
   },
   "outputs": [
    {
     "name": "stdout",
     "output_type": "stream",
     "text": [
      "[-0.12013117 -0.23053002 -0.3222527  -0.38786839 -0.42206128 -0.42206128\n",
      " -0.38786839 -0.3222527  -0.23053002 -0.12013117]\n",
      "[ 0.23053002  0.38786839  0.42206128  0.3222527   0.12013117 -0.12013117\n",
      " -0.3222527  -0.42206128 -0.38786839 -0.23053002]\n",
      "[-0.3222527  -0.42206128 -0.23053002  0.12013117  0.38786839  0.38786839\n",
      "  0.12013117 -0.23053002 -0.42206128 -0.3222527 ]\n",
      "[-0.38786839 -0.3222527   0.12013117  0.42206128  0.23053002 -0.23053002\n",
      " -0.42206128 -0.12013117  0.3222527   0.38786839]\n",
      "[ 0.42206128  0.12013117 -0.38786839 -0.23053002  0.3222527   0.3222527\n",
      " -0.23053002 -0.38786839  0.12013117  0.42206128]\n",
      "[-0.42206128  0.12013117  0.38786839 -0.23053002 -0.3222527   0.3222527\n",
      "  0.23053002 -0.38786839 -0.12013117  0.42206128]\n",
      "[ 0.38786839 -0.3222527  -0.12013117  0.42206128 -0.23053002 -0.23053002\n",
      "  0.42206128 -0.12013117 -0.3222527   0.38786839]\n",
      "[ 0.3222527  -0.42206128  0.23053002  0.12013117 -0.38786839  0.38786839\n",
      " -0.12013117 -0.23053002  0.42206128 -0.3222527 ]\n",
      "[ 0.23053002 -0.38786839  0.42206128 -0.3222527   0.12013117  0.12013117\n",
      " -0.3222527   0.42206128 -0.38786839  0.23053002]\n",
      "[ 0.12013117 -0.23053002  0.3222527  -0.38786839  0.42206128 -0.42206128\n",
      "  0.38786839 -0.3222527   0.23053002 -0.12013117]\n"
     ]
    }
   ],
   "source": [
    "# and the corresponding mass position amplitudes are\n",
    "for ii in range(N):\n",
    "    print(eigvecs[:, seq[ii]])"
   ]
  },
  {
   "cell_type": "code",
   "execution_count": 156,
   "metadata": {
    "slideshow": {
     "slide_type": "subslide"
    }
   },
   "outputs": [],
   "source": [
    "# Various quantities\n",
    "t_end = 2.*np.pi/eigfreqs.min() # time array spans one longest eigenperiod\n",
    "n_frames = 100  # number of frames for animation\n",
    "time = np.linspace(0., t_end, n_frames)  # time array\n",
    "max_amp = abs(eigvecs.max())  # maximum displacement of any mass in any eigenmode\n",
    "L_inter = 3*max_amp  # distance between the masses; this makes sure that it is enough\n",
    "L_tot = L_inter*float(N+1)  # total length between the two walls;\n",
    "rest_positions = np.arange(L_inter, (N+0.5)*L_inter, L_inter)  # positions at rest"
   ]
  },
  {
   "cell_type": "code",
   "execution_count": 157,
   "metadata": {},
   "outputs": [],
   "source": [
    "# prepping the coordinates on the plot: for each time step, we will plot the positions\n",
    "# on the x axis and the mode number on the y axis\n",
    "x_positions = np.zeros((N, N))  # N positions for N modes\n",
    "y_modes = np.zeros((N, N))  # N positions for N modes\n",
    "for mode_number in range(1, N+1):\n",
    "    y_modes[mode_number-1, :] = mode_number"
   ]
  },
  {
   "cell_type": "code",
   "execution_count": 158,
   "metadata": {
    "slideshow": {
     "slide_type": "subslide"
    }
   },
   "outputs": [],
   "source": [
    "imagelist = []  # list of frames to eventually animate\n",
    "\n",
    "fig = plt.figure()\n",
    "ax = plt.gca()\n",
    "ax.set_xlim([0., L_tot])\n",
    "ax.set_ylim([0., N+1])\n",
    "ax.set_xticks(rest_positions)\n",
    "ax.set_xlabel('positions')\n",
    "ax.set_yticks(range(1, N+1))\n",
    "ax.set_ylabel('mode number')\n",
    "ax.grid()\n",
    "for t in time:\n",
    "    # We loop over time to animate the masses\n",
    "    for mode_number in range(1, N+1):\n",
    "        ii = seq[mode_number-1]  # this will select the correct mode in the list\n",
    "        x_positions[mode_number-1, :] = (rest_positions\n",
    "                                         + eigvecs[:, ii]*np.cos(eigfreqs[ii]*t))\n",
    "    im = plt.scatter(x_positions, y_modes, c=y_modes, cmap='copper')\n",
    "    imagelist.append([im])\n",
    "    \n",
    "ani = animation.ArtistAnimation(fig, imagelist, interval=50, blit=True, repeat_delay=1000)\n",
    "plt.close()"
   ]
  },
  {
   "cell_type": "code",
   "execution_count": 159,
   "metadata": {
    "scrolled": false,
    "slideshow": {
     "slide_type": "subslide"
    }
   },
   "outputs": [
    {
     "data": {
      "text/html": [
       "<video width=\"432\" height=\"288\" controls autoplay loop>\n",
       "  <source type=\"video/mp4\" src=\"data:video/mp4;base64,AAAAHGZ0eXBNNFYgAAACAGlzb21pc28yYXZjMQAAAAhmcmVlAAJzzG1kYXQAAAKuBgX//6rcRem9\n",
       "5tlIt5Ys2CDZI+7veDI2NCAtIGNvcmUgMTUyIHIyODU0IGU5YTU5MDMgLSBILjI2NC9NUEVHLTQg\n",
       "QVZDIGNvZGVjIC0gQ29weWxlZnQgMjAwMy0yMDE3IC0gaHR0cDovL3d3dy52aWRlb2xhbi5vcmcv\n",
       "eDI2NC5odG1sIC0gb3B0aW9uczogY2FiYWM9MSByZWY9MyBkZWJsb2NrPTE6MDowIGFuYWx5c2U9\n",
       "MHgzOjB4MTEzIG1lPWhleCBzdWJtZT03IHBzeT0xIHBzeV9yZD0xLjAwOjAuMDAgbWl4ZWRfcmVm\n",
       "PTEgbWVfcmFuZ2U9MTYgY2hyb21hX21lPTEgdHJlbGxpcz0xIDh4OGRjdD0xIGNxbT0wIGRlYWR6\n",
       "b25lPTIxLDExIGZhc3RfcHNraXA9MSBjaHJvbWFfcXBfb2Zmc2V0PS0yIHRocmVhZHM9OSBsb29r\n",
       "YWhlYWRfdGhyZWFkcz0xIHNsaWNlZF90aHJlYWRzPTAgbnI9MCBkZWNpbWF0ZT0xIGludGVybGFj\n",
       "ZWQ9MCBibHVyYXlfY29tcGF0PTAgY29uc3RyYWluZWRfaW50cmE9MCBiZnJhbWVzPTMgYl9weXJh\n",
       "bWlkPTIgYl9hZGFwdD0xIGJfYmlhcz0wIGRpcmVjdD0xIHdlaWdodGI9MSBvcGVuX2dvcD0wIHdl\n",
       "aWdodHA9MiBrZXlpbnQ9MjUwIGtleWludF9taW49MjAgc2NlbmVjdXQ9NDAgaW50cmFfcmVmcmVz\n",
       "aD0wIHJjX2xvb2thaGVhZD00MCByYz1jcmYgbWJ0cmVlPTEgY3JmPTIzLjAgcWNvbXA9MC42MCBx\n",
       "cG1pbj0wIHFwbWF4PTY5IHFwc3RlcD00IGlwX3JhdGlvPTEuNDAgYXE9MToxLjAwAIAAAColZYiE\n",
       "ADv//vdOvwKbRZdqA5JXCvbKpCZZuVJrAfKmAAADAAARsG58lw15q9IkAACvW99I/TP+YBnVCoMl\n",
       "ztxOUV186mCaw0RH5TG+Ir7IYfJEQyUJaxfft06gRRGFm+UeOYTMJcj1EV5MfeaY0xgyZvVsBBm7\n",
       "FvsQHmiRE/1hdyS4BhxquSnvVkzplCH/4192KqVqFlvIbiNInMXWOMPNsB5m//T60pIqm8BbRbUg\n",
       "yw5x+4JrBfScpIlci/mhuRDXERT7+zn+avkBnX6vyFPF85XIArK1ua0sxgoSGDn6iTW/mq9Mi/Yi\n",
       "t51Fvzo39JSPFMq1/KEYKNuZA/hckc7r4lQU4aBhcmoIf+rTCM0o3NpHdKfpWJo0/UQ3E764Dd8y\n",
       "5SMiOPouoZShshtWI1JY3RQKfG2uHTiWP2i+KBd1CFZ4ITmoq2HIPYtqEGXMjQ5HXao7mNly5Pd/\n",
       "BT8RapF+MAU5LObRY9pYd7ro3JpQjOMKHzKn5hgxl3qVNZo3H9sUc3bMIiyi7/fxf5H5bcJgeD5W\n",
       "A/sqZ2NLnRNgsA81jtRjcSt2yvk/9unjJuanmEzGbZkJl6cery3QzoGfuK/623boY4PYb8gBVSeT\n",
       "1Xntg/nV80XTuM4btDKnwJMNCPynksdL1m9es/mZTCqPRZkrE44xzC0OkgPa3U8g1zt1oqn2okqy\n",
       "hWhxlsmHi9j9b0KqJYzt6OwKcq2+nSwD5hzK47NDQk1GefqjUyAT1Gs1FdWaz6fUA9aFg1whr1sf\n",
       "/VylcsZuJxR/+o2ry9MBLcROdgive2pZ3l5psDZScH1C3F7CGsWJWaatc80AZ2tg9b3LqwVUg6Wy\n",
       "NAMs3zAW07rC2+sI+qqC1Z0mMbtcg1TG0VinZlxUe8Z17s/qhALFd5+vMOC55sVXS4t5Z2u0SZX+\n",
       "F8nGdZ57j475r2NMDnccbFCWSPBw+75jr+dZxU8N+elTlwz2bvmc3TV+3eCH2I/fuZaxUd6lUnHq\n",
       "3BX8rsisI/rSiWZ/Pge0jjvStvTyNgipWScYw0RGq3NL8OMHFi8dYCHkTS1sJHG05y/mH78XQ5iI\n",
       "3WGODJ+5CQq5drLDfzwqSa+c0bwPE2QO7+ZOZWFxKdCQZNOJvcsuutkK5OqYBCGKc/8XFCBuSjUA\n",
       "ZyBpoDOCc8k1SfXH4X8P3HctPZojcJpfDjFn0UISnXxJHd/zUC8lDj35PWhazMKtYU5/wMABEBcS\n",
       "1lVCpMNInL3FqbjL+XSfllwK8pNz3dLnhxU4Gcn0y6cPfh68/535AarCLVfw0Ku+K3kMTiIvOmp5\n",
       "r22HYTP9qGaOLVrMF6U9KFfcfelf5FPfFHYa1JJcxvLKVZkY2dYIb0V4InPDklDluVh3lLr+SXjR\n",
       "mLUuLfYP2HaRaDN52UgkOu7Ojuei1+I95+r6isPn+JVeEWN7/V+T0i6axze7bouyQMtYWslHOuON\n",
       "s97ZuZAofgMv4WtQS/dRhvYrj74gH81sLiFPnE6N5Ycq0xfhEhWEF8CGhpijqRF775W5VKCrkF84\n",
       "EQsjNZ8fD0DIG2mR+b+6VzDe8whqgWG45BoiJUqObELBM5jVsv0b9O5RPw1wIDgrdftdjopG21au\n",
       "PIDgjERJhFGKe+0atG51sQ650rEStcDF/SJRSVFKO0nE/waW09VH1TBo1Rf+Gw+THLLLehPLRZYm\n",
       "SSV0lwPZdeVXiJZPhTunL7j0OURukbmufDAp7LJ9sb4NRxBafMKrramNnbDiDw+QtK+DVkCV6MCg\n",
       "IayeApWXVijF3+DLMFtf4/8JEIJHCTX9nfAgXWuJ9SWUI6SIvTQz3ApYlJJ9zh/cSvDDkPtXRRHj\n",
       "PIT9BLjzzLy/PUuzxuyN3xfQBNc5cKgk8eAV2uaULSTlGtErP8GPyEKiRSn0fmMCtPApd1/r1Ozh\n",
       "jJoPxF8Db7qb1fo3LCe5ZayYkZivWpQu+tu2mFlbPg0ck7uikzeIBqGAZmR77itQWWbeotUHqZaS\n",
       "eThiEiKiPEu4ysSHEBSCQFRZXEGnJT3xuSWBiwuCX/2/RIl9lrNAnpmZF8LcajErYo2UgfVvEGkk\n",
       "yHYS1qyPWdDw+1VbpIT8Y/vSE0Vu1ScZoi/rJ32VVVLEMqiJGlc5KE1vdvjSo3q33ZdsMDxGK/ab\n",
       "cfgAmeVnHZDCc2hGOLMZJ6HmyRWexGPNotJ7EzhUEjxCdT1qLcOOALdhtxL/vnKvRp8xtkIQppT7\n",
       "GMrerttr3GCs8+5VswhsFX/QWSyx8+k9VfZ5gf1pP+vI8Ki1NkXZLWQE4YyxjTyRWbwMXjZvoOqx\n",
       "lyr7m13VZaNP3FFin807a3dvaYZKt3JluwuSo2wTH2gZH2iGUw5zM6H70CAWJNf96ye1iQpuimVF\n",
       "Qrw4TjZY+M6b+Na59y7dObGs4HqlN6AXvhsXUPKpgb+C9MA4UOD2TEWea3q4vmIlsSFNYkx1Nct5\n",
       "MVEi2HD6nhGNd3LTFPRYypJVPOoXovCrsuSv+a5p4AGRI1YFjKZhXPAJcwVJjreWI04Frxm3H6fK\n",
       "sbulut17DGMp5ro5RYIEEyjx6PhyQX3HGe4+J/SjadyV/UUqlhxvKMXAXC2qpueZ4fyrnDIl5cMi\n",
       "8frmSQkczMOyuAYJzY3YNdOn9b3ls3uOS/24YDfRF3FT8ZvscwyXBhLoqJldCXoiQmz2l6hytmp6\n",
       "kNr3ZnY2F7mNn6/gUzJrLTZVrQEcgLy1iYSpeHj3IVHiAodPxZpspH3VlzzjWeAuywWNo9H4H3Wh\n",
       "90vDzD5GFOJgnRS2eyRZIPMxRixXUHKTU41f0eAM3S+0RZYZLvBLQzp/K8u8Y0ki2nCKwOLUKb2Z\n",
       "0kW75Zlc51b/uI3fGnUYY2z7SvW2gx6lX3pGOWYzPyvRlAoYEqDsxx/f8beCCwGZ8ZDreutGMdhM\n",
       "ss0S0SwOZbaIizMX2mlZrCCh2N+zgDa1OL8tYUIlxEHYSJDgM0j2xnzI1SekLFrvnuAK7nIzNx/r\n",
       "7vd1uXFEZ2qs2sYOqRXjoNC1ogW5wiXVlrafboQ/AsAzaXagVaInT1dH5RD7UqT5ckr6kT/+7Gg+\n",
       "hB6u1SQZcc4LkZ6JQaAC4fKwu7ehwVu9suTYpPiwuRPWc2ep4wIVizNcnXjpR3xrjzxResrKF4Pv\n",
       "L39uKS/nfzz/AB+HlTIq0ew7P6acHI5NBqt15R+wYe2wwJIa1iryX+W/MUezyRAdCFoNb/M8u5EY\n",
       "FS1tIwEKoJ6LE9qlZInTGKRRo8xofA69cR7wI/wjpqQ7KwJ9OV6h3+BlBlk4ezFZsD+hYgvYUPy2\n",
       "lsRqBSGSohmiStHQJvL/PgcPQFAzzDDAEQbId0nubJFziIjjHB4dVi2CbQvFXOSk+apMHZs4jse+\n",
       "yfJXMssK1OfLmtPStB5n/HsHVAp53pmpdWOJcltgSHdqEw7+n/vLWTJoKEaoFYXgajcf24kfNGeR\n",
       "cOCYGfrtIdQJoD086nAKBAs8zkpCDagRqRFe/lJLqliUp1FxPiRAVKR8iUMDyY+578Mo/WBNjpdX\n",
       "CxQjZ46MaS2AzGXL3/1jQB2PSHFG1MS5J6xQWP/4bIEjIa9tDPHoIoP9kOoTMUkExAsIM5yMw36H\n",
       "W5s/N61SkVbEErSezcbiiEQ9yefvxoup9Arm5G7EExz46R7UUsjSgchdQPRVJa2Wi9DxduQHk9HF\n",
       "rpBaXDzkNOIewCYO30QXW/jBKYqVOuvXksWYnqQMJ0WRKn64tQlRaLqELzrUTgWD9dtx7EeZtrtr\n",
       "nYUYUYVP04/1vwCi+FboCiXIUSPKcOSy4hVwmKevh3+ii+r+d4OeNLJyPXaw+va0OyW5EU9msnEv\n",
       "737J7bptbZlZ4FUK8oK/5hQiDxqZopAVUh62Gh3v0WXhiJJzX6SOCO29SFwgpbjyraZdzUL3Vdv4\n",
       "1O7W2Lrtcn5YBJJhO0KBxknff6H6r7kp9OfXH/stH0htm0fhXIyh975aLwU1z15JcMT6ghYE0uks\n",
       "4FyWlzGf2ugbDKFysYKs2JfVKiaAr/gz/raJxHmKddx01wana2bDt39Yltqbo3pu6OVr2uKraKFP\n",
       "8//fhts5MByatcUiAeapbkdeGGyr/RNo4yUjZsRIZGI1IIF7bLsvLcLhzgvHHMuPhd3yuE/DHWGw\n",
       "arX8gGcxaSL42c/eHeN9n/UMPMJeSEyYlEKBer1ntL88V9XXBKGNvH2drHXPgqFMHglg0+zs3Utl\n",
       "Gtj1mGVbvLr7dTgSg6957hedUmK2+MIPLq6gWBCzNYNyoX583s7HW92LWGPqwMrrmfC7ZDk+de9h\n",
       "4TxDm+OPr/W3z/4PFmLtbZY+iYeByU3Z4fmn61MNxwlxki/Kyk9/x13kVX8BxoN8JyzXjl8vq35J\n",
       "pCUODi2un+Z0H9/z5VJt1venYuYJ2De9+wS8i92oh+yA0Y1WtGnEaBHtHWO8rt/aqmtbO6LPTT/z\n",
       "fNKNBj2bXoaOS6DkFa3IuplSc/qSL24iDAqK9y8ZWzRBbL5pzmAzoJv7zuQdcP/Jt3Fi/qJkC26Q\n",
       "xiaOqc3F/qM2D9zWXggQ5MZ2Ql+gTJpzPvUZyn9GH8V6HF1GSJeYqBfMNA/tSMSyMeF5EZU9EsLf\n",
       "ioK/gcRVPPQiYrFqQOhrMZRyR2rjzqDtEendKXcMU1ngGRAY1D9TqAq0ZH+X7P0AkV3AlMJ6bYTi\n",
       "izdbS8GEPPCH3utJp9n57h6mMF1TLj4Cp4zjBBwtdKU1zcKZM4VA+0eTgm8gj0XoArVEL0Vu+Ki5\n",
       "a+NJ1k1YYhYn9gKxzeU8Ngofq/C7h4InFbOfXX1+BFoAbX+iPBf/Yuz6P8idZOzHtVe/azwv98EH\n",
       "E5fxv8qdNIkntRcHI3UKJ1u9/9YJ4dnLcZN9gUyzf+G/s8F3yh3ClqA8S8TsqgF5UORNVhV/WjJ/\n",
       "rKfU5oeFJoTnqkd8QztAvI97m70b+RZ7BMjZPnJgEcS0cx7l5Yb8FX8htFDJO3llWJWBN5SGZhkT\n",
       "48109p8OWgYEoicG/+Kem2f37QJoC55++9EyDOZ5AnLe6SR08Z04VoZ+GA76hELV5T1haLUeXW5Z\n",
       "3K1O5sm2VFSk6iy3pzR0kyE2sszAJWt1PejsK5fvMKrZaMrZaQT3tboBkHcYpnPLw/O+IdCN2BC4\n",
       "woqynXe5AjfxByPrD5DGV0EUxm1sPVjK0oq4mp194nbjQIhoSAsiUU6KAf9UJ8joolyPoOhasusP\n",
       "ZTVx70oW7xM8PMBBSkyMbbS9HkDoUOXJEUVyYMHgPZfPHHPiDcUbzF8DRuQtu9KMoQ5SmMah3UQm\n",
       "DfROFoS8ajhciTp6ydbaAxEJUEmkWNk17PkDREeUCNLpVWxEH4XUfWP2utq/2DVaeFkbEp7hpHuS\n",
       "qff75ls46wff0qeze7q8MD685GycXonzLGGFbacdFdyapBmXr6pWrETYTGG6tHcnVSWLQHd44gsm\n",
       "GxCWqXF85IwjjCpq0YdbY8iigLgdNPE/zt/LCkukuwzbaDiUagdegEXaNRK32CYDgLqdVjKcNR7q\n",
       "CDN1WhFqrz0ZT3H8f+b7xlJCckVjK3rmuXYi5+jcMEK520NIA8s8qNJNHu6RNygsV5XWG764k4Qu\n",
       "5CcTvDcq+5rMVoqetsFnL1G7QlUWjUOPjjE9Q6KqsBfYkdKIte0E/h3VCD6rffvFIGV/R5TAK8xt\n",
       "Ty3Kg4qixUMQzBQhlY4AhP1C2BNTr7NxTLU2Y94JqqdQ2ANDRkRKq89kMheZouWUXCsL+Ur0b33v\n",
       "z78P+3eslo+vfIbIgp8j2+3fHpCbPb7ALGvyopfE9AT1W5pF5cFtqYcSIrVYKiFdjVwZYqVYT1Wg\n",
       "gy4vR1C4fELMKP1ebgbQQYPnt4xgeHXfl+NW+hVBf6zwuo8UmPs7O3wQ/Hx4+Mhp95ORDuZ6vHPX\n",
       "WL6QWL1jNy11yMCk1x1XkLKoGtI5pnx/MDbGcRJXIqUPvl+5S0YMepms/ww+EBiJMzis7hx6IwcQ\n",
       "RBlhXQJKH7OaCg8dIPMNTmfw2iaRyLT2wSFKO7cWsdnodMz+PPegO21MiYSsIpP9C/J//9jGlE95\n",
       "Uyn5POO8Gh58xeC30NLw26Odt8/zY9wNhYnInVdPMK3lyIBCa+CzQy/dk4ie7IGHKvMprKmX39ax\n",
       "rn9BggWjuggTuLn2Yg08UkJFfVpGF1WHnR3L2ySt4s1LKneYkMoI3M+xJuIw8m1T65a4wh9hsiRs\n",
       "ZMXRj2FrXXRxyQkj0Tq2L1lw2xPKyZl/qsY0Zk+RSPjFsg9UtWs8QrxTyAsX+IKtL6i8EJ+bT4fX\n",
       "TpQrGiZF9PggPpK+X078aYz/n/kzpjH3ZALv6g6eakXZ/GhNFIq9C24x0ijT+1rNCvbuR0wyxinp\n",
       "3aW8mY6RICQIqcOcdplz76aSbUtdLCuqAwr4+G8GTBs4zWsqsqJUTZIAW1I5/I0SNK4gG3o9pehl\n",
       "23uI9aeWiL9DUJtX3wzyhcJz4nmq62G561Ih39gCxvHwQ48xP2BMEwvaR9epcJG8b35/Wa7KF/PU\n",
       "c/2u4H/6rkZz1IcdfVNzd5l29qKr//8FUqcc+RurmUZ9wSGuy06ij4ht4u+QtKLkRcCXRzRjW258\n",
       "1NnOnrfiIO2uoUARG8dqIGKg+ExS+FhgKTIa5L/3SOueVoHCZ2RSmgmQEPXkdOi+3YyUasMZz3GR\n",
       "HNQPJM9HNClsN0IpJh+I14H298aikThnhL+d072/m2cvrayhHOPukNwgolNM9BVhzRkU3pKKHd6E\n",
       "zJFDVcnverRXAndS35gQxDuTe675mAIA72MntJ1HJJ0ZriOGSjlBC6PC+gQkTPDEF1LugMCboVSE\n",
       "nT+v932gZYWJU4VCet5bpDPpqIm4TE5tbKxSzc4sBemTuqVroAld/RTbFOo3JIKxwiG8zsZD8Mz1\n",
       "kPpcE0qp/uALvhAoO88NHRbZLzKsU1a45TdUDWVHpS/RtJVXJ3cuoH+h+6diN+Eba6HP9FrDbI4T\n",
       "8CXPw9faDpDrTv9YkMBA9ZlNDRhnJwMbLxUePz5EIyRHmvfLLH2qNLxbYI2Vy1mxAS+ElXsIsEge\n",
       "8AN1MsVVK/7XnIp4wYhzwGqWl/hfpbN/IJNMZbGx9r6oJnxLtggtKRuGJqhrGPxTCGLvZK1mYQQU\n",
       "gRqqsBzHbf5G1TvEc7ZQQfi3tTyaSAnFD5Ad0Ey2clonTzb6bMzMsApD3wOVuLZyW/FZJp8JULOD\n",
       "fcv2FWrb358Im5+PBQvl5/P4j4CUj9BLaEoNirxMsXcVJnt3cbmxlYo3MK6Vq81ywODWPmT3vPRE\n",
       "6aUwyGheZNv8B67BYlPPpy+cmzkJ3Xh/x5RsxWJgUDfwNNOyD+tw243Tmyq/rPS/yuZWLfH3TXZy\n",
       "xuydw2m2gvDJ36AytyVo8+/aJzENjkXWNhIWjv4GzvyH31z2wyyVm/W8XETvCNsQtpM4+d8sAEOf\n",
       "UBSnt5Dt1/PUu8WXrZ5rWhJSq+/cmVP8f3I/q5incQ4e92qNAaRXD1F2lap/yJejTNcd/KWdwijj\n",
       "6c+AIE0ZX+6xuCXIjIGWjS3EknrACN7xI0KfkGo0TVF9NzzmcUoevtlyVvMQAzAD8815d5b6OYvV\n",
       "cLjlNcfPn8fpJglXga7gOyix/HXsgV45xDKMx70YeczXYY50pZAB95d2gbrKb5thveQG40qapOxe\n",
       "EKVN5oV+gxQxi9r+K1i3mlCG8Dq+FD0cpgdH9G/ne8xfsxDUxsJoZu0YbgQX8FgFb+6IkJopLx+u\n",
       "usI7V9CLFUfB/hgTi+BwkC0g218c6Bm+oRuBmxM4lV+O6SxryVH8RpiTWEhwS1GgIa75PTd70iQS\n",
       "tFS2pLN7uclDlMlUzChlVk0Mj+adjiGei2LDTVPxT6MU5qg4fWFvBkDsYQAsaev33Y8WgBgan4L4\n",
       "qhoGt9UCWZFVO3ubCJAY2ZVkjfQcKbLamOiCJr3sBA7ZH8IFznNjOjO2jko6HNsgCJ/haiZJ0qcv\n",
       "uD/jqjtzspWTNqIKI+fR9QEbCq1FU5FxLwbE/wDwRW4ky9L1mM6WtbJVpyF4N4bh5cSxkegCJjCY\n",
       "9WoPKiqIfw48LaYD12zvIvAlA6bba+npof+BOfWcqXozQmU6jN86eyHiQiX+zJCuP+k+DKsyfxZS\n",
       "LE2tUZnf5NxELK+vsKnCRXVQgJAvS+r75yao5JUymsd/sC7b6DorPUV17awmXjYsb8IaghdHsgnl\n",
       "d46YvxUeikm/Mq41EnAQ/bNH6OBT49LrqIVvsr+YWL40K+Y7w1fDlWJZEZ/xT98+S2QgOTNvvZzV\n",
       "ZZ9SPrvdxNMexVCV+QNn9g1zsbnUY8HEE+cBuplZsmex+FoNYd8zC+G7uEgzAyv+4V/KKOEdrM1l\n",
       "EF5A4osQ+H933JQJIjna/L2xTI9Hvw9Ddnr6LI3HOoBzy+HmVcqYrEP8kuO5VEo8H2iDnVSW8UAF\n",
       "BAalgYyAAv78LcaMmZ/J8eRf5eWU70gFLnR+lustlibC0gZbZqPyH0owkM0ttQhedzxeRNTTSeHG\n",
       "hqdDESwjeiKlo16Z8imOKpKub5cLSGTtWpQwoSyCcHE++kIXjq/iZ6jz3h8y3S2lzKURJmLHxLek\n",
       "dzPALIhnI2MOSKdOe+FCtPFlyA2XeWYkaKom3kB6f1z+ZG2LjkG/7BIuo1Nq1b+LFu7DHjstn4lf\n",
       "468yjwSA1cwFJB88KjDXYKZiux4rnG6q/qRj2/djcq/HbsOXEMK8cZe/AWpPUB/+sWx5JX4V+/1A\n",
       "p5T+rnZNN1nHizX6j4QdIZQ1LNZ+bLFkMiOyVszmX/7r1Y7+d6AcVx97ANY1tis4ZKalCAB7sQ1X\n",
       "Les8aZC3AspMfOID8JF3iXQ3Qdg07Yk8tQuRz/TMFZBgeXNkNfb1eFCtMyQeia7R2CweZJ1r3W4f\n",
       "XDLPptuwYFDEzeKYmCaHULt/mzI6m6bdyc5dun6VeCVSDaPyOWWyAIxW4QeX5APMGa//9iKuOMHn\n",
       "QdSYO4oVDcFC10AsjYLVd9zB/HxX/IqCiDAo5c4v+dKWonCIgES09J7XoOLxr83uX041iBvOT8SE\n",
       "VQH6ap/bdZ1JCko5XuDM0z0d5AHe66kWUDbNWuwiBFwNlHjsCsEDqaF8WnyUJuly5wf6MEByHD4F\n",
       "gdCfZkap0yyBKr71SHEiFef/i+TfDgCHka3PBGWTivifA8QyyjKvUPTxyKDyBT0N+tjEEB1ftqUP\n",
       "C8VC+vUOjd/PUP4DHvDp6/+jbUIUwjHeye9iJdf4o2KK6nuCINmicX/en6RVVBonivkKrT/IWBf0\n",
       "pem9rlvaNdMspvxQmD2XCCcBLDuDD/iP1cXqoNKP9iDGZqmbjgwFbvi7st7P0f2C1lElMYiv0/bG\n",
       "ZKajHw0JM+JoEOPYAZTfSHyqAPK+esMtTZZ6jF+AUBMscDZoDMXFzapmxh79biOn/AofQGm+OEdo\n",
       "fIrdIV6IhqkjfGbR+caFSYGXs7gVV/YVf9hFx154jzNdMKqotVKV2wXEsiUAW32efETYBC5uSLqq\n",
       "uOawKojYR2vdvWyNDNJR5ejJXxI/3XFqctDarLcU1f4eJoxqDkpRiWzZCYhUxM7Av48YQCcEQoxu\n",
       "TiY1DDUlaLRWl3t+l5FT1OP2ZqzWZ55UvkyXD+cPxk5iCNEFOjOqv39RgJP40wj5Gd8BQIP9tCKR\n",
       "N35Lsy5zRC1h15ralWrfvFRpd0HLiWHGjcZohbOK3n55IWvS1tLXOnvo3psXZQ5FIhrwkRQdw3RA\n",
       "4+xPuEMgWRUlXBip6ZFKRQjczXzET6d510OO+lO/sQvtwz97igXvbcSYAK2ALz8MfgEelSls16Vr\n",
       "Drvmz5h+xQgDySee2VLkvwaLse2t+mctlUbowO1fr7axUp3/jY8/YJlOeksI14f5Nvn6hIl5IhW0\n",
       "J4OV1QBnQbpAE60lq0d3VbGsTfU9gkcsi0jgOb/9jTyRHCa9Wz8srV0IIkvqR1ikAfJIu2CIrFAT\n",
       "RihmwyCqpv8baJ1irvr+WLVozHXMogVikRGKWvN1Azpe1clSFvYQRgFD4+54pX7N4P61LMfyhTaC\n",
       "XXe1nhHbPbkomFU+BYKhPEkm5vZsqEavgmXLncQ4l1ntwcoxkYouzPytcAkyCd6C9uWtPcRTbXcl\n",
       "OBqbIcXeNs4aqC2RYHuvjhV0lMLdA2S+qd0PaHFl2LnptGKOPeiSANUs2ONHm+5dwbHMx8EdqJZR\n",
       "qnX0ZC1qiODzEOH6C4B40+d6eXMVQK1FQ+OceCJrTxJQVFV8roz0ydWycMagAb7rUD8lYrU0ml4z\n",
       "NEFj5yacxROEPSwh6rUkUEq1UQNrQyilopVNIHcffO/f3/BcINxC5BxHMNtXaqcge8afiF97JSFd\n",
       "5Io8h1BPVbEUP5Kud5zgV/8iLaW/WmwAkTuEipW+IzW7AubkMiRT76+PIbHlkYL0QMHUzjEVk4mX\n",
       "/M4wPBZBlCl0C7TY7SL8K2kqgVxfm7JcC5XOhlpBA3vgRASSTF5/435Tv6QnAGEiTA/zWaHcP0kY\n",
       "LbO5CsDBGA0XRc9jbAm9Cd1F6BVvmF1lZN+gwrMfbFAii/Xx8FsFbdP/vqJ0nLQAoVDH60ZCEhCL\n",
       "QDvzB5xkRlBzhvC/1SMGlEee5NuEsaDQSQIlwcWc3mbdr8OWh+ikDQB4jm6CfgjPuwgxFcb3npu7\n",
       "OyW6z4OfMiwzH4GquYm6rb/eEB8CuMdb1R+0Dch5wFB7JyY00Gm5GxcmEVR+sFzNUe9T+17q3XfX\n",
       "lTsKz/dd4f6n/LqasA9jzjVdlUNOzpvHL4W0+KqqE0ApiWt/Hmfjex6yMz21l7o/kAltNfvfwVS/\n",
       "c37fU+FAiYrKQlMgu6p/gsKaP3O9/ynqx494FC4wuykaq2wxukMB7ndUwQ+BOCTTHhWZA/3YH/rj\n",
       "QSvXAMV69/OyR4Za3XypVjigguDWyqtOyng53qtrSPXag4xSISqpLHOOz4tPaXhPZp3Zs+CIH/Ka\n",
       "bjJHah9g4SHHeazwFsjj90V6AQYcT9HfkPHkly2QOEu3glExTXsO/3S5WLLuZ/Pyp7MuKyFckoIU\n",
       "e53fY4L/c95RkdehTGh3WKrVfvCwYxHgj6BTna6+GwoZYa9ODRJxJAKWlZKkYqHOtv7l5yfy3cwL\n",
       "/gWrtBcEeNqTGxCdPpd+X4NbpuU1X4hV0BcSWJUC73gbnn5VCGAotfgixBln8tzVj4vQ+vYqL91+\n",
       "mqsXfLIw3PnufZa7l+uc+o1L+mVs/4qxmCKDDdSCRtiKfP/t4Y+Ky2pTeD4oT4t+k53Vm6FsMxuw\n",
       "dUzMPGsn2b2rwKYenAfom9Nsfn78KAAaGz61sG4TPnVjVN7BfJguSCcq9R/v//jhsIFnrBWAm3qJ\n",
       "uiLG7xadVsKzr/B3XfkeoF2N+BMlh3+Z8CFK4LWu9qgT+lv1nn3qRZ+az68VenOAwa4gC7PRqg8U\n",
       "OCNmap5bJmk3d7V54sdiXabM0zS+s6EHNofEO6ltBsT0F7BH4FXES10amWEn+aG44eut6lsI2off\n",
       "d7LeKx7f6NYOtQ3OUg+mzvTXePT4WLdqXuk3FEAHgWjjXhCyJwVtT7a9/zFbDNp+tT4hmWlf0AAJ\n",
       "iJw89o8IwqF7YPznuIVeaLK2WGxK0zq9+pY3fc/VhPpGMQRId6BLDSQ9lkGVIrpS8pwdLf0ss+fi\n",
       "VHcJig6NtWLPb5EwyZRGbfoEoxNPBcBuOdPI39OCKlCtfaFQmvGirBSsul5sZqCRFfW0EYqiWotN\n",
       "D6nIT4AWvXJka1sps2gY/W6TRQmTZ+1mdMN4WpgV4vIN4g8nEW2POYcg3D3pNnfvgm1fPLB0x4Jg\n",
       "u3PuDRR/CaC2rv9P7Q74DMNNS/+42ndZVQdKSdM5fL81sBmZjfDHoxebBxRd4IvIJSz49Dnl15Uj\n",
       "3c3FtDrswthBeANAvpSbI/9vRPKSEU0yGJogk+ybO7XNmlGfJZZ686x6O1EH7xXKGjwzJwFdf0kG\n",
       "/NxEJt+XIZA7CRURA1QOJdjJ39me3g9HnsASesmz8A5Oe229RfCWBiWhVxPZ0iRNYGDsWTPSwJcw\n",
       "BtovaCYIJxJKVXoXBoRsoDoC5TzvHqSCDNL0JkNJSV+8IpgxEIsWuoQ+LFvUPnXONiK/g8TcFocc\n",
       "7SCc8M+4LG5KV64RJv/en07kHrd8rTWC12pq46NiFPGFc1nAuUFAfUqLy/JjZlFqgD7bfgrM+mtz\n",
       "YxamXCFg0GKx+yflGmySQ44g4kDECBf24njRAdr64hve/foZ+I4QFDHr7o1+ASXWfDI8bWPaej0C\n",
       "w4mR7dL9QKz26cguLiOJl+rAp4OERea4OwNfUB+HiLYhE/b4xs1Xl7toYv5l8JFB6dQfxMKetLiK\n",
       "seJH+8b3qBuR+Fu1lRTUSSa7n3xe9WrORnxpvHxt3wiPPpRO8715mcR12h3G+lS4i572jcp3CTIx\n",
       "ByHVZGaEnJbYN0K8f1J7HAsBvpaOCyH2yFUkyTKrkJVnJg68tSrsDdqtUz/PnawG3MdubislOWo0\n",
       "s7+hRYcKLAfDKmcw7LeqgpDrSG3snbneXo9CcZIPUMX/+KCIcA1KtV7rN3AhM4NycxWDhQijOxaP\n",
       "LO15WdCDoaz5ERCpQ5AYOELhk92x2cpY6hyPXKWvQ6piXL6sX/2w+XG8fXaYge017XLI3O4ltR71\n",
       "yaQpPLG0oOOV1v4Fs5WCeqLZMWtjKOrrgvFn5CPdWvJQ2LwBKKQ9ScCo//LqJkUoEeSDW9uE9pBk\n",
       "NitbBbaeude01Qs0ix4HoTgEH5oxqqnXe5bdilJjxTa268OUopIF1R/0zOXY+KCzWuAFlepa6huX\n",
       "Abmw2qQ7CfP4k2Y1HxgemoqcVfEDAAxakRuQFJgBv8D9U6cGyH1chcRnpWF7qCo98rt1eDEa8y71\n",
       "mmQcS4ctj4SHZgRNOrooG1ahZutf0u0+Vvu5N1hrvFDSKQ0SKXYdZKKVN9ILVP48gV56nYJrNray\n",
       "esHFy4USwAiizzUTOBSPHHnBZIL+N0T4lZzO0qA5KZFBSr/Ac8RfVHEkT06FnxDLnPNAwzl3N32x\n",
       "VQkURQvGnIVQAZspBVxVx9+Bs3U4O5fslfHvtzpZ4TVjkcasPuFjSRFOxPg9LruRz8GZha5sFJ7o\n",
       "sBIPvtcB9uZNgNkB80Gjs/u2im9e3y4bE35nrxK2NKV/vDQlFIzUvffTykEr3m0egNLxvNY+CneS\n",
       "jcKAYgSZG+FhvAeM3g/9144OgOwL8tfQ1uWaTU20nSzuS6JAWB1Th9OmnrUWBfm51eqD7YdAqfte\n",
       "M7FmjnbcDj7lgmOciSQUiJYN9aZOqRTiw/9o8ScsJc0Wnwn38nuy+hmFqCLv08t9WbcyMgNE/FOM\n",
       "u/FAAJ2w9uTkrXB3AXx6+h3s5oKHsuVICkv3/kVPZRiBIhIFX/q1MxO454DLU0g/nSF5iC6vaBCt\n",
       "8m76CAtWcG0WWoI92Bp6gF+skEUdDmgunSKwnPykAyiDS2c058+88RO1nQE/t/gjwCmx0Gv6bj5E\n",
       "gfbwIuXdPHq3qzwjUZSJa8M+LjDL2BMp2Rmzmo2GX1Rs8goBO7x/mbEv3NoaCO+UaDRbJpF4p4oT\n",
       "v7E/cPaEWYYnW8uzU2qb3FndYG3PMachG9lq7dYaYeEkeJwuTZ6/u6YWtbg9fGbH7XqTL6hVSOnK\n",
       "zhG4rZRUnXG+y6GBNAA/dJXUiatK0Bl73nI6KQ7bidTOdzrXnYQeqcazyYS/vgZsB+hz85Ec3DUq\n",
       "DTIjXt+gZ70p82vrY4JAezDQ0GjUdafo/S6Spqf5pHsXhx92+Ny2Lx5VqE+D3u+wogMxAmTO5bSL\n",
       "/Q5spwOI7gIwGOpRPf2jeTAdlYWCP4Jk2HF1paIW1EbKe/pcAl0EYG6nP+CqADv19sALVykGVfk3\n",
       "P6HYYQfap0ZmqtnLV4BnGHlSp5hWozX9NEb7DlXz37BgPdt7Gf/+tV0Gj1f8kjQ8KMUdb5QQgUuq\n",
       "c8w5ZrxlPoqpsJdGzYIysLh32Q86HpE9QcpX6w2vQW8lWw12DFHnsvCYyN2Wy99KRjPcABBMAAS0\n",
       "KMK151wUDYhfncT0FJmnYw8eO07skv4Bdr8p4xoFkD4FFgRP5JGf9c42vx6xmC1TqrZJKLyw/w3r\n",
       "yt8NYeSMkk90GSLtrtVbZZllJJvcb8kENf0+UZAqe5x/9hlGw88K9H3Ub9IppaO0aSp18X+0jGDd\n",
       "iAMtn87H/QZqOQ9nFIGjoPgd+8aZtO/7OZC+jBLarR87VK6/zhVjQezlRA6qH4GHBCYt9PwLgVTk\n",
       "wN10RCrX+rtY1MCanNR/1hr2qmKef+m4C331yVngZK9Yp7pozexWutH3G5HEAbojXnyK0xJIwmO6\n",
       "vPC1Fi+GfBPhCRUGUCK4Z3GQnAPuZm8/TRq0+H6QSWWOXrseO661pRUyVvEW7ZltNGZ0yw0U8AmL\n",
       "qcmyOGCR39QmmN9nBDQme4sCjiUkaWyElwMZgeh8502WBTFaywHw4XIGHHQ3jKMhP7ZHJQOpWM/X\n",
       "v5/kcHxPBd0l8z+VMQAABKpBmiFsQ7/+qZYA2mOCEAxoOQOIf6GJIYcizFnn+3OY2yevX30vxvFL\n",
       "2f9S1T/r+sLwvViWHYX/6CRrSns9x+i1aB+5Uwx7rrIhdyVySRf0EySdDt3GANrCza5xVLovEeOo\n",
       "YlnmwwlsgBUI5Zaa0eUDH+79LvFltPHSdunxtR9mnicRuPn6FErSunddn643YfST75bqCH197iZ9\n",
       "q75RzF+m0SmchPZ9Rdy6+AUjLJcOygWY8uhKyeVwiM6fwzOwzso2E9cV9DwFANsuRJ1ffUeJCktz\n",
       "f+w8G8lPW01++o+2bCFvLM1euTvXgCpWXH7h7EE8FqBn1oEMvVOB9KBdtWD8AJEdgaRd2s4ovx4D\n",
       "4K9XINe6/d6CwmaDJShTpfuL6zkZxbP6yJXRK+Wmbs7tOpSGxbxS4ezCsn1csZSUZSV/1tmhyNSB\n",
       "J2Y60oQGox4LHCjGbr956lsQeY1H8QZVikTlW2ZgBsLcC/2Zf9cegNedvpGweEys4Bi+IrOaf8F5\n",
       "gjum2xHDHQdJJKIghlQx4SsI/D/Mw71jN8rlj24odK4XRR0JX037qUQrGIQHXUHHtlDFxOx5lA6z\n",
       "e5DodWn7u/rx26j5A0cfb75atk+jzWJPIvcmBDUgY60L3Ss3fdJnVioV7ATzpCXkxhvm75CNp8sT\n",
       "PFODhNDdHkTWfeS7Rp0S14jCPDi9Q6hggsDpAHjFx7C+88uSTlqp4EwNmF1jXf9Ry/sC2ZglczNH\n",
       "iUGGR8lfj7QWepsTlXMDE4UBDd84AIazSVWd88e+gGS8ZNbNKa5/5ay/PGAQV6zsTpTymu9MgjFa\n",
       "6Xis1fTdvhHoHI7xj8fVeAzf4My7IUPW36bOtEgdnFsw8LvEbecKD/mxelHTrp/W4gtGVaeNJBxP\n",
       "3ozrAp1tdfYP5dSqimWnTqqpobXjqy2wCF3Ew45BFMbhf9dAOnx4F1R0h5A2TZcmhM/9uy3GjTMq\n",
       "HsQk+ng3HsTOxUVqbmHcRT4QC7oeCXj08Rhb+4zsHWIvvTBazUe8m4RDf4hxehpR3LzofnIDuf24\n",
       "CFMzkODGU8m290SCTwVg0/f0jhAqpEnY/f1w3IPPxMgtrvx0sGKEOWJZ+/FNgo0PYMz7JDjj3YQv\n",
       "f7pTHf1uVScsIUvOU2pLfqc/CZbesKZRzX8sdn2t0VywRMno00heOPLDCiuI65Xm6vbP9vs/GJr1\n",
       "1IwDdcLiHFOwUpeA0GfQ/OfxAmLB/3+9jndwfd/G+S2os4C6ycLDillVbvx012a8nY1BGx0ZCVAD\n",
       "XQ5tXOXotM8ezohnqaNaS3u+z1FELaGGxpY+fdIJaSJGidFz4zHYeX2sywMJfaWe8R4k6WzvshIg\n",
       "8Z1mTpA2/gACcTF/hl799/pVIM3An5LagSsBKy8JVktnTpvn0MqfSK7uC6rbzoBFls1ScXgWmfbM\n",
       "KgRa5kv0pkF1BNSSYnIsb+1A8vp4QnNlzi+8URb6q8Hm5hfsFGKoXS45hf+E5H3VpCSmBnYwLt0q\n",
       "CPBG5J2RPmTPAVvQxa0ClObIzkPUnhc96mQKy3FucRTxvAcbKPf9sJj3qzZAcolqWJmi1M46qro+\n",
       "+kEeTZflNAbf/eTRt7AAAApIQZpDPCGTKYQ7//6plgCU/TKgD3Hrz/0EntbwPt2PkJIYRZDlqnBW\n",
       "X/+U2QiMj4x+n/5GHRAkRWU21Od8QOx2m8uFIVHf4Ef1lIumXMMzexVHcCZdgNr5t71wCqEL/O30\n",
       "qE4zOeiLnuH/z5DTsL4GJMvZfaNm8RcrI/VtOkHgeiWDF5H3AndAvJtOEBXw0arj77qqaAwSy/Ib\n",
       "ibWiHrdXw6E68ModLPHT2rCmkbJOk+8XX7qL2SMbYxhgcAPuld13Y0DiUqsURCsmmBdzAkwxhmsN\n",
       "uwccTiH+Fq+I4J6DyhKjYeH4WgGUlFXvQQE9xmr1+7v4xPzXZvugO1szj2C1bo1b92clxw2ewYFY\n",
       "NhwbQlw5YRlmKNJWNFW98w/ygROZH8pndLzBTVv3zN4bIBZEsAzR8KdVRelS8cZ/tgoMt0dszBCZ\n",
       "u9Yh9TV6y6DxdXVmLMAUbwOSCG4fQZOg0Yft6c+vckAzNXMZQ98NWyP+pB95z29XGv9L06f1dbsl\n",
       "QAi+GXMWGXaKOJlTb5Pu50tOZ8OSvoDff8gZX3HALNiIpg157xuKLXdBEWxSUlF1YeLRy3afQsXB\n",
       "J+BiJz08dYByxLH7oJra2MlcP5YPPJFEoSk4vv5xj8lrJvkWR2Z9e/1lU8ZvzsYLlD26eZg/eRoS\n",
       "6EfNLIVFHeo4sngm5xWe77yXBrH/isBYx+qrFyUEQg3jLvoiGJIG3MzHtaU4g70VqFAYtyZX3Jbv\n",
       "d4CabqYDJpFRS0u56+c78/VS5PBtpN+2IzLEJWxIIF/nNIS9oS7aruZJzLQce6rkffiKM/9hYAOX\n",
       "TbNTQQp7nPMDmp/1xAYWs6tiCSIuFFoWmvoTu6eSslq6sgC/9/dddd+25gVnIstLlfSsJmDVMAKN\n",
       "3xJUo4cmUzSrpptGEoE2kL94NqIkcBqtjy635tCq1h52LCzlviAyHMr1jigwG/jvi2Lupe6lzEpb\n",
       "LiU5TkNAvYc6HDSfWNp1CIChMOp4/q8ppohU+kvG97+b9AjHUhHmrznD0VoFwaRuvVBzgTXWJveh\n",
       "yeZZZQem1kr/82i/wLbXudCTKJx6asZsscdb6QP5EfEJIZ0zNfin6eAl+hJksA8He+b5hIMOnGtO\n",
       "4skGgS3CsjBgJUprDkHFWzZeyclie+37eNDF4zGGwz4taC2aeJH26X+CwTucll4raJnqQsQfVjW7\n",
       "byB/TH0wJ54MnrRmJw6spyBpw6t8FjDh0oqvZ3SlsJo/Ff73wPQTugqhn+p9cs9pPVtxwYLBmU9m\n",
       "b3JNIt+u/fk+YOJFVV92jRuiKDfrv1dws1dB/B1CRBj0KlH7AtNZeiGabK+POZnrSLOAnjGywypA\n",
       "KPMnGsdq5rpivaPpe4YoxpgqWGHWWVJKvKeZEeAys74EF40DKGp4MLLrxklfHJ8w/yqWmCeYemJ6\n",
       "puNPTmaaAp0Ob69HKNRKFXwoD62Yi6z1WpTdOND2mRaDKjIFCmiS+YThw+TIb+CzIvTu0my1eo0p\n",
       "t4SQPatsHvnmLD1W4Cm4HQ19Ol1sn/MaOVNkpJBr/5AJtpJu3OlsyEs73eh5IGZYAAJgmcyaS82e\n",
       "jIf4WuI5gOeG9dppiFPAd+opz9PzHc8uw36XNhnoZlV9veihlwZ0jhmwpFD/APSIvjaqrPodcMsS\n",
       "CrOXwKvZBnrt+DsGkrif3u6HrttfxoA7ON6ns2bBN0E8Cb7kIcdoBk4FiDK3v3ymRZotjGXJrdl0\n",
       "N29Zz1xuQMKGJLDFVsakzHAozOTDJ7Exxkuah2tALQYkfk4pVEx13L+RpD98fM2+iA8G0qY+MLyG\n",
       "HA0haXcayR+95gLIsiiu26nrfS4GWnlyzbpHOSxv3HvhYw6dlDLVDa6Cg46QVzLM4DiQudZawQtn\n",
       "IyoBo8IEALKSHtQidaa2Wn6swX/TLpRyso5xgstITDkiRxRvP7goq7NypxMzANDfwq1oCHrlULoD\n",
       "V9u8HfjrFBNtpoZyb/pT3n6vxnVLLRf4fm7b1EwNFN2h+DouNv4RRHoyaWkA8t0WMybN0yzuQneT\n",
       "VpyGAGqg6MLCNwX07VN2t7RNDgKM2owOPesymf1EzQlcV/a/+5z1wdqlTO4ZU7Vs5wzu17njxpVa\n",
       "So/wPz5G197OltuO6nFBwa86cCknuuRQ2cvmC0HPAGodeI/v3IHmi4u1eGodgD4Q1gc5B9zYO94K\n",
       "xWOJ/RaJQ5DlvPFosyR2jNbLwwP4Yc1q9Wf8Y99upUwAOtN7YGs+hqYBqO1PtGp7/oW/x9jbOw8r\n",
       "YQxdFpIqFxmLLCLC1II7/GfTafiuS7TVA271NKpW8xIZE+WE5S4VeMjTg4n6MWzUMxcIoYyHaJTq\n",
       "1paaaHQCoM6aJgubYFqyc4wrQcpjIM5gdkK/aetBIgds3fIjERiASqoQxDtiw+/ULLMKo4bbEemo\n",
       "2bm/IYxt8CJPCSS40yyTJlFTVuDnWzGqlojy60ctYCBYSG1OMYvKomst/hUg8q3ZMKBT1K3yq6Ny\n",
       "GEeYo6BGaTMbX6SwGTvODizPSDAHuYWjLSpbjnmbr/A1dyR5Ddij0YBuwjV4U0onc9VPnFa2HGXF\n",
       "sGKV8vi6xr06rAQegX6BDf+gP2fzwF0EVGlOFR8p2sGN670kf/bnweVskpgLipAcw6jlumnn3Y+n\n",
       "a0H5l59l36qHmAPBelyOJEqvgqpJl1udGoY2JnYud3JNq7y9rOVt3aevkUA/WRAaydOLez04k9u4\n",
       "Jq4Kc8Pe1n7zz8NKUPAMWfvr4tUsTnAuodKwL7ZmMg8oUwtibzFcwDaN5TZZDsq8TJvxI2RFV96q\n",
       "5Ki/yeKGo4bi2DkPouqxZzxXavPu7BZQf7rcO2ZJelKgzArRSUm/PGCCjHhLc+v7JY8+//s3CfVX\n",
       "BoculIPOLG247sQOfuLLj2E5kfwEs0m5ToqXSq/IAzhihEHsx/XEFkLaiYgwcI/jp3ZVMmpExOoS\n",
       "PL1hx/bg9Jfw9frzV8rTzyqp2Ax8ECUWyt6Z1gcGx2Ctni6Tr34GeADEUAtYduBVvcmA7ozCWYEx\n",
       "HdTsk23EyWlt2z52/J/kE8u8OlZ5T06WCX10bu/aXJYv3Cfwn0vXh4QSzfiqg1FCiPxYVl0w3dEQ\n",
       "iANMEYlhygCKKx7XOGHAcge8jfPyXlhIbSfYEoFUOO3dE3pdmt0ioV8nu0x0onpnQkpZeh5AYnW2\n",
       "FFo0yJRaXS3OAvTwo4QZoDZEZTjxFQzDvCGD8yC4ZT2FuIVzl0w3SieT3T2aj0Gjtzqy5zp4uIvq\n",
       "TsazJjuqCkIBWBiuNdTQOJ9MnT17DVavD5LhmeBYo97KMadMZz3f2wFebrCJn+y228+AxH4zQMkZ\n",
       "f3lgZDCTd0/v1CU+xm+8NMtD2msCaeBUQBYbjy5qSawq4A1BF0tyGvpUaRSkdfAYQ8LTLXIwX/8P\n",
       "wGv62Ya55GYQvEiK2xeLHTz/4qZyntquA0XKt4iyIkfeitSci5AjesggligCwAdynCHNybVukxM8\n",
       "dB0rvYbwnXrb/AYRpMwOd/aMqxa4vfliuTwqyQAAAlUBnmJqQr8BsbCpDgXqjjb/IHzUgBbeTEw0\n",
       "1fQMQPLMVNalg46ZfAMJDY6OoC6qbrmwPQzfKiNZxyXU2V7bSqtJeIsVcdzkXBiNQFyx4pFR4cv5\n",
       "k/4hTBFbk8bRjMF+tVgwy8LUG+FimzIOPedOBJ3HIZGgS58vxVSoJsBhAcdTKNfAMqXqh5ByXplS\n",
       "4cIfwHEwe+WRXDPnAeNBRtvpu+9L8XrSvgF/gdzSYqOJg4bBzQ+1eHaK1xYcnQQZMLiCom9R3sD6\n",
       "7b/aroYGFWv4URNmul/IFLTZwxVXrx4KJ1e7VhHISy1IO3vyjmxr23v9z22//shjvEV/jRMmciPZ\n",
       "6QGOf8hwUSU/XEamls4ZTEOx7sUsqUz0b/0uBtUFRH3SWKir72v40Dzm4TxJ8ZbbkqZw/Iz1esa0\n",
       "UhvWfxJw9K1uqmw/c+dGswLY8mnwyIsLhc7kwFv7FVklog0E10pzAGrz4L9LwAlp8+QFxDxd7nKQ\n",
       "IDhblmnsI+HYNbIeLYgwv8yEJStqGEtImcXKGoEJp5zWSghKQulEg3R/ys05NiBdmCOCvMMZNzIS\n",
       "B8BSKlFz0VzzsWbWzjj1ZXCV3Vypeoeym4Xak74Atuq2wycldm9QTTMNMTKVrLI/hwXARW/y+nIE\n",
       "EIKGCAQ1D5E/j8lc/RoBr0erwIWMPX5W3eDjaJI9Qjj4giMNuoLaK0G67l6jojoIC9AbBI0QYvmL\n",
       "dDt/XtuLcpVmLhKHgJRWaeQ8eLOrs/pJ70Ghy3S8Pa/ilXe4W/gn/brHwI6yFdUrDiHnvPZgxMBW\n",
       "/oAAAA1AQZplSeEPJlMFPD///qmWAZXmJm65TEAx5Tv/9BJTOL8l/ozjYm9rTs2SqhW8n6Yu3Tdl\n",
       "Qqr5ZBCKc+pp2zFOWAdcN5tAEloDc5ij0D6JWRLG6ca5GYd9lk/NsYYsxPWrLePGReSZTxDdzHCG\n",
       "0MKY+//b4DgHm69JJiQ9ogXDd8vUiNfyDqou9ylaCkTI+LXo72o79eRH7TZ/kof9ArOKlJ4RVZCy\n",
       "z9m9dqgtww1hiOkf2Fjf6i9j0/uxuIJ68draHaKJAM2Zqm3tbLJdiXu9EZ25/JzDW6wofXcAgRIp\n",
       "wIh8j/vqYE6s4gVHGpdTRWheL35yIGbgNLsK5ihHHMB4SQ+rg6dcPu2tF13TcTql7f+PTkrQBOvY\n",
       "qam04oxqc0AUTu7zp+4iqboIV+5EOmLGLwh5RJxNdeoKGnPsrGZ9Ev9UTTJU9B39OQDWeQGO3TZI\n",
       "dF4CDhllrfN0glscZQTS0szAZzC7KVz6VEMMWTTw2sbydc/QiZqU/F1/IwQpFhmv6e2rtBHsR8M6\n",
       "ZzcYakm1l543tYpMjjtoiUOUFlZ1fasHqyPw38h5yztvqP1hSxanXftPS1nmr2qLbJUDSxK85mA9\n",
       "kWg5qYsPR+AlT6WmdFe7WOXtvXkEe0TY26TrsTa2zr5L1CNP2FqKqR4Dn93M+Y0aYQp8UxksUFN5\n",
       "Z0qTHB50198ujl/jDd+X3ByTFxnnzOAyecZkTJWihXOeGdLNFaXZFvo0IB+A1BXZQJU53WBEUN4A\n",
       "d54x3oM76esDcz6FooOSan5++UhcsIGplmt2fSE+2Rq83EoILYxpQcg2aX8ZCLHzsPXbWoh6Hbs1\n",
       "gwlbt/q9/AJJqmigVH8u8o3XyarTrlOKESwNdmVFnIVOgfnYvRgy/+SZAmTpjbqTWkyEZJzWrDCl\n",
       "/oQbRTEF7Y6gyquMB39o0QIWNkYeD9aSPSzKx19F4kSPPd1OPG1Fq/L1QLvB1+7yUuYCOaY8Bbg8\n",
       "v03DVcPNe1i2zomLcZiiIR5b1tk3sRnEA/CXzNnSByNI0S85up32dNvOHkk+3iVTMkpGMzAw42x+\n",
       "vIrRZnoO+uhceNQmm8EfO6AUSWbvMdymzYyclvOIQQAQXj1yI0puoqUVxy7zM/IpCBzfrXGaHAzJ\n",
       "9Rk9ESsiUEPnT/yWgWwyKq0pxIeTnTuSGv+be++Blfpd72DeXHAexpIr30THQWWc2kYAkIK66DHQ\n",
       "X0O9P+qnv/jWMLz0wq+/Ka1Fgd+LeXj0w3Am7xJ5VXa1rICZvKUuhGpL4k+kF1ZIReMe9QLUGkYN\n",
       "U62Aa4zKj6P6+93bPG5fNHOyGLbpj7PMUuPYe7769vdqNi/7CXvzhLgOPESiwVpL1elGlxGwgkwv\n",
       "55SBPtiV8DMzA//z9QfyH+ATePLMh90G2GWMPig2VNExvTcXPdrUz9V+cdLnWbVOfAeRuKSjVBYs\n",
       "ALz0NpSXms4CVCGNZnJK5p37CAaNdqqX39iMoD2myM22PgmfWryOJInW7tcYrddNVtMavp5Cbjel\n",
       "VnkS1tBiKCu4CASrWxI1jELk1Hwt9Uuz/Ya9wRpWoNJG3jhLXD/BeIHv24kGgJRsitRaB6NW4L13\n",
       "543mAMH6LufHOm2fIUxAh18Uu1N7bEiB5/4kQN1e2SzvRq3YbxI+mybxxGaGNYC5KOJmsUZBd/MR\n",
       "UzgeBhS56FKPBLyg4AkTDfIkxGxpUtrxlkRFKvZpS1yUAlw7nPjzDY/ZCFjfv9uX5Oiov/ZbFLKS\n",
       "7adgWIjRKe2ytlz7gvordm3+giW9iJGgBrMnsQiqlGK5+rDefFMd9S+Tc8qRwCZTML1rhasjzvFH\n",
       "fUfGFbN+cvVYrHxAvtpaScH8S/3NM93Mq92jpWmF6bnutwqPjEIZaKd8riFDp3yEPJ3j4BlxyI3D\n",
       "SEJq48FW37Omt7MkMSjKabhXvvO4Q8L3V+03vJAhiOLQ9tqkqZ1aVpQ/0IFxQeq9fsrY8UdVHgO7\n",
       "qcSZNn8pZP52ItD+n7x4WM2/w/xwIeHZh1QjFimsDozzAMYu2KeyYZ/OYhVSycYaz3PC3KVHCncw\n",
       "rBLwTbc18f5w3qmVvvjbHN3HsNiHlNOXR2V+cQ2lSP1H8DYMe96o59TDAfULNjAU0vX0Yf/Oev4A\n",
       "l/oQFbv/Lf2Rf7HRPWDK8ng5DURldPVe8yMzH68ZmxdAE/O91UoKHlmNbjRbr5lKwV9ysWv974FS\n",
       "TjvKhTL5pmePzDoKiqEJibDiBpiDUPKMs4bRhaVpUE3f0VNgqc+tvPbZWV2UpMezXVmyhBeSQKcr\n",
       "hgxuVcRwKiwkAmEITkrCVl9AlOvcrILTod0ijqQVZ5XmkDq9J8dWL6OisPMJYkH5vojA+jZcDg8I\n",
       "BnQ/5qTf9KUMbijBML/dEyH+Bl1x0aGfFqMXiRObF/M5+EpdE2CNHZX+fWm+gisWDSO9LSAooXYO\n",
       "xAfS6LaPuawSmStzp6cjgciJaFsXCRHwGD+x0uVsH8Z4nyDjjVkCf5/PVi9ytDy/NdL/5pXRr9d9\n",
       "+2zgxZnT5N6/pH01/afibgfwM+X5yrvJOLlUAVDeAvqpRcpCBOOVyZ1B+sZubrjpN8tU6wdEvDHr\n",
       "V1N2lgfdBamFo2auTGwbzzdfTb/htaHt+NWb1s82BSgrFnJR00LTm9yDfGihrpoLaYB5iX+thoZC\n",
       "yesSZ9aYXDetedOZeBYhBdjRDjhCPsIYttBTuWNnFlcaAjW4Mc1rnjcjVCxKCMfWf5kP6Ot58eZi\n",
       "4v6uZ/K/rca3FzZuQ2qjY5LxHUgzu4nEEjRj5sc6X7zwku+y2+XQP1hqhCiCgw2yZW0/4nDyATb/\n",
       "bLlXO8eWzeCuVz550tgIHgchOGPHbuCJGOdj/nTFemWV5htIjkbqyhcrQtdZwsKJitCRNbvBNz/N\n",
       "taIGM0Fj3LTRGZszphFIXapueAAdB96E2zr6UEgElKVNvb+DIco/seTZ/PZQXwHMZkN/o42uHu1k\n",
       "KrVbyXRGcdGZ7LzotNhwFxyqM8ec4EuG3WTh+jd/WivQTuOdmDJnn7iiFrDZmg7SDa4rIxrWYhFw\n",
       "I43FSu00syvlJgTD8Pq0OIkgxjdaU5ZTxxU504xeCIl4wjgBp5xzLvGFPitJOHog9xIGLFpjKYVh\n",
       "+4TY4pyZgSNoT304POUwPIdR95ep3ar/rmgChIsf27wEzGBZtlTf/wScUlub5w9CMWHCoBoABpu0\n",
       "smrjlhtW1ShdxQAiIg5VFWkjC6wAReaf2pc/5QoJrTSOyR1rkhPBWePCSsim9kFyl2p0upEONq/8\n",
       "H+GZVpJRDdEQEVb1/2PZwoHbVC53zgTaCKGJJ3FFOsMetnqeD1uCtqx7XBqvVf1Pxw1241+VMG0Z\n",
       "hpa1zuuNk+K7y7UE6VcUXtXYtr/wIN56ce9CBZ12ejOY6sTWkEVeB89/DNNsj1vapfR8GqWy7hJf\n",
       "3/KL1lKOI7ObVtwnceAGqN0hBQJjrJVWUu2fIfdfKd/FymL//7KpRNfK9qSPq0kaeldaUwpaWSqY\n",
       "fC2//tsv+lbL06v3fNuu7UWFpB4QinmnlwGCEwbw8UmpmefsaByWJm7l3jStIFWXxx+G8YchfDqF\n",
       "1CS40u7R7EFPxuE3TxGesK0w8iXLxa/BK4YVQ5xplQleWvjUcfSVKICXCjvDEqB3i1s0s4Y3OKb5\n",
       "+Px/YMRIifO7l9iX8rzZiR171vtBpzzQlj4KTNVscuvFonpvv9eOUTi3jZCDMvj6tCqD/mCfAGF7\n",
       "KvbSgKG5TzcB8XNtHQ2UGM2bRQ1IbmKxkm+2XZJffqtoVOt5gEj6lE3rL5YmoagCNmxpuEXhv3oN\n",
       "u2fAOQuW0nI7YnTIz8KxoHSBfPR6QvgKpnYMCvjhp+QKqmx9YgEfttwUTwBQVyp8tLAHKNbiCODE\n",
       "ZzE63fe06xTpmHunDt3bpGpSa4zaRH3rtTnC4lhK1RHOCOBQ77XH5lJOavaqviG1VLJ94DjtB4d7\n",
       "PxMZNo3nkvipEOh48IjzL59Deq3vAaDtev79RWKPjooGo+0PjdW+PZ8dtfzz9UuyRa2/83qEflQn\n",
       "R3SQiXM+ERCEUW7oYBz5R3uM8Bqpn1oF1u8YvFFH1vKwcT7KS6kThOtn0rL5ruE6jUSDDIX92F7A\n",
       "k5q8Et0ktqe40u3vKee4KFVX108ZUUDW+yG2MWgk5jntl4m6hDkXD2Xb06SZm9OtBUpA29UwIbdR\n",
       "yRxCDZmeUeuIrsXHh/V+QTHlzkcOz65W6rwIIuJOCFiiQE4D27OV8OLGgW2ZM+BCIJkFaGfyFiZC\n",
       "7EOl/nBxlOD3YpYiaa33qYaf4E35JFKT2Z6ASMTz3Rwl/8BFrcBAFU4luMHmpwjzCfRGdp7bQMNu\n",
       "UgSjTKG4dzBxkDcFo06hhSt/VFYmO1y4Ta6dbaxQPi9VFn2qoHrNU3DN9C6LiL4dxe5PGw7guHW8\n",
       "rX4bLLcIgmDzrlUS/xVZThlNc91y86g2Y88qxtjAkhO6eTNV8qN6qE29V8gF+H3DtFW4sEX9ufWp\n",
       "jDxGB3PQ6xOMegqkV7vOIdmw8fgFUYOFSEAmlKs3Ck1itZkAAAQpAZ6EakK/AO0A61sUI7hZxLxX\n",
       "gAIPL/xnnJ6jHs4yS0QYkQd2WS48rWO+A0dcEEmlooP9DA+ad/V0f0sOdAr1mdEvkjHuhjCC3Hqr\n",
       "1qPmxw+56ZU3GNoYO8U5jFKYOLOl18IX0qGcfY/tJJQF84POEWCqTlrpHkGy5ctEDicmzzKpAnpu\n",
       "JjEu4onMOIeeUdprvHwl1oRHigMHbb5eT7YIEDzIfZg282idWoxQ67b/JcQKf8YYUP3M9hFxIlSg\n",
       "4TrBzQG3RQoZfFXaPdMsSFxXcbLhI9le8mERg6mG2akpXrAB6CyRNUiJqMOwsSbVA8FVnVKWqhwm\n",
       "i7iBhiW6lhsXL/LfNdVlMScmmmLPvZCDvjzcmIDOI3UHkDbugwzgYdDvg0G/eMIKUDdWOBqQEMDA\n",
       "JrZvclyIYRaqdWaWT7n5gAasjYo4DSVTJwHxjmsxoxLKnf6dFoS6DfeCSyUGYDJk01daGMvbsPoP\n",
       "orrQd9tN8EPIh1FA7CtWkNpUDYlAe5b3vHtowLctMDpzN2y5WUrm/8Cfrld0Zb2eJAwBxUhj59az\n",
       "88vye2ccyRWLp4kXHoLiJLkkKT+6ushXQBdmvCbNUPJrRvpkalv385dX9plub8G3XbOvw97IBKzA\n",
       "NgWspPwZAz5DSalONzlU6PYHJJbUMS+Eg5QKLHmaaMEhSfjIKVutzKJ7aRALsXlJBdO93GSKYB8Z\n",
       "maMYCx0LiB9jUeVzfv9bSf/ehQjAF8C1Bdz2Sgtu0ckBd8kYuYAfdkrtyrVoA7s/ek53u1VomCrK\n",
       "DQ5Oq9cWD66vN09kArRiJ4LE8k9hzLscibu2atmsJD+bfKQRjquci5K64wqZx1W2jsmc6aOkkoj2\n",
       "WxbjlMNl6kWEqYaFulj+JxGh8zI0EdPusdNltRe53Sgo5M0FzdoRNmr/kO96iAJ5Jix6GXzOMrlS\n",
       "wq8XfRXwvL1qutIWBKHxr5XO1P3bWfZU3PKynMawzeodxnmXLpN37rLpWfDAIyhszbvYKNdMXyfk\n",
       "dnVtq3F7UdeOOIQrUDKZkg9nWD3VA52jW6VsyDT2IswZ4Xer3NPmOnVBpgoCUkc1FPrrLgyxod6X\n",
       "1eo5Nd8CaVyTtsk/FzSNwRoeCcr9/0OAi0xq1eKU7nYmJsujKNAvh3ASnRZBvH6PMHvU54/0Nepf\n",
       "Zv0rXSWKdW23BvEnangKKZ3l/OTnm/KPDgIfpXP+gMd6cvhfAWo8ZakZQmNVdRLz7Kv7pxyXLXRQ\n",
       "G6/frx3NdT7cOpe9k8vbytw6nSPbcaWFkhaKYNU1dEKjAfmzKLc7v/IDgVqZ8e9LYdHj6npjkytq\n",
       "OXklRO3O1pTd4ngOjwrdmQPZkA/zuhBmsuWl32PGMv2QCX76kaJTX+TJFt0nLflXkEV1y+BRJQbh\n",
       "Sg7IDgCa9XAbn0Jpk6ZY/onNXhPpAAAL/kGaiUnhDyZTAh///qmWAGyeUtvQPf4q8YAWPlLtMoFN\n",
       "T1y9MRV7vzdTy7PpnQx/Uiqp7JB0tly/rD4W5T8ysbYu5mfghM9D+mvlzQJAkoyalEdX789EihUy\n",
       "l5QH0a4dsVeem7ctJIji76v6FDWNEwzxM0aY1iN2b/367iexNex4d+kl09MTXN+kgK/2EuTZGrYw\n",
       "Y9SprLZJ5CP8RX7rpefFE8b+DOpT+NNCy/e9X9QEDQ9PW0G2j6/5K2Qdhlcf8k2AY45tsDxwP/M0\n",
       "Y+zxTh1+Yq5Lk+WjAOGvoRjXLSBZblgq3Xmy2q/LK6jLxKnr6ytLuQ8F9v8xGz8NK48LRL/Dfv5w\n",
       "5uF2y0RlprvBqdckTW65wQkYb2aOz3dyb3ta4YlYCGd2v1Yrk25Hl/he+yG1ghgibxwfCtToEHjD\n",
       "Jo2SpIN9HOEFtuI0ebFtyhtrjPIFaMla/ChLzmjaxIjTC92SjNA6/pUUVIWvWxMId/fOEkafBJIg\n",
       "9EIBrD7QaL8NvEHzhTpaMozIAnSBqAh8SSIyQhSMw7IPgV7e/F6/O4gfek0m3YYEL5Ce1VELF3qT\n",
       "R58GSZdtb4LtlDuZeZPV26sldS70HoRym3Fke3bJ6XdivsADtxZdRHIsQrMCASDc7YU+AFwIX5Xo\n",
       "kjk4ml1XNWyuJCttZysEi5lSKIJ0gdeiKpghdIx19aL/fF+N3nrdE7ptcHQzVFiCPDS8QVu46PcG\n",
       "EZ+YrjskEXUsp0noap5Q+EN0+08jedPgc/CaYUSkZHEvaoEVQovj2lQXyWt5QL/g+nq328ZMYrYP\n",
       "/nPivsbFg2F11JpfdfFlI6Zdg2+pbk/bxYE32raZwk/xvt6r7ul6OdH2Q9BKruP4K4V/DLv6VI5S\n",
       "JM7xP4roOtPsPXhSzZd7NlPIisHyaR7Di5zRN9670B1gA2W48H9XN+zG0d9PjKy7yFXgDQzN1rIh\n",
       "89TvnGm51esDrUT8eDKQXr942EofCwaM3S4Wqup9vAxqWxwpvnN+tDioGI3gmDHFQQkF2s3waH81\n",
       "qfKpr0B9ra4NjqoGsV01dCsbcQKD02aJoot8j16oGC5pSz2TxOS3r2V2VKvLrE6nqPMNCHNziwb4\n",
       "jI8eT9E+cpNeaeAuosgwa2CalVJMtdNNoaXVzPwg3znwJAfT/eFnCccItarkWf3CL+ckC2s0dtJd\n",
       "LBjpbvbyvkxwnF0KhpkGO1fFtND+f/PgXA2Wj0D1xMWKfj8E5jsHlR87ggUYbz9xa5H5gR0M8ItT\n",
       "zWauB3c4IUxo+V+DPRxhjZbDIzcpbpQAaPiOYF4IdvQTdp557U6M44H8mUJnryQ11TodNdOJmzAX\n",
       "lfoYvyE7Ugo2sHx89YvKB88a3ErLW2CMq1932oMbfNW/n9xPLHIjOeDtJLs9viwHUVnllWDWQEoi\n",
       "7pU155AAZnmQ+lj4tHudCHBuCJ/3xowjbmNtA3tnb6dUYVfEgjgG+zi6JJO6ExlKUYYg5os0I4NG\n",
       "lXrg9y8JWd5ahPcbaXcP7yrDT0SR7MrXX5hGg6LpDunmazc2fsJsfnaHTTiH7e6RExUoVYtWJ5cX\n",
       "Kivfs46goyNuyoOsegz4tOXzNQbTlejBF8JF8/5u1F1KMclk3Q0hQ3AKeO315Ii7o2REiMkXCkuu\n",
       "pub2IhHGqEUU//DnXaWiUtp/8i13hK99mJW+VIKCmetVDwWMUdYbEXctuAeclSjwDP/+DhI5IZUH\n",
       "bWgqbwKAb2ONI8f87YLKWEsE95uuARGB5H+xFwNJswOpAGbEE6jOU0aguKShhplUAuHu2SmOHc8c\n",
       "UJHlYr8SESV4D+ZMUolt0/+N2o0YJd34z37/b5uoRYPiKWlFUhWt2CLtx+T2PaQ9SI4nGidJQ6/r\n",
       "09pRCn/5+YuvGGVtjCE4AmysH0sVoVwuuLksHbZRFdbAbWpPdivD/ENb9aC6QSaddmetZ1+22lN8\n",
       "/qRjAGaKYTxDIsawzUuIrumeLdi1j8RA0mXYe1zXBeeCwVhxXhNm9jfIch6Audf8xhnrYFiO/J51\n",
       "tZBLCYIeIlUlzH6/UZiQsFV+m1JC4sc+x9vmFNAIX9WOHMuPP8A6rEuk67c1/L+TIPAdD1tK7/bN\n",
       "Gm/nM7CF0tKE9gHSxVin/KrgolKzBfHsuhBYLQAMc7swREcxIUE/G273gTLVmYM4eHJbWc8rzPbD\n",
       "DPnLRQ6I+KyDcxQUoXUMqSZUZI/INzqHcoB1Es2HMNoPatCK6SLuq0bYfk4BAShI8Ts53OWva1th\n",
       "eXVJGpJpSTlffEpCY6gq9u0skf2sNY+czTUYj80G5VFZxflyp1DRboLj1nlDJMEQMJ+LQG5R3b4I\n",
       "LBZAzBB2tBAWvvwW/Ff9WG6ak2rkpzAcpuKs0JLzDMZtkr1GyCUu1OHz6Mdjun0pBQl5etbeGOSm\n",
       "xB31WcD3XTnGKM3sPj0zAZkUt3OcopA4zSbPsiamBSNmL8O95Gd8RRUXWelMhVVlXr7Bo0K0YUUL\n",
       "oDiymhzOl34iJlmWnJhp7wMhYOls2G7NGwl+nbTQbD930JPUXkFl6Lnf5MBugi3CAA63Qpq+a1AZ\n",
       "snvfQfALnY0RX8TrF6udGuy61X6te3VpYzF+Kzho2I2vIDovnbY/HiJ7dlrN0+GdfshEvp6zTwkz\n",
       "uowuyGAa29S+8XGcFl/ujMlKf8BAnhTygxNQtWjhOgIF2pk/UcCC6PyXcODb1xHz+OVSwpktl8A1\n",
       "BNgCbiJNY7t62ZiKFfrhpQflFF0eAlCcD44qaxYNEd0SC+rNIHKxjBfZlS1fqbG8XjduTqceUueC\n",
       "FG4tkdoMmstVFXQYX2XdotbIBvPq74r3s4dEoyN3MPr0hIn1w/G1758vAsxalqduGYeVMCNaPQ7D\n",
       "CQELvyLT6Dgg8rdbHI2CbvDwrDiD3LmQL8sLdFBYuSC6fQSecz2xZQ/1OwSKGSBEk0t2RG7gJz75\n",
       "8mcJdUP7MwJ4U2262r5sqKsWqBz35UgtKrZeLRd7NjVkJYQf9AOJpfonoF+XIdGAqkkKlrWX0UGI\n",
       "m/SEBQNaqFlVZvRYXkcgjf5x4SNkkoTnIA1yGdOxQr65gySvzTwqCzwpL1NEC0TqB+XJm5vxmFFZ\n",
       "vlFXXNxJq1HsW6wva8DEhu2hjtwZQdQaBAXvYw19hxBYU7tkDUpoUkK5FCC7Q11Nzeng7m5p0Qru\n",
       "q4Hy+f8el34ot9MccNM4RdrduHSH3ZVKMe/rH8EhsEEq4ijoy/Q46ugf/jsPG7LAP+qboZyYuHSA\n",
       "qXKieW4KYXdzFPpam6dzMaqhkdfCXrSGgPYszY62O5vjW5S6Gvqzq/ciONG61J5Bf7a2Hj8RF5mW\n",
       "Np03uVEiXUgb7KhT/nIZ5toMxWxO3QvjdI9zeCrZ9ksMuzz4rHSZK4gBzmpGLR5jC7Fd2WJQgh5F\n",
       "L8JkEvAitSznyNIosUf9QBPbU841jkaLlb/9Jg6yINybksS2ormA+ctITaAiZYqZkLxFGQ2jdCAY\n",
       "sjl5MFknhwf2J8Gm+/qmm5n490NkmUtlbMqOUuFPK5c5g8P4J5n3n36ZrqaASt7S33YqH9z/+FgV\n",
       "smXu9lc4zKZ1IFbdTu2nEkRy4pfd2oj3/XYerWHWXtRQhiiKwoHpY1lDmL2Uklqv/idmvPYhbGGe\n",
       "3fCxiMoxVpbYaDxXVjgX4hhBN66rOe0z3i86bT89ISYZUXyAE8q5GefOyD0Qc8p0bGCF+MEMG/Oy\n",
       "9ZictzY7WhWBwg8J9PNuLR48Cmm6+9IvbqBMuKr9cstNVs4ETpEwVC7poVO90V501ArwnEuS4HlB\n",
       "Zs2df7pIxs6hlouFGFl62kEpZX2x4lhe5wbRZdkSw5ynf4GiZEvozUFMDlsQ3o9St3LHicWZiHTY\n",
       "18BgKcBrvXC+QEieqTrtyApNFq792A5GLiQuWW0ZGRZ89KGAzI75ZRnlpE9fW1glkoww6z1gcAXX\n",
       "kECH+d4dEIgnKSNZT5sdlmZV2Hi3h4uAl6EKzaXa8L4wz241pAFNuTb0eq/45hofNgpKBa4ng6ev\n",
       "lygO7vw4AOCSOtEwLYlYlGAAoMWyqnFmmyP7wYwaY+23HGuzocj5aL3fg5tD28rF3Px16g5U3IUv\n",
       "miaJ0Ydh2+x9uOpfcedJ94EAAAVwQZ6nRRE8M/8AX4u4g7CAAovCf6gMAMKZY+umSyRcLL7XlsiA\n",
       "Cejm11EJXWnY2sDV0T1zQMbeFDNT/d9M/virK2bb267bEA6Gr6i+YKp6HaLEbBRKhDP4G7hv0WUM\n",
       "YFEIMjj0NzBgzLMncaYmRsMuiZ8v0ZJ5etawHuAovPsvZuCHxASoerEhdQxqJBk8xTRUE5tZQT6f\n",
       "HSnzZTYD0tHxuBRng40HFWVFdNHs2r0vZ2zv5yqQU/sp3a+lYe0nxB5aMfqJuofRXdfrIqqNuoN7\n",
       "dfxXeGsG488k0ctaOIIrZrDeQVi570Gl+Www3Eeqz8NsWVwtwC3djWhuzmqk2FNUL9sp3co2w5q6\n",
       "TEGqjPE1fHSWq546vnmJ9fnO1rrmYEU5lnry8EssFfZe7enm0FbTl2lY2SDpZ33IcfiJSFB+pdLS\n",
       "EdGlBNnG0W6WfZYPRAEvTsaXxYB9HRS6cxaIjvEpalgMn6NwJKH2qbhZdHGoPqz/+JIT55TNvCOf\n",
       "DhEz4s0J8rUY7MgcoBB9JGwAbR2Wcb1wdNH5AiYyxWbpsa+BPgiHBgh9lvdQlrV1VUIinTyS1CP6\n",
       "UZq9yfHh/IeCAg7oV9HRbe8MWDt00CgUQqEXYFV5l+oUUqwvkzC+9t2jZUc5BSQPH7X2JpJdiGV0\n",
       "sGf63l6v0z2raquPC4jFbyb87bfl5LbzVFVW5WakxqqOppeK4BwbMdELzDzprNLMFNdhBKyjS/9T\n",
       "y7xQ92GWrAe5uPlOKmccwI+hlDn0uOCu6GN9X3PGBmIjbA95s3bjfpHOQaWmxd1B+hw1s+rPAKGH\n",
       "276c+TjJqVtLtRSW7qqdNnv8QaJqYSL3HDgvxrbYWAtkWkgGCVCFN22UfYMnpvjHq/uw3Ge/sCu6\n",
       "Q94X5qEEs9FPZhGfpw4IDvqd9vVTKQLwJbDXbzG9GpBzVO2G4KbhCuLFx81zv3iV9quJOrZ+z5sW\n",
       "m3wQEOqlUzUm3fo6DNPdOsqWsxdCLeUqlX/35f3wNkyNAzizthJWkxwjgAJjxiUw8QWIYIN0hhmt\n",
       "ctLlM6arZoeOje3d0IQokAsI/+Z6XqN5hIZLz8nVbTYnY8tK9PXcSr5emQtVjqBCDIiarUSGQA5T\n",
       "1DRDWnO2gKxJI++ZhtW/GWS1gDwxBuIOW1wGOr+tP+KHgiX0il+VwBpR3v03bHFw0vO0iKZwPryc\n",
       "RPsErqBzV0eRFZyRR9cd4P6FeBHgDRh6w4sAOlg9aMqw1OFKw8RKrOk+uqiM5zMkeZkne9kVPX6U\n",
       "yWQw0UY5dJ+6ZfNoZJQPmHGyKgLd5K57tcuoxPsmTzREFnoRZLaiYw6SmtPy7i7hhYIiGBpxgygC\n",
       "9BjNPJrGw/+ZaBPNTm1/yyQhtMvLff9XervOvNWSCYy0upteF5EM9eLirvLugU8dP10IM7Vd9oIK\n",
       "Qnqh3qtmLKt1ZHW2sDOn2oeR466omstmm5NFAsVKJNaxjtH8YpKWK44sDKPjp3tWwv///8SXH+0v\n",
       "DGurICFFMf9sGJBdksWd0ptzfAM/U1qz0t/5+A64QMLtA24EyEYePMSrGxdy12xKe7vEhSTqUswf\n",
       "LBa6DFsvA+QtU2VE8iikqJb4AGfeu6hM+lyr+YkpyBMgNisPNGKTA91nqPeL2l6F6fKYf7bL5UTe\n",
       "xrA7KNxihA4b649dMl4yUjF4qA7dAqbut+SUMPLn1Fs8g/tbur0H+tb41O+YI6nMk1ob9RhXicc/\n",
       "r5rn92wc+5+q8P+sCO2+oD4duJRRRpidl/r9zF40ZiPVeZcbDIslzdpIyoDxU73nuIfkM7OrWUUc\n",
       "oOD2wNYjc0ujuIDVRd342BxHlcRke2Oj3kab8B2SXY4wZ9Np+kKED8qjXuKrAAADqQGexnRCvwCx\n",
       "Gs1+fW9/mPwgBGQrVgStrqpUDjZBA70RUdTF6MTUb7N9qIAoDsinoy+t/OfTLxRdrtadrQMIRImq\n",
       "zFbcZ6pWYqjeD+/3/jJjCU/qddCTPkT2tmYVdtMvXfDsN4hqypmjE5HF9VKSqCCEiVBx1Lhd2LVs\n",
       "cz1K3tE4UjXmivvPomuyYsAKR8BZT5hzo7CpPwBeEZQoIZ23IWS3RekwPQ+FAe5+s4lRB72aXxib\n",
       "IeXvE/5jdkg49TspdILBRzCVz1hZYB6rRkTXdqJopkdjlBvU8bgHeTPwf/lIBWo3il3r0IdbgWIe\n",
       "q1ZJ4Hm91gfH+KzYWf9gBMgbN6ztU/7q+X2xWuwxJnnT0lPdjWYTEjWY16K2KK2US5CI6qJrjvMO\n",
       "dzYD65e7pnYPfzLUSb6TYNELK72/Rt2beSK1aEQ1gLMY2S0oygd3zQETfFiFgciEtIbK5FYo47XH\n",
       "2h3qQ1Kmg/cUak+z8Jw3mAxYnWt5s7ONN3MEo5iqDv7FQWJuIzI3H3IWkt13SWtpGMFo56sYyTQC\n",
       "xdwvADZQGCwceVlz7rHjrn2whYTVcc8XECX1v18jGidKG9bDm1oPzYd/BvKEp9qdgPL+wzhqjich\n",
       "fP7Ao2+gzs54DZVe01gg3yDFUSuSmK/FaDaXuKC08NnAIBiOE2CdayA2ZE/EIvFa49WeGIw2iUk2\n",
       "l2F9n968ovOs8OjaFkqSWFtrQAaUVaaZvWy+1rWM6JlB6dNjhHMPlNTXKzl9rFx3gM9pjV9PQzs7\n",
       "4OiiogY6/AKAIqa7no+Yx4Icpdqmug16gc14e/AkBnqcVIUIZtzAFTa+K4HrYzsUSHh9kvrxWwVQ\n",
       "EOpZblUQuZrMbni8zvxplOhq/u63Gj137fjFZ/zNNfFgy8EgIMk5rN7kYyumQcTyTLItWaL7TX3y\n",
       "sshgjhtekVxLk38U6aNhZCfcrK5+R8WGnbJx592J59on5AGfY7/naGJ6euNdzP7hM3AHjlWsWyo3\n",
       "B/oKYrPjYHzWVTcB9VOxzOwAMxBds0Rqy1RLmdW2iYhQHxVnKbhNz90l7AU/G3a1kPQ265GYeJBF\n",
       "isGlDcrNI8lDNP78HVVxQJHpiomoCS7R3RlbY8Zqm8spGQu//ARW3Bmn+Ve0NoD23IfHkojYvJ7Y\n",
       "fIGF4Pxzz8NVpI5uxgcC5/wtsLIxxIzkwIJz6vHlSKWRelvS2M2AsIVMOktEBXZhOZJNam8Ewhj+\n",
       "slmji2rrhafX0QpjGJKoBaUAAAKPAZ7IakK/ALFNx9nM5/+7DEa8q8DISJCab4JH89vsIQqnevcK\n",
       "4Qc8ghCjxadrXY5/4jT0XB/HLd8pILqbxijRFlPbpQz2Nox2XomFSoCIwgIjKHnRhdWA1V/B2T5y\n",
       "yFxZJmtACPHlXaOWZKsGSYt0xRO4L73Wyr6dIzec/oJngn8y5qeviUWkqnt0ZO4u6hjq5LEj+jgy\n",
       "GoqUa151kMmGhR6+onOZb4gcFFjDwrbChUM0Kk4MbkxkwHiVJqp2FCf7lzu16izLRLrOH4/qptS9\n",
       "BB0gCclaQfI0Stl7DdDflCbhDGIAKqOq9hFCT8XTCSliPptHEsL4z755J2QjAYmYMi1vcKQWeAlY\n",
       "dbGD/eC3AJZbB0U5VFjoib9r3WQEufKSSaOPnNTn2/+mdoKqzGvFRZAVloSdqP3M4rOW0PBiOyit\n",
       "fDxbfrDCG9uUZZfCLLQJF3rLdWwONFkxpiiCD+lSsR3+UKG5dp36NKplJMykDaCPcC9KDdUkOxXj\n",
       "H0n+Db8GryoTWJggBIQPhZF9xBQu2g+EuPCPqmVyI4HnPprdmPlNvMITrM9hh4UQhefG1J75YYxJ\n",
       "MCFf9JZZc29nZxu7zTp+OZuTcG+5Iz9jvUphQEcBRG4N6UL0VWhOOokVAobW4AOhuGOlAYCk5A9c\n",
       "HmFKaB/NOQiBNF/0aarilsBTH/IgtrSlUAtSeeMLfmvULhSmvBgsYPbJ92IIldTmbEEors58NgJ2\n",
       "/chShhypNvdQSYJZPZXHbWM5lFQzE0/O8G3ve4sKY30hMgbSTpp/DGxGi+jXKsakMJQxqlOmSax4\n",
       "ga+3yTjHp0PRNZtCJH9WI6LK2bKbPiJ8Kqym5mkXkIjgWoxhsCPR6de76VhP9WS7wAAADjNBms1J\n",
       "qEFomUwId//+qZYA0/lRQKVpyh/i06VASS47BZn3H5rsOP4J0TWcBnNMbBPUCvKmDZOcjIj0bcij\n",
       "4AGqe2+brPcNQrAIO/kiH3tfliCO1mIK8xUGkGP7G3xoqOhvjRJJE5YThsFJw23c0k7NMSLi8QKG\n",
       "IoFopVOUWku6l/GFZE48joZs0R2FNa6AqXJi68wEU30wya1RCqQHWfXfBwz26ASp65lM4KOxWnYg\n",
       "Pm4UVqN7/f4fJrn7I4tLv7fJGE/Sg1KXJPDcf37uTGW6ciHQ3SQizaKPBeDZnARKvWl4ep9uznS7\n",
       "VMjR1GNNbdQY53SxqKV1NTrCH6qELeRxRveviKnndjq43JP4IWql8zY1HM92YGTIYKxfLpRR6VLt\n",
       "wfS7/RaIOYc/d8ExDjAJmxghrXV6gwC83adMouSLYy7qH8AeVuNFl7LNXe+gnapMnpKPLrvMv1mt\n",
       "6N+D0rLUGqLb2DV9QxxzRcTNcn/WpsPbTwukTHMEZ5XwMtgTtol8TQsvBzTrdq58WkFY0m4aMea0\n",
       "BSRbIzs2r2t1pEgPwSvmSy2nODycxa96QJeIx8UqcGSCwO9/gbDRdFSF77sP4/Nbw8GiOKWDaeOU\n",
       "WEFuHOGiy1cTL5PELkCzv4obOoLz+31+KhwGY9cCDeeZiEEI7Gpu5ETZcLrTKUuSm/MRJf3ZTvDr\n",
       "XVKp3YUbbaREhcT/v3pmI1n2s57UtM5iaqoyUCP2eXIMuCf7/5CiFIX7x4P65ZWCdGBr4ttmy6g2\n",
       "sDW8rMBVTGZgpt9ja5K9VsfXfalvXowC0NzEz6v7OsgtURDYXXN3otAbtEDK5rA4XPTm6u0VwmFG\n",
       "qDg/6ILLk9yK4YS2TvejzwOxMVKKWTyGsCtofP9mzkYhM3qrsNCtjsLL/TQxwGz1o0mEJocOcMgT\n",
       "7lIwz8u2KntMFxto94UoULGFCk5n5MR2LvXxYblsxvvg1nhNhq0GJ1cGr8IpGiAZEjDvxtKis9pT\n",
       "Byw/7ewjhH7Nul/CJ2N/gZu1zYOHkH1zGjpKP0LSCn53ei1OSZykgFAyjEg82cVnOAXQjlOV7nc3\n",
       "6/Pa7g8qjRz+9uCorDhzCkBJYR4hFFKZejYFNhf5uPYacrkb+mRGRu9UOZFm81L6ST0eaZ1kkead\n",
       "47JQr0ycAcqYd2auDYjcOGUcKjvb3lqW2rSjTcqIdTLnOd/p2R0A/W2zEgi5R8jyCwu8G+mLiXjp\n",
       "a+vKKF6nLSEmZ2jCQz70NiSfIS/OZidGgFAxckQdk0vnlluoRjQ2vcbLu8QTVfRFxa5w2Q1RKGLj\n",
       "jjafK5BlHQkSijYnAiv4ntOHqWs5iqbxt2XUCkilBSXC8t2wk99hbCDYSMiTyGFCyQreU4tj3mtg\n",
       "8USg/ZI/vLJSqQVazNak/33deB+o5yrn3ryKF++x4niNJGTq3GjhiEsYe9JCAaGxRAVo1UoJhRJc\n",
       "4/34tFsIt8PkDg3vrY5J8X6nPM/9hwAis4A9mlqtXWlijHzRkR4kRP29YMw8H7Y0qRDdGOWggVu9\n",
       "5AgzVCq2bqsL7LH21bM6W+mLWJAMYWIdSgj/wQ4dQ3ODHDDf6dISrKCdRPdym3ITyj3Cd5kbx2EF\n",
       "QVgmzfb1Aj8V2OhTOzZC6nc9yvLnnOhXF2y2Bgf3m9dtn2dovkf0NL7RPeK/rt1Yb3gBy+aIAwC9\n",
       "f9sWFX0BSdGsWai/0BMqe7X0Ei/neJQgfbzYleW4Df2FP93ycFuafie8ce6U/B8dbHD2syxup1l9\n",
       "t6tnIpADCm0D0xpV16VOMsxTu3Tdp03OIB3sfUE954pnyTp6vhcSoCupTQ3J2OFRKo+ehht0Vyq5\n",
       "Ow5DuAJD8DHx512U+RB1fyUqvR4Z/BxMyOxEAxjKsiXwXrzI00toU6UAtzNHkKPFvTVa3JlDNzpY\n",
       "5ohwC7dgwN0E4/RY6XjDGBjzIXW/Clj9Nlq8Acnt9mN22QsQFXXGRBqwQdqzfllM4iwlNjy74wIH\n",
       "qGrsHo6qdvqq4UgspZURn4tYsxiF1i2ymefC0sZfgZ0QhUbXPu0b8N9eq9OLAX7gqA8dBHCHNYx5\n",
       "QqN7VUVeE/NOxCr+1vy42BmgmmqODwfN4xfJzM0k117jx+D4J2TVhKFE1i8/i14DpVyU8qvb6/R2\n",
       "NJ/ZNKhuW+c8v7roshA2eLEAgktZP/CJXCl5BsN/KvN7H+xIKPprLLaTysx4zeSIUZFvCCWEVBf0\n",
       "HrO3tb65wnJR3l2+H0vC6ciy5WLTaLPrcvoNxkx0Kf/lOaXxJuLFgDjOiEdZgRDvVqQu+N9UcYTb\n",
       "o5nFepZd1RhU4jsi2Il8Z4oof5Rzgm3xdCu6ZrDKgpDLLlN8ofZ7GWTEGkHn25ryYuCkKZR+XqAp\n",
       "tG9bfV3Tv+OyNq1votBPQqifXonQXAmd5UOcZP7t04yN8p499WK5L++EuJPv+IzP0BiPaxfmQrmp\n",
       "H/nijrBesUzWi2EznAzxr3M8G+IHB0EJGAv0pe2Scr2FErcEelgPIn6a4aYgtTjDLHrJPAvi02BI\n",
       "khniZHB1Gk4KhrUKap5e2zxILzmXvNakrEhUU0Jo6dzgoawg4vTIOdizbfSTvtEJP4k+rwFn8byu\n",
       "NUIpUruGnh5Ek9CvbKpU6WaUK1zWuIClQ/WU6pmOTcC00jzw92ZJ9syUpdP+gkkys06JKKyHjiNC\n",
       "htEflG9klJaMm/4zd+btNFum/tBMkBaAScEO2EXHzk6DD4j8j810QuMV08APdjRW+HHXDdQW7DwH\n",
       "QOwuk95l+KZr1PtA5sKl4qMdLgClJuMJkFtOrsz7eq/pDMy79NM1UzniAyU5L0ry6AZpmcCmn62k\n",
       "et25Uiip8lFUzbBdGfcGnne1+GVVB0+I62gQ4Z6a0OeZbwxcCRH5meJb11c3Yc8ZII+KU62fL2p1\n",
       "ox+xpJXdXXr/f+lrQ7H+vHlwELMSpiXgTLWUzdLgNLhtTZCrBlffuxeTOuHocgDUMuqjDq/VbvqW\n",
       "wjRfYuHymkW7JZ5wuuc1/kd4jKUZ0ZfAqm4vdfefqgOa6Vd9V57nYvw9umhY5mI9ASeJdCgR8/aS\n",
       "gIIpU/y1hgtVYMlkKpK98BAVJqBbp4CvnCEXKfLL38k+HHhSAq8TG4B4yJSqq9xesAyDfnm4Yqt0\n",
       "nMpOZtJisS3skDCTgrQgHTjUJBGHxbOm5/Q98rATDwmSwFjBwwsnv/u3f6B5Hzl2CTNrnZsNfDWx\n",
       "gOzBPP+6v6TwaIGp3i8WwFjNAYhMzI8JW9GPxxWNCvEqupbSB4J0qThR+GIkEHG1uAWUlTmaQisx\n",
       "Bo80kmWw40hu93RDyB2LcJpwkBImL5NKLGzQoKTEYqOpbtANBi3j6VQtMo0Y025Rkudra+lC5i4O\n",
       "R2OJTQHGrNhjrG5lC0q1n7qR5x5brIPup+6/AQtyOud4dn9QrvTuqhghtAGFZxy+G5OqkM6F71hF\n",
       "pNkeN00dgQH1V8zy8B3+GzQG248kKVXLALgRaKaCEs3uOJFfS68nqu8KdVEqPxc+btXAFEgkMiY/\n",
       "z5I4h7ENjBM5n5dIEkIJTn/qAxysddT6F/tOV2rNkXpcydCaHyTZATQ93Kerl7grX97iSgZw1Lbt\n",
       "kLTJkY8YWGmmDAXhy1T4cmv5wpDOOavB3fD2tQNyTX2QfiiEB43Qs+rZE0g39NzYcGkDWHYD+b2W\n",
       "TbK2+ONKSlEnYglLUdF0CEGmx3q4duMV7a+zYJGIW/f1P71PtvUj3bxvRJlVU+3FpOK/LAP7huEn\n",
       "HwObHrPYNr2CFc8rvswve8Vyo58pgoeo7yTm+AUuXYi7n3yRkDG+3abTttVA55ijsuKiWnKxlGDE\n",
       "eMv388dV/0N1EZa0lVPFd+j2vlXtwl1/Hy1beOLPHp6lmL5RxMdqkkJFlJwMp/EdRawFdsnTuRVp\n",
       "zVnjFhkXjZVKjan9opAcyeEUoYLf1MbjjC2DInP0L3n3H3fnOm3hc0ifqOgxQOJL+1s/3LKlUzfM\n",
       "bUIkbFW4VINl8eNNm/OSQP+W3c/I1cmZIKQOSDmmLEZNiHyy4L1ZXvwMhmx1HNLzhDwH9W0trcHq\n",
       "ULQFhgHk/O3Oms1YNRx6klvg40jHxzfQ/e9xmPDfr7vPGPfeTvb0K3R6XwGp43Z3BwqF85ZR7nWu\n",
       "OACt7O7cVw5SFbYnL2T3I4r8DM5cKUVyv1KrVNA84Vy0rhpQcdM2hd/ZZT/w2GFi8XTv391uldLE\n",
       "HwwfxPLygOemFnYjYc4mPC10GvgbBYC8hszggOjDdNlUsIX5I6V+jt+TpIokPRH46r4USWu/1OEc\n",
       "vY27ooTCh3vb37oFyVVNjJ1qK0+j9sicm+3jGzY8SHwscFVKmYJg2tkF+FX+szdMyntfxPZsj0j6\n",
       "ThvsE1U6D/EmlQdoX8BKhd7crqVKpxQCwkjW5dCUJYvEZTGuInHpJ4mqahsuHiSn0L7e5Gl7eHpQ\n",
       "ltdRqDmTkhExSGvHL4MTzyc/aHQBy3X+XCJsK7u4y+Q4bQ3ep0fe5rv1YxuUP+946p3QS+u2nbYI\n",
       "EoWtJ2zZqOeVutewh4dwDYqXeg3QpC6vrs5vKhYNnoLmkkb0xLbZ6B0gvVUmAAZ5wE365iZy+Yxn\n",
       "u0HU5UVQImqJyyK0qyI3b6p4KjfoDpYmIjlbjW/+OQ+GpBGYJ/8Z+35nD/CPRqbRqV4f1p3YN6Fy\n",
       "SZd+OCeAbHb6VABRuZaYYOn0hUq8o0/6HLkeUh7HTI25n5AUOsBXey4AH8ZlrZicWKncvzw4Kcsr\n",
       "vKPGRGOtvLImTc2De/6aJZjQabGqHTFxJ14LrKBLKAXJqrKu8N0eRWBKilEi5Ono3YQ9vSMoK+TE\n",
       "JVTsY1J3DFy3v7/OaHBbexUWBZPKvqwISzEpUxUgTMW6kjgbvPq68QAABXBBnutFESwz/wBfffjK\n",
       "TYIeipAEMaj10ZG7Eds1qAwBDbnxXBeWbqsthbPiUqoHQm05Q9dPtedD7baR6jXFsiZXiYj9bgA0\n",
       "5xTLELW60vraVtxkSGpGJqUZiDoZmgX0STnWs9f0S9D17ovPdu1et+dw/PwqJYqv9lrck1DnNGYe\n",
       "kgn63y+EsiowfNSueIXCA9W1LmHe/lUzUxOngPoZ/gZJhZKdnuzV6nBPDfBrCqi0iQFXuBKo8cm4\n",
       "b8BVnhWBnlUp0z+nPPFUrHGv7O6LzEf84KUFKYaycd1nf65rA6HmP5vxYDdfGN9K/lFo/oorLPqJ\n",
       "F6BayNU6JpLNQjYKCxQfV42TCBZZxcCbbdLXhP3xgFQdqXZ6oRhQ2XutHyWspPvWjjYiaBctMUDZ\n",
       "vi8BoquEEt31CVKfApTGRWL7wmIKXtNygN+JUx/w+OvOJN9KLZuDtSAfFUoSvCo197ESi3gqZupV\n",
       "1jHESOHKKmQrE2jYTUNE+Q5ATw7VK+4GBeJDut10XSWaEkQI6eJl/ebYyI9TGHBMrcSkYQsY3tpo\n",
       "cOoIwffSHmG+IY6N0TfWtw+ST4iZJ9dJtI/DNaSjSFNtIzJ7mvv0qxkS0oTPyfpwhhTTkLGSekOj\n",
       "9EKl5Iaaa0wVO++ENsCk+qmR77hUsAie1vt0fP6qccWMAEhSj6+ssyhehXJHDNqHkycxV3p3k0Fd\n",
       "jdyN9gVZqyqHbPMuIR2hLQ6rnK/rucx/SIm3mbXNX2CMaLH+1R4Tm5PxahR/ogJdorvkHa+gHmNu\n",
       "q0lqiI9eRldAUwG7qqvIvaLQi+TIgQOR/i0H+XCBr2Zah9+fYkXl3JpcRGUMxBKlVV5REkP+pCMb\n",
       "hiPPdys52C8Vfop52U6ewWOjAANaan+lUUiRCxiA1UicrsmYJaWMMzRV8pQIQHeoPZKHQRizBsJY\n",
       "Db/RyN8c3rA59YT6KHJbaBieJK8LrJBoQD+A7liv3O1zajjqLQJYeaGnlUdlyd85Wd2vspsMQako\n",
       "U5ChPxDT9wnKxu9kydAXCLYetwygHs5GchwIEOtQHHyiYa8zsaA6FkSqPMd/QP/AOx/niQ9OtItw\n",
       "U+0mLPLE+S9x3DvLy+2l2afzW6y6USwHyp6duJhrQsH6gjQhwgk61Wj6hbvH7cacHbxrR/jXfRpr\n",
       "XXXj4cH8BAJUtgn/f+hKOSdRkkVFBRV1RvLjf86gOmCMvPz/kUXD05cvFRnl1rjHiD30YkoHNsBd\n",
       "nxZWjT8UfwgyiRN6AtQNxWRJPpZ1wVCDdb+3KymRouF335DTcHvc5lycaYZJspmskjqRCKtovKJv\n",
       "m608B/CCnJYcRBqpIiPNOLLMguiNVzNa5TG/rTtBw5bLSV9rWJZ3zWdrZfXDHLm+6XDDp8slCcui\n",
       "YbTNionvyGRn2zPm5zlQbUQWyJRcKsbXrH4B8uxsKCn8wVHQvDAm4jA/Ymw7JEPxC9jll9Wu3F+N\n",
       "6QNf/sD96x8dtas2+WmhfiFidtW7fKVB4tLTysZcsvc9T5+Qu83fMIYGRZpn8XcqPoB36mh63iGs\n",
       "1vjJiLuUvSRFK0/6jHXq7Jz6iXU6HOd/x064ePXVBaYrRwurP0u9/OwUa2TnYon/oLMDrVe6nCSp\n",
       "Oaj+862xACRh1aDz82cAd39wIw7MCJrf4nxOlNSgTa8GC/MFHhODM1lIy7NzYDWvzKmgcCxi07dp\n",
       "6j+Qv7UFCPqQFvKJP0T5SzWbLY/Zj3KkYrILX+RqhY7Io5G36D5Hsjc8oIGBhZqVwFcKE/mrPOD/\n",
       "SiJ1qLoCmmuYq3BSZOcluzpElD1xaffY2olnZXTyBcd+htSBFQSaOobqvLaXfRFH/sXmOH1oWIEa\n",
       "HivCiy8eEGenVz4AAANKAZ8KdEK/ALFGAc7PYXV2QgBw+xam7QJJHcYwCXudR4V9ifP1txgUQqaj\n",
       "JXpU9RdUs9gypQpkBRC6HXjSjGdt0t3tcYqAiskRZWcWDJCVq//da3NZA/uWAoHY2DB1LfopJIEn\n",
       "CEBoLxRfrvz1oAv43LfrMy5w0p1JizYsAi6U8NwzOmkHiw+lVsMQzNcV3fVwnI6OdaeG/8rhPQTG\n",
       "bmLoQpXEuTJtx6iZRxJXOaAjgjMy0h8tM2/RtNBqPJSrwIfmR8EVEF6zfSSQuxIY3s/HsiIMAfCD\n",
       "cAWW6a89UDUaCTCdsK0W0QHNG8lqmfEvNU7yKrZDg2l6g4QvprMKMnDcHY0AyBKwxpimBl2jyrnP\n",
       "pQNf8/VsjV574iHLeBCX9ZJZxTsVZ1liOSulm1um6d23sipJ8afpXcbDa7JkNlcXXXVossavVmCT\n",
       "dfGtBpaQ5rgjY5Zj0N0remuj/Gqu/4GHU3PvUluEpvLDAcyjSBxSxWu3RvLDpqn9K7Al0Vmqcki0\n",
       "tuKoI+fWT0nVEe5fpWBHZ8qoQB0qTHJag4LPYYxmPnYjE+N3jzVRZ5a5V8otLU8coSxRiflaPNsn\n",
       "e6vxlXNVItnFvTX3KGoNHXTLP9gUYU6dBojaRY5ISbXwy9NyVbKkLYoIPALSfeTWRhItEETE/sBj\n",
       "7zbeJplapVWbd4OuUwCH1aD+/55wfFecIWTs4g3yTv/0ER6oZLwoGAoSgRrxGc9iLYOCtWxAsbta\n",
       "77rsOPp7biI7Ojl5VQbqQHBTfMXTCRvx6wNfbiIOb03AJG9r+2P/cECT82tCAprvSkzLXQksjgIv\n",
       "mEUK2nFLF30/9mwo99BQgS2Npidz27lCkMid/zA5lrBUZEnQeRgIB1KKfK0Bx5Mmacmx//XwjvM+\n",
       "NvOX7cDFQAu2McDtNxKd+khBsa4ieeP257uqpq7jYAMi3qPC5pc8SfS9oOcB8PmSxZN6HO7HS0Un\n",
       "VjIhkETTP83GG6erMjTO5PxiVjMiLTEDpNxhGC9LeSUm8u/o4ttkud3SVEYAdoqOAakizsiVqzk+\n",
       "CfokT2S/TXZ4x7dtuXS1JyT0lc2XvMmyBHNTaCvYY4mc56lBRF1tamPr9OgGb57DvnukD2BNKBa2\n",
       "Y+MAAAPYAZ8MakK/AKgp80nJNYwHiXanAEOqh256+vzu6z3cIQPY9GTGGEiYlPEfYBEvOqwBLSTT\n",
       "M12EYNLcgTPxdFoIqTqAwYSfKGsoX/cnT6fwOedaaSiUZkl0uI3jWJErO5ckRjSPHenTMDjRvue9\n",
       "3QBxZbBMREy0ZNriheaIY36D3b+rnXE+4avIipUo/DlViPPo/wQDnt3+dgMBO0irVQFhUTgagNht\n",
       "f9MQmiZ/LiY9anFOY5CVCvOLjaxqmVgikyyvnf8qIoViF3FVBKxPGAVaMmnH07TfuxoIiucdTs3w\n",
       "OXrvawzhgTG8NzPZv/WgpsnavLFyJDVl8t4we3JooOrZqePV3rFVZ3tA964sF32Pwf51pDYi5Dz8\n",
       "wQO+MKFnB5nXywASlQXJ6A0KXffUcUNp7oqp0PSOmmH56ZMaTqflviFyuH47Dk/IHYZ4/HhlHuoq\n",
       "KOVkXe6TNb7s1qDSC4AoH6pBa7OBJMHfKbdp7crhxMEBZUZ6jZoOJZTBpqJtm7OQEvNvrz9AbzcP\n",
       "goBbWcwXstU1/PRN984xpDb2V/J//1h7CAR2V0Kq/jtTg9QGfeQdva6Ie0tQ/8Nwr88Y0uCjYhyD\n",
       "Y32RS6/2HQODxsg0Mz0eBPl17s60c7UOMto157OxIIEFX5ufIUd/KltoSChtLBYKdptpJ/uGWF2E\n",
       "COfLkuRFCJcIa3qjoWWlypm43OuF6ROyDzssv5fXGweoRhSAklbf0hHjvA2Yjl4S6LSoAsjod0hZ\n",
       "x7yOKVOMBSCepnMI6jhiQr6ronFJ1B2IYwNTpGdPJm5Tp28UMto+8BpctOjbSYBNTn+vXUCOAyXu\n",
       "mBQYyzXix18EDsr8+z8oWgwXuiI7SU+i6Z6TnvRBhXkG979Q513oAJDFTOVR4SxH5IUtjzILLNid\n",
       "COKlhrEIGzMmJjBzIzropF5qhijI4yuzDUz2v1mo+07NYf4tnUCbL8X0dNwdNaU32dP3Rd6g8GLB\n",
       "svtpfvuT3Z5AoO8uLEwdBJSg084GTgQSnyU72/FrkXpjSN8vs8pld3R9Nh+M845rFD5n11Oqmci5\n",
       "tId+3Pd7IUhHmzCBC/XrUo3M7x726TjzMEAhwFns/mQbPkem6mi1CLd/1Zp3KkB1MAMbeXMMvs64\n",
       "gD07/Fc7KeBbjUbYbcASh+XyqL4zH2WyB3XhJHrmuw9XEMlUlsP/6HA8BT1Vwh5dRXE9JPbixYRd\n",
       "A1GF+zmWtu8DsnIYEbkmm1hu9GfBALiVZHfSMGB3vEhF4HQB9tVbO83VgiUmsQ4/AqcmcAtnF9Fo\n",
       "wvHxhLnwMzsWvRyz8w56v2znj8zhAAAKEkGbD0moQWyZTBRMP//+qZYAZ8f5BQuStIABrGWL9mTW\n",
       "nYcGKVXIqntH2PTargropwVcFwIqvUPnQt7rN8+UYnMsDyvNTqmDrF1dVjivmeWbFPtqbpvuMaCf\n",
       "HPCCCPmhHnVhItjCxGRtfj04WOSwccmEqOziqa4piZwMFXnpgftYvpJT227Fy9hnEOlyCSlTroH9\n",
       "Lm4MiY4a1oRahvx+G295cFWDWGmiz2ge6PVvKYPLETnlKkSamemYt2KwHpq8P8j2PIgPdenMmoyJ\n",
       "IW3QrdbuMPS9WulcallQDF8LFrZXX23hMA+9KZ8FRSRX4NN5x63L61sSaqYuJpL+Ianqt0t3PhkR\n",
       "5QL2Yh9Cb9Q1IKRPLfK6/Zr7V9vWQBo+t/9hfENiMBSV+VEor6vKErLuL+shLpJXvEOLjpC8raF2\n",
       "n0Z6Q0XddjliRPq3DNUIsrBRdieiIoob26T8HWuAJd4RfTpxU09W1B7wEB7Q6wrczpJzfe01LIF4\n",
       "cOGnG87BiTS5Z8TOKU5QEwCAdF6tW+Q/UvvsvYLjydAmI+S8HUKAKpKk67dZguB8zb2spwLBbPgO\n",
       "OxSGg4KRaHuswSLanZZmGmcilEmUzTSge1KSJjwqfOUDOuSiHIydA8eRym0fY2ubE5Jfp14qVQQb\n",
       "VTSxEMQVO1xNCL6heUSJCiS6ZbiPDnIenE2U54ANCpXVyEy9oTJJsUgrJwHoc1b9nG5nEYCfREl+\n",
       "6JG3tEpDOaOkjQykHPZxLt6KmGY8YZsWL5ls90V8xh1yf3KPiT9gX15NJhbYRmn7f/8H/6t4x1Js\n",
       "lbCfiTvcx55M3OPIsKx2PPolwxOlr3K6nEHYqt2kXefL3OAoR4pxGiohtWoHz8/B4TrtSwGz+UdJ\n",
       "EaC1H2FKNU3ijaJ/dK1XO9Be2lieJDRLhZmlGo6oKCjcK4YaorJplRqyQp/n9RnBgw48TlGBs/FW\n",
       "XqNC3JtibB81Kzk6YaYrnCZpBcrW/7KuciUmYYu9CslbkicQ5ROQQJBR3fPZYk51rT6ttXFEckv2\n",
       "5nsldJDoLjwrdk5b8vMRI7R0PTKncw/mjkIE4SbX3EtZBkU2yjc7W6QOOzbMjWUKj1j9SdZPr8ZK\n",
       "acfPYwTPo3xww6NtYGgebGCOGMDEO8OkMMJm0qM9+cjK44RQrbPQrIACR04smzyC9tU0AbzrJppR\n",
       "AOaMvuZNx8ZJ/7W5xZPDDdQlZSielHg17rpdiaGzKUuw/yO8t69hoYpMM5+Rx7zwyMJliU+lvQa4\n",
       "pmvSLJWmPOqTvZ99grEYgjOIlhoIF9pRii05vV1XFnvGn7+FYPICv6ttbafR1OHIVI/w2f6iPij0\n",
       "EX/O5M23PbAGtvwtuLCn8C7q+BG0/CJru0fWKYrzzMMgQsy4mR5aZS3A3GYLRBBCx8+RURX751Wd\n",
       "IBoXucFBj/9fdatD4TsSK6aazrAESo4XiA4I+EnzbUO4/JdXHudfqOnUnF/R+eBBTepD9hxuamMb\n",
       "B/0E3CCNbjDIKFifa7r3xGdJm/EJ1xG58NU95zCcnHuMdBgv6QbWWnxLIXgzDJbY1Fwcu4SmLC3T\n",
       "Nm45uKqs24I00kuTAeR9IAaTZMofYZY+CUda47COs1H0rMdGbs9Lzs/5T0gE8PrrALeKimpmmXjV\n",
       "jyMBG1IlfDHQ5V51Wtoec83WBZq1TeJWiqzVeX20V84LizbEP95R2dpVQZIUzXV5/iX9/E/UE0yv\n",
       "EVUQoNZp+XNoorHZvxg6bVJVVRMZeoihYo/31tFXGkhd0QFRMuyxxIj8jgpgU5gwO7u7Q6fo2m44\n",
       "mUbx5QTUmTj30EsPJV7LQTVsevDdUjW13/4cTYS/3NfUjoIX/NBu7n8zz+ligw/rb/KUFtACVlDz\n",
       "kPsycnc5IapXIja8zSf3DIlKVsSgf6MC6XKdrbTl+67f5Da1VOkT9+toUELba7AY6P5hBon7Ch7I\n",
       "xwvpI6b6TyrmsHQU3NpeWtfQpucrKU0e6lTqY5foaULhT8QezKA9Wy+ypQ/vf42QyRr9Oq0Lmiak\n",
       "zItwA/8CabD7x8Wqsqehw/caBKz8jMxG8B63lMf8C4RELWBB/VmxFf0V1jro9qHvxcPl76iPshHC\n",
       "vwSgOYGCqu8NzX36au+5/D65bs2Ryc/3cI0+nHW04u3BEcDTA/pmjPac+lssVp49sjSflzZnRqT5\n",
       "sdHRVbfkUIkNnHXw5Qo747b9OUGklhwML0i3ZCoLZ/3EaygF6xKenvvvEASAZUtMCH4LmXUNtPU/\n",
       "Sn+/5KAJmnmUQVUDNwONjbtVSjE9WaJ1dRkAxBecdyGBMEUBtBV9Un/B8zljKai6C0H+SPk7HsvS\n",
       "A7gzNKPgVW1Q6a257jM1MMNRKgdRCrR8Pa5r27TSflQq18IPSD2KdzjTo6Bxm7Rw5SqPNj1T6cWD\n",
       "83s/AwXVrKcOJhR+BMdsVaVDevU6PfCU75KyKI3cof/kqZYDNVtQgv/6SteagQfwpfNjymyA2OPp\n",
       "H/aHuKvxxGWHwXAVexy9cfu1C86x1B+bc5vDCwvEOe4vvR9BKGOohxzpbblsAjiAD47aJPOHHq3f\n",
       "C+LPXPuzo0As6Vj+/M8CRqJ/xCAhtkdUknieI3tcXUZW6kb6K6U4IszAd1YYlr1ljHI9zbPaDpU6\n",
       "oNWHRhz2bO0xeKlic+yiCaFJq4aFrledFMkt8jjsKuwyWZ7K/ycUJgwjgm/ldyDsScVFAILtVMBh\n",
       "imHIiYUFd08HwcMhX/RambIvE16bBb0WsKqjyEuUoHayPmh4Cc9FnMlyUz94Rd8KSsgKrSApIQTh\n",
       "naK3qW5X4J+7Np0Lp2b1Oh3OBSV+pXBADdVAzDF7RFWK1yzZu1cJohiCMXPhnBh57uKGGAKAaCJb\n",
       "v0+u7pzs15CLQS640uXhbbH3SzD8gB7k5KKP/C2pwwnk/EmGdXDr3C7bhwrw2V5GVOMgoqfCUPb8\n",
       "U+f+NWfUh9K9t7AcEh7fR7lc1W/GYxwds7fmE5ZXCUdPGyPChSIE+8yQWw9HpqhvzTJCOxycGIWB\n",
       "2GID/0PkWcxefMlcTOvO9AtcKu9CcDQjth4m2DlHXQFePecqobrO4zUKzJ3khj9ug32kaYOAYqtn\n",
       "8pghZR1NWtwJ6XsfGEBN4PtA1SNicxr4Jo9HImNoh4vuWMr48L42t0ssh1jOispYxtr2I+USg9wo\n",
       "s/c60j+UgsmXJhKp2IRCP+6fORoU5VTWJbA3wxKM0Ek31N78XLwys/xfWiqPRQFofJuJtbS/tJM+\n",
       "wIvwFMAXTf1VyNAWDUbdnZuKcUJ7rokWmZrfmlZSoFQTp8rFFBylrXATgVKCGo12eBATobs4tU2J\n",
       "ZJPw16QDr8cxMG9GL3xxPRRryxlElMsmZbkbkJ8McvFDUlze1abwdIGqbBsPoWjun1Gl/09sTQJX\n",
       "oWhiX39Z7n8EaZGzJcfWk4C7pvf/9rPz5S5huVi79Kq6Sqao0ikAAAMNAZ8uakK/AKgXG1tb7QAE\n",
       "BsljQJDd8lzCgJ1XT4H28Hw/yjLX7ZgeA69ZhvisdSL9GY0WWLFha9Y0LHYOFv/AzM5uPhESQYi1\n",
       "ftPtj16Jduq9Twllqn0Ut5zzbls3AcTQQsk86kYOUtN50FesCMzxg3GjvTkkDfXVzUYj7hHZro7o\n",
       "Z/t/7QXN8nr8+Ef71qvvC4M8RDvJu5jO3NzhYe+H1HEPK//jBHg3WAu2oFiI5MyuidbOSkPXAEEi\n",
       "o8chr/ZJxdynpd39NOBFx6lRq09vWUvlb2KTD2CWZ5tteqamjW5SQFlAxguWp6xgimeHI//Ub892\n",
       "/3NumGQ9TbN7GBaWIYSvpcBqWvrzr39V/sSCG4DSC8BkUvqPT6r4kxcUZP66shPqQXxCyvjNQQQ2\n",
       "9Yo+F0dwGmvwz9ap3A6lCZe20DVa+fZxe478YYO5l+/RWmJ46Vgg2QXTBTQWfU1nq5h/G0zsLcAE\n",
       "Tei7QL25V18VyZDtddaGWen6X3KP/jbsGb+Zp6TYRJ8ZLdNJmVtYhJaVBcwyXUomz+AksxTkXorc\n",
       "iLCAXGQoaj9I+Q0AxNs0n5FIalHhAHualbIAIzohDH4nb5vosmS+icFyRivFXF6do7tI6/Dqv171\n",
       "Zghm18IKG+dyii25HgDOzON6CxqwqmyzGRhZDVk2p516udjZ9sudLiKpDjn95Rp3ujnWPahKb5PS\n",
       "SKFu434flD0BxSVYzZzCAuDfL/ZEa+9tVGGK4izSdj5GnvKpm1YntLImEQ3lKAO6dox9r1Cm852h\n",
       "7/UYiwM1vJL/gcEqKSmmnwq4GzPV9gcy29J3tjricTs1HsWqs75UfGx0BVqQFP8j2QhGVpgU3MM9\n",
       "NaLS4GY3ZenoInOGaFVqiHDS+/vqkiBaN4P5tiKhLHzPIRJ/q4w4czP3p6GIn/gFC4ys33vCOJ8r\n",
       "hEkaFVODpNGndMne7wk2Y2+Nk4DHJFywQYT9XabELSJ1u0BvChOMV7bWGtNVTuzwBicBsn2rWFAD\n",
       "PELUuXPqOn6I4s2Fu3VAiRL5sOM8CNzkwQAACoZBmzNJ4QpSZTAh//6plgBsp5LoBSasR+20PiTN\n",
       "g1I1T6QPg3hrZROrrZruzWpXQyZSax0LytqW0F9md36V6ha21nfW2nn9COifWi9iWxtar1K/8Jdt\n",
       "kzL+inbwtWwlB7V2rvLvBlXs8LCZ6Xbw1tVR2GyqVL1xjD3H6gC14XEHOIq3p9rsSALE/NL+wa+q\n",
       "Wxe5cdol/7t+WnIFvfCT00ZX0huCaT/WOesVJ6+VBc9J9LEmgjAQ8XpRy9aphMqIlFf1FCRL9xol\n",
       "jQAMmVDsKf+NCMrP/1yvxaoAT50GDQ8ZUyqFapj+7eLReAU3BgMc6cCKdBbKHWswMDepEOTfTFZ/\n",
       "sCRY4XwbDi+mwTU0UlisAIbBMdHAaKu5ZsRvIxcCK8Uj3Uz7caKpnhR+xmF3QsO0JFm16beSICYo\n",
       "j2FEYmbh90Xnrt1/YC2+jagis+6+LlYHWLh5XW/LgRPIhbqiwQuNDm8m/Ois8w4yCnVuowKaIzTI\n",
       "Tx8LHTyGOHblyZn4aGcGGp+lCp2uNLSJIxLiCNdcvo+4y9VAVMLwstcg0nCIhUlt6vJIm0HJyvMP\n",
       "tWuyFu3Veh1Yw9RFdMM0mv1tOeAkVG3LvgmaMDnWWy1nYRwUUFe7kg0lD0lg8w87SxLdwrTmn835\n",
       "7p4QfP9HxVkWMmxPeGIOJKQjUOM7OxqpD1L4z+CSQi/38qFkzFAYcU4x8OVfxnjx0Hfb7grILJqD\n",
       "4BKmKv7SUoWAeTxy7jxlBKfDF5NrvRkxuraI4Cz94dNtx0SD08kfZJ2/9c1/uk4LrbDNasOyDrCS\n",
       "hWU0tpM/a0DlFbpiO8CeFnWZ6X7sfXOkWRH2RUO6GJD8gUvLVJTEjjco5JHS6g7aceumOByhlV/j\n",
       "5HH8QTsWdBHxZLF8NqK+oW3YHq2P6HQjtcwVmE4ftHmOMmAf7NdBXbBsV3qvRnMuuje67Flm7GqB\n",
       "jlFQLJgtyU5vd0xTOFSU5rZ0nMu1Hn2qDu7B+Kdc9UyASvnKoxGgXpBIBY7gISHlZxGTcByGpQwC\n",
       "rEcPWkaqmOHXsrdLZuOOG7NkUwIVIVuPWDWsyE/QFTZ+6fF/Rsl3DRFGhg2UHdF/lQo/E75WJpaX\n",
       "mrXpE9vWKgOFV5JQidv3NFD5KwPsGPlm0SEVtxUDKcgtx+NfR2iyyZVpvM8TQCT3jx/BhSgiqiGs\n",
       "ea0kecE1ok/CwrmC9VNITuM6BGv2UGDKHemzoI1QlIX4UwJ6crxVTaZCdIWiSySjvFQZwN1unoyD\n",
       "qieMljlcJiSz8MY4dxNZiQxsrh8dG4BzQV50UfvIY78Oryd2o+wh0cYSJLg4WkbXA5pexYKQrDrc\n",
       "27P2REdM94Fx9F2CVw8bayIT2SdXqhTxVHGEk/MzzYORt1KfQCL7gp6NvY9KwGXw6wqSMtLC2fF7\n",
       "FzTZA7P3YyTeEuoRVs5Te5UJyXtrl0frPROSYPz7h/MiCTlH8c3cB0OQ3EI6dlA1DjWDX8B81eIy\n",
       "ilvKSyBse+xf+vT4NHUgo/DmcoZeE9TnDMHtHM+Cuf1bAe4yfOtjoigiZ8vN8Fo2U3Be4jsNiiwm\n",
       "VkyT+LEXrneF2MgJrbUA6Z0M+/ncpv/kczakIEsNNS+Z7A57rp/zpbBoZ0nWQ9VUe7nY5hAaiyp3\n",
       "IWxohvZTvSywYExw3WkmXoof+29jLr/KUX9h/Tq6H/uj9mc7JU1owSTgMxumTDN5Y0kRISuiWuU6\n",
       "l0h1yupZFklLsgSovZPGMrRPzz4lmBuxk0/H+JEt5RACJ+sXx5ckg0nKvRkQmHTbbePug9mXYAuY\n",
       "0pf8RszsWDC45F2JKp46/3EHBVpgf5iUEc9UCR3LZQCrLuhCQMk9KYwXcK1uEZEp3nVsILWrJVXn\n",
       "xE5HLgmf4SdPMV6D7gMFN3dDWH8jHLU3vysZrSaVxjGs03S9hPwaB4GEtAf7MmxoORKYdQ1UulEY\n",
       "+8jgCOmx/ZxKHKkJAJr90kAyfNHHKZ66JS+YIZYCL49rU0DnsKOq9GSGkK+0rguAtkxLcAgmmskb\n",
       "e4ACd8paYtGXUC93tdnO45rfKxOvgqELPlaAa4jfdDcHLieqxxQ/5LbCXiW3sM+IMttLJr+SIAkL\n",
       "BBic5D3AVRRiygxFQn0Ba39DQlVnx2wjOjzC1FzyU5hQP9X0gZ7eRvWunvxtrf/RGPQsvU6LF96t\n",
       "OKh0Pam5dYAON394QiARNJ8dyfChiXNGKAUgfXig9WwmN/5fAkBGD9Y2D4Ud8yAFNzeut+cI79H3\n",
       "dwol0kbNiMCvVXGsWg80mhKvq+0nUimYdB3UWwfYn5fPjnqyEBOaGJR8IsRH+Lm6WPl7g/T+AxMP\n",
       "RpiCsZjrF8Lpmc7LpkucINpzBySskQD5E5Iw8yfdbiFZxDViNjMcmOIfnLHl3d0oWK2Yr42BGk4v\n",
       "3O3DDukJjiYhCw9jr2m3I/DmL0M8ktCXi0PtMi9axGXvmgwD+4KnDgrRJb7it2yCNqjMtVQC3UoE\n",
       "ga3AceIOktrpj77wOU7LB3ekpJzOH8TiYF4ugNz9XRX4TBzYEFkmHRC6QnikEjdEqc3TG1V+c5PW\n",
       "LXyhCFkdPl8Lu40IxmlyTHBdggdeOCgfOX5g6X8Abnri9P+qDhooealSEQWRhGldqpbhjboKlkIt\n",
       "VrZbteJRD3u9eI7GZu8P0o//mAJ44A+fbtsqi3KIlwd/DV0qijwic7o5gJ4FM13nnJuyPyqZ5B+Y\n",
       "ua3MJtPal9NOdlshwJOcchXVrOIMTR97Od41Cd4hM1SKbnfHQN0BPUIIJ5hks0x5lsTW4VRb+Mew\n",
       "bWQtRxSybVqYcDkNX7+bkP0A2y+5JwFxNVdZlfLmxp9ftP/tfnNdbwo+nx/gIpAoq1rgLTFX6Oan\n",
       "wfuvcOj5cKB7D7nscOxtBvsXcc8atNwBH/aSNNVKkslxnmHbiM+JDVzz/M4TqBjGgCnSm3eEIrCB\n",
       "jZM0paEuFv36M8BBOjeeaWGb8SqtNwI8j8wNyZojJJj58ggzIBL217k0Kur4gxY/PPTjabC1Slhs\n",
       "q6BR5nmzrbKYsfrGByK1u6I6cPBgLsT7bnGSYjgBhP3TVu11IS65FqdjYdPjNC8nJGSyssW2tpEj\n",
       "c2IFUznORDo0DbTxVOP791E3ElUkzjl0In+i9re+YlxmO99GR/ayc1PNsQ1/9s64k8Ujpd6QZ1Qy\n",
       "LAux2AnR1KJgTx5iYJoMCdfItiAwLsUaZZQf8bP3uxtnu8pMzLDfAJHxUXVIgzMXNEceI22gH2Xx\n",
       "liYTfBVGzbVFb5Kvg4s+V9qB2R7MHQR97mACugKkkXiO2OqUauq8xB3kD+gS5zNWXwUOryk4SxUZ\n",
       "ZX6tN8awG+eeUfdL5A2ermLd1npdzOwh1cvD2fkZpT0Vp1wHSYI5X97z/4WNd2CAiEvjE7lcZL3L\n",
       "Mu2iUagcBv8BxrvNK7DPy1wfExxUMXAsGL7sbWf5JmqMbGnstI+EDngp+TEkNlEEyEg2/DXErV6Z\n",
       "S4FhZCog3kRSEn9z/NgCrCT8E9RPx3aO/jC4n9w7I34Ka1vTWv4jVqY3qYHcCsZOQXHrK30YZJay\n",
       "qxbZT+SZqhbXan2uEFzZBxE49ybCjKPXOsSXU6bkhTazY4OX2RRHHpw1DiAAAAT/QZ9RRTRMM/8A\n",
       "X41bogFMVIAgK2Dhyp2bQEyqdCJWVhx9Lo7b7EOdab7pgKi4vD7hji/6xdcbL8qhOL6XDB/d00xK\n",
       "TCwYark+ypRDBpn69qWo6L6dE+3y9sJTFLR00oYIFqa0CDe5pH6PibdPPILZbQflF+OUpCa0489d\n",
       "Qkf7bPZvvpAcr2h19601P3xEjP2IvcyjbZ2t5w2AOPUdffLSbM1eptnDHAf/IiFOKuauUagyJW8Z\n",
       "d1RtMFblQdnkZNXAxBXBlxgrN+kTeW+rHN7VZeiUpTT/i/zvRSIHYpcjFJxceoOTOzuVtTwePVxC\n",
       "ZBfK5ujXIqIrTh8mTXyHvyOErspuTXTQj36SBgRPzNIVJmgY/CD5phG4hQQukA3ji0npBMJ1XHdM\n",
       "9iqjp78o9Cn4B68hnkLVPsRSfsXm5eBDIIa/ve9aKo+qRIK3j23DVFaCQen9ILyrhAqnKYbri4vE\n",
       "yZTZLMxrcm2BzNFPg4KDhqMIxO2ELpgqX1tEHZ5MMrJngNZuOj15VHeZmHqHc5oecWWRni3uLzLX\n",
       "0IDY+J3wBMlrSBDZA7saNLMLUQC33pAt91g/geiRkxyWw49Moq/azgW4yMV3VaL46wRVrkZHIhQF\n",
       "kOybcyGnK+JAVVwBRYCEuQqzwx1TRdbWGANBsx6xmjRM1UBSayObcg/2UxPbQrN40bxfI1FBz94Q\n",
       "+2f5wDIXrn2ck/xs8GEP5mIfW9is9jdtAGKakfn2QOepc20tzsCw6adRDt/ds/2Wsv0yDNqF12qW\n",
       "+TABgepTCWXcF4hDEFqkJzMJcNdCTDG1zvyfoIMwnyp7/dmjxauw/PJB6f4QhpDe55Lca4dM8odi\n",
       "nlphYq7KDMwe67NdB1+0uTfe4eCVSRAnBMxUNWIFNXNyn3lz6lYuxSFn00W+L1yDELR38VUv+7Hr\n",
       "+KOdNy17opzmT+ZrOe/BcJK9Jt4A3FdAWe3MFrsnIqMRQAyCkEPTxn6Cyr2+ua3Hrratw1rpmvFQ\n",
       "UAMWBIc94FEmL6FaMNX8ELNghtZTkWNIdaaPrD9FO4NbtoUWfOLe+uUGbsVoPK/00JMUJ/C0fci5\n",
       "BmJUSdmfbBS4bpF9bkz5rSrcqnkG7/fLjKtAKcWhRAUZfilEjditCC7REMceWoBuwSxhFVWrDKLv\n",
       "Am7IQTXy4JIngGvDssPwCIHMzznz+dHPhYaj9YHwGHE+mAnUi9fvI6HZQ/CAsAS+oqGf7Rnwu6Fl\n",
       "CohLSs+7DOaZd/0PRjWFzfrkUF7ocIXIpBTc/NB+pHi9geMv8SrpwOuAHdsmyAA9TWvEUv0LhXmT\n",
       "rwx274gf/RKNdNLjCc3rxOl+JmyYgFYubB3YBoc5lDhW6sD1JS9fut/9io7Gk0b3KrglEwbueApI\n",
       "IePeFF0lW/u+aI8BihXOSwnqTub68jHuc685oFe/muwqSNdFf16U/m1WWdAIHtdeyBXwYn3EiYY0\n",
       "zk3FubMGK7EC6KEbmyRdrTqNKKLPcPPQDmMBinX4WNh5L/AlusnnAIvMS635nL3pOsxfeSJFiqUv\n",
       "2+ZyLbe5Ds29tqDAyddI/fdd9AfcarM2SwjLdgBFdrCJWS8xT+jBRP0JYPssHnI9DRtHu3qG3npm\n",
       "cvlOLXmfESzrOAPVpauOTGFCEGpN13IHGE0cN9vG+/C7A91QBndF4cPjGUJbcm0SVDZknSM2hGFs\n",
       "uvsz5aPcgIvQSF3CB13DwAAAAkEBn3B0Qr8ArOQomVBYF8NTgCHVR+1JHM7WH+V3do7/50McvRoV\n",
       "Cwzs4SaMr/qGCIzCYI9yZ2lGI3D45EoUuFHRGz5yizx+fgh12mW7WvedkQ13Bjt2GOYM1a8rXIs0\n",
       "wbUP9vhxAYKev2QZWnGs++aYjELfDI3KmLBJVMcpgL/tb9QzRqzZDFf7424eZHEqN+z7TEtEMdqt\n",
       "Im0YW6mtISOYektcvx6msYBpiLQGP/8xw46F7x1+3s2A9vo22Uc5Gyjp9DqopLF6QyuCJWCTIiLL\n",
       "XbitlfyVyhZO+oQgYI4YpwEu5HuWPmwZUA002MTXTAkeoepLS2DDFUVdkJlkLq9iPNP0YWtv8D8E\n",
       "u5OjCfGzBUAqojSTWgD8LpiaZ30ZTJatwMZB3KUlMsbKiHDTaBFBgMdk3phykvA0+3W6exM55Sji\n",
       "OSP63wX7wM1EbwXp3OZuHmljvXvolsU7V9GyDUvpqhotj8Y0Xbvo0Dy4aOIol2nI5CwVDjwmc4ZL\n",
       "Zpj8nRay7oLiuX8hyVzSem+anRjpqb589G8+ePYtt0T9N3+Zt0Zdg3l9/GsZWAzRrOKo5qs//00f\n",
       "sTLPilo28cjnTJdHpFD076SY1TJPZXiVSw/7tpDc54BnNO5rB3INeS2OKr0nqpsXCP48a/XJ5ZZD\n",
       "VQYnGy163te2CZHUUAZqV8qVotSRhBp6YUjEFM/Y5eykE+RH2s7qdeFaZeflYT7QxFHLmH6R4XKT\n",
       "5cVv3GEPW+2WLcr3KieoDQlIhWmAO0+SFhUxAAADCgGfcmpCvwCxcoGYS2TABxad36jVS/6FJ0vC\n",
       "8XfzdTycAsouOdzgrGXHylg9/mfmywV7bDsntLa6jxy51qf7Z5On3UVPEwSldKG9WKTUSKTFfacf\n",
       "qsy5Ff4vPgzzDS+se9GId1V67fkLA2WJmSMRz1wHMAnk85hQuTlaxYWWrRtqugSda2xXAN8AET7V\n",
       "M4dPowb1ZmlzjIomE24Y0DapVr33wM7Fle3V6qPMbbfPTCpW9ly48hwFuC57zuj5Ip/GgyunbbBE\n",
       "a3ZiPWVmJJhd0uGpItuGyzFflluaywuvkimg4h+IdZT/uBwTQ9+SZT71u8nHyppg7PmXt1JHwqgv\n",
       "KYU6Gym0tRLDzizvLcHLvlhGnKb5vaSiU0L4ffK/3Nv7wpaTGvgkCfI3P9RUG9R0CSOU2l4KanGO\n",
       "a9GGQN082Bv2d5ka0WGkEv+4RjvzDqYW/anpzhwqo816CVhnnru6+tU3sV1s2ra856PnniFIYp1q\n",
       "kAt6pmmtF8N+EuFtAbXf0XKQiD3D/tOHSrDLAJcbn5pZuyQd7EpqBN8msCjyCUSjan12aMtiL/qW\n",
       "TKY7Q3W6bOALC3qRfsqSUi2fU1fB3kZQ13YTQ1Mgwsmg8qziiNwJZHl2dNIUzsMZlNwbwotS4QvD\n",
       "nn581ttf5VCjMhI9slJbZS69dTehZm/9qXB7m2jQxKk6VpdFP3rJFSqyXn53TSZ7v/4IN6QxY0L9\n",
       "3zVgwOroNAtwXv68qvNJIRLUT3KdonRE38iIpv/vyEHGMZDmId+zJknZEwNIfLhzPfpCXwh41+bx\n",
       "KxcTNOFfyf1OwHAHul300QKxduJgJ7TU1sCFAhZ+YEQ+DsaUl5OtV/vW0xnYOR1YTZ9Jtxf52QcZ\n",
       "062/zqX9iWyHYc/u0Z3hTcH2zBan0Nb2JMN4IJF4ST3dlWJ2GseldXeu28ZHwhXZeuc1geDIgcLG\n",
       "x/ThK2J0Jzexv6zBkno6LrAFPeZOhKY5XkvGfsIoi08i8FHZfAWCaHjP/4QPiWOltsiAP9DqPyU5\n",
       "Eqt8SpHC34bUlFgAAA1HQZt3SahBaJlMCHf//qmWAGyTWc92tCrwAsM7ir9jljdh/JNbYPeWIZbY\n",
       "iBQfmPwa/EF7rDm0CKLis4iLQp4ceZAQvFocXjjiDavoI5ezWyF0PMFWcl/GE8Np7Ji3mREy94CF\n",
       "zc+Ipr+qWgmzxThQ/7DzUOFOvizI5KEtvl17UQcLtpkKG/8Hm7GwyDSIx1eoIvIaNZV1DoE+Z9m8\n",
       "8+rwm1eoFFjvorPiIpjR4FzNt5fbn+d3D0fgP9yBpXQrkHYdjAbtIYvF4CFVFjGFVA5pbRmLUM7L\n",
       "tKi+fhbMax05sc1O0Hd6mSIOYqmq37OG17NvHb0Cp0rXxGk48j7BM7vRvY+/zvzZQB4Rig9hCZ5Q\n",
       "c9DyqLoVTFZP95KS5geMppaI3o9+4kl/3TtYPQJ4XdFNNeMy5jYwVCqvpZDNgb7sUNdS1uO95o2b\n",
       "lcxxhbq8iCEqrUbHVYioebbmtQPQU1jMH0gqwHS1xieNfSROS9vNkUrBbTVLJFaH8CGszrlLkv1w\n",
       "jotQT/2jravwogHvlM5SjQMcwjQhkqnV6F70iCamzcaPsapzS5XnT2qq/PU/ftzwwa3UK+oHRhla\n",
       "tjPR3/nAxtZ/0SNmQIacl7OqODEkOhAteKUcpzJVejWI/wqIneZ5dHUSpUUEaHTGolCDVKjYdbbA\n",
       "hAzbW1M7yp8YheXjypqu7XUDKlSbqVzs1EoBcFI8pI6StLby/q58FxmlI2fjwEoJF7bNSk6p1AZE\n",
       "Vv76S+yYcTKzhkb0Frk2zZVCS7bXX0X0WVEWkJ95HzyI+nwl/o8mkN4wP1PNTjpyyc3DrLh2cxgR\n",
       "1xTAJj5RBcfDu8rPrtRm+uFmCojk2oNLDXQLTdi4pFU60YNdOo4kvwh5CUVk8/6KTIeDGazzC//b\n",
       "+gGtQ+6ahtNo4B3S+xwukkyIwEpVIMTH8FXXBAtWbh41coSiQ9UBOscBH7i2kySsen3HTIwyGnUo\n",
       "1m/oDpddYnC/ghQbxoOGjLJDtzW0zHGk+4HmG6EcnDXXsP4xsgGuUZNZlGnCwZedCumfzrTaX9px\n",
       "3GnOYrh5Cb+b/4Sv2OTrv+4SibmSCPw1DMNp1OUD31sqm+xg3ixVr2xyx2EG4oUYmpdGSpvGYzqq\n",
       "ZCGKL/VliIzD5DE1qIc3Ipl1cd6J21GSIQepVkX7QKF+qhqV3fwp0w1RS0C+jF4eM/sBhumUHLT4\n",
       "T7u49yxBiDuCE82UGoSHVvnKzLlVpkH/jdCFgxVxQ7y/IgLkZl+4shVJafk2dLbPDOky/5XOl0L+\n",
       "F7y+T9w7qfjyK7FnrD14v8ZM0BqpDv3us6rEMlDNqSTCeUDzB1kXwQBgk3py6U/OrK0ZCK5TAB/w\n",
       "bBC6dIRdAGzhqMwYIq2mcPzqrIOOnzEKK/SwohW3kxSUVhUBnDhFVQUVl/egVj3kzJdWzX1Qyl6l\n",
       "MAKPidfU345GwWWlDiRmmkUnPe4GN9Wf3vMryxz3aTmSX8ACwT8J5d++/+7sW1hkwtrBZArFhbG5\n",
       "rxaaDm9/9SdRddUALyS8Eg+wpEJplZViMIchVhbvPpjw62oiAxyzlHGS7Jhgnn1b3dnZi8tJ793P\n",
       "ewlgXyF4x8ZgX1DCUvRtDvWGynTmp/t1KlOHbYvGdBt1lANnywOiNoakED9zcqQV7DtlzDiSE3jW\n",
       "XD4qJaq302b8qT6l2yWwY8tD0eDyVDhcWGa/FxWdQXWKdzqwZ4GmaghhLwKYSAKHSn+Dqt/EV1z2\n",
       "eecWp3gNTEAzdhqVe3BkLQ/2k2AyvVNjd2D0QWpGDTcv0tKcdnnGSJ/sZeb5MoWAhV/5oAFm3G70\n",
       "/0yqHKjxQ51HwxSpKB7sMw4ItykJpDBK96hOX5QMB8yddeqA3U5MAyvw7XQCPsCwpWVirHtkOXPI\n",
       "gDdVvtazeBZ/XBNkXmA3n2lyK+afZy6LvkN9Y7y/Y+QkG0RYnVeGNXK7Nqf56fQjfcQBA21/wpeg\n",
       "T6EgVVgYuxRePw+6/a0LZzErvrdPcxS3xFab0EvI0B5snkKQSP4z/1ZPC5ttm2j0gLBUn0rgVNpz\n",
       "5yr1O/3laMi6M+sBpMVkHGM+pFWdR27j9IqENLVvUzMGnsHlUXRZDZZohyy0cyobhuu281lE4bXQ\n",
       "i9TQZ1ZTBS9zggE35Wt4N+SoVLqhXUiY0/O0fHL5oj9Ll4s8J/h6okmrPKMh/cQiQy9avK/vD2is\n",
       "42yEYl+FhWvNxwqK1keMhvv6UXHvOOreNAvm0SLZr53W4GQPKhC16NiSvl/HPydbLHtE7L9hmoPt\n",
       "ww1Z1DHOmLqTGd2A5JZ7GgH/xk77vrDqhOU1RGJkFyRFfP23VUycGsL+hhmQEq7w7n9QsU8hvLAZ\n",
       "xSss1qdD7vfeAU6hr4Zfdvamxv4bD24V1xD4luTcTKPQUh7V41KSJd3cJhOdYD3VKHMQC7/SOxw5\n",
       "VWUpQrgwkzD/hPeHTxs8Aj7q57qQfoDXcGI9t2s+V5Zw2blZxoKv/vpmMyNCQz84DMEUdYmNK6Kh\n",
       "dNYDCkkwDF8vvtrSwsGi12GS/0tIWsM/89a5JE8egDkqe4BTsajRFe8s33lCnP96w8STof23FsFD\n",
       "rQ69bcYP2P7XTNZW4SOqwxdgh1csl4Q3+13OfBiZGZKKys939A8RmESUUpRnaJYaH3vY18oVzaMA\n",
       "y842GMVw/EtX8xoArwhEYuPJUDenA48pIq8OadnQNq/TEZvwwPWcy571wnYTAd8P+kInmE5gGL85\n",
       "nIXQXDqu/5baESWcIdLdBoHjQMbvEv4f420sqwztVAgP2mGUcR7Er6+TX6vqiMfk6PoZet/LV5b7\n",
       "AD9eSmPWvgoXXlx9eComSVrJG7SzyUmRqFrw6C/cko5BM4XggMvzHoeIxHMkxGbVRWz4FGdWNhN9\n",
       "/naVcX/B3z6Xlo6RHwuZloCScKd42KvYoCRCujIvzhOtVVD2BtXz8nSpf/Keq5KtSC31O+LWXkm/\n",
       "i/CuUx8kXMHIzrNNLxtsRUbNcD7iCQDymyq4YqYVce1dwmWFNi1/fDzJl6Kr570nzs09KXwpNkxY\n",
       "E2PX2Od2Sw8JTkQ0ej/pK9T68+gMHJ/qShObdNDL7tvVHLpnHTW3Cywuk+w3WJV8pmfyB/kwcN0U\n",
       "Ny/gVWrgwMZO9qgTlBCz+YSL7yO/ACtNccn5Ibl7bZBfcUmkG906dFkm2nWSpU30zL8bJ7I2ojms\n",
       "uqSgkgf1Tj0x6NZja7h8z0DzMEn9N/0dn7jeFYfJvJedgaSHf0HQIqTo0hGtqdqszEPYG9uZgcS5\n",
       "81yOJLzmNIT3yDHYJ+w30WmbtJEtOQABjqNMs4mXwShFJaQGe5gZ1qzSm8Co8FASx5p2yl9MlDZg\n",
       "RyisdoJQKoWzODF/RJA80YVrzf/Iry0IAriqyUhI0OZctI0o8OLJRiajbGyXQwIrge0XV64iz1LV\n",
       "vRfpzW9x7qzq9OZzi3zyR1kPVHl9bTlwWrQGw9+OaAnGdVKv6co4sqNJHP5O27xSzNx957wl75Cp\n",
       "adHsWpAyRrp5YkqBkqOK3A3Lq04Aikl3T3+f9SRQd9JWAb2pRJRZMW4nF2Rnq8KiP+DTYlzaa3NZ\n",
       "8w/yLhN0FHas41h215RyyZ9Ld1WGrWsVp2G2RvfIh2OWZTLNMV9Vfi7QBQSFQCbrEhsVgHEijvqg\n",
       "CKvGFKTfmBJtWWnj+kosDXJxXyyJSAguOnNZLEqIHvrjcOaqAzifFSD1pUJaY7fyWV/tgAAWwopH\n",
       "iDGtrLk/KFetW2SiGCmCqqJS8uOJ7kaDvH0jMCfEIDKUzxMemZdLtwMCQnYk7k6dEOAGan4oBMK0\n",
       "atOJ7snANuibuXaOlxQxlo1hnvgljGGcdgrcELnaijmYLhES7znzBPbfKHERCvsog6alN/Yr/L6y\n",
       "tGXCkym5OBk4vPYqPo/+dA3vfr6auoSXB/n43YCPTYCqVerkjySdFWT8JZN2rkXJF6l5EOMeSEdw\n",
       "iG0mbs7poQ0K2o3wgmcXaBPPWHKCBjj2yQrZsTJHxDrJxJXP6ifJogNWUHQZIFkEKlZ3k8njBZbj\n",
       "X5C7LioYPrjrxpxYS7U7vI0fyAaiFMZBBG7UJzdBdsIu/I9g2P5gsCc5Ta7RdrbioI/o+olKL9O6\n",
       "UdIymqTPi+pxSCcc39mb56pqL58FJaOC0crQKHWiwTmTGYb9cuVGNl+2f1PmmVne0aqISsUoHbAN\n",
       "AYdEHHcIAef/GpiVh+lRbt19uIEp6oSYbn1NupzWcEOukjGagrGs5DZsdKciB1h1faafYwvu8/Vk\n",
       "8bMYR4igtMzdQblPuKZE6DSLXYrMGWMJBT1JGTgvTuZaG3+CD3h1k8IIbd2P3O+QlILU4+sF0bBM\n",
       "CXNvaxjWxCGnemc9Jz9wDAdjTb6+1CVfs6gFxy6RvYW7gZZcCOAzPfZyZpEeExd6/jHbaXqBx9u3\n",
       "Ozj4Wa2KPurCiO8Wk22Ehx7EcaZwAJuCRIJPuZ7FrdlbCMfSVPqZl4cgQhufRmc/L8aSGyOangoB\n",
       "/3wphdkHjZSUjp6P8GzLsuzZdH+VAZxhyeThKom3TYOprS1E0OJKbUK17qBCXqRU1i03AAAFCkGf\n",
       "lUURLDP/AF+LuIObwAQXH1KBzcOEv2Z+/2tMYIaU9S+twIRfZhEhg2JG1v0SEKcLU1r4f839Iq50\n",
       "dFppJRASI/VRJcRiqFYtQOKSCShm1KcABThV7NxAGiDoUTCgX4sd0YHrMp94hZ+fPBPOWeb85RpC\n",
       "+5NzL6d9CDzMb00eHZxnBrUlWncs7oSlHOQh3cEFAssuu1AWXE8vnS3lkAF69649+NceuHyK9Eqz\n",
       "OWazfVd3UfGMhh9NyhUsA4nuuM9+tJcds4mAmKC6JfwkVkiB4RZKx0inrtoGl80B0dT8j8BXMrzS\n",
       "j/5rSkNmwOZ6uNpw/Fd+vCmRlAEIFF5FtgOFVm38Fb+h7xvhghbybvDBBtm/FfRgxSKsURLaRdxU\n",
       "MjvLvCKqbXGxyqkt0JILwyx+dx1D3yyy73ZjI5YsFck2A9g2SA0mO5ytog5yDUPxWEepC1HveUMK\n",
       "SX4uJaJVA2fwIcTVMOcHZvlcuTkTI9Vey+SfV8pT+m5ruHDm/cZ54H3CdlVjJw026iYG5DBGms23\n",
       "spmDy38f7+vfDz47hqypZ/SBYFpmdFNEumPOAtim9qMUHR1TlA6Kr7m1S9sjC9fS/3Xv7cPP5+IW\n",
       "6PZTOCKXQkSYULI8zeaqCcYMvlNYoHxwqlENfktKkdZH3qL5vBDviX893671GF1eadgpi7iYqEZf\n",
       "aFvHG1uPgqLkw/GGoU/C/r4paKWAdfpn/KARgkPNK1MInbJCtx9y7WYt5FrvBNXRHnM5pNwbNMUZ\n",
       "EQjKnYtLROyQkd+YGbqhETTTBCy1wN3vQX53N5dIYjhBk/PvQLIVlFb+g4suLH2NL/Eb6KEhUzNr\n",
       "CJFS92aIp4zOcXZslnDRsZjoAsqtwFeE3t7cexapU3PR9cszgKGLLqM8p1uOco7IkzovGm7ClM1n\n",
       "IkQmgPubgZl3wfed1TFWfzxvP1T8toJSQ1eKeZUvnn4V7BMWDL1oQugOlrwydBEmDgt684S3s4iS\n",
       "iCVIELNPCjuwZUtifAZyE1gsz5ZHDHfhPYghI3ChO/5gQaH86SsjNGpYZSywAAEshTnz4HlOrGu0\n",
       "owIwmtcVwV86RQpAQ53yqgDxSi4AA2CP3fGSc6VsGJecBREHt5pZImVYvAH9v/nD3Wib/KYs/9x9\n",
       "fRq7DIqy0jVf6uGLjkJvdNagExHEw1ZSyjF3cZsANl5BcUrIeIT+MhbQqhBnJPyfAo6FSxAEaqGJ\n",
       "q63P//fxkRCezDvzmFpGBtbWpnflstn1vM8yZxCqMf3k1Jrdl+5XicAC+YPkiEn7MUJfrYL6c52v\n",
       "s00o+//BARlrsUBJsQumO8JyxE1qRfZgULHu0Nz3oyd+TAlLFVgvHygCZ+UpC9pFZDqAK2HL9ywi\n",
       "/1+GNfW5ofkhBW9UT8ztUtxpaxg3rVpFySjoXxDl6m9t6qOCOJQ6JOKKMvm0MdYhhKWEwxAi1YgC\n",
       "bVKkVdtnbzN67JF8bOUgrT36fP0vKRFxGtiiLTK7mjqGO6CkU8gqcs4SmdFr2S+L9KO6Gq8zp9Pn\n",
       "lZYQ82IIkAGeZ6SAyZ7iSjas/6BaaaCHCnCebU/2Bu2c+EwHymj4jeDHjpSwpdInvXsTcFOpMv3n\n",
       "R6mDzX8t+Y5puOSG0yT98S81hHl3wtTEWWjnFjwjT8LdGyYfKQZU3/kzxNf3qKtVdDjXN1zSMWMa\n",
       "+U0fdpbTf7eKR2sLVvt7ODF42k7+6RkEOvdQ9+TfuL5YrQAAAzYBn7R0Qr8AsV1f+Me2K7taDxWB\n",
       "qAGzrC3L6W7FeioASEVMBafitRAAzXGXNPhBkJzbTgfHGzkiNRbOjc5VfCE/DE8TLYTTLuhDBE0G\n",
       "g8bRyRisnWSlY5iRNPQbAgXQg3ZYGIO8iSceYHZX/ydkfS6O7gJBD1DzVm9amODS1umB6kF8Cx68\n",
       "j4h0ojNRkbWdahRiDCpHIiElH2NWJ+v9o1BTbhFY0fgpIBh09dGhZh/jdXKJB0bhbzoIfV3Qc5Th\n",
       "anTra+JWITU6pvIKILrM1F5viCL0qVRQKoa6C5i0LoBCsfcXXORCp6UMCGeJqQcz6ZcuqZqCfCtn\n",
       "yhbtV9vtTsOU5ytSa7aW3H4Sa/poi6qB7z5A0t6JJlHxy6BhG0ryDO1Y0djnftVNU+mNduqb2Mt1\n",
       "QRlngjhmuxmBGQ1zQoo25piya2PJyeQfoLu/qY/KNhPUPoGPib/VVrIRxy1dFVujfG5Zli0VzS7w\n",
       "L+KZevnVmMyD8EbCOLEk3P2u3TO3mXcZ1+ryW5/ptfV6VByKN4ORq2zHEopDFGUY2iu+L7kLW6Wg\n",
       "ARi2Ebd/9ZACVFWGq71PcEuYdzPzVv8eG2KbZM8+FrKaeIuXFZp5rHrEaN+THbIPx/tx0DRqxeMj\n",
       "uTFMK7C74wNa7eB4rJFvf3PBGZ64SswJh+Ear17nlawLVjBql0kJnW0j5TNSSmUh2p7AIjYQKxzC\n",
       "OmJOXNVbhqpiThhMhMCOGa5Fdd7cae9vs9SU7jZFduDl9H01RG1Tr9fLR+2yuBDpyl3YMzAMdZD7\n",
       "lQdzNz1lY73iXRorJ2cL6sPIFTowjb9YuwB7sSa31jHJNV2APKDjgxSjdJAp+Ab8SV/BxyWN5gk5\n",
       "6C6U6XHZcOFjnYRMWgG/kZbMjq/WPzESDNVrM2Su91wOWpFkyd0jU2ImAvWgy3jw+NRhfgeyjX8X\n",
       "kXJOYye82rH090sMfi7ck6BRFP5/tJQaJaf+s+woODEFfheMdQQM1IHe2xfOsdX+bTx0pmSzaobN\n",
       "dKoAz5a8xdHXXkYLaEffgIKuS85YKEBHUadzgjxhG6stDcAplERbqrC6hQtP5Sj54k1mwnJoHEOk\n",
       "6OjjcIAAAALGAZ+2akK/ALFYT2H0JIIhNDmuB7H4NP7OZUnyJBUxPAAhqKyN8aBJfvVHOtloeei+\n",
       "gRIhNjhHvW9Xn1rpV/TywER3tVRzTyaA0B6WdOtswFvNXUkn3y+sIpdBcg6BVXAll+bSdQDyCCWn\n",
       "EKWytbshrHVomnd7bUgyusOS+p4LLaxrD1dTZjqsVzYxW7bUy/aIyoLg+2dsvytLMGEzgSEzGzSK\n",
       "O1qN3i0tej3WELS90GRkTq61LqkM1gHiIUdcP7BmMB3W/JMehe7NvuENlbr49oxVlURoaVCEtAcA\n",
       "YEzyoV4oBIm8pkgj83cH2qYlOEQRmmDDTQZTkFZ1HvNUpbvlDde57rewBiYGaACzdXl0ENA3IWUd\n",
       "0rk05vZU2ZLyt+vT3f53RjNVD7PJxqlIkUGTlSFqzE4jPd+HhKYEPTWA97iKmYNaPFwQ6q1CoMGl\n",
       "NRz4yzudJC1BAtKnvwn42wrWfQxAbX16IDmr+pqXfKoeEhqMC4lgU2jfoqmkekTE48LIdWkU5/0U\n",
       "MUZzYbk4Vfc1dTWYNcWf4S9ikYNfXqO7UT5P16Jqri/boouQaMRNjChUp8tldi5NiMJHX0yvmmo8\n",
       "jyWyW1HcKKu3XikrhVBFuKEIJNAoCWVbXoIdF6VODyT8vlYgWvuU14+EIkFpmhtjDKIELAb9cZIV\n",
       "VDW3m5KK5mvjuNwnccqf2k6EFrYNWVJ0sGyRgTaMviJai5ohOBpYuCwnBg2WuYT98IQhBSrN/3L7\n",
       "xaf0t/aO5a6ZFyW4vDCa631pseY2AZ8k4rtmMVEDNJUSOF/wIzzFJGfnIbtyjufV2lDucN6Jm9w6\n",
       "wU2c9y/R635CYWERcrhFJn1zfu4vL2gUpujUF2a/DRWsXQgV9Y3skRJLeXXLvSup5tUEx6uARbon\n",
       "z+WYO94bfa+1K41MPnlQR8Ko8iK5mZkQbUObUaD//uZ5BLMAAAogQZu5SahBbJlMFEw///6plgBt\n",
       "OkAgZB2TsneOvMyOGr1FKcvNisloqAhdgp+G2ov36HCvQgKcxG7B1IawKPDFnYnEYlV/2baBxa++\n",
       "yOxgdlP+Hr35lOXnBz2Hj5EWv7MIRQ2It8fmLtXkUVwgbQctqUEUFzTwglt4Rr2OnYRqpUT2JkpX\n",
       "Hp4psoG8itQ2X6AINuYxk2GLvLV+YTzTsGmuE1uPOSrBXuUvQ/hwrbV0UAEgSyhbQorZ4gQxVv0W\n",
       "c7xrNU9/pDTNXeSXCQPCLKa5f7bby2eim2L3qcXWlHoETa3W0C3rpes+vse3YHNGnd/ub4t1/jxc\n",
       "usO1tXvwuXmatqJ+GlhSBoWYGCYbRTkIgxq6AMalYsDvMfZriEbaOVK6+YB3AvnzHasHViJtM02K\n",
       "l9Pey1/DMXROUHAdLHfERDJVxxqAi6Dt/LHvg93UYlBuIb698DuqnJN0dpX5FgMpqz6qWCQTHtQa\n",
       "IqS2a9IxeexClvIUh5Lx9J/n3S373ttt4SfFMugX7pI3PKzA81zFZF7GgK3CPH3Uy1gg5MaY8yD9\n",
       "bPkDv5cJYG+KhUwDTuzvCEF+45z23OOmPzDWaeja+7/Ja/W8KFTcEygwEUp+phUfI0/o0DSfTSMV\n",
       "toYPFzZ79ofJ8TsZBnqkaEGS+mdgwShl7cFbIrftbfDibWj+YPobyBEPpwWiNUlshFlCGHKkbPfZ\n",
       "JWuKRDDPnzw0x9PxWZRXQYrOkYTNnAwof7iEX1VVXnUg7StiCS7dbl2NSaAUF9fbyjTf4kJ/vr39\n",
       "76WtoiRnuhjyHrBVKNBUydre8F7wmHDEeS1drpyx0moDjGsYFxNl2vwQam+5A46UugZVoRJCtibu\n",
       "ueCWMFc0+iP/DX+szeAs+OYekOYKOGSGoQ4xcPkFBhacFKY+qAxxVhX3AFP5PHQX4Yr647HI+lPj\n",
       "C5PZldbbx8PC8yvHsg28q6tI8Iahy6DcR/t0BrHclkBjvC8/rAuL3Zuntlb6xE6l7QD7RkRandWN\n",
       "Q/Ns5j0QxKiN3FsJf3xbwmzCrcaO9HYHczc/Sy0AQzI5NWxIsdYa6YHXatV+7BU6pf6+9uQjo9Ya\n",
       "U3Id1dTFXdfPdrjTRAisZJoQvbp7u87KbfqWHUX2gg5pVxgKGAVJoVgbb9v2S2qPv38omych6gda\n",
       "Vf7tNkQCPu6Mh1lUKpmCGXa0DtKGBQtAc2mQwvcCdrw1wpuVhZ9PgCxk2TZL01Jr66IkYWmJpOVy\n",
       "YpHA2JUyf+Exdzz263rW3xSmGOfKv+pVPWF2xqLnlxA1zKEfhSd6UwlVy0RRdOXW/F6Xxlv/t1zt\n",
       "j3pl/auxvz7uM8B2N/T/4Sc5lGMJNFVrDRT6WRo8tsPLa72V9K516FmprHReoLekmM3w3ziLnZ7k\n",
       "Hmyxkm8YTZ5fBI2UDYl6xJEpS/4EmAb+tkX/hiy/WNwuV/p2SLvtE5DGvAn0Cni4BWsAVuXpRv8/\n",
       "NHRvfpm9PGbcXR7vINU3mT9xxd+YKuEDV5cY6sTyQlnU+/ODIyZM+ZIhZsHcWtYAcSZxreheEGGA\n",
       "L1Lzhw296jYo0VBONsthgJG+zpgZHH97DackqIbmdvWd1wMwqoTlPbuRvI5G7PLGMYK1TJfVHCY8\n",
       "rFMc6emZDBizB0ocS9JAxUobPfMIK8faD/ysOxuvngUyX5rTRUk3vz694x1JDuNX5+imMO2ZwO79\n",
       "QPuQKrAsDBM9LYlRDexZ7QpUyvTxBIX6bS2l61ItdPwkwh1DqoOLNMNbXxLMNpZUj6hTH0DGp1zC\n",
       "ot47hISXU9dVQcMnQsR8fDb/deyGBuOsGP57CFb4TK07cZfn51qtNeqJGjKVK23lmP/I56YTsgFb\n",
       "xbloyYXIu1FdkKgw5b0Nf07aEUjGw5vXN3OZSlnTCOC11735Qrgxgrkn7NdELXZwvV5OnHLHmgPK\n",
       "3A1itT6oXjVhG4jqwBEiBDCXh8rwhRUz9nUjz/qq9mI1l8rlzfqAybiGzxrR5Akw1LCOIh20/Q+G\n",
       "CE8QplQ3CCYMz/MYmgMb3ra/JTrUxzmFI4orNCQb3IVVhDOm5SG5Rvh5SbHkH/RuqXpPb93NgHJL\n",
       "gkXzdFQFLlCeusvyyYCfrZCVzBjWcy1ih3IgFOk6untMtGoeB7nSdrIZb1OHn5rz0FOh+CdDvs04\n",
       "XN8JJq9Na/ta4MGG4vKPjIP7mAMJR4tyZNqEbI1dxdZYabBr9i/QGp3WJfFWirMlp4mUP9FSpRlS\n",
       "YQ+2lLGLTcECJn1gJaiN/hdsFnik1j9C8aZOnIddj5Tdl25UgysrHUtXAM4pCMX01mOhU9nSdTzA\n",
       "1Qzdzo1pCK9ZS+AGLcf6xGLyyTgBn+SCea+AnQgIr/HlIU3B/LoBtY3VsVrqtuWDAIIwipMYG18l\n",
       "A4PBiiWzzh1iAzlQcQqqY6B+q9pyFfM53S7avdyC+Jaze1b1/bHDNF+W13SwQDmbRcZGQAFN+MHh\n",
       "TFu3Pc6X0eg/CiAogrPOUyMYimShdMiebLS615Qer6VDC0JM97ai0Z9czVY+Bnt8YzmqqbnsrLH3\n",
       "Wqq0++LtE1xSERNVzT2fegrZsrntXcDkknvSFLqXfYOCOyq4NMzErbpc6BstlcSVWX3yLoBj+LI5\n",
       "DrZr34+ewvxZqNsecXrbVTWv4OwyykzGRjelVub7HgIoehKPY8Zo78BLqkLKTEJzPA8iHw89JzzE\n",
       "J2azi4xRVe1m62kiaAqoBY2xKaqebcWsaD9KpJUmzDF4LRYYkjxIEXr6StV/v5H40DiV7ugJXUgX\n",
       "7u5BEFpsiizXeip1RROfpVETNgjnLNzUS07dsouK012YjnqSYzzk+rqpTXeElWkzT3MhS+KKW5HU\n",
       "KkSomKlnG35JGqGCL19Grkk5Myt0Bi5IdaeTaT/tnTjQovnhEjzz7+zQ1H2w9lhvjKzQJXk/xBlE\n",
       "TUFalLUzJXE1AvVq0P8y5XpZZkGVsrQJtNXB56NnTYIjlEW7nKygsKe8J+/xMy84wyfE6nyE+Mco\n",
       "IoxKj4iUYgpDgTTD993m+l80AEMf58xLB5N1U8SU4Fs1sYX9S0Xd/RnBSz0QfRhHrTwUOBsHRDqh\n",
       "qiUiLa6/xjatwd9Sg+rsIy8nlq8WP9w55fR8IKiRIK7Nj2TAKjrYxZFYfAj3vVe+oF+WfpSRCZpv\n",
       "Nom+TwjVdgtfg9kwk5f4UiLPOyZuiendj51UyFA+paxJB4xJ+Cbs3/vyzQdlo1LOWfmaX0J4gqIF\n",
       "QPGAT+UE3VOrLJJVBsmipcHD5kxxW6giHkE640T1FTgzCzPHheYcttwJ7iMXxwqzuzAu1aRd2sYL\n",
       "0OkNULcBpbr2cjBODb6I6i7iuGJlzUo77qcSsNllJPPv2GErriCQEhKOE1rlA/tnUg4xPyu0GVR+\n",
       "O73t9+fxBm+0QxKv0xe615hp7MHgyesTOL9VMyPjupon/nNIUXGPDh4McSV+CJaVHw9XRzy5IVug\n",
       "xaMLUyt9cUpZAAADNgGf2GpCvwCxNHo20ABAI3FOksCfaC8juRvgJ4m7mrFTyTfTdFl1nX7W8hH8\n",
       "R7XPMgHuYWLbK6H9Ctd02HGhnjrdqR/bQ8RyBswP9EZvEc2c7UrVcs47XnvQV6V8njX1PynVpL9X\n",
       "pQUeF0VtUxg61PB8TsAFLM7UXDAPIjr3RJQB2+Fok67joHpyieAQrwqSkeg4Ojyh5hTBVP6ITE8r\n",
       "O0usiHV38wmYfI5qanHnEbMxfQn5z7REFER9EV7PxCrkF9H7q4O+fWWMeY8ucr/vRwcoUWFnBXOi\n",
       "xCYrHN20ACS/zkzv+EzLyxYA/fNlf/3hg6HMgV7012eonBNOmpoyOZEdcnlBHb3m1Q+g603enmjh\n",
       "4VJmAn/P8OCFxjDet7w5108Y3l4GXzL/Ls2YtE/ztxtoL5NzQ2Xcn/x/drkR4X9aTi4Li2dACAMd\n",
       "zeDfCnFIpC1lwODBCCuGiA/OtTAfnuFkb+smLNzYlbZPX5mV52Hq1YQ+9X0ndAnAKnXShqfB/q62\n",
       "+37ZEB2z1Ndk8S8HX4MqgYUaQZKAIzatJg/GVi1yB6zDjfZTZZExLrJv1JQKYQX0/R4EWwxiigpy\n",
       "TGF1U562Fd56VEEUReGCsZtyWeEwzjrUWbzHC6ONc1mdhFs/5+eyxz48lboxrup296ihtiz0i417\n",
       "43UEKYUBc68rBZJ3vUYSAt99kt9D7DyocNUN+o2efNvjoZea9vEkhvDxEDaoVpLQ9tVO1FeU2qAD\n",
       "6jALkLVj/njMFYW9EKkOvJTQUvfUffrZd3BjwAL3R22TYcuVlY+Ai3WAeAhjva7Cvh7Xz7dxb+M0\n",
       "coJnK7sTWjLjJocoUL50h+MUgG7jeqpSX6K3tCWgHQjFA+3YgpHN6NZ0sW7A6/idTNXU130p1Y09\n",
       "AXBtPa3rW/tC6xWZ90GrOfgysUBHQS80n6CL2cgi7TPRRwetWTuLfD1bLqd6TOJjTbwF2KhCBZM8\n",
       "Si+nM9bmV+2io9SjMbHdg5cX8+4uWD7p+zEDB9IXHeN+Kr7MhQ/+NHZVT9zueN/CtezjlVIbmGWt\n",
       "U+8ut6W5VtQkwR/NXYrgpEG+seTKXHmzjHWl4d9JqrQb+r1LwAAADBZBm91J4QpSZTAh//6plgBq\n",
       "gZvUiAoASiMedSYpbRcI5Rf2c5yh57nA+g23+zEUQSvQpEhW8b0NyDRFHLV9Dxi5+GNt3QnwMtxc\n",
       "QuRsxSM+qS8LT0cK8/CNnyvCxTCLXV+QvrCfpKfbCqOhO8yWfRAQj4IgdsyS0+jk51w5l6mesvIL\n",
       "lxqnSptLw/BM53jpXcxhhtpw3wVG1KXfp7gb2mOYLRrtj/XSmpZM8GYGifNGzpDfoJkpqPUM8ZpQ\n",
       "ywpAXsinkY2i89C8OdlgV0N2XO87U05OeyjfOZL0ush0ynmI3tQx+X8eBfYsubH4ntFnn3ny5AOG\n",
       "NOilN+yzUhH09caTQsYsEogu9KsYUvkxr4POtAuYsOrYXwMd9IlGSAYcYdg8RilGKKh4P0r5cslS\n",
       "NpsF0USw6NH5Bx4c69tsT4nTTUVHVXQyMmnvHGzJzGSdN9zYqgVJ2hAc5r/VLcCFfAxQazdVvnzq\n",
       "T/4H266b+hpUUFTgB5DPEov210PTYIe/8dpbpjjFXO3Twx3fzXr1dnVCvCfP3ubh5xnExQDje1R4\n",
       "2FDS7oPdwOzgcVhyMlAt7k5wF0FTLSdrMW2A/eVFGW8oAgT1tzc3ENGLOb4BB8nXRs0hidM/mpaq\n",
       "QeP82DlR/oEJLweR6uyTbNEYCZUS/3GQuAR1BrNRaYGIMedWlI+ENgaZ1Y3p6DSH+Aegx2/wTZW9\n",
       "KDtWsMnsjz7TDqXdDZpWQBFyDtOq2yEArw444qkEoiGCXeSG6eXAcUggB6oUQsvFe9+7rDD2FKC0\n",
       "912U7zdL1ykhMiK2i/IiaVgxoz61I0hYYK/YMPWG/42h3PCba55pNLUhgsDf0PibX68SnDgqwRHv\n",
       "/TuNhUXzh80gakwHMSdpJH6r4TCgwJs3/t/aFKX8h2EApLQ3YdfAbWboGJ/KEcmPUBJoW/iW88Dh\n",
       "AkHFY7WEV8eM1ITBYiGiwZLVOHpoXvn2nFdVIMBT2raokGXJ6StRKM0lM+4WENywx6aWr8lUpKgN\n",
       "0WoNlfoK6JFrLsbikoJVVXw7OBaxziuPgEsMlP+FEV2XrRyTorV2aKFWbhkNa6xYiKxTkLOdEuZm\n",
       "lOfxv6luNACiwqC9lMm405jou3A8sbLKOw2F8ccCRE5JDZ1jDxe0XHYTQ7SxGDWI6DdJwTiJyRIf\n",
       "I5x0g/jB/uzJEEqzze08izbNyNhZScZrPEdBEzoMjhcUa4dyxDO1QTiStuzA/hz/tfnuJn47wO+c\n",
       "vLC/js89y3sUwN4f9Y+bI3HRXvr92725TKN4bwM1br6Z9TZmnqXhIFaA0qPjQwdYMwzcgwRy/sLq\n",
       "nRr0+enwNrFkHBck/Kd0+RGNC+aPJf2rec8gDQU1mvFXKmILIFMyezDqZLMmFY3wMBfrVpJyt6lh\n",
       "HB6ebE/UQyM0fsdj0AV6FZL3z+Y33VPqVHQFQqMkpUBRFBzAbu/2AaDbS8uYOahh1cLY60YoelEb\n",
       "9EG3kN1L9IqrsmhhCg2iOtXOQkoTNQ9zHDE6PLXRG/IBfUGUw8W+gYtooIeODwnzPja9iyPW4Vgw\n",
       "mi2lPQ1ISPB6NBOd32dAe5wgAR044SSr/f6/+v8Ax4M/4yo7ITukV/B5xCJtr+o4VgCJvjRTcIPc\n",
       "gLEagukJgr0SY4LuWaHKBJrmPoE+G4RblYS2Jr+gOC5a+IYmNt1uI879EZWh76B5MZH+VwjPdkWh\n",
       "PxYfUBp0quKBXiDqG5P6YRGLFbLZnoe09v1eVZ8IbDJGRnrOn+n5S6pmeNdLSZCE+a2bhTIYVfmk\n",
       "XcIt7uQCfwsUSG4M7QZpE/giccl3J8+BwacCyaVGtE6I3Kn6eMUicp7JP4JDRxf+a9TPJgwrHQt+\n",
       "Evv4W6dnEc8h8iPROIE0IboN2b3FxW9wgZqtQWIQV9A6AlfLifDsrHB0MWaBEhcsdRsCKWoxzWm/\n",
       "DP4xqyNvmPIN8sYyFe+6DifO2W+BBCfRYYLoXYRNKBbrA7Bh3lNrJTsos9jZh3/+0LygoxIJ351x\n",
       "26KDnRc1FIcaV3+AhZ4YkhSQlCJBipe5b397/Q191Jygl7eKC3hYFR1+t4WwEXW7CCnXr6r1lFhn\n",
       "vCtqRJJrHBCb/SAY2frvTiraf7kz1/Igu5GVmL3WINsmU8pImXhcnqwK6TQRJ+GhspG5S1Sjk8ST\n",
       "PjefB+cjLQA5rUhMpSqNpFmucOTNW2KSIE4/wp+BfYNSAqyPiy3pXs9DmoQwmWt90xgRKA0TFFzw\n",
       "A7I9Vh/p51vAZoeOfZh4dCqCdFrmZnoF7y74jAi/vQMTC0LGyr3SxvZRMqtGpVHcgnYqbB7La153\n",
       "RL7kj49pODnBWD26Z1YjuwYb7xnUq2m565cCYnwYBp+N2FNhAfQviqkxiH2VBIb6zUzv2Zn4Kh9m\n",
       "R5yxgFOl2Ix8CfE08gQ2ei8Tbl955Y+A9UtOcn0KCvzVvB7Q/1dDRhFMkwAdmCSfDqSf3RjLL0+n\n",
       "VqfwtlWGKGVKnAxvMxtgCtTJDTECDey1Z3PH1jPIMbWvlAcBlCzZx7xBDFcliEBX0pAafTml0UBD\n",
       "KIQUH/pl/Z1n/SZSayxnv0KAXGQbBU/tHbea+sUI/Gr8ocAX7JmKPeZYLAZpUiesenEiIl+EqyZV\n",
       "Hxq2+t+fHm2qscLl4HNW/9OR+uK5zy3qYczeAmzRDG6Y+SYEKcISDLwaBpQz18vjvd90iJjJMpxJ\n",
       "2XXcu1QvfutQhUdjGHpEz0nV8RxP1gBd9KVBRkdyCw2g+XcxBOz0vE9HNUQGCMgrnqvPdbSSQ4BG\n",
       "p41v2G38W/BaDBUvvBYp//YjtuowjS8vQ+Yu8hn/FoYNzY0ZgQ96mR3nDxUsSFDGK+2db58p3wCr\n",
       "ZxQlheHRBPCY+ujp53kgKwN4saS9Sgr1irn67lQ7aNLrKq2IpKkUeE9yFmhZZRlk4N/0L6dhPkoK\n",
       "k6Ejwm9tdp8J2UTUCwuLjlg/FcowUqdLE0B8ou8kcJOpTXp48MK4M5++N6TGCqPJXaQwctacTAqy\n",
       "ZyWqeQGESb4w6O3InqhH/dvk8bMg2ZNzfYU2FSMkYdoMP1/94QQvcjOk48IWBbK5B+t1O8wk4zLU\n",
       "Tzxe0U5PP7XO00v3sJyh/VxZjG67DtSZq/33o4uMr44LI2NjRx4/6ieDIT6p/aWLM2uBKciwcNrI\n",
       "o4YOxsVmJbRNJ+SGvs2MYgmlPuqO47xyjAQwz7w5qazvXSkTzEotITZHKTAFYG2EdivF4Z1eNJ90\n",
       "0Kak/dlYJxceJ87LcbKGL3jPNSCG4OzzTSzABAS9tCf/kPQM6bohh62AHy4LUfVRsn4B9aXbdpIa\n",
       "x+BUm8MRZGYznngNK2wTJrfpzI+9puuk14A82UVdyXEIzYNkAuGQee2+/7yHyvG9g8Q6f6MM7z+5\n",
       "YFPEKl7sRcMpi3Nt1LkaGrjr8gSjIzJDfagLB973VmLR2MRwrux416L5RxbfGpYhjU9LLT3eiPcb\n",
       "DMh64PCxGlPULT5pDl+APCHLkJava2K5grMS8t5o06HjuA1ah6Unz2SmxF8F9VH6ROjF8dgaOXQA\n",
       "LabUfeVA/6m7Llp0mNtO+C4ZLLuDcgjPE+LhLHNy6jH5dtcbo2CE9PpwBqKkZQZY+Q9rA6RLfxfZ\n",
       "GpGELWBtWVJhEwsQw5SJkQnN50KEyvrdMDQeacvgsJbstGhDeH9i6ipkBfhTvjRKpok5eIKWLa/9\n",
       "TcsxFpxlQ2mVq10a9YxYDS/HW1Wt+OfJg2kekNeipIrsDHztbRhmKP43bNRMum3XV5eUnalQ3Ip3\n",
       "i3/sHSTlpMNhKGLwOnCjwv7tqGoCZ43qFf+BaiPU536VTpAs+VisWSgOBFUZlito1KAQbns+JRq4\n",
       "kzL4YiNQiPKU2NMQwyBP51MUK4AOQTxHZ7Cys3ZZaY2s6dg+0hbGdr9VcBkecB/ti44l+TUezmiG\n",
       "QJxRJVn0tDE3K4OIDZyXvswqMb3wlxiCKFRzGvzC1KbLD8EPxXlbFNSOz+yacq9talBmJ1jFrrtd\n",
       "BVgZkaKtPhnzW/10o6FE9QzUdUQr32lHNhu4EicEcdrk9Juzn6DkFfmwzfJoPnhkjFF7/tK40Hn/\n",
       "cIMOe5GEZGmTLr5Xk6cz8uJIdARNd4TCIy7OGame++/XO0pkUQAK7ETOM0FXcUI2DJe61l0m8SqB\n",
       "AAAEpEGf+0U0TDP/AFv9auOq0/7qgBxdmLHiyzEeoEKjGrR7FMHKVrEqwZCKwJynYwpS46yhAw+m\n",
       "6He6s2M+s/9sAUL5BBlWNonfC7chPGBMc65qhKAAiKh0BmO5dfYpONFr3N9NRv5uP068UOK64AMG\n",
       "RJYC+l3KJS5/QXXCM59t0VbOvx54aRqRYmTiDC+ggGLN3DNeFqIgtw4M1pqePk2luU4n0Ylt0CTV\n",
       "O7q8uPMJ6jzzXBnG5iNofJQyfrB1Eu3LYhEW7TQOvMRrSN1ytdCkoHxsM/+VzV9jsjplXKns//By\n",
       "sUIGcCU32b8SP0DshcePo5i8WLnAcAsehbjzwG0NEx2qE1Buxocrj1XknM3cLg4kZHCsE2idoDqH\n",
       "4uPW7HORzKZzg0IZAmD5hH6/41agmloTrP6jHqMynpBmsHp8YUOnZ64+BW5686GeD8jgBWgPnpUq\n",
       "03VCabyqKbFO0Y6TzbuUnBvKkdIxz/p867SuZNBANToOJNiImYpV/5QMAk7UPTn5Th9kU94S4L+I\n",
       "1jnAVSjNrELTE7M9JZjp+d+0nx88Ha6nwX9xttR1w/pejMRnj3TLdBDPV29vA5jPU5qxhoOC/800\n",
       "XUBu5G8QwM/c8/9D7wd4qP4ce8lynrt7hxuMpkmuBQ+aVzzPawSMLTQFJ4xV1D1iCuOwELK8hzIe\n",
       "GUIAUIGoGyomSfgxxowZ16g43LWTbmJ0+da1iNJ/izb23d/Q7kT1oihcQQAA2uW1nxACZ6+btrLo\n",
       "yJ1D4AUMVZLkb9THWdPTS+z/UGHrVYAFKtlkeT1Ll/K0LI8lNjJ9mJMroTJjuzsS2CP+QqJ+GXtb\n",
       "6reicOJ6waWsWNz8HELnbJQjk/bPRPWph+mbhJ3QYcFflZ/8JQEZqmf1oRef89luBDupgwtVs87V\n",
       "q3U5GnlfI8hkCp3acQPtV+ZFV5Tuchy1uoX9CzlSPR1TJPkB08DObNOq47OcTUNxxD98tnMaKmDa\n",
       "65uPAuWnfiR5c1/LhisuUic6NqbQhW0Q4/uRc5mPNybv/uUM1t2UR2S71yaWgLeN6ZH4bPkn1/Lr\n",
       "e5z0M8Y9tQ7F5zWCqI1f1j3yVbsexw0HExavWREz1nlJwjswwKEirPki6nFVrJnY9qEG3dcLfxWR\n",
       "+k+L/cf9l1XBEiKQH3+EjbnTSskZlv7T/Ib2atFvbLEf5bGghuYUZBw8C1Rwr3Ascb43huexYM8m\n",
       "YThiAKFNjuKDPD9WTyolE5YpK/RCD0dRpXgywAaiQKoqzi/jQ6tuNyTNfwLipav9+NFSZHvsA5g5\n",
       "3dHHQb7s3hBmjKwAAEHVFYIPxXmQzk9frqL60AY0Z5xCK60OtzNTb+4oUB8T0qgczPOtcpwgDnkQ\n",
       "X0P8ii2rJ9xdfjbZUdKRAoArvoeovPrhPFVJJaZCDa14FvJ1/hOLO/uXDfT6HKk9ocnjEF1aBqL+\n",
       "XL8RkNt4YXuVDmbpp9SIkKsdd+QyphoeC/W4tRwUrwBFOTcRHUtWKlBKDbMDERYOZBDvFdAZ+e0M\n",
       "Rn1RN6hH1MsLgE2E0qqmCaxhqBsfXT6Yz0vJRojor3MjMqtYWbXyVdDEhObAv26/pz9ANAAAA8MB\n",
       "nhp0Qr8AqFezjkFL+foCAEVepLNpaHO98Cbx3vaHQJsXi4ggXT6QyHzhabm8SzU29pyROu3Jm+st\n",
       "PavX1Sw1YV/NsdD2fQoqV4Va0On+sQq4E1mWUzH/ZDf1Y1IbhX2qGZdajeaDXxheagPzNqKZDO5M\n",
       "+IYP//cLcLp2icylnhQ/Krd+Ml63k6C8ljW+YfTDFWbc56Em/JGR+oIswkHR6Sq8tlI/HNsde6iq\n",
       "97ZJoKdVSdkaBk/tv7ha1aI98igfMRa6zyBcBdAUBqtSGs5o33Odws1aoYr/3kwPhGOahmg89Kd/\n",
       "yR9b57lapPc+sJbkXqmO6bf8VoDjmiwoV+aQnBvpKj+fnLpv+hjqAmSXUiLWd4n7LE8L5Bf7n3bk\n",
       "7MaydZxXpqs0RsuublCEhwHQN78YPHjNgcF6UQKlkdhNYRUAfG+Pu+wTi+xJbCAZdpAH+QO5QujJ\n",
       "iTmNudUs1tmuToizixPq/P7XUuruy29/67FuApAxaMo5KwxcmnkiAgzGofc97EqlCfwTyascVzMs\n",
       "+IbKMGSLNgkHC1MOAhkkO1b+sTEAqkLe2NmN2+K9FeThPhlFaAvCvOT7PPYuErSBr0vRQ33iL3v8\n",
       "KRhku16jaEPUdnE4+wkawTdQlipq6YGJZZdbymBgPWxhF4sL3ZqmUxl5eS9UyVU8fSS+kMwPJoSg\n",
       "hVgmRaZaFsjEGYG5EwBawYBRhLZ9O+9DTA1GmlH5K4cZpmzriCvld1or+CVFPOQGe0MIXQOICx/5\n",
       "WKeXL+fxZ/K8ga4656ZZ+o+BX+35hRq2EtIfq3oZxFa5egUbPkP3esXM91oHAWT1IXlIOP/17Q4t\n",
       "IntP7Pa8a3OZA3o0hUehO2lDkDvuhliCI8cCgjI82WNGLuzsdky88tf6XofA0Vg+Zde9FbvnhAMu\n",
       "OBgFLM9q1SCrdHnrMAl7BZ3mXsRx4D+KmsuqMBmcFDCaACyd6Z6UgIJgDtOHS0demBlLDYqygC+1\n",
       "OTaW+cdCQsp+xrb4WRTU3KmuSzG++pu50wbexqY+Q6q+XBOVqQlOsfcLk9KYhVKdcT82JnVy+jBC\n",
       "uPkXIKu5OUk/CoSKfgcFmkpcy3dM4c8Y4J1ncVDvB5bth2ELCvDPloUvFTEZgJXtof9sJL5Rgmz/\n",
       "b2/r0U1R1YGzI0EGr6G4Kx94ODShQYNvX7/zU6XXcE1I7qrwg3F3pjcVeUf+7Cg05ZTm9eHW9b0z\n",
       "UBhUnvxgEEJSdpIfC+4xdLTGu0NQjC6aKpQc++2GYpsoEOX1al197JvQo2jkI/LZ13cAAANMAZ4c\n",
       "akK/AKg1nd4+wWvOSFbD0z5D+XGVwRtfUkqm7h6JAEHJaSvpZBRDlE/Ro+cHMx3RpN0jBqPIuqxt\n",
       "Z4EYaFMvvUwR8utqiwqP4nFhQtuCTVYnQoJ9eyBLj3bc8HcQtSniUughdyrCUnxUwPzgt+rqh62/\n",
       "0Q7N01XBaKT7I2HwymAtOUI1TIsVZjff+IBqybZ1S89jg1DkSJfKOCUl6WKM6IT1a1OCi3wyH4LC\n",
       "cuGsaZuoMunptMyeDgnotb7agH0eB4/uXUe5oSZIKEDGN8PZHYmut8GSXL8d0wmbsulbviPHNukS\n",
       "VGd9cEm42VZAejxdRT2pMN+BGwAOrzSxghZPbUR/2ZaP5tnj37D+1AR7cRI1cX9gkBiBK1SSxRZk\n",
       "vN3MXJvn1y26SqH33NA4Ie+1W1ucd97VH5bJyaFFQDkicrJIP4weJfyO0VzkE053JqMp9pd1U2P1\n",
       "D0DdeJqsixtK4QT7O0UPGqQq/OaOzDOOwDFa4qENpl+tsuN/pq2520T+HeXODhgKkyrS7nrYnCB6\n",
       "Dvfv2GgSuMgps5+wFD0Vqu5J9eMAL1Tnz1fPrQ5jsDpy4OGpYPz9tssOluoO10pvxwkp5O7jG1KH\n",
       "OAbijFRfDO31rlqSxPLooczPsftuzYjqmm6g1Bx2WT3erEAn+hVpefX8NOzQiKMYCdDHCHqQlVa3\n",
       "HQgZoqSd9VC6HboW9LTI2wSuah5SeoK5d1a8tKZVMaK5nDLMBBQl6UeTea98IefYHEZDnAR8f7ph\n",
       "6fe/x/v5+x6MDX2DgWplRjPeelRauQJzEFbpubT5vP2i1y+86tdyq4Cw6W/w7JwYKxvdiE55jXoB\n",
       "0uTEbsSJcDmvJoZ36hM76W4C4kGGkV2QBTyzz3XCIGzRSjX5rNDTdbWtHmC0iiundknSA97SH7ly\n",
       "KHj87MVvQWKAlmz1un5miXTQHQWoiR933K0NJUkR1Kv2fjg0n4cFcFe2ZFnGdLcJC7YJXNp/d8X0\n",
       "564tg+/c1YHSxOce1KZkFHiZyET+aaBCFt0P21P6+J8gW5vopYimyTd0on2+It/z9FW8AgJNVRJL\n",
       "fPfUtqTY5diHM3l9T4ulO4yLPfgQHXPdnGAZ1MiRbmNt08GR2V7tnFX/pQAADSJBmgFJqEFomUwI\n",
       "f//+qZYAbKeS6CheiDBBMYfCh+1XuzxvVe7WB8+SuV49+mf2JPU4kwEGozwHSSz5EEpXteooCnFa\n",
       "OOtVVzTo0EibaVYvffG4iubP9kngOIRSmnGdv9k9zSh4AZomjDyev4iXnrwHPRRCueWzH3J7pVPX\n",
       "dn0nWIAOwVo81T8P9OAje2mS3zUEMQ9uiI8qL0j+ped3m9e28Lkqdm0rfdFHtnLjbOE70FEl4YS5\n",
       "pq6+25e5NiUIwQ2OUWknYlHOwhQnuQbWsaoiC1VxxRG12L1hITMY+hZuPT/xO7spV49HX9+2+elW\n",
       "WiDjnXNM4fy14Ap1rxAQgGeLm7bvEPoPynyLIOAFyLxx6HE1ATLj8oqGXAtiFqZwBGLZo2VTBc41\n",
       "d7c7zFMb8nbkfpWyD1Nw14gLeuARYE/h7yfPv+5dfu6O32PRzWxotAC6aGE6ninOwWNiO/55aFLR\n",
       "OwtP4KU5RdiKn4haxXIPZTZw2UyCNGwkDgQtFM1hFZmKS8N1yRL114DVvm+qnIwJOa3ps8YthlbM\n",
       "cbaDfxlcrvG43siYMLxk7MptkUbOoEn6yiaFNd/sEsX/Tjgogff22/eBvvjRj0/gAQ+R+HZz+i+b\n",
       "suh+Se03HdIIQpdLXrZU66BHnOmSQR49iAq9q4dOAkN2D/g4VOP/MfXKFUTgVkbnJEs8zzbxRY6S\n",
       "A+YsQbag76x1NwmS9rZV5JABDvCG+sRemcQhBCjHDo1boLY/zIXvZeUeBuEH6FrunIR25uBzabRV\n",
       "UjjErE+Ko+ff0gbS6ez2gVoLYwZgGz7Y831t/zCBbXRBRet5TrRWx4tX1hV17E6oyE75P0zvtcbq\n",
       "+NI277rg6niAkdnqSWvFQMiG16LJN0td1M3hRvxocQMMUGWRnoANnlPEF16mBWQz5WJpblp3L/SG\n",
       "0Fn8JxiG4HPkV+LyYdiXOQ/9YZsgvHVJIwh7f25lO6VgIxFHg+vaE5/PJ93mCSRiEs4M/xde7YgT\n",
       "dKU7kks+xcF6UxrstemjxDOISagC8+tbJMPJaiNnunXcmM7aYACNcMo1vt3CJNR7reHhIq9WqDec\n",
       "3A+2pngUel33N/svGagMd5MOezk9oFUQ52TeVd9ZP+L8q4qEimvw52SYIp+by30Jl/Yezx3bwUdH\n",
       "rrxOxNmAhA2/TAFi4/vFI8gWlWbXQFCkqskJMF7YmFOFUZ7xWS0Mapknbb+GGdMtBkvpjnyahi4X\n",
       "PtaKIwgFqtAHkyaGkNJ4XEHDCqsYDKk/jdZ3DPFsHyHGBeI/Uxv1x6p9S/fvmgOku5zWq7wMmnZW\n",
       "lCqqszfIfRMdB6DBpSeTlCmZ+FpcGl1lFgZgDS8zbdpJJgdy7Uvx7hmx9y6y/fubXGmvF0c0f2RK\n",
       "KNk3YA5tPtoit3tvJSlSWDBCV97VFHBd1nQicOUMSQszXr09utHEj/mzSkhfE3vyXk/wJ4BHT81t\n",
       "tGS8LaBSRFblJN7wJZnQ+uQfnvSoGBxt5HMmH2xeBsOhDu1NP1lihk1VL8bbO6v8WtoNDmLo97yb\n",
       "1YI5zHP+4ZiUH83RuvV3nKKLBGT2+nNl3hqcidEbfsyesDy6aIOPZB9QkTMBIVGVyjf4VYO+3CrT\n",
       "Ndear7l/nawSwz0cAOzZwvyWSk5rD+HsPu/AeEwF6fzc68zP9nvT2e1ILgA9f/NkkXeJLHa/QXlg\n",
       "rFhz90xbIXKiqgN2/F/RKcA3+0fsPxQCXJ9CTo1YGigPDMb94iaYEafsvTjBJaE3gz7IvUXs3jgQ\n",
       "Q43Nzd+pFo+bDLagP9odyg1m47GpxKXPGe3R+BlmrpnMg8nfMvWnX2DPRqJw9IKUWZ05qvgmruyU\n",
       "c/XiApFd0L9uNsExAUGRQL6oT6m6OBJ/XAXp2DqfhbdPTFPtCb8eBzl3RqDAc6aQJWk5CSAieraH\n",
       "r4fllX5hP9knJ410NTb+5aWtKlp7ZjQT7muAVELAStg5bCQC3W6xpWDJewyT6R66J165UOq1WwkD\n",
       "u94WX1ZQEBjTge/hO9k1usKiuum1lyMZiDvleC4eBjzPe9q0mwPkam9Nw1wfqrXRlFYpy/FfmZq+\n",
       "6cpGPh1m1eINLQzxSVr32cz2Rlr0IUlhfl0DHSycxn5eNFkstbptWPjXhFGTmXEGrJTqi7iZZHQv\n",
       "8abydir9HuHP02WEzGnJ5JfM9uh96/PMCr/FxGu7+TOivS6F4/X+UI0MmElA6jv6IfJ5p7BwCIif\n",
       "MgcoCi8oqoYVYMmobq9s7ToQOYFT9Y2AtnCP/fTdNl4X2o7wFLYei+c4O8NreT1ah5B9X31GDr9c\n",
       "pD4n6LZDPg+X79IUs0I2DiiivK0Raoc0P3RiXwS0VkmryZHDaRRvXvUxLwygJgJVT5qzTq4CIxwF\n",
       "QivxtFuIhthavv56w6hYr+/ADEo1H8m2xTeVSe6QsmOm85+Ccyo9iX9s2Lrv5Kb6YkofigQGEugr\n",
       "w9az1D4nT1Q4zy2Os1zYdaz0oEg5VVcPgrrziFMxejwtVcxIgAxqDCAujqAuaqtFuV9IuAARA/qW\n",
       "QH+YVf3y9GY7YWqhSKWyqoPM2MOwnKjRjrQ1aR/4gMlKtY7+cfrv1S3HZFSzvAX4Cj4voxUqh1Bz\n",
       "d5SIz0uX5ohTiOBTa6IQm4rDVxfVmquNKyGpMisA82qVS+/XUPAUtguMpEfhJfDWlK78aZdD/z7R\n",
       "pgVIGOhxd4BQqke8HdxBSA0riISjdA8LA8UQ+NcYKpTZm6HMqYMhMssZl/zZPOWocxlxUzCCFrQO\n",
       "MVe4KbFYHph5sPpKnw8BidM1D4LEi54P46S3C/Y3pbQbSIN49yhuQSAmNkrkWRrwtVZ5AgoMgDpN\n",
       "9Y4O1Q4P4rxmcRgMIV8spYSvhHy0E5HSXvzJD++PJQjearkP5KJRMdcDZTHqVY2PgNsm7UZa98ZP\n",
       "AlLalV6T+Y7acbTIdKL4I3wsCPvF76R8wy912EGY2r2wjfAUCzU6C7J8l9j1d5GcPEVqPNPzTMbr\n",
       "wWnWvXCZ/MtLxLsCW1FSWGmJb2T3vUVoTp8EgAme6K6fIjMN//qGT5f/Bml7oN/1TJV7CKS2fU0n\n",
       "vx1cD34sJjtmCID6UnRJiC4nIIr3ZrOwG/rAKJpMhyi7TVkPYJw4+zCQYnp+JVqRWPwEyIkgHKrF\n",
       "jDkfyZ0vwgRel5IEqu/Npw2iMwKRmCLAfp3oA2w8Y01TdM+sNEDpHy8lwRwtScEGNkuOuQQrRQiD\n",
       "pGGWapd7bIqMeJrrBYqlXoR2Jtbd3u7oK4236GAuX4uGpPK40DRCSY+/LYDZ1X/cRFUG0iiF/owD\n",
       "tWHm8xJFt7dXIkTZHYBsKxHEhRDyHy4Br3nvCJwxi5SEODaPGF7KvYtfIeQLAa/D7kKG+DBmZnGC\n",
       "yj7z0BGb8Zn8CqiRhWjH7CZfDRCUh/CIPnONeB5iajCnLi3T2KiRyL1Oo+9q1ShxWgm69CfMtcgI\n",
       "BeMNwKzR5WCUvc0fIgLoEiQBGeZuQ729zmfziACMZMTwNpl0gza184moV44GyQLTcVDeCM/JfTYe\n",
       "JntZCm2NXG6d6v2nrein1P2LR9Di+fZHem4XDVN20y/eNnuJ9oyOpwlqu7/U7Wa4lhLXRPkiwnbw\n",
       "1JT14Lp5POdBzLHFH3a4GAqoUdPU73ZOD5ai+jtfBQ85LWibohWxEY4gTo70wwF83V5+Tb8aQehU\n",
       "y64X8rjLosKlcdxVeTx3rM5HQSNUnLuHyDjgUz7ar+BhURvJmpaa2TJ1hITj5vQGnGQ7/PDpxdTv\n",
       "zq5kJgyMYDGcN+iM7Dhr3hCWTclqBsZCptHdDTgM0F2/Sxuu+1TNZmnG1iyjdDMV9+U11G0+btYZ\n",
       "udhogQKRpvPlTm/2/cpdyshBhiGhAOfRgHHPm229XIKHN9F0OPFZlItI1Cdgls8dmy0XUrflR1k2\n",
       "U8LkDN0aWSIew3Y/VvWtwKfCrpM2kMFF/XSPL/4waZVwUvzESODvf0plrPwh3zGSIvGay7u4j4w/\n",
       "N3h1BA28zubV2yExMaxG73GNvbE+os/kxpWJReFk3gxdFoAEGL/zkD1GC5C9ijB/QsKvO3Fh2pET\n",
       "jH0QCchOpTjpaJFcm+bIufPUpNDCdoLTktPzHPdMKISHz7yySD2M+LftBlRq13El2NTwPCE5eyEs\n",
       "auNndd4/E8xTyqXPWgGmvQRLjRc3cY9MhfYcEDT8TxQWljrZvfww2+6KW7aL8X0ON+JhLfcqncZF\n",
       "y0zgo2DG6lMPPW1um8H8N88h7n9P+TLwuI2gWL0i5dZHgjO99bq0c2nHQAzmgI5b7XQMYj4lQbmM\n",
       "7kC3YkL0763poKjiaOzuLR7GaBU0WblBx3wXFBg8HCM4S5tTCpDM7BOsZTLPhoUbZuZ8OgAXVz76\n",
       "H2pejszgvv4WQQz0+QfsBLME/aJefoXMnn4gVo27UPikkWzYRaefv2EwOD1De8aOY0sAgPFatitt\n",
       "gCzxTi1NyUhETs3eyFBdV7Bq9EK2mve9FURZmX2SJGt0Mj50ZAVm/bE9oXoEgAAABPlBnj9FESwz\n",
       "/wBc/QzyiHAEPJOK6sXOVdv8HjKns2g1yOSwZ3NwSSkotyF8onct6DK9k2aPuMEEU5sfxlUvb/gz\n",
       "jXKeue4tZIAaP4Pd2phUSNjZtpgJ8cz+sJySr5+BZcEaIPMvK4S15TCdNEDP990By6FMCSd9URC+\n",
       "irax4xUWlEkFBtu2/zCX6M1IJH4kG6RZUMOWfCQr77mNnIcGHcQC6vxkOu+EAc8cZ9uFhHSmX6gM\n",
       "dPhPqfDLtwdh0pa5FYFfE40wbvBxdsDflawJgjCaYeXCERXV42cI8OeMaBv6NDOrNA/XSRJiRF/5\n",
       "Ai/s0Fjca7ULxPdSFKy+0lvrnGX/G/3cvwjtluy+u5v+m0AFrTdWmBUAI7j9SgVDVOQ5pwSVZbC6\n",
       "+NKKThLTe+VIOZ4Aerzhc/kSgvPLnkR/5480Hfm5dgxGPL+jFyiObmaQcaFB5RCiQ6Lhfon8cXR4\n",
       "tgti3jWOCmRbCqtjacuZm02WyJyxyk5G/BvE7M/XIZmrhmh2n2DbY+QBE1Zm9fO4j4Me/hlwgIiY\n",
       "OM4NEZxjI00aehadz2sf+1v+rPrPbtiaHQLfGP/H37JPJYH77Vd/vLZ+xo7HGF9huMftt30sfO9e\n",
       "vmWxeZFONYtI8+z7l0GgyRDLQPxHhGLWXp8yxdJ5yEANFEUTpA1pHhLq5n8Xd809JMHiBZSo6aUZ\n",
       "eaYuopX85KfZSbwHUigT/ICiIdOV6z+2Q8WGrFTbvbpEhUH5Nv44gtHOKInUSMoMaX1kHJA9Oz7d\n",
       "9150b/cefmeRZrgntdQAFmYk1QrzLMk/na3POSOcq4I4Wi4eSiMAakMNxT0U4XeNujbME8sMIz02\n",
       "n/+Dao5yFH1Lda1PetNVNwiB1Iu1tJOLEFgV8oDwCxFqt6hC2+iDMCeE2d8O1aR2eyLHblUfsgbF\n",
       "JNBEwr94bP9BgQ4bBvhS57MIBmj6gJscWsh9IqmVM2EUlrP/Arf+rlj/GAxUstSR+J/oyMOOGA7m\n",
       "Elpyn39eaHL7MFETBN5eLWXUHuR8CYZ2oI9lJn9XYGtXdP9hgvb/qXoM2teYsXlNgQRLETpgQ3KO\n",
       "XiNZYYlclkabaqGKKNp3rFDMqaTpJSI99y+i5ZfDkltSWtHsh+2vdyGzPzOIiQBmpI38sWkE/Aoy\n",
       "nLsDMETmOAPJ1YKFaAedARheRW5wKzbgGCNeH355vBCsPdAxw1nd+yPOcsrVHOv898b1IBFXvE/5\n",
       "ckVPtKw2QYuO/J4Txt4R9bQT62SD0+KkrnKwX75Zuw7WFenPcYB5C/e5a0b8PqB2Tx4O3XEnxCyW\n",
       "vNv/vSmB+9psQC2XJ4Rpw+Tfh9g4nv3LNSS/wfNd3a6gL7KQsjX7AUY/H+FZ7CtLoZq3IABiZCH1\n",
       "0SD6JJClz0dFvOYDo3GWhSBUDtvJN65B9EjtiJZksv3SR2HiCSKi1/7E8aocypR+oJAM1JRGc0mg\n",
       "Cz5Zq+aTbqtEfVFdjC2YCu/5t+3clQlN6+nP8X6l8vg2j4mE/aPc4i5sigkPDtmFQZ+kNaJJH4ma\n",
       "E/uaGjoNy0lZHGN2s4n+3l5iTsPvd/79k01GFB9AjYqE6bnFgci9fv71/RovU+btZLZD7jxhSEff\n",
       "WHrxHyRoBmWoCkWvaQv9BJ/tNZ2wMxl1Jzx34Tjo5lVvwkt+RuYrUoz088IrCh4ODzlIRo7qI6UH\n",
       "aRykcvEcXQuJrcaAAAACzwGeXnRCvwCoIDJ3q8P1Js/21ACMitl8vCXxLTsFpBdoAsPTX2nUfd92\n",
       "2uO9qBSGQS6NFzJabP6ieOkwOyI+i3L5FrJd2u/r4lJGgrnSAtOi6pYYf3bmI5onp61RRsmuj3HB\n",
       "Aw2WXX9yyW+mg/9gzLFSxPcrGGVEudSsv2P01+Mag4qkHmKymXGDact/ENYso/LhJYlv+rMU6KkT\n",
       "i/91xfbmoBkgAykRSh0mvUo2OSbJRzHnk7xH1/loiwP24E00N4XgblTBYL8BgFGh8LBp9vtq8zjx\n",
       "6n7E8IRg7p3TJifEqp62v/Jx48Z7LQX8cXhqvNHN8IzJaLagKyio14kiGUEiglp82vh2NJiB+/kw\n",
       "gu8jcTjQATkYaC5uQYU/nhR5/Fa/SBAIy5SaGdhNRo4RhXbCnN9uYUuHAI914SG82+LfnCXJE1Pw\n",
       "3882ctGoXO90uIqaVxWLzcZ0J62YE/8lZssYrPgyPMJAH5z2xVdzvLt7NydwrCHajB7OBMrhZCWX\n",
       "tgZrdHIFgdbraN9kexk6KgXLPuOU+oAz/BW3iHsMej3pCvZsg6FAM1EgEh1X10CRkzCQyx3aRlmV\n",
       "0Mkf/dbMxvgV4lYra/iLJhDJ1GI+BwiFgBM4Pup6b8TP6PvAwOOOiWdglgb9xIGXoo2qVUY/6nNA\n",
       "41/zJUVmImfWEavsQfIvLZ9xYaWfmdO/wI/l4otpOLNYqXWB/yoiLX5Tbjr7EbVjWOAghQ5lm+GH\n",
       "PgnLOfpUyW9O08FToIgSw8/fiVt5J9TbXLOEjnYMuhaLY8eZngq73gScFTNwuIajL3moqWOrm/Im\n",
       "qH5VebC61AbEkS7V1dO69EphFimz3DCDbnRpDogGhd2Ovx84nFpckoHAjfZzBM/A2rKKHrJah/iC\n",
       "dVjGH1wCLVrWkZ1WbdS7BQrS6k1bxtbPuN5pqE33tdcYcqmjO3CnzR+nDzQCFzZkwkM5AAADIwGe\n",
       "QGpCvwCn05EZZWgAAH/PNeRfJ1MZVkCvIH8s+T5b7dIzbyNMsfCYRCeWOcYeU9jVDfNWlFaAm20r\n",
       "HPq7DZLFs6/evAt0ebcCwcYXUVZuNWYZitp/wtYnXKmFQ302D8WCDp+WHeZlqAAO6t+qlU36/dJs\n",
       "2yt9je8TMrmNQouBiXStW4TCKLKxgzEsO/6gHf9LWQiibiPiNUv8cDPx+WA0r/vB5NWefLhiQVHj\n",
       "h+2AlyEuT/stI+34+g/PGAW7zgVzZjVpBEnvSWWC+8Wqp/W+npUaY/yjInq1ne9Bqx6h+AyWZrWk\n",
       "gV4e1/LyRLWJ8x9ycAtLNUMK669GBcV4bQga5+mbRiCmMWQNKdBQR8+FX8vF0YthbdV6A6pYGqbr\n",
       "WRLEWI2iU6XTJAaF6yE0wfqQH6uvuWPSg7LuVlSOw8/rlmJa4vl5XitKV0HnzO1FD/16DsP2StPw\n",
       "GHuljHDIl4HqRRwypI/iMbythvsG+LY+jWNLPnXez6IIwJV2RSRlh148WFOfnmFUMP4Dwa0kwmzK\n",
       "glIxfCUQ7UfV81UfUTxZ1s3tHyhA9ur2tQVn/7qje7CDkQhESso7HuUmSItptscwaAwdsf90+xxX\n",
       "d43ReqgknkqAybVucF7zL23F1p2E0LuEKxeRLne3wy11pGGfA2g7AnvY7NFywIqOsGvmOZdUMZ4p\n",
       "u4iPRCD6al4BHM090eEPGQeZWw3xaPGCAilz+vC9egeXjAk1KqU4LiGfQJ39c8XiP5cNwzaAVsnK\n",
       "FAvNfriR3u602MUn13yBgXhS9fjhEqLD0FavID5Kp9xsl6DZFXVaDE0Ymzvw6HLXwmhEr8R/7w1s\n",
       "HyUVsgDhMndQD0TwsgjZuqXUY6jCVtqQ4QApEPeeSCuVr+Li6XWXSL8APLYlwJ0FxQnnUUBEjl/b\n",
       "5gLkra3mcl8gAt6aMYcrYcv4AyMazsTGdLPcCtrIxR3Yj5bwMZbfm+fHDZBQBFSt5keo5cjBYbiy\n",
       "i9Mkt0qUqwmiguiGh6E2KDy8KhQzx+P4r8a4iuP7sDXcnpU9+3TfauCS7hYNgLj3JbjgVidER38r\n",
       "QaxgAAALykGaRUmoQWyZTAh///6plgBso+JWikveAGpyd6cINouhIZhkh8wba8ve62Qquesaddnl\n",
       "Tp5xCDvS7j8er8QKENlgL2XQ9tY3MTmEl9/71KJzGpD0NfvjRpk/3Vm++TeWBkdXnzujOMBciw9l\n",
       "xUdJtPtx5BAvUOWOLL4L7581VzoHBxyrKPSxlwUSZAGwDBLoalpK87GQc4QlNhCHqUMlzPOAAcMX\n",
       "vovfIKAtm91KfEzlJE5IDjV+HPFW5IuiscWozrGQyhx/wRkfvjdL6Ul7dvzoHa3gGYDmotjAT6Hm\n",
       "wSd4YyPxUbd8q57U8WPtE3HxwsibKSC86cXX6DGGL7hkRRtcDu0g5UQFtBtsoM5MORqsMpaEF+pd\n",
       "isSWRVS/JWl5O7Bmq8N6eQKgKbqFkLEb6H9Yd4S4Qfmu1EY0Rq1Mi9VRKtdd44EV/B71X4rrCiVv\n",
       "VNfigPVFNvuIc/wMaNp6YL7UvJ+sf3mELKC8GK2DZ1846c58NjUPZta48I6RN+Da+NDccFddlgDC\n",
       "3GLiWpvHhWnumVhLgJ1pjqRsppNV/uy8MEf2821UfrbBY3pvdtbsTDGh9GLqvlIo3ypUMlO8DRKp\n",
       "nwX+TY079XxqkDPyryTQSmWMN/Z1xPMDnvyt0hq7xcLsR30/h0zCJj1vr+K8uIH1Fk7PhQ6H5zrZ\n",
       "itJnfFUQTx240viEW873RaISP8+asCyPS9GNAVhYiyWarATn555mfDNs5JoodR75VHE4nWNd7+dA\n",
       "Klt+Cy5sjuXrwmgcltwxxDc8USYI0qZZEIUQG3vvltMY38pmTXBviQ7J1CIYxgqmojU5X77pTgrV\n",
       "Ce3Pq2bGnd8fvhyIgWzvpn3IVgzTVLy0lsYx7BYne4sXCLuHX+ZRKxN+vqtkONQlHRTJ8L1mI0SL\n",
       "1lcuqvby69b8fSoRpxJyW+gaQRd8mGGw3c8ocQ+VPH7hQLGaHG2W8XpHzYiEmKV26SuBjlwB7gW9\n",
       "T/wyCxiRcYSf51nusjaLBDvsBu5S3Z1uwXA8XOy4rgTxWufDAC8WYTW71HdvUHd56FsbCM86J9y9\n",
       "du7F78ZbvvbwgsIDFUh4ELET0aP8/3no4wHUazKde/xsfumaLFi71eC89SM6AflguFRY/AhwOpI3\n",
       "3i/KGOn3j2bHQMc66v0sWOS8lMYh/TUHzW/p5hnvkar8XDlePF3NYuYYqj2QKL9uwNA7n0VKhjr5\n",
       "g2acqua651Rt5oAujhBFpQQafyCZ+1koPy8mahcZCiTCitmycn5aaagabOuB8MgQxwuz2Vzi6wgY\n",
       "aKDGEAy9tUaqW8OTfhl89Q3BUmb7rxjQOLAxDcTEfdOqitiyrSUTfDZdQCFL8Bh1O5n41kblfjH6\n",
       "FYYoqn3XLBQazsujnQY/ixuStoEWstTcNF6R5jBwlrgfD3ddL3krnP5KZQDgIHl+ONavmlEDnVRd\n",
       "BOTnO7rdtPsq6AEaJUXoqiWaAm5ZJ1OAukJoVhxieZMDdPls9hHoVpm9sFo04Bcvs+ib3wXTO6ND\n",
       "dnripzispflm1vSwgXjF8vhIYda17uPlOAvWuZhzVAssCmQ3XG+bhcBC0YXSb23A1kOsEZ4uCm7P\n",
       "nQjn8XtnFK1BxWyccROspd50lsbRgQIyCze4J2mETIViTW+V5RS9VlAhEwCoS+xye0GRWMXdHqe6\n",
       "W864A/PY4NHcUktnsG28RkrKuP1bNvx04pVMS/K6dZdXoaM4feaXpBM0Yeq4lGA89Gvepst68Awu\n",
       "MN43FjT9i6lMl+EHsiRn150Qo9MoHKom/MlAODSZlgg95Y1AN4z9y537T434bK6uiFOxpuoAUGhu\n",
       "/HjTd632kuRer+Qghhvrc1ra/LmSrJ8xY92H22WveBAOfeS7nbLZyVv4CpiFQCSVAHj/Ehrv8AE9\n",
       "75L+tjQhtgKK4udzNfBg6ui6BhKx/nJLB57Hh/S6lh9Dwwrcp0OPc2t5fxdd+sUx+9of8fAuw+df\n",
       "Vn4mno8RkUu3HFqjWXr0MQHVSjDGe7TDaqXtQbDWTBRSnsTIT7eIxqSh2xzOlTiZuZfZRbekvz+Y\n",
       "Kv99QQYd8eWhk0a/uQMlyFi8raN8NO0hIYKIrksZ5ndfKPB19SpOHsLNhZnANk6P9ehFvTTnccab\n",
       "rYfeAIwTP347zKiuVjEDD2BljCWDidZlEWBNjrlmLrNr+PqWk2UiZu3YWTDz8IaTyWLaIK/7TpHB\n",
       "TDo1bFM4fImFGv9roN8n1mAB6vs+PR9t4xgCltjwl1Fl0r+assLt/V5YuAgKpjDnRRj4JMK/cmBk\n",
       "x9PwWVnFfYuWm00vQLsZEq4g5lSWIEMIDW1mzATozEfogmY/XbjRS40X8m4HlQNEervK14qZ7Qzw\n",
       "FDdCfzn76hy5ZO1GK+5it5ZY2hPtQKO6bkjWXWmzfjGjF3qh9Nw3Qr5ZOwc0csjn82mY4XaIYNTi\n",
       "GRbUOyDBfe4ldmxMTJEwaYobtTh4VlicLomrvBymNHke6StmDH6LtkVgofm9+puvYY2+ibqdY7i9\n",
       "F6zJWqyUgSoerpGHE19sP2pkQTmedyIaMU288a5sxQIgcp8vMVDZvup8N1XKldSPtI0/4oqwSzzK\n",
       "tBnRmOxNiDCmvwOpGZobc5kYaggjbjDSlZj5uz4pVNUkfwUUEIc7kGfoBuENqpsfv1FLzFVCx7ry\n",
       "2AcVT/vCCNOL8k4WNVuW8sQcTLyY8gHbHitnGdUuQB4gW240KATEpeFYk39PstC5bUQl6O2NjbfK\n",
       "dto7HtIybFAvR4KTUxYluOMXnb4YT4I/78Lo/mzoNEP+UVaUdgf7I484y+lxzbhgk6m91U1+JtnH\n",
       "NaevY1ETsCy9SnR3j3niGwWWBzaQoVYcMXj2hMeHOhZJ4rot0/jnUfbvsMFXaobv59/eIKBwUGHu\n",
       "oP5wzBgPXY9o4V+3q5U7KDydhpCBSPP+63pkPPQM6lea6pHw0usTtP+Ako2oaU1rJJbjw8o/itO3\n",
       "aRJ4P8J+SiGPKkJ+A7AnQ42OUVeoD64HJiV+TSvRQoS6vezC2voh7ypI5Dl8xPoB8jpdVY/50bBk\n",
       "/vB6hma+LJ6sV2wEr2NEvjsH3fH+C+05IoBEZ2dx/n5fvyiOFaKQXRTixwBCfJAxBtM7CX9+ukD+\n",
       "BiPQhWAUOCtwPyn7dvdqvRBeiWVtcH8hRiRCg8+QdiEnv43VlgSeKFHM3Ru3kd5mKr8WoFP6CG2k\n",
       "S0tkX9CtkNUdRu/secwoUTi1OO7Q5WP2buY44l40cuIFBTl8dvgFq8JEAwbiTJDBM5LMYpKOb7l0\n",
       "fstItg/fO+Hj55O59w9KS+/DFpSTIt5W7DovbodZwoidpuUCVKKJOOB5qiGvMnjb5x7rmfejDQvo\n",
       "fTdnRN778SzAWMTG5iNRsd5mbSsbq+NRCGMNQvtwyIvx8E5wT5O02idxJZLKz0k+bUkmVIRToBz4\n",
       "bjO9t0F3fANR0Pn7sQi0QUyIrUubEd+RcyBJwrnjN9BZMnJz9hmm28a4c/v5Fc0+bkY3XXy3T3b/\n",
       "fS8fyCBmTRmVeh9gwYNDlxsYh7hhoA1+HphyIBzWD9sNpYF3pSL366qktdPyADfhYCuyX6zr3xlO\n",
       "pPw8hJPes0zNB4ZwigFchWFf4sr56cYEe6JQXCwnpp0O+K1fnqqfoSxaqD6cjdJ61GWeBMRS5Bvw\n",
       "urEmorQ4/6u6PBC105E0X/5YDxeN6XDAJf5g5Sr1W7lqIWWbmwFF3Wu3ywgGTcMPn7iA0enQHMRq\n",
       "IOPoezpTlRgQmucDJpMV7ktBfnWH/VMHkAKaXZiIsZfPUneAJcb+DfTutXXY+EGpsraK2JscST3Q\n",
       "eUrGou+cF7zvocvzTfbTV+YePHPqQTb2wlzwv7mGTFq+zxrnQo3jUBYQHzBdDA73SX00DnOpxmlR\n",
       "Y3jrKgvVpuV1x0OcrXAKlDOUDnbv0/jfFkxQL4m5klzpjnqkNT7NA2F0aFModzUJJ3kr6TRzD8Wx\n",
       "SKpw2t6vRWvinhHE40CHKPjdTHLUcY2PDLAnXu+NBMcuvWogkWqVSe8H4uF9vwsk/2cS51eA6LMh\n",
       "0pY0WQAABOlBnmNFFSwz/wBfi55M3E1AixSAI8syLS60kx4a+mggON3dfotTXGJeB0OlAAwNF+24\n",
       "3gjH+18gtPoILK4JAaJjsSdO6sWoOrXz3Qai1kTlJ6d82MlH/iBVRNhahVjHvqaxWpmMW6SS5oJ7\n",
       "mKjM38uETMdn+SCMnu7cLqtQQWU8GfobqSbPOkHN2OVm8mkuPwErikI/iuOwUGy+dUyV+R9Ie+JH\n",
       "afLdkgivbodVX2VG+ez0a8o4NJM0Z3vC0JLk30VyfCVDCqjbmdl1wZlo1ceV/f8PPAP1E+Jftynr\n",
       "fr4MziUEYbhA3Ju2PVv8hWZcnrxZj8V5mXdVRk9x/3cHwqUfRsfjIoB3YsLZIdK9EhHG5kIg06N1\n",
       "9BCpgtD/gKqnz/gC+Nkfd4p5kFv3xVxxGWmxscz9ySJ6j9iHjwIp4ApVT+yZiFe2V7iTJxD6d/xt\n",
       "FDjpA1LHoyijuTyU6U6QqkU6sy6cdcZQP8NyE4V6r65MTtHuE74XxIjegksJNMHXSwtoOg6sTIMx\n",
       "kX3WgwEWKhL2Md1qj2eQGC0uKe8QnNJpM4mvxuym0IkPHpPiNZ+yAXU0wPzoxRZ2/v8EONfbgQEJ\n",
       "rf8ym6bwIzukzXV0znPaWeZf1l1Bl62P4Ld7NYwbfntP1GcqHfOAZim7QY9lRSkhlN431hBQvb8/\n",
       "suumEwio3lo/UGo4fiJ14oWBO/us/+050/a6ceQNkMheKCWqQhwcIn7EogWnPPa9mbGxcU4ZcFJ7\n",
       "kDTcBfamyQ1rM4xc/KhLwiC2aIEkdw2U9A2f4G7G/qVzeaG+Nj7vDF94Xc+ghRINUAY9lqXCdAFO\n",
       "vhK0fjI5IMEeNdxNwk7ialY1XoqcvzdzdHT1P1u49ANxjCh3ngLKRMAgH/YAjYlshYJJ0IAtzuV1\n",
       "pu29VkXtOHYlZhwOs9ByPsZdr8V0ngGRxudUcUwde77CaXAGk6fXPr3kfXH0kzwg3n+wwEa8Iw+2\n",
       "Q8C1VeynKW515sLAkwstjaesOk6JvbphAKW002uDuOhdvJ7MBf/Y4aCCPU96EhnO4JTj0CHhut/V\n",
       "TCrYJOCBl52v6UmhH46ObGBWDd59ZvAu4guW1w/log0wrAS41v8SjlcmaUE5Y0TPzbSVFeZDtmLd\n",
       "faxW57Hr2wjrKxOmfQnDLgUlvTCPcMVU1AIFdwScu/15dXDmfgVmf6IQmv2lYaKg10d/KiNlzElD\n",
       "ud+Re+LeXVHBhmRp1Vtl8t664Zehe0eRrcjFlqo3CYPvYV4vgAeI9UoLHJmlW2t4KCTJ8UW4AzHN\n",
       "GowBjZbvRTPHy14sOO1VnTEFPxmg057IhsHpECyFBnSNdIvdQb8tYDIREwP/TQr9yVT9dBJP5xZA\n",
       "gTGo9MNZH2+55E+u1aRrCOCPzDBGS0RJP20vOPtz4X4eKs5FB9n3DkrlQK6jw88EWIM3VVQuFMen\n",
       "5hqQVywydFWSn2e3MaIpqCP5t3+CQiX/J/QpAPd6mvM6wLPt0dE0kemgmMxRa0YMOfk+NKfvuRRx\n",
       "NIRbsgt2kvqPCAlmak3IdQ8D6K3OmQ0/Tts1Mx/Sl0goHxww8xJUYJ+d+Lp7Yj9l8XFyZLaFdqSu\n",
       "4p3MyRplTHoVW+BHHQvRMbAEvuJdFy3VUUvnkLspaAN5X+U0MNJx22/wQ6snyobU1zwcAV37bsgu\n",
       "Jg9j5p+yHqNqBzkAAALxAZ6CdEK/ALFFz7mQnFJZPEjvBHUANz2f6IO7nDsRWsknScSJnZwCo6Zj\n",
       "kZfioLNDtlOC2qxxuM9jp7EJ3qh7dLaBP6D8QqP4kkXRW6zZtb45pv5Kz8xw7CROptsRtrKEjRC9\n",
       "anGUyo1UOx3Tpr8c5fFrVAxEUiEQmuzJHJC01NzDEbecC1FQ1VjBso2nDVjA6jbmUU4LFHjMKxQW\n",
       "bHsxxN6t1qk4Z+cQOiv7/8zqQuLTl0cDk/joWbdoI2sD1ZXEa/UBBL6ZMCTX7HxJ6ldy2MQZ76V4\n",
       "JqATD9yKVRby96DKe8y3ey32ISbm1AJxAQYRhINlY83jqRNUr+ZqhaBoPwb8TApB09FT+KA0DXoF\n",
       "tY8x2M2+kGnF75ggvA2s7ykyuLmvoj/aTZVbAYMGMw/0GI1dqa4IURCQV1OrDEBjrUsaEhkdyCAp\n",
       "lYxKbyUcKcNIUR7H74H6SQZtjyu92rEIz4mI7fDZN4e0GlwaVVGLK5q0C6afWReBMm1O+6sIEaXK\n",
       "clPVJKpL75ypRXhaRQ6yU9BeOzXqviYdwvAbgDs85h5QGiqoGzNizQehK2eFobfCJ2RLSWvhOxTO\n",
       "uZz7x5NNe5mXDR2QBLsg/PwVoPD4d/K+HHhbNzw4bV9yDxdHut0UEi1ygWLAxC6DCO3L/bkTDDsA\n",
       "eOnfjZBv6DSj2dpzI4+o/9aKvcN92DrjccaWg51CXXo1hQWB2CHLB3RDBSnj35HiXJJyS7nSmoog\n",
       "CDps631Iue6mPRdoXFKoTw/z0yvFgnQmgo3hf8EYtcbLQlBLaPjigmM5k6kJCCCcTyfJDYNNTsnG\n",
       "6qf6dwy2EQaZH8Pk7gE8cj7bpfuDVBifSrwNPyXNC0ZdjujMGGqVkb4SUGjAGJFw1PP3dHYzqfEm\n",
       "baSOm7s80Mb0jtylcFph0oNcXGGYMJ/U4tNjTmF8BMiKtgezDpV+pDB+iOhW9DV/VdQKQRCh+3kv\n",
       "N1nE2QxIf3+bLzrkNpcI993JSXHn72FuaeqBAAAC7AGehGpCvwCxWE9h1UazVyc8tWKKEVNXSjJq\n",
       "TcIilMXU6+1H2TDIV4za6aRKQYaUUADghYmG2CMcar3PQjuYrQGim7yXKzHF4cb8jUmhqGPwurRR\n",
       "06i96EtXKN1Cv1gzJ/GRSWU8Jijax+HkSTu6VoZX1rP+Hm5A6rAwPosMdf9SanrwtZ16jl1O6G8c\n",
       "7Ft6AUOKLkQ8TQEmR8tw+zBd4Dj85UorKFqo90C0BWgQWytCe1E43TpTzPB+3KsXjTj7RcubXAbC\n",
       "jYGZlaNZR+OGgFNG5FF7R2vFrLsu4IIKcv/BmATAqqvsB+ZvaXyCLkZwRVVBOyBnm+KktkUFI7NC\n",
       "T4A3OagRluPmGWaBZx3u4DkTKVBmEv9eCY6lcpMXdgkGuVtF6vafT1sOJhVWzcAznMBW6sQXU/bF\n",
       "HLI9vI7En93AySIwcjiksNy7K9A2SH/BOSSMVHmPyRE/xE/S3swBORHZi/j9bNHxTJxUmLOjc9xX\n",
       "b92eRZvqOJtVjpn9ju22atXBny07fgaaa0M4aub67J+jn9KoaR+0ZexNgYdqwgThVkp3D1KTaqnZ\n",
       "b+Q1IvX6dxm9PmV8+s8L7vq32XzDY/SLtTvnqdqO4tLc6Y27RVFINyeGEYSpTDq/LDwZOxe3A2ok\n",
       "W1y7Y3HZMOSoIXH0XkkiCbnSw7A6izTiHY4fI11hoSqR6l0fcUGZRy8GQLoQnPeHzNTCrWPwM+M5\n",
       "40O5TvaeBgGFopjWjKOGXGGprvWe+a4RVsAmchRtk454wZFAi9k5M7qoPeWV3gJtCWWzlgqFucog\n",
       "HhAo7+v+6FDfY5YGxJgMvmZnlXnjtRauY+2Ho2GQyVFmj2Mxm87yFm8Pn9ExDT6E9tMpAorycQsp\n",
       "ba9FTtMwPR2lWZ8bIZpF99JvkTtQtoJXcxpo3oGTRz07PGnD7t9ODc519BxC+cB1/1iKGGmrI22u\n",
       "9WhH2o86/fHKMCuuXDRvyU1jtru/1aVrk/75FbRY0stRzIVe9YEAAAvhQZqJSahBbJlMCHf//qmW\n",
       "AGzQxVp/BEICD4AVyVv0hBR1bgJV4vREE6e3d/PSse8NyKUlj59tYkYgGNAbnxbQY2f91yxwJ9T+\n",
       "fCyNu81ix5mppz0/IZG+QyQ1c4Q+ZqntdaGirEquvKFcaqS+7Ofyk5p1zv6/g3mvjs1NFKb1Js4N\n",
       "D7VvGBNVFjz0d+N9FT4Wg7mwubkrXdDHh5D9Irn7fASZyVIbEu0QRgjQrRxtfTfADNoAapp4kiyl\n",
       "jp0osBbvorJKE6pKGycQXoYLNLhvYoPMavAUD66vTZLu5h8XYsN+mj86Vp176iHi82ST7tcWUgq5\n",
       "ESxRgO3T/HcIx+F351XTiuklOnvR60C6sH1mU6kHB7BezGZHIgalJVrvZ3yNLCqpjFcXTbVfMqBK\n",
       "QsDCrlVoihVmKrLaOUk5MSpN+EjiDhOa2AbB91rxyKQQUPxa0VH4V8yXxIjzOgOjispI9g0gf26/\n",
       "xsrxcPfVqJ4x0ySUnCnbNau4wdTQWRybCl1xcLXafcvMUssZkJvGxrKqPCu5rcTiCx+IOUAlrcnX\n",
       "5KGBxZGAhwNlKLBTkBtztYpYA1BGSHl/n4Jd6HNFGoRjEorsx6D12+5ZaS2RpAYgNQSn2jHHg3Yx\n",
       "XWSs7W8Fdx4e0zJuvPAbxTNjj8KENJ7RZgUrrZszAyJZh2SMVZt8EdkAPc2X+4Yw6E1VcCyayHn3\n",
       "7CQi4kfsFZ1SqXR+GtqHgJyclLv+6iQ6BUJ0aIgMsgySrv5AmZQc/HMxY9Xiy5GxMjSFQZncN3T4\n",
       "I1jm2JxV7OxFwLUyhJr6vULj4SbBRd0qhNjYoqhalYSdV0+B3bGHLz3u5mNC7iUYg0p4qED+iMTf\n",
       "Hacz4puDE5JXkLJPZc0WfMj9IkwHGjkICPD5T1y/LMrppSMcJvcKp89iw4zlaQeaqlsHv7OUFDlK\n",
       "3p4MkbEVIGY38xnnNDia6oJ9TN9FIKzZJlm/ZHnYBOeFXQcS+sQXoBhAuC4mYiAxKh0B8vsZlnJi\n",
       "NhHv/zVwHUJAgKBp+r3qtjsXpfxqIkM8qGmqYnJaUloae4k0kEGIPZgTaFcgkukfYlWmYZzN29Tk\n",
       "QwfBfgsa63eatpGC0TUgOxxQsViPfUx1V3WhlrawLyRJyZT9NpGZU3wVEQw/i7Xm40RcgVYrDJYN\n",
       "ekZgE9TZhYygtNF3XsciePRhB2gjws5QyY/5mvDIBUv94i0VpoZoodQBKhtQVVjMx4Z3Vf7E4Zh/\n",
       "3eRkZanjvB7P7PrcUIhncV7hxoga8B2zaRZfiCoqZAQMLn8DjqlCJDUmDn+o1ljacyKnkR0mbZjS\n",
       "h9MweNeo9iB8P/OcxhniIH/ymLny7m/mTJ2MP/t9p97n0cxjpfNmODHOjD4YOiR5e68NuGyYaAcU\n",
       "htOPRh880OL2tdQQmgYu9z6C7eeo5VeF7eO9t6t1SwGBEjRP+npjUcetajW/4rqcnUplKHH3rbMu\n",
       "ftmF0A2tIlxODABmfqHgmtl2eUkfvilTDAxQMCgr+CVXywD9qfH+PwNbxhX7dTKkyK7llbUGddiq\n",
       "dW/cmGAYNORTLuE8mGHrcNDm2LWdHV91LnMEnIfo3KRwSaj9F1bSO2lZVzoWpHHpDH5ytz5MSwUr\n",
       "b/F1Dx9eWAJO1nGo/OSoMIR7v0leAqM1VOm5JX8ELlk7WOQA+NzlapdehIQ1W3R6dPahev0JohwU\n",
       "WtWaF1wBs9EDKXCIP/OOHpWNLyvaNjERFkuN6ANg1tCEsWzyTWkzP2ImhNWWXdE+oI1A7sWLDUTc\n",
       "qWvD4Ab1vUJ1TUjtOvVjHrcUUI0rl3YVXPtmDKCTvBHPco8UI3UFhaD0hbXRPiXAkzonD3rzfZ1w\n",
       "fyO/29tIt5C9DB5apUYYe2sB23O8B//RWouyUP5cCqCNHgjGgwm6NDyzVFxM13R2VcYYLOQ3wVIC\n",
       "Zm2ELFaF4UZ6AmF/Y1WtB8otOuRSaL/dRYwlrcOBUcQPeQkXB2096c2x2hmqMTzdzCjcboRCC7MJ\n",
       "r/92SQUtR2dFKzMzOZYlPIYDsMyRwr43SwkRbF6/3ryU6TRtyKzwyMxW/TOeAyXczM5OxwNcWxj5\n",
       "I2Od6MbIa3lvf6KD8lloGyaRv7Ldcm0j2xEXI6stE4iQOoNpd+v9pS1wXhRDeSf8xml/GF0VF1xN\n",
       "PQAqnpo8XSXy2lDBE3Pf9WQF8YMWGF7UEyYSL1VNKosDZ2gkFhlZvAFPKFhqi4e27KOMaCx8xw1z\n",
       "jCPBH7gNkyQBjMOGcHHBadx9BfTPjo5r7FhGNL2rVSF7Ye5yGGEOiKuUiLeDEfKlqb2GxHAQ0SuK\n",
       "MOxR9ZTlE1U9AorRA6VNIhoiNMPVKwp6bWkb+4RijmXVP7rfy8Qn1Y/yIDJcdMXrsT8gvBCFZNgD\n",
       "qF4sES4I44eNa9uU1wJ9eZY0F4V+09odF4IwQ6+XKbhCL/YlfQBKQOWr1QF62P5JoXQq89zVTRYc\n",
       "G0k5OO3qFP2Pji6zLyIQOyawUOJazDhiSSTLUcU7TcQI4lRX29/TM4q+sgpavST4oVtIagfuvraO\n",
       "MtTL8t5FW0FY0GsgZjhxkQd1foy7OvIYa/6Z6ab80Pj2J23+MWt+dScXLXTD/cQRhMN76h/+VDHQ\n",
       "YMUzZ/l4z3MdczNnH7V3Q0UgFEO/uxJAGpkKL96wOH6CiMdIA49QvzQbK/d6g+wzgqEdzdDLq4JX\n",
       "zIQG3F9JQcYiAmz8crwhKAMzrpM8JHM7UW9TfzUVmz6o6WcY/LEvzJNcLwnl64Qf6nmsCAuk6KXU\n",
       "AJOHn0nDuVcBPBVsvNQCLrjxnW0SqamW9sLrHmwQQHcAbxIjUuM3YNrtB1d0XykpBBrn4iVIIEaq\n",
       "7oXPbBLhPyPQb0NDMkDGm0SE7ZB+rqtLndHjgJfHOcm1dHEnm2F6n8F/fQWfQD6rC0i6HGgFiwvF\n",
       "WV72BP8hWFrwcbbSp2sv/pP+/X/FJ1e5B7rnHVNQq44tHOP0eHZTPnVOf5hNXWBQNM3KqY3ZegrW\n",
       "jYYpkMYPH4btheXyGdkbgrorazPbWGtFc8cQVX1QXUZjfHC+eqX5iTpxzWDgMxcmRR1O+oCgVyag\n",
       "T6d0CR3zoUuHhjTRvI7XLXNVAFPKjX0GpkPLeCkCbKvHlNJOErZBbQUY0JGB4/F1dV2XEvt5XvnK\n",
       "pvxlkFrt8LwEDdKvxdA1hnU1Rxh1kzh7xAhAyjcwH/c0rico+MwshKy31LMoFymiEgAuilUzJ293\n",
       "Xn4Zpa/70oj/PycwTQ6ipjo/ukx6V2kx5dpVOTT+J63faCbbGAcrvkJyn9DOcfc28WtTxFUeBet4\n",
       "wlxxy4wNYpas9wjV41jzIpey+6h2CJrfkqhfV/FCTET0mVAf1SfSvRcBK8Qb4lxtGaAJVipU7SuW\n",
       "LP1CDu6Ep0ar8VESC1Euo2rLoU6/1iysAtj7nj0C7OQpZFdTxzG6vl56UlOtA1ybAoveKwVrDVEa\n",
       "RQAkEJBztmbBus8a+5Mum4DGoFVkaL3PVPq3+vHlUXadcUDJ3VY7AQmpKnT4GjCQ6cVowatQZiSU\n",
       "IqFjraxNcO1CaT846QdF/4v47VX0AC3v4+CHSMY+gOnjMdUfeW+C3i+gqR5uEs6RJfCpKyqBQF+5\n",
       "r4GFB6hEt9/lh3eu0bvSYgOJgDzkiacmWRUKf0LRVHKZVpJjP6EYGq8hPXJ5NoGfDWcqP4RRz80m\n",
       "dzi8U8hCQLhBQh6a3JWu5YxJ8Ca3fZpGhuUpOd0x+kb33OuVCx7HvvOi76o5RNjA6gKAyREOjRXC\n",
       "Wtssz7o9jQJ2+hN9b/bEvMWns49M4yMCfq1aPnYLbR6J8mNNFnX8yLYUd2nUq9HXkEJV3ntAV4ku\n",
       "VPcaY7UzWmE4qz25kQneyygcRxNptupOHAEzbVTX+IZjWRGg0tSUVXpbcDjD9W1vn+pCiR70/mY7\n",
       "Zl417NrICSSSUHZzm4onWEraZMu+10enKeuxmTyE2hrMqs6zqKjnce9jyn78Ia38JRv3G/6m4bJf\n",
       "lmQdDWcZbqKgonc2tlKTrzhE2fsCB8UhORMQpE9Vx6jnSC3qn/5k+hS8bPJ8ggv8q9BtOViLiJV2\n",
       "WupWn1kAAAXlQZ6nRRUsM/8AX31+TvbDwcAEFcczXttRxPMAWx76I75FeoE7Kj/i8NO6WXICY3vh\n",
       "FCbSt/Q6NTh5ULG31rXx+1F9E0d+jwO2XrS+7coyDZ4BbraM8/v1HLO4ntRUKW+6mYqpHV813f3H\n",
       "ywWu/CSyyIlRImuZlZCh3tjRtxJoLNFapU7uxRbOSb+qpZchoRAEBmIppGJPsYIsuabuWaWSu19T\n",
       "8oVlOsBowu1KpoQWuJ97fbq//RCfCTzSUIJp8QqagcYwgsxK/4083Ci5FdKrddVf6lRTGgk9hX9H\n",
       "ErjT8jPM563jfLGu/vFoELhQZbiu4/ci+NMlcG1+fXPkp4nzVQaDbdW95MvEsgAxVDDaRl1TI+bW\n",
       "K167bDzpJQN38o2YsYzuYGci9ALWDnnowIvI83OUecHr71oL/Ih1LR+WrZPY3eD4x3wiU/y4DMWB\n",
       "o/Qb45sbI5UNV8py/5x5A7h7hslxTzucRK5I3manOcdpCy2i9eNenwTYXH/p74PL8d9u5HW0+1pD\n",
       "+QnzIL5mMCPjo4Xolcf3Y3MR9joqCarNqMksc6nQ4dntRUJAf0skUUZasWuKy64F5+YBPLxAH2pO\n",
       "MT7NHueYjEuv2ryURESTZeWpCL5hvy65ntICcFFe6qfVj3bbpP7yeEkkmFOYb3BatDhNMJAnrESV\n",
       "W9Plq6YfEQAP51j/OaCamQ5H0iyRzqmdqCnWFnIjhhi0tx9AAQtFF6vw0Sczj7zv7DTnDY/i/V7J\n",
       "g3mQvNrzK2UDwfTQGTJh5APt0n1a91Kj3oQcW/8BikD4B2fsg/1Qaxe1VSOh7V+2LHUQTqmziI86\n",
       "cL4PDcTZgYf0v1vFXT8w3qaHsSfnvWRqnIqxWeo5rgeVf++jtTjKkmqIiRk7TO//bBnlYp1Rbt8s\n",
       "RP/vEEQCUqdgFFDTFyh20DYY1xLq7rFkV18Xe5aB4Rlioq0QR4uPa35vz32h1Gau0TFcff0sR379\n",
       "TgVra6XcXTp7N6Xoq1WnNeZanRnbBEaCnDk1t+2EbB2/IajcLuIlKCqCcbUKaJYSXXykqZ94GTWv\n",
       "qLCl1pLCwNoSJn7tZaO0Yp0n4zQcNbPkwBHl/+fUDxQAc/NYsx5SVhbdT1KTPHXYwZpRQISj+jEQ\n",
       "F5q4V8xo0fujVU8Z78M0MTPiK4dV1Ft9tFWnFX72uPu43fce+kQwgSph2w2jt1vK6ZVHI0J+gj2Q\n",
       "lP+cCnEfQZzFzC8sgLqH1uDJ/UsvpzZSeviaRBmM8mJSvEMBCX6gxSjTAxsN9d39V5GE64GzdJEo\n",
       "sTD1UZMrcmCKrh/5i00Dr9MWnZGYILaoxVGbzH9Hd+SqtQSR+oWkxa6eXRZfvjggg8UM5gggVTDq\n",
       "yJEzsocDfNIxf5n9hV1cpspxltj4bFfNzTP1wdhdTxdNrHGEo14r6c/43euf8jBccO/zfzq8KU4J\n",
       "9a22xdxs+GtywkYBjRf01rIjmClcfHczBy3NCtPecH+99+uBWJPfOz16/rlg9e8GG8Ks2b7s23bi\n",
       "63sWPcEmXnkqF4FVp5paGqKIQ4TNg9kN+fOaP8eytsxVKVIexx3OyTJ8V3iWwxPm/dVvFGVBgG/4\n",
       "kdImuieu+rDlS+BZZWVVmwl/hQW5jBt05GJ7F+O3NGWOAQImRqPedGRq6QF+3dn63jaEQulQC/a9\n",
       "INVc2l9flQNzL/ZJkKq31hlE3QLzf07XbKyMjX8yAobmhxAMh8/GkLzX8tV5Gk1LAuiv7aaBcf1r\n",
       "jg47ktAgU8XGiV+bGLPG5XYvbV9Gzv55wS1wnDEvaXq6GlFh8wHIKI38iP0ncBZelhI4g2VQ8Nsh\n",
       "JBQj6APc3T/WxVUXk9UohPfHXMR0vEWQXvQmnmU1aQBP9l+DbngvDnt+qQ7BbSaVy0pi8nMFbe5m\n",
       "Lnw2U1H8YDTdoQYhX4ofBFEGaW9Z2+slssA54XoHUpsM2XS6D05rvoL/IQJUUb/zGbunZcfwmCXy\n",
       "HyJ3M3PRvm2yKmVmUVu2/a1G0a9A9jhw45gri+GvNSwkPr+RAAADRAGexnRCvwCxRf66RtWqADgW\n",
       "EIypH7fxZsHjqYDbwFxpfKMHGjhuni/vsNIy1Vu5oAz35Ojj46uqBgiIhqKDNY864bdsqNAVa4yB\n",
       "gRC0J7KPlPHp5HUsiZ4gOtsV4kl5tWG11ZSlAOVK/uNVheZN9y+0MrESW1V4dp0fY/+JZu1tx+yp\n",
       "ES6zvwAgAWEwCFNpLCKL/ZP5mpulnxu2qezjW3FVlwEbg/DKxhqlSNL6GFzm4VHkZ3DFXPzlHNMc\n",
       "X6kvGA4rTcADLuZlQ/dawJDuawXXcF/16MBdvGfJffQhLUby8M1DwZoEB2ilpnijcJMEYZvY6U9z\n",
       "Jyz+5ZPYUUoznUNcjkMizQitYOhW6I/gyy3YSs6D/0UUcyzkUq1hTECaml3U9Y4rTS3y32hLdUXX\n",
       "wdmG+DxSLa1TNE+fl8fDCoEhUqc95lYXYPeKHMwW2MmZHB+jetXAQZ+UEXSbc9m+YAKf/SDRXp0u\n",
       "hq2iGp05LEx/7DH/C67oS4tGpe8O7a1OQRvM+3ewXHriiqUTiPl0LaN4nn+MduBoNh2vPZ0AsvjI\n",
       "hM/IDroVsQaPVzvN2JdYRSNf9/YX8KnbhPvV/tUisL8fWT3vOEmpJFNGaoAeJyjkSMxIE2xwX2L2\n",
       "ELCP69bkIZwnC72FZV4LKzDKrKVzh/b38zkP+T5ua1YNX5yNtJf1ImieKSFqzQWToqqCS1j1Ocyi\n",
       "GSTq+B7ta/vDXh8pBhFb4bFuEOaKX6QQ6MKpSB2P8hxuQPqXVFHuF8DO8vGXrFQC8sNfO1GOI/Nl\n",
       "5YfGYClM7lx4VjTarVevfkD+yH4WaVnx/Qa9mjZiHzxDx2DlJKRstLJVRyhiv2tYsoL5zjIRJDAl\n",
       "WQl5GI3lTXkGqcNMAymbltQNelYRRhrlWPhYbBIVY6GFtR2trwWaqd1kEmyDj5HNY4JIS+w9DhSC\n",
       "l9LAiHplLF8ikGb/yigV4yWIT7N4tDveuyjBJu1A1zcJR1ft+SCQ/5M7h773SzOa/+pjchBpzq20\n",
       "BMTc1pOzSbb7Eb3w8FU9c+BEDj9bpHZw2px4uPKEOLismDs0ZItMquQgo2Li+xG0ll7dntpSx4Ma\n",
       "TMBB9kOG1b9IJON10qq0eV4OskNgAAADPgGeyGpCvwCoKXbkkQjy0AEMophfInj0h53v+yLfK+vm\n",
       "cNBaO3IfAMi23pF0xg/s3NE45YxcPTUyyv/ElqxALVUAySBqYEfalmdnABlaIrThvbbPeeEcbmF/\n",
       "d/fonUIsHfArSxVLUfovFzxQ89A+1fkWkzSOFlqN1YvF6xWMOQ40gVUSz14UTLX5rkxCLffd8BUI\n",
       "X/+oD3ojU3BA+5dNcNZsUOe1QVfG/irL0kre/FjfifwBsAKdy0Xom+5fnkg3tBF2BF0/ZBVdEpkm\n",
       "0Bmkid772NVpe55YYkhWrOoXthxOOBk77HXa28Xh1GEPswSqn2cHnEDgZGTX8coSq7xTILc1m5Dt\n",
       "hjA+Reopi5pietqdjYgOF9MKg0RdChUJ/4tdF4i7P3LyBa6GCB2Evjm5wn8TNN2lH86UsnNPbwCt\n",
       "Aa9oGXtZGI5biqmAb+n8GIVT2GHmL0p6QFy7GKNOQymYdxV8B+f4kI3L2q7LaFPf34xsq7DWboe3\n",
       "HHgy9CSkZrCyQqUbmLvwjPgzQ4m5AI6uO3NirMiy+UEo5aG6bjsCBBTnCb0XMTRgY2/+ChSD/aQl\n",
       "ncJskQonEs6jwoMoPUNDbT1WgcQ4rMtlxy0rvZawePJhPjIyK44dygPbdfhO+9qGDfsyFlLeIviV\n",
       "wfHTiDD09cbRFW5zsBfJlyzjJftRmi3ywwIwHoNo+1X5goU+BFXm51KG2VQ/JJiguAuKEwYn6GNH\n",
       "svmuUyTQn7KSYT8WCpI0HpAqpema9XAzy7/FbQZIvRyb+zGzPbDnq77Ts5tBOagQ19PqQznq5+Hd\n",
       "A7iZbx/yKpnLpgH/ceFDn2yuAp4YxwDb5IdiS9Zy10cVAtLpEwYRzqexUGQW59C6o5X6DCehWz2G\n",
       "pDN3lvhvHIYDT+RMwIg2F46HBJMK1sYvRvjE11scEqAl0Xm2XYJqeTbd006Jd271q65Td4WLAhEt\n",
       "BpPQWu4x8ErAfj1CG0WB0D3f2iXwYwHekjcvxvdbbthOkFlygZlYt4coDPLOoOnwv/z4xzyuUHif\n",
       "RVmVdCBlxkNouaLBBV/OD9SENnmcKCRiFou32XEvmyMhpNFgtJZHgGxOPfSKLhY9v7AcGYV+Ooym\n",
       "AAAKuEGazUmoQWyZTAh3//6plgBqJ+K0ALYRk8uY3gVuj7CZ57BsLfALKfaPhG0+xvJnDLHk/ObZ\n",
       "x0G8TOLHVxMr3EQ2DgV9c21eB4eGfeREw95WVF6ulWlNmgbdLqbxdWHJAPnupqa2rX6H5OtkkmKT\n",
       "LNXZZJbhsBLaQ79955tC+EUCq4ytK2yCO4fXe4R2XldInhlE1HSYQ8ZfyyrdOLxA0GMxr2EItbp1\n",
       "PdGxkCx8DyjtuNAJy0MeKlWHCvnrqGUVaYeOqxv9nd8s91D/T2KbPN6CDW0LR8LFgHx6wDpFil14\n",
       "ET6CznCXjbNk0sdYDgAfxOVVEEg28/xTjpa+mlubbpMjPejjuKugud3YMpMc7sRZ0aXSdZj8pO+P\n",
       "dNYNH7H4QNQhARXfqadVmD1BpNXk2Xo5DMXNPJcGeNe1puazt/3y1t13WAyYM3wSBpzC84asNv3h\n",
       "btYIvmD3tRKWWE7072rtZXedlnW/FlD7szlhFxMRHNzEQfMDQG2HvTBbb4BhM/nnd1kg7d+wCrt1\n",
       "6L3ea1ns5JMHwAgWQZnHmbVZTBmZR9RCom9f/QiTvcJ7dUdDH+0W6tKxt/uGkerv01QVmFHvzRli\n",
       "PmRBI/uM8HDpmJvjjLuekg7CsXKv5j0keUzMZ1MtetWBiqh6cc++f0KGdbH78P+O8L4gbGLfdVVh\n",
       "EqevCQTaX0DWo+t84H5KJBZxI4WXu9vT3bmVXoiFr2XfbVjwQTputYQeh8y64hK2EocH9tZdOVGS\n",
       "/SG4fdNw0eEbbPwouxqV+a8SaH6TsgM9X1jwlbzZY8TOnJH5d7L/D5Ru3xyggUhDjuI/FDbp4ENu\n",
       "Q91BPtlAMJlElqnIAqpbLqz8+EihhI028gokIV/DqsOOlfar0ugQ8GG6oReCkONLNxoPydbedLF8\n",
       "4kv/YmBBy+3y6/BzhFJTee317e/TGl8y322dTiHpqTNa9GfqIu36/t5fdxXl73A3LlGrqUeqdypE\n",
       "T2ASl3i6PfmV+m4HYPMtAZzTbQqXfgPDR+eUShU1su3GvXQDhC1YJdB8CLJCq6QahKzir3t9yfHc\n",
       "NzOzBr1OHFH5YDSZzt3c5ONNPXOq+K0wHn9373mlYghoo9NF0i1IxOe4hOG94wn2sOoq3nJ4CJVG\n",
       "LiZ5huw6QdGbsvmK3qnDC+waMD/h24chBsNcK532yr1USGS+Pj3XIFEVPjT44Ruzu6fCEInUTaI6\n",
       "ff5uD8fkKE4Bl9yJZigrvIVmCPs/8qTOW7N5gX4kygZMLNH+3ZviSRAcFXDBw6oBTys/XL0vPJ/X\n",
       "kZLsbJ7jJdZJNVARL+f60xDHbap36xtgcDFOMOtgB1yCKLTImpdE0398+rXThlRtVCHwTezIpmWy\n",
       "8NnsAXARWrGEOCcHmkSE38E6qycBffGWJ+9LEXYZGCFhG13Lz7J3LP6XP8dR9oYgeNWWF7B3ilNa\n",
       "8eym1QiRV1WvVxAj7EFTCtH6QZ4e0PskOFCJM6fpxx9JJiDqfS1ezpUw8HzSATwuQiw1/64MIBKA\n",
       "MCs07cfCZm2LufbC6mGaknAPotqYyYZdqSQ1dPB0bHTH8wWXfHYuY6hhvELI3Hc3XMHtSY2GfX26\n",
       "kkuLt0WnRQPc3Dknm3qLiy8mvLZO3tfyrjdyvWAD2i9q22Z59oARK8DU9kF5XqEis9LascFZIONY\n",
       "OeFovObQcYA+81S8DPUNys34QrZGu3EH6F3mp53K2iO7EWaWzMId2TjXWVgQ8rBBLMmfrgZlnyF1\n",
       "ixlOQuPkRZQVDk3KZgryacpPfP7CE+jcOeaRYXnBOpFgIeLYc/PxIbriB5LPo8yedKIthYP3olja\n",
       "CPUGMmXU3JdVf/ez+Dkr+cZR+15GTUYifhrIdN44mYzsqpjETE+4ktv0Z+WUKill7elyOn8tGIza\n",
       "U9ObEAr3a40vQXHeRXKF296f9tOznX9OpNx9lSpTnKBaEFT2oZuH0qAAGGi/xa85MvSez0GJip2j\n",
       "/JO97lG52AMf3/mfiAS7T/9ozuVHYxnpt3wZlcFEAwQiJdNtJYUMU6/ywkCgxzbpE50t7xldpsu4\n",
       "nd/aQZT939gyuSJm0Pdf6c1Neae3wZ0T3ddYUP0N0WXpV4n323bRRtnYDChwJroLoTUiW19gihQW\n",
       "ELd8lkdA8JOf5mEd2A1+4/b2WGy3dh4FCxDHUkRuNh0MzbJPK+K+fLvRVFrpSvNBurySTbNUB3c6\n",
       "Yivvkjbo9I2eoLOMpwdc1y8MB2gqTlTeo3CSsHfj1rAFg2yG9V3mLBmCf3YpFuIqQLWSP3a49m6z\n",
       "oAjxFLDIXpqDLXc85mDixCHeESD+IEoVSMIZVQNdEO5RHXSrqkvXv3He+NVST2vbJ/HGj805vCYB\n",
       "f2lli3y3XG4R6OosdZG4kSpp7mAa6VWdPU4SeXLUV3hFxdiThF+cfj964abkgLHlxJUQUaN/mx8S\n",
       "G+CrJguctfGtJZnr+/a0IWCwYNF8b01Bha/TtJVRv8FcLtRSPlGI59yneTqXeNruiht6XQ1oSeR5\n",
       "kmcjwJc5Fs8mEUnvRLa7IQLEYBs82CU6Z5ytzfh1IIXei76dJrtfIqqLmY32f//PYeuCmq9//4fU\n",
       "LbpWXnfSuqXM9LysZvXohzQ8AtMBlaZbSGyRp/RmK0l6chq/w8NblIkbTLRYlgxPUqQbzGBBHy+E\n",
       "QTNJDUdk6/H1CWvU7UIyf4wjweGragiswUUBaieSxwkgIM+BTvQP9onMvtbeoL6NaxPfRdwGBLAD\n",
       "bxkrLECgOIVX6uol3HOqMMgcpTlFraPAYiK2AeI5zvR286QS925V4Cm8/Iwh6ruc+Ii/neh3AkN7\n",
       "e5HZ3vdMMUwHBB+890m5HNbT2F4k+G+MqdsnnzVY2MSXyn0LxCfprrnRVeVhIij1UMsDxwPhbuWU\n",
       "F6aTMB7NuNUaOHczHHzhNmXtooYMzzemPB48H3hdnab/dF/j+veU1K5BfZsGp7Aa+fLwylbgl4B3\n",
       "yTL92DhlVWOeiWdDaA+Q/6N9g4dhz58gPoTPahvRa0smdxXOS5B+cm3oIC6QMGG1GQ8IcFZncKC6\n",
       "tCzeDdAhJkU6/EvhM+HiqMdfP2+mSr0IhNDdal05VRR6yaJJAqSuMDAF6p/XH2KHZjGkST0uUxvO\n",
       "bgEOPzSrXvq663LhanpF2z5ADr1xFTWnVRRk+fEuJ0r2IkZXCzpV6u/1lWPgpb5X4GGNvXAxBjvQ\n",
       "QQVdbmm5tAT8FYU22ZF48MroLYVqb/pIONhCBPKGKHBKXsnOS/ITyUxJzOa5aEYg1e3dI7SHo5Og\n",
       "ptSNh/FEUOgmrSh5Vif/cIkABWqB+8V7MFV3/OzLTbRnRJZBrMNw4rsTzVlDO6Hk8ppakOnfLnSE\n",
       "LdeUWLhuyLlf3xY0PEr9MuZekX4V/R8wX37au037Onh5fhegrl4iwh69izYNah3vhQjU5iriDmc8\n",
       "g/6Wba88FAjcM/sqwttuMI206890zMUTMagfi3ZKt6A+obfHfUbulDNf3ciJNjkW5y4XhgShQGhJ\n",
       "SEpCBTL4VqIqnJQ73Hh6VZbTT+P1OrMuTAoyuZvtS5r5o/HO1jlZr3HNgO2/YsNdXeevLLUcae9g\n",
       "8c+miOTv7KageImuok//CIOndVQYOdUuIqjgcDl1JFtTOJv/eXLPopiBAGIfgA5yGD41WJ65+7gK\n",
       "YjlqkWY1PUoURW8JAAAFPUGe60UVLDP/AFz8UFpquq3s0pN9QBD8HfSroVRc3MXTyqWCA2eTDKtE\n",
       "gqAoopQUgX/+NESg6jh8aWhyxYtz/rjybS7Kj77LxIyWdV5p3M8Uk3Iq1ikev59Kk6Emwd1kQuhy\n",
       "HFvqaTTjoTGyR88BU5pGleETYrWkE3I3mCmktXobOgsCCaO0mWxChqsNwUIeGGZUyI3F7rXjvMFf\n",
       "OV6spS3nFkQiMB2CqPMS5jOWnPEf2k5csXCvs691RP2BijcmiiZUGWK8BlyroYGsAKdgluNoRA/R\n",
       "p0Xk93I26k8sCoBVwlPzOoUvxtKQCiZjZGPJi//NaR8a+1wX8XL3OHru4abvcLN7TB7eQzbPzlzE\n",
       "Hz7A7v6egxKJDuN64IegE6xobtyHh+jMUyDxnW0dnA+aPDSK6X0WBhCJThss8WaRTRmfthRfdeMs\n",
       "PHu3oyegyC6F9lEw2Cv18BobqQASKtIu9Qken4/dHMNw4UzuarYuOpCB7Q1kJqaxwZKFcUAIPX5L\n",
       "uQ3qx4C5kXh3onkbUEFtoPYLU3kUwI7viBpVghcMeMfrAF1jUPPQGGPd99rCGqRvJAslZ4c+r+Ii\n",
       "BubD7GXg3DAflRWofDmMjceMopB22jUbvaZAzYLIqZcJ8yru8Zw6B63rS/WOec3OyVf1vNfJNwTK\n",
       "GSaeZfET7sfaVwrrMSI0JGL8t77Pm8e1XOeAnssCKItxEU6UYAs0zxWyi2d7akhYyCyc5Z6BKgPd\n",
       "LyAsTKHPLa/covz28hTHtb61jj8TnFJWomfroiJVgbUS1ZbmN5S+Y0zGjOLc1xIhXuHULKrvmXSy\n",
       "WZlB3eFFjmKk2z230l51apkdr2JbGCri4aqFoLeygxHLMtknlJ0A7KDMQR+DXF1NUyjGSo0ohks6\n",
       "McLlUVqaxFTNy4uLGObwC1vr7RGbkaU6Eez5xaHAAC78H9NxAMCIS6FcZNczPFpj52aPKsV7sxfe\n",
       "5sgbVcZlQDyYQjMJl2k1YmZJVOkqmpe0S8AsD4Vib3+nV0biogMPnc5wyvd5z+/jEnED8FvxXRIP\n",
       "AKM7pKFEQ1Mo0JsngSZB4ZzV2itHal7kKakxLnVTv9znKCQ6VYHbVR6nqDBB2vsvRbcBPEs3faVY\n",
       "kezTUDnySjmbCJiLMWSgqeaAPqhOKmqnryDzrtS9hDsQWpd+IFTAO9KjvlmPGiGVey+B1kbXzPTv\n",
       "1BbLv2cIhsxSKNrlggHqRCnu4ND02VaJ++yyHxG0yvHuuTbSBZeLHaQKaxaCZMfTybrP5b1w4SvY\n",
       "3UV7UuFVQ2sE9syyFTHDguPZCsIEKboF1iNXEV/+09TECqUVWIwt8dM0CP8Q5tlxYLQj5bOg+gwl\n",
       "uD2QOLFkFK4/pLh93v9HUIjNc63H6LYu8QuxcHU2vuCt3w9DgdJ98HS+7/7iYHxsx2W5YwLz0k4M\n",
       "paPdwdgkFrWuzv7YZ2/FCHEMAU/7VYtOJHK+QLqSWfErpuDkr9xSiG4ZOAOUL8IXhFgLovlYmGE9\n",
       "h3LsvEIh0hh8BxhmgsLIVgUxQmiJKVvcPAYtaDSioHBSV4Fz9W6TPojUMh6E7EOj/VLnFDf7XmzR\n",
       "sfVnDZzhKvN11VgDg+aE3UNcKEYiH0IeuaqBEFUjX1lXlNM7Jf33/sLr8OaoJrtPDi6MJrmB8d+k\n",
       "AsBKQUOF8fLTn8qQeweG+j+tqWqbG/TN72lobZWtsQaooRv7TPwpJsLrL74b7zH/H8aLK6YHfn2B\n",
       "DCykxbeA+x07d7WnLcjO2MfzGQnFLmJakPyTMjn7hFnBmTSy49qZLP5jhmdNmgAAAzYBnwp0Qr8A\n",
       "rKWxQspsZ0oohJr7leCtVpaB/votuX8dv76QBEpGHUEWTP8xb3GnMdVZ+mJU2g2nLp0tcF48fVZ2\n",
       "c6kwBFl8d6l/qmUXKzHP+IpX/CSjWQTvq2V1IKr/FMO/KDpF60t8F95JnfJ2m40roQIdoyqWrMp2\n",
       "G2vWv/gQWCdv0hfYOLgddXEiraFdwYbcmasfeecYANmPPuHnz5ORWYySzxskGr/hdSQKfckSjT9T\n",
       "4N8VIEyxGKlJPDzY8C1Jvl5EgZAKka4j0ttBVUTkdaHz0T7uLWoahM85FnZcIxS92XhSw1kxKynh\n",
       "U4HPAw1Y+K8TEaxUNUMXgHmnxsR44nkX2c4ldKwKtRdii3nLGqjQ5LTqsNPWJoKfP4wkf1nStr8Z\n",
       "++nGEkC0teHJYXoH0/AUapYVUhBb5WElpphwrXR7FQQ53MOyl/Ibr5Zp7mYESpXx+N5dxPJUOEL7\n",
       "Dv++EzaJCnfowCR3WJasyWSrNFrffifB9B6gh5x3GqPUNS0FtoUrPoTS1WtlFpp2r+9+nxdA111f\n",
       "v/8TTGtSaMBzn0bOEqfaKqa1tocFQjRNX+c0WRXmoVif19Ft6LEcrEJStnp1lDLKXYfb24IFvgwf\n",
       "hIqnc4aR4D0PJSAUAETn/Zm5i1z4aaJ5EbkiNTS0gEyWPRdcRqC0s2YqOlc8s+xlteYdEZ12Idgj\n",
       "soZvElGbqm2h1fL+vIHJUyqrcSWGrk9Hs1NX0R5jeIm1WV30MGGYHyB+Rc3CTtY4boyNkQFeF8If\n",
       "l9qU2GYLGtFN6cA/vl81ObSjM+l2NtpUQXU1dweS4fonIjnNjiM1inuV6uPrz049A/VFkC+niymH\n",
       "101i1MKjnc8NSt4u5CTcE0VTPpQuABcX5ZauLCjNKEyB0LzYOHB9/OiGenhXA04Cf+5Tb5EvXi2R\n",
       "bAKbcWkngP0berT9yCRvdPY8er5zWTOzGzpKGB1jPJ7pPLIKkIaaEt2IANUIqtZnn+PcjZUYlYIE\n",
       "COEjuC1FC+vmhGfGsyA1Lx2FWYcD97bfMqmq0W0JTu0og9SX2ou79PhyM+W+237zyoq31ynaw9a5\n",
       "V0yZane+dGnI/JcGu0sNnUgAAAMSAZ8MakK/AKhxKtiW/ikcARMfzuOmrdXP7SOfofXOhFWCFVTX\n",
       "qgc+hubVolQIg9PntCpsHaSgB/pmi985E02tHiXX8Mnhi6LRdsQDy7/C8FlKP18+5Wn/gzttoYjW\n",
       "GPR9ym32YSJ0x/OOXLFtNnMiRSLLwwHNKfL2kTi3+7hgkKSHzP9eDrFh7ErsvCPoG9903PGogDVi\n",
       "4OlvoCJ9vu7XB/5AsmOOw0sR4YBxkDRtWPtWBpmefAH3TE0PRye+gkJvrd3bYAU92adIT7gwy474\n",
       "0rWpFJm52ovokHJFpaLvvEFu+l+6qEv9oh+f72va7bUSH+UvqV62P2ICh2riugk1SfOe4TYt/ZZT\n",
       "BH7SZdbrQueHkw/h9Dx76Y8sMecPL1kZHdxj31UWAZI8nndT0O2aMQ7JLehBd3AxBdZtXPldYOsg\n",
       "9Dicj+7Rv238ULLSRvwTt7tykieZSXkdesH9DpSR2VAYyOffSDFUGrVdDfLx7dzotaTOLKIC2vko\n",
       "2fTh/rMXc59W/ox7qFLMrcBngwWAp7gncAqnG1i3B2ndq3ZWymFcJpvWAOr/f6KKTYLn3pdTe8Gx\n",
       "VctUrzdupQExJ6D/K57T0Mkjs2R+A1/Wn81xAwqAqaxdcHwVvbMp1K41UmaNMLMyO1lkXzjsBQxx\n",
       "Hh9zqy/TehhPwwu1O6fsOnP3kTSr+byj8kLod19yq9r4JxBXXHLh8SujVrWieMv/t3lOD9Er3IWL\n",
       "GWTG/G9OxTgzMH7NVbRKNoJeSj6DFOXG7MJX5aMnsGWX4tQDu32C5/TPWJOz1MycYmkg5EgOaEtI\n",
       "lvlbCPOA4S5QPTEOfrrNbaQ/gNkFCf1nIFU6PiG4lgyKz62rlgdYVFKAN6iSwgb6xY5fccqSua8o\n",
       "QSbek+/ECakSPc293QTDPQ4f3bEnYTXt0TAC9EynOU5B1QPg+yh01n0cEKvKhhoBgAgXI506W6O4\n",
       "40rcsfhVShEvh1vwOyBnWh5KHG7dytzjllVsqTLINw9vwaL7NtqUOrkTpKqSsg0qSGfLBwiUay+2\n",
       "nCRYf/M72KEfAAALaEGbEEmoQWyZTAh3//6plgBspk1QArfCAu6Fk0a+UDxUadhrmtnmoe1IahW4\n",
       "Ev8VP61AlEKKrQtAEUHKwhMFauH2wf9Lm3EsjFvNe4ACdKobZ4mJhfioyjcJ71kBvY0jAI0XtGoV\n",
       "mZz7TXox7I2UJBj6IOk5upQIzXIzR7OUHqVy2K2BuA/hLJKaNOx2+L4x6w9E0r/RRGmhy188XTg8\n",
       "m/qyiBDwtxWK8BgFiNm1viqa3JWd8RpklvPYRJE6W4GfrXVx+juUgCvSixUgazXqWIrGWUrUmsaE\n",
       "7tXu/9gKYpcEhVjpCKt9e3gd8IZjgpNQob25SlWwi6ODlDnbDgPR6+g1WZfn4yAB+5+tuXotqDC5\n",
       "BlxoitCF5Y29MumFjLlBFS/cpwZ8z1WYwHN17fvPG5KgIDG4wQyQgXo1Mz0tOY9SGfhzhV3pOjBK\n",
       "6/KjXFXERof4Dy0Qmhdb44pEedGfqiWinRV3g0SQBxrXipN6kjBhYQBBptA7d0lIj7BSUabLuGk1\n",
       "IGYqWsEWAYxk7cNCzYvo2prCEjrabADkqhCWIZBhVS5n43o9jm/n7SXpy4j4apda7iJ0cfRlimLn\n",
       "FCqPaanktV+2macwJZliovJ9CnDAu+MiwMTGlAvKEA7TYB7NIOsD6Fds1bMR4jI/BiwN7xlAgWB5\n",
       "9SJTN2k/hcj2p52PRuaqOgeIi23cDPCizI3brtA4IpWxlnb5mYz7Dowc8iStY+9eEI4ySbXvS351\n",
       "508p6cIvymNu4zbrzso0xLT40jMP0IZH9vQ/o8ND3POwnMWbBLQ7tE82VeKgBJucAY2ANQqRjeGY\n",
       "Uswzl31SmVwjgDYS5seRWmFTo/omg+z1IwAPlU0yEaD8oTzFtv93vqLExAYhJmWoMQu89Hts15xj\n",
       "UeYklZ51X8iRbGHJIbA1se3ctW+YiBiAtbZQvv+6/tZWqtu1P1kiP/PlXlPcJbg8o1XEL6vamEPf\n",
       "0e8WOZsPhP4rTSGi+uwXmFjZsmA7Cn/LjMANZ5x41Zdgme8Fu0B3CxrDUtTTREfhW3gn+PN1lyDC\n",
       "hOUd8DrDqYvqtbTgZC7LYR3Gt3CocVUq0Tj8mDvLYu1IUfnXmEq0wBNG2O2wOsReWBcVFwrwgNEV\n",
       "Ok8Cs05CaXYicZQQ9T2NZ0brxX9/7CAV/RxB+rpfVtTmBDVXXhFdO1PwJmweuEVHB9Be+bXfM0Jv\n",
       "jRdX+Xv5nlcrOpGrYZhoeXnHOga4jCMzEy7b77KuB9NyeAZhX0DBMaI2T5BDD6HfAGtDzjykGm0O\n",
       "r5i8HvgC8GXHRUvaZPwHBduRfCyzaFuDlrO2c6pz9rYoA0IFQxM1yU8N8my47q/LJ23VDdMqY+a0\n",
       "PhzB3aFS2oMnEhO1Q+ULRNgfnmqUbbXpUjQUUEZJ3LbjTImEIfycXrpAt2pP0r05jz2627E7+jys\n",
       "5PC8QtHUj/m34LVcoRoAroxcvHyDOdDprK7viNAK0VjJ+hSPUmkQ1uTeqRTlxB5qxxZ7tkUQdins\n",
       "EjgEMJ786lGeZ8T0MO2UpgBqURChUJ22RNKu+cBc3XTuA+X5jXNWtIqhV4EwE3hs1UmMXUzoGTih\n",
       "V3C5jxkua/fCU6T7PSAkkZ4EIGh5gbG5NSNWOJFEA15TNDd0e7/VSK6vImL8Ngl5aqA6RAaxX0pf\n",
       "2k++/MCML7Nz1EnWKcA3qY6XrTXTtcYRUJ/CJQyiOR5yJxH3ah+BEbHOERiitetMrN3/AfASe+Ru\n",
       "y2hQmpwScS9fyDcM1kB0JBoCsBLBYucK5/nUaQ71Y/9EzeL4EYukyARZiF5GQa6jNvcZr0dcETxD\n",
       "1Bua4GNf9aC3pg/TpKb2mUGFYF6E95tweiVaBf6RzPdcGtQM3fSvJzlIKSWAwmTHLzZPMe11khVB\n",
       "gFJbRqaV+2xjeU341oPIvJvbNMpprP99UXic10OTb3Ov6S+ye7J8b7VqmUavLx2q8fwMbXnBk2uR\n",
       "MCHAGtakfx7MhvXtg+pfH0viIMz1a3+dicLDEZaTTdgHEirJ+mMXKOZ9TAK1RG7i5pdSJrvBSc1A\n",
       "VOvPXd7xsIrqZVhPxRzIjae1lyIaVhXeIW+w6NVeD9ZkmLmmKOKNY2aA0lcud+79Z9io+834bVkh\n",
       "foahOb3dJM9/jFICTouaia/3bG042erGDfxbRtcY0rcFPngd+xbxsHbov9l/aPiFMOicNCh5CpY+\n",
       "aOYohOfL3TSf+4xiwWtBXoOpSqvKhc81oY8B9ZFjT/O8CD26uioE7B636pEHTJDCenh/5hsQFwyx\n",
       "WqG/R+5+BOQz9ciKfrfy80F/t0GXO+59SgUCVWztRo0GAfeS+8JbsvMagDj1a5V5vqpa20nM1gBH\n",
       "djNrvDyWV5EOS6TnnaojxZmAqQ75xtasaU7N1CnWXiOz+YcYioXB0xKC5r0PfbjwfFMe3ZWGF98h\n",
       "ruH2LcSkDTe/5LmWj6jU+6ZqX12VZpROA/Ki1VCBnVhjtqBklKO9dxchovIHtAteiWg55kCn6oP1\n",
       "RuXJ2AXRgz6NvzywUhBpJr9ikLwUPwHavoNx12SfptoAeMjbtb1w2BsY/72PCSJEcdpzgxhJoDa3\n",
       "/w9fLr2goK8Yl/fVZf/kGiPRlctTd+g5KjO8JyxGKFmXFmuvHKnNdXT6yphWQO5+LaG3Adk4Xa4y\n",
       "tgUhE//ACacica7NiayrQcdONsVzoHjBCbCmAEXKAdS0+AACS/51xXus9j6Rem7EEbBxFXHsRji3\n",
       "Gv3WVWiIgt1YDBE+wL0FsNXW9k0pa6eDNYRUZrRUaztTbNMQo/5FgfR3w+/nm6OL0LJK8boXa+DP\n",
       "QnzJnmSl17ki1hTSHeRA6QXlTfQlrM7ufFbN5ulIoa4ttKT3NpssaBDHx3sXt7y3bXATbOlDd40z\n",
       "26OikBzOMUZVdlTMNG94FVnY0p3MY1fgak3BqxZ8F0ylNcKYqcr0RkfAPpTOuqfvv8suxkj1qQy4\n",
       "7Wrr3QoM3SSGg7HnHnqkz9qhiCO2JOb60iq+MxzoX1Iz9bacoXpv0LDde10S9odGbddqWhfEd2ho\n",
       "8cBDralwaPnVWiX9HmB0fjwQnmjWSAr+h0h1Kn82Umf0zyVa2HcKe09rMH0mJCo2TPSYJXYGymaR\n",
       "SgKuBIGMtpoT48eKx5dqJZkZskVI2QT9UyyxXYonKCqnhlSN68ijWN65F2enS/vpxdzg3NficMXU\n",
       "q6aBaGC57yHvohaHfDTUgfwMqHvPxuIhHFwhgannkdc0VAYeuaPG8DabrdFnIc+6l76OB0aShlKA\n",
       "XHTmwquAmbb5BrhQruDx9rr8VTQCn0QPb6NCEFFF6plFZB1txU/G0outM8yIYE9TOXSGkS3zyoRX\n",
       "iiYaAzd+0slScSQuNQNkhVsx/Kg2wpEikJewQxK5Kkye8uBsHhA96/pT5cm19KQPEF2V1/zy4zgS\n",
       "Dz/skwN8VSvMIQxCF+qq7rtAY7r1swzHfgQ8U9J9fmXEb4kQoE2G9ymYkO/p4xVXtzRIVrs/LsOU\n",
       "IiUx0eCzK8iz+m6zH06BHxhiE6PmUbqYEi74hL24fqchWUGE5kiyVHgJEOMd5k+cW9pSJQkVQEr8\n",
       "WcducTZ7hjNrDoybfqOyftZAm4fWqtS7Ns3LybDSGrWWC6Z5cJnjmJFPG45KI/ZqBsgHVuj6YMey\n",
       "M3mmm6lwqcL5+AoNl/ODB6M6acqm6jyY7Tyn0z46fExVmyEyWgjG9/+XZ3eM3gb7ydHZkaqdicaK\n",
       "DSShchZdrmZJBDRgX4MLYYTj2rAY2lB4mmg6SGeREzkeMvZzxzeOoxD1hKB0StHIaG22ye1uJsu/\n",
       "Vr0EoQqfhE98gPO0UCkyGsstPX9fkP3Zd25gf6du4yVBfNpeDM98d2bI8fejKvDuboKvKRFPpeBd\n",
       "gTBGGySdMZags85CvoehBOs9v8guO5g/SAkAAASVQZ8uRRUsL/8AfxLmE5mMANwgGZFehJFdIxTG\n",
       "er3ydUFyGqqXwGxsUF8ppae6eHbYLJd2jfZaNAF1oIeKOAtZ/+HZvIw+SYjqwEzA+nXQpvgTEXfb\n",
       "D3r3VQhSpN67zgi0w4LIwj7HoeLn9vCXEdPLd0X+jrZkrYp+T7264nofscivXOKVSScdhlmUHbFb\n",
       "UCaTu6pwby0KO99GkLwmJ9WPK8IMjMzh00WqJVaLZLc/WAbOFbDUf08wmzCSqp+E6Ll/wivbPDOH\n",
       "xiL/ocikg9pGS4ovkMOGlJ+XudiTQIzgXH9QgDkkh6PkwrcYQSERqBPOSGhsZhP9tP8HBVYVz4O+\n",
       "SsayLId9v2K+BetSjHb5Fn6JLTRUUaf6t4pDxtjz4qw4i+ywCt+YFMi+m2FERD/NrVUa6AYxEJj7\n",
       "IaVL1cAAg+ECO9XZiAzDzX/T05bMrN2i9keVpQRK3NRfspoT13IdZQabdZrS9lIoHwK3pGKlCq2X\n",
       "g5gO7qH7nYqqVyJQAbQzBsYDY1oyx4q07756RDY/DS7/6M67j7fBMzScLxErvG6DxajlADiMkwn2\n",
       "S+Lbhb5rhZhDR8TZHSL+zycUAdFDDBSzWBiyy54TgyLCN1wadxp104LonOLCwtIm7XVOQgGQEzHM\n",
       "hVQJTu5bBPKjPErXyaQVKH/8dIEIdgPBPJID3kRaYMlt4yiLSPe1nJjPNKvvWa3nKV07OjtVsdh2\n",
       "JbgcC+SArQs/r7jFEXSHQ+pJkEMOB8foXww5ONoihRH8BRPd04a1XHKMrgPxVOItOr6bFE+bxdTj\n",
       "0oFGveHCmYnxfwEUEcZN8elghJGt58md+50YGolC/bE6/YJ4Y4+MrM+vlzYvLQwXUsW4q9ixFZaB\n",
       "Zve4ysghcp1HCKO+hLp/ljGRkAMDw2WW1f/h2G/hYiA3TzhmCFojh9YzzanSu+5Y+jzgUAhbh+zj\n",
       "MZQ3GnwZ68YAKJlV5D7FfGL3ADZjIHew1AXUQN4FQ+/LuQMt+wHBgm1+4Pq8a+rfxt19xfEPh0Pk\n",
       "nVTybCis6Nz2vHqJ0FD/SXq4mAZjMV1VjRStV9qkzO4xqJA691qfGvYcILj1J7U37y32vangF0M3\n",
       "J0eywBZ6gMZAEc5mzBlCL8T1yUN/5LKAaW0/g9IvwDsCDcF+EGgtlyVXtri2na6bP35fZWlsaOUg\n",
       "90wWbvwt4K2NqIw0Kltt82WL/Rvuuc9FZoWr2sZM/AUpI0Zi9oTZgAErP0uWA6KcvwgtaZpUc9Dk\n",
       "UrqZ7CcSZ/3kpCquGuespacZrrReW6fwWDCKNFJxkFftL1xpcu0TyDWgMxKuDDIufHXOcERdr4Gl\n",
       "d8MoWY+BGLE6K4XcJ7JlA/MmNH4lM/CwlintXC9ciYnnlld5nlyd0OCoHo6u0WVrnfJpfvARrG92\n",
       "vKrV0vt/1K6mZBelxINJVridGbLKmnGGVhh3Mfjib/pasBPszBdgKEnrPthb/rWsuxIXM2SDEAmb\n",
       "Te+TcALw6Xt8qcBA7XxYWrJ+0G1pD3BKD1K735ZlD07AF1xHj/2ydEYIhCA2NhEd3swU63EVMZ1m\n",
       "mdp7FuoRAAADeQGfT2pCvwCxcoGWYSoC5AEMX7VF7d8BlBYjGH7LcTe1tlUu8WAOKJ8dKCzTsK31\n",
       "KT9Tlb84nASaZJeEYlrJbmgWPkldEP/igypg/y3HnmS8bcCVzPuf4O3KAwkth43+aJeZ2opPtM2C\n",
       "jZQdx6P6zaOyasNWlf7Bny3jrDKNvoAQtmZkhDpsAfXiSZ4CuPtW+b9X6aVvW5l9zchMj+kiF5xT\n",
       "VdBARNABYbWr/5USgfPuhH0JmVPkJcBcC+c2KtwGLRu+bPFtbWjlwAUGx5kxhov9NjtlJGQw3ykU\n",
       "CRPpCH25YOGXKCieTxSTjSO8vxd8dmEPxvy4Z+8rK31DBEPnyEEWsfGvPNr2IU/IecEE+Wx94Qt/\n",
       "bupBlzytwHrEKcfSZ6d763UTbwsyzjTRD00Yi2kszzadHi/N33PtZmCQNVNLp+XUqC5MqWW1q9Dq\n",
       "FVgCbKJJq2wriXbq6ULrX4930Kd9LhB7IkHXxjMgNEErxmVXBe1o5K9vYAM2B2Qh7y3LQmek21Lr\n",
       "VlJT9hEUmtRxC8/9lNkNieeIaGQgYz1yiIxE0H4WvsbA4IYHXayG6Qj8pZdbdWYWA+YGvKw4DQsA\n",
       "GfH2xkAdRlcyXTi4xf0rKCla+daqDrBCJlUq6nNnsaomg9mD2ajEksWmtzUzTCmoHZalYaenui/W\n",
       "HjifOe0q3tC9AGP2JvR3i3tNdr3WjYUtH4ALoqGBUTlXDIidgb/iddMawguWKDiNITI0YEPVJ0Ov\n",
       "ka4ERGsJGkaKCikgifkDsope83yK8Mp0louWWwsr3xSKGrAa5kejtUWaMcjq2oJmsLH5IuNfozQl\n",
       "imrr0jfmxdtxh7IXaynkpc/NccIjfm7oueuLppClaV1vUGJAEjPkctu+PPUUW+azuwfwRuElxLl0\n",
       "cUTOnx01CSxf6HL4Pkw/TX+I8fZJ85Dbf0teZ+01Zm8+RB47mEW6kJVrXypHz7ir+apYj2Qg0mC2\n",
       "P2RIONw9syuVw+EXxSGLA2SU37zrq2H6wo8TVu7nzLZyV3W83Nlocj2Jge3SNADk0of9x1s+EtVp\n",
       "x/YR9Q2m8FBmd6JEQPl2hOM5jLVnzNlLzoqPfuTZYHAJXOsWv4BCBsN5R1Zogpudn9FQqvMd4crw\n",
       "2p5HKY4MM/8Q9I2lrkZBHAF18nWs5XGT+IOG6b1S1xJ9AnlDf6l1iPq9oIAAAAiBQZtRSahBbJlM\n",
       "CH///qmWAGykHRX7xgCJp+sUjQZbHgvXW+SYAjTfKDL+ZY21T2PDoDuMfsxjN3wZi6HGJlJWpRnb\n",
       "oAiNxIoO4UtuBRcYfVnE4NANDjgJoonj+AbqRTL4k9Mg9Cns/gW30crsLm81doOCy4fFlIlJ1TCy\n",
       "rn4T65Z53nzRd9hIVBEQkStV6+hHBJXwmjvA4fmGZOjPuU4AWHdCQLc8zU1igYp/seq4hJ71dSFE\n",
       "/grOdmg9cT6crq/xwrUllON2r6auGlFY+blKtCMi4tbDDQ8HwKaPzWRqMTFj1bQbK/ZbDnvMRYwQ\n",
       "H9mA71srdyNDv6uUGaYg19qhThpaNIjxoEhUrQVoIgcYvIdlLwBtcJZgoo2FCZEvBVxDTb/SdDIF\n",
       "qB40/NGWjNGSp9V5/MnwXniFQNK+mYhSemR9V2B+8dyS82BOiiAw7vDEL4hwvWi9z8wvL8wjldWa\n",
       "XQO6icMrJ3lIAh+rAHiHp66bRnG0F00e1fpJKm3Odey2k7/DPcdYcOCf5Q2BZztrqQGOhpv6ziKD\n",
       "GwmnvNEul7/szYC3miMPJcUbiICnndYW4cFefvIigCne+VFz7ZY6pfQkQfBk4hFIejOc5qIwC+ji\n",
       "6wB7Dxoa3EYyNHDRf8Zdovq8RyOsE+Y/2EENfbACsIK78GvAKn4P7H7FMgAEVJXBrPxMr4mIwRp9\n",
       "C1+96BshjQ+4+Y4puW2mXhK58vfGnP+PdSVEXM/t53lXd4Y8/aZLc599m164DSTSeiu7fLRw0Wys\n",
       "FWuvQJaACVntOZPGm14t4KNvmTiDvxqexbsjA1UbYbCVvgJiJRC+oKdBHdz5EXhBPx1TpwADOTEi\n",
       "JO3q3t3ZsA//KSxczfBB1z3EGCynZmi49NXX8mPDIl+WX7Q7LzF8alASliphm+XsqDzZLLSi+7dD\n",
       "IP9qZrv9TTs4K8gxtki+JYgyHok1F8M1NPcI3hIVzThbdVEUMI4dwo1zAVhdo03b4OjA3oPDM18f\n",
       "La5AkrHbiC1wSLlR50deI3pqLjeAt6kOBNHM1wWBSUCErS8HX/GzZQvyvYnGprZsDt4094gxwDEC\n",
       "hFMe0vrPU0zRiYd3nIx7z7Uz9YIIjLKCwBVAfmO6uXbcNqo7QPaXCqLDvXaFNxEbWnwRcLvcEPBb\n",
       "2yy0moI+vGzJQwUtXRDWVQN1FN2NUom/g5Ykw8VOK9fFJTPGvxEgm+3vI3qqjg/ySpjcqvxcLy0M\n",
       "uHLVfKveas6MUeSVAEJ2w3en7LDIdxIZOU1fpjJkP7aSocwVEY+ritNNTeehhHsPTnT8VcNa+kFm\n",
       "GH5cCStYf2Rd+DSCh87J1v1TYM2oJ4t6FDE9SJJz3094DX/s6Gika1H1yauwLcotPswKPY0f32Vx\n",
       "5+2JdwZ+doqn848phRM35M9O1LYT7Yfpk6H5ruWyBeDq1Kqk+hqAvNXAk+NxO5nYqqhcTS5bxv1R\n",
       "rH1WRNuAT7qblAnvg2yvqjTBzIoAty+XsDqDJTUjq3I0bBkLNJucmZT/XuvHzQrajv3/EsSELbl/\n",
       "sS+EMs8Gcg0yGqKAFTDhgYFXL7v7prjceSRIcp47B3TFPqHPPg5Dzm18NbS/vLYY0lzXR/MnVAdU\n",
       "03tjRt+W4/XN2pGl3YmbAsXXQaqHLHq6kls49x+TJjCx/SpPBZSwTSBzZDAmWf/DAsFP1PNiGZFA\n",
       "sXomR0WHxTPZxAf7D0oBmI3HaIZLTNI99VJ8ftRmvf15kU7KPJKhiBJVOBSvMVCpO2w/RHARAPJm\n",
       "tWivFI6dG2hh+vqOpREm33YBzooIHsuh46Gg6Xe+kXc93WirkkI2amWnDK/IClqZYqlAhBcOAi4p\n",
       "2/cvf1g29sI0CxGtga224d16GTk0EiJI8gjjpDelT+gHWfthZSYNsg76F+/FRhVnS/i2Wgwpe8C2\n",
       "xR3Tp3flvD3uc23r7ccIO5SmNiRl3NYQReGFOl/J7U2bXEnqBFkETR+uOBAntFfLrCJ1j26lseT/\n",
       "9CINbiKIA3r1QXQIgC2xuxKolKx8XVlY7yF9A10IsbR9s10MhbWxPOEmvjy/ZYT/KEvyq0UFx9oE\n",
       "QgWsRUPIHp4WGmyJlt3xfoIYvkItDNKU7k9CySWQURy6F3Vxtsw1IDXs0643FZsHO5IEIZplALLZ\n",
       "xbh70OHai8GGg6ecyd/FZxQbKefvXm2z9vYFiRExNgVT6DjorTxMJjSQQRmNZVO6YHcgRbCs0S9N\n",
       "UOrNd0lW6VJJjdzuUmJyuhoTcOpUi6KrzcOti73Zx++l54Yg8ei2H48ujG6Ih+DWADBaEjEOkO8p\n",
       "IHkzekZ8lKpmHbldub8AVRotXGLVoBhimD25FzqPSOQs2Y/h0nvvyF+mfwpfOcmBaMOWlCC8KOls\n",
       "B79y2k2z+VUhrRxHfejy3Lu5LEEiBJC+lp6iCriUg4yy2A8HQFBVq6D+eqKbf+Io4GZPPhAn89uK\n",
       "Eh0AyfmxeZUeG75QeYrYyQz6nTIHTOKFVhb30hX5r7oE5uK9KVTFUuGnAZA5yxT6v35fyEnfpYqd\n",
       "bLTxPlgIy6YvvtWv6KDwhhdS3tPrHPcsAyeBkuDlWN0AwG8BXOXbq4EVHnJVgQRN2xJKhtk1CAwx\n",
       "1Mvf7LNZoTW6p6cmjPt3N5cp3PNMX/1KDAo9PSnyT+ek+SCmOKTFNklJILWmuNTlUvRBP1ETmFY5\n",
       "rV/y8kUkGoeIfGeqTLhzHdBKgmKgOdS+TgLI8hG7kx/R6BGFmBPIue69r62/Q7wTLyIjlBSvOmxh\n",
       "Jir2TyFnr5RWwvE3a/yb/ISWlEuTBqhlczfQ5LxGLGA73cYNRjyTNolO7rI01dsALsX0JnE2n9JG\n",
       "XTxLTWaM/1DLlu/inBb2feestfYZgm/GfzoumGELy1+c7qGuLcOTIX22V7vKPnoZkm4EgHxxxVUw\n",
       "9IAAAAioQZt1SeEKUmUwIf/+qZYAbLHCRTd7wAqtqhiTY6bAHEKc+T0BLeLlbwWCwydOwSxKKrIP\n",
       "uba2FTFfqb0QwTbsUSuU9LsAfZ5WfX8RpEpxmWSaHqXyLV/t4sSvkXA1izLl2sKx21gd6mkbPpp+\n",
       "wl8Qe2OLpYsowohpyudf8FYuxnj2Xq7wG20zdMc3yXRb3HuGOhH9mIA8uV8dIIySJTShvEwudgsO\n",
       "Cp7v/Hi0bUjHJsV7OptyKSXpAD68Hvy0Ur8MwUUHMpDshraIqJBCBRvjMsyUvz6w8cH9MwKwgv/d\n",
       "ylwWKV3N8E3nf916ltNp7rhQZcXjpWW9gHTsQIiWdlCzODZzeQG3DZDiP+k76DxxARs7Z0mXdc1y\n",
       "7RupyVqCa4dXZlKAUAXZjOwMBzdrRvpELp7WkidZOVUc9XsIUsF+9Ro8WjxqNjuxeTvoYIE6msJJ\n",
       "5IdmVEVzudcFvj5LaNdFfPtqRlK57L1p+2imb61muB/OmH9RH+Kyte9MyIf5HfTQs9VJ053wrm9E\n",
       "XBuyJ4DuRhpCgvmbYKph/gzJZVpOcLb8HOC29Mm3bVuCE9dz5G9SIIOL7fJE+njesbmRtg3dbcK8\n",
       "OuPNY93NqAIvkIu/0m5lWvt6f2xHdEC//yNFiClJjG29qWgPHTuGGypIHqTYytEvtz4Y2sdgpG6f\n",
       "kupOzGopOjSX9BxnKuQNRq+NZTwtqEZkHbBWJCr+KvRIQQg/rQrtJqzMow/AxBeO8l0nXkL3Me7x\n",
       "cL9ECO5bJ4GxreO984Yh841ECxCstbLYXg61dy+b2YYvM3Njr9hsZyBYUX/6ZtCi1Mp/kgpScyYD\n",
       "L7nR46RYkKjMXFm2YFaw3tDBgYAfGY4cbKKuH5N998fURqG4RJf88LBCzw+EHS1iHiFF2O5+B0PB\n",
       "qdOOT4DhFqnIQ37mQQFoRG/6Zmm7b+M5zOokTg0hf51XoDovZF8bpq80NwACR+RFZzLe9PE1kWo/\n",
       "30LIAsg21SBcM6utwUODQ4tku2ZglxNt4Lpe3xJmFMeT3xidCZTgAlkZsrGr5vyRhDjS0Gzl5Axi\n",
       "uLDJ1BcOlPaWNDuZJqfk/HkyFoHy0l7Cf2fBCti5VB70g8EcAQ3wFtSBDSWmQYaNTTfSoAs5VKLG\n",
       "9jvgXK5rM2CehVzYDnv7En5Rf9u5tbHNK1lMhVBnZKDS7NvZz1C/Lu9FaeZv85JmCvJLl9zdenMD\n",
       "qWleCdmuTTm1afKvfS7vzou8j7/BojP8esBnlDlMXBSiWFdm1ELB29thTlbt098q+dyQDOR8orKl\n",
       "UZnZX0LouBxOBHZvsmnah1rBHDQojZffcRCLoN/IrcjyCogYoffk8r23yZE1N6jZHUE29KM1Un79\n",
       "PcgMewch+D3Xr3pklR59jS4XML8qNVfP4WLiTCrNRVbj6N4CMfO7ImMqx2/q7NHR6Lnt7q7V5Ph0\n",
       "S1dUapeFWiXcTVw/+dWB8p7sOJmSkG4fwoUdho7Y+uCmVDJgKKiy0rFK6DRcXRWkjo4u/toV90ZN\n",
       "jvO0xTfLWy4Q9eg6W42DVIi3GYamY9zesOWiLaT0QXrbfDT2sw5A1aK1KnScMYMDii4L+RKSpTaS\n",
       "krWRgnzwgWgnQC5LL3cJ+zdRgveheLLs7eu9dVbOq/ZNgmBj3UkdKkQUak6IBwcOkjIfizgoH3P9\n",
       "0SpldsIUOIj9CRXW91ZgDe8wqLzkU7nw3K8FS7GCDr6fL6zp+/qpZ7p52BrqXvFU2A6W7EOLdGoN\n",
       "ThhB+9YxFx3MHHjFIzmi/9ZCayP8kf7cq4d2QOlmRUme3/HgmxfHxJrle+P86J7KpS9AKp2yPaLC\n",
       "c7m1dwUSP0rJUv5SA1H3pf66jvB8Dh08k+vSS/Y/Mbzt0bYnN7ZXUPt47ow4p01917w9Ju9SroQF\n",
       "hUu2qDGsmdS5J9eFmqK/CPloYauc/rVT+tjmhDZQU077k3C5HOnmTZYn+/3svakhXSrCheijwAn9\n",
       "EZNZBmFwLwpLRf+wMbtRnn3SYR8/pr5iqYAqZPUXTU8NV2LIOj4pKpfyqvdVoJpw6l3iDu5qh48V\n",
       "GoemZBMly3NIB0WbuK0h47Cxzb52+XijRk5Wuj5frrdRDd32iuXRdrkwb/vvw9pOSo38d9p115bV\n",
       "cx8Nd/t5N5F5PwnSoNep1a25X2wykMQTV3btS624wQdgGjWgkYhdnra2iwRBPE+X1/MsYC3crRND\n",
       "AXrheuPEe8T0MW7Z4gFY1mfjCOmSrBYa3f4Lban0vhZtBpcm/PdMah8xOcx4bXlNf/K047D8RVjF\n",
       "v91hK8bgRhEIPPKN2eyqLn2nZnK80DefCZmd5bPJ7dNIvuMy/rcxdMk5EvIc2aBTcaWAi+z/dy8g\n",
       "kawqhUxmLEbcEj/Z5PYq7MZxe7tZ/OJxsMwIvmr407TsqQzaI4bjbABbRkkumfrKZSiGB1xZzT8C\n",
       "PkWRNwGJKsxa9hHKIkRp8kPJVbtcEIWdqiP6qZdyfuKL4sTh9K3M1uPT2ajvGlexXKrj4bl2n6iZ\n",
       "/d1u4HbJJr/b62U+XSlYGxJHTlNO0M1xMdiL0tM2gM6IubdbQcSprSkjMjuH/r9bxpJIq3rYaghN\n",
       "8ceTwAztkaHV0KKM1ZL9mQtmSeNJiWaWFGRXMap1rHii5LJdCUMgQexl+Ctd3FmZgWBnVDDXxV/C\n",
       "i2OgE4xMR/Y3g+uG7FE4VEG7uEVuZvM9Jue+Iej5sa6WsgDZIbfaYeLyTXQsigvrItEcIyzDQIdK\n",
       "LNKyCj9CqQa8YuL327yWQrrRGRdNDgiXXsi5lXTfwT7Pn6brN/P+8nkXbn1GA8KqxBQZPPBDq1hd\n",
       "H83bLkC2SYNaAKR1YUM3Yz6/d3p/VvzkYagV46RbOp/h1vFEhg7FKOx9hR363WZrtv5ue0E26KG/\n",
       "835RaHXSlqbeEHMAefuWwbdY4eiR2vNYrRfh2XyJBXhhDm2PwFMmFlGEhFY3jL/hBQYHYZLK6LkA\n",
       "AAPNQZ+TRTRMM/8AX3mBzEW1ZMiOP/PqPaxboDlPARq2TtfFrkkU9R9tSAK0WFjHYJ3CI+Ci9O0Q\n",
       "Vgu0YxgeqR2cCaL/ZiZsMw0lxQynYziUI7qbkwlIDQpA/QmwR/M2UR9CBGT8DVNaHwk14Y+f3zTN\n",
       "t9M1ljnIhj1HeCO6gr8R5Z5G2Mp+tQgkxY0+4rCOdFQfezJvW3HOxyzyzxwUfWbfQQBiDl080eug\n",
       "jUJnXCgdOdI5u0+dLcjX/vZgqJRJ9nblU83ed4vKh2lSZYgG/xnokSGZWqdDuwbxhgzU2AetECmn\n",
       "8PWGjsCa41t4BpYtRqZK7rGDFp2cfYRXEHdy3TC9uQZUeg8qpzErlYzPZ2+1KF25ikmHSs/KvpOy\n",
       "Zw6p7We8aNpH8HZtB2n9gxX4rLUd55qTjx7RrNNGBx8i7LLeNyJMQg81NHaAO8YbVA1uLREHI7It\n",
       "FnAGEvsH2iUtHdH4/iFAIrVyikfLr1jDscpDmdqDcUvLFhGWSQnQ1P5RAd4tLVR6sU6uD+t43GID\n",
       "ZUeUcJD73ec9HcY2L0r09GGKmLj1Duhr/kk8eEgPdO+mDiezKy1Ano0iG/IE/N9ALrcN48HNkT6/\n",
       "xzJMIQdZDr5Hcru8d+kmsEVxKyJNjqMIfh4/VMQ1UwiPpBBVhJfqOzVu++D2CNC2tqlPS7gz66hN\n",
       "504RFD5cJUBRuXfhpYN6b2wZpz4UkGvY+IHWEDoXqdBFvu0Cmxu1+xaV47WnoPZveRRJqZWmD3z8\n",
       "M1CQ5e0U8yKTgtdXJ38Pu2WuVheEnZrIquT31xaLoqknatkd0SWsz7pEjgxGoXHVkG46VNEExhog\n",
       "3IjBMurDGz9+RtbSnZCfigdmsVOzlRVFUbRBlQ1aqOFhGS/glmVEaunWlZJmWZtE5IW1ifuDICme\n",
       "KFJLtdXk3KubxUuer8YBH3TojLdb3vQt4lcNMsYmWDDXJNdCSnYzpPYdP89Fy20xuwjw2H5G730z\n",
       "sJngJ3VVz/Om8ZWP4Z3ZRwnAMn4a25+f8uJihlHr6qULdOj0eRZzEYK5OALIBr/4Iq9Z/2BC5krZ\n",
       "9L7aPPMZlNQ2Q1MQTyskq5bRBPE/+e02PZUTjvfMKpWeBptwjDDEyGEHgkI9yHak+DP71eXs4IcP\n",
       "+EnooVWQ7Fjb4g9CPP1KA2DUZo0fvlfBSA6zyeb128AVj79+tD4Hi2It0MKTV0r4Y6HU5Er4mLfX\n",
       "6P//SjIj2pNrN9g4E0oqJfR8KJLkZNPJsiDJGbKEsKR/YEOeUNzljwVd/BeIpX8mAgOQk21uEDfq\n",
       "GaD5mMDjgAAAAmMBn7J0Qr8AsUpiKvnKM4/agmAHHleG92Wjtyl8wHfBkqmPJs6pCHJ1djfaGXV2\n",
       "pQ96ym6HgbaHQfz8fa6boj2UoW3QHhvRXoLghcZEqeq250ifLZPQiDNRBCoLY0G4ttndWRV8WDq8\n",
       "jq4fYtSBhLMQLDxaHQvjP5NJ2CCPjJ6Yjhi89m4w0hQpwoH/5u3DXcqzq5GFDX2WY1TzIF914UyC\n",
       "xZtNPrw2RzVpy9jFFd5Xg8BennHX+oylNzQZ9vLQcP1pasMxc5JYTNUmxmx+JsbBYiUksPrlqYBR\n",
       "QZsRBrhyW/QBlPRFCNuFgiO/lg3Wj7vtySvC482tNTH7QgUkCCZsLrI8O1HGL+p5kj/ZVAf30Vgu\n",
       "MEEetluLyTGxlrx+RfAoM84j/QG1o2IaDwntcwBX8aKve4bv1Miqhw3ampFKdrPcNJk5yqn7PVsD\n",
       "ZAn8BFt28Ke/U01LFnmMxaw5C/YqFq730zNfUIe7J6ZXI2B4K85vJ+w0kR4F0XyqWbu9u3yMCTRU\n",
       "zKrFSdLVy867oZvvDXelGP6x2oa0Qq3qwMYaftb2pCl/w8IJ/yG+t7msQp/7mxO5TPmqgiBQW7/2\n",
       "+jH+/nMv9YQQIPA7II5OXH17ubFpCJJECIBCAhlROOKIMc9n2EiANYcayWM+sck+86FHnonQOZB0\n",
       "02zkd2oGQQ+woxi3gfio+UDFKYuNFRC4J9VOJ0VKXznM7YI0U5HGVpsIpjZgCfabOAYUATxzwUAb\n",
       "Az0gzCwmS9D1q1xyRdIWb1NQbH8yTx0PBHWz17ZCaBfT4LgoBiw073jo4atxsAguSOoJ2AAAAjwB\n",
       "n7RqQr8AsXD6x9GLUkroCAEUqjlu5NhM3D6oRhlxGJpsJeVXRNFcbL2ZCQNJFODtVRzYscTJd7W/\n",
       "k+TRUctaZuSLN0MSCiCZuY45+qfBgYBCvxzJo7Myv/lil8c4RoOQwuK9OoGsZNqN8UqU+c0abt7a\n",
       "f5J0CWKQ8iFfeQ4yeFEObhRNPpIJGJowFuCCzUaLJvkFj+AQNXQrT2Z5ZVG+9Arpuo5ViOhBgXO+\n",
       "GaurA9ERsrm0diJEAstr5QTNOgLmTIxVL7V9Gey33MkLp/QOJBJmk48v3yO+wAr0tjSECk4hsUFj\n",
       "nbdcyGBoAvQmlV7+cRx0CWVSb0AZPcyTQ95sA47Zlo/ofanpIyFONqG7/FK5Uq1V+sn7ObLHvaPM\n",
       "Aa2qeWe86L0Mwirupjd1FZX12KEoDuYbtSLRJdSDtr9qPj3Q5jY0mVcU2OBVIFQWs4kkFLXDEkqw\n",
       "z2iJYwwwnb9JDw+nwre1doSXykn9NBoogHpAjD5bOtEHpe3TaELfMEpJOGgjO2sMImGmIFqL5RV9\n",
       "mNSCSuxavv/ebPj4lGyOfgOAKmVk/rS8UANWBKm71wcsMKaj5p3PxT65IcGhapRapkxmsrv49j3l\n",
       "wJagBs5/4GBFKkFHx2QJvuRawUgY4zIZKuhSST/hfRwfT0kD5UXa6D1AWiDezvm9N8Repvl2OvWN\n",
       "9TEWYRe+ppJ/bof6muYn6syI83FwXnnSNXmjyW12r9qsYycyGfr07+xld8ZRW1hhNGN73sMWpHi2\n",
       "gQAADChBm7lJqEFomUwIf//+qZYAaoGlrK08gA+w5PufJLfn62qZuc9vveV/sZRdo2KiO+geyVuL\n",
       "rmWahjDpoeD9eRGF9hkVpU+nb7jZ7TDLtpMiW0k91YDHu4tyVbKqPf4Xi5OeHELlVD8PSGGwl7oa\n",
       "M87oAiqYb0a3BZ6jio/YCdkpOt6POc3vmPEyen2QlwuEazm9KFdbw9cg1hkylr793rZIpH0K/h/S\n",
       "Z7mSD36/S7L+nkSe6EXZuVWMQGq/yxx7yMJLmcehbhOmn6c/D7HT+XGqenmtfUqnrYdsH28pGIIz\n",
       "qf1SkWmBvTExvAjkZ2SUSUi+eEWSqf1CghDbFnZE0jGxGruJRi36Bo7wsgxeqbgNftJ6wkrckoLG\n",
       "VPivQGFDVlqX/Ht5QoEqbPMGFhzro6i4B1vLve5vttJirywND2WXdlVSMVXTOsQGamCyCHofLSkG\n",
       "vpr8mvk4f5gcLHqduyg2hwHKcDrHrSjinFtqotWVKUI8MMo/79IMxAxrLCGGQjQOjTYJYt8X9Jex\n",
       "MxhY4p8f3IgpYPQ7G+g8FdRU9FZj/eNvW5Nz19vlWlNxuWB5OPOX3OEcZYmEwXIlHQ6f42AIew9w\n",
       "5Lcpko2nPRh5LLyYzLN7haQO0Njb9xGFOOIfkm+itcx1UhQdw6pMsb+JjYrY0B+ttxhVl3rOSKPr\n",
       "FQkYRWqlNbh626JQiTGfzqIO00DnVyLly6kSTHxlWIbvbsd+grgUsiRa/+HBfJETQ1fQhjW4dwtJ\n",
       "kJKAYkhEjYVe30WkAQZpmza5DfipOE3vcViFc+wl8IzC1heixeNR1Ncvr2V/ImjJFcwUOoz8Z2Bq\n",
       "Y4yeaoFYoSLpg0hbEi+ksnEcwKTq9yIrzwt5hjMaik6ibd9vrvWZnz67rgwNZYLbd+mama0WzGaZ\n",
       "Z+wgK3epmHiXt4izLUWQa46SG5Vklln7anV6K/UWjEnJ6qaqOzetKXe53BbkfKC6nL5scslCjjfw\n",
       "ZFxugy3nHkEI90DqIPN29ZOuTA4Fi/0vHcQT7oIGMErqdypkD8Zcg1g+uTfoRney3Be8TXOlQvI2\n",
       "b4BMIJbx7lNKqheu3NMKU/aXo4nbF1ZuUW65+MII2bN1ofBNow1T2Uuga26GlpAj1HXYXmqR9RLR\n",
       "HQoRkXc+CCqrAe/vysUljn6+s0M8x2mGXzYsou1KP5Aa6T9aeY4KNZ16fyDKp6fJb2YeaP/0Ufdt\n",
       "3dbbA4Cmw0pQjIXkNbG/VU9T7u9C4ETTsSsqr+u/2/h0ovCljPWvAv7HIKTylaR4I2O+m+3BdcL5\n",
       "A0cph+VAgpf132ns1ueD1BNgizo/SM05p+9G1maqO3/GU2yvXdz0vs2o3vtVcTYBpGlu/IHgEhJU\n",
       "Frgn/BYIX+5mLO9W1p3W3eUFUP2zyjQtD697nlEsECjMwoCqER1XxX6fdzWzOjB3fMlJ3IlaYsFM\n",
       "Ou5W55yp8zR4p7ymNfUde6to3sGyoMOiDEOdnfsGu/8PT6lsS+Ou245nF89En1pOwukV0Kbl7nwi\n",
       "UI4/QH/TxzukdqhcTPoJ9/KzVWu418mmYhtr02/2rLOYAFBeH2KyqzrvkkwVfHZHlgEDUnHRaXW5\n",
       "GZQS0HqW6cFdg8nERMnKPsHxzgpa/Ujtw5nhpxBaMZ1MdaRi1iRsJzu+q+4aIqrledZXKOwtUCvX\n",
       "HDXYWaQ7Fw1T7yEtbfA9ADaxd/3pc+5+tb3Y+aootLTDFedXRI4dGjXY+W/cWlZ9RvkO14tC52+H\n",
       "+udebHTpnLU1jRfJ+Q37H1OrKW7fQ/LwGNLVE53aEDuI8bBrCAadRm32pfTvHj6jM4H2XlfKBe0B\n",
       "K80ajZ8uW8MQh0J8QR1DF9wM75K25lwgTX96wLc7gbB2EivhROQtEsoyvqKhJWFjhSCUzotVcH7x\n",
       "XCj/3B4BJQKoSOu8+EaXMwniZ2JdcTp4t1ZxgrlpZPY14FCL+JgpJfmb6eB0Xdxao6eVmuYfTuPe\n",
       "QE9b5/7pSWI7NmvzSDyMVH/E2u8u/fmUJcgZsrUpDl4gDvrfODFpWB0Bj7/OkbclS8Z+9dbW09xR\n",
       "dLu8vBPyjDNazniXg+usc92d4o1j0bwWXOYt4bFlJ3FRh2y5odmpo5ZSr6m0D0Xmg72agPtndOTB\n",
       "jqfivx4bo0b+K473o/V3++8jIvM/PD648HdNMoXis5ihjTRYz0+OEXzuqRHv/vT4YI8M1PsRPRGL\n",
       "Sh45dvpOAI6RH5GX+KDw5+qVzcjvRScqEczE9ghOGXT2eQeoKfYJXHXb+CqOidjUnu6Vr/wZW0Zx\n",
       "rDfi98mfBLz6d1eUzdcHgDI99pShI+EsB2G1sjtcvFBhMxE8B7cc6UPXjT/nD9Z1asDTXW4rhiKP\n",
       "ioygRKDc5gyVdf6v6lr4cQj3yNfH7QdKVJY/d/kLGjrrZzf8K6zDPcX3gkHszQsbRTx05kk2S91o\n",
       "vSKpzTM1R8EMXI9whBKekPz8nOXGSSO7Il+L0jGn1SbXRUenelEY6XaFChPPYwMD0bjx/hwYb9X1\n",
       "bxq2oYaczplYGlpVVPZM9rokbNNgjgHALYbaLD33/pOnVkfEfL3+7ptGMkZrd363EKgjJ6M5D23I\n",
       "L17tM+prZcuwbx/kUwfc24LEnU84dej8rhoMFf77Ox7u4lU0TFprTRYpcCsX9OQki1nJzv7gHuIL\n",
       "pNGc1KjPyXbsUPgBXlW9TjDVG0LCCL58jWTMXbBJkqYNnef4MO9Msp3rwtec0Ye4VOUHUhi5UNQt\n",
       "hNGPBAWH9s43ubZer6VVLwaY2a4YjY87vcZBkBSe40FN9o1M50G1IGVgnclMdazQrBgpswhqkscj\n",
       "xlmcucAJicSWZmYgIb9nWaYCDTqZfQE+vQZ+++b9zkoJMLxqQDU93doE4cIFI6kY7gSjxsqAfk27\n",
       "ZuJxM6OJR6oUpft5zR0UxZksip96uCOO/+wE34OsilHP7sO5h+AzGDeDZUFhLKkvwQgqLhVTL6i5\n",
       "fA3RG11YS6M7cV6PEHABDSwiJltdWvVrCkVRIJdzLOjnOg9cMHz32e+Fbs2ljx/aYISkoJ0W/9Pm\n",
       "SlhOtSYOdO0Lwuh8YTeBCg2kb8wmn7yRYEcXEzCh7lb+9/OPWnxK52PWb09ehrNG2ljXXXhIcvcm\n",
       "Avjujh/Tg0I8U3f+rFqfAHCGS0KBvLhuj4qBiM/zxcIYomg6d3HqPPmFndcuXINFmAgzSEjgjJnj\n",
       "KsLZFoOABhVEy2HQmB+9fvhJ/gax0AJXhyGJftXqwzRoZcVvObwTv1MnzAUonANSJX5QRUAlMvmN\n",
       "4PsfPKmXQ+cy7Zs2ImrOQvKU5tMtbhG/g00fUPCF4NA6P7BtuBezSWswR0ZT6t8mHYVfIgIrbQAZ\n",
       "YJpQKcMPHDcWfbRfGvRpbM+0qY1D+4l/t0edaq6gz3TXVGptLEzSrxan3BtsIOh1qZrhqenQL/zx\n",
       "falh6bSkZ6q1gK9/TleSJyw5y/NcjjeM22OZWMP8KWP7MDM6RsD9HYro6Fq44Lk59UZqQVmDEIK5\n",
       "5Qs6w3lsgRFyDv7g3YNma0HW8TvQwdlE3GRySnoMgchb/tuOHeHdilyvz6AU9pdoWmh0cNAqJvZq\n",
       "4T9miuHLJXQeg35H17OUwoAa3dRBek3GHGnex4eUv+XdBMqiYrFy/Od57C3+HmC0KlIaAj+ewBLB\n",
       "yZBASo9E5pk2ADPPiG8hyfScrdDjQwQS/G1K2v9Qb6zOxRe9AaztJHXyfWz3DL9RsI4OuwUM5YY4\n",
       "pmWV3nDYl05h8QPMDuX4MWjq9frA2CThARc+zH9ybTOLOJ5HKNtRZa9+YxoYeKYIG1gQFLxuy6TS\n",
       "ybeGMXoP8hjExBcE1iZxgfchgDikA6LFC9LopnpeVr7V0ZSYEzIwk5N965OOwMS7af+ltE/rJw4A\n",
       "75RIAWBpho7PlQFDt5WvVUzejJ3b/ga7E17wbNqTaBfosk9qZgpTUE3UzIZdnYGj2ytAp5X/IFb1\n",
       "MnzB/oKoksLHr64hfTM+izA3dMKeF5Bon/mVpw220b+Xpn8uRZTHrakwLRyLB8oXXzc6lD8lJMfF\n",
       "xDRfWU52xMT+gt0Nmr6X+77JJi1ghvEfI52P8bp5Ntm6HKAa9hWOqfnaS7RL+WtT8aO1MkUAGFAe\n",
       "gFN4y6iCQf2P7c7ZAqKY6MZF8IcWxtlF/3x0AMGqIrk4SIdCenowAAAD1EGf10URLDP/AFv9a/r5\n",
       "QAsh8rEKGOW4xLAa0QD1NHrxYId0VZth7p3XP5n2asP+v83dqHyV0Afqk0+azr33TYXHZUsdNWCP\n",
       "h13pvOggX2a7+A5Q4OG8PwhW0mixkyoBClYUewcVMFCwbEBsEYRxZmZE9SlYIVhJxfwRaFyapREW\n",
       "/rYPODqFI1mlI3/gScwzIQEYyccJTCOZtqBE2bsucTr2o/RP53w7NtQkU6YLNf8xIHasrcFu/RKO\n",
       "Dt537ssji4PtD8xjafT9pZXYyYtERdKHdkba7LF6pIY7/+yyVODtG2sR0OrmzNAHopov82gH73FG\n",
       "mxBHf1nxYOsoX/LjMOjjBu8GXgkC4+61TBJZzEW9TnOL3Iz3Ebo7n8XndtgNPPyD4VBvJFcNEIXD\n",
       "VfZG5FvvdB23JnO2dO4yN7tog52nB2ooRMrQbyNYYW0w4+XeM9q+m78w0vhebaLOiAb+c0FKEz7M\n",
       "hEEnzdZ3QkSFoxc2cwJh/JB3GTW1DLyZQRZKaq53OJeWsZY+OizFrleBr3mKlAWSGbfPBra/dwBI\n",
       "KNboo2sQwDSfWz9/P+nv97RbasEZ/OrW2Rucs/ASp8NUVF6phY5HD1gdO3Cl0lFfZNoVZgaRbfLU\n",
       "AjxcX0VhUjaBhngW5C32XmSnLRFO4uzsCLEifOpkw5cUse2tq1b3YOnGU00aJzhjHbxy36PIGJdp\n",
       "/qC1org+XAXY5je5Bg6suq11tEDD/O893uUz0XgZQ3N18lctHztJsL3JBMCyYGkisUCqjcTyULty\n",
       "CVKaT923LitCUjv6Pe+/cSUirG7icPccdwbA73nhqVBRkOcMX6V9gjZqrghzxm8M80Zl0NIJPcuD\n",
       "ZzpHQ6sAr4+KEzCgO5ADgpiq8CQT7d9n1eOj3u4kd8ajHbgY7rie0CqssjhRDqctgUcovHxOiMGW\n",
       "g5KQcwT5mXTb0GemawAAqPrmoRXCQcxIUz6EarWtqtIMkP0vt6AoEj2KsWq/K2vaPgNNclqeBB+7\n",
       "6WRbqzr15zyXK9dYMHTYjrAgFQx20y+WtQR+c5G8447MV5OxWA7O28KIjvE9wMIPGFmhHsR1OLMT\n",
       "YKKpREAj2MIZzBB9XbL/pUnnWE5HMdJBa7yNI+G5RuzrmPXH8nJy8mDwyWpZfvv3wXBR/X4BWPgO\n",
       "hBaQHm+9rsq2rljLMVT6u49giwfpoTS4m6IJJa3pRgD6oMetg6DNoQafeARMYcc5sMQma6lR3rNL\n",
       "X+U+YTSgUbkLGFl9TTjLwkd7OL0iLgvWjh7IejFzWQZAo36RjQdH3sAvbkf3/gnBRIOWKzBnAAAC\n",
       "zAGf9nRCvwCoV7KfSOAINRWP8SXbV32EZN6ynV8zkfLzWzgUrPPCxbbxLt0F96tVBQqSB9dNsnub\n",
       "DSQlEPikMbTmRNmDONzbFTkivONi2KuNvgQMCIJPX8Sz24cYUedtiz2MtZXihoAbmCdxFEaetwjx\n",
       "BXh/j0FjuEbuO33j72ONLc/S0J7GyHGrxn1BG5T7y5JbdWv3pvh95EbIjnjgUWOiViygB3adlnaS\n",
       "np+wwhQ1GNT/s1MIcrGI1M6kOKBH99KNW2DlUkIu4rH3Abo1AN0gNl2uakCd5LLJBiCIueFmrNhr\n",
       "cwG0jXLAMyIlFhy3WVp+YsKkr06dHxfo58UoOtcSfS8madKzdEz8X9aSdtUgBHxEtqeX9kQA7I65\n",
       "NNgrbwx6LLOmgb+GcR4l0kD9xriZMWf5v3KjAGSisU3J3ds/RiPPQBRcMzYF13mKI/RuHLOsiu8J\n",
       "+xpkly+l1LK8/Tj6yTXgCqY2KhgueBU3UTNZJ7nZk8BP3cCCMemCvyMf+tEoV2ZK0tQTjqMkWXxf\n",
       "HoCLjebfrY11umNt42ncJBEqDwTUWaBnFHo8ClSPbLFc2RmaeTqWQIjf3bYIJn2RSuIWApKw23PV\n",
       "KP1juRGaJKPP427VN5H3Luw6tPKCvkSnQqWSaDdy8G1NRtpvPi+ygHqglq9q8K3aJ0aVsZ7Xsov1\n",
       "KW1uHgeM8+of+oZ9w2xxZMhljPh674IDLXxiR/07GuqcTohS/mslZHj8kTF3scqv0DJaQ0oSMVf6\n",
       "QI9KFsnebEikZZ6OPG30q52HNc0IdhcHerUt1bVR5/jJeJHz9Hq4V9JIirsygtO5ogJ47+Z6k1oL\n",
       "S3Ie2wI88dtmW7RNtPcYT7EoWGSFn1Q7qyA/hTbnoV8W53r6WCBOPxGlEEW/NuY9SBn3jtG9dQZV\n",
       "8zWqBB67/XKrIU0gjNFgNh6PiYcUjC6tCludP/JGqxmLAAADFwGf+GpCvwCoHxEELMT/CRomo+/8\n",
       "WCawweRuMs0h3mqAujfWAIl+97+bTIcLgRkMsLMBSudb0fOdfwiAGGha6udp6Ykd6GjVynFNoEzK\n",
       "NQZpRGPPiVnaHMDg7AWmstWXw4/ZtOEmR8SW3xarzQkg3eksV+AazDh5HIVsva6jQ2DbmW62NIAg\n",
       "dIQwMc9rnjj8lp2YHxG4JpH3n0jBAAJnk1wEG21zUhgD/byFc4vEwx6fZ6XDiLzPCZ/GeBAZ4wjE\n",
       "yVEYPYotzFQrD2NOPXvMLseKez4UkIJPAJ0y9hDYZzU9wzHa1z/kPxsG2+VK1+qou1uxHt4q0wR+\n",
       "k6xV3HhqyV4gxWsBKq7iPQeYrzJkfapb94WEnTekGg6lIBZ0KmDhs4+lHBnWeqLZaM8b8nIp8Doh\n",
       "VHnAm/oso0rZpH0z/P76DmA2x9oxi78+yAKOKGB7/YNn7Nn6CXKuIgT8qrIyA0xK212S1T7Z75wb\n",
       "sXpwjq5+8XCW//ui9FOg058E9L7jaeyBGg1Yoae6HOu6u2pn7O0c8mcVkkHVek3S07KENwgW897u\n",
       "3cZX2zURTmGpcgaPyLO/9BLyeJmeg7v+4gZBezzOLy4yIHVPa3lWJGteW088mpmwxi0rdTm77hi/\n",
       "1tnIiNBeeSCm+UHcevKpNYLpljztGoJ7E9JvlzraPhU9pZ5/iOCJcFg68uCOj+MXD6CgMy/T7zzK\n",
       "daF/e7V7lTINKSqwhHDAUUuLuLGtYk5u044woCTKVJ9/2u+pexBtrCcKfUvxgMbtZtENjY8iT9lK\n",
       "9rC+pnWsf/ZuXpqPjc4pcbt0CKqsMyyEd1axF9F+coBcnBK8BNRb/zPPR6mMenWh9Y1smO/2cnzO\n",
       "+ld8e52GfRVg8NIDH2pR3ykDd4T0ZNoOAvAvism/L3+A1Br5PW5wu2p8hbb3IcdodlbVnxivnagB\n",
       "FXnOfq1AKolegYXSokpnBT9qGwyqqNFqLfIsdDlhS14vkP9WrEUN3AYl6NEuwraOlRrPXskU34kD\n",
       "U9Nm9ouF1q/2zcQDVc0V1rexwhoOChhVyj8HKkz4AAAMb0Gb/UmoQWyZTAh3//6plgBqMjjswBW9\n",
       "oURpiaoOwriHBzaG5jJ3j375UfKj1bhIQRgOLH6H2hUn/65nfAZ4rHzLA4cvKkRt6gHoUqosdO3o\n",
       "+wyp6wZrS2lt5x98fWVASzNAXqlbR7WY/qvQUoxL3wFwF+OW7N/16RN0bjzc3XuIAjUgBYNGnmtq\n",
       "GX8rHaOkYXavoP4OTd+UuTcBeeXO8Pxv4sKSf0cS4C7Uer5OX9zCy/6SZgaFmIfna02rCwz/yhAI\n",
       "oAhYJlSBglTCClxtyWeGaAmKv/rEYrafhjxJo/h2obuDkRtQrqSbHnT/yDMhU9jXEIOa7geTyXYB\n",
       "eLQQpYqirOmUlollwvkr/iQUSqdm0srP5JdHFnstOoM5j+olXBObrwnDA9MEi04IcEhMng/sHi3y\n",
       "aZFEHDK26/OZZv490y8Ny9/AuT5QzqfxRstVCThwrzjlASzZXsIiIyXQOJiEuj7iRoP997GNdmls\n",
       "QRCvTKZxkyBLg2UFGnoTFCHw5kYulifsxs/VhUozejRW5aGxVS4o3qETJc1hkCWHb/CHTWf08X6M\n",
       "UUOznNnTGJo6G8I+3/pmWeRnSWcCmCng6oTJ2eQ7K2qzheim7O4dCUEpPhkYg2TEK3hqyw76Q8ca\n",
       "0pqYGAToaWP+SoZXSI6ksn2hopkiJRYX51JSfQdaRNSGPNkDlcmzWx8ImSneemQaKygTZQeEhGy9\n",
       "vTamjz7SY04hWCRZmx7Uz1DFuRxGRfVapBgpJ50kLgeCK1opHTRJ4gQv8Sk50pb/bCx5rneza9d5\n",
       "tJvsim2DF5i5GXfNUBrsUSpLEh27JoSiCA5HhMiEXMkxCU3y++5IOKRx+9nxFDa3kul2mDn35xuH\n",
       "o9/SC9jPl+Kq5kcU0GrOkSpXrToACRUJp6N73Q3AYl2OJvEnPQu76ZgCPXK7kPMXTzOF0miJGp9m\n",
       "aosiqXikACLt0bXlVKT6Wx3lyzHdTuM7po7rHuuP7cYVd2JUW6zbUZYsMyEszQDlRMFVzIpNunHG\n",
       "8gAy05J7B91cW+EKdgRMr+g/tDMlmKMFsv9jaVfHMQ7b4sMQijSWbnFhSOv9XcXtvA4OQtJw/uRc\n",
       "MjdQ8Goro5/2bLTvOXuk+WiBkgyYb+9tq2zgG0hTFrQlsIRvMR4V6/K6AqJ+GQzAVjo/zyeBof/V\n",
       "o03k0DnAJWX0M7zv2awGn+BAvOMSqhwhyrs9icvDGTA6y70yS6oCmmAWc1N1pc0S9pFsKLfSIMLy\n",
       "Ht40pcJ/QyJWOZF+ID2p5QPJsv5SzpnRdPvHAlOOPCUfaRuHXt8mFn6HHSzAzBdb6/YDHVBBxFqh\n",
       "e+4IQaUEe2/KVGFLy6PenATZcmunrOVjBUbvu3f+6E4ePvA3SzKz6RPd5gH5mqqZMXPRRGEbJUKZ\n",
       "UAtj3/bdaXb6NwarNS9R6EkfYyIL9oiCw6LYrMFN8WwBJKfAbOrmeadPVH1T8as1jA/ElL0sB8wN\n",
       "+X1M2I4voZky5eU7TQ0JcOp9DQvc2i/pnAJXvATDuY5zCUDCR+EHAHZ8lrlBjoNsKzME/Src5Elp\n",
       "o6ZGIRTGYAgc8JCBbRSOmKVkyybnQp4FxAYPRBkpbeUyaYlg/iRwRt2k1LF7c+VIKnySkE3IXeGQ\n",
       "3W4BHr/UA0MiWS9C+VRHhW4vbg875dyXQkAHCW1ea4yChuiAVb/5Jvb86nk82luamfBQRf3CXH/Q\n",
       "sAT1NW9Cu13vxqxplV9tmeuiEhHGlo90qngI+NoU/qBwwZ0BI8W82IgeYvfSSyL6iT9sr9C4+hLY\n",
       "r19vr/28a6xn3SBwZwp8qdrBg8df0M5BFTib0xIRx4wkloLS9vf71b0dXl8H1ftrdL5/TE/wjM7g\n",
       "+kSC63sqRmIJbKzWHBdnCaKp4LL2RV8H/t0j2Mh5XdF1gZnbpKJKmN68ex/Z+XU60aZMrwKdHvty\n",
       "jWAl7Z5GxArTRPBnIa4nDuYdhZjSKz/mE4PivRy7VlRNadDNnzzSEeRYzmOSZtGXPD1csu5SUagD\n",
       "tlAsjVx4mRVsZUDVixcBIf93XWyY7dlTHDeR2Dg7VRSjWkAfaO6+BtNE7cbyqxlwDySTEGuXz0Uj\n",
       "mJmmO6uzRTVEO0wz4nEV8AXQZEIzW9STwJoRIw7eH0dSTWXVj+IegAzudPv1xj2YjEZcGdagFmMA\n",
       "TMXNBfUM4XY54q8dXj9qf1S0at8WLVa5Ebyd3vpfFDtflti/JXvG5df4EoirTRP9Ddznuwq2RXFl\n",
       "TR9Ashgjm8zYtK3Oiu+1zFWJCq/Flb4SFnSWIlWefo6POeKgCtMh7yOHHk+ADck2FnNXO/l3oyRs\n",
       "1SjaTaKbwAdayCyE7H3vdFJmaOYfb28MlGn0NDINwC1j9HZatFIPBrIfgDM+D+OI02Krj2vyOh++\n",
       "IYK8V3TwAaSBdiZPsERU2cxHBqabhDhYwCdCGhax95ZpS59+ngRuIwDJbAPygTa07XAyoixfxEl2\n",
       "OzcYVh7J+9OYt8wwQfAwn4JisfYsr66EkLfjnOdGPR7E93v1nQ0p9LvQD30OVDSGLrumYMcO7uAN\n",
       "xkhnrpMtYMQ7tJZq65yaazCC7BR3ByWrBrcLazKBJzcqXD7INHyvINa+kfv+WxNHdbv+GmVrlQKN\n",
       "YnbX2sqotRG78qz9948r94bhLZXGP0lkQhxxs3cIohP4qPtKRlx9Swo4oaxpna7yNK5xXNCg07Lg\n",
       "yQD/YKhYGsocIetf6+0bkETdYwwPIxjjdEGwEbtUE4TRFLuaIduLWB7x0dPpPYfDr7LZ4bO3zetO\n",
       "N9jMulK3J3izTnp+pXJRu2Bfju3bchiczZMHvz9seEmz/5m+PoAuU54ZXw7ZxFgqngwPLXTk42LF\n",
       "BQjvLzgGkuzkT/vXPaMJScKtX3WJMvv9v6ormngt2i8B2MJ6/uWgCQCWX46V02+faZuwy0UzTiNL\n",
       "4xDfrhfrpGGiIQqnYjlE7QHRFZtHMb5WOBun2a0Gn2ZmK/PX0N+Mvx1QAby6m4vgs3Qj/fG4//BU\n",
       "ZvR4eN2oTad1RqAIGweZD6SKvmPI/G7ApKPewq2rW0Uy3JMsVwdVFqt75Q96DYmKBvAGRb063cWt\n",
       "cXvS3Fszu7Vsjr/9mcGeASdWKndvPzS3ftzk+JmXoSMb5V1Tgo+m8kg1vfqg90tALfGrNKaw0oZ3\n",
       "CNlHnrP1BMC07Zx3ETWCHQvti5gGoqyS1R/tkfSWXvlZoPAAP5RXmD2EjqTVhorup+d1I9Mze1K3\n",
       "O5B4fE+beQR57jJWy12zA2M7B+xJ1jF+NtkavHh5JgHeW+khXh6yvAynDrh/Nn66y7lEwpWnKOda\n",
       "XB8iAYGca4nGsOj0I5yHyjdrcqcWXYShXmib5aeLKdqkCGio4CamLV1C5tNL1pxTo51aZoTSRf2R\n",
       "1Jw2s4l1iUgFyiEelXrOVhoUrF5SfrXxkZ6me7XET/gaZL8ELV+0CkQzqelUjRuLwbsRCXsQuPpp\n",
       "LgLij/4EfBRhxHqebz8bS5sr/4xnS5xTAwhWCkm8of1UEnzku6vboZJOovnmEoAyTMeVQlB0f+Ke\n",
       "NjtayGfYN7wrWzVziFEo15TgSPK/f98e/1QhoS89+QBLhbZu8o/q0RYgZ71X/mygOUmPRTxnCICo\n",
       "ivceHUgzRkx2tcqTMlwhUd2OGyua3tGjTtbdteeU/WbzmrOhe7iJKqL32qfyN64gq0ed222MhVe/\n",
       "/5VxgqWPZEnzqt48kyf1wDKpOPOCGia/YL+sbevfaCp/Nr8LVizn+1TxN1tq7QziVv7x2Y3hAvv0\n",
       "b8MIKAGRpfFFr3bhYtbysGvWzZnLz1/0He13Ksk5JMtGKQgNtBxjhmz1KuEhBp0mZIz/+95QflbX\n",
       "GXBiAvafh5xPYlxL14D/q4vYxtYf/cE0GmdugP37o5qRUwq12F7IIsnXu5vBQgRJOJePCJyEGw7v\n",
       "T1f8ISUMmK+yWhKRi3e4K5RS9HfJKzOJqHqy2uI8znp0lDibe7AN25oxnZfkd+iV9nthbhBNQM+6\n",
       "NOyj8wFImFxeLEkifafLHeas/whgpD5lln18ta4CcrvlAQbAXmp+Un8qinctDTvaNF7+9zPE90ek\n",
       "qO8oWXC92ZQW9KRgIvVQ5zL5mt120ftHZ2lUi6GihpcVjN85AEjCux8XfZkly8wRLuAFzme3FKnq\n",
       "fe+aq37r7nuNWvPhpKwIysLNA/yqeFV8FeGAU1clkjjYxeFoUIwkpZvgwnAshhWospuH2mpte6Wf\n",
       "wdp8Ha75uMmUTmfndxWKY710bXPvRbN+QQAABaVBnhtFFSwz/wBdKaRdXj0AQ70DJagzck63H7SB\n",
       "ClWdNcByRJ6jpTZz8g1Z0SdgFuEF53yeEmDslEZmZ0bu494H9T40KAbOTNt0gUv78z3/kON+zNca\n",
       "mDyJBcwueJ/AUHcqUEd8fFANIO1G2fXT1ieSgTuvdtAKn0prNk5FYlJBF01Qx8XzF7qPiFPDSBeF\n",
       "5Ddsr2OR0VEM/qOSUkMufPUcGF0m8aM0JpzWN6MO4MmbKPkdLGw0pbuslYLcmxmYAZjrEjDN48vK\n",
       "zpZusWGLUoXKUh4WqLr/VLpmVNDl1WG/OOS6LUNcZe0oa0QlV9ZJrIi8DI4GmGsVgBXDqerPkX48\n",
       "4FFca/Fz6Uw/gYka3BuybVGQC3zCCV4pk5vneOg0Jhj+sRR8q7eMm5pSkNQWrSuFr88fUSJwQo95\n",
       "zpSMAgjtul3ZeC18kWCeOadRUYrD1OBSxl5v7QVZubI34OlbVpPIqurOfrCcuI2TC2PtqH+B18sA\n",
       "HBTffynpYWXut/azkhuAzSrlSwASoc4O/k4j4VyflhQb6J/ab0tnrWD3zlPptTMVnF+NaAkE+mDj\n",
       "62gja7yIq0HlGI1QrrcNUUKSNgCdl0j/uzevUFXWeoSvL0/OmVKzzM/2E4o7L9+LT7xlVrcVx+pc\n",
       "133QVm4xYxC485t0ibaZ6RekiMgddNQbQqa9nPSmNvtnxiSVaxx2P5Yv/sxFFADfUY5YA2W4yIRp\n",
       "g20J5gilVrDOAk3DaaP4QpcriQn/fTFmJUd9hjyUnXdKnKPbY25zOWYcyIDtupThAR9sec2Aq7/c\n",
       "T0lqK1i4sUGCJU8zi5dDJbRRaCUaxRGCzxvhtQy/VVI8OHrJs5lS3RqwxMg1f5p38YK99ijBhnF+\n",
       "RjOQaAfQCaewmav/j4BtZ/74GWluxOYFcj/oUw1hXCLNExh3u02bD8TZ5JRYPSzRurokQGSjqPpQ\n",
       "sEooItE9lsSdKg/Mlo6jjGrQYxTzY4trnTK7PzjH13QrhamNKSXBqhWsuNC+v3kxUsvvqD1F5lHw\n",
       "BlBYbVa7g/WPcaYYbbFoajMkRgnL+6xz8ZCkvFrEx/Ngk/bWwRVUzqY6NxmV5rYgxesZWXGOWBRk\n",
       "7rjjcMg7po7qwfTI1F/8qUyTrImKMgV44wrJxhaYxKX3OCxytdPk1ij/UnJ7XNVmiq2LtPH3AEIY\n",
       "qJTuSWXFclE2MdYFF2fYw1EgOXXd3619rasNGiPDzIIjkEIUYngxge3Wpy0lHZlxbIF45CTiMkaX\n",
       "S8NgE1EGGS+kgQBNdsHvMbvnhIbfYZwrjwEyAm2huzGSxLR1Xb9APC61MEMSlBcTOo3oZ5A3lrry\n",
       "52sMEeU/1WseZx06MYz0tvmpRAJsgmEaHXnIsU0u04TT5t2O+PVfWKXpZUcrB6xnKXVmhTSA15KF\n",
       "rglROzTV1rJGWuCBdQgyT8znhPZksff3+sS7iit5A0lycZ6WKvKCMNRi3N1JZZwSVtt/YTVyCp8r\n",
       "EbGHHYmm5hRDinlyOMW6aGP14BpeZZ2UZmjs3mfa7vI6Ybn5yeozDDYeioVfTgnchw0mIUWoDH9O\n",
       "CWQsu/89jtgsbSAheEgXoAxIbMAHK+Nsf5mGxFSiheyjMLCk2zXCgxfUm2EkJKCc1CMuTiUdNSkc\n",
       "8gqhXDVxzOb/NyUEmGlEFwBsFN0vEergdhXw3aNX70HknmI/m84MOLF9zKCoix31bBgWGeQQrtXB\n",
       "iom3KLfKTRGsZEZWAy/0jGzX2IobiFpGygfTzVTFBayLnyX3FEWf8CkymmsnHHkCawDnAlDuIJ/C\n",
       "BSo3GhEfCuSI3DmWZFRFIlfAlN+HQCcCQNQRKW3kVkcbNxSHnkHtxQSjHS3dmJr9VnmK3vI7mddw\n",
       "cEJBRngm8AJM18dcZEKgceEAXbLhnsDO98XVdhxFLXqL4Bd7tGcXWtN3c7dafFozTAAAAzwBnjp0\n",
       "Qr8AqF4LmM9a/Larnrutamc/XzxW8RhNOP7ED0JJcpgkEBPA2GL8KP/iGDHYPZ5uBABtRiw0MHul\n",
       "JnfvaifYddf5HifHHriVrYwCq8JIuJ1I/l0e+wKFOoYlPc76907HTFKXi++9XzBlIVyo957IPk/E\n",
       "d2QnEN/c3VD2SsLeeM1++GaWcUqRj2M2Xe1mcm/aQbL+5bGX/DGwd6k8BFqL00eD+nCgiRmQ3gxO\n",
       "6ltI3cBX4nZuRxhmwqbKQEVfy4hGrWJbO2UMb2gZk9iSlxvxkuuB0JkdNBGt2hN825Amon6boufw\n",
       "1gF85cI4XYYruU0TZtoq6ClQnTvuvMFCGdVXyEd8mrLC3sUn71rvNtLqs4yVAsMJh5PVEEdPvdMu\n",
       "UJqNXmG0MnMVYU5/r1dKu1Bp1jjC66GSxvejnOP814l1x8somU7jDbjgaq9rH/m8Pmt+yDuHufeh\n",
       "F9XiSh0ky4GWnAVEcKxgxem9oLwcJ+NWxxrWhjr397bFthvNrDwrM2rO6m8FIT+/ccZBOtHMU5Ff\n",
       "ElNRZvni9YmgniEju3Q2WXb/yNENxwnov2D23VXtZjNCMOIt/ViwCP26noQ7oW5LFHCo/nMidtQo\n",
       "9XW7PFtab/dDC/f+GqMpnIBNmh25NeotzfeLc4OH9PP8F7QaoeC0Ut3hTNQ46zZctxE4W1sRWxZ7\n",
       "qW2xHWcQYnVEL43h1fAFtSnOn5xgUzB4wojuoJKqnX3FHmOs0NSt2Ou21kXC+pop1Wix1Onu03sQ\n",
       "BOFeg2a6LV9uR09IsbqaHj/P6MX63k7V3VPyWnyQbZg98mZCU7J5YGZynLxjF9IVExjlN5wB9AaV\n",
       "adWGRx4L2MYDuCyiVEqUwhKAVr43OrUxzqXkoVbg86Te6Bc5X4UbeXnQDS8W1d8iQYlZQ/MpP+x9\n",
       "EdJPXBnM8dS626WOCCCGENzZbh8PS0D/amGpcjxV0fB/wVl3QMnXcSGyOzCU/zrJ2MN8vuq0J9JB\n",
       "2+II28NLnu2LliIjvzF3vsp6peFVprJvyaqyQCzX+yfZOKDs94iPeRnZchXmtZADiSOca6b4ZVW2\n",
       "qUYiK5NYsAjKAnBLgH9RaEU39kSv0ZewdFcAAAPmAZ48akK/AKgpQ0bPgAbEFZQo6bRrbcXn6vI7\n",
       "vd1Nc/cxwGXefCFOLuXOlVJ5UFLb55PjbO3if/d7L9NypGqoeiomk1rGQnNF6ZGhKpy2kR1qrb7r\n",
       "Z9w5Mkoq0nD2n6okxhPpXhOYWy5/uU3Baq1dyAYEmopRLBDfcHY++oMvEXY+DUypajm1Aqf5KWDZ\n",
       "g+yL8tfQQH9AhMbfCo5PtD6Nxf+VolZrPGAJMWclZ0oytQ6XXKzsmwCrGbhDYL4Fx5Zz1TbtE88a\n",
       "LWcj+bFSKPrbIdxsCwZmqjcS9INHYL6ydDS3/pghSQ/SUOIX471tmlIRb73J45cVgLrR98tQ4SFd\n",
       "6y1XRGpDke/iVbWTUyfDcJn6XgQefPwcQENR1rcZbQQEAdeQkXSS24aXiz9zLX0IZSEliZoBIIF0\n",
       "8ayZZib1GKgjxW/jtnNbYh27zd5XVJdUn4Tsh8ZUQwja3BFilI8oE2mGfw9iqXGji04A80SaY1f1\n",
       "TidORxqjlhZkLdVBw/Ljd1eevL3+BxQ622QAolz3VtdrL2xxYO8iaPTm5KzmzsRljm8HaRFJq1re\n",
       "UOxscDSDcc9ycBhiOiINbuvdpIx1TuOzBkFal9V8ZImqza92N0N2G+lA9TsfWQW9qskWfMJElY64\n",
       "tWG0ULIowbD3uowyHnmjx5L+Xp8GApWU5xm5n3IfG2cVh4w/3ceHAXx55kY3qBT9DWyWPG+tye0d\n",
       "cu5phJTyF4jT8nhGyz8YKS2CrVmavHfhQRUs6k2DiEkNIFqhe6Mf1DEWYF1WVtm6YmyufoebdqeT\n",
       "Mb9w4i5TCZjNLg7KSv/9P4qCo/YHD+gc53Trti2IjqcfAApJ+mVMMFI39Me3TN3pVP9PLvr8Dlpd\n",
       "D0aAAA02g0a2JV0ZZSh/pnB//olJZ1wdeyJuGY2f5mD/s9x+Z6SJza3Rl+j5y/bP17fX0BQXGwdR\n",
       "bMaiEo8RtvkkwwMTUwxiZbfgGqT/st110mw3Q0GejtR6omAA1RR0ZPjr7ZzuglZHm8vSlnjMLl5c\n",
       "cYvc0FhtXMQ/dZKFi+TDMrS6QRM5JJ5g+e9fYdBLBMFKzITp/qmrllbxUkrkiqiiNm10QM76HzsB\n",
       "hfSwfI1J2KkKax4u1eOx0ZkJUeRz0jLPDxGsvCe6sh1tVsWgssbl0FoaZCvfxeSZyN1mv+ARv/7j\n",
       "uFguwjeAe9vnrCJLkPZtJ40I+zsKMud2CL1jU6u/Yp8eSiouO9wDwin6TCemt3kJMuJn8iw44TUS\n",
       "t8jRFFl/wPLUgIdr5HwLrdLB4vMQUlk0O/OYl6cFVTdedNDgJmEdm60uhXtbFmvUEwJG/NiEw/OJ\n",
       "uBEAAAvkQZo/SahBbJlMFEw///6plgBso1UTe8kAIfHVdPZWX+kYIpvZuRksnnhGbbmXO0IBS0eg\n",
       "cddNiu8oHHdLtfTzkjWaLDZOJ/HvF0lfyb930mURNstOVx6gO9cxtg9kBG2yZhzKzED26KX8J+tQ\n",
       "yNXWsvvAp152A10bB2zT1AmHsy1pc6ADgSH0Y9bgU/1wpZ0Ci1tElrBR3dsW8SuFtAF+QE6hVXTc\n",
       "nWDc8wYW8bo/PPADq8T7HTY3r7gH9i+GhhTLl+Ijo5yo8Ai1wuzSLjWUc89F/AmmZnCX6JHFEAjp\n",
       "p27MdYdAJ9qQExdkR2+Kydk2SDMDAc2D+dKipREDAi0+ujCD1hqr5wEjFVrm5CFwyS/D7Dn/srDK\n",
       "KqzZrb9xELDnkjVCWccBPIm2Eg0akNUuzgSzXjhBAjmgSRo4dNs3iMARVFBLF5SYUBuYfGMhGaDU\n",
       "Zymx0CvBVaEGOUfs1IB2wmDPQS3fUFHr00STg9HgqIzk/gOTBacvYDruG/E+E8C42ZTaNkcMARuE\n",
       "iywc4TJNhme1w726LHzQm/Zt0tQjh6yOG48Ydu9AD9KlQ5yx0wYUz6j3fe3vMIWg98DEPeSqAaXO\n",
       "QaSUyNAhjOdxIM2ej9dMQLO75wI+2vnvd/gfBV6XUYeN99ynuKzD04vT+RDmJwdEo/OnT/Vd7+3u\n",
       "mjRFnUwz6bjOV/iAYoBq7ngXS79CVFSZylHevN0Ek9EsZUE+jUvywh97QS6H4wWeL99iCRz2wTDo\n",
       "ZfeYaNdvy+ZQp++eMXhcw4McgKQthVyl54ck+vEKMcT1Ww8vi+McrhMKsrK4S4BrNAGC+xfMnk4u\n",
       "sUkCSj5joISwzqbT45YAbyDaUh/lcnKjbokjPRNJhsd65GhgmB54fz34ujRC+pBm7XVCWLiuzz7a\n",
       "JyLEXGnIJYRoBpJN4atSz502CkGRN22D84+xeNfIT+wutdiIbQN4GWnVk26ZqnNvRUg9XqKaOKtB\n",
       "m+2Ys/1ogKj6sq3gSpi3TG/TaN5x9HzRLRpjimJvUGczVBvCwYt7PBxX6t2F1C/lkCYGX/kfMPCm\n",
       "yHu4VLAc9X54lJmGfkFeGhOZrW8m7M6QLTIDZhntdLf9oJGWMl4jiCIgfeY0buyxCsmTP9H6mVQ+\n",
       "wNCLp5gY434rsclpYFd0Kgs/ASNy9Mvo6gvrvpHVEQxuGqnndC82ehEIQkp3WEzR79QAODF/+iqF\n",
       "XJgC+lYzV0P9+o4gZXawT5RqldJxjShdFNeYQly7QPx50ke1Gpua1WFp03ey6c7MlWMfEQ7MGnr0\n",
       "tuFEmhCsfqJUJRlVT3yPDYi8936vAgww9IHOXx9yDU0c9Gv5hQe3zgcXRitcTLUDRO8sr4eXpDQ0\n",
       "H7xmJpEThUVjALSRL+OIvE5LxjkIGfow2bJ+zavUl2Xx+rb6fFSIpjDg0H25r1audesAkZNKnfQP\n",
       "07BHeCUJYPjeNK/H8UWOhVhlWDA9mE9opNouZTp1BoxSA/O5ukwaaOmsB5FM+hLgt/XbaCSWjGyL\n",
       "JTb54o6VIjTbdXL8/n6C+y45AlqxIz58sGD/cRPXY3w8qNjzMcMTeAsrvJU0aUU46NP9LSIX+Hfa\n",
       "3VmojRG6nHOfv5RlSKlxU3A+O/UH9U5qeV2AdtHdhkijdIA/vOGK+fixc6UTtyGQmhaaN7ocIv0V\n",
       "K2RAnNGvjoyuxZm2Yue/q7BlPPgRSmOOG7+b5taV8Oai0FojA+YVD02dALYONQ0m2E02+xEqeaU3\n",
       "QKOTgd099ctnBJmCUzxr3c/ZM34YKKU2/H/mfD4og0GOGeZuz0tsw68sSCBo8AK4p+pPtYbd1w6A\n",
       "D7lPUe0Xl7X3LRgMbF/k14N6BA+qHIoFOp6c5phF/saxnNIwMbLiS9x+8ycJWfv0aRGGz+04RseM\n",
       "mYTQgHllDYBdixKAJFpz/Njmd2OWltGckEoXxveQcQjm2Dk/wAGxax06V9nmMHE0xl9dbY14ZkeQ\n",
       "H4mwz0EBx4nKZqlYBIIt49UnQiQyV0Wdhs4RXtqXbzbH50tMB99aQbf06XFkm11faqJJ/xhjkn3n\n",
       "FDbKFlMGe5eDFnMOGUEskhcBBXyRM2s0O7kMRDNZ6o/1U4re8rU66quJr+gnP/ITkHEQvnrC+YQJ\n",
       "8wZnJTccCrjUSp4VeGo/IAOKZTIXkdQUD/Bt1D2I0XL8Cbd/70LS7Q/gTpT0zHYKlDhMT3TT7vRy\n",
       "GvEb3smdK+R4NgEkYKrOcg161rxwib7co5HkiFzCjNAv5y4I6gcf9CmS1nKaB4dTU8pa+/4rZsVh\n",
       "SUTpA1iNaKAU540eoabOQmmXJvoLWRQY2MS/Kayd1kxyzNsAXfXxNHebjyCwH/36mBFSl/unrbBh\n",
       "vVdhjwMj8anor7cKfyN9amcW/HbRXkbCbnJeG6zOqkYnsWgvf5Mb5+COCS32j46t0jDadWnt3PPo\n",
       "486cd9FUctbdVwLQPNgTsNjSUsajo7ysKvv1SPo6xUe9EvyrJemYxeEe5RyJA5Mkin3XbQz7zS3F\n",
       "MyrpNVyu8qEbWeeLZaCWTnzBcM02bivS/6BMgKSrHBRucovngBcuPmX6H/ZVs09AMiufXc5WMBqk\n",
       "uBh0FKOC+j2QsB1acQpO4O9PRtrPCabgPiqU8pwTDBb7QrJXRS55pJGxzgg6z+I+hRaIqODZGkU8\n",
       "xAoQn/h8puGzpa9jo6/yIHSRsLcvjZr+WiH1yqKr2t7RuR6kNYtEpbyfPS11mn7Z4hzbVk7XR62o\n",
       "zZCdnFbGUu8Lfqf4RcxKYWAgb321q7lnswae4keTPal9Lm20r7vktJe/+5TnFRTfS30nD7aRB8tF\n",
       "kbUnYrdm6QZq599MAykCsR0CYFQCftVg8ZBEaHYlAdmobmottyrycn0Uq2oyewXEnoCyP5Bx9qw4\n",
       "o89F2OLRl73M8gKZrmSnRDYFwdZvNFpRmRpXVDYW7kPfux54PS7uW2C2bOtODOz9JyhBlhw9MdCe\n",
       "85oaQI3npHoINZZjzzRcAEI8UL/QaG3x8WAbVergEEBjxXM92PVpKBNOGJU3WNvmkEbrEERjsbyI\n",
       "A4TURd3c1Ds5miE8kH1rurGbvzhyhnUmWgs/HAIFEA0yFpDNxdWoNlrvu1R2mJx3K7/iRTIIYPJL\n",
       "Pi8qMio19FwpSYJW7yu5RMgTqfsGPZwQP/tYGreosjoWOx3S9MXqpFLfDi6V9yisKJlUDCeYqAg3\n",
       "MtckmJRCubahBYqvbInGteNGNuiHVhNvPq3PcRhckKUOHormR017MVjwcyc9fRcMarhx5lpqp7wN\n",
       "s+rS9utzA28ILBGfyIeNZgedB97UBwmVHrylhrRqWZ7hnsHmMXFK8iZusIVL1z4Wg61qak//IyY7\n",
       "vVlrqyZHkwFKQGgUOADbp7ZhACsDQwid39EYeZ+/fqbQ63xovRdIquIemtvLp9QHw2bCfZhvpimZ\n",
       "7bOOyiGwTt78kwxFTYqcQb4o+9GgZiJixmdkmsq5zwA3DhNo0J9oO7mDiO2yNdhS70WcHeqw4gYf\n",
       "hIoENQjbfKLH72aBUvd9YQWS8BPTL+b/Caa/Tm36v7BVklulnG/wneDWhUTrCuAFMyxfbzsi9k/B\n",
       "5vrPArOWv3YS2xs/jafK9P6KQDUMlZ4jcCl3vDFHmwPvKflypufO6uw0prZJw2+C3FomjeqnPsEq\n",
       "Y6M4dfMP3V283t8R42T4cRd6Sz91TTG/J8GzbXIb3XvXw6QODt3Y4CsFYNf6Dv+xLlcxVydKkVDd\n",
       "RjnPmQB1W6dBQJAoLgaGTEDLrvlkSQKkY9B14heb3+SEnAXUPRLYSC3JBxBdwcp+Irt1uwKepV7Z\n",
       "woQaGMclEL6IXV2hEbSY9UvZt/at/VSLI2A4EKtbBsvOAnVJinLC5MQCc8F1Awl96P8JoFLj9ZVL\n",
       "n4liMaG0Dd+AMyCT/RwtKLzV63+dmwLIQqZP+jSJxSizMrAt9qXFNyOUd7n5uGLWtnKrnvNO1AaZ\n",
       "DQQXlKxWjRlvtYb6LGzrg13ZAQEQKJ+L8oDgqv/NYrIiXzQ0O9YaAtk8xGyAnaX1pFXhS6aTraTn\n",
       "yupC6bgPHnAnqzJg4eu31KqbXDusUQ/2aAv7hXwAAAO1AZ5eakK/AKy1rRMJ7VABv9dfT0V7fJFP\n",
       "MXYiz/XrgXmKLWLVgBywAlEQAPeuVybI2XQ7JMmAoImYNyvamdECBFvdg7D+hQC0scAIF3nUgi3H\n",
       "mit3MCnxegrxGXZ09O4FkRPyCTFxevPnsrGYdXYdmktbqNPazd4QJX5TPxuEf9YCTJeveTrIhAim\n",
       "l527CafGNxJfynhoeMbAqWBzYFvfIcsUCDcYawJJivnP6tWNsKIzm7E1BXwe+u5twJVt0hkA/Fk9\n",
       "VjwysjJFPuyVr2yMhdMQqNyZgW6f7uDMVyxP57eLkg3E79p5w1MFdddnZap9AAraWVV6Xas+slyc\n",
       "t1X/l6WQqaQLROhlc7y9k1yLxcSD46XnGyF56D8Wca6RGE5/6Vrl/U0NkjkXNtGOqPiaQt3dc+mW\n",
       "ldaKy2tcEGO/wHXIyM00oQ9TCzxCZoCruDqsuX/Ia40X1dsX5D5EFBWmltiDsDfUhaNM4DvotMCU\n",
       "qva2m6+6S4MXNcviV+ucS6z18Ad9JZ1F+bqbjNPUclEsdQ1sbm2rjauIZ2I7EIX7gWIK4KBALkDy\n",
       "m9YhwGObVjmKKTQhVzb+g2AI/h3f4zvoy0w9D8H6qOoO+V/kjOJySMtKhC1zYhGtJJvSQmrP+PCP\n",
       "Stu8MYWGE+YrdkqetpAeNRYrlGLK9jZGDXXeF3giKNtb3pkbfPrPNf0XFz9Lr744RjCyXOTIlNiZ\n",
       "GPNn22GoOmlzekRYUzfZ78W8wElPBL8K2NdcxFvdxR91BjTVwmzYO3EdG/+KU9FcYWF7xnASZLx9\n",
       "Sf/wF66Iow8WhME/y1ONMZxMK889eSjwt0+0uvKq6GvKbVIP1vCZe/7JwMiaDLEF1lXxOqgtuHVY\n",
       "SHoVSex00yI026SLjPrzwI5SQQSmlRyrEHIxsqLE0ZyzuA0iye7sgbdCq/Sa4+/KYYUdYzIEvi1F\n",
       "Cgqo0p51LRuDo4XBgps8NTA/eas79aT9AAfeK9VRARJpCdEg+e5PC8G8TwKrtEdyGG5GsUn7qKBM\n",
       "Wfy/sX0qsOsM5oKgdWHP2OaGwRF5HzPWV9/9RNM11QnsbwBJg8pq+3rugRchJrTMmsaXbl/iY62t\n",
       "2p06bKYccP4poq5b73ru3opnXqe15Y7Zau78DlGf+c+1oTvDzEsmzmF7UQPZk0UKZvot9ekL1Utf\n",
       "DYsYE7Ez5D2gTkLhLePWNNsTSlmqhQ8Xtt2K/MJXQ2bdKzexzRI9ICF5j0jVlyS/4x6NdOYZji/b\n",
       "Ixn88e9gvSpy3HQggAAACnpBmkNJ4QpSZTAh//6plgBsrmCJSOJpGEgAuc55t/nlUMDoPcqb1mfh\n",
       "moa/ZbbHooOxRnBss1KIiQHqJzc1EJbzrw7sWBKaRZPIoQhVruLQFLg0z+zZYGgRpyYM2Q5O/Nj/\n",
       "bV68NkbszJky3l7mmgb5FySW3rdUTF50H4MZIv4L4/Sbd6cIJfVkk9PCPBTOWjQayfOiv2EWsivq\n",
       "ITn9Ld3DE8LbQsJN9jRfN4qeJM5LSq2d/95K77jVPidD2WsedOpDKOuEPBSyFzN9wmBnocpprtxX\n",
       "WU563yq4h3KwKkbeYsxvwGauMn15NvIKzG9PSxiz72v0xHOgI7gJ76mGJRhhOOX4w82C55fVIddv\n",
       "Zt9g8Q7Lzb7JPh+4AfGw1axKLO0T+m2dN4uJjF++OZGISWiU09L7M55dagHybiTb/hrtlabtlC06\n",
       "Dbi22p5khtziPSu2D3ovt7ZzbobwcE40GxfGpw1vOuaTjovrwQVO1Xzw98mR7OWm+pHnFZXtQuZw\n",
       "acdkMKz3sP1VzxylVy9B+82M70NKD9zULOUiDF/7PENgewjuuOnBXWfolMpnunRy71z7YC98bS2i\n",
       "pSNn3dTkF+314j5LbGZAPstbQ7fx3gXohrWOKz0b5C2z2ofsQLXUUpR6OnOjBG5NCkBIL8YVv4Vx\n",
       "v0LStJlk79pxm5xwE+B2Fk1MA9/hDhBGwKvEAzwElQwyKm3UP3vLwGo/aRcfS9OBu9p4HuR4cQbL\n",
       "4f01N2kg4y0kzXcVyBOcJc1x7PXv3D56zrraolFNFm6V5ZECarfRsQgVrvFEimgw5+rTQZU78P7I\n",
       "TDoiM4aQaY4lgqu443DGZWE/f4rS8A+aWWkAi2neVhQugGO7zYGhCOhoTGTeQuhIBFFAYAfUodSn\n",
       "6jWqK8omfib3+X+X4H8ynQxS1+EwqzNiCeNjtIK4dfsrk3EBiO4thPWdnViiH2+I9t139cfHhZ9U\n",
       "/aeocmHdXwUHEbjjs7WvvFCeuP5G5A2yBB47u64naNXxoHhb1g+43J8g9X/mZOQazBbfAdES+OQM\n",
       "PhCAlEFflLXOZ74xyPYgpp5ZUspP/d+hESGZdaIzsPt6ZBhSUIy+xaWHopCv6so0e8soeL8SNCdc\n",
       "6A9b0qL4xC3maUPqjYTjDov/Diw1rvKMRDiBeBkZUOHxIjWieNU0HbORcYo6deseOdMTtzaiQuh0\n",
       "w+zLzBLiofo/1HEddfgR6+CGamGCqSkhGNS68MffxModymdpbSU/X60NlVU7awdDcejKpazZzX9K\n",
       "5oDVfG2vKCkL7GpfBTpBTyRzwX/jJbSXwQPq6ZiNI24euKf2+n18dkZUOwTVAmoQW1ctx3K0KToD\n",
       "Fqx1vyxYVwicUZnbsRkAi8iFp3Clj7ysvm4ZgMHxaG+Q6etSxneCTl94kM5FIo39ODG0fB9U+UFt\n",
       "PpuWt2a1TZ/xnmOMuEQ5ikuTKoki0h9wp/Y2Y4yChZxmiu4Z9Bag1ylbfPEEqlhyVIi0tmCAsQK0\n",
       "n7PsMi5wGIAPJoNBkM5Lrj4bgvhx6bPeAx2pBSXSpp3XBVuyapF16R9IyjaCqfxOb2ATxyW240GZ\n",
       "eNgXazN3rTGOo0CJq0YKvA1g2mAjPkJCZu3z7kI3mJFpZGrhYog7DWImjJHSL7P3VZBafkAC1Yqc\n",
       "nyd80qaF2zTQ+M8wSb7qi3KLXrs0hg6EQd75tf6/jtjpSk01/xTRW+deufKfVTCe3hMb6ldtaido\n",
       "EdkWDX04WuavhaK9QnI8NNqMOM+Fbt+QBG1MOkCkl1VT3DPopwvYbZkAsItoyzkPjTzEOVE1f6uX\n",
       "1/COjYQaCpaGzAPxbaaoKy76aHsQqKrIsTUJvWTkiCuRd4L24pjyjqWO7ABBQypCpyzPOa+z2DyG\n",
       "n12aMPTvVWiKKlzXRtpdtXosZyyaMwuzrV1+EmGQFzx210XTiko5hJ5bVdr18CoCOVf1MpcHmViL\n",
       "Quy5VdqNBpDW3ET1q1s82NYQFdbdE/7CxF1z+y6LmjQmp5+Zvq0JfpEglm68x59eAY8xopgfs3SD\n",
       "dG2dhBf1J8vS8fxEYFAeSHd6gydiioiMON0tAKCUgkJAjFtupvat91ys5yIGfQOAwm3LVzwob2Cy\n",
       "CrEYcNiW5CQ0d5PUPpIPcwO6X+/5+fr/rSKKMaNzshtMYKig35gu1Q5CIgcBf5ejsOtmiGGLwLu+\n",
       "pnL0vaJcpTXcQ8EKPVMpOHewTvEGjLt+zt/46+gwLbaNvJjo3i/DGCD347dJdD2auGSHLBh/ZqpI\n",
       "El5k84m0pFGhI0oMg6j+Wyd44N1/o6F1VdOKIKpg8ZY3siX+oCqFrg1dvIbEQhVpuEF5DHSNjH/u\n",
       "rmu5EQtkSn5RK0fqFrzB+wjhYNGl1EYDWpJ6QwVpd+R/CyrXQ3+PaLYqx5JQub3E/FUjl2q5AsYb\n",
       "vGKLzEZ8xVEfIRGl29e1WQQF+/NOCjR/juZI6WgYWnh3eBZOFbnF+L87fIejVvF5o3VB1oc5oznn\n",
       "Ff1V8T2GeZgwfo973fKhA5daEGxSCM2SBuZZjgYDe3M8Jd2riokNSo68UvE9nUfJdiB7gGQQkU0o\n",
       "8fXDlCP+8SVZIhx4onp01UCg56uxwzey/hywrCbmOHRtguKXavV+pxPPIzevMFJzcWw4whJdf8fV\n",
       "pth9CxsR4mRsLdQuEj9ayUxdMHFg0mg1dmnQCABJp4gx20LbNRkVD3zr6a7EfqeHS2Fid2mRfMF4\n",
       "cpbA25PMdu8Pf4AaqWuxqVqhAzmeRRt3hb4TbeajriYdbUU9NBnB6m7tGBeVo+8GSKElvhJ/yy5B\n",
       "zNXSGGUjAl3yWDacZS3GEzdPP8KOy3uqh9xFaL3i0jBlylWT/McDVwxNMf+x+T3PAR5rxXyICT1k\n",
       "fYTrJogKcuW3kIQerqPxxVYOW6g+t27LHkCY8dNEuGjhwIKqcfeSDNLZ4VUI6jk4u03CNP/FuvuP\n",
       "L+DlIuy3ur24/FXvlAd46AflgIhM0DpOIQtUYy0GUYcKVCyIuutclLENCniGodQnm9ZoGkbrwXkE\n",
       "9q+QKpwhfRovfEWu7uMv7X8j2WcXTDB4j+ZnpaqVLE8tLShwjqg/XwYIf/13AA2C7QwjdNdzPOtB\n",
       "Rd8CYGwZ1qcvZxd3iQRe9TLhP9D2Ct2W05wMROT2cagBtXC+ThUaDfSaw6JcQ0sOPp3KFQRtShI7\n",
       "Arag+5gtGPmODVPqTkWGSPfJv/U8XiGOjwDO970IGdlxYSRKeZMe8q1yw/16L9FRjQD8SWPEO+iu\n",
       "R+pLeHOhaYh/lIxyb9OUWl1FdUQjj/8llKn81adOXuovBFHRLsgnwmLpdW1b4UX0EDvKMDV/5RVF\n",
       "jNoUq5B8N5c0xsVVKivq6DaKtv/kK706aDFbHCiZTq09DDDyLRrtUUGIXERlBgoMBzQTnYD+Y3qu\n",
       "u3cqZdohspiljyyYoP0+D71fcXt1L3lECis7CFOzBqdHDvrEUDxln+UllW8L++pMP2LaOL6/2tBf\n",
       "o8WoASRyvSe7E8JZyjRoWbatnqpHfK1knOjImXsd6O1m0PaZj0qEb1MvD+hZHSDeyIywO721Kr7t\n",
       "5mIFoU+CBTsqBDwyVQkIZ98fQiMAAAOVQZ5hRTRMM/8AX41mtnyxAhGV6O7RSKCJg6TOVomAwV8a\n",
       "teYnMbRqukhZaKQjUzSAENPhH0XhYAWtN4fZvw71cDUOqbZgQq4haFoO0q1MVPMYgrPEyhQKc94X\n",
       "ewb0D8rhC8cusWxGRQfVF/lJ8OzsVy2ljI6jTu4VWBnaLSQ3CXPL1R+yInjCL1T4ndCC5++138xN\n",
       "Jfk1l14N7fAB4DXEmimnQY/wG9FY6VSPHN7RiEL6eEcuOzbLnIg7rhwiUwQcb6m387zKP/HNkyH0\n",
       "knr2TsSaZJIUXnJPfBdtXAWg8HcT2lS1vzEEtPenWz6LtWa9qT7Gk7wa2bsHRcmBDYEJPCnOUxlb\n",
       "rQRvmTaiTnRbHfquV2HEK/piiuIDAQzHnTu7XN7CRhHjpO8SBmn/5o+XtEwD133f5pyhEKdYio0f\n",
       "reSNg6LyiFwN69Wt2Aj+CfyXmYAdG2XgE7fPNxfQZbK3rzKZuMnGA2jXBVYuMCk4PybDOslGO87H\n",
       "HTll0+H4ArNI2KTuBp3y7Fds7zkGooM2+21jcdfAuk4HTAPt6KQ3l+LwVZS3IpGn6vuqH+V5zM9n\n",
       "Ux1p1teUgJnFE27EN6NPtgJhgE1FvRG0F/2BfVvEimJXVUPFrjeR16V5pdc/MDh+Zq+/YZWX6D/X\n",
       "cBfdFnUj8/uOA8pGmBpMcV8maYitI4heBuQKI23Hpr1R0RMjgHxA1JCYZGIQwk8bdW9uVVgYHCaW\n",
       "tXesWFYhgpAq+DEImVziDtJIHzq6wR9YUznpa8zooUGsFZs7cGXi7c7AWPO3WYTp2rIXKSUniVlf\n",
       "KaeilvEv6egHTfG/gFEOsuPpf59Jy/5H10/bNRHyO1vQVAg3jSqEr6W7iKpiEZIRFmn1ShbyNDPy\n",
       "40qqG/XmXbbLiVOdSdgtCekxkhk9thB4rhjCeRihdNg9GfQWxddHSCzdA9VSxDas+G0aOUVUHirO\n",
       "U/NraZwzS04gC95rgu0WQWKofg6oiblnjXOOvpDIk9/QIH5cvBk/UNUcs4/FGPn38d5mgiuq+1YY\n",
       "KeeDOG2m7HfyhxhCVeK7819RpX7PxTgOQmtya5KaM4MDHrVgz0sIxz/bETq++ipYFZ4cD9uW7coW\n",
       "ijp57T/30FRDT90ocg8/ZMglaxH9agi5UfzVCgk8uZX2JmNPGAIxsJiqpgpo6vF8wLKkxAjEaiIV\n",
       "q+lMy09qU8/iM4pZ7yYGbqdCJH9NJzriTv5Fm4AAAAMAAZ6AdEK/ALFKXqtHcICnJgBGQrCDghA/\n",
       "oOPuH8pxE45XAJSEZDn19voKKCBf2f74NGO7dWmKvAoLpL063324V3y/VHf90TI8QEwm09HCboSg\n",
       "3boiDV11/4k/ivRsbZoTcitWNqCzLBNh35zJy0lthUmMY4YzYWFMYTw3iXzeRthzDdz95uG7cHeo\n",
       "MUwO1nratBBxUsOkh5o0i72+kdP0ZnWad88Mp697FUUBx3pumZbG+rBcFXv1MH6PXkuUrQQvKf0i\n",
       "UEuFB/QndgwUCwLCorRTMOD8bIVUOnmn9Ffv0bxKQv2h6fFMikAgN0rQHf63wJBr4+YyM2lw18iL\n",
       "ZEN8J0uh+arlmspK9ReLasT6guNQ5jqSp3gbsPdAR6BuUkN1+w0WdAhKuX5Nx48miyOQkPosQb+5\n",
       "T+l0eoDen9OY32OvnIpIDTGjU5wNDkM53DiTdpQDSPjep+za7EebiVEsasYXefhVpKw1JOX/h6bO\n",
       "hQf8yeyqMIB5EetHD+RInuJkq5hHWfc3v9qGJUniYMvuAPpgmRsHdYcOa3OU0SNz8P1rg5I2sjBr\n",
       "Y5Rf/qo9/sw++S9fy1GtpWl894OaI2ckvIb6fyvKHSc+Y7EJRPQxChVlJpZEGSnJFJStEUI8U1Wq\n",
       "0Wk1iAk9rBabLAMpVHDuYOhOgAD0Qt88EzaGNZCq55mjy9JXTfnqmNCt45lmrp8AuLDlA93QpvFq\n",
       "jp3DnW63/aR6tHVq8eYcH/t+K9CuiUIDozJKxEP/HLFhI9PO+IlE9FED+7RERp4W+2flb2xA0CwA\n",
       "ub7wGgsU8+gDUXqRGWQyCOQmVvz8MUsWcVrIHIMYvni6RGtKVjmqOuiFp1/u2XyaB07zoQn5nmma\n",
       "KVXtGZBJYFr9gZ2f0zjkqgJnfwC/K/oAyp5d7FdtpUzu2b7TElqc259fwEvYzhO73YU+l5KChjq0\n",
       "+IaUc9qQSCkeOY3r06UnRMmyr2Wc3FTFjAXLPnSve+LTYwH8BULsb8Du2bn7pXZAlMcbH1KtXG7Y\n",
       "d2mZAAACAwGegmpCvwCxVbxWbtVGDDQBCcSHck1IfqFhuQZ3xrPoTrXL9PGQR51K6oSGYYtmK9mr\n",
       "EKVprWug2nyPP9aBbOOe0uoS4fKKQ0VpXqISi3rtAKO+QhcISF0Equpz2rG1yhTfJqth2VlDveFa\n",
       "Tz7CSZCR5ryWiPXSWLazyfgoDjC+6JKKxKB39idNEOX+rG09EwfUjBN4L+2d6TZr+41WysLEuiTL\n",
       "Oc83eomx/I1vpgrHxGV2TO8fYYvTum+d7fH0XbPEqBCxBJyk+6XAC1J2B6yRZp35P8Ot7zdJd6w3\n",
       "eyIXZRWmBLjaDq5PlI6KGM4YF0aGQIHVevYJw0Ier2xxM/dPWT3w1l/xWYwQA3fWXWirg9nFtc/Q\n",
       "PIjoqWzkk6pfIDLarMcZIySIApC8T//+0KSqDZBs8x76Cp4RUQXwtc/CKTDcxhVgcZYlKLF78we6\n",
       "OQHmmUlMsmHEzT8BwUaW++GK9l1/Y+mpjqTACjFSgjyu5eMvr+RtFiCXWQhqA5UJ5lI3rEwz3ZZd\n",
       "vf2ByPclwnLWXHddriF5Tfvj5iPJKrDl2qKSPRNX5NJA+zfnQM6/LmC1P6scsVnDoXQ7P6FgVhMv\n",
       "o30t4+lGO4N8qsuG5U3e3UX+JJhG2MfFU9m7mqQsUj8Ghl7bH8OS1uaT6KY7Xae3Wgxx6In1Tq+H\n",
       "V905q8ycwUfOAAAMHUGah0moQWiZTAh///6plgBqgaWso+wAW9h/3PYi893DT+wqLMyxttmFibkP\n",
       "/4JkbmLdd9Z0Jx1mB5ZzTtiRWiNZYi8QOQ00xwmBJdE2gAP5rs8Z9qvmp6Wz8UiVeji/t2cGEAvd\n",
       "GmyF+HKcOvhvKcQcWiEnh2mrKnlVsQWHQCaV8QERN5RhvIEBAunNUl9Xqf8u+Myx1oHzNICrPSgG\n",
       "3GyK5f1wSsDZUQwI9jOTopSKDA0EN0xTNHKfqTkzwr/yrDckEf966FcdlUWcfQazkpif3e3Uvfel\n",
       "J83vCDxhD7M2u0/5LtzkuemsiRg/Hfk17QJeZ8qubW0nj3srRAAegFAZd25m8edDvWutUJTRQntA\n",
       "dMSCAYKJbEwHURYzc6NnrHMqaZgcV6Prt9IUXu4zuIV+ydmQ3TticyBIiIAygyb8tjXaZ3w+UQMU\n",
       "AyfldDC+4R2EDCXtk58f2pSfsxrnDiwWcf5XbVo+qyMfNvROdRz4gu+88pfF+WTlEiNFf0/moxNE\n",
       "Hb2iRGIEwq1UC5U+8OhcC7rXyk2EO8y3oi2O811QjFN6yQ4IIzwNggty3qmnwakWA2UbRt+CgLgx\n",
       "7cvlCBQTi1H8GGDc7KpBwcjKBh/S6qQ9zOJCmS8gnPqImtV39OW1mm6v7N3hAALYBMyp+0vLsksZ\n",
       "1Fbxe32enLUBx85pIq/qkOKBrV4zi5BCP3SDdRdGBdUPaitIn4lp5nHjq3BtarsO+6UANHZFZ0RH\n",
       "7hoSdRojHrZrK4OPxOc5soXFX4APZ1G850mt7WTNy+thu8dMQAle4UrOX7soxmxbwzFvjdL8PZ98\n",
       "ZpWKnRlftoigPxHY7VI+oL5atOYK7LmJ/Y7hO1AxUV2eybNtCO1IBeTT0cSza+zdb7yf6H9jEzzX\n",
       "9ECr4q9WvzguMntDjTC6cZ+Z/YT6huLUZdVHlfWAkB3qDmGril/Rk06IgTl9TOXx/ZUlOsZMaE1J\n",
       "M4WMimzOJF22sMuGVQ4i4wWHFbFkLudshj/hDF0FSWQG6rJUQN44ZH7kjf4EZQNOlqdrRE5YG0lq\n",
       "5qa4iSLhmow0LNfNWRhPVI2hS1TxyH/whyw2Apw8omohmKjJ9bTB+5s1N8ulq+D4Ijy2mYaZ+/tR\n",
       "l+/V8PzQyQ0EEQoQs/LhF4dwmBwKt2SdzEn8EuEpyDi6jXjxiVGVlHzTaUCLJvjqbXgLYOKRmmTv\n",
       "8dcImIdZx2IBQquyltd6IwR8BFO5uY25X6TSx7UsOXQ4Nhex/D/3ncLJHJ7EaUZuO/Ph3c6OSeGR\n",
       "ELtpF9tL0uGURYyL56/7jWSr+RXUWNFvORQXy5M8X08WqXhBkVWRNPEpzD2ySlhMDttNkIO8MlIc\n",
       "rwFaajK3PD1dZ4zRXghnuDpBn1FXm+O8cekWT+0cZ8bBYETT1n5LGuc67dpqZxp67akCdn53HAc3\n",
       "7twtWn6HqS2LrbzloblUBOo6wXJAVF9KoUN0eFcElv7ZjJHkdAnYy2evX1tQxeuV7HQF0aK1XK39\n",
       "mLIcnRvXR/K/vlExP4kz3LDRU2W4oS7ejEs2F/anNkUDsZ/+lPqOMTkTLqnx1AbToDmikaNXfEIv\n",
       "4WMlBNTT7yPfyIyZ2pnotS8Dcw11Mmi5yKqEhpTOebP4RrmN675eC1w8n7T4ko6Av2zHJQavgDgs\n",
       "DQ/qTFrBBIZvm0pfvJeIWGxWYCWm5FNl0RiwlQqqM0e0UAHUs4I5y9d0e3H3DA5yamnpHXr4Yfta\n",
       "9O0nKyzWtACEN8KD7AcUS3sXjlH2DprH6tSKzpBk8EUkXnjmk+ROd1EqebkcEJfYWeG6WxBTLoe9\n",
       "KzYm1uLHAFe194abJxJgt6avNWOHY7THBaSkeuoHbk6e0C2uhgwM3bS8ppJc4RyPelHuaMN1Sbj1\n",
       "mXGNDnm9lY7KPCHEvzwy0xmf9mzGJ9kRdNuHTxDnR3KvgePJgtPXavIKyw8+Lv/OxKBJGxOSlZV5\n",
       "YZjnstR8jWY8/ZNKw9FcyLC+vr6vgNTCBKmgSx1pbAIzqpOdb3A75nOdHDN/cUW6CKJmJ3Y+7qcu\n",
       "V+HZjPkW3w1jjZccs7mOeltECw9d0BDm0f7vemUPWhP1OhQ6VAuvz7/GPoXOvrnBzp2+VoAsVM5r\n",
       "PUp13g02tvvPpa6gtbprnSrTA33PRq8MhB5Pw+3pNpC8hqpiVf/JDk6avE0zHzipM1F+d+jhaQ95\n",
       "I3/fA010ee3TJxy/PxSmvOb9wTe9rmuUpJDC3WTBqSicoJV1XwhUiUx24wAZiZocMbHha6uQ/W1F\n",
       "CPS91lH8STcXA+D3DzmeRmvsx2NWmJW7szprxpVh5XORlRruNzzWHxv3pjwCk48cDlXlAsqniGOl\n",
       "Dyp9++wuviL2xRuP8bHP1OwpfDOHq102OC2POjqrrMHLFmvIJtMY3ygfX8cSzvVz7g+GNE/54PR/\n",
       "oLeJMfhJC717DLp+fpYxf44zDHEZZ7Ys1xmIty4QRu5q58Z1YVP51cVdHk5NelmnrnZK0vnmb/LV\n",
       "e+YRJrYrgSvts3RmYgWEBu3xtMcg6hY148n4NNHwwX1kuHumt2Z1SS29f0URgPKgOiAD5F1AoF0E\n",
       "VL59toRg60Apox8GcGjJGaQASfznnLlnQmIiozJPuxvF/tQHpQHf5/2rgTtV4tZnGI2NIitd9OKF\n",
       "6aAuTfDrmdZJAx2SRS1BBzsLZVNFd0ZQXuemlB64eezgyaz51wV4KLPdK/kM/ThJarclQXDkama0\n",
       "7rVnmomuqgGPt64AO34ExVY9+OW48SxQyg4bJ0IYE9qD+hbM2cFsqCfnjC910E4m8TipCIjbP9BF\n",
       "6bT1x6Idw5H8yG4ETZK94sTN6xRkSR1B+A608vJjW5rw3sBfJhhSxIeEsrwKhKbq29iGjfu2qjbn\n",
       "wJfiNy6R3vKMwIN9EHOa91tRJWBUamclHiY61BctGUOuib9nXS5N/tTyzSfriPNm/NErEORxX8c1\n",
       "1ZRJ/nL47lmgu5/iY8IwtiCM27/YgVUNqQwHafU0hF5Y6NDMnyzTg365OEEePEzBOR9Mr9kKH8/h\n",
       "x7rpuRmQ0AwoFi6s1Zvk2yj5cpbxOHd7FLDi6C6e/3UxFlxQnLTC/aJRJRTWJ8bydq2xYz7PcwrU\n",
       "bHLxnTHO9jSVvRgKGEjQvcNrJ531ANBXGtxE/1/X2fa6fxi6SOb3wfV3Oyj0Cuc39RGy8H3+pSW2\n",
       "0MWfzpLlTlgnmX9xplWbvf8J46Prblr7t6HKJCufFCfny2gD8jUOQzG0YQwCxU4ZcX7Tot/NfhVy\n",
       "ZaH2z/xBZWnrGeQk0hbSSbpVZ0h/SUCDoR0GYTjAcSR3Yj3bK4NbRuQZdz6Ul+R7xzAFYeJOoQvh\n",
       "6A42fMZWqLLrKGekVFI0/JSlNKuvNHbABNg2gQrDx1i+BU5gZYmKz6nhwM7uvhILpHW135Auaqqw\n",
       "tLMiEdbO552N3JxQaAkO6M/93a4QH7N7U/0GMlFzCpgPGQo23IwuPLPcwgEYdoJ+rbdxFcfSSvGn\n",
       "aQnYzVrnB/1tIIH3Ntfoms2kcMLCelpOPGN2c/+0so99GGUrg11i8+z0A+RjWYEG93NS2OMiZnAk\n",
       "bNFBiPW8M/X2WGTXgk5U+aKI1ruBZMrtLhtj6fJv/DqfhRgiwPjKe+jqdzs3ynHSIajxR3EBTEux\n",
       "jY6aUMb/HgBnrm5Swx/5RzK9lrBTxUWMHprEo3W5stGl+Jk8KTFRI4MKBdJ3XQtuffbGqT4nB9AM\n",
       "WdAII5Fmov6py1nZzzPAe1Hi2mu1U4AY/4ccsOMBSUKwY6LpAjZg/lfkIePrnJm/3tDF2xIFCcAI\n",
       "gtrkXMBS/FE9X4mHQRhnM+fen2puD2sLHXv0aimC9ZKfAn/o2mv3BXU1zMbc3iY7xL1ELvlsO0HA\n",
       "O9lVKXOULnej3Ksh4aqWOMDY63ef88LwEjNWBy8BztW5RpWwsWSh2fciW5WNxzmaO2GuF7V7C888\n",
       "bHOblPrwIQUdt070qn5nuBoLwno2YPMHT/HgvIO8U5cIH9AwXI7K2dmp8v2egfcE293E/QbGZ9a/\n",
       "J1qvMCmbk8XWdl0FlBux/PkI0zSRXMp0gLxSGHb2e0/Pf11hABXDMqeaxurpd8boSZGHb+H0qdEd\n",
       "X3cCUIvkSOJtaPe6044RfsDTuTGGCSaAiJb8fKtU7iAyg2TBAAAEUkGepUURLDP/AFzzuFrgAC1u\n",
       "DmMnAmC2CdaTaT0QNdqrbHWhBveGhQXSr/6mZzd8CO9RfYh474rPAvvuU+/6qYAQ8M0NpPhi7RSJ\n",
       "Hi6LQ6exkcfdexM0H+lBLOoG7lyb5wqYE3oEuyeg8ly4CySWJ9v4AWgUfuvSPxRtzSjjgMCkVpeK\n",
       "PHcdLh8z5xqRdwH2Yj+dXc8rAybV+W3FBKmbSzCWiRTf8VoSLXSykmc2baQ6HBVpuu9wIvHvL6Lq\n",
       "76uCswwW7RY6zDCFLJJSNyKqQX+jTP36Wpt+ZE/B9WKXh2dveda6Fsj6VCXXqQ7GXVyljTm0naHN\n",
       "tYPpAJL6G9bAJKkqS75CYhtIET/9ejAaKX4flx7x/umR/MsEHEyATCvHDRSe7X2ptRyWmfvXaqXi\n",
       "iaHQtqTbVQWKWe4jD2VO/nLMotCPKQsEEem5Dkh6vrOrCSqoNYIZzdkFlAJFZ/or7vxec3wreRFl\n",
       "bO+bqKfeBqmVFrlwYKOELJ1YPSJ1wcM/5ZiDLc6r+TKmD2aq7eK106VfE5Nih9zkILVhPG/FQQcQ\n",
       "oNaCi7HLvxICzku1lk7n42P9ZuY39P4ARHMS2HIWadc9nHpL55r9OFf0JFq3WfXhmph2/vKOIFtb\n",
       "txfhAZqiVsBBgZsPxLkCmYqB7Qd2Q6Aj5VP0ZMd8csP5RILWceQ6TsB6rGjOe730Nv4ePWXvlD4K\n",
       "zUCSb3/RrPde1kXz1qvz9MfwYtssTPAYIkCQVTHANnifv9LkRpBFXIDhSeNYvqj54jeLi5Rj/KZ8\n",
       "YukFS0/gYQ0JPEAOb7H4bqacKGOOtvDp0tLWyopdqw1UTEQmlCISUNgg9u6PDsvgPJSWAxXqN4/N\n",
       "hpKHh2M5qhRvI46A5YIU0EjwX+vHfW5iUbhhbsqcZ5pmgzM98tbGKuyKIwGioaHRrgY+hrzh2XVQ\n",
       "GviZENgXTSdqjQSHWRCVf5l/PfCPaf9S7JistCgBz4SlNEuNw9RXi0LnW7zDKDYvK2uQUqDELa7H\n",
       "wORkphr/uuERLrmIN5lpl9ypXgfQCTCZCrkrvg4Wmo1EB+fIRTHsbu5CuVa75j12Lke6NU25BurI\n",
       "du7PLaAPVt6uxUW9OeET7AoGRe/CFn+CWIOdEwkk2a23xrz7smVwJdA/llFMBGXSiLWsosf7XbYm\n",
       "aqJjWp0FDTzd+YgUkUNaSm34kW75lMIXAwOVprNE0BwbPaieGnFJQsuDvfncIJ3q09lmBRqXP35j\n",
       "wpouME92cCN0+NYN0WngNOGA+Aamw24v4GsCuX3dH85yKjOB5Pv8KJ752U51LA71O2DUueonrzxG\n",
       "oyQWibf3hrovJ+pNRfdmZ9xu7j+HEp/Svs8kCEkkc5f8cl4UUrcTvbY8kxbWHtjaycF5pZq+DVZm\n",
       "n+j6YVFCYMsJPzH4SQ/ojDbxIFpRxjEbVjbrMvb+/vJWKvY/zHGRGKceqxhhwsxycUQg3lF+V78S\n",
       "ploQVkYFAAACogGexHRCvwCoWqEqz4AGxBWUKEtNbdtBHb7Q35a1d6CxyFssSEReHv/Hh7iHKtRd\n",
       "YI97N1A2LX5q48RsUi34iDh9i1bkoe1U45GRLeMMAhotuoqy4wviKX0ekn9HVLdsP/5kNngyJFPl\n",
       "x+EkCqVkfKf+X0shqaG/zhtuGCX0J4MFWt3XiSImS+HwDl88QQFD6W8sf8xt2rnKkVXLfmOc2hf8\n",
       "+vC921du99ebk7WC87ClpRXbDGZFcE3BROHIgXcoNeOJy6T3g6RD1PDCSbn6/oDLmuI/1a2ehuoI\n",
       "e5wohjDSTnUja8++Hr2yrGPlqXt8vfFh0C9TArs9jLWfckTqwCkSmKkr5q9vl9llVENcjg7YAbeY\n",
       "QB4Y/LjcC4MuujfpaNuYV/C14A4x4TK0SqWWqLDlmvNszmW5H0HKr3asoO7LUr5uXNzlBHkz6ubf\n",
       "oYsa831cOwXcKi7u3T45k8WoTORxnOenvoQHF1rC9lICqmqMKs/hEEwTBlCucNOPGz/Gr3/rQC+P\n",
       "SKqDHGHQV1OjonIfwWlaggLqQIgBJ5xki/2MIjrkGfUkjGAjI1wonwJd/FZqbX/lqlHNUcUYxBH0\n",
       "qNT5O+aYBvubRlGFvSIQu0T4fHeWg5fv96OB2JXI5DiN3wXrK3DGywlMauzV9aDUO+snhmQMYFsQ\n",
       "4fCrbbj0D0GKSzPiDkmJee2jWvPvAg+c3Sia2XrIhD3zGzF/m01GS0vf2UQEY9gAnNjOxfqFDOj2\n",
       "bUt/DPhwgji7M+OIN9C+CE3+f0b3fetO57ejTYKYtz5cOzK/78lFO+97s37vR/ep3cfsxmMIrGwm\n",
       "O9bb+s4zmCYPSQBTbp7TYelfTEo7gbzzZ7gBwgdep7VjyYPGs/2duvVcQY2a38Cd3WknS6/GwGzB\n",
       "AAADhwGexmpCvwCstEWsZUmV8IARjPlOvpO5HxV4lSjlIRHiXyeNuuoExKuGQ8awZeWEp+pzmoP+\n",
       "wBbPN0jrrfRgJVOCL4KvqixNyQmvSBiLp3yScdFebxTPngw9cnh2fwDkj5iH1Yz8B81T7mXkuet1\n",
       "YhZeBxg/4Q7q7k26/3wYBLl7ivmFpKPDs4U15uLTKKnjFIF9yzVoIgOLwQFVctSergFwhdjpsnmM\n",
       "XAVE/agf58boqsWqR1Ca9xXC06KrmlXv/4GXg5mR8MHbkM1PJVnm9eZix7Y4/j+JuPCc17JDnIz7\n",
       "NTpZPdOo53Ze8uQi8NveLCkvY678M08Yj28Yulbn3z3/qGQlFRIPC/EK2k94YO/K6j2ku8TORte0\n",
       "ILDrzXE1osHOVwzon1thC2Idnq3IeQRpnqGQ48L7XybTHBc25Fm+5AHtsp5t6g+jmFhPPTxzNm0I\n",
       "k7Y1224ELC/JF4B4FWsTcvCjjylhUS5hvBApgjZYNYPyNKCpDNho59Tiv/PkSjMDEUP5na5eX4mf\n",
       "N9AlfWOHFVgDcpt6mpy6ae2s4d1lM6LtPgZRgtlforV+oERomqO1ShVrHg6t+L1mqr96ovk3hX4Q\n",
       "3QuN/U2527U2JnecisxT7/Pe1gCcUb4kKP0g0Hh58hlOX1PGwUjJDDpFEU4h9AnFA4Vwt9dL/vzx\n",
       "SCe8UvTlgNAZADJ8k89VwaDi90pQDT/yrxuTwx2/qSvMv1K6hTinsW+Bfrf6B2IdD3gOMBX449u4\n",
       "94W7XBBP7C9ff5TjiWKRdcghR4dZeT1BJ06pdWvJ/61rv1LEfWzdhLiB0fUO4ZZcMvBiZ9oArqd7\n",
       "l7PrcC3b5ywXHNQbjOlNmVqTTdnzTrCbVwV0CGKot9F5LGciuXyt/ll6Hhsu4C1B+ftCAL4I6dkM\n",
       "I64e16KTvUxFT5joUPQcJglGWmUfcAzjsLJwwOD7DpK8gS9Mc4+Bza6cgdJbPOtZMfjSiOu9at4i\n",
       "tehk09XtFabrAJh/rxtk6eZhcIYgOpqGu5SDScAjKEcVhqJMVMtnfpESi+5Tpi/z9UHrxd2ExqTA\n",
       "yCNj/9Ueqc1u7NqVmAW+G7tPVlpC9QcBwtsZa1Fn4cKsSJDIh0nKVjjnRFlXCUtRJrvRys3T0mr+\n",
       "vGt9ZqXmWkeuuhACsui8CA1bNKvFAY5lJrnrzJHBL1KpgoA+8r5LFMfpJkF2ydV5LNMBvQAADBFB\n",
       "mstJqEFsmUwIf//+qZYAajHAryqHin0AKeJ+F5IUcN09JppP4RP7mSQ3GiaHsbVEzklPwO0GxCv0\n",
       "x28RbsnsILvM6PAKhdSI0/WoSbcFXRDSRZ2tROelfjpkG+MNRxksO0kjBMpahhM14jhVqyDmL6/q\n",
       "Iyeykf3L0Pb+1n0XtRhuuisSIfY/ks/5qUisENR+qlTWA+cpRuaUS4adhlDF/VdthTht6IExTOj7\n",
       "HL1GBOlpiEQWeWF6ltPwBUkf1yzhaZnod+98t+7uX46FXTaUaSdm1g6OM9rlNosDG6IskLjD2ql9\n",
       "k3NVsZc2/sqCECOrRqjSfpIrn/LwfAEjlhFFsBJwh4geQpi4BBZ4GtHbffDD69eQXLD2MX2T3fS/\n",
       "mbJ7XcEvn9JalUUjgNpG/N9cm44MmLkPkTBnBF+KfQ05k72Xu0PKNSnNy3HplZsl7vG1kpz/rLZu\n",
       "cExArQtDGMThv23DXk7NlZxvbO7qgO18hPQoVrNola6bbrwA6YVW19VBMvTe6AUdcPl33U9eyVHS\n",
       "CSVAIedW5ghjDCi8ssNsY6vGVNeTr40kzefyac4udQLiFYG6Wrcu4NP+dPpORFzjNOI+Qf1BEbYg\n",
       "7lIPpUpr19pC4j+X7i/5dnKyIbpSFBw6MQbfC2TlLo3pApffz4cNgJLhckDM1ooZTqI+hz7ZtOv1\n",
       "FIH8RV3oXcG9mW5ThdRJ5kVhJqmljnZ6YkBgj5y2NpSvHzB3x39hVpYwtVvGH+9hULZREUXzqTOV\n",
       "3Gbk6KcyqMhvajzHMTTTFSrv5wfYNWG3kXKnZGBAWk3Y6FYkSRDaNJM7XG1jurC6gANV1ZY7rf6I\n",
       "UDKZ5t/QM0sRgaHsR7Qmyo+VNZ2iiCpV8zV3ELXR1qmzgW/o9uFnTPOX8W0fEisBlwffwQkyv+88\n",
       "orRNu91Uu8Y4FKS2cn7S+T6lY/lObTJG13AjKOGLvGtDYTYySYUhcilYmUEwefrPCQCxqxP0xQ2X\n",
       "SN3Fpl35cdS3wgREiRr66KdHo5jx20FDVrlGBTJiSSfMVvHqmUSzETORyyK3u1nJTBgErBtTpBFd\n",
       "WdtxjAb6V98RJLte+vQnHLPNOLRRZulZ9VTM8wN5LxCJDDsAaf8H7ruS5G+fLghPoBlLiFi3A+yv\n",
       "HVY4GG/p62HUGWqqBQiKpa6i0dD4y1ipoUzs92O2sdRDQesCXfi7yAmrt1uhacizvJLcar0lQe3K\n",
       "19mIsQd2qleePDzDKU0vZHH0zGyitaSxqEgfWLzwoVTfHQsmXTiKoB/thhBbyrb0j+EOo8XWnqHx\n",
       "5tYItPa0p6v1L8SFhUMhyV1psFZhldB3pQqUgXGUykcbVepHa5jVBUKyJqpb42hVbzFXbrj8MLrf\n",
       "M0sIdcSyn+d8lyghtaxATOcuy2rQeEswEv6oMcH2ttmLoggxLUVEmf70AH2r2jf4bAnH/bZYCHKO\n",
       "oZbAFyQh8LgRNU0Rk5QwyJS3D+n7GwIgOZUJaT7IaGGVruc964ZK2DPX4YOcMcOpPFYqv5z56hCV\n",
       "RIXiCWeMWhv9KCygeoJOET7YylRPS+HgVsSA2EXqXu5tswcyhzAY5J5fwpOQYu3v33+SMTxMptCv\n",
       "hxZvlovO6IvF4nXVMzb3lkcR+qvLO2f3EBTkw797MAy6nnVL02LBy8zpDZMCRNzjYiYIGU9ZZ+Yl\n",
       "c1MpQFwXZIlHV4Ej4n/XLozC1CLt6vsO4I1eKK/J3zl6Zi6051OenNHKqUW1edYVWbng+602EejR\n",
       "uNRhNOZ9sM9oVIUHS04A70khpkqiBMkWjsnqtGvkyf9hR+F6IzfoP/5mjU1ibFBzQApjVvx/Rait\n",
       "iEC/TJtUS00geRJd9wQAJ/wEOJcblUYHZNVSAxcAtLCpzyxPVjjC+bEO7ZY85mNiy0vloLLQcToO\n",
       "ep+/jqOadbnR/wKWOukDbFH5/fTWzPUQ7hfAdp52+0m07sXN435HP7+IEmLbusv9gaoF2FG6zD7B\n",
       "xQMt3K/chg5JD+eLI22GtdGH2vFqBFWHp/6tcZbobEYxT88UVcWj5gEFqTVKGtVk3v20mczxAaaH\n",
       "nMFru4lp5/+PRMAQNsgV/ScNb/UVRn4u1vJ71fAlSuhN1XqQVVNWG/K6gG406iRlMRUOfXtTzRby\n",
       "88H2asGWIQYcOZ+QrPdv0AEbj4FuYwFTGjsTpseU8mzk5F0tKVIsNKZRBF9yOqppiQMXWSrqjDxZ\n",
       "xaXEjSyzFVMJmlIeJsx2+599GTSKwJwtWxFNc2+SlrCPQqlYe6TavhbyZDO+Nem4n5MCCB3COJ1q\n",
       "BJA9JtnYA+9SFr4dehuWUYhXTPdd1Ye1H5QEL5dmLl6a9aCNc3Goqhwpwo76Vpryj6he13tDVigo\n",
       "BNZvFF5Wj6JMjAMyJrzf5QVYeHuo2V0HxYnDeBUgf6Q2WtslnAIsphXtEeYexpKXI6QKJ2stlKfh\n",
       "MrcgjkLo3qFRj3pb1KfAchmpOkab3MDQ8sGktuf+OrI52NCInWNoqNBuclNC9m5beX897rbwDJjX\n",
       "ctHtNNKaij415vB4Bx2x/RAxSTsb0k4YIJoFmQg/jUHQThwOJv+opP1CC44k9/DQuY7Rkm7Keitj\n",
       "LeGxjW2Y9DE996xTVvaK62L0oelq7RigaE098IjQLNF0E8sM7zsq7NmKTmHFgq1Pu3vfRIjBJty6\n",
       "FDkNA84/lIOErh39D6tmuyTYvgPMik6fDwzv76/PSfC9PHkvt/nKXPuWn7ZSxIonS05xP2t9Ors5\n",
       "A8A1wu3NhfyT25sBC4rGXwx0egkAvTeUR09Lck6kYj4RlOGvd4dBWVc415vNPNFOI009HRdhetMK\n",
       "hg0odEAI3OkiyUTu03kgGtGNqnytXtJiNsBI3oYT1OfleCAHScJjiSr/GIcA8PC2mltN2yPmSvg8\n",
       "PKd7p0+nUybBoWbg+/q6Oi/50E8v85wyYy5FIjGDQl8sc6La2bWOClZPs3B/tCoc3vOhex2YvUcH\n",
       "WK1Y1Xb3ar79Hu4SUkxhL2dv2kdng/qb3LdYukSFR/Iof71ehR+YVj+ECMRlY1XAEUUeNmjwFMM+\n",
       "SOK6+z1iXtUKS98Un4FTCRe5aqFyt+VeAYefkAxGJeMswU+lbnByUftTYBF0BGGr0IgFoqyHc6c8\n",
       "ZvaTxYThJZXSq5EQDIRIMBs1lUUAWRrlTWvnYTgRVyyf9D/CC3qalGrJNmK83S4Q6XAFUj6kgfZs\n",
       "P24ap/cDbwLcpmK3+5cID3J0xzB+VIzScjqx4j3vA+i5O3gHckYJBiGC56JTek9jLG9yWJWfDPO6\n",
       "gMDMIHCQDLutL182SJkRSU1GPGTq8cSZ+TQz1nSYVKha0hRJ2cPitbYpm/XLk/PqDK1dSDC999fr\n",
       "aTOdOfAGo06i/w4bzdRFYd1iM/Z4+9KRKI33cVmhcTH6Po1lJ5SQCvo6U4O/Ni10na0Cjcuod4+2\n",
       "sPtmUEBfSGpwm1KQHT4jJsarI03o8lpZ4GGAUPOfMIgIEhy5mR4/MIx/5998bigesosrg8SJKPqD\n",
       "WtcviYfHhBrYOo53Ld+FRzWiQr9iME/QA7jyhXeHm2hB8ZGr3bSv/rOJ8zaCS81pxb/2Mv6r7EZe\n",
       "YRSHjLRH7e7FfX/C4+GMii2+RU0xfZ6hj1uxfwdKhs67VnVqjKNMUoNPT+zkGW3NEoAW9ONZJz35\n",
       "6u7VlgKvhYQqvIIbPKGge0DaWTe3OnhFr972z9+TqHM9+bn4ROeDCeVniQuiJ7XOyh8dSN7Szjn5\n",
       "hk14urW4DygnLSUM8oXWAIuw+Iy7f2hcyV2uFmey9E7UFb53oVxymWY3GYG4JLCp75+p2llHj+p3\n",
       "TFTRTrcsDUNBHerAVfYJ0h8/GFKHSCv5PZwhmr5hiX091MV59WIAUO1aVyEGGkJ/0oKJUyy4YZjR\n",
       "m9s0UWopCQ4gLEPYXnu62X9Not0ZvBrIbVeI73I65/Fy/ZJPYLSDOgOKtRGQrroAUzOu/0tzI+R2\n",
       "yA3upclkcqy+fs2g4Vf/C+rBAgoYxfY85mnTwN33GLgXNoF6FoN4uOlFJKAln8W4WvVusVE5L/pX\n",
       "+ONeUErNvIsbDJpCEQwzjqDOK4i4dVKzb5QGiGE+CjNdmj7Kg5Ygw3mp03W5ujWUeFjWvDFibWk5\n",
       "GDAUDsGEv+JITgAABQ9BnulFFSwz/wBc/4tlbFNuFvQA4mu0Q8+JCSkJD6BNrlxEa+tlKpsmqMle\n",
       "lj2LOcwu3iGflYeRnSK9Q/VzWa0D9VB5FFIy6O3IS02LN44jEseGBk3dyoyWyPfks+CcBjp7dOK5\n",
       "HHbc45gaDRWY/aaEZI8Z7iBEIsap3FB1uwZXoHpCjugvlDlckBwuxD5OXcTD55+DjQdXL/IklzwQ\n",
       "MW0l6GuWpkLNUWRpzUe4B1n2U0XWSOmshpioya+uUFZ3q7/H6pAgcuXmRvWG5OTapZPAbqgzl8N2\n",
       "vygSNtxvH3f71Tt2MxUIvV+Jsqa6DX+wujU0jIg2azAFKfAicDaRc+sKGjDuBoJnaGvFyqxWYTzs\n",
       "2cRLJZ18jO7rkfKz45+TRrSoYKL6LwolqZWGWkwzpTaPb6BemtdAcwFcR1s3oq76f82jFj79DBbs\n",
       "B7KjwDoyI3NRzNRPMDt1V6ZhgpOqLeO73KkGYz8QRYr+dgC1SOyqHdVnxm0u6s3rXtdJS3f4JIC0\n",
       "Qo4KwtuGf7pBZV0lCthNBUzG65H46EtsB9aEXyjcC9h65x42avF3MAJ/CRspGxQ/42UK9Gy/DGuD\n",
       "AlV5Amao17vtV8pmmY0X+cdp98eIalePv5HxMtTUm1+0edMIOtaqsAHnGW4X5c2xlqseKVYf8j2/\n",
       "67C5T/AJIzbMxuPNQUmoNo+ePolxQuGX01ngmVLk0auL1sLySGf3mfELonLbYqSCSLq48N/aJ+4m\n",
       "OfIqzRgjLo42ZF2IOJUoLYDs1N7EcN3VeoncGkacEnbqsvJB0qJzrtJdRQpGFiN0iKh6YEEtsV1y\n",
       "TginHo+sCt958GVLaCbZ0y96DLFOAjPqxNY1xwd+eMOqPM7bxikD8wQSY8mh1WYAIYxCoCLmM7+c\n",
       "6dA0xzPBveDCaxccndS9Vo7zim8p6uzXZMtrQDUTNfzC5tSD+ZTA0U5J9dyfkE9Nc9Qz4HgPrQ/I\n",
       "wT3iUE/IFv40uKMaIOm50Ea+kVYhyfvuy978mnuqVcGKvcWDPTGKK7/WbN0SDsdXzU7AhBBfH6L9\n",
       "pXPAWvXb7/+LJl80daKAslJ2Qs5+BwRjmJnk1vuq2r4kL1PBeCb6jHNAwMUAN5/do9YU3aByQgMr\n",
       "3YFy7343VM9xi03uxbNhpwdadZohab7GeyvTj7zgEtR/Zl84U/9ptJvwWowcVNY8Cxvf7NH54CBJ\n",
       "Ty3oEgHU7EPsT4NYkIZ4gbiPVQfqs/LnQJNpDx59KdatzO39Bq0kgbcm1Kt+03mQEW1L3CCnJlGd\n",
       "yzuvpeNZpT+nLZOl08L7ZXUCvagt5qcw0asuvyuG9YhfNi6PzKMvRBh95q0dh0ZSlHD+CKMGkZiX\n",
       "cC5hkH4eV7aqLkrue85FXTCmGTxjvvLBHVfaEdP4wAX3tAXj0pZCuxVVfErMi2ZRwMsrI9A4WlCL\n",
       "pAzo5Xmudt1MH0Itev/pp9r36g4y+zVniS+HftwddWQUAU4GpAuRMsd93ReWKCI8d0BoQ6PJhAfn\n",
       "Mkw4l0qYMsI7t38NdcWh+0Cfo5N4tKuDv+1DS2kwVN2oy6KPoCDLEwyNqBZhTlj2/H0Z+Y11lseN\n",
       "bMyBYfQp+ur9n+HB8NfsuucDNbe6nyZEVayvhUWAJekBUszc/JDnV9pnGKrdB7lpq8dm0e4NxSmX\n",
       "PAFFDsdqpR14TaYiY98WtkfY3qF+EaAlR3RyE95763ilikCzbE9w+Q78yuyK1JBwWJKLxh/70AAA\n",
       "A1QBnwh0Qr8ArOQeTokF/tTQk3dz4Gvkure1A4SM1sbh8fqtUNRjMmRIEN5qCYZfx/awD+1mUSJZ\n",
       "QyQFj0ebxcgA0arPXQMhP/PGWc0sIBmHd/DWVqcJG6uHr7KRItl2DHgfSgTJATCk6QRoMIO80F1n\n",
       "cDQPB0Bt4og8ntiEj6KI2vjyGIigfgAr0RqXWhEtvwVop/4TvoBXItKAWC8zXUwgpLyJrkBRlRce\n",
       "G0vgyh+aTQU57G/adwwiHPFMJq44IU7A5CXEgh/dNVY8Wj5A9kNcnkh2orMPXsydaee96DQZSYdw\n",
       "HEfK8WkUKvQzEE/0f5hWQ0csbW0ySLcM6lYAkvAa63PXzKLon5J/FwemMx+CLouLd4hrTb9TvgeI\n",
       "GI3bCoERMhZp88xEfzcbPoDoZM5MazkAHskPa4h08E61LRzuGDlRJHNWclL98g1FTi1qR0ZWxZq7\n",
       "1570tzlSIBSHe7VurURCTsGHEqyfva8ExDubYkdaj34+SvvalzcHNu7PK46dBRh4XFvXsHk7P62a\n",
       "uw7IwNFugTsGlUxNcWTs3W0udx8CpaJltWN+A3Bh0U3afEiN+qOFwiP3ltxZmUDtocU8iWAg3xcc\n",
       "sJB1UJNdpLW9alKKQN+w3a8L2NdY5Wo6Qqvp1z0zWATidQol3LqyYxJu7j+NCGFf6Wha4YusdVYy\n",
       "rgXsAtdFJAWfvwpaX+m1IC0js7F5M2zBPUM1taMdVVz/nf+/G0wj+OSUb19jwe2msOs/K10EMVMF\n",
       "VFqTvQeykmaRijv4zlVUhTXvZdAfwgZF8qu+mEVI0rCMyZS1Yc8Bes0DbDrVbOod2McGzx8cf84l\n",
       "xR+lGnvf46HT9V+O5EQYUrbI+kHzun73koA5yQpjRDNjVmguDGBei1ODq++oH2Db3OqlbuZyYcL7\n",
       "tMs/BHyYc4CLYV5iIdq7EWU8mev2fuemSItPa7bfOzUB2L9UAJHXCHGntxuvtQIXCHqwxrwhmvcG\n",
       "PbyKfFp7jTX+QnVlW55P8/MRvFuocNtEpihKdFjAozzsJfzsx7wOoTANxo8gzF8vwvqDgLuElLx5\n",
       "nnwpdUBJZRjTMQpt8HefpfmwHGJgInhqlfUf+UttVblYqVIaKVYbVHqJaiAxclv7N6dDi5MCeNkA\n",
       "AAMbAZ8KakK/AKhS11HqAgBBD0WA8edyC16M2XUBqPnenjqxvmkDiSDXwnr0bRfTWZcMiC9cR3gF\n",
       "pFOtLZ6kEB4OAmjftiFwWVwFeWRzbO+d/1oFJjSSTZnvk35V+eC35sZl7vqVqPpeV2cPsn6sBC5/\n",
       "Ct9HqkHjJ/z9qAb51AgvtvC19c2PvA0tj7GgEakMGjRPfp4S5Zd49pQxHZeeCotLSI4JjQjDlA2r\n",
       "ReZ28LjwJUJ6xVhTUlTJnZUxbT36o2dYDNjJxziVqebo9TT7oiakBl4Z5N+8EuVkGQyM/ONpB4dh\n",
       "g3yBdGYW88948gOzMi5E+2TvaoThDIXnDcqr+hENkuPkf0U6BNug9w23awh2Og2lbhG0KX+768i1\n",
       "OCQQM95I69dZ1QBGJFWd6XRFxwbl1b86vXS3tOljCuoZLyax/uNl8lXywftKEtGXwo9251jFVGUq\n",
       "qLRocDMX5bZzAkxujVxxXCTzlrYtKf5Aeyd5riMq+Whu1FAmIArXNoM/Lb2ZagvNtXrGqcQBqhaR\n",
       "ax4prxxAj+HvtjU3xOp2ahajRlggpE/vs5YUS8v6w78wcCvLvSWp2Wtr3NOOoVzEeQKTjlMF6a3u\n",
       "4z0FGBzgIe2+DTgOqpqAnjCCpEIjQ+1NujWkg+r+2WHDj2OkYH5tTXKs0U1x2e7CfKqp3KbrB95C\n",
       "w8wMImMmNLEsJI2KfFmTAuS6wrp7EDa7NDEq+xnqXjB558yRqG7LveMJVHhiakzapo3LPsm8rcfX\n",
       "kf5uANeuuTO2Fp1xuNSG7pMr+iufSzJPLYU+R6pyAjCdSKSnjBJYkd9+ZAYQV7Ekx6Y5yjPblBGx\n",
       "xti4Cu2MQA6ByG72M2kWBhY9UlxylKAH/+8a76u2EikQ6YfoN+haEbMkg+LH2JTEv25ZRjhYH4lX\n",
       "heQbNrtZWp9IeCM/ozHzcWhZrqZmNlp9cNac9uki1F+CNE0QI9Y7AtJeUXv0noMZtCV3BUklq/Ob\n",
       "96rICqGUGIU4Kvq79G5dBVUYnt8+fEUPf0njgjiUTgAVM8vC3H/tuWg4IZSo0bci2Dm9y/kWx6WA\n",
       "AAALNEGbDkmoQWyZTAh///6plgBsoplCo5VlPeAGpxgOCNDs+3CAU+LG//uqdo0ccD1A/b72/DfM\n",
       "I3VxkSzRMgNyj/xCR4e0zf1SGPciTerQFUFwnubdOlbI4wODRonYpX7nWAINXsWz/+Kw1jUfvxON\n",
       "Chtuf/qXHUwsU+ESyFnRax3Itfb51fHVnCtQrY+GjrxogKGeS8DHeLoM/RQ8FYWBU2OoJaeKm0ME\n",
       "gtlWBx1dlMV3LV7yIQGaws/PTwAdYUKrlE2WvplrinFgx/eBy+Elp2bUB9Sh4A1qykatZfpGDHXf\n",
       "Z3KgYvHy4/O6IPP59RPukgCTCv47rTUo1nvLVQDYeKxCh/lr9tC5Gcg9LXV4Of0r55mvgqCHVtZI\n",
       "Td/8SOT1wi4Ob+z5fxPDD+nobw3hvY/fQj9VT5xnXcWA6AhJ6P8fBMBXan17MZM2vNDIS9kYD0xT\n",
       "A3Q7Y/sy04lewdMHKUY9Y5ZeextjwNd8c1wLRUCL61VRdivNswAw0X7FHr9yoIn8C4kxRdaiNj3j\n",
       "MOXPGKYUieEz1EBXSzZmwo+QmxiWkEIdl5uC4I8sv/OK0dgcmrE7SdEZtwm3YM3OMhqJw/puVhFx\n",
       "TmLg9xjzFe6aAJgoGov8ivy1a/Q5gRac+ptwG/JJkajYdMPNMZllvpEWTArsE/tea663IH7ZZjND\n",
       "0Ml2f/qsvqExwWzUZdh/HWCNpn+W5z8QNp019CSlODUcvoCb3oTIQasIuXGTgagCHctaGhhb7EjS\n",
       "1kSU7xq3EeW6ZF5NVxudoNOSpWRO9KJMcvmeniCrjXJ6YfaTiECXiZx6Vw1ljqBtk/V4/Pcqg2wS\n",
       "/H46HxkxzayZZmc53U+osz0NhpOO0GKD04if5ErDNxisGAQWxg7U6clWaC/g3TZ6fMv2jKjqJwDD\n",
       "dnN+QaAxwpHyUlI2qrF+tThH1vzbdVUpdZMI7GUo6n4f23Nz4zHi78pScvPwwB1LW+cK9phUduqZ\n",
       "V80rdFZpgAC8UdyKplinrbRL5aldB91LgWzHXAEQcfVPcF7PuvOagAwzXpycL9sE/ufh3s4gfRw9\n",
       "tJkdHRBo4t091OY1bKXiOEI2Y9vbjOfMuJt68UcCe6lreWQ4JU8V3OEW+oUqe5YageLujzHGHDqW\n",
       "49uhbL0ByYYCDuHHL5iWqlj/whP+d+51dSSpVnQEF6YtGdoGGXlN+4zfnYMAfULTo0l1U773OI3y\n",
       "HXMbKRMiUBsiaKXqw/B69kydZg3JjHBQPR+H25HQMxGJ220PashkYvSS5w/pxQr7VX7jsH5mLWRP\n",
       "+sQlp9aHDJhjz1Z0Q48X9ecZIHtm9zxqve+f+TQ8yHiczaeROw7NGosX13Xfe9zxn7+z9im8d2Ow\n",
       "JvawEOvns+n+hxQ8276M+py+eDdN/lgDk9qJYn7Q+crP5BxAtWTmlrbT7dmTLcZCQli2bIMCQkvg\n",
       "aIwCgLqj3z+Cmys682wcMFrxziHNEk8q6hpUxk3/6Ul6ORUByoj/i6SR11xiptXUaNZIyrwM89t5\n",
       "wtokLwydF+MUDQFA1tgxaeipzB29P6qhvc2SHkCKiSu7OA50J8dnuvqFVJ7uginoLXFr9kaIFqCt\n",
       "KZnUOsofU4eqXQGbWmsn1TjpakWxKNomXjteR+GHjRqEtdZSKYveUa1uAfcInyb39BNtuzmcwHPQ\n",
       "wq7F50lPgtAQyBv2H27apBOSl/o5dW/Y8uUVZ2w/VobFCES1GIi2Ur6fN7cP8Jf2IobuzG7p7uxD\n",
       "+D1yN4A09l9NM5QyFh8dDsTH/c1Bjgixfz9rcTB5CUy75QCemqDUzQs9bLsMrdRp2lOcH4PhapcL\n",
       "cTcvSN+qLOu/UUS+Oz2PP0e2djtieCgVQ1vxbAD4a1hzo2UDeET6FQxsA1Byj3G7SvPRkaS+YZ3A\n",
       "r4p3Ar1cWypIbvHx+a3SM5GbAAM+QtZvjtG4YeW82VpNbwuwuF80soyxw0Eryv4+ovW2lyf745a4\n",
       "Csx57rTiuH6oOPHxcbthlPl5o8qTeYId4M0acgVkQvUTYIHB3q6DEKfRQuPNS60FdHCo9LggCP1A\n",
       "nRY6kzTjzmwSjdTdI6y0e9njCpbFkMftEHAiM5WT7bAI4Op+3ul93tmHYY0+FjwcwAYPf4OLHTHt\n",
       "eQhkL/lvGQu1WM/jSqHVT2ssZlGBam7hDD1jUaCy9HOzuwDNZ28thTp334h5pwWr8vVlBPSrNBsy\n",
       "hIjkasjJP4N7AtFmMIiFClMvYVOMvQrVfER/YhnBBdLAQoeWq3hgyl4M+ZakdSTos9LPmAHPM4Yi\n",
       "0d7Yqi0RKlanjVFQgkN+fLBy1xiueJJMPu9As2aR1d8oILNAH6CKBL8HaXFDfnK5MxJAhygentxO\n",
       "JczciM/o8QlGejPXBgtDoXmgVmScTVQ3isQkmnhHfambKN4k7D8Rm0iL0LykDqrweoss80WKNoQU\n",
       "FYX8DBc4P+Elur/yxxqtwjGylRjjgXDKeRc01AeK0t2tUPCbz4NRzwgbia/65PGmrJDgwJg5z7eU\n",
       "aiom8MjfI/i9X2Lm6aKIUJb7tQFGbO0oB82Pu319txl/n/PNMgXEx8IeR1SB49g7zM3fKVttuvGR\n",
       "Dt4k0faCUcC3kzUPqZ5Am1YVeZ6frq9Nx5oWVW9zOUJ8z3ZjeOnz8Bg1bNVMXxp9H35zCuOP2W0s\n",
       "XQJRJIbr0pGxtyV6vrtAFB6BG1377YmKuLXAVg+oJRhA+8tbXusPnONKBhtWCAbNSUexsx39B8ha\n",
       "yYPCEVYnppM4bfqP8PI/3h4f8/pdX+rXso1ETB8G+lB4jU0x2M23Jd0sqaXuBAaezuTBH67cglxa\n",
       "XMGSWI00zTJvEnHLyvBtp3g+LJSG9VvE/BQW2UZ6YQQez9GBNONETE5OgePH1cd0/x++f4W1TPfL\n",
       "azTz4c/479+TWjo4aS3fQa1dr5gsbfRckOo85En9KNCnRrn5Ogr3AoU4tP3RwMOZu5inhlmxdSZk\n",
       "ygRchZ2mkeZrSKpJIJffFhrTo6oorng7mzUuHhha9i/6zbhlO6RPyvsLjzVF2+uACEXXdyWK8anq\n",
       "JcoYhvAwVE/K7GShcI5RQ6/aZBkBRGPnur7LV40SduRg7sawTUFzYHUFWXF9JL1A/pArIyZqwNJz\n",
       "1B26WD+5vlpIidEXaBTcmGYOhnaEkPcCWDzWfvRA+mUOzNG8UA4SC+uVU4z8ZnefzMn4Gx+rQU5C\n",
       "6r+IiNIdDYr7+Bs8yFsNnLQ9tIy4+y9v6DPvnOr2ulGFoGl7VmnHsHXvhSEHXpwL3IchM+xw6diC\n",
       "g7IdInBvK1EvlJ7XhqgGF+tLwXGzaVG7jcDE1M0pKMXdw30wgGggX2iExD4QiI2p4OSixHEAAxE3\n",
       "egnCAfrTVnznX2nW9cvnS+7X3f+3WHNN7zlz0P09Ni0J/35HxRBUIiZMaAXDovrf/tQ3hsBCsqix\n",
       "cBrLfFHEEMlpkA55sO1GwqCSCW2t7k4xEe5ZJOPHRvzRCq0hTFFhk3EqAJlFcTfpuUaD0F/N4PD5\n",
       "n7rJg82vdE6dfmgNiDUvRXUBYU3YHXZ6CF+js1qSo9fuD9qdVV0mfgJu+89Ybp/wz9OmZQr20HAZ\n",
       "w/wi+TZre0xHz+URh2u+8db2Uj6wAqERs4RLqcck/ilCcC0NKcdiovQgLQT4zoejUko3fVsK5TuJ\n",
       "cd4DSGkSqdGhxh3pzwkz6KBI03W4m4kC7vqZMX90VeMbJsbfCRoryMg8l/ZGA77cUVWkfVuCWR51\n",
       "Ms9lR5eB+9ov4LAIAE5nyKQLusrV1CpEJ7Z5CyaIMLG3AgGMSsmiq7Ef3ZW+ovEe6SFVqXQ5Efn3\n",
       "uWO503P0xGFD7cZ9j0EMcKNmfuLWwAAAA49BnyxFFSwv/wB+uCJeufqAEZCv0DKCsta+U6E6Vo5Z\n",
       "2kOMWay4yP7LuWxKUMwrP86xmEAhpkG6v6SYaVX4JDd8dN3YWx4iVfKo772GXswrNKVqcikp+sy9\n",
       "Q1JZ24NVuXPG4HDQgkFHhqyon4QOuhXW4pvwOvQxPLGi1kXkWN+qnBVUs6QINdi1A2VKHKdCs3FE\n",
       "C+6bttWj/nUIT7VvxnKzRKZk6QZmaKM1ukiwRN4XbX4n2CnahqRflSRgfpkEp7bnoD8+jvUH6lbs\n",
       "Lf2TuxH2HqstGsINhxtA0SkJ1McQb+kIX63/pTfYBxBaj5Civz7CddkWa2Z88Hhdc20lvyeP3Mxe\n",
       "rIJv8RwtjkAXgE99Z4CQ7kbMril6wR9Hw8rxy0amK8cNjte16bqOJ+nwmmpI+ARzcUnnB6a0p8yQ\n",
       "yv2i1C5bxhEEXyb7WZkgdqEbAr7pJ/9Nlm+LAOGGv/tEENFZmWSWZVVu6PsuwQeAjOV3kK/Om02s\n",
       "iNWlOwCXtkKtzItG7D2Qy6Gd2Cl5waPogp/erVz1GZMXJzo+WXyZKWqU1Fejtl/C+IPABKCtwdeJ\n",
       "6FBhSIgjr/QHFJBUKXN98GdOlD+zth1E03hPHqE4Qb15I2Lcf95urM/rRpyIY24eOCNldEBQH9/5\n",
       "WOvoEEB9W7c7hEwRHKOGb3iUixbVVVITaAEsHwgeu3hOzOMu6zb7eh+Fa2WqVEieTDBLfI8QGk3d\n",
       "10lfT0gBi0e6lZHihZWH0bpzKE7SWRXPnyk7AMdl1PP+TojZ4VzaqM9/CbaUGfkLnVSxGAhQTU1e\n",
       "uryt3eDVaDPUHkPOWyycPuISSUvVEvPfkKq5UdtXFqyEC5qUUUQIOSsHBN7WuOEtFFoCnzAihY+Y\n",
       "hfgt0zE5Kdvh8kTYD0zfqI8/Ajpk792l3C/iCR+tg1O0GGLx2LVIbTejf0J0eEt7pXO1i55YooXc\n",
       "camOStXjiXdpvO3S9WAIJ5f9VOqBDqYCc4OOcW+gRdleQs+CGxf9gup1iRi9AW/2asx6jTp8ZO04\n",
       "2DsJkvvHJX1GLaJ/a7NRtqIXp4mSOd1Zkk+yWkU9QGQXtCTxnYROtbGaX9Px8NiKfNc7z6hHZ5AC\n",
       "QfPXKXgLaAu8o6LUHNxYjgEUtfHIH1HTv0K+Lg5/jUlsUuQIpxm3WAFSs1YH/ezZo0uKv+87zTAo\n",
       "Rp2DjED+joTG0QexDng7X1fe8ep3F9K5tQAAAwEBn01qQr8AsTBDg3Gf2aMWX0599KAAP1coCHQV\n",
       "IZS5acxPpXRLot82RGX6WzxLiOdU+FiswFK7ZT0ptpw6oyvHjy8TBnzkxbJvkaiaaWGvl9NUTksB\n",
       "7SwEaX13AplK6vvyqAtaPFzTTXZF6JUkkkUQ/1AdtzYUpFq7fXz3zYEbz47ZH8hX+eyleYEUlJsd\n",
       "a15d8owG+ANTEdYfR7gKcDXAnWCK9gKVrSZv7kan/nldKLEjMAUWCU4AVma6gIKWF3ei3fJXohlg\n",
       "5XKvrvndCNgSa0iqEA+5GlnL+uXipGs5DABKKxXeSVHfbm6LLVn6QOF1S6KxyvjAsah1ZnxX/Yts\n",
       "+uKVHWTeKsAMn5Xq9Y00RsLg1PlkziV2Flv1n3UzIqxADJHpc+/RaMBezk53eF5LBC7i5SaE83Hw\n",
       "vT27CCGlDvni5O2Jk0n3A4+8uDaILM585JKMmlQ+CsY29rB90ojXHh0dFWevMMP+ksSeXYDi39bO\n",
       "kmRCRDKW4H56g05uqGgJ4QHXw0RRpVih26jPPO1ISdyWcSWu8o0K2P1ROyvL4lUDtEjR794txeA4\n",
       "s9xoMjj0wR6KhIVuDbZ+xb7izjdbos9iiCtESFI98sHupGPZ9MsqB2ClmCn3ztq1QQMPDG7bSWNf\n",
       "SCZcP7qfnuo6KRO8aNNZXICWu+CzrKVVHoIqkaBeQ8kzZj9TnLlwWuolryc+ju1ps1OS6FzfpRIV\n",
       "IYQL/wx4Fki0oGSahgTQisiHd+epWJN+T5qB6w9DYjHAIK6JYpCd0Sc5FxJzRikImed1JxT1t5hO\n",
       "qsfk2FHqtQtJjM5UgPOO14XnmHa8TbDPLBC2o06doUdPulxOGvyBHR1wJDZdmO9A02CGJ5fSBJ6o\n",
       "AeQXfSAcyw77Yj/wlCYjSRgtRh6ENhBnhCeeptaTgbxmt1pATUyQPoYzgrTYKXlZC/kBn952P0AD\n",
       "EyzgFs4l+78PZhTmcawtoGUbu6vmO08TT7siqGncxqyY0rIIlq3AOxUnpn6sxDsjJNMzekSZihpB\n",
       "AAANlUGbUkmoQWyZTAh///6plgBsx3HpoiLvJACIZzWWwAh283JLoZtfhx/hxP/JJeGy65bE/oNK\n",
       "dJzBrcjT53TJb/OYoeyvyCO00Jz2SdJJOOYVB8H05w3k+97XwijucsXlQ8u62cbWoEGfiajC4rYM\n",
       "1WDxKybDWyIVf6tBc3K3H4lqEZLPV6SPSAq8Er6YWdD2t/6j2O2AQ2/CiZlGn1fme0/2/kduBQhj\n",
       "8/XwqoTv4zhnNMb0lZrF0YMbpyztDnswAszFEUmVaJWQ4c5UPTPoWtGeZaAHy4ht0C3CnDL42G7U\n",
       "inmgJvFaiuelCjsDH8V+gFz6MPHDWdeW/Dg33nZp57zj0Ziq3F3K5a7j+psPPAObKM8KPazYCw2N\n",
       "Ii8hGsjo9ig+LjEIwPJFOOi6dIRX7cz6faL67ikjHcdEdHXHCwBHOYMJ2CO8xZNTkUYkx/TKxcy0\n",
       "zFSHGB6zJYI4HSGoTC68Up1keyYXfEocwVouisFWmMbsKGi8w9LJZovLK5xkUDNUjbewYDhA/Ets\n",
       "v4qmD8iiVIsLUfdydCu5XCci/rq7SLvceWVAr+5Utp3vJxuaMUWOdN8A37kmHCPEdM8hO9UDjLfi\n",
       "fWF9jThq8k0wVO6FDAWaoC4f/UUqhIbMXY7Sfinp9UK4y75D7v6/mVN0jD5A3s5ERIdeWy0ZYPrA\n",
       "/7aWhkS+v0jHMn22UVTQ81l5tf83Mt2wNdKwWAC+7D4j4Dp+oERh0WGJFGaPCN9tQZRGPI3BVmf5\n",
       "rvG179oWqBTmodA6b4kRZ2u9A0PiZ6huKaeTdx5cJsu1hWvKVBi5D2syXkzj5ofhKrODLXEpn87J\n",
       "BRvbNc0gTL7n98S1BXljNBAe6XWSoYSa5/SQEe2/6MNf7XsraENrETzvh2G8yEpHbvnzEMybczBJ\n",
       "CDBVvjp5WoV5xzdrq7PKEMhNZuQ+LEP1ljwWNAtA455leN2Yyd3Rnuo0nnektV+ZiJaNpB1zvcMk\n",
       "zl6V26Rq42ACMWrAbECjEqR8GDRFVTU7fYCCoeR9D7De6ub48IJdJrTfwb0ssohFmvFC9+ovbPFQ\n",
       "+4P0aSrGO7lWsD49nUMjwOwbuzMhVA7c/LHT4+qQL0t68HGZrunCG0xGCRVaPekUwFiOiUgXg/dT\n",
       "T6snkN8wUFbSbjpU7OZlToj3VXWUVKuUhMlLjL6SzdgUuCyRZoYBljqQaVgEE8PkFM54Jkm/K4t+\n",
       "p3S6Pa9Zb8jZ0ihD4L4gT8vbZEO6DAN/HtxkiMAjRN9HNgRj5y400TKiVANQUGe89KznQqZCG6dB\n",
       "oVOGuQsovg1SuWyIdlQ99EEqmCtaDpPtRCKrV10BWiMmaxYvUiwYYG255xLynPykB+N47lCooMFB\n",
       "KaYluJkd5RCJerJjT5v/E0fI2IF0vX1sw3z/lHiwasBKuNzq5/10byyaEbSR3NQi4z0alXxgWA/X\n",
       "oHTAmSZu5eFWvdvT7bp7jsE0CeHDH4ZQ2rGMIjun6GRNgmRnUcnwMWlPYyiUslW93iK005oK0ESe\n",
       "rPTKc/gSIh0aLUYsrO9dabdqBUOtuXmuysiwQJMg608ymtdP/sUV0VxH/m9AKX68V04fVDqqPvQh\n",
       "pYrw/YPQ/kJ2u7WgIdj6nX7ONw1LhHspBq6IFTpkmJMYrGoKbl7n+bWJIImoIi/zCtc8D+46sm7x\n",
       "853fx2rd89WHPaQhsQ9jFbeCNY1b41iZ2QTGkX5f/YRQylNEtX7Ummd3Cs/fqRzondw043RusumT\n",
       "fTAf+4pVNitPhMhj133dz7k1XBlMaPxplz4MXIJ3WAShoxDR+GB069ZXJvG1nUHR6P22bQlAwvGW\n",
       "HTaFS+sdZ5OeIY6n+oclMTJNgVHtzf6l0V+DTfdc9P4WH56guaoAqRQbPS33MxklSBhqml3lw7EN\n",
       "uKkzKJqpKiIKuv3AS3J6C5GZtzKSg8rzGt3o0cx+A5natu+WhvEi/ejc0ktbEnuX7byHi/WXQEE1\n",
       "oIf9DMfG+gKGMU8dZ09Gh5h5ZiqvPDi55m89n27OyJBfRtTzcv9ZgVMxEe1w507xWhQ8/G1dgi2/\n",
       "uKHn64mTlYHmEF8nCTWMoHm7SEdFPhlOTv+qfBWpUmBjCFU4WsNTZucQq2lOPrOku5R4fvSMuK+7\n",
       "9166vUtWOLAn0IYvCmFiwOpQGw0rGQRXtQr1eyy0l1pvY4ay2rVaD0GQEJUyDPSBSH04TQeFrh4F\n",
       "GIW7BatviLgL8PbVKwoLdG1rgeRXsT8sa6tz9gKXZEJunMqjnNY8A7Cy6+mr/dwp6UFHJFrPU9N8\n",
       "p3VflmNuGgcoyNbAuA2Yo3HcHAsb+6INvADw9jIBW35E4A8l4mGa203XFDqiHANgUW1NZSxgWKsQ\n",
       "+KDF1NwZpuTyP/ZYmIWKJ5DddYhfCKyB5af7Wh1JHSElwYMHCQoviu6Txim/Oi4l61X3TQM+qTUy\n",
       "h7igz8TqFcAAAAwMaqs8JDQqkoyAzu5yoSJQu5KajxPJeWTv8rycCycrAmH+k8ht++k+9yV1vdfa\n",
       "MG2q5JIgkSV1E+rom/otD0zj2m46Bm+9pIDyWQKluCqCUYGbzCvp7pgS2vuOK7E7KeYst/bdXpGo\n",
       "nnxAeoSUgjll2UX9QmXKEBGrTFakTbnrGpPwO/vpPQDucjMqRrKZ3Pc05apTkAtCnV4vVM08CM4p\n",
       "1H2mPLF0rY6DkfcnNAOMfnAY9XDm9ZubF9btGDA7keo9fxzvNH82w2ef+l8WZZV5jM67N2wzUOdw\n",
       "PLpCjur/0rd5NHtuqh3fw6Oe0X/AWi5dBvpoUMGr4/8B0bL6ZVO0bQ07us7L88epqsQaCh5YCT4q\n",
       "BK7zAMSUPPfvkVHtT7OmeRVYcD8kqemjL/G1fR18O+lG5fZoqiD+Tb+oV/yrQt/0KzLzXLaOGlkx\n",
       "IDf67X6T/LIhnrFw/OzXa3avhsQCK/0epM5DlgKXjqhRKT6OD7uJs6qEQzlxOO4f+370tvyQJBCY\n",
       "Tln1G4DtSSvwHiki50KHqAxssHtmMfbMfYNMvEbgvb7KPWlWebu1KNcfLdRP1t84oNT3rASZkw1/\n",
       "L6XCg+VV2jlGL4fW3P+4s24ITxKYorBuPscbHaN9DrBS9Fr1Kp4TOaWHdyCbTRsLy+DoRtY2koUD\n",
       "PHqbTAxNQwQSH9acOJi8HDyDea+pZRQyu5SsQa2nOJCqPRXR/v+MMlmWwA0IOan33ALQ3F5EVFdq\n",
       "NriWKY+EP8jesYaZahtVtJuarDb1sDH+P/CwRRTDNLoL8GzI98B4c7znbO6odKdMeIGbACSmJkaA\n",
       "iTMDQO9FDybaa+XLKH58Dtz3SsmDube3y8hltFIh0SVg9h677LrK95r7ERxYEbp2IFQmZnbS8Rdg\n",
       "a0nqZLvuwmwhqqzIMWz/x+me48V1Azdij5W9+ZrHJbsAydo9HMkwPVTvedFjvyUybY5++VyLIgkT\n",
       "wwTkaJ+8qgKKHrKCUe8A08rtc1Z+h1XMtg2/HkUZWhLzn0PImkDz8mhCi2y3Sa7tRO9nPpauSzsO\n",
       "eC4V5k+G7lCCxcve7IpA5BAhf/oqnsgdbKcCXQ81E4AcZE+Sz2HZoJEagKHoDaESqnyCHxBPRM+d\n",
       "yBLq+PjYkoQHmy58/89dDEfIrWPuUTRG5f/AoKRsMQK8Q/lxu5wKgZzrGI6S7QvUnqZMYVGkIzIM\n",
       "d77F/3T8Ndmqj3tAkQe0ZxGYaDfJQ23yLIl4FtEWI8q4cpdyE75jB0tlxXCm66b113DE8gHzBy69\n",
       "t7aO0+S3b3ht/ClO4zBEQ+q7k7UxAhXlerCAOxd4bEy+rav5tJO2PTWawT05iYMAjMAfjWrwyaKC\n",
       "9Zy6dmNz2MHVwWhIE8cMKYuxWQ88EerThARw4GfUZt0Ky+L3aHWyvFQwjrHzaJMvBogvJaAaZbLi\n",
       "Vly7FEM8ahycuyFdKZKQ+g0FcccFycPzR6HHIepddBO0NzauNrCOlbei2Jbe28eOkTA1hu4Slu6B\n",
       "qHjFyRC1y0z+GBzXcCC508C6v4Pazkw+OIz10sbPKDtWS3xreULyQHAAOC3Jj8l6S51UuQGRMOHx\n",
       "tmkFJc9s5MUpMr92TPRNITu9/w7/dnabIIUk1E8fVsutQvi3IJMRNtg3ImOwjwi2UrEeJ+Rnt/rn\n",
       "SbQ4OoproPccmZjwrxsKnAceNVeAFKgcchmtnqbdCs0OQbfYBZapIac00aKwI4nxf76y45RoCN+d\n",
       "AqG77O+4x1sEeGqInW68Bz+blQJPmp1A3pHPgRntWxX7SSauD0pHMqrOjlJrfnkj1pHhvxhYNFKY\n",
       "qITfijbgV8gk1wQ+fqRtsbQUucL2mF8yna2G2op9IO7pDg3GYIWDLRfzWNaIZ1ySlMb1vS4DZ7KW\n",
       "tK26kCH2XrauXD/b5iv5hyeXkzpyIVIuWryXAAOrK25VJuuBO7eXupL5zzUsap5zvrz86RgnM17v\n",
       "f90LC/e+BC831S2EFGaf9fEey6hp2567Fe3JfwvARzgoZRfchm5FY49rerYp3v5rW/dQKqYL74VS\n",
       "mPxzWbX1w/aSAjW9jG18yK1hKMA5192pIFR8J2kJIaB7YaL4DGAaqLAf1Y6YMWE7QtmW+snjCfuf\n",
       "y1bTaflj4MnA7XFpJkXSp4gM6Gk9wstN6fKo4Xf2JBlhMO9RxcLAA1xrnDLA7jZ+vPdLJIEq7S5x\n",
       "9h/7oQAABNBBn3BFFSwz/wBfjCesLD9NlLSYADewbUzrhop21Qi325Lfr40ofqm00nMOcfpuhdlI\n",
       "QfyXlz0xKzisNWCWVEnuEcFyve/UtGjPtYXip2G9rng1NdSGTs7o1AMuVLcP9uPGYW5VeG49D2nI\n",
       "BAorzmIvHOwyM7IkJcjIrOb51ra/bhwm9Sup2+Y1YWtaNnz3+0TP8DlgFarQu3ch7wN96FOWsc98\n",
       "5FRUgys/FxzsXCCNzTGygiIX7dBxG2fTk3TlcnbjIC63Hl+p3LG1XkSwRIv9o7rkvaW5iIriWmAV\n",
       "OiYEskpIchqXGaVLpSzx8A4gpaaDrpJWkCqXqSH3bdpQe/omH/9zEDaoB0JcttqOpdbAZlc2hzsX\n",
       "Wj0L5U8oH0b9f+oxcke3c6KzNyezJxzq6v+B/jmJsKUchxl97aGLGwk7rLoPRL/IV/gnR2axQiuY\n",
       "m4LeAeXcITYWmZmBglIHiA8Zj3mm9MuC9QNN4mz4dOyS/NmDLD6DmagZf5bW9TIvwabM4P9u7dtP\n",
       "SODJpobOLN3+afdYRDBdd+ZFDHytIwiXDDD7hNp4nHeCRWG7t5RKjwBI/wr8iF2xhVQLl8Cp9EtP\n",
       "qVZFp8k1S6sd/Vyo7KE9ULA8ri0Ba19QdZ5WkQqYZ6eOzCWzUs7b4lwhkmJKd2UHOPVVqkqn8J/8\n",
       "bY3fkuuh2h1/+LZWoY7ndOE7ssp6oatcOXDtIPJ/PeBRJjwBnZ6YQvZu690v8sneEPDGC2sL/ULU\n",
       "yGtsyB8MekgcYDZ0SRHyTcJ3xkfDlD4/52x0cy614qOsftUILvosTEJ1SSTDzy5wgB9Urm3qAAN4\n",
       "Isq4Y8SynngVOoMYqbV5DpRcb/w+z1c5Sw2N6I6sXeLPMV8mCdnLy1bvkSIQgWBOe/CHTbMcwC7x\n",
       "iEUfrM74qLt9k5vHCdxyhfgTt0r9wUdGZ+3BHg75D/B79gcgFdhWGDTvLwsrDFiks4hf3U4QOnPi\n",
       "KJI9omqcLNtIRLzMyAqfeGKmoFuEOnqMk2jsgzJdudbCwI1lQv4fu9Ik3fUyBd3VSKc0l82OFNSY\n",
       "MRCCHoyBdFF9aSkMXRVeDs2+9Q4NxXARhT6yqV9wRgk8j/lMy/inINVYi/cXBJbAXST5fvFMQb0m\n",
       "kNs/y3Bb4VAa7n6nhxuln0IPUIEehTgdEC1s7K2y5YqSVVSatvNiS4/EqNjEUmB8odDmKJZEyX/7\n",
       "P8Ee6BPYqn4+3sqmiEQohvV2UdUKoCbJQ8SW1sSKMKTk5+yENeZe02Owp+NmIZICIgHTRfwHfiD4\n",
       "BhKqOPXGsUszRLcMVdc3n6pG5oGSPju237U8vMXUeWM6fDDTIaxguia8K41dbScCmj+dg3LjHh+p\n",
       "YAxsVHbQJxqoEH/IviZVdRvnihF/JFYM+HsrQAUSup1l2oO42Zd/ALb8iGeb3DUF38FL72OaBVI2\n",
       "QdBrAxfXO6zKLO+I4pQ8fo2SKfKcO2TQONn8k/Xv0/KHm2UmQlnBPhBiFFQqHJZvbzZv5x/csWa6\n",
       "krz5KkBTbQSZjWybrqtgcr7pgWE/yWmN/6f3k6gEzV8OQIY28Vl+sRmNbSmO8YsZoIzDHPGag/HP\n",
       "qvhRxM8qLYuZDCZw9iRjTx/bWboGMgM54f0rqD/epLBNICyLIJXr+amn6AAAA2IBn490Qr8AsVEz\n",
       "sPu9SeLydrdc+em4jKoAb7mQlTyIUaJHwjfC4IRQ+SaCFR3/8pDi2wdulqkW65+Z/alQZbJ+rMMZ\n",
       "loMPv6TtOc2ob6X2z+H3WoUQiSYI/R9Ebk7uYMrmAxCWCrO1U9O9mgAHaqGYCGx9IehC1GE2MMIq\n",
       "yYDP9Mw8xv2JPSg6pvMAJsmyeXlZJpPdKGS7ioZD0YA0e3JmKRSzTuhvczpf4An6BpN/CQuH6TY7\n",
       "7X8FXzaH5mFgKhbAT6UQgF7CCU7dEje6eDy21DUOkw4BRmv6TykJoe7cNw5wN5Pus7llFm3O/Sz5\n",
       "RDwiJ4BbXh5qEFqYaMfMp6VH9t6991ThdBLXGbFUgYjhFgZ1HnRevq/ffmHiAiv99xJu/TYI8xSS\n",
       "+qMUxnYjWUSnS+DtMzNabIDCfl/nLxq+JohJNQ44/YOqQehzG/9Wqslzgp2KBnqQe+8VKp0ioEqU\n",
       "7i7GgQZwKxnhJCSx2q/SeeDJMPWkEAjhSadv54YpwmdIdJHmxQVAso83Zns0jzv1ciml0XxayeOk\n",
       "02NoUHe6IBvfDURAiYgBK1NGqKMprYCk/H4hWUBXE0yJtqmwo84pj56dxL0a6nvm9CsBNI2QzOg+\n",
       "NlUhefmAqm940basTW76Wx6SvngOf4f6vLCH0wW1TyuX7eddNn39CYQ+uDuw2ye5WHN93ujBS8Fj\n",
       "zMzF4RFaYhQKu7SoUmQGXgCu2/2KvBYOOCWgAtrwPuU7PcnwcEljIj1vmSJJEJlfHurahlbHrytA\n",
       "CCk/P0d93q3wGuQi3ibFDyp/wV01iZtmOthjOHvh4ap5dgNziMhaslEuxflgVzU1dLacgtr9YYEk\n",
       "ShW0rt/zwLy4qilIFMlqVMaiwYYRWz//UVYC0R7l//X5YOFfqEl6HguL84/TXcBPfhchmqPckPgU\n",
       "CA0Yax4yxELQBwgcBW7QyqyWXMNdHSHxZxd7ltU0+6sk/ST7RyyQPJxJ9Eh6NjmEnyj9VuNIo1oA\n",
       "MLIHJsxp0ej5PBucXPfv/2Pi5SdmWE2FYIhfqnzild8ZKpmjnOLgIzvxU8eR7LfK4cdgfRKDbo1r\n",
       "5TzKtwMiXcB3v7DX2BwqyA2FnxuB/tDOu2AmKBr4/TPU8BciF75z54zKcKqeo9BPfleWgYzowml7\n",
       "YAAAA9oBn5FqQr8AsTWv1RBiRQBDF+giFjWpCNHQhvmfsEsVlCZYoT9uflr/du6NMm7tRwqexbF/\n",
       "ZZlLTAXiChRUw7lgAzZneMEIeTv/1IXoaiZ6pzBUh3VDkKh9JVWsnU4eYXn0O3hu/sG/KAYvrYJK\n",
       "p/CVhmPNmMYFMptZo3E4BWvo0scpgRTiIEmxMn423snlSqLuKWgCge+2Y8KVbk2WzC2WqOrorHPL\n",
       "tjFL84Ysndu3Os004WcAIdO6v+R4nkadqSX08bhkwbcJBi5mhWrMg7LQJjBoJ2garBRdkxLK2BAR\n",
       "XJfbSdWi45gjB6Ao5mUm+OKjKgGksN4qR8RQr/ZOLlKo4m2bfy0r8ak0DhOwO82hI4mTjVjVttfq\n",
       "ZSBdkky46JoL89zKPLVw3c2PBLSgRkNznln4qIu8v/kMIJ1z18iQQM0z7qW8bxqRsl1mA/mUDzOO\n",
       "PgpKUkn3YCk3SNo/EESKqxSi7mGdjRjAtENPKY4eFbsFT5pJv0Kle+QhP8l+lAed6gEJQnXx0muk\n",
       "eZYd6MFDcNdDD9Q8UL55PIfrRBUgdCv7yHLZWNlT0FG7E54f2GTbHl3NPK7r9kTwrl0uTBQk37a+\n",
       "3P4G0D7jSZ5aKWpNEGjq3ItPnErvFVgAA0bf0NPduo2LYMjPomSrpyWHLLktlPamQy3lFag69D1B\n",
       "zFx4/2lniGzxEAauF7L/7H5630Xi44AjYGHIoAYcrLoxZwJKWUCR+px7gOZqZzEFLQptK6zesNep\n",
       "6JCEAMVpN5UuFHoZ3VOA07cN7du8qLzbiDDd8nRMD/zO5oL9vQZSQ3/UmXXp0dC3Qn2DnxrJWaEa\n",
       "3QOpKAXQkwvV6zBzI51fiP3FKpFt7Z1FgjfJUearJAbO82V5dqmDpF1KKjR7Xs1vu5GjqtpyAGrI\n",
       "gcXTQxCT0t0lwfJp/Fr1RlHFuV7oj8YGRi0HN54nNJAdgBYMik+SciYmGObxFHstBFPlo49Qpkkv\n",
       "HXQBlGG+4wZUSvpQ+5SpG4EfykI0/xTUONpMStRCFobCA105OIVdToG45k+eb6wuU+QtkJjGbR6S\n",
       "cWo8NfpaVQhFuX0Of5wAOFefywSoY7nKrmxeT0NJ7TI99ww/aCu8alXnHw4nOybswnblPwyIDdOe\n",
       "traJ9hRPwt61Bp96r69ZFZ8j1I4iPU1Uini509B9SmENq9Tvu8ZOXXNTJxo+PhuPkVTwUmPqFhZ5\n",
       "M8Kf/WuzjO8JlOQLOVNVaUoXVDRI08ZPiFcx5lpCriU05qpnVhpI324xYQpBcghyiDu3lYHQPjxp\n",
       "IAfBoN/1FjHUtZTFSeBaHjHenq7WhQAAC29Bm5ZJqEFsmUwId//+qZYAaoGb2Nn0AODblcdJwKLx\n",
       "UjpgWmZ09BmBVW/oN1cNhzfekHC0hJ8r5xyIWWRuwAY4BL6NPFNw9UAyz7yuXUpoeNyx0BO6/Y7S\n",
       "/uJolgvhSGRK68vD7XAtQr6KI1bL9owou0levHCU1ztCpmOB1H560z0ZE0VjNzpF1Z376wfBgcNf\n",
       "8vYFERAmH3SYXt54tk1uUQu5/W5KsqDY5JFoAd1xDmP4Tc+iTS1ItaMuDpTwyyQNn/5zAzuZvTLv\n",
       "njyyX1Byc+IarG5vKnhJJjBWxdg+MnjiaWqnWoKsaxIfnkJV/zQonW2Ih79tUgIAeulEMJJ6yJcy\n",
       "vH1jpHhWYNsJs6+kj/qquRUdg/+U3ylssK9npa1dNuEKodzmbhRb7H7WdPL07shgVk3btzPlaE9S\n",
       "VGal2//J1192mW+kXo7GK0zx5OJea1IFxaHLFA5w3RCGLFNN6BuwUFzfeKTckqOGkDtApxMTsrGy\n",
       "z3DrUHfQQ6Y7yjl479VjY6DbnZJeRb9c68opOpLVSsj1Lg6IJNppTHb37yvbqRnfeGlcbdmgEpAx\n",
       "7OV4zRa48+8OLnUNQj5JgMCjM6gUeM47TNaK9FG6iO905fi/B800oNYktUIoCqx0mukwPKehdnQq\n",
       "a0tCGO3UzQb2Tv0kZxsyLpZ9xe83+NfgR2zyt8ydP6sKyy0lipmuVxuZ0YTI1R1JIRofMS0PBi9h\n",
       "OOwZm9cnAOPlA16KlIKGn/82V5vvo1EG5JkpVf83ujwlgDPLxo6ZSnBUI6kOJo3AdgM7czp87YT7\n",
       "SImjPmHsBhK6KkX/2g9wANUH58e6w7g3ZOIp3m2GwqxNRWA59MJwdauTJW7o79jE0Vtf3NS0XZ4V\n",
       "2uIfUKKWvkFInaqLtGWy2XVFN/6U29AhkTtMVO8tdtRmae8DDkuOb/StCmNwFRddHBZ0uj89G6Tk\n",
       "iHsNi+3mb0AysLO7Lirnr2BgLloza2Sop6VMKXfWxNvTLq4ya4HC6bl9sIEBbII6kQ7hDG2lsZ/r\n",
       "mlTbWv8EV0YeMPIlIrO2xCDUbLU9YJYzlvGZzikfkcSGPU9Hy4F34C3fV/XiZcU3TCumqED6kIIX\n",
       "G6I2j7w45MyDTmoPMqXFvPjNYI6x/aBKIi2Dk0pkrfl9v/N+rx5lcboD7Vp5+9x36Z2U4QmBCcjk\n",
       "ATGBCjB67sS1D2juI3NfojhUV52aSDdH91Iq38zz2j4pG5Ymr+2yfTYx9Bd/r50G8mlUreMWC2RB\n",
       "3tdQjyt+vjBefzAay1226rqesvcy45NQmYIHprGVAZrl60XPuKWyzjzLD9k/iXa7aahiOYuwj4eJ\n",
       "e0T1jA5M7nsOkM7XKPE6At3xhfIYC6sqxtlCXUqHUZ+T8+fOtNsanL1uL5Ok6T1Y52Q5jJiTGNII\n",
       "g4U6y5LwAYpQCo1HUjMMVDUBOHfgWIY0xsz86n6LpvfdWMpFdJWN3mX4Q4QYEfWvVfiB2xnHreD0\n",
       "UfiNNyDl/u+oYTYJmXQRQOiZ5LKozBIhfgmkqISTSo3/r7sQEGZw2BLmI85PUT44NdnxGhc53Ezl\n",
       "jOeqBvVKr6M8zTESgdypb4LUcyeqjvR6syAaNtG8GNOhDUA2IaS/m2eBBJBIX8vm4hrP94lht59T\n",
       "bjTUlSZPtHiYEKk+nIlkaAXoUhtJjD9gn7OhBY+hIgL9P6198Y6VlWL1Hvu9ovF6qvVOAzL4YoDR\n",
       "njFsS5t/uy890sMqi2T9gCJG9Flb7GkYkqBYpDgxcrEuSoiQzUj8eVobgmcpaCJ+8V7uEE/BaKv/\n",
       "wh50w2TRuVqnBDi7HkjoRIyMEIGvaC/9IxKYVVzj5/HqW7IOmuFW62DgkGN+3HXZvoMd/nBQjbv0\n",
       "zfMP5MEalwAwayJwfNsdH9sWKFHTai0DNqWjfG2IvZi297Ro/QgaQftOK9DLUhnQBRZ91b3RX4j5\n",
       "AXlXCB26HKHFtL1QMS5It2Azd9c1AK3rCuYdj4CS45gwyp1K5EJffBg/aLeZvKeH9RPDXtgJk3s/\n",
       "yyjIuyOanMOw6g1xyvJuL8tVAr9K4JYjCsjJLN8O4xihUe5afrYO3c1C0N13BwSCTYcnD9Gu0owa\n",
       "1N5hwWbuvSTmuY7LrvUPDfvs7gLY3iB1FVI1JBTKhtubRl9hy+fPfIOxrg1Lt30lM05Ss/ouDL8P\n",
       "CeNfuobFqJ2QjanMEks5AdO3tu9UHWYLgYVVKoHv83JwKJ8S3owkcgkL9xYYBq+vBDKjDxRBR5xD\n",
       "AS1GPjVqYsFoW65doV71tcRiAxi9NEvwvEx8RL2M9eQuQUASc+yxddq7hZ8zWSdzakmneHM7IehW\n",
       "rGjReFtTbqbqUD5UsQVXBon/iYftSjENxfKIouLpKhetvhabTchRN6sj6j204jf+e666Oos2D1Ce\n",
       "27bOJGKo0tPs2AA4W4ZZ1h68OzgH+cNtiu46G3kGTTY8c5o675aYu3CRHCzs7cFeY/r+6zSJKciV\n",
       "LFUk8P7zH+JkpLp0nBFIRoL6GipfbLTguzM7DO4iZAfvjn6aVYCOSvyfiomCNUqKiU37twdOhj28\n",
       "MwKUG5pdIno22CHzwtOa95W94uY+c26oW6zKlmBYTQqVYIOfIrx4jOnMrUQ/iBIWWQN7oFGw6XnX\n",
       "uGOLkrvanqDgYngNOLqkw+qe7BMzZaT9GBuaj68e45xlqyblHb4M20ZiA33o5e5f160J40fHPNWW\n",
       "xOsyUJaRuKDhyfrfF/HI5JRBAfjZLhRwD7UERj2qLb5t/bWemmISgjdRaVXEplXQ9EfBBByaJn9L\n",
       "tT8pJO/lZeToxn3gpIVbCYwdldb9O6fCImVHD7U9hw3RjIeXkqi3B2BqJJs795hRghu3JFUgnQDV\n",
       "ernyVjYsXcNbuTbqI/7IpzhGK89hmbb9ddxMipRg1GeOb4epL7GZ0nVbq1Lxyjpfqw9p1m5ANg0z\n",
       "GkbugxbncYoWplScS+vceQh8rYfsmC2KeXFe/nbBmANiAm0PqAknSC8wnIuOW/QSW4Ug08GldESz\n",
       "WODfhHZLI6gTLrbZRiN6RJqSxO4bAzSmHNoV2XIEZWazjp2NQum3gItE06K0cb7EWgg+Bo/RqLwq\n",
       "amK+eqsOeeOKYvv4buDeAqQokm4aDrOOPOWFFSGsHf3V4sSxcZIOP7E2OLfvYMilz/nlK+XNz0Wg\n",
       "jEAy2IeJXTQThpm0TvQaL+IE0SGK0+dwXhUIsIJh3gaH8pMO3wQAGc4uPgtVK+OO6RssgZR5QiON\n",
       "FXHQMeSwX5RNfdadLts2GT4TKyjJKRjwXNmIKee9pThnaMa7wVBQlyOz8y8zu32vjH1ts+nuDOHP\n",
       "kNuU3vsbw4QyK/5ir5A2Fs+aDf/0x9jdlT9iDEfOhODm0f1e/naieZOqZRU6w9ggMz18APD4ryVH\n",
       "6Spa9lGEAcaYyr/MXTNnn7VvtMEDSixoubCKl17lO8HZ21PLVbMpKeMx69j+q1ypvnOulrdtoc/d\n",
       "DDrISiqHp/gdCIrY3scoWgalApCRUn7YmnL43Nw3xfqMnMHWEWrVWviZ3zZBYOO33eg/zUluzkoW\n",
       "1xLz8/TJj17o4Gkbo9j48ULIGnolrowndZM4OvEC1VdHpref3vHd7XdUDcu4XQwU+ya+ynQ4C3Q6\n",
       "9pVX3MmaRSy/NFokgn4a3uQ57OQaVdJoK2sYPm3TBQIUfVGWv2rsyI6iBB6FYKfWX1dTvq1mR6KR\n",
       "tDyHj6KQhRNP8wv2AdcMf+V30TXZvcEi5dEEzO64Ds93JU8SmybhHZy66CMEjtmcwoF+4oxxULUS\n",
       "GxwLsd0Wx8xE2mN4U8Mc+hQ8EVaF0xtfAYUxJkH3YSlLkTcEh9KxEXcMmvVvxUaumz8OVV41fY/W\n",
       "YkP4RQgVi49W5zcLL2OlsTGN/CK/4jY3tzFbQebhWjE9p6BUgSoZ8qYnPWGeUgAABFFBn7RFFSwz\n",
       "/wBc88nRspLe4AEX7bQ2g5EX5qETx7GaYLxxoUmEDlUgP/82GruGclO5yGldLUr806dpb5FUEhE6\n",
       "ecwJ0y6Zn/mJgkwlpqLWydBv8o5CteapVUL/e7xoDKQMjbjwoj+V8zbtvip8NaY7kTXkInDBrV8F\n",
       "nJA9ZhZHFdTFKxec7ZjDYFFnHswKPHIjBcewzsbjTcVL1Ka8GuDJSs0rBNAanTyboQrhqBTPZjjh\n",
       "P7Fef5946bd9rQq/oGMqX/CpjsRqq9Xp1pre/oKRmhvRUorv028DswJe62gj/ptbUBAZzqZWeGDZ\n",
       "OSBWu116eJKBKNCI3YJXtloug5pmOCa8x/O13lya4PehKWjwH7Cj66AXmZsTWPr/+O4Lk7rwRjTK\n",
       "rwMJO/OrWHZ0ERa6hE+pU5uoDv5CEAgwb/ZZovl7AzeRW/Ufw1j/16StAFmcyopXNwJXcJL/NGbI\n",
       "fBz898kTxnjfFpHKc8vYxAXG6YfPenO5ytvC89KRz81KXkCbTdSuoo01D3BJRMIKE8ejm3TdI+sh\n",
       "+nViOaOfcvaU0ZAEsvrlh03w6mnkqlZy8B16gIiVTUX0rqXX5oX+qF36MYeXY1xa+vnFKhKhHTbF\n",
       "zhKHrGv9FNE1jGUNV5OyLQjNuQTsfr4V1CGukRKqxS/aPS+mbo4+D79d+FQo4df/uSFDaliZPeCG\n",
       "eA5GZLzrYmJxudUbuzzio8CqPHr5PHarxbWZEhLWaD28qsDNujEwjs16OBjDD1k6qQE0OGvzALRB\n",
       "k/AG/XeEZORH87aWZYcpiaPkRT9sCJuA6Jw6iPrtpUF31sxRlIbCstqIS3sCgLojm3+rsmhkXiNo\n",
       "bgCgACH2hYF0BQao6bcHiFNg6jF/HqSeCPMTHnfkQOT1nkwpgyoZLvnfBMqaQFi6099WxS6t1xVv\n",
       "rWSrg3eyM8kCCf9iPbecBRRiMAt+WVV6Y7SiNUeJmqa5Qf7m2xuRL/Ohjn9dqaOHCDATaPzRUtxK\n",
       "JdI9/xRH6yum7fOmkVrfI/M1yZjcqbTBLbM8LWOzvxDBfKXxFw/NF+37wj1FpaSs7EBn2+7dqLw/\n",
       "ZkAEgcNV3g0Hc9rMi+XKULGur32EUVqtTKBKAa6Ehjq1q78uBVrMhE8CCg8XH8t4egi/v6GVbpH5\n",
       "DkHW7C/5FusD7FHUlcc9JE63O9Br9g7JOTAcT7jgpElJsYdQUwwzcCUO+kjEjEeiOsgt9gHxcQwb\n",
       "KrHQjar2Oz3NYZpKQ7mer+n8vCtaiCc14JawoY7oJGq0OMoGA4wXWK1wrjjaX0FBBw7TIbQnzrWf\n",
       "ttaZtEm7jQCpzq7KQgNUEKQ0Fd0JsrL+ewxWn7ULdYRZDoYGOYn6UGEYGdwleHTaneIG/uphjm4I\n",
       "0vrDueLlglBa+/x42svN2vLKu4GmCLX1Qtq/cFK6LCmE3dAnPwpMQ2Y1QWNgvq/m1DMgZ5Uv7DDx\n",
       "pIsCzYdI0pnPn+LIqYqiAAAC1AGf03RCvwCoIImkd1wbwAir1JZsbtzicmhwYjzkiMe8jQeGvBwB\n",
       "g9V4fbVraMtQuc11SzSzj9WpJK9nJTD043ZKCue0ItHKeX2spheiNY5yqiDVvyDYs2o0yUhbm/5q\n",
       "yEJjEyIKHdKzAurLwhjTEP6QMaP5kaQNYh+hrwM9tB7aAZpESnhFt8aUNkNwPGOqH8DlTgN5D5Q8\n",
       "NIlWvrlWUCaHx94dMWj8/FB/k9KSDyw5+6CkEXg1IKcw+QBgwaf2hNbVNyX7FFNePuLWqo/g1xuj\n",
       "9C7tD24/Kx88ntvpMcrr6t+F5cycjSgxjiTJ5+bnXtDkzg8TiNY05ug/EB61LAAhVVI9vzbxDFrl\n",
       "CTm62KaziaVWFlDTREdnHiVBJEvjsrDYRyq0cQRc7suRsAe7+4tErSsqiXFx2FEeAs8bJ4sVJ61t\n",
       "uMA+E2DSgUEpejZcughHuHt0zSJroHslRz1kF2skvkoykYHU+dp5UlT8D5CnXVmXsrmAv1wP63O2\n",
       "Z6kud+kCnU5fyHOxslWoM+WxiQdBIFY/251vEXsRjOuR9rR2u0bmWVon1wm/dVDpUFHAGFHteIge\n",
       "aHAs5jxiNpR9sXqJLNzSmnib0yDmyifDG2xhXNdOA71bDu0WoUhKAYCxg2Y8faYQIPCptm/ADhrO\n",
       "d3nPIF5cQQky/5SZT/nmCaHBtlbZfQVA9e7AKq/6+YBsHXJeZY+sfUSrY/5VkYHuj7f8EIrlqi1i\n",
       "3rLR0zB7gDQ5YM2iK07yKl+ENNA6IKLKVWXjRuxj05NLKzVm9ru/J8VW8B8atZhrIW+aSpnlGRaK\n",
       "Xott1SCYrW2sh62jX5oRfjqgGl/phSG3MTWlH8H1RjcGL19BZp/NcxagG48vbXvqBWL0lD40/O0F\n",
       "aTPl208wBdnog/8Qd50NN/9ZCiAcsp7Mg5zP0EpMi8NXJ3FYI5JDcXNrOb3+ygfoaioIfUJDNVuk\n",
       "4oEAAAJRAZ/VakK/AKy0Tk2prin1WF0MQb8ABET1GV87pGjDVj20THk6a48/VhqzX2MYInQpVxOb\n",
       "BQHiZ6xlMik0Fs4xhR7BNdE+A7aPFdPYrHhvrBSom0e1HWczib1yKAMHSiE3Llb0HUoaFcU3TJum\n",
       "zxhZ2ktbNO19jW0iymeXudNfEYNm62FVUNgRvdQg2yeYEyRRk4IEzUQqFotOPFk8kP4SrmOuln+P\n",
       "y3GEdQyvZBnuPNDJXFBypwLrcS9sfl9aL+HfxFbiTPYDTqyDupZHswRHvXyF6STFjP771EaceETV\n",
       "kw2DOvttFrfCS5C3jNnL2UQS9qJe1k9t/3SOqjSOS26qdHiKXlbxfFPCSKbohnhd2Y/E5i79UaWm\n",
       "+fbk5iaklQBFBT7h41DKEltAACe6cMf6NzQkb/u3CmeFMbCNPewikmbpZ58aWqkPWsCYZtnvjnqJ\n",
       "2SNsZLtXAsG0KM0NQcaBTd0fWFO8x4rLBhK/7T3rJ+rNzpAqZk/0MpiSc84fEV7QYl/BA5x13tv1\n",
       "ET9NKPmoKWB/D+DnxbDeT4t2Og5HGEEsoCEkkil8phDsnm2hr3Ti0TWwqs8/W1Hh7DsXIUDShLzy\n",
       "xS8TKXymHlqEagjT1QPyEPHkdS0o8SgBu3xAvhYOKTLN/HXewfrOJWm6SiE5jfrH2JJXhqECx/Xh\n",
       "YRKEfWKT95mBYXyJsm5TXU7GxEsmmbmDqiFhUwSjS3CG5x3nmJjoZ2byvbtq8Xo08kSjSF455mGB\n",
       "twiYQpJwlBzqaML8L2BK4RvbfHuvs5tOcqkV6rIAAAueQZvaSahBbJlMCHf//qmWAGyvBegiYwKQ\n",
       "A2CdFF4bOZJ98ZvDYgd0oTcxHzHLmsqlzdoxjafrGaH42MqQsh+WagoOcZ1+HWVr/mFH+Qs5Idlc\n",
       "UNUD6tpTpg254zwOOmjI3l2xbnT9YC43ZmLEUkrcJsseUA0qRxnND7rTmFjNAlJGKTQvmYA22IaG\n",
       "pljG+KmGZc9L4iDI98KtHxpvwRVYwzKZrTqtrk9BMdhWnN8IQRAla1+T7RbK0K0jUdGoK6DHNnZH\n",
       "16gubKB3rBj2Uody4x/19RatV/Bcz253wCHuowxfZOgGO54t4Pugm3B57AmSFpKX2ore8chXqStM\n",
       "RnX6s6AiqLnQoJAQ/fXYaLgCMW1ogm3ODol36D/z9uGFXkflv+bxGM6rW8vrrKfP5+V/pU+1yj/g\n",
       "/sY5sWvzRETUIIRUt/AzpnMkNdgNWZqqeQiyOJFZbTKrN3GCQsrgbzlwY2ElzMKyQSv8eTBgbR3w\n",
       "qWuicFye5zY3rF73625ArqUETOrpmDLDclXnsLhBkgVdr38osufJTJif8Pxc9hT+ZontIip3sMbf\n",
       "qrgWoergUYHvyRLCwdbx//xypJKZLnePN9K53Qo4CbGZHol4aE/XOBEje0zt9rj3wodnISfjTbCp\n",
       "ug9Xbp6sAJvKsSMb8+LD2VYJj1/JknPWSj1vnqUmNIsxrSdawVh2EBMzQqVg/5r31ZjbeMXpKIWB\n",
       "gP8QfL6a5aH4OgVlnvm2T4AOkvDufTVkPQIrRriNhWwa1U0P080OgszVOt5LXT9pKh9j7YmdOWND\n",
       "NmX0kaHgZ3bVkBT0ZblB6Ew1cz31nZo8cnNjd5kFOM97AatI11XyoyWWDwv1PiCUueoNyP8zstwP\n",
       "/rzsRSXpKIF/2D/UeogG6KTQpAr4FhSGMaLs4t4tLYtwbk2LKzBBh4mhBVtVkpgsnt3Y60QN2qyk\n",
       "/NxAIB5yPdTVsG19l6nrnawIrC1GJboNiS7CIpIb6qfIYodxwQfe/KeFj8ffuDJE1EzNYIQe7jsd\n",
       "2mNa4tbI9Hj5wb5if+e8wSf6wp9qOvVjSh45PMJwoiXNDvrdDrG7+/oZshhjXzKvLcJj6GhZgpUh\n",
       "DihQNz6uzejiIbQZCWS4nNIrEqC9z/thnk600LDUL58yhL3hDAHVIeLK+7ggaD18Clh9az04lbr5\n",
       "FdAw4uAZOMv2ZLLIHuEY89ZABCRg4QV+GqOukQ9QePxCUhX6fUQXNhxMZh7uLOkv0/bssB9sgRB2\n",
       "Mn73vJZfGIX5HH1XFZD8h0wxlJOK17IcMBSDp/LulNgzw4qMED0qesgaGGUuDvNV9AUeDhvV1pUw\n",
       "NPORXoWYhqZMMdCjIMzgE7y2ix24gLDxHglwQZiZ3K73hNGS9+/v/gGHJj2n0LNITmEvcRFNCunF\n",
       "P2Bvsa1e0LjlNmo2so/FpyJwsN8j/QUDGJ1/dvrJvK9Gpk+otks7hNy/t7QuDsvPv812jyfPuy0F\n",
       "Ds6Wxid11YX1nsVL0Lv8dUvCULd3wfDlrbOqNE9KeaNJbuN3gFJlbN1WbI30GDCLKkBxQzJ2hlbo\n",
       "yBRewWzO5D8kDg6ZFx9KkA+qvMRIfOEhYcnciwuJk2ohWNxa1RTmHfXH4XmFxOtMo5T5yfERh2Nz\n",
       "yZvlho57IRVryls1OEkv7K8pW/LZIQ4mHPEzh3xSzq8LXp2xr2WBRfO+EJBD9HPX9LjAQRCEjJP7\n",
       "HyeQu9CasJDvgQoNsfBBiuHEQL8Eq3Tz4Q8XeuyrKJSqH8YmyyC8Sp4lS3JbR10qmtiwrBecbKji\n",
       "AxPQv1DWIFUEnMW+fRFPwmm+a0lCqwjWq1mBazZ/YKORJ6j8u1MqCqiEhCaRinPkK57RjpCHo+uk\n",
       "GETxqJuQCH+t/gwqMTGrtIV8twt2i4By6eaem5HtPiBdD/GezR+Wvid3yG/ve1JVMkRLq30Nzs8f\n",
       "EZnMQ4h231rcNA9qN/XIESrZ7+1TuccUtC39a7sm0z2rTgh7/g/Klk9+5X/zZwyH+eL6RwYB31Ps\n",
       "IbzSbpcpsZD6AhGt19BNp2XY/F6EGbRxeKXhYZZalyBDTt66ZTZOCDv0QooBj+WK8x18O9ro8s17\n",
       "YBvqhpJEhIiuJ+Os2kFOErmd/DZI01g7OPISKuZ6OyOdLArJX8mJI2WhdHHd/5FmLB7+cwTQnRX1\n",
       "QvubBdoPwVKj6UPfw0cdeLIrE/4CCrrToJFFhKlp0vbn+MkhuFQIAXVj16OVOD8zwJfPBlNxWisW\n",
       "zxO9GcCVW2sjs/ym+XSEa6BvF0Fsqd9N/3/a3S4JlEKnL2b2l08c1kyqS5NKrtvYlPiW+guYVoGI\n",
       "M87390hAEKt859Rl9OObY8xbe+mLORsu1pbjZLqXO+ewY6snwbA0cAtz67/D5AtuKy7tWbiKMJEE\n",
       "og0ExiLzW8/JhYmvYwmU4dhr7kVSrZPm1VoFMYAO0c43TspLpexPAK7sw72vVLxiV29JipSsTfQg\n",
       "4nbw15Sp+LT+Ec10VthIHYV64W20zmnBTCMdiJxtFhtEaRP76r53Nj4UkAgNDsNNz07Hk/HwhsY2\n",
       "R62vBW2jTd1ZJCLdCioExoVTA1bsD9O1WzMs18oyjv6Lw9iTre7fEx/VMTA2YLPtGu5J82fzukwC\n",
       "xxNmSPSvBfByPOryJRWLdEkZ4HZfy/Op4+iBZ53aQL6dTz9+kPZZm3pFqfOU2f8yeeLTab1RPK6I\n",
       "elbfLMxj1OwcpVS2A7pwl7OQCq06bhlTjX40UEsk3cE2Yx9s3LU/A+asuZwboDxiqKF70k0BXg/d\n",
       "uIvf7V0yqGkdSuWDMJQzebkdCLS7qCCf+BKvlXh8xHxF+ZUwNsk0wzH8gxyoWTrHxkW3xtcQaTxL\n",
       "kgsq8MvU96jZcjt0B6rs+NHYiIYmby3WiwpUy0A7VaPvz75XHFfR9XXDRiWAvoE164Lf59XgNj2n\n",
       "HfonGQb+K0qWxVoeF02N6QJxPAmccjO1vM4Gg1svKXA/3+mLEIdE6qyfSxYuUTXWGel5epXi1mAQ\n",
       "obsV+Qc2I9psPqlOv93oKAfw62IWY7ZfY3lVSh/xZPQNkW1Z5pL1CycvpRU8U+QRmxDi3IocL1KT\n",
       "4YrpEilVSzrT1waXrPikZyB2ymCR48ZHElSI5CwXzjukMk2wB1oni+PAIrG1WmmjLQBS1Fg6CgHB\n",
       "+NcYpvtIjQExc9BuvCtq231RyEJXLUZ5jK5NzW8YVzt6Tp90AexgsL8HYIOHYFd6i5t7HtCCrSoh\n",
       "MS5/msZi4YRLKpAfvK6XbNG6IOMFCV9mI7ASdbO4TB0kdrA8D1vNb/MbpVAMJxBP/KpwBp1h/9SH\n",
       "1iTfDzUrAYSOyH7so2LExx/qUt6h/aVPlTnBkF4wHOfpHVfNh3r4k1BPnPj6JNodwij83pJmOnj3\n",
       "5fDr/H2RNna5OHFDP3TFa6hiKV+xxZ/IY3yXoVBpHFrkV6iicRcnTp46lcGlxnUNfESFSoW0P1Fi\n",
       "jJtei2SSLeR9kBVL+bk1lVPUZmwMh8D1KNOQjI/mvaxI4bCiWCigjeyHzWk1fK0rOVa4NC8xBxTT\n",
       "pSxXBOmHDGBiuMFo44yzW5CQpEQbw+xhqzZF0VRqHJf20Rr5GxplNRkagvkq39KW5lY8YXcI9aEp\n",
       "WDvR5i9CALX6fzXaIcxmqWgOvxUfUPOeV5WcjalacXYuTTqycaKqYSeHK23GGVY6U/oHuxJbP8Ma\n",
       "3rgzLxSnM5fKdVylCGTM1TOz2dtgyOWMpPP9VNBTPSU6ob7P5jYJktGP9cGdLTe+c3bKrXflVAjU\n",
       "b0/9yEBoeGX09TRr6DyQjgF6EMyQxGfWd2P4euNzmGiek9h4klXPvgL9FSkv/pltrm7I0eGAyxMJ\n",
       "S8jPSfVnPl9Ke1J+Eda/ZWaAK17IB9Wa5n1IdXCmjiy49pA+UlGOAD9lssLNweec4y5cnqSLBtCx\n",
       "2QTUO5ADUuiobLQahFtsCHT90iBEeFMqyZVJ1pZgZeXQVRN0rABc0cN+QQAABVVBn/hFFSwz/wBf\n",
       "mGhsE5OdgAi/GiRKnim9q/yd7MTuHIEhFBtQuXg33irh9HSo8Pnkt8gzu1pKe/MBX31tz7IANr/T\n",
       "hxUFF+m2HwFiZKEFa300FMa4wGqfPLieMFDxdOFtuo9urdCK9g2IwXUs8TUSttQpjOELAThgqcEd\n",
       "Ka1rVqlS9HZydxoVM3tEkFPH343txn+UfqxmEATFEPoHvuIVOZqx3Kn70B1cZg9lx9gY8vUNYsMO\n",
       "miCtD7mAOSFFfrLe3yc1C/mkalqUzvZlhgx/17zB295wtX/oMBFBoP5lB8N6SKHVf6xRhI9ruSv5\n",
       "TbxAKD09xUlnmizIem7s9oQGY+BPCpgWXQ+QCKbSjjoN+K4xoRwZ5QtUxm9Yl10GpIFt1b55n72q\n",
       "4FZpCvLvOWOO5lDgE3e1x3yF1xd+gywfj2za9WiSaT0GD82M8qwQTXlhBU7pST83Vnn1RlwQkqzP\n",
       "wzRdPonVEYImAcQzDfua8M2iloUYSzaH0n+0wSWP/o1DhrfU4EI1pQ/V8OtqbhpPtwt0y5X/p6MU\n",
       "tTqrdo5RpxAJ8yWcaumB9xbaBZgF4Nk0nPHEiO+uSU2f5PRPL8YFPVOpjc3gheegeRH245Avdt3s\n",
       "sOKKpgdyLJWXKWejcloEDxks+o+adLXMI5HKutjNCD97TXq3F/MMfl5GxUtXbbvF+WhlBOJz4GQf\n",
       "LnPlwbmQLbEb/7yDX4BS/ahO0OfdWwAozIx2JNKLbIJwhOvMnHeAZUZs1qOHE0gNTBys323uN9L2\n",
       "Qk73C5ljAbPfT4419HRhu6jVpfZaE9fSeOuMJfdcQnfHZFtBYUbYjE5olCWdpukLF/0BZH1P+P4h\n",
       "/vV8lxMFQmxHZ4D6j9u9XYykyrcdyu9/OJgOACWpmdrGN+g8yQYhAQetAN7RwrmZYf+f6U6TVSsp\n",
       "DHMYxCqHvHzpAjaz0J6QEPphYXCEWV+w5qRs6mMPGeRBiiXDO0WuasssGzo5+FBf61l8W8I8lJPf\n",
       "PD0UgwU9c/3bFFJW7at5tCq7955rufNS5r+6ENKTwQKzCTnjKXeLLHpBDWc08bHMF7NigHN+3RDH\n",
       "dgej+Dis9f3JWFR1/IFDY38kVTmhK9Qbm5hAdQX1Lh1mftve8fdosyouO+w+slk0Nsw1bK0g3+XN\n",
       "qMZ75I/OI6zOVS4fIOfG0Ckcp5H8kNVuvMENvlgBOsnbs3HBsZ+N/e9JXF6dHtRruR4oY7NYtbQR\n",
       "d+5Kyw/K4wJzj8nBiwn5KnTu7P7taxGQdTjvtzWPQcUUmsnHfYxvzI1d/qcrwRlIjcHBb4Goq70Q\n",
       "LwW0rVpsOxG6+qSCpIDNE9XBJbwUIfPjZqRzxuvZX6yDT9IgrEZStPoJMmtd7xD56T38J1UkY6R0\n",
       "7J2V0ZsBtj7AsI35Rs/0EcasZr8Fpy8gXCimsOMFsOMCr3xTSJ5otyobomLLqm4F4n3OCY/iN6Cn\n",
       "fzJrSdivXHqdRAFfFHy2e1LjXTYgrU16nQo1vpfkEbF284LaSUW9G/9X3tQe5W+YVIfULghAXJNH\n",
       "b+mZuncZ0pVYxbqsjj8loCL9gBz//8GvrdaRlnRtwbMJH1g9FWBfQqLonlrUxcYbZMix7zHxzdNr\n",
       "/252Yrg3XxF+BlPMdnFH49hD4t7GSjsDvZDYLqQr1a9B1QkWiOnjP4j7sa08T1CIXpaILLuFNRIz\n",
       "NzVwH6hQp6Jg6GXZ8LINy25JN+8ZLHVhDS6xlNbfCQzkogD1GI32zXLwoC+n0RT7m34wwEIL0sHk\n",
       "OITPJhiR6S3KuauljXLcGVQpnSjZQyFE7v2Ksn2I7Syl4+FKI7iRCfWHRpEAAAMKAZ4XdEK/AKhc\n",
       "SGZcWWz4AHAQ7w/j9H//Ua5oJZMHTb4xKsLxFIMACcI90Gp1IYYDUYHqyma/Wq1c0M3quZRPunqc\n",
       "CpzZBPTD/h/du3bPF1WjhFIWJ+d0A152OA7gbiDWHDvCDgd0Tg6agnbxHUQwPJbqpTdWx33atwRr\n",
       "LA1VvTaDK8H0sob95+I3SqbHcAaVxkWKhD2s8R8CChXzAE9+KyWLiI6sRkWLahqegcxkffUrzVAZ\n",
       "GVDJfl9t3CYDPYNsAW/YL25tbEDVE4AxNDbNUBwRt/Grsqkz8udFYWl3KoLfzn5Cr8dZJGCOzRyb\n",
       "fPLWdwk5O4khlgosmjFQsQIXnyjK6wqVliJFEQaVSciAOjDflKtqrIP3cA/jYd0tyQn8CgDku46W\n",
       "iCZ37yPnKKUMnYTlapppMSRYXbRt6Yq4AvN6EVauvzu5iCktWMkO7ORUPConO2gYUISZCpmmeXE+\n",
       "fDaXlFfhq3qs2Nm6wWtFaT122hWTAx8vipKsfY9Kw8MBFSuo4C9VAzUt4eBinSBmCQU+JhFnAUH/\n",
       "a6f3iHFa/oYJ8URSwp9J+0cKZWwIsStPw2XfZTdYigWYscPaYIqdO86vBWo7m8a3mKcDHlYlco/q\n",
       "ugOxEuAR1qmrEfd2Pf6OpG0B7DlIkYLEqLTtA2K7j/NI3Rc0nmtYQe2mHMjqs8IYqm9kE3hmr1NB\n",
       "AsV3Ej+i1zZ97HInh8QA6VAq2uqKn5vKrLvcbTiaieA1SjnY/ddDuuBtIqedGThre+Cto5N7Dmum\n",
       "b33p+B8KYxYwhkKQPf1eZx6VwLQKT+Z8xCFJqt50yKvJcXGRKq4rjKztjNow9imxaKPk5pUqMXpD\n",
       "1U4lRXqRnlj8Oc3gVt0eZMKySipeUmblgZ7LJIuRjt1Fq4Y9aoApFVRSJ68vqxlX414YqvcX1jP0\n",
       "Jt+h7/471DnYKNbvDhnDSAEBt3ohP707rRUurRFOreFP4jcJHY8Jp/0/8qOmEHDhSPvFh9JYGqi7\n",
       "Cr+zBo2a3tYW6CF66CS5YTmUWjrhxvUtPQS+hAAAA7MBnhlqQr8AqDS/dgABxjZU6DhSIcoBEAli\n",
       "KA4vxTzOlplljDecWmhKvBWpS3aS3+glMvq46dtN4Q4ErwimcEVX8wGeXVg7S1MqsYHz9VVYMZXm\n",
       "BveJX8PlR2GVTV7z4erlJ0yxVUu9V79MzjlTp5cjJUey5LU80ZnWpl9zmL8Hm4wrD0QGeqbCb6Mr\n",
       "XqqZZwozOUZHqxOtk/7C+3x/enwThK8KBcMypKbiuF5KMiM1iwQF4h0XXrJo84MBgcHSK34RfX9N\n",
       "jA44bTtZOOshfQW+eJhpQoEfJMUWdHpKqH55+FYAS1o6Gf3Od8d1slT2eP7lNA2C3mQ6Ev6ftz8u\n",
       "fBQf9yU3L9w4+V3sAqDApvwAj+fLcS6BKsCzx7UHPAq6vfGSUGclFsGANm9EoWlrnIrdp+c37nfO\n",
       "mCtH2nde9UTcbhvIznSUs4wkh3HmDZVcwZBnZxpugbbKOtVDpDPhukxE64EEZnWL+z+djyjmjfyk\n",
       "Evx9Qprzb/Gnk7MOV+ndOEyNA2RSOrXqyvve+cwSMk1F91xXGspX0yARuGkhtYFooml6xTIJ/xkN\n",
       "cNXVgaOG/kCtfuJ3vmMIBy65K1XlFjufCjywK1h2S1t7mPaT1M3ESpBO6FWhTupPOiOApl38iSlG\n",
       "+1+0Ivt/UmF8jTPm2s73jrLvry5UuW267OVCH+aPn1zGqXcSC5D0BahdABPN3k2QGAMnwA9/paaO\n",
       "jNOIKjz4KbiuiMarrLa37enozsUU+h/akPwZGSDahh/aMXlZUQDnaz7T2se15owQcFIc7kR1NhvS\n",
       "dzSS/1nNtpwEhcvCvZcw4GZO5Z8RFdONRZ38IacEmLPbPuUGGUv0L3mNMsZJ9r2vplNmF7547Tqr\n",
       "3ELD+TlWVoDJRpuY59tQZAYYBABtWjzPoVJVJ7I86nIfdC6AEZ9VY+9dUtFg/V8ko56G2iLZm8Rw\n",
       "Kipn+x9fzr0fA4fVqqSHGmTXlhGAZOzTCTn2JErXcCf6Bj93cjxwOJvdHABPA3r6Qgr5Yb1/BOxV\n",
       "RPhiu4z94PDGabz0vZKODNbwmfJo/PvUp8pXVv3hv6ZL7QbrL4TybwDgpO5SeYmcy43q2cZD9GZI\n",
       "69I9alDl9Sz5vrWNOSwid0nPum2JerdGIbaBG89HuU5BpodzjzDXcfAyRIs8/7SIS8pDfigQSMHe\n",
       "n9utc3i4ICGQk4oxukBmSXBr9XbWnebbKYXBXLxhQK+FeBhL0Oa1gOh+7Ms0xGAFv3Dldq4buX9j\n",
       "r4DoDi1O8AsTTQAACkRBmh5JqEFsmUwId//+qZYAbJPwM1yWRTgANejefGd6xv1vj57T6HvoVBej\n",
       "G/o3jBGADn/XrfDW618/izZxiSjjoO3Mav/YdDOdI09VHAgpGLvdduKC8F/05bJiEzPY1MJquNxW\n",
       "1r5YmtK8iTUIQrhzThpv4xeKG22bRp/gWkg5jC234/49bTKL2TwRtAWH49xW93HjATZSrZG7tJsD\n",
       "U4837r0OnlXare6iY94NUaBb0kIqZumqSNuId/+yNK31woEq+3Rx0C7Du1+LDBrYWybpM97tLWhu\n",
       "rzVvtltW1isBdT/sWgB0xeWfC9BFQaMFmeEmQNa5hFcCpcBWpRAqiPYWdSjmmghfBqsFkwcZChrA\n",
       "txTfTH3J0gU4A2qQ3UwWuPXMqQnq/OWQYYf1wBG9P2KlUBiGYUuiCPhYow5rTqIs6HXK7iIUpKNF\n",
       "IGBxm1FI4qewfH7ZObkLAfAN1bcVP2OaM3GqUZog6eik6lst6OCW2tIl+/s5MAiZq2GnYr1pdLLr\n",
       "3B7F4zKsx7aTioj8C2l3oIt47PVLiv7eBQ/NTmAKfGcqdEufkh7uZgeGwMJRXIrQy6YWgsp2Bp7l\n",
       "2dQPrCyTpXAob+jcY1pz1kXZOTEXtQlG/njo6tqCH7WGZfzbLRfDHTjCMQ2T4TFiYC564oG6ieOy\n",
       "zT1Lw99eC48Yw2p80E4+S7CLUryuSe4cEvNVQBOhKmVKp5nH6oVi7G4bYDjwgzdM+bTvkpT8VilE\n",
       "allhH+Kti01vAblUCQ4Oz5FwM5hDDaBl+WoHJ0718XQGQOdCAr+05ND/cPefOrmqA8OmhB524ffY\n",
       "k5BeFNkfkSZK7hM6z8rgJ2sxdxanSxEMAwS7jfCj4Wr+AwRoJ6f9QE85GpUJfr6G6Aa5bI/a97+v\n",
       "IYwThe3mmvwqEPc704GW0KMmgKzFrILcuDwje2peLEPrVuczbbCiAzbb3VZclzHJ/VBb1R3LOes8\n",
       "ExHTkk4mj+FoLUdnYq0IRlDtVJzb6VeeYB7nt3t8Z94SJenuSQbxSqhbNmOIhHzASXTyq0sw53J/\n",
       "7zo9haMg/hpyLMx3TW8kwoQxEEZKcdouc1qI8nJiqmPHTrV7sYV+e3ZwZoHDUDxoNnPsq0tLeSvB\n",
       "eNl7HgcY063g3NhFyEsJtatbn++0mibOcYFHDIuY3d14PB4O+ytkinWa72ruTTe3rqNgWUH34z9j\n",
       "2ssx79pNrKicvjncKLXxcVZDSytXBAoDc1oumCdmC7pm6VcFzT4dJHh5mpNznfQYqkP6puajp5mO\n",
       "KJSXf85BJ/UiQsiEaopOaaS6WKZcXyQtP0fkRd3XmIhsAgjpSfK1UiA/hY4aNQ29u2w1qZnS9MQm\n",
       "mtNTjhQS4umouwz6o0n7TR7ryIKkov2x5btBSYglrVpKll0dVCbsB/AW5HCu7rOYQwHFzDedKkQy\n",
       "v0LY05ShK2H69p1qzJXRG/G5/rHpdcL/kCkh8hTMITjQBILgBDVKl+YoBSK3SWImoLt/jbG2aGvB\n",
       "j3xVSDI7qK/M8pYdrC3yWExqu+vfYgvQAatMXIxOAAKRrXlZ5wkEi1b+YNNhdTNjFeAPkFTuMvyl\n",
       "XwvPm9pEMygm1p/vHPRBlJTAqC4FeVvKPTCzcWxQZK22MzFDnDtFVi1GxBZ0sk5Q9ILUZ2d3XXXb\n",
       "h2b7cKjLXIqCjif3X920mO0RPBsitxTUbtJj296MIfJfowieYToXK4K6xr4kDMvcixxw/4V7GU18\n",
       "jNRgSu1j2iEqBZj1MjRzpqW7Jta65wnjder0P7DG+d7vfHnTnBWDUkrTX7K8KX2JLwsg6wVk4sFK\n",
       "QDd7fvhYp2po7FUoPrUTyiXadFo/NhWCWtHxc5tFYmdv+KS3H4dU1xA9xOWd/2TI9uCuATZ6QUxR\n",
       "CYGFLZH4YzZ40GqG+KR13Z7uK12OwEvAJK5GasA3o1ZN3E7FvdWp0Y/a9WYyMsMlVyYBysQIVX9H\n",
       "uJl/nuNaxVSaRxEeG20Rju8fl3wJe8m//x6bMpB58iy4fHyzEqgloh8/6yn50k2TfSe6uhPP4Hrr\n",
       "ijCWoYa7c3DrwhnxRrSHzlcVQQFWDJ2VMcYaJhSaUiAJGu0KpCqUXIhwAu2SqseZ9AcIG+qM68K0\n",
       "hQUMNNzCaOHYt1wMt7AALVzxUe0KRUl+Ck0IbCQUTgO0kNRunhewPo5Ws61aEWLoMPin0zFNIo3z\n",
       "jpjfX2aQBAM4fJ1RkJQFIewqRqexCuzzVDj9xSDEBigvRdsWGs+0gcZnaHVwXePO5ibqf5CKuSQ9\n",
       "7DkiOrIRv3iNbds2uqVWdlrLEkiqfY5gI/xUnAaA+F3A3M2VXv5wao3FuEzB9WDNxameHmqqrCPN\n",
       "/HhP3UbsJsNajykL6W/zlsC9i1SqvtyZf5po9bqG9FIQ3RbXt/h6ttIKL2onxd/OE98zcWiwenpr\n",
       "XVjaAgUZQzlZx0O/b1tPTWwU9C4Y+76fksay2NqDXSBOCGBYx4iULLRpYpv0w0v3NnnMa/690jty\n",
       "HqoAib+d6AjknSBb2Zwfkqx+gi34LsesQyRLWuXf0UUZ6gMwWz5iYCFtRlc0sr1EfHOnVte0tXjl\n",
       "R83B4zXH+HXloc9TyPHlIU8GlXka+I5JvokRVgXGEwikoUlHh65c3hXLSAo3oUbLKwgaBaUdLG6f\n",
       "/HA42u8zBPLi5AWGsXhUN5FGZdKT7VJ4TglM/vDtEGw+ia2S5Bxn/a3bkAr943OQK/oo3qs7jPQW\n",
       "YbY04TRsdZ5ZnxkcGLM+P9S4ocgQVmn5zqJuPMQpE2bIY0zgTZliJkPZ3yMSzr7faHIDBb4/WRhz\n",
       "DBMGbTxFw7yV0sR8rW8oHrBDvWFWTUx82Uz3iDp5KwzjFv1rnOW29ilokl15cg1/POM8+3iBlo6W\n",
       "wasFfSGUv6uD29W1+yWvN+KZnQgTz2l6Hmvu+Gsbu+otEiY3/0PCVlBOmZIEjyIETWlUj+dOxiBY\n",
       "At6FKuG9AZ4qEILKKb529PrrqFFR8VH9SNGNApTkYLNsK8Zt+5lH40oK9QCk3V39hqz7xfzGViNr\n",
       "s3ks0jy95WUQbTyEF4Z7YRV0DtJcg+SW9vFByF5Tefygre5WUG91UX4zj/CzGXD/R+YzLCB4NIRf\n",
       "aVjKjReRF4wP8476z2L0hrXV4ZlRXmoGEzlhkipnQdG+YwXGOgPp0//snh5QFKww8Ow36KoZGDp+\n",
       "Pe+NeWlairXWP12hLy7AK0WMyC7QE+Hfiz5osqcjGsaejubU6DVtnkXccHB2Y75BvplDyk/WOBW3\n",
       "HRve0UGhSHB/zxWJ452n0/6NF7k2zABsUuBfpTN9TeYj3zKRSPaQ2rdW2dQFoizyohpenPem5eiz\n",
       "p5UXQ/gnOU0/18ItJwDsWcv7G/gHQe+12wWZjDknoFXzh2TsSZetfq465+5XwauvHSZFtEkDfcFL\n",
       "A+TwVx6gezvL3v7Jcqk8gvWKoq4tezPVMfUFcuCy9r34qA2KzeR5wLAQ2DyoNrMte6C7YeE1bUEO\n",
       "bB5b3O6FMzym4AElQJcIGOI/dYAAAASyQZ48RRUsM/8AX4ueULywALDvap4bwIduUZz5iSIoloCh\n",
       "Y5ClTO6PBAsU8BAPavAOQ+17XekG+eWFTwtPqf8Lxc9baVnTexZeLFX9jn+Rd0Sd87kqi5ZXURZi\n",
       "N3BhcBy8MJdf2aFyHEQk8Fm9aRWGSkC2vfdwEp63VpSKudu2koaTm+sGtrDOp5UOR3qwigDKeC8n\n",
       "gkL80oXOMUYC2DssJUzOsdBjqzSeylVHK/M1GCfqYSiBXDwwSLtOVIG/kAkfS0mKOYAFA/9RlEZO\n",
       "vGtisDyMWfNNXKpQ9JOkdU8iAmqydNIrRDX54m/XwsO7NRBRS9N/1yhRIWMvKdBf3I/RaK2iC9c/\n",
       "hzPKux/ov5Ez6xo6LvcNzKLg5t+xtPqZ4i1P+OEJpf+ZWCRz09obLZG/oiO58eivXc9LSbd9Yxeh\n",
       "5qQAaUR+hPR3kcHc4unLGPYtLGvlFMD3nzMWPVI/Uwkby82gXV/Jfnrbzsi4fTFEKnECpANmTVot\n",
       "HMfDZ7WdZBmJaoTGKPwSSyDRRtcsMzIkmOTMN4YEdvGVWGSTYz+1ObVg6x4Byq/p/hyp6DapNaq9\n",
       "szlVuUYL30RbonSSRU1HXWV2nHFv+BMQlQFngE+b5afNyxeENu0bNJZYBXPFX8sSOlW/JfKBTojF\n",
       "u6viULNpqUP/qUZZ2fi120VJMBgv/pZWGU+4Zi9MIwBFvEr1ay1HxAH+XtbpHZBRN0WJwv8qFDYa\n",
       "LqxukBmccLA9OdkJLBFhPKVjOlt55NPtfbQKEWd1jttU5nBF451wyLs/qHUsgCRqKpiQJGHRTK2b\n",
       "5yRhzOVcTShhVZZPD3JsXBbkW2qpQCVy0roDib+tP8XTm8TttgMyz4AVsEF2nUKd+P1IcNZJ/fJA\n",
       "p9Xniyh5ICA4MALmvseXvMwbyLD/8883UH5qU+Adcms3L6vgexnuXSLla2efAs5ODuIkE3W8I/kw\n",
       "TQ8axQqmmiuGE/+1mja0KA0D59hk2AZ+wb0VXUmMRJ0QaoJzHiOOfSPs/CTrNyqg/TjrSj8sWQ/y\n",
       "r6FMnagsRwjhdbfe/4xAhbp6zw5q6jHDV/amTjd0/GzmxvAU9T1leP6d33tmPFdaIoTXEr+7IUP7\n",
       "XEAJoGwpuzksDyylpsiFOhYxz581VbzomEv+/ZLy0WL7pJtIleBBs7/7S/OzNxR3JxsbFdiThE50\n",
       "FYPSXdT7M0Jn3EXovm4IMVW1LKFwO7OeamTMENuXpLIc08Z5H/fyIG8rv7Pp4HWHVPLxDp+cKmck\n",
       "xTJJRB8lt1JKvN0h5jaaj8Dcy72DLB0EPPBq6CUWrzCjsDCiwBcVBnRFG0k+w3qzvpC4bZnn6y2y\n",
       "2QNLtqctqozpB1sX88EK/x3/8TXB5KLkBaxTZfpqJBINUkAgsHwCLVKtLwHwScbb4hO4nBZOaHo0\n",
       "P3rGxIYL1krOwUZV/cJ/kplLDvfAlpeLoqL+VAS9rRp6/MwuwFv6ciN0tRPOENVIiDQzRp1KSqCq\n",
       "KrzZW8DK7jvZOKNLC6KgvSwWaGG66UPrQ2CFoDFFF58AKemh6zE2cVwMazI1F87h5CaepFywNytf\n",
       "gUat91Q6Evya//x0oPdlosiR2kqT2pRmGX0zW+UAAAMDAZ5bdEK/ALFFzHUxZolyhr+7+BAEICNn\n",
       "4JfgUny/KMQFfts82UeDh33P9vEFI+mSYrM9y+N5HCNjBjo1t9rXZ2ZyJmJ6wyYnCY/YnX31Q3VR\n",
       "LDojgtwaFQcl5pd6aQLj5l0fUkeOoaxdgRlNe3JEhA9RGMP7Z5RpmzEXx7Sq90h+HU3ZggCEw1N1\n",
       "NsBGSC++NJSTj8/gQ+X0zdwO5MqLamdlLMjJ6PsAvE19fKp3kLQe49Clk2wyWKKQFP3UE02MNJL1\n",
       "iBMy8F5WTpOXFvTTQRWtf9HK49VzoJm/RG4usDoiQ8oxc8bkEozBh/Qxe6dqXEXOCpBcHCR9bw7F\n",
       "TEFmYHjiYOXPi70+nsuj5eFaBHT43mrZCK7Bm/52h8nHp5MVWE8wmCJKhSc+X89NjjHYp9BUHMMH\n",
       "DOcxUiKTmthZ8M3R2b/2m/CMF2gyEQjJNqsiPyMestzokN/AeTV8QgbFKenpdWeOF22aJkG62/B8\n",
       "hLm3SFwQUcxVIDP+Lw2WEbD3PenI29tqf5tfs3MkHTFdN3auBXB9W+6ZGncpn6WI1CQmyAMfvel0\n",
       "B4hTpKesj1aZzRLUgdYz/DWtFzJvsHDmyQJklsCDbOwrlX6UmH3lNxZWXXn0ZsmheiLgCkG6RO/g\n",
       "Q0/SAtF+8Uaj/w1rj07bM912p8CrURpIprpzqkMR/8y0UECZQN7d3z9RNABy24kioCM+rVb/sVKa\n",
       "S32XXTmSRRINHwcYP9dfsuajNXIzER/EqKfChFevcbyG8VIpN/3ay8seQZgaTPDmTBDLPTXPLD0N\n",
       "b2vAcL3h88YUb131Van08XmjbabvRYjmW+n5Y5ISflZ3hB859LI0hUEKPKWdaXSQiqqlOLr7BKag\n",
       "cGkouqWy8BMnlMFuuHN4iFB5jHfxlz0Q5jwt7uRVx+KLhNccZt6ou+3ehLawjQ3j3v5+573iZRXI\n",
       "5puJ1a5NiBmEUNax1teo6iRXAko5TTVBCAL2g7dwF7yIp3YD2kov0M1DYTcZ9hEBWquwGCwsVdu0\n",
       "6CNxRvX7AAACsgGeXWpCvwCxWE9h9CSG6EKQ5ghTkLN5mYqvbCayAIjdUphHo4jFcPQOcSdB/CPs\n",
       "QgY1QiZZUfU/krR+r97QFaLCq/IA6eRfGtI54qjXqRYp2WQ+WzAhrxEaTATg2s+AZybxi81zituz\n",
       "unNTxIiUYRxfMQf2Vrh/dahuWKWRUC2ENTZOQrAVn6sEfxZuixTs2jP9ATDMP3TJ9c5JmxLbHUT2\n",
       "6X725korjDQvPcfYjHEF4XNkoLvqEcVG3lLfU8FJ+Yf9Ocyhj12O4lkv0vYSGas0qhAtzkEfdzT+\n",
       "h7gsOf80AeJB2Q+WhiW/MIlXjUKBaUEUXIY2BBSZrzIy/IuxDQuecfgUS+dU7QLJU1OIsPQ4wDz5\n",
       "aAbUKl9ztMb/P8eWxbMu6hsxNEAEhCj9/+9Dq1vIyuLmJATh21GFk5RIUu90bHLkLGjasxvByQY1\n",
       "T7i7OSXy7eMD9IrwQpoZQ66z1aeuARMdrrwQM1IsoEYAgeM/E8/6UVFd0ePwnYP9wY7prcAibKvc\n",
       "I4RCv65dkmre0NgwaIpHrnQtbvDwZp983jRwKkWldHt1Q+mbbVK4sUbRCs6DkC6LhNUNJizIpurR\n",
       "9Uqa+2B6+N/4DqhIu+obeCIrDHf6RrT6WJdf3/ICYB4aAaQD/Q0qOYSR6PgjZjXNOXTHek6vxf7O\n",
       "PLoGly2uHmnNCfSveqylA6K3IcGAAu0HkDbPgUP/bSb/mrzx72FT41OBAvGKDj9hav0MuiSWIIWU\n",
       "vnE7V7QmVsvi2/QThN3umH0J0xJNmAFisSk/G07YSHt2SJdUZL/GJGs6bJDPAqAh51HiZ7Gl7aO3\n",
       "gmxAe4eJDOD3UAbylGXR30TCiRy63SOrkEvNTrR8y/JByYf8vh9s8d1fln8wLpBWk8bm3d2vfvoC\n",
       "nWcGFGjh4n0Eo+RKSxMrUgAACbFBmkJJqEFsmUwIZ//+nhADRr2mbZ8Tgo44AIqIDLHGqU8eOzXv\n",
       "npLOVzYSRkGv/w5oYPXRjRiRXV/vEdHjj8KL4AFVmL6gjx09+qf9LwC6BBle9YQdaJFzUdg/DYPV\n",
       "IVBUXK5KsMQ+M6aJHBcoqJROp4N+BTO78cdxJoknSMSRirNBZfKjSP3EubYImmgwSffeN6AzJCOo\n",
       "XQ2cC35+6BxsbIrwm4z+NcWfCLOLWA4ZYrC63kdZAHbJ13Cwc9BFV6ddgs8bC0OOi+YQqgHD3CB8\n",
       "tNtIW4LBZqgfPBspLF3lQFXX4S+dxbTmMGGudHmTuZyJIqMs2y08vZ0hCrJLT0zgGsW73x9gZER/\n",
       "3s9vCNrwF+suoSjKtopioH5mjxlG50YaaFKxEFsRuouQrtKeRenr+cNZouvWsb57I9M/QUesOs1l\n",
       "zbvpqhqiUQdeOlMwZIXApzCxrEE4LuMRmp03VAnlYy5t1SQEUwi9VluwcTh571NlvnRCIfpavD1D\n",
       "nA4qr22tBqS8DNecAWVKE74MmKTvwBafUh3K5q6n7wTs4ositH4C+Y7g85Ob0jnGBGYFdVgf3ps7\n",
       "neKA68Y63A4ICkTkCwK9Vrn18yLzPfdVi3sq5x5evqQcI9fulYmMDX07KOqODJvPHFLatM++wfLI\n",
       "O7vK95cXAXllIWpELz/JcQgGPv+ZgDPU0tfRs/nz6iJYgtxk+t06/523PpztT7F3QKhA/mMEtaKv\n",
       "0pl5UDV07yIMMCBxcckcgZM1c9Zk6GWRvBlNHFCsrXvqYTLT6+GvLDYdETa0WFjemxzZYpB4dhxU\n",
       "FtIrzYQameeVwseI7YH9OeJ4JLObudFcxjah7mPEO4cdH2vFkve7QGlloqtU6EnhvXGQk3FaMcTR\n",
       "hi2fageZC91ixd9RNDR53J0gcdTajZrX+JZcLcho95t8I4Qus9fPkaSnlZwb5DDyZ9eGJxjaccbs\n",
       "gZnnGWD40kKlP/D3fyhv1AS648TA9QEosAD9eKS7PtEg2wDlWFowZNzGIhwRD8p9gcRD6+eT0wLs\n",
       "Ouz4DibcjdPVybyACi89ewCnGHVQIEyxn52WuOu44pEGkeNiCajWhiE+eiop+JbCZ5Oq6+zjMi/u\n",
       "bnIGaYaM2CFmDVnvrWyhorMRC0RVg8H10SBGybksu+M0OQOSlvml3nHs29ZrJvhQeMaZyPkv8hei\n",
       "yNf/5833GFBaj0t7MVL11h7r/N7BA4QQe00SDag30ytHYDwXRqUBg6mM8lLp8izL/Tfed0q0jFEH\n",
       "0KlSsYmGpJREYUer7TqPh0sY3Xi4kBHZGuPBJ6Np2cVgoku9dgBGzxMOeBME5ew7v82dAPUE3uMO\n",
       "ciBDLmOmdH9DM6rLNNSxTwRw0voiVRx0eaOFwfw1qj+2Nc8DiGHaQnlDwP/TuE5ELx6BKjznbYNH\n",
       "46ZuMJefWW01SVxiPPZ3Blhs1ZM0BmqaHS10XVaJQK5Dwe/n5W0LnpmU4s7V3Uz0ufl9FJ55D6Zs\n",
       "dCAfy52buiRjHqe29o8+YFegdzb/c2qjgLoGm6QxXM89HJ/UdhX//QnJGkj6ywWuIx7UdOHU7wEf\n",
       "iLB2/ANXh7CGGkRuu2pncj4eBhi6XpbExEIq1XVChICoC2qHBovBhuAwR1KvXOejOjN/BZzSLU+3\n",
       "fW7Echgf2881nmtKUtTqQvy/tE9DlOLLWV2aR4y//1S3V5gVy7St0BObkGwDE9QwBiiWspR/tq6Z\n",
       "xRXmo5sl7vcgvbijiaWg+XH2by0mCM/e99wSl1ngDbMVlvMyfPNF+L6oFvFtL6WANNE3xLuyXlPa\n",
       "15/giqooJGjrnz4O6Dxzwu7Xxh2UT5apl+kaYxrUz8YRz32hEreUkWNy5pstQWpEINoC7lky6Uga\n",
       "q6XG4KjKcfIEUV4ODZCExzXp1mV7OrolAZdSLGiS9N8iMJi4NEZNGKBEVGgL/gJFTYgxlaFfaAM0\n",
       "76zzXh0320dsxkCrfiwESoaU75041c494wdwZLcaj/1r2QFSvPy+p5ZBhnHPmqS+VBXG+BkLmEx+\n",
       "JfSj0qAAdx3EdSheHm0ghlQL2qb7G5hKV5LXUlWCkJkhOmNOFdsgHUsze6/EJusHPPUrWzmaawyB\n",
       "n63reTz2o19+oAa525+ssmSDAUHbxucSerW2fGmMdPBjq1WcvlAG336Kro2OiSWPo5DvC65F+PKX\n",
       "Fzm+Q/MuO1EkM1+yVmIaL8Hoyq8HT5JSUAz3PYgRamux43SwI8K96kg1pp6ATL9UH7h86mmG3l2v\n",
       "xMJxsVEROuWB+2kbwwfSvVMasrAKvWo4RtbLc68MCnny9gEFhN+S2MJgPaoikBYX9nBYOZv1l9m2\n",
       "OTJtRFgJQWFn1rQZf/kblQ66GiX4r+tfm854teZhsgX49PsxeIRv4/AYIMzn9fPCVGoLopuyROMq\n",
       "OCfLtoDnYX4jw7V/v/yaWPnjMBCQKLAnwSipo9TpOY/sOGHuRZnQthzal/OWwqrw4eVI5wOEezho\n",
       "pd2msiBgkjE5bezNIb/KBwtBlrTGXPJYdrXRYqpBN6+DH1VJmDpZVcB975P8NQutHlUhcgmdiaFE\n",
       "azEFKQGaB5HKwIZ5rxwTusJa5ggJuJaKHf7HL6saeil3zdzO/8LNyl2zcOdJnM7JFlhc+pGpMjKJ\n",
       "fTcjxJhYw+Ye87qaQQR4VVUSjGq2CjzLfyvRPPJchhRJGRuJzFVSK2wtiRootJ2C77kzd98ZdNJ6\n",
       "MtVvUhtctiPs3Ap7G0ejByW2VnLzFv6g3h9ev4tyHc6wujQcMLQhUKGADefL6hbxutV+U93e8w4u\n",
       "t2m/HSr7owFQLSkIUx9+q6iPIn/7UToZmlcgZDrdQDyJnrzGuxLMK0Kkp/0e7tGfEQXjKWk/5mKY\n",
       "1cTrJOOdEZy4g6YybsW8cOm3DlpF6M/A4n3Cg6wUI0VlazR8zFZapjjpZTiPKxMHVQC2amoKqnTL\n",
       "3bcZjXFgUan9iVxGYQorStBwx9TEO6Zj+4kQKtG+LTUnwBoZLW7Bnwthpd6zkf1g2PGOf5Q4lvTX\n",
       "B0J7JXPYZuzUiCbBzcjemPHQnXE6jBp2WPGDfKUniKn45E4SGTIcCZjuioVSBk1YHQ5AHtAd7ikG\n",
       "dMjC324Gw1aF7+B6OTo7t39IoaeeAU+LOBuBiSerxpmTvJB1XLmi7X4cQZZFPFnf1qjnIoDfBHOt\n",
       "oyFTwpXgFu7rKe33ihi5bJLLVlvfrvXrbWVmnaoqD7nx8MMjLzsq625ncWVGA4QcrxwHWoPsW8Ni\n",
       "051WeyEPhQxFPkyRP63xgsLPzX7diMOBroDzE9zOuYy8Ohq6r9vIe+hkTJ3bm8NVamgAAAT2QZ5g\n",
       "RRUsM/8AX31+eNGBwAQVxzNe21G2YHV/0dZOmxUCV48IgsemgDazHXnx6baavJheC9KfE3jY/F6q\n",
       "wg+VTyG4hy5zUwv34NaEm7IpCv72EaO+mr39Qu4UyBYuKhHCtOoPM5phqWxWKh4+dMRiWpsO20uB\n",
       "5qQL3io0qXfQsX37Of8u+5WRVvnYTf1h15rJg536Jj50HIgoagjIpQ9W0jhG2Boy9MkNx4QaO+oz\n",
       "+PfDjXxXFSSIVb5n5Hx3YFCml5qm0Np/wshDexCMHUPhjAV9A/B60byFDC6TiyZen2UK5tjIcxA0\n",
       "yLhTzpJw0U0pJBAe/BMZG49I8vDm2kxxi6XCoXs+CGKXUnVM4nBe86+1CCG69TOUShd/Xj6KXx19\n",
       "Tdw9h6lKavbL2A8HBbyfnAXamX77C34HEmN/Hc2XAf7jJXqmb/txTwxKXNYDq+janos/J0b9JJ3U\n",
       "TDZQnU/Py8VhrEw5nQo5oU7p6lQWaTAMo7m3RlZLdtij2bpvhaRsg6O+UVTFyLQO1RG0m7P6gkBQ\n",
       "zatllLR0mv02anB6e/S2P/L9QAHw3zt6Xjpp7yEaJP+rx47YjOqAs1VffNd+xJveHrzp6sT+u9aO\n",
       "7cn/uBi7hOk7AeeP0T1iYjL11yzGx1QTbUjlWTJZvza/OGe7JDg6zIPXagWfrmtJeWmi5KQrjYnc\n",
       "nOQJqHFGvAbICReR2K+ijr1PSHs/tcsR5lfTfVQlwlWPKgoZjqpNEv2nUj2lDtTnW3LW2XV4DDNV\n",
       "B7S2qQ9e3q6zuUVjiu1S7MceeS8R/NeWcXHwmgGUJEFMgHRFLpE2Z5LHavEyxzGC8RFPMm86KQrP\n",
       "Qp5s18NZGteDznfyV8mxdqoKmXq2ODsUvtGioDaE9SILbPbGnC67j6gpKMWTFuzSQ7XlMP4Wkj/4\n",
       "lxnR/gM2jfADaI7JmVJDYzPDEkb015Ft+TgWL3M1fAZnSt3SHsAWX6zVhSN2aBt5yKgHuTaPRhUa\n",
       "cxQqRiuiPh7ZpFBmTMW1jy4gGc1j49e5RXMMdQMPHl3JAmQrfH5MXu66oadrFIanOAXhBEiuurrV\n",
       "mfLXdKOzLxFReKv2BbybV7EF26D0elhmaUJ/z0ndb1yX9EB/cdZhJUXOIBrW+r7sVmXxyIAL2270\n",
       "qSg4AVIQNTKacbmNN0zfSe1N1k8AR2VBkwLn2twlCniCtAv9+FcPg1lwZr8OAsbRNyvILQmWR1Xw\n",
       "UszRGwNigCBpiQGwV7Rx8jGdKH/1VdVx+QQsBqyV8s1rfPXPZrHH6c3NPBlCel2cAobkEah/x+iM\n",
       "OT4RM/Lz5JvWK+XDTPr4q5++EFkA6HR0YQoXS4LRjzfCYQenEp8c0iBLaTHg1mrWeJDiFwym7EV5\n",
       "CNXssN/JHjzj8+L+jd8SwosxCh+hhlV8daQHKPZgROp/hNI5jHzP9qcsreWqGxJmPunK+U82yuc9\n",
       "NafNQrQ2v5yRNy6Dr9gqXeVZcRuRzz4HVFnuJHxTllozhr9LKYxP41V9ZKJ06KfYQv5TYnaCS9Y7\n",
       "03CgRyI7sLTASp66oFhW16/ud0MW0KfmznT0c0J1sJjAL04SDxkIE4cJyO4FJ6dm1uTzR9JBTOC9\n",
       "KFmB3NslcAWHIHXvV1vCLM37RMCBThHz2A1KM0Dl/NuhNBP0bPzHz+nu377yzxZmvMIYVo48LMAD\n",
       "7EqkWhk2YTkFfd+XcQAAA1ABnp90Qr8AsUXVSM49nbYAN4PtBd9fL4nUE0HwOWlLVUw/GM1zh2mM\n",
       "G+tJeIlrEqSalhvd0PJXVOKeuFKGKNCr18gXuFeL9zij7wx7a+ngAlticIxXgtMjk1DzwALywLsu\n",
       "lyBA+sZizTrEIKxtVhNBIZGNTnX9fYkiHWT5eWF0b79Dwf/Hm8e3iTaoj92l+PEXVmNMxOfYrfQs\n",
       "qhNjoESJ3r256p7B4uKukvjNPInRee8Abpb3zd1KcAQf73CtWFuOUF0mKTNxJkGtg5xEyR6Qclsl\n",
       "3ShbPjfAbcjLnDJuBtjEDa1IVjDadJHdFPwMhs1wFEb6qpjw0qfqleB82RcDX4BsQudDs7t2wWj+\n",
       "WBT5MBnE8IN9jac4q5ssrSREbAKqHBL467H/RJPynrO1tzKO8w+A2Asm3yVW6Kr1hHvRI6plYRSP\n",
       "xVi2m8k2F7o2LmbG3GZm1yMSxG+RVNhRRO0RIGTbWFeRwmtxvawhvkDFRhX6/qrOPq8s6J7mpg5i\n",
       "hlvjMt4wEN66lNmj/vZIk5Lxsyic+dDfKz6bhxS/MPKlFWHaFXEBK1xHvrVS4YdoXp/4eb6rjfdY\n",
       "efbHuaYo3sNLid/1/XsD0a38h441ynP42yDZU5ytSarTb2HFzoY8Zf1SUO0NeA38L491zen0ebeM\n",
       "E01XlopLCTok4IdLvZchM6YlukaUPcst+YQivqmO3cLWTvVWqkGYS4QfNNDzWr1l8g6uL/OuUutu\n",
       "ZT4i6UpinpoeNaRAcj3SwphHcEIdTs8uj9nGRlBZjQem6exWdZ3ZlbMjl/W6ZCv6MZaMaqnTOdy/\n",
       "+K5AwSx0c910hyOqFHPWNjTjQJGioHMHMnIjh+yqLXXbW58DlJYjmKeinWjQEVCdPmlM2leIyXGw\n",
       "rlGbb1oKexia4ph4claCmzvyUbrdQDCd77on8ZdDn9GBazi9mL7rLKISnM+d+NIjDJO6L/6KJHLv\n",
       "Ge3ZJWVsccrC+xdZgBInEvHnV1y5jQdlQNGVGw51XE+AZ5cOln5TTr9oLVxA8v/jx+xYiPnWX74S\n",
       "IbyiC4+e46EV+Mq6s/ckp1pw4Hm9xf/NyE2aczdj9xu/Dp5b67jRqmKlvLnv+ImAI8ZiRFAWe7kD\n",
       "89pgQczPXxMN0AAAA38BnoFqQr8AqCl3ihqgA2HI73WVE4aRo/zdPWhRcelwSvR/gCoQgxwIirbd\n",
       "0o9Ex0A2kNOd9deBtaYXqw20cdRUfZHDC1DwWNVjb5k+EzTxcHGnKf/CozXwtrMFJkb8BFwUq5DU\n",
       "D1iFsRnaDWl0OylWChklx65TH2EkP/IzfTbrMfkZjlTQmGm/f0mDTlhNUA7EB28RnB6P/D3dZx3e\n",
       "bchdngfvQSSto8/ymx0/98VsN/dcTMAJShumZ3U6DGZMt9O6EJZWVMbJETw6jm9TlWDNxYq+AF2F\n",
       "oF3Kg//pVLfEf3XtoJFIsgIjtLd6Ox0rFGR4OyybFOp+FODAB7wlqqA7NA4n3/WrV4gdAqL1/V6C\n",
       "JJ25Lgqy36+XVMTVjFO0wYL+2DXbmkuZpmbwU5wNYaJ6g9CnTJyorj0Po9eYGQ4bRyA22tnMQwd9\n",
       "jxNRm0b6roNfok02RTFjxT91uAx4jryuI0W1FVRk3i/K2Yx+Qoh5bBvpzZlFxeOgHgkzgq4OycrB\n",
       "JaJVhvBxSPVV4J8Aq8vwgm9QX1192NslEuN5EFBM+1eqv+8RTpyjtf2DDKRoMDHb/2D+T5ElnAJt\n",
       "IvLo/X5xnexi5+pyhCwiFoKQg7blw9FpQZMZJi384cbJMdBP9IiqDIiQ1dWVzMqlxmOssRypjv9f\n",
       "aNTpXmXhpbYtBYusWUg6cXhvJ3O2h2gNEjZf42LiXDBJ9+d0nnoAi8IgidK6zvZYGB+8dVvnveos\n",
       "qET3bYVn6UU7n9MAyCaKXiChIT9ARfpqoPv6o+zaIUgntkewqnmotB7iVgWJdr/9UYL3DOcT861O\n",
       "2QaKPBHMzi1r6yw/lorChelOzBx9sMmtvkKinSs2O8lhAtFh1CJSzzC/Kd/94Y8U0Ugd/oHNwmXI\n",
       "+15fTiEPTfCTDyeqk8aq1gdTtWdg6JXC94OYSn7k9a7sSM+xTdNozPgmu1Stts3SmPrSyRjg0nOM\n",
       "sCBWr7ubtlGVuaMIa+w98U771hN724RZCFWE5XebHx4P2J54Z6TaXz7RH5R77DdkROCHvW5CYn7d\n",
       "ch6VmuZXAdDL0OlCNOTkXbTN3/qBxOx7WFbEEe3Ar3eb/pZNBINquPKsLrMLZVCZyiklYvZ6bues\n",
       "RoA+Hus13LoA/33og/JTMM7Apz/Bpt3scH8XNmoLRy/226yKGVoDD9g25Enxm401CmrgVdIfAAAE\n",
       "uEGag0moQWyZTAhX//44QAww8Aji2YKagCI9lW/3avBNvCXczXiDiOPW6D7q7y7vL0wc8ZYElY51\n",
       "+B/dkWm5SFc5wxtWwf75A974rzNhHhpRatPfXxAO2OUMH3PJbdVPXvjitSHsnzASZXPqcbYicWsW\n",
       "+cGdUX5CRbrQKuOxrH/ixpeYpKN6OWM0Vm2rMw0NrpjdFAQEtsmF7yb97d7XJc1C+Sl3JeqBifiH\n",
       "64O+1ihDmupOvQPwOjGzx0Sqq/g3b0+690njqby719gBuu1YjN/izsqSFee/6wdTpH9VZOoUKJE5\n",
       "HVRlguzAk/UXwqh99A7PVOlyEW4NHkAf5q5ORC+Eoc4BrlEVy3bT7VM5+CCvLacOJTpgtCmUXqg2\n",
       "CTpRf1sjyAzqrk3Khs0Wfx/HCt8o6hb0rZUmyEIdj7cpfLSZVh0vYxXCTPaIRfXDXK2GQRYRo42i\n",
       "d/W4Tkvi6ALC4GLUGSJ8B6NmaSXS/5YvCPE6pEQEermjKNKA6vyS0nugrncfg4gm26vY5fgZMEVA\n",
       "sqX0Ld3c5YgucGjzM4HJlho5yqe6yiAlaG+EKRQA2umpasWbJ8n3vripqq+zVSMcMXWvNugqHV1X\n",
       "k5oOWdTq5+gSceUk64V2BSJ5MqX7FOuAFaSHsuF8oZbYjaBqXTG8zZxwsqzYkC2E+F7AwaFh2usN\n",
       "HIcwsgrVoD5FLgtQE+I2WFpfvHnRTVqb/59hcRv5xpWxwNA4qiRDqXXhlN7DrUNuaNblrFub4woL\n",
       "U5S49bt6x3mbnwN+7wdZW2DwHnWeTJnssho26cj8pi9QWfWl4ry/BsuR93q/W0Qx6KHyDlsl4IH9\n",
       "K6MEx/pPgAj0F2AMQsQePVUXChJrF11ednpjloaOk77e30uhsr9sl63ISy1v8k6yWh15IwjB/0Bs\n",
       "3Fe5isKbFSQAhzsftNh/Y/i6t63Dma8TN1mCkaa6+P45Jw6oEQBqCCL9FsMWDZocDXqEKna62i8p\n",
       "xWIjtJj+5QrU652yTmcS69Uo9WPVxC2f8JMYhVDfZXkSUWFWSbDLYkpp8YmesC6teFJCSvOy8HId\n",
       "J7NXK2iYz49ogprGeYu6VP7gH8i6eXjtPitWldMk+P2edcizClhgO4FtYTDUtZktfBMUThBsuz7z\n",
       "kCsA/x0tPQ3PU6uq+6Nmz7TP+3jmRUiOE1KCyoWxf/0MU+67+TfGXHV2rKyuVenHspkCfUoBpXNr\n",
       "sscIyMceOVuGyGNduYRZkLXTruvhr7ngUl87IRvpPE0sNuRrkSt4Udx669IYQrWA9c6EZnkT+nKj\n",
       "cqYqHcojeiNiY+gBmOzOmUCTB8+hkw0UJi8vnI95NSfLlKx26Xys1d0/Os23hPfjlk6YUtmSW8uG\n",
       "JeAZ5oR+WWHzNsDG2PlLQiVFxv1tzhk7AS0/MnzJcccC3qw63sUZiOtFLX+vd3BT4HdIhn/wOYbb\n",
       "fZ8FF9oF0GVpORPSrPqi1ttDu6w6KXdqxwwjtlDfIIxQ3BzM/nMle31PfrQFVKpDHj27j1MPA+1K\n",
       "hOJjoWYCXhwnbPP2Azcstph2Pk6zP2T5ELadjyZrd3N8a0YmbhgFZtySXAuHwTLuhdUnxboG38k0\n",
       "t0SJmF/dURApYnzAAAAHxm1vb3YAAABsbXZoZAAAAAAAAAAAAAAAAAAAA+gAABOIAAEAAAEAAAAA\n",
       "AAAAAAAAAAABAAAAAAAAAAAAAAAAAAAAAQAAAAAAAAAAAAAAAAAAQAAAAAAAAAAAAAAAAAAAAAAA\n",
       "AAAAAAAAAAAAAAAAAAIAAAbwdHJhawAAAFx0a2hkAAAAAwAAAAAAAAAAAAAAAQAAAAAAABOIAAAA\n",
       "AAAAAAAAAAAAAAAAAAABAAAAAAAAAAAAAAAAAAAAAQAAAAAAAAAAAAAAAAAAQAAAAAGwAAABIAAA\n",
       "AAAAJGVkdHMAAAAcZWxzdAAAAAAAAAABAAATiAAABAAAAQAAAAAGaG1kaWEAAAAgbWRoZAAAAAAA\n",
       "AAAAAAAAAAAAKAAAAMgAVcQAAAAAAC1oZGxyAAAAAAAAAAB2aWRlAAAAAAAAAAAAAAAAVmlkZW9I\n",
       "YW5kbGVyAAAABhNtaW5mAAAAFHZtaGQAAAABAAAAAAAAAAAAAAAkZGluZgAAABxkcmVmAAAAAAAA\n",
       "AAEAAAAMdXJsIAAAAAEAAAXTc3RibAAAALNzdHNkAAAAAAAAAAEAAACjYXZjMQAAAAAAAAABAAAA\n",
       "AAAAAAAAAAAAAAAAAAGwASAASAAAAEgAAAAAAAAAAQAAAAAAAAAAAAAAAAAAAAAAAAAAAAAAAAAA\n",
       "AAAAAAAAABj//wAAADFhdmNDAWQAFf/hABhnZAAVrNlBsJaEAAADAAQAAAMAoDxYtlgBAAZo6+PL\n",
       "IsAAAAAcdXVpZGtoQPJfJE/FujmlG88DI/MAAAAAAAAAGHN0dHMAAAAAAAAAAQAAAGQAAAIAAAAA\n",
       "FHN0c3MAAAAAAAAAAQAAAAEAAAMYY3R0cwAAAAAAAABhAAAAAgAABAAAAAABAAAGAAAAAAEAAAIA\n",
       "AAAAAQAABgAAAAABAAACAAAAAAEAAAoAAAAAAQAABAAAAAABAAAAAAAAAAEAAAIAAAAAAQAACgAA\n",
       "AAABAAAEAAAAAAEAAAAAAAAAAQAAAgAAAAABAAAGAAAAAAEAAAIAAAAAAQAACgAAAAABAAAEAAAA\n",
       "AAEAAAAAAAAAAQAAAgAAAAABAAAKAAAAAAEAAAQAAAAAAQAAAAAAAAABAAACAAAAAAEAAAYAAAAA\n",
       "AQAAAgAAAAABAAAKAAAAAAEAAAQAAAAAAQAAAAAAAAABAAACAAAAAAEAAAoAAAAAAQAABAAAAAAB\n",
       "AAAAAAAAAAEAAAIAAAAAAQAACgAAAAABAAAEAAAAAAEAAAAAAAAAAQAAAgAAAAABAAAKAAAAAAEA\n",
       "AAQAAAAAAQAAAAAAAAABAAACAAAAAAEAAAoAAAAAAQAABAAAAAABAAAAAAAAAAEAAAIAAAAAAQAA\n",
       "CAAAAAACAAACAAAAAAEAAAQAAAAAAQAACgAAAAABAAAEAAAAAAEAAAAAAAAAAQAAAgAAAAABAAAK\n",
       "AAAAAAEAAAQAAAAAAQAAAAAAAAABAAACAAAAAAEAAAoAAAAAAQAABAAAAAABAAAAAAAAAAEAAAIA\n",
       "AAAAAQAABgAAAAABAAACAAAAAAEAAAoAAAAAAQAABAAAAAABAAAAAAAAAAEAAAIAAAAAAQAACgAA\n",
       "AAABAAAEAAAAAAEAAAAAAAAAAQAAAgAAAAABAAAKAAAAAAEAAAQAAAAAAQAAAAAAAAABAAACAAAA\n",
       "AAEAAAgAAAAAAgAAAgAAAAABAAAKAAAAAAEAAAQAAAAAAQAAAAAAAAABAAACAAAAAAEAAAoAAAAA\n",
       "AQAABAAAAAABAAAAAAAAAAEAAAIAAAAAAQAACgAAAAABAAAEAAAAAAEAAAAAAAAAAQAAAgAAAAAB\n",
       "AAAKAAAAAAEAAAQAAAAAAQAAAAAAAAABAAACAAAAAAEAAAoAAAAAAQAABAAAAAABAAAAAAAAAAEA\n",
       "AAIAAAAAAQAABAAAAAAcc3RzYwAAAAAAAAABAAAAAQAAAGQAAAABAAABpHN0c3oAAAAAAAAAAAAA\n",
       "AGQAACzbAAAErgAACkwAAAJZAAANRAAABC0AAAwCAAAFdAAAA60AAAKTAAAONwAABXQAAANOAAAD\n",
       "3AAAChYAAAMRAAAKigAABQMAAAJFAAADDgAADUsAAAUOAAADOgAAAsoAAAokAAADOgAADBoAAASo\n",
       "AAADxwAAA1AAAA0mAAAE/QAAAtMAAAMnAAALzgAABO0AAAL1AAAC8AAAC+UAAAXpAAADSAAAA0IA\n",
       "AAq8AAAFQQAAAzoAAAMWAAALbAAABJkAAAN9AAAIhQAACKwAAAPRAAACZwAAAkAAAAwsAAAD2AAA\n",
       "AtAAAAMbAAAMcwAABakAAANAAAAD6gAAC+gAAAO5AAAKfgAAA5kAAAMEAAACBwAADCEAAARWAAAC\n",
       "pgAAA4sAAAwVAAAFEwAAA1gAAAMfAAALOAAAA5MAAAMFAAANmQAABNQAAANmAAAD3gAAC3MAAARV\n",
       "AAAC2AAAAlUAAAuiAAAFWQAAAw4AAAO3AAAKSAAABLYAAAMHAAACtgAACbUAAAT6AAADVAAAA4MA\n",
       "AAS8AAAAFHN0Y28AAAAAAAAAAQAAACwAAABidWR0YQAAAFptZXRhAAAAAAAAACFoZGxyAAAAAAAA\n",
       "AABtZGlyYXBwbAAAAAAAAAAAAAAAAC1pbHN0AAAAJal0b28AAAAdZGF0YQAAAAEAAAAATGF2ZjU4\n",
       "LjEyLjEwMA==\n",
       "\">\n",
       "  Your browser does not support the video tag.\n",
       "</video>"
      ],
      "text/plain": [
       "<IPython.core.display.HTML object>"
      ]
     },
     "execution_count": 159,
     "metadata": {},
     "output_type": "execute_result"
    }
   ],
   "source": [
    "# Show the animation\n",
    "HTML(ani.to_html5_video())"
   ]
  },
  {
   "cell_type": "code",
   "execution_count": 160,
   "metadata": {
    "slideshow": {
     "slide_type": "skip"
    }
   },
   "outputs": [],
   "source": [
    "# Save the animation\n",
    "ani.save('masses_for_{0:02d}_modes.mp4'.format(N), dpi=100)"
   ]
  },
  {
   "cell_type": "markdown",
   "metadata": {
    "slideshow": {
     "slide_type": "skip"
    }
   },
   "source": [
    "The last command saves the animation as a ```.mp4``` video file. I saved a few and uploaded them onto the Portal."
   ]
  },
  {
   "cell_type": "markdown",
   "metadata": {
    "slideshow": {
     "slide_type": "skip"
    }
   },
   "source": [
    "A few comments.\n",
    "You are not required to remember them at this point, but you will later on in this lecture series on waves and oscillations, so might as well start early.\n",
    "\n",
    "* For some modes, some masses don't move, or hardly at all. Likewise, some masses move symmetrically around points that would be associated with zero velocity if they had a mass on them. Such points are called \"nodes\". In-between nodes are locations where the velocities seem larger. These points are called \"antinodes\". We will be able to visualize them better with waves on a string.\n",
    "* The distance between two nodes corresponds to half a wavelength: every two nodes, the motion is periodic (spatial periodicity).\n",
    "* The larger the mode number (or the frequency) is, the more nodes there are, or equivalently, the shorter the wavelengths are. As a matter of fact, the first mode has zero nodes, the second mode has one node, and the $n^{th}$ has $n-1$ nodes. This is a general feature of standing waves, again better visualized with waves on a string.\n",
    "* Modes with more nodes are called \"higher modes\", those with less nodes are called \"low\", or \"grave\". The terminology comes from sound waves. Sound waves with larger wavelengths sound indeed graver (lower frequency) than sound waves with smaller wavelengths (higher frequencies)."
   ]
  }
 ],
 "metadata": {
  "anaconda-cloud": {},
  "celltoolbar": "Slideshow",
  "kernelspec": {
   "display_name": "Python [default]",
   "language": "python",
   "name": "python3"
  },
  "language_info": {
   "codemirror_mode": {
    "name": "ipython",
    "version": 3
   },
   "file_extension": ".py",
   "mimetype": "text/x-python",
   "name": "python",
   "nbconvert_exporter": "python",
   "pygments_lexer": "ipython3",
   "version": "3.5.6"
  }
 },
 "nbformat": 4,
 "nbformat_minor": 1
}
