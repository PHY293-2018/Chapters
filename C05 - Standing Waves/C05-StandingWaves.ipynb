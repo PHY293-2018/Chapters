{
 "cells": [
  {
   "cell_type": "raw",
   "metadata": {
    "raw_mimetype": "text/latex",
    "scrolled": true,
    "slideshow": {
     "slide_type": "skip"
    }
   },
   "source": [
    "\\newcommand{\\rads}{~rad.s$^{-1}$}\n",
    "\\newcommand{\\bnabla}{\\boldsymbol{\\nabla}}\n",
    "\\newcommand{\\eexp}[1]{\\textrm{e}^{#1}}\n",
    "\\newcommand{\\glm}[1]{\\overline{#1}^L}\n",
    "\\newcommand{\\di}[0]{\\textrm{d}}\n",
    "\\newcommand{\\bs}[1]{\\boldsymbol{#1}}\n",
    "\\newcommand{\\ode}[2]{\\frac{\\di {#1}}{\\di {#2}}}\n",
    "\\newcommand{\\oden}[3]{\\frac{\\di^{#1} {#2}}{\\di {#3}^{#1}}}\n",
    "\\newcommand{\\odel}[2]{\\di {#1}/\\di {#2}}\n",
    "\\newcommand{\\odeln}[3]{\\di^{#1} {#2}/\\di {#3}^{#1}}\n",
    "\\newcommand{\\pde}[2]{\\frac{\\partial {#1}}{\\partial {#2}}}\n",
    "\\newcommand{\\pden}[3]{\\frac{\\partial^{#1} {#2}}{\\partial {#3}^{#1}}}\n",
    "\\newcommand{\\pdel}[2]{\\partial_{#2} {#1}}\n",
    "\\newcommand{\\pdenl}[3]{\\partial^{#1}_{#3} {#2}}\n",
    "\\newcommand{\\divr}[1]{\\vec\\nabla \\cdot {#1}}\n",
    "\\newcommand{\\divrb}[1]{\\boldsymbol{\\nabla} \\cdot {#1}}\n",
    "\\newcommand{\\grad}[1]{\\vec \\nabla {#1}}\n",
    "\\newcommand{\\gradb}[1]{\\boldsymbol\\nabla {#1}}\n",
    "\\newcommand{\\curl}[1]{\\vec\\nabla \\times {#1}}\n",
    "\\newcommand{\\curlb}[1]{\\boldsymbol{\\nabla}\\times\\boldsymbol{#1}}\n",
    "\\newcommand{\\lapl}[0]{\\vec\\nabla^2}\n",
    "\\newcommand{\\laplb}[0]{\\boldsymbol{\\nabla}^2}\n",
    "\\newcommand{\\cplxi}[0]{\\mathrm i}\n",
    "\\newcommand{\\unit}[1]{\\mathbf{\\hat{#1}}}\n",
    "\\newcommand{\\thrfor}[0]{\\quad\\Rightarrow\\quad}\n",
    "\\newcommand{\\and}[0]{\\quad\\textrm{and}\\quad}\n",
    "\\newcommand{\\oreq}[0]{\\quad\\textrm{or}\\quad}\n",
    "\\newcommand{\\red}[1]{\\textcolor{red}{#1}}\n",
    "\\newcommand{\\blue}[1]{\\textcolor{blue}{#1}}\n",
    "\\newcommand{\\mage}[1]{\\textcolor{magenta}{#1}}\n",
    "\\newcommand{\\stirling}[2]{\\genfrac{[}{]}{0pt}{}{#1}{#2}}"
   ]
  },
  {
   "cell_type": "code",
   "execution_count": null,
   "metadata": {},
   "outputs": [],
   "source": []
  },
  {
   "cell_type": "raw",
   "metadata": {
    "raw_mimetype": "text/latex",
    "slideshow": {
     "slide_type": "skip"
    }
   },
   "source": [
    "\\DefineVerbatimEnvironment{Verbatim}{Verbatim}{fontsize=\\scriptsize}"
   ]
  },
  {
   "cell_type": "markdown",
   "metadata": {
    "slideshow": {
     "slide_type": "skip"
    }
   },
   "source": [
    "$\\newcommand{\\rads}{~rad.s$^{-1}$}$\n",
    "$\\newcommand{\\bnabla}{\\boldsymbol{\\nabla}}$\n",
    "$\\newcommand{\\eexp}[1]{\\textrm{e}^{#1}}$\n",
    "$\\newcommand{\\glm}[1]{\\overline{#1}^L}$\n",
    "$\\newcommand{\\di}[0]{\\textrm{d}}$\n",
    "$\\newcommand{\\bs}[1]{\\boldsymbol{#1}}$\n",
    "$\\newcommand{\\ode}[2]{\\frac{\\di {#1}}{\\di {#2}}}$\n",
    "$\\newcommand{\\oden}[3]{\\frac{\\di^{#1} {#2}}{\\di {#3}^{#1}}}$\n",
    "$\\newcommand{\\odel}[2]{\\di {#1}/\\di {#2}}$\n",
    "$\\newcommand{\\odeln}[3]{\\di^{#1} {#2}/\\di {#3}^{#1}}$\n",
    "$\\newcommand{\\pde}[2]{\\frac{\\partial {#1}}{\\partial {#2}}}$\n",
    "$\\newcommand{\\pden}[3]{\\frac{\\partial^{#1} {#2}}{\\partial {#3}^{#1}}}$\n",
    "$\\newcommand{\\pdel}[2]{\\partial_{#2} {#1}}$\n",
    "$\\newcommand{\\pdenl}[3]{\\partial^{#1}_{#3} {#2}}$\n",
    "$\\newcommand{\\mde}[1]{\\frac{\\textrm{D} {#1}}{\\textrm{D} t}}$\n",
    "$\\newcommand{\\mdel}[1]{\\textrm{D}_t {#1}}$\n",
    "$\\newcommand{\\divr}[1]{\\vec\\nabla \\cdot {#1}}$\n",
    "$\\newcommand{\\divrb}[1]{\\boldsymbol{\\nabla} \\cdot {#1}}$\n",
    "$\\newcommand{\\grad}[1]{\\vec \\nabla {#1}}$\n",
    "$\\newcommand{\\gradb}[1]{\\boldsymbol\\nabla {#1}}$\n",
    "$\\newcommand{\\curl}[1]{\\vec\\nabla \\times {#1}}$\n",
    "$\\newcommand{\\curlb}[1]{\\boldsymbol{\\nabla}\\times\\boldsymbol{#1}}$\n",
    "$\\newcommand{\\lapl}[0]{\\vec\\nabla^2}$\n",
    "$\\newcommand{\\laplb}[0]{\\boldsymbol{\\nabla}^2}$\n",
    "$\\newcommand{\\cplxi}[0]{\\mathrm i}$\n",
    "$\\newcommand{\\unit}[1]{\\mathbf{\\hat{#1}}}$\n",
    "$\\newcommand{\\thrfor}[0]{\\quad\\Rightarrow\\quad}$\n",
    "$\\newcommand{\\and}[0]{\\quad\\textrm{and}\\quad}$\n",
    "$\\newcommand{\\oreq}[0]{\\quad\\textrm{or}\\quad}$\n",
    "$\\newcommand{\\red}[1]{\\textcolor{red}{#1}}$\n",
    "$\\newcommand{\\blue}[1]{\\textcolor{blue}{#1}}$\n",
    "$\\newcommand{\\mage}[1]{\\textcolor{magenta}{#1}}$\n",
    "$\\newcommand{\\stirling}[2]{\\genfrac{[}{]}{0pt}{}{#1}{#2}}$"
   ]
  },
  {
   "cell_type": "markdown",
   "metadata": {
    "slideshow": {
     "slide_type": "skip"
    }
   },
   "source": [
    "*[Book: varies from section to section.]*"
   ]
  },
  {
   "cell_type": "markdown",
   "metadata": {
    "slideshow": {
     "slide_type": "skip"
    }
   },
   "source": [
    "# Introduction"
   ]
  },
  {
   "cell_type": "markdown",
   "metadata": {
    "slideshow": {
     "slide_type": "skip"
    }
   },
   "source": [
    "It is difficult to define what a wave is, but it is easy to recognise one.\n",
    "Perhaps the most general definition of a linear wave is that it is a travelling disturbance, although one by which no matter travels on average.\n",
    "For example, sound waves are pressure waves. \n",
    "At the microscopic level, molecules of a fluid \"bump\" into each other, but return to their original position on average.\n",
    "The restoring force is simply provided by return of momentum to sender at shock, and damping can happen if the shocks are not completely elastic.\n",
    "The position of a molecule can therefore be very crudely modelled as a SHO or DHO.\n",
    "In a solid, it is the displacement of the atoms around their preferred rest position when the wave travels that in turn displaces neighbouring atoms, etc.\n",
    "On average however, the atoms themselves do not travel.\n",
    "I could multiply the examples: swell, waves in a pond, seismic waves, electromagnetic waves, gravitational waves, my very own oceanic internal inertia-gravity waves, stadium waves, and of course the quantum waves that Profs. Krieger and Paramekanti will talk about in the rest of PHY293 and 294."
   ]
  },
  {
   "cell_type": "markdown",
   "metadata": {
    "slideshow": {
     "slide_type": "skip"
    }
   },
   "source": [
    "Waves travel in a continuum.\n",
    "Sometimes the continuum is an approximation of a discrete medium, like a gas of molecules or a crystal being approximated as a smooth, \"grainless\" medium, or like a super long chain of masses attached by springs.\n",
    "And sometimes, the medium is actually a continuum.\n",
    "For example, the ultimate continuum is vacuum, which can support the propagation of EM waves."
   ]
  },
  {
   "cell_type": "markdown",
   "metadata": {
    "slideshow": {
     "slide_type": "skip"
    }
   },
   "source": [
    "A continuum can therefore be modeled as an infinite number of oscillators, coupled together.\n",
    "Based on the results of the previous chapters, an infinite number of modes of oscillations can arise.\n",
    "As in the previous chapter, a given mode will be characterized by a certain number of nodes and antinodes.\n",
    "If the boundaries are constrained enough that they force the creation of nodes (like our coupled masses attached to walls or strings on a guitar) or antinodes (like when one blows in a flute, or water waves against a vertical wall), the waves are called \"standing waves\".\n",
    "Their formalism is very close to the types of eigenvalue problems we encountered in the previous chapter, which we describe now."
   ]
  },
  {
   "cell_type": "markdown",
   "metadata": {
    "slideshow": {
     "slide_type": "skip"
    }
   },
   "source": [
    "# Expectations"
   ]
  },
  {
   "cell_type": "markdown",
   "metadata": {
    "slideshow": {
     "slide_type": "slide"
    }
   },
   "source": [
    "## Remember\n",
    "\n",
    "* **The wave equation!!!**\n",
    "* What the phase speed is.\n",
    "* What the separation of variables method is.\n",
    "* The expression of the phase speed for a taut string (useful during tests).\n",
    "* The meaning and definitions of the wavenumbers $k_n$, angular frequencies $\\omega_n$ and wavelengths $\\lambda_n$.\n",
    "* The orthogonality relations for sines and cosines.\n",
    "* The energy of any solution is the sum of the energies of each single mode."
   ]
  },
  {
   "cell_type": "markdown",
   "metadata": {
    "slideshow": {
     "slide_type": "-"
    }
   },
   "source": [
    "## Understand\n",
    "\n",
    "* Why standing wave modes are orthogonal normal modes of the vibrating taut string.\n",
    "* How and why standing wave modes behave like simple harmonic oscillators.\n",
    "* How boundary conditions make the set of possible $k_n$ discrete (countably infinite)."
   ]
  },
  {
   "cell_type": "markdown",
   "metadata": {
    "slideshow": {
     "slide_type": "-"
    }
   },
   "source": [
    "## Apply\n",
    "\n",
    "* Apply boundary conditions to standing wave modes.\n",
    "* Anything that appears in the worked examples, tutorials and problem sets."
   ]
  },
  {
   "cell_type": "markdown",
   "metadata": {
    "slideshow": {
     "slide_type": "skip"
    }
   },
   "source": [
    "# The Taut String"
   ]
  },
  {
   "cell_type": "markdown",
   "metadata": {
    "slideshow": {
     "slide_type": "skip"
    }
   },
   "source": [
    "Following the spirit of this lecture series, we are only interested in the equations themselves, not the physical coefficients. \n",
    "This is because the linear equations are generic, while the coefficients will better be derived in specialized courses.\n",
    "Therefore, we choose a propagation medium, that is as simple as we can: the taut string[^1].\n",
    "Because it is taut, shaking does not induce large displacements of the string, nor does it induce large slopes of the string.\n",
    "That is, $\\tan\\theta = \\odel{y}x \\ll 1$, where $x$ is the along-string direction and $y$ is the across-string direction (cf. fig. 5.8 of King, reproduced here; we assume that the string vibrations only happen in a plane, which means that we do not need a third dimension to describe it; adding a third dimension would be meaningful if we were interested in the Physics, while we only care about the general behaviour of the equation).\n",
    "\n",
    "[^1]: I had to look it up, other non-native English speakers might want to know that according to dictionary.com, it means tightly drawn; tense; not slack."
   ]
  },
  {
   "cell_type": "markdown",
   "metadata": {
    "slideshow": {
     "slide_type": "skip"
    }
   },
   "source": [
    "The smallness of the parameter means that the oscillations of a piece of string are linear.\n",
    "A restoring force brings the string back to the main axis, and each piece of string can be described as a simple or damped harmonic oscillator, coupled to its neighbours to the left and right.\n",
    "Because the piece of spring can be arbitrarily small, the number of coupled oscillators is infinite.\n",
    "Therefore, we have all the ingredients to study the wave equation."
   ]
  },
  {
   "cell_type": "markdown",
   "metadata": {
    "slideshow": {
     "slide_type": "slide"
    }
   },
   "source": [
    "![Fig. 1: King 5.8](String.png)"
   ]
  },
  {
   "cell_type": "markdown",
   "metadata": {
    "slideshow": {
     "slide_type": "slide"
    }
   },
   "source": [
    "# The Wave Equation"
   ]
  },
  {
   "cell_type": "markdown",
   "metadata": {
    "slideshow": {
     "slide_type": "skip"
    }
   },
   "source": [
    "*[Book: §§ 5.1, 5.3]*"
   ]
  },
  {
   "cell_type": "markdown",
   "metadata": {
    "slideshow": {
     "slide_type": "skip"
    }
   },
   "source": [
    "Let's break down the string into infinitesimally small slices, and let's consider in particular a piece of string that is located between $x_0$ and $x_0 + \\delta x$ (see fig. 1).\n",
    "The transverse displacements are along the $y$-axis, and we identify them as $y(x, t)$.\n",
    "The string has pass per unit length $\\mu$ (in kg/m), and is submitted to a tension $T$ (in N), which we treat as constant along the string.\n",
    "At the ends of the tiny slice, the string makes an angle $\\theta$ with the $x$-axis at $x_0$, and $\\theta + \\delta \\theta$ at $x_0+\\delta x$ (again, see fig. 1).\n",
    "\n",
    "Let's do the Newton, $m\\vec a = \\sum \\vec F$, on that piece of string ($m = \\mu \\delta x$).\n",
    "Actually, we are only interested in the transverse phenomena, i.e., $m\\ddot y = \\sum F_y$.\n",
    "\n",
    "Therefore, let's consider the $y$-component of the tension, because it is the one that restores the position of the string to its resting, along-$x$ situation.\n",
    "At $x=x_0$, the $y$-component of the tension is \n",
    "$$\\left.F_y\\right|_{x_0} = -T\\sin\\theta \\approx -T\\theta \\approx -T\\tan\\theta = -T\\left.\\pde{y}x\\right|_{x_0}.$$\n",
    "The minus sign is because if $\\theta > 0$, the force pulls in the negative direction (see fig. 1).\n",
    "The successive approximations I made above work well in the small-displacements regime.\n",
    "The regime corresponds to the **linear regime** of this physical system, the only one we tackle in this course.\n",
    "\n",
    "Similarly, at $x=x_0 + \\delta x$,\n",
    "$$\\left.F_y\\right|_{x_0+\\delta x} \\approx T\\left.\\pde{y}x\\right|_{x_0+\\delta x}.$$\n",
    "Note the positive sign this time, because the situation is opposite as before.\n",
    "\n",
    "The slice is infinitesimally small, and we have no reason to believe that a discontinuity exists between $x_0$ and $x_0 + \\delta x$ (if there is one, then we just pick a smaller $\\delta x$).\n",
    "For these reasons, we can Taylor-expand $\\left.F_y\\right|_{x_0+\\delta x}$ into\n",
    "$$ \\left.F_y\\right|_{x_0+\\delta x} \\approx T \\left(\\left. \\pde{y}x \\right|_{x_0} + \\delta x \\left. \\pde{}x\\pde{y}x \\right|_{x_0} \\right) = -\\left.F_y\\right|_{x_0} + \\delta x \\, T \\left. \\pden2{y}x \\right|_{x_0}.$$\n",
    "\n",
    "Neglecting all other forces like gravity, Newton then tells you that\n",
    "$$ \\mu \\delta x \\pden2yt = \\left.F_y\\right|_{x_0} + \\left.F_y\\right|_{x_0 + \\delta} \\approx \\delta x \\, T \\left. \\pden2{y}x \\right|_{x_0}.$$"
   ]
  },
  {
   "cell_type": "markdown",
   "metadata": {
    "slideshow": {
     "slide_type": "-"
    }
   },
   "source": [
    "Dividing by the mass and introducing $v^2 = T/\\mu$, we find\n",
    "$$ \\boxed{\\pden2yt = v^2\\pden2yx}.\\hspace{5cm} (1)$$"
   ]
  },
  {
   "cell_type": "markdown",
   "metadata": {
    "slideshow": {
     "slide_type": "skip"
    }
   },
   "source": [
    "Again, $y(x,t)$ is the distance from axis at location $x$ and time $t$, and $v$ is the so-called *phase speed* of the waves.\n",
    "It is the speed at which the disturbance propagates along the string, and we treat it as a constant.\n",
    "This is a vague definition at this point, because we don't have all the tools necessary to understand the subtleties of propagation speed.\n",
    "But basically, imagine launching a wave pulse on a long rope (cf. King fig. 5.1, reproduced here), and imagine that somehow, the motion of your hand described a so-called \"Gaussian function\" $y(t) = A\\exp[-(t-t_0)^2/\\sigma_t^2]$.\n",
    "This function means that your hand motion went from 0 at $t \\ll t_0$ to $A$ at $t=t_0$ and back to 0 for $t \\to \\infty$, and that the motion typically lasted a duration of $2\\sigma_t$.\n",
    "This function look like a bell curve and is one of the most frequently encountered functions in physics."
   ]
  },
  {
   "cell_type": "markdown",
   "metadata": {
    "slideshow": {
     "slide_type": "subslide"
    }
   },
   "source": [
    "![King 5.1](RopePulse.png)"
   ]
  },
  {
   "cell_type": "markdown",
   "metadata": {
    "slideshow": {
     "slide_type": "skip"
    }
   },
   "source": [
    "Assuming that the waves on the rope are not too dispersive (we will see later what this means precisely), i.e., the pulse retains it shape, then the shape of the pulse on the rope will be\n",
    "$$ y(x, t) = A \\exp\\left[-\\left(\\frac{x - vt}{\\sigma_x}\\right)^2\\right] = A \\exp\\left[-\\left(\\frac{t - x/v}{\\sigma_t}\\right)^2\\right],$$\n",
    "i.e, it will look like a Gaussian function in space, propagating with a speed $v$, with a typical spatial width of $2\\sigma_x = 2v\\sigma_t$, but also in time, with a typical temporal width $2\\sigma_t$."
   ]
  },
  {
   "cell_type": "code",
   "execution_count": 1,
   "metadata": {
    "slideshow": {
     "slide_type": "skip"
    }
   },
   "outputs": [],
   "source": [
    "# We can plot this\n",
    "import numpy as np\n",
    "import matplotlib.pyplot as plt\n",
    "\n",
    "x = np.linspace(-1., 5.0, 1024)  # a 4-m long rope\n",
    "sigma_x = 0.5  # typical width of pulse\n",
    "A = 1.  # amplitude of diplacement 1 m (just for illustration purposes)\n",
    "v = 1.  # propagation velocity 1 m/s (for illustration purposes)\n",
    "t0 = 0.  # time of first snapshot\n",
    "t1 = 2.  # time of second snapshot\n",
    "ftsz = 13  # the font size\n",
    "\n",
    "y_t0 = A*np.exp(-((x - v*t0)/sigma_x)**2)\n",
    "y_t1 = A*np.exp(-((x - v*t1)/sigma_x)**2)\n",
    "\n",
    "plt.figure()\n",
    "ax = plt.gca()\n",
    "ax.plot(x, y_t0, 'b', label='pulse at $t=t_0$')\n",
    "ax.plot(x, y_t1, 'r--', label='pulse at $t=t_0+\\Delta t$')\n",
    "ax.set_xlabel('$x$ [m]', fontsize=ftsz)\n",
    "ax.set_ylabel('$y/A$', fontsize=ftsz)\n",
    "ax.grid()\n",
    "\n",
    "# annotation to highlight the spatial width of pulse\n",
    "ax.plot(2*[-sigma_x], [0.5/np.exp(1), 1.3/np.exp(1)], 'k')\n",
    "ax.plot(2*[sigma_x], [0.5/np.exp(1), 1.3/np.exp(1)], 'k')\n",
    "ax.annotate(s='', xy=(-sigma_x, .3), xytext=(sigma_x, 0.3),\n",
    "            arrowprops=dict(arrowstyle='<|-|>'))  # the double arrow\n",
    "ax.text(0., 0.3, r'$2\\sigma_x$',\n",
    "        verticalalignment='center', horizontalalignment='center',\n",
    "        backgroundcolor='w', fontsize=ftsz)\n",
    "\n",
    "# annotation to highlight the distance travelled during Delta t\n",
    "ax.axvline(0., color='k', linestyle='--')\n",
    "ax.axvline(v*(t1-t0), color='k', linestyle='--')\n",
    "ax.annotate(s='', xy=(0., .8), xytext=(v*(t1-t0), 0.8),\n",
    "            arrowprops=dict(arrowstyle='<|-'))  # the double arrow\n",
    "ax.text(0.5*v*(t1-t0), 0.8, r'$v\\Delta t$',\n",
    "        verticalalignment='center', horizontalalignment='center',\n",
    "        backgroundcolor='w', fontsize=ftsz)\n",
    "\n",
    "plt.legend(loc='center right')\n",
    "plt.autoscale(enable=True, axis='x', tight=True)\n",
    "plt.savefig('TranslatingPulse.png', dpi=100)\n",
    "plt.close()"
   ]
  },
  {
   "cell_type": "markdown",
   "metadata": {
    "slideshow": {
     "slide_type": "subslide"
    }
   },
   "source": [
    "![Fig. 2: translating pulse](TranslatingPulse.png)"
   ]
  },
  {
   "cell_type": "markdown",
   "metadata": {
    "slideshow": {
     "slide_type": "subslide"
    }
   },
   "source": [
    "While the wave equation has the same form in many contexts, the definition of $v$ varies from field to field.\n",
    "\n",
    "* EM waves in a vacuum: $v = c \\approx 3\\times 10^8$ m.s$^{-1}$;\n",
    "* water waves whose wavelength is much longer than the depth, like ocean swell or tsunamis, $v = \\sqrt{gh}$, with $g$ the gravitational acceleration [in m.s$^{-2}$] and $h$ the water depth [in m]. Onto the deep sea, where $h \\approx 5$ km, $v\\approx 220$ m.s$^{-1} \\approx$ 800 km.h$^{-1}$. This is faster than the speed of sound, but again, remember that waves don't carry water around. It is not that crazy. It means that a Tsunami originating in Japan will take 10 hours to arrive on Canada's West coast;\n",
    "* sound waves: $v = 340$ m.s$^{-1}$ in air; in water $\\sim 1,500$ m.s$^{-1}$;\n",
    "* seismic primary (or pressure) waves ($\\approx$ sound waves) in the Earth's Crust: $v\\approx 6-8$ km.s$^{-1}$,\n",
    "* seismic secondary (or shear) waves in the Earth's crust: $v\\approx 3-4$ km.s$^{-1}$,\n",
    "* ... and for our taut string, $v = \\sqrt{T/\\mu}$, with $T$ the along-axis tension force [in N] and $\\mu$ the mass per unit length of the string [in kg.m$^{-1}$]. For a violin E string (the skinniest I think), $T \\approx 68$ N, $\\mu \\approx 0.126$ g for $33$ cm long, or $3.8\\times 10^{-4}$ kg.m$^{-1}$, and $v \\approx 420$ m.s$^{-1}$."
   ]
  },
  {
   "cell_type": "markdown",
   "metadata": {
    "slideshow": {
     "slide_type": "subslide"
    }
   },
   "source": [
    "# Standing Waves\n",
    "\n",
    "*[Book: § 6.1]*"
   ]
  },
  {
   "cell_type": "markdown",
   "metadata": {
    "slideshow": {
     "slide_type": "skip"
    }
   },
   "source": [
    "## General expression"
   ]
  },
  {
   "cell_type": "markdown",
   "metadata": {
    "slideshow": {
     "slide_type": "skip"
    }
   },
   "source": [
    "We will talk about traveling waves in the next chapter.\n",
    "Right now, we focus on *standing waves*, traveling waves' evil twins.\n",
    "Both descriptions are interchangeable: standing waves can be described and the sum of two traveling waves, and traveling waves can be decomposed on a basis of standing waves, which are the equivalent of the normal modes of the previous chapter.\n",
    "More on this later, but for now, let's dive in."
   ]
  },
  {
   "cell_type": "markdown",
   "metadata": {
    "slideshow": {
     "slide_type": "skip"
    }
   },
   "source": [
    "The key step is to **assume a form of the solutions to the wave equation (1) in which the variables are separable**:\n",
    "$$ \\boxed{y(x, t) = f(x) h(t)}.$$"
   ]
  },
  {
   "cell_type": "markdown",
   "metadata": {
    "slideshow": {
     "slide_type": "skip"
    }
   },
   "source": [
    "*Note: another try, another mathematical trick. How could you come up with it? You don't have to. As a researcher, I can tell that it is one of the easiest and therefore first things to do when one doesn't know anything about the solution. For you, just remember that it works. But remember it well, because it is important!*"
   ]
  },
  {
   "cell_type": "markdown",
   "metadata": {
    "slideshow": {
     "slide_type": "skip"
    }
   },
   "source": [
    "Therefore,\n",
    "$$ \\pden2yt = f(x)\\oden2{h(t)}t = f(x)\\ddot h(t) \\and \\pden2yx = h(t)\\oden2{f(x)}x = h(t)f''(x), $$\n",
    "and the wave equation becomes\n",
    "$$  f(x)\\oden2{h(t)}t = v^2 h(t)\\oden2{f(x)}x. $$"
   ]
  },
  {
   "cell_type": "markdown",
   "metadata": {
    "slideshow": {
     "slide_type": "skip"
    }
   },
   "source": [
    "The usefulness of this form is not apparent until after division by $f(x)h(t)$, i.e.\n",
    "$$ \\frac{1}{h(t)}\\oden2{h(t)}t = v^2 \\frac{1}{f(x)}\\oden2{f(x)}x. $$"
   ]
  },
  {
   "cell_type": "markdown",
   "metadata": {
    "slideshow": {
     "slide_type": "skip"
    }
   },
   "source": [
    "Looking at the equation closely, one notices that the LHS only depends on $t$, while the RHS only depends on $x$ (recall that $v$ is constant).\n",
    "The only way for two functions that depend on two different variables to be equal to each other is for both of them to be equal to a constant, i.e.,\n",
    "$$ \\frac{1}{h(t)}\\oden2{h(t)}t = v^2 \\frac{1}{f(x)}\\oden2{f(x)}x = -\\omega^2. $$"
   ]
  },
  {
   "cell_type": "markdown",
   "metadata": {
    "slideshow": {
     "slide_type": "fragment"
    }
   },
   "source": [
    "Why $-\\omega^2$? Because, for example,\n",
    "$$ \\frac{1}{h(t)}\\oden2{h(t)}t = -\\omega^2 \\thrfor \\boxed{\\ddot h(t) + \\omega^2 h(t) = 0}. $$\n",
    "This is the **same equation as an SHO**, and the solution is still\n",
    "$$ h(t) = H\\cos(\\omega t + \\phi). $$"
   ]
  },
  {
   "cell_type": "markdown",
   "metadata": {
    "slideshow": {
     "slide_type": "subslide"
    }
   },
   "source": [
    "Likewise,\n",
    "$$ f(x) = F\\cos(kx + \\phi_f), \\quad \\textrm{with} \\quad k = \\omega/v. $$"
   ]
  },
  {
   "cell_type": "markdown",
   "metadata": {
    "slideshow": {
     "slide_type": "skip"
    }
   },
   "source": [
    "In this chapter however, it will be easier for us to write the expression above as\n",
    "$$ f(x) = A \\cos(kx) + B \\sin(kx). $$"
   ]
  },
  {
   "cell_type": "markdown",
   "metadata": {
    "slideshow": {
     "slide_type": "skip"
    }
   },
   "source": [
    "Can we write \n",
    "$$ y(x, t) = H \\cos(\\omega t + \\phi)\\left[ A \\cos(kx) + B \\sin(kx) \\right] $$\n",
    "yet?\n",
    "Not quite, because $\\omega$ and $k$ can take many values.\n",
    "As we are about to see, for a given set of boundary conditions, there is a discrete but infinite number of possible solutions for $f$ and $h$."
   ]
  },
  {
   "cell_type": "markdown",
   "metadata": {
    "slideshow": {
     "slide_type": "skip"
    }
   },
   "source": [
    "## Boundary conditions"
   ]
  },
  {
   "cell_type": "markdown",
   "metadata": {
    "slideshow": {
     "slide_type": "skip"
    }
   },
   "source": [
    "In this chapter, we will solely focus on a string, that is attached at both ends.\n",
    "Let $x=L$ and $x=0$ be the locations of the walls.\n",
    "Mathematically, the statement translates into:\n",
    "$$ y(t, 0) = y(t, L) = 0 \\thrfor f(0) = f(L) = 0.$$"
   ]
  },
  {
   "cell_type": "markdown",
   "metadata": {
    "slideshow": {
     "slide_type": "skip"
    }
   },
   "source": [
    "$$ f(0) = A\\cos0 + B\\sin0 = A = 0. $$\n",
    "$$ \\thrfor f(L) = B\\sin(kL) = 0 \\thrfor kL = n\\pi, \\ n\\in \\mathbb N^*. $$\n",
    "$\\mathbb N^*$ means that zero is excluded.\n",
    "Indeed, because $k = \\omega/v$, $k=0\\Rightarrow\\omega = 0$, i.e., it is a trivial, non-oscillating solution.\n",
    "\n",
    "Strictly mathematically, I should actually write $n\\in \\mathbb Z^*$ instead.\n",
    "But $k<0$ means that $\\sin(kx) < 0$, and the result is the same if $B<0$ (which is weird) or $\\phi_h$ is augmented by $\\pi$ (which describes the same physical reality).\n",
    "Therefore, I will use $n \\in \\mathbb N^*$."
   ]
  },
  {
   "cell_type": "markdown",
   "metadata": {
    "slideshow": {
     "slide_type": "subslide"
    }
   },
   "source": [
    "Consequently, an infinite number of $k$'s can satisfy the wave equation when both ends are attached:\n",
    "$$ \\boxed{k_n = \\frac{n\\pi}L, \\quad n\\in \\mathbb N^*}. $$"
   ]
  },
  {
   "cell_type": "markdown",
   "metadata": {},
   "source": [
    "Recall that $k = \\omega/v$, therefore, the set of frequencies is also a countably infinite set:\n",
    "$$ \\boxed{\\omega_n = \\frac{n\\pi v}L, \\quad n\\in \\mathbb N^*}. $$"
   ]
  },
  {
   "cell_type": "markdown",
   "metadata": {
    "slideshow": {
     "slide_type": "skip"
    }
   },
   "source": [
    "The corresponding solution for a given $n$ is therefore\n",
    "$$ y_n(t, x) = C_n \\cos(\\omega_n t + \\phi_n)\\sin(k_n x). $$\n",
    "Such a partial solution is a **mode of vibration** of the string.\n",
    "It is of course the equivalent of the normal modes of the coupled systems of oscillators we saw in the last chapter.\n",
    "There is now an infinite number of them, because the string is a continuous system that can be viewed as an infinite number of coupled oscillators."
   ]
  },
  {
   "cell_type": "markdown",
   "metadata": {},
   "source": [
    "Like in the previous chapter, any solution can be written as a linear combination of a countably infinite set of **modes**, i.e.,\n",
    "$$ \\boxed{y(t, x) = \\sum_{n = 1}^{\\infty} C_n \\cos(\\omega_n t + \\phi_n)\\sin(k_n x)}. \\hspace{5cm} (2)$$"
   ]
  },
  {
   "cell_type": "code",
   "execution_count": 2,
   "metadata": {
    "slideshow": {
     "slide_type": "skip"
    }
   },
   "outputs": [],
   "source": [
    "# the following two packages allow me to display the animation\n",
    "from matplotlib import animation\n",
    "from IPython.display import HTML\n",
    "# More about animations: \n",
    "# https://stackoverflow.com/questions/43445103/inline-animations-in-jupyter\n",
    "# http://louistiao.me/posts/notebooks/embedding-matplotlib-animations-in-jupyter-notebooks/"
   ]
  },
  {
   "cell_type": "code",
   "execution_count": 3,
   "metadata": {
    "slideshow": {
     "slide_type": "skip"
    }
   },
   "outputs": [],
   "source": [
    "N = 4  # number of modes I want to display\n",
    "L = .33  # length of string: 33 cm\n",
    "T = 68  # tension in the string: 68 N\n",
    "mu = 0.125/L  # mass per unit lenght of the string\n",
    "\n",
    "x = np.linspace(0., L, 128)  # the x array\n",
    "v = np.sqrt(T/mu)  # phase speed\n",
    "k0 = np.pi/L  # the fundamental k; k_n = n*k0 and omega_n = n*v*k0\n",
    "\n",
    "k = [n*k0 for n in range(1, N+1)]  # the list of k's\n",
    "omega = [n*k0*v for n in range(1, N+1)]  # the list of k's\n",
    "C = [0.2+0.3/n for n in range(1, N+1)]  # I let the amplitude decrease with mode number, aribrarily\n",
    "f_modes = {}  # we will store the modes into a python structure called dictionary\n",
    "# f_modes only stores the spatial information\n",
    "for n in range(N):\n",
    "    f_modes[n] = np.sin(k[n]*x)"
   ]
  },
  {
   "cell_type": "code",
   "execution_count": 4,
   "metadata": {
    "slideshow": {
     "slide_type": "skip"
    }
   },
   "outputs": [],
   "source": [
    "# Various quantities\n",
    "t_end = 2.*np.pi/(omega[0]) # time array spans one fundamental frequency\n",
    "n_frames = 50  # number of frames for animation\n",
    "time = np.linspace(0., t_end, n_frames)  # time array\n",
    "\n",
    "imagelist = []  # list of frames to eventually animate\n",
    "\n",
    "# Animation\n",
    "fig = plt.figure()\n",
    "ax = plt.gca()\n",
    "ax.set_xlim([0., 1.])\n",
    "ax.set_ylim([0.5, N+0.5])\n",
    "ax.set_xlabel('$x/L$', fontsize=ftsz)\n",
    "ax.set_yticks(range(1, N+1))\n",
    "ax.set_ylabel('$y_n(t, x) + \\mathrm{ mode\\ number\\ } n$', fontsize=ftsz)\n",
    "ax.grid()\n",
    "\n",
    "x_positions = np.tile(x, (N, 1))/L  # replicate the x array N times\n",
    "y_modes = np.zeros((N, len(x)))  # nx positions for N modes\n",
    "first_iteration = True  # I will want to save the first picture for the pdf notes\n",
    "for t in time: # We loop over time to animate the modes\n",
    "    for n in range(N):\n",
    "        y_modes[n, :] = 1 + n + C[n]*f_modes[n]*np.cos(omega[n]*t)\n",
    "    im = plt.scatter(x_positions, y_modes, c=y_modes, cmap='copper')\n",
    "    imagelist.append([im])\n",
    "\n",
    "# Creation of the animation\n",
    "ani = animation.ArtistAnimation(fig, imagelist, interval=40, blit=True, repeat_delay=1000)\n",
    "plt.close()"
   ]
  },
  {
   "cell_type": "code",
   "execution_count": 5,
   "metadata": {
    "scrolled": false,
    "slideshow": {
     "slide_type": "subslide"
    }
   },
   "outputs": [
    {
     "data": {
      "text/html": [
       "<video width=\"432\" height=\"288\" controls autoplay loop>\n",
       "  <source type=\"video/mp4\" src=\"data:video/mp4;base64,AAAAHGZ0eXBNNFYgAAACAGlzb21pc28yYXZjMQAAAAhmcmVlAAEZlW1kYXQAAAKuBgX//6rcRem9\n",
       "5tlIt5Ys2CDZI+7veDI2NCAtIGNvcmUgMTUyIHIyODU0IGU5YTU5MDMgLSBILjI2NC9NUEVHLTQg\n",
       "QVZDIGNvZGVjIC0gQ29weWxlZnQgMjAwMy0yMDE3IC0gaHR0cDovL3d3dy52aWRlb2xhbi5vcmcv\n",
       "eDI2NC5odG1sIC0gb3B0aW9uczogY2FiYWM9MSByZWY9MyBkZWJsb2NrPTE6MDowIGFuYWx5c2U9\n",
       "MHgzOjB4MTEzIG1lPWhleCBzdWJtZT03IHBzeT0xIHBzeV9yZD0xLjAwOjAuMDAgbWl4ZWRfcmVm\n",
       "PTEgbWVfcmFuZ2U9MTYgY2hyb21hX21lPTEgdHJlbGxpcz0xIDh4OGRjdD0xIGNxbT0wIGRlYWR6\n",
       "b25lPTIxLDExIGZhc3RfcHNraXA9MSBjaHJvbWFfcXBfb2Zmc2V0PS0yIHRocmVhZHM9OSBsb29r\n",
       "YWhlYWRfdGhyZWFkcz0xIHNsaWNlZF90aHJlYWRzPTAgbnI9MCBkZWNpbWF0ZT0xIGludGVybGFj\n",
       "ZWQ9MCBibHVyYXlfY29tcGF0PTAgY29uc3RyYWluZWRfaW50cmE9MCBiZnJhbWVzPTMgYl9weXJh\n",
       "bWlkPTIgYl9hZGFwdD0xIGJfYmlhcz0wIGRpcmVjdD0xIHdlaWdodGI9MSBvcGVuX2dvcD0wIHdl\n",
       "aWdodHA9MiBrZXlpbnQ9MjUwIGtleWludF9taW49MjUgc2NlbmVjdXQ9NDAgaW50cmFfcmVmcmVz\n",
       "aD0wIHJjX2xvb2thaGVhZD00MCByYz1jcmYgbWJ0cmVlPTEgY3JmPTIzLjAgcWNvbXA9MC42MCBx\n",
       "cG1pbj0wIHFwbWF4PTY5IHFwc3RlcD00IGlwX3JhdGlvPTEuNDAgYXE9MToxLjAwAIAAABruZYiE\n",
       "ADf//vbw/gU2O5jQlxHN6J0zH78VuLo0N73OAAADAAA33OZE/sqTBubAAALo8fpH37/mAZ09Sct8\n",
       "jMgUwaxZ4USOFRdrKKwdeyZOeYvi0tW6Gs7dR1iIf5B8RVSqoNCwSZocdpUI7r6z15mj8ReM7ssZ\n",
       "zH0+6zGdjxURA1CDiz0W4KuVeNrVUrMkD6wSPUDkixpsOliZ/1ys7ygZDsWYQMZYjY9tsvrpzvZQ\n",
       "jQ8Nc0NchfobogWU9KoFkEviuTFlRL7pThSX+9kSCJWlZWKoetn972j9Pdo59gFp/9jhzjz3o8mU\n",
       "Pi0+X8SXd9TqEaUGDJ60eNFxaSr3COE6asnzFLEUUlx6bQLUOtF160LphCbCdckAEsImwcVzAISP\n",
       "ErSRjA4quEDai2ZWsWwEx9Q8vXRBGqB0I0CzhID3z9kXabWGyhIR437DI+j6MITDgtRJbI3Du018\n",
       "GC2UYTNlPYn9MX0EpRnZ6HyvcJhDb5mh3Q+YPk4qL+j62qedbYazu/BtVv4VmcuyhVO3nE2BCJCT\n",
       "9iTABmLg5Atap+y9WEKsel1ULe8Ic2jeGU4+ykJN1Kzx/Epmc3kcbw7kVQFavPbeUNDUI3NPl7lX\n",
       "kYQVnOlNl2Rvm4dHDXkHXebiO41olsX0xere67VBjGFyZqpSP2a2czp2AUXcIasbhcFuPZpyNvA1\n",
       "U8gqWSLNk48X3jOcPTIqF5i9frQPv8tJw6wvCtp7AGsM95kyZ/iNuKmzf+zWh62qJ15gMIEGNAtV\n",
       "hCcRi6ts/rFNkXN6irHhNTqjKgSFr9TkciN/MjxCnT36vbO6hTCmKXlYV7IXKmJwybF8X/tdrAA2\n",
       "2IBLEwsau0mS11jaSTMmx2vhIDhwh+6sAcOJpehya7KA+fkGY2wqFemN7x8RCImO125bWSOIHOZt\n",
       "Sh4FhV/DCNIZdLZSJ+K5jmf2DcBU6lANckvIvXZ6Auxn/CiHM1LoAlY1O/iYkpjRUV39k/tO3VHI\n",
       "L2TCleJXjuQgcQv1kuQHJan6iTq4pFF55Te5Sdu6HLR9bKQSWgwdaDCu7VqM/LEoyoj+TcgJ7MQw\n",
       "Bqx5vXMbSugdvaLLj4hoFtMYKDMQy3MU8tthawCYvWLsi209lPf9WiYqE9U65Wt1c9MfCQQsqnnl\n",
       "GFpqkb8rM6qRpwHG+hcUohzRHYBKoUtAMrluajTpvueAGcPltWL/Du+evhY3GrFPlIwxB1ClWm07\n",
       "GORHwy1B+Lvr/kkBOfGKcCWfxBaEa8Ps8u0IWPFFP5rHMiwlNdV40Ph/wKUKOqJ5qkXfYCGTwmIZ\n",
       "V8MC6GHlKg6GqstAmGZiMxkKf4/o0iofoMV5pMttSM60UGWtHVYYxSav4M9RIkGE3Y4OAo2pbRFP\n",
       "7gvrYBGwFfykTTNoOa/4WU924kLbVPfQcKLxMpNdTVxIUhA8gFAeuGqQSgwP6VCl7Q8gJwcLmi7R\n",
       "hdECNBC56i3Qr09lFnymCss/FKNPjoF4X7Dr/EVvvLge0rdD2Cta+cu6qL1XFBSbMjjiAq9Ifv/b\n",
       "dAcFiaX7v0P9w74mF54rKRyqq3kiuamPMh2pRVuvUVNBvMa7m1GFyFKtCtpbJRZ9ftIBrouIUEGC\n",
       "0dT4LU/jJowgosxltVB3lkr8On2OFFUtMqsQg/4cIAeMXtXnnfQx5V2Oz+B3j+YSf1mmE7x3ZGrl\n",
       "+/TLBiHsqi+XJq4uywDoUFNfY0MwU9laayBJaUQ7VBCC4T6zkhpjrVdbZv93V4T3BaYARz+p9Vry\n",
       "pb28B2CMEEC2PwWP+1OwHNNKQnvKFMkjcZCsB8w+3esYSZoAZdvFpif1U1Sl70vZvnxp4C9E7SZp\n",
       "k1nVLqQw91dcyva1sq96vYM5ve5hq6WBGhX7xySoZVTn0aRwIQs9TZ78vEP3dFtJc4mqImVPq1B8\n",
       "zYop0g5wO1ZWdkcejlMfxnqtxTAErrlykhKEteO1ecWaHsuNTMiIo8PuHOqphUWkM+1//9xOJq8Z\n",
       "xXnXt7+DtcWU5xmCP9/jIZNRSqywNPRpw0FO9OqRfS4w/0/yuDnHN4P3NagGS8QPfleEbpPpMZqg\n",
       "4uKZgWIVtiXB0fudD6MZxrLvjmo+jo9jDhcVAbetceHFLPNCGOOricsCXgkp6QhWm5FADK3ip6xW\n",
       "YzvZxnhfecSLKPMHbeQgSsiHUBuZ8zXGmKcvjVGluSZ7fUi/JkeYe10vooBZV+czTRQGI8X8Xuz9\n",
       "WYrQRje5A7N60DN84btzWpPiudYqBNyIfC3SdRWhIVjqMhxfUrNUA3x4YBGIW0En8A7mEyLd/krZ\n",
       "Buk1k0iM7eXGlf3TOvCdqhNTg5dE1JYMfUqK6f2z/Kh8BcGdGgnUxnTtJJcHPC1yzr+//YB4utBt\n",
       "ln9kS9E56UJmzDLJhsXYDIzuuaHQsTzmqySQ6S3GYBTjXHgt66b2P31vG+dnuDd45RGwXX31FZiR\n",
       "Ci/3t7Ubb5z2pjcCTkVmEXefMzxYCUKJiDoTod0ItN3+35BaT2Ete/HLnyNyPHnD/bAQCxce0bNB\n",
       "c3e1D+ZVWI17zpgwdVt74h++rDkQ3UV6ET2fqMVgAig4J2kDJ4g+AViSIAN9522qsvhPm+VHm5RC\n",
       "P7kXhvXlSdyngifiitgbcKeq1FW3YmNsY1mUdNnUi23wf7kjUYrC8jEBX/3IkPxTMX/WFOS/93yT\n",
       "BS9fsafR5cdAToJX+jCn1yMc8Cf799N5DqFGER01BzQGR49umxRnpfzYfEw4BCjQQeq2AmBl2iZG\n",
       "B7YD+xAKPK24TExNyODeZgiHNtyAf608ZdkJAlc9rCrNhsYkPGF+DFBlbp//wJAbidPHdPmB5rJa\n",
       "F41/t2U9SbEjDZQrFhdhNidLFl52StAJuuK46FhuEIHOwm0OqKlAl2n1iCHSglAkJ+N1nORVDkdf\n",
       "s3vF2KD+kXZo3voppxsu0Mdri5l53pNJJDvqUtnSGpu1ahzXS5N7cfmzfovOtfxsnY2gGzVEmwn2\n",
       "zY5CRfz+v2sX4ZOv9LvHdIvO82LTyMRTpolUP76Ssh0PUbSynC1vq30iANk15wyTHQ5Pe2Uyc2Rg\n",
       "TnKsWM/6G7/fxK34S2J6E4axYxVe2VWzd3RFIgu1ONiB+IxVh/ndQ1B7/CGAB3eun2f5O+KG2CGC\n",
       "iKRPXVXjZw3c8b+1GB1isKrohj2RcvfNPoLNpyhnaMv2ESOmCdEZ7L8cNo/+2HECz0B63qzVbn4H\n",
       "dVble64G8LJEmLW5ULlxy7VVBi6aV52dqhvZe6JzHJ2YYVcUItAoPj33pJj/gim2hG5ZPXuJ6GuY\n",
       "kYu5YplkP5H9KF7vZ7tob83e4dOH+Kc6NSkih1IeKDqjQH86qC61BHYVT2e+dtlVYx5GPIrjFte7\n",
       "XUr38uoApINYccSo8zprW4dE5Z4nF3/8DeSxxkGjuHHlBfHtCx5u5M0d3AMczoKNbA/thhFUMTMz\n",
       "iAf9QZM8Wmg6QTIzZr+ssr4N2cbJj6G269votSvxxvm85I4JVmxFTEFucUUE8LtUR1AzNKtK5qTr\n",
       "w90yWNW9yT0p3wIJaiQx28R2lJ/eivm7MFKdcnPaC2l+0IXnjg1YQ5KMiYHWd+CMH+l5mmfR+B+6\n",
       "q1kJOpxJAkdCk0RKfxTOuf05HQb2bzxdoKUOKVBxrWkyJHW1m8JKuUKFOgtbgNjLTRn6v5VS56I/\n",
       "1OW6HDY/0bgs7b2qvTdXrPalQv/DIr9Hub29XpuLO3njb3g/1wkUfOrKq7cr2/62Ac43YJFdI/kp\n",
       "oH4ns1FNarC9UpoOBoEzuIvV0hRCsIGQVoy/R2ShadyQ9YytxpqaU8XSfqmojK/oVVgpsiVOFmBr\n",
       "FF/6nyUkcSr67jQd/3FgQ3Buc2DVUbjohTkL92JF4f0F5vsFtCl5dreRlpu3y8XIBCbhvJfZoPnM\n",
       "hWfguJOukagwSE0bU+FioHaaaYfXsg/NMXdBMAR1kJzl4kEe7f8AwaLbTM9sjxl85jCLXjzspzUL\n",
       "MbbSqdX5+n5p7G09V1eDOydiWS+uXBPG4Ah/7ckpsRb0MbfzMTj9HXhThbBIlukU6B4JkYpqZMCX\n",
       "ZsNVZrYQAi0VRl+eo2qBtFoQC5ezT/lDUJPOW/u7vLREqrP2ApL45Koi5jbTCJBl7F2qD7SoG59G\n",
       "W1jhhQXZDBS/VS0JYMHinwg+xU5OQU0XDDZ8NpUuNlqMi3lUHrEqeYdhf3ch8IWmtrJHigU2i45A\n",
       "funJpIf1v3ao0+cTphzjNefcu/EmRLpnJif1H3sBDod72DbIBed27zjvX5HQPsJTkP2PeaG1GHtd\n",
       "YMqc5smhbCpLd7yrJVZNeaPcG11PCDeZrT7PFBSfHRh+NVBgdf2vQNFxeNHf2rOqYWKvsNtJ8X44\n",
       "A44M/iN9HLXu7GozUrFGzg6t+VvaF7HS98Pr7vJIxd2rXE48cJbDhKWTeQF3XlV3svs3gvai2u6C\n",
       "Jo0QZYeajilYZdHAR6qylF5SnBYxqLKJMop7RPpiw/bParjEoyf+SSDX0cUZ2EHzoG7V15HlYwm3\n",
       "vtFbqLrXRFH0DZIhsxnxlTOgBNO9Qv8NAdC7ZGB2Ohsr8yeb70tWRA3xAzuCKb0U/Z0EkAD8UOWP\n",
       "/EBCNtbUvejB7nXmyQLLTTs7elrO3H8D2qjhLBox8+v7+Kb9s1ytIFgFP6wgxil2cfmOG/2zP5n2\n",
       "/WRca3eeTF6MM05ZSE00P6Dz8LS3XVmfgGl36Rnc5h1YE8Anh6EX/ArsPb6ld+paZMH9Ev3Q8iQP\n",
       "5dHkJAKUeYeUctTlK7xWJb7waTwHToo+hyQahPn23p1rn6JEDkQoIecGC/BjtbAe6A0OYYSFLEAd\n",
       "+wx0p26EPKx5qgIAGSN7tIJG68jgEq711sp5YB3Dlm+Vaq/VF2kK9VU29HdrzcPJzgG3T34xYU1w\n",
       "H4uI9YWKWEObxh3t2NEtcs1EKjLP3Cwbq7WodMinI8Zvx9g9o3bapTs9H2qA2zZ1VswhF6Ivy+So\n",
       "URfV80L2Y7cm1PmLVfOS+fewiEC9ptyarrUwy+rikBY90qH21QId/WiF0ZB0hAtN/w7dZQ63Scv6\n",
       "hjWHboP1L4JOG2P1tSWl+8tNiRWZFlO9WhoIFMVzW0BpaH18lVi2ixirpxYc4sxrRVRWoCVSezu3\n",
       "J3Ez6FuHWV2KRYAb/iSO5VN/urosVEtWjW0Winkvugx/5KwB+udR5uGU/rNe9Cus/dZWGYagQ6wZ\n",
       "tm4PvVcXQYMeJjZbvbxHdqO8VLvNUuzDYWg+osBTNwQgYkyYkcVei0noo+sdOyh1tT0h8K48yBZ9\n",
       "DHnLHa9tP9/63vYRs1pn1MA5xHTH2Nd4T9hhmsGWIo6wtpNYHZnGM6xbkafdt9Ld23Lbk5/ioijo\n",
       "tfyxAhEOHLsDRd63+T/N4U8e/eplB1N+03Taz+i1/P3h4oybrovIwjZ5HcLuCvSHsolXynrB0LRa\n",
       "vzhJLlHynG5rTXspzkKga6MUCNxEQ0fc0qpmEV634IzRdwhG9Iq/xQuJ8q+j8oL8ETnvS5jOn8eO\n",
       "u1IMMg7nSln/Zcjkvr/8p5C3qEaODhIo+7ePdYjFytefFQUDgCt3cPmdPU7e2ZmD4BgL6ka3BCf9\n",
       "pyfVMSTRa1msytXEqxPzP3skOspjcM6du7Qkh/taavCXUk8djzbPhybvd8tKVGeczooel0xjpOff\n",
       "wajq49W7JIgbTfmTKjZ+aYsQGaFpeUO/aijrqVozoxvgZ/Ts0uVlW6ZA/+bM/vPOzfptz3g4dDJC\n",
       "X0Cjw1PCTVUXV7cgJFWD3kQe/Qh/J/KVhKqRnf7JILyO0XzdnGlm4Uc50PkLAjpjpBx6fM8ew3kg\n",
       "SQiX6mcJuMQPJmy1Me3raFfsjDzKxiMIYRPr6BWxiXsQMVY1mvtQ5DEB3sJT1LC+wfiKX+ousJc+\n",
       "cfJiH+V/tXr/Nlr6OzRCm1CmaO1XivDMRMpOCsNf1lxD4HDLxzTiz0TfPh4USy9tlAqMY/j6C6+2\n",
       "zz05WfCaDqsAYoy6Yv17SCeSswQO+EONt7CXfHP/F6GGAUAqcR/yKKZAAlukVMgezbv239eS2h06\n",
       "/9BBYUzymFqDpiydXiGU1druiz2kOwLDaOqlRwP04dKrDfiiqhEZEnelSa7DeDxzOg5dTEi8k2mU\n",
       "zRpJ+EzKW+S7pgR3ruxQ5YXefmx8EodZCGYmn23o1kZ4BF6bsCqQoevCt+S62h37CCh3uPCvDro9\n",
       "CQ5LaJy4f1jCfSn0k4JsZI4Tn/G6IVpB7xvxsqUPLUL3Wgi4kf3spTgEEclEaKguhUu1h8X8/9pL\n",
       "JkPosfAxkUdvPNswRRDVBPM6d8Q2a3BM7BUqcGKdbRoSjvT/6RTiJfZNCzqb0N6sLQNzpvfkvJyT\n",
       "eAIua5dOZDZedBgxEVOid70trPzX99UROrm5dyp/L+HYQDhs2j9tVZyRggvUh/zVxcLtBw33E9n3\n",
       "HhCP82NkWBXEr1q7EnEFv8eUs39SnLT4DOf09//448qqJXhwSwWUnmzx4WMRy0n6qnau1zer3bMy\n",
       "dJA2BipWWGcr5TR14RJzXy5ZWAsuVxYyAC7uCFSd1EGZTzYk1lU3yCm9oWPcDOd7YYE/g35cO/h8\n",
       "SFK9pEFiWZAr6vQ/xRcfgmL3vkTzfgL8CN7E7ScNONmyFLQor5cX+fz5RrR5nzc1MzEO+1mm10V0\n",
       "VCH49wCZ2VF/d6th5Fl2V8X5kaAC6qOldvL9gLCzQu5pSwUCzvtm5DdyRP6+kooXHO3U0gBolpxj\n",
       "NppkhCgIzQGej3MxxS31j2MXe8BbaiuTLaEvAgyz/VSH927BZ1+KKpgJV5NlLJ/DFlDi+ZPPhJRe\n",
       "uU2y/gSWwFtMr/mw9g5wgz6rZzevAdCRwSzJGidthgDO/DWQYTbeYXo3z545kwc8/ScYk/KcNRzu\n",
       "RSRB2+GXHY6pyfYSPXj5P/ajfawdc4GchHV3e5O1dWxGEAR8i4WJ1POJHc9+c/U4QNJt2xwCUihL\n",
       "mQJRpaxXCuIybWFfP7vu5AQjz8K0E9UyGZj1NKbhMQuGdSQJwZ0D3NFMvIeMVKcL8iJHiB9JCIfX\n",
       "y19W4sIaPOUXWC5YOetVLPHuyJHghcoJo1/FED3oMfNcsAUxyVyNVGhO/Gp++II2R6rS6PEw6np0\n",
       "SHmJPbA89X//8NFN7M2jLE7GGdN62I7CZbrsSszM3khcjDdKnMo5dkd1rh74N1rQAcI9/7aL8K3/\n",
       "6x6hJWtgFI/K/omHT41cF/SwY7TYKMYJ1Ht0GslWDOskzxUry2AuFM+h3GiTO4xkbxQyk6ccuzP9\n",
       "ERI3OgzOwXWv5O9LBMwnWYY78+mEdXhnc3PZgdkqNmuVKE91pLNvwFNyT4EAtPUkpX2VXJLNef1u\n",
       "dRC1N1+F4tqoyMyL5nhno8qd7Z0ptcuFFbjRZt7tS7oOv0vhx7LIuYwO2kRcHfgW3ikc1iQ9U8hH\n",
       "v2jQFKZ42Xb6KarkD3QGMjZj5054vnwb46ynBLvX4A+IdxGY7gTM0K4AJLViI8wdl1V3hTkRUTFW\n",
       "t4LXBDKuqsssZq8nQMbUz6hyRRx6d0tPt9qnjQo/p6QQSQ6MrWNWPqPtfC0u86Pmm0TTOmGnxDLq\n",
       "18M301Nr2dKRUAMSDJuq5eTHaGCmfO/NW1l3Rwfv0Sp9XmKD0R5q/8eoprY4UUNfJwnAr9DLcqfT\n",
       "PpbSkHQiWIHFjNdz1z4SulIqmP9NbIZxVirXcuXcxUcrBbXb/UL9i/hA+rRVlW9jPkV+UOkui2uV\n",
       "5a/RVguPUXKR3JkEROW5H+5dlxl6GsU8pAiQZjYIJRS8qRsyp4qcihL6QX7vNxv6F4WpUifl5bI2\n",
       "/B0hkqZhPl05vIoUqwTdlFPtZRl4Mt2icfZk+Q66vVd9tUOr6fkT0Hrc/YPoDBRenJ5ZIFtk5gJ6\n",
       "ceY2eDKbdA3eE4WCEXVT3B/qNadjHM+04mXgHyVbP4xsQ7VwVTlVYmHB/ajbdT+GLBg/iHgVCgGq\n",
       "mn5w0PP+VzCxlrdwuD5BY34HPA8CJ10MsVvQRLQXxwmlaxdxMmKRN8nGAi3kzzSA3Mi+ysyNSmms\n",
       "j38N8NHAcjx6ldcOnWIBWsRfrBsbz2M0EcUuPkpjTCV6Zq+sNh+/H7NiPBhSzZNzNWAZZLR0jUoj\n",
       "1A1QaHPVM381L7Sb91vXzWtfhrZKMbHvVAVe2CLNQwIAPCMXSD9znjIdRrOLwT8kcHmu87tRuijl\n",
       "GrXOBuZJSTdCAMB3N26S0K/d8FDYd293mEwhO21vsQnpswa2/o/YSp7rOeoA1/B9yBhDjyfV77rO\n",
       "qKVwyvN3h6uCtsqDTtkuQQMzKMjNdZLsYhluK4+Fv01L4wJJMYRrVtTXRfPQSw9IWL9I1fGLE4yI\n",
       "t2HgDtUf9juKet2aPrdlikGWX+1CtDcYhoWVUme2H+F/MjC8DOzfqgkIGqE8boWyHnj9Jq1fmTPH\n",
       "gBVjgKmYoecsypmumUsxbIuUjozTY2YYtRxbUl5G5iopXCQWaClAnZUDxkf1dqFSJrJZiC16xr+Z\n",
       "WZzV5+g+MF89YNGchwK3iBVY6WQj+UAhaWzlqDUKv3WHjB3ZwaxxnKCjGlU3QAGRdyCqPVmx97ZK\n",
       "2PVweDu5wAEDWPWf7/jgTkbMz+06O8i5aPfhVCHgqnUdfm017yvQE1ZlZwTxPrQ1C85Q9U/12UYl\n",
       "+oNBOqKmx3BDPypFaz/YVsY6TvRk+0y2Jt+ifQFLkuuVkTy6p/Z6Q+WiqlkYQX0BSyAtjhSn4i7k\n",
       "X8O3f869yY1mGUiqPJvQ6gTivNC/f/9v8zYlj0iOjjIuQwLCZ4Dajed8Un4sn9fmdpu64Xv9IjPk\n",
       "CR9o73a9+iZFFPJpUTqj29Fe87uGBr5a60szhdoEmL6AnKuvweFW+E6nlZSGpkMjFlNY6bGF+BQ5\n",
       "g7rqmTLgsWeAOsb4b0gKMuAC0LS+6wGV8vSKbGxWqBv3JHpB11x8u1L1LO+XDk6YKweyljoFz3tU\n",
       "EmipyNXCu/AzRCemw99J9z4BEqpnGax5FJ6QqJbVWhlTiF4wqnGqY5Y61VSeDzWUWhaXl3penUZ+\n",
       "r6V0gtDjnNYHCb+p+j3kqTU0jkFAAAAs4BY+JKOvJ2f3FV56J1J1ZFrPJrGQHY4kcnqNrBIZnyJZ\n",
       "F/hyzcMeSZKK4jeowvcNzwuZNapVWlpRpS/PwYuY0qlFh1xCrVjBPETwcEVauTYXFqIuxbRnRhIq\n",
       "K96It1n4MoP3O4fST7HFImR6UKKfH+9Plzxxa2Q4MI1YyQ0VoS+wHIT3FE9hOcABmwTlAAAI1kGa\n",
       "JGxDf/6nhAHx7U/xXrHmu6hhF/xVysAALDwTO3C/CnPrO7qNk1qbkix8NeCDYuo407mzYz9cc+Af\n",
       "DzH1Ya5T4jKYOyBxIZIPyDneQqDgZUWfj23yCgb4u8NV+jmFtCN34z5U3uMZXQRYissF6UWk+58T\n",
       "w481XweJF0hb2x+YZQ4raBDitzmJOiKNGEO0n2LhCEA9r4fDRjJe+imB7afPUoJwKY2acywYGgOe\n",
       "SWHbrnrswalGeoDN8fu3PXk7opGDLkVzb65x5mVgAVhvQyGgyKSKxU74BMAzSixQ5EPvZ8YOmylW\n",
       "zdi+TGQMsdN84EATXQY4hbDw/k+PQSW9gzkOJ6gzVJvB3Fi28HB+tbKPcEuLm3/R/ONkSxCAF6dt\n",
       "bcT9b5RUQuQfv2aHG80mciH9xFrN/oWeAL6WFJUacpIK/742jwpgNlNf+PwQ5dIz4j4qT8Zo07/m\n",
       "weZtgEo0quJQY/NVYYWfwCeAC0jOqdK+OWie2sfYSQh/PgB1y2swuAcV9rBe7qpUE1XiiZJSqw2P\n",
       "h/K7nf13BryaSJozKEMi5MwT3qu/XAJ1og2UuFPuRswcCiSdb3dBzfQk89z+QgJwrnh0UxNZoXuv\n",
       "5RA5U7rQpti3R35y9fgbKFGAC8cwhyNT2MfLxp6fTBq3Iw5IgOcHE9V1YuIVBMf9MT3WSeDSaqIk\n",
       "cWV8+0lUTUr2WQD+YdywDZRvmy3f7vl1Mtv+NVALK82MGJ4O7mzCOo+YX8nnW994MOd/icctHtHL\n",
       "cFW9mUGRoSRjmFyK6K5NNe73WPshYRsaxr6s1GNOGkLSh4wK0ooiHEw1khVLRNoOCKDjmHtDNFWK\n",
       "78Yoyaeo9oql47PvxuGN5v26Za1fgcLVyoPP35CtErPepEx7lmjvRXaAGh13eFNM3Hnay3cH2d83\n",
       "wB6NUGAy1FtqgSFaQ/YNjZR3wzVuYrpHPreEDOyUeo3wu1UtD5QwV0wJyQ9NMEPkHDADgOiiBVGM\n",
       "tKDHSuuwTFPKq/tfWhk3ciu6Bot5xPwQ9T3E+ex/j5c4mClNUON/8y5LdXZvMAmSBWlmIsOZITSl\n",
       "iUYnJgGZvQsoDhi6LkIQBPa+FHw+xhSJm98VQMzhlueosPp2SGj04EDe9pXRp96O5+SdWI8xyiJm\n",
       "7hZLk/qX9NYj6LKcRD3YQTPw414qo8KuKWOIP8NvC+bezyEZVqom1ci+1HZPHE1Bct91cQEUNBmX\n",
       "9aaWTsJfsdIiuNq+jxW9gBLdsw5tpBzP6n9FlGZvmfddZXQDMVJIvCEP7AOJV1zHKWb2TWShhmXj\n",
       "k75m7waFuR6zNFu8BGGGVv/KuM9gdJ4fvoN9uZN0340ikOP/AHOIoB6Es21W3UQxC/9cngTSEFK8\n",
       "wlWM8unWnEZemg0i15IxtOohot7exHnOa1RK+gZGItkcasOoNPU90ihTWvGjJj2kyz9sYERnscB8\n",
       "3eiHUEgjGLvqOas/5OTuYN+e9a+d0C+71EfBVYTUvynEzAJVChhtFUboB5QCS/+gUE7Bck/RUW0K\n",
       "ZTfciElwZqoUkLYjK8aSEsrDHm+rCp0v8g/micXceOINlhgKfD8ANEh/2M+NirC+0dhSMP+tJSSW\n",
       "WAXEKL9BMUvniVWBTEfKvmm76kiGZwOH0vZO1RHy4p3er/2TY1tztHJQ3H7XvIsw5ISmqPAZgyO6\n",
       "TlU1NXb8jwxeQwlo0v3i/7jvGcB1u7xkQHZt/3jb0LIEnUSwuurUqiXYkNH3xX03PWYYZblD/+sO\n",
       "y2in5pTAWfLI01r6K8bve1LB35Ac6YIiZB5G0CNy6Tx9WY+vsiCTWp8H1Gnq2RhY1ZnQCRbu8VYL\n",
       "CCmPJpcwevhIQGMK0rYrmtTnoxmxJeZxLLHbSExTuL/Cjalqpq+j2B224dp/x4JQfxaNsqKSasp6\n",
       "9i+RKE/qeoLZd29i3uhRieKQimoKpLoEktQiF70wYK3gdXtgHF3GoWSjTM9FaiSNMx4mlAcjdXTG\n",
       "gU7Ey4+HsrcGxhcDfZebPNOunlcJPHR1DYQl4IB0CAHq/7lKQ/KkSzlB/RTVB3p+ku1/7m6zeN/N\n",
       "LAaesL2/WLMQ51Xzissgra67PMKxm4Y3TVh5N0QBz/Byw2UOVlySjfw2Zqb8oseeig1PJjvgTmYe\n",
       "H/Wk2f1ecfHsHPs0hxPuVkRnBHdnNzxFdQKSl/MFj7iVT/XMvjc4wKHh939opLLJi0p86kizyJnk\n",
       "bT/4PJEKlbB0/c4Fr3ZHZ9Kv5tSsR5/9TyR7ACaWoYSEvTeHfJdxydIS/vXPbb3PCUQLE6Ph5vzI\n",
       "PgK+bLqiT25okeRmv1/U1sEHF7KcEkiTrVL1LY5N8YiQqCLvftimKtzJWczUyMre/o1qYLI4SDER\n",
       "G/nuCCgN39OcqwWUrRn4eDiyi/+zFz/GF+ao9h9kJNRYe6jdV5sGkx7D8sXL0IDDsN8poCsOrEK6\n",
       "aunuNNhfqEvJ5ZfT2rf2Mg+sQna1+CXeGFKaUAFkLHffkm0Tjud/keZ5UdoJGhdQFN/QMNESIXm5\n",
       "ADXttK6/fkS4f2Y6QVoNfuLzLESFL9n2U+VbNYkI9tJxNB6ksR0alrNBza7uHfLJO32/vKO1/Ja2\n",
       "znCB0YYbhcicTPsCu82TQzNgbb+6Qa9YSEL3SQtGbP0QVuATGFy0DMaR5BBVLpFM2gUu5M2fVoYJ\n",
       "b3YNkG/BWsxRnBmBJwSU8a6SAcFoYJho96eFFF6u514mUv10T63s/Kfms9s82AndMNhnIuA+06/S\n",
       "KlrOgQgU3M4s+YWBh1ikudQvOmWh30PvGSNKgCHuEN2zGCJnwiLzHCQ7D1rhUkmG+arCSQ3sr/bd\n",
       "6YCKlbR3BP2rmfAHiBDWe8Q1k6glj9Z14jUqzs/nbNGv6kVyOfZdOYZVMprlWWnejYPyFJYyZ/uL\n",
       "QgUD0LH0m9fEqpI9fygDLUDS8v4sKHKgBZdgWGgOzAMqvwTyLsC1oDRswSprujlJJtfTa/00oTj7\n",
       "ioI51dnnEV/Jrlgvg0fCpj8Lf02A88Ku50K6BsauDulQsQKIgAAABLdBnkJ4hf8A/pzNex9L15aU\n",
       "v5S4AWh4s5umxZ5IKnn0ALRuZdnG3sz3bWzXLEygIV3mHyJk+wisvNpZeyTuminqaV7XTavHy4d7\n",
       "sKY7yGoO7msYwMiZw6YK0Jg649O4bRSxWgvRoNr6UjZAzs1GSJO1RS7tYvPZ5M1uNk/Iyif96Ch0\n",
       "eNGn+6Vcs5El9mPV7ym+osWhB9YdYx2BMZG+8EQ2+AYgadcw5lEJvmbwK99qIXKyhHYo0Uca39A8\n",
       "a0nC6dzoaS9uDN/lt7TFI7HpKW3T1RhMXesOQQGJRwJ4QNe5hqdeljnxl+BqPPwwcyQvQS8ocBdf\n",
       "FOLbti9gXJI4YDzn1etZ5aUa1BQ0r7ORK9r/XFczMDIRHq5GkwJeolmIAHsXcJNOKT11gJnQh8L/\n",
       "BW4FiuFv2NoGIjrNTZfupb/nKg3F2SmQ+iL1nm5ruLQOzHdqpMC7A6HwKqR6Sv0I05xpAfu8YmUr\n",
       "vZWZnVUBO2gz60YTKtaNyeN/j2u4wB2xV03VCrn+/93GFOL7+TQ9PzCCwda64rlnJNNkQZyUqjOb\n",
       "xOrCmHzbRuCClew8twLQkKKx3HlGv2JHSmIpj6bg1zeajWZUeE58OnLtvTRS/xWpohFVULvBC3Ik\n",
       "mRGbpuRoI0fd+x0nrhZEEBnfr4W6BKtXpUJB7Bv2gaZeARMshBSvrQNft5XHTqlTx+cQ/IZB464l\n",
       "gvyGcMkV8GzA+zZ2OXbk5lomyhqK9ICZjPlekCNTcY60rVngdy9yIvumMDGbvivZfhJgv3QSbrH0\n",
       "QHAs/6J//kptBvdQYc/TMnZYTOZZ2heNFw6z+Os3EqUhkRQ7NUVFDsziL0vhxTjn/DpJHr2w8JT2\n",
       "Z28Gi1kJXEQe2vLarPaB9iW4LVYN4kYgpdPzac8Nvh7rrD2X2CYDXtxdTHbdVIxHs3muIOHeqmo7\n",
       "eJcRwyT0DjTkSb5n4d2bpysmOwqdcf7S5UKCIrFmDrXauK9jr9p6yeSt27TrGGlh7P0+Vj7++GrL\n",
       "uy/I34mKr6uTD4WB7cHzqhH6Q+kc3sTJFQQW0crzJQtWqtBFb8lWmOAFw0vv5LqG1IGDNrP5UW9Z\n",
       "+3kok/XhRaSOqnKRk8xlwtmOADEgGgF20usXzCCHgwq7ZgiQLUfqul+BEq+h1fDpjOB3K1myVZgZ\n",
       "90JGF36vdI+gx7R8YzzdV1NZWjVbvBXmAOrWsmjY3zVQyHCRBvtdBaPKOO5iuMk0Xx/jlPOXGWZ1\n",
       "zWkUFYRWhiapf5pzRWDIXd5PQnFkXSAtIE6y//rOVI/SQfq4jQ5TWJdviS1Mf7E6DWhwmxLGij4u\n",
       "PIPwBmRIZeFqrV7YR8/ygsDZ3pjfiwHmF/repAvl9QCYCpM1ee2gHeR92vDW+t/+Dv6z/kelIh9a\n",
       "AgJaaJA/sQAM9rWw7djwXLFWUbe5Cz7yEVNtFmXpMVeewz/2tzUUjwUrM7e9+PLRW9CXLSLTsxWw\n",
       "w0CT1eK5PQZMIBFcE+nrUkNcQJwOXGFhbr7EaepvTVcafvCZYZelVZRK9RPiXsh5HJebud8Ihonq\n",
       "UQome7HUPrFXDKLoZYNKrtjphxAsJR3ZC/DMc/jurVZqZSJdmrp7Uc4FXgW7/dGygI2BAAABuQGe\n",
       "YXRCvwFZ9jnmB/X4lfnAOXYjbK50ZJ1wHnN1KMJGI0klNdGa2lWc9g/7gdg80ANtXbyrWdoVdCJD\n",
       "b2QGEasapbIJf0RUKq/UZIvI2oZTQQRXb0MgNMKuhwI3WuawyNZ3PWf+zQaxt9prLjyHW6yKjsVO\n",
       "Zr5A5xiGjGJY0FP2Xd8tReVGIeje4dn4qQQSsXaq60SuQhZsVqQakrlxH6kgh5trK8Yze6OsgHj6\n",
       "HnOGZA+ECO0HsMho28OawHvRFQ9P1rr+RrSOBQ0jvc4FarJZrbVEcmOOdirrAckNO4YQS9+rMQ3B\n",
       "1FPS+F7CfHQ8OcdHl+r85hmrORQAsuQYyEm660IZXXbTMmfxQ7E1Ycm52C2CubQR66is1Hi/+TT7\n",
       "f3GsNSNa4uUeJ30WCrSK/Pu2ai1UocFLYdoRxG3IcQ2A6aQDbxBHgzKKg+fuZhMxnI+D8Nw0FCI6\n",
       "ZzDkdPfsJIAaP+q8GXdogv3v4VgYCgseEDb3hnonXK/iw8W0Vane8EDrgEKgoZwBipA08EQUw1ER\n",
       "Vz7omVUvwBXjg2TjY/FEOQyYccy5z9S5QFLqtSkpMmJ5CqeX7ygCfgAAA7oBnmNqQr8A+DL8Sjfy\n",
       "Y6v3A/Q8ADRRbQ6bmmj1J94wMatlE+zTGPnBcIR44lICQGExA5emtzRzitlEQZHYNPdNtfJv74r8\n",
       "IS3UUFs661AFtr3Bc0AZWdWprIHkeKnXGQtJiszHDZG+7BYlNviDGtj1CWZj22/8ReGjXjLvOJaK\n",
       "HXruuAbVIxzoZG+y+7/50hPrT4TeB0ryjVXDtf1+Q3XOf0++ZeVD6eqP7s8tqOOljPWx99vLK/wv\n",
       "mje7C8R11pbZHTe8gZ0N0/rx2o9lj8ACuXg6uIj3oWa21kip808FtFarOrnFt2zwbMU3LaPc7wWp\n",
       "UZ3ppGmRJcDE8grVWyyInhcFF8vlZLd2HgI/RqYm7SkgTKklGEEi/kdkzNq51dcBHm1QfQQThHMs\n",
       "m/AmnAb5xHTQj5eGuUbGVZasgtKaCsqJdU3OhT/9Jc2qd2zOPEzQhPn/McmmUHEM85uszKnGQk1S\n",
       "mSeCTnO0A9K1aRsM2iPHs9ZLH4DP0NdiZfyIx+SynmKgAciS7Yk8AMnOYnOXTDuAwRVfLEx5/5J+\n",
       "YCpZwppIt+cZYKNfgqfl6cgG4p2oXGzy3cZWohWpfpldCcJuvEoK966E/QnWvFntTZ9Hnecuwlz5\n",
       "d26H8wuB1WDxt1uo5f+SZ+EcT7zVmtTKdnTb4JdSh4++f+zOxcxIhIHQG3vjoDqCuIbVuuYIzIzS\n",
       "luFWYgTpu1rvtk7YGd1GIHjtfZ4RntOp090JjtgPpjA1qGk+U2sv0jAB0oFH2LcJvvABOdO2bI2c\n",
       "nYjnA98HUetzSKWzuSnUL9g+bmgTZzHvnI9Q6arDMnaScKi/5QVElO+aLjARK7S5s3dudvdH8LD0\n",
       "GJQaWqGOOyrMcymXjtVh2niTrCZuFgkqfEXorkE04J5dxqNgfw7qziGjRl3Iwoka4ErinxTx8AUL\n",
       "nRMj8QxCyzB0HvBAad/Mryix6JbFF/JsObn8tQc2+D3N0fEw+rcfnK52j8GcQnu82wBO5WWK4Wlk\n",
       "fFyL+iDBzHYfD2/HU1gYrJ6Ad9P26kAsC6Oc1FNsob0kHX8htOaL72p5TCHKTQJ2jYuhKIjDSUEr\n",
       "HSa1BsnfaBAe3uxJH+s7n+3BpB/qit/L5Bx0O5baVFKMiFkYum3Nd4hFqd5IENi2iH8rq0O0YalC\n",
       "ryGsXjjwvT1OuMyn8XgjJHraNrTC8jc0DzDbr+FwJ2IYBS2ZjqjGYNDEBa361ojnaJgBzRIepxPI\n",
       "u9CQoA5nTUV2FGIZ6avw5D5yrEr2LjlrO7p6j4EAAAiUQZpmSahBaJlMFPDf/qeEAY3nNwAmr23G\n",
       "jAz/8Hf+0IjQZF58Pj9q0QkpM/05geeH9qB5GGlVtcgRakwlkclokk2k9xLg0ygY2tSdz22cYZob\n",
       "TSM7341klIJqy8vd4qNQQ9asXA6jkFMHo83RFf/w8eNBgF5w/MeU2z1tFIhWCZfg3I5ysYbPcYZw\n",
       "ujVJ734Bguqpf1kMZM+FXqE0u8l44XFhmmtQlU7ZLqugYNN7JE6fEOYtBqoOIz7ykBatRBuTsIkW\n",
       "ykZQYrOcfZWQkRLQwUH+ELb7HW0BhQuD2fKY1g7ZN9LpCM8Og0JfOmWTPW4EGMZ9WMJNlhyOejYS\n",
       "Pc1RP/32o8MungKju+uk0djMXK4Ue0yyvrQ1qc82pcJzObuDZfzowew5N6yj/xT+e4vgQ2+DhiAx\n",
       "jNYmYbqEmisgi25aaS6+VWN7+j3HCJmgGAFfyRMsNqS/CTqH3CqF9TOe9mqnOyPq106TLZg7JXCS\n",
       "JNfgOEhRscsgLj1PCD4fohBtJSJ8RhQjx0GFQ7CIE2vuPHAc95fC1o4JcztwACdB8e8AZ/d+04AT\n",
       "rqLS7D0lBVz9mDXhCNBOHrIIHY3syLMCurhFaGwUruj0TFmVUCcBkg3++T1NK5YQcrHJHGBgC9UQ\n",
       "trf9CPd+tVhX7zJrUi7tV7H9zxaqFSTchNeWA8Z2WBS0rtVwIqbqOyEEDGyinReajgOsAFz864s7\n",
       "O0RD33tcpw4/+Av8G3NbJ1H4rXt8mFsb5KBtgI06kWTOu397YniXq2n+fK+lpjLODhNbesDz9NvM\n",
       "eyGXb0rBoZvuP6ni0enGjLk2JAgkiylhzKoSsP9FizDe1XncIIOaNcPCqhlR349eB2iY4lRXyWGE\n",
       "hyJ4ZICq+B17jBD5uTljREd54mOTLgsGEXmORjHbW93LonKZHeXR1zyXc2ylkD0b8Y1Fk7c23VtK\n",
       "SIl0inxGcF772ae7z6/Yflx3ImgOzAb/JUpDD7J3RdcnP7XX7/ArGsNFE/+yHlbRbGGj/9VxYI/s\n",
       "2YkkVO7wKLNC2Zq7avdm6rBjllD5pCPP9ykWfiuUSy9zO1CVZjjS6UnM3BH6jMvcQrHx8JhprSW5\n",
       "oGDoS6UUIOgAhiXM2MIcHkNX+S0Xxiyy015+voArYwApNGrAZ+um6ZzqKb5Iv50fCpQIrz8uaDqI\n",
       "kEW4nJLYf616dG3kGGX8UcYO7+fbexqA+g57IP6ilgc4OD58JOR87DEFTSsdt4QTTjUMUoRcYjub\n",
       "DOejpN4Dcfj+HDR+qe7DRHpfrMKnm8PMnteO10mtUHJJsTpGEMKzKIdG8lH00cnSiN4Xn0p4LfvS\n",
       "lBpYHZKjh6Aw8KYHar6xNz0L2X9u277KRtXUDbxrOIt+0L6YUxOs9k2KHQr9/ZlHcSGYsJovob7u\n",
       "aNbllOfKkcFKyPnJ3s4FfDPRNuPaqPhWV1PEP+/V+vOfwQz8eIygS4yQzg/KoDbTBz27lJWV2R09\n",
       "lIRmaGAABvVxqjrCiDscOvMk7uQultdftSWt7jy8lXEN0KjH8GI9hrDt/Arzmpxyt1ciD3gH989Z\n",
       "MIGR0LoDqTKTX3c9Qkxega463lAFeYu3YUeWMLUCNgdc4NtQX42eor8DMFTvTYdasAjx2zWgiabU\n",
       "8uuv5M9unUvK5ENsBsCHSSn4dB6fi5zRo+hVFJV/iphlZ9KUgsCJTYBcRVO4aRqX1jhXXWLRIkvB\n",
       "LpRmFx7uqqJTsZoTf9NXL1mTAneOgsNEUAmp5SjTXVu1Z6FSf95L6kmjPmejA8PhHqajITR3cvr1\n",
       "KaQp7PN5+WxWtWnVAkmBy67itIIhuY7kz0WaJ0CImXbuVkcI1NQ7Kh1Xc1gn1US89fSxTm2WaRZT\n",
       "Gs5at0e49js6vvOSVwP+UKVgthAI6/E0x6nVyG6M+u22qQxSH4Jhsen25x4TXwCspp7OmfrqL8Od\n",
       "HVDXxbmkAGBN9TJhCZzNAVR4+erDjZRlsqNwYYvuvA4hkdSGJajg+QPTXg/lMFvu3yIo5l8SY8yO\n",
       "MjbdWy2VJNofwSaJI+JqRwVTarKF7VA/u6giZjUf5MdNLT/TsETb91gVpzrd+12KBJlb9cqUchaD\n",
       "Y3q/BT96HYkL8Btva9/b+1GOfXSrz+Ulr1EXYnMoXVo7rKcxfFtDiR1a4+Lodd5HSQL2KqPD6V18\n",
       "0aR5wmBiP9Up9rFpRS5ZoFfXLk/raa7KQnoVUGrdqwvhWIpmW0o4uw74nPYam7jXtqlSFewl6Jpw\n",
       "7tPRirFswbhOBm6Ih13dpT1mEmFxgk5r+/hUd5jpYgU6PYqBcXizQvQu/eiGTj2Ar/kqvNOnmxuY\n",
       "KhVAkl7nb5ZloaeNaajZItN2xuPpg+FVljWXmSlsEcZhGdGGVXi84tIXj167BDf8mPcb1NQ46U5V\n",
       "TmmYKBpVHX4hZaCgElTFZPQhbFJxVJooJD3cqI6rfBfDjLQGOEpIcJDlkvA+AJ+BAISE7oj18LrB\n",
       "zNhFoeDiyjzfSFDMNxTQddvs8bVjVh6kE3LPcZ9RBePydkxGNEe4wGoUygfO6+NVtYy6b0LkZAan\n",
       "4FDqssxozcUVBX19GchX/7g9IhCDW3KKsC8r7bjto1TTWmyU9lSYvO5UpA6YHk7ytKpoESk5r67R\n",
       "ggSbt2zFGwXyxfB2Y+saqyqPu8YG0QBiGdTxnJao3mT6G/gLZ651cb7qo3sDwI+XGEBmvFKkqZwA\n",
       "m6X+Q6UVqZ1wN/ziUMdS6PiNaEmo+ZWs+HloCQJC0vwJnYJzyUDSMHcmAePk/b+bXJpOefGdZFDw\n",
       "GEKADw/OctklTKaY6ExcD9LUUfqGytJ5vDZ78z0nvUksprc9w2wifp/ClXAhddz51zPFXpstGox7\n",
       "Eda2NGvB5YSXa7bpxmI3xAC22ctkDo0yYm4poXTy9AzcNEC7hiSj2Enx2khT7GgXfQpHvlBc2tou\n",
       "3hejcde1AAADjAGehWpCvwE3DJWhBdoATVi7O2gB6Uk71gD3mwookqBKuSKOWZ4fOOc2GVF6FycE\n",
       "EIxUT/B1nj4o7k5tfzDtGhImCr9IBRmalVOLyH7iIshI3qyACWPtSY5lQIvXL0KU/EXeAVUNSlCG\n",
       "thGVpr2y+y+jrrShbUVoZ/Ee5U4gn+seR3SayMjTzx462fRavPHT0QZNmgn3Q3k1A7yHQRLP6l9k\n",
       "F3KsmoFbsKkXAEPvJhl9wC0CNiYMXN/Dcg36MOizBgS+76pPCZ+Wb37rt0vysZVwO1yDdGboVcxh\n",
       "0UgeTbHU6sbxOf1O3zlq+NtAzzyPu+y5jkEAmHa4kEpVBMz3SCAk6BXdbw1Gipf0DmiesxrI6rLj\n",
       "VUB2gB0coXRVHaTMRi7xix5W050iSgps5N29vSEv65xqvsj3AiVr0mlk47M8SjYBwE9Ai68UDX2R\n",
       "4/ljF6eJ3BATdQpsBSSxcVIs6GRieUeMBNOuGCIoPJtZ9h2aSN1Hw7svT2+gLOYBsBMubCs4/DiC\n",
       "iwYMk2wx3iPcn/kLP3D0SAK+xX77nQpAtYAeEL43NliUCfOgu6PmVNDYiOWdhICtl82k0IpSBuE7\n",
       "bV/25qXBYul874G2vpUa+hrmOVqTZFOtpy3LObSxUKM3Q37Sb8JnO0z5yWEfCTu0wYnAiSiwXGsw\n",
       "6bpqd/Jzpd/aRXSKDBH06nj9K9wKCoWEQMlZ2hiq0heFrshZ/j/NmL3jbBZSjsa0pmxnc1EZV1OO\n",
       "fhz1Aut74/ECU6bAFOEMuxqNJBj0QXAsfF+jYazmDtzT4s4GxFc+5fLOutD9a/csPdY/UZVIKzFZ\n",
       "E0vogxm3pTiFVjuF3c5GP9eRcDsm6v0du18OQNKuhRIo0//CzALZLrALd9N8pY/MN0P3ZlYGTiKA\n",
       "Q0zgpVXGiyj4qAxrzXB3aVHzDBXSa0W9Ok7PHwOu0PE0LyGN6Vm2js62wDdr221ksPDeYM8U9+8P\n",
       "SM9HlbnW/56AaGlcWnUG4v3j2VnFPWSqQhMPJWrUhHNXN0BpzNmB7mUMiONq9+AUhg2xuRrGCI7b\n",
       "zZtCXgRxMFaKXRy89eHUHP6WDXuJH7B+mIWEI37GSDPkHIMEMeab5Slwo1PKFXEUi7eIMIf1sFo6\n",
       "CofzdKwE5xr9hPUoo4Cg64nlRWjruBShYjknpBoevofCgFUuM1qnB1WgmLP0yqT6Z1QWuEa5sySz\n",
       "42pYT16xAAAFhUGah0nhClJlMCG//qeEAY4otfiujUDKRzaAveCUSxjp9ePEpsNHvSSTHAALQ726\n",
       "q8puSFtL+djBc0WEUqUbFUV3SyU1T5o03+j3lyYVfrh7qDD6wXM4uckh3ObV7nkRXTqggTRbh+iV\n",
       "UjM1W2qzXlQHEPeO6CWmd7OcleayUkIClDHQCfdkF0mOYf+d0n7UYDZ1TZaDb+BBttH7W+JaiE64\n",
       "98OMEPz8ft/VSJb1znaSuKpPlRJlNqJ5Sgv12GcAvvY93tNpdb8kGcW4lD/K0aFKJqBibZTYBX93\n",
       "aC0fvx/dHaiHD4igYmDF/zA/fAgZSzDZOl5xMIN78xCD8PtNs8LODvGgfRCVktvfRSFquSSqX43g\n",
       "gJsMQu2gWuU4Mfzq4/oQhcs6/b4FCrzEJI6ulYETdh54toSBuaMyH4q2pgdMYQPsAwkwuYYygpye\n",
       "13CBSCvZxmh5EuHKHEJiZtez5Bwmbhl2cbcT6dU0FAgyzgyzUhwE0rEe96XmpKFFtjXkcky3keZl\n",
       "OX8Wiww8igvCSAB9rk+mMJSK2+zPSbs17Z/y0h9JXIxupvCOEQj4z0NHqTpFhHt3xA7Qd5To5J28\n",
       "EB1TLaZnJ1yawI16fodLQ+xlJgj9EnT8FUD2eYxUTjOtShrVYx+XB+wtoiLRz0/LaT1eP1BQVBhl\n",
       "yM9ujwoEYXYOKutMtKOjQBgK0SLEAYldXX2FtfiMSf+Wck9FPFTuH79WVwPIjQbEAlKN8/Ek6Zco\n",
       "yjq798zOH7liCoxDXBjlB7XZD/1d7YnIZblR55X8S+NOZ4xEdREw+T/19PHcHr+DASIg7iid+pXl\n",
       "c58K30Y7vW8o/la2/GQ8UtLnMDI4RuZpA1fz+3aYq77P6h68WI3PhGRf5BjLx7mlQXwF0XL0aQfB\n",
       "MmkW/XUJTKAy0aQPIF1lCmbu68TySxbkBBCiE5spAyi3X4v3or7FlfQS+BXBn06X9F8ayIIQh+9I\n",
       "u0VFcr6UbcLo10114REdtBE6eFgcAp52H6Rb0ORbhDQzVCIL2wBfb78RmDcPNL6XHp4jpIohPZVa\n",
       "QFVKymlFziUzf5pzc3BgcI+Pv6rn9F3ZorNUglFPwmWd/9PYPJcoTYQPfsUyGROx8//1jZHW8pew\n",
       "JALKcVUhZgXzGdWnXcXzk1OnCGHxOiXAvfZoWvflcm2Jc6jB+z707r0n6Bgh7ODah/SCqUX+Lw6F\n",
       "d0t2FWuxjQiPAHk1AggcuKJ4Jbc/7vSLwX8Jbc3dKLlW8IABUJ1PPn/RCXUbOMAvieBqG0x6Zsdc\n",
       "IBhBqBvGWrSWjbprIAFAXGr2qIBDO/8H6CEFu+pSSJH/jL398fRcw1ZqXODwVMnxYALJ1F58LnA8\n",
       "mlby9ROfbY/YHFD4lj0rzoq5oc4KmfNmeHgQeyRjTplYWoJw/u43g0dhCDo0iDuBS/lXbXjAl71l\n",
       "cg/y8D4+q9HGQEo9neBIMZ3Z/jDEeMH/fSorpsAjz5rNv9LWhJ/uZo/uYEyVtjC5n0KOxxfAVADv\n",
       "X6lPudnVcGS2Hjil9ZEwFgUlu1rVcnsele7FFCvM4eEyfu5ioo0M8oYOxzPCW9NRxLXjtUXJ0WMi\n",
       "ktEc0mFFFevVtIo3Zqmf18fYg5M5vvR77+EfAKJOPcKI0NI7VLmuh5l/3Zo+5RlZzFsP72bvXhWT\n",
       "/N7F2Tz7XSuQgXG0NjJqfAZMoUP5WBeP+iQ2pSdzjZSpgv0HwtYXk4Tb1QPdUi1Od08o6hmYInbP\n",
       "6uq7oC1A4pTpd6IdC1k/gInBUNsZSVf6wiQulO97oWxHYnCDdjxPbokqZkQHaci1eZe8BVmjyjNj\n",
       "n+gm8yBGoRl9eT7+8Jc9LmIoL6oopthbaRdDh1F0vkBGIivOvDgPmyDnXIeYdni7FBTjkdd7uQAA\n",
       "ChlBmqtJ4Q6JlMCG//6nhAHbmn/go1IAIgz8pBLBlxqIwuy3CS5oXxi75E2/KBBa86Cp8ktr73+v\n",
       "WEUy3SFLZq/jAloBjLQ8WEQ+f3+OX1vtbih3Enp/xHh7VwSspHnOcwuVI3QTxZrcA2WNwEmgLUqE\n",
       "imbhdQQBUHmN02rTdZ4MdiZX0jacGtqMEwNWbH5ZWptztG5hh3Pk9WcpCS/e5oS+lEciXk5MVYbN\n",
       "AH+m4hoXUVqoqmOjnS9SU+QWoUXeWy1cQPBc4+d2cGb/NphUqyq6b49Wnvil7L4LdDIMQJCyKdvb\n",
       "RhqZPOnOr6Y1QuUGwyGZJwE+zHB29mdr8QvDMfzEBPMJnXCS2JHf7/r/amNToAHwlQCp77sgBnZH\n",
       "C4+P7iuH4G92UZbHohqdprMEfaWDmq8GvBq/Gh6o4VmEiTwmRwroiMt44ezlgxsFjbTaq9Vh4rb9\n",
       "8z0dTVoSHLlL/NTof0h2pYlgjU1viXxl1k8YocwCtBEZdZSDp31Tpd6MJCEkrQdasaLcRVRNzIRw\n",
       "L5OqN/B3JL0KyZu0u8iM8Qpk1LAWsWOzfZPQKp53yA0cllMZ6jG/fObe4fMi1dY78ehDCc71HIz1\n",
       "G5Jod+91bpefDdFs4ipX729HMvVXAcGn6MLHu53+KCwqXl69P3bGeWOR+4MGyG0pCyLE3D+pCEpS\n",
       "SShw67so8MOo0kuS5qzVWZCkYHHuYDKOG0rLKHYbTyX3wTDZNtSv9vfaBtXT8vM5Rd6nffyViEBO\n",
       "rTHd3xQ+GEIEPb1OS5WxqAM6J/ihCrrnm8YuGchkSI6hzodn64dUqp3EjsqqJdbDMoo9e82prrLN\n",
       "ZuZQyU102qZ3F3t0YOTioBSxEte9vY0EkWKfNCi/JbCU80gr0cudUeFuGnf18rRvETq3DWNjSt9u\n",
       "IC0F0UN1iM0rbYmzMO4oy55/BWGFXUEgHo2BfI+EDMwhtVlx8F/XRx8Gy2BbaICax6aU9tVmS83h\n",
       "nuyt38Q5Eib0aieCfu85h0+Jg3IGG2jj3o4lQrcnnD3HYOeIavRpSTd/E0z+rB2TdAge4QeoPwV3\n",
       "MIs0hYKuo5xc4buI2/pj0whSS/c47kXYyO0kfdfnzbCoKEd12eK1UorqDi1w/r26v9ROmgwhO90U\n",
       "sFJLMPhpN6oV/blYGRONtn3oVmfgG6eA9Rm6nUkvX1jowuall3dzw0kwxDJ2VbJc8lAcv+FQxoWH\n",
       "de7wmmFkXTaMwaTYWO/QihFQ+HFv1NCae/nvf0P8lWo0jnGMjZDKhwx+okvOE4Xd67tAmfOkuMdB\n",
       "XKzo1aQsPd7Z6Z0PBpGwJMTK2bCxpEWIknZDYWWma+HhiZ0ijN26MzLGRgppuIa10qhcSCl+DOTf\n",
       "o85nU9j2mRs2wA6HU/hyrLjO+hHZfKyAYSTON1xIpFrSx1xEzj6IugsF1lYfEYywGb4AQU9PwSSC\n",
       "uq9ocKbOhuwATdM1J9ygvUy8lBU97NsPKSf7X00axGcZEd5euEAOoFHvLYrk7+4P46ap0WRu53YS\n",
       "3TIxQ/DEmm881//au9WjjIHq5YvMnwkrdRzSlzRhLE/jjOMHC7duuyOu/zPhIHezdOoT3jWTno+c\n",
       "icNwCfjwH9RwaaDBvveLT1SaQI0GnxbWWme509IkxW3xGGPOC7eWPzOh7AfwMxr9TpB8IHKdcRXq\n",
       "/orAiTwTzLcLeFTlXbn8exVXPC7rQzQvv9TSgzwPnvrNtGFJJSSycGrgVjyoNpJLdj4tjBgIwl5j\n",
       "C7d2UxewwXL3zfY2GmC1N4/zxPBHjKgw9qkUENtoDdik0h4VZexyXb/aMLekqV5iVgVT8jdXQV1E\n",
       "Sh5KT37ZwWbs3Pdyb8Az1XAWDWOadiHe42/5Bt2kYIJymfPY8lGc+HNDyM5yN++9i+MgCjcrS1yr\n",
       "YPloMndLMfHYBeS9y2lV1irIDwfLNZu1M0xO6f+QgkFC4l2HM62UkySLPh8sYRUrnNTLCMwBCrrz\n",
       "Am+DtIdsOaVYqBIp2rFlYx9BbA6iIdl0TNL99D04o2J0GyKaiPkljkfvE0rwDi1paI1OzqL/XIWz\n",
       "ZtEejU0ocw4lTGkjYdZyLIluUQZk5guaKJ/obroaPqCZE9YZ7lqYGOqrQwu0lHgEcZuf3c/lRM7E\n",
       "sm/B5o4RA7kJA8bgQ6WP3fnx3+qGoqH6EgonF3LNGf7jOEh0PnBVKB29+1+epPWd9x8TXQ4PbFPv\n",
       "Ud4mUV+4AdqhEhrmcy7xHxat2MBgx2PVjsb/uLcOx1ZTXFVp9f2C7noP+OE6lwykhkI48EMsr9Vv\n",
       "1drJcE1W9m237mdDBej/ZkqG9DmGIlgNdhWk0wTRti2poJf3M2l7/j9986MhN4fuAymg1+yej2Tz\n",
       "MIRd/vgRvn3jTvr5c3FZuevWC9qjT/tVtcKGtZMPnNVaDPXG0E6QQX600fjQ4CuDKgnoD2C73+zM\n",
       "7A0wn88YO9xft40waNbOl8k1lr63+gNO99ZVdrDh9k+78OdP5JqjSLfGBAvRAJZFnPYDRD84c011\n",
       "sdGrBjT2LlPAILOnTJaH9UniOhFS09JacWqF8rqADQ82WDYMOt8ThKDBIqZWdKnRko3RZRktWUwl\n",
       "cXldPCXnCH+hkUmJt6oLmCfEi/7XY2F2DlGWZBIUD9fK2Qz7Q0YpJPQHoQFuNxAf7l8MGmm4deDV\n",
       "0FqzJ68c3mzADbStE85V/5BRP0QL2sitiIGbIPxgvAnlWaNK+ebKL6Omxx8LMuyUKUWa+gB+KFdo\n",
       "zm873iIJhk5aNliSo2+u8XSbisD6GfqETXzdVMrCoYZEC0UrIFOTgmZrr/yL6RodMh8g5E6FMedm\n",
       "XePxY+npX/zMylwW2gJKuVcpxrHlZVIFxIyfYltRcBgVWjhuDc3VcAKOlYksG8uBZPyuvgJqyc53\n",
       "vGUwl2sqbxOI3wc+zYw2jCbaFQ6Sr2jmgnZ385rYSWi4u4Hjv23As9f1q89RlgaLx+U5hf8CKRcM\n",
       "F89fSnQWvwxSvg7qHA/EuosrIjpEOFvm25Sz7crlV3WZ4qe8OeDehVh1Kcgryg+4WhX96LTvaJuW\n",
       "m5ou7FTJoVuuy4vddqlIZfe0u8XU2NxyMi5XhV6X2NL9g5G1JJfbS6Jg6Wpp+iTy+ZuhG1Tc1O8d\n",
       "VycAwxilFd7WG+Kd8iLl3FyD8cu/x7W9CRJgu6EriONi1XezBwQITw1d16lmVnWSYJnIF4ik3gor\n",
       "tOcm7J8lFyCABghGD84PYBMOPpDKqGbPqbbJj91+S7Qnn3gksvm4vM08r1We1dzeqjbkNBI/0jRP\n",
       "WSbvUX4tiGa6/AeP/SPMzIJRFn4kQjLHZsNSOeZAQt8DCeAYTUYAh6PrPnzYf7EqG80X53/E9KP6\n",
       "UcpcyhdKvgVcJb+fZ27f24BfaqwW1C26H1tKKXIxrtpdInP8wdI+i4UltoYmsJnbp1OXwaknMuey\n",
       "X62flpuD8mzLR+ZOYUfAe1AIO6U6YAAABQZBnslFETwv/wD4JfEYhfwqS6sO8xYKA1a1zEGkAHkB\n",
       "v4he5q2D2XMu4V88Et/QUXnyTk9qKn7P/klkQQWy6lvx8sy6IOAC6B2H4JOL38tg6h+HF+pqntkK\n",
       "GaERKegqAv+lzCsNExeVd53AUVLJIAq210+nwc/TKYpKADA18RzdZcKEcNpm4eVBO6nQ0I4jprbR\n",
       "LdYXfOubpWh0wvQEStRWucLtAHwu4vwTvldtVU/hs+hzCpG0oZhcsCiHCe7TJmDCB3Yfmi28Xcgm\n",
       "vpizw8pKUMt6ERGvyEGeuTPkJklQLBiCNTY+PoDJdtMn/J+I1w5ys+Ryz3SHWAmglaPZlZTQ727I\n",
       "8iZdCEQYn1eccURzlgnf14ccQz4PfMa33UwBplo9BKNEK6rTxzQvm53jukrF7KSNIE5GbWU27ixR\n",
       "dvpBcOew/J4174FIrkNpUjQ4O8eyYlISikfeQJVpC25HHolSB/QBtYttnaMaMDltADJq5DiURnY6\n",
       "ABTN2VuatoG2raq/bun+MRsqiCwG+itfcgxE73ZMomUH9FAxm3rroKV5weZFgp79rXL/EbOygc40\n",
       "mHtVWd3WDIU8yOf8GuSrJaJgKFFNmO4xUwqUnJ6zkuDRMdIUOhBVw5+uZ7iYR7htSotc8/MoDiWt\n",
       "ozI7Z4gLpzciErSn9ndG0I7jYrUdvARYCnYd6hXHyKhEaG4I2EeLilaMzUnlGPX+BEussettH8nD\n",
       "V0SLTwJKx4hdlEXQN0dWHLPXMaG1DzVGmiUU5EqC2wvPi+7N13Xzw3CRsURmQ0RTw+iH+f05T7BJ\n",
       "GPQvMdOvT9zX3qjBst+b4eLGGk6LiPu7gfD8YBrCDqwtMNJzdwaLPddxTV1NQPZ5v3VbEt4xwKcV\n",
       "mLr0XiC2OigfA/ZbjrzlkHVazCO9y4P5u8ozoAxHT20fOe86OQhi98/Pq3iPEwHnYq3aeedz7v31\n",
       "ys35lLjTvdH8t9vRT6Zas7RAbCZIFLZptB79p84aaMREqXLosHxg4r6+cOh2nGq4OEHwJ5t4AEs4\n",
       "SJlkIj+1BabeMKcJVHVAxo/0K/g5rN6Fwa0TGjvSgD/sD93TbaL+S2E0DyWRw5/1UQTS4h33Z3fn\n",
       "THNjUR4IioqZAeDfnuzhOzbI/wQLex2syfTxzCbokSZtIAZOX36ZXhTAruJihBTT/f73YfbG0ilu\n",
       "sLHD2K24P6FwofLvnzc1HE4J5npMkJPmwSNrkVYjY/9j/4KWQ6pczJiYiVXHPG4cka/Q/pa4KV4H\n",
       "G166gPJPuiaZfanwZINu6P1T+6uLcbHJrCnWhSuGVUOdqTxHUg12REQsP4L1bFJwk3mXDguGL16B\n",
       "QR2PrvBjfFoWCIL2fbtX1vWz753Q7ULeuC020+0SwjxKEgxiakn3Fs3wPQJKzK/WoqL7A9pmnTqc\n",
       "15zfORA/tJBWyO1bOQj+OW+dhB1UqoSeIsVoMxvS6p8NeWSkra4IYSCnfajK169jA9Pit7a8BCHY\n",
       "bID/OqLso0syXiLIVv83w3te53Hve2Ata1RZUids8LCA0cx3AERQwkcMPk3YhfeY6NNi9i7i4C3x\n",
       "Swn+TW7Wlddd6ZKt9S76nsXObj4+K4IJBj6aXJIbrKYj6RIMwlnkdl4ECz5lBJ+15b45UqjI/MJy\n",
       "6L5XUFWfjVxEtyimRFeG8MsV+UzcMmY7FrYYeL/G9Mg0aPj47E/WBl74aj9sO1PBltU/uO1zWGc3\n",
       "oAAAAzEBnuh0Qr8BLnNihRlpcJw51tqoAb8yCGrYNxzg7GPLPX22N1vnKdUk3b+KYwdQcGeHUm/U\n",
       "eyJ7xnU2QepWYiGx+6ru0EnELr7y8FY/w8S8qvcN4UqKAIebYNcfTlLw2zMCJe1G1wPtxnsubH9B\n",
       "oG0MtImNaKQSfyjmU3H1pdpE1B+geWDqTuxZfr27HUxyZJ5ae2rG2nk1Pto4PoX+CIqjcTjJUTBf\n",
       "1kWr59lWHOEX1LZD92n+znbSkL6W0bG4R40hBgDzWuQuGEieI5WiG3fDIua8ORoClxuy0K3gaqdi\n",
       "PigNV5kzwKb4q8eDa081AbR0uKZwDHWMn6u/RigLIYS6jEAdfRJAHijXHMH3SP8m0uw1kixMOADk\n",
       "e3UQp1qxd2ydi0w7pc5FpyW00Q9NBBaaeD6aoZB1HEhdnJ6iTWKIL4LRQkvsSYr+M+19wlMLPRCC\n",
       "IVlU4Dv6XfJyVNsdKqtNDDhDAq52BIuGAOxecuPPuBSMuDHHhh2u77xPk12+TEMpfwT0nSgyc4Z6\n",
       "JIEPNrQXM22MxCbZtBBBxoiqJeTySs7sk3OynKWkEOPFLoin/GgIyH4Zn1/KizQrspp/u2vTcbiu\n",
       "1+vLAAWRf4J219cOX1sTC00UJdhW5Zsqh9DPHVw/SdqErb3Dz10uePm2Jnw8dC0zl7MbS0klg4Io\n",
       "I+cEAaO/kxJJN4D0L9PsXoOH3PhZkXe7J0QGXdIPjrDgYdCME9DurTK9tizy1ab0aHijeKXY75Ep\n",
       "SelY+tW7+2e1Z6eJG1Jhe9YxkmbqJH4be4AKWd7J5lD6f0Vv1ielyL5FXGu8nSiw5oOEZdyrB+1c\n",
       "+D9UDsEVA9YFx29/vdaG9j2Omgkl+dwwbv6q+nunLUffQQ7v5jWVoXOETSQAwymqedjLz2HrxfxR\n",
       "2k7MzhkxyhQoDAlz/Bkqdjya9GeFeumEO09V/F4V134Hpprai4UcCwavzzf563T+msAdQnuDfMmt\n",
       "vqr2HgdEV+d/nm2tHYA+zLC3VKBSjCl555gAGn0Lh7gkQC+X93rtGite6ubL2TGY3l7RZ1TfyPWE\n",
       "9mhSu+l7dBB2dKjlX3uCwPFGKiov7t1lAAADPQGe6mpCvwFar3MznQwXtDCwrov0DRTzwzCiNljA\n",
       "Aqk1/ouvzAVo9PAUEgJ/UjIkS9CfMHBLsMC9qs3+OVRAaXBimn8t05+1W7FXT+WvdFNJsDJLWU55\n",
       "n0TANch3QeP4GWEw7O852z9BkRVbBUyEedfHA9ppd2xM/t58+yzizQF18FbBVTubPjGMWN3gS4Ez\n",
       "hLvQJz4j/XcEhA0udaAFFRZK7kBGj6wVRzktgTw5EqmPNOZTauk1BQQFdteF5qRUde0zBFKGByR5\n",
       "RKB4Ad0kGK8weAiw9pjii13/xazsPYhW96KlZ/fHQyF6m8qP37qVruQl0XrOUJchOW8A3OWNV2TI\n",
       "Jc9a+hYwBkzx/tYiEzu9yH0tiXV50JQkwun2YrHv1vZGbYFC82XaPnWtEyJrPb8gZ+wAKgNvKPjf\n",
       "vAjUt8DhS/L7nJk7BHC0ZNrP/l1rwSawsp1aGsTfbeUGSJRyC5lDA069FOnVBztdbq7TcaG4YTZ6\n",
       "L1HFRPemvMVc/8y46Hwh7zUbwPZKhtsayYBUBTanofKbZPwF0MJUBPxQEGOVNusmdboyfZDLr0ci\n",
       "7WdDloEKjNF28s8ka9vnKklNLc6xtYFtV2oEhTKsw7pB3UPne3ozaoVxRL0vbcyPab+stX4S7IcC\n",
       "E4T6QKbSHmmt/mKu73HAsLeok0vwBivmfdWWX/B+CLzVD44FruZ5FQSOjvkXq5rl3DABi7ZD7SXv\n",
       "rpsXaZH4d7XtBSlIG1a4u7UW+EWDozKj7uBTqQEWfyxWl6tCq7/nTLCkp48OeSk0veVXZdWCoeDk\n",
       "hizgbz7DJz027A6FdUoIKmend4tOa/zJ7Atmj1Iz3Tzh5mPOa6+gHpfcBf3HqaZT6j3BqT5Y5om1\n",
       "c727HtglPSPrU9n9bJwj2T/cUmFvtfnY/36zG6y7oWDVKspzXr6gvZUi6UQBxh+A9V+mZznmDtli\n",
       "8i61ehaThAHsALIYUEl02kQslon9vNsYMr8MoIgEHOBllzngddJFxFvMMSibY/KdXj4sT3SWnEe+\n",
       "wNacfTK/u6dp5J/oQ3xKnL1ulU+6/+KPnHTE2+QE57KhzdAP/KkNxByCDCDJsrJWBf/7RqFU8kYq\n",
       "NYQAAAX8QZrtSahBaJlMFPDf/qeEAeswbgwPIGGowvAkvzTCn5vIKamlVqtHcrheqSgzhbpl4n6K\n",
       "ziRFKPugAQaR1KjcL4OD7GKXImUgc4IyhhUaz45xFSTrWTezb/TZ9CGEcv8mbg9rs+6mNb2OnWvw\n",
       "sp4wWAPsO4Z3UuP7GGkKInemXSf6WH+PbnjA4UKxP+lvkTBrk5MEjNL1YCtlXEWsQReBnu1Im6b4\n",
       "1//6HtACM440L91Q/v4h4mvmzOCGuSLBeh7W+I+dpQ6QVKguL0MmF72joh2FLmvTURQfuB9ZdNMV\n",
       "JYkEStiyaHUFS1uO9ES6jyK4yRCf53aQnSJg4CiuJe0lIhcI63uiDsYD/g/8ytyGZ70ijtcR2ZP7\n",
       "EqshR+7BOb236i9nMfbbJYQOj7EHbZ4uZefSVMuIbeIZTHjib4kFdd3G2min6kl3QQ/FQdKH46A1\n",
       "8qAr5VtYj1OfJU60JF55M4iT4bTIG9JRuXzE+7JfoMuakFsW0VZciqhH5j1p5RnIsKqph0AICjD6\n",
       "khmV5FQPqi3o0sZPTcUPMNH4xmcypDGo7P5JsJ0l4wyx9XtHsT7PSkEsP9u+JtvQ2PZ8PvtdMEe9\n",
       "KdXBQuIhr8T+k3CSl+lUFCsgNJ1CxSPkkG9RU2Vx8T86SaXA6zEfe0UeIaWi3T0LrE6M2lW0xwRE\n",
       "YHDlCKVFuS136VxLda25bRnJaqZzuHSH5LrH0slOWKK8qWGzekeZ1cFduNgllF9XeG9llMP5NDIp\n",
       "NiOnhAhPbjcJ+dQNt3P/rfTAyYl+1InA5zwJjGAtn7XS7x4uKoTKd3/aZbXILlDLZZb8AOetabiG\n",
       "eD++8x+bCrVEEd/beARAqKmQLyyrP/qzaM+zFuRWSHHinWve77cYejxcYkJy4wUBA7an2ZwybvsI\n",
       "+/g24G6KleUcCq+nioXHFm1Nfv/K7ranYHvxrlwWz51L3mK3UXvDgfr/7b0gpwTHYOlZShehVTZJ\n",
       "tOv8qLaoy8oJq2i4cga16qGgB8Npq9cV2MwFyT5FTjce4BkqbpuB3kwj5KDDPWVqjmDfzHXoVwD5\n",
       "Lt4hgcWAqlhTqULBEWYehj0OMJGJypYvvSO3rigyhnGeW4Q2iV8D4Lyk+CbC4CbgKbBeaXYFoSsX\n",
       "q9wikrfMPgs41/rmbMx8X/foHcFk52uLNh6Vw5fahvS+p3JmF0H/Yla+BfSyhhQvKBtSpHesR+h+\n",
       "qfIQy/iQYnpmAFSzH/MtWT4glhwlXANu0Q2LV1MjM/NiM+20yiclR5meKxzJoJtu0DvX6L2V6xCt\n",
       "rvi/wkff6+dQeIXHhq5ofALjotKQ2/hPw6HWLCicu4BVsFoy2KJhJyXHFrnGdzIhjoNhF3WGwF7o\n",
       "AucAC09iuYmfSY3DYyDKMBM+16BzTs17v/3IXvSMlV+vnr3KTcs3H0cofcH+6v6+S0GKraBLQwYg\n",
       "/M/MWBJTeTFYeqLirVK6/oaykritQqa6vyme616VkLZIi6mhu6g/nusXEznxCxpPNSkqU6jVU+Os\n",
       "jCFR+ZZr5ONJCeVnMI9jypE3R55vR1mj+Li2WrHGpUAFkfOcMnlh/G8Of8IJtY5EgQVjppRiBkis\n",
       "02vz3gwqNCEbZrk8W3I0+qQs83PUl3s9bNmw7u3NX+QjvHWI3cyphaSSAzrUM0Wk9uCTRY2kQR41\n",
       "oSUWTKy9L/YRBLxPFwUpRQ6xNRYf0e+DAIKhpvJb7IuZqEYA/uK1w5Qgnbd8qH32eQImymzzSEx1\n",
       "3LN17aOkGTnLLRi5nVLtc/CFp9auYDOD/JGVGiQI0xG9khNtjN9Q40Lohe4h2S+AwzWhT8NUHpo8\n",
       "CNTlNdszVe5XHtNJuvCMumNTj1pe+kNIJiwFFO3QSz4NSJlzFC60wlaZPvyxkmtZsgCUre+N9Fgi\n",
       "5zgYMfTYIcnmqhOi4o/+Sd1qRMu+IImt8APl5axp9zDAjgktcwXmIh8DDdHFt0XRC07FUmgPH5No\n",
       "aLszfNuteNIZPAqrbPbhi7CvFsv7149IXxN6KAWo0AFjqg3Vk5Z/73JoI8qjb4b4/J7qbCdBFrAA\n",
       "AALBAZ8MakK/Aykj+LGIu6oXHI13uG3tUuGhw/hAAgsLHhhDEe3Qkz5s383xACw1b6ty/PYI/og8\n",
       "FClohHtYJoZX+FzWK8vxZ27IDC1EU++NXFh0gn/paQfaGLulOytJ11aPv/NdSaRd+nPwa6/ij9/E\n",
       "IZsrIDC/7mtYEKHkABcdTusU0TlXQQ4D2SN9ytfej98UALmXScK0WhZZGKcPs0Sh+TSZ+kDOCM+E\n",
       "POAyLs1S7gEWYck8gFQ9M7ICFD/oWLuix1BbP82ILXFEcC7Um9Qocq5e+cVCmfME71qoorMJoqo4\n",
       "lhGTcHjKZD7nP/aa5qL03HP0Af9XL1bSIaOLNo4KAdC09GIMNT4GO9jQXNUi3uA0z3dfNsgtYDLP\n",
       "X9f3Uy5UJmAEyuR3GMucgfeYiYgd9wv/MRqTUj3d2ZmXvgnGRGIvPLvcdkUUXy2dqPRmmOMrm109\n",
       "sxTS5JZKTP7QNFHnFFn059lvT50JAYytcXQ6w9aLLIPBvktghX9uBDl5RZyD6/56jK0XY27l4y5p\n",
       "+0eSk2hYTZBTWzIRndE4++0MixkalT9qnaBSOypwAXyUixGytYrMNplVj5Y1Drmb9g9RQ4OXzChO\n",
       "f/eCaTDwcuxE3CqQH53WF5qrVhYzfagoUA0UAKDmhiVIB3Ha5Vqt3+wuUr4D7TNiI9AM/krepKwM\n",
       "jEnYc8OYcrRHq6LVqRKGcd3wNUIxLtPfvQqRlxe+56ATsXaTCxHRm6cp4kDADYSFuAKFR7MKjUGD\n",
       "wlfxxaVhqn9tPfxwytwAFQe+7/kW/+bWwFmCjgVHEII4oraB9ONV/Xuap+ttZaD5ME+iWESCPYl1\n",
       "nTRGzVSxtpPXcIDji2TKe3LKgjppJaxgTkWEFKC2tBtPIFQNriGDOY9hSYOeXVj4e+PucQ64gjMQ\n",
       "WYFJ2or619UJBfiM862P/qXWBo8lid3pAAAIlkGbD0nhClJlMFLDf/6nhBnbKhQmhXxru3EmwOmU\n",
       "wtqAgwUJWi0zIZZAESC+3HUO+5hANEKMxdH8rvkfSWxsYOyiOcHpa9p5k5N1hjSNrfFAiv+gMg09\n",
       "1cF4v/LCLRmlpi9u1/p1quKmkC3IyZexcp/VNYtiLUza5czNF0u8Qn8v4wjfyinjFQ3+Bcq9S0Wn\n",
       "cezHVxCSnxjTrAAWFwYn/DKNUernCSSOlzFJCGnjBeRxbva1HhHKeqeQgSzrg32Tt6glGshqzK5m\n",
       "qDqJgFyTte9Syow7hBy+CBbPn9GBWT3UEVoCm3eEEuvyz6CwPNI2nrQH48yTu9CCr/WcHlR6vXhz\n",
       "N316znlo9rcs9x8VFHIF0InmUzqv4+b6Tifa21davXOA8htRfkVAqZzdYSsyJAgdb0XXPAmg/Z4g\n",
       "6Lsu2RdwIHMxFBtOZNVOF6bYH0r7CHF59IKQZ3chF63erQrSK69WFan4gFTxNP7cRPxLvTwvcoL/\n",
       "S5LEOXWC3KNs+OIY1iQWlJVF3BY+HMN6UVhLdhh4XFOg1vRhg4Ndx/PFnxZ3RByqVr6Igb+auB7z\n",
       "OzG+Z8MevEv92TlrYySJ3NFxL70m3OhbDsdMjEl+SCB0f7I/hbyizpWMjHuQhqd4cJen05HQqOYc\n",
       "E7CdgJ3WohYvPYM8THlPhr5nEhsxRTSFWTQPvmJxD3h6zlbYDdB1/rQQHok5HEqIIveUSvcKaJrl\n",
       "9RwsADixj5ff7+V2TUysevK4IhZfH9rExGzagPqed5dU01RyYeSo06drg1WIyqo8B8lKzi/B3Uib\n",
       "xfjUc9MY4Er2qmDhgP4KEnhmrWiF/O6WfMtZxwFcDtSX8jvf4+j6/UGP0XELu3amkgtbH054QcQx\n",
       "DO/2f0FScj8aLnZLLkeda6a9pOUm657joAKcL80m4sVcejCDj30EQ2OatdRiH1XU2iy9UvOJyVzG\n",
       "tfhETu9AOcsNkDpti0eEUqNCJBUduc3eE8LGG0Wk/4OSP6m4S7mkowyEAMf/El/sLO4b1zng58b9\n",
       "f2dFed1TDEoG0NShuXthLp3BR8Xl1LzxSxi9oUj6VLwYmuVPUEneu+L8xmjAXklk8vjz2nTFs7O1\n",
       "UQJK6g1tvF2pWF4yCVcBRMO5zHedZLtAIrUztY0IMoSPO3qsKQsbX4Us+zvxUD2utAsvIQge7oMO\n",
       "Y+ARWpoFv1G7fhqFQfoD5TlHY/zAzgKbCZkGqR6H9E5XE0JnOsVHui8pGEIhICeltpGvIWXgp+Gj\n",
       "6LaE5rjMZA/+QADZrtDEDEnYpLiySBpydgOTgirRxAwXU0nDkdiRN9QwnuOMpAzgavNdDLfNhhGs\n",
       "wWuR9lMlc1KqrzCpP96AiOyhKH2WgsZVz9DuOdToR6lDng0XDmdELnn+evmJM4wRqV++FIXGcdHC\n",
       "gJJe6+EhwW4drkoHH3ZvBpyRQ/nwe2jw+JmTqRZ88H/6bEFV5Trwd8MrnJCnJ5T3x1/2puP6N6JH\n",
       "Sr7D1K9OLWL/056nm6/rdL9faEMhhxpGzdf2R1Ia10/XvgvkhbwSOrD5Ot48FL19JTmY8M5W8cqA\n",
       "OU+CiCsO8cAt3/ZGhGI+Zzv0riZ7pGKFr87ZBlruLdbwcm+lWPYvxCkAJQw55jjXOIZn2BlT9/yF\n",
       "LN7Z/VD/TjCfEjv7tsSyk6/BVROFZHVpJ+pjp7TvSUGV/vTsH+BEFEKRA1hbFbct4WJ7ZXi0nUn1\n",
       "vfV6AkOxnGyQWTakwAoDzwBy0RFi2zlVCgZ/g3Cctkly6sR7MUE/Jm2z8X9FFXrFQkG9IA9X2qa0\n",
       "iLZnsR/aeyATnApsF094b3tN6TpqQH8AYDZeH0Ew+UvVgQssIrhiBWdFhFmr2cXdU6xlTIqVTSLo\n",
       "Ktf9sWjEqpMV7kb0QQnYXS2Zpylon75OHRAKzfUunCKxE435CdhJTcbikB0vLA63RUBmscpKPZh5\n",
       "kHeJCyRfF7564Ueg54X6FphyEjqxoRZamdOz/lInX8PByS0PLKwuyufFu9Ex+AlfslKI2C/D2jg5\n",
       "RtQZzi+q4Ky0x+Yk6BeX7SAO87Q67p983JFBbR1/1lf88HGtU2yswID/hF/Ua84DKvWAFm2QA9j5\n",
       "Sev4+fn9+1/hKIb7kqu5udxHvrjzlsEfIsunTdznr/Qh7UxRl3pDjZjME6CeVIgSsst/uk+trD1I\n",
       "6AFzGm9kgGT6V3k0AxdUMZLJFvItsTqACJIEeAHA3lQuREpu7pPytNhcehGOLid/SuLe09wKgN0D\n",
       "VCX4AeUDFqJL2oAawMBDWV35Ew5OTytIbVlFkDLURJfIwqLe/bHaaCuyQdNaUTU5ajhhtFRfh1ms\n",
       "DPLKoUB6DQzRBK0iheZV1V+XCVdcpYAsyw8sz73gEky8BlRxv8ir0w7J0tbfiLEkXX/rzqv8M1NY\n",
       "sUp51+++weOGK+lA9SvgkeE2QY1KBcynNVffo+gdDL/GuiZU91Fei2YbXt3pHaHy4CYk3CIlkmFo\n",
       "yh17wsFdl46CcW5cxGKrI6KU+0Tn4P9G8MeaPRKRnnv6WFkAT9EqPrZ2hDR89UYidCzG5mxL1EFU\n",
       "IyP80Qez81f6gJWFvy/YH4+2yxJ8nozeoeb6n2qdpVXhjyjE2m4G6ffQuazd+4I/N/n/ZEr+65DH\n",
       "qZx7dyZ04J4lBwhqMKKMMXI8McJyhhXLYvE95qM/vmAlvET2askinZ3ssu6vnXyYYm3M8wrkaNFv\n",
       "TEXeL7Av10UPQurVMk2pgbTF05+2a02cI6GC5u+p70SAyg+4T3avxl4mizqrUTh1Tmy+YC7/0fxW\n",
       "m/3Q/i6OPUGJTu4fp45//7kAPk07SOl27HFQ3Ub0bbYwQpHqMHWTWbqy6lid9eOgDYCzC8+Nx6mW\n",
       "Mn9TfkAXjeOz+oEnnBoKNtzTXGKEoqKLrJUb5PPaMK4V8+nu6wldXTxqPidVEbBM59bjEY68ViwN\n",
       "GJeBAAADJAGfLmpCvwM93RX9I43cQeaLNchNb4/BkOOABxs6tdw6kjH6YurnOd2qAv+2QkXl70wi\n",
       "GWHM8oGhTd7Q3fwZNLGgVe4mPltKN47saKS/DB9//fVE4LhM1uiOQCvvLahLNXd1M8R2Y//Gapt3\n",
       "9pOzIHbTDXSfYgvO4JoQSETnBmf2UVUdATUIupFrO8n8dPJbFkkZaxuc8ZYq0iAA9RNDRKygadRH\n",
       "M85KoQ9vBEVVbpN+KhLbaTLB0IkQwsi2QOKjZgERTQmK79CYy51JJb91Z2iMoLgHyL5lPHuWqYFw\n",
       "WkMF8QURJ8/4ky0s6QDvqnXmDjqLOjAPfyQd+++exSZsQMcaqIL+u6EjW27jxYlnC2R30u3bHJC8\n",
       "mCZte4lS6GSJcIvuz4V367f/FhxBDf5luJICfjrYbJ8+pQLshJIP/JYYLDIYNmv5fzlV8Qk+ngIX\n",
       "0d72CMLylTu2qbLOhlw1QhIlh8iJYa4Zy40NrOkDbGpUThqfx9icXwtVKUg3WjAELD2T79Th+NuE\n",
       "8Fb1aT3JV9PKtc033PyA4HfBBayYW6C8dp5nDBaGi+8Jh1VAXbRkqI63f+p8eVoRDhD9RWKYm5F2\n",
       "J9i6gSKGV6AQDu6oO7lpB98mJ1oCNDNrZrlnG982rUoe5z34wv8ddRZNpHrdFWoioek6rj2QjD1n\n",
       "qxdq9twQnMfIDNOEP49Sv5vfaDVa/Scg9UpPb2LPk2iPZL5Wj78LXIdXsIFwqKmR4FSF5YS1xUIf\n",
       "BZQkEGGSDZAqOV9sa2XdmYB2GgV48X+hphzprIb5a1LVFAAAAwMLVlSSpPekdrq2SM5+ctBXxKFP\n",
       "ci4BvpfMaHzcsY0s/thovdCyuZED1XpJ681ajdeX7zXg2i6pPra5LuDqyZmqjBuWt/mFGK8at9U5\n",
       "McdK2etFTLRCoqgUl+knbMV/iKq+nMavM8KA7PcYOPt8jVIDELFfRQyN+uoZNxwhRhW+s6TlHHYb\n",
       "7P7BIVrhL5kamNUC6E6RX/HCw+mRGbjGHuLSAHnJ/o1KK/PNNFa+E5GVJ2FcJRtOlrqLsGoBUMl7\n",
       "8nTDWEKJB5bwhthEaQAACJFBmzJJ4Q6JlMCGf/6eEAXS2/+wiVIAAnWaVuNxJAp0mow5s0h9G5Lv\n",
       "08KT39QGZkSyOrDMVgMT++4Ghazkx7/gi2p3H92lUB7HL5DzEXTEEMGPQggfbpXxl4j9XE6D0pUH\n",
       "b42W0asIxHtxRW06HBtxLekQUoEoJOuZaYgpOQ7EwGvtMAi9xQ7tMCQmNbpdFUGr4GgFbCKnq9p9\n",
       "8E6pReyZ5e4sOxHIhhvzghDnBQOVOrE2vzJ0aqjLCAbG6P6ov8YHP+4NqnUuVlaqNmZImrcJuVXr\n",
       "dos+Simfqm9NB8DjtLUzY4v8F53rhDLkN6PyqramUpJZi1zNda+Q5X7nEZVPVB7o0xLfvYr+ky4V\n",
       "oMJGcu2AB050jQE5viWkt+GyxkPIUjy2utC2nlNaxmoe3klJhQ3PIA3gqp85oddkUd/4Axo0G0Ut\n",
       "a6rAex7quOsHQ0nlZ8ABM+DM9Ga2iow9iHpkW48CVCv9WSU6VMsfyItTOBMRc8Ln/zxA/iaIJ19G\n",
       "g7oKNWOC8k4OxG40sP48hR3Uj28yvTp8P6O2vickTtZGL9elIXpB3Df9wmQH1DZFLoL2oYxJBJgX\n",
       "2BudfXabfIBJ1hDRagrDIAS+DjFWuZhtt57idiKs8KHXBfJrNzk3fRVzYvhw4JGXxaO6SiityBB5\n",
       "vYrqH9k5zr2ro3DO1q02DWCqyzDjSpKg4pVqdoYqlx/qNjHI3Y9EMLv4gnhH0LNKhTkWZB6BhZDY\n",
       "/3lizRVNiCQ0HYDI1J9kIdqivdxNr6KRWwcHdj0AVXk5UiP1T6kBaMMShFkGZLDtou8yZ0xBfZ6O\n",
       "oPJsWPjlgZL254Eid28ej33Zgq38gPzJsZ7CIf4FEB3g0e0yBMEqAEY8hxEKyrFMPeQQ/+RBG8fW\n",
       "vl+8qHx/gpH4BdVrAgVaCIujkjkjJBFpzUVp+yNHEcsdm5iVEH1yAWGNcM8XtjoAV6d6ycNzte2I\n",
       "l12rIjbMD7lVU56YY1g/MyHZfxYuIcxxlp4Et9HkBv3PFVXUryPOfBLo5fnycGTyMsnrbwZ0ySQp\n",
       "hxikHysEi7U1FnJ3ht8g44PT1vsd7pnIYVWEMRiTsbq7Zq3jL7qLhbgUvmPrFPMlRWD0Q06ppWxV\n",
       "B63+NY1/rELtMfNjupLUgRjF/H5x5svNPmMIWEBrgcD+bE+s4M4I0rkSHlO/doK/GHSZScX3bzYo\n",
       "BKsl4rxLZa6iP5s7sOv0ofrwrlRsf1ODuwlSAPUAu1iibLNeUFjpGWUqi3Iw9rTfIib4Un+y3+64\n",
       "jFuQPdYi/nPrZbQeFw5K6UpVZpBPROdzAwItQxV3jy2pW+U95a1qrLbNWttnzoK5MN1UBXAj5dXd\n",
       "4LhBt2jxbcIILf6KnF+efD6JlHwvk048jgcCaD2Funa5Gmpu28suh4Wzql4KG6zOcZqSmcweDr50\n",
       "9xcHSqWxDlWq9n8T60/U2OVb5d2kXOR6kMAd0sLNPEE643fgk6BmckdT7vkAZZQKVg9asLO17z1I\n",
       "xFvqHlx/YeNjk9wkGNwIWj/Vi9HzwC/5bFNakKX9+BiVD6954oiHGUw+FBUw3jV0jiCXNIFffixe\n",
       "C7KzpJsWM6Z38X0JfOoH619D/DkkKCOqHMqwFnOOadXRC1V0xNALjsI3VDhVgStxyeJwv+7rEdIr\n",
       "UIe4ALdw4EQ+Zg7oZ97D6eynl90C7NsjzF9EPGSw36HCqv01CgN8AxOpl/sr5rM0jG8+A4YkOdtt\n",
       "c1u5y2NBEyoMn44cFljrm+DRUvFVba2qlvemmojTZaSBoEHyQio/Y0UmbCRjAGZeb/x7BK/yiMLU\n",
       "Ov0KIuPQniRIAF4kOJIFmXbF7tLaaTWmE4etBNbxJN5s65Th1R5kHtdu+wMX4g+ZZCWLiUrZyeVR\n",
       "12DKDATHebWC99ynazHL5o92z3i53fBQZGuVaoLrnC9qSpVXLDlN2w3LxB3klP8InOREp9oVL5cJ\n",
       "6pc00GrOHdur095lNv4xkMcY2+GL1IYQBHypPFACwxu1gJmzcUlPtsZPut3TV7eOvV23C1yOCoKg\n",
       "DWHiIdyXSJauCy2GH2WzuWJYPxTj3FiGE8fsvtNzwp4vFONRnryd+zGJxCT84f9ReEnyCvSGjxse\n",
       "JLIpf2jviCKepINU9RM2TJlMDOe5guOjxAcacURNKzNyK2WX55lGfsJydeMrVCkl+Moegxhf2zRm\n",
       "I3yBKemRuFM9Ti4VPs+o3vWtng5h6B9yPWQ/P/SlaySLM1FgDgMJ/ESSfkGs827At5GTxlW/1769\n",
       "9vRY08Co2+Gkm5BWM39WfRSR+AEzr4b/2gAbzaXfLdwyPopei7PeO0Tcn7jM+DzlycwWQ7ZjZDUU\n",
       "aDIQZJOAkre8UNwpu7/6ROAQXDGWgVv25CRo4wrjowdOlAoF+3iih7xGnrEo0K7u8s8RSwxLBbFp\n",
       "BRSWAL9dgTvONSxGnGSRtoLMRmU8o7uU8Hri0nQm/06WiuHtFMkY3kMVRIyCwAQekoK12s7ATt6K\n",
       "ekHtOlkzSqpl28Y/vXAzwwVd6B1N+mKDWbkFnXGK1jSDtWiYz+PRF1Za0PxmU+FjeyacRaUWmfLy\n",
       "xuUOZID1RatrIpuWb0J0WDGx7gVw2NQI6x1Zcikh1uCu9ajrUrpqPVOPyQ08A47LXCaPBeL0oP8O\n",
       "qO4lgiJsJK3AJmS5dbTHHP0AC0eT/kJZlRwot/971AhuIKYoOVhKE4YC/cqFkUfVxGDJPufQ4tuF\n",
       "5TicfeKW6AymaKpK7NaDxIcplaRUPpaZjC71TNfsy4yP09CMzB4ZxD/uQIktcYgduFAXWwjvgu0/\n",
       "kdR1yxRoVa6md1CQAlkSGXj/CJgWLHdsiDSSy0syi/09Tqiatq+UtucA5SO3oKmG5T1/kKnahPBQ\n",
       "mLh3HwKgKebIOO/ZuX/9wfyld2fd1mFuVxiBbtzilXq5aRResPTkMxde1dwAAARJQZ9QRRU8K/8B\n",
       "LtdyneGosQphFGKK9RPdoAbij66DHy5taHRdwkpV8h0e6k+/Cgj+CsfsQZiT9uBUGaoO1PtNmtwq\n",
       "pSkMLm4jZFtFP1O3R9DkqETe3kmeJWQbwVMuu2g61mIyqowM5gvlLFpAgJ+IVfzpagTJeOq7Lke+\n",
       "HqLRerU9LU6qdA3YYpiTMjf7tNWCnpQ85nlmVAXMUmjAsv2kY0MQ+P8Mlz5Tdcfg4Q3ICAIzD0cM\n",
       "Li1dLyHK8QjGQGylsBbZ+lFFvawpFV7yPL6YivDAfOyn2S8OZ8AhZ7FCvu7s5Z9+OFqqZpBAoz9p\n",
       "CLrRjPooKXrWapDBiPAYFTr/GIFDrKxd62W28EmDj4SxdXi7LfGKOVbSVZZLyeadYew3j+Qm9jDg\n",
       "Oe1yAjT513D5L2jkw8ckZIoTVn9OzM5Lpt4BMYmnYW56OEeV22lAvYVocqEron3yWzvzRlBcfYBu\n",
       "jizJOqkRtLuPyWN6jeGz0XcEMkyT1WCFjRKr0r+Bq3dTb5WytNNE8+UvkpO/z7WgRQG3doFXUWPf\n",
       "DEKUDkn8A8ejJvDg4CNIEGB8AcxsWKutNTcCNwyFWFenG4TJ0fxLtx0+vjrb/1qVHkHgggVTN9Xi\n",
       "odxYdRGrp5UTtmXhC8vuYYNqfYJTeZ/dN0Ev96CYqzAYRVXKyti8MV4a+AksqupDHBRN3j5zkUO5\n",
       "dV2BlzKe/Feh/tQ9WLrBETQWO6+n6/T9IebHjXucAM25g/fUTrIXqRWJOOz6qriOYhIcPBGdJur0\n",
       "KnJiGt7OpRjDxP0OdOR9ZRileLXjjZb/k+VrwIv6rgwR3WwliVs+l4eJvi4kSbAum7tXdPGjhZFO\n",
       "vbVEoXaKftFtGC5J70uMHHHGlkO38RmMgQppJ7PLmUADQhaL4PmAFBOmrhIYEolWgy9pHTzHu3Qj\n",
       "zJsIA1e6/W7ZcSKPKjWeBD7TNqq1YGOpKU/dsZozdSFrW5R+hiaSQjEGA7sj3F2rB4yfoF/5CPqa\n",
       "zaD62RL26p3YHMumcQf7M7Q4KxNAfZ3S9o2xjpMMSAlwRLxc1rLxy7trwLXrXDgj+hN7LR1WSQJh\n",
       "kNvQpx4cTUFNVTSBJjp5xhUxpZYA8y+KUO9ewnkGaVcimz1dLWDPAPnX23Lyxzw1NPtX6O27pft8\n",
       "gg2pbdQ23RNFA/yOyAu7MT8f1K6MDN76OBhfTeGEnE0lPvxqfmwoZ30/Z1T5/E7lMHJpM5vLs3xp\n",
       "9H4CefIdOHS0YPavTAHNCX79wFOnXznZLsi4tTLMqOYbs3B9reTSYxfmoMogd0NwAHoT1P6IV9nU\n",
       "uWQAsA3bV965vp0Q3d171dUfnMb5H0v7cTyWkSO+/jT9+OhTfwSB3uOlp+4Kyxd4hoYkMId/Q+Gy\n",
       "ENEzRiQz2LAK8rkucYFWWkoOsNP1BsT+UJwwy+7B0jw2chrlkSncvNAAty5rOsEumRCU3TdKbfDp\n",
       "bocvBrwAAAL+AZ9xakK/AS4YUoPQnt/ERpxACatpiWRPHCPQefc/w3o3YX4B+Fw+n2rd5eRB1WAS\n",
       "eiDqzdIRXtqfartxmFQCKGade6eS295NeiGYZBRpxbTRInTYtmAEwmp12a9P6H7rOzu1Qpy7uoy9\n",
       "5uWo5o/L6JrYo1DwKRkNBgsAFq/qKkZus9opZdrczu20IVfzliGlCaZOyGce7wJK/aRMfVA2beSl\n",
       "YHeSAsB4Eul038m80DfQc8ZNS/WFy+meu48KtKZsT5mz9aXwrtqohr9XQKAcA9EROXvdh8eiMufa\n",
       "MljvFSnE3HH+El3KGkCiLuWQiXV0iT3xX7NIltm1xD+rQ/5mTxAJAUhRzqAOFquZ2mh1gDLavOV9\n",
       "eX9eU3XuTPo8RrNzTKNqVUbohebYMv91E8AZFABf7MmSGXBETy19rUNyEw5c0+rUIuZcAwb8Anyl\n",
       "nzW/njX8wToSZml7yBBi2H+EVotPG6WNaGncZE8JI9w0YYlnbj7xzJytG/TaxZYMh9REN/1SOY1S\n",
       "sGf4XP+LsrtqLD9vrEuesx9+yxL/rUKsmbn6g50tHCEzDjhJzhhGmXTODBjv5c03fK15kgZilu8q\n",
       "v3JQgQ9Ya4fAPX9/4XJyJL1e+Av/kcxhTUopIDBExF8OalyXImrALN89ywARbANvpqOvvvvJm5O0\n",
       "QV8b1s1VeVtpIgmrD28OK5GtXR04CDNsS0j/onvmEDEYvjCFgeP9rgVydzODpDl9zgd4pruErDLO\n",
       "pel3JXqGcVWEE6GrkwNorNcZFh/vmlWnHrvXzy7gzFHPjfrarOnmdVoVXy3lSqmC0cHvC+ejJlez\n",
       "h5iodq5PRfrwMH3TLwvNew6DqFEXDKug878NfasQ7l/hict2Ig9mf1LebYDmCZ0QBmN6DQ5X6G7f\n",
       "lLoFvJPSG8wmBOCTg4d0bMrOr3Ontia1Ep1DgxMSiSfFbdyAfyEpSqOcfVhou4hOKSGWXMAVP0t4\n",
       "m3KrSBU64tDrC9+tUEAgS9Q6OF+G9+a8E5s6KI9Dc+xh1wAABR1Bm3NJqEFomUwIZ//+nhAFxe3s\n",
       "tUGQwSVQwLP0i/2BLSABy+w7G3VVkRU2Z5qMUEBMTHZxHwKlm024zNRcK8wDf5q0eAOqoumgHdmw\n",
       "ZsJN0JhuE1XiVcOQ0qkP4CqCKPFsFpgAwXNEU5l7MeoVGjmFOXtsRK5H4Hd5QpCsBseMATHUHmkl\n",
       "Yng7KrTji8WWKZ5QGzW8la0ihKvFFnM01zOFTJN3LpDcU44Cmf5Md5R6dV7t+ef2YcQNKXuUoFY/\n",
       "ot3gvPijqKROC44XwjROpgDpPSfB09bKmS7EmMX3v8XWuGcVt5uRJMOnHGrtiM8v28hGfn9i1acq\n",
       "UrX8wb/2GET6m3RYz/XXxD5LttKhpDTnixsZpO9OcWMCc4A7tDsLW8rXEkRASKCKTL35AxZquf7o\n",
       "bOeeZcHSJdxI28c5kbl+NjZCFiCydh0Eh/Pd31scHrCa6zgT0nQHF1Ks67qbqzcVpdxbLHmO9v8T\n",
       "7DMgMgXi12tKkmv5E+Zo7QFHuvihbyo6Ay/ZywVUbppZmuQDtQCeE2wHVRm1EpvlHCes2Kqjppcy\n",
       "ZyxVVBldYsuATuJ5IcZbrUUndb3tPGk+fFE+S4Eh3pyaXhpIFaDDXJcAyx4EyhD8Azuczku6sltw\n",
       "doAtLvu7jhnoJqd6KwnNHudB6leo8FZNBidoPndY52TZ8ftkrCP1M0MDocA6wtJdlsfwK76L58zo\n",
       "NYf8GH2HJyriNra+VNH17bAdXBXzBuRmVd0N4Fy+PiEe+50Q8VsukBNtLHIiWH5j/YpA0Lj0spRG\n",
       "b/fiAcdinZ6sPvxrNt8aFSt5rFkmcJZXkkLr4bXZd7M2bb1gXMw0NdnyjmpbQw+Re9cLQO88GGld\n",
       "+WEGvd3r+0EPbD6zbDtff0kTEmNHwR6QYqAa0KVBRdAC5eKIKcxa9lrS9YRnquW2JerzwFcssUwr\n",
       "BIZ37hHFBpYKsi+UMjJsBeGO+/z0GcLRHfQ6cTQNLCCAj8fyGF6FsMgUTVWLJPN4OwVuPJ+zwOL7\n",
       "zUXvhGxNEkdhtSVUDBwY1YaFFKrSWeqqlIkvb8gAzOw18rYwJZTDjiY97J9qUb+OYBgEqul7dxk2\n",
       "9ol+DO2OCtbRzRJH707U16YpyvDYQFm3qQgoVOCkvuPqS9yLzXH0a4YTiGZVP5SpYlltLg5EI4t6\n",
       "vJJPlfyOWBUkb7Xh4fIs4QVPLeZL605zBhaYHHAy+k1Ls4s9tVV0TMcezn8d5tQJtpnQGImfKa1w\n",
       "TslkSzqFfvsMRzyR+f7BtDSMGVQz6LOIYY4C//Ou9Yfa5Lsp2W145wI3SNijfbsHaJDCrpx+Gcrf\n",
       "FLPussZt5yeCt9G1CKNIF63vFj78MD4YKEAGjBOpoN6Jn7/1e1OvUqjb6159wnru0FOsWJ5JfCH2\n",
       "ZnblxkCdRmhrYI9PRVyUH/JSf5b5llwByWiUFhwKsVp5sw5cpYfEIAf4QnE72ZPQhwP/+vr6hDaQ\n",
       "lZtFuMKn4N0mo0S8C3uRFk/AoeO1WbtbJ8+rvfhF1p8rzJ8DvV7++2ykpWtqVAZaYiSGZx8XAoLg\n",
       "ubqpr2b7P1D9+ovZ42tfixJ2B5phOalhnjpNm/lNM/aXdMlzoGJgm6UOFNt3nlvvHNi/wKKlCxzG\n",
       "jA7U65i+HuDDc3dU5YRWtsrvCZGtGitv6tT+e2gvFQF1WMMmRLAGRC4GkuCwYqo/ZzNXo6d5JA2R\n",
       "Isxrzev1G84kenX8rDLsA5NLIm0ClFxK17SnkHPlvoRCNg/oAAAGgkGblEnhClJlMCGf/p4QBcc1\n",
       "eMK7ylSRy7Ex/8E3Sor/9ycAfABdAewScXKIdauqmEi6rl0lnVL/KZNv6RZuUIyl3ms4Tcd8v1DB\n",
       "FtzNAKLwCVR2bScqjHt8vKbiE54Gn4Af7P6kn/SxXJNV8C74Tj9TMd67nWNYaMExV1ltEKU5Wssw\n",
       "Iph5EjVhWk+Bjm5+6ovSL57ak3XOLXW7dPD9wY+SlC36omjBq1rwqsM2ZbU8jhJFn81/dGKREEfJ\n",
       "dOuB9nFdG06nKG6ECAhtkrUTs0jkpoVnA7hJCSop+6yoH+9rMdj6qtVM0uUGyb8yf9x0haw1D65q\n",
       "1VZgFZRDuD13c9B2wA1vJox1icGd4kVRetmtajC0DTQIq/nuf0rfW/s5dUILuncPZECpfFRatPdp\n",
       "Aj+z4sdoYLSjXZHO8mgT4Qc+Hffp7HDmtV72AcUsqHwJe+Q8QHUR9UPon/5nN46yCIvrwwtZtAqj\n",
       "gon45YiZtZDCRwSVRDX1lixs7Lum9RTkVU9NWDUgY8UPh5TUdl4e5E44RXEESLWbnd1Uw3CZ3ilI\n",
       "Vh+vDEnT3fgZDUsNDkVkXfa0v6qcZPAvlEqFVaKYRokCkbyKAPNG8egCGAkAQAlrYohWd6IwnTE4\n",
       "AANufqemLcAIbPqjJR97M3GXgFjvE7STnpmGsncLheu7xM8a0claJGOcCZqhbO+S5HyhYLe2qRh1\n",
       "vQba/BvSmkoE4NXENj2IBocwTszQtcFFyDbI61TVO6mXjqqvnlvyBVQ2tImne4qh9RadPJC6YEpE\n",
       "A2KGUy8P9EztBfpOyKElnqq3CqWS6PlZZXDMc5GbrKEEf+NHO63/budW7BvxQboM+x9fxBCjOnsO\n",
       "tG3bPdob6W6z5E9J/whCF4QEzi1H1tiyUfBdonsrAprJJ+KtdJh+ymPyoZS4b1IqLakMpohmmgHj\n",
       "7YTzQK1h8YA+HDBvWo3fqc9EDICBvs1xmUXIEcAfY7q56ZDLh0Lv3SSmUJxldapTqRjqitB73tEk\n",
       "MPjkt3ujNqpNtRQ9li8bMNmdOI5LXZFcQp4mNoqGdHweot7DMB7cqYrkqnJb+wpG+TfbY6uIOBYY\n",
       "PrTjEXkbRwNW0ZgMjJARJZvQb8iv/6pyqLyVzmSpOjrC8kzm2Jg2+ZL7OL9EXr1p2TnIhD7M5kDZ\n",
       "PK+DvDGHBWXhFg4c/w/SbH+Tg+l3rzR6qgnafAjZzlD+nyh0wC/rWrpIBoak1j/X3v3K98f07g7D\n",
       "mzMwE1+ls9hHJ3QhpwQI7yQz0Jc9PaMDP9WjS6KnSjDcHL1/O6bQ1XM5LPrxm+Ao9hOvpYfcDlgy\n",
       "IYnUCrVIN//VS/keZTsIfOajYXM1/PWHH3kmlF22GV7jDNR4gEkgNIsTC2LxGgrQSkkdnluZaB+K\n",
       "noJuZBSveK/wRyBpnMu07+mfjA7EQl1oEwIRflKj3vkhbBrvl1QaQb3nF1k8aY/yIeDcqmRrCDQt\n",
       "ncjyFIn6YOWaLxG1Z4WSnPbvw1UjmxY1X89mZtrFnaDHfYZGBNIj+YYUYFrMXZ81CQlsc81mXQYb\n",
       "pU6qsrxx+albdw4VUio6TLtVsOtUqYPeVmLA1VOsCWJXBhyEbgWzpKXncms32VQFO5ais8FPu9YQ\n",
       "ivR6iYiZMZTF470x8eVR271KB7D7x03SKWsiBt2vJUSe5BCL5CzpsO1lFeaRnRGU3/UFX+9LIT0O\n",
       "r0Fn6oRO3e5jsyY5jCN/g5BBswwff4LzYbahLwimTz5UZMcQgc2L97XtAunFXtkXTQ9xEif05yXh\n",
       "ZR2Ee/UU+mLd1O/ogzaO9CbtfQW9vDjajymjhnNI5Mb8jJlUCSTENDwz7dblbtPvLv3yrF2gkjsi\n",
       "MpNaMGPLei9CeuIcw0PeENs9yTd8S1rIJoTEX0OYx30w5paqtLkMTkWi4tIq0oCmsuvPAh/O4Cas\n",
       "Mi+ANJsF3YoPiOFYFNHw4aCvMA3B5zQ0uECY6KPOHMU+Bna0zzjyVh2haGOu5UB5R4A92HmnlT5W\n",
       "YTjPbQlHRDSS6DdpMRNiF9hnzZ8kV2aYqyzLAErSnl/Pv992ferhryjMLbCXhTsH+ECasvA5WX/N\n",
       "4isFj95QaC0cWiJJZXvy0+NbY/yz02Q7THd1ZWVVd+vtGY2VfXDMm7cJJzKVmDVsDJLTv7pUKNjJ\n",
       "hsEUBGa975IAoOcyXoVVrDCfURpEUmuujsD77IBaSWsQsRiAgkObVlNLEInYLDB+HZY7SpgAAAc+\n",
       "QZu1SeEOiZTAhv/+p4QA28VGkAKyy65jGsSFqtNggmKt7zSg954k+M3s+og8eW+4jQImQT80mvmq\n",
       "vez0nZ/MyS+ot124X6EWct4MwBwIVqnmlXU89K8n0qOCeaZevEu37Qv9kfIg7gh2fXCq9hSAkPXQ\n",
       "+q3lkCcmoDZTVEojNSoNA4cxvWsZex3AqJsy+Ya48trxlcbISssKRZfycZPWLkEeibyGK7pxh8EO\n",
       "PKVQKhYssIliqdvYnb2J9cLm66YyH4ZMEVtnC6FKL4txmU2LK1vXORBn82L/ySRiU+/MyQ4m9XkQ\n",
       "fxmwzuc4R1T5fYrpwYaHoGo3kyflCMfR0SFcWk8T9HLmwiQghKKnNB/gZemf6q5bqErcHcRSBFb7\n",
       "GLtY3/JXui8s/n+fGKvF+KXYDI/amPfvlrAJc66P3He/JhDBy8VTj2xB++9eNFx5M9YhD+1NnnhV\n",
       "RaIbnBNtmoLF9pwHCq/qvx5MQORdNihe9/OYxsuW2xOzmInKF51XoCEf2GA1hvJNCgX4D2LTU/0B\n",
       "xylpXznHYal7pIEsPCb/YaZsUSqPfgswV95q2RXxdNlexWirW8VovRp0I3lEUfKtLIp8wz8fUEvr\n",
       "SCJ055+qoniflDksw5ySs35AVYrlKB+NVj6KpE+jI2JmMhjeT3CxmU0+LDpFfGBZEVcr3yMTZXeT\n",
       "YvCdVMVi3ziQJG54GdRW2C863gVRIqVzmsdy0teCkQZloQKOxrxJyFaQy8uRBsn0O0OagsCnOyVC\n",
       "OrD7foYEVooXO4/jzz/whvH4np1+cdVEdwkBxzPtRYC2esdEvqFdZq6q4JR8IJYS7GGWcgWpybfy\n",
       "HZ91dyvaTAFRK+q5BhQoZO7Fw9nQSbLFW1umf/Abt/ppKbNo31LXIiZ8DU1Ca0Bb9qbUVtH9q29a\n",
       "A5rWFmVxqfXEF9oQucntq4clXwaBtl8GQOhz1sECX6Pu6OcZ/rCC4Wiqn/fYNoQqAxPUNbc+n8dv\n",
       "nLu0jPgnwS2iNSQ1DB2kkl3sJDy6oT/7M/zDm64yBsgFdAB+Z+1z/0IEMywNXBEFG2X7FtYv8nga\n",
       "e4N+bK+T5RLIabfA+uKw97u2cnuU5wb94OLGVrlCVq4Xg3kmX9EXyyHpP4+SWeCfmYsOqdG1f31b\n",
       "BL0ZkQX+kLUn4m3Cnp5AvfxSaVgSy+gk77t1NXzOCEc/ttdAApvEePGQ59uq9NgTfBrq3wuSv9sj\n",
       "wn1Ye3B38C9eqqHbvajJGvkxSTppm4IGooUs8nhm6JoFmDMIqvA/H3Lu7ksfodV5y2jUxgKphph4\n",
       "GR3kLLNN0YKQxgL+AYADdUb4BPvNFr87hYpwfZ9qldnzR75Su5GXzOk3dgvVbnR9HJCGU9fk6rgz\n",
       "2ny2t3UDZrFVrXOWXJnyBJ1lzTP2KCVg+LXyoJ7Lrl6UytY8Grfa9rCEmu2VoH/vXUoGi/5fcAQX\n",
       "zazMWqROuWA4CsoObYeVHwDeCOMFzyfNw1E7oItO6KZrKzWqrPJYGM6p5W1n7IJq6woOekwKKb+B\n",
       "AIL6OPI2Kq/vz0Og5Fp2ZU+22iV8tZSknXd2yQvBId/Hr78an76sXTpWqXXw9Id/PuJoVPYwx3TF\n",
       "gMAQD5IGO8E8Z3rL72FrWEQUcYTMm5eUmrSeG6egeRYqIrZpkDtfSI6Pb35TfR9SihHyyvHkbipW\n",
       "oAW1EHBxW2PuZWFlPnDMHxENf5WrRXwSSFbA0EXm+GVrfVrXZYJwWWkpah7tqS8/0hVvF5y4xY5p\n",
       "xpdFA/sHNVnr8LsDNYqpZbs+wz8rozBbxCAqdPUUVr/DT7QDNCB7pRHHXDUV0tRDdHfLIt0+7/4l\n",
       "b1+B+XoWAE4dZLD0EnZXmzT2VBJBV4IynAd7csjuZnJ/3rEgTEOO+mlcu68DO5cXBfL/t7Xv1/UD\n",
       "/2V1eAAZbhR3qoHAt+3zVVu3dsKXW5FaDkmw8xZqcAxL+ThsP052a1K9RfyzRb+PKDs2RR6Q3iay\n",
       "FslmkFi4QHc+IZrb/uWjGvJ+VgXYh/15nJ8Yen58nKatdNg06z1ti+Wtgq7ZM5Y2rEZaM8t7AgQY\n",
       "qMENxqy+sqCTWYk9GNtJheDQF0xv6w5tbFUuR3d2mLnwwKf0LMH2Y6sCdMGlp3d1of5vAxjKkeHh\n",
       "MOZ1OqkDUjhfxZITRDKzaSnMipafUgL3hJBlEofk3xzKJ3DMO4vdiAiKBsY6LB2YgBNTmkyhzyZ4\n",
       "m5Ovu4Zl2HgJ0PfrdFnJT2/H+tqOOEJVRSr9F57dl3RfWLDfsT4zSPW6lhVp7TfgXGPI2cZiJwHR\n",
       "3+KYUWES4LLszUmOk3MI0x6dPAeXJT0dFjYo+m6OISpAUGq6i3nrrlMqVIxp+SDGLMS55CT9IKcF\n",
       "MIJewYC0w+e8WzGsZRzIblSxV46TPr3b6qAI5bxxDboVEpN5vmQFiKwvkFH3wwjk1slB85OJ3MNU\n",
       "Em1ds+6sOZB3hyWMDK8dnpvvN1bdsC3Nf6lGuI8XAAAHQEGb1knhDyZTAhv//qeEANvFLUAJbmxo\n",
       "n9hxH7LsJTHTHiufLzgxyk336LoojbxhRShfaYhG+COxjqLl09MdkUjnD/lEwAj2+iP4dBgQhXDk\n",
       "DmBQuawcNsnT/LVcM9eNlbuEDySeEpq+WRpKxo31NlBrd6GrqbZl+Xv09uIsehZw4IPBbV6KIUlD\n",
       "Z5O/Ix4G9Rp+RTm6PflHJVrHILFM6w8P2MeakC7NnNMca/n6d4CgiNO3gt6GVaOqPya0zVE8gitL\n",
       "EAzUZxNFVSeMbWzQo99LE7dXzBsa4tFcK4mCc3YZW8BzvyYZIO1gFHk2hKwN3bA6TUr0yWblL9dy\n",
       "Oe8gUWl5QawJ7UeIuc4XLmRv21t1TZybxXxzmetO/+k9jp8jyZOEylZv5ecpQd/sWbOjXPEQW7PS\n",
       "7HTJkMiDoq7EUmEZi1J7EYvm70+A1ta62y7TveaRYOa6mlxtO+wcDD1cBAdBkzJZzdfmxmERdyWA\n",
       "xojMRrcNTnC+lPrh2mRW3kmORtA57GqNYQRZH7KVnTbSqxNNHKAMlkVMvxsv+jGVQ+3h6hvY4Bdr\n",
       "hbHtOx9/OMlmFselewrWNmRCk5km3G62/gBqXIHRRNbx84l4md03yqgh3zzp6vT1/e5JPh6Xjat0\n",
       "YO3QC3AURvNIz8qbdMT1dVsI0PwABHaSpCndDVwSWMaHharOv3WuLNWe3CEjvM287cgaVzdzuCWH\n",
       "4OxzH2FSkV16hyKnwbaOHOUw36bb9J69hHgfmD9gRnjQtZST1R1XIHtul076ziSUlFcfFCTY7xqx\n",
       "LMIuwQylXHCyHjsYAXURn3gzwXnQn5ApcIgpxfGB5Pb637TiItLTbQLTwoxiu13DiZ7vDKD4J5V8\n",
       "2g7ojykJWWW42YVNMc6tQ2RRExSHHZ2m5KsdepiZ4DqUUEcryz8tLxsbjIqoTJOomRgZGx8x5tuk\n",
       "hN+fQ4IEKcH8VwYXfPhW9xmKVXPzPstMMOfygo78G/5JIXiqJpjryYqBd/KgrRCAi+FeEr9rMljH\n",
       "aZN5L8DjA/+k0ZhSH4sW1QLq0wsSvgT/Ds61hJvpWNUZY0DB6dr+njHlpjakRbRPkXvZYYS4lT5C\n",
       "FIL2fRk4cdE+CF3gqFfPXDpwIBb3SDCsYLODcKpgBIJ81MEBdDez2FSDagkbaBKyptHW1ZYsrX75\n",
       "XelTQlBwHKMkU2NjmAF5qaoBLDcQSujuKDcg5yMdOCH+5c/aKo9iUcpl/mvYOpIrP7kcZhpAmMeQ\n",
       "l+08OSJCVveZgZAw72LoWYVKdlyqvrz2eJXvSUCqbakFTrk4ETimlB8bJ5Kcdu3VO6T7a1990VJP\n",
       "X8qIYEU61drTGmFlLQw17BWeu0oKn+61vs+scJigHK+gBxDO30XabRf/EY+LnoMCQClqm5Aw2weo\n",
       "G7PZZHLSdF3SJnNgfR7i1RzYcfRvHt13xJCGSHJMZ98cgnX9Z16iPInfqy2lJXPrAt3g+D11GrOz\n",
       "vWAalXuRoAnsgusuMWPZGZ39JM95nIUToajvKVI0javuyGidaCA7yLbiMMgNKNucHyg6Z2bOcNgW\n",
       "GZvQTo8h7LobF4cvU9PCiZdzv0v5ecCOYTsInyUKTVH2uXy9SLnI0Qh8xfnJ/3ZV3v/41TZK+Nnh\n",
       "MIVYvGkI2PEuwn68c2A9Vubz2ztBXmUvLWVGTETmbl1DfI0KF6pqs6YYhh3wSOFulte+xrd2O7tM\n",
       "YHXFoaWoGUQ+GWS7ef7hyAYRkUCQeAKl2vVnlEGfl4najnyIlpFr2ERqjDXhdJQSCCt0rkQClxhE\n",
       "4uv+sVU2wclvciFYu4WiKb9EDRKasx75zgSGwsnKwFHaMkg3lUCglPB54WuHMixJ5ko6l01kmeeR\n",
       "23w4ieKfOOkLpFsQ8iQOVlYg4Z7GnuRJxMbR/exPp+9U0/wNvQoBlNF0XljDWRrve3KJ8q1d+V5I\n",
       "+hCviOn8DgD7fA1QLgUp3fie6Qlq6xEtsmUuQwNkJORJ9rXSHPB643EDz8CGRZ5IFsfnvM8CXLny\n",
       "RUxp/ZNk9DlVKZ/l9WBrZAbs8gNsQK5WW/hZpp69hYuenmDEMDHWP377xzC0qJtABYLKh30u81oa\n",
       "K/x5Mj63VWOnvH4Vzw/IGSKVZg5IQFPJAVRIO+r7SwbdvfL1yg+GqMOtIGrgr+v+KSnydzrPjAbb\n",
       "ISP0D/pt/sV1W/PQecYagb7WSUz432J4g6ikORj01tkXA/gHFn5AwOQKLhOzvTOyEYbcr91GiNII\n",
       "36vohRCULocWR0vXRv/5KDEhBvusy+xHWr3dgvxvYzOi+ZwN5tx4yqc3Rt7JoYuuyfH1d3DtM+UR\n",
       "lUnZeqby7p4/fTEHED+4EihQEAaE/Bo8we/u6XlwuT5eftKYcfWi6IvyC3XatGyBWEvQIIjRS+Lb\n",
       "0SQ0mSgKlh3Rg3HGvow50pcG4r8DuSOR2hKzKDRO1A39/ZNctw3T+z8LUCaN9KfIlKMSvizYowzT\n",
       "9XRB6XDNoPs8AAAJTEGb+EnhDyZTBRE8O//+qZYA+QlFABEHxVqZ4/c8rn/bQlGcs35w0Qz8pfuY\n",
       "giThA8Z1HoN+vpN6h6cEOqrzpphyZbbqh39yxKB35RbMO0CB1pWdafmtj0XXKc/Ad5aDs4oivpn7\n",
       "fQH/L/2OzY5FaaNBPCtCJv0e8wcDt/jSbgK9PGXCgc4IY8fiGiraVWF9wuzRpv+0SQBFNMODXWdg\n",
       "7r5iRoL1l26UwzV4oDV+pk5r+lXVHcYcmGG8bGevSSF+4nyMibUdpMl3W6lD9SwfepLr9EcV9a+k\n",
       "5JT5/vOrK0DaREToMWjt/19fRZHS0G9EYiCq02IdLWp1lHQF2NK+Bi3jG2IWNGS7KPTKbNwTT2BS\n",
       "e0IcnpoJCZHLWcnTJNnaBXe5FSxdL8CPbvylTupEAh5F8X7w/Mxr2ZcankYYI7jbCPD5eWZzFqg3\n",
       "pINVvRlQv6ly3EyUYZFDrvb6kJdBw/N23t0fAboJ50IwD6MhPYhCb2CXUEb9VPbMwxUs89V5vqPw\n",
       "GPcqeS+tVj+9Jyf3DDMGp795EeUa3V1SRkX99KSWSBfGTltbvdnhe/ArtmcivHOtiWcWcWx/M4OJ\n",
       "ZPMkZd0QNpPJbv7ImnVG1HERbOpeXx6NPC5o3w6IEvpjTG2S5Uazxq8H0u1uAdAiLHnIL1+ysBlD\n",
       "PHPn+EqQKIwS+Cb1cUjUUJ0jxbEjzhQjIm2fYrBViv1xlLUeeYxntZTNGLudE38ANhRlSuot3KoP\n",
       "fEe11o6ZTamhLWSculL068Hgt9aK1MU7gd4lxb3UUyruv1QLzQCMwVTB9RnJO1cq7+LExjJtf/UH\n",
       "3V8AlO03E0X/OFnUuGsxv9Up35cS75oBt9xqXiF7G0/BlsAS5dOy04jwSSai84LqRG7j05Dv8AoX\n",
       "zZg/ajz+5J3tQX7sdF0ayc3d++Az0u9dmMw/g79u7j6/yQ4F/unye2AVohD+ApxNrRaEesNcn08/\n",
       "Lri0NR7hVHbqt5pzhKrcuf64oQ9jhNTrYDcPrumcV2x9pctI1PDlwY6pwBw2EVF11ObfqbQ12pES\n",
       "mMVNybHt3I/FxOS4qk+OQwKzzYRjGvm57/lLLUZU0ogloPv/Jh3SM13PQzb1xPHPnJAEi/sTB/si\n",
       "wGZAC8/kmxC9bmKknbJrfoBK7OAO97c15VLrg3rRIAZUxNCH0u3uEJ4Lpzu+Zw8GhTTbQb+D8VII\n",
       "9B654yLAHbg3oTjRRJ9F+w4DaE3TnEYQHFkVO7yukXkwEujw78QwV2Pce/+tSKsmtXwN5czohtSC\n",
       "g++LTBzojm+Mw/IDoe+rfWS86UgGhcao1rE/YVNggOT9IQsUPP8+3LCV9AjaB4ARxJck6Xrzg0UU\n",
       "P4rNm9nLGuH7n2KAaRe8AsrxYPojWwuKQUdv5PguZrdPll1RRU+V9Z7C2MIALuN5Mntioi5YNzFM\n",
       "CbsvQ/efMjj18fhHQiKMyswvtZGvgTpd9phKIMdThb8XzLpRiKBHzUQsaiOSDy7Hewsr1LniGOLb\n",
       "c4yRLpvNqwK8lKPOqydNT2E+HrTdehluqY/2UmPMs3oRNWCmA9E67at5fFQgpbIa0eZ+xNiDgCnL\n",
       "xbGv5FAk6nQix+owKoTX1CGAJ4q3EaSEAuUJjk6Z8oRC8LZZ0TaOswfuzQg2wa0+MYZdN8I8LcgE\n",
       "1DwLVe//P8VUR7nfZjtmJ0Lph4c9cmECp0jd94vnDEplWS9h0dxhHrASoP3flI4k2SKuFpi5Bn5/\n",
       "ErNrJMe7KPMEVhG/jlMP7CATPWAB8575ZMEec4TgT1JvavWPjNFgax6GhGNOZUfIEASf4b8M/gj/\n",
       "88meJbMdf82KGlrPKWhV7z+su99xt5RM80Hfz5AjPdppXyVEB2+sgQjXdEEZox0UY6lxP0cqo+WH\n",
       "9kArlPhztMpmKGxDPpfG1RuiDLazGm2wdCkgbBd+jJCPq0CfjUqhqvExobSM4wfqRFHI7gs+6w3W\n",
       "DgOQC36fHwjnn7H5DU9dXkLphD65WQ+jARkmbdXq+456IAcX8VmKaDiDS6K7z3OUlp5YXq8qDTkZ\n",
       "xrGS/6DzOQ3HXnstZaZZDf3RSRuYqz6iFm6afCps7b/2TwWnQ+zWmxxpEVOamESvl5gMap6L2X21\n",
       "fiDCo8oONbzCp6Ki6wuYExFtgmzA6uAu10E3jbpJbmgWEGaXjFpQR1OlCPZavWWbJe/smgwAvCV0\n",
       "YN8WJd2hWlraFORr70OI0vJnjw4aPXff2MqQbdjo5g/ZFieN+XG2/j0Qnc6DLCFSxeTUj8La0kj8\n",
       "rIN+aUgH70NBSFIJv+RIzf626DvYqoCoH7NIzZPd1ZoyATHeuHCCxuLBH3r0qwtmvrepYJg6YfS3\n",
       "8Z49/VhWmuCJotxZDxZtbr74qW8xB6mW1EzvW4AYjdmcM6v9h+1VNEFYKstiHsqh4xgwZ0UC/iy1\n",
       "Fv1a8wKZXPOP2V5oRmzvuagyW0S49iQDVtXQyRpuPBHdpk2xTxKBeaGNRM6IHL+PHEMyg5vRY4QM\n",
       "bBnh2AlbUTicdIRCQErqLqj6/vs8KhNft5sK27/ZYYRU/ndaj4PxV6yjrEGk1IU/mnDLT9y8EE9i\n",
       "Jkj31Lm+HwBvp0n9JQN4btXVQbr9jZc4FTq3MJkehddJWR5gPB8QOg4X09/4230qiJCaqRulZ4rL\n",
       "JpvsFH3fex8Vei6YiJ8vLu3n55Wy/Aqsg4GOki2D6naMRhErIHgUgIYJYaZJIfWfBNbFy4R8eVoj\n",
       "y10wAMT+VO8Lw02u45Iibg8h77kqEjB1J+hY7isLJtX8tONLITHU/iCTBb5xB+RupZ8ANz7PL3Xm\n",
       "ClMBsVWTtINfrcZIH91z5t8cwi7ZTGvX7lJKjF7dFOaZg9o/WTQFmt48aSVCpzW5gnwjMrhnySDM\n",
       "DTwHU3qTPtgLTX+FRlebQu95M849T5E4Y+x/YpzVugkF+fjnTkFVnIOPcWHCYYlizBnOnMGLxZdl\n",
       "4aTd4Yc8Rrybir7benwo9q1WW2cV6M2kDFOwivjRcxnJ7KQYAOZIlZu2mQKE2MJH8rHzyI2yJhnx\n",
       "WshANksGfIffqZ/gGTLnBFGMMQAGVQ68koGVwaeldaWKP898c/pl7v+/1XghlVya3SafS3o/oV/C\n",
       "ls+dOGOc2ha9R8sREm0HE5vM7/v++eT/2rba+uxsx5QfABwQLQBxnb708n0byGNGH6nJvS412NEA\n",
       "AAIvAZ4XakK/AwFHOmwKZHaVvDeSzIlSbGvpRx7rRQA4ln7swaP9i21qi/SAv00yjxAJ0JTFkmes\n",
       "LD7o/XmFHSwwNHbegoIBngD74GSgsAzPJL15IM6KQ6ThdBHm1piXE63ZCHUfiooYBtGKGsfSO1D8\n",
       "IE7qRurBz7R+InGCNBrhNVZ/oeWz4DEXdNn18mtAUvkLgSQNwF+lxmCgRamDHDNc1r0YDCzZOJmy\n",
       "RwmIErVowGmFDRSHuq/sSz/wa0WWbmSFE4gUBDYjtZpkbtdLz1v5KZyLcMeX2+m5KYOvXW3MwJf/\n",
       "6L5X2erWrEfjQPLXOOyZiPCwUDBmH4kKXWoejCCD2P1OVukOW60L1gP3djBV8sHjCTbAXeAklZAK\n",
       "jZXcWi8lYAPjxhihDCyAQd3MS6zYGMtMSg3srC7UGUZyLvZXEAVjMCr8SdNBFuF3GZm+Eech+O4H\n",
       "0v6wvm1npBjfRJVANrx36iIn8dz6DCgIuKPABggoXJAi7lnVfq4V6eQpr5H38foDGVJ8JejAdkK+\n",
       "3nsdUmdPun+Q/C5Wy9uwXONuI8wK1Cvv54HfKYWqj2K1XO7DORWdVF7Nsap0IqOCQL1+3C8jyyZL\n",
       "jb2VOmhBOcs4bmd5AYlaSn+flAviInX92aNmTOeJtTw1MoRYWxmVW4JZsaWtYFqTwdoM++B9d3BN\n",
       "DFC/yZ5XWfizLJqALWF9Czk0c/3Qo7N+XXZgKAtWJ0IJnkAT7cm4ibpPmZFweqst4QAAAUBBmhxJ\n",
       "4Q8mUwIb//6nhBWcjXOVQa800DymkzFQhq9AC2dXMLBNvCxJdsfmsvXMWoC7OPy5k5QmjmXwnCQJ\n",
       "06EvELlMPJaaNv/5lATeVtJSyh1PvN01CrvUQ3E9C9kbN71FFDbuiRWqYADLyBAaUZ+OSZ3/Gexl\n",
       "W0shBBhaVTqmUE+VkILEHlCUARMBwCTn6zIzdGS92b8wvDQufkitWvJgBMqpUX4LqaA6Aafl/dP4\n",
       "Jxmt/erZHobVw/o/TKyWdY8elge2LwRo4IcM4vKxyd8A0JHyhgRwN5Lzcz2CPKwxBFW0hM20mN37\n",
       "e/FhoB8ZwSNCLqesouPNt2ifNbqBV1FOsAHBfT52f2dG+wNd/zUZo2Z8lNlVgQJbnyvjQ+zXTqZS\n",
       "L2Yci3LaWDL7sD2KCR3gb+bkPydWqbU5YxgtuLO48AAAApdBnjpFETwv/wJWJwD5YLi4GgkrI04K\n",
       "ureSAEzdboB5BsZ4s+eCUV1rcvGdY87exWn6Tp5WXKH75lTsIVxmDTiksM4TpT0ExLepMLVEqzYs\n",
       "+Tk+M0xJpesCjyij7g7YSxwBbykjwVbUFvZyaBH5KzDY+jS27M5qVi/CuJtuiVAaj67aLJFo69UX\n",
       "isFNCa0hvd4FvS2qd5yDOjTPBtUj7MYyQoVosS53T0TjpSEsjRNgJR+KgaMC6OvY38gevsiy3sKQ\n",
       "28/5NFItBJaxtPBJKtzUOI3eO2rQ46pI+gHV1zdf1kMZgpbBXLUv/8U21lgLEWnX2g6aw7mSKe+p\n",
       "xkaWIXHS2Y7uQMU5XNaTKo6diG2qoIHZgSzRR15VC2LlykfAkea0USi8nfxd3M2SA73ua+HLf9Md\n",
       "UjrEoUEz/CleD2tj3/JDlmeuiVJmJcuHqeGzBXLaN7YgGx1mN9eBfzImuNg3y5hLBhQvNuIXwv8/\n",
       "zkgAeTAebSSrg/ZoE9nztWzm/6gOD4KR9LsrA74BOpvG8hpQJhfWAExLnePJPUaGKkmXy/xMJEyt\n",
       "u5MDkDVU/HOUETt8M8J81BvKdGeMzrilzsr4tx3UtGhpuB+hR44oCPgDgSGu9T+hFhfhtLu1B+x1\n",
       "NWOcJyCEOtEL0fTc1Pd0Ik3WnJ2ngpCmsOOYWcewOmWfq4Bvmu6f+ASc9q82n+FmC6Gx7IP/Lk3v\n",
       "o3bP+9TPIiFndP/O/3IqSEdw6h9T1JekabTPoj3iYeHdqLk2frFJEbmBvHf63B3xfB4QwDWwABUz\n",
       "jIke5Hnk657ajICR1izrmSpNrdw0OAUO/TbpxikjjsFXYO6tLbEdsfNa7U2j2hbJsaP2TwUS5Hbk\n",
       "O6cJfpyuo6NelIcPKGEAAACWAZ5ZdEK/AxOA2pUTG8wsUwW4wkI2Ny+3uTIkFkTvkjUeK+ADMza6\n",
       "x4MXWgka4MeJ8KvkfFgDLD1lbW08YNIl8MoBTq/qCgx29Ia+k9vq4OQHpHmI4F/QqZ6y7USUY9eq\n",
       "P1Ajw0TvRNANIWCfhZyAJuNfAA7F3jGgY8IGmJXVUxHYXL/CSonUDH7C25hmzv8+DGi+zqcsAAAD\n",
       "iAGeW2pCvwC061+sAE4Vw7BMtkq23DHlm32Q6/sfiXpOunQeDJiAGn2uYUYOfv2HnaW8doEX1Tni\n",
       "0CoNkKg66oZPySClW1PlGQt/5p3KSbtTJvauMPnEVfxoPwQzIDpTR77D3C+8DxRAQYSo+erqUgYa\n",
       "aY/jmKNSPn9eLq94ZmV2qDYlPsta6Tt3rJhlG4vEjkpxtx+FXSOWXdbEq2oD9EJ0wz4VsAPGqH1E\n",
       "QkN6wLRI+lDixHpnGY4u3MayDbpSLne/BvAGzLaTrS4cUmI5yQ/F45p26AnvqpkO+FhS/20W//OL\n",
       "EQUpsjHxBt/9dpICszZCprk/0XsX8eRb4VoG8IyR4am7qmINrJiti4zjSD1++x7ej8g4ayvafSl9\n",
       "fZxmGYbMnFjUqBngobxRyIpzqI6YYqZP8Hlew/1XAgmccifIFq+ZjEwCmROghd/9DssKHYGXdSOs\n",
       "hvxw254wJSn1MNefiqOd3zaHzUe/SWnQffQHLCieEYxxeUz/H/69Q26OuC3o2+9e275Kg4FUTC7R\n",
       "0Rs/M9mQyqHF1W2D6QSt+8aTMBG3KO5Ss9ngrQOhWqJ3hQzroaPp2ZgdhSIwWWrZ8QAC/w18KxeR\n",
       "dNen2uzP4UFARcQ1zSzjlFBpbr68gAXiT6mUvnB2xumeeH5I+8zwGA3VzygTkx7ozYgn4cmCgNbO\n",
       "ZblG7212lHB9soWlpJjgSHgi7UDKTxZqbxWsH/JPu21BB/uMB85Pbki2YUnRSS2/PQgpklatsSj2\n",
       "7Ie44AYBHATKqDBX69Z0rj4+JYZ3eAMNxPUl+a2Up/wSC18C6OA1FV1SAGUV0MvOGPxhFSuyuStE\n",
       "wYiYFoqMXPjSqQMD3TF1Mr9T8h3YiZSnalnSxZkofhHabTVzWgndzqkFEXJEwLzNNTzJ0oAhpxIy\n",
       "WvXDnXwb2AkxAHIGjpmbqsGDUcllf85gipPeAfCTD95h2Zul0xUcOrb/N4oy6k9MMlTGWYmjCQ2v\n",
       "gNHT0X7L9tltmR3uQkTUKbXEz8jk/bl4VCSSdWZSGu99nomBCSjKRliltAY4c+UWBGwDLXkWW4Bc\n",
       "oBogF9jXb3rMGx95/UQK31hbdDdwE4fSqgWaIWok6Jq0H4G3TC+BOK4HjChwFu3iYEUReNKdAlYR\n",
       "G2pFjlmntY4tJIBu+FB2JHeGKsJNQX7Tou9nvFkY+L4ZLMrtaHRXSsRK8HmE2mqkQMEAAAqFQZpf\n",
       "SahBaJlMCG///qeEAYK53+4h4bwAFR0dtHzTHBBrBEJKGv6oXt++M48J/hIegjBAaqN4Kn3qPHLg\n",
       "wvdB/V+qywL6talU5iRrYj09077kG85c6KW3S+hhnV2oxuxjhUxvActas2OwJldk4A9Q+h0UxkMz\n",
       "E//L2DIemE0/edVIpUIdC0n+CgPTgT5sdldY2Xa91i0/TlofGqqhznn6w8AFhGKcwEmfs6KL2mrk\n",
       "zp2zoO9XstdoT3nZNawgZqO8LQ8gOiZpoypkoxq9j3qAFM4QjGKsGRMe4ulHHZKKpj8sLZ3hrSu3\n",
       "RGL9+HK5H2lJlKOhH/5JEtqh2omA1EWxM6pxzeFlmj5gAnDU+mbJ15fXEpPwi5Ojoo4llwTso8Bq\n",
       "evctmxocFYBZl11p8IHSdrt1aJCfk6vjM6xctfEjvMmlyXLlTyGBtN6ZZZOWJ1Ukh5Io+/3WfCT3\n",
       "E9sD9jJY1U6oLQGUFDJACbijfYM9RuvT9hCWPhNLMEmGT/FNaCZl4OkFIhj9koQIgxGYkYsApOiA\n",
       "Cr0EawnI+IukyBYozOZzK/Ce2h+GXY4+4+CBEvKqt8Fx3CVT3Bn7HxeenU1+G/pyGn67VfG4qM5e\n",
       "2k40Cbr7rqFq/W3riEaKCrUKkXMAkeWjTUG7Qp9I2ChE6u50LBoGESqzUr0qtwVUZIrkpACvbcUO\n",
       "YfIqxxLnDJIkJ13CsUNlu/v0V+nR5F5RVLFuzDdhZiPBXEwxX8wG+Vjh3RYeK2e3aBJ9S/DudMmY\n",
       "gG5aVULU2cUWGzFVVUthMA4DFiNbxJdDeloPlAx/iila4/Xlh44BWP9NVZmrEuLAQfa8EDXN+YmF\n",
       "03Nn04cq9l/k+PCjKyktzB6YMkHb9agCqNKzR9XZCbMUrfAtMdeE0Kq9Nf6fv3tKZDzDU8xAAYmF\n",
       "9HsUcv2qsVgmkWIBlVoFSNlWamMcoFz0vXLLCSaFDWEAGyoaPuVnjcK1YAv6XZ0DIODZpu3stT4e\n",
       "NfqgJv7MUmTg3ukAie/ED6c0bs6tb0ucszZfxiUtwU99owcZePvyev2wYixdL7Mv6DYJX7duanmi\n",
       "xzAHSuE5Oc0ZvI7INseFgT/U1N9G8rkLOtmqhLVwl0ZaKxXGKU6Tsre4F9MVN3xiw8wT6dwLsWvL\n",
       "R3Q4NBjHwBjQLrx8CHI1KlLGi8ckAS85mrzAWIUqprSI342SZCSeVyKLaucTrDmIuKLq5xNuixLW\n",
       "/FnTg1XQbsDDBQYz52wZyrjb+1veSDGf31rh2/6S75nYyHEEocE3t5gqhJQCtLoDxCqp4Rvwdx8E\n",
       "JcosxdAC/AZbzTiuABzyIx8Af1OTkWnE2sXZ/thrw8GM2BEWA3r2CipNyQ+Qlah7hbdd3wPDtPNx\n",
       "bp0bulQ53WSRPWYRtMIsf7pCnyMwx1Lcchwg9UlmcvTn7sMSuFYD0OTrpKJ0svqUKy3CWs/0AsAp\n",
       "BAaUmjU81OQCUCYJ9TUzKKTDSsydSAYnyTgXT7GHQ1pO30/w0cNpX/k9r51HOk40/Xpw5Jxt2D1r\n",
       "6WWs/piRTFQMg4eLC8uaCGInLAkooXQJ5H8VjYFG88PDVuz6FRlNQZDOvtw7MbYY8lDEU4kOIuBp\n",
       "bJubQPg4Y3kVfHyL2+wIQY50ZHYeq3JMwTEvnWFVlE6x7bvbTaKF9ae8f1L6/kZD2HxjL/EO/puA\n",
       "CrXWozWS3uOksEpXlOuwIIySfjc3sJdNNeA7wmkbl+ylVC5G1XrZ5vsbWwqzqHP/QGcZHM6hEH57\n",
       "e9/L7pT2oNH2YE1EqIqFLYmf9swGF43iulgU5awIqtwceK2+xP4vd4OKFyj4THFwd5RG7t2R+ijV\n",
       "A6vxHf39AUWDVufbGZhc3JlhTw52kMp4wqP4C6tBzp3R5UGAddbubcwh1xgV3yeQbaaV4tKq/bbI\n",
       "A5d5vFYpT630c1BIzJsnTnhNb5XmpZ9E6pe6J74q5RarjVxjiBohgh6AOuDL8RykPsAiRQEotggd\n",
       "X/RX68gPv8W8iiXcYoBdA+pz1oh29nI2ahLOKHrK/+xn8ShMJYVvvp0YpyNmIUPK1g51Ma8ux7e5\n",
       "EtzThT7LMy4hkjf9bmRUnGvBIP3ABRf3ZTBGA9JsaMDO9fYl5e4sbb1reO+knFSr6DLIuEz9JQeu\n",
       "QQd+q/WAUuXparenQunFPwntAkuNCyITHFLgsf6GkATkiMOBpUijbb39KyeaThWkPn9uEeM0rd/u\n",
       "IqAfcRR0VnaeRxwot4ieTbHDXZTM9/sLGGPo6eQfjIgF8CalAytUPMZtjm4xJAmG8csh6b5Hbbdl\n",
       "4IiFVHhCtIaCtwJjnd/Wz7F+iX7KAaQUiyhaoNW0cw/D1puXITIV5n6Cp/wJigrykd3Po09feYDd\n",
       "AhjLmq8Ja8G7FwboCjn/ANj71lAN+vg7zPJEzi5CnCL7zxgY97u/l9H8oBXSiqWp2vyFL6Tm9y+j\n",
       "u/kqVbSY2zbwimcyqILIx3wYI1N6n3C9jSlDd95AHkT6U7H/tCJ4ZyYS2Or/12SGHews3q68zXji\n",
       "jtfNz2nIAA17aiL6d9A+vXAnWJKpDAH/1sZkzXrWZTdTKzew5Kl9oZ1WbkO0TPzeucUzHKBLTgcu\n",
       "kAeoQPNkBTL0+v8u9T3+OSDmTfdKLOKfs78i8o29Z4KOzKrNPX3IQZIra/eFeaCHJi6JuptawlCr\n",
       "d1WQBxEiJedU+4y4WG2vkIBtvPltmYwxTYf+COBEnSXyyx4tGEWoX87UuZ34Pq1AYkJxRmZIKTqw\n",
       "xKtxfdwFhZ02wah9Wej3gN7/l6QstMbMKFQUI7fLkX/i/KrGn4b0AaViMAZd9mELBKHXsmM18K1Q\n",
       "uPKj9NYk7qnq3TEQE5izQVBUCQMFGrAoVD8QIOPlY9cnB3O6b332osLq4tnhJpstwP9ZspA8WJzR\n",
       "aVIE73AhpwNRr2QYv2aLV2pH7V8IUoXumRk1/PKhTGok7FCPhNNM7Sriy8DlXvLerixYZL7tC90v\n",
       "szDjiSvztJYve+hHJ3q3DwODFRXhbIRGinPj0qETGNbe/PZSvxcF1TAuPVdMvPANlTJF7QM2aYjw\n",
       "0bTXcWjfwkJIGmWPjz9YPL2CIrvUcfaEvDDqDA4j8ymhp0PpjKJfTeKydoDAhPs4IzSwnphPCSF/\n",
       "LKayIHyNZ44nnxyCnkUu9yIMcIRjK3Wesbr79x+mnpwuiYQghQ/g7X30llKw3Es8dgrq0LlRmF5Z\n",
       "FXWyKefmlT7qba+EqxwuvtgOQkMllToT51ttnR9e68jButM93etuaAe6tZvdzTh69alZDkHwQE+i\n",
       "ubR+iX19gJpbQGLYTq+xYZx5sW4UPeKUEfav2Cj4UaKEBYQsgg9Gf0vzyyshNqktwezeX/JAKdUj\n",
       "fSnlXdDwLmpP0b/+cB88GaZ7lJRxkNqW2fLoEjoojxU+pWeYYQxzi6dHuuOzYTKUX7ZorrP2K4uB\n",
       "uiyp29PbCTfzdetaaAx/W3/gC6kq84pVyeoWf5ninbZ+hFW5EeDyqs7/aEaG5JP04ea5JB6WF8O/\n",
       "c0WtYAHSKAukfiNKS4/sfKZp3pdJ/l4O7UUyPLWGNk+Bnwo9F1DDfTqmym94Mg/7olA0XAwjTTz2\n",
       "fVdVfHtvM1wfZLMAAAQmQZ59RREsK/8BLtdyo+DFCHX4+bDnAhADPjzus7LtIQstnkelfWsnWOdm\n",
       "rVeU/RfLB7Nt/we2O70RAUvPdEE+XElX38b7UGS+6ujS/y0+ZQ+klxiaiJQ4PFZTuZn7aHtd8Dj9\n",
       "SuH1ffBu2EYqrM2VGiue6Or/shGYqkVItVQdnKQhvryIJAqCPj+NXC+IALi5XzUt/ugFJHHv0wvL\n",
       "wnBIAmVemXMo+3ArFv9MqJb7QytilcHbdXoQn4qAX8KKLJLLWpnnFf6KF29chJ/eo29EHigei1+R\n",
       "JhSUgqmh/Cd1rv4056Th0pIii1ZZeyqKr7J9cPc3Vbq2XI2xi6dR5uuzlzhvjFgXOI13Vrif7Yz0\n",
       "stB6wmdxMVJsxJ5Gv9Wz+VLrJKOUYThJ1qI4uIKwpbtSnOjEmEqIrZsu+Uv6rnL0KgMnInjKZNDq\n",
       "XKJbuElk1Yw8W8nqNIuLPbg2XOdYg7eKDks1zU0StahV8mFj1Pp0fsm0wBCkK4n5xkTxGiSPdofw\n",
       "LZrM76PyGILNhzGqkxxjs41lpy+EWqbM6fDaS6D9MG5Z1sdUrBgobi3D6MoOJHZFlKOzxeVVWb0K\n",
       "3r7qO70OK6BVDmnRiS9QSAXONz+/gcjqUzf/KYu1pXuP+PL7xiW7VDEIVY9M4E6am84FuamAhJpp\n",
       "s1NwrRz2iYRTKPT3Vj0mqkX8ZNyvbWi1NAK0q/7h+XBRkOuNkmCEbGzgTXrSl/hIuUEcZVTkDzcH\n",
       "RCGn6ZE1FvDC/T6veDMggkPLLjA27oDvJgn1Zpm1DrDHMhVirlp7uFlmfQaQHDqlQC9wR4QEvKOc\n",
       "PyGEuK9YZyicAA1/YJbH90VNJqTMH1rI1x6HqtcM/m6rSHYEwiW4w/GUBF+NxFe5Gadjobr/NFTE\n",
       "7tQvu4NUJmmYN2agqrtQSwQyypDxgJO9Gmr/RI8eBTg/D47BAGR5NmJvhnNbHoU163UB0TQVTcYa\n",
       "tjdDszs57MF2hksPzRuEGjvpalbbkxdpBa5rHo6474t8zkKdi3q5C4pnakPRuFh+SLlyJhxI+F6Z\n",
       "GZLWCiXQZ4Gp/sHLG4qjr8T3ZJisztLpF9X1geI7eZpARoDCAZuZcAxaeBCng24kBiCUFAqfFbVp\n",
       "4NaWlcxvxE2WFbjOHGEMJAZvYKcHCK8ZevZrP7+iBupscwU2NEf8mtLhGNX+tWktn/pjKuQR4vpv\n",
       "pfOwLM34ACqi5nBFcymlYk0VjNN3R2qiidnDF5zhfepJQf+QrxeyUNftZnRoqJDyC8VUilTHn7dO\n",
       "RRNMUjeyouW4MeC4rn2TloutzkuWuaJI7r8D1YPvoXYU7Ok4tKJeBuDtCcfiKGf1DfY5+GJuwzbC\n",
       "XEG+qZepyaQ+qlesXsqkz6FNd8EtPQnO3D5939vBSA+lvaVWbyEzX4PWTBh5vI360gQQAAADWQGe\n",
       "nmpCvwEthsWyiOVyA1XsEnepBIMe9mApMwUR9VK4atL9+8GrSEuIoASW3FSi9i5uaORUTbO0fawB\n",
       "Z0X9io0HaAkTHQaw6n1V7jPf+oU+GbFF7FOcWVDvdaSMshexvUbxneEnyRS66BXUsPsIQS62Pgu0\n",
       "6QVS2zQu7sLGSRVp6YVejphPcK10UTcp7+bZp0CU0RKMOYbKq5uESKokOYYFwLWbzQKcSe2xFPcz\n",
       "/e0esMuLwiMTsp5NE8DtGQkaiG0KIHsmlAH6nmcQNWc/ROZmb4cwECcsv7p9gXp+/kXjAVe6foya\n",
       "+3Zai0TAX8pM2vEPQmxQ4RQb7EttbwFcGtzTYc7C3WjFRQd4P5HoCsigoVyLDsHSFkMUneLBka6V\n",
       "Azgnqx2Djh3fL9A/wuXC4L0ibr9XvPSXxGlDXNJ002C24LWqcsCs+pgWWLWMidSGW/T30NqlnyCH\n",
       "dEY58Bg9FE8rMDriS3QhfGXiECTLtrEZJ5dgio+NxoD9myn6TVjb9kz7h9NiU+jFuZRFgLNkzZCJ\n",
       "ZqU78wJ8FSWRMTwJv5Wfd4IXeSSgACszmkJeMaw5PsfM3tbKxAjwGxl5jpTeub0ZmCVWpaNcf46P\n",
       "ofgvONFk2k0CJwDHbFXXdjsmLF4HqyXK+kMvSBo1Y8NNQ+Cv2fBwpKLJdjtxHm66JoLbROxpaA3t\n",
       "b7UC129pcmWJzfP3QU9i0l4Ip7aERK6tNMgRq+Jq5EsIwyJ89Rqo6xcTLFUdSCYS0PPxYH4lC6Gh\n",
       "mcegu4MDgKIfDbUwYE3wUXiMnmbIikeb/zEmOhHYr5evOuRcFbZ8PG8Nab5XY5N0Bhxm/0k6bzYP\n",
       "7GwcWu0GsiSMo4+zD9KmrsqU45tXKSuoxs+MsIPtZ9VuyMNsfhLN7e5JOSPpBfujpkdkSN3DZFB1\n",
       "VvdWSd1lUtAcTvndLoVUctRnYWAOk8m3mTIEEfANPde6foHAhJFgHkLpOPulrslwdIkwBlIviLMd\n",
       "rfPG2RzwO7gDhhTOIQuO7Mcy9Z41yLo+4k1s7W5xwJh2vsUUAUW78ycVvLIzA0gKqo8gh8Zc7YGf\n",
       "XHjbPzxbMl+oRLENjfUQXJCHT0Ot2u/eEhcyIJqUg6OGwRMeT5CtSFyFh4EvUUJKUM62QrcBK+QY\n",
       "AAAJjkGag0moQWyZTAhv//6nhAF/tm9MYfQyUMwAlvMsh4AW9cEZyapFTtiw3J9at3jlQIRavMUQ\n",
       "b6GVPNf1wR1dPs0nmLWbM4zvOcUk7ITfRpmTR3NiCih2dTUeZmUyObACNVgZnmX+DQRPZa/OkYNd\n",
       "C+YowKOuPaCrLisutxacCcg5g2NZLwdzGSfKkXfsnaMCT368Uz78vnia27Kz2q0rDvqqXsLKffUm\n",
       "1gjzhvn+U6rQHb5MnQEOZuq9s/P8u7q7Jgkmv06cN2w0coO4NqacOPNNKbdt0E0b/dGE10Zwdpys\n",
       "1rdCRqAA9w4qICv+7J0mkRbt6xDES1pmpRlvrdlWEa2BUp7G2qj5ykMU2Z270qGYMnEHS0eGj8qL\n",
       "tp+433kVSsZ/RKVJ3O4K2sXag2o4PApjqa/HYUcxAYCqcFR8ieLbseji28A11SevD9w7oVCa06XR\n",
       "+GryhgPxqD1OomXDvYjGNKF2MDMDOO0rZKapP/6W6gxMOioPkgvUdMBx2OCmcqtivy95uxitM4JA\n",
       "ttZ+wpv7VoWKTsClR8d+NOEk8GgHYUpThE69gv9369j5iUruolqAVNh77RvMBY4b4s6cufbacxKP\n",
       "/pxBtT/o3g65ZRQ9ULEXjfLWRgpGpNt3aqDYVHWezeGH8vOtxRSO7Wlz/m6nESXQ3YURxnFWcYqo\n",
       "FvTxCAshNrGPZg0CfJ4DyA/AAgB45cWrlEXDBHY9gpVvxUnvwNC4ECpeV1/3jBuSYr8/aPiS/nbm\n",
       "6g73BW6iwiP35hxELIA9MPy+ioYAuinJJ5MPNu6O2dnEyDsIog1fQsr9MY5jcr4wzxdaj95i32OA\n",
       "EdAlCsARcVMT2i4nLQGXOuD9amCvbyoN1cEQYxCBwHPB+1cxk3vE46ErVvOEEjsgfLzQHMQJ/k6u\n",
       "WMo8He4sbH6XkVYrDkzClJC8l7MdkDj2sgTV2Q4ljH5Ju38e7fvLm+o15CSvqiMVkYamzSYLzMKm\n",
       "HKJFkplYEg22uAahCg5L9SGE3S08df9WeN4V9kaaSmZYWxZTfZHeKkQDyF0SWmjtLUg1StUCOOyf\n",
       "cEA00ACstunNFhFA5DydeAM5RPkjemrv6R/OiWJyTeFy21NzdHnoeeHMbGPLGI6OMeR9WbaSTosb\n",
       "bCMI+15EdxYjWYBM2udnvQn4ZL0kkOMD3FD5Nzc/EQlqX5tK5O6CfbtSJvUGWr1OOpZ/E+UAM4hw\n",
       "hLg1zkeuXqf5eykVZHiat3qF4HZhpkNBkgTK+0Pcgdm+/tkWqbNV4xv/FedkRKh2AnRZ31/i7ih9\n",
       "kVFB4hNctCd/SDyNO5/WFzSVJ5bbb3AL4pHBa6XW6EpgmCacGHwsO1vi8V6ulRkJCsXG12Io5SPj\n",
       "+xhQ0Vu2Z3PhLrw7d0JFWVFgSzH8KpmqQcdWkZ8DRGW3GfNlb/OSI9rqcr/ZFO8jIXXfACG7wcko\n",
       "bIwx1jPxoTR25S0W0vqMktTYBv/pQ7BckS2GW1jrqu6/I4DQnG3wx6hUUKH3qm+5n60g7TXbvk7V\n",
       "Qf4v8D4xHxLIRgqYuacjaeOkHg5UMkbCcG/66fePbloQVUHNIg/5Tb0hXt65Yl5wjOVdaV9HIWGh\n",
       "4yztqq3s1IzU8ASoXfZA4SKhKd/aPDJh7bV2Ns6n4CP/M+RJJt3D146lbFARLGrvv5mGDNj2hoVr\n",
       "j/WO6Dn1q/XTRQfLpwMXw1Ju914LQclfv/qCO3vfyK2g3RmOysStdoRWA0Fyz9D2nxPqzoB3fDUe\n",
       "9ijpgw1Cp5r07hr48o5RYLuURc9R74LiRXBnJeNNwJ6n/HSc5bqEb6Xe+eDgjzquTAPqRZh6U6pk\n",
       "i52Q3QoL3/322KkorZlfD9ZaHJhyP/DK6wkR8mR7ZEgY6AuFlA9NOVPz/OHU0zFsJ3/OhtsV1mhE\n",
       "AlXSG1bfuaeTqhxo3eja7Eyi4p5na1YmO/bYDxovWq3SdnKc/PzvpaGwEfuUh7gryg2ANz/KhNwm\n",
       "cErXwY8ZJxG1wsrOFsey5/dyg+YZ+kQI5MtKcoCs8KQCeNG7LHhPvy4BYnUduZrr5JchgpHUOp1R\n",
       "q+zE63ipAaf/rJwx4kfm8sGW71WB/BRemaeY3gAsKSXxBzUCHDZ7RZ6SCz4J+c8gpIox/DGgCscA\n",
       "OVuII2GuONc6Yrz5n9i0RTeVKRxTr+ZCzWnxIkTVnq/DkoRiN8eYUS3+9jinBg8GXRPq1+ztRkw5\n",
       "pbtqfBQCM7BWUQpQMcTnlKEMHKHvPr60kxIskjL4TEGLpnD8WgqpL9m14PBVGPWDkRf+v99+Pxtr\n",
       "aldsh03SHFsZwT2cARgZYWmjgOUwaTheuFxHF0s0tZ0nejI8DT4zLiQtSzaGNLQxd1ivE+0du3Qe\n",
       "Fr+OSh05b42q1TLiEcMw7IhWqFCYpcFxXzXrrN/l8rupiBXKBJncxIE3RLlf5a9KWJGjGj1qe9VF\n",
       "Ag3Va0ZnAz2DTDDeskrNCilFQQ29dn64Z+y9dJYbSwGxqEJSa7OcxpX6Piuv22bKffDBOuPMa7V+\n",
       "qgeVWYSvD9qQZanSnbhY4/Gx19QUm6zkJSoKORbp7zqHgu21YBkEoOQBKGZeZOoQh76IUmKBQeaf\n",
       "N20l7nLEMH3wb0pNTEJOGbAMWM1P/4SBiP/bcHIgetPEvbwxc6xdgiqE0KGPn0eJXpMkzp0v0kyv\n",
       "88mWGI2kNpq/anF/SbrWVQUX11R4xVD29H6dj3X3jKKi42HssmE9D8hK2zC8cK94qZbUw6+q+T5/\n",
       "z7OxJXpPsXYl6KrOOS1tGY+r8yOGE93nu5UJK7ntNCm3n+w0xNYaKOYmyLDLPv4gh3kLq9ONlNFq\n",
       "h1/Rnb7tAlDxKD+mMWezedm7AfxR/rHAZ2b9znWE29IiUgMviDDc/DpsgGtJcQd/0myOiTLIx2Fk\n",
       "Ps74iJQ1YN51Ko2EcjPijjITvPdx9ACaA6UEf3dJvvTX+LPB/Ab7ujmpUEP34v+i54cHCNOMpvLD\n",
       "CQX0Zt5nv2bOxCBmvQtPgyIB5QCoA/zjGwiYZWgMeKJEMqEM+uO0B/271Yz8YgCfwmmEsWa2K9vu\n",
       "l40B7uE7g2H5/c5yR1faZmVBWhBLn9Pcd+CVDxEdDz3YCYKkKiSmwVhMign5wn+kafrD7C9dE8qQ\n",
       "sBGD/+KAdSPNYnzCSfj12kQl6lr6YNhGHFB3Kq60gQ51iXeqWKBDa2f1R18ni7O24MaG4A1fBQBh\n",
       "tmWgd9f1Zfkx/Q88PqoS8YPh/a8wj5onXuG18RkAJ5aylJOVziUntg2uNSJTfZBIneUMAlmwb0EA\n",
       "AAVfQZ6hRRUsL/8A3IX+vioJOJlWFEd2MoqI7586AG4ssMZ4xUo1Ns1dFwqOglRjkd7DBxM7NyCE\n",
       "tR+b4AWACndUcssbLQqnoIBSAH//jjarez++hS+we92cDAEfDbFBsuiUltIG0yfTJRbMk7osrNfx\n",
       "BF07XT4djnmcLAEA6g/bX9o+hS1skMlcX/NxGtjicKKn6HBS0Hp474vI6yVE8Reu/K0YFIPMJ9XB\n",
       "UZcwxSRkFTTatat5nUcmRKWNxVYB8m3sn6YYb+ANuLudQvOJMKAMt/UuGnhTQhvO418JT7cn8fDL\n",
       "CishON6/n7kasfdBAk5NiOshrXGATGBD0rCGkO6/JZskPKxXQglerLqI323bTsmzlfMQ3VqNdoWV\n",
       "CPc23w4XzAIaEZ+HUgeIzW80qjsRK5UyPV0UrolLh7eFD5ZKGhAcgQy2cg0R/cOtbMOUbr3HsoTY\n",
       "XF5oYJCP7Va03iiFLJByOnnqvCnb+EHJxBHSsOy0z4JrEqwiOxn2/llBZjfliCJXS7z8MEHvkknm\n",
       "LwHcYDlaD5ZE0gsGrjayoKUWIiBtvGhhigbySuESRWbsLy1hq8o4KdJ1avLo7+22zza0/9gD9xUk\n",
       "UpGYgCwgyYmOZrelJcARVGnYbCfH1wSnmEiRNQv62QQvOJ0HN2hJ+AT33Lwmzn5QibeEn067YGUY\n",
       "Zew/9h30huwBic2086VkG0kSidq6cuddhXCsEFCCUzKYV35kJxd9y3uVc+svKHiibdb3MJ46ndEl\n",
       "o+tb01CjKkv3IsclOBQj8+y5JBmTFTxfTJWwiE3pka3FHkGLCOsQhcBcrmHKizaQ0Uepf2GLVJKN\n",
       "wL0YeSFVJxbeEN+BSNxqc1fp/+zfRdKYT0mRpw6Ta7uJEbhMm4G+FcBYau5665ir1k4kE5GAhYyl\n",
       "l59O2zxVpAfvTnyAXG7yTSbVmpdhpev+pZSBKTz/+OBAEg9IiIacbZ3zbPBm1JR/4yjURbVhla5s\n",
       "+D7H1OvAOx9w9qlqR2nRj7PkxkHX3CjL5oJQA4goboXThu8zOmEuJ6nICmeH0V0IPsU4Zp5IW5Mf\n",
       "bDeoTfu3slX5llWm7DT9YZEE7HpqNNisun+06iaTtKLPXjMWEkym//wVHZ4PNsxoBPz9ZKCishkn\n",
       "asd63ggAdU+xMOaPqMCLGYDJ91DiPnu5OsyNtTG3kzocB8VQYxiLXCuA++5XEey3Bx9aQKzW0jtV\n",
       "W15IaOsvyEPCas0CEq0M12p1PiFcApItmNA9KDuzFf5AII7qIXMRnPvbmeynw5J3klLKKhdwrYA2\n",
       "OgcYjygxzB5AXEMi8hGhHljfxTO0frQkLjqqmWcHk8hzx6xlwSOQbWJ+1SVtkdbrIf6G94tgpqbN\n",
       "mq9UfQzsgJWyPCNhmioByRT96M32gTtX2w+w1C5Ul4Gg1ARyLCLW6v9vQKp7aqthcgJQ4ZRYPqDl\n",
       "Il8slUjtF2xUKJIBnrUjW8mP7UeywG+OwqWfX0uM4DaMHPCs3eHkyJhz/WWjNB3vJ7w1WdyLM7yE\n",
       "0XTefuGjRVYF2+2SEb7SbfKTW/MWRAJ/HRMmZumObSTmV2qf5pHKmTsBJ2T1F7pLtPr5KNPrJgcn\n",
       "rchqzfV8+SNzdwMrOe9JuIjH7J6NzqzhwLy487Gtc+SZOwQ+UK/phW+ZWZiRbxF/JfSvGFium9xV\n",
       "ovzbo9o2URuS2oAN36Ui/u9jEgVw54pAHRCExtWqiU8sLPLseM5TCGlwVYwE1FuamSxftdiRGp0r\n",
       "ukNV/fHZ7vdL7EuHy42J5RbK/ynH/6qpZ26FF9pGwFTvaG6cTFT32kIwSABkkV8WQH7o1wLgZ+65\n",
       "oTyeiaY2mfaFrAAAA0QBnsB0Qr8BLnhAgBNJi8xbbUStMyUV3XSokJmzUsd/+/8Fe41jJvQlO4qD\n",
       "33J0FE2mCAk1F5yQIKwEL9BunECz/ZVdLKcZEoXh67A+R+qbtbAXLPOcAnz9/Z1bxsvFc0bjPo7+\n",
       "FbPAr6dlWdPifXtj1wzufqsls3rGxuB0b/yoxk0gIdAjLWGwnF/wseU/lFiF3IsYhR6Z+46u/YNA\n",
       "tgjsFdz4iVMZKiLfZGBiu6WyX2hyX1WLZ5ltzDPMxdk1up7AcJBaFvbqmSm+R+F9hfCS8dkH1BHq\n",
       "2LbGCNFHRY1U7OaMu0xUGJF8dfrm7qZ+WkQ5KxzrIxfkG3a8PtXeJ6W/u3OJJJiqyUewgiTguawE\n",
       "fcYw+ZLlXJBX5NIrnm8ALqKmmJ9Cj4BcFgYvo7vs04W6pVZ01tiCesvshkpxWnBzujdxF6QjVuTU\n",
       "+HuoBcEutC0G0Ii2wnD6olc/IO9fAO+mwSxYmC1FzSOrmCQBOerI8lHV9/NNFx3jiaC8pAtQhUa+\n",
       "OGSuNerOsrNNpYK/6Ug9Q0IznarrCwjOzl4n//HAZ6nNhWw+x6C57YnucwMPNxPJomFGZEuhC+GG\n",
       "BmfEXVSK4WBKjBoYxAEA4FsYmf294KGyeJJWQPztjdRQ8o/YX1IkoqaGkS7f9y1DxZqI+Eo0M6QA\n",
       "pQBaCD5QLXZBUTBAfbMWFQixonxa2PdQ47UdQ6NZnTnDBm/emHksabkyQK8QliF518KwXMNUjCdE\n",
       "yEC8PeMgaVYFKTbEjrY0W6SXerx55EfH6CrlTaaYkI9yrAuH0o6YFbiOAWwx9tzbOw9H00krXt3u\n",
       "mm8y66C6cV/Y1a9CmwpzfSA0g/xPo6k/yNouwvB9ZI812EDWLgtS4DMbxKEP+WfkgFmqSX+PTug0\n",
       "ELT2NdlF4ilLLURQfUaRxj6jH9fTuXYucIIQxIp2/hnAdOW/aEqUeWwJksdtijKXnuXU+uptTIMu\n",
       "BcBmM6lcg1Bm02FT2KVTfi/vOySZ9PICgLSXDvWD6SzhpX8Ouf9wC8FbhMIqc40d0oljkIxTuz/i\n",
       "iKEu5pn76QKyQqmUxKANIoX2460LJZ7nYyhkfgmxxDkrAOHAHtmEtY8MmE9VzHl5IpUdMQAAA5EB\n",
       "nsJqQr8AsQirQ/kY6DQArHlVHYejl986bZJ/L+xwZLt4OLnc2xALImjMCpoHJ8lwU1lS5mEKVYig\n",
       "RJXFZdJq11et2pXOODUe2QwTwgjf1O2ZZa04UCPy7wNLPn3thSLnGRaW8Vkxo91Gzcdybzv0tjXq\n",
       "udMC0CTFcdKQaO4RQEjAnwe7PxtOdKtGVnhWR8cm+0ySn4gCuAkmhd5dZWSIcdn/EmjnopAeZTpc\n",
       "oor/bGutNwIcVBzKWe0WwxniztK4Lgfnb3BF/UH1uPsrwTJiTf8Am2mMQf4b+fBPFKvG4Ihas0fj\n",
       "USwGCTiCjAKSgrF8zeQ0yLBp8Id2ev7Q5Wuqflwll2OkejxYC3qkKh9LPgSJv+QyugEKhszsBUqo\n",
       "fWtlf6Ez/Z7A4ZPh8yJv8aOTNATxS5aVDHUaQITTojvDFbBtzkm0CCE/0oJyLuIUUsDwJyHyXBgI\n",
       "rLRCsU0CsIBmgEleWCZ2NGEDvGy1nLDMj4574fc/d5njs285J66U00B9D7WhrlWMwTaWQvCr8Cyj\n",
       "MnzvvNwrTZ23TdWMWJwZtA9cuwDnteiA5bAEAv1Si/YyW3tqbfpxaA6kenCS3GaO4IOJ5JrCxOMT\n",
       "aHUBpCA+T0m3zCDKLWfcBMNifcMuBn2HeMQMcgWgnEF3jDTeiyIYSzi67Xg9OfgPmpssIhbXKJPM\n",
       "0CaXmRrucQubcRrwoCmG1IByNwBNBzkdI/AXOznxd6ZZMMqNtCRkDmQbZmVFeh/7aNYeJdhgU6qQ\n",
       "PnAmKaYB0rS1RWwmZdC79jotpug19MGn/Xssa0mpHi87bHvPn4RpdOuNZ1i1RSIzpyTmb43s9ZcX\n",
       "lgEyTtXDXDxDmL2S3L62FRFVWOBT5TDvR5I6A7/5b1E+Vkr+MWlSoFwhTNgAu9lC9qoqqZiHy0Jt\n",
       "RTlJ+YCblRVFWJFY8DZ9JK7nLLe4wrykTlPcOegsQ2IV9d7j9hAQabKxp/NSYZlB90kIVsGjTUF4\n",
       "s07BMycStAfYFwbB9tuvsJRH1xO2AMEfWJRvWK6GaA448DmTitVEej1AE9Qv/8Zev5Hwql2Blqg0\n",
       "ZTio/xVa218bi80oMCXpLmhe9XxPZPoYHjgMrMr69Vx42tfRLULwLuDOrBsQbpUSo+03WAChFdr7\n",
       "ZKxJ8W9xhbJUOSvRPhMhYDRLie7pGAA9RA3qWmQeUfQpo0MuseNP5onZ3JYa5XNTkRglexPMcU3A\n",
       "AAAGMUGaxUmoQWyZTBRMN//+p4QB6/PKAAb7bG9Qv21iDLqBEGVeTqtD9DNjLR0zTQu3YrTlJVkp\n",
       "FE+bMu0MF43YTdyDiBBOA54Svf4ukLProOeX2okz4JEsRCVFWKFIk1pnCJhUpd/ewUX3XviiErip\n",
       "RA/TZGh9tZ+wAA2b8OfSMAw9zjR4WuprFuXMzbuby/37J1sqSkmeUDHaH/A5d2sKSoqRyDg5hjZn\n",
       "3WfkFHXw42YpOcLPn9083XjU+TuHu7VkeAGRt/gTyZDLvvmw7c964Avd/qBElaztSVNw8jOT9uD4\n",
       "S6zP7/25jRMISa8DQADtKQw9ZgE2GfvU3ANfgJcXK7GmWbZA28/G4OlV1WQ7LnyIw6JtsB9lmoK8\n",
       "/a//qYQqVbyIPSMWhuE9r0ievloac1JHwkTVLRqGJ3vN9YJCmTjkAOYmcnZkSpbToCcOcgNQoyyh\n",
       "nHUPQGY+Jfi1v2fmY02QGrtHHjjHdxnfwdBABIRVM//j7zsxD/MXQ1syJf9tNeKwbMpmj66BW/lq\n",
       "n0oJR7nYEQ9qjdofmbDodLoXarUQrrQkM4TBIYv2MJwTI7Vs6xrb6dwesYxQXWZ6zqQMi8QqlNhK\n",
       "DiRvoCzug4BtHdk4n/Oa6oqEqKJ6bp7zTEZmn9u3PlpOBh8iLoODG8sqm12026U1CprljPc6MlJy\n",
       "quYq5m89+UZ8YmYIqJplgq0hZ0w+JNh4RFl5Cs4lh3k0ksgl6ahmkZrYb7xdD8n2zmBv7GyQS7+S\n",
       "NYGxCg93w9Ty2h8AoeL05D3cg3aSUWi9gx1gQ94qMx9L4l961P1F7E5sBcTDQdOXXWcOFrlTY0U/\n",
       "hIMR56HodZD37mP7Bn7me8Jv8K4RDP54Jg7fOo4RV5ukXlpv38FPDNP6id5iIq2/g/OhnlcyggTj\n",
       "JfTup69ucE65DzukzacJuxBDqohIPq7KS4H7IunlEqB7aRbvstbO/5ABpgwBCn7wIWR+ektjU2zL\n",
       "Zw6isY4AvjwOJlGlI7QnJgix+TgLl7MiQ1m28sSt8F9ouK37I11jTyPPqaRJ9QL48o5yDdZwXcnJ\n",
       "pmduexj/TQbXmX/qpEBXSewgIgMEoMBNf/yEZVfVUcDrKKPc5O3L5s0o3EAAiniojBshEu13fDxH\n",
       "nElmY0QMLff+y4MORULkCPimUDfYXw5C0dNB2ucC3xMIXKEHw+waS4H6nlLkLaxSav+7Y5xulmCH\n",
       "JLhP75DHYryelkGa7wJT+QbOJMdruhT2cLblOqkWcLtGIvN/BFtS6kr5UDJJM6fCtCwiKBe9Fdw/\n",
       "xoacbIzJQZ3SHGfmvuUIssdfywiwRlBlb5x113FKjR6EaPwOra7CkDeR3hILtHtUdu0L9a5uY0U9\n",
       "6rlmLBHPlzd2YyFOTwcrpCCsUjhBlKXzGMSgeN3MwaCsLW+7k5azPxiCCPlpUzHZjCVSoQgWjqvz\n",
       "kDeSYz77koue7TSQvuf1w3hCKFb7wbtcBgTPytM1ik1tu88IHF0xBceOAIhSWW6Py9nbH99raWDb\n",
       "tUAENca5blbp6FJHbrXd4vRqLYXz6s8KPZKIiMgDvCf5uVUw77beZYQoVwBi8ZLYSmSHopP4i8X2\n",
       "WZfBulc1/bf3l26TlUdZSvzFThNXTOyrL1dW+pT1W0gI/r6b0RW6VTG8U0Ewd0ZV1yPAQRQ77Y88\n",
       "mkELiglPWT6w4XkYtg8TWAwgsjqIRLdsj+lMdxgzJY6iX9IfI22dz53hT4AxoA9U8/MUTnCLLlmn\n",
       "RH1E5xZJ/W7ptTrcLXDOV0x1+A8nKi6V7totBQKUnKteDgz4hH3s6qqTry9rHoCe5wbftzddLayS\n",
       "Od8YzDhex8/xTzZgm9H9CQo6mTPJ3ZH6TV9pe2jOlBtD2Efz/8DC5oPIWrK40g//PAzpZsJXktL/\n",
       "wDiDjuQMGlqF84cSKTEHFTwXZ+v+Z0dIE+RGksAJR/XFF8HoQI8HL/hES1Z81GmXlvJrBwbrLZNP\n",
       "T1opAMZDAocu/E2et/joebPixyM/IIcBEz4k17D3YVpuFkYvx7FVAcZfj1/CQKcDQPr4UtIkWvN4\n",
       "3tLodWFVpFCrD1OmmPcN5eX6ERiwtuLIlwpmZS8u8cIF9zgUsJOI0GihcD9+yr+V1M0AAAMrAZ7k\n",
       "akK/AVlxQAPXKmojfhvVh1+mo0eCJpH54jAd+gBY78oqwbV3h7hIXWU2vXwtReQDwlarXM1qY5gk\n",
       "9Knpob/j6/nHQ8InnmvAjlpE+j2Ki7ELuXts8cgjKS7TRclKI7A5rMQFEYF8C7W5jih1coVinrWj\n",
       "2fyeAG6Dj6w4sAXT9IbLCck+AhVSkX3QbaKTEbLMAoci/rD9PKnTkdrhjSjHn4KViSeJk7ZrYaPv\n",
       "ycomOaTThnbA50ZaG0ax/k/IjakzqwsKjn1Cn0DXBS/9OMoqggm2lJ1g+m62k7N9dsC+2b2S7XS0\n",
       "Mzv2qH7xu0CT4cwVo1PpCq90evSt4/wLYWVVMNN/qow2AYf9GclywznBj0B824EX/mV9VAV7JlES\n",
       "wHCTEES5TyrW6JoW4xosRaqR80kfxPDu4lCsIIvw1AFbDmAu7N5h/J6sJaPhDrsqK7thj8yZ/G4B\n",
       "ZdL3NsWiECX6Oxud7QTpweT2RCuNezCLFksGIzNoAAAIghJMV1NEMd1CA22Lo+5x1dYGoOCinA4R\n",
       "QfEWU09NBM88tS20YM+jWxC6gvMlI3ayK3U90L+NU3BfZ4dSp0zAT+7WiKE6JFvONpBMKmkWLEPv\n",
       "hQ3/dG0aZuDqIJ+v5jQgilbVRrJmtAnusDrIGPf8mGuA+9QkSLRR74WCJTs2Nstfssjz4M7RKcxv\n",
       "+Fej8hc1stqAM2wJE6PdKWn/LNBrKZK1+qpb2G7IOaONnxTnzLQkz6dMwb+dJi8Mq58kXlTkruur\n",
       "goAxPTUm7Go9FXO+xXy3qEaZRTMn8IutH6j2GLVpafKs5Ww4+2AdsLIT2i9buPN+cnEb2heS33oR\n",
       "H4Q+tYiTXYmWlRr7jmQ6eOcawYEREyEbvv62a0d5yDRSmlZd2VVpU6IzOV8XW+sRL5BRtuLRy2yG\n",
       "h5PH7XqiiAi4fCHZPW0QtSkiVMZKQ+5V4bB2HmnzaFjmNfR0EcFku5fkMHiBN5UCtDYfo9qYhvrc\n",
       "J63djDSmPKdarqfKggHbaq/UjUVQ1oR2LGrL2Sv0AoFbdNn8CzHSbRpA7xb62hd/JanDTjdFZ0JQ\n",
       "BIgd/xWWoezbsQAABYFBmuZJ4QpSZTAhv/6nhAHsZXzwhRkE2B6TvgBa96nsrjv0Ygg55QHQp4xO\n",
       "FIl+xDkMDDmPAKv76CsqRACgJtXVd3JwvWiqeTSoJd+M17+WY3Zo0CaOr6a1T1qkeNdTI4lcWi7C\n",
       "hHOEGKCGxusv/vlQj0eTqTHxp4gDV+kso0E/m5/XlQACyPNB8WRla4x1D/bxYeF2D819Ie9F6/o7\n",
       "mYQ0dtkkDAAAcwX3+bFr6Aokx9aZiw13pdUkHYkWwzLYwubJ43Zk4JJfv7ZJrFMNYMH0CZ2YXywe\n",
       "kEqKJaoUcBUJnYar+I6VqYdUajcQyuc+865R9jkXKTjnQeUykzXJ3bhqJnf/heGHuJ6M6oCi9tAc\n",
       "KE2OlmfSFGbMZpHOndtQelawMMk4IneGGvHmRE9eGcllKZcboinxcVZPHWHQoof2JiPULTpEPNRL\n",
       "izTFs+gOibdyXiMOOFxw+zutjxDZ8AqJvJ0kTMkP8Bj02bWuSUZEkcxpAB28nZ4+/O17vbKFlTJi\n",
       "SE67UPHfDq9R1Np6VMaCuRVtTWQTmhFSWxoNCSCs4cLR3mZ0D+GbjPkGCAUdzv4wfU6ii8vjWpva\n",
       "PDg8RRXC6fjC9sezKNSe3DsJ25TkUnfbV4Vy8EgJnQeIZfoTZuXGQrjTT98+vGOSxOEKJmxG/21r\n",
       "6lbJl0c8Q79ABUlwOullW9qAOn86YmfLAE1qWqoUGc0jE6oMGXufHRAFHxPs6myzSbfHGayvyBPJ\n",
       "2bWc1rCTHytr3vmkqJkW4MwOzqL9p2H7ovUbzp53vSGcff2Ep7+6KMTR3QfG1JnoeWDpXVsd7kO5\n",
       "ngZTaR9mGaBwhPrap7mKl9QHfB/QqwQaDfz7zV+HS8aSibGC2jFjbXaZm09DMdAIEuEjXcheyHi9\n",
       "uNZeApvlg1wuG1XigzcPT7GsAB8YIPBYJUVFfTMUG5qIJLpY8L+BsF8rEBUlGPhz0SE1nR9RHfRi\n",
       "ayndgKMHe+a72HFiFzlt9NNEcGNXew5ZBgCOiJnB+LZD9lDCd1Dl9zJVme1MaiDGvIE2bv8hGuLO\n",
       "z6SUiFFDOTHRri3nhEHEgbbc1vnKBAypoH1HmLRb9y0Vm9VXdVxjjqNkMWzrnaGFSESbcIoxLq4w\n",
       "PWzzQjq5PUlLH8mcQAbnx3+t+786bt1CL5ZVh4aCo6GWtwWzRJrafADrMpfvs3u9/kJ55hnLPdmu\n",
       "5tDH6NrcZBRZb8h8cZpJ5/7qO8wybdKYbL9vmUbtwz1A/eDyRiUQsNfhdl5V4pg5OK34vp1E6PqR\n",
       "G6aOPWw4htoeCh7xWS9HsZnnXe7LDrJTGtiOIYoq4lO2gX01GKEj0/sCOYk7O5FXxHoEP7lOlrbL\n",
       "wjUo2Hi3lv9vvLI9lqBn20YBicMPv2oX16Ow+3xkAR57L/26AJJaxL5n1iGndqhfdljgf+3MgoQz\n",
       "zNuVDXah8xka5hX4rr8e5eure9FkKiYEkLGnNEkQfJM33kdrb280FJzXHk2oFD3Z3cdo9jnu631s\n",
       "gamTv7nuY/NOZrXvf1o/dWOV0d/h9wEeEWGydiMG6uUSfQKxsc/1mPaHuZXs5xRUWU3KW5rhRcKX\n",
       "s96x2Dib+L/d1DQHaZMYbCn39tXFjlkm54fAuGIBBuLNBgP6ohAty/05azGYXOwFKEvwi9nM5T4z\n",
       "ZLZ7SRLf5TgAdUeVcPcBVZROtN0l0jtvPS4t7UHob9/JBQxKK+9MU2eCwI/Ryfk/bF/G4zv3khaX\n",
       "p8eUFJ/Ss5qr2XCbMofoSI+tFOoiexypQmfUvkS+Y0lh+KxH1s2ZOkr5UCr7Ge7jTXo1/lc5CnX6\n",
       "qexwuetitSFlTeIiWmv/8xs45bLzfAEuIHOu+atI5kPgJAoU6a6AHB71U0Ooid5u9z0uMZouIQAA\n",
       "CudBmwpJ4Q6JlMCGf/6eEAcGsAJ4/bf/YHdjAB+6xToieCbnh3rbay3QS1IttLLcQN5NEpieF4fO\n",
       "VkMlQskNfkzyI9P7wKLjBW880Bzu30zMXaxEyT5STX+lfTKATlI+1wbcusRxiyqABA8oqSejgZRd\n",
       "Ot9fXW3GmQCRUNs5B5TfiNX3nT4l+FKVmpTPAwTjrMO3Mhu9tAr756AOb73xpCcVtn5G8lmCxONP\n",
       "y4GnKOXw4KZS1gv/b6bzNLDACu6buwhIjckDrx9py3sa4Hwrt5b+V7ClNDgFoBilR1Yh1vl7Mmzz\n",
       "1s2uQwNM9om4iXxLw2Z1csZCqBsXHzHsu/l/YcC/yoDnjIytcOqqqB1kPbBiqekKBi57VG3vZjWL\n",
       "YnJH+bEkQeDLwAt38j4x7XR2SMhk1D7rV3PHVoLM0fpMbC2zjRKUC13HL9zkBnH1NU7/JW1drr+b\n",
       "e3A3XIAu5zmzrO5CoKcHd21alwe8yd3Q0cmZDaXxr9h+b968kUlGdvMncbtp5RSc1G7XrDAwpsjM\n",
       "SnWmTBPHqsRDJJq1ERepFA65Igg8bDWU+EsHG7Xobt0vOLJ8uYcD5+rOsiSORHuS6P2917QaEvPw\n",
       "U4NlqKnwy775I6FQaVaHKgC1148SoXcR2c2q4GNii9yJZKvKEp+xfThn8bjMfAwBs434SnhJC6df\n",
       "06h4SRy13DQwqBf/Ixh///9Fq2dfUwU574mD5bAhXABqzkD9wyJW8Hf/V5rIunPQiRH8PTXst4z2\n",
       "1uASfXFFqj2yuJ7a0FEHrVr6g09pTAdjczn8MyaQIzKSyaWVzspo+uu+JLfyosMgc6doMX9B9N3O\n",
       "xK8hQHOxTKYfNSEA1lpfdAiOXPIS3c0gIqeCS9qaEI6tV9B1/3Y97r2P5vQzKAAa7KZR1UAIB3Mr\n",
       "SzMckRbdmsSSxaKruBUTsm4th+YxjOuxPwuEuTcINB3tIV3dpmryBD523xQqc0+gAjid397wzTTO\n",
       "fa4axF/cmpinKLyl9ribJl+iraW39xHGieY5sq3D+c9/xOyLOnY+v/bOsvlZxVXIwAQwH20U+a01\n",
       "60Fb8guYBnTQymetJyLYy4794TcfvjJyttOMAbY7Z4B9VE44R1z/6WK3lpI9BxZoKPVKfhqe9o85\n",
       "4Jp4644TCPiMGfru29Li0NZwWf32xQuaFDP32YbGxDA29VbwMUlp385sRNl6Wjb/tELq3s0Y6yaN\n",
       "CRd9Zr4XgHLRFMZ3qp6Ys0EjRFYDH7Da20OL4v8OoaMpYW27ueCPpv+eJueCPxuKD86E23I+Tgih\n",
       "sOOMdo3sTu+Rwk6mXTmYrjZuhXasc8I8gGnbivaMwS7eg/7S7xlLqANffQSvwO0IJrAHmsd2l0gM\n",
       "KDpKgN2IwKn1wkkvZF3LVJvw60btZOdo1oK1vgC0ubp4xeESsfhCToouQhHYeJVYwKtgiCgTC8vc\n",
       "aIRZGPk83JOtOvvCqmR9rl7K6QIj3m5C04FiMZbOCxMqTidiRzL6ztNhveT5WCe3zmT1Tlnc5r9P\n",
       "ROv7Za5iE0LGguSIxiVpchQ62ErI2V1M4FpytYNffWBYFASnOz4q4hl7yVkcv9L79uBR2CtiSUZp\n",
       "KZayfiXBxrV+QGq3nqb8qoQLEVR+SFyDIj0GlhHeV1bK5O0KVMR+7gdmWsFeAz7ON9QJdgSPerg4\n",
       "jdw7YSIVEIAxBZuvQeP5b8RWBn2cZLxBt3eZTU4AxN+pCruMFhmisH9b0/0rlUhRBforDcLzM074\n",
       "Jl7yP9x6JxFBmQHJGHves/sk13CVzM9Za76VRvW2A58kfEwc7OYtOcLIRiiN8bwzLYXMa6TCmi+0\n",
       "dLzGHEijLIt6r+jG5Vc67PCNo3vLCwvduUFSk8pzSuHuU0yk8Ib9a2ZdLMjWnISWkRO7eawf2KA+\n",
       "+Cx8dt7GildCIrgzVRnRTBo2vBhfxDOo1F02TTJD6Wb1GD5OouIpDybFwWU51wW1mpgUoqAF3FEp\n",
       "x6hO0JFjePBI09UILbhq8dwVnt5WDhlTa9wvlNAbekvzG7HBmPceLkWc8Fuecnp6b6GCkSUL/oBm\n",
       "boczEnILlB+ZNkGea8g3uxbKf5Vdgd3nUqmjswe6ppxPR/jayQftLIhtrKGZh/CXaY+4oVBT/4iy\n",
       "r1if8hvP8UDQLmcQJ54VCS1vqCFA/SvZO8JBL+B8JTEZY/y9SZuHZkZb2dRrpKeVJZPsFfUXpHo6\n",
       "Dfzq7NHrs06h0ZkaEwNArUVn9pIGIsyJNrgWcrZBOYFYvJ/wEn2nTvm/P4GZTsVpEutmMJP6nHJL\n",
       "tNkef3SDI52YwBEBnfoJcJ0kNS3CgUF5ee4hnsGLpY93FVaMVcBfreW+ym8TnyPnqGIyNRgmb/8G\n",
       "dy6lEtOnBMvnlufytu759Xo2+xdAteoDiutn1Z24d9R8E2VIOkzuOoAPRmVdvTf66w/2UFieDA0L\n",
       "KkHELQVMpYdfvVrbimHH+QjvufXB/j5FpcETVEF13tWwAgeJSkhhzJFix6jTV+EuEPQa7faRDO5m\n",
       "/xDv3WAyBtlMBvc9mR1kf2IoU3iH1dgR8BQdywxRb+HyM1FfgDFTy9Wv2s8/ITR1VsUnxYUi8NdD\n",
       "bed++f6YXxP+QxmuwrfaQHXHZkQjneQNozx/QN5vEByMATwtAX7Qj44JGmucq74zklmziy0GsBcS\n",
       "xO7nfQmRCTe1DTPndFfw5fSmPdzG/rMscadlEoQm6Wt/5zekBHTaupIE0XJbADiIH396tEN1FofZ\n",
       "r1RiWwT5TwepRtxXg6dnDYIoJye+X+12ustEcO5CHJMo56+eAN6ssN/Az35Eauvl+x41mOIldtqF\n",
       "b9pZm6RFByJOfnnJYFDhc31YonA5U/fmnJXHN4bqTSaKCuoRB2Zyczd9vgQwhJL9T4DbNu/Fn5VA\n",
       "l7WP83/GphPT6BTTe/UFE4GVS3J1Kv2GeKQSsHQ6ljIrWbrNUY8iyup2NZXuvMqozDJ6VILeME/y\n",
       "fsbJ0AWNiYV9WmGc7/cKGY4RR2IFrNjudPcEDrpSOZeKyS0ZC2f63bo3pUS+hTOYGyKT3B06ZTi1\n",
       "t/l6IDvMKaZnVtHTEqhayb6iZ2KpEN6hNUL9ut9nxMr8fANY2KcAz2m2PynRdjY+nz/L0la+k82v\n",
       "YQ9XYItJHFBaHqA5UMf6Xjt7YUwskwvcGdS0cQiSsjpzle4WnEmYsJIKcFd07X+E08hcLv0dMctg\n",
       "VqFDMHtfQJof80S5eMsCQXT5eHk2gu2xZTdYxvPYjY4mU9wZoxUF26e/9p4uU+XaNRrAfihh+24i\n",
       "WX/sGrC23HLLo+AWYTFS9ZWxLD9jCFZQpYXFZyBtS7KWa/h+grWlvqSQYq3AoGeOcoJLb6zM9m/+\n",
       "HiHH9nMBbNaj4NqvjKSpxugtl9RgFqWSJ335UMx2VT7MUos6JuVQf9RbauqKhh+rzy5gAkFDLLGe\n",
       "IimQ11zrtvp9DLKVkK1C/iYwnVAFfKhpPbRnJ8KEBqXTm2MDByo1jCWbhUd9xZL68oxiDDIYJfP0\n",
       "ndtv7tfQonli7+ZUnRDhSqBvFjVLB/Sii9eTY184aK2Q9rVDtGygKg3BH3Naa6/8VLAko7LnJzmK\n",
       "r4Akprl7kAl5r6AgLWuPb0hqncEeuACGdjNZQ9ZLhuyEg4lJJvT53xVuYSiJaWedInvMZfZ5QIgS\n",
       "1ilyQvLpgy6aTRjXyx7gJz0EeB9v2nlgGVzbqV8i7IyhBbPqp2wuq9FDGqm3wnhw4WWnniplxSi5\n",
       "AAAEzUGfKEURPC//APf72C2HWUEs3Fc8WJR9BlYXiAIYqRXXCgJ8bWO9KcLHPiTaNqZljh4kW3DZ\n",
       "g/m3NUg6ARfTfe9EJwcLpM3O+bcng9DfWNnCc2VD5Ak93hdM7G65aBqNYtztSk8qXCNeWlWMbXNM\n",
       "Eo7b1t7SFhMLm3+8YuSq+OXSCJmECrzpNLZv9xDYML1eZIXbeFwKVKvvOCp/KXwYoYwJEQsgryPH\n",
       "v37iQJosRRw0Ah1dTxNS8C3Mn/Wx9e+wrz7a95TsoUvWKBrRr6wTAojiOBst8nHO7421IafIzzqc\n",
       "qezQkahMlSdw7seF9dTD5DjnetU8QYJEH3epFi1okXJaXI7EQfATel5rGa0Xs5u5OQwhWxkxXBLw\n",
       "1M2r8ooZ8JAubvFwQjafaBZ0kOTfjmB9Y+xpv98EeccfNU3pV0U9laL913act23oKR2OCw2eAA4R\n",
       "CRTfVVxu+Yw9MLYDeRuIaRKrzmHvrF+bieiqegy1OmnFolVHfrpuLIyTIz8zmmcjYChClmXSczQ6\n",
       "77Mb3Tzz8y6XmXjzOrOlLRAMhDojOhd60iaSPJ/CbBQFYP5+BFW6MyiGdv2M3oyrpQZlzamzEmI3\n",
       "BOTRuOBgGzsgXgNy5L/32qtIXWrGZHG1ILgQq7RQVqE/WFchARGXrtpzN5k7f2eM7pRMSQjBGJ1F\n",
       "N9FS8XR73mysHlHuJkAvULMlSX2PNFBr3bUsOEQ6On4b3cacfbXGcguoElDjShirADqSCQ4rul+M\n",
       "EZcGQ9UaflsOuRWEwhhKK8hVdtkebXxNYsPEaMXQaLbEPdmlLdSBtoqakRaF3y95i1USEiW3ltx8\n",
       "L1EpXKnY+iWp9PFR8I1wM9YiO/wgkBwPT4Eh0uK+rotiuBNi4qdHZ9NF8Z0EToZDFUrI4xqDnwzj\n",
       "wSLOtpyoelolhDGzJ8ytf/jUYiU1HLWp7EfWgvxX9aUG6L6eOxSnNyuYKTodC02bA/cjZpyX/Dx8\n",
       "suHxBc1IlIQKR5gAC140+xE1jYk8T7/dTYl4dfC4/1imCjK6LujleSC4c7GgK0GV7p8jeZnNLjmh\n",
       "ANoqQNYt87rRZXIxGR3urBWeX0AIqIRhjUjK33phRDny7RRGHAQ9En1dkvwspeWVRrFgpNFAsgvx\n",
       "JPbPLBeAsUoO5EAQhFfS+aw5MI81+nR2s4oJtsngHXnf9FtJxpJK7eHTiy6Z0sxG2knyi5/P8r17\n",
       "142VE9cvBeDbEizm7Xb6rHYznWVsVUYWaeOqHMqdLHE3ercFFrWoGGE+hvG9N4h6NFGVJCD+IEsm\n",
       "XeTeC610IcdmCkclmN1SWkBrzDMIOi4gj2Tinfgg6gpQApQ91VSjuZZzAQT4jL9pLekn88eoFenH\n",
       "dkMTDovhisMA9RyILE9knQ61H6s+HCVQubVAlysgXjN1jlpdeR90brcJT8C1LypLxHvE0SVORO/R\n",
       "QMtZGni3dDOZPtKcwHvikfUMhbIpYdE15Vcikvt5Anr3w5SoQ7mZFryCDPa13v9kaSGpTMzSNYNN\n",
       "++I5scIFVsob16JdQBwJJVpIauC/0+kDi4jVfAcF+V/FkNLFLbzZi6dkP6IWP9WiWyun3EeYwcMg\n",
       "D5vyu8tFCuWDy9FVNl7VKKVhRTaHyDyfd4foUfRYxKhhEsiYAAADLwGfR3RCvwFaS2O9+LFgJbgK\n",
       "smvbarABxNega80e2duwHYpGAsVS+D//REhUvGedmpw+RzZUGmE3Y/Tw832J7YPO1WRkBZetkwAg\n",
       "Doi06VW1HkjBuhDt9jiFS7/77pxNG1HOkBAR+oLdYMnbzqZ9H2iW1+Uz7Nv5AKdt21r+YSpfPjQD\n",
       "iGCkuMIqRTi04DtefcZUD8Y9iKf8r0Y6kZx/8CHVg/lQxPIlFUca+rsz3k6/QZHCndcYY4Bveo/G\n",
       "phwO/JxuVxpXfp/oGRcbq1xKVuGaMhX/WzKAt7MCXZOXnB4kmwskPJEVph077UwyV9p//FqYMdHA\n",
       "kml/S5pZwCy1zO+XbpEVbcMdMNk9vG0GdELe4EgYQeJLOTUo/3OTn8fBhiZMCkdWnb8DZk0kgofJ\n",
       "6i4drmCJamX4GjFCYLaxz1zE80HVkLNORqitunq+YRLxrsX9JdP/2nDFp/dRMBbC99gLCyAAbATT\n",
       "lE7kvayFCqaaR7iiiMKdkvcNf2ZPC+9nstz5zRll/mHK4e8vCmAyms1JvwGhGrUtD2YYdMMdsz49\n",
       "RDS5VejtWBs03ONxYcLHncRYMyxUWjVvuz6Dp55KdBzthMaIThNx0uFRJXQ3O4oRxpiL7g2oLItR\n",
       "ycjrqN/OpZ4wAc9nczdV6wE+BKQ1uFqNczyLTsRcnhNPq4T4Z2weqoPW8rBY+BWsLUYuIB1YH/RB\n",
       "KBTNGi6ruVpuZvWk6s72H+REUuITjfzTztrkKvVjnkVzExTkULjb2f+Ko1/fXQ1BcBTpNlaw9tQa\n",
       "Jlvvhcy2RswsL80QW+0yBQ+l09KY6ciPS5Wzk00NesJH4dU5ojK0qWxZNIZ0E6/2IjgL2HyfVXa4\n",
       "XSkF0BH7JbuF/V0hpAuEq4ish7GMHwCsFj9278gSyYPiNqgMqCmGa3HOuJPbuxMDJf7oRhoRQF9g\n",
       "hs/oFR5wpE6eJ2ZO0koajGC04PovE/ONlj4I8M2UuxRHfFZR3ieCKj8PdLKRFo0eHYNzK2Ne13Iy\n",
       "5kkHecmLYXokwvD3c1IFIlQn4GxF8VyoaKmP1o5Uei8lLf+1C1U0PWSswfCeNnKzprYKKazTrXAo\n",
       "AAADVgGfSWpCvwEu13Kj4MUIdItKNIdyAIWy+gI54hGp/8gpeiJ7+ENLU6X5HI6dTSj2ShJkqrTj\n",
       "K86cjYmeqpCetLy10sEGJtaRlCBc61ZonyiwBQLlqyCutCgzZX6Mkc5d2ot9x9osu2c/JpFDzDOu\n",
       "2nG9aAqJqjB9y88wS5M1QdiS3i/12poEgG065OixLC28O4/raAK2Y/s/4Isne0CQNpotIzmXz7jS\n",
       "3BpabrNQaguZ5umH9HNNW6pSG9/Bc4R8My4GYW7G4C5vwV2dyfKzBH5iuxwtIVoYjFs2SS849ua/\n",
       "CT26ROK+lbtcq6ZftNbFkzqCduG1aaMOttV+XMLbsQU4zvJTl/n4h4Sz2nAcexfGiNqmP5CGNG1M\n",
       "rEiA1E4TuDjE/2VqHb/5NZU9uvpfcclPFEPo8XfCt2g+1aUpCA3Iu/I14vA42iQk7eNv49IHLb+U\n",
       "ARFKjhCL2haIUCaq7EvqAS2qTlwlGQ2SUxiLuxIfTnqd8gbTd9OVKJNGfTZKQOmHaIbIEMjzmtpe\n",
       "7AFTUdDG5GmkqHLdHtcVRqrHOx5FdTa9+xu/1+igIf5cZ84rypBeUya8eZqkt1TV5DLAgjD+mcp4\n",
       "8N6PGpTX9RUTlJFgytABKr5yun1xF0vOeux/xbjIP5mQtUGd/vCb/4vDjywFFo0hlkCOmXasp3vS\n",
       "Xj3zp5qWxD41/q7NG0SlQkM0oe7OGohzqEkczv0NeS3NOxVFBmPMQkj6SDEqYWgIoHqYdEKTQj2c\n",
       "nOFRXI9Bzp7oTApNQfzX6Q9/NjGFCxYODPD7SVv/3wCwsUj/vgZcEYoJHqAE4V2NT30C+NV86xE4\n",
       "SSWouPzvq6WYc+Q4SUqhRZPAN9UmDTWBghPUhYYE+YTqs+zWV2JPpKlTnzCCe0CggCuv3+zjaZnd\n",
       "IgrM5hbRevLxctCOi1wVRezbtxptP306xSuBt5YSXoLcqnw89Zdh7X+rVhz3TvtscUAtZHN/+/JM\n",
       "ac9XEL9AwuO2NTEG0guikWn9QfzRzMPZZC9WFKufZ+/7GTQcZMU7rJkXStudCBF8YYOe0o+aCgnW\n",
       "tXjo69zBquHx/CUwG4nEwyVLFLE2wNOS+6AG8cAeQl1xIuSh2/VsHDGbsPJuyIFBTTARBqUlS8kH\n",
       "tVExAAAEekGbS0moQWiZTAhn//6eEAYIaqy0JoUPUV0921sqzWTLBpDcLwtCaIAQIdN3iBh63Nlk\n",
       "OWxMqjwULi/hU49dvM3kyrVHBe5SwYXhvp5FNTrY792v3+UsVlkZclq6J3SgNEI/IavOaY1ONAN7\n",
       "9eWKpkjCC/SSgd/3ny3IG+s323shwJeHQkb0oOBrCZ7zf5FL5xI56lGK9wuSirLXD6nyjDijQ0Oq\n",
       "+GHcon9285PuiEqE5thrdOiGOBq3PyVH+puDNz20LNERtf0Rw8v3eZlQEaWcjLa/WRv43jnf79+v\n",
       "330MxX9Rf6mx5rZ+NFnYDW64WKfF9PChmjoLcXEFcZB3JwT7m4fUVKCAYlF8SpDM24R+oBJHkwPK\n",
       "NUmjOmqXRVHg9WBYwPPh4dFBoASkKo9HeAArzDAqMZFeyYqob8Q4Z/Vf9W6tonYAROIWJMkr9tSc\n",
       "s/SitK+BXm9+HNV1NQUOK5vVRxFDnnP9oTExDyN/WA0O4czuqA7qq21RHEAIKQbcr9EHdh3Xj3Yo\n",
       "Yw3VEPyv/TJD5WCIRSmSLSS7jl5Njlbvz6S01oKLmNe86BN5Xqotpv1vibZGC08/00dtTXUIffsC\n",
       "Mw/96G4qjgSzIAyrl/Mvyr4/EdpEGzM/BY4NasRTioiz3ORd+DFDzcsy5UwsjLLmL/vScRnhSH4c\n",
       "DnZ4S3x6xpOjGL+u8GvGI6Ov7vvGTzLX5BiwzdGP/yzamyD0dojKMHslZ1QIVnRlIuivUvQH/ZZW\n",
       "sNhMfTtsURUHU2k7Ggp4ENYbE6Qp1iCmtSn04EJp4lfoujo12rQUBMCR4m5lSxRnRVUX8+CHYmWF\n",
       "N7iEXJAucsxdoydtllRnecAytirMmFi6ZjLUb0Gm769Pmxd45n19lyOflENPvZX2NCk+wCxUhuXW\n",
       "jPvhj5iCM4Y3xS4Czl3l9Pec9XomvuqQEpgC4uMDN0CGzom5jMeqqHVNhFFUVjkM0D8nFy3uGJx3\n",
       "UXFiYHNuAF+f4wBHndbYToct5YEFIYZN8Ajv11wQ1Vk/X6lWmOAQaiDxHCbR0QTifuwozB6wSC3b\n",
       "/CtYPVk5hoaLt5opLwE1GDuM69lEseYtYcnEiG0KeYRitOI3Ox0Vpw9RdBaFNO9IeFzKUjd+pzNa\n",
       "uDPOOIKZDY/wdGb4Xpzkw+xNij80JGWpX5pnjeKT1t6nrHjAxMiWqFaPYaoHngI/zEI5IM3qF/V0\n",
       "SvIFSt9SkiTzzBYxcXs392BnaFxtNcSLSW6FF0VEi1KpHQPINFGuKfbjuOL3jQ769mA1Ob9y/lR7\n",
       "mDDS+KynAuyFxMs+GeuB3emDWGJlSeRy4qQojD3+5FgNIjHmRxwCSjdl3QvvpNGqLaA8TRT8FtPp\n",
       "MHtdxaaPDtoLpPAMt88hdO3e0ICouwUWleJzCOCzwUzfyWeDPgpf5B+rIrTYbXCz3kS0gE2O4Ui5\n",
       "WuCkTI2cSs67HS/WvL9gT+Zq4A+qp69zWZcOrBFdk2foXM1dLyKKWaIUTTc+82N/NIhql1DjYIAE\n",
       "CSPaVQChnFe6RHdfwAAABw9Bm21J4QpSZTBREsM//p4QBf4+2iyeAyp3TUcwow/WwALhsbamgT/I\n",
       "HFcSm3ZfnbBswGEX0MNlFebzFS9n06mq8HTPEsnHP81nTUlao0pGD29m2YfSfGYMNL1hNVyjeEQa\n",
       "yLPcmhF+cAvbfQyCjBPBpxXJ4R0DdkU2hNYfeuF4QDIj70o7U8prr5z28po41wj0L3i/DNvufpb3\n",
       "qjvQotOyg8GAnzfu+AB/Z2y1sie5NysaqutbN6EjOqGO7MhiZhUPVV5qNFcac5f2KKgnhipTslet\n",
       "NjMMENnhd1WWPX4tDg0Nf4a/uCvExlt3OrAR9Lrt069xsbMWyOD+b0Dcb0/LrZ5/9VxmQKgYJnDH\n",
       "I8n6DeKb/N8mumW7YgBr3XpHH1UtJk8RjDJHB2A92EoqcMfaMXuTydTX22C1Ot2SDQCFNeAbS/B1\n",
       "1djdRtiAGLe3QZkovbzdbJdakGEHCYnZVJczFlz4BKxJvFptHJfaWGiGplifzWJpjSoAryBaYi2H\n",
       "e+Ot1kLfz4QoHjc9/34YyLPqKdqbYF359Agl7ESLmYFve6NId2Yg3v+pRsamKDIUrRrrAZY3RCMr\n",
       "KpkZ9urJ7T8kzxDdFmZIG//gL0hAatSK8A0S0BwebBvu1uY5cvUuNsJJRClHa06ix1OUo3TIJ8u1\n",
       "zsvngMiVlYzmQIKuaWBJ6cCPfjGkDIBFWIWX+jmT8eaWyLHCrnR+kId1YDdUrn2WY0eTJvrS9saV\n",
       "ng3hVkobpjeox3EGmErHw/IOgzUPFseFSuj8ZFpyg/47JDG/b4kU9iVUvQbR+f9lyM/X1hcrIqG1\n",
       "orM107nvaXT5KnZf6G7kIZqxABfuWTYPzgsu3t2PIAR5Id5GqNomnD1O3zyMym74/n66IiAin2oA\n",
       "X0kVddrvrV1dX4e8uVNcGBeQcjTbaxonducddE0BsIua1y+YdZDhIX/1faeiwHQIcdDjNYBDgXeC\n",
       "NX/1NPCuTTEHuHyR44bzq9Fs8Jzgpo95c2HiJOs+bGbTIeN1r112uo5S92UVJFRESTY2puJraNh8\n",
       "VIOhEJaP21DIBWGpM9Vi+hBQqtH8WMxOLBY4J5PMbU3cOf/Mu/BGZ3i/thJWzN1/dNTHDK01oxAb\n",
       "GXgBjS/TNxALRSuovoEKqZxcWktQKOs4MTcH5kYEtA7opMEfupBg1yt0Q3Zo6pGef0csigIrFfEI\n",
       "o7WNNc3EVPWNSQKeSyGCz1ZA6StQ+XCY4oH1HCctqcKoNCeltC2H/0tGl+wjKP5HGJxpMiad7tDc\n",
       "Hrblbp+fGftVc7L0wLxQkLby9n2A62xHZ4Z3v7IKaAWoCg3DbJw4Tt5inWTYz9NIq8hKdEF5y8L5\n",
       "6ICXyLbXoxCfQSf9eIt6JWCrwRs+MGDNRlBOhF9UX2iYkx9cWslpdCYMLA1ns412mZ7yzzD8My0p\n",
       "37skhXjWLOe7S6Amp80cRsZMFYS2wz1Kh0zQ0pIINXiSRbnYe4Msjl9z+I+4xV/ji3o1rrzm387h\n",
       "XIfpgv7pi5DTt980Au2NxncNz1BpPiccJMN8+wewBrx5boAP4jT92HUUaMB732GFktxQuLZGiF+e\n",
       "4IeglGwTKNAReuGejsRy2flYEntnhvjrWdrKeJ7hKITK+b8h+AdFvBfzgT2QE22QZnkRcteRPCL/\n",
       "DQVeBiz6q3vafSHOK4s/q/NiSqpNuh9cUnUx03FNTkQW4UWeshM9i2UDMYL0wKpmTPDhlvagz8wn\n",
       "LLaVsrv5DACX2wEYo9rR0aD1tGi6USNuxGjXyuiuYz0iiuiQX7FTWcRgWSJAxPHF043MDrftYeXE\n",
       "N6mYrFmUZR8TIInJu+7U/U3KpBOWKTJ1JivuDo7bykHGB5VDAUSERhNFqTz7viX8y4DpeSXtZ7/e\n",
       "2L5rI1oix4IUA3e84jv4dx+d3xZ4Enk95aZdDahidCYvbI5SaH9Z/Zxgcx7Bg1ZxXoBLBgO45+Yt\n",
       "LGj1GwabPA8Y2TBDujgyEB+tjKb22hFxvBq5P9WNUHHIfY5r/nGK34t0FB9HI3Wv66Rskz7EIhoY\n",
       "rd2m9v8HPLPwpOzB0v18JzAcaqxHdstt00p72yaL54KlDABTKF69BxROpoLb737n40EsJhU9fR7S\n",
       "Be9arDamoAkjZUlD18qwpSMyitYxuBb7o7rQM4UfPrKf5EvWsFWoBt2YGRofn2eBufEpe+17pQFH\n",
       "IJ3+4f//ffxmup4AFfnMObqF9KOiPIbys0zUgp2JOGRlYcN9jr5Q0L/QwnhsU/RDZlbS+uyKBBTK\n",
       "mnN6Tv6k+OUgvJS7HE7QRSp+19UfEfzVQQjETp8N+QZreNkNTczDCgANql8OYN8ODStkQw/a+NGX\n",
       "mFmv7fq8WXVedkVNXy+JKAYnrWo9ueb2fQ5CI95cNwkNNyu8lVuJFdbalPAHtECd1g5SPTPuZ0+A\n",
       "AAADMQGfjGpCvwE2kC5R8/du4lolwB5/hxD6QlKwZp2OD8YMCm54wpfox69gsOLAAFx08fYOW0Mv\n",
       "N0Y/csLPCsBBvjy5PAvrxMQlEST3zncGtqaB6CobE70WXf1HsbjtXbHKHXKIRKvQpD1ZBN5TMJDp\n",
       "h4onoTbWz5CKq0745Q0lw8KEFsmDjsyrg0rUzk2nR71GAB8E8lGbwcsZ1yX+Nn7VV5V4gKAteXUj\n",
       "lVafTHJpsv9VUatMVrZ3GZAn/ZmfIqSV5DfQ8Br/QV2jNIikBPfxnyaTsicggm/cgFJWgmHFT4Yk\n",
       "Kh4dKF/qj1t3mbqPlPrblloBETiqFcA2oZlHfuoB50heKpHo6p5YAaH7/+2LtfgORhIaeXVnKmhF\n",
       "P8DwfjdcxLiPwqDmnKs/1CG2AmD5hMOgkfiqKIDUZ4qvxjZgxalx9UvQbhFlSL1VoaFtWXAgOOc7\n",
       "31SzmrHOQS//RwathW5prH49OHWA6tFZ2NkjoRhWGtFTOTekhmfsga0KNnYcLPtXwKxSEX4Y8R/M\n",
       "rMWrq/Hp4tDTtcb8p2rwPdFqyp9ZpSJFiiDQ8DrO5kUFQY6XAbT4w9GCLiW+6bDWXb1OiASlgqnz\n",
       "LfO5YzqZtk3DVRTASM890lvLNDf9r/10iVq8HXLWXdecIs8+z3RIwOjsPeTvTB32Bg9mquBeVSBC\n",
       "wlrcFSzo4p6KhVej1awUzu3UHRWR0u8s0NcvgndMZpxbQNQTF92z+gezpdq42QkAikpxoNGMV2+s\n",
       "EToiyKrq1nPgX63Sr+nmzGjR4ik2HldTgrNS6jsbEBDjM36Y1S68zwpY35IhN2SSkOYT/uqse/nj\n",
       "C77+U09N+agJfbn4GWdP9W4pUHrK+oXy2E41vQOiE27wuyf2AuXejKyC+Fpd4B4SuVDcCM7t5tp4\n",
       "Yykbfda8/PawmeU3crNqrggUhzepmoS08BsAQ5b7v4wAWJRQaZPPka0I8L19ZJQJp2/fVgTGwWF5\n",
       "ZCPzrJ1ohHtyPgz+y+PDQqdHfqzvfJ+NDEudCN5JSHTW6jys8GL7pevPR4ZEqJPT/+pm/Ki+BrLK\n",
       "jKX5l6t9zNlZJOBTkZFlWpW1nK6HE8sAAAYDQZuOSeEOiZTAhn/+nhADWu7SgA9n4RyMu3TwmHXq\n",
       "mzLARmoalMjRABjVagJdeBsGPR4PikNwqu7bgnpTkGKn7APmH/nxNEPK5b1cK/n/8PmcXCuGav+d\n",
       "IlJH3j9kZ3sbsGhvWlQhfXUj7NnrDG0P3WrQ2QUC7/ISwB0SiJjlXpXXbrUOeSAw6AdjYLGDrTeC\n",
       "Sg5wIoSrHngtNdbxhgoe6t03VVfsS8jyqiq5VinUrpSiRtB6THlz2IcKZ/dCP7LlP7tHxqv56jPd\n",
       "Vx8UzT4JRBofC3F+mg/mRSH6eicTDlySpuUyBsIsOkIB+tBuoMkTHt9+ku3TSrg5b4Q61NLEatcr\n",
       "yAyaLcRfTyiO22ylaEIRi0LAWOYq9sTn3gvkIXJN2I69qvLqYZFmqd3yZiStMXmvzBf28m2YqIbM\n",
       "UecsTcJjuL99ADuL4gTVPP8opW2+wCaUXKt07REPXITkH3kLJODBfhC+nUVosv12yX8mJfjC0ED8\n",
       "cyO++rDX/mauqYgE8iUwFxPdC7e4QkxszoUe3AqhmMfeuIsizl1YFkRTbTEz89wSKaCP4bUQyVpX\n",
       "/Ar98zq28nTLdEDury45zCurXZFfkYRZexnAfyYY1GMDWpFkxvLtrlb0EaEHwsIutr7DOEl097Gk\n",
       "VPpVc5+sdA3wSAWlEW5rgzI2Kr3vqdi4gyoNdbRVVG1h8CJdzQZcPnp9uJDw4A0op6AnNQnRWzLh\n",
       "cJH0ft4ly3rTRW2KLI/9AW6JozKxOEdxcmtUHeujh/MInKBYQoBxxK/yFXkoRhF0RESrlGmTpSl6\n",
       "WCG7va/zUSatp3mI/iJn/y39/YxjAtMr6EIpi7tzQogUtWYXYNSyfQWSAzxdDMHpCfVgnI19Zoeg\n",
       "CYfMVBGIFbcpCfFxn0tYl40/NuXvQP2CGfkMkTHS86/s7AKC+HoqCehi7vRMrzRt3Wl5cuTLgxZH\n",
       "6ScNimUjs/sd6UbrQVz6HeHXP1fSL0K1UXRkmIzFbVHQotWURFykbhWbpvlk1X7rdWvbAQLfW4c/\n",
       "xvRET8ZufsMnIz6rVlY09i37AbIvPRxsJHluTghTfxkD1SDAmizC15z2CpIi2F2v9SfpKfD4Dm1/\n",
       "0PEoefDxy7qn6vLcOq6nJrssOvm5+hHBjc6jyZhoQ8hr5RTul9Imj45X/Tm+9oIaBAAUkO/92q8d\n",
       "d3+gRqQyRYxLaOJoeLeaqTSep8XkiAcdUcKupnDgJ7YsJ2sB6XB5f72jKTmHJZuisAD3fQioLllp\n",
       "ZjGlb2JnMv2kfkTPe1AbagiysufpskSxpmeRKhPH7n1h0+cuusFUCnd30pcbYzV30Vl22XiavAFC\n",
       "WmDgn2CP9plC9durGjYbbccgxF9JIbZ18xcbs4Y/pcV2eP+ir6celvu5Pv1b6mTLIV6rYwBevgh/\n",
       "yjGbeSd42I3OOIc62SahONk23NylnVQN8De/4Tvsd/wPghKTSnRvKtnfjM0PeTVKfNOvafxNq4/K\n",
       "oegoy+kcw6Kw8sRFuuggJAVOIzugg0gnLjcoFzM+2oXnL7ogLb7piVuUZy3AVY7buY08HsZV7VSJ\n",
       "RIiAVnqUopAtUcQEUux5+EPk+I67HlsnfcCELEd3+oLAHUZb3vuM+ZtSad97w1gOzWlMmwGeAWBq\n",
       "CuWtgx3Cina7jvv6IGIgCEJrD/r2YRNotKNdke4naTjlXNkVpvRSBr2WIybaLASJXUu8gZJRrw0X\n",
       "6t5OaD+8gQQ6cW7VgAHTD6I8THvxM0RzxlMkwPlq8hTx8mYw8ZSDN222Sb1HgFV8uBsI/3T9gDbC\n",
       "ySZs1lYnOItRgEQO/2OcuEZnKi9SKvnfBw2qb2JGKIOcBgU1sg4vs0srDAyhTTbyejCVDDJdsvam\n",
       "FR6Jjf8ajJYwmJVbwpZDZXXZ9BfP27uOq9ptfrXIMOOTxUBIV0eYYpGqFKw1A4DXdvJ+y9vJIYVr\n",
       "6FiMgMFJoHShSJvFOC7nv6MqUR6vuWwA/Jvm/ARVLI4wrozd9QNgFRTEbmZftxL01avfyiKq7vtV\n",
       "/K2UNuyoors3YKZo4FW87pHh0c6qOREHGfHBAAAGfUGbr0nhDyZTAhn//p4QA1wkQZt/EAJd8lQG\n",
       "72xkQ6bhQR4DhVrolpZc8AJpQ+YJQUNv1WbRBs6tlXITGnEiyg5bqmvxbLRpKuYyPjIX+45bsHL7\n",
       "F6H0v0dTZ4zj+CK0AxrSGff/pYNtQ2sjxpRkAKBipWpo7THKL9JK1dlBE5DM0PpbVFOVI2LL/noM\n",
       "kSPif60sH+1bNPBqwORy56pxuShyiBjOLARW++5N0AtsbrN5mo/RQdPQifRvc5chutFyFfSSp+78\n",
       "pYIJr0om6NJGnXxH5mRY2pWxmthqNAzKSvzsVwAGD5LG+Gqo5e4xHKVx3tHaDvJzUXh9WfxesVul\n",
       "XwfcH//Az37fOHFQks1NCEvrZGv6MEu+ho+jwiqJ/o3w6ui4wSlkXg5iV9AgXdqb6Jd/8pbhrL56\n",
       "rayLdnteZtF/p+adfUgHKYzZRoD4SyFhrncfzZcyvAsknGx7rD/cFYlANVI8BnOxGd1rfLrbxAtQ\n",
       "lMSssDdDx1gk+hcwPxdSNl7sE/0aimQck5BIqh6tJG8NUHH2x2QSHPhLb+qau0t5FoNCmthPZPwI\n",
       "DLLjSXZNAeTf5vqrJaartRsXhneblQXeEP3F6aicRGMbWX2MSiCjnztH4gzXcRFidP1pLW9b1+dV\n",
       "+QyEUwnCkOHE9xqZ6+ktUoBvehO0n1SUzl02EstKjgRVntvI06OGOA1ILqmGtj3PRJqUWQyQX90y\n",
       "NwbgWG4RqezT9K0veaS3905BXdhhxCfkZkC8KWTgAjhW4XxHG0jcPV5FMQrsGQ+ANBCANDf/GjKO\n",
       "VVXmHDjnU9FRfekqrTygdPbD+917HV/bN/JJC19//oSUSt35DHMYNy4/+Jumh6vK0envyLv7WJwL\n",
       "XyGCmiWgyeFAC5+A4GqlbQcl94mwGjEu4V07oZ/DtG3MiUTptD6bh0ZINPyErYMHHd3999zcHdvf\n",
       "2+fDIbLTrhX83SZGr0gc8ojNsrQK345hf/zUMK1d7juxK73o9EWF6eN0zPXWsDn+LgF3AtzZxJ/T\n",
       "sSPC8qrC0uNUqMIXpJSiAlbyheCEX23Jilho6cAKCRnZyvKQ8ISVjnSvIR6v7Ytmr402nOpq8Flx\n",
       "zL/CvtiwfcSTUtgubNvp42Ebx5Q/n3R7SmMK7kTy8PYAgkb5MOxnT5FfL0IU4KlzUaEfRYQOdsHR\n",
       "uApSpYz1q93qxu07WTJYax1f3167E5y0ftDJ5txXU66E1Hae5uHsk6yHv2acFGx3fNzuVemdxf5i\n",
       "0JdCym7jfjWeRbjST01om12jytRFqcinZt89pcot8klxy2xezlIM1k8U+7ly7ruhYpoQdix2yd4T\n",
       "gFLSrrUt6d9hl864KH8Co0uYuRQEDDjhST8HLVD5lRv2NDwefjGNlDV9M9gkB4r61dDCB2XcaEne\n",
       "UdQcjLqruFuW6EMmOKhovlGMc8mOVnvGwK4u1LSEDmnHNiUdFtH4lrNrTiz7p8x9xFVjcXW+Sq/M\n",
       "X3WpJLYCV1Tg+iB4DOISUikfdPO0DT2buZvnz2+r7EvniYAg3VylJhzBXUS4z1g1TPfOMEwsK7O7\n",
       "tnu3eZra+9tIL1IbjlnNeE8at1+ef5VySVRtpjMtpYd6khnZCoQXa1XNShRim8F4my4kChVR9ZA2\n",
       "XWXdDijKDFuCExK8q5/wVEYPZEzs2lu+9rkoCz5GRLqyM1k8xvYzast6YmA2ndRu5NHgpodhGZrF\n",
       "mfpkECwDrq1V1XlkTStNuKz6uoAw0m17NnSD7txXHobUmP6AwiTdBYgoxl51SeW60ZzfHBYC5Sz/\n",
       "7BVEIrY45bT8cdDRYiEpy/WCftwNAuiU3j/XEKnb86YXUjAW1IuwqQRMXlXEWAjilcjm0xEDbpgW\n",
       "9oKExvxcjpfFlwmTmN2z5Ja78Ai8thH9JmQNHPl8FpP7KrrZ12qF4+29zofRPg/hXRPNZKAA8BCx\n",
       "LgdyEpMDiZ8Dn+SttQNKGhoOnun6cKgi+AC+JYFeMNCk5aR8vHHdHfxuVrx/3Ukwcu5GWi/7P5LC\n",
       "oGyjLfh3nrFzGjGsuR7Y8YA6q79s7OAdrNB8lB5fIi5Gl85sGv6qjr89yheJ8fTCiafArCF7HMZ9\n",
       "k20FUN42WCmmTm/nqsT1jarxdT+D6lENnsQZs69gS/6Iyf6I5G/Je3SnOYrn8FFx/tR5F7Ufpe0Q\n",
       "BGrMFABqE5tSAa1eTG7aT174bLFTS+Ltn3bd07EpLAIgGSOmCuOBAAAFNkGb0UnhDyZTBRE8K//+\n",
       "OEAcDo9oAO9g2pOppzWG/+Ap4/w4kgKn4Si4YLCNFT3b+BeevEym2QVMaUR7k9hf3uZK3RU0xQcq\n",
       "bw0XwiAQuHG1yG9XXTHcgrKtQxk+RYEIuaBewwupdNaFJ1SToIIF82qeDZ5ULEsKLymrQ+4ZFj+d\n",
       "rK2mRuTSMcOABLFJPCufbqW+8GZcHGskf+fGkuT3s1NasQIgcjoDVNI1B7GcvS+U91sNSrz98xOj\n",
       "hLN85xMBx+SxEN15yz1RJj/zzMK32qmv2xJfyP6xfTZFrEWRqsh09glm3vhBo3qD+VOMZSYGgAQQ\n",
       "ou8/LzQSYzq4nO6YVXOaA4VuZGY1T19QQ2p2dhglzaMBHGyL7aPOc4jlPMML67hhrl+MHhRIX8Bd\n",
       "c5v2c6mQPJJ8tBm+nLyzCWgMF6DbY1htxXcVyE9Xwd+ZeDPAH5+G/p0m8oYxtVw+x4wzaSBrFH64\n",
       "vfSrnpqyySyEHEnfOtnKBbIh/IvtiZD/XBt5q0TEJKrgi/35jGs7rujjWZtyG21AwYFTzS93sBhv\n",
       "y9pzXmiTMt4d8xb+sN7WoT3tM58efZqw11KDbGiMtxmFQ/cwNYbZYrj6BK44SK1mvTA87UD0qcRY\n",
       "pydjZpjTa7/I4mGU1tna7+EqpUFWuKf7tszPjdT5qeO6KYUXKn/Wg8HAHFrqDlMUuQNE9ICxV2q6\n",
       "a6oj/j+cVzvl48S1UIBYjuZsQo2Skh9wSVypL50a64H4rBmMKvyUdTaguXQ3BPsCTaALMW7n7uqw\n",
       "UoE9Rfq3Yxv3nVrQpNxl/7fnkIj02w4xjRtiIR1H0P1aLMjqFC71wgFqUlMqq8HIDUO4c/WexRr3\n",
       "yuPj6iuWHyvYaw+4RzIzm0IrWeLvyK7GqBcLilFopvCYdkopbVngNHzVL1/r5S21lZrRDwEMQZC/\n",
       "IT0mYCKB7uNa9LXReTM1Yf6iLYxgb2DhxTT59EKMV7fHfHuaMDVYrY7J6fi7Ivs31opUjlZ64QjM\n",
       "maiAQCoS7Hg3IyzKPIE0Ml3bP6kQwKukLKjlq9Ukjd/CX+WFDRkHGEtVZmXAw+fj+iCEGMZwopKu\n",
       "mcjAC5lX2VQmj426fbhWQYYmqchomBQ+DbG9/BlpMBH0Sghn78h9j2jSfr/qpw0dId0SceqGcjbF\n",
       "N4qlgHuSyCoAOBIVcLD/hHfAYp80NBfiqFioN1rpIsKKp+ij9l8dm5oleiVmiVpe+d1lqf1+fskH\n",
       "Qd+HrHmCr+mLNYqMC0p8VjoT+qtB8ogQh+7WET+x+8N8cMA8cPWPIJF0ovh/sDlueQ3clpXVrwPN\n",
       "VL7JJ+F687zbW7PgXhHVjJP9gdpy9/UhzsQC3FIEPGTtGLdMi90D/NPvtFUEu9S+mw1gUjOY8mhG\n",
       "TiuON328wnW9J1ReV/z7iQ0LrVCHd391vat4POldYWvxQ3BoBjmHjES/tTksv+CBVDzzS6oJLQWv\n",
       "mDXA/4JUiFsltzYFXv+Qf/uEj3++prz+9lYutheFktAG5bdlz2TJSegeGg960khqc/Ptfhc1gG9p\n",
       "u9dis3/oqmLqqXyFfuTopgT96iXoz9bGQkOQFp2PCzmrZLKDjnJuCChjm/ZsJ7M6siZUfG79d3o3\n",
       "+3V15UmGfltX40TEHhEA6lIMpyX6Ztx+H8IEh5YUiwqAjv7ANsIwhDwU3kfebOS4LA/3vXL5FvbT\n",
       "VrBpb7Au/GCvVrHYCq9xCmAhzwxUTqjibTF6pwE3taq+QO+rgW9ysbnavochSVK/9DAkyaD5JAsM\n",
       "ERVvAiQ8VyH+AAABywGf8GpCvwFZq2fizCoACYxiEvCFiN0L0HglIUOHj1MtLyWPYoHKMutarTsi\n",
       "lhzMBU+zZgri0V2gKy+uagq08RXOPlU6GmcQ7ru7Am9DEgkm/7kTcA/BxarlJLPffRMWQakhgsLI\n",
       "2HWzBxS1xVd9e4TOJit1Fhy04VDBUkszndeQhfu+Mj0HBchbyQPwUUAi3NQtg/tkUxQPIgJ4Gy16\n",
       "dfl/W83a6r/+banG2AG746pLrr+s7EQCxNvmueTbRwnEPaEZalsrInNGHJs/9KDfUb1EZF/Lwxpl\n",
       "o6LhBWSXju68TCkTJAi8Nq1qyINWLI/Ea0RcumMJC9QA0jy3T5qif787lJSVeHFuP+ZmIj5nni6q\n",
       "NErflTcEzjqCnwhS3suC9j+VwMZDAlMEaGruS1KIbVzZAFUDOsJ2jUO4KXn426mOhKSlT3Z02MOA\n",
       "ltsF8dOoSMOZ0sHcMPVzgnbM6M94w07RZrW2Bba8sMzZtXKkE3X+H3C9ROg7vDBbzskhYuj64f3r\n",
       "ONGKtMBirSkduGYD40ARhsdxhfXDm5tcWGnwoTvC+1zSXFkS2tnfaMTBfcGumxDv9hag6tF+ilYY\n",
       "crzr1dp17RlMjXuvlsWuIAAABVZtb292AAAAbG12aGQAAAAAAAAAAAAAAAAAAAPoAAAH0AABAAAB\n",
       "AAAAAAAAAAAAAAAAAQAAAAAAAAAAAAAAAAAAAAEAAAAAAAAAAAAAAAAAAEAAAAAAAAAAAAAAAAAA\n",
       "AAAAAAAAAAAAAAAAAAAAAAACAAAEgHRyYWsAAABcdGtoZAAAAAMAAAAAAAAAAAAAAAEAAAAAAAAH\n",
       "0AAAAAAAAAAAAAAAAAAAAAAAAQAAAAAAAAAAAAAAAAAAAAEAAAAAAAAAAAAAAAAAAEAAAAABsAAA\n",
       "ASAAAAAAACRlZHRzAAAAHGVsc3QAAAAAAAAAAQAAB9AAAAQAAAEAAAAAA/htZGlhAAAAIG1kaGQA\n",
       "AAAAAAAAAAAAAAAAADIAAABkAFXEAAAAAAAtaGRscgAAAAAAAAAAdmlkZQAAAAAAAAAAAAAAAFZp\n",
       "ZGVvSGFuZGxlcgAAAAOjbWluZgAAABR2bWhkAAAAAQAAAAAAAAAAAAAAJGRpbmYAAAAcZHJlZgAA\n",
       "AAAAAAABAAAADHVybCAAAAABAAADY3N0YmwAAACzc3RzZAAAAAAAAAABAAAAo2F2YzEAAAAAAAAA\n",
       "AQAAAAAAAAAAAAAAAAAAAAABsAEgAEgAAABIAAAAAAAAAAEAAAAAAAAAAAAAAAAAAAAAAAAAAAAA\n",
       "AAAAAAAAAAAAAAAY//8AAAAxYXZjQwFkABX/4QAYZ2QAFazZQbCWhAAAAwAEAAADAMg8WLZYAQAG\n",
       "aOvjyyLAAAAAHHV1aWRraEDyXyRPxbo5pRvPAyPzAAAAAAAAABhzdHRzAAAAAAAAAAEAAAAyAAAC\n",
       "AAAAABRzdHNzAAAAAAAAAAEAAAABAAABcGN0dHMAAAAAAAAALAAAAAEAAAQAAAAAAQAACgAAAAAB\n",
       "AAAEAAAAAAEAAAAAAAAAAQAAAgAAAAABAAAGAAAAAAEAAAIAAAAAAQAABAAAAAABAAAKAAAAAAEA\n",
       "AAQAAAAAAQAAAAAAAAABAAACAAAAAAEAAAYAAAAAAQAAAgAAAAABAAAGAAAAAAEAAAIAAAAAAQAA\n",
       "CAAAAAACAAACAAAAAAQAAAQAAAAAAQAABgAAAAABAAACAAAAAAEAAAoAAAAAAQAABAAAAAABAAAA\n",
       "AAAAAAEAAAIAAAAAAQAACAAAAAACAAACAAAAAAEAAAoAAAAAAQAABAAAAAABAAAAAAAAAAEAAAIA\n",
       "AAAAAQAABgAAAAABAAACAAAAAAEAAAQAAAAAAQAACgAAAAABAAAEAAAAAAEAAAAAAAAAAQAAAgAA\n",
       "AAABAAAEAAAAAAEAAAYAAAAAAQAAAgAAAAACAAAEAAAAAAEAAAYAAAAAAQAAAgAAAAAcc3RzYwAA\n",
       "AAAAAAABAAAAAQAAADIAAAABAAAA3HN0c3oAAAAAAAAAAAAAADIAAB2kAAAI2gAABLsAAAG9AAAD\n",
       "vgAACJgAAAOQAAAFiQAACh0AAAUKAAADNQAAA0EAAAYAAAACxQAACJoAAAMoAAAIlQAABE0AAAMC\n",
       "AAAFIQAABoYAAAdCAAAHRAAACVAAAAIzAAABRAAAApsAAACaAAADjAAACokAAAQqAAADXQAACZIA\n",
       "AAVjAAADSAAAA5UAAAY1AAADLwAABYUAAArrAAAE0QAAAzMAAANaAAAEfgAABxMAAAM1AAAGBwAA\n",
       "BoEAAAU6AAABzwAAABRzdGNvAAAAAAAAAAEAAAAsAAAAYnVkdGEAAABabWV0YQAAAAAAAAAhaGRs\n",
       "cgAAAAAAAAAAbWRpcmFwcGwAAAAAAAAAAAAAAAAtaWxzdAAAACWpdG9vAAAAHWRhdGEAAAABAAAA\n",
       "AExhdmY1OC4xMi4xMDA=\n",
       "\">\n",
       "  Your browser does not support the video tag.\n",
       "</video>"
      ],
      "text/plain": [
       "<IPython.core.display.HTML object>"
      ]
     },
     "execution_count": 5,
     "metadata": {},
     "output_type": "execute_result"
    }
   ],
   "source": [
    "# Show the animation\n",
    "HTML(ani.to_html5_video())"
   ]
  },
  {
   "cell_type": "code",
   "execution_count": 6,
   "metadata": {
    "scrolled": false,
    "slideshow": {
     "slide_type": "skip"
    }
   },
   "outputs": [],
   "source": [
    "# Save the animation\n",
    "ani.save('VibrationModes.mp4')"
   ]
  },
  {
   "cell_type": "markdown",
   "metadata": {
    "slideshow": {
     "slide_type": "skip"
    }
   },
   "source": [
    "The animation coded above is saved under `VibrationModes.mp4` and uploaded onto the Q.\n",
    "Compare it with the video called `masses_for_04_modes.mp4` of the previous chapter!\n",
    "See also fig. 3 (King fig. 6.2) for a picture of the first four modes and fig. 4 (King fig. 6.1) for a representation of the time evolution of mode number 2."
   ]
  },
  {
   "cell_type": "markdown",
   "metadata": {
    "slideshow": {
     "slide_type": "skip"
    }
   },
   "source": [
    "![Fig. 3: King 6.2](King62.png)"
   ]
  },
  {
   "cell_type": "markdown",
   "metadata": {
    "slideshow": {
     "slide_type": "skip"
    }
   },
   "source": [
    "![Fig. 4: King 6.1](King61.png)"
   ]
  },
  {
   "cell_type": "markdown",
   "metadata": {
    "slideshow": {
     "slide_type": "skip"
    }
   },
   "source": [
    "Here are a few important remarks that you will also find on the captions of King's figures.\n",
    "\n",
    "* Those points where the string doesn't move are called **nodes**.\n",
    "* Those points in-between where the string moves with the largest amplitude are called **antinodes**. I might call them bellies. It is *not* standard practice to do so.\n",
    "* The mode with no nodes ($n = 1$ here) is called the **fundamental** (mode), or **first harmonic** (but really, \"fundamental\" is more standard). It is originally a musical term, I guess, as in, it corresponds to the gravest sound an instrument of piece of instrument can produce. The one with one node ($n = 2$) is called the **second harmonic**, and so on.\n",
    "* The $n^{th}$ harmonic has $n-1$ nodes, and $n$ antinodes.\n",
    "* $k_n$ is called the **wavenumber** of the $n^{th}$ mode, $$\\boxed{\\lambda_n = \\frac{2\\pi}{k_n}} = \\frac{2L}n $$ is its **wavelength**. The units of $k_n$ are rad.m$^{-1}$ and those of $\\lambda_n$ are m (metres)."
   ]
  },
  {
   "cell_type": "markdown",
   "metadata": {
    "slideshow": {
     "slide_type": "skip"
    }
   },
   "source": [
    "***\n",
    "\n",
    "*End of 2 October lecture, beginning of 5 October lecture.*\n",
    "\n",
    "***\n",
    "\n",
    "**Worked example: King p. 143. Also recommended: worked example p. 144.**\n",
    "\n",
    "***"
   ]
  },
  {
   "cell_type": "markdown",
   "metadata": {
    "slideshow": {
     "slide_type": "skip"
    }
   },
   "source": [
    "# Standing Waves as Normal Modes of a Vibrating String\n",
    "\n",
    "*[Book: § 6.4]*"
   ]
  },
  {
   "cell_type": "markdown",
   "metadata": {
    "slideshow": {
     "slide_type": "skip"
    }
   },
   "source": [
    "## Results from Fourier Series"
   ]
  },
  {
   "cell_type": "markdown",
   "metadata": {
    "slideshow": {
     "slide_type": "skip"
    }
   },
   "source": [
    "We just saw that if $y_n$ and $y_m$ were modes of vibrations of the string, then a linear combination of those two was a solution. But is the reverse true? Namely, if $y$ is a solution, can it be written as $\\sum_{n=1}^{\\infty} A_n y_n$? After all, maybe we have only covered the set of solutions which were separable, and we are missing plenty of elementary solutions that cannot be written as $y_n(t, x) = f_n(x)h_n(t)$."
   ]
  },
  {
   "cell_type": "markdown",
   "metadata": {
    "slideshow": {
     "slide_type": "skip"
    }
   },
   "source": [
    "The answer is yes, the decomposition exists and is unique, but I will not prove it because you saw it in Calculus II with Fourier series.\n",
    "Just as the existence and unicity of the decomposition into eigenmodes for a coupled system of oscillations was a gift from a linear algebra class, the existence and unicity of the decomposition of any solution into standing wave mode is a gift from Fourier analysis."
   ]
  },
  {
   "cell_type": "markdown",
   "metadata": {
    "slideshow": {
     "slide_type": "skip"
    }
   },
   "source": [
    "Namely, the main result to remember from a lecture on Fourier series is that if a function $s(x)$ of the real variable $x$ is continuous and periodic, with period $L$, then $\\exists \\{A_n, B_n\\}_{n\\in \\mathbb N^*}$ such that \n",
    "$$ s(x) = \\frac{A_0}2 + \\sum_{n=1}^\\infty A_n \\cos(k_n x) + B_n \\sin(k_n x). $$"
   ]
  },
  {
   "cell_type": "markdown",
   "metadata": {
    "slideshow": {
     "slide_type": "skip"
    }
   },
   "source": [
    "And if the function is odd, i.e., $s(x) = -s(-x)$, then it is even simpler:\n",
    "$$ s(x) = \\sum_{n=1}^\\infty B_n \\sin(k_n x). $$"
   ]
  },
  {
   "cell_type": "markdown",
   "metadata": {
    "slideshow": {
     "slide_type": "skip"
    }
   },
   "source": [
    "You may object that Fourier series apply to periodic function, i.e., functions that exist on $\\mathbb R$, not $[0, L]$.\n",
    "The connection is that we can imagine our solution on $[0, L]$ as a \"cropped\" sub-set of a function that would be periodic.\n",
    "In this case, the actual solution and the corresponding infinitely long and periodic function share the same Fourier coefficients."
   ]
  },
  {
   "cell_type": "markdown",
   "metadata": {
    "slideshow": {
     "slide_type": "skip"
    }
   },
   "source": [
    "Let me plot a sketch of what I mean by \"actual solution\" (fig. 5) and \"infinitely long and periodic function\" (fig. 6)."
   ]
  },
  {
   "cell_type": "code",
   "execution_count": 7,
   "metadata": {
    "slideshow": {
     "slide_type": "skip"
    }
   },
   "outputs": [],
   "source": [
    "# Definition of the function\n",
    "# Let's draw a triangular shape, with the top at a point where the string is plucked\n",
    "pluck_point = 0.25*L  # in [m]\n",
    "d = 0.01  # how high the string is plucked [m]\n",
    "s = d * x / pluck_point  # the first part of the string\n",
    "s[x > pluck_point] = d * (L - x[x > pluck_point]) / (L-pluck_point)  # the 2nd part\n",
    "\n",
    "plt.figure()\n",
    "plt.plot(x/L, s/d, 'r')\n",
    "plt.grid()\n",
    "plt.xlabel('$x/L$', fontsize=ftsz)\n",
    "plt.ylabel('$s/d$', fontsize=ftsz)\n",
    "plt.axvline(pluck_point/L, color='k', linestyle='--')\n",
    "plt.title('The plucked string on $[0, L]$', fontsize=ftsz)\n",
    "plt.ylim([0., 2.])\n",
    "plt.autoscale(enable=True, axis='x', tight=True)\n",
    "plt.savefig('PluckedString.png', dpi=100)\n",
    "plt.close()"
   ]
  },
  {
   "cell_type": "markdown",
   "metadata": {
    "slideshow": {
     "slide_type": "subslide"
    }
   },
   "source": [
    "![Fig.5: Plucked string](PluckedString.png)"
   ]
  },
  {
   "cell_type": "code",
   "execution_count": 8,
   "metadata": {
    "slideshow": {
     "slide_type": "skip"
    }
   },
   "outputs": [],
   "source": [
    "x_extend = np.linspace(-1.5*L, 2.5*L, 512)  # x extended beyoind [0, L]\n",
    "s_extend = d * x_extend / pluck_point  # the first part of the string\n",
    "s_extend[x_extend > pluck_point] = (L - x_extend[x_extend > pluck_point]\n",
    "                                   ) * d / (L-pluck_point)\n",
    "s_extend[x_extend > 2*L-pluck_point] = (x_extend[x_extend > 2*L-pluck_point]/pluck_point\n",
    "                                        - 2*L/pluck_point) * d\n",
    "s_extend[x_extend > 2*L+pluck_point] = (L - x_extend[x_extend > 2*L+pluck_point]\n",
    "                                       )  * d/ (L-pluck_point) + 2*d*L/(L-pluck_point)\n",
    "s_extend[x_extend < -pluck_point] = d * (L - x_extend[x_extend < -pluck_point]\n",
    "                                        ) / (L-pluck_point) - 2*d*L/(L-pluck_point)\n",
    "\n",
    "plt.figure()\n",
    "plt.plot(x_extend/L, s_extend/d, 'b--', label='$s(x)$ extended')\n",
    "plt.plot(x/L, s/d, 'r', label='$s(x)$')\n",
    "plt.grid()\n",
    "plt.xlabel('$x/L$', fontsize=ftsz)\n",
    "plt.ylabel('$s/d$', fontsize=ftsz)\n",
    "plt.ylim([-2., 2.])\n",
    "plt.axhline(0., color='k')\n",
    "plt.axvline(pluck_point/L, color='k', linestyle='--')\n",
    "plt.axvline(0., color='k')\n",
    "plt.axvline(1., color='k')\n",
    "plt.title('Equivalent plucked string on an extended interval', fontsize=ftsz)\n",
    "plt.legend()\n",
    "plt.autoscale(enable=True, axis='x', tight=True)\n",
    "plt.savefig('PeriodicPlucked.png', dpi=100)\n",
    "plt.close()"
   ]
  },
  {
   "cell_type": "markdown",
   "metadata": {
    "slideshow": {
     "slide_type": "subslide"
    }
   },
   "source": [
    "![Fig. 6: The plucked string, if it was part of an infinitely long and periodic function.](PeriodicPlucked.png)"
   ]
  },
  {
   "cell_type": "markdown",
   "metadata": {
    "slideshow": {
     "slide_type": "skip"
    }
   },
   "source": [
    "While the plucked string (red, solid line on fig. 6) is not periodic, the blue, dashed line is, and can be decomposed as a Fourier series.\n",
    "In the interval $[0, L]$, the two are indistinguishable, and the plucked string shares the extended string's expression."
   ]
  },
  {
   "cell_type": "markdown",
   "metadata": {
    "slideshow": {
     "slide_type": "skip"
    }
   },
   "source": [
    "Mathematically speaking, the rest of this section is basically an application of the Fourier series theory to string vibrations."
   ]
  },
  {
   "cell_type": "markdown",
   "metadata": {
    "slideshow": {
     "slide_type": "skip"
    }
   },
   "source": [
    "## Orthogonality of Standing Wave Modes"
   ]
  },
  {
   "cell_type": "markdown",
   "metadata": {
    "slideshow": {
     "slide_type": "skip"
    }
   },
   "source": [
    "In the last chapter, the linked masses resulted in a symmetric matrix to diagonalize, in which case the eigenvectors were orthogonal to each other.\n",
    "Something similar is happening here: the string is homogeneous ($\\mu$ is a constant), and the normal modes are orthogonal to each other.\n",
    "The \"dot product\" however needs to be redefined, because the vector space has changed.\n",
    "In the chapter on coupled oscillators, the inner product of the vector space was the good ol' dot product.\n",
    "Now, the inner product for two stress-free functions [^3] $f$ and $g$ is:\n",
    "$$f\\odot g = \\frac2L \\int_0^L f(x)g(x)\\di x.\\hspace{5cm}(3)$$\n",
    "\n",
    "[^3]: the physicist's definition of a \"stress-free function\" is a function that won't cause any problem when deriving, integrating or else. The kind of chill function we like to not worry about. Obviously, this chapter is not NIST approved."
   ]
  },
  {
   "cell_type": "markdown",
   "metadata": {
    "slideshow": {
     "slide_type": "skip"
    }
   },
   "source": [
    "The $2/L$ pre-factor is optional and is used to ensure that the functions are orthonormal with respect to the inner product. Indeed, here is a claim:\n",
    "$$ \\boxed{\\sin(k_n x) \\odot \\sin(k_m x) = \\delta_{mn}}.$$\n",
    "Recall that the Kronecker delta is $\\delta_{mn} = 1$ if $m=n$, and zero otherwise.\n",
    "That is, **modes are orthogonal to each other**."
   ]
  },
  {
   "cell_type": "markdown",
   "metadata": {
    "slideshow": {
     "slide_type": "skip"
    }
   },
   "source": [
    "*Note: Similarly,* $\\cos(k_n x) \\odot \\cos(k_m x) = \\delta_{mn}$ *and* $\\cos(k_n x) \\odot \\sin(k_m x) = 0$. *Yes, the last one is always zero, even if* $m = n$. *As far as I can tell though, we won't be using these relationships with the boundary conditions of strings attached to walls. We would if the origin of the $x$-axis was in the middle of the two walls, or if we had other boundary conditions. Therefore, it is not completely usueless to know that these relationships exist.*"
   ]
  },
  {
   "cell_type": "markdown",
   "metadata": {
    "slideshow": {
     "slide_type": "skip"
    }
   },
   "source": [
    "***\n",
    "\n",
    "*While not difficult, and even though it resembles a result we have seen earlier, I skipped the proof in class. Here it is, FYI. Don't worry about remembering it.*\n",
    "\n",
    "Recall that \n",
    "$$\\cos(a\\pm b) = \\cos a \\cos b \\mp \\sin a \\sin b.$$\n",
    "\n",
    "Sum those two and you get:\n",
    "$$ 2\\cos a\\cos b = \\cos(a-b) + \\cos(a+b). $$\n",
    "Subtract them and you obtain\n",
    "$$ 2\\sin a\\sin b = \\cos(a-b) - \\cos(a+b). $$\n",
    "\n",
    "* $m\\neq n$: for $a = n\\pi x/L$ and $b = m\\pi x/L$\n",
    "\n",
    "\\begin{align*}\n",
    "    \\sin a \\odot \\sin b & = \\frac{1}{L} \\int_0^L \\left(\\cos\\left(\\frac{(n-m) \\pi x}{L}\\right) +  \\cos\\left(\\frac{(n+m)\\pi x}{L}\\right) \\right) \\di x \\\\\n",
    "                        & = \\frac{1}{L} \\left[\\frac{L}{\\pi(n-m)}\\sin\\left(\\frac{(n-m) \\pi x}{L}\\right) + \\frac{L}{\\pi(n+m)} \\sin\\left(\\frac{(n+m)\\pi x}{L}\\right) \\right]_0^L \\\\\n",
    "                        & = 0 + 0 = 0 \\quad\\textrm{if}\\quad m \\neq n.\n",
    "\\end{align*}\n",
    "\n",
    "* $m=n$ on the other hand, we need to go back to $2\\sin a\\sin b = \\cos(a-b) - \\cos(a+b)$, which, if $a = b$, becomes $2\\sin^2(2a) = 1 - \\cos(2a)$. \n",
    "Of the two integrals that are to be computed, $\\int_0^L \\cos(2n\\pi x/L) \\di x = 0$ but $\\int_0^L \\di x = L$, and therefore,\n",
    "$$\\sin\\left(\\frac{n\\pi x}L\\right) \\odot \\sin\\left(\\frac{n\\pi x}L\\right) = \\frac{2}{L}\\frac{L}2 = 1. $$\n",
    "\n",
    "Very similar derivations exist for $\\cos(k_n x) \\odot \\cos(k_m x) = \\delta_{mn}$ and $\\cos(k_n x) \\odot \\sin(k_m x) = 0$.\n",
    "\n",
    "***"
   ]
  },
  {
   "cell_type": "markdown",
   "metadata": {
    "slideshow": {
     "slide_type": "skip"
    }
   },
   "source": [
    "Note that similarly to the last chapter, these results can be extended to strings that are non-homogeneous (i.e. $v$ depends on $x$, like a whip getting thinner away from the handle). A new inner product would need to be defined. \n",
    "This would be the equivalent of a matrix that is not symmetric in the previous chapter.\n",
    "These considerations are outside of what you need to know for this class."
   ]
  },
  {
   "cell_type": "markdown",
   "metadata": {
    "slideshow": {
     "slide_type": "skip"
    }
   },
   "source": [
    "## Initial Value Problems"
   ]
  },
  {
   "cell_type": "markdown",
   "metadata": {
    "slideshow": {
     "slide_type": "skip"
    }
   },
   "source": [
    "Like in previous chapters, while we know that the general form of the solution is in the form of eqn. $(2)$, finding the amplitudes $C_n$ and phases $\\phi_n$ remains to be computed for an IVP."
   ]
  },
  {
   "cell_type": "markdown",
   "metadata": {
    "slideshow": {
     "slide_type": "skip"
    }
   },
   "source": [
    "And like at the end of the previous chapter, the orthogonality condition will help us to solve this problem relatively easily."
   ]
  },
  {
   "cell_type": "markdown",
   "metadata": {
    "slideshow": {
     "slide_type": "skip"
    }
   },
   "source": [
    "First of all though, allow me to rewrite eqn. $(2)$ as\n",
    "$$\\boxed{y(t, x) = \\sum_{n = 1}^{\\infty} \\left[\\alpha_n \\cos(\\omega_n t) + \\beta_n \\sin(\\omega_n t)\\right]\\sin(k_n x)},\\hspace{4cm}(4)$$\n",
    "which is more convenient for IVPs."
   ]
  },
  {
   "cell_type": "markdown",
   "metadata": {
    "slideshow": {
     "slide_type": "skip"
    }
   },
   "source": [
    "Consider now an initial value problem\n",
    "$$ y(0, x) = P(x)\\and \\dot y(0, x) = V(x). $$"
   ]
  },
  {
   "cell_type": "markdown",
   "metadata": {
    "slideshow": {
     "slide_type": "skip"
    }
   },
   "source": [
    "We now have two equations,\n",
    "$$\\sum_{n = 1}^{\\infty} \\alpha_n\\sin(k_n x) = P(x) \\and \\sum_{n = 1}^{\\infty} \\omega_n\\beta_n\\sin(k_n x) = V(x).$$"
   ]
  },
  {
   "cell_type": "markdown",
   "metadata": {
    "slideshow": {
     "slide_type": "skip"
    }
   },
   "source": [
    "These could be seen as two equations with an infinite number of unknown each ($2\\times \\infty$ unknown total). But because these unknown multiply eigenfunctions that are all orthogonal to each other, we can use projections to turn it into a system with as many equations as there are unknown.\n",
    "For example,\n",
    "$$\\left[\\sum_{n = 1}^{\\infty} \\alpha_n\\sin(k_n x)\\right] \\odot \\sin(k_m x) = \\sum_{n = 1}^{\\infty} \\alpha_n\\left[\\sin(k_n x) \\odot \\sin(k_m x)\\right] = \\alpha_m.$$\n",
    "*Note: in the result above, I used that the $\\sin(k_n x)$ functions are orthonormal with respect to the inner product that I defined. Had I not added a $2/L$ pre-factor in my definition of the inner product (eqn. 3), I would have needed to multiply the right-most-hand-side of the equation above with $L/2$. This is what King sort of does in his book.*"
   ]
  },
  {
   "cell_type": "markdown",
   "metadata": {
    "slideshow": {
     "slide_type": "skip"
    }
   },
   "source": [
    "Therefore, \n",
    "$$ \\forall m\\in \\mathbb N^*, \\quad \\alpha_m = P(x) \\odot \\sin(k_m x) \\and \\beta_m = \\frac{1}{\\omega_m}V(x) \\odot \\sin(k_m x). $$"
   ]
  },
  {
   "cell_type": "markdown",
   "metadata": {
    "slideshow": {
     "slide_type": "skip"
    }
   },
   "source": [
    "We solved one problem but created a new one, which is to compute all the $P(x)\\odot \\sin(k_m x)$ and $V(x)\\odot \\sin(k_m x)$.\n",
    "But at least, there is a road map, which is to compute integrals.\n",
    "If the initial condition is simple enough, the integrals can be computed analytically (which we will do for a couple of examples), and if not, a computer can do it."
   ]
  },
  {
   "cell_type": "markdown",
   "metadata": {
    "slideshow": {
     "slide_type": "skip"
    }
   },
   "source": [
    "## Example: Initializing a Single Mode"
   ]
  },
  {
   "cell_type": "markdown",
   "metadata": {
    "slideshow": {
     "slide_type": "skip"
    }
   },
   "source": [
    "### Analytical Resolution\n",
    "\n",
    "Suppose we start with\n",
    "$$y(0, x) = P(x) = 4d\\sin\\left(\\frac{3\\pi x}{L}\\right) \\and \\dot y(0, x) = V(x) = 0,$$\n",
    "with $4d$ the initial amplitude of displacement (in m).\n",
    "Of course, the first things to notice is that $3\\pi/L = k_3$."
   ]
  },
  {
   "cell_type": "markdown",
   "metadata": {
    "slideshow": {
     "slide_type": "skip"
    }
   },
   "source": [
    "That $V(x) = 0$ means that $\\forall n\\in \\mathbb N^*$, $\\beta_n = 0$."
   ]
  },
  {
   "cell_type": "markdown",
   "metadata": {
    "slideshow": {
     "slide_type": "skip"
    }
   },
   "source": [
    "As for the $\\alpha_n$'s,\n",
    "\\begin{align*}\n",
    "    \\alpha_n & = P(x) \\odot \\sin(k_n x) \\\\\n",
    "             & = \\frac2L \\int_0^L P(x)\\sin(k_n x)\\di x \\\\\n",
    "             & = \\frac{8d}{L} \\int_0^L \\sin(k_3 x) \\sin(k_n x) \\di x \\\\\n",
    "             & = 4d \\delta_{3n}.\n",
    "\\end{align*}"
   ]
  },
  {
   "cell_type": "markdown",
   "metadata": {
    "slideshow": {
     "slide_type": "skip"
    }
   },
   "source": [
    "Therefore, the only frequency of oscillation is $\\omega_3 = \\frac{3\\pi }L\\sqrt{\\frac{T}{\\mu}}$ and the solution is \n",
    "$$y(t, x) = 4d\\cos\\left(\\frac{3\\pi t}{L}\\sqrt{\\frac{T}{\\mu}}\\right)\\sin\\left(\\frac{3\\pi x}{L}\\right) \n",
    "          = 4d\\cos\\left(\\omega_3 t\\right)\\sin\\left(k_3 x\\right),$$\n",
    "which is the only term that is left from eqn. (4)."
   ]
  },
  {
   "cell_type": "markdown",
   "metadata": {
    "slideshow": {
     "slide_type": "skip"
    }
   },
   "source": [
    "Note that the frequency was not explicitly present in the initial conditions, just the wave number.\n",
    "It is just like with the coupled pendulums: one mode, one frequency was selected by just initializing the masses positions with the right pattern (or *polarization*)."
   ]
  },
  {
   "cell_type": "markdown",
   "metadata": {
    "slideshow": {
     "slide_type": "skip"
    }
   },
   "source": [
    "A quick sanity check on the units: $T$ is in N, or kg.m.s$^{-2}$, and $\\mu$ is in kg.m$^{-1}$, therefore $\\sqrt{T/\\mu}$ is in m.s$^{-1}$ (which is good, because it is the phase speed), $\\sqrt{T/\\mu}/L$ is in s$^{-1}$ in SI base units, $3\\pi$ times the same is in rad.s$^{-1}$ (*not SI base units, but it is* $\\omega_3$ in rad.s$^{-1}$), and $\\omega_3 t$ is indeed dimensionless."
   ]
  },
  {
   "cell_type": "markdown",
   "metadata": {
    "slideshow": {
     "slide_type": "skip"
    }
   },
   "source": [
    "### Graphic Representation: Spectrum\n",
    "\n",
    "Then, there is the problem of the graphic representation of this solution.\n",
    "I could display an animation, as I did before, but while pedagogically useful, it is not the representation that compresses the information the most.\n",
    "After all, if the motion is harmonic, we don't need to display a moving string to know the time information, which is completely encapsulated in the number $\\omega_3$.\n",
    "The only other piece of information I need to know is the amplitude of the third harmonic, $4d$."
   ]
  },
  {
   "cell_type": "markdown",
   "metadata": {
    "slideshow": {
     "slide_type": "skip"
    }
   },
   "source": [
    "A solution is therefore to plot the amplitude as a function of frequency, and the plot is called a **spectrum** (see fig. 7)."
   ]
  },
  {
   "cell_type": "code",
   "execution_count": 9,
   "metadata": {
    "scrolled": false,
    "slideshow": {
     "slide_type": "skip"
    }
   },
   "outputs": [],
   "source": [
    "# Let's plot\n",
    "plt.figure()\n",
    "plt.plot([3]*2, [0, 4], 'o-', linewidth=5)\n",
    "plt.axis([0, 5.1, 0, 4.4])\n",
    "plt.xticks(range(1, 6), \n",
    "          ['$\\omega_{0:1d}$'.format(n) for n in range(1, 6)],\n",
    "          fontsize=ftsz)\n",
    "plt.xlabel('Vibration frequency ($\\omega_n = n\\pi v/L$)', fontsize=ftsz)\n",
    "plt.ylabel(r'Modal amplitude $\\alpha_n/d$', fontsize=ftsz)\n",
    "plt.grid()\n",
    "plt.savefig('Spectrum1mode.png', dpi=100)\n",
    "plt.close()"
   ]
  },
  {
   "cell_type": "markdown",
   "metadata": {
    "slideshow": {
     "slide_type": "subslide"
    }
   },
   "source": [
    "![Fig. 7: Spectrum when only one mode of amplitude $4d$ is present.](Spectrum1mode.png)"
   ]
  },
  {
   "cell_type": "markdown",
   "metadata": {
    "slideshow": {
     "slide_type": "skip"
    }
   },
   "source": [
    "Two remarks on spectra.\n",
    "\n",
    "* We did plot very similar graphs on the lecture on resonance, when we were plotting the amplitude (or dissipated power) as a function of frequency. And indeed, we do not have dissipation, meaning that we don't need to invoke forcing to describe sustained oscillations. If we introduced damping and forcing, we could plot spectra of the string vibrations under a certain periodic forcing as a function of frequency indeed, and it would look very similar.\n",
    "* You might remember from your linear algebra class that \"spectrum\" is also the name of the set of eigenvalues of a matrix. While a set is not a plot, there is a connection, because the plot will have all the frequencies on the $x$-axis, and because there is a connection between these frequencies, the eigenfrequencies of the previous chapter, and linear algebra."
   ]
  },
  {
   "cell_type": "markdown",
   "metadata": {},
   "source": [
    "***\n",
    "\n",
    "*End of 5 October lecture, beginning of 9 October lecture.*\n",
    "\n",
    "***"
   ]
  },
  {
   "cell_type": "markdown",
   "metadata": {
    "slideshow": {
     "slide_type": "slide"
    }
   },
   "source": [
    "## Example: Plucked String.\n",
    "\n",
    "*Note: this is King, worked example p. 155.*"
   ]
  },
  {
   "cell_type": "markdown",
   "metadata": {
    "slideshow": {
     "slide_type": "skip"
    }
   },
   "source": [
    "### Analytical resolution\n",
    "\n",
    "Analytically speaking, it is relatively easy to compute the Fourier decomposition of a string, plucked in the middle:\n",
    "$$ y(0, x) = P(x) = \\frac{2d x}{L} \\quad \\textrm{for} \\quad 0\\leq x < L/2, $$\n",
    "$$ y(0, x) = P(x) = 2d\\left(1 - \\frac{x}{L}\\right) \\quad \\textrm{for} \\quad x_p \\leq x \\leq L. $$"
   ]
  },
  {
   "cell_type": "markdown",
   "metadata": {
    "slideshow": {
     "slide_type": "skip"
    }
   },
   "source": [
    "As before, we will consider the case $\\dot y(0, x) = V(x) = 0$, which again means that $\\forall n\\in \\mathbb N^*$, $\\beta_n = 0$."
   ]
  },
  {
   "cell_type": "markdown",
   "metadata": {
    "slideshow": {
     "slide_type": "skip"
    }
   },
   "source": [
    "\\begin{align*}\n",
    "    \\alpha_n & = P(x) \\odot \\sin(k_n x) \\\\\n",
    "             & = \\frac{4d}L \\left[\\int_0^{L/2}\\frac{x}{L} \\sin(k_n x)\\di x + \\int_{L/2}^L \\left(1 - \\frac{x}{L}\\right) \\sin(k_n x)\\di x\\right].\n",
    "\\end{align*}"
   ]
  },
  {
   "cell_type": "markdown",
   "metadata": {
    "slideshow": {
     "slide_type": "skip"
    }
   },
   "source": [
    "A useful formula to compute these integrals is\n",
    "$$ \\int x' \\sin(ax') \\di x' = \\frac{\\sin(ax)}{a^2} - \\frac{x\\cos(ax)}{a},$$\n",
    "which is the result of an integration by parts, followed by a simple integration. Ask Wolfram Alpha if you are curious. Do not try to remember it."
   ]
  },
  {
   "cell_type": "raw",
   "metadata": {
    "raw_mimetype": "text/markdown",
    "slideshow": {
     "slide_type": "skip"
    }
   },
   "source": [
    "# for verification, I ask Python's symbolic math package to do it\n",
    "from sympy import *  # symbolic math operations\n",
    "init_printing(use_unicode=True)  # to print pretty\n",
    "\n",
    "n = Symbol('n', integer=True, positive=True)\n",
    "x, L = symbols('n, L', real=True, positive=True)"
   ]
  },
  {
   "cell_type": "raw",
   "metadata": {
    "raw_mimetype": "text/markdown",
    "slideshow": {
     "slide_type": "skip"
    }
   },
   "source": [
    "factor(integrate(x/L*sin(n*pi*x/L), (x, 0, L/2)))  # for verification"
   ]
  },
  {
   "cell_type": "markdown",
   "metadata": {
    "slideshow": {
     "slide_type": "skip"
    }
   },
   "source": [
    "The first integral is\n",
    "\\begin{align*}\n",
    "    \\int_0^{L/2}\\frac{x}{L} \\sin(k_n x)\\di x \n",
    "        & = \\frac{1}{k_n L} \\left[ \\frac{\\sin(k_n x)}{k_n} - x\\cos(k_n x) \\right]_0^{L/2} \\\\\n",
    "        & = \\frac{L}{n\\pi}\\left[\\frac{1}{n\\pi}\\sin\\left(\\frac{n\\pi}{2}\\right) - \\frac12\\cos\\left(\\frac{n\\pi}{2}\\right) \\right].\n",
    "\\end{align*}"
   ]
  },
  {
   "cell_type": "raw",
   "metadata": {
    "raw_mimetype": "text/markdown",
    "slideshow": {
     "slide_type": "skip"
    }
   },
   "source": [
    "factor(integrate((1-x/L)*sin(n*pi*x/L), (x, L/2, L)))  # for verification"
   ]
  },
  {
   "cell_type": "markdown",
   "metadata": {
    "slideshow": {
     "slide_type": "skip"
    }
   },
   "source": [
    "For the other integral, and following a similar calculation, we get\n",
    "$$\\int_{L/2}^L\\left(1 - \\frac{x}{L}\\right) \\sin(k_n x)\\di x = \\frac{L}{n\\pi}\\left[\\frac{1}{n\\pi}\\sin\\left(\\frac{n\\pi}{2}\\right) + \\frac12\\cos\\left(\\frac{n\\pi}{2}\\right) \\right]. $$"
   ]
  },
  {
   "cell_type": "markdown",
   "metadata": {
    "slideshow": {
     "slide_type": "skip"
    }
   },
   "source": [
    "Adding the two, we get\n",
    "$$ \\int_0^{L/2}\\frac{x}{L} \\sin(k_n x)\\di x + \\int_{L/2}^L \\left(1 - \\frac{x}{L}\\right) \\sin(k_n x)\\di x = \\frac{2L}{(n\\pi)^2}\\sin\\left(\\frac{n\\pi}{2}\\right) $$"
   ]
  },
  {
   "cell_type": "markdown",
   "metadata": {
    "slideshow": {
     "slide_type": "skip"
    }
   },
   "source": [
    "The final form of $\\alpha_n$ is therefore\n",
    "$$ \\alpha_n = \\frac{8d}{(n\\pi)^2}\\sin\\left(\\frac{n\\pi}{2}\\right) = 0 \\quad\\textrm{if } n\\textrm{ is even, and} \\quad \\frac{8d}{(n\\pi)^2}(-1)^{(n-1)/2}\\quad\\textrm{if } n\\textrm{ odd}. $$"
   ]
  },
  {
   "cell_type": "markdown",
   "metadata": {
    "slideshow": {
     "slide_type": "skip"
    }
   },
   "source": [
    "Let us only consider the $n$ odd case then, and let $n=2m+1$, $m\\in\\mathbb N$.\n",
    "From eqn. (4), the solution to the string, plucked in the middle is therefore:\n",
    "$$ \\boxed{y(t, x) = \\frac{8 d}{\\pi^2}\\sum_{m=0}^{\\infty}\\frac{(-1)^{m}}{(2m+1)^2}\\cos\\left(\\frac{(2m+1)\\pi v}{L}t\\right)\\sin\\left(\\frac{(2m+1)\\pi}{L}x\\right)}. $$"
   ]
  },
  {
   "cell_type": "markdown",
   "metadata": {
    "slideshow": {
     "slide_type": "skip"
    }
   },
   "source": [
    "### Spectrum"
   ]
  },
  {
   "cell_type": "markdown",
   "metadata": {
    "slideshow": {
     "slide_type": "skip"
    }
   },
   "source": [
    "Although complicated, we can plot the formula above relatively easily as a spectrum. Let me compute a few values, with $d = 1 cm$, $L = 1 m$\n",
    "\n",
    "* $y_1(t, x) = \\frac{8d}{\\pi^2}\\cos(\\pi v t/L)\\sin(\\pi x/L)$,\n",
    "* $y_2(t, x) = 0$,\n",
    "* $y_3(t, x) = -\\frac{8d}{9\\pi^2}\\cos(3\\pi v t/L)\\sin(3\\pi x/L)$,\n",
    "* $y_4(t, x) = 0$,\n",
    "* $y_5(t, x) = \\frac{8d}{25\\pi^2}\\cos(5\\pi v t/L)\\sin(5\\pi x/L)$,\n",
    "* $y_6(t, x) = 0$,\n",
    "* ...\n",
    "\n",
    "We can easily plot the spectrum for the first few modes."
   ]
  },
  {
   "cell_type": "code",
   "execution_count": 10,
   "metadata": {
    "slideshow": {
     "slide_type": "skip"
    }
   },
   "outputs": [],
   "source": [
    "# Let's plot\n",
    "N = 8  # maximum number of modes we plot\n",
    "plt.figure()\n",
    "for n in range(N):\n",
    "    plt.plot([n+1]*2, [0, np.sin(0.5*(n+1)*np.pi)/(n+1)**2], 'o-', linewidth=5)\n",
    "plt.axis([0, N+0.5, -0.15, 1.1])\n",
    "plt.axhline(0., color='k')\n",
    "plt.xticks(range(1, N+1), \n",
    "          ['$\\omega_{0:1d}$'.format(n) for n in range(1, N+1)],\n",
    "          fontsize=ftsz)\n",
    "plt.xlabel('Vibration frequency ($\\omega_n = n\\pi v/L$)', fontsize=ftsz)\n",
    "plt.ylabel(r'Modal amplitude $\\alpha_n\\pi^2/(8d)$', fontsize=ftsz)\n",
    "plt.grid()\n",
    "plt.savefig('SpectrumPlucked.png', dpi=100)\n",
    "plt.close()"
   ]
  },
  {
   "cell_type": "markdown",
   "metadata": {
    "slideshow": {
     "slide_type": "subslide"
    }
   },
   "source": [
    "![Fig. 8: Spectrum for a plucked string](SpectrumPlucked.png)"
   ]
  },
  {
   "cell_type": "markdown",
   "metadata": {
    "slideshow": {
     "slide_type": "skip"
    }
   },
   "source": [
    "The amplitude of each mode decays fast with the mode number.\n",
    "This is because by plucking the string in the middle, we created a \"large-scale pattern\" whose Fourier series converges very fast.\n",
    "We can plot this to visualise better."
   ]
  },
  {
   "cell_type": "markdown",
   "metadata": {
    "slideshow": {
     "slide_type": "skip"
    }
   },
   "source": [
    "*Note: usually, a \"spectrum\" plots $|\\alpha_n|$, not $\\alpha_n$ as I did, as if the sign was included in the phase of $\\cos(\\omega_n t)$.*"
   ]
  },
  {
   "cell_type": "code",
   "execution_count": 11,
   "metadata": {
    "scrolled": false,
    "slideshow": {
     "slide_type": "skip"
    }
   },
   "outputs": [],
   "source": [
    "# I have to redefine the two quantities below because I used them as symbols in-between\n",
    "L = .33  # length of string: 33 cm\n",
    "x = np.linspace(0., L, 128)  # the x array\n",
    "\n",
    "mode = {}  # all modes stored in a dictionary\n",
    "y_approx = 0*x  # this will be the sum of thre first N modes\n",
    "y_init = 2*x/L  # the first part of the string; I will divide all y's by d\n",
    "y_init[x > 0.5*L] = 2. * (1 - x[x > 0.5*L]/L)  # the 2nd part\n",
    "\n",
    "fig = plt.figure()\n",
    "\n",
    "ff = 1  # frame number, or subplot number\n",
    "for m in range(N//2):\n",
    "    n = 2*m + 1\n",
    "    \n",
    "    mMax = 8/(n*np.pi)**2\n",
    "    mode[n] = mMax * np.sin(0.5*n*np.pi) * np.sin(n*np.pi*x/L)\n",
    "    y_approx += mode[n]\n",
    "    \n",
    "    axl = fig.add_subplot(len(range(N//2)), 2, ff)\n",
    "    axl.plot(x/L, mode[n])\n",
    "    axl.axis([0, 1., -mMax*1.1, mMax*1.1])\n",
    "    axl.ticklabel_format(axis='y', style='sci', scilimits=(-1, 1))\n",
    "    axl.set_ylabel(r'$N = {0:1d}$'.format(n))\n",
    "    axl.set_yticks([-mMax, 0., mMax])\n",
    "    axl.grid()\n",
    "    \n",
    "    axr = fig.add_subplot(len(range(N//2)), 2, ff+1)\n",
    "    axr.plot(x/L, y_approx, x/L, y_init, 'r--')\n",
    "    axr.axis([0, 1., 0., y_init.max()])\n",
    "    axr.set_yticks([0., 0.5, 1.])\n",
    "    axr.grid()\n",
    "    \n",
    "    if n == 1:\n",
    "        axl.set_title(r'$\\alpha_N\\sin(k_N x)$')\n",
    "        axr.set_title(r'$\\sum_{n=1}^N\\alpha_n\\sin(k_n x)$')\n",
    "    \n",
    "    if m == N//2-1:\n",
    "        axl.set_xlabel('$x/L$')\n",
    "        axr.set_xlabel('$x/L$')\n",
    "    else:\n",
    "        axl.set_xticklabels([])\n",
    "        axr.set_xticklabels([])\n",
    "    \n",
    "    ff += 2\n",
    "\n",
    "plt.tight_layout()\n",
    "plt.autoscale(enable=True, axis='x', tight=True)\n",
    "plt.savefig(\"Modes1to4.png\", dpi=150)\n",
    "plt.close()"
   ]
  },
  {
   "cell_type": "markdown",
   "metadata": {
    "scrolled": false,
    "slideshow": {
     "slide_type": "subslide"
    }
   },
   "source": [
    "![Fig. 8:](Modes1to4.png)"
   ]
  },
  {
   "cell_type": "markdown",
   "metadata": {
    "slideshow": {
     "slide_type": "skip"
    }
   },
   "source": [
    "In the figure above, the left column shows each individual initial mode, and the right column shows their sum, up to the mode on the left.\n",
    "Notice how after three modes ($N = 5$), most of the pattern is captured, and adding the fourth mode ($n=7$) does not improve the solution that much.\n",
    "This is why this approach is feasible: because we usually don't need an infinite number of modes to obtain a satisfying approximation to the solution."
   ]
  },
  {
   "cell_type": "markdown",
   "metadata": {
    "slideshow": {
     "slide_type": "skip"
    }
   },
   "source": [
    "Solving for the initial conditions means that we solved the problem at all times, as the animation below shows."
   ]
  },
  {
   "cell_type": "code",
   "execution_count": 12,
   "metadata": {
    "slideshow": {
     "slide_type": "skip"
    }
   },
   "outputs": [],
   "source": [
    "# Various quantities\n",
    "t_end = 2.*np.pi/(omega[0]) # time array spans one fundamental frequency\n",
    "n_frames = 100  # number of frames for animation\n",
    "time = np.linspace(0., t_end, n_frames)  # time array\n",
    "\n",
    "imagelist = []  # list of frames to eventually animate\n",
    "\n",
    "# Animation\n",
    "fig = plt.figure()\n",
    "ax = plt.gca()\n",
    "ax.set_xlim([0., 1.])\n",
    "ax.set_ylim([-1., N//2+0.5])\n",
    "ax.set_xlabel('$x/L$', fontsize=ftsz)\n",
    "ax.set_yticks(range(0, N//2+1))\n",
    "ax.set_yticklabels(['$tot$', '1', '3', '5', '7'])\n",
    "ax.set_ylabel('$y_n(t, x)/d + \\mathrm{ mode\\ number}\\ n$', fontsize=ftsz)\n",
    "ax.grid()\n",
    "\n",
    "k = [n*k0 for n in range(1, N+1)]  # the list of k's\n",
    "omega = [n*k0*v for n in range(1, N+1)]  # the list of k's\n",
    "\n",
    "x_positions = np.tile(x, (N//2+1, 1))/L  # replicate the x array N/2+1 times\n",
    "for t in time: # We loop over time to animate the modes\n",
    "    y_modes = 0*x_positions  # nx positions for N modes\n",
    "    for m in range(N//2):\n",
    "        n = 2*m + 1\n",
    "        y_modes[m, :] = 1 + m + mode[n]*np.cos(omega[n]*t)\n",
    "        y_modes[N//2, :] += y_modes[m, :] - 1 - m\n",
    "\n",
    "    im = plt.scatter(x_positions, y_modes, c=y_modes, cmap='copper')\n",
    "    imagelist.append([im])\n",
    "\n",
    "# Creation of the animation\n",
    "ani = animation.ArtistAnimation(fig, imagelist, interval=40, blit=True, repeat_delay=80)\n",
    "plt.close()"
   ]
  },
  {
   "cell_type": "code",
   "execution_count": 30,
   "metadata": {
    "scrolled": false,
    "slideshow": {
     "slide_type": "subslide"
    }
   },
   "outputs": [
    {
     "data": {
      "text/html": [
       "<video width=\"432\" height=\"288\" controls autoplay loop>\n",
       "  <source type=\"video/mp4\" src=\"data:video/mp4;base64,AAAAHGZ0eXBNNFYgAAACAGlzb21pc28yYXZjMQAAAAhmcmVlAAFkR21kYXQAAAKuBgX//6rcRem9\n",
       "5tlIt5Ys2CDZI+7veDI2NCAtIGNvcmUgMTUyIHIyODU0IGU5YTU5MDMgLSBILjI2NC9NUEVHLTQg\n",
       "QVZDIGNvZGVjIC0gQ29weWxlZnQgMjAwMy0yMDE3IC0gaHR0cDovL3d3dy52aWRlb2xhbi5vcmcv\n",
       "eDI2NC5odG1sIC0gb3B0aW9uczogY2FiYWM9MSByZWY9MyBkZWJsb2NrPTE6MDowIGFuYWx5c2U9\n",
       "MHgzOjB4MTEzIG1lPWhleCBzdWJtZT03IHBzeT0xIHBzeV9yZD0xLjAwOjAuMDAgbWl4ZWRfcmVm\n",
       "PTEgbWVfcmFuZ2U9MTYgY2hyb21hX21lPTEgdHJlbGxpcz0xIDh4OGRjdD0xIGNxbT0wIGRlYWR6\n",
       "b25lPTIxLDExIGZhc3RfcHNraXA9MSBjaHJvbWFfcXBfb2Zmc2V0PS0yIHRocmVhZHM9OSBsb29r\n",
       "YWhlYWRfdGhyZWFkcz0xIHNsaWNlZF90aHJlYWRzPTAgbnI9MCBkZWNpbWF0ZT0xIGludGVybGFj\n",
       "ZWQ9MCBibHVyYXlfY29tcGF0PTAgY29uc3RyYWluZWRfaW50cmE9MCBiZnJhbWVzPTMgYl9weXJh\n",
       "bWlkPTIgYl9hZGFwdD0xIGJfYmlhcz0wIGRpcmVjdD0xIHdlaWdodGI9MSBvcGVuX2dvcD0wIHdl\n",
       "aWdodHA9MiBrZXlpbnQ9MjUwIGtleWludF9taW49MjUgc2NlbmVjdXQ9NDAgaW50cmFfcmVmcmVz\n",
       "aD0wIHJjX2xvb2thaGVhZD00MCByYz1jcmYgbWJ0cmVlPTEgY3JmPTIzLjAgcWNvbXA9MC42MCBx\n",
       "cG1pbj0wIHFwbWF4PTY5IHFwc3RlcD00IGlwX3JhdGlvPTEuNDAgYXE9MToxLjAwAIAAABt4ZYiE\n",
       "ADf//vbw/gU2O5jQlxHN6J0zH78VuLo0N73OAAADAAA33OZE/sqTBubAAALo8fpH37/mAZ09Sct8\n",
       "jMgUwaxZ4USOFRdrKKwddCbeWxkMAquZvcegsIDC6fNJgkqPis2FjjBigho7+rBGCC0TLk3Mo6ql\n",
       "dnWWt6N5rx2Hi4XEv++AqZPAJ2rtZKFsxoZu5fTdn0+TKLXtaKk6EJ93ChVG/dlsZMuaOLptoMZm\n",
       "i9ktSIq950XkSANWrhmAn4rbZtiL2wRIg+FLwMZQX+1rxD2Xn5v1rciUyhr49REM1k5iSpNVSfhp\n",
       "UZPLZxkGmnNgkaArt3TCCcAUZeHCOXF/kHGCYeKztVXBmbwTm7YXR6PMiQQuj9nwX2CYr/RLFM5L\n",
       "Rfl5+gt1ruWkbevgVJPEtsMBbOWNcpDcHjRqF6dnvfcIyvBx5/lkmgqPRbeuo30TzLYQufrwFZr3\n",
       "31c8IUnZSNqZn+mFUY5IZ6qU8vsHKgvt6AHxjpPcwzUW81V4Nog0+BlGuSD/zev0Up9vgbLsp0vD\n",
       "Tmc+RmYjMoaMHElaAT3jXeOzl5ScYjZWi4nbu+SdejBtpfAJcH/6tfunlp8PSzy0lPfB85N0Cx9L\n",
       "BZKI6V1alZ+lhFjfoCZuGGn40NFBSDZFJMt411SHr3p/5zWIxVevKkGp3bEl1wCU4WmOHpheVJ8X\n",
       "wf59wIlRwZ9ZK0p9V+z25yBWabEol7m3BhcYDtoA0ASxa4LMvKAIjt7Zb0Cmt4yby8EoPyOSczfZ\n",
       "6ar9kooShCM1fJbmREtr5ezNCduGisTpuHTZPfUmBMKnWHrt5qGcZPtLFQqRZfUWosDwx4mt5WM1\n",
       "aSw/sd8RbBdK0QqJXtwTDF+imGtqMs8inhSawtt+DwCGuA7edKBdzEXH6EyNlZNv2AjKNGfjn718\n",
       "Mpj53Yt0n4g4WYSVc2sEzj5c83hxxHfo4+RqcjwSwo3pF7u9qi4hawqhki5FECfRT/dnYY4JQnzJ\n",
       "FvehnmGhNXpM1h2BIeYAbio8TqUjzztLm6Z9dxUxpxWc8iYbpSO+Uf3NoRqOq9d4QaLH5s4Pgl4f\n",
       "OXc9X27d4DCkYmpd69WCjY1IhHBnkJWs7GyhzFnuRFfES0C586AUQZk7IXZ7tW4RL3qQS11P+7TT\n",
       "hUYGa/PzDsR5qaWe09dC4FlGmMMYDIxtp6z9i5dCex5iUbUCoPLRW9ho12ccyoHYkGLGefyrESXm\n",
       "tCVrMQNod2GnsLHkKv+O4nwUNumPzkPbIDyhMGw0s8YgI/RYYGQ7lzM6GPeo/EuCkwRwoJa/Sl13\n",
       "2e3I1MmgsKealxTji4ZMYN2W6Q+ucdzMH8g7KByG9r8PjqixAySSw6baSGxaRzuwcri5ZmgsavJE\n",
       "TEgXAOp4Vi/ORcGXuDYj64XcpvraOq0mLv8ipTEjlnBtS0v3I+BqiYwb5M7epR4CtCvP3zouIHzP\n",
       "7i00H4HGGnJE8K/J1gbPcaXv+N3iuvzNDK4UU4UqNsJUGMnAlo8Ho/H6i9pC9k3vKu//c0H+S9NV\n",
       "WZAX/zVnHPZGPfTTbkc/gHrsmPCrQrsfauqoo3PQZvRPnMfjeFSju+KT0aw2G4/CS/wyKGMOR5g3\n",
       "+7+j1w33jDhnPcr7O7y+Z7evnMYCdIHOb+I1xpRhj51z60UgLiU75Vj/QLRvAsU0nCdyzEIottyT\n",
       "qR6HIFoT8tHpPPsjR317+EFPryRkeRyzWT7qK5149/7rLoyYipGHl2Wk0JTrIHaqHfoJVs+VbbCw\n",
       "xn7eX+0E2XAAQz8qC5w+BarP/kvorsWIkDyUN9OPaYwcatnkzQ2gkIHLcLNNW+G7+iyArXb9dQQP\n",
       "JbTmt8P6IbaaQLffq0oLK4jqSxCcjTCrUgz3a257WKRQvQCKUaJlKpdpASTcis7bUPHhgT/+0BrC\n",
       "39Ly74sqDPINj3HLBPaZNEbLWrwLaS45m1Qgno633BpNewJ5+0TWbJkNGTzOKfOHHViF+FbMVjvv\n",
       "eQ4wRyPj9gelcDG6J8GYorfqdY9P3GozVO/KpDTvXwemV62VB9zDrDDr/AFKdgG/RCtdH3QElvCB\n",
       "GtmweuR/kid8hyznpn6Nrdv8XMd3Xh79C1Tr+zocbXnlGSgMzf8GvpB86WBPkDMlhq7/3/UwhD+L\n",
       "thF2vCV6MMSRe3C51ni0GRBegLyGsfPoXDrhE0e0NdcGOOjx6wo0DuVEqFYpoftLt0HqbcouXjvA\n",
       "P+dlPzfO2T6jS2L4UXMQn4if2mA1Cr2y0H/jdFAkHI4Skmb7Q5DA2oIJ9y5bQ4IsOWjJY2Bc4Mo7\n",
       "UCForZ8bbwzhIUWxG9OVM5yhlPQZSZtjbs/LddL5wis8Yc0E6TqTM5706I0jkPTO9uLqOqrgmmJK\n",
       "4CufO7IcF50Lk1P2Gal6TWh4rFDlVWNkAnUHuzDW1pm8yhBUQaD/QRwxTXzhU8cL8Xql6+aaXXSJ\n",
       "tXeqk4y2eWn+Y37IYYJNyAc2x0gS2Bc/QQBP7ng3NbqhQDt/3t6+FU4BrixJ1F2Sc7HGnGvGtMa5\n",
       "HPnvcyeDG6MK+YTSf3XGWtLTxX1+Qk7kZ/aPrq3XTzhhiMXH/rgnCU6oetgiwAFGpJhS+L9aa/Zk\n",
       "fvlNygxa9IPvgGJWSZaVsYsJ0i4vqb71qFoxQi7YdL3AwiH/HseVkY7WKohnUqy9yXf4l/wh5/o7\n",
       "flY3vpquDvsjKbJJar5QAdD4POlqqQxh9lWLUUUAqadO4gfepPaB9U3qcbrXVCWfNrrt4lc37pzq\n",
       "jVT4J6GkXHzFDXEGkp8R2oGv2qXdUj1FUQYTS8De6MTL1JTjeGPoi1H72j4eNFiBhj5EEjiAvSxH\n",
       "fiSGD26PvoSu0oeXukxcJ/beimXMnJ4Wj6ZIulvNcKLyTAu/UuGcnu9OpVh+b7Oi4/a35onE1DRZ\n",
       "/gouMLhxWrHM3WDklYLnXw3VDjTVJyOL4JQadsvCwBO0fRQpKx4ThDADqx93kttQB5vozIE8IqQK\n",
       "mMVT//U9TtXMKpdv7sW2vo5TNESsWb3FN6lQ+J3pUkv3htSXLhvsIEhe9K5ziHsinf/PlgfRMnP5\n",
       "ARdzZPAGFRYyTWzorfaeAJqcYet6Le+7VMvicAd4+9oQk8uEubVbJ8PrIQw8GY0CGNiEWoMhbWsA\n",
       "dmJw7eTLIX8dPZB2m8H4q7jEdBB2GJJ2f8xj31vgfLAQeI9gax/Ri6x/WlhTYjzwKv6TQZMxe04Y\n",
       "ojf+e7jcmB3m7JJdhFjTC6xNL6r8sDwzk5dflR7acpfUO5PnvmDQfc4POUZHyUMeLd//4mVc0eiR\n",
       "8F/TK948N5otK1vpJ6XfDOjr9ZlpIpkaDow2C+5F6f7lVI2/Mf/qV7R24hKZbvxkudS/0feRvfEa\n",
       "OJpLSZlkXmw47Piil7yfsA9eOqQu+NffVlpa1XVnOwSd+EJqZXugdhrmXyTRd5YJlHgbu8j4KjPu\n",
       "PAPjAsE9nqdKWSefx35NIpcAMJmguumMu8aHaf/KXmGYY/7Jsj6ORi86KbnKcxnLP/Htp0/Yt6oY\n",
       "s2M0MgP5f//vQIJhZTQQVpcc1SD9vCZmANGaLJt6zVvVm12LhZp9yotBZbp7kdhL7Vu/OBKnZ3va\n",
       "priVyOZgxFRc9lQxQwqcORVqRzzdEx5DjrayJ5DP0u9EmT+IzQ1k/f4i51sXykYO0HB/yj4fLNIP\n",
       "kjNadvALoEkXAmA28xhwR6dXkE1VfONflXfRb0m5jkEVTZv5jBv6fl1eY4UpdOXCku/US2s+ja90\n",
       "tvVmuznY1EkybDaVy9dFX3h/VkFtlJkeV+9IDo/DUl7gABWT0HCy4QOmdw250AftKV7vI9bIZvYV\n",
       "2aJmJQuvz7DxKucM3gnQWDtTuEXInsMBcNjUSmIAOECW1pK+iZuSZ6AD355P61+P9UW9rnJCN2en\n",
       "IAUba9jo40XcZ99fJdlqWwCPiPn2xdJI7XuEbblPN8StyTT+FZHpmbnnXOKBGqy9aIWXLoVlFIoi\n",
       "Zb3H/vEjDOPmIcKRj/2h/jIKzO3Hwuo3bkOf/Q31BLXCQ8IvunV4voI2H3Mr8vNxoUE1VSvS7pb2\n",
       "2FZ2ndLaD7eVb5bIe5ZqJ/C9/xvfxtQM3nW6i6CndIVGOinmCzCedOZsRZIoyGz+eIzaJRlZayvk\n",
       "QGJZj4hEpZIVpZqy+Fv5lG6BCdkgJa1p+hp35kf5J86Efd6j9tGrhvFyhc/Mw2OhvPGSdWiwZi1z\n",
       "oE5wkLSWxKZJYVYIYiGYqV2qP2eUCaRQWDEw7BKXISgkUFi+PwLvMYwTWuAOgqDSV/lt2m9AM/2q\n",
       "OecjnM+DjOpwYAFpaUYwY87SX4bGnwz5vJZ6ZQ5QF0v5Rt3Uhu/Zs/mrbFu63OMN1DrE9tP2eU94\n",
       "GNKHv/dADZBg7C6iXVvzMt8Doz5QsdxceKJgn0OvvFpSfZ7REOSAkNwME1P8KmTAJh4culVjLgRu\n",
       "J0fy50mW8cflAu5J5yTDE2BvMxttKAGd1rByLjmtLgRvbY6Nz9PdvEElYNlNZbg0dNirs/lmYnSG\n",
       "tqB0683B0yCXBdVkk1DnfafkE2fwttwzXpdhgZkS4VAUiZCzV7aJsbGDkyQQ+il6m8DFCodTM7oi\n",
       "bKaq7N4sj7BzQEfkBIiKv2nqUtGc++owuxskpr7xTJzJg4Wf/XKfpjWOclpWajPY5kUZ8GFaeXN+\n",
       "rwgNeMAW+16Y7hL3vsASqyx+dWi8e4lB+OIcrPl//v5XIu1kh5btEowzIew8c/US+epuUNBz0OPK\n",
       "tM9egKmUUshyN55N0wNoUmG8FEKdeCpm5XPHTQwmiDLA0HtWkHqwyR+u8coSOkZvC5RYJ2UTm+Lv\n",
       "BSDngU0aNTQR0ZK9w0loJSfwBl7AvFpCXkjZ4o/HsyAQySp+RL6gCX9qaNVK2yZ9gpwWoCgZj1rU\n",
       "uQeEofWFoyZAHIbwvY3EMH3vClG095iJUm/LqkuZmm5J1jJZJ1yE4+N0T12hlv3xhO7fUz5dJwmU\n",
       "WH54yETWWKZf8ISRAenfm4T9I7mtjtOfkCU8wDHvVD6da7foipDv5S+nQgxFCVpCtiUo8y6dh+82\n",
       "5De4wefYvjqEFCDOAQfdd5Rav4x//Uqj+sGaStkEGV9xspxmuTJQAlJ91VTDNmBjYp42MrN9BumT\n",
       "2wwSj09jkYxBNaH99ZgYhWv4/i+u3JBKBzizT9EhgUj/A+WYh6owSsnhWmBHE3a46rXmfN+D4Ojq\n",
       "6BjIB/C08zoYFzIjFDTu09BLICA2M7Tf0Ix3PJ5KuGQEGPt6Q9ENBTszMWUO7CYAt5MGdbu/UkAr\n",
       "JtFvgwvxGy1mdC6IWDrVhnvBKZeNSnE9ZdOj/b+GJTQcozkvtE5h6XBzBgi7FcLfO5ya4XVQIBal\n",
       "GhWE968EIgz2IdOOd7/I1kXob24FE68TITYRRDNmCrV6ygMoE9wR41y1/KWFZuJXewZGBxjA/29x\n",
       "6IyEBDYVeubTIm2VckYuds8sVzIfMIlmUSKf/n+nWoqXcp3mg33AduXPULZBUhXbWT0iUPMtimRJ\n",
       "8wSzd5z31cGWu+zRwbJDQwARYHsI26pob4BZJYUomlkGAbns0+uGL8a/nuQ0+HO5/a13JoR9wBHJ\n",
       "y073NosZ6B5GkRbsmeaEr0iQSLG3H/D9TrQGtvDGJfcIVjOCyRFWAW00Mx1lufUIMxxw4wuQlx9q\n",
       "n+YQHIogSC0XaSMYsWboYuAz2uqrvIwEcw9rg2ABiIOXAJu4wpX5Mp0Ve7blJyyoCj35WJe9X+xS\n",
       "f0gxluZcR3to1gzO4kXIHS0YsF57ci38lHlI2/xUvwbVGR6qANEBzF9gHZ8Tp+L6lpFwz1XhDuCf\n",
       "m/5FehPV0riD+PPp63SQAtCPqP9+3rHej34YG5f+lzmJ8bb61JU7D0WIh8VZHjYNHiLRr9bN6IFA\n",
       "5jGGgRrNB122u4BhSw1yzxxWrWsJf6yN+T444mggtd2yMFsmFVBwmnNQHBzC+VYII9iC+7ulnHs+\n",
       "nW40bmDKzosNtJjqoUuq5LvIbC7/7gKK4ElWnqpK2Z9Yh+glE4GiqtD8fifwoDAIrjZaRWmDpOH5\n",
       "438Or+jBd00ugfpAdocPzArjmjWhQaW444qtQgSbtKa1TiWJ+RCM5d/UPBy4f7/Tyfnn90tLpdLS\n",
       "v+3kQn16u/xudSxIxQ0CQBke3e0Tc0ZDBO2TYziUYcgi7176O39wIfDw49aR26mD047P4G5DKlTn\n",
       "vMe0T7yTJznX4UJ5ffMexWtpJsHVRzzDzN5mmcM51qn2HcAK11FvZ0A9eWw3MzUZqtTWqlx4WB7U\n",
       "iJ9PlCCHkhup5FlzOBVSe81qF0DvqjW+4SGOXrFSbZ//FejuYB9uDcAM3wrJVtRPN5VVh0lWA0tc\n",
       "V8nABFKNxoilkNlmYEy/g+2DkqLd05uoLrxeFXl6bNY+jIdUu7c4qqowm0V02uNZ/KEkJfH4eD3S\n",
       "tCqGGAGv6HHnLIwr/wuDB777RNCwkxRF3RKO95YEtkAtsJwbfVfi2oz+UZZkzK2vYnhQ1AswU3w4\n",
       "bDZ4ZVatwpxYgZcVsP1JkFF0BMXAZD3t7JhCI4uzo9CjD7L4g4UHZXNitdPhP+MxrHeSWR5TvIZ7\n",
       "O3vTWwvz+sjH4nPE4Gmz2g9mSl1lR4DsFjj5fNRrzWy+61bQHILRA5PY5oQL4rul7m/eEDoTyxRP\n",
       "iipXgsOIO/V8Cpk3qqsht4+q6zKZ+U03yuNHcwSWXlRo7SfbfJ8kMipwsbmkaNLz+m3ga5bT8b1h\n",
       "jEN5lu28uAtsapvoY+vmEunE9f/LqJgzIV+zDhsU9Uxujn62NxWaYZtakH7jDtcmJlAP+/rN/h7q\n",
       "2UC4xXnVSgD78Fra09ga446268k/fBrGSEVSs7+6de24OcCeqba63lNEiN3fjFbeWvtgb/zwDP+M\n",
       "j2X57ufirBclPAPvOE3m+SqVsRG7EuPqbt9UauJgdL9+0S4LMsIuklq/4OTDec0Fth9tNHYLmXK4\n",
       "BClC9/7uZVKjXD5m3dxSoF/AFWzGwUvBxmEHmxxG98UIkTiyb7lv3z3eObNizVy9JkY5CGzd1OWC\n",
       "ZXS+PeVjuI9aMv8l4u5R+dLoUrN+jkW51nimdSN5wZM3VxIrINvPepmRbW0KajTWr2xtu/by/0Nt\n",
       "LehIlwYFm+k51wQes69pfHRMZfzB4c8+aDT0Qy24ap1qbp88zQ0Hv04GN6L00jx5zPGcaG1+8dtA\n",
       "9OLbGXgGLMPjS8o2ujvejG/wwf7ub0LGeCLSsO8ZkcffGdY72Po7FG7G2a0CKDPeknKs3SLDT0hw\n",
       "0/cqnvfd1IszRIVVXPfjL+a6qMAk4i60UUmiqkniqKlRzufOdz3RUxlxAiEQSPriTuOYKenqFEzO\n",
       "RPyjEpbFcO6OKFXRzQQJBWSvSMQk6aLH9v8+kfI0EwzOEUfenlyybF3t+CoeFzu6gI+7iBRFt6Ue\n",
       "bk7DV9SBa0+c0FqEDQy8Gx2iXMDsUIEhBAPhLVuBOzCqECqChMSAQgBX1MSPJrjs7LZCfL0ekCsw\n",
       "6enRlY0A8lLBe3GuMvzvhnNYqDeqls5Bx64c1Me/mvDljU4mGc2NYLaFhsqf7cR4HLPHyBLZyih5\n",
       "Ah4je3XymkE+7eRtDZVURhaSCklryFP5mf/YheC0mh6LgGk6gEij/+AHvObBU+w80ztdmq7klDEu\n",
       "DTy+uUYQJzf3TNJpIfxVapVo7EGHWpv568iP6sSqPgmUQP69pptSQ7u/bem6HexRWzLBqiFxLa+q\n",
       "Btj9oV5CvlEVNtSJKn8cHlh1rBB0C3WqPzBqF2Xzf0zY2N7yy2ykEUxg+sBzZsUs9YLgjaA87Pc4\n",
       "qjy6g2HO8dHsvFZUg99hwjkNlRfEoGnLs1yPbrOS9HaajXkcjPBNpIyTzHIl8mhHSBurVxToJ33k\n",
       "5usUBFMWoTTYVFHfrf5/cxfm3WZjnUpj9y1f4CmZEkizTn45dwEQt2+eyDirx4SCpXqwEBRLQekZ\n",
       "FN9wRji7NrffEhNIXSfoolqsrHnHe+AdL88PEbN05BgiwVaTzMkZfvFBFweruJTiYRa2c/XHzSOC\n",
       "wWy17M1YpJ9te+iJVMHVDTg3uUIMUfNhcoBTr7MZ5RBirIA2iQU+pGb5sZsuiVDlAy4OeqzS3/vT\n",
       "6pSlfDFfMOS9eiF0BzW+DS9DMnuLxtag67lkpHa+obpcS1P66+VmluV9GBxha++zqt/q5BggNtj5\n",
       "XGVUq73R+djtZB5iQKZdFHUhwhx8V3pcaXDB2gpU/e+7lEFIRiPHKqGUyRt75IkNpjQGFWRLKPHa\n",
       "Y+h82fVDcRnhLAyOMnpZRIHcUxiZCrMxYnUalcteppiv8v3gwXLgrHwwYAJnfl16siYClWKJra1O\n",
       "P3K2X4jIdpvuXYrhZh4Rfvwnpmm7oOgO2KHBc5Z35QxSm/6Rhz2BbIdv8A+pBBJVmfWPF0vGrUm+\n",
       "xCemoj7DfgWPxazfQpKmoFirai3WGBH56eva2AvDK3kbvQYlQZuZC7l7DJeZdyDXuDW621TrVEFg\n",
       "2VJ5NHN5wUWMJk7qAmKn5si3r9PZ4GLE4yNdT8j0xzcnVan7Gra2r4daGvUAtekWCIzBoZ4EH19O\n",
       "rH63HaKW5DTKe7bPp9ynoualAd7iD+TViA0CQr55JYM48/NdZMIeAhJFuzakEA12OLTsfQRJ/jVb\n",
       "FtOuW44MIwNxQbgrfUZjCV+svnuRWs6068a8xXKV++kRztqaWqr6NWc1/NkvCP5H9GB2uxiBqr5R\n",
       "UoPMn64hXld/FiaoTeoFFEXnLmUHcQ96Zi7KMIW/n25XwQ1x4mL7kcpWsVqjsqq3gUj7GMsMh2It\n",
       "XdYmuZ2cc69ok9sQLK5UGFAGh04IA+as+4T1KmO2dmtgPCjB5I6K5eyXAn9phnW2IRFb9n19FrF3\n",
       "nG2nYUGCfNkktivemkiLqT8xu0xjpQWkao2OeNAOkMarNJSgu8G9noMhn3zf/P+s+FbMkN0ALIyJ\n",
       "SaUIkp4RnV4zuRazmrs3XVnGV1xyUTy0V8yaENEicMbWhF5NcXao1rVNDgcy9573Cxb8lLxK5euF\n",
       "IO2VDaSyJYFx+ZfDmF+EkNfd0XvdP+tbews95kKB56U3Dq1y8W6fYa6FbS7LVFcAZ3MRX3AelpW0\n",
       "atFLTgnFkfJDoMFNlyoahL/UrfYKnDNW0coVpGoFBEUqumhXfgxYeQAjb/zycc5EvR7IP0UbMdIp\n",
       "ig3wy8KsHscY5Y61VSeEot72xEoLpd3JLC8mICWir54KawKCw9T9HvJUmppHI+jQMcAAQL+rfpTu\n",
       "8s0E1Vmk6si1nk1jIDscTej1G1gkMz5Esgfw5ZuGPJMlFcRvQSNuG54XMmtUqimZRpS/PwYuY0qk\n",
       "HbNxCrVjBPETwkWVauTYXFqIun0SYai/ubbKYmUiGGg/c7h9JPscTdqrpQop8f70+QoYYMNDgwjV\n",
       "jJDRYtL7AchPcUT2E4CAABzxAAAChkGaIWxDv/6plgC8KG4AhHDbtaDWsDt0UHpC/gIp4l+/9/l7\n",
       "9itCneIh7XVnI+dOK3fUjwohro+Y+TvcQfcKL4wRcR9u2VQyTwY4SuY8SkOfNc/oo9uqyEE9wEWz\n",
       "Aa/+MzFhRt/sSKreQA5dJSiItawoLyqWASpXnJ8ylimtWhILsXh2KatjPfsDJNdZxsXkqusWQD+n\n",
       "gaqjLFtrkxI+fbgR82eHJ3OXSN/RBsYFVhoyl9Ei28dk0ZaHGBXTpi1n985n3Ectgw7c9eGJqEya\n",
       "2p3VZNfiWCP1JeKaai3Cn6rqb54xh9pNmYRbSfNvafEpLeqHs/vd3roQSJI3ZF6+I+cHWdr+KqXX\n",
       "AN7Kgm1WgWqpE9VuwQSd8wg3msSXNSNtths6Lnj5g1FA+6NTkVTslL/frCazv2znC1CG9saF43w7\n",
       "K8a2MRdUKuaR4AasJpvS6MBe8OnZkUZ/49c98d3kqvRAgm5lIS10kq5dfVw0/24IM9/YHgU53CW/\n",
       "YZVsu//SyklXRnzSO6ryQD5MuLYD6C/Q0WN6arSqbrPiHpuHL17RmSFs5kRIQu72s6/zDAdB4yKt\n",
       "AFBEBY8G6k/uU3Lm0TPByRV3GEIgHEX6PZlUO54JNcLVnT4TRajtIgTjSHXIUEA+ekmzDXhVQfbY\n",
       "ZHgVq/I9UZx7UB9mrD0sc3B3sXOZux2IUIoyNrTvfIMLFQcxXYcFfUM4HpmLFKZJ/NUdniV1e+KI\n",
       "IKtXtwBlNu4F/UqKfDredyzmEYEVdHzPprKJ5jsJUSnucXMGs7eS1T9ohm26XsySfDURyLfxYDBW\n",
       "xP+c0lRN24img5b2NCQtqS+BO0/GVigLEziw7sPTjHRmhhHUxWkbPPcAAAZAQZpFPCGTKYQ3//6n\n",
       "hAFS+AtrV+7NeWGcUfh2CYVANrxM/9/J/vEjE0Sa+Q2cXercd5TjqNwjwZi8zahYSfoQFk4vxcsA\n",
       "thZeE5nDxsJnNMD5gNieFWoMdQR62RjPVVM4fYA3TntcmsuBR+PLNOxI2X6qSTVjoeZxqlKba0SC\n",
       "7uYeWNjZ/SF593FCwV8i7QkQwAlgXyDp2OcTRBXFfQ79/1lu18GXwN5PiUzQ9EzjbcO2npbmfmDc\n",
       "jj1gX9eaTOnIbRpN7svV745VIKizlZidIAHbZBhjArNWUbgIOC7qzba/5+7pGEqlH8kxHG6Kp9u8\n",
       "sNxCkXLq9m89u6+USInOCz7k7xqpUNmiahac9S0TbCyuKsafNJIeBrjPfUf0qW3i9aSWPvgDpBTc\n",
       "3WlVetfWZJJelOBaJ7UxqtvlK/7f+hyhnolHePjLkRn4E3pGNWgI42GIRo6rG3sLH2QLrpKAZ3vo\n",
       "vxBcz3Dq4Jo5sIw+OM4FvVdVK+ms34TQkVoqT938KS7tszYj4Lz0KqzV+eYQKHe+9R7yFjim5tLk\n",
       "Q+9TP7ozzYozDpn+Mq5ci/IE5cDJ8ldPzRj7qCou8cdjAkdrnUUB9YOfOp1yRbxZC5n4Pap+o3li\n",
       "hsje2XhwLSITG+HAdwo05wMvn2IWpChc34lJJjSf/N9a9VI3BNJ3JEfXjxjSPBHQEsRQAbSv8eJ6\n",
       "vLOHUusyPNeB8JA8vZAQJjiznSWlLxRP5XCSM/dMIoJ9FaHGX/MuiLsvaXw0Z08/nUFqsh/Wexlf\n",
       "1+5NpL+3zYwQko8QufHqY03H47BQMW37cPVt1ezI9Fs4je+poHsUkFnRQvMg7aKY2SKl1gWeS07x\n",
       "o+pu/dNBX22U3ACz1cnhaIlNWcIbuCczUOpAPfHZg5b1BcisJ4o5dbZLQ6HnTJ74KosS0a81R1HZ\n",
       "T/65EjdDq6PiExQ2KDb5Gk25KwcgNxPSAHHh0qeF4B6ooOS5ZLVC5L+9sr4bXtH/DXPBilW1jb0n\n",
       "UdUBZ3uaFrHv4b54ifEo757vvPBzG4OvtH+clf8TonUqgXAI3Fp5WH2F2XeDrNf/VpGXtQxGR1b0\n",
       "kpU1scIQFRXmSi9f6opG5AO/HBMXeInwI6VdtKaopResJEHV5WS8T+Xtsq5GyuEdDSa8jWePteN5\n",
       "hHFIU84m4C3Zk2ijH154xwsQ1jQHhBpXAJWppXw9IDsfa+krRpLY8zEHee4sDHUYEP+F0Y8M+sHO\n",
       "mdVXmaTGtheJvQc+xuIryPN1FSr5tn2eTCuND4HZRCeo2Ub0ZJsqccPPUMqwJ2et2BrMgo33sXes\n",
       "QXlu8tBadOKPD1ejx0E1sZ4o7cnh5ntQCBdMxkjNJBwjqUKnWrZWfAe3uUfGFCFyg1dfTxImBfLA\n",
       "rCtdEYSHWZNIkqSsqnPU8TWNRgRYfBRFV76xIHP57EZhpkAs+pOYE8+WcSpmE41QfYO9H9LAeeQ2\n",
       "O/1ZNM63j5CaNV1Bf2FXLRhPCCoC6k5w+MQiRWiBpswSeyatySShZo2LWrJBbAptq20xXsUhtqxT\n",
       "qhLaUhCKaxz28dGPRZKk4Ky9zsSXrYrtkmA75rlNhMVRmHrqy49oK0DMWWnZeaGK4o6mPsc/J7jE\n",
       "QoI9pTs7gkWOa1MngawUtrpeMktI7/ixUCVveyOOGU8BJ3l+jAQx76NoUY2Z5pNdpShJ497frH7k\n",
       "MTNCkFM5l7E++fzSdlZ3iv4d6r9lJcZfY+dPith7KkkZff3Lv68j3rAoUTBdTEUOE7ciQ24yV6rq\n",
       "2kba/bfhZ6hJXOo6oW96W7Yn2gmoDsPpsEVVS40Ho8SajSi4AdWVh8AwWnS5R3Cy0qmXib6hKkeo\n",
       "4AtgWp6Ksr2nEw2tf/GQPjRM6kaHRB+ovaMdnHBUjDr0gWSPKUCrL13ojETgV6yEYXZsTuVybhJF\n",
       "IGHiqg3p4fJqCiTMQInPKqk40VbhX7UeEtZzFMiDalYvxxSM62+FAJBWGMi4O6arBOVsfFgFR5Bz\n",
       "+6AQIZ0qXAoD1yMLT79kzAXvKfBSoPcvtRtpqrEUeVQTN1KhgzhxH0eRBOX/cph4MsiYckZ+S/xx\n",
       "FS7n3gUM+1LEiJcWWJXPHCZBPnzlggbUp32j1nbPqzad4OlQlJDUfPi5vpPVu3Bk5wAAAzJBnmNq\n",
       "U8L/AbJIn8PyKKa7/kXGdkIAJEqKrxTYs8kFTz6AFotsAaj6xyPYQl0M2KviBLLaOZaaGbs+g6mE\n",
       "jGVJr3A+ZwThAqq8ur9BvLxcHspIXbOfIh/YZfG9/geWwmrpJ1np26qL3LS4zqFOTkEsg8GsgZQ3\n",
       "F1IKIiS8IUHq5+goC8nft74UBk+4Q1H7wuQTlGlvMyg2HbdnLTMrH4PlrJEq81B5CaFydjK14DOx\n",
       "Lxe35H6IpPrcojQN78lxL67K7qqP4viWn62pPIas0bBytw6xqBLhtXW1wGAJ7eCQO47RVDX8ZUD1\n",
       "yrTxb1tLJX4VPRaJ1O1kRHSMBwAj1kKkpKUU1kP2OI6fnC5zlDsmH69K+huvMkDR5CbhiiYfxmWe\n",
       "eT+aorxVA66Og+ey7gYc3tKisIRo6y3GZMcVsBE9Kq6Oc+cLAXQ8KX4ObbHSBwMlNBYXN027LJQT\n",
       "l3P1udoRL78hnBCy+gDF0Qeo+f+dcp0V+tEOqejsUmt0G+zRMJnMooARCw6j4WOKlK3w+rw21E16\n",
       "aVDWNSMLbp4AQrm1EPFeHwCMMHUr9oMxdOQJoKe7awoUQFz1yS3NoIdLJxCKbRxwmQujOdOB0Gpv\n",
       "WkCn0siPXuBjCzl4ldrJAPjtf/MfZfDHHEV6WjjMAVPTgW9neZ5nkGJH+DJQhu41iT9OXuZRoBfQ\n",
       "GqSvRdtvP+3W9+HvOicO6qvTlWq8HBO6GQMyGTTWIt7VSx0O+TVk1zovdtGzzR1bGq2+1adptYO3\n",
       "j18iZFVsIwtsya65Ze7idAdtCsBD3GZZgXcTyHL2NQwfx7VNx34jRD4x8NU4+NjCc8G/MQmUuJih\n",
       "uYeGU6I+TDwGA1YTdayffo+QPP4ckmnMZW+Dut60FPKyDRrM2UXHSrTTKNrzPTrOYfDHTBoFTljh\n",
       "s42ZFySefW0sqWSoBUQN9R2FFU0AhakmGmco+wcccJxVMb8V45/dOvwjxLzezqbXj54l7qbtOQ+u\n",
       "rYem77HuPCxJgxqU9xxpTkSEPyuTNACDP4tq2HBs97LK3Q+dWGoCjoxgMO4/s/EHe1HKhvog7jXo\n",
       "eM3XJkH7ldfAcicoOQomoAAAAVkBnoJ0Qr8A/rP4//ETPn+ElLzx4Ny9TQj/1snjtQs0Z+Otxr+9\n",
       "On/tCZ72uQZX1vg4YlxjX6GeTSAJUh+mK1iABEHlYetentgN3DLk7RzSByhciVTMFpPeJJjGig78\n",
       "YHN94HxUBmYfz3FF6qwJXUZH042hSwSHpOqiVYhgZO8Xsb0Jr2FoNxniSIUlrFa7RPdC9eEcGs5f\n",
       "0Y3UfrbnUSGpJI2yCBjBYXrBxBB8DhG2gL6td+Q9I7neBf0JLZgPh+9Iza1Y22wGh5LLj9x+t8K8\n",
       "VOdTwpAAmPYsjr65XRDDJavCgfZ/VseMnXtwJqEIgaeTQOEybkiJsusI4YEChNWGlxAdczs6eQqv\n",
       "N4DD1E1C1saC5d44G65gDN5F5hKCXmFrJxdFdp5dVEY+b+iPdEiFOIfNAo0Z2NDofPC5hgTd/Go6\n",
       "dVLWCnpcGv7U2n77t+OUaCRQmtWiJXUAAAG7AZ6EakK/AOeySogGTvOCtmCzqhH5aV/TsCIfMslo\n",
       "oS8vaCX2CX7XATO0e9IHxl5kqa9bcnJkMwRmZsxjO9WzmP9hz8sDQarwpS90/nstT//fbTls/vFQ\n",
       "AaxCnu9RD83MCwiFFk/KNDax1OBOE1VJDz5mjFqSvMLBiPO/M+XZqNxBz3vyScCIueuynjmczNxY\n",
       "BYeXBbThqGa7G53iENGOqqRU011basvvGPuEluETJUUEqSpbNtkTMehb0NALW4pvVLzxaYcWBrv4\n",
       "XG4PHr6yVf/Hui4lP3p7MQhkKpzwB6hSN+eIuXSNkooG0gbt1JN2IOZfDdrNCW4Rr+uIlkuZ0Odm\n",
       "2vuni6nkBnbHTLdC3EABB7HtF2HAg3gAak/uAVnXFm5oTI1TvBw8hM+tfiId5vd2gKxfnbfTuEdA\n",
       "whK8oVSP4hrpPTD+3PfJaBYeXFYI/aPAQxcNlxrgzvgsnxwbsJIAEtcw9ZCSMSlpGCDoj+BLjPIS\n",
       "VzpOoz6dwOOQo5bqN4bu4JraUtLdz0taOaQUrWPgHMe8YUIShe9Q1TUHsx9eVvR9uMPSSWwd50+j\n",
       "pdrgZraVDnidKWwmBN0AAAVQQZqHSahBaJlMFPDf/qeEAVAH29AAB1hADBsT7ywL86FaqenfaG1D\n",
       "l5YdmZ8r6wVydbSzGFfGkJ6UD58doOTVoIAz3Jd09zT/oISnydnB1MXupxWfRfsENf5j4hS2L4Ru\n",
       "/0HLmadUO0f+iNoIofl4HsqyGD0V5sMU/d4KGEJ6xc1r7EZ76CWb7VJIppEuppNB9FYBotzzUmfS\n",
       "y8wo2sla88mo/+Js2aRCwaa/UlKrDtxP4d3qbUqE6nSR7YcM5z56Q1u9DfOyQPHessjOoJHxuqe/\n",
       "n47iUvF9u67DL8Fzx0PPDC/uq+V0tB/bvpDF/H+BJ22azsGpU2c0xsyti+NFHhjnGwETNqbYc4Bg\n",
       "xq/CWI+MDOx1DyB5YEENPyISlu6tLCGJhBSNdIEA707sdy+9qSTOks560uwd/vOjWYtCvj0JnQH6\n",
       "Obgd527QONLuJOsVLtGXezEwOjzOGpbk5VekUmvkzmh9KCPsbgDse51Zgxfh3nRskiEuVbXFEUuK\n",
       "TeqfZde9Xpjr7yUApi660hbSqHqV57aqs5Vlxw6CiWFEjLzuEVW7OHYq7rqmVAKEdY069BuOmHnc\n",
       "WIipWpUrEj0GJfrTgccGkkLS9XwE4S4wEkmA5PU88JO3f2Dy/+/wrAloc9cDMsU1L6VOzn/+02Pf\n",
       "lZJxTgu3dMtXiwjpgJl7PT2vJomIJ0B9C8lyxBgjxwzkRjgtAWRgb9i4nwubtiFlYxru0s+yQuRp\n",
       "ngb4Y8StxtDG0FhUVh3LyxlP7tDvrIppLm1tppaoTnFHu0v43IYHOQRI06l8Tm9o70WjEXybF8Vq\n",
       "jSGqnPQWOeZdtUW8GnnRZvkGN6mLWUOjmUF79tV+LPR2fnugwAnc+VH33UQIoeeBNI8qe3W5n0ou\n",
       "qdIO4wwuXkoHCtNKbg0cX9kLXT0UhO/jBm+E8zYMLvEYPB51psKBJRj59rI1UTCo8uIo3betQVvs\n",
       "FV8jNf7HWO3pvuWrzd5iIRrD44OGUCHKIzeERZqL9LkZDvg3LjLoKdfSaMB36qcIg45bnBoH9wd9\n",
       "HZQhe95Gu+JrII8u81FDXtcj6Fph9YwtY+HGsAudjVIejBFwapwXEgEbW6S86Fpbl+BEGJpkKB5X\n",
       "RjahiMAkokjPnVkC2IYsIoGs/ODncRef+hGDBvnP6tNcws0Z4mXs+093GHUOHBJlcLKST3eFxNMO\n",
       "WivjGCe2sOaxRvpr/xFJaBcbaSg9qZyFHdH58EqUFzCdtfFQLpFJG0D7Ao73Vh9FF1E3DRYbRUJs\n",
       "jTTujSi+I7oNpMZIz1IusMOC8l8Ek0vREzujJmkdVij/DsjdOKqXJ84h/H85nbvOmqibPXeGsrI2\n",
       "l5TXIp3aPReivsDAf0Gpzj+yAPNfMc+lvI8bh1gjTzr6ZZ5tqkXCx9P8FIzWcLNW/5ocqT4CbAXZ\n",
       "tJEQqzIi7dmq/9KCidT+5xexXEVQHvRoQfzg0gFZ48WKimnKTNNbex9PJ4xxVMTBVQ5Lunk1GB7t\n",
       "w8HSAQP4phbIDAYCfnzIvfT8yJC+S+8kO9XzI8bHmZLo3yJQyOKert36p8YAcinaa0f9b5z6riep\n",
       "VRMOrxnBexieYpSYvoQ2duElRzIK3riIVZIbNbL/nqrT5Nxz6rfvMIMCYH3J8KYY3OF2gFzHB6VJ\n",
       "ge7SoKuqmXLDrdD/4+ioG2Gmoa/OoIbEkeeui5mK+B01OrvCOm39Mt1EXumvl3vcj6kCOmhwGA+X\n",
       "BGDRJ1vPfcHh4kn1RWKI5M2ESN2JR0dFpxvS3N2fRL/+p1ivPFIWBbqpmiBLks2uy5IMv31TWIr7\n",
       "5H315WKst9utoQAAAdkBnqZqQr8CSV4s1WTwzh/lPY2bwqCOEVqn1uu1DODUwkilVrd+1mNwBUzj\n",
       "tRN47MkF6lRvLQK0d5+iTPynqW644Ig5tXAMQPlvAdol1kigK5QKORhFX6fN8z+d4xYIVh62tGGL\n",
       "mvVqZPMSA1AsTFTnHBL2OXPCx/iC74u/3k7zVl0/dwi7efl+1XXdfQHOeEGzAlJHzf1pRU2rhwiD\n",
       "zR34r2xwBDmR6ohNcG8Jj2kmUFiGDefAEmW/KWzsrgaeX6nL7OIV8WWY6eEfMPsCu8J6Ym+sAr7b\n",
       "UaGnxZBLx+VYv0nXF/0bOJettdHRhuGviRTu+jMpuvsC5vnxC3L+bDqkTiRP2VjoSMkQYP7NuX9K\n",
       "vfjtZEbs2puqgzvqxpEzuKFsqqNwf9WCFPNrwr8DxRvH9v45Ae6gKbqbdCK6xRoum8p50TANxGkP\n",
       "hA+Kbw1z+30kjbK0Kd/GtZEgwiFPo18wR4sY21l85eM4c70DveQkXScRxw5cfkZWFApgOEgzTGKz\n",
       "HwhxLrO/Zn0JHdSj3L7ANo8F3tbe0VPiwEay8tPePL+HhB7LnrGqeSqCMhWf4HaNGvScCSR8+iFb\n",
       "ILST2vJFzQ32cI87aRFOLJARa9ZlR/WLQwe6aFaggQAABmBBmqtJ4QpSZTAhv/6nhAFbB/Fz8fUp\n",
       "7gEwBjdBPqKSRqUm2sadWmcZHWxNxi00avYJdC0uF9fnrzKsR0++ovGKpTVzbb7YOHe+xWzZXPlV\n",
       "QcVDzcgCxAFhEpMAZD3+EL9pBw0BMaHoSKbWfw+pV9x8/n+f4H0PutHVVeg/hiBnqOwdVwT69NIV\n",
       "iyRTcI7n0/xV2YFXNrFLkh2Jl9SnNaGVUphc9gXMXeQKPoez5/51wlVH8dQjWqaFw2O+0QOoLXpX\n",
       "XmE37H4tpsF68pCvrQBvlx0iNm1sUAnt4Fe63BzkzKcJ181+OAw2+B2Dp7YBWO1tpPqXuAaImivZ\n",
       "ojZE3QGhtp6VG625MFtkMwCCFPfTWYLU3olRO7sDPAH8UXv+r6IbWCLiF/ZAhZILF3iyZf2RnKyL\n",
       "Dh2W/2QS8OSS/uFHUdE2hX9T7WX+Wxfv9Cde9otanaYjCmYHTxtSG6PVWX46K8TihFGOg4HfFKsZ\n",
       "gHmKc/6GYvka7nO8zUzLfHDbnwyK2QpUhn+S7UTwe2YEQxtY4zwRCwsJzFBf2q7r/R7GY1XFAsbF\n",
       "5jIL3mpbbslT8Na96sJyLQeJouxziRyReV2H62voniYBo2eGhcu2Bbv5L0qxxlYodG7nYZWmksn1\n",
       "ho/R5hNehd36zKY56ZKY13XW9FAcvkMACT2rr5981NkyRfQD2uXd2iUzZcHWrXoeKHAhwIQMPWZ+\n",
       "OMtzucqMfQYlUuGWb7cs6OnM5cwtsZLYLy0D5es26cU/GNcPePVYW2AWxXL9YtXhR56cF3m5Btzl\n",
       "0CgC9OTxmD/eaVNft9tnNEoQlUD1sWMAtihPkxxkAS7Njaw5g/cAR59mKv3PLY113gtGTqnUM4HB\n",
       "OPc9AuyECIfF2jJMJj1nFR4P3jpF3ENIrOfJZl0FGZggrkQnTAtM8U/PtMoHPu9mSc6TaDfnTeMl\n",
       "ZEnSCDTSzaeP5amRqD9Y3mXOPt4Yzg7DIwd8zFmP//36UsIBH75vZrVhAlKvvNgC3WZtNITQBzkB\n",
       "pUk2Rg0aLamdNy7mWtRh8/k4+fz6zJSG6MydTxJUL6YrJ/jhWPSJBgbYulLT1wFTuwjznb+0MDKS\n",
       "HCgm/41fPtnwroe/8zo/PWarwm3LIn3cI04YJKKrp55dgemLvb2bBSM8WrzsfsasGIMCedLLeBB9\n",
       "+gimH6CRQr93omzi9gSr/irs8tSTyw6ti3kW/ccu+ay9SS4jN+mU6k5j8SeDlZ23EUcWCnJZWldZ\n",
       "p5OJe5qrmtj+F46lR71akUEoQpp8beLIZvVYX9ET9UVj/kRKeKLb/33qqrp9PnT/GNb77dZDkpYU\n",
       "Jfsr0uq+3NW2vi6g+YIkHUtxMv/4TXb655cLfdoY4D2DB8+nIuZ6AdztKkr/IymlkEKYNbTLdtjB\n",
       "SBnabkEMs+MU5tcwZ9yk5j6+OwKb9LUzDKc3uO891A5wgob4cDb39h5o2nunZLodUTQG1tkYBf76\n",
       "HvZKXZ3n3E9z5t/9HQO1rKuvjjt6pG67Hw1QR15ocQuQwV5LdumJ9Ax56aX4XtXU/1hZuOnQF1/V\n",
       "yL2VFfdVvlHYarGtM5GH3EnLOR3NiwHMAUsXuIXk6TN0xpOA3EGTdHswBf/8m0Gx16R+7cqigdv7\n",
       "psDDJ0vbSR9Rb93Tm2fNQKn+T45rotJDUZRI9PonbWhlx8SM3qEMZyb6E67ZRi3RWsrB/fdIZkFK\n",
       "dY1B/ibyoIev3M2gVf6F1iN9smLvhs3fPAUh9tmHorLFHpjMnpWHaavI46Fst8AxUe4nwQ0nNIy5\n",
       "LKcvR/i/zPtOykQ0PuCFUvDXqhr/GQFnchUvWtnogzTj/82fG6VBzHipV10p0GM6LlthgxQTCALf\n",
       "GGAn1KYpCePdvlHb7uYgQsP7WBOG7cKZ1GK6KxoeguJMxM4q1CuiK7svWYvmX4ZahYkyC/nZxWKf\n",
       "apyJAcjtsDCqOn0O09D1aWaY7ry0BaoLok77u/2AN9kOY+ZSjdq31Mag2aNVC1gnWwW5knaL/vdC\n",
       "9OoSYVPN3zW9J+HXZdtR2SXkRIh1hDmLc79ylmdpKycHUPgKsTuUbeae8QEqSiq4pH6htANG404e\n",
       "RdEuVKniaxbthEeIZ92Nfo5jk73Z6+4x2omJYUQz/szpwq4Vwd3Xr+yszxcFoylexcO1Eq2TaPtZ\n",
       "wI3+tsavsmZewxmAOSAAAANDQZ7JRTRML/8Bsrq6Y7W/c1Vdrnu3xCqXCpFov2c9h0E41nixAoEb\n",
       "6ei7LfP9gTMHWWyyub2fgayzPnNVxR4nuQxVY6JKKSsH7ga98rHCJBIW9TQyBkGzkDef/hBySOA1\n",
       "9bCMo+nEE4AHaMttv/zuQl5QJI025h3+c2rzsdXr6g58wrstHUIIMb76sqlXZHwuwkHOGr+BOjW/\n",
       "ojXYImKzjn54nFLbMLvbJph4ohiF63/AQ9qrwGXhCc3+WjrhGatSQXKj39NpxOEprwhGs9mGn6Zm\n",
       "EQJCN/LAAsbPn2/wDF0AD/7EoNa4Llz/jPWmME5JoXffRuXFCtOjubm6VhPYe+w6WIKJMek+IOFm\n",
       "D+LHMgoy7PmONJTVcLSHktvqUvBHmgl7qhO6lNrpzy7K0upAQ3PjkEUqd0UXFPpB5qE4lasqpNZt\n",
       "CwU/4ejB04ukWHQTtTkaLO2YlEp4gFSRxClA6Ox8ATJVx0KevIYGtDQBn2brWrFBsmqi32GClrfW\n",
       "w5jfGJWNBBH5Y7hTXYe/RN5hgD1dYbHgn9fYE2oPtpiQId7+g7Sy6n5Z+ggMz2oQcxig/Bja4qm5\n",
       "NrsCdtAtOuyENqpKyQJpBdAvDxb077ZCCk+VTBvICtVXK9BXSMiTq8ZTqxoRRpKJYZ5MnyaL+XCy\n",
       "shxkRdCRmTyrUFXY7izF3ZYz9isY+MG8dNiTEFMmliXuol8hLt7Sv1EA8egyrwtOfCS/IxOlPAO5\n",
       "8kI8/3lHSVKfpKwA3WB4xCGrnOGySMb+TwE4VVmfAJt5285Hrm+IV+vY68kds4bu/jLcUyBzv7yA\n",
       "NUyjjXKwGM+1Hk1GV3F8H8CIaebMdagpeysTL5sAOSR1yiGFy630XcOKX0M/053W2zCE+FGzdySP\n",
       "rQEQl5f0Y6PKFmiWZHoc+D3xd8aQR6uo464pbB58OPRjmWMQe0kVX9oFoSptO/Mcwt2BcbOEp/Uq\n",
       "suhRmzGreTl2G3Mo2bEu9Fub29w9I64BSDz38+1f+SbVltz0lbZK0NKAW1BN+42s5dYJv5UouEJ1\n",
       "1lkpcAyvmoTXj9zPYEr72EIkIruyrz2n+oOJlXQjhDbldhZFukw10cBLDrthAraYgWwRR0cV0AAA\n",
       "AeQBnuh0Qr8Ao+SgfnQTszw8VqJOTtCJxOIURIQCmUC9c2Tyu3zzQ+8zsefLT5z/wG2AyXHdZigB\n",
       "EGhM7hKpXaH/lQifSAotBNrGosM5NwciMmh8bzEk0f39EKOORm26Y8N/sxdFlwTj1yRgzlmtp0ui\n",
       "Z1Ka12t0yd+eZyGYqEOPCq6lGnksIFroY8JYzuTPRrV4MyQ6BmaQ+2EWWhKOkGwKB3BrK4xs9wB/\n",
       "qYqtjWFbHMfeNGOl/aH0iuzS2eSjqj07rDXEVoO3R11PfvAe5sfXTwQUzn33Cn/TKQOs1FfgzHFH\n",
       "88f3PKmXYuPN1vWxh/Kr2hf0pBwdniquYJXZ/YYyM6GTIwiTH4SemOBgyK88AtEearFKQwm2CIxP\n",
       "RXGZ8mzcwMheXcWPHYwJ7ygu8Bv0BupIonB34dit9ALMcs57Rfk09UPancisc0HQSjttRel3zjGN\n",
       "iDaB+0LKEk0BibPtlW8rsDwxB7iIpT0rWgVoNaQVbwwI40BkeVH3BHqXe8UfvhG2WRa7ghjuA+yl\n",
       "Zc2yYRB0s9SwzRQCuY0Gu8aMBCzjWtIK/JeOvuMQ0iYCAiHLKmo5JjNh2z6fRYIbJEOA+xN4gCs9\n",
       "iPIby5uA+e466YcJpucAq3jdG8+ujJ2WHr4k4iOJAAAB1wGe6mpCvwCSyUVRTwMLNrPRoZV+AbnX\n",
       "X4kBiAAugbD1/Nq1yyj6wj0quhOnaclbRp+EQMHrtvv2jQBx6TleIWEvDbWHOLj9ukf51r673cNc\n",
       "TRuFzDH5mHnWHTTmPxnp0Dz6ABPSvM1Ho4ARWmSMQ5AYBoS7JMLjOKYFyam/G5Vx/YqiBvv5fiRq\n",
       "EefUtgJFdgWNXkR/573uhJZR62qRDDRYMyygPpI3tO7y2hUCtTSncl1HNneaeKLOeOht1eDJGMsi\n",
       "K9z8ouWcxP2T0u0RQEP0og4A0bXh1GWO9/YsRKmaWikd3noFh/QuK9qd/5mGIidRJu3f9PBeqxEY\n",
       "IvpWMLytg4dV2C3sAvfFKoxxfrmcfMVEBAvVwSuOChZB6rzUjXzx/VJ6GBq8MwNHr13dH4CRdknP\n",
       "yoFfmxEQf4hd+/b2j5z59z6M3N7ogabBTZW8teCQreAqgQkqmgI4o6Sp0FAlH3ef70M3j24CISe0\n",
       "khsNpDhxWsCNtGZL+6K0kk42TwEmiec+nf/RATmkokA+MDaHjnivmglXl3EB5gvJ0NF0zXuqyMuR\n",
       "2b3vvobpj5WTpqQDns3HQo7l2BShj1NB/KoUkjmlH8GARP+t3xU/UZe4HsxG+j6U8AAAA/tBmuxJ\n",
       "qEFomUwIb//+p4QBZgeFPvuJISqC4AjS64DE1y4HuJDjFUrBEpEdiupQPK0SNcb+KIBJCdBeAIeq\n",
       "ELCpZxHfJ0fiYpsCblS1cgTg5e+mgS3j1cQFikwcmCiNA2MDPO1SHQDGsQG1XTlGvI+Bw2UD1gMv\n",
       "rFfXJR8tA7XxKH8HmUCQJlKsEZ2fcLMlBw8uRjNacRGdUphRUdJV6DWpbAYmQGeiAJM6/5L+YnJV\n",
       "iNFrLN12CeSRklrRrE1Cx534H+6p11q8gj6X1ZvfLAVf6Ds7oPSYjiwafwtBBNpBwhvlGFg+zTKy\n",
       "1IQpAN66poDslvK30vMr9/lP09jkNg4LlxjQQrINQAdQy+YGNeB1x6e73Sk2CGPLhhvWtf9iWsn0\n",
       "JwL9py9XXQXtW/2qGW+BXVBAMldCMcB8fxhuX1dhua3aLi8ahOc0lQH8nAEnyBrs43uOl5eI5J/S\n",
       "xhhbBVMn5v6EvTL1AZsu+mV1mnv0uucGqcrb+BhPmDva8Mq1q00m/ctviFmbgRKwvunL1wme5GHg\n",
       "UBkVhOKtI5OSzCit8j1nu3E+qQu+wAuysA6Mk+hsbl9KSXsbLkqPdxihDF61Veck2dsHI1H2T1EI\n",
       "KOOSqTHCN9v2AcOeVLGIhQinzvYoetwNcyAVXmv5Z4mMRHeG+vRqvbJ9BkelJuAEFat8hiF1SIes\n",
       "oDk//RK12Op/hIs/t7vCKl4AJgbhO2x5++NZlUaboFYicxULIBoonMAu+8zRz9DglDn1ZBiSUwKV\n",
       "O02UfXS+RixPeFNhIlFn1HNRJTPqATF0yeU4Iyo4ZEzABv6Qor0QrFhLX3Wy2TRTlF1Tabxi7xY/\n",
       "djiqk11QzlfDe7vDIFpysgJu3wixWKbPoMcdBwEGXC5yuP9UX+ywAvlFtoNBrbxyImMJMCHIEVSd\n",
       "gJAJ3UgaJTVdUOGhgdSszxNda+O5h6PI8TBWaX8Ow+QXfXNEEhwBQSmUAL/x4qDUl6OfHZZN+0yf\n",
       "aiEHnv5R1codl46Sw+K5kTH/1fZblgqMCLVyPner379t9Ei014WZdUi+DIqAgXhwC54B2tlC0atK\n",
       "QFq94FiO8qkyxAJHTTRxFTtGKQe/SvLDCkrNfAhPMZEq6pqktVntPjXIYzE7s76VM4jpb/hYPCzl\n",
       "EkvUhijnGtFh0wjWdmmA1TlexyGYDpB71ApjRhHutA2lf8vEpnbEo3Ztgv2UKXnSeEP5T40q1C6k\n",
       "KpFGv/jyC0rjv5H0jVVjVuVTwD8CKhlPWYYEhc+tZ4FSv9RrpJgAefMe5bk1oxyTQg1AGmeHVxv+\n",
       "H4N/5+K49zXDFzwbr5IyFzVWn8YZboc3K61M5o4mz5Edsvp+AYsYLNm7Isn0wAAABy5Bmw9J4QpS\n",
       "ZTAhv/6nhADW4GgzfvWoABFXqTMxfF2rGyFA6qT2mKWmaG6vlKRyKWloDmv53F0rGb+9TyB8iNFx\n",
       "0qKt9dUW5wpzYOD5ZeFrE6AMyG+kvfOduexZCC/tgvBUeBw0hjQJ/JX9T8oUPDCMieVSv69nXXie\n",
       "4CiNVT+nzuCpUndMTQF7py2dpWjRI87TXt94fH1olN8SlFQwcWHDZktALElrCXT0dYQwyBvaKVt7\n",
       "XdEeot1rxVXhfD2Q/ivQmBni2+1CLMnB346QTclsa4P8i+bFzLOMmxXg3yca1ipls4AoYJvuYOKW\n",
       "+Sq4PEvme2SUwgFWneSJswoYDi1rc2U618IaZlHckGW9wFge2LughJbuqRt6VSrfB0GkiN3jaTCI\n",
       "ciobX226ljGbAJtuJdtdgEQ67F4AGg+2dF8aqMPH0qbGrI77KC+CdL1LmWfcCAR89iuYQfSY2nO5\n",
       "Bv9mdtaIAAh8nisN0V7ToXhymreyYFLJl6B8eap3om3PQaPRcJE9PgQvUaW0OyNtVZmZlJv/899q\n",
       "U0uFYwVFCnX3Y41DIUd6IIh2djhBthhe79xOIgHaFsWK0MErPI78cvaudvJdMtrJJd6MoJIKZOfX\n",
       "FSrLXRWKuBBeS2KHMtVDmuA4BYKZnhEmgEF3xH+nQLBqqHyQKV/YK6p3ZJQjjdfZZYmXVIV66XyR\n",
       "S8PRz/uTzGuyKmpzlOVLWiop180l6Vb174pdPv9T6H+0PaFr6adEoED3yrbYphxoPnXS6xB4/KmE\n",
       "l26waalUpHRSbkU/YY6kEgUhG7B4fQ+ND//+yGlmkllJ7kMR90UU4q+3Bp6vYlQfCCg1j6wMAgOa\n",
       "Yu5duvz1nNS1vSKO0yGrTweKLMTaH6mEMGZQHob46yJULNgCSjpfvzq/xdCmkegKRPcbp6+GjyYb\n",
       "nDdPLdVpkR4Nxckjb/zLKjtXE/D3aC5+uqvVQJxRJcsTGgGqt/4LL1gdcb6Wfg1subQu+pWLBlE3\n",
       "9eGJ6lghA2wewNnqzH4XnlM+ZriBJTLy5LNqk60TDmbajo67Q7/IJypzEDKjK3VP80SmipsOm7+k\n",
       "/adoWAvH6KWTSS8dQsSEbqJxbS3CUDahkgKrn8tXAJuWd1VwtYFE9pWbenSiNfPES+ebpLwkgdPr\n",
       "9gX9IX/MgtgaExIvWedBJs6Sk+8e/EAIZiAHGJDYsZ7Zovetd/hK04KKAYtrCKnRb005pGs5p//8\n",
       "nDCaommoTc7kmGBC/i5fCAVm8WV0Ga+2Rmw8qQs/K8fIxAzO/w5aufNuPJdpeepiC7il2iiXcLr+\n",
       "agxuM/zvBnk5C5wvntljvwdcHqDWHeznx9xmmOcjVblES0ciP9OOdyT+dYBK5s2GqoBhAoU5Lw+F\n",
       "CSo5tH+3RwDkfpR5gURNSVLhFqNhLUa5D6S7ekKa6RDnz6hX+mNPD/0aH1FtR2bu00PtzwWO2aqt\n",
       "CdA4KAHGfZEBaORmFYZM+fVxA+oF9vpgZj0mAG1DAGmZuEf2wrd3yT0omGzmB/yxrfXTNnfprqw1\n",
       "ms3/45OvQvOj3n8c1t4+q9ArBaIDhgNIhYmj8YO5j87lhNib5Tst+yGroImrtwZQnv3qVq0Rpsv5\n",
       "MF2AviMmrMsajUKdHsNkfvw7AZfIgDqQvPIEUvFJG+enlgoNKOp5be+kuoPV3A5DgFkC1dFnfgke\n",
       "0P+SQ0xf1Vs6CjwdijKcSX3VKOkfvK2VbPWauq1AyEao+HcUAG/kS36K1xgTv/khy1naRZS3sPxv\n",
       "LnFJJLgdwkGS6CaexR/83GitfbPE5T3UsAr7nGh5NObcyRoAyeOtLm5QdThUij2M164m+qkr5kX1\n",
       "RrEU02QZxBMYRWGFdb0vvN7Jqcu9kpko6UMBhubNxyx3W4ZFhvAdx73oxhZKhp9y+yiQ4ivcpJWD\n",
       "zFNN8IN+zg7YhyUQNjQqQsm5ynbPGlULLLL0SlNQsFp05qh71SvBiVKmfBfdTpRY9HEiQcXeEpFN\n",
       "FVn3u6VmUZzqrzqxVTInDkys6iHXKHNwH7iGBVEn1m75/VE7qFznz1XXp6Hab7BY/G5hOn6gAWas\n",
       "/AojdrWBjL8/4IhPOhfT5Fw3EKmT3fGo/7CJjeDQzypmWsIQu8d1YjNpboAu7/t77trOP6W8uFRx\n",
       "z/ULY2WxUmJKmaQgtu1nzIp8+z92OxmLB6tLc+99z54nfg7afSadzkTqIT55CpaTDVxFC9OTF8fz\n",
       "A7gGKqvZpIll1W/45RyxvaFCygEcfusP5LCUat/0MKBb3vd+ah2LrgBKgma0ndgyXklm6lnonjVA\n",
       "kzEezVVMlbgXzzsqmGyX+leuPdBUSNHTjXGNGS95ghIapx5hBgYEkE5j9bSbXabZv3GIQqaDGQ3e\n",
       "hmANk6m/GKRM7YeROyDE+PulpiUi8f3/nup9yk3GCQ4OdlENHqR9b0mGFk93olKCl3R9Wjc6tz5p\n",
       "7SQGwJ4CywAAAvVBny1FNEwr/wJJG2Sx9parHvFQlZIhVuvdw2XcQVBpWaMlb54ypqbqgpBtEla/\n",
       "b2FMASGo3E8FqKEixOoA8u61QyYgWCjxvPl7taxrccRvtzy4/RrZDXvkpfJc6h1144e4h+hG7ey4\n",
       "pxBk8O6b3eBTdtdAS+hkrLZvEOIqW7NUaAnzEHyUK2m+7rijtpiLPZdXD4tdtdZoXH3Y9pV/Cg5u\n",
       "PapUkQb5v7EvbeE6VDZxKQ5CgH203QxEGIuJBxuL3ilnopREa4ct2bZOCUYiqUg7xXi2sGUu5+v9\n",
       "sBy+Fp9RpoaqzqEtMfZuTOknVkgGetw81HIL5nkYBkevxxNP+XJfe/EGch2qvXBIWwP1MIFfFNkz\n",
       "dBb9oOci0j1NIxCmEnRwetwu63C7Z+bu09XFO3Or1/RiiqUECP9dFXrxM80ujvPbMXfmiJmKGV8G\n",
       "iq9yllw5hFycEvJtxj3HqTz/UJWOImu+fZzENZqjsQeghGhFhdWotCaEBnfmgdi3opfYhxYmN04c\n",
       "gelXtKv0Ryj9D8D4+uE0+PWH7N89GTar91G/f775k1iKU3NZ/ySBReirbszHvJ+IL2Re7G706b3X\n",
       "EwJWHzr+pHsEwvO0xr8c/dOkfJeyFg/umxSgv9uADMp/iimDDCkZ0Os5p3Xt1dToxNjfJNoe1HTy\n",
       "G6PQwYBi/G/Y1wybiFl4uySAiotHqzHRPgUYB7M46FBwW+HDykcTm0SeqDgQD6SY98Q+TbWaM29O\n",
       "uHpSULCe5zzMW6LXrDD9kmHUXUQ9lsD/Twn3xjBR1YXsZ73HJ+zjaOpZRwnAE7MafzVS3JqLBA5D\n",
       "FW/n7uiCLfcOqKKTbNtG1qoDpmlopAydSEx935VkPSvmx30KVu9QRSuGf9XoonnjUstAZQx2syK4\n",
       "D1cRd7YWqap54GfeqZVWC3oNh/7XdiZ/IEEduoFZWLUvZAw2jIx3AgZtw+XJPkuQpeKu98KRaD1S\n",
       "d5z0w6+AokNMuBDhhIAWtx2bmasergaIPJhXAAACMQGfTmpCvwCj2E73P0oEy7r4Gld258FXaLkB\n",
       "sDU7tEyHMTrpp0Jcdsnsxm4xVCY3qMS7O1MirBN4BUOgxpJNqLZHvHoz6OPsYGTx4eYSJJ+sb1pD\n",
       "CKNu8zDGPqAK/Dj4xcykDhWcAIgtvRuNC1ANPFfvZh282407HAgXlgzvvkx+P6pt2xO8Qn7UXU95\n",
       "xEB9GtOAqsPqwuyzLA4M8gMMmD3yBfM3+F4vOxA70ED25y8tB3PlLd6RbLxKID5S0/B8CUIEyRlb\n",
       "GLmWh1I0/XuZfgzKoGIGzLafN0Hpqq+rpLbJS+X/1G0qpDj/oD/8rOnYK0HZouRcbqXeLfpHW/Gu\n",
       "Lsr3TyoQfDy0blK6PE0Y4+mwnZZMPr3PCCvHkZAQWfv0WXJPtG8DOEIoIZE4ucvwyZm9XioFRDrC\n",
       "FD2Ss45uAibgtHXbLMwSzdrJc2d1vhV4llvBHmy4DWPF0JcKEx7Ydb1xMj47Y/E3JHmdHjvvNv6Y\n",
       "+yleYeZnVKXwogJHr4DIWPm8DQYBgykWyk3NIU1Rebn8r2oE1hn95Vzkn2DQMK7PVJm1oTSroQoe\n",
       "XbkzG20DMRM3IUoz0Fl5/RNdZJ4ttS28rwqAD1PfttZd4pAfoFUsFg+tlK91ImYERQuFbfdvh5HL\n",
       "qFy7z2Iun4/PZtBE+wc1niYg5eACiagIjDWvJYRfnOwE+o8ps8XArddE0pq3o0XTDR55Zso/BFkP\n",
       "ilZcEDf2terjPKYdNx1n0Qkc7GccnwAABRNBm1BJqEFomUwIb//+p4QA0bq4KtvGQBDvXfjb/wfU\n",
       "J34FmL2aFsHyF5h++cRxup98xOtsjC5gzbiLindV8iWelmqD8TrnH/7TOQ6xcU1z9//8KpEDKgYh\n",
       "YTOkjLad4fOeAAT8qZMzG7jAywRC8I148LN5dUSYnndjPdDOfC7Vm2+kjddEfakYrdEl/FG6+2eQ\n",
       "DxdYGxsQDH5DQg9AZfFOkSsMwDkuDDdt09xhawv9k/RKpfoTukbFWHQf1vksrd3np+aOgCvi4puO\n",
       "Im0caBUC2rMr8auHCqykiboYa7bQws7Uj/dLkVAx8CI9Syhx1pTgkPJxZJdTdznBNHruGxWsFsRt\n",
       "cZhFSv0MkMUMnCGZI066pi63juDj1Oeivv53ivsd66srqnMur/RlktF4oIU4tnULo4t2C5N31x4H\n",
       "2VzXU7fCZWZB4O93Tn2oxDY5MZQzUFgHGnG+Im6RzOCAKAJ9+PTDf1U5e1UIRxTFf9263BuxlguV\n",
       "qD0qbxQKSBMiaOm3B3WMaPmq51isKxc3346sk5GfJ2mfBJ7jwtSlcA2N+s26zk8Xf5plnb3nfZDI\n",
       "CaTku8sa/L/BSlyNYAq4TBTcMI9SopHDp04MNUpcSSnSRkOql6vwwSmwZGC6MM83Zc7IM57FqRjW\n",
       "dUAA3nx+oEHzB+WM3TEh+QSbgpKANFXUk7e9uJiCaWRaS0Qx0QByx8oLUFjNS8FK092lthQ9KE39\n",
       "WLGSAw7sKVMIIziFTmPgJHwNqJUWsKaxiRc8To5euBnOd+cPPdQNasm6D1FV1Lz5Do4lIBCp+WSQ\n",
       "uDG/hnafx8MqSat3RHz72uv42YKAo/ynk0dcbaEPFfkHSe/Sek6AIH2QKoiWtQfctoii4+BKch0P\n",
       "1oAZyWY0PUhBhoeUVBzJLd04vYTFHiGrRlvKMcqYc3NDAf5pVSkB3v2gzM6MbFU404bfUa0hi1qs\n",
       "uEncLl/2NCWhBGxXHKuQnmh2HvNi97L/4HBWRltme64iG3KMm39Rx4H4S2BAKZ7Ltd1YzlOrqbOX\n",
       "Q+lZiTY/oFWpbNDCjLOIJprm6RdD9sqn5weplR/cSM9dzJf+53BkOwUfW76Qh5B4ZwXik4J0AEo5\n",
       "nfIcHMzKjW8g7sOK5iD7QbsMq2KBzXNwomLAucAhs2XXK9evk4xPv3qyPsA9WWEMG2+6PpWIm69P\n",
       "lbHU+HXqnU5khqY4ELH4g3SDaC/tXpUUY5tuxUcff+vOoogqhNJ1LQP7S1MmdjCy1gwFj35mmmWz\n",
       "ZcZev/yzYWi4w2Wl/aeE0S3N+Is5Yts9HQ+GB4/YyQvlxjS2DRwiwE1JzqTw29KqeACQrGXxmm/g\n",
       "TKRH13WzKg+b0m90R6rWAriinqSqKaOpE9Wrp+BC4wujQtjq1/bWmHotlDahF9Yky4xFxuwjDVK9\n",
       "bHJFY6cPVtFUQi5rVWCzwtPq6GIG/uITsYDfzt21tu3o7ZUWOOX832bsPbATMPrG99z1TJ5jwAhp\n",
       "t5LxMY9VXFD9xilYMSc3CzhBPAdliS/xO3DymtcK4i7/58KQelc3qjnyK30tjyqWxEK8KMsANo/i\n",
       "zmSACSOoAL/8p/ZOXI6h1NcwZWoHwtS5kr5w6UV8JMh+e/NyhcYO9+4r/oZXV56ff5Tnf49zaC5b\n",
       "duWCuO0Y0dCKgUCculjhbc6tyim0TLOW6A3SqDjCxYZ3Kl54WmscqWL6XW8v4w79MSo9TjpGItmS\n",
       "pUuA+W2rUCVtTarK5u4AAAcZQZtzSeEKUmUwIZ/+nhADXDToQA0wOn6xh3HXuBCZszDR40QyTt6Z\n",
       "t+Quj5+i1f2J3liE65QBBmJDdf94oGzP4w+Cmmd5z9dy2mMf4jLYkXGT0A2T2bE+yHYQyVhgPSPI\n",
       "lfhYgciqsQUQtewMnLdGL/esXaleZVpXOEtw5jrU/EPQT11oEryfgSujexNa0dZfCLmUqcYOWX9L\n",
       "VVqVU3rqmL+9nUy01h7JAiLcwav32SAtDf7KtMo+S/7UL/kLJGLHK1XF2bvVHS4NTeOVJ38TznDU\n",
       "VpBeIjW15lgPOyru6iZZWhNEJk7cG7JCLNvlHYLQskoOOqGVK2jBrPhB2SBb+yEMsp4e04joNlpi\n",
       "hPsPTEwga8tFZKfb+fycmH6pMKUTIVnbFaMFLUb0BSwfey97J4FxvpWoQ8W2Iq4uyxqNTba5eJRD\n",
       "Bd0ng060xiDXui9MCxsSVPPZn3XMP/HIkQmjym/2NJvASV8PZLn7pX1nVAstVJ/LBjXxPci9NMm5\n",
       "vIJ7IWQJaOPlY5oEGd81hmPlyL/T7HaefgIZqaJpTxcbUSXi93OjB0/Dgl5p5+nrt+ZMZnrxsf/L\n",
       "nsGAHRnlmvyhn9dMV5/iNRmDyeAqcCZyXLM/NDlSqS+5FHBM+oXaBa1s5+mc3OrH6T90dXuC2Est\n",
       "qAx6fkEKPuLT8qnbktlJMaOwDrF2bVs9EHdOL2qMtzeXZGsnpxVDh5t/mn/kNDNKceaB0lStJ7sN\n",
       "2iP2Hnm0p+i5PlaV3mRy9/Qv9kRAAwbsIRqIYW/fPEmXfo5QpKE7y4vqddhUZnBRerbNgXtDvAoB\n",
       "1Fqce7sGCd32VLuyddGZFoR6Pl6Th8VbX0JZzCjtAySU76ekRsUSACciyPP3n5gc6c8pxWmojSSO\n",
       "mTOhCxf3lz+QepWGdncNfneoEmwRK8BJ3OVPGGigV+eAYS6ZcT+FcascIbX8786zm8kbBL7w9Fnx\n",
       "w0AcJVsQ38EGHnTI3l4lGyGTGPHnfQpsPnkD18+DrLQbHnWQQIo13OYzMFxlpXq76SBIRpAjheBj\n",
       "U9PyvbGPWdMhVkqXcqleexaRJdvRBpmEodoJG2fVzO5azbZIAwB1SMQj3mdH5jDOGFGAvSHr97yJ\n",
       "ZK0QPVjj8qFiOKCfq1DhkupXpICWelBi6hsi8lLyhq1Nxt4cV59jW8a/l5wEXTl3OfQV9/MynSgh\n",
       "TKWSO96NeP+MuKJBjN0vAWSRYZ9pChuJ1wfuMjg8r6g3Oxa6CdXPGYJ4iSbtwFIbA6NCbx3ZNZNc\n",
       "yF0cNLA4lUc+LzkSOZA16XjiPKfZJzKXJ9tAadn4wCkWTheZ83dpoGpubnKvegISfm4cA4u1SM+5\n",
       "giFd4QPx/X7xqxbMhMh659K2XctfZyman+WzFJIa/nZKCIYs+7FZUNm4WUEzkeE3C8Hk9tM3F1uG\n",
       "xgGNTi3WCYQsFKOlKqJxtYhifiJk1JRI64jKSaZ1Xl5s5/4MfjU8+nY2eUrKu+D33poA6UvPyq5D\n",
       "kkLbPkg8bYSiaBJdtC0fLVp9Wh8yt+s+nuCJVwaFuVFdPMq4r3gl9YOuEcCkKtm4uQvwAy/mHvVR\n",
       "05kMvzwm7NMGoaagB3hqciQmTvEE3NF8fz7TiD2yriFj9fYM0Uj7hip6O2wwM/3Anxsz20oarOxn\n",
       "JnAIO2RAQgAonFppCeBGUigSG3XnXmmCXUbSz0HHNLmXGay/GDQUFQFrySEC+sFOywoUsPCbfJyg\n",
       "ZFGYvl1UUd+viVmeXMtng3GnAY78xsvBQplGbrBBDUeOZNw+f7xXYb5B58tU7S0m08A0GKGQbaEh\n",
       "0sTQLPgoitcunUqNpjLvup/tcAIyuHzf8/5InNSu5v5IKOZirC0jyaTbbXypy+0KC2Jq1MqOjP+x\n",
       "eyy82q9Bv5xcVG+N36n06N+Ib9ZG+RYaJaRNkpZkZ8Dxpywf3xHF8viiX+Dx/Xl7nCDZUroxq9F0\n",
       "bo9ecPv3AmDk60bjW8jJwCoAGGvKSCthoGbCD7BTiOsi7K5bDVM2h2KLRp2OoGZFwgI4O+g9eJKD\n",
       "DulQZRki076df2QqWojoqhpZDUjDwipkbgRBNzPDkCTTK6RU2ei9R5Z2eW7zUWvcBcTLdAnc7H98\n",
       "xmEpqNb9fufEIiUOkZpfbQ6F1OtBXy7xmHfM3vQS4A49Sx2Qp8Bh3gzsiuY3m8jbj5BmorYO3eql\n",
       "xh8Zrf5sc+LGe6cyAo+4ekx+ehSGIZjRDPV6pDJ9+QP5qzgwiswVEIEq5uZ3vShbgYBJ3vpL4sd1\n",
       "6HW5NVY69vHoucqkPSItEiv4izxLcL801GhAj+9Zf9O68E82Brc7BrD7bA+CVbdjYmyiTAVbK2XD\n",
       "g/ixa75GcsgB3BEq7fk2CDuoB/pPI1JrJfepgekCV6N9w4wthpKQeATtkNJDqwwQLVkPmpbvR5a/\n",
       "z4VRRgy5BkoF1bgAAAH4QZ+RRTRMK/8CSRtksfaWqx7t1gC8uZ3wdncaObZSGevEFMWp/qAEfAEc\n",
       "P29GsX6DbZSAgzpoVlpOE4rXAUcTeUXWm+ykKEjgLrqZusltoheEJ2BUfQneux7QVbRFnV2Fo42L\n",
       "r7pxrcrjeZaMIy1wMRzwD9SJZasOubkqJCgGAlq3+lxPg4bOj2CA4BapwDsbzvBGAU2C3kKVgI9p\n",
       "UhSfMd5ds3bU5XN/+tuhL9+m2RlIsoI/5G1QJ0nshbqe+9J6yBEfVUwKUupQ77/vY9FPDKdbxN5S\n",
       "aDro7KZZSCEnEzimCr2XmZGiDt+2nr+8XSdXD6jHoYMjRjImLIrImS4kMM+Jd4d49MbLGTmEcQx9\n",
       "MgmMO4ZWssOjmtXNNOy6mHwbPXMJq8kLpQvSReRzmyyxdokgQLbgMGIae8R5E2XXQgGnP1DnqOHT\n",
       "6GtehBg0Cd+zVuOdPYbXjWcJ0p1giVwi1fJ4rt7D6G8QyO/Hq5rjcged45fqh84ySS5MrDs1t8u2\n",
       "Gn0IkBC0Ifhq4u4kGwgMK51xCoPrTKI4Y5jOWMPyJAdCSyOwuzDPfzIM0Cyaun45e4LRZUyvur5V\n",
       "IsLZIVjaH+Amct5+to+Zq2c5tsmnZCVCeLn3T9BgZkKfZAN7Y6OFWjD95eTx+GsnPhCQyzXrhg5D\n",
       "8hiKeSf5AAAB0AGfsmpCvwCstV3hIHvzkXUJx6aVucE8kygBJm26kdstF1wA42JjnooKSjt76LjY\n",
       "XLMnzFxHX+BvQIoDTW/NhAPAfrY/vYO5WYeaaY5RHLGZAO9dnticZQRPNtkDY8vIxp3Ch9icQijy\n",
       "CHlRhg5Axqzgtjjp8BMQ/J857OTfgDM3mJ22FVn+MWjJXIe96EGMENS23uF/yD1hnC9NDAT/FnCP\n",
       "FWd2afz0KSqHvYuDVrSh9ZgBHKiEubxMEMEcg05lyBDgepdUnRbZZLwpxZ0Teg+s6mozLUwLc1uR\n",
       "4R0tr9v4Eg1pooTO8Hth+mdcEKZZMZthrUH9z//RszG3EJQg3vTOKmamuEbw5cKQ2a/YlLTB0Hqm\n",
       "DK4sWd+kuUX5SJIvsL3/DQnCcmy8OjvOQfuS4RbmjtXvRqvvg4IRFOxnilP7xIdZK0w6W44IRuYF\n",
       "jdDOfsmbbSZSga9T8D9bAgCPAKotnpPlrRX0LiOhtXSOIaSxQyIAIaHzOiyzfB/2cC0lDSH7v1jG\n",
       "+HMxEjXbL7VWsdMNcP6GoNC/jAlchbm3Ox/UXW0jgMlxadqksquEvAM1ODbiQ3qyaT1rcmmWLPor\n",
       "MHI1JkICBXjkYEHAs79+ey2AAAAED0GbtEmoQWiZTAhv//6nhACenomPbi1WLMfYMwZiKYX7ItUA\n",
       "CkjXve7IpvJo1Xr7nOd0gwGZ3odhptJN7ZYawH1/MswsplfO2oaNeiMzs/bp7Qqb3CazoXkDtS1y\n",
       "ydk70BAyI+B4L7tYSz2habujcZNM+VRypIJhuQFxw50CXNn52H/qn50jpQoa65JuDDkACJBDz532\n",
       "bIh54BsQZr3lcJX/VS/GqnD/SigAhpgJAq2Jhr2uf4gVE4yoE3ZmlodJIJI6ldfpnDDfBhyJiuOz\n",
       "hDpx3wJeqQps7lSu7ACKuqKaVzkMggrHGOQDb5RLBs9JXBYN1YmervPsI+BKW9076udp0cwAKfAy\n",
       "63n/kvT2w8MTIjKsTZldlWRdKKb5XXF0YjCPaniynsZeofKG5liq5zS2hFo/LVh8KWT0rc8XkYOG\n",
       "DvaQKmiJUEQLaXdvkFOXoS9Dc3CwBoqlhoI7GBUOjKCeJz+l+CByyAyPD38G4yuVvOCYB/ZGgE77\n",
       "svfzTsFqdYO1uaucLHNMlH9zJgrMAf3BDx+pfZyItGHBxkZNOjmg2Z5t+N8vmevb7tNUUqySw7N+\n",
       "5tdfLWzAwCdseR9z2F7IdnhiiID6ImJYhjEjfmfoSFua6e/cun+YIoaidGaRHrGXDOLShkIIZ7pz\n",
       "Yeo64r3GwyY2YxzaArKMvR7yiYQ5aRZWElnQTI8PedBpFgXJuePCZoq5QiM2F52pp40h8sJ+ICoN\n",
       "LRPohYupGzQ9MQxCf49+4XJo3eAdXRUuI3NKXcb6ZhqJghvOCPgTRGlRvyAZJM4vWjFCcSp0KxLa\n",
       "Ws2mK9HT2Fd3h9vLWwPipiidFRoYnnydoXeXEOD84DP+R8wfTF2wQLXLE1ET3v6+TpB6cx2+QbAI\n",
       "GLszqhLCfS+qI6KbfTJHtGQwNZBYi09ZQIGFUMc/O9O8B1ohZyqXvi4KW7IjB7/1WjBk/zfF1D6U\n",
       "4DJhPPQRrkXdfQDG3aKAWsDsAOKqjxGobpradTOYAKcCwuyAlKpYeipOL/kHSsaUJLiZPtdb6Dpd\n",
       "eD4PqS9G/FoRNpOScJcp5uWbWjr1O5+0lK0A/8+gP+xnd1tj31UG0zFUYRb0raxcY/XMmtS6OC2m\n",
       "X26YqWmtPTN6yw0xMZHRqwspYKFyaLk72r8IwiudLO3lNNaKPePTXSobadl6hqIgEccES0krvr4o\n",
       "fyFywk0rQQmwVUidxVje8p/qIthGpYz5eOZmgyqlihEKLZWBWhvY02AySfCWBqjpuY0DPlxuaDpC\n",
       "ocXkj9bXxt620ON5Mvy+vRfPs3G9c7/0Jxkb5OXrPvsCoTh7MAf+k3IhoUk9GPOQw9MeTNsucxgB\n",
       "Jg2lTsnuHhETFI5FQwpxdrXHigl/IEGWKKY+378DenX2qYAAAATGQZvVSeEKUmUwIb/+p4QA2+Ba\n",
       "IKzI6j3piiY2j5AcdiAALqAA9ZYLaxesMNMJJ3u4SZZhzHYK5z/+JtTa4d3bUj3C9lYB3pTsspni\n",
       "cEKBlf1RyEqJSftayvi8sfqYLpZcCAIZJyP7diwHJ6MZzzichrNiDJKEfdkfjrGD3JWHBr2yr40K\n",
       "icPhcyJQmwbWogCeRmzSXKwYsmHIwItTDi7L+3IH5vAOctOQHJ/x2NS15hl/ruT4531XIG7vcBjG\n",
       "wTpPl2rG0X6BDvQPTRfPA+8kFswooxKnk3G1OiyYKVyIvkA7vvtSJ94BAdTh7iLlM1eacvnVuT01\n",
       "1jpsTbKvsRYEJRLDL+EQG2T5mL1LBGUZbCsiL0AkF4Zy4CCmt08r6nxZpf8ASIgUalKYBCviF4fT\n",
       "qctDp9AS+UgkgkcmL8wlzzq5dHDYcqgRZfH5q3BW5d6aXV3Dl/gJ4hXunLXWsXxcvsqtMYH0uf+4\n",
       "qNtS4J88niFGf++fP/I5XSxIGl79lpUrcdiyG70Y4yDmJLzHJ//MKp1fB9/+oAgut2EuAU8sB3TY\n",
       "yCzaWW01zXjX6BWuqj2NzJrjQ6BigCWxW2qJLSbaBEWv33ssEJjCeWK7uqtp2C1NnUESjF0tbu//\n",
       "JPHKnIFJ6ClSyvkg/o+pIiPLSjMHrvlcdMjeGTvIaC82YJtUzSCfCfDB832Ifo6f3ZT7BsRe9uoN\n",
       "eqd0dQx/qfhsIqpZnLT2vfVEYln5FoncpGJCXarVLxz+gtO3gOqHhr0YvFIvLesJRSH6Cf4eM2Uv\n",
       "15bmHmuR6bIFUM3uo0LC9RMcyjBW8Am+sQK4FgYfCHr0htcky89i16AIHfBA+kMmL/JXIdSxfKaU\n",
       "+eQzzHgtPm1jKbGwYhGquEDKtqV87WhXNJ0Ll27XRcAei74IPBNF/kHQ1zT/UwHBeT3GBm6C7AK3\n",
       "LjnHUt6bHxGdTFzYmZogIaIr5UXn2T7UWu4rDfkC94kDwmx1YTcFcqRuQGcFvXRmyuNOfZhr0X7A\n",
       "AuBGbYZtSXPY0Usy7dexeeGkHgtCs7XIaLwwBOM6ZSP5pD+p73PqFhZEHzmXWjJrg+5RKQWnaytN\n",
       "Ear1qw/GshEiC7RIpaKXy1mdzt2hJPKGHWZUQV0AXxeKH7vlc3LqtPB/0ISO3NSuuAI3olh4KvJE\n",
       "YoHbm/mywyzyoHTL0aEMKQh7MCep6uHrVX+KBZ/i01ED6xpqBnTOTXEbzpJWPIEXt+l6x/edrmZZ\n",
       "PeWd7MWGssHXc4way3Nk3qUqfONbRqH7MgdHd21oFuz6ffo9wRhKkh3K8OBcQWtgcoRo6SdSr4Vm\n",
       "FprtiiCMcYQRwxoo/5FjGalGsdGIX8/wEUe0Og6uQsqcitm/r+l8sXccNfQhmRXy+7ucZS8mU+p7\n",
       "XF59T0VUVkei1W+BpMlbxXejxW4qlx/N6O/Lqrbm+C3VFhYhzsNY3UY6ocn9rxW43YlN1HPP0yO1\n",
       "dS8ZmGJpdEYslDc3InI/QaUkl4zNrTx3ozzC7yOy2OlZwGWSu7j8ixEYcXnOD7J393DJxgluZKf+\n",
       "jxzhKw0kprbEJgtJkrGP78s4kj93iwLuExLBCdTaPnOJ1hRferxGDz2NItR4f9hKAvhCwgDUaCJ1\n",
       "LUjUJIM7SQAABVNBm/dJ4Q6JlMFNEw3//qeEANvIvoBA041znKO/s6wLvFK6O0LCRIaSQF7V9y/z\n",
       "Yl6rA4B78wRRCobvjs9U+9yl6Gy6ZpKHnwNpjn5ZZiC8zZ+9CtRydltlhSx52i1SCg1/QCflR4ME\n",
       "qQYc9phMikxcrGka1lZLjWW7FRqEN+2+iT1ohxexGKvDK49A/wYmYu/UwZn/vEJacLIyNS2n/m8j\n",
       "4AE6jAOAJEUG4ZhaqMae5ivv1LWY1yxozeDu1o3i4WBeJlqT54v5aRuLiDJ8CKiks/L8Z+l+A0Ra\n",
       "SBIpuVswppfH9JB/XKyt3ZLjY6hvuXxPVr4KsBF7oZh7wHnuP6BNRKrOv8CN2nm2l8qZJVuM4vaa\n",
       "SvT09c9QTMtgqvPRYD4pz2HJeftioS6YB0PLbHda1Y6AHg7oRs/xk5K16Hw1AgnjMSM+t//hbI7y\n",
       "SlkdpPfm9UEnySWVZyHepMUiiVm1oRktzgSs8dWQWOR37ucvB1IoOhJ3TMnFGv7MjDr9gHIfYonL\n",
       "a94+hj7x6lhSTq41XsMvqyMFOH+AFY3b5SJW+o/huo562OuYxdKzoVDdB0kqecGoSzLdm0N/2pyN\n",
       "BfpONzmO4cGUzzGg678u4LchpFe4EpYPNni/JTDWxaHSgKdccV/3W8XoA88quU5kHGzdnk7KW7QL\n",
       "LxFfs2PYS+EhOBxAtLklGqz0AW3q3LQeFuKKxhIGAAd/8TQot87BDJez1tZe2K7bG6Hj48K6FVOn\n",
       "O8qzjDm9oGs1PaGhV1IKhv5vzqlsUf8ixtugHmm5VeVoDIblz1athcqKmHkK7eCYq+zYxbNb3uLE\n",
       "WlWGjN61rAJYEFWEh4Y9Z+rts+Tgv/LFqXGaYH9vmdaNu+DnxTPV9dEqtiwGU4l31KwjT5+TE1h/\n",
       "QOkQ9Qf8VbMAuuAJMPju9lrW84WWfRu8jXFTBwuOP8nF0+KAUMIh/eP43uLlWGKs1i3qJ6w03ywn\n",
       "mwatk/lrMUxypkXzmtl+8Z29JYhaCLChvnu0QaZQqUdqohDrz+0CWuyWnGfrtiZwSBjZlqtEaqCO\n",
       "pVVGuhz57RvAQN+t3XaaDGdOuK8eeUJk1sdvJIUI2M0nAiSvhfddvwmzmYjWKUqXMFPlEcMmZx+L\n",
       "hACsSjuQk15JZkkO9uscHBGPJS8VGCFvUBQopjRraC3LQI1Srv0UKOBDvzbQtC/owaK64vnOSQX1\n",
       "hDLqBBlvxRs34xtGxIZEUj6tFyzo5KJ+ibCqqQdIYFqjQT3IuclwuXUKQy/ZrGLkIXUWqXCyaw9J\n",
       "APR2k1J5FyVmZudEYvtNsC32rQOXHmENp7RdAS0q1ne8vKgbKFfbstVjYAHmChaFsCuQmHxyTHcZ\n",
       "UR48ZI/QcLNvgYqa/AYkCAmVx9DrqwbrdWCWNe7tJ773LuQcq90xReB+W60ZtSrv8R7dlQqXJqyf\n",
       "nnLlMhcedYZJoSA8/nd9wU6fdozXD1QNdlk3hLBva9tjYWSOP6x+MWfRRhe98tetzrhJihwj7A7T\n",
       "ZOR1k3+/Xw8V88cP+4BFgeXh9P+CdjNbXOc3+OTSns1qyKHE1SjKi6peIu2EoD08MrAM1f1orpSN\n",
       "9wXblnut2MOUHTrXn887UqaIOSpFYwLjkceAOck48kges4/qxaF8uZMHJEBrVxCeguByEY4+J57f\n",
       "GKu2RjW4K2afJNoZuiCXus6oYN5vwdd2UFHCtApYoZ2Z4oocK+wGz4dUbe29XWdcC4/Ni0v0occr\n",
       "vAAygHIw/QaI28tRbJKahuq74LvwXINwlVR26i0jCX2DInhoJL2T+GPNGqNMuGVxHik0cxRE1f0o\n",
       "7Gn9RELAAAABYQGeFmpCvwIeiPIcQVZOs9zP9A3vZ116PGBArdXJ6nGHdgt08mlRACvkSwhwTY9K\n",
       "MXayOduRvbF/k5aqYy8Cyaf92Yr5WwqYA3jFIx1wK60qnUQkZgqoYkubwcf+F2QIYuWGpFHVgOIu\n",
       "W0/PjWrWr+WYKdN9bccSlmszR6ptGuUpVQNBTO0FFsz3dJFbve+6bgn6Hn2speW2rfEDhaSfJ/Ua\n",
       "KkuRAeeZ49pbhxc5jNz3ZBcT/RFp50rWpvlzO1q0HgfsmWQvp/OFLpOK9FjGYA8IAWE31R1DnINu\n",
       "+dww0p2kNhupUf7DH3NRW6Jzk84PLzw75HBDLqA5YpMqobR1iRRP4Gi5RwiiEXWMyEH5/PDtQ2aZ\n",
       "pdyzJtN44yPj3UkEiho7c2AKmpV3eUlzKOYXQhDRzbHobuf2+jqYVsE98lMI2R/E+xs9XnZ9/+oI\n",
       "q2buH3oN7VZcKMJlfufvl7zA1Yj5AAADKEGaGEnhDyZTAhv//qeEANvF6wAJyoUgkazB2gOtbviq\n",
       "gbbfagEWzzDdrgcFmUMCKG/rD6lK34aKH+ApKgyz63jOPcqqN4paKdGZsBBScNYDBYK3sU2SuX7t\n",
       "tF9twP9D0mXDW5H6VzQ30LYv1BUHCgSQW7cVUkRcCkbLT8YhAonJtRWNdWst3nBQkErfSM2QbV7E\n",
       "/q1O6aBtemwxMI2vDtaFAq/C3hCHR/I+ROuaNiMBZ8WobLKinZ5pxwHVlBAtLoENJ6NmTB9Ruszg\n",
       "q2FSeV4qPIlrUAPLiaFB75C72MWa1I0cSMQTxyO94TiUQF3N+P6dGWpX4AD4oVC2KV7AvXpVwtK5\n",
       "mVcniVjUFxvbLtp8KFh+yJ6Dt6cykPhzwjChMP+pe77Y7fR7uTaFhi1T9S1ArqqjqKKAPOw/IwRP\n",
       "i1sGr817HiJBHdlV4eOoh4wuOJU0Ga1Imybotlps2C2NFaUGqoOyyOk4ADm8/64WWwxVRXP+Iizg\n",
       "tu9d0D1fzZvlmZKII+yCMqXbVQ6DmKGjOLTXdHRq1q5zA6Y4o3VxrO3qxOChnxQa5hIkoMfjjSsn\n",
       "LyZX5ifvet7I0WC4DbsxJ1SWTONOLXQ14/lhupAZjp59tOlu49AVPAFrBprokhc2TJ7ETD6qVeOc\n",
       "nJnQ0KagULFyPQfQNq2mdrBaUPRL07jvzs18DRzMXDkMRbU7naywuGpjNOd2URQ3MIwhdBGDtamb\n",
       "CDZkWX/fTbSD9TxQYBS5iqkMzu1zeE1ymuP/4EHaoOL1Uq4rgkk+dYR3wfyXt+k3KzNJi0MNYCkv\n",
       "N8C5lY12D5NDgnpXq8lLQtbT5OH0ifuHJWQPrvbnIsvl1iq14jsHIOW5v7M4Q6VJ28td6vrrhKYy\n",
       "9J8ZG6OehaaJ06s39QLb5Sjh3yjONvbZNEEVgUrku0arIMamNyAv0k3TxRjh23XjVuZ2QiR5UPHv\n",
       "hR8wmQDT4/vhBwp6dPFjHzMdjejjkA8VBpIeqEdW1WPdGsse9uityJVwjQq9Tm9g2mWsNU06qltO\n",
       "vvk2yflwjOMhTCmZMANZ0XqcffAMKJBxIeIfp/vfI/MT3zUAAAEgQZo6SeEPJlMFETw7//6plgAl\n",
       "Cpzkq/+LoAiJRjvw5Bm/DzEgyE8fVx8uN8nYayIe9gXBSVYV0/zC6Rbvq0Nsad5V4wayclBbdukh\n",
       "Gd3sA+Q1IVpfUE7AdadlIMqsclWiJAzyITHDCex64AE6lUVmZ7RmE2BVOB0M3jubtY5jweYy8Bzi\n",
       "Ht4RLNfM1MMyvK1q48QUiDGJ5mUtRtbkKyu2Lav2bMPgZMMxbKTeHTn3nvBVLpZ02nU7EHbqZ4GW\n",
       "PBbv2uiRFgQZ39JlAmIWM7NPN9Ui39/I6908wppd00XFBewIm1AH/A4vXRoZBPgxuazp8JopN1lb\n",
       "sRg8beXgy1dEwLvyxxOuUm0zEf+MAVfJV9Ojg2Bxd0d+NSOU+pyFmQi/AAAAtAGeWWpCvwIeiPIc\n",
       "QM6HwiZ5cnyx4HbqXnXbvVwp9V1lcR94JLam0n0iUsLyaeCrGYx6SWzqx6WIFKfGAyZUc266JeQD\n",
       "DxRzoLEsmlluHMu+35Km8hMfVSJefJhTbK63K7SpDJfjyZT7l/rv+xW47QAs+o6DPhHqitqpiyic\n",
       "+GkWFeN8d9j+1m+tPeI+/j6z0+gBQC2+rMy/qo0DEEnvkbTrK227pJfjDllRgVIVffy3EvbD4QAA\n",
       "BYdBml5J4Q8mUwId//6plgBvpoZx8ABpFdlAOSdSteIvAm1CreZXJBCnKBh0ibmbRvVzSsr6WAdg\n",
       "AL2o3VYe/r8gYhutS05eW19I0GRt9hAH615YcKrpVXfP8Xemcu32/V9uIRmCnuukVpUrpS7vk1C/\n",
       "iHg7Tq2Gn9NpJ2gl6KGlt4XD4kH3CdDYvMicd2iS4xC72/whG6n1VAdj1bJytMUpC1CGbRcX/ZRr\n",
       "xwgCe5aHuQUGyaY37JpSomQubx6DRSckBKeX/6oDEbIknpFo2Q9mFmdyhy7pKMCutglEqCjgY+t2\n",
       "4CNSRjIvrN8mhpzBRTGXX8kVdy9+lusyKZ7MEnziqeP2yO+fdR1SnSI7EtUo7KIMJLTCnRujHnob\n",
       "gLGUUFQu/FxcyYjUvBmSYPXe7yQ++YIeSXCptTM2NN8lDcdHPcqkE2UODoBOfI1lqXPhy4qWxV0h\n",
       "BcaaVLPed4HGLLSkoCas9p31P+/lH+t6+CTOY4XpR2P70AkNkvbpitvrZmrmyr0p78Y3TEGoJnF2\n",
       "+AZUYU6etwD4jtlgHWe+2BYUWL+cFP/Jrn/xkCwVJjJ9mnB25bmZWcgoX2SbPPazi8YXTKFUCn+o\n",
       "sDvgtKeOhtShvyq6AlLaIUcy6vyfiw1Vo/yJ0MwctLAL5hs+iaoRTFfLUxSqrFbhdvaCG6e3KNTb\n",
       "i+K0IjQ4HvzMyBOmcQZJwb9Ysi2053SoYQaAdSSudq133+GkWc1ReScsBPGGTpeqQyenKR2WBsRP\n",
       "sP1TbslTWkztlVU1VHT6xzNYAHmromB/+XbgZq5ZQfA4X2kz5oHvo4CESW4+zFyZUupYC3N6CYrI\n",
       "tLmd4Mmwekn+621hhioQEo26tUjONa5TS1FBxFKarJz1YRMysFaopzbNdXHDw6DaPpuiwPxTRGfW\n",
       "N2Pylapu6JrlUZrnFNjLCXd0bdYMu2Mkurqb0kFV0zpIaqLrPXvtERCVusJ1s3hiwuautiZOXFzF\n",
       "I/9/r9jW3tc2j7/agKpBwwghfD/hv3P/DBLlPjMM6FkQBuph9Q7WwwSUHCpX/GppnkU1hujGAuOX\n",
       "9mvaL/q9EFBHbwm3xYKD6ugelQzUDToT+gUMN8zj5MW14wy+97Z2ORQNzQWbkixZyRSHEOA/Naxe\n",
       "s+rKzR6S3cvugk++trZ4CmGolIiykShWU1rzBIo1GiktYrTVwaQ8ItSrFNOzEN8mfAxogsldi0pr\n",
       "ZCj1yZWRduOtd6IaYRzHJBkxa+Z+xY9EO3pA0yyqxS/Q/lwDZQbgH/nOCRGmlbRhvBZ8Oxyt/spY\n",
       "tG8R6Ef8csgwU0czMFmUjO5ooMPbvmxxP6pBn/2WgfNJUZXiWML8wwFyzs3XpYqKBmuypRmXFGEZ\n",
       "2jICCVSHjCW03sCQTGDKca1n8+WlP9X6fT5vkjOxnI5a9kW04uH43MciAWf4woycZAhqT8Vf0qTs\n",
       "5HdsheG/pnAYZb7CAQORDvG+6IZIDsYKhNpF6n7p9oYuqyiS1aE5TY+uRAXyMyWtki7cNTr39N2J\n",
       "BP21VI9YIIUPJeTXuYcEtv3PVbsWgcko4Dq9IJelYkDIOmf+3vTtVqzc9UuYomOBgQ/v6uaj9tmj\n",
       "s+eZsx9OWXHj7+ERy9JiEmadADGNQcDR8rcDeWWMaPzWTOaaOfKh5oevsuyD4HVx1uu5P48lDwzx\n",
       "E16fUIRpIdZK19qsjvYiAKHxgRq7wWE/TpdryLDagjh+4hcNvEEsEJDLK/vNQXtpUp1/9W2MKHmX\n",
       "9U3BTt96jBdahy76uhdHQh7iT8oZemINEiEeAt3QtAe3gTQM8w+/l5jdUwNJMH0IYsgILId/Vs/5\n",
       "yFe26cy+Q4GpU2BDd7rQYMHgEPRKlBcwEEsSKfNsl3r/pvCZ6eiymk7PuGgKpkIS8AAAAjpBnnxF\n",
       "ETwv/wGVZBetALWGUXt3S/6sHeGHUWWiegBsf+S/kmNDpxLPLMzvPb/Gqz/CqvYQzBodxuyceako\n",
       "tai/KKJJlnKBR9yC1F165BdRpKocdGeTgmHwCgJgz+d2nG3qL9oY0K+q41qBD/jRvbC2fTia/njn\n",
       "NDNoilCs5fREeNDXqJzM7w8CvYE06PGM3IJlRf1JYgG7SOsG4OnFKIMfoWQUiVrfT9IWQymo6Q7S\n",
       "/utk6Nl430tWfAPxJzZPKnV5EanZksYaN83DTOFnDZBkyWUNOGxdYu6SBseB5yIThLidEJWwqCU4\n",
       "ODT4Dvnndu8KFOMsm585x3ERpWyzOU34RUvyod/NuZZrPG3IouxoJGF98YifE4PIzCmwrb+4k5wN\n",
       "2jMOb896JMB+nlZKAdfM/Bqh1W9HXKj6ojgUPr/aoIGzo5rg6kRJrlLwixqfz/r8+g8VKMTLruBE\n",
       "8tj7Mo/qxcpjRAwmVKG0+h2r4wZh1L6iaGlboo6kl7QeSPeuu1wjVfk9hd6CTPoxUc2171++j1t8\n",
       "sGYaCNKVPb+q66FnCALuoq9YbTrVbJnBAYvD/rknu/elx9g51X5+TsTukqm8BOzsL3a6x30fIiUn\n",
       "P2DJ1Wf6+/BMpcNH3Da91eWH8f+aodbBz3kowc/WE1ogZtDC/5dL8q7swWmpKKNYrhdV8VUnSiJ5\n",
       "hslw696y7l2Ra7rK2s1FEp3HlAhVBvBJuXtAaiUutk5ZRDjfP7LO15iar7RqM7V1RbiJJNUAAAFM\n",
       "AZ6bdEK/ALFZ2+BOapslTXBEBntC27LtIczcsqgHj6JZkBGLsFiPe4mbW1Rz+PoOo9zbdJS3e19E\n",
       "fnFEK1n1SIACa3APugu1bvWYBvMlL8P1uCOiRrZx6ltSSZE6QCd2tfPR/xkLCNhKrQkemzS184yH\n",
       "WedBmfZVwBDXG5YthvW9KCtbvEOOY6bw1w/qty1OKdj9GhmFF1IwNiZMidmvNTV8yQuDqjW3cyF5\n",
       "+5VBnrW7gGe745SnzKRxCR/IY1J8JacTsfugm7iYLIrZXi0dVehqXOjrq8HTaqIGVcF8SOmls4OH\n",
       "vGF1eNxF6N6DCFtl2aDTXKm5bPKrVtXmzsFfr7X5wXQIEnm1J8yskYUpcncQswOomRMbKMzh6QP/\n",
       "vIaMJx6BBg1eJnm1vTCRQ5l+PW3faAXxC21T8C+OmtYxgokWKGColcIEzoPYBA0AAAGRAZ6dakK/\n",
       "ACsxBWbkc8JmUXswrNEh5MN56LnYlYS2resjI7SZ44No1MSLzNpujEtL9A7yGUwyRTQqHMvsK+8E\n",
       "j3mMiNrHshSUB6yizf1+AEsI8ESH7fmYo3V7ofwy9M5qhQXhnF/lEdTKhoVn2DRAEGwCIJpVw1mV\n",
       "Q6C4kVpc+942GkFUuqWn7pS8ZAlOYz9RxWymPAn+48Q/lVoSbMRzZEtLy6DRygY0pAk4guCapVTG\n",
       "lNNtyK1YMA3xxR5kdhMsZnoZekSpz3kq4HAlqfP8DelVQ0qbd7EvVidtSPZdqVKfr01RcBhOqbDf\n",
       "0TX7/D483tFdDrp/LU+wz1wKyACZcmS0NkxmTtdJMkgI/R7Scc7CYF1sYuutwxt8Hta480lf1ZPY\n",
       "Ldz/pE9EX8RdGIDFhXWFsZFRkSq9/JfUrn4lTVTg7sWCcp19bDMQDWIkMOG5Ew6A4yFZTcqN2EHg\n",
       "lzVwHTt+9i87szoRAR9kAqtYbxZVrTQe1vt2T2Axrm+nDD7n4xkSLFfMts9fSA2XfY1Oj8gAAAZE\n",
       "QZqCSahBaJlMCG///qeEANvgVv5LQGKy/Ywzd8hqcvUAhAYdx1DXuTz+qON1cjhaDhwfvqAAKIHb\n",
       "59JJrMaOrMGz961+IQyl9SE7yqDfyBjY3YVd9YrlNWm0T10ts1Y2BslCsufAaX2zAT8CHrMzPF3G\n",
       "FYZWp6SbairRFXdsBgqR8S+hZJ3UuezoAjOSQ2AgpvJKwNo13Rv8MSt9+AWF5Vkox/M0pjuI/YtU\n",
       "ksUDMZP0BT+1hQyVvaSakTGfhwgdDQVTKDjJAUsxMsTXZWWpWuS/qSusI2Trv8GZzOu99DScA7Pp\n",
       "oRNHDdqIRhIGEyYgzOAD1+EZQUN83joQj5r2fG+QR12unLto5KBizQzD9yzPdRf/lOX6kDUPQ5n9\n",
       "KawIJ3KrlwjopolDPxmDu8qTiRxemXKqT+hnjVx/6pZiKxJiMPF5XqwzmXGgiu4JvIZoC9p/WItV\n",
       "mYtpDuDLKOqGvf9CVYuPRhCs0L86E8pL8M95Hjmvi/pgteMBMDe04sYDLY6lKcEBMrWmxHPwd3Ar\n",
       "Tx9d34oFovVGuxcvMZ18l9AyXmtRl9GrzIrGOsP8pWVl/l+hHKlvFT3xCu+TUxUAP5eWfPV/VNeM\n",
       "PXK66/fT0Gt9a/94tYJPSrg0/HOScnbw7mP/KDl1fKNTD19kG8njvA+nzc5iDyt+IHxIBwrpGILE\n",
       "TvSJNzS5izTthOPypCyyELq1rjd6rdBl1Cl07LiiFWFZD3mOorOvlaQOPvTcSReqlM/jeSrUAMSF\n",
       "xrSZN2N40zJ0xsRz3HwoguMRUKdPZdud1N+vam0PI5PYenD099Qo4TiIKDHquXtIG3UymBns6pK8\n",
       "EEe6bDGdDTYt0NOdxdiqQit2xPIQPsT/kEEdMwnjZaSli4LVq+gAev/oL2wUucF+adfq+scZnprp\n",
       "AfAi7sq1UVZCNxw1j1S9R9dXZRBfwBO8G2IcAuyMh6r748LBW6e0qgu+jyMznFVXMjZ/wkkYS8e7\n",
       "Ye83jkHzGFHrgDrUw3Jm3/ISzvmuro4bRCu4VAm5OolT3xu2Xu/bNsMuYnycu3mG4uYq2pVXo5hX\n",
       "FuzpMj84xd9ABcFUVvRq8Ek73rYT1GhVCJxxw7v12gY48FWpxnWlqlUz/iP9f5T8fINMMg7m9/+3\n",
       "d+949CvT+I97aPphDQJ3soHqf/cl+qeVF1LrKBUnJmJo0L9uifqIPYZ+b7BVeldsFiMAK6U9mEFw\n",
       "4KyyoWgRbGcKChLr7D0q0VChAux8X5R7m0+kDbt1KCjzJC53zaWci9sUurwkLYPiz2s1he3hzmAl\n",
       "gpVNBWPYAK09y9dnKdGgo8m1LOoqr1m716iWoir6/pvsXW0N2HERQUi1QIiT3o/1cum3tjZ8PTOW\n",
       "lzdud5VGEoLLZckm/mAr9yG2h0T9tWD3qj4TCptD2EYpk/qcWBNRbIhqM5tNvxUcFgFGtCc0u0w5\n",
       "utAwH+wKA5hChIzwdV3wCT6r4v3hxlwyNGWLMFN0QJhdQVUzJd/4cWwyKifph0nodSYZwa04w3IB\n",
       "v78NFuuel7S3kQMy10pMXPwiemAt0dr4DKxOmwv/C+SCRhrmlA+xKPwinsgRxqqVGX2XDfY8qM6O\n",
       "wJL+8Nz+UVutpKeVGCiv1KhS+H8xx/v4lGYt+4LP4wIQHVUCMTpGhikKLwOq3QphWWomeXXVxxKQ\n",
       "/2hSI6S4YJ9VIb85r7H4p901Vcd6x5Js+XlvXxALcHKwiZFdHIuhWsEnay0okmcq3G0T9IAABc/o\n",
       "WBBxxLH3WRtPOwOkwq9F5ELM1edOawairGoAaE4mUCVXAou9HY3VkV8ToQgqcXP93rOaeI48VSQ9\n",
       "ExcazjHcjPxj36n2P4yg+cptYQy7Ckf5qDODOKn5pdFocc6dU2YWHlQPi0/+g5WPT1H7Sgo94Bfr\n",
       "uFcGHoFpEp3w0GtNVuBe7+Xo1owjjT9hPz9aSwtzuUpgpyB0QaAF8IWljEdz/HZbvSlwZyAcInHu\n",
       "5lAWmz4RInpy/6nqWQw9SwEcDbA4gepahEGq5aPPCEVuc9VkWt32iPnPRYdgUG4I2iuFvxD60pFx\n",
       "AvZ3crGG3MQDF66K8VGReUACvwzC2n8r3iIfpw/agqQ7OHmHZn6yQI6OF35HLmapd8nJ3r6xAGpK\n",
       "vGSsIDbyJuAAAALSQZ6gRREsL/8BledOsnRaoZBubNvo55VMND0J0t4GbYouB0aAGqjd4k9r5JIX\n",
       "tDEh8MeQA8Cz3lADlDz4N889JjXMSfCQkWbCqGhlxTRlfAlg6d3VB99SI3SZx3+f7mTxJjJwifM/\n",
       "bSKL9qMW+qecV+ktJ1aot7Bo9lQtyAHHFlj5Flg1lBRolu47KAXLeQT+MpE8AZyhngi9+/dKAKIS\n",
       "WK3sxMB4heFU9l4ZZoTWb/p6Re7+F2e04yUdo5mNEBkSQBJ05r26yRlzDEJaaZ1zCCJMnRpfu3Fa\n",
       "lVzt5kxPjnNu4nVUH6NVTUuyKcpGqjZ7SvbDLQ7zkoskUKqyCPLBMwL6PKgkRUCQekZFNIKNHmjq\n",
       "kQnHPccHdVtVh9AZ1gv9yK1iIlMSzkm/VG5z3UOfQtDc1uONpUwYvV6ZlBeSHI6tbQdA++EydAbv\n",
       "TEE0IvquaLUQ3esUc8xv425QayMTySWAQYZ0NC7RxMnTfEW1RCOsk1lDpMIJgymBmvQ3kxfuGpLT\n",
       "XFG7NDImCymLXCyWVAE4XGq5m8307hpCsOVsYTh4lBAfjc/X1BtqADiF5UI6wo9BCLkrrCAq3tHB\n",
       "Uef5YVXh/xZ1LKx8QSbEwBp1++Xx6L1QifiN1J7WIGn2zKSnIMMJe5gHgBM7m1W/iYEF55nnxOZd\n",
       "Yl1wRLjWxJjcCGzBYNwH4zjuWtOgBLzq/UdSDdANlsfMoEDsbSJix+MTmxF3yRBG/+GXtSgtCuSa\n",
       "PVScEFevO3NHr8eWQSLw2q6h470lWuBxjzHXbLv3G6dHOG9fB3G8Q0bpuNNQRz2mTHchlD1hZ/jT\n",
       "67x+iIcgoKXuwDjPI7SqJcIU8/nAkXvzJQ2Ru7iSXM2p6YB2rz4sB0XsRk9yhzTBkBeA1iUgl4YV\n",
       "76wJQBj80uzFjHII5o3DSQ+fP0e8a7VsM4excEETYA5BOMEJSicN6ehnKxyDSqexjIEAAAHQAZ7f\n",
       "dEK/AHxaNGylk/Ciie771Q5F/u2UgzkD4RVv114Blq4g7ABnZj6Q9wQh7fng8IoB1/VtMqFhDaLZ\n",
       "/92BVETh3bYQzUzQ2aWMzu3mCYeya4PBuFt8mhU3paO6vTTk3zWACa+2Nt9w6dHPeMQ6A2T9Hf1d\n",
       "N2zNriLXVZfIUjIfFYRyeWqu6DW8IyD/aIqQQs0B/MhZc+wNj9kGDfeqa4GLKAVphd+vF2e8r/Tf\n",
       "Mv/KEP9ATpORnuvWGu7ewq9it/n7F+QqRBEGfD4YHE93/49uS6DpPJo/4+gWncE6qveVBGQmBkTi\n",
       "XoLEE1x09ZiXEZgkfbH/CjN37KNmu1uSMMjJAgQLk/cU0+Agdc91RqE5Cfs/+Ri48Usll062C8We\n",
       "CCpNYyWSX1/rM/OSMpW6JTANrDS30hb3hYQPQxziOtn14SgSc+2SS1MEl0vuclcRuE35VlXMOPOq\n",
       "ZkvXQNqBRGXE1QbulWgntQ0Og9ad0lZPNCoRXolNAdGtSNJ3O4mgANE16E4NCLwYGec6r2MsVXGx\n",
       "PkLTI79suKrrdCYigMMVaVhriNWTKsLEnh2jiCANdLOh8DrEDY2C19mnPbiimYd7Xlm2fIypeE/u\n",
       "V/FpBnwAAAIOAZ7BakK/ACs9aSxQAlLRIQV0uOBWdrTXipbdUKHA2DtBsoQWQOHP2+0YvlF6HqC9\n",
       "MWkQ0XeSXuiMfvdWUThpYDsKyvqLOcucjLilBdk1pg7dXUX3P9t9+HO0chBDBYs7vbqwqiDqkgPE\n",
       "leReKXv7KZiZYJzwK3Sqbl/xgqdRrZ+Ha5HChxtyjd3585n7APbhP+R1JN9nEqP52BhNnMSui0/i\n",
       "Az83OPUsL5VvWXwUdcFy6BnO2gCHxjcGq1CZriN444evm8h/XTAqdYGH0Frio/NntkRMO9xdU2vB\n",
       "UjQkv7Hlbwtyx40/R2KaCGdfdU9iDzB/qbKGgxS9A15thRg37jfzJbjaJVJnm21SSo9Maa73+fze\n",
       "0VRR646FQQZW79anVqCDERfOxlvVOiP1jMCWDa0xqzLNhBWNPV/UAJbLrhmnawsn1Xp3PIO9Ja+V\n",
       "Lla131MwTn7DXJVNaTjKba/02/ODjwch+9QetlP8H3Y0Rct9QXn8Xe9zEsGdHQPDyuZwO29/daMY\n",
       "BpJEYN4+bIbrXa/O9OhettiD3g7sWDLYXKvYNjOdkt9NNuAx5enx0oGKGk45MAV1F/ZDsIm6IrPi\n",
       "SkYyIQdZDmKz+m4q+sO3Fjn2hMoQXE0Z5z7wpbDiYFS6dPdc6EBSZq2gKA/IFwB/KgceobcmOHrc\n",
       "nSzFCqK6BmaPkUoxpm2e2oR/ZuIMgQAABXhBmsVJqEFsmUwIb//+p4QA1rpx0TEAJkRkZnk7YNtt\n",
       "jSVz17wrOUUl9Ma9u41u6fR2xIt2Wgn5vIyL8n1awXLohVn6d+RCFR2g11oX0t71+AyrMVDkyjTM\n",
       "axX0UDNc0LhvqvQfdHp+mP+lxrn8yo/X2BRsSTBCXaUlZqqa2GRXkRaLlVl/0GJnIeERAWAd3WYn\n",
       "tpDxs/t2zHVAxBkW0HVKLa/E8hW2oNvUlfbsKcdFMwMTQz2GtcbUzE9G6vooGIwcl5+jWiJmXHUD\n",
       "zPKkiFUcLaXFYq0ocM1v5CuQ/YtXEnhgSoBwX0OHCsaKxhb0JEsPsJqRhpgtzO+HT0xbMp+TdDZQ\n",
       "Zx38MqXe40LW2diqAEUAZLyi8s2krS4lKQE8JsagQQb7BZv5ZBsiK2fZao1tG6Eu2vEid5jiYZvc\n",
       "Wl6/49yaKsfHrC7GdhUWZq2iSMTDZRYFl/oN70sJewL07vBZ71YI1uXa0V7WDE7YHfSU1RF6SAL6\n",
       "OEdFsh/1Y+oUvqse1idhabtsOzTYXY4mUqlxgHgM+IFJOlB03NPfQP8LWEvsReFl7s6WwO5yIm+L\n",
       "xuvV2NtNzBDToPt0dhUER+oh+1RwGIV3cUG2ISSiDDWNrpPel3yacHG3pxbAlvaCbAYfRNZxKFGZ\n",
       "xGDJOEuMJUt1hEAQDgjitsTWIx+WWYDAZx3t4tk5RnXTnzWZDmYK0WAtme/qGFRjkGXWrRbuHn+8\n",
       "0TV/1HGUjFv6s27tfrS1mL1JKB8xRZFR9PT8dzFaACEUvK107K+bO0lnqbJfGYypU4Tq6MpIIRXV\n",
       "YV09OL/IOv49WRG/eq+13kLezXo71hDbVjyO/nOEh1Ify4hUw8e6SnIlTrR1dHiBfK51jHdCyH7y\n",
       "YMCubn8b6DN5RwUlXNSieyxlyOpPV7815UDaB/LjxAbs6NbA1aHGbmYeb0qW7rKmMeBezzZL9E/W\n",
       "G4CcfCiT/sIoMl40oGuq9KiNdV6NfOckUAAgPaoAbC3r4uOZFkOGQuTabwBvlSss8CSfvsMQcAlh\n",
       "2b33J76F+MOtESR21G5vcShniUaUjZO2aq97nvgi0u4WnK9sVZihiah1zO3Fna9Nr1H+VVV6aRVP\n",
       "v973otaFF661Tk2dOcrnviiBcMb3qJsGFek2s2Jcvpg08rDf9lEqHe7EWjbgWPa2cevVR3MMxfHy\n",
       "UkqMRs+SBNozjPM64rJx1wZT2nID0c7+639UxdQJOHnKyrZsJxCMmnT1HF/f+f2udX2nS8mgyPc+\n",
       "QbfGo8JSx79S7Lfvjzv3v+N0e8AJR4tR3jC0pwkYHD9WuOnGxYHRscuKmgzaVCM18bt7pCY/V3n5\n",
       "9OOM62jN+EijlF+l+5j2YO6pX9koXXuF2aY62P9YYXUOaZK+zBe7NHeYXRoxvzyq4t9xVGzoEqNc\n",
       "yhxj1QtCs1vMekd2CdeHhJgzPPmG5RLqvaVdnG+7jjsigWJYg44Mlwlv/7iqiHNQi2tzNOWhN2WQ\n",
       "FleCyoekjBVuOOXNItqexPahPazmJyQvdBQIikfDGRDE2JF7T1KSB4OPa8hCpBWy88L7bx2qJ4vv\n",
       "Un/gwPauwoR8i0SZfN/4nS3VdUwAF+mncnSURgFwtLx+pd5TwYDqANupvmuDKFIhTai48OKaJcMQ\n",
       "cIgdCgI1eXnFwgzDQB4sLs+u4ELYo5aUGYuJorlhEZEMKULzZ5w5FcZAgJlF/QVbZAAgf413e/Gb\n",
       "J/j9gaBlWe5lF7bAP3QVC0SBzPEBpXtxejgXmwDw+05odUuO9frh6lw6qRpdda90+SnhtIpTkSUY\n",
       "1Z7QYsnHrwRv9pMGDZPZogVOwpzIdlazLHxdq+zDz2G6lY+xVzrClXMGt6ZLxIawtD5EiRQOszAU\n",
       "0AAAAmBBnuNFFSwr/wIfYc0bBPncz5f7CTRc3L94ayrx5wrjdJVhrS1tHnKIgCu7G7M3G6Uc/lO2\n",
       "Cx8TAFPJSM8DAUQXoTchQ7wu3LsPcny1l0/UoqFKAXg4Ds5B1leSgEhYmBuSRFyrnEL1+AkQhRJY\n",
       "eFzZGdChtAgry054HbgFmNr4RJPL7H8GnwO/343pdO94W5GV92zC1Z7Kg1KNmcHxLVY1Fo+RsqCl\n",
       "dunOT6iP2uTxCRls0/7oCc8d55GXVEP1PC28sRtqFwlACPUF70xaXxAgFJTP5Ww/l7nApk7Ufmob\n",
       "57BbLCT3NdJeDZ9KZzaBdrKn3MDqSFydm0HEoGZjN+0xe+aR8qCwSOuC6/E8C+UE3uDv/IW6JGCZ\n",
       "8yV+FJU8MjLJwsidYAMSstYsXkALPQbLBcr5iwh789emkdBQysJ85Lfk8c1DZohY03bIf0cnaLK7\n",
       "rH0aa9QWJyX1sXWglGafrd40Aiveu0gfmvpoMpC7mg82O9PYIIszKyKiGwwUy/CAfLVY7PVr/YS+\n",
       "vNCvFxUN+OxuN2v9JQq7V+D8ANlGbRr8DCnQGE9EBsAt/qnXf1auqDg8r9mLPfseqeY2dmTGUQOx\n",
       "CGvl9ihCh0xxV0nkM7HCcLKgYkUymUUCX1E+31IjnHwZTkBkQaFPZ7aTRINTRKp8I8mMpxx2axQ7\n",
       "UYbznwje7QT6qYk7+fwiUQe2P5yvh2a7aLpCY8rYIRUrcncrgxREec1oNifiHYpDDcMPHTKg4gZy\n",
       "xGWNyBFLi3VYG585uwE5OotjiNqBVp8N3ToTpeYpYHv+VIpG1YdnNxYgPQAAAkQBnwRqQr8Ao7Vy\n",
       "8IrPw5FRDirE3gSEAJNREiDpV4kGMi3plNQ2RUU5mFcm1ctpBmHS/GhLYvVSl2tp1a/rZCPwiPDT\n",
       "3Ywb8jRXR1c1Oy3zDdE9gtik2DqeA8D3ewjOZRwNWhGwrIu8P4J+Hj5gMq5aSwFraxYXZHCnqR6l\n",
       "X+rxcb5STMYID22YmQBnLHRYE3bHmXDw0nDwnCOnE6gBX+FeiPoGecDq4CW56RO8+aRxX46tF2EL\n",
       "FJe+LKEbOFYiKJDHj1xQX0Y41oSyw/DtN7JvnlrSEK0fAY31tsMxM3yT5vI4ryjOwVzIo/DwIihx\n",
       "1sz2cLsiQIh+Z1eMCu+5zQEPV8y/22Pz91CXvbONCt06KwJaK4OoIL5Thev2wxogxxfCHBvVVtxG\n",
       "QT1u0KZ7G5ZVOOtD6m3j1uEZLjRvJt1wDOdw69lxcg019GdGs0189LZhjK3zgvYbwG/HZny/ttMY\n",
       "ANuhT6w8SWm098hEU59/gXLGvIBxGZHW63OXZsjySPlH62dvCex0oQ16dx63SSoLSC84Z92RIoJu\n",
       "VA8fjSp2IzxZS1mSOREk0tYMnufuogHbqyrtd/V3I+e73e60dDM3VtpFVgTIU4HKVR6hU/8/SzHD\n",
       "vTZ6VZpbt+QcwbUBVA0bfeuGT6x8qdRKB9TeAiX1SO+HED61/ZWyHc/6AO5+3YlT5H9JjWe+JD1i\n",
       "YpqbmXJKL1OSXtZOwQt3DQHmUwB3hvrpHkK/cGcQHLYH5Cwj3nq7FmyfAlZaADXQTvHvMr4/Evvx\n",
       "AAAFE0GbBkmoQWyZTAhv//6nhACWksb2W8InNhQAlmdeCXKUYO32wXqpLgJlXW2eD5q3eSg0JsQo\n",
       "lNZJqKa9bst1mpEbWeGPH43cSi20zCQ/zKm5RKslrl/yevijTs9sAhrhgthA1aAGX59sxCxrOSU1\n",
       "0OgPheVDQlWx72iTXKPJJLRaHv+Vi6tmiMBFxR+6YnXrQvB2KqvQOTBEAUZAM9n2yfB4KAq806Ut\n",
       "QctUlAeKeUql5dk6VoUY75fMki18dz+x4eMq1jZ10oxfp8zxpU7ICsHwmBRvwZwexly2wbAh1fK4\n",
       "hWFFOsEdIsqSK4TrJSAfhtUuEETrPRVE0Xnr3jck5XmImym7Jwz340sgFJhVo9g5zwsUZGa10Swf\n",
       "yZWdI0tqxTT+td7CBfqzBB/b6y7cc87/HPVFHS4w/mUakKZ7Vi3tluhiSDjazoC1b5NKQY6kt8Vw\n",
       "xlfyoqUx62jnYPDTXd2iKyIS8AFCi6hc6jCp0khxNsUq33boNiqjx+KmtHswCEYF78GG7x94tjd0\n",
       "tDGtMaaobDMqlgh8BDSNbSZncQSEdGM1gGZCrL6ogBNN+LiqhGvNCWu9QARKz+dtUC+ONm8GH9Jh\n",
       "/4hF5mCsBFA/le8sCR3MTy25hPv24aD8dbZ9nc8F3tN5/AhExTa/lefxtbNs8p0CQj3l4fA6/rz7\n",
       "PixxiSW9Kx8V51ltKNnYxvlKl8YxKgJgmdcUT7fdRSDOTgtBNzo4oe9ImbDZpTcJnsPy+1w9mGNm\n",
       "giMEwXfWYQENS2Aauyon7hDYqcA12p6I4s4crFXzEUNmF4AT+4iZm5o0ivaMMx/Stjqx6KLM9rkE\n",
       "8O+x7F9zDPEE+3313uOQ6DcXLZTZnzwKCoIEqzz0NzbivdMyMZYUtGYJaE8MrN5/tDNaceBOTin/\n",
       "9JnJDMed30+EzdU7fPw6uSDyGO9YQ7N+jnKOhuL+UmMK4hzeEJAsRsCGcsYJ4yYzM5UXEtFTcCMN\n",
       "9/abC9HG6RX8p2w7bwiueJL3324qQg/q9hn2GckuACwroDgbncw4CZCRN5ZkP2098n4/ckjEDTPL\n",
       "1p/HTxt5Qa7m4f5eu2H2xAcWe6Ir1F+TYu/YLuyaQE1nQ651a/1ZbXzn9T/mPnKzX0znl137eXiP\n",
       "zj73mwTbdj4b++kKnRgU1aSqBeoFK/s74lbC+SmowbLKpNkChL/19C7CeX0BzyMQTkcB8ss+cfJB\n",
       "gJztuAQ5K97CSNWqWzBD14xJXd7CmRPTTv5eT0bQ84XvzjXppQYb8MY2037jgroiIiFcgTmSW73d\n",
       "Y0ZsoFF80J+MjdvzNvQA2fmp37OtGogElcJMKG8cMh/T+WCtBp3MA+CbWdK4ktao3IWU9CHJZ78d\n",
       "mHuPl2o38myLMBmWXUGDBzK6Tvjn/q6NXyyV3EqTW5fbE7t26K2AShRNA1GszAsxbos0ueYRkbz/\n",
       "xGNfPGYnLd9GYQM9byAzqIcUd6IOCViOo1rjvGKcdBtStr9arz4gqmJJZ4Ll+NdRF3gxr/Z6ERFq\n",
       "7e4SqloiWbj82zbbSeckZq59NPUscPPRw3bKhYQkyxSlzql5/ibjcqParMSBXyD8HG0JWoaa8M4J\n",
       "hWIwu/QBFjUmJbZNgkuFLyvus+dIQBbsOVMXBQDg4+L1TU27Gx2t2rOtBTzzGSu8+/wQhSlsfadC\n",
       "fZA/5ZatWaioKlyG4YrAv+VGazsRaXhHjtKY8czz32GLJj/K23Cwru1mU6vNvC/qoQAAB6pBmylJ\n",
       "4QpSZTAhn/6eEANbbvuy/9WzWxbdWHXLvgCBBqHDGl4wolT/uhkD2xE9RAR8BROMBWuO6Mzvp6Fc\n",
       "QwmwRX0G1NEx8w/0hqQmkYLVRQjPDN0wVqUzqhjyTuoRY8DSMzOG3CChyv36ZJPIMWukKs399Vf/\n",
       "71utzXONulpVo5ugV/K+4aQf/JOEMjZBgK5U5xfGWy8FpxVEvAD6yUvSTo6ZmliPjPl0CB003xjV\n",
       "IxXfDmExEIytSAy82w3CXhh5pA7IqZeN2x1QF2m4muWtfBmXACbKiuY44kKaxwpVngKekIMX0Y/R\n",
       "SdHgFBOORggvIHqauEWMLaYwggbGjClN10lgr2EadAh8EQJ0nmYSIXAbtfPOUOXfHTiTI/NNqSFY\n",
       "L7ltM5juw+GaHPyhhO6pIObs/JnRenIeQKTA0yEug5X4wp5NmXexqHh52kx0r5qsvdkLewcQT1GS\n",
       "kVSCoVWJL9jtrwjd3iIS4BnajTG2yrkHoRJxKvJgV/MT4bLktMfRtcoA288XrBvUM3lB/22wrzQM\n",
       "thC9G1Gq73YE3d/OOu5+Nukz7tkpB6JEB2GaIEtLykUnLMWohB2eXs9/HJQZ92/+XJGYBMqb4R11\n",
       "CS3tYP/arQriof1V3tNbCUG3w2xI6Ivy19S+XjZIDm+RdEP6saiS5trhBb7TRpPBAaWkhscHVQaM\n",
       "gQzOra82EuIzzrKntww5ij8rzIQKgz4OoqVutf0teK+sw8n/Ir348ZM4AV2fsnRYbhEj3fFqI1L7\n",
       "MPslWf6KnZWzCm9RjZdOCrOb+pdTYoBwVKwmyAjUlYtRdtsskrBhdfufTc3hy1KFQFtQxuewVbc5\n",
       "FIrMSvUZ6yBV2Ic0IVYB/aTXCnJgI62+sxBtMe57ScqxvwLVcdYuQNErwaVzJ6ImXJhxyqwiUXGa\n",
       "5/xGYLti4NmubA67WRQdIXL1cqEGrmo/ZQYpkMB3kxEkFGwI9XRbE52olQz/6zCVPjvrSG94ELjM\n",
       "pqYym00aWN12g87i4x+gDC4mIy4e4jhT6aHr1vGjhdPc9nXQvMMX+XjEbCi70SQT9Cqz+BNeAoFV\n",
       "ZRBhuxSjt/WOgx6ia6/dnWMjYiAHwbC+JPTWGPCEgbWS3R3xdEsxfW82GHusvpKlv3Yb1qCOXzos\n",
       "TjkswTrRnjYqFGC4jMSEZsDg3GjY+FoqAK9SAkkzZqiLlej4x8ZhSBGgOrDFjvNVGOIRVt3rTim0\n",
       "Gn/R23Y32YSqpmm5vToEc4H115vK0Ni5Jv9xfHegV9T91UTW68yNvFySuvklOVKUvqJIvdhN827c\n",
       "IdyKEh8XHTyr7O3jFylkcQ28UOVmSVHxASp1nRSWCeYkil73YYWm7u/kFOqSh6925D4muHyYXcTU\n",
       "KSi8I+nrSHDywOzeuuP+Prlp3OaI6LBuhXd1wr4o3EBlbCKA91LC9F3AWluwjF2L8dMORRK6MaxO\n",
       "eRY48RPkJiOdt0LGQ/V2prpHP1873putxz5d8QIW5q39Pa2JnCLeh8PW1fO63kIwB+G0tYDQGebq\n",
       "xkWlTUJXrdkhrmsV61cSOatsYX5RI148OdnxMdGpw9zxzQEEiNLnDjKsZ/K07g+o4ZGPSFaXrE1y\n",
       "hctN4kmpA8uev8NPD/BYT/+EvrT6neKOI/S1WG0jLrMDiJ1Ebs3uCQBkNJ8l/+Jc3jlAqRUTusrB\n",
       "+C9hT4iv51hREok81nAG1x2W9pbSETynGyO+Y0mGi3qgCD0kTiDIjKPpaBI/3L+3ZI1IttD20miJ\n",
       "kxUFnJgUY8rnHWb+Y23fVdz0VmY1fyDoirT6aIkjzorKaSgbEpGl7AlfhBOlpY3s3JngthpJ9jxF\n",
       "WarZ4a7raksL2nwS2RUWqLlQeR+WZhiS7tFrRNN3jyCY2ZKtnQfSmBzk6FRRPPubu6qV55ekPZfk\n",
       "NRThKE7QYqa0zw0vhN4E0kSKx4bx5wSyUUsC6/evgCbD6yswexHCTGuIsvvV3oVxhUmr00vUVTfQ\n",
       "ST0j1LtAPSc9Tssmvoo4sKn7x/N1opMGBOcS0H06fHhhup/OMSrYnv9XaQG5FvS3kUirG378uhTI\n",
       "Skojdd4+xcMeOKDcOsMlxKRLoh/M3/P1ckxFG5InocwJ7XbctYv55ZocvjOwubSXjTo8tPZS74Bm\n",
       "UIVPJcO/2S9BMgqE7At5/j51OZf9F65yVylKOjiZkDonLqmzMQpZFaDwPdabos31ya3kZpjC4WtY\n",
       "bk7Osqp6Lmom1Zgei5T2UAYqXcHBGKFfjIj9T6RfZrm645SDs0qxLnIpE7Z4df8yfL7iQBYKcgw9\n",
       "Zw2L2+JQzuQ8fxLsbqGzOsydQxcLQfJuhcJmN38iW2j1mifsqZOQ2w92qEYJKYR6SiryIJi5NmaJ\n",
       "PUcabxAY0dWKXmf50YApoBmIBHbDlfxRAAMdid4B3Hf+HTTMIRlQnvXLJBErBQ8pxjUS393z/JRs\n",
       "wNa7C2ftx08HcjLR3cQDNyfEZolZJKPeUP5B6KUXrM54UvYOWhYnmkJI5mT8jChBwUfXnQp8LHLd\n",
       "9kjiouJ3DfKGBONnRXtMQKTAPW7DJ3kAipS8uZUXiV0Ci8EeO/UusScS/EELhk2/if2NkbBmpoR3\n",
       "7kYM8pFnSTBH0NU6NplAoYJDDsEAAAKjQZ9HRTRMK/8CHyZNAxa1lWmMBLDeY94483IGNvBZlQKT\n",
       "axSc/f/RM0EqGvD96uHQ25NKBa+dM05UZvgtXILq47q7afp2CeA5c43PagRy8YuTRPlAtdszexgC\n",
       "L3d+Nn+zYgCRzB2UB/ffWfpC5YwFogOCS/UeL38Oa5ZsFhWe+kCTfg1FYUonQUf1URGnOVz/mwFa\n",
       "VtsF18IRAz0VJf4GIFJohHgI6wjjWp5DNHl6iU8x0Y2B4GI9Q8ihhHJUMmMBvAZ8BsJcCRLUZ0xj\n",
       "vPhJM+Y1JdEybBeDF4a/9QfMWKx0BTeVMXSga5HzW/OA7xNQ2tSQLUUflOkHNj7yeDBDPLdiIAwf\n",
       "FZwILAmbgDzh7wnQCIRMy1xgCASPIhQXiA4IqFZDKHJdmDocHSev8xWGJqx/toeR76dK3LiNEUHP\n",
       "CIQLL5JrJtiV5zD3wAuhWTYjMt1UllHNNxleaKDMCiwGqUTP3/0fzaSb9Dt4loJ/mAqxF8CXBaZB\n",
       "A+oBn+1y+EqZq6OA96HuVHo02jLV8SVz5AHb7iLyNAAm0AIqJMKeXiMY9j4CD2XLiwOR6lwhlYjz\n",
       "eVkhtaRztj5adh/hn4XwTnYe32QBJu7cbMkr+O6dngNTT5ohcC2iKNPKiopcAnjXHid8NBwV8y2j\n",
       "c1a3/ANcaFDjEr4lgNFnDc4wOLZOiiT9RYivLF+LPzsxASJ2Z4SiLQDdUwU5s2ZMt+CeP7XzlNfu\n",
       "zNLHzVQM8qNP+ZjwztfmkW1n2c/nNUvOaBi47xZ4N41Gxdot7wPJFMXEe5EUbKC3kp20CdImIgAY\n",
       "gMUxwq+wsdhVY8mfgb1j7i2GYFbnx0POFeHewNts4YchIG/B+fpEQWxQsqIM/2gftopZsB7rrYid\n",
       "IEetdtv0YCWdfjAmGfkwAAABwQGfaGpCvwCxV7Zz91B0pslqMsB2M4YRoIRauXGEaUVGlgYHUl+3\n",
       "SVzdFS78ADhsTyyOrThejEF6NxPkkOSdB7Qa571krQT/16MwnXdC9+wfOWnnWx6e68ZQHaSiW+JG\n",
       "NecV/YA+gQVUujOGMYLjFTCAhr6EMjhF+SDwMAI00YUPAZiSNbRUplXl2SD6gDwWqAvgIqgSqxGW\n",
       "1EWlQf0BS0pz4BvtTiZEcq4mDQK3GvLGMqah3Rsf2lz/WxM5AAvOxVvjc+3yfudsrd+fiy0rY1F/\n",
       "OgWVyar7vAfO+wv0KVfSQYdoyPPQ5PJ2MuYM33scrq2+xOBpOkwj/+hE1OuIfvi+jXYovYo+LoC5\n",
       "vIEopmm7ap0zkksbBCT7NZqSQmCYQOuB/GrjmmtAly+ZtqWOxpyg/ARMGfn/L6Y08gYL5TeCnLNb\n",
       "pczcHpEE/sw/Dc2Vz6BFC6Z5WrR+ZsbUoZkWvK01zQJ9N4tc33Zc9wULxdbVY4qe444G64Kse8gg\n",
       "3ANZ9Pc+cu7A3tE6qa9d39Eel3ApDSpI/QQyvtogf4I2ZH0GSWjUIm3tXKTQgp1UkpvXn3vDQdAD\n",
       "RIW6teZWLpbcKgPWAAAEYkGbakmoQWiZTAhv//6nhADc2nqA/AgwAFzTK/8EjeI3MeOVmLaDQwT7\n",
       "wkZLRv6QJFRXJxwnz3kVIg9leYBETUGz+RyaCzz4KJ7dJb6kN1wYqBMMY7pwii02A1U5C0VojSl9\n",
       "wBZHFznh+2zr6dIYngSkeQ7JS1aRR7a3HAKrSeHBJxuFi5JdcDr9QQr2I0s40GacKX2chp6QOrds\n",
       "KUfo+4och0SRfXGq1/uN037Sf51KNDbA0vLCrnLSUbCIdH0oUGXCQf1yGFnfOkzjwb0XZ97Dao6N\n",
       "AZS2+7G80TkBOi5c0u2UnklZJOhpz7GzkU7iCCQandCnXpGfrVaOr/BFsLOC4Lzy80NrN+a7Sb8x\n",
       "FYrtcMagryJYi//Mganx2KbifY3SgjLIFZCJ80BLB31Lnhf0sY5NhOX8mOhsGQ2RJfmOzj4K6f6a\n",
       "UFSzAiZ10LUfpmeJMQ8+kRBPA3Rn2+bNLCMAbutSc3GnrdA56ImKP7SyOALyD1lSXeQqJU+V6rgq\n",
       "m5walANv94xWwoEhIimeUolAypUJP7vejvdmqRH+/Md0rych/X4oHU9VD4ZPHiq+ElfB9NBGCkpT\n",
       "KRu5UBHmoX+C912O7bEMduYaMfOVjHfyKRAegMGT2JoWcFSguC7bD2gs35d54MRvH36U1XkDiQYF\n",
       "nRQELuXGmyogPZS80Mu9SH0DSKUOaf7CAnbOZ/u1sEzphqSFtGnOcxgMTWgIVG45RUbUOL427ZdE\n",
       "rg0sSDQguyYT5VMsaZFyvBRQNpZA2E40NVF424PaWrMkcf2vbVxTWtYdms8OyN+NhqNhu6JUuqg0\n",
       "MS66516vhMGPSd9gAK/KXPy7U67p/victMj/ZRTb8Ghv99UV3oFd98+3ni94SVh9aNw0QjzcwSr0\n",
       "crLT8EzhL8RSmlnxorDfQ0amIYYb6qpi40mkoVv01pd+Ven/wcPRJMvF0KIJAJcXfhJwtDglQnKA\n",
       "4BmIAiJZ9z5AgGV1g3XRwJXinuII9hh3OJSvRzGY92+mz2tso3uzH9f/Wde90MHK/LQULhExTby8\n",
       "vUP9uXkMU/p+6rfd/K+iFnO/qT4lITQud/1gqIm5gm/NYjGphjc6YGLTHD7OUcCX66gpouUpbpfJ\n",
       "6yhLB1cA0c8omt48KUjfPzacLu0De/RxLM/J2BNtLiupWODdvy6cy2/0gVqXPkOaNpbfh40Ldo0v\n",
       "iWVhOZ4vHDVPD/hauWN7I/Ii1nnc9IskPleH4bTyZ7EgdSUugS+1vPTYrJChMC0dgzyQreU4RjvF\n",
       "vkUXP/myOTGIiUovyXGc3I+X/3B2GJAbXeQ9iJTYkXijc9+F0gqkVTCzi7UAkl5iLDv+9x69+2WL\n",
       "WsXOSNrtQRXIg7b+QJ/2yKgGpAZfFMfXdVic7SMJsy5Vk7rrsnfftGWzo0spZvGiWSdHeJ4XjO7J\n",
       "eUVFd2f9HQtK+/PuhbdVsel6H+9MUc7cOQjmP92n1xwtn4jXwi3S9ZNI6TmWZc8ktQnUqenPgQAA\n",
       "BgRBm4xJ4QpSZTBREsM//p4QA1r4poBRkuKm1G9z9WFyhU69RVvtpL+MFHTaWhNEyuitV/Yb4iON\n",
       "jg1Y0UJRIBGVcm+EBepCUm7b8Z/99cNmfyyNSd5mr7lhUogLYofrW39i9zVa16UP/yHJ6HBQ9GIT\n",
       "uTq2boxSfASz+U3Oatj8IB8smxRRYCYAF6oNn5BieIKm7xBS6CYOvjzFR7pZQuRmBjKv0jeNZE43\n",
       "7dSN+SdtwdLO/e5iYVYa+q4bscwF8FQa8Xo8CL9GJIAWdZFo/XTtesCQv+Oq5tO3Xcx+v6uEjGyb\n",
       "8of+JCRah5WcIFHtfRohMhwLNZhFvIW1Atgh6ZYqvIjTrdD79/QzcZrA9DFAfaeRrTiTZMSkE1wz\n",
       "L/g3cZ4bqEPeUOWhlRMOf+Aq67UlYbOnXpLoWvELsXbjdo5Uf+58Rob+OjVVQof5ONIA9qH9LFx5\n",
       "/e3ZXLSJQQsjnhPECkicyCN3SoE2ssRDXKNInelKQAgCyaE3D1JGYSUS/LlAigy+KhGx6s+So5ND\n",
       "4AgkLfMB8//1ZsKdPgQkxTWAYK+M0hBvYq1wKaOMZGrTuW8hWkcbQSQH/PFArtO97XJSueEbNMMT\n",
       "Du8VQtACXQBZsRJjmye/KQYAIISdZOVMQbii7jCOTxp3EVXA0LJyEZk+VJupE8CIa4Oibq/9h12Q\n",
       "Kna6Nh8osjnfCh3iZyY7D8zd3Ek9Mt4WvNxMD1FNbLzBAA308DKaaUkiwOWVkBmaNiTUy4bKUxWg\n",
       "Z+XXFNxFVtUBkSiXIqexmnu5dhbqJ2dc+oWOC7y/n6XfFxrYr04kx68EVolpE9gQizQUfNylj2LX\n",
       "n02A9PpGxzoVT+WndgRvC2VTiCBU6Jd13Qvr8yVNFkkj+KK3JJdxgbsumXQFbbvcBZEA3EqeZU/6\n",
       "K4WAUrYOeNn5XczxrKe6e08S461YM1lNuAvXzCn1O/DIzMzLgAihGSPahyJ5sUxFBiO18p+a4Ov3\n",
       "WoD5mazJlcCWZwi7/qIZlJtqqtP7Qc5UGn5SmyDXbrU1Iq6uWpp0GXxfry9x/AGP8kGurJ5IZTtJ\n",
       "TrU19MmeD9q52gCpG6u0emy6q/aIGxK9vnQI9IE3xoVuq87evxjFNUjYe5b8bXqj/4/pKs+V2gEa\n",
       "TSdrob+DCtpxPUJPPTlgOa3DsgrPiyfvsgYDuGzJKC5pWj1k3xuNfKJdogtwR+Zs4vhrBKPU9Sfn\n",
       "VJ1wK2/w9gGWcoAbymhHWVggWK+X2i0QbITWxpIx3bszjFXKWRKFHNJPcFCPCZ+tEXql5Hqv7V8r\n",
       "MY58Gqm3vxmycYE1Ns3meLJcup2FFFSszXoqDPTkcUzunWvPPr0YwXOhd1wm5gsyrCwUFKVdU2ph\n",
       "7XNvJO1L10aCkWZ+hySkLKt1sWyeagolDtWextol5tE8auL10h8dDYpAmRaPSNIzGY3bDYglSrWF\n",
       "e7k2pajGwsuWYO+WbD0+F6zImryc+yDRZWCKsk6gTwsd2NCFW8+L1HPgLYvOZaJNbSSTK8DP4m7r\n",
       "QWSRbEyTjXhY3cC4Tll/Dv/tG+6l2xoMgouLoCptwNnqtB+ovMDn4MqtftSYDESINj7IKoMxpfT+\n",
       "CwBA8IigbGEtEc/UCz43trA830jWWVTjMao5FCwz9Mw8zLDwOve0ixMhGnKMLBS6WRvWIjbf1Mqq\n",
       "84wnYoDxTIGy/GJOQPj9wnQILEfbj104xuC8YlWI3LAY/68KGt861Tb6jJLwGF//vOsKZRQN39Uq\n",
       "1DgBdZ+4eOy/og29xnaMkDaH/vT8WZP9xucGn7iyeIVV0mR7wkKcJNjool6kZ+D436hx6N395QVO\n",
       "aF8zdhuFyH8ZNd+Vplo2o8LzXKZcm0HAdY6lRWvfksasFK4m72EqNmV9dm+XphzIJzUUhTYsBgyI\n",
       "pUhYPQmo99XZhGbqlHsOqolc/pQKlVPQZgXfL0slD2QpmvYGaif+SipMoHlvsKC2KgFfnEkA/zIp\n",
       "bzPpm9AAM5rcCy0ftNayj/TB8SS8gj5hABildRxhyI6qKuXgxkvk4LRxiNApDNuvA1uY106rROWD\n",
       "lyUgAAAB2AGfq2pCvwIeiPIcQVd5RyzTocAAcTi2DrKbc7ELZBH1EkxtqD3Yl+rXXvEq4hpXT8jB\n",
       "nabdcffGFKxNG0YusEkCbQuiWiB9V7p6FED31cv7lfeUQcDVSvLRgIYkSbWj2MCDXz22BUYp3fPG\n",
       "bA5KXGo2f0XM4drfeEnqTEFM0D/6VpO4AqusBq2ylQwJ/7Ck8rySKp6S+aZ4auLAkfzEWmDzgxpF\n",
       "eU3kjcC1IHWrLM3aHGuJl2GTFP7TRWQ9gAfSbiRrRjJyZy9A2UsoExUP9S7xw4n7IPm1JL8ISArb\n",
       "GQaS/DpaxMvlpIu8Rrp/UuVeUGmBQIsYM52icZNCmNNAXdkCRGw/gVBBdcuzPJZoiMDs9W5i/TEM\n",
       "t74iMcOsjhwQud1aCFX64GOT5uQqICq7H6qBCEI/+cS36OLsbbisCS78+BR38WEtX8btLraa1c3n\n",
       "9kWJ5E3EfRIQelp6+S6dOh6TBWyPKiDRd3Lb+mpXhbYnyP/GYwzVXBRyYE5sWNdB3oW9nbUy2t2i\n",
       "JDeE+RRfLXwVCwOOdkgfmHz4m4Ktyv1A/qp34fxlEzzX0iQdSy7uOJJT4VUsolCqXmlHMQHBfiYQ\n",
       "rCxHwgK5pY3IOveyS/gtVT6Oip9A/8AAAARDQZutSeEOiZTAhv/+p4QAmsk+jlsb/7abThu/Zy2V\n",
       "0Gd52DLkB8jYA71gvoFxkNyJULXYYtxou8Z+YExBgvj6giDQ0j0xRg7NX1XYInVogX3V/sRyOODN\n",
       "htQM0jC2a4Gmk5D7PQPpMf2SS+XLNcdxSJA6JHk/7oBuxG9DmaPaeuDlYjMMTT76jSmaupNuTAnU\n",
       "GwNuAiyXd3OSYqLURJgjgoLeLsluwAim6w8QE+0BNTlIVuSVRb+Zs2qQpfIs3zCu36U3OY816Ix1\n",
       "iWpiQzhikMfWzRHrozQZNN6nPtubMBhOBewWhmedH8GYa+LN0NSSLrlO19dX8BBSZSRAh8q323Jl\n",
       "t8dyAMjdiyHIhFOabcQycNwb89Dg+VYoVE2WZB1Z3b9KwM8+GBw5sBWR5/SPQbWaydXQoLgD+tYE\n",
       "sCY3rpszE3diTr+N473p65xiUskdwFuJNxBYP9ewLfX+6jufwCuKTYkrrTgDY7Dyuyvlvl3raxr/\n",
       "T71hwkIPsMRsokz0od4P43JSvPTcYxzZi6L0M32jypW01DcBeG/C6GGXsrSCErTPEwYdMNATvigw\n",
       "C83eE9+VMqvZ3ovMHnehqEe4vwmwoIkhZxm3kUUK1LFgXn1jvzwQrdtSk9wx/JhDrf1WmseA+qew\n",
       "X1vSzMFWfUcmw2RMc0JU+jL8ncxGNnr8Kdq/CX4CCIe9iQPrdRUanNkOiOwj0UFZVY3rYU3Heqb9\n",
       "mR2koLDH12WBMYRUHxrjz4/YsISpZ3lgOI/8mD77IWLwULaSy12dRl72XXHN42XefkjpRDrdxwe2\n",
       "HZyCCHBAB61agWGxJO9bPuSzpoL9bczY81Ini8yOb8AdLaf9b7gv1n9E1szpP527h+LhtGt3f2l0\n",
       "wBnWkg9/2E0OZ9CDaYq4fxI9iJrl5noEBNk+9nGS7bmx+jjNWTRu+L7MI1GofTAu4WlZhzh+8ObM\n",
       "ArvPJ1p7An2iVc9eVxSUPZurFZPKIMu/NWmhxZa2etmhRHYm8ofq9X4xvd8A2KLr/SYW3F6PurDQ\n",
       "pxW4j62SGkgfnTVi5b5qTTZGCYirPwWNOsokoJrae2rKfVF2+Wei5F69t6PUIaJrzV/YHE3PANKd\n",
       "r6cS7C827+O3+UG86HrEt0pBLQ4yKoJ5XnpE++LsESKZCgU69TbqSOYsz/Vw1QtSbGNTdEUp36A/\n",
       "HtV+qxNTn5CwRq2n8gc/WQfO/fzxqgLgwUDBPlNguboXHwZEe4vMSxqPL3EcFvTEK/5HyHBAR9o8\n",
       "BFGQdFP1u655oqLmk6s7SuHGhEqP4Az+QR2bUFOSKZtDD0X4dT0Xmrz1z29I57pi1E+6LW8K+3gw\n",
       "AKfWbjggUFq2vhK5CXBPtdMECTxwaZOn4EQJDFWAOXGkwxJPJjaJSiF88TnA0121FlMfPV/tDlxy\n",
       "c76ciS9rHlKmQGSw90TjaIeuOivwhU87AX+TDdiSnnKGjOEAAATcQZvOSeEPJlMCG//+p4QA2+Ba\n",
       "IKzCzv18AwitADj0oY9t28so8U3Zy3LRfzQgaj2I95T6iS44w76yZVXl9BQlLzIMgMFIih3kR80c\n",
       "b9CIxNLP/A/AvzoXKHy3fOF/m9ilvEPnnDx/EXeOetlUSJGb5JQOs1P3l/H5Hrjuv3K4eRJdPopM\n",
       "nDp3Xgsna7gRxa0NZWpO/cd+mUGbmJKlsrHZ1Gnji8Bl66jlyT1NrySINUBw/oPRM9mtJRd8c6BE\n",
       "J8QdJPuJXl0qQsGxPCmdMRAXI/HxQIggVvjDsjIpUyhXNOtkddFYCV+M+o7PzdoQmL/IyM+AfUEG\n",
       "/FRIdG+ftR7TBhm3eFHSn7BAFeIbAQ7a6UAfgzozTCXI6+SWIlTMFgO+gN7HRDFxgO4P5KHQgfdf\n",
       "Wbr0BrsjQ95offrBExHArov7kVhBbrznWwnvgpn38yulPkybGZ2Z97REr9jW7dy3P3QspvPH7szh\n",
       "lyr3miY3wv36+e/LreTL3tY49rVyW4qwU5VrW/6Y1nRY3jZZqrTIrNt3Q3t1FmKDRg07y1cdP0Sz\n",
       "534n9OA/JpxrszlJfXL7q31vBskljWlQ0+6TWGcXdzPf4BQ77tBNPrgELakrzbDJ/+EE2MRrLMp2\n",
       "RKm7pGdYmhl0cHwVQWxuO0T3NC0Xy7OwFOiSuEqCb9ffCmL/lUnRBF/iE+2C/E252/dKKoINPBO3\n",
       "NXdmOZzCpqR12MaK6uDn55h0qqZ5pVC8+XVTYqngZDi9Opzujv/FDIhQypsyXwTbBvUYgkFpmnE2\n",
       "bVisIQe6nsUypBTAKvIbYacW4dE/oF8wpRdOmNJbaS1gmTykB6mF03XJk0Zxv40cg4isNRr7dK5v\n",
       "6rkIevd/2mAt1Ual+taD32yXQeaeOMSI9O3LvtvMdPOFLeS80NetPTm1Bn1wB/bP9/uKs4Hzvmt+\n",
       "IXu8SFjyGASzM/G420oXzndC9iFe3pELIKG4ngsFGxztIQTMOBDzEhMDOQPP4qGoM/EUwbSdZw0L\n",
       "qmyz1vRh357onWCvyY0X/C0BJGWKW8Vqfc1BrUs07ZVVfjHPilvT8Ag4SfRLa5RLaFtVLg1TxpDh\n",
       "uWt1LsnRepgqYXH8ZZNYAB8FAO5RdCQmIlNqrYmySlIyK6VfHNwu5727oZyU6UU0u6pnhE8M7GaO\n",
       "DAxcBQPPwnx7/JKZxxEHNXvX/OLP8embl+gVaEAzPaSnshixWcZThJiPT9frUWcOM19ZdiiXndUa\n",
       "Sww/RXLhDcs91HiqZ2SspU9MDUCd8rt0FCcgbGDjBrN56k3VRpPrW/fPJyLhOStbC9/ytL6WaIfd\n",
       "3DDaJdL6v4r/jee3k4HnUwmXfNA1eUj7JHFN2inbp0f/4FnJcTjPwSlHsKVsw+Lj9/ng+SocQ8gj\n",
       "4K/v0OWUNCtkD3La/RVhwsI53FxoAWdFx/N4AvRarylUq/k0Yz5yotkl4tsq3yuTOD/2WwIN/coC\n",
       "42k5URlTDpHb6xbbXtfigE07LG5wkfxoI7KIX4Mmm8u9G/6JeRgPFswqbUUXg2DE6JyLfdrg/OMI\n",
       "f+E+8HR6Jmeyo9ucY05cKcptAOmM3oqpah+l3UiwykU2sbaL1pxxqEjwBKK//cZ4inPLpo7LzKTk\n",
       "CGj6wq84mDPn6Z6Awnsge/PvKiVSy6XN51S2QekAAAVmQZvwSeEPJlMFETw3//6nhADbm/2csPny\n",
       "IUrZ+ZVl+FGlXAD7CYRRY1436YuMI7PWgjeIiRZsd3FUytBAQmUCC1Otx5LljkcFG3lOeWMsPOSd\n",
       "RyX2RpRboE8ZBWUQ5tRBlIRhRXFLXyAk+wBB96veYPhR6+f5XOnW0KKAUo0zSpQfdFVJcfYQsTvK\n",
       "jwtZoMpK/zNrN9QOilxtQ7oCKRFDuYNxNFHmcx6lDoGPUvZv19+Wy8HMZ2l57NrWfOfiOkgNWzYE\n",
       "knJ5NXqIMi3edZrBLQtc6jh0f7ItQ6AUfSE2r0U9qLsWKylAdaoqG3ZcjaBBxqSKjqOvQ48MG4Ik\n",
       "SQrrdaWQNvMfDDxSgnM6gxC65f8YOpX8GrIKcfdV7qr8724PuC2ysUtiQQEC2njsyMLTdFGBdTS4\n",
       "kWpzRDVLDjMyPgWdO2vM4yBpXsOb0efsO3mqT3zZfeHhamEDgOcRd3KxiXKM/j4CUwyEAmOnoywv\n",
       "8EHtKgZzlCor9ys6FsQ2xtyWxeE0SKmftJooQoKvEQ1S19Typob8EPtRAAG8FsNCanVI3IjxVnYJ\n",
       "EnwzzRqAS8a/YFs81gLg3fPx0lgdxT/Z/HtzS4xfY9F5zwxKAAOnsJI5dN06G7dl/06wGOiTNBFY\n",
       "MI4R7twVeRWf+hXi+SHXqkGT+M09F9xf8JIj1GVq4wu7OGRAsINORQXM4GQyuY55qjgeOi1xiHo2\n",
       "Deow+BzgCbXYrAjzQwsnWrlM0a6we/GCilKzS2loT0REMZKtik+kNV3/UE+OrnKmHd2uK197dHuA\n",
       "rC2glfEM2gZDKgOqcv0HHTzw0VtzXf+4WqC0r94JGTb+b3c3K+oHAVFo3zdumqkNJroXK8HyLvS+\n",
       "1hEF/PcxttWalHjdwQ7+AuzHdEAcYsjX+NtsOcy4sTIzrK+D7ubHKYX+Zxn0d5L5ZYUd0M602WNG\n",
       "jp/LyHJ0zhdFFM78ZxeOJhnvTh7l3ODJM7uoyVGU4lnO7FAiaVetBgO8FKH8kQIuCLkfQSHMy38h\n",
       "mWdgbs0PisqewybR5GfACsJFP17zNnZIn3lxlkiwKPSo8ZaR2kx/PprOhqbh+7rugc/cyLuYiHFV\n",
       "wB9PH2tj86TxCctM9IU/cXBcPbrUxrE8S8D2gbaTN/dGtfsarUebxVEHSgShC72uQiFOf3jh9IcC\n",
       "MmyZS1eiXC5+hqQeKKF8gFAYMM43cRxHxN/WESXGr59kGqgxOyR5t+anxbTDY37t3F4H7UlnutZW\n",
       "MsIEP1wyLRhBKeAhiNfkiffqey6PO5Z2iFEXUjcQeV3nZMJ6JCNAXmIg/32tasA88H/WUbqbi1Yc\n",
       "tePD1QlWPo8FtftbjlHqZUyCJrQ5ML0MYWGEGgBH6Oo/ZgZFs/vUOoNBNRROYY0FfUjewcy8Yc7d\n",
       "HBT0CXEIPYpVUI4qy9jrNVCyYaeO/jgnTYpXTgwNURr5y8yiqfR3v+wjT0j0tXXmJH9lmK9NOavA\n",
       "NHWjPo1tZilUAK1T/DweD0HLclVp5mIwntQeVxe4Jc9D/nf0poFWPcfbLIQlB6ILWQcTBFl32r6s\n",
       "JoDe0xTVf6S6KMRRO0DK8tKNH/tMjoeI/HjLfAoCcd7WZzsEDNtijIR1W2DcajwM/nhQrJrcw3tx\n",
       "tYUnuWyT7qisZF6ibCBHy5uOtdxiVDufC4XcIJvxZt2hTGkH6jb6xPZwjA0+8fPYUpgCpeSMmpni\n",
       "VXeR2Mi+TgIT4lr9znZV4j5w9CGJzxCOUA7mZwdT8RJGHc1eyJ3eHQy4tmFdR/8aZBvhuf0Lsras\n",
       "LgZGtw1g519XcC+CVAxzzmUOyQ74DVNSdR3d2Jis+Drh+PW8wOrEKViSvU3rY2EAAAF4AZ4PakK/\n",
       "Ah6I8hxAuVJa86o3z2VEzeUMQ/EKD2kY7Xs+PYpGKz83CF6DbtkIf9ngCFpNRPJtbQVsnLgkxV5H\n",
       "vknUoVydPofw3sV98fnaZKatpKM+CsrHj2H2ilcc7wADAmnnoKq3UhPLHlUFzLOehQcC/MFBPvpi\n",
       "B4c1zXkW6OHELeLZ1Ay6gslEzyRUCZb9u9hokYC4XJdM0o/i51zxS2OZr2bFyzFCUMGAQUW7FgHL\n",
       "QL2AgLt412zAO+Q/9h7kki3u2yBZL9h/M1RGczT/+AQ3WPAgAkBGvbybItDrWfJUtVl8kW1FwFhg\n",
       "0nv6FckJFKGbNal9TS0F59pd84/TpfrAbjYgTzuJRuCP82443Htx1D4aVUVwqpdJ9ZQcqZGHLsNs\n",
       "a9FCI/EW/63633CJPXQECD7E77MxMc5HGxGwYPezzwZad3CvJHsRaUdLiwO6dmquwY/JJdAsPuXj\n",
       "60VAMoOOsK42HznFgX9fIhFt17HICIA+spAqrgAAAF9BmhNJ4Q8mUwIb//6nhABSN/NhjAEQEyll\n",
       "jLQQsO/4/LxR3LLmo0RveoPuuhVWtmxQS2t6e1cKyt0vGHqH7afhQqqZsV7wGOZA7HG4LUEtB+nU\n",
       "miQ9YDDK86SqAbMuJgAAAb9BnjFFETwr/wIeiPIcQWgGs64gCs8WuBBK/l3TM+tu9/9P11oB7Loo\n",
       "0h8qGz2XIYLWun67QxXOuKOKRnZSo8Pd5Aa0rTyk+56fXXQMJTJ/FzUa9Wyd5ArJTpSSuy3q4Idt\n",
       "J7bBajnyhIKwGaciJlDf1DCwfrTU9uFblA2YIndLQTL55123xVcDpxssCNZiTufrR8d/68n0noeP\n",
       "weyTncW2Crn1yLywI3bDZ1MGhGy/STstxWdNnD6hXx6mI/CynKaZYHPC2FITdV31YHYbLV3xEcBl\n",
       "ZiAFgL5ad0XhC5fC4e3qkfUOENTdt38CgES8qexg9evZ45JEbE2/KrofeE9sEstt6i9bngBMcJNB\n",
       "E3PU++cE+VaaM1gddq0oZzj3X9/3zgdnrWT7d/WLRAXh2dPNK4FMFabV3lXomNRezn9WCaBMICNR\n",
       "8sM0Pk8EkA13FnXnT6ZEfZUxFmMB6gsR+WDzmqWp6ng6ppIZXzcNYxDdNAbMy8H5uhgd7YK/1bSF\n",
       "g90uIkz37iSeyDfAGwhm3d0Auh8N0NSTwvdOShbvyHvlw4OA1oDoEiVb8Dq6NrN2yc43YwXHEjZz\n",
       "ppyxGQqYLikAAABVAZ5SakK/ALFYLzDXRU46TLnofU4qTzFYN3wQfpiyUmIk2Zwo2TIyDNKgWaRy\n",
       "ApzVmjVCuGgtVL69fzUu9zuxWBAjdIbFDJh0llelIBclZ+tGJv5ZwAAABWRBmldJqEFomUwIb//+\n",
       "p4QA25rs6e4BMAZay2L6dxLJb35+HbsJ8QMhtZ6b9DkaAA13U5oAAdkLjULTih3M1fKxm8+miWQ8\n",
       "dVXcYXzl7tDlfCXO3Np0Go7msRgvlyIOf13UOAfVTzK8EnOT9fgFEYnCuqprgaO8kvU9ozehRMsb\n",
       "n4xs6C8krwjB17JwulXNMuhf5QuXvjO9lUdVZ+hk6gTnmq72X8jManjHW+c2n551lHzG6Iso4YgE\n",
       "R00+73PVlXQ0TMsrdlHog0qR5cstFqjyj2kecosmHd5gxDPwVjq2k2OemD3igBsu3YZYr8o4+qLN\n",
       "F34cd+IcgltVxCmgRoCzt9GjoEI03mft0x7+KtOvz+606HEqph7fuprIEP1QOtzdz2GAJp8Et6jl\n",
       "KE5TXjBNsaepcyvrUwS2An58NiM/95abxSo6fmfZNRaCkeG5s8hX5XrTvQB8j/70Ruam1yTJNAT0\n",
       "ov+5A6Zz/czkmsRROrHIjgVfAkTAN77WayutPvw5vq7xQj4LekVCi/bLkUozc+lp3VlpXPURQ6SB\n",
       "h6yjgQ2AB2TN8ADwFIiWwAWqQectRsT7v3Kqw9+rGdjnl0mV3vr7OJ9mHcOzhBMaNJIO3ZnRyJ0A\n",
       "jsaC30B7EW2p/hriV7HwSd0tqrib89yWyRui+RIPfiz/RdUGdWL/4m2pJfs31P7zQdS7R2RbBvi9\n",
       "G0+xYD5St0oiyHSIh90QMpIymPhmOiIkjEm1BxCzNfcsPztMRfR/l0NHWEZCs5+7Jdkg8UHY03tu\n",
       "pLFx2tZdO66QPVuNoWL9ksuAtlsV9tMJjXDR28h9z+dSp3Z6F84Uv83+8EyWENjPQYjIVBzmKhSA\n",
       "+thtWmVPiQb9tToDlu415GiNjK8NZJhT9JQabIMZE61ssY0VZ1c8oPu1AXfE1F3vRnQakeKC0aCP\n",
       "itpGyCaL1bbpyhp6wtECrot5bYDG5aqyKCN8YrrCMxStd16KWf3vC/RsaZpxc4/MTJkEZ13wrXtM\n",
       "gAtdTjXSutJAASfBv5dvgRt8vaThP32aAoK1Ti1W8CD7Jlg+ebLPmQjZlJKYeo12Jsse9BaLtOby\n",
       "Mp8PijPoSvabTrg0Bn8bn8e6IHfOtNV553FOxfZ9W7sdSWmKA0avj8HImn6DY5BzpbCf6sQjhNCm\n",
       "mvPRx74Z2aTT23yqHQMJQRaO6UgpvjX2NrUAD+5u9LLLSLbONBDVXrzm1mS2EGwR4z0SEGGzxBvg\n",
       "qDEktGBw1bLCnLTxqqiv6ULvD7SMal6STKl53v78ytdESsJmKaKjkAP0ffIkaf5d/kpB/2PGXxor\n",
       "fskLgSh8GRN54RackVdSu0jpeS1LI9WfrXm0ZhAbgoY0xkGRZp+AjK7pOkGYKU9T6zxQmsUaWYUT\n",
       "AEMQTc03skvLj5YiSdIHHLicum8OQ5vd8g15TQFYYLS+5tDdCZRT6STjJbR690P1KY2tqp4AaQc5\n",
       "C048a4T8Sfv8MoTf7pvusKi4wbocQgzUziNK2d7oLeFj2E/iFUVjartD1d1dB7EaBgUJf20FCLob\n",
       "KqfDe1JuMhJqYtkOxIcLTtUCXJSBk3ofnvhXB31vUg4QVOxyHmsUxkwcKHtxYZCuZ/eYoLDHNIyn\n",
       "jkNEqBwxkkYxL4KgnWojTLBvJn2UhForKb8ZTnmjJDu3s8/dBXDX+k0ezDVNWa0gvU2jp1NLaAhK\n",
       "pAVVFrXxk/vSQx9xJRHA+k8MHbUoYzirNsGwQYXJHX714fTjnly8uttu6DpOOeT3BjIcDkZf9aqM\n",
       "hO+1k8yf8m6X40SG7M5aZlWsTdZYYBYjfgoOq1+I8U4MmfcaKpc9w6xl41DrASGTdTQCGAaeJMAA\n",
       "AAKTQZ51RREsL/8BledOsnRaW2xN4QZQz8AWiMH0lJ+S4fhQAC65ISAZg747nJQOWs2s6FFHfh54\n",
       "hCx3ZvqNm9RM8EQ1pXNBMqXE/PpkySdrKgA/xT4xZLmw0tRq2UdAfSTexI5B8MtBxlnU79jPyTPy\n",
       "Qzc0a6RTgLQfYgJpDYStzrr3/XG58UlWDOv//ufho9BfjTomHg8QvAF/ZY5IlmKNumBONdfLi8BG\n",
       "GAz8nHe9oaafCljMRkgoFo8AAJaF+MEwJ0HGdqic+LvOR0o4tpeEfPD0o0yBrf4151+SvMeA/ZwW\n",
       "83l7pVQcYMQ9ZEdAafGyQlg6bk3e7y8886+M5B0hMVNEUmGbDAd6VozBnzSeS1/umPFrgE96X3JH\n",
       "1E5wpG280ehxFMikvcdcKWJFPSSyqPZll0AcF1xe5UZCeA5fMOzgFBj49WA1g2FP7rWHARr2aTDC\n",
       "ZI1inuOO5vAF7e/3Kxl1XqzKrRK+SDCNzqAvyqEaUsIYoGHu8IDPFpn6M/N9TwUPEAEvAv4NH7pE\n",
       "Vj5VZr1Yg6Qq5+K/7rNaLebJ9G3ct7wZiGGLC3gq342x1mx212/K5+QAHvI6ttstm3i2kI4Z2lbZ\n",
       "aNfWvZT+g3r/HebhzKh+qRR+u2UyG9vvgRdNPhUaAamSYztzM2KOdzkS5OCiCaVd6XFjferxGcJO\n",
       "zX2YR6+UfPq9XpLGRbE17+JmUll0EZIiys4sRzWAw/oTKygRl8FPntuhZMe5KkZocvH29gvdTEQZ\n",
       "buOzddvNQs8Q9j5UKa1rifCFlxA5cEJeLnUPxoyB9OAb1KLTpnCdMOJJtrPQKXm21Xfoo6Bg1/KR\n",
       "WlFBZLqa4SQ0Q2RdBRKp2slqKJwchHJXKBmPtBEOBzr+LfcAAAFkAZ6UdEK/AJL49QuxiLZfn5KG\n",
       "1pSAFfni6rBZO8zcWqsuOiZbWSmGR+3YBnrzkEzYnk3O3yD2JzTtZTn6iAP5QdGcCIGaPXFD1LfI\n",
       "WXPe4GvB9Cje1RuNuJbGbHIrxO+m92Cg3tLEsgVwbVGrUvXw0Qd85yXzatQKN7t7a6qOG4ZlQWeh\n",
       "6Db4BWiUGeyR3lDqiuCHeSUegrnRueGBdzWBiKN2uXKzO4Y9BZPYepaAY6IVfLAPNyNqzb444Fzp\n",
       "tkSjRp46+XLQebeugJJ+nbewQ8D3sfjQHyon2AsyqhglqQr1+ofyjM+EmPwXO1d5STnTzBT7HsSy\n",
       "3cINbhROU0myRlMtiKUTYpv3qzxCFI23GpG/yRg5yeYGxPiBC+/Qdpnc54bauoqwLybRO++9ZsOF\n",
       "RR5FrER9gQe5OqcGxWllr01GHuZe9IRfLNhXB7mO+DsQ3MqqG0HjEoIkSmuEtQ1W5zynotAAAAGb\n",
       "AZ6WakK/AK/xP/1hmr63StbaGNDyCcC+a9LTFqzaevRWLWwurbKFr6B5eekujBi9QAi7rdHtZti9\n",
       "KAEC3cHdDQ+SVA7p2VPwOZuRGMqg48enuZOMyeAFWc+RADs+veYF4y2HqCxR1Ox9GzqXF3+B79yQ\n",
       "jNVnPXQcWrPqD4eIyN8O+RVussTvOdvq5m9tJPX+9GPE3MJQZCdAgPMZqo203Jycu6ifk8hUfn8f\n",
       "FvTlRf0u+UvTPofvo13WT6fsl8J0H9q9g8QlyxF28EcZHT2GDatfzw1fzTdIZSk4OaNllV3YsF0X\n",
       "v2ZfprkHAUlt74Vx9CS2RQizlkh/JyhDDjVOdUDkuOPTw5p6RUT7hcrHJPwmmf5Mvk82h+DEPl0s\n",
       "iRG7By/LdkffDxaU4ULcFn7i0NiZr/+DHCsAI05dOwzVakhfDUK/9GWSpSIYghScW7u5W/Y0KM3o\n",
       "7yRct2aW0yCPUl9iy8Wa1OtvkLasXrNIOWniNaTvvz7kEr+S87Z77FSF9+g10/0L6+qfEFsUi0vI\n",
       "UStfjHLisHWhqB5xAAAEu0GamUmoQWyZTBRMM//+nhAB+v7HBwHCr4bBlygBiAaFeVv3X7UwVK/S\n",
       "ZxS2TsUqB6UcdLclFKFBQhO5HECnvxlRgfT+D3wxYe1U1feG/TUSE5ZFSK+fjIjlAlQiLFuPCmhp\n",
       "oHAnElmApJMe/RCVuZa/gRdCV48ep8Yn55CJXr6YrCuEDqM9jOtvlatpzgBDpZ0gVhlf6FSKQCCK\n",
       "KiUTo8riIf+VRnhibEchVW4UJLirpuHfA0toHp+wMwZPUYlujYne2Il/Qo0GOfjRQ+b2CkETEahJ\n",
       "wANOzlBiBsk46HQL67Q/1b5m/NgELUbSShGJDWwAxGG72wr/oiObIUBdVuRoEZG3ej8CeKcb0kkO\n",
       "lZcXsfF32iRKHOh80ZJr2sPmlllLIdTNn3Xs4f7A+6sovVfTl7Kl4Z/cu6YPYHheZcpdVW+wEzv1\n",
       "fn03x9rxJkZYewWynlKpBCm7grBhs7BYPIrT4K7WDouUgdI7xa44zZ8uog9U7A3yKmdM6iGht0BP\n",
       "WYANGdHBod3OZBPwbkGJZlzb2vG1Lor+PEbjVOGLESphBYG0Tm2v3Xuf/am9F4CCk1h3AGwL7FIv\n",
       "wSan7+XIASToUf5ZOk6oL/URi/56RxQFSa1/fYEBlQdNKOVsrdiiK/35Y+nymrVujyv7EI85zVqO\n",
       "AxI9kXGLhw2ulLXMFG3fVI6s/Hb/0LZjMbY1/VG1TX45kaBKuTH1oNR2gBGUL2i5w5+az/8+WC2K\n",
       "OCqgK7jePjvvd9csbfQdE0m08XTIgAKDPmOjGaPplO7izN/LwaSiqVfZ9kI9yTc5U2DGRp3ZhhbF\n",
       "jyOjYucXr3ULAeCU3rhCh7Dk+D69WsIY+HyoLxIUUPqiJPXxAtTztP/c9p/iQpESNK2C2rju7IB0\n",
       "gE014dNaKWYx7P+3G8v+PM3gKy79XYU7L8U8cpqrJzDcxgMIVCdnURhbUel+C35zmNOyzeSLQwg8\n",
       "qaR9SjdjrjA9gpHOjTbrMObKgVuSsgItYtgPaJlPxF7WV2SuOpbyMka9v+H1hOCoBmhFeTRri9WE\n",
       "QfhT5hWUHXfe6vzhko2bBdmP+M2JRC0z9FDgktehn5+8AVZjh+emTxJFlAJDl1TdWB9+54zM1uJD\n",
       "6vzb2e9vvfK+c8OhGaQGPy0AtcKIEIx6HFaAojihjhu288XYRK0kXK43h+T1vpbSPWdaXJ9tk3JA\n",
       "dlVGzxlDG5n3ax6w1x6b3HVLTeZfkXEQ6K0nRiIQ4cNVMihsu63UR3Cm9qcLHhHdgIMrGprSif/u\n",
       "kx1KZvpo/Eb6tc3YNPvn3oj4wqG1YY/RUiAWpYxQYuinUtxCJ3RMY+/BSOPDBW1t6MPtrGtroR6B\n",
       "jb/dM070upgiL/Low6cm00A5NRrqZAJfiOkSgdkmT8mv44fuJwKlKUEQMaHluLuR+MqOe1AYUtbj\n",
       "tyMJrTPaxJa0/j2X1aJkQJLKpx00qeU5WOgvHVdfDFUJAmyaZNi8Bmo+uggmggA+qgpOqTmuIK5P\n",
       "FkU42XTvSx1MCq6C6fZG/NLkn3wsEftpSwJ/rYw25z99ogWTwG61uTiQfcdRLoa/otPjWL076FFW\n",
       "Qu/nYPkhI3Yl1UZlG1E209DYOet+TdiVIbfjBlxJAAABlwGeuGpCvwIfYc0bBK8IueJ5EbBstZ0D\n",
       "SAx3C6tbeDHB+bcLDuMmFl7MWiXNjygBCCM6O+xecrMki8eIvRA+ol9MtcxVdVLvK4SRUAM3JVKd\n",
       "1J3IUpWRbanEPrYKq5nTXbd2Ebo+w+iSEnCVGRqgrfAaylDw1VCtRTDkMPlia3mNxPp9c6C9lHy1\n",
       "TX/uJqldGu1/e4pS5sc6bab5WHlJQprP1M6cL6nMWGEL1v4W7hySpJzb5lQQLLhepVMNp7XsGicy\n",
       "hp5xe7pFzM//Corjtz3H5TVMESA9FwjEx85PXG1KsaRQpqiA28oqO9OLJGdGt3qYQ8jDvjwGTGYV\n",
       "W0fxaRDSjhsusIIAkpWXtGrSzz+PGGl7kKDCkGSt44towODaeQYEJO69T5dKJj81COM0udKA1/hp\n",
       "bbZjG/+1VAWol7qJA/updLaeZCvJtU/uYFUNahAFp2cHwrQ3fZJKQ0FjUKXbEZYJFOWouuDFNzKQ\n",
       "vbbqDGbZ9QU37mPOyXUVaCrTAIgi9VTWXljUTdgTFAFnlWlJCbA/CHbAAAADj0GauknhClJlMCG/\n",
       "/qeEANvgYd7+7O8iog2gCPgpH8008FbSuJQnyHrzcnutZEyeLC+GOxeDJCONtVjNRVN/lNHlsvAQ\n",
       "/eeC7qfuGr/Zl/xQvbRZ/RlvtTQYADl1XVjwETD5WdAOBg7bV940Siht7u1rkiJNtMxXDFZDBuyt\n",
       "XWoEF/uQDJAIFmiJzXo+8X6djBWMD3WQk5YyjhBTgpXRr9HFQ6Wf38SmDCJlK30N8sUUoiptNRHc\n",
       "u8E7+/5gW2LnP7/C1ffq/OgVeeEyK1wliyFNU+ghypLg1SXlyNsjf5lYNKbz30LMJX4NhtrHxckk\n",
       "4XTqUpocd1uNxhcIEpC3iGpa9Uh+hF6LadAbdmP2jZwAfrBa3zvVDaVdM6M4Ylfv7cgu9Sjyvkof\n",
       "+XPj5d7+w5SQrxMxmel5twjSEAL0JtYN89yxLpbkq9nX6GS92HmpzdQfNcyLJ68uap0QydRHnpWC\n",
       "p021YV3dFG80g2nqHZaFaXJkGyUE3CMmcq/YztWfmoMHZSFvpuat/hCts4cayLZIIRhd9VQFnY6U\n",
       "UqmF6Yfu/rQjAKoEheH5QtQLguoXLFsNCe7t8DJhfc4/GdLFOxu2JFrWtccXzishwl/HxZDQT+fQ\n",
       "DUbGbCexMwWO4en0b6bsZ4oiFCWtZib1zs/mrSMLKMLiIdvoEbijKi8/y//9OzZdp6iaDk9uMZ3N\n",
       "Nq9bUhI19XgZeV77nVr5kTNDShcy105aOzMM3aazOiJFdch+3PxQ4GaNBZwrR2tY/bJFKcO0OJF+\n",
       "FrvWNJgJv33xw75mmLHGIcMw2YcW3TjpM0V+BGosbf5ZmVxUkcU0st5Tt57AAjsJDenLAcOe/Sj4\n",
       "+WVIVv+scrGu4zZvIosrOqK0HUaLvwW5KnbZoUtWPKaDcIK71gLIoYZLhezmqyRDnvplF8Wxi57g\n",
       "tEziislrR9qdgv6+/FKtuAAiDlToz3Iv012rLXGdalEIo9Qo6uZOITA70dNl58/NuPzB8CEvTcT7\n",
       "v6qH4oPqAItZrsfmXu1LcOn+iw3HZcOvr25J7RkCpPA0Hi3aKTza2VWLeVTrlS6nvI5BV1Ln5qQp\n",
       "6J8h2+oC8U3nO+sq07wnXyL60ggIWephvFKIhJ39ZRmNeCqSYWii+I33LpnoIi/5xxKd16l/KMed\n",
       "WFs4n9S0KsnkAGWM6UxKSCdF2MX/8fZoLhpkt58aqZ2AqhTNqy2IkU6POIghAAADbkGa20nhDomU\n",
       "wIb//qeEANa62fDIYRnRAFV5QAmpvH55IaB0n5N6PhMYBwheJLYqWJjeWJs1JAkLpxa5jzYO6dBo\n",
       "2O22R/S4UCy5WIH7Baxr1VuhnpUMOBVrm90uCx/mV5hgIjL6bpJXxk8Lc9L8+PRmNo5LbZZ6XFNv\n",
       "RidoliTBMsyWffSwG5aJ0zwSNKsRdhBxk7VAJwgc7oxeUiei4kPkiFWSwh6kBBkDRTjf+7wvJA8N\n",
       "TKUUA+FLAXX/wOTJ4QCaDf/U60AzfMWrOmWidprKRssCYmr09NEqOYwBKIMbg4veoPlYsW1W3D8h\n",
       "9BkK5LuwGP+n20DkYjq2V9xQdlpE6aeJkrLIqc8YP6I/0zgepRc8Bp6OU+z3/dMudLTPvinBYuom\n",
       "ExMiqrsrcuuxoQjyx+Ls49YIgPz87B9eE1pYaXlHGJfJuvSzSLRywft2dcTmhXLrT8GHWSyEzWRu\n",
       "oMuTG0eNeqzx9X6Ah8l8jb4fddo9/VZaEBtEuiq991HlD0wbGSD0dq3h8ljbvb9vPt//i9Edz8kK\n",
       "Z5SfQUkMjMD57TBstTXoWwrE9vm4i4WHZTKymz9z5wVWvTfe/aimgMwJ8MThvYEPusouva/qw3c/\n",
       "sfnXJXoSVEVuEAWx9mf7pArfcXpImn6fnsNJaOTTST6wlExqvXxaflqzx2xR2ipknhf75I+t92Ka\n",
       "st4o09vgrif0mzyWv98JATq0/uYVD8VIxKiE9ra01DxwvjTIRGLjGtE2OKOZeaAa29eo2zTMopnr\n",
       "euaxvp174xUfaTf/g4VNAQT0vIOj+Ewkex1PvvenR80ybVqLOVLF7x52TwTOtcFWeD/knqnOAdDH\n",
       "s2id83FEDU+HLgYbwomiFMb6rs1ddTQMDEdXITlAiObMNTcMnkVgQ3RQI7M3oiv/hN5rSQcXc29y\n",
       "IZn2En1RYbvxCO/TbvY+RA68Hcy6lncwPwo2fXidrP+jz2MKzgwZUfamvADLRgaa0ne0was4k1Za\n",
       "tIxpZZAqqsmEssseQMhj6fw8mGH0x/YlLm1wlUm+QkeWs8R6oN2i/jLJI/mGMBrQqZhN47Q36wTS\n",
       "wdMRDILmLBIk7htPvN95igTdGmhbqB735GG+HYYaxyTUiUV/IJ1ZL6muRNDcqIoR6BDOqNJ1eVNY\n",
       "D7XiqUY1UqC4IdluL2guAAAFvEGa/knhDyZTAhv//qeEANvILyAQMGRz64MMWThDv4f97rVXzeGv\n",
       "9ZI9dXHEHtj3jBOuho82a4GMcvf7U4DTLE1+xiEM4BC2zQZX7ONjNhkmD+qojHUaKAWaph49Nz0Y\n",
       "l5MYD+nPUQbxuxUZM5h0uV4sup6eXABOsKC9/COvpv1KZDip9x43YJrL19I+sHIU3pKlH01kQlwQ\n",
       "3hR6l74SKqISTTn+8hlU0gmUuSQHYLbCjN+JyQrnVmj1bsusAsv3VzolO2ajmtrzb+eUUu+0N6yW\n",
       "daIpCs4TQEudhLvoqEAgIVPCCA+P6neudLKbhN0ZGkjDo8DZ0mmMOMf32Qe5m6Be0LT9M7oYgZru\n",
       "ZUCkIi8GLfOvBtan/JVsRngLYR9kPoH9If0NE117ANZ0JSCdkJOhLsiROtwTpQwm07ywQpWwADfa\n",
       "jh0UNibhK1Yza9k8bteB9V14eWbvt1d8pcfUuqzAPuW2TQUTY7wbf1nnXiwClw1Xn4xDSFnZNspB\n",
       "2v80GrmJl+u1QgFQk8BHqdiNpe/uhl6zZ+Zu1EJBQNxNHkGsm07FpdZQWWWvmviWzTjMAahRM6kw\n",
       "WkSEbFAyWEPCNSRYHw8L+ZRjZIjuXuTDY/0FL2/rynN9w/DpPu8iau7Chs7y7eb72gv2XaWVt2HG\n",
       "F/6YxmPcbD0xE6o/QNDW3Gik+QsR0EqdpznCybScjLy2haiXCXtTLvjs+Xjh4o0uXxI1uHDqF69s\n",
       "esvG1p14AF10VsfN4phq72UBf6vgEvw33aVp8Bt2k0m9roPYjIiNkdSFfKSJ5CkX1DjjzHJXVdgv\n",
       "sYf4sbFeE8kROakzxXHvTnf2uVkNiHs9HKtqHWUeK4E/t5sLOmo7wOHMOaVyk1I8ZS8aM3yWkqym\n",
       "DRm9BN2wUqPblILAdEQCKSwWHX2/pkVgUpMyeMSyHY1kTqkvdpft/wfyOf2KRV/BkCfC6vIw6aOK\n",
       "x+39dmbLEGFAn8i18Ao5rU8YlAdM4vSAD3VnkQ1H41hJAZlg6gj5uLZUJuJKFhwMMTs2eOUST1bD\n",
       "v9XxfXeLtxiYOagYEPFDbOlRoVPOQYuV/MtAKzsmRmVjoP8lKCBUIOZorLSMu8M8g8oulEnuMGJp\n",
       "FwAwtoGfy/rwGh64VDpkKJ1qcRduNqjQeFrTOjo64dQ51CTmrVocQ0geZnBGUrNTrCnAfiDwYKX4\n",
       "8AViPD2YXGIKHyMIsV+qReAtPhcTOgDAkoMMiIB6gJ0LWlcM4FTsKEbaFgmMAj9B6WThz9TIuLHT\n",
       "jkvDWzYb0Ojby4+Q+IqIO4EhYIPSFC1m1bsssRaDQp2XYpEUtIjqfDoKohsUTz0VMnBmFNanEyMf\n",
       "7UBGykONtEppGWaBpkCRcWvlfX+M+WX5dgHlz8QXd5EWJtMMBkIeFpjn4zXp6IQUaSGQ8fnRNyo+\n",
       "P9iHdfmEA466coUmtUYmFzzKRCIY3fSHmSFj+b8fk5ZCV/xCZ5f1SPP9HUQLRy6jmMvwh5aUkFXo\n",
       "F+pSU+hix1Tb5ZGUSwvlb6qOV9bHrUvUNrFc9+pV67gF2AQLaDTdAIa1ECKk/+MEQSKGC0LKTtGp\n",
       "VClGNbo5dme4Wsl2AamOTm96EGuhsZlyE6KVzzWc2PXbyTZG4MGKiBzLwHjROWAbKgUp3T8Dl2xa\n",
       "auCYN282d1gkzvsfSpcDbl/BR9Hqw9BpPw3vpA8+YxPgjniIwRmVdc0ZaEwWrtFSV19Y2yuU5U77\n",
       "wfwwD/CZwkNKJ33ZoJ/VXmO86ki5IzexC6+I+kWeBJ1B5/71GqsCn0mjlPZpQ//kAnn/6LX5enqI\n",
       "2PdsH2xbnA+LgWfQUvaCbnqnZLUJZoVtnl+V+yIOaQNAaDLobdiB113cA8L0h926R0zii9apNgEf\n",
       "qekOruCaj8TiUHTxKWniINi05LqVu5YtNC36LpPGMrbnOOt8x09K77ik/nM3+muZa1MHS+xiaxr7\n",
       "DS25tdEAAAKoQZ8cRRE8K/8CHojyHEDWmFtws4hGSL3BB2MjfhzE2+RKcuq9xEpNVcHfis/lBN/7\n",
       "LudbNZ3hgIRKDfdZACrtbhjUoVNQwZUvJkloKnGE/SPlc7CNTZu/uRlA5DxdaRAxvduLyH4o8Gte\n",
       "Foq1CU1tUEYAtttI5jpMkaXAeSoq6MZoPv0NTgX3baR5gWtMQAQbMf5+275H1jKn/muW8oF0XN78\n",
       "ogvpP3Sa8Ndf4GUgqcA4OofT9GrYtBdDT7J91sDL1V5aven3YVT1+xzRTHBJDNmrZ9zilnviq5ja\n",
       "lWJ9955tItU8t6vHweRTObXuLdZvecjPurKHSrXNEycCOkVEqGyxbSuaIEJKwotj0RVcBEZV+o6R\n",
       "tgpquV8SN/M1QJMg3QyFcsyKfsVh6i88OcRWBlGQvkjco757Qv+F28YR9yL2nZRsrz2dQdGnQ4yF\n",
       "Owifqfi8T5WE9sM+nKRyy28J7yyEslVEIO55QDMn4cHQ3JMjjBYgPjJk67vJizxfkQmrCTSuUFrO\n",
       "avxDTwTaTtIP2GMWMLiA+RWs8YiNYvFJSgXKW5qskKl6HGhHeH9LocEc6qKXyxl+uUfJUMWksKbG\n",
       "qlL5WpkFyhQ7Xk9myzH1eDLqq1hwEtNAot7bigjyHqe4voFv3vH0zq+gXxLr7a3O7btQevlO5Md5\n",
       "VefBlqlVqSJAeyt5Br8YpbATYL9SA+gGaBVYi9UopLQ4D+JVjZTMin6ijV6HllXkU+Z7V2/iAvoW\n",
       "GBvXGF9pkHtVGXYFVyVTMVQivjb1X9Ty6ZSUf0NKB5fTuMiZ07CrwhfNEoDt+bMf/NUrFlQM1SZI\n",
       "GinnGIZQGe+bxA0d4trAwfNdZ5c8+Pawk7bx/u8XIx6VlonlO6rStv3JRhijIlvaNv+VQQK9PLwW\n",
       "3q3Im4EAAAIqAZ89akK/ALE0TgTD5H+00ac9i1tbZAjcRSBfk8TGrbo5exmwrfcw7ycAPkx/zOXv\n",
       "6/3eTrPx/0F6d8X+Q45XdCduH4+19dmE3t0jmtlpjSrA0KOM9EFzZBu9ELOwxEX7oZ2ksAxXiAwx\n",
       "7DBw443Yh396fUxEl1bKLmEuINdB6eW0viCbGAcWfK4uCWs9zWtixeU5NC89Dq6FEaZ85kVJejov\n",
       "6CKNz/1KkXdpZtVIs3dHeU/OhwltWNgRogyat7Fdgestm0aEeFWsmZmcssbLx2uOUovCFbWKgUgM\n",
       "TWrh0/blML+plk2nZuhm9ps/5Bu5/8Qhr5NAva69VKyJ21g4EzDdcF38k3MEY6HWMg84Hfga4JYN\n",
       "vghdKIx42G+eFejY8WdVPM+21mYfwoATKY58L/6XCL1eW+99pDaT03DwCcaIgQsxKoKLkBHG6j66\n",
       "zDZptc1OeWWA1b32KssIejU3gWwod4BYP0OsALc8ikzrgBzd4aEq9mkoUctguXw4GhhNsS/zdUp+\n",
       "fzFC09O5Q+qRvmxU3yqyOc4MrAdeV9WvmYOido7Rsc2ig2yOJ9gBYoD6c/XkIjDNkCHc2XyGHhTA\n",
       "/wNMd/yojh63+aeZjehru6OsCurJB0zLuLAxzBUrnmKwdr9xtLGNmkZEoovRsMupmVkxf77mwFv/\n",
       "ac5/My9FcEusXE4hfzurTAYuL0PFpzRoovQDnJh/15+YMgHiWZBBe1T0hPNd6plaLOAAAAaMQZsg\n",
       "SahBaJlMFPDf/qeEANbaiCYnmRR9pAqJkVMIBS1JUijW4WFqq5e5iD3rQ4aOamXGuV95bwZ/jVif\n",
       "SczX76J4hINR0L3oM6x9C+9CXltE9b2U+2Mj/kzlJ4gZpcKX4udgWBFn+QIEviHntXxRVDqDIDLn\n",
       "rnfhPpCH5+cC3GgVY8Kg4tNBFkJekCdCLY6N+3+EGmzL9AyCY2eclidhFvTvvDiYcKrXbI+5fqrf\n",
       "+knjoTIo3hhcZ17/JlSJl9eKUVmTMJaxcdfy7YrQpEG34zqUXS2rrGrlbJPV6aG3L/RoJ7GhJkjZ\n",
       "MgOF5UUs6CqyecJ35zu3MT+kxlG8BM5oimzdW9JipEDG2mOOL2M8TO8vTmVjWxtII8rIVkU3hivC\n",
       "T2mWSE43x2nEfnov+HvHQqfrUSKHSCOZV+3E1LLBZ94/p+v+2U4hUCaCzqSuq1pPHzU/DVm2nZhH\n",
       "t487fBZ2/aIQS3FrvFeLBDiFMf9F7uGFlTPxW5aDwk33N4uK/BHbA9wEQ0iHP5RbNPHvFhuUYkJn\n",
       "ECjLUIktfX4Ns5dysR/rSIXwIlAGSLyCEsvzlBTV3UXEaa6tYMUJwjir5/hxy16vsHdPjZkQCf4q\n",
       "3qt1YnHg0Txy00KHr5A+cQMsh50dfyyl6+e+n3+tcnJIt4BbI1Yf0fWr59M3Gpzy0P1z1bjr8yIH\n",
       "kjZyfLYfasBVNOOqZxBOIxkVxvwzmQzfluxr7I45m2cd8cHbxWgMoHOrdBJiDcYMQH1UGErguNUy\n",
       "+mrIbeZO3SP6/ZzmCEMUD6HHyMLRW/M136SEbLn2XvA8kEYe9SNdcC1sYdyHGxaZSBQi83oQ+DZw\n",
       "r+0DZD3mkkau9u7ykKLY/6qfNoPM1aXlBHKEbrod1RWnxZHPguwH3TrinmuYyiAdXIQjl+2VScSu\n",
       "O129WDxbonm8C6yba5D0EHt/F74g4bMUHgsG+A+qeGIsaP3/KkcUglAHTgPLxOpOq5icw/f14KHT\n",
       "3M5tCtIOGS5iZc0AYpp0m8J1Xu4FuiVnREBtLL/wpw0MFYEOmvBje6h6bcbdIkDB4/aZNt67KJ7w\n",
       "Rq/3IoacketbRGUg2xv8rEtrIOGy7j48J6OnkKzrzF3MEuWlmfL2GAlIdu5vYyzGao9AgRxjVMRt\n",
       "MOYJ36STirAU2YSnLNxDXs71XUJzNLXoXL1bPXUGLVTenwzjYAcT2OqJ7WZ4coVjiJ1oV0ZdGTEs\n",
       "jZ9HBB5Ks4TxYmmAvyPFJAick8Zr5oF46M2znC4Sck+1APGSvY7+CDOeMcmgvOH+EEIbxJOyaLrd\n",
       "HzpqXRZE/qgEYcb01mlHsb7USNabcXT59Cchg2T8/xRaYQs4wkCK+g5bXH9b406Ze2++V24nzYIG\n",
       "2ysYfNXAH6niri7kSMpp8HdVsP2lNrx/lT/ot/F57D/MaTleH4rxphkEwxr8J4nZK5oYHHngQKg7\n",
       "Qi6jJsX2ScOs//iDfMJ7P64f4Vpfk/ef0X5tJsDL5fjZZq/Q/wFWfcfXwKc5rug8rtG0rmEWQm6M\n",
       "9fH3aG9wrs/L4atl0ISd3H8e/pxaXIEE3t9/+VeEQE4ohFItrUbjcAEHQYwfpYap2Gw5OrTSqtGx\n",
       "6d6rXzJ+mF9squ8JnQtDRC8jb8437pzTO4EzxxPn3C36h1gVCnHAMzV1vfwGZj6gfhGp63Lw/9y+\n",
       "awXyqepQ45TcB0lNmGtZCxM/rKZQSutU68D7FxfJmwfsW9q6sSTsMPTDL+TpYb7LKdoaSzmXjYq1\n",
       "Jbcm14nABfbbcXwsZxlOaoN5cQVtOlcKQbdEnLTVmZQlbhGsPUJf9OJKXV2cFc6blIpp6zZCLSMC\n",
       "SxtpCQeiclUzthFo/xe6viWwvQILuDXFYyKpOEOVfTU0FXsgHNNgs45mthQRkFgr9YShVpFod/ni\n",
       "lIMg6vVJZlw2B59efwlLPQ20LP98WyGEEkcVVMnSGjbZLFkptjWj0jD17d1tu6w5nAGoR0sb+Rbp\n",
       "QUEouy8tgqKDsLkb9bjVsH1hUNUNe6OBYTCoAjvOHSQcowTcsx+Qpi388uiBlrhnlACpP7TpaLez\n",
       "Y+daJvYgsqXNf2Tjs38wl5GUDzL6Pa4JWigYZqKzsfRShd5g2z9/H7qB+Gf/I0iIC1yknL0Jd43I\n",
       "PYZfs+R2uPZEBzfIOc/sqB6i/Q09TN9HGxNNuBJTHFrgcd5Jb5S8UXBdCkBNkgTqRJT3wdlBxMps\n",
       "9DlaOc/6DnkMAUl4WGODdb5gEVAAAAIgAZ9fakK/Ah9hzRsEJGLoAeE1VEVWVJhwzeZ5JG7Aq3g9\n",
       "GN+8asn+P1BQweIN1/I+DD50y+tCpRt1ILsWFgc05PPESbgYxknq2F0OyvCjLgTB4YsN7amj5whg\n",
       "ac/GW/DVJheifIANRG4ipbPAo/KcPTe1MlXmDm9R8fPfO8+SP8+iQCH1nwDBoqJVQbE0OYoCFVC1\n",
       "ZMhVTSwmsWhlPyL5lLJsP+dgxjpywAWGw+pAGBKMgjZuFKw4lO44vYJNKtYM/zsvLH75ofuaS5Nn\n",
       "IPJQ5ArpDbovgRwIPmnEYD/IDjiRgMXoYIRKKGE9GWEDZIPFNn7EAkG3SKZk6UYdkrsoKHBPWByi\n",
       "DKyeA/JVMeCR0Ivzz3NhqQcSntJI3apIp72ha/B3tdz+h69TN59knV39GslZrtm38ZwQcH2eW/Jl\n",
       "B8RG54UFRdPDAdqTfm3321RzreAdTECzZbliYz3Z1pFogOZic4P9Z+I+FxlP8PJJqVxvRJv4d/1m\n",
       "k/7lZ8xtsV9FCSqYK9IS1fS1RFb/i+CoSZuCfy0K/1MxAaOECbsMwPwtDHydTw6B8V5lq9wGL+IX\n",
       "bWKZbfh/0dOc7qHTDdHMhTli1XTQz6IBIUoU0NojqwJjWld0BNgaSUXD8PphGLaAzi/q8bwL7LDe\n",
       "YsUPczByhkJLFPbpfp3bxmbL9sUealwgQqi+winTOmg4w9N5I+CL9lPDVUGgq5bagIwuMcAhYQAA\n",
       "B6tBm0NJ4QpSZTAhv/6nhADbn0vHAR1PUkgBasUUPa6KDcl7XcYgQoozEFTK1OXkj5hbEpbd1nsj\n",
       "g43emfT2SfsdMcrKCXfEj7/V2KJdVSk04Tw52iY0Z0i33S0JZRj3gj5HRlkqFEGrccqUxBCIWXxV\n",
       "AxlV6CueOnQyLalIvEmNuVQFvehgyedtmEZfVxwJpI68QF88nuPxpaSjVLTcnpqpxrb3RPww5gwV\n",
       "W2BaE48wUWrCft2riBySjztAnfWv8/Q1ckPSlaxaJhVkZhB5NYagnT6VY6sh4fFlQNzrs3VPc/fS\n",
       "4RzAcv7oOglgEqHL99T8B2Smvch8kQDR6/uRlFc9EvEkkco1cyeyWCRqLGG+S18dwWgUm33K+7oU\n",
       "YzTwpFcO34qLc7qB1/E3LYGiM0cFGV5glY55jdpXzL2IfkmcWmxc01A5gO2w72sA6s9v/hvu8XzK\n",
       "wjN4FzphCGHjmgmqEgHgj7VkdmYLR7GbDPxqyH4zvdh5aMk2TyfOP+7qY88YdpXwxggavU0uVDU5\n",
       "CQvA4RVK1vsN3CyZ6gTZ5D6yHkTP4QTzX3l+TLgSTMEwBNcJFZUvqbtjJ5yXM63IbZBAjlKvMNc2\n",
       "jAptesuFl06CixISAZhSbRloxIBR7l52oD9wFryxE6guUoiH8GHIT63F66QMEDz3vqzSzCtmKrTX\n",
       "3kL1t2/gfAZshlPxsmbkyAwgaIJPXHNrG7v7hNpdrbUHwR8iBLG8/07fbiamtADz7CMvcaLM7u/P\n",
       "kNXUPJDrxGa13ZdhsGrNA4iY2G3/2bAJLTwWgRelAf4bq6u4CXWZnb0m3IHI2VJKA8IyXaRvD3KH\n",
       "zBkAQs0olvrzls2CCUUHRZrBsyuD3BapGmXdDoF2lePq5EDBxzqpK1dl11mwvEOruONz8f2lXsOn\n",
       "Je+ZUj5VO2tCZ0w6S4ZW9aUhIb4xUbvrlJo8+ptcrTXGZk7sg9Rkyur2xipZ8i2QE5wycZDU3Coo\n",
       "cgEyScZkQAtU5u/n5/1zQ1Z4e+EhIRWoyOLpNtOljbhcYFYjmui1uxNRXoU0P2QRGbBjPT/Ls/hr\n",
       "qAvBp8FI7UmkbtKvwMrTNQ0HcI8NkX1PfmfPGB4mjc/u1JckDOv6wnoH6NVLiT16IyRS02Qc16gM\n",
       "J8HIgA21s2JXYur1rVAgKYTSyDtTTDwNl4mKkJHj1g0MxkeAgYjj4g3caCkIrLYpvcqEdm0sWVQK\n",
       "tLuxRigQhqcwkyBoxRSSJOkDrLDclttMv+6fPDCxWZ08VTF/MsZAAov6i41KKxOC9eimRM5t6dXo\n",
       "5ARoSDMXzKAZYjP49QT0A5Q3lmBajRLFUhIL5aGJ4Kcp209bTNfsSA/ffeCEtcn2xIh/aD7rY6RE\n",
       "CckKbxVxfFe4CBnF5Vh0Bgskf0XlTRZ2ZEZ6qaor8go5lkzv0qAD9sNHy9ZCAwCAfGgfwkXIztg1\n",
       "mNmAfiD7YzLTEJ5lpujlMDT2ZY4CXyBH7ptgfzTlujKA0XiQmCshGEhXS8Fldkk4o2b2Z7eRF1kN\n",
       "F0Js89KXG1gzdFp8+KqJRv6g81voSsWDZW5Q6WT3uc8x1FKCDmlQmYs37ghV9W/EB4HRZdigHtms\n",
       "tcgNdGZSP24EC8wL91n61GwX8TIZIjeMNlpc+mzoSP0gMeNfkt/9a6vVF2nyB6L1QL/S2/fPr4dT\n",
       "UrAMd5yNHTxLzQhbuF6+JaVOULUuWSN3/6wvMuH0JxQTpxbVlewPgMZEht603uhaRPuE5ce9MvkK\n",
       "1UDlZThwpxY8dPhMKiN2WmuV6xA7dyM3E5cxhR4aTPG8GRvhymZo3p1pc26bN6bMeSgpnE7jw2J9\n",
       "BYltR/a67mBzT9Mmuc6n1ggWxiZ3hXUp183BAuJCZv/nM3OY7mcfT/WRNSTZeFRK8vsCrth9NNWR\n",
       "cz+GG0T6S0INNww85igtbG7HYGTIQsg5mBUxxEw6n/IfDJrraeLX3aSVS7aZs9e7s/T6/Y1z3DTM\n",
       "nV1goDHJIsd7neWrtc/vUeC+R+jpGA1VutbPstNsN/iaZhgxuU8TIaRxPncOehwDQRwCmQATUfxW\n",
       "PObL4MZw2JumgmhA72xVK8p2R/bYgM1gbLCgaZDEhikneKUGYarCROonDVFGo87b45CWd56yI/8A\n",
       "xmH3uh3Qfn/YkZScElLvVyGATetBdde12CLGP8qzl97QuW+YTyoGsJItwx2GPFvvkio6nYTseeHo\n",
       "IsEKaR/KoJdnkfsqASm3YZeN+9M/Z2+O1sgS+fV8O5V8CWOsPAcWE2fI9+hnHSlH3nZpLlOqopxh\n",
       "rNEG4wzELy8L3wsgaMz1U2rVb/ETF1wrVJpdwjycqsobWtDeMIr3nuyZ+qxCUqtUj3PR0/d/HiQ+\n",
       "jeG5HW5eovY9xk8NpNCrFa8OUIAh1g8rr+hsvBLFGZVkRfygutBpmQpj/IUeeo5+ojX6oJxmy+iL\n",
       "fi3AKvk0r3NXQFALSEcIMTrb+5+RrPH2S5vSh4YlmEU3FED5nVT5h404NFdqumJqVy0B/y9UNhTP\n",
       "t4rp5h2l4+F3V6yv/QhvrIQBWMajkH2DgMDkPfLlRl/z7F8POfzgsdcnwfhVv3soU6ADP9fH4VYB\n",
       "Qfa2TGlZMj8G2pVKeXbez9IpejUh3qiFUCHgAAACbUGfYUU0TCv/Ah8mTQMWtWN3N+EmEVBlo0Uy\n",
       "M8Y0lQwJkBAvV+nu4ndwRWpdfvVJRAoAAbCIHkHPFz51gcndrjsb8A0iBVeiioNFa3pSaE5tRUKD\n",
       "olQiEtpBzNN8rukpg/J5QAmq1/Sn93Sb4Qe97FYHDFU3f0lPU7M4BoLDX1P4hXhD78jXHcy+jVh1\n",
       "GDxaz9e7UOhX8+gybXiNH4h5htf7UuIuMz4LHyj/uIUlVLQ0Of7tolG5fXKiLA05JqP7ETFqsqkh\n",
       "nAeFKpGowy8p1ttZAHoNXdO1KHZuBJgNdorzReajK45YB3YO1mm4L4n2mdDBhGC4sg79BxhaLSvB\n",
       "fUcsq8BD6Lhj0qXAkaV2cXqSEVzKKtePQqv3ikoncM4hFD/6Qp4WK/zOs/PpfVqJM+2WAWemwg/W\n",
       "YsdXIlR9zNdw8jcRtV4U31OOSvDVucF7/4x6f4v+rn77V10JQLcafEyMHykyAhvrcauzB5/ZTTyx\n",
       "AVW5OWNl4xaovqBbgpNpKb7/81jq/AMrwouUTyvPdjLME6Z3UqgtwYVxSLsWvTYBW4ZljzQbgzdx\n",
       "Z6PK5GGnAEkUMcnJKWfXrIGY0nKKkZCqiHjLipdE2G8Rqxd75aKZZgpboDlyADJWIKFM5hongEfR\n",
       "iYJszZYwQxpiW8pVRdlcGWBGenKmI77ZC/mqhGQ2zLny350yIQwgDcHo2z7OGYQsl68X4j2hzRuK\n",
       "U7sGdPRBTqYvD68T5hDffqZdSdkKdgHZimT1XPaeyEPmsxVqzXK5EmIHQkHr+TRNPWUL8ZzwgGeN\n",
       "ICNUD8EyuYmCgCIR//6SCi9MYAlap3mm4QAAAdcBn4JqQr8Ahuw5cSKrXsqwDTNCo2xGdjBz8Utz\n",
       "c8kFC1UE1QF1yQ2ZqWsn9KmaIFxu0MIo3I+51T+zonUz0LKHw4zQPS7xTS7XQafoabVDfzST+1yu\n",
       "lVsDdzCfRyXEImOeIOykmn3wU5QFXBavUbmYweVejJZGqrAC+Z8QSXs8Er79Q7Of1iLNizB2rSaa\n",
       "fxPcAZw3YzN6YQaCUazJuDHNK+2xI7mdGBsoBrmD0x4NOlUVN8DDTXLteutDvRjFjKCcv8R35iSI\n",
       "f8vG4M7yPufMqHjQz/JCLljMZ/oDHJ+zaB7Cj2pKY3wqZk3im1EjUH4fe6SQmrI/VKodL4DKTLBZ\n",
       "KVRugvl4rzEDIgLTS42gJPA/vNajlJOnj34YmIRwC04VB5/UdvechdCtJnAMr4p3IahALfwitoaw\n",
       "Ml/RMRHZ3DpQyoxq34yjrfF+pKxD8En6+4p9B7nk9/ViONW//T2S/7wEfxO0abrq1uDWk8jPqtP3\n",
       "+Ens5QSqq8yf4lb0IW51ik3YyBTD7ijjtQVXNBnSYF/feJT/ePWLMG8cBrm4iiZa+WntRStEwogQ\n",
       "84kkX0fYo7DbqLpPASbXGtonq0pKARGzHbVmJgxBtuN+pTJ3PWCva/MhQ4AAAAVDQZuFSahBaJlM\n",
       "FPDf/qeEAMy/+PN3zAHFGKp0gnxqyxkxBMpjMogFpBpO6SeNGELwpi8wmHYPfAdi9Lgx8ytmqGXM\n",
       "WyaZu893xfS3BjAIa0Lg9uk/X6lgm2eI3z2PsDKzBG3TOdIa+RjxLgenS8ePSoFqfISosEeH16Rf\n",
       "kG4YIh8GEbohZQR2CnAxKb/KaDBMeMKP4nswNZEmoXljfOEdJNgbZitykQi0Qex9wUYCZuBvWEJ4\n",
       "MYfeXNHeixfbueow/2QflVao+rioWHJM5u6urOOsX0qpWNT58t3NZmEQEEmr0gQ9nQDGOD9Jkyww\n",
       "uGPw3OyyLQH2LVvZnU+v+3Hg4n2+qvBc46/lF+E+Q2Y0WS6gp3J6wZgjgpXWVzbXC8yRhuEMgTpy\n",
       "+lFEl/I3FMGghj6PXM3/qnIeRWjSMwmokCr0D69E5RcBhBXPGM9K/gqUNr61IxnV6ykpsqcfYJvY\n",
       "mntS/LMaaTyAsGHygK6R5OmPPP2ZLYtPOhNqvVhYDhZA1XtrgrYg+bfsRANUYJBipISo7PVqibmI\n",
       "+NCNycYWP4ODj6fNqk0RuOgtMD0IwyrvY5PBkQALADssOZG2sOvFrIenLXwJbo+MW9s5nXDzyNeA\n",
       "IIs0AhppOm77lhNFztDwdZsJsXzarOC6Vl8uNpwBux7aPH9bpuGHbLk3b8iJEakEBZNw973sgsau\n",
       "dhN6eAznozUdyAU2/UgFS7TzjGWqhoCr0VxVKR8d27UyN4AQicNk9xkLdAsVDdoLs28NpqgHLwPs\n",
       "513/IfPu+2Gy4WMTWFcf/oNN4/ikGUKmOI1yLWEM8UKK/xoTk6o1G7DKbkfZ/VRwpEGBCm/SUlBV\n",
       "dh5uwj69FrJbnIJCvJ+CqD6EJZwE7XjuEhk5sNqAkxUx6hv48O/Gy7VrGgGRdXnp58WRXIUFqcqZ\n",
       "36R1bGr+3budogUnban1+vbw9WDrPvhk4P0GiOdYu9Iya1wKzfsJW+cOWOC2i56BOBEH9df0PIfB\n",
       "c4m2gUJezorzHoKYJV3Jih9HI5mAyucJgHio21JPulrlKx05S9tRFlZ69Ij5/sEosO0OZeX0dcQd\n",
       "YhYUp8HlApP5fexeLb9BtsyVZp58G6nIPEN0a/+kzyio76MTERruodTOYmT4PQIL+gqz8mG7mGWV\n",
       "Phcp08j9/7by+sfSVInvY9E/6ifPOx16xbxgZ4J9N6iShvDXDTJ3MOmodFlfPZoLcyhoLtm2Y+g6\n",
       "Or3j8nbr9ymkDEUstSpxFeIKe9BsCluvLVDgxpuQPeXPtKg1FeY8IQozhKdJteTlULz3899w/Kj5\n",
       "Dj1Z9sm7Sw8xBMLWpDTYD0eCbtFUf1JvXmt33+d35Ziy4H+X0XKAEhfzkhGYtErNNn9VDmzhW5xG\n",
       "r8kY8ypTIsXY50siJilAKbKUxsRPFBXbBe0oC7W6VjRdnU0MTcZHkcQJflb0qDn5Ujr7vymbRVyi\n",
       "+qQ4uIvikvualKXpSArTpp3bAWW3IvuwenlaV1MHspbH0rS9kj5s1lr9HwCsymQvFvNnr+k6WRlx\n",
       "+eEdTLlT+mjWjimgNAqDw/Je50DK0AOhUDAw0ZCWnFM89LYyrhJ6TAbjFe+EFs5Auhi7g0imeR59\n",
       "dK4lnBgipOPAQOuC/Zgx2xvPMmP/HInlUxY9v1QrSly7u8TXixa/jP3dMh+Cxc0XN+N5A/bJfRbC\n",
       "MAEqi+uvjCPz+XqB2qL79iG4NjF1d0h7eQ/RU0RGgPNoxLBHDosTzXCA0R/mQqEoa3yLNPzkC+MO\n",
       "pOe8qLYjrx4dQCVfye8WoRlT2MKqqjhcj5I5AAABqAGfpGpCvwIfYc0bBQOnrg92yo1AwBx1P0JQ\n",
       "bq5ZbFylSkkZ4XiyteF4bkEeC7ACSOVtMn0hYb4nQOypKoi/Eh1fmjeQKvFHbxhAPkW6NnVoocxp\n",
       "MQvwoCFNVqJknSf2H7VsiEHLs+bpU+bXNxeVxUY+0mZzZxwdY6hdQquerPyldPbGyzuD/ufs9mGj\n",
       "4UrNNKAyUNwP2ToBKsIerf266orMWRDyNe9Fv/P0qFZQ0tUkJVOS77w7vt0ZyzIZmWKkoN4rKwo8\n",
       "dctmT+ArA3Y+u6DENUpM4XA8x0C02zhDYedyeACyoMHc1n2Ic9qOsXZko5JaHzbRGEY5oyt0T1Fb\n",
       "0cHl2m9foR0AjraeIPnlAQdh4IMtj9hKoTiUlHdDMOXvs3dTUJWsvbUXmlYqhnwRaeukcVTCwl2D\n",
       "YaFLaO9eVnSA719mjDtBRSzQlQMQEsADiTOiRaWC5DFkIUP0NI6dr7s6U7MrlI2ODFmCWMMYzYOQ\n",
       "eVVo/0pWBN0en66wNrZ5qrDROpfvQ+5iXcV61oXWozP06g3/aknmdtdoQAtZp+qNO+6d8UWbK2EA\n",
       "AAQ0QZumSeEKUmUwId/+qZYAW2jPZADCAITJVeSwL0oE7i8hfU7DpBlkUPRNwnqdkyOHDq4OOL/8\n",
       "J+Qx/pNUZ2Do0VRIHFonshX0R1J6h8Hsv1k6/Fzi5Cv1u//x4j4FiEpu+lOC5dfsjCR84QwPqUIH\n",
       "mfNmNm4Ego+OR63hs43mjSjOLIYQD6WuVGiY43HpHrMfuPrHTr5lbEril6LehHNWRioYAH43mad9\n",
       "sk2SAHfPDTycSOsgF2bBJe89i6zu/w5Ivo1Ma91Pw49ztaWwFrcGWSYRsBECWe8cUsoicZX/xv6d\n",
       "awANVh1D73mFAp9Y99QjH+uSjSUaUWGRheREaGHJaxLRPeDhozPN4xGJojW9MJ3N9dvBgpHPu5mM\n",
       "j1JUlJCNQM0Soht+WVqSL4CBjqrHa0kVFsuHGLQGFwp60A37lgqP2IHIEpzdGxyW+vnAoEHO2yzF\n",
       "lVpnr6yGH2XOIgavOONE1lj6MeMWrEujR62xbJ8U/w8NM6Z0TM5i327UQ3PtTk75CKJ7arJvYdM6\n",
       "vQK7wDYW3BhQgR2KvoKdgX6488S60MZbq3IbIF15mflHI0O0VjB6vkPPWLIqkw2J58mw95iEwL6u\n",
       "i4cpJRaqMFkKE99dUDqHtQXRBWbuZe3180VoQhk9Fdksf1l1+88SwHU4eSIYzi8md2prqEhi0GWO\n",
       "S+286kRjbRT8K4xDsR2lNwpCLlCdfZKBmWbmZ6Fie8TEq1HkBUT3KBExuj0nkKz6Sn8z8tbaaUPn\n",
       "xPzFSvQkeX7+KzAscO4EaqJbRG6XJS4NYAQfIPBu8+elhNwVtOGWiMS4ByBsqYH2d0YKlBAdTQY+\n",
       "2Cof4Ig86GM3E87ekqiPTPp85ZO4qbShS4cSAUbqAxt5ZRSUJcxrMIXTFE/IIlYXld9354hE/zTU\n",
       "f6JjKu4Xi9h6M1HteIiZYEgY7S5Fn22TIbyodJvpumbndTrSlIQaGgF2zb8fXn+3+cLa1en61IDy\n",
       "m6D0OCl2Ijze/P3KQCWYNQwvrkKhFzwvs6sZd08wfkvxeGbxXZvjAFBXKzrcEnuAkEA55IiKqe7a\n",
       "mbMMS33Z8uOdI+g3USKNxioLekBiIzxwW0beH7pXki8AYXJA1MR/8GtLXv9cj7SgYXgmNODjJiCA\n",
       "SiovjhDGmNiLdAsiYlu2wqq1sZk8HC1n2JUWl9ytKyA3QRNgCqm70dYxZiEMUrQRv+2bhfIvEk2Y\n",
       "ahd/FZgZ1x5lD4tR4quCY13MMTC364xmbHqDxwfMrJLIoh1LFTPVVI005oa2eiTumyc6p5yRK54l\n",
       "uBnBKdzWdZezYLHiJ3sx4f/9iMUYa5BOvJm4Ne/RDygOUIIlyoxg7Il69UEd7XDxpfITXG0x1ioN\n",
       "ulcZSoefeojIru5qLE6kGt5SvxDVTOp+RcVbU2FfEsWgELMb7i9bFmTLQ2x/HOtCcJgnRnEAAAac\n",
       "QZvJSeEOiZTAh3/+qZYAbyTX0AKajMROZkfL1q8Hda58CMmE5gDR9idwlMJkBxTyTU1Zm13h2dCo\n",
       "VRN6yEqcxmXRhwuTHtrqGs0U7tfln6maz9MADpW7RMG6TWoJCy7y2+jNAIZRUxrQiqm2eBvGIoyO\n",
       "LwkmDWOIEVXgT7qanscWv6mKWIm81h3HxCF8tLvLCbrnxAM8hmfD6KR2V5p6FR9tRj6JpJuEtXaW\n",
       "/troCJTVmDapdmfqubDI6oe9jYqDksXn8LnCzr/2OaZVFKj17y/FmBX96jqKOP0BOj/jxBuvA2SB\n",
       "bVCZxoAouxRC60QY3VuDzyeNq+dlGBCzKy7wO42TIKeQNP5Axwc0T3UywuH5uUxI7skXgk25KLwb\n",
       "qgvQF+c9SQvcXlEtVZv9KKQbSTwSg5pgVfXlVk0x4NODzrW0CthAmMAbtxVC6P2KHtgtafhNd+Eg\n",
       "aJ5N3Jc8x7rsh3373Grn7i8oWsA15NuPyT/WBCYVT2UUVUaMfVFCgtPEqXrdbFPjDkag09BdXl0d\n",
       "01oRRBf0Z2vj2JbsSAlD/eAP/edNw2sDCNrRc/bhr0ubKBSoQaRIxyOg7TvsVrKgxAPloTqQi0eU\n",
       "XiHSNljOZ2022NjDE25Y45sXUt2QSAgYLqUZJaqs2mh+X6Ul8KXI79u3E27SUklwM4J6kbG0+9qH\n",
       "p3g5P/ihtH/LVDxMdklQRXDUns+DKMBURvjjcsUWOyh6pUZmsFb7SBE+KXj8vBu63NnVG7TF93ED\n",
       "n/stW/92uaqzkSVgyViNX7c77PtL/PrVku4zcAf2pNifAtNp/gN3GyjAFj+pEz4u+fYBDO2GE6+l\n",
       "huv4HgTCLz37S8fWnR6Gx3/Hpoc0J8NPn7lQVQfX/qg6j6NGJbDDjOGDpccmrb1HrS7y7lo31UuD\n",
       "EV6yygkx4RHgYq7pXQacXHwZ02SSTQlDzZ7DypH7HFW1o4jp0UW2stSIdLuVZVw480IQ5L0/gdnC\n",
       "4ronaN+VZaiupKapMYgjSE/0qFy6Lu/2NtyYxgVuaks+CwAWybmFifcpueicwFtmIEZLNsFqEeSj\n",
       "5+S38HP8kWViAfeeCp55udhqUu+UQ4vyXGCKqHwk/yV07/k9Jgebzgk6U0EDDUUOoKF+5VjQbug8\n",
       "iGBzIEutO5QeGUa30Em+k6sAK6XC8y8ciO+6t6LoSQvWVWBJI/Q2eu9mmOEe2MsR81RCalgvteYb\n",
       "EokzwTvm/MuJfZ8svPUOWniTmL0UfOo8FW5qoDC5jwtYIq0HDOAuTtop+a6AtfgfftP368RqJb8I\n",
       "GL9YPnP9awREoQohR1X0uf2LZPc2le7b/nGjz2hZdLYm3Tqkh6npoXr6Icumym1jMcOo1kHjezn8\n",
       "ltih9hIW8o+KpgGA7jOHa9ZW1ZMxTiOPkQG2sFnJNjNj17frAkW2NeaGh5vZ3iR5aqvfl3nJO+wk\n",
       "mbGgSv/YWungVHqWmwPdscND7gEnrJsxeALpajJko3kP+1f3GF70p9/zazAv/3FFNDj6XiNhabat\n",
       "/vcgzniQQ6eJuVDJ7hBF84/D2BIpwFpZJexX/Iy0vjlXMnSa9V5NwUwIYTUHVcSrQQH7Bmo/iBP0\n",
       "/ym1G7c0+sz6iMkhXunMxpMqZM9mGOazrbF+FWK7Uyk81kAU3jPZKgleLzh8YN7j1C7lDU/FiXMD\n",
       "0XVjlhg5paRVUTus8XW6yhGn0bl8282hj5v6+CfZxt7fuDx1guBP06WdZqvPe1BGtxpuYveZBUHb\n",
       "qWU1K+Gv18fRL/YH3tf6grZ1Qo4yUXEHcEiReYgbRX2Yz9h+KhZhGGyjOoV2pUgtSwCSCaf686qW\n",
       "XrJsgY/jtzMYh7x9PyQ4qd120ifjPUZ1meN2uizXvVRyECe7xK0dXHk8z+j4aKifWGZntg2RDY/w\n",
       "dvtCkhmk7azOIyGXQvHbRpL44IgdbFUGT/X1w4LARm9maDQAB6hepX688FKgB359dHxqIM56F0iS\n",
       "b/+GTxPsuAJDqs03glkhMCw+7RpEHYoGs3KJtcPgheHYqXwjN1fh4cws0vBs9cfss0ZviHfPVN7M\n",
       "dIO225FWGYqEbALt/gle1HP/ucaki5V32+JDCM8zhubmjs02o1Io13MMJEr5ZXjFmPqf6/e5PjJU\n",
       "tUpnaWBtK+TiIIqrXWUvvZubts3wXP69e68i52HgzuGi84ZTGbCcIoz8hcg8tT+Il9JS+BXcR91U\n",
       "SimQCvqSdFyg71tw7hVL3abRuSB0xzqP+fTP2oVPoTYmHCAmxQyJAAACEkGf50URPCv/Ah8mTQMW\n",
       "tZQa+Z8qy2c0ZUAK6qiGt05objdw/42dtwmb7DmokuijffPf7Rkhz94/QscAXdQeyVbYVxXiuA1F\n",
       "O6HUvsrGa9conhvk8vZBfzUs7NBfyl426b4x1SBJ2U3zOU2A+GLdV2mhYiw4aQ8wcxDnn/Wbjeu4\n",
       "ZcflzWEkzL/oKVx33lpGdmCmc6Q7jfRKvry6AkCs5iRJGGaXqZ6KEBOt6TPGc2p6xlaYOY8Ztacl\n",
       "7nIjz8rMDvAF6q8ayhloTwn2tzQHtGn2BzVCjq1gdcBgPlVOlWiMlcT59hVE4KZ1WagAmTfvcgRL\n",
       "awGU7uPoOhwCtKnVuVWr4mlSu3Moffuaypr5niRSRmD3wGuBEPYCCWG8s2nikqGHZouxeCQo2+MO\n",
       "kGtV0syxSKisIa2++Wj3sZn7oVrXyiyc6eXYxb4XJ5hEIjaY7WbjOBMpWBWhje1ehoKshb2Ng4t5\n",
       "UMLpmykWswscvEY50oINXE22qSzUoD2FTPc3lCdtSh8UjVEkbfSmb+D8H1KfXwbRrApLOjYS68KG\n",
       "DE3lc604DPE/8Of3Wm6VQMVBx7dMiJ9hJ2l4KBKSO9S2IQktRY0Q1xqPrXSibcQSPhhW7sZIZ0Gt\n",
       "GyNOmwPa539AYClj0szWVX58lGah+IdlNSg3ihe1yOgJDa/uvdj/O8SMYd502zXMOROF17PytmLh\n",
       "tIboAAABMwGeCGpCvwB/GSVkuvv7gJdkfTBWwJw/FiJGzOCh69P8z68Mbgw7AVPjsIF00la08VUf\n",
       "hnn+4XQUVNHJ2SLT99qCRlXXJxjVa6rkZC2JcFaj/HtbXGMnZSMbH0ydFWBvSjaMQDwC4xmIKBgy\n",
       "qP6xOml01SSGrjnqvN2OjZY/JT+/Fq/tbjXzt542AnaIAMcOUbqp4fo5kYABe8XbEwYpD7kfzbaM\n",
       "9HOoBJxLBhLHQvBi69EeADDwhQfZPU3eDe05twzHDx/QoOrkr5uiaYvlNbwuC+yg6okmiR4PR+f4\n",
       "PC7p7ZihnO7a3X8NYpeUJfdwPkLHJHyeMSU0q444ucM9vPHW5+nZoeCbdr7Y5bONu8Td+DdlQyR6\n",
       "eYtH4bTV5nb1q4i9AKM9UhbLiKBDUtT5/vUljoAAAAJhQZoNSahBaJlMCG///qeEANbaiCYnmNO5\n",
       "NV5ZP7GIqo5geCb2SEZ8TguRLNwik1D30FsmVmcDIGDjigi4Gj08kZpQ1vg9uWEgIa6RzuHcXcBd\n",
       "YwAGzxC8ekjDRO0AE2xPLtJHkaQl/X2zNm0hy0oqP4bdBxoAWtO3lgK5FeezgWZcAEZAo2ktf5na\n",
       "A2kBC6vefuUMeEDwovNVIysRHn+r7Pt0gxrRyBzg+PKig0yA4enCgXLjZKRbTlYe+Abi6pLuftvi\n",
       "sPVhHeJ9GtLcx4VkjBuj0f2OFtQqGJan73f//6Me3O2io/S8Y6totnenAZzX0spIbiQbTreq5geA\n",
       "ushkdPN8CQ69nuURmdg+Pduw7GzmK3hfuN9oX45588+kqehE0TFcZ6Zzm1oEcrfpJGV6anOCJT5M\n",
       "A/waQAUJqCiYctwpfaWNMf7PypbKN/SRT9v+/+E9/+eVsNwURQXuDYfZypRrVarXbMZYHf/VYZF8\n",
       "o3dII6t/f0xvU91t6mLV0pN3M6nzoxGKcd7yoj3ysPpWRmcYBTJCzTN//l+Qem8IRHpPSKuW2s1k\n",
       "YW59eI6eAK/MzgFEbKyRf4oFSZLepS4IWGwIbisAUsmhTBCGIAzPtS2KOGHEn6qBVlUAUVFua+rA\n",
       "eNAQ/S5D0X6TXNgvt7Ca8RdAE2ZP+gZd5rk8WusheGDkMMqKF75V280VlohBBpDrneLBKgwmwcBA\n",
       "dSYc2mgRso9YEYwxa2w7FZ43ssH6gPbW8EFIyVAjlA1eEVBiaqB4+yICpldr9i8tKMnSp4IWAzjf\n",
       "g69HyUD6FRhCtgIp8FOxAAABfUGeK0URLC//AZXnTrJ0WplDuQnCA3qp6yt5EpdcKUyKtOUw301u\n",
       "XqAFcUPZuwMm1V9P5/iijYOm+5FzBFc2t+1jSSc8UPfJgAWs8VhIEudT9KXjvbXzJaKj9cqIA0Uy\n",
       "qV0TGIgHeyoal98aN/yVA7/uMAGP1yV9WYcjW8LII0f40QQ5lZnZ1E0IIb6HZobHliBijG56q0/M\n",
       "4cWu6SRe0QHPqpKn0Ytaac/surn0btUXrHGGt4qQYgiuG9DZtqqI/kOfx2YEffPR5VoZka1y6F+c\n",
       "GbviO0AMba4It3bKnkQFsfmP4HatCQ7DALw8JzqtjxsZQC0+wtuXh+Ew3vVQTHAQHgfjcZdxEhdq\n",
       "eu5tj//hTmnrS+B/zcrQ0BerCQSCzD0Q1ZicWpRqUodySz/QuAVLPJ3A+VgzhLbgS12RR2W7mmze\n",
       "g3u2tuUb5RX9dpfPF0h2+2YGUWBB0okJN9SgxSgqAZISW2Yzd/c/S4jecHt1o88pcQ+TqRdrVDkM\n",
       "oAAAAMEBnkp0Qr8AlqWTkfbzqgHBuKuEaMohnyfbkl5KUz+tLr6OSvWySGj0PFPkizoEHZHSISn2\n",
       "69F5GPgJNUmH9WUQnGRxcEY4ED/k0cxfz9NueqOF1DsAOuwLvgA5jtL+okfw+oSUdsycd0Tlffuz\n",
       "aNu8r//vhKgAFI0c6hgvNUtK50feKmeTLLetyXLvSND4Eq2oUbKg8uFrDXRFeG+QTDQwbgh2dsZZ\n",
       "4qCjraJahQvs5tLZ2g4K169oJdZjpvNqdV3AAAAA1wGeTGpCvwCj2DRmboLJK0mNsC4027xwVAOU\n",
       "nfi8M3NLaBuMZW2YYr0CoYuvqzB3wh7Z8HvyAsd5/euWTkSOgQyE3cFvEnN6cnfLlLnCtjDdPuEw\n",
       "IWV5m5ED3Wug3R3zuDNy6rfklRFhwx3NVbGvIfQAB0mp2VijDObiCn8zQukndmwEGqPkb+jfiAmz\n",
       "FbvB/uPeMcxLjrVpqV/PNB8kWD0RYZOscO8m10B2nk5m+YCVPOtEHB6Cz4NwfTV8xS2OkJB7Idc1\n",
       "TZ3dksSTM8cYwgATuk9cZOyBAAAEv0GaT0moQWyZTBRMN//+p4QA25rpQQl5IXEFMT5SZeE71JcA\n",
       "Rr212FNo8Dg42XW7ga7XdUVQyJflE+Z4iT8ubRnp33u7PiuImCj9G9+BQGleWoBEMhDOhpUEfExi\n",
       "IkodTILOWeVzX6ZOBS6J95Q4qarzusUnvCIhGZwt2KfbktUq9uJ6a9Y20qUsGSCPdSpdOotRyhfk\n",
       "s9C+9dy2NKpQJxsMladJGE6Wok+9DON5pgqxqp43pPlDndGQPQ7tDMiVy5nHST61b39EqyVGIBDD\n",
       "HnPeW3Fhlj6A6scVevtipltlYQ8vUtGKyFtOa8dKd7Ryg5uvgncOWn89Bmvd6R0q9WbsoBmnRpXL\n",
       "yZS4S63TOuFR3F3hNN1mheDPpeWYiI6DHkOrKSMUkkWy8wjyUC+JX5pLbSE7kNiVLlDrR68MSEXT\n",
       "laia6nweFxxLuTmgE2hxSIqL5V0y1laQsh/+Zi6Z7Q8sRR7Raea64oVk6p1b56hPJzyClbNbzaeJ\n",
       "ugJzMZf/IHnKgRIzex5KFqeEZRnQe61clrtJIPeSZPuie3Nv2sBvPSMQ8osbwaDGVOVKq0VnJu+w\n",
       "k/1ZjG9+cATafQWBUSzdf2Wi1Y6I7FTjNP5BOxGx1t4Bc4uWcRXOXxwEXezjM0ICM82vzWtM1V9m\n",
       "DWA9v6QCpyxr8+pwQqDgR3fmAdNEBN9U6HdIrM+L5XpMoVvmtTdHHoQloFErACVvk99hvtdbw4yA\n",
       "vlKaeQymWwZOvrD8a3I5NirRmasOEZ+hDEtG4dfAB4bcmnOu+KOWtsIWLSlamiAlsaRsEWZrchoQ\n",
       "87y9aXdmyIf1vwOIT9Dyj8iAtU/vwhrI5uj9MTaTQPFGbTqy7dx5Sy20wXLc0/HxYlbo+090iDW0\n",
       "J5NzBufg0PAe7E1O+Mhw87Rt8zoykhEdavEBvGTodhf2rxR+tIZlr3NdMsQWQAwkJaDEveGM3TK9\n",
       "NTdU4LnnjghXX860YyA1Wl7QLld5xzwVSe7A+8yI5NyQDI1vcbIGGlpSA7qzvQfOzwOcBFbK05Hm\n",
       "bjXf/my+4BJDhxeyJIGLJyXBOkjhcRgzN6EQp/pjM+mDVzPAjkVbgqe5LEtszxeBkCXfomYAY5ru\n",
       "AUMA8PAXHGnZ79k81yOU/bpIeUVQVicbNy1Z1S/QPmSKXgbGzqwGwxFMgTmGgOgeNmhrim9q2b0G\n",
       "ZSkeqmJenHr/kZntRai+yMeK29bUsJy9hyOwFOHF82jFC43sxbhxjdBfx3whebai4jCAU3bvai0r\n",
       "80B/NRQYyCSm/E4obIZQkMx+QSO8AOzj8x/YUp76lHtE8//VSePrAcO64zkZcYTO7RXil2ghgwaz\n",
       "SjfNUCo6QyvSq60db9yuxJUoAA4zhyMK/zA5R0eEGsMBT06om0TGhkr/E/NOQQAAp7EceqvaLHXc\n",
       "TkP/LS7wR4S5B2xgeUadDqvTWijEt/Zo4D3vmYbCGqCiHiY0xIFYfF/1W8Qr0/SKqtXxUTHgzbTC\n",
       "/ha4HBlZRFtYK05TTDAqZYYnuIrv1lNDac9EQIqhEhY4qNBke/arBEZUZkZv6WIq/DHoOOs+w7KH\n",
       "ewOIqDFTuFnFenVbHEGldKSTTHTL9Jb3C7cyQxkw0KGBPoOWeJIIQQAAAZ8Bnm5qQr8CH2HNGwQ8\n",
       "7vJP6z6iKzyXm7TXEEANi2GH0MdmIiN0wace4NuVG/j8vvQzyTfKHvUG9hVGPYlqsCvv3nYH3PfN\n",
       "LXhhNtGT4g16qMIj2bDBfeHFPgDaB8CFafFGHlBaiDdCe6KZHvkhAGfIcoJtjMbqIEHxkUPf/Luw\n",
       "fgwHo8X9gzA1RRRcNtaHy3dAspc1oj+isiRzlrk18hg5ItjN47/fxudXsh6JP5Vg+WjYFKIoXXzt\n",
       "C05xy8pTS6gakqncUzswOLw5YNi4vsSIDjZw9apBIHNa1z7F8VlTPqWLWKoeGkbtgurNyAr2JGjG\n",
       "qANx02c4GNOWKQp0FRu3WVEhS2I7ozOcAzKZZgEod9PzpQiC3Kb+fPOyJuI3rMJkM6T0jq/+utAQ\n",
       "LWmsjI6khtRUB4C1m7s2RPZTX3OX6PtzsVhVJwaEhakL41TMOOz8nxgTeylwMqJGQf9eLFHMjRhP\n",
       "bzImh3/Pc9qMX75bzEQvtgHcW3kjXfve5hpCIKhmX+6QguKZk/RKRMF2L791Uv/JT+6yXwTwp38g\n",
       "zkgpAAAGHEGac0nhClJlMCGf/p4QA0q3dQ5eSvde4PwLNqAPIdNK4AiALgoUJu5K5Iap0ZE27PZR\n",
       "QJp7zfcMgVQKoIqQVNUXlLW+H5lo5nJcTPdld1nFLQ4/B4dYT8QApU3VeeF/9EyJVcJe76IXhjDZ\n",
       "o1zEf7wyQ3a027zHHuEQKrkmLmI/WQWE7aWKp9tV4M2xsNyCdjq6+MBsenbWHYHPeT/MYFJBLdYh\n",
       "ILP9dGpgzwPFByBU3Q6Jbq599WjBqgFOCfnUQdOaEA5Jl7vQ8tN7pX9NO2N5YqRJtQTkZGACQQUy\n",
       "BBRF7S6vispsmuTlz0qB4H7Pt+01SfTOBoPTQy31LGga37wpGyzURF1x0rlp/PH4AZJ8ZZ0nNv6A\n",
       "YipipPcndqdskhVCFMykpC6g7cY1JsmF40seA8cYD7AK3pWxr8NxsOwKn1Y8JQyqxTXC0Aw1Y4oq\n",
       "0SJQqltDXjgBj8Hli8oYMcLuRrYnaP2/oRDKQG/4bhC/jbndx+Q3WUM+wKOaqJKAKyCP6ARnag0z\n",
       "tesBOy/pJDwgzt/A9TLaQBzzf9fnRGWK4SH13WfntagbLGFlFRNpCu5fW8p3QZJ6QdWHID8oxFrc\n",
       "RGmQB4SFQ2fzRQNcMY+dfVJzmhDIBnQssER6g4awTyNt+03UZTHwtWW9SRxmOpqoIJfUwsX7P3fI\n",
       "6fSYDudHXjmeZQlwSAPIrHLMOpRwMNNC06WrI9evY+xUqgfK0Mga2udxa+UhQqH4yIqYDg5eqFrB\n",
       "/N6FtqWCrGG5ByQ0bigLVmljUXnMAD3pcXhRRKXI9lKTMkwOl06PbRMIp6Q4YH+YZhTgbrkv0/Bc\n",
       "tr5/aezJsqjH12fJ995IGUGiARw7keFnXmntsQEtbj6y7dqKLuWenf1wqd2Dw3n/9VJA/ZfT31AV\n",
       "d/8qpv7p0GQYYIdBVAX/G1s7YG/cxvKsq7hqU39TuDWSLZfihD8S6HFhr1JrbW6nZdltMRw4K+tx\n",
       "3eF1QHw5Tn69Q0eXo3Y1XS9Rwc5J1lL+9/cOM1e2SS85AvhxcdXbf2qy2376Iu3QPKxVSTG6WlsH\n",
       "aUxhF2XlFTml5Ba8dBEh5v/BLw9qhqIqE9zfhmNyG8rWgas/VWP/k6mw3pChi1v06eZ0YM6wwzPC\n",
       "TyLT+me8l0AHheFBOvXvXlesBmDab1f8x/61Gom5o4wVPGtVYZM0+Q2srk5rtvl9j5lMea7mshcr\n",
       "p23uwd+lKNj5xF/DyosB2RZkNGIsategDZpR8lC7sLgSnih/pSTgA1962+9zNYlV+TO4F+WEhpqw\n",
       "cq3BGJ5XdyuD2MVkWhdMt2ylY9ZaTV0hTOShzbXdgQ4sZx8hvWYxvtR+gh0NWQQkR5tRwaVU2AdX\n",
       "cCHA+xEtDu3WgIpqMhPNiJn2obkhjrCsvJWt3l/2ZGqErkbpobhanuVUl8e7DcTcSXvDjuerOk2s\n",
       "Ba6vWWKp3mXVCeT7Y4Piz2fVmzIlvdalG9N6SiadIF+mICdNn/7WXzkZYUmu6skHP66zVtJ3qrdF\n",
       "C8OPNDs1YEi0M8DQ1xX4FEgyqwY2aPNPLiDzCxY8eUeTcb8ZizIYKtnqOzO8RkRmnvJ9mCa4lgk4\n",
       "dVBfAbpOdyM9rzvXu7PrXQr3mjy1NqjW/XN5pY3xnWmSKGbr+l1MY2EwuGAut7JWe0BLc9BUEhSl\n",
       "IJoWqNuowNUp1og5LB4z/qJnnucOBUrNy1Pwv7AZXHclTmvvbBUCY8FRj39U1wHxnnWYd1J3Q5y9\n",
       "SxjViyi0ompmBzY6nlwG4geDx7sIKUgkTT3yrpGffkeYVreVuA6HN+KhOMtoGDXk/s1yVDvLw8p6\n",
       "d6jf+fGMVYMPHAxdWH6PSHdoUeJy3TPJvFTpyeadFJzT+WgElX/Vecjb4KlO1viXL8n6RmmnaokC\n",
       "wDWTdlMz68X+d0EDjovgfUCHcRtsnYl+NeWSvmu4KT9TpJNZJb4OiT2HPUfjmjBsfF9um24wiNCN\n",
       "iVBsot45FA+fZ85U/GxfSEgsJjLIxlpO6ywJGftZHlwJqzKXq39z+YOglQkLSyR6R+ryda9NQ4bz\n",
       "Y9KUb704NG0O6+1nRJ4HuDsmUayokKcRnt5clrLniPgAAALjQZ6RRTRML/8BlcXj6r7Vsj/vsJB9\n",
       "yAIG5Gs57VshKNullv0kDLpS1bwoCqCSd31Onyrwv2ibj/FDtdAPmBOQq7f7mDbouSB86ZCmhcSd\n",
       "3AF6zAS82BE2l1Yz9b7Vp4hSTK6cm0hsOrK78IRxsz/n48RSHhUBBkBxKDKOTOBVgke1KRkzNTig\n",
       "8zDVjaCZTAPr1vinqzahBtHD8db2qO1W3KlzJgo451yABPj1YHBzdNBWHhdq5fGwAIFErC32ED3d\n",
       "ki0yGGVjj+/AnlCuYugpajuoftwLu/Bad6n8sd+ePv7ALA6WUR4qq+01vpqSrlTmmbVKbth+pjkm\n",
       "rkiIHao7LN5667T8B9Cg2FQSjTXkzjeIQa9g4+QHvn+7pqHjuFpLqXag+1MRWvs+GjX/mLUeyakX\n",
       "GCN6Qo+sVU26SAih1ZKbnu5FYAo/nFNP68AUQFtZyXH7XjVy2D2mJW8Nt5WwUYS/54GBgoBWKGjW\n",
       "y4EWJsTKZfCQdAeLFhZFxyQ7TdxBCCgeJ/MbgtdpaBdhME/uHj0ZbFCuWM/Uu5UB+0LdwKg5HVae\n",
       "RoMLHHUsflzys8VIj+Xf252IZlONNCeer1gjYmwRbndszccqNAE46vyldUX/B4O1f0/i6XVxlqeP\n",
       "BPstmzuYM3W5CBSOhnZGqe9NQSdo2n3qt0qXkh27wBBDMqwsYi7SAAmL2MbIKWSBUzABxex7lkR1\n",
       "i5ohj8RuhCNbZHQXVg5AWqTFLLYNjmeVFfOZqIRbqAUNRjPQyIBWgZmbykUrrdEhJAY6Qq8rAEym\n",
       "h+FJy/R6mXYRViY12J0cSHfBETiS3geudHuYijH9IkWTDGTqiumxBrdF78fuubihc3UbQQX1VFMN\n",
       "VX8m+39oUKKiMrgy4rFoSyfCJ27MeSyim6bsrwcQqDXseZNVBi4Enpy9t7tu/7sjjaOa8DeDNhZY\n",
       "vu228aF9WL3KJ8/QhDmcO83srtT++lCmz9IVNgAL3cxzTgAAATwBnrB0Qr8An3G8EEjcJhmx3MuS\n",
       "LYlp5Lk1TH1bZjbJ7ASjgqHQfQsAk36rYPqMSicYliaIYdllp4mFttDAzLbcHROydPmgyIZj7Qdg\n",
       "vtIklDMyI8Hzr086wAh2ate7fc99C4E44WmYzLZH1k0hMxD/u6p5gRFPobwWFeLGDOk3wUgJ8Ptr\n",
       "7sDg3Yo5d7EzvjTYwb1TtAsWDZOk8aWb0GO9QN2A8qSrwQrTRJGl+TYEqPeBwVzvsTfKcGYfklfO\n",
       "yhiUtRsnAcqQIHjZrH3Cw/fZHg+28JdK2pjo1Lf3bLETqrQVAwOVWCCsADgavR2E7a03Zk7Tbz+r\n",
       "L0NgLiy6wskLkeYJhXGin6MMWAbMVAEeNd5OhEPj7V3IsOxRt/U9c1pAYT2pfeoQrtoxikFskbgn\n",
       "23wBGi4HPgvilZPTAAABmgGesmpCvwCxWE9jZmEIFP33vzk73/zfpvptqSf+5jwlhVjsuveskSMq\n",
       "BXPemesUCxjqQhbbpT3U/8jACFWaUYnzXxC32aT9ylrYMzshUOL3SuGSOvSlQwc31cKWLGx1IE1O\n",
       "t5/tKrjvR7BtwRTkNRbd+M9NGgSKpg6/BHxS5ioJ8giiGiBqi1YcXyOmjuOgIog6qyNM1bKMMYLo\n",
       "/GyqafyJhqmEC27o2l3Co5mxalyyhJoJaXNr+Dc0QtVyRPxR7jx21hbI+w6WQ5Ulx8kFgpLg6JkQ\n",
       "UTTI45Y3oO3Pc48US/QWWGwFCF9s9XnPJ82Q6B8E35i9VG5fDcUYXDJKwj8dVje3XVd/sKLzLLYP\n",
       "gCUNGAsZBnNQkmOthZM3a7Ix0yYT+TsspCmf0izMJNQo3h5YGz0m/+aBUALO73FIAbbHAkXlrUvM\n",
       "44dYaKIO4YkJfEw4XTqJc+v9o14i8ZKURfJdSl6NftUONM7AdUW2AjMvLa/X1rgObXWIyMBtoV3E\n",
       "XDwebT3x+D3FokboEtpTZGcyPSbtWt46i/paAAADZUGatEmoQWiZTAhn//6eEAMK7v4gCmrlWhX4\n",
       "/EIwOPVUg1mWsCYGzleMbQEQtsrDomSDND5arQ2+TpFY5KrvgGzHQuty0FOXbMvKmVLPP11J9OGa\n",
       "Qpj9iA6RM6zkcMw0rIaieA2UbSb2BqLwQOE9eOZ0hc9oebyHagKVmpIlU+FJjhd8sa4QlcBlnZ+C\n",
       "GxVxlnPX8YoDkfb/gXq57v7mZPlDgq04kWFIZXRw+hW0Nq4tg+sYzyIfexwBDr/i9cccYVV4jRxp\n",
       "nahjO2N1iNYEsdqhfJY0sBz6Fcqs1KnnI5oWFHjPv4VxYtZiaAmazYNvpRJCF/pDO4gEo61r2kIn\n",
       "XZ1ZiKyRQqb46ihvfMTCWBz74d69QmvG2bomxkFfn3ZC660Kkb5InsiikZ3ueL4qr/EFt/sDx+Mw\n",
       "xcM+KznNtB5u64eBHZBaU/Mo7j02hZqPea2vubiuqeDD9qQ5b28Q5J0nnrNM2awwA69aq10AMqWq\n",
       "yuh4Wwpg1aBD3Z5Rbya1E+QTCU90+KKj5tpjYJOVPDGThUOgIBAnAcwuh/Ngo/hMIDLOlzBSec47\n",
       "lK2f88rSbohRkh7D+RvSfXAsdkX7aCAaYRFyFXoh2YIEHIoW7kOVaMKt/x3lPE1915e5wQDVwvq2\n",
       "rnFpwJFM9tAX/4UaApJrODYNdch5eX4+VL6lut3rWlVaGlrQ+wgBfc7GDsvNIeqQc5nyPCNBoHN6\n",
       "4rihkgVqtOcdkCC1MWAAZbBO+EFSEtughZsFyCbeRsWlglv92y2CDNtHLrdHyWFENU7pN04i37pI\n",
       "uYk+miGyUdhN7hJDaiPlcYqeMflE2iMtPy5/+ZHRaAOFbeqJMWDZNXDN4ZfO9omMubyRLi2dZ+lk\n",
       "L1jFnL4yo+QhDREM9nj2HlZPmRpxF7BqymQPnSpiPuHaxbJG4Lw1mMnc8otTozvkxaY+qwVnEK/L\n",
       "F6UmLoxGVnBAnJjJHyoMGo21fpeEjm4L2leZ1xQMfbwBXy896+8vLxL4wgQL3Pu5joJAUwYEHG9x\n",
       "aTQ2LEjyfKmIlyNEfQ9K+Dbb3ViFzDwb51CzVKLZgRgqeNztIEYqLkuQwYc25h7+BnZCQZepvBwn\n",
       "uV9jc9PCmR8i+qhupVWgYxPgwxvN+kJtAU7OD6W/7kRidrljp6OMqXgMbYZAAAAEPEGa1UnhClJl\n",
       "MCG//qeEANeNqo8EtM8SZbAEclcyy/vJP1yGFdCKhDRI9ly5pz5aT5zVkZCn5fu5RcsmqoMWLaK5\n",
       "HR8DzULydFyNLz6rw8WSYU/O4eDQsZXMYYXmnigS7s6ngNUr7AHTOjb6XJ0JLKaIYKLcVk5LuBlK\n",
       "kmrNgW6a+ktQpgInaXW/aqKNL1bAwsmh2sV4Fwwi2AXC9Ob6z8WvQp14IW+bLAH86vjWBX2vlYXX\n",
       "DO4z5IzolEwDunEm24gFUa9oOX1a78+geTgc4DCXZQf08IvwlxhKKhNeC4CYG+VGynGAnF9298dN\n",
       "Gr87y2ATjlNpHj3jAEc9eTXBpg4OaR256hPezb9tYgctUv+0vfmWZoQ5BgXXlGaUZ2sJlBHE864X\n",
       "l9VlxrhXRtERrEdorqZfILGRLsFawYS7qNdXFd49ML9wjDS7dXTkBi6jLX1g/vPUIpbkB9EIUfya\n",
       "9LZf39HcBHZH9Xv07M965idyfZ3W5X6a5mfYxoDMmiq2j3/Fr4o4iBlHJIYcAK/loK2u2re4mEeK\n",
       "Pbcy8NULmXOe27YnDy62bXalt6L/H2i3hfS0dLn8ViBMb7jtGCxwbV5W42Lc86hNEEbfT5RZgLGT\n",
       "jb1Pux0ysSbgdsakXbGWkImCatMlJd6sU8fUHY2KnB6RkDhGavuChVSKN/r88z8Van9RLFz1y8IC\n",
       "ffhLXpLc8ptYYP2uc1fVdw/0H2j8W5VbiAEWTBNjyOK7OcsQTbJVjRW+EdXNZIrEZPuQg8wxV27c\n",
       "q2ey8rtlI+JVx2Jlq1d6/5F/d2nSMBdfQJMS20L3zelOciZiIrXht5B8u1j4XfV5PvKEt7MJGtSF\n",
       "ydXpf4RlSW2IgL7Q6+/QNDI3EM+NIOtf4bUKMWiQfdNedKbpjvQ+P3LcYC9a25f7c3GAVk0mKwAK\n",
       "I9U+kqqvfnYObfTIzeTEyYbr48RkP9gOVyfYhjzh3toK3rh/lFjLzCeS2XdcYKMYsGhQ9Vl/6W7q\n",
       "cocT5+s3/orMlL1f9ZpXccTvzDZ9mEYiqf75cuDH+G6XKmun3NG3Atd/iVvsDijfuwwcYbhD52/6\n",
       "rh0a/K9G2qXXou7ff8F0RQbbw+3v+MLVgrEMcy7qOkqUqsJt90/GhuYvpzeHDHGM8L9SteCu5P6c\n",
       "aj/ecaDKV1ZRCRivo5alHwVz0seurFk1KVOqJpniCH3g8XhwR645XCYdpRoNR+BF6xQQRbqut+a0\n",
       "WGuVUMYWgcHbixqn1aKkGBnvv7db3eZZSVxlNg1mqCGvhwjKFg4Qqd9f7Np6J17qp9a6lNlPmn1p\n",
       "QBzqVRLTrj9ivE/fvkC+FrEWRtWJU12f9qHJTZBRCqh9bg0Pq3t1Lk6YWdQXnCfrX2iQvSNLOpBZ\n",
       "JaPGrx2tPxQqopbD/XJAAClet4z2YXtdOkXvC+gGQcNS5SOBGx1khPY6SV8Mt1Uy7BEAAAU2QZr3\n",
       "SeEOiZTBTRMM//6eEANHF3df3BzY7QBVJaXBdSFvhCElbGfwYh4SG36zC30qP1SLtZL8J3a0eJeO\n",
       "eA2o2YGoTvHbktO5msmHMKj33TX17wBpGo1urlxkwfeDZaua2oBXAXBvLs7iNjx+5nXfFWbFKlog\n",
       "4GoC2kVfHnCmMMetUokoJiGcVwn66UAnLwJvqiEc7AQtjreVG8amQHKZUMhA/eCkH+YKhWuThQPy\n",
       "2gGwbISHF4NY3blaAYj0zWoRU07E5YpBpTlGYtjdqSnM/ZF/3ghItQSzEmDT7vHVP7cvK+S69ZiR\n",
       "PX+t3nGxk/ZIbQ1aD3wBawVrmXFkZiNpe4YGqMZW8BSPUNN1duo+s8FCdWknldtXdS07BoADFjGU\n",
       "wTOnGRFf+BYVKQokgB4baoE87zGBRxhjShYdEPBe8rbawOuLuZO0Lq6SOwm1QMLaDR4FmYgWZPkb\n",
       "YFCz/A31vnGmJ6S/c1e0jdg5x1MKAFmEnJrNWyMRJWUdltw+hlWTzJDFecInzQVReq8UHRUWQAv7\n",
       "eJmr3SsfeNyuDx4On65AVOdxWi6xZ9m1sdoEVzenTP0tYfDANh+/lpqnQAF3inDCgZ3Ya8xZHeyR\n",
       "4fHh/DWT9IqAEV8wiNtyft2GYSyhL5ELvmejVL5AhBFUQxH9mREeh0nh+xbaAEzdi9tg5GHVNjA0\n",
       "tJIB+UpjVQOl9v3aFEFS8MCg8fKCFNHJGSnuj925Askid5qMqlb32cioNc/Xxl7GeDVMOJ9h+r4P\n",
       "5u1smDCH7ZwjpV8fHvJoM3HLIttsrt+S/tsP32N9XoR/60kzDutw1bFAr8nSSvnc/CFD/kJvKUg8\n",
       "P1BQikmD/6cArRiURV1QCOeqdL0q1FnFYwy4JU1ITq38UDITDg0nfB+azQAhgwFjkrr32U8C/F+/\n",
       "sYQKtuZs3Fa9th69SNnEl+2j49/5KWE1TPZzrFfAOVrqP/PsW/dtRfzRYTqQPTah2l0krNKSE0lE\n",
       "yL3jhwTAY/N4edZKGkgXqJ8e7MOBl5P+hDGgix93fF39PoWDNvmWslQdiIWFtcVu+LfelLZuVsM0\n",
       "cYY/NOdIBGMCP9JjLhwLhVuuGD22bFHFoVkJp6wMFZaXWLVVryYACvPy1QYvI0fTy7k+vtM6zpsg\n",
       "/OHqqcPOqGhPjLAez5ADe0S9MWZK2xW7gzSPayefMZ7aJO1YgpBsINiZaUygwsA0xm3f/JtCZZ/0\n",
       "trirmDjb5ekcWwZDDiyMY8fjYNIrRp3kEiNY+CRuCjiLANPL29NmZQuQHD1OCkoC2PmJpYf1I9S/\n",
       "AQka3LpYA/j4d5S2g9VzbtbdGGSXEPbvFTsjq+QcNHK9paS9gEdf8H+qke4QwkW7OaBG4r2DL5J9\n",
       "f5UZ0zmZlHfbCneaxmaOguBOZNkw2ZOpyYvnOoBcq3tKJ21FYLXp9nRceY6vMvlkBIOHKiRRxf5t\n",
       "oTOdHwYKRQls1Z+/GuwgMfoesByjDCfqkQyuJuTbkzGvjN3CKFdVr86m0ZFL4+3Q+Tp2+NWpXGbX\n",
       "dn/ir3k1Vn0BSWGD6lH23FFUm78i8I7mghRIgqUx3GGBbcxPEGp6r/Uq0KJp9Z06XNgj+LPZDMUF\n",
       "rEXMhn3nfefrHriqBkNc3qbk3njGHrzFy2mc6T3rB5d7mZhaBAm1+u/+pg/pXTDG0BU79Q7q7iLU\n",
       "UTkIEAvYbm/qFJ9S0ShTgmofUs4NTvIMwfQDoM6GEzcapmsd20i6vEX39WfEMyWw8tFNrMMMEmta\n",
       "6BmeVDjbl77F6+kJ2DWgJ+w29BwAAAIuAZ8WakK/Ah6I8hxBJq02dUdZenOAA2cmicx3Ygnxydgh\n",
       "/ZDgXofciqV7+jxo3EMnbSARngekEBu08DYnoYAAIS7mBMqbkx88NrueaTA+Vy9+DpMbFbuFtpUm\n",
       "eYU/JDRUapTaUVz7b5ba4Vbi1fpBPxXz5+HytIBBfQPHfJ8rHHR/4uIYsYKd0D4McZwPDWc/qLMF\n",
       "BrklzKQ+FM47OT0DbKqHFqICZ5ML9l3LdxcIJLi9vyuPVStnlsS2S52CIK+gqly81IdzeaWibPJ/\n",
       "GxFIQiSgXBfmgdRa86yV2M2U4Zss6ZXES8jFgUXHEeHkDZdfBc24rSX2a/lA4Vj5ycdrmqqqGtq3\n",
       "+g7Pv9KF2hKA6jXtlvwH4Qor6k/fdi84J97VxISaO5BIyADBnICP93yG1bXA0XCF+rPxQ0Wq8jFc\n",
       "Xm2o3Bk2//gesxzg0YeavsB8xeNdHegqimgIrf+AI+m0iWr7s4NFFat47yf8cs6yC8wQXk48E6mN\n",
       "lgge0EayT2yIpD9Y4B64r7/DCtxg0s36NrTqJKfPZKtU9/bfJMRr6+PVhPDbqxPK7WgSCYg5cZ+P\n",
       "oiv4NONy/h8WzsZ7bfR/g9j2JCaWK2Rym55UrJSa0ENCROvNDGLx94TBB3d4BlkfFd5OKq3uS9EO\n",
       "Oevsx/SfUeUDaOWTRxO1DQjESaq8Ga6jTasogxUJzNR0hZTgxEzpoVkiC90HSNbX6NFWS/sl6VJk\n",
       "qfVG0IYomRZ2bNKJAAAEpkGbGEnhDyZTAhv//qeEAMfah+x6VuGUu98pE9/Bqrz7YNB+oARj0VQH\n",
       "e0ywBGw3w0G5P9KpNoLNKOvGE2hcwIa3sq+4np2Fpf0BdlVXXG6/HmFw0TOsKg5/UI+xegWFnVFE\n",
       "w/NJ8AU+UqKxGzSCe5SXXRE5P7ADfGJLck0V9nvdryhFxsds0EUrAfz2kGVVYkInuR+WkEnOkf2t\n",
       "Bux8KM6KK+gfaIstn1ELS/ad0Tlta+aIot8DZfNxrQKWD/cdd+p/5ubPmMoQZqoQlw1X3FEdnU6k\n",
       "pikgdxspO4Ui0pH4cxa7p/DiNHosfhllM+bn4WT7iYqKq7JDIF1uMPWizvR7aTRWNeLXu1QRi91h\n",
       "xtdhMiConPoN0it4xfJW1zkW5Sm3IdrdRolIvhJG76iF8SAl+BSbi103DpFvO0sagqTBRg3ldYMG\n",
       "HtqXP3qNoRXW2fTrVCMTCGfhKuwr0pm813GjT1XK4oZCutlizhUGAhhgQe2cpoVw6o29SPue+kUj\n",
       "PDw0Ch0Wu1KXzZBrxp6Yy4LmW38E5lF++ldS9cHvGes+SBoGBNEX9EZM/+/7/0Q1Xp78/WqQ2c2U\n",
       "xMnqf5fUPlorG7NFAeZwKZ4OyYXzaZ54I/cWtiRRi4+j98AzUrzRFtBJ3lKTZPRUNPB0mMClGvVy\n",
       "CPHYd7+SHmtDcN7zIRJUHF2rZ+YInt5CwcaAYbDSmegNnDGnR5OZkHboz2eOWYCum5eAB6nEI2oF\n",
       "rQbekfaazw/f/qWLM/gqJuV2ls9Hdxcq4tY64elk29ZUWe5ngn6A01Ay8CKSlr/m9JIATGsYGf4a\n",
       "UMgJelhRNPwi4jmt5AWVHkJIvIiKHap8H1rMkdAAL36G+5QuaObWrbDPP2GoloBTaBGNAqAmdW7T\n",
       "nrgg64ErAn+7dURWuVvvJe6hfeTF849iPLPxEm8TLuJ0893I2pmLmUgEVmL6NIyDZB+suDwaDMlQ\n",
       "RglIZKgT/jifkwOtSZCoYda/Pm0F06qYQzT2vIo6Nwf/mb6QqAQOPh8XeAAg5PLq+ICk7RV3v9/f\n",
       "QEqHbs6En4x1as/Pa1QDdEvM0lJ3XnFiQARxIAir4RLuBnKY2i+YBQBRznTxbCu23XDzFY7vjMsc\n",
       "VB8MYX/3iT3JGBdWzvkZSsAH/ICp2OPE7rVSZho1Foor1Z2rYPI7Ow4ECsSDtfp3/L1lSwxn4Cu2\n",
       "/dq/iQTwHeHOrq5q9YYAXyUHwPzDrG2zjD1IFR2TdvfuVil8gk5rZQ2+IY8Yj7QOtNLSDee+Wo9x\n",
       "2H8HfXolvsGUuDVqePW70Z7R3PToFAwWKuEsPRQ0cuE6PspzCqVPSIdrqH7M2I9ApoFp+LLBlq5w\n",
       "9GFow+gHEzKa1DtnVxYzgeyAlcc4rwX095gfTJwfZm9yOIbhLFhg9pXDlI1KJXIRDwVL+aKVO0xf\n",
       "WW5zQHu+gZsgZMwW1FhGY+whSL5UADRJOmzc6G8SFgkJlc9EaD4jyH9/1Of1v5cCYMqnpJkmVGHe\n",
       "52p8GZyUeZ0sr0orPfq2OzhmayprvUfzcQhUfRPzrHkWSBJ1c4/syaCLWLj0dt0KIoqGMRbwSeMr\n",
       "AE2jg/ETtwfVAAAGG0GbOknhDyZTBRE8N//+p4QA1uBaHv2VpX3YgARgAB2NC7g07PXbRgKKwXZg\n",
       "YNJoUtFlzpF/LwWILHqqOgmvCtQ/PRMubK0QDa9gcntiTajkdJ+7z5AFGWe7FLVUlqUpKKo4JIck\n",
       "ABT+debm9vQ4sSBsjtm3JWXkln2wVTzEvEXTSLLjnBi5bhPA5BIYeavF7c+svFCQgsclixexJh1c\n",
       "IBJ3KB4tOwi2IGH8krWXHjZipJ8KcO3u9GCHeyhcpIE+MdL4j0Pi952vMJbvu0FpSH6DwySLLxwk\n",
       "RR9yfmQGOXzWEEqF/FnPWj8AIBUMy95V9nqI/lybIbJd87cJQghLyFR6VOeH3zeEh3fSRwnA/cKZ\n",
       "/XH8KXuhNycjTztf5Aj6jdH6D3NErGPP1cjh+g7r0Ka/iDjFKp7ju7WXz7lX628Fh9x9xuw1BaHp\n",
       "BcAiDYGPFAmn1AXR+ipk9ElOihXe5yjVrsiG4q0O37hGMvhmYSXZ46I9SKcmOj+OU8Zk8jJPvdOO\n",
       "D9y37JdB27P6fTE6katshyKh9o8fjz0IyZV7N5WWJACk5KOik3XpVzkbOng3SK0M5Wlrpm3nzK/l\n",
       "tPm5EPNl54ve6gloNlhXAampc9ikM1y81/dMaZ5MOP+Z1U2FVcIPnmlHXDQxP7iIWzURZK+215rb\n",
       "lGYnaFHtO2Q/RT/9RWRi5jvwf2gL6JtJP9hIDH7HE9ua0TxiMXJkoygGfQPYDYQRAaLyeS4nhm1S\n",
       "WtsukP3Cxvz2Veg7NfdwhhKXf4u134aB5g54cwnd8pav1ZcSl8g7M+PXZcvEnPk2W2Wty7a0DPQ3\n",
       "kXDaHY4vyDHiF/MCPYG7tDMcZGQt57QPkSakuXCjDSEpc26mNKsFNfj4lvbxHBhHvO0+HG0UxhxG\n",
       "5YyprvBRTDO7b5xruBHsYRU/+Mrec8rXiJcg9mvtMkTZrOQ66JWra6iq1gTzdhlM/pJwu+AZpnSQ\n",
       "XxuB6fEnQyB29TGqS7zO++nx64kEccezc3nu/pHHHQmjkG9fHbRsuf5HoPpaPSSVSDzorV+r2CB9\n",
       "TUSxP/lCiB4VNxaFdVOfZ/wpxI8pif/62zwA99SzRXpaDApVIOoN5RxOhBmtvdqHFHJDddej1FMf\n",
       "SZepxs97fNLRBas+wVPLUXVikTekIUbKYRPrWOVR2ag5diBxnb9rZIeXQpLvvulDDecFDCLZQJNU\n",
       "7voarOwhYQFXNBlqIHCGwMNC4gOwaIR1YdZR+n/bo5d6uc1FKBSsqE1iL3cvcvOUH5x7wHiS9Pc+\n",
       "f/73+mqhAphzDjWdwzQttQr8RduN9O5qX1d18lBkLueNkrt0TdV4zTPdbuw09PUhGcsyOODSXSdl\n",
       "gqtMDidFSlGt1gP6lm0Q1py0far1CyOTocKdm3lxHKWkXbrapCX2nNo/JFoBqPQdGDB4DdKQqh1w\n",
       "3wWjSnBNTuEyZ8eAbiV/mX67YXyWL2DgrqEcurT6BJ/DUfALu29sM+8mBiYCt/MZZm05cspQdTcT\n",
       "2z9cJoQOyHnrXb455Zxc/+pkffv6rfbs4kg/B3PCpFs3iHZQ+MGxu/64hpZggroMgKm/htJ/HP2u\n",
       "dRT8SYPN8oiDO024aqAsf0X3Dc2UqpdtHrKrulca2bEaNyzu9knY6spnsgJrEC7lx0bidmKiwQyk\n",
       "zrghEbQAdiAdKCS1Nc/8xgPGSF25/nBRF9Zjljuk8ebe9J7Jqn8iYcszk5hK/VgHcbRqzQl9fp0y\n",
       "+PfRCg58nppX/DmOuqctEgqPPbm1MkJaF2Xx3md2aIEa1bJ4WnkBQ2QrHPm6tT3LVCohO3OYQGxl\n",
       "zMvHRHmwVj4Kon6nRiDfiB5kVU7jkWfkz3uJ1puaxnv17HItbX7XJyrLONvS90jTywJB6jjhwMnt\n",
       "TjUsviuQYgNFenvyJDaJ6tMhaeBXkaV3vtG6NPy6AUqe/w1zjpS55t8d+vNrJIUT9z7VK2awEia+\n",
       "9YgZDhu1n5jgfJf6Z3Ap4haj2+8puJxSogykopH/PrpNAif8ZuHFQqpa+AOsBc4jYseGlzDbX7bd\n",
       "scSmIkiw8WgpyS1d4FEK/cBDnRPhMLk0O7WQ4CqZSxJxTqVMuAAAAdABn1lqQr8CHojyHEFp2zmT\n",
       "AdCNzetlH6OuBzML0c9U185e1QAlhiGFeOr8J3qvWSQTp70Ty6LCcHt5GqrKuxtOVNpQ4PCV7tFN\n",
       "8VNxchFGX39ZUXBD3UbSmeiNKtwgXlXN4HAr69BJOksPfzIxhANPGL2+bvKRZdHcXrLrmu6AopBr\n",
       "M8be3ntsBEx9GqpVR1b3pB+IAWVYyAkIbq64641ihDipOoL3RruKKEBwNEp6KvHU0WB4xVWf8bsv\n",
       "P3DN4iOoFEdsE55LZGnCXOsMfZen2Jbe4HhEFP6fRr1+Jm9Z7SASG2Ku7DH0e9Nr+k7V1m0H7dAl\n",
       "wpPNNrPY5v8OSTlue7Pc7Nin0wRaBkvJDo4ie0soi5dJhu2UzyjeQeKBeEla+9c7LtRShbAOb0LW\n",
       "FqPKR+mfyn+F0fgcNrgkb8njCDLDQ2IaCeBo1mqxeMHsIPpibMmQUp687olvd5+RFsf3DG1p73BW\n",
       "vsSf2GTLDrL8XnMahfmcOEWP15pvaKiAKvZRCZl397hmoqrWbQ03F9Ona1e7pPHY5rJBsq0h3GSS\n",
       "R8UTkckBYxI4b4Ewps30v48Yhlv1GS2TyDVcW2UcwQ71UVbXG/mmjupnIDRExwxFdQAABDhBm1tJ\n",
       "4Q8mUwIb//6nhADWnsBcdfjWoCdqf6EA9eiABXE5EYz5klyVJgAdR1mhUiQu9tDlfSS08VjLx8AY\n",
       "dYsi/9W3FCkjlz/v1laDLdzo6JrY7fCnq3MBBXxcmYaZxO8Whaqb3SnoZ82g/a6S7NFjfBoNJO8W\n",
       "sJzpQAei4clZHoJ8ZlRhQXa9og7uEQK7LjlkvzSLVAb153ESMrhgl5qjIBTh4Fe9/bPHcIi9eIgg\n",
       "jXMNLqkPEBZvuw++mx/wEI49vWBGV2fDYrnw1wkVftLwJtrRapslOparyS5JKkxbUxTY7Eg5JyS9\n",
       "y8Rfg61Gsj13V6qWj+TCaVKcIGbHrCLwAvJm0xAxVkz7aK0VE40sNyU6xmKMH2fPyFeGHzcDU7ky\n",
       "yhUKSwF1oMHG5L63Ky+07R6ABdQYIk0BTP5GZEXgHs8mnqMKodQOwZtgUSEPmUxNUWAxQ3Oir0X1\n",
       "zaQryLj4LHOmrj7jychk8B2RoEP+pP7QyWnVWrbPRby0Pz+TwZM4sNOFBvDEDhtmi0SFpF8wrdzg\n",
       "1Q+J1T2k0vuauHnRUhzLQ8RMmU8nlnKU2oLQ8py3c/SjLmyu0XuaRtHjA2Gc5cij2z1dOZlJv1zX\n",
       "OsSqHB2XH5aJZ1uo48qlg2JWu6avvYnPjLtW0ew3E+HIXkZSDn3Mgzrph6v3ILscZHYpg0uJHemp\n",
       "uhBUPbqff8A0wtn7Vqk3wEF6ckmd6Xht5xo7xcSGF5u6XkVb3dSkgp8wjwyWXnFuxj9cA59duy2y\n",
       "6Mq6933Em3ATmho1NwYXPqHGy4Nzuw4eOGm20+qx0vBMxCICF8ZQG1imT077Pg65viDj2Ii3o2sk\n",
       "PnMMz+tnUss9yceVMoTo/YZN+vOS5Yac5+6IacXWtoZ195JlxKqMdZuCx1mV1qlHbBOAant8JuT/\n",
       "iWZ/vrEX1szEVf8khIkSpAQGEfigX1FeoW+TsIFX/Sa3mmkFmmaKNlbPkHU0CVidN6wNOO4/tda0\n",
       "NKToBuYIDWsObZlG16bInUgL+faFin/aokjA489J84XNJNSyLk69tNYVVZjG++xaNKcg2HkBlfAs\n",
       "p7cJ8lII5ERnLmN1ljzoeUL+fliAcS8I6JIrUTTam3EvlKu/a7LpDHWIJW31avHPNbCIYmoUld4d\n",
       "vNpAbfnyTcgo+lgEad+MvU8OPTtV6LXpDElbQNe+39490jnDdacBxe27ZGLiFy/PO1kN+z7flAgr\n",
       "P38mbGjK7cFNS4UNt2W9/3RoID+CLfuG5VUabgQ/t9M58ssHOXg3MVJ+OiuFartHQyauMJf63Cxk\n",
       "g9TEWH1YqyJlwzhWkeFzszyCLqRkSCeEMPXDBQcqVJBSZ/zB4yCp3W48upzto25mVEBTN+k6RYHE\n",
       "Uk2hIdvKaQybRtmoBHPgnY44jFzRb/E6YkAMqyxd0lmSnZNJuITgdSB1Ss238c/sfigAAAYNQZt+\n",
       "SeEPJlMCG//+p4QA0bptamAqv4ABt3HYCU1uV2TlcIB+8NLDGEW64csR6eTMegkMFmEeOTYQbKCb\n",
       "7A0Qq8byhUdgq5pRhZU1xdiItvHlQ2VQTr3pJrkwS8e7CHSS83GIfe5hedPcb1rGBwGxId2Hkd5l\n",
       "IFmLRJsUvGOIGawVjwEONyR5k8MeZE3++MQC3kDvwK5zNKBiNAkWhao1LIQ7GzoCLdZ7iTnh9pnj\n",
       "kzS9wfAuSFSjSNpHBE1/g7jEhoAGRu7LH12HerouziQKnPcBSxScBKWQi+VM9V3eWZb1Hvjr9987\n",
       "MkxkMVGwbeZsWj94I5pSj/ZdOEC8dIqOenFAgsDrMbJqNzDATkEKO8n8Sc7oW4ddqchr6xFCNbnE\n",
       "v7ivQbkVMBwpcMudG9DeDm+LRZlH14Bm/EIPpTFKGWb93d10f0AU/+6igGbAHxC1IMvgtj4F8F1/\n",
       "+o41GqXFWfdHky0noNyHGRqrrW/yf11uIC+f83xpY/6gWdxFpMmTlHMlcC67JPlBPEhUrWX71euD\n",
       "iVRFxncXuiOThH5Atl2hj23MMPNP08ikYLrloSiaVaynZhuEUnDytLgqhT7XWIA5mHSoX0LjJKuo\n",
       "rFRMHy1+e7B0PJiTqU2l0mYU1StXpV3W+WQSWyMqQFXSOJ8W6Qm1jZOOpPwJ4dfBUL/3rJ1NeeUz\n",
       "7nQi26T9gqhfqOvvz207pZmafvbjRI07DErbOfXMHW9Qvv7Tpy2I7M1GpFxyYaKSGwR254RKBKFa\n",
       "oYiSmWBV5b7Y8S+PlOsPTO15kwoViPXpmVUHlPwActQZ6NCo0GD5y76Hrg5wdqFGLgU0JB17aZjN\n",
       "ha7UshsXnmCGJU3OX8+V6QyPHgBrPR3aHcunnqBYUWeKJNEL1J4cM1uc7lDuTc9XmHBE3PIJf2Mu\n",
       "dAVofl7wrgb/plXfksL/LQ3No3EiTlDpFTueYRD398yFjTu262A6oLM9EvOj69/moU2PV84K9MP2\n",
       "V+RCnwOj/KEbBquwJbN070wQJP7llcJcu6SsQK6zlzQJhWRZMeLlDAwRUwdbuNUQa9BMskHjmu9t\n",
       "56rN/Q4HjgsmJLwfYjKIbwFBOP3uKH5Mi2lOvDRa+bbqkM0MzwqzWfiR5U4TrKTAtq+PPQpzXJax\n",
       "yGz7xXz12JBng/3OvoSOgGBoHD/l3Erhuin66UjGtud27qzQfAAHvFalzDYsvMGdnEFzB6398+wD\n",
       "hK3KtKt3uDCtARjL/mnc/sqZaafnmi+uDBObq3Pk29IyWi0djzoAnNBn1AEDhfFUHGqdBmPR5GE6\n",
       "tOic6D8M6supnNJGqxXSHox2HlJ72Fsjrlv5PVs3hU2mR1sN/iWOXXQAV8n5SYFXsS+lNLU4MYdC\n",
       "/uB3kOes4CDw1asnWU7uluMHn6TI1nA/Zcqs5HUYq+oTc3moeszZScnZvfCHfwaTCqRk7L0PpTMV\n",
       "2q68eOURgzGsH/Yxf3ipyPueLXLDegI/8y9qXb1n9azcNnCzlIGB7izTbVwNNDVYvwE8BM3nFnVa\n",
       "sFHRqdTeUqoqdU+cCh7FR6Z+LnLwP/py/6hRB6S1tucrpFfgR9OTdyXmiG2A1vSDcbEyUjnsxx1M\n",
       "ww4RrcyoiyQae8L/eprFJ8sF4gj0pDyXGEzJdW0wpjwDbtHRFD14Sf+H/cWcbRKQO/vSUuzmFncW\n",
       "iFSz0ji9RCijsZjp7nO1QRiWvp54pN20blzJQFJlpaZb+chTkffxNMC383BCWPR7VGc7eyCz0htt\n",
       "n2ED79Mcq10g2dKXhVJgBl81IE+MmN+G3eHPKqN8pY49EehDhxddKNsSm/lFCrPjYlkLbsAUdxK/\n",
       "NEGkeL65Y+ikeKJ99jO06SfGk8mQlOO5lJad9RdfaGwIhmFgpsR6conbevYcKitpW7p6+QwEIqrX\n",
       "YNAMC1vD2zNM9mdx+bDpKOJlAN9/cNG2aH+/okaikNcuXTS7OOvYdNLblWmBqQ1uyFDa2IupqZ46\n",
       "zKpwCFRpKiLF50Y0sBPROqVG1mRGJ/9bKCCuaSnznNJX1pNeEiab6niSZmeyg68bIbprIrxs+hxP\n",
       "oCq0waqgwQAAAj5Bn5xFETwr/wIeiPIcQWljhVhUAE66AI6vT+LYy0qiDaCGfeqrbscPW2vQXwd2\n",
       "tzi7cPSir8y39WvE4GgjT3Xbl8kXsy5CiP69TW8RMvKR+2yPVraw9b/X3c/fOPRJgyv0d/fu1cuH\n",
       "kovxuhbP5cDi8DCWLejPf1aMR46BnXbdN3nu1ScXOsqR1Lix0vtKHDKvFTRguT4iSAXeRss/KU7K\n",
       "7Aw5354JGFeBXfnTINKpwMV6mZQ6HU19PW6WBBceaafPUkbrOnNxEYibABm6IKmW6W4S//Ub51A8\n",
       "eHo/SPm28EVTB2Kilf3OFc/DCBrHkBJ7DyR2XnTxhM/5GYScGddPNrLu3XZ5yF7WYgHJu9CHm8xb\n",
       "LmMaOP8pT6t9cv69mb8qM4N5VZ1FYmRsHHclsKpV8pCFfY9zC4bpe2U+Fg+gLSVP0OwV639elCIz\n",
       "xBMkM1o5q/RjZuZfypHVF0bmdJfQAL6fOQ36l3ouKMF60zOuRIalD3vZ+4e/zAgx0m2ikyJkjnA5\n",
       "uh1YXCa6gZn0gvFudYyEXGf8fF5755n4J0pAAp8SmVpUjCnf+4PuXQMcFfb8cRMGXfu01U089zsY\n",
       "/nCvC7UDzxTAPpD8n7UYEwu7HwwNzRoU0ZohbVVV/aUxY/lb6FUti8jEu2q93NhULfv23BQ7XpnR\n",
       "zmh+nJ4VnKYU2ci6aB6TgbIBJQY680dh530EHQclw/0GrYu7WDmpS5OoRtvSo7xe5c6JqYV5taAF\n",
       "BA0vf9I299+3LRyTL6lBAAABywGfvWpCvwCxBTjELrkIUc2NwagBa1HAFLc2U4oK/PTHMCK/RmIa\n",
       "a0kKwjWsPWytUq64JB/l0SWuP+dqoGk8MchSOoslOalbT8J7uO6ifXz2FI4x6GChuZLlt+y4TztQ\n",
       "6GuZFcwUaZR+y2ojkASufefaymTxuqskXVOOjCX+Fa5mhO6d3u9OLS7M/u9hT6AJ1BXkZ1I+i/8a\n",
       "T9GHBIf+J7U/OOx/41t0Ton1V8hMt5myPWIpaJZDV6FhEe/QW88RFjw2m1ml5NlNmiihgxQw0iIS\n",
       "RdYmGQ3tRHff31L1zOKrwPetqCVBf/3kZYLqDuHrULWXusajO6nUPSHLWtIxkuhGIH57V5rfIb0h\n",
       "2AxZL6pk5/7I16vl4/1aundb32uIRPQAeDqPofiIYeqxNvJhk+VesRfdopg5FLIAcVblH7UKmFOb\n",
       "3HVTKEbjVa5UhMZjkacsrUUAuXsNmf59ae5MnHyIZ6QIi3GmqvyyqeKVF7unBjybTuZX2DktfRCc\n",
       "tNwUO0sXt/JTjXMKMrpg7W/9ZzOY174H3dIQk+kDPpT+MfML4H/4S15P412D+/51T/npRcVyqv29\n",
       "ytHLL2gl7rk45ZAFY/1pQXfD4XH80gAABXdBm6FJqEFomUwIZ//+nhADRr+Su74gCDu5UlPTTn3j\n",
       "G/nbcZ5vm3zlrirMNCaKiwJ2lMQ8nHCEfqmsAcb6cqMS4laNY2678IRNDGr0muf9prettZz0EUNR\n",
       "lV4mk52q0jAImuf7ZllLdmpc5x/sk/HecX7IjTkn2Q9DwdoOQNx3qzL30SMJTDc0Xtn9Ap1n9sSV\n",
       "Yzx/Y8YG2frL8wVQcOyaVfubbbFqO30PF8LYA08j0fNEmIzc5uDCK7iACyrAsMUzc+zLJda3TeiA\n",
       "ddlCWH3RznRxcvSaGLTNkg8avMpRGH61+8DTrBcEqsw22HJMOGr3WLlTsOjdNdMsLZebY8KqFGaW\n",
       "ZLWxcLrZqdzPdvP1oVF9D/UGwAQMiUzcM1BJdxmqRGOYejT6izq4y8WBw8ZEADE3Im+xWraka+2L\n",
       "c+SrhZ1i3X0fLiLCaYslgkwgGkvd30Q1zYadTTTJIAN94Zv1YzTtYBcHuD2PYxfqPeigKH3o1IW3\n",
       "DUA+bs+WuQjDVOUfHFTtS18mv4vyl1AU+hGLeq5FZZo5l062odbF6q3lJoMbryk2C6jbkaAWinZH\n",
       "T3feh9IaxQmasB7awS27no7o/+KXADdf+p0EpxcT6+iKz6LqXp+NYgJd52hIDq1rIQ7X2Xg70tuN\n",
       "87dKuw7oYitceTSQkKEIWzEHXOl6B/QXiVLZnNchz9FUUqj0bPsGCQst5fAiUhQaESkkSarqKPlM\n",
       "CXz6ZPw8nYGrp9XxH7WlYMeN7UnbAjP5aEDbRoBEi9ILO+Bb7Vz5ixK1tJZHNUDuXhAt3BMxeXzZ\n",
       "vUwFTSPYZIT/OjmZhyy4qHI74Y3+55LxGAvlCr7ElqP8C2QWSn0VIoxCeD91YYCS150i0m+BkhX5\n",
       "y9WZlQ/zUSKcWyhGwTBwEjKQ2e2sqoWXKz//+wYFMTQFI5Cv1CvNI9sj3NP6SIBeZ7b8ZyvKXajm\n",
       "vm1VKTViBMDo4TdntmUbpzfkr/aCVtfPwn1UCyPtdmvZk43lBnFgabPu3hP9+C/z++wMqbEfxRKq\n",
       "b+uomJwIVvrnc7UtY0BMJXPyEhVyX8Capfh+V7UPd0yYQ8LyuMQQWsYt0t7ZjmxLPdHVBMhLljAK\n",
       "dnM/josfpN4O5cwAAA5L2zsto4+CCteywAQLvtRZu2vh7OaZXiqF2YBxwWIptNaDLHl8sajgtHUb\n",
       "E9mh6fhUWJGwPWmBElMGeM2H1DYCf7//uIlmQFaYD77w0Jks06b8iDqHV/Nd5ABgtVlAyLZUTJlX\n",
       "ILxQZxmb69zQWDcHdLfpezz4TaWN/fFaBW2Ht2myq94NFfs8paQ+3Q+KwzhB9w0VcrasDDS8uVS1\n",
       "ANdaNdEOT+eBxc46HFZYMBJ5+dc9exn4waQF7NIH+RzlxHVQAml9vlxDUGmpza8aNdy5HXy08py8\n",
       "blvmcxw/uoDX+STr9aI6uiNXoa8DYh5uJcLt0ltzkeH/aNyFb/uASXHrKhdHGPQJXfSKKxPsK9PV\n",
       "yKdbmfZ1/wrgDadhEnhL3DoY6YPTX2ck/1pLWX1qtDPIVdnGKKbLiZVsX8abKTPMep+UCKnpgbgm\n",
       "VpJhPhOr1XUjmC4Z8f+BvDG6Bwrr+37qHCZpiwuoJT/Frp4v92iljBF1EVw0d1oghOO0VaN+mnVU\n",
       "6ylfnOl7+5tAYu5Q8t/8cwEfpxuz9KBr7Z2mVah2NelirAHIUERtkNkR2DzvmEj18aUP3whFkQx2\n",
       "FhVMaWvcQaWoV80GyF3pWM+33NfJmy1+Ppaz3q9ZtJu7yr4fRPFF5iYZAkEHZOIvuGfYFOVQocc4\n",
       "KBH7bdwv7dlay5FJo0libbC/Mb0AY/44snxfyxVUx+LxzFDSzSyNfTZWUt39ZAMgBryfVqemidVk\n",
       "AAACNkGf30URLCv/Ah9hzRsIz2Eg3Jf8mD9oofwG4wAlSNZzHp1kpesxqWNVNg4pGcgcTm/IHj26\n",
       "Lr97AF0QDATuSYpawfdqcD46q3gKXT2Z7EOoThtlL8Xx/vScwAaPfgGQPiTIeG3keo/sOsK0ryK7\n",
       "9eOErKVmncHW+U400gSIYQdL8Tal8V56llV8Q6FSlSOdGdOoS6v8uun7jg87Hc+4mJ/2gYGiaq4R\n",
       "4WJZDF0BbgN8lmmS+7ZDlHHbJBDotb4o0JIcYuNNF+RXyKDm1yeNxEdR873hrT8o/H7g581rE+lh\n",
       "Yl4dQRy4Tf01e+JWkmbZ/w1anEZ59mbZkm6o/VgwJvaxaWxJmaO+tIZLk7AY2R5I77uN4hy/w9GC\n",
       "4HkWDZyq/DAjjeqxWb4N4yoRBzDSfsIGdekz/43YEu4G9LrWx5VoSibds47pJzaXJw6TN0LGh7m+\n",
       "TG7/qLRvlY0IIZ5fFkq18zRqVBeWM7xJP47SxysLySeMtD1rs6CehnJhfqTP9H8JVzaNN1T+aBwP\n",
       "ADeMah1LHzgBooiaFZ0/h0GrOrngVHjtIxP8EtvbTlT83TKiDEtAgKuH2IP3AUfndQo33sSMA1p3\n",
       "9T7ahYgdL+YqD04eo+I9Sn6Jke108mB7UWuINkU0fmDoPj97BsJc4p52ldVf4gf37yKMVaWLPORL\n",
       "SgWmBgxANYVq0rnicdl7HScIKaQSBw2nXorOwutoRZaVMa0z5druGfBnp5eUB9+dk+nI88n3rXep\n",
       "AAABrAGf4GpCvwCsta/WDRuDdZLYRc5ceKV4AtUvrERQXAF1djJV77k+yXCNIuSD2JK2rjS4RdJz\n",
       "rZCswngAITMblwLOqyTgMLisWDkQsGgScZiT6eM/l2MuBWddQI7Q1ZpmizAszaIrVXoBFzIr7q+t\n",
       "gpuw1TW9vIr+gBPbqwBdVgIDkR6k1udibOaUV4HHi3CKpzbQEkgvtymEz5K/32zVADD6MJ43qYnn\n",
       "9KIYpasZISdppBBwLkNv1FglvyumQ4WvV0Whw57qqbEkUygP5dd0pSO+xFIF7IAyb9Z7dvku5rH8\n",
       "NfA84cHSUWzNweHvLpyMTFm3O6ibAVbHfhUdSGhCWflMJZ1SUEv//XIv2nGlBm29sBdX11UOLs7A\n",
       "aTrQU3WOJVBce8OBDszztEaMymA4FwsEUVIiHh5sTIHMhEoKeJEyszo0J/FqtQ/Jt9OCGj4SsTYI\n",
       "Hc/e0kig3E+qQKtPSGEn2eRm+ESy8IMvpTpMczKV3I3Vde5srfnNyWFRUsDuUbG8mIYvkpjZtCcB\n",
       "IGh6p2GgXeJuGTRgWKt/nQotc5msp2RfClxhdJ3GWG/oAAACZ0Gb40moQWyZTBRMK//+OEAMy+lE\n",
       "doHFUABxpTkSlSmrN21TLoCbTXFmsHoyPH7jMEbw0GqQhb0odE4p+g3zYUW/uh2CENsGTR5MO/Y8\n",
       "yNDfXCP1mKFY7C26vSKgXJYa3wjdPnQQfJznGAqFvGWeHSa5rbxeC2TklBobzStUDVDrxx1Mtrql\n",
       "DCPKHNxtBbFal3IYIcJGoCEd/87UDSN3YUxJnhVRWmmpb3yosH8ZtwnBZzU8WqjjFzhfBfH9l0X5\n",
       "lwt2Rmj9zwo6n4bDM4629TZoM88kfN+/wkVq2ywjG6vtL2jgj63yVWOyZcUZZPXJrriktQVKjNtZ\n",
       "M1Gv3hlbVx3VypurpXwUF609CiJS1L0MtgYEeTAO4Sgpp3B0YiPj1ihN6ZO/XADDdC0IiRJOZMVa\n",
       "pg/NVln69IqojkcAU/pMGcde2RGoewbBBJhkO/ltfg/EbJ+2yodr7SWK+VsLLQI6/B5BKMxFyZPS\n",
       "wScVn24VktYIZthMc3N66Hp5pCUeTp6CoyIgjIsVhfGX0KdVDuWOWc40Jlr0OkoSRD97142g4xvJ\n",
       "BGb33hyN5f8xdy09qs8ZNbixw8cYNE1O4cYiQKy8cRJ/wySLwFDIpmy2gFFXHIrTG7vZqC5tNcQo\n",
       "yDqX/aGFLiFMiaBvhyaOfJfVKEp5WQUAqIbOmXQ3nQm5JZhXTXeHCPOA1mm3FOOwei52B22pWAmb\n",
       "qcW72ZccTc4gNijWHf5nCl4Q7MsBiAebrn0gpAMQqbp6HQ5BFRDApHJto/8aW0c7KcHadxjHJYL5\n",
       "lGRpXobPBvrGoN+mQgTtcK/44syMlsZTmwAAAPIBngJqQr8CH2HNGwV4mv1SxNmfnWnlDgUQDBME\n",
       "e9pFPygsvVsSrJUUAzc5rOIpy/kXehnbMu0VULyfUAEQZ4/PNlgfUX1BiUDJA1t4Ds1xZ88sEr+j\n",
       "CGl6ot3fsS8qySROtJVX4OjVSWHX/hcZpTQfI2XH4sVjCLdxynlmLCzFfKR6KOva1E2TG5CXcEPD\n",
       "0cHX+Z1nC08wtlWo7Q4TD8wOt2FKIz8zYG7NDrZYMzCVpENDKb7wCF4XWHPNx5CHHxhszvFgfMvA\n",
       "UclNZr/4bdk9lgoHnhBD93TqUOncVSr67h1ZJqe+7JZrhuPRI6wrYX62sAAAB2Ztb292AAAAbG12\n",
       "aGQAAAAAAAAAAAAAAAAAAAPoAAAPoAABAAABAAAAAAAAAAAAAAAAAQAAAAAAAAAAAAAAAAAAAAEA\n",
       "AAAAAAAAAAAAAAAAAEAAAAAAAAAAAAAAAAAAAAAAAAAAAAAAAAAAAAAAAAACAAAGkHRyYWsAAABc\n",
       "dGtoZAAAAAMAAAAAAAAAAAAAAAEAAAAAAAAPoAAAAAAAAAAAAAAAAAAAAAAAAQAAAAAAAAAAAAAA\n",
       "AAAAAAEAAAAAAAAAAAAAAAAAAEAAAAABsAAAASAAAAAAACRlZHRzAAAAHGVsc3QAAAAAAAAAAQAA\n",
       "D6AAAAQAAAEAAAAABghtZGlhAAAAIG1kaGQAAAAAAAAAAAAAAAAAADIAAADIAFXEAAAAAAAtaGRs\n",
       "cgAAAAAAAAAAdmlkZQAAAAAAAAAAAAAAAFZpZGVvSGFuZGxlcgAAAAWzbWluZgAAABR2bWhkAAAA\n",
       "AQAAAAAAAAAAAAAAJGRpbmYAAAAcZHJlZgAAAAAAAAABAAAADHVybCAAAAABAAAFc3N0YmwAAACz\n",
       "c3RzZAAAAAAAAAABAAAAo2F2YzEAAAAAAAAAAQAAAAAAAAAAAAAAAAAAAAABsAEgAEgAAABIAAAA\n",
       "AAAAAAEAAAAAAAAAAAAAAAAAAAAAAAAAAAAAAAAAAAAAAAAAAAAY//8AAAAxYXZjQwFkABX/4QAY\n",
       "Z2QAFazZQbCWhAAAAwAEAAADAMg8WLZYAQAGaOvjyyLAAAAAHHV1aWRraEDyXyRPxbo5pRvPAyPz\n",
       "AAAAAAAAABhzdHRzAAAAAAAAAAEAAABkAAACAAAAABRzdHNzAAAAAAAAAAEAAAABAAACuGN0dHMA\n",
       "AAAAAAAAVQAAAAIAAAQAAAAAAQAACgAAAAABAAAEAAAAAAEAAAAAAAAAAQAAAgAAAAABAAAGAAAA\n",
       "AAEAAAIAAAAAAQAACgAAAAABAAAEAAAAAAEAAAAAAAAAAQAAAgAAAAABAAAEAAAAAAEAAAgAAAAA\n",
       "AgAAAgAAAAABAAAEAAAAAAEAAAgAAAAAAgAAAgAAAAACAAAEAAAAAAEAAAYAAAAAAQAAAgAAAAAB\n",
       "AAAEAAAAAAEAAAYAAAAAAQAAAgAAAAABAAAKAAAAAAEAAAQAAAAAAQAAAAAAAAABAAACAAAAAAEA\n",
       "AAoAAAAAAQAABAAAAAABAAAAAAAAAAEAAAIAAAAAAQAACAAAAAACAAACAAAAAAEAAAQAAAAAAQAA\n",
       "CAAAAAACAAACAAAAAAEAAAQAAAAAAQAABgAAAAABAAACAAAAAAIAAAQAAAAAAQAABgAAAAABAAAC\n",
       "AAAAAAEAAAgAAAAAAgAAAgAAAAABAAAKAAAAAAEAAAQAAAAAAQAAAAAAAAABAAACAAAAAAEAAAYA\n",
       "AAAAAQAAAgAAAAACAAAEAAAAAAEAAAgAAAAAAgAAAgAAAAABAAAGAAAAAAEAAAIAAAAAAQAACAAA\n",
       "AAACAAACAAAAAAEAAAYAAAAAAQAAAgAAAAABAAAEAAAAAAEAAAgAAAAAAgAAAgAAAAABAAAKAAAA\n",
       "AAEAAAQAAAAAAQAAAAAAAAABAAACAAAAAAEAAAYAAAAAAQAAAgAAAAABAAAKAAAAAAEAAAQAAAAA\n",
       "AQAAAAAAAAABAAACAAAAAAIAAAQAAAAAAQAABgAAAAABAAACAAAAAAEAAAQAAAAAAQAABgAAAAAB\n",
       "AAACAAAAAAEAAAQAAAAAAQAACAAAAAACAAACAAAAAAEAAAgAAAAAAgAAAgAAAAABAAAGAAAAAAEA\n",
       "AAIAAAAAHHN0c2MAAAAAAAAAAQAAAAEAAABkAAAAAQAAAaRzdHN6AAAAAAAAAAAAAABkAAAeLgAA\n",
       "AooAAAZEAAADNgAAAV0AAAG/AAAFVAAAAd0AAAZkAAADRwAAAegAAAHbAAAD/wAABzIAAAL5AAAC\n",
       "NQAABRcAAAcdAAAB/AAAAdQAAAQTAAAEygAABVcAAAFlAAADLAAAASQAAAC4AAAFiwAAAj4AAAFQ\n",
       "AAABlQAABkgAAALWAAAB1AAAAhIAAAV8AAACZAAAAkgAAAUXAAAHrgAAAqcAAAHFAAAEZgAABggA\n",
       "AAHcAAAERwAABOAAAAVqAAABfAAAAGMAAAHDAAAAWQAABWgAAAKXAAABaAAAAZ8AAAS/AAABmwAA\n",
       "A5MAAANyAAAFwAAAAqwAAAIuAAAGkAAAAiQAAAevAAACcQAAAdsAAAVHAAABrAAABDgAAAagAAAC\n",
       "FgAAATcAAAJlAAABgQAAAMUAAADbAAAEwwAAAaMAAAYgAAAC5wAAAUAAAAGeAAADaQAABEAAAAU6\n",
       "AAACMgAABKoAAAYfAAAB1AAABDwAAAYRAAACQgAAAc8AAAV7AAACOgAAAbAAAAJrAAAA9gAAABRz\n",
       "dGNvAAAAAAAAAAEAAAAsAAAAYnVkdGEAAABabWV0YQAAAAAAAAAhaGRscgAAAAAAAAAAbWRpcmFw\n",
       "cGwAAAAAAAAAAAAAAAAtaWxzdAAAACWpdG9vAAAAHWRhdGEAAAABAAAAAExhdmY1OC4xMi4xMDA=\n",
       "\">\n",
       "  Your browser does not support the video tag.\n",
       "</video>"
      ],
      "text/plain": [
       "<IPython.core.display.HTML object>"
      ]
     },
     "execution_count": 30,
     "metadata": {},
     "output_type": "execute_result"
    }
   ],
   "source": [
    "# Show the animation\n",
    "HTML(ani.to_html5_video())"
   ]
  },
  {
   "cell_type": "code",
   "execution_count": 29,
   "metadata": {
    "slideshow": {
     "slide_type": "skip"
    }
   },
   "outputs": [],
   "source": [
    "# Save the animation\n",
    "ani.save('PluckMiddle.mp4')"
   ]
  },
  {
   "cell_type": "markdown",
   "metadata": {
    "slideshow": {
     "slide_type": "slide"
    }
   },
   "source": [
    "## Some videos"
   ]
  },
  {
   "cell_type": "markdown",
   "metadata": {},
   "source": [
    "I find them cool and instructive."
   ]
  },
  {
   "cell_type": "markdown",
   "metadata": {
    "slideshow": {
     "slide_type": "skip"
    }
   },
   "source": [
    "### Bowed Violin String in Slow Motion\n",
    "\n",
    "https://youtu.be/6JeyiM0YNo4"
   ]
  },
  {
   "cell_type": "code",
   "execution_count": 24,
   "metadata": {
    "slideshow": {
     "slide_type": "subslide"
    }
   },
   "outputs": [
    {
     "data": {
      "text/html": [
       "<iframe width=\"560\" height=\"315\" src=\"https://www.youtube.com/embed/6JeyiM0YNo4?start=55\" frameborder=\"0\" allowfullscreen></iframe>"
      ],
      "text/plain": [
       "<IPython.core.display.HTML object>"
      ]
     },
     "execution_count": 24,
     "metadata": {},
     "output_type": "execute_result"
    }
   ],
   "source": [
    "from IPython.display import HTML\n",
    "HTML('<iframe width=\"560\" height=\"315\" src=\"https://www.youtube.com/embed/6JeyiM0YNo4?start=55\" frameborder=\"0\" allowfullscreen></iframe>')"
   ]
  },
  {
   "cell_type": "markdown",
   "metadata": {
    "slideshow": {
     "slide_type": "notes"
    }
   },
   "source": [
    "About this video of a violin string, note that:\n",
    "\n",
    "* The oscillation is created by the bow of the violin, sticking-and-slipping (this is actually a real expression) at a frequency that resonates with the oscillation we see.\n",
    "* When the bow is removed, towards the end of the video, you can see that very quickly, the oscillation becomes like a fundamental oscillation, and nothing else, the kink is gone. That's because in reality, there is damping, and the higher the harmonic is, the stronger the damping acts on it. Indeed, as we saw before, the kink is reproduced by very high modes, and those modes oscillate faster. Assuming (and this is actually a conservative assumption) that the damping force on a mode $n$ can be modeled as something like $-b\\dot y$ again, then it proportional to the frequency: $F_{damping} \\propto \\sum -\\omega_n\\alpha_n\\sin(\\omega_n t)\\sin(k_nx)$. Therefore, the higher a mode is, the faster the damping is. After a short period of time, damping has killed all the modes but the fundamental, which is the last harmonic standing (pun intended).\n",
    "* The violin is out-of-tune to visualize a pattern. The string's oscillations are way too large for a functioning violin."
   ]
  },
  {
   "cell_type": "markdown",
   "metadata": {
    "slideshow": {
     "slide_type": "skip"
    }
   },
   "source": [
    "### Chladni Plate\n",
    "\n",
    "https://youtu.be/wvJAgrUBF4w to complement the class demo."
   ]
  },
  {
   "cell_type": "code",
   "execution_count": 25,
   "metadata": {
    "slideshow": {
     "slide_type": "subslide"
    }
   },
   "outputs": [
    {
     "data": {
      "text/html": [
       "<iframe width=\"560\" height=\"315\" src=\"https://www.youtube.com/embed/wvJAgrUBF4w\" frameborder=\"0\" allowfullscreen></iframe>"
      ],
      "text/plain": [
       "<IPython.core.display.HTML object>"
      ]
     },
     "execution_count": 25,
     "metadata": {},
     "output_type": "execute_result"
    }
   ],
   "source": [
    "HTML('<iframe width=\"560\" height=\"315\" src=\"https://www.youtube.com/embed/wvJAgrUBF4w\" frameborder=\"0\" allowfullscreen></iframe>')"
   ]
  },
  {
   "cell_type": "markdown",
   "metadata": {
    "slideshow": {
     "slide_type": "-"
    }
   },
   "source": [
    "For an in-house explanation, see the web page, created by our very own Prof. Stephen Morris: https://www.physics.utoronto.ca/~nonlin/chladni.html"
   ]
  },
  {
   "cell_type": "markdown",
   "metadata": {
    "slideshow": {
     "slide_type": "skip"
    }
   },
   "source": [
    "### Fourier Analysis (and guitar jammin')\n",
    "\n",
    "https://youtu.be/u1Lz8pm2npQ\n",
    "\n",
    "I love it and I hate it: this guy makes me look lame. Goes way beyond what I covered, in a compressed amount of time."
   ]
  },
  {
   "cell_type": "code",
   "execution_count": 26,
   "metadata": {
    "slideshow": {
     "slide_type": "subslide"
    }
   },
   "outputs": [
    {
     "data": {
      "text/html": [
       "<iframe width=\"560\" height=\"315\" src=\"https://www.youtube.com/embed/u1Lz8pm2npQ\" frameborder=\"0\" allowfullscreen></iframe>"
      ],
      "text/plain": [
       "<IPython.core.display.HTML object>"
      ]
     },
     "execution_count": 26,
     "metadata": {},
     "output_type": "execute_result"
    }
   ],
   "source": [
    "HTML('<iframe width=\"560\" height=\"315\" src=\"https://www.youtube.com/embed/u1Lz8pm2npQ\" frameborder=\"0\" allowfullscreen></iframe>')"
   ]
  },
  {
   "cell_type": "markdown",
   "metadata": {
    "slideshow": {
     "slide_type": "skip"
    }
   },
   "source": [
    "### Ruben's Tubes\n",
    "\n",
    "https://youtu.be/2awbKQ2DLRE\n",
    "\n",
    "The first minute of the video is pretty instructive, but the entire video is like a pyrotechnical version of a Chladni plate."
   ]
  },
  {
   "cell_type": "code",
   "execution_count": 27,
   "metadata": {
    "slideshow": {
     "slide_type": "subslide"
    }
   },
   "outputs": [
    {
     "data": {
      "text/html": [
       "<iframe width=\"560\" height=\"315\" src=\"https://www.youtube.com/embed/2awbKQ2DLRE\" frameborder=\"0\" allowfullscreen></iframe>"
      ],
      "text/plain": [
       "<IPython.core.display.HTML object>"
      ]
     },
     "execution_count": 27,
     "metadata": {},
     "output_type": "execute_result"
    }
   ],
   "source": [
    "HTML('<iframe width=\"560\" height=\"315\" src=\"https://www.youtube.com/embed/2awbKQ2DLRE\" frameborder=\"0\" allowfullscreen></iframe>')"
   ]
  },
  {
   "cell_type": "markdown",
   "metadata": {
    "slideshow": {
     "slide_type": "skip"
    }
   },
   "source": [
    "### The Walking Water Mystery\n",
    "\n",
    "https://youtu.be/KJDEsAy9RyM\n",
    "\n",
    "The connection with standing waves may not be obvious at first. Jump to 4'15 or 8'14 if you are impatient, but the whole thing is worth a watch. Awesome stuff at 9'30."
   ]
  },
  {
   "cell_type": "code",
   "execution_count": 28,
   "metadata": {
    "slideshow": {
     "slide_type": "subslide"
    }
   },
   "outputs": [
    {
     "data": {
      "text/html": [
       "<iframe width=\"560\" height=\"315\" src=\"https://www.youtube.com/embed/KJDEsAy9RyM\" frameborder=\"0\" allowfullscreen></iframe>"
      ],
      "text/plain": [
       "<IPython.core.display.HTML object>"
      ]
     },
     "execution_count": 28,
     "metadata": {},
     "output_type": "execute_result"
    }
   ],
   "source": [
    "HTML('<iframe width=\"560\" height=\"315\" src=\"https://www.youtube.com/embed/KJDEsAy9RyM\" frameborder=\"0\" allowfullscreen></iframe>')"
   ]
  },
  {
   "cell_type": "markdown",
   "metadata": {
    "slideshow": {
     "slide_type": "skip"
    }
   },
   "source": [
    "# Energy of Standing Waves\n",
    "\n",
    "*[King: §§ 6.3 and 6.4.4; skipped parts of the derivations also found in § 5.5]*"
   ]
  },
  {
   "cell_type": "markdown",
   "metadata": {
    "slideshow": {
     "slide_type": "skip"
    }
   },
   "source": [
    "The energy per unit length of the string is (cf. King § 5.5):\n",
    "$$E =  \\frac12 \\mu \\int_0^L \\left[\\left(\\pde{y}t\\right)^2 + v^2\\left(\\pde{y}x\\right)^2 \\right]\\di x,$$\n",
    "where the first part in the integral corresponds to the kinetic energy and the second part corresponds to the potential energy stored when the string moves away from its rest position ad gets stretched or compressed a little."
   ]
  },
  {
   "cell_type": "markdown",
   "metadata": {
    "slideshow": {
     "slide_type": "skip"
    }
   },
   "source": [
    "## Single Mode"
   ]
  },
  {
   "cell_type": "markdown",
   "metadata": {
    "slideshow": {
     "slide_type": "skip"
    }
   },
   "source": [
    "For a single mode, and assuming for simplicity that $V(x) = 0$,\n",
    "$$y(t, x) = y_n(t, x) = A_n \\cos(\\omega_n t)\\sin(k_n x),$$\n",
    "$$\\pde{y}t = -\\omega_n A_n \\sin(\\omega_n t)\\sin(k_n x),\\textrm{ and}$$\n",
    "$$\\pde{y}x = k_n A_n \\cos(\\omega_n t)\\cos(k_n x).$$"
   ]
  },
  {
   "cell_type": "markdown",
   "metadata": {
    "slideshow": {
     "slide_type": "skip"
    }
   },
   "source": [
    "Substituting into the expression for energy,\n",
    "\\begin{align*}\n",
    "    E_n & = \\frac12 \\mu \\int_0^L \\left[\\omega_n^2 A_n^2 \\sin^2(\\omega_n t)\\sin^2(k_n x)  + v^2k_n^2 A_n^2 \\cos^2(\\omega_n t)\\cos^2(k_n x)\\right]\\di x, \\\\\n",
    "        & = \\frac12 \\mu \\omega_n^2 A_n^2 \\left[\\sin^2(\\omega_n t)\\int_0^L \\sin^2(k_n x)\\di x + \\cos^2(\\omega_n t)\\int_0^L\\cos^2(k_n x)\\di x\\right].\n",
    "\\end{align*}"
   ]
  },
  {
   "cell_type": "markdown",
   "metadata": {
    "slideshow": {
     "slide_type": "skip"
    }
   },
   "source": [
    "You can compute (in which case you could use $\\cos^2 + \\sin^2 = 1$), or convince yourself by drawing $\\cos^2$ and $\\sin^2$, that the two integrals are the same:\n",
    "$$\\int_0^L \\sin^2(k_n x)\\di x = \\int_0^L \\cos^2(k_n x)\\di x = \\frac{L}2.$$"
   ]
  },
  {
   "cell_type": "markdown",
   "metadata": {
    "slideshow": {
     "slide_type": "skip"
    }
   },
   "source": [
    "And because $\\cos^2(\\omega_n t) + \\sin^2(\\omega_n t) = 1$,\n",
    "$$\\boxed{E_n = \\frac14\\mu L\\omega_n^2 A_n^2}.$$"
   ]
  },
  {
   "cell_type": "markdown",
   "metadata": {
    "slideshow": {
     "slide_type": "skip"
    }
   },
   "source": [
    "The expression above may look silly to remember, but there actually is physics in there, it is not so complicated, and I would like you to remember it.\n",
    "The energy of the SHO was already $kA^2/2 = m\\omega_0^2 A^2/2$, and so, if you could remember the energy of the SHO, you can remember this one.\n",
    "\n",
    "* $E_n \\propto m = \\mu L$, the mass of the string. Why not.\n",
    "* $E_n \\propto A_n^2$: quadratic dependence of the energy on the amplitude, a super-duper general statement that you have been needing to remember from the start of this lecture series,\n",
    "* $E_n \\propto \\omega_n^2$: looking straight at it, this looks new. But the energy of the SHO was already proportional to $k = m\\omega_0^2$, so, this is actually not that new. But it is important to remember it this way! \"Everything else being equal, a mode that oscillates twice as fast has four times the energy.\"\n",
    "* factor $1/4$: this one can be annoying because it is not $1/2$, and I forget about it all the time myself. I try to get around this problem by remembering that $L = 2n\\lambda_n$, and so $\\mu L/4 = n\\mu\\lambda_n/2$: the energy in one wavelength is $E_n/n = (m_n \\omega_n^2 A_n^2)/2$, with $m_n = \\mu \\lambda_n$ the mass of string in one wavelength. The pre-factor is not as important to remember as the other scalings though."
   ]
  },
  {
   "cell_type": "markdown",
   "metadata": {
    "slideshow": {
     "slide_type": "skip"
    }
   },
   "source": [
    "If we had different boundary conditions, we may have a combination of $\\sin(k_n x)$ and $\\cos(k_n x)$ in $y_n(t, x)$, but the derivation would be conceptually the same."
   ]
  },
  {
   "cell_type": "markdown",
   "metadata": {
    "slideshow": {
     "slide_type": "skip"
    }
   },
   "source": [
    "## Many modes"
   ]
  },
  {
   "cell_type": "markdown",
   "metadata": {
    "slideshow": {
     "slide_type": "skip"
    }
   },
   "source": [
    "With more than one mode,\n",
    "$$ y(t, x) = \\sum_{n=1}^\\infty A_n \\cos(\\omega_n t + \\phi_n)\\sin(k_n x).$$\n",
    "Let's discard $\\phi_n$, for example by assuming $V(x) = 0$."
   ]
  },
  {
   "cell_type": "markdown",
   "metadata": {
    "slideshow": {
     "slide_type": "skip"
    }
   },
   "source": [
    "\\begin{align*}\n",
    "    \\pde{y}t & = -\\sum_{n=1}^\\infty \\omega_n A_n \\sin(\\omega_n t)\\sin(k_n x),\\textrm{ and}\\\\\n",
    "    \\left(\\pde{y}t\\right)^2 & = \\left[\\sum_{n=1}^\\infty \\omega_n A_n \\sin(\\omega_n t)\\sin(k_n x)\\right]\\left[\\sum_{m=1}^\\infty \\omega_m A_m \\sin(\\omega_m t)\\sin(k_m x)\\right] \\\\\n",
    "                            & = \\sum_{n=1}^\\infty \\left(\\omega_n A_n \\sin(\\omega_n t)\\sin(k_n x)\\right)^2 + 2\\sum_{m=1}^\\infty\\sum_{n=m+1}^\\infty \\omega_m A_m\\omega_n A_n \\sin(\\omega_m t)\\sin(k_m x)\\sin(\\omega_n t)\\sin(k_n x).\n",
    "\\end{align*}"
   ]
  },
  {
   "cell_type": "markdown",
   "metadata": {
    "slideshow": {
     "slide_type": "skip"
    }
   },
   "source": [
    "Notice the $2\\sum_{m=1}^{\\infty}\\sum_{n=m+1}^{\\infty}$ double sum (like I need to remind you of it).\n",
    "The factor 2 is here because each term that has $m\\neq n$ will appear twice, say, the couples $\\{m=1, n=2\\}$ and $\\{m=2, n=1\\}$ each appear once, but lead to the same expression. Might as well just sum them once, but make them count twice.\n",
    "We start the second sum at $n=m+1$, not $n=m$, because the $n=m$ case is treated separately, in the first summation."
   ]
  },
  {
   "cell_type": "markdown",
   "metadata": {
    "slideshow": {
     "slide_type": "skip"
    }
   },
   "source": [
    "Before going any further, let us not forget that eventually, we will integrate these sums over $[0, L]$.\n",
    "In particular, the double sum will only contain terms proportional to \n",
    "$$\\int_0^L\\sin(k_m x)\\sin(k_n x) \\di x = 0\\quad \\textrm{because}\\quad n\\neq m.$$\n",
    "Therefore, \n",
    "$$ \\int_0^L \\left(\\pde{y}t\\right)^2 \\di x = \\sum_{n=1}^\\infty \\int_0^L \\left[\\omega_n A_n \\sin(\\omega_n t)\\sin(k_n x)\\right]^2 \\di x = \\sum_{n=1}^\\infty \\int_0^L \\left(\\pde{y_n}{t}\\right)^2 \\di x. $$\n"
   ]
  },
  {
   "cell_type": "markdown",
   "metadata": {
    "slideshow": {
     "slide_type": "skip"
    }
   },
   "source": [
    "A very similar derivation leads to\n",
    "$$ \\int_0^L\\left(\\pde{y}x\\right)^2\\di x = \\sum_{n=1}^\\infty\\int_0^L \\left(\\pde{y_n}{x}\\right)^2 \\di x, $$\n",
    "and therefore,\n",
    "$$\\boxed{E = \\sum_{n=1}^\\infty E_n} = \\frac{1}{2}\\mu L \\sum_{n=1}^\\infty \\omega_n^2 A_n^2.$$\n",
    "\n",
    "If you look back on your lectures on Fourier series, there should be a piece about Parseval's theorem. You may realize that the framed expression above is actually an application of it."
   ]
  },
  {
   "cell_type": "markdown",
   "metadata": {
    "slideshow": {
     "slide_type": "skip"
    }
   },
   "source": [
    "Just like for coupled oscillators, **each mode has its own energy, it does not communicate it to any other mode, and the total energy is the sum of the energy of each mode.** Remember it!"
   ]
  },
  {
   "cell_type": "markdown",
   "metadata": {
    "slideshow": {
     "slide_type": "skip"
    }
   },
   "source": [
    "## Power Spectra"
   ]
  },
  {
   "cell_type": "markdown",
   "metadata": {
    "slideshow": {
     "slide_type": "skip"
    }
   },
   "source": [
    "Power spectra are plots of $E_n$ vs. $\\omega_n$. The result is a bar plot like the amplitude spectra I showed before. \n",
    "The most visually striking differences would be that all values would be positive, and the bars heights would fall off more rapidly as $n$ increases, because $E_n \\propto A_n^2\\omega_n^2$ instead of $A_n$.\n",
    "Power spectra are much more widely used that amplitude spectra."
   ]
  }
 ],
 "metadata": {
  "anaconda-cloud": {},
  "celltoolbar": "Slideshow",
  "kernelspec": {
   "display_name": "Python [default]",
   "language": "python",
   "name": "python3"
  },
  "language_info": {
   "codemirror_mode": {
    "name": "ipython",
    "version": 3
   },
   "file_extension": ".py",
   "mimetype": "text/x-python",
   "name": "python",
   "nbconvert_exporter": "python",
   "pygments_lexer": "ipython3",
   "version": "3.5.6"
  }
 },
 "nbformat": 4,
 "nbformat_minor": 1
}
