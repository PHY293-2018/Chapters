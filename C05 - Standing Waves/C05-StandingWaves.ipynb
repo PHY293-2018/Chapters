{
 "cells": [
  {
   "cell_type": "raw",
   "metadata": {
    "raw_mimetype": "text/latex",
    "scrolled": true,
    "slideshow": {
     "slide_type": "skip"
    }
   },
   "source": [
    "\\newcommand{\\rads}{~rad.s$^{-1}$}\n",
    "\\newcommand{\\bnabla}{\\boldsymbol{\\nabla}}\n",
    "\\newcommand{\\eexp}[1]{\\textrm{e}^{#1}}\n",
    "\\newcommand{\\glm}[1]{\\overline{#1}^L}\n",
    "\\newcommand{\\di}[0]{\\textrm{d}}\n",
    "\\newcommand{\\bs}[1]{\\boldsymbol{#1}}\n",
    "\\newcommand{\\ode}[2]{\\frac{\\di {#1}}{\\di {#2}}}\n",
    "\\newcommand{\\oden}[3]{\\frac{\\di^{#1} {#2}}{\\di {#3}^{#1}}}\n",
    "\\newcommand{\\odel}[2]{\\di {#1}/\\di {#2}}\n",
    "\\newcommand{\\odeln}[3]{\\di^{#1} {#2}/\\di {#3}^{#1}}\n",
    "\\newcommand{\\pde}[2]{\\frac{\\partial {#1}}{\\partial {#2}}}\n",
    "\\newcommand{\\pden}[3]{\\frac{\\partial^{#1} {#2}}{\\partial {#3}^{#1}}}\n",
    "\\newcommand{\\pdel}[2]{\\partial_{#2} {#1}}\n",
    "\\newcommand{\\pdenl}[3]{\\partial^{#1}_{#3} {#2}}\n",
    "\\newcommand{\\divr}[1]{\\vec\\nabla \\cdot {#1}}\n",
    "\\newcommand{\\divrb}[1]{\\boldsymbol{\\nabla} \\cdot {#1}}\n",
    "\\newcommand{\\grad}[1]{\\vec \\nabla {#1}}\n",
    "\\newcommand{\\gradb}[1]{\\boldsymbol\\nabla {#1}}\n",
    "\\newcommand{\\curl}[1]{\\vec\\nabla \\times {#1}}\n",
    "\\newcommand{\\curlb}[1]{\\boldsymbol{\\nabla}\\times\\boldsymbol{#1}}\n",
    "\\newcommand{\\lapl}[0]{\\vec\\nabla^2}\n",
    "\\newcommand{\\laplb}[0]{\\boldsymbol{\\nabla}^2}\n",
    "\\newcommand{\\cplxi}[0]{\\mathrm i}\n",
    "\\newcommand{\\unit}[1]{\\mathbf{\\hat{#1}}}\n",
    "\\newcommand{\\thrfor}[0]{\\quad\\Rightarrow\\quad}\n",
    "\\newcommand{\\and}[0]{\\quad\\textrm{and}\\quad}\n",
    "\\newcommand{\\oreq}[0]{\\quad\\textrm{or}\\quad}\n",
    "\\newcommand{\\red}[1]{\\textcolor{red}{#1}}\n",
    "\\newcommand{\\blue}[1]{\\textcolor{blue}{#1}}\n",
    "\\newcommand{\\mage}[1]{\\textcolor{magenta}{#1}}\n",
    "\\newcommand{\\stirling}[2]{\\genfrac{[}{]}{0pt}{}{#1}{#2}}"
   ]
  },
  {
   "cell_type": "raw",
   "metadata": {
    "raw_mimetype": "text/latex",
    "slideshow": {
     "slide_type": "skip"
    }
   },
   "source": [
    "\\DefineVerbatimEnvironment{Verbatim}{Verbatim}{fontsize=\\scriptsize}"
   ]
  },
  {
   "cell_type": "markdown",
   "metadata": {
    "slideshow": {
     "slide_type": "skip"
    }
   },
   "source": [
    "$\\newcommand{\\rads}{~rad.s$^{-1}$}$\n",
    "$\\newcommand{\\bnabla}{\\boldsymbol{\\nabla}}$\n",
    "$\\newcommand{\\eexp}[1]{\\textrm{e}^{#1}}$\n",
    "$\\newcommand{\\glm}[1]{\\overline{#1}^L}$\n",
    "$\\newcommand{\\di}[0]{\\textrm{d}}$\n",
    "$\\newcommand{\\bs}[1]{\\boldsymbol{#1}}$\n",
    "$\\newcommand{\\ode}[2]{\\frac{\\di {#1}}{\\di {#2}}}$\n",
    "$\\newcommand{\\oden}[3]{\\frac{\\di^{#1} {#2}}{\\di {#3}^{#1}}}$\n",
    "$\\newcommand{\\odel}[2]{\\di {#1}/\\di {#2}}$\n",
    "$\\newcommand{\\odeln}[3]{\\di^{#1} {#2}/\\di {#3}^{#1}}$\n",
    "$\\newcommand{\\pde}[2]{\\frac{\\partial {#1}}{\\partial {#2}}}$\n",
    "$\\newcommand{\\pden}[3]{\\frac{\\partial^{#1} {#2}}{\\partial {#3}^{#1}}}$\n",
    "$\\newcommand{\\pdel}[2]{\\partial_{#2} {#1}}$\n",
    "$\\newcommand{\\pdenl}[3]{\\partial^{#1}_{#3} {#2}}$\n",
    "$\\newcommand{\\mde}[1]{\\frac{\\textrm{D} {#1}}{\\textrm{D} t}}$\n",
    "$\\newcommand{\\mdel}[1]{\\textrm{D}_t {#1}}$\n",
    "$\\newcommand{\\divr}[1]{\\vec\\nabla \\cdot {#1}}$\n",
    "$\\newcommand{\\divrb}[1]{\\boldsymbol{\\nabla} \\cdot {#1}}$\n",
    "$\\newcommand{\\grad}[1]{\\vec \\nabla {#1}}$\n",
    "$\\newcommand{\\gradb}[1]{\\boldsymbol\\nabla {#1}}$\n",
    "$\\newcommand{\\curl}[1]{\\vec\\nabla \\times {#1}}$\n",
    "$\\newcommand{\\curlb}[1]{\\boldsymbol{\\nabla}\\times\\boldsymbol{#1}}$\n",
    "$\\newcommand{\\lapl}[0]{\\vec\\nabla^2}$\n",
    "$\\newcommand{\\laplb}[0]{\\boldsymbol{\\nabla}^2}$\n",
    "$\\newcommand{\\cplxi}[0]{\\mathrm i}$\n",
    "$\\newcommand{\\unit}[1]{\\mathbf{\\hat{#1}}}$\n",
    "$\\newcommand{\\thrfor}[0]{\\quad\\Rightarrow\\quad}$\n",
    "$\\newcommand{\\and}[0]{\\quad\\textrm{and}\\quad}$\n",
    "$\\newcommand{\\oreq}[0]{\\quad\\textrm{or}\\quad}$\n",
    "$\\newcommand{\\red}[1]{\\textcolor{red}{#1}}$\n",
    "$\\newcommand{\\blue}[1]{\\textcolor{blue}{#1}}$\n",
    "$\\newcommand{\\mage}[1]{\\textcolor{magenta}{#1}}$\n",
    "$\\newcommand{\\stirling}[2]{\\genfrac{[}{]}{0pt}{}{#1}{#2}}$"
   ]
  },
  {
   "cell_type": "markdown",
   "metadata": {
    "slideshow": {
     "slide_type": "skip"
    }
   },
   "source": [
    "*[Book: varies from section to section.]*"
   ]
  },
  {
   "cell_type": "markdown",
   "metadata": {
    "slideshow": {
     "slide_type": "skip"
    }
   },
   "source": [
    "# Introduction"
   ]
  },
  {
   "cell_type": "markdown",
   "metadata": {
    "slideshow": {
     "slide_type": "skip"
    }
   },
   "source": [
    "It is difficult to define what a wave is, but it is easy to recognise one.\n",
    "Perhaps the most general definition of a linear wave is that it is a travelling disturbance, although one by which no matter travels on average.\n",
    "For example, sound waves are pressure waves. \n",
    "At the microscopic level, molecules of a fluid \"bump\" into each other, but return to their original position on average.\n",
    "The restoring force is simply provided by return of momentum to sender at shock, and damping can happen if the shocks are not completely elastic.\n",
    "The position of a molecule can therefore be very crudely modelled as a SHO or DHO.\n",
    "In a solid, it is the displacement of the atoms around their preferred rest position when the wave travels that in turn displaces neighbouring atoms, etc.\n",
    "On average however, the atoms themselves do not travel.\n",
    "I could multiply the examples: swell, waves in a pond, seismic waves, electromagnetic waves, gravitational waves, my very own oceanic internal inertia-gravity waves, stadium waves, and of course the quantum waves that Profs. Krieger and Paramekanti will talk about in the rest of PHY293 and 294."
   ]
  },
  {
   "cell_type": "markdown",
   "metadata": {
    "slideshow": {
     "slide_type": "skip"
    }
   },
   "source": [
    "Waves travel in a continuum.\n",
    "Sometimes the continuum is an approximation of a discrete medium, like a gas of molecules or a crystal being approximated as a smooth, \"grainless\" medium, or like a super long chain of masses attached by springs.\n",
    "And sometimes, the medium is actually a continuum.\n",
    "For example, the ultimate continuum is vacuum, which can support the propagation of EM waves."
   ]
  },
  {
   "cell_type": "markdown",
   "metadata": {
    "slideshow": {
     "slide_type": "skip"
    }
   },
   "source": [
    "A continuum can therefore be modeled as an infinite number of oscillators, coupled together.\n",
    "Based on the results of the previous chapters, an infinite number of modes of oscillations can arise.\n",
    "As in the previous chapter, a given mode will be characterized by a certain number of nodes and antinodes.\n",
    "If the boundaries are constrained enough that they force the creation of nodes (like our coupled masses attached to walls or strings on a guitar) or antinodes (like when one blows in a flute, or water waves against a vertical wall), the waves are called \"standing waves\".\n",
    "Their formalism is very close to the types of eigenvalue problems we encountered in the previous chapter, which we describe now."
   ]
  },
  {
   "cell_type": "markdown",
   "metadata": {
    "slideshow": {
     "slide_type": "skip"
    }
   },
   "source": [
    "# Expectations"
   ]
  },
  {
   "cell_type": "markdown",
   "metadata": {
    "slideshow": {
     "slide_type": "skip"
    }
   },
   "source": [
    "## Remember\n",
    "\n",
    "* **The wave equation!!!**\n",
    "* What the phase speed is.\n",
    "* What the separation of variables method is.\n",
    "* The expression of the phase speed for a taut string (useful during tests).\n",
    "* The meaning and definitions of the wavenumbers $k_n$, angular frequencies $\\omega_n$ and wavelengths $\\lambda_n$.\n",
    "* The orthogonality relations for sines and cosines.\n",
    "* The energy of any solution is the sum of the energies of each single mode."
   ]
  },
  {
   "cell_type": "markdown",
   "metadata": {
    "slideshow": {
     "slide_type": "skip"
    }
   },
   "source": [
    "## Understand\n",
    "\n",
    "* Why standing wave modes are orthogonal normal modes of the vibrating taut string.\n",
    "* How and why standing wave modes behave like simple harmonic oscillators.\n",
    "* How boundary conditions make the set of possible $k_n$ discrete (countably infinite)."
   ]
  },
  {
   "cell_type": "markdown",
   "metadata": {
    "slideshow": {
     "slide_type": "skip"
    }
   },
   "source": [
    "## Apply\n",
    "\n",
    "* Apply boundary conditions to standing wave modes.\n",
    "* Anything that appears in the worked examples, tutorials and problem sets."
   ]
  },
  {
   "cell_type": "markdown",
   "metadata": {
    "slideshow": {
     "slide_type": "skip"
    }
   },
   "source": [
    "# The Taut String"
   ]
  },
  {
   "cell_type": "markdown",
   "metadata": {
    "slideshow": {
     "slide_type": "skip"
    }
   },
   "source": [
    "Following the spirit of this lecture series, we are only interested in the equations themselves, not the physical coefficients. \n",
    "This is because the linear equations are generic, while the coefficients will better be derived in specialized courses.\n",
    "Therefore, we choose a propagation medium, that is as simple as we can: the taut string[^1].\n",
    "Because it is taut, shaking does not induce large displacements of the string, nor does it induce large slopes of the string.\n",
    "That is, $\\tan\\theta = \\odel{y}x \\ll 1$, where $x$ is the along-string direction and $y$ is the across-string direction (cf. fig. 5.8 of King, reproduced here; we assume that the string vibrations only happen in a plane, which means that we do not need a third dimension to describe it; adding a third dimension would be meaningful if we were interested in the Physics, while we only care about the general behaviour of the equation).\n",
    "\n",
    "[^1]: I had to look it up, other non-native English speakers might want to know that according to dictionary.com, it means tightly drawn; tense; not slack."
   ]
  },
  {
   "cell_type": "markdown",
   "metadata": {
    "slideshow": {
     "slide_type": "skip"
    }
   },
   "source": [
    "The smallness of the parameter means that the oscillations of a piece of string are linear.\n",
    "A restoring force brings the string back to the main axis, and each piece of string can be described as a simple or damped harmonic oscillator, coupled to its neighbours to the left and right.\n",
    "Because the piece of spring can be arbitrarily small, the number of coupled oscillators is infinite.\n",
    "Therefore, we have all the ingredients to study the wave equation."
   ]
  },
  {
   "cell_type": "markdown",
   "metadata": {
    "slideshow": {
     "slide_type": "skip"
    }
   },
   "source": [
    "![Fig. 1: King 5.8](String.png)"
   ]
  },
  {
   "cell_type": "markdown",
   "metadata": {
    "slideshow": {
     "slide_type": "slide"
    }
   },
   "source": [
    "# The Wave Equation"
   ]
  },
  {
   "cell_type": "markdown",
   "metadata": {
    "slideshow": {
     "slide_type": "skip"
    }
   },
   "source": [
    "*[Book: §§ 5.1, 5.3]*"
   ]
  },
  {
   "cell_type": "markdown",
   "metadata": {},
   "source": [
    "Let's break down the string into infinitesimally small slices, and let's consider in particular a piece of string that is located between $x_0$ and $x_0 + \\delta x$ (see fig. 1).\n",
    "The transverse displacements are along the $y$-axis, and we identify them as $y(x, t)$.\n",
    "The string has pass per unit length $\\mu$ (in kg/m), and is submitted to a tension $T$ (in N), which we treat as constant along the string.\n",
    "At the ends of the tiny slice, the string makes an angle $\\theta$ with the $x$-axis at $x_0$, and $\\theta + \\delta \\theta$ at $x_0+\\delta x$ (again, see fig. 1).\n",
    "\n",
    "Let's do the Newton, $m\\vec a = \\sum \\vec F$, on that piece of string ($m = \\mu \\delta x$).\n",
    "Actually, we are only interested in the transverse phenomena, i.e., $m\\ddot y = \\sum F_y$.\n",
    "\n",
    "Therefore, let's consider the $y$-component of the tension, because it is the one that restores the position of the string to its resting, along-$x$ situation.\n",
    "At $x=x_0$, the $y$-component of the tension is \n",
    "$$\\left.F_y\\right|_{x_0} = -T\\sin\\theta \\approx -T\\theta \\approx -T\\tan\\theta = -T\\left.\\pde{y}x\\right|_{x_0}.$$\n",
    "The minus sign is because if $\\theta > 0$, the force pulls in the negative direction (see fig. 1).\n",
    "The successive approximations I made above work well in the small-displacements regime.\n",
    "The regime corresponds to the **linear regime** of this physical system, the only one we tackle in this course.\n",
    "\n",
    "Similarly, at $x=x_0 + \\delta x$,\n",
    "$$\\left.F_y\\right|_{x_0+\\delta x} \\approx T\\left.\\pde{y}x\\right|_{x_0+\\delta x}.$$\n",
    "Note the positive sign this time, because the situation is opposite as before.\n",
    "\n",
    "The slice is infinitesimally small, and we have no reason to believe that a discontinuity exists between $x_0$ and $x_0 + \\delta x$ (if there is one, then we just pick a smaller $\\delta x$).\n",
    "For these reasons, we can Taylor-expand $\\left.F_y\\right|_{x_0+\\delta x}$ into\n",
    "$$ \\left.F_y\\right|_{x_0+\\delta x} \\approx T \\left(\\left. \\pde{y}x \\right|_{x_0} + \\delta x \\left. \\pde{}x\\pde{y}x \\right|_{x_0} \\right) = -\\left.F_y\\right|_{x_0} + \\delta x \\, T \\left. \\pden2{y}x \\right|_{x_0}.$$\n",
    "\n",
    "Neglecting all other forces like gravity, Newton then tells you that\n",
    "$$ \\mu \\delta x \\pden2yt = \\left.F_y\\right|_{x_0} + \\left.F_y\\right|_{x_0 + \\delta} \\approx \\delta x \\, T \\left. \\pden2{y}x \\right|_{x_0}.$$"
   ]
  },
  {
   "cell_type": "markdown",
   "metadata": {
    "slideshow": {
     "slide_type": "-"
    }
   },
   "source": [
    "Dividing by the mass and introducing $v^2 = T/\\mu$, we find\n",
    "$$ \\boxed{\\pden2yt = v^2\\pden2yx}.\\hspace{5cm} (1)$$"
   ]
  },
  {
   "cell_type": "markdown",
   "metadata": {
    "slideshow": {
     "slide_type": "skip"
    }
   },
   "source": [
    "Again, $y(x,t)$ is the distance from axis at location $x$ and time $t$, and $v$ is the so-called *phase speed* of the waves.\n",
    "It is the speed at which the disturbance propagates along the string, and we treat it as a constant.\n",
    "This is a vague definition at this point, because we don't have all the tools necessary to understand the subtleties of propagation speed.\n",
    "But basically, imagine launching a wave pulse on a long rope (cf. King fig. 5.1, reproduced here), and imagine that somehow, the motion of your hand described a so-called \"Gaussian function\" $y(t) = A\\exp[-(t-t_0)^2/\\sigma_t^2]$.\n",
    "This function means that your hand motion went from 0 at $t \\ll t_0$ to $A$ at $t=t_0$ and back to 0 for $t \\to \\infty$, and that the motion typically lasted a duration of $2\\sigma_t$.\n",
    "This function look like a bell curve and is one of the most frequently encountered functions in physics."
   ]
  },
  {
   "cell_type": "markdown",
   "metadata": {
    "slideshow": {
     "slide_type": "subslide"
    }
   },
   "source": [
    "![King 5.1](RopePulse.png)"
   ]
  },
  {
   "cell_type": "markdown",
   "metadata": {
    "slideshow": {
     "slide_type": "skip"
    }
   },
   "source": [
    "Assuming that the waves on the rope are not too dispersive (we will see later what this means precisely), i.e., the pulse retains it shape, then the shape of the pulse on the rope will be\n",
    "$$ y(x, t) = A \\exp\\left[-\\left(\\frac{x - vt}{\\sigma_x}\\right)^2\\right] = A \\exp\\left[-\\left(\\frac{t - x/v}{\\sigma_t}\\right)^2\\right],$$\n",
    "i.e, it will look like a Gaussian function in space, propagating with a speed $v$, with a typical spatial width of $2\\sigma_x = 2v\\sigma_t$, but also in time, with a typical temporal width $2\\sigma_t$."
   ]
  },
  {
   "cell_type": "code",
   "execution_count": 3,
   "metadata": {
    "slideshow": {
     "slide_type": "skip"
    }
   },
   "outputs": [],
   "source": [
    "# We can plot this\n",
    "import numpy as np\n",
    "import matplotlib.pyplot as plt\n",
    "\n",
    "x = np.linspace(-1., 5.0, 1024)  # a 4-m long rope\n",
    "sigma_x = 0.5  # typical width of pulse\n",
    "A = 1.  # amplitude of diplacement 1 m (just for illustration purposes)\n",
    "v = 1.  # propagation velocity 1 m/s (for illustration purposes)\n",
    "t0 = 0.  # time of first snapshot\n",
    "t1 = 2.  # time of second snapshot\n",
    "ftsz = 13  # the font size\n",
    "\n",
    "y_t0 = A*np.exp(-((x - v*t0)/sigma_x)**2)\n",
    "y_t1 = A*np.exp(-((x - v*t1)/sigma_x)**2)\n",
    "\n",
    "plt.figure()\n",
    "ax = plt.gca()\n",
    "ax.plot(x, y_t0, 'b', label='pulse at $t=t_0$')\n",
    "ax.plot(x, y_t1, 'r--', label='pulse at $t=t_0+\\Delta t$')\n",
    "ax.set_xlabel('$x$ [m]', fontsize=ftsz)\n",
    "ax.set_ylabel('$y/A$', fontsize=ftsz)\n",
    "ax.grid()\n",
    "\n",
    "# annotation to highlight the spatial width of pulse\n",
    "ax.plot(2*[-sigma_x], [0.5/np.exp(1), 1.3/np.exp(1)], 'k')\n",
    "ax.plot(2*[sigma_x], [0.5/np.exp(1), 1.3/np.exp(1)], 'k')\n",
    "ax.annotate(s='', xy=(-sigma_x, .3), xytext=(sigma_x, 0.3),\n",
    "            arrowprops=dict(arrowstyle='<|-|>'))  # the double arrow\n",
    "ax.text(0., 0.3, r'$2\\sigma_x$',\n",
    "        verticalalignment='center', horizontalalignment='center',\n",
    "        backgroundcolor='w', fontsize=ftsz)\n",
    "\n",
    "# annotation to highlight the distance travelled during Delta t\n",
    "ax.axvline(0., color='k', linestyle='--')\n",
    "ax.axvline(v*(t1-t0), color='k', linestyle='--')\n",
    "ax.annotate(s='', xy=(0., .8), xytext=(v*(t1-t0), 0.8),\n",
    "            arrowprops=dict(arrowstyle='<|-'))  # the double arrow\n",
    "ax.text(0.5*v*(t1-t0), 0.8, r'$v\\Delta t$',\n",
    "        verticalalignment='center', horizontalalignment='center',\n",
    "        backgroundcolor='w', fontsize=ftsz)\n",
    "\n",
    "plt.legend(loc='center right')\n",
    "plt.savefig('TranslatingPulse.png', dpi=100)\n",
    "plt.close()"
   ]
  },
  {
   "cell_type": "markdown",
   "metadata": {
    "slideshow": {
     "slide_type": "subslide"
    }
   },
   "source": [
    "![Fig. 2: translating pulse](TranslatingPulse.png)"
   ]
  },
  {
   "cell_type": "markdown",
   "metadata": {
    "slideshow": {
     "slide_type": "skip"
    }
   },
   "source": [
    "While the wave equation has the same form in many contexts, the definition of $v$ varies from field to field.\n",
    "\n",
    "* EM waves in a vacuum: $v = c \\approx 3\\times 10^8$ m.s$^{-1}$;\n",
    "* water waves whose wavelength is much longer than the depth, like ocean swell or tsunamis, $v = \\sqrt{gh}$, with $g$ the gravitational acceleration [in m.s$^{-2}$] and $h$ the water depth [in m]. Onto the deep sea, where $h \\approx 5$ km, $v\\approx 220$ m.s$^{-1} \\approx$ 800 km.h$^{-1}$. This is faster than the speed of sound, but again, remember that waves don't carry water around. It is not that crazy. It means that a Tsunami originating in Japan will take 10 hours to arrive on Canada's West coast;\n",
    "* sound waves: $v = 340$ m.s$^{-1}$ in air; in water $\\sim 1,500$ m.s$^{-1}$;\n",
    "* seismic primary (or pressure) waves ($\\approx$ sound waves) in the Earth's Crust: $v\\approx 6-8$ km.s$^{-1}$,\n",
    "* seismic secondary (or shear) waves in the Earth's crust: $v\\approx 3-4$ km.s$^{-1}$,\n",
    "* ... and for our taut string, $v = \\sqrt{T/\\mu}$, with $T$ the along-axis tension force [in N] and $\\mu$ the mass per unit length of the string [in kg.m$^{-1}$]. For a violin E string (the skinniest I think), $T \\approx 68$ N, $\\mu \\approx 0.126$ g for $33$ cm long, or $3.8\\times 10^{-4}$ kg.m$^{-1}$, and $v \\approx 420$ m.s$^{-1}$."
   ]
  },
  {
   "cell_type": "markdown",
   "metadata": {
    "slideshow": {
     "slide_type": "subslide"
    }
   },
   "source": [
    "# Standing Waves\n",
    "\n",
    "*[Book: § 6.1]*"
   ]
  },
  {
   "cell_type": "markdown",
   "metadata": {
    "slideshow": {
     "slide_type": "skip"
    }
   },
   "source": [
    "## General expression"
   ]
  },
  {
   "cell_type": "markdown",
   "metadata": {
    "slideshow": {
     "slide_type": "skip"
    }
   },
   "source": [
    "We will talk about traveling waves in the next chapter.\n",
    "Right now, we focus on *standing waves*, traveling waves' evil twins.\n",
    "Both descriptions are interchangeable: standing waves can be described and the sum of two traveling waves, and traveling waves can be decomposed on a basis of standing waves, which are the equivalent of the normal modes of the previous chapter.\n",
    "More on this later, but for now, let's dive in."
   ]
  },
  {
   "cell_type": "markdown",
   "metadata": {
    "slideshow": {
     "slide_type": "skip"
    }
   },
   "source": [
    "The key step is to **assume a form of the solutions to the wave equation (1) in which the variables are separable**:\n",
    "$$ \\boxed{y(x, t) = f(x) h(t)}.$$"
   ]
  },
  {
   "cell_type": "markdown",
   "metadata": {
    "slideshow": {
     "slide_type": "skip"
    }
   },
   "source": [
    "*Note: another try, another mathematical trick. How could you come up with it? You don't have to. As a researcher, I can tell that it is one of the easiest and therefore first things to do when one doesn't know anything about the solution. For you, just remember that it works. But remember it well, because it is important!*"
   ]
  },
  {
   "cell_type": "markdown",
   "metadata": {
    "slideshow": {
     "slide_type": "skip"
    }
   },
   "source": [
    "Therefore,\n",
    "$$ \\pden2yt = f(x)\\oden2{h(t)}t = f(x)\\ddot h(t) \\and \\pden2yx = h(t)\\oden2{f(x)}x = h(t)f''(x), $$\n",
    "and the wave equation becomes\n",
    "$$  f(x)\\oden2{h(t)}t = v^2 h(t)\\oden2{f(x)}x. $$"
   ]
  },
  {
   "cell_type": "markdown",
   "metadata": {
    "slideshow": {
     "slide_type": "skip"
    }
   },
   "source": [
    "The usefulness of this form is not apparent until after division by $f(x)h(t)$, i.e.\n",
    "$$ \\frac{1}{h(t)}\\oden2{h(t)}t = v^2 \\frac{1}{f(x)}\\oden2{f(x)}x. $$"
   ]
  },
  {
   "cell_type": "markdown",
   "metadata": {
    "slideshow": {
     "slide_type": "skip"
    }
   },
   "source": [
    "Looking at the equation closely, one notices that the LHS only depends on $t$, while the RHS only depends on $x$ (recall that $v$ is constant).\n",
    "The only way for two functions that depend on two different variables to be equal to each other is for both of them to be equal to a constant, i.e.,\n",
    "$$ \\frac{1}{h(t)}\\oden2{h(t)}t = v^2 \\frac{1}{f(x)}\\oden2{f(x)}x = -\\omega^2. $$"
   ]
  },
  {
   "cell_type": "markdown",
   "metadata": {
    "slideshow": {
     "slide_type": "fragment"
    }
   },
   "source": [
    "Why $-\\omega^2$? Because, for example,\n",
    "$$ \\frac{1}{h(t)}\\oden2{h(t)}t = -\\omega^2 \\thrfor \\boxed{\\ddot h(t) + \\omega^2 h(t) = 0}. $$\n",
    "This is the **same equation as an SHO**, and the solution is still\n",
    "$$ h(t) = H\\cos(\\omega t + \\phi). $$"
   ]
  },
  {
   "cell_type": "markdown",
   "metadata": {
    "slideshow": {
     "slide_type": "subslide"
    }
   },
   "source": [
    "Likewise,\n",
    "$$ f(x) = F\\cos(kx + \\phi_f), \\quad \\textrm{with} \\quad k = \\omega/v. $$"
   ]
  },
  {
   "cell_type": "markdown",
   "metadata": {
    "slideshow": {
     "slide_type": "skip"
    }
   },
   "source": [
    "In this chapter however, it will be easier for us to write the expression above as\n",
    "$$ f(x) = A \\cos(kx) + B \\sin(kx). $$"
   ]
  },
  {
   "cell_type": "markdown",
   "metadata": {
    "slideshow": {
     "slide_type": "skip"
    }
   },
   "source": [
    "Can we write \n",
    "$$ y(x, t) = H \\cos(\\omega t + \\phi)\\left[ A \\cos(kx) + B \\sin(kx) \\right] $$\n",
    "yet?\n",
    "Not quite, because $\\omega$ and $k$ can take many values.\n",
    "As we are about to see, for a given set of boundary conditions, there is a discrete but infinite number of possible solutions for $f$ and $h$."
   ]
  },
  {
   "cell_type": "markdown",
   "metadata": {
    "slideshow": {
     "slide_type": "skip"
    }
   },
   "source": [
    "## Boundary conditions"
   ]
  },
  {
   "cell_type": "markdown",
   "metadata": {
    "slideshow": {
     "slide_type": "skip"
    }
   },
   "source": [
    "In this chapter, we will solely focus on a string, that is attached at both ends.\n",
    "Let $x=L$ and $x=0$ be the locations of the walls.\n",
    "Mathematically, the statement translates into:\n",
    "$$ y(t, 0) = y(t, L) = 0 \\thrfor f(0) = f(L) = 0.$$"
   ]
  },
  {
   "cell_type": "markdown",
   "metadata": {
    "slideshow": {
     "slide_type": "skip"
    }
   },
   "source": [
    "$$ f(0) = A\\cos0 + B\\sin0 = A = 0. $$\n",
    "$$ \\thrfor f(L) = B\\sin(kL) = 0 \\thrfor kL = n\\pi, \\ n\\in \\mathbb N^*. $$\n",
    "$\\mathbb N^*$ means that zero is excluded.\n",
    "Indeed, because $k = \\omega/v$, $k=0\\Rightarrow\\omega = 0$, i.e., it is a trivial, non-oscillating solution.\n",
    "\n",
    "Strictly mathematically, I should actually write $n\\in \\mathbb Z^*$ instead.\n",
    "But $k<0$ means that $\\sin(kx) < 0$, and the result is the same if $B<0$ (which is weird) or $\\phi_h$ is augmented by $\\pi$ (which describes the same physical reality).\n",
    "Therefore, I will use $n \\in \\mathbb N^*$."
   ]
  },
  {
   "cell_type": "markdown",
   "metadata": {
    "slideshow": {
     "slide_type": "subslide"
    }
   },
   "source": [
    "Consequently, an infinite number of $k$'s can satisfy the wave equation when both ends are attached:\n",
    "$$ \\boxed{k_n = \\frac{n\\pi}L, \\quad n\\in \\mathbb N^*}. $$"
   ]
  },
  {
   "cell_type": "markdown",
   "metadata": {},
   "source": [
    "Recall that $k = \\omega/v$, therefore, the set of frequencies is also a countably infinite set:\n",
    "$$ \\boxed{\\omega_n = \\frac{n\\pi v}L, \\quad n\\in \\mathbb N^*}. $$"
   ]
  },
  {
   "cell_type": "markdown",
   "metadata": {
    "slideshow": {
     "slide_type": "subslide"
    }
   },
   "source": [
    "The corresponding solution for a given $n$ is therefore\n",
    "$$ y_n(t, x) = C_n \\cos(\\omega_n t + \\phi_n)\\sin(k_n x). $$\n",
    "Such a partial solution is a **mode of vibration** of the string.\n",
    "It is of course the equivalent of the normal modes of the coupled systems of oscillators we saw in the last chapter.\n",
    "There is now an infinite number of them, because the string is a continuous system that can be viewed as an infinite number of coupled oscillators."
   ]
  },
  {
   "cell_type": "markdown",
   "metadata": {},
   "source": [
    "Like in the previous chapter, any solution can be written as a linear combination of a countably infinite set of **modes**, i.e.,\n",
    "$$ \\boxed{y(t, x) = \\sum_{n = 1}^{\\infty} C_n \\cos(\\omega_n t + \\phi_n)\\sin(k_n x)}. \\hspace{5cm} (2)$$"
   ]
  },
  {
   "cell_type": "code",
   "execution_count": 4,
   "metadata": {
    "slideshow": {
     "slide_type": "skip"
    }
   },
   "outputs": [],
   "source": [
    "# the following two packages allow me to display the animation\n",
    "from matplotlib import animation\n",
    "from IPython.display import HTML\n",
    "# More about animations: \n",
    "# https://stackoverflow.com/questions/43445103/inline-animations-in-jupyter\n",
    "# http://louistiao.me/posts/notebooks/embedding-matplotlib-animations-in-jupyter-notebooks/"
   ]
  },
  {
   "cell_type": "code",
   "execution_count": 5,
   "metadata": {
    "slideshow": {
     "slide_type": "skip"
    }
   },
   "outputs": [],
   "source": [
    "N = 4  # number of modes I want to display\n",
    "L = .33  # length of string: 33 cm\n",
    "T = 68  # tension in the string: 68 N\n",
    "mu = 0.125/L  # mass per unit lenght of the string\n",
    "\n",
    "x = np.linspace(0., L, 128)  # the x array\n",
    "v = np.sqrt(T/mu)  # phase speed\n",
    "k0 = np.pi/L  # the fundamental k; k_n = n*k0 and omega_n = n*v*k0\n",
    "\n",
    "k = [n*k0 for n in range(1, N+1)]  # the list of k's\n",
    "omega = [n*k0*v for n in range(1, N+1)]  # the list of k's\n",
    "C = [0.2+0.3/n for n in range(1, N+1)]  # I let the amplitude decrease with mode number, aribrarily\n",
    "f_modes = {}  # we will store the modes into a python structure called dictionary\n",
    "# f_modes only stores the spatial information\n",
    "for n in range(N):\n",
    "    f_modes[n] = np.sin(k[n]*x)"
   ]
  },
  {
   "cell_type": "code",
   "execution_count": 8,
   "metadata": {
    "slideshow": {
     "slide_type": "skip"
    }
   },
   "outputs": [],
   "source": [
    "# Various quantities\n",
    "t_end = 2.*np.pi/(omega[0]) # time array spans one fundamental frequency\n",
    "n_frames = 50  # number of frames for animation\n",
    "time = np.linspace(0., t_end, n_frames)  # time array\n",
    "\n",
    "imagelist = []  # list of frames to eventually animate\n",
    "\n",
    "# Animation\n",
    "fig = plt.figure()\n",
    "ax = plt.gca()\n",
    "ax.set_xlim([0., 1.])\n",
    "ax.set_ylim([0.5, N+0.5])\n",
    "ax.set_xlabel('$x/L$', fontsize=ftsz)\n",
    "ax.set_yticks(range(1, N+1))\n",
    "ax.set_ylabel('$y_n(t, x) + \\mathrm{ mode\\ number\\ } n$', fontsize=ftsz)\n",
    "ax.grid()\n",
    "\n",
    "x_positions = np.tile(x, (N, 1))/L  # replicate the x array N times\n",
    "y_modes = np.zeros((N, len(x)))  # nx positions for N modes\n",
    "first_iteration = True  # I will want to save the first picture for the pdf notes\n",
    "for t in time: # We loop over time to animate the modes\n",
    "    for n in range(N):\n",
    "        y_modes[n, :] = 1 + n + C[n]*f_modes[n]*np.cos(omega[n]*t)\n",
    "    im = plt.scatter(x_positions, y_modes, c=y_modes, cmap='copper')\n",
    "    imagelist.append([im])\n",
    "\n",
    "# Creation of the animation\n",
    "ani = animation.ArtistAnimation(fig, imagelist, interval=40, blit=True, repeat_delay=1000)\n",
    "plt.close()"
   ]
  },
  {
   "cell_type": "code",
   "execution_count": 9,
   "metadata": {
    "scrolled": false,
    "slideshow": {
     "slide_type": "subslide"
    }
   },
   "outputs": [
    {
     "data": {
      "text/html": [
       "<video width=\"432\" height=\"288\" controls autoplay loop>\n",
       "  <source type=\"video/mp4\" src=\"data:video/mp4;base64,AAAAHGZ0eXBNNFYgAAACAGlzb21pc28yYXZjMQAAAAhmcmVlAAEZlW1kYXQAAAKuBgX//6rcRem9\n",
       "5tlIt5Ys2CDZI+7veDI2NCAtIGNvcmUgMTUyIHIyODU0IGU5YTU5MDMgLSBILjI2NC9NUEVHLTQg\n",
       "QVZDIGNvZGVjIC0gQ29weWxlZnQgMjAwMy0yMDE3IC0gaHR0cDovL3d3dy52aWRlb2xhbi5vcmcv\n",
       "eDI2NC5odG1sIC0gb3B0aW9uczogY2FiYWM9MSByZWY9MyBkZWJsb2NrPTE6MDowIGFuYWx5c2U9\n",
       "MHgzOjB4MTEzIG1lPWhleCBzdWJtZT03IHBzeT0xIHBzeV9yZD0xLjAwOjAuMDAgbWl4ZWRfcmVm\n",
       "PTEgbWVfcmFuZ2U9MTYgY2hyb21hX21lPTEgdHJlbGxpcz0xIDh4OGRjdD0xIGNxbT0wIGRlYWR6\n",
       "b25lPTIxLDExIGZhc3RfcHNraXA9MSBjaHJvbWFfcXBfb2Zmc2V0PS0yIHRocmVhZHM9OSBsb29r\n",
       "YWhlYWRfdGhyZWFkcz0xIHNsaWNlZF90aHJlYWRzPTAgbnI9MCBkZWNpbWF0ZT0xIGludGVybGFj\n",
       "ZWQ9MCBibHVyYXlfY29tcGF0PTAgY29uc3RyYWluZWRfaW50cmE9MCBiZnJhbWVzPTMgYl9weXJh\n",
       "bWlkPTIgYl9hZGFwdD0xIGJfYmlhcz0wIGRpcmVjdD0xIHdlaWdodGI9MSBvcGVuX2dvcD0wIHdl\n",
       "aWdodHA9MiBrZXlpbnQ9MjUwIGtleWludF9taW49MjUgc2NlbmVjdXQ9NDAgaW50cmFfcmVmcmVz\n",
       "aD0wIHJjX2xvb2thaGVhZD00MCByYz1jcmYgbWJ0cmVlPTEgY3JmPTIzLjAgcWNvbXA9MC42MCBx\n",
       "cG1pbj0wIHFwbWF4PTY5IHFwc3RlcD00IGlwX3JhdGlvPTEuNDAgYXE9MToxLjAwAIAAABruZYiE\n",
       "ADf//vbw/gU2O5jQlxHN6J0zH78VuLo0N73OAAADAAA33OZE/sqTBubAAALo8fpH37/mAZ09Sct8\n",
       "jMgUwaxZ4USOFRdrKKwdeyZOeYvi0tW6Gs7dR1iIf5B8RVSqoNCwSZocdpUI7r6z15mj8ReM7ssZ\n",
       "zH0+6zGdjxURA1CDiz0W4KuVeNrVUrMkD6wSPUDkixpsOliZ/1ys7ygZDsWYQMZYjY9tsvrpzvZQ\n",
       "jQ8Nc0NchfobogWU9KoFkEviuTFlRL7pThSX+9kSCJWlZWKoetn972j9Pdo59gFp/9jhzjz3o8mU\n",
       "Pi0+X8SXd9TqEaUGDJ60eNFxaSr3COE6asnzFLEUUlx6bQLUOtF160LphCbCdckAEsImwcVzAISP\n",
       "ErSRjA4quEDai2ZWsWwEx9Q8vXRBGqB0I0CzhID3z9kXabWGyhIR437DI+j6MITDgtRJbI3Du018\n",
       "GC2UYTNlPYn9MX0EpRnZ6HyvcJhDb5mh3Q+YPk4qL+j62qedbYazu/BtVv4VmcuyhVO3nE2BCJCT\n",
       "9iTABmLg5Atap+y9WEKsel1ULe8Ic2jeGU4+ykJN1Kzx/Epmc3kcbw7kVQFavPbeUNDUI3NPl7lX\n",
       "kYQVnOlNl2Rvm4dHDXkHXebiO41olsX0xere67VBjGFyZqpSP2a2czp2AUXcIasbhcFuPZpyNvA1\n",
       "U8gqWSLNk48X3jOcPTIqF5i9frQPv8tJw6wvCtp7AGsM95kyZ/iNuKmzf+zWh62qJ15gMIEGNAtV\n",
       "hCcRi6ts/rFNkXN6irHhNTqjKgSFr9TkciN/MjxCnT36vbO6hTCmKXlYV7IXKmJwybF8X/tdrAA2\n",
       "2IBLEwsau0mS11jaSTMmx2vhIDhwh+6sAcOJpehya7KA+fkGY2wqFemN7x8RCImO125bWSOIHOZt\n",
       "Sh4FhV/DCNIZdLZSJ+K5jmf2DcBU6lANckvIvXZ6Auxn/CiHM1LoAlY1O/iYkpjRUV39k/tO3VHI\n",
       "L2TCleJXjuQgcQv1kuQHJan6iTq4pFF55Te5Sdu6HLR9bKQSWgwdaDCu7VqM/LEoyoj+TcgJ7MQw\n",
       "Bqx5vXMbSugdvaLLj4hoFtMYKDMQy3MU8tthawCYvWLsi209lPf9WiYqE9U65Wt1c9MfCQQsqnnl\n",
       "GFpqkb8rM6qRpwHG+hcUohzRHYBKoUtAMrluajTpvueAGcPltWL/Du+evhY3GrFPlIwxB1ClWm07\n",
       "GORHwy1B+Lvr/kkBOfGKcCWfxBaEa8Ps8u0IWPFFP5rHMiwlNdV40Ph/wKUKOqJ5qkXfYCGTwmIZ\n",
       "V8MC6GHlKg6GqstAmGZiMxkKf4/o0iofoMV5pMttSM60UGWtHVYYxSav4M9RIkGE3Y4OAo2pbRFP\n",
       "7gvrYBGwFfykTTNoOa/4WU924kLbVPfQcKLxMpNdTVxIUhA8gFAeuGqQSgwP6VCl7Q8gJwcLmi7R\n",
       "hdECNBC56i3Qr09lFnymCss/FKNPjoF4X7Dr/EVvvLge0rdD2Cta+cu6qL1XFBSbMjjiAq9Ifv/b\n",
       "dAcFiaX7v0P9w74mF54rKRyqq3kiuamPMh2pRVuvUVNBvMa7m1GFyFKtCtpbJRZ9ftIBrouIUEGC\n",
       "0dT4LU/jJowgosxltVB3lkr8On2OFFUtMqsQg/4cIAeMXtXnnfQx5V2Oz+B3j+YSf1mmE7x3ZGrl\n",
       "+/TLBiHsqi+XJq4uywDoUFNfY0MwU9laayBJaUQ7VBCC4T6zkhpjrVdbZv93V4T3BaYARz+p9Vry\n",
       "pb28B2CMEEC2PwWP+1OwHNNKQnvKFMkjcZCsB8w+3esYSZoAZdvFpif1U1Sl70vZvnxp4C9E7SZp\n",
       "k1nVLqQw91dcyva1sq96vYM5ve5hq6WBGhX7xySoZVTn0aRwIQs9TZ78vEP3dFtJc4mqImVPq1B8\n",
       "zYop0g5wO1ZWdkcejlMfxnqtxTAErrlykhKEteO1ecWaHsuNTMiIo8PuHOqphUWkM+1//9xOJq8Z\n",
       "xXnXt7+DtcWU5xmCP9/jIZNRSqywNPRpw0FO9OqRfS4w/0/yuDnHN4P3NagGS8QPfleEbpPpMZqg\n",
       "4uKZgWIVtiXB0fudD6MZxrLvjmo+jo9jDhcVAbetceHFLPNCGOOricsCXgkp6QhWm5FADK3ip6xW\n",
       "YzvZxnhfecSLKPMHbeQgSsiHUBuZ8zXGmKcvjVGluSZ7fUi/JkeYe10vooBZV+czTRQGI8X8Xuz9\n",
       "WYrQRje5A7N60DN84btzWpPiudYqBNyIfC3SdRWhIVjqMhxfUrNUA3x4YBGIW0En8A7mEyLd/krZ\n",
       "Buk1k0iM7eXGlf3TOvCdqhNTg5dE1JYMfUqK6f2z/Kh8BcGdGgnUxnTtJJcHPC1yzr+//YB4utBt\n",
       "ln9kS9E56UJmzDLJhsXYDIzuuaHQsTzmqySQ6S3GYBTjXHgt66b2P31vG+dnuDd45RGwXX31FZiR\n",
       "Ci/3t7Ubb5z2pjcCTkVmEXefMzxYCUKJiDoTod0ItN3+35BaT2Ete/HLnyNyPHnD/bAQCxce0bNB\n",
       "c3e1D+ZVWI17zpgwdVt74h++rDkQ3UV6ET2fqMVgAig4J2kDJ4g+AViSIAN9522qsvhPm+VHm5RC\n",
       "P7kXhvXlSdyngifiitgbcKeq1FW3YmNsY1mUdNnUi23wf7kjUYrC8jEBX/3IkPxTMX/WFOS/93yT\n",
       "BS9fsafR5cdAToJX+jCn1yMc8Cf799N5DqFGER01BzQGR49umxRnpfzYfEw4BCjQQeq2AmBl2iZG\n",
       "B7YD+xAKPK24TExNyODeZgiHNtyAf608ZdkJAlc9rCrNhsYkPGF+DFBlbp//wJAbidPHdPmB5rJa\n",
       "F41/t2U9SbEjDZQrFhdhNidLFl52StAJuuK46FhuEIHOwm0OqKlAl2n1iCHSglAkJ+N1nORVDkdf\n",
       "s3vF2KD+kXZo3voppxsu0Mdri5l53pNJJDvqUtnSGpu1ahzXS5N7cfmzfovOtfxsnY2gGzVEmwn2\n",
       "zY5CRfz+v2sX4ZOv9LvHdIvO82LTyMRTpolUP76Ssh0PUbSynC1vq30iANk15wyTHQ5Pe2Uyc2Rg\n",
       "TnKsWM/6G7/fxK34S2J6E4axYxVe2VWzd3RFIgu1ONiB+IxVh/ndQ1B7/CGAB3eun2f5O+KG2CGC\n",
       "iKRPXVXjZw3c8b+1GB1isKrohj2RcvfNPoLNpyhnaMv2ESOmCdEZ7L8cNo/+2HECz0B63qzVbn4H\n",
       "dVble64G8LJEmLW5ULlxy7VVBi6aV52dqhvZe6JzHJ2YYVcUItAoPj33pJj/gim2hG5ZPXuJ6GuY\n",
       "kYu5YplkP5H9KF7vZ7tob83e4dOH+Kc6NSkih1IeKDqjQH86qC61BHYVT2e+dtlVYx5GPIrjFte7\n",
       "XUr38uoApINYccSo8zprW4dE5Z4nF3/8DeSxxkGjuHHlBfHtCx5u5M0d3AMczoKNbA/thhFUMTMz\n",
       "iAf9QZM8Wmg6QTIzZr+ssr4N2cbJj6G269votSvxxvm85I4JVmxFTEFucUUE8LtUR1AzNKtK5qTr\n",
       "w90yWNW9yT0p3wIJaiQx28R2lJ/eivm7MFKdcnPaC2l+0IXnjg1YQ5KMiYHWd+CMH+l5mmfR+B+6\n",
       "q1kJOpxJAkdCk0RKfxTOuf05HQb2bzxdoKUOKVBxrWkyJHW1m8JKuUKFOgtbgNjLTRn6v5VS56I/\n",
       "1OW6HDY/0bgs7b2qvTdXrPalQv/DIr9Hub29XpuLO3njb3g/1wkUfOrKq7cr2/62Ac43YJFdI/kp\n",
       "oH4ns1FNarC9UpoOBoEzuIvV0hRCsIGQVoy/R2ShadyQ9YytxpqaU8XSfqmojK/oVVgpsiVOFmBr\n",
       "FF/6nyUkcSr67jQd/3FgQ3Buc2DVUbjohTkL92JF4f0F5vsFtCl5dreRlpu3y8XIBCbhvJfZoPnM\n",
       "hWfguJOukagwSE0bU+FioHaaaYfXsg/NMXdBMAR1kJzl4kEe7f8AwaLbTM9sjxl85jCLXjzspzUL\n",
       "MbbSqdX5+n5p7G09V1eDOydiWS+uXBPG4Ah/7ckpsRb0MbfzMTj9HXhThbBIlukU6B4JkYpqZMCX\n",
       "ZsNVZrYQAi0VRl+eo2qBtFoQC5ezT/lDUJPOW/u7vLREqrP2ApL45Koi5jbTCJBl7F2qD7SoG59G\n",
       "W1jhhQXZDBS/VS0JYMHinwg+xU5OQU0XDDZ8NpUuNlqMi3lUHrEqeYdhf3ch8IWmtrJHigU2i45A\n",
       "funJpIf1v3ao0+cTphzjNefcu/EmRLpnJif1H3sBDod72DbIBed27zjvX5HQPsJTkP2PeaG1GHtd\n",
       "YMqc5smhbCpLd7yrJVZNeaPcG11PCDeZrT7PFBSfHRh+NVBgdf2vQNFxeNHf2rOqYWKvsNtJ8X44\n",
       "A44M/iN9HLXu7GozUrFGzg6t+VvaF7HS98Pr7vJIxd2rXE48cJbDhKWTeQF3XlV3svs3gvai2u6C\n",
       "Jo0QZYeajilYZdHAR6qylF5SnBYxqLKJMop7RPpiw/bParjEoyf+SSDX0cUZ2EHzoG7V15HlYwm3\n",
       "vtFbqLrXRFH0DZIhsxnxlTOgBNO9Qv8NAdC7ZGB2Ohsr8yeb70tWRA3xAzuCKb0U/Z0EkAD8UOWP\n",
       "/EBCNtbUvejB7nXmyQLLTTs7elrO3H8D2qjhLBox8+v7+Kb9s1ytIFgFP6wgxil2cfmOG/2zP5n2\n",
       "/WRca3eeTF6MM05ZSE00P6Dz8LS3XVmfgGl36Rnc5h1YE8Anh6EX/ArsPb6ld+paZMH9Ev3Q8iQP\n",
       "5dHkJAKUeYeUctTlK7xWJb7waTwHToo+hyQahPn23p1rn6JEDkQoIecGC/BjtbAe6A0OYYSFLEAd\n",
       "+wx0p26EPKx5qgIAGSN7tIJG68jgEq711sp5YB3Dlm+Vaq/VF2kK9VU29HdrzcPJzgG3T34xYU1w\n",
       "H4uI9YWKWEObxh3t2NEtcs1EKjLP3Cwbq7WodMinI8Zvx9g9o3bapTs9H2qA2zZ1VswhF6Ivy+So\n",
       "URfV80L2Y7cm1PmLVfOS+fewiEC9ptyarrUwy+rikBY90qH21QId/WiF0ZB0hAtN/w7dZQ63Scv6\n",
       "hjWHboP1L4JOG2P1tSWl+8tNiRWZFlO9WhoIFMVzW0BpaH18lVi2ixirpxYc4sxrRVRWoCVSezu3\n",
       "J3Ez6FuHWV2KRYAb/iSO5VN/urosVEtWjW0Winkvugx/5KwB+udR5uGU/rNe9Cus/dZWGYagQ6wZ\n",
       "tm4PvVcXQYMeJjZbvbxHdqO8VLvNUuzDYWg+osBTNwQgYkyYkcVei0noo+sdOyh1tT0h8K48yBZ9\n",
       "DHnLHa9tP9/63vYRs1pn1MA5xHTH2Nd4T9hhmsGWIo6wtpNYHZnGM6xbkafdt9Ld23Lbk5/ioijo\n",
       "tfyxAhEOHLsDRd63+T/N4U8e/eplB1N+03Taz+i1/P3h4oybrovIwjZ5HcLuCvSHsolXynrB0LRa\n",
       "vzhJLlHynG5rTXspzkKga6MUCNxEQ0fc0qpmEV634IzRdwhG9Iq/xQuJ8q+j8oL8ETnvS5jOn8eO\n",
       "u1IMMg7nSln/Zcjkvr/8p5C3qEaODhIo+7ePdYjFytefFQUDgCt3cPmdPU7e2ZmD4BgL6ka3BCf9\n",
       "pyfVMSTRa1msytXEqxPzP3skOspjcM6du7Qkh/taavCXUk8djzbPhybvd8tKVGeczooel0xjpOff\n",
       "wajq49W7JIgbTfmTKjZ+aYsQGaFpeUO/aijrqVozoxvgZ/Ts0uVlW6ZA/+bM/vPOzfptz3g4dDJC\n",
       "X0Cjw1PCTVUXV7cgJFWD3kQe/Qh/J/KVhKqRnf7JILyO0XzdnGlm4Uc50PkLAjpjpBx6fM8ew3kg\n",
       "SQiX6mcJuMQPJmy1Me3raFfsjDzKxiMIYRPr6BWxiXsQMVY1mvtQ5DEB3sJT1LC+wfiKX+ousJc+\n",
       "cfJiH+V/tXr/Nlr6OzRCm1CmaO1XivDMRMpOCsNf1lxD4HDLxzTiz0TfPh4USy9tlAqMY/j6C6+2\n",
       "zz05WfCaDqsAYoy6Yv17SCeSswQO+EONt7CXfHP/F6GGAUAqcR/yKKZAAlukVMgezbv239eS2h06\n",
       "/9BBYUzymFqDpiydXiGU1druiz2kOwLDaOqlRwP04dKrDfiiqhEZEnelSa7DeDxzOg5dTEi8k2mU\n",
       "zRpJ+EzKW+S7pgR3ruxQ5YXefmx8EodZCGYmn23o1kZ4BF6bsCqQoevCt+S62h37CCh3uPCvDro9\n",
       "CQ5LaJy4f1jCfSn0k4JsZI4Tn/G6IVpB7xvxsqUPLUL3Wgi4kf3spTgEEclEaKguhUu1h8X8/9pL\n",
       "JkPosfAxkUdvPNswRRDVBPM6d8Q2a3BM7BUqcGKdbRoSjvT/6RTiJfZNCzqb0N6sLQNzpvfkvJyT\n",
       "eAIua5dOZDZedBgxEVOid70trPzX99UROrm5dyp/L+HYQDhs2j9tVZyRggvUh/zVxcLtBw33E9n3\n",
       "HhCP82NkWBXEr1q7EnEFv8eUs39SnLT4DOf09//448qqJXhwSwWUnmzx4WMRy0n6qnau1zer3bMy\n",
       "dJA2BipWWGcr5TR14RJzXy5ZWAsuVxYyAC7uCFSd1EGZTzYk1lU3yCm9oWPcDOd7YYE/g35cO/h8\n",
       "SFK9pEFiWZAr6vQ/xRcfgmL3vkTzfgL8CN7E7ScNONmyFLQor5cX+fz5RrR5nzc1MzEO+1mm10V0\n",
       "VCH49wCZ2VF/d6th5Fl2V8X5kaAC6qOldvL9gLCzQu5pSwUCzvtm5DdyRP6+kooXHO3U0gBolpxj\n",
       "NppkhCgIzQGej3MxxS31j2MXe8BbaiuTLaEvAgyz/VSH927BZ1+KKpgJV5NlLJ/DFlDi+ZPPhJRe\n",
       "uU2y/gSWwFtMr/mw9g5wgz6rZzevAdCRwSzJGidthgDO/DWQYTbeYXo3z545kwc8/ScYk/KcNRzu\n",
       "RSRB2+GXHY6pyfYSPXj5P/ajfawdc4GchHV3e5O1dWxGEAR8i4WJ1POJHc9+c/U4QNJt2xwCUihL\n",
       "mQJRpaxXCuIybWFfP7vu5AQjz8K0E9UyGZj1NKbhMQuGdSQJwZ0D3NFMvIeMVKcL8iJHiB9JCIfX\n",
       "y19W4sIaPOUXWC5YOetVLPHuyJHghcoJo1/FED3oMfNcsAUxyVyNVGhO/Gp++II2R6rS6PEw6np0\n",
       "SHmJPbA89X//8NFN7M2jLE7GGdN62I7CZbrsSszM3khcjDdKnMo5dkd1rh74N1rQAcI9/7aL8K3/\n",
       "6x6hJWtgFI/K/omHT41cF/SwY7TYKMYJ1Ht0GslWDOskzxUry2AuFM+h3GiTO4xkbxQyk6ccuzP9\n",
       "ERI3OgzOwXWv5O9LBMwnWYY78+mEdXhnc3PZgdkqNmuVKE91pLNvwFNyT4EAtPUkpX2VXJLNef1u\n",
       "dRC1N1+F4tqoyMyL5nhno8qd7Z0ptcuFFbjRZt7tS7oOv0vhx7LIuYwO2kRcHfgW3ikc1iQ9U8hH\n",
       "v2jQFKZ42Xb6KarkD3QGMjZj5054vnwb46ynBLvX4A+IdxGY7gTM0K4AJLViI8wdl1V3hTkRUTFW\n",
       "t4LXBDKuqsssZq8nQMbUz6hyRRx6d0tPt9qnjQo/p6QQSQ6MrWNWPqPtfC0u86Pmm0TTOmGnxDLq\n",
       "18M301Nr2dKRUAMSDJuq5eTHaGCmfO/NW1l3Rwfv0Sp9XmKD0R5q/8eoprY4UUNfJwnAr9DLcqfT\n",
       "PpbSkHQiWIHFjNdz1z4SulIqmP9NbIZxVirXcuXcxUcrBbXb/UL9i/hA+rRVlW9jPkV+UOkui2uV\n",
       "5a/RVguPUXKR3JkEROW5H+5dlxl6GsU8pAiQZjYIJRS8qRsyp4qcihL6QX7vNxv6F4WpUifl5bI2\n",
       "/B0hkqZhPl05vIoUqwTdlFPtZRl4Mt2icfZk+Q66vVd9tUOr6fkT0Hrc/YPoDBRenJ5ZIFtk5gJ6\n",
       "ceY2eDKbdA3eE4WCEXVT3B/qNadjHM+04mXgHyVbP4xsQ7VwVTlVYmHB/ajbdT+GLBg/iHgVCgGq\n",
       "mn5w0PP+VzCxlrdwuD5BY34HPA8CJ10MsVvQRLQXxwmlaxdxMmKRN8nGAi3kzzSA3Mi+ysyNSmms\n",
       "j38N8NHAcjx6ldcOnWIBWsRfrBsbz2M0EcUuPkpjTCV6Zq+sNh+/H7NiPBhSzZNzNWAZZLR0jUoj\n",
       "1A1QaHPVM381L7Sb91vXzWtfhrZKMbHvVAVe2CLNQwIAPCMXSD9znjIdRrOLwT8kcHmu87tRuijl\n",
       "GrXOBuZJSTdCAMB3N26S0K/d8FDYd293mEwhO21vsQnpswa2/o/YSp7rOeoA1/B9yBhDjyfV77rO\n",
       "qKVwyvN3h6uCtsqDTtkuQQMzKMjNdZLsYhluK4+Fv01L4wJJMYRrVtTXRfPQSw9IWL9I1fGLE4yI\n",
       "t2HgDtUf9juKet2aPrdlikGWX+1CtDcYhoWVUme2H+F/MjC8DOzfqgkIGqE8boWyHnj9Jq1fmTPH\n",
       "gBVjgKmYoecsypmumUsxbIuUjozTY2YYtRxbUl5G5iopXCQWaClAnZUDxkf1dqFSJrJZiC16xr+Z\n",
       "WZzV5+g+MF89YNGchwK3iBVY6WQj+UAhaWzlqDUKv3WHjB3ZwaxxnKCjGlU3QAGRdyCqPVmx97ZK\n",
       "2PVweDu5wAEDWPWf7/jgTkbMz+06O8i5aPfhVCHgqnUdfm017yvQE1ZlZwTxPrQ1C85Q9U/12UYl\n",
       "+oNBOqKmx3BDPypFaz/YVsY6TvRk+0y2Jt+ifQFLkuuVkTy6p/Z6Q+WiqlkYQX0BSyAtjhSn4i7k\n",
       "X8O3f869yY1mGUiqPJvQ6gTivNC/f/9v8zYlj0iOjjIuQwLCZ4Dajed8Un4sn9fmdpu64Xv9IjPk\n",
       "CR9o73a9+iZFFPJpUTqj29Fe87uGBr5a60szhdoEmL6AnKuvweFW+E6nlZSGpkMjFlNY6bGF+BQ5\n",
       "g7rqmTLgsWeAOsb4b0gKMuAC0LS+6wGV8vSKbGxWqBv3JHpB11x8u1L1LO+XDk6YKweyljoFz3tU\n",
       "EmipyNXCu/AzRCemw99J9z4BEqpnGax5FJ6QqJbVWhlTiF4wqnGqY5Y61VSeDzWUWhaXl3penUZ+\n",
       "r6V0gtDjnNYHCb+p+j3kqTU0jkFAAAAs4BY+JKOvJ2f3FV56J1J1ZFrPJrGQHY4kcnqNrBIZnyJZ\n",
       "F/hyzcMeSZKK4jeowvcNzwuZNapVWlpRpS/PwYuY0qlFh1xCrVjBPETwcEVauTYXFqIuxbRnRhIq\n",
       "K96It1n4MoP3O4fST7HFImR6UKKfH+9Plzxxa2Q4MI1YyQ0VoS+wHIT3FE9hOcABmwTlAAAI1kGa\n",
       "JGxDf/6nhAHx7U/xXrHmu6hhF/xVysAALDwTO3C/CnPrO7qNk1qbkix8NeCDYuo407mzYz9cc+Af\n",
       "DzH1Ya5T4jKYOyBxIZIPyDneQqDgZUWfj23yCgb4u8NV+jmFtCN34z5U3uMZXQRYissF6UWk+58T\n",
       "w481XweJF0hb2x+YZQ4raBDitzmJOiKNGEO0n2LhCEA9r4fDRjJe+imB7afPUoJwKY2acywYGgOe\n",
       "SWHbrnrswalGeoDN8fu3PXk7opGDLkVzb65x5mVgAVhvQyGgyKSKxU74BMAzSixQ5EPvZ8YOmylW\n",
       "zdi+TGQMsdN84EATXQY4hbDw/k+PQSW9gzkOJ6gzVJvB3Fi28HB+tbKPcEuLm3/R/ONkSxCAF6dt\n",
       "bcT9b5RUQuQfv2aHG80mciH9xFrN/oWeAL6WFJUacpIK/742jwpgNlNf+PwQ5dIz4j4qT8Zo07/m\n",
       "weZtgEo0quJQY/NVYYWfwCeAC0jOqdK+OWie2sfYSQh/PgB1y2swuAcV9rBe7qpUE1XiiZJSqw2P\n",
       "h/K7nf13BryaSJozKEMi5MwT3qu/XAJ1og2UuFPuRswcCiSdb3dBzfQk89z+QgJwrnh0UxNZoXuv\n",
       "5RA5U7rQpti3R35y9fgbKFGAC8cwhyNT2MfLxp6fTBq3Iw5IgOcHE9V1YuIVBMf9MT3WSeDSaqIk\n",
       "cWV8+0lUTUr2WQD+YdywDZRvmy3f7vl1Mtv+NVALK82MGJ4O7mzCOo+YX8nnW994MOd/icctHtHL\n",
       "cFW9mUGRoSRjmFyK6K5NNe73WPshYRsaxr6s1GNOGkLSh4wK0ooiHEw1khVLRNoOCKDjmHtDNFWK\n",
       "78Yoyaeo9oql47PvxuGN5v26Za1fgcLVyoPP35CtErPepEx7lmjvRXaAGh13eFNM3Hnay3cH2d83\n",
       "wB6NUGAy1FtqgSFaQ/YNjZR3wzVuYrpHPreEDOyUeo3wu1UtD5QwV0wJyQ9NMEPkHDADgOiiBVGM\n",
       "tKDHSuuwTFPKq/tfWhk3ciu6Bot5xPwQ9T3E+ex/j5c4mClNUON/8y5LdXZvMAmSBWlmIsOZITSl\n",
       "iUYnJgGZvQsoDhi6LkIQBPa+FHw+xhSJm98VQMzhlueosPp2SGj04EDe9pXRp96O5+SdWI8xyiJm\n",
       "7hZLk/qX9NYj6LKcRD3YQTPw414qo8KuKWOIP8NvC+bezyEZVqom1ci+1HZPHE1Bct91cQEUNBmX\n",
       "9aaWTsJfsdIiuNq+jxW9gBLdsw5tpBzP6n9FlGZvmfddZXQDMVJIvCEP7AOJV1zHKWb2TWShhmXj\n",
       "k75m7waFuR6zNFu8BGGGVv/KuM9gdJ4fvoN9uZN0340ikOP/AHOIoB6Es21W3UQxC/9cngTSEFK8\n",
       "wlWM8unWnEZemg0i15IxtOohot7exHnOa1RK+gZGItkcasOoNPU90ihTWvGjJj2kyz9sYERnscB8\n",
       "3eiHUEgjGLvqOas/5OTuYN+e9a+d0C+71EfBVYTUvynEzAJVChhtFUboB5QCS/+gUE7Bck/RUW0K\n",
       "ZTfciElwZqoUkLYjK8aSEsrDHm+rCp0v8g/micXceOINlhgKfD8ANEh/2M+NirC+0dhSMP+tJSSW\n",
       "WAXEKL9BMUvniVWBTEfKvmm76kiGZwOH0vZO1RHy4p3er/2TY1tztHJQ3H7XvIsw5ISmqPAZgyO6\n",
       "TlU1NXb8jwxeQwlo0v3i/7jvGcB1u7xkQHZt/3jb0LIEnUSwuurUqiXYkNH3xX03PWYYZblD/+sO\n",
       "y2in5pTAWfLI01r6K8bve1LB35Ac6YIiZB5G0CNy6Tx9WY+vsiCTWp8H1Gnq2RhY1ZnQCRbu8VYL\n",
       "CCmPJpcwevhIQGMK0rYrmtTnoxmxJeZxLLHbSExTuL/Cjalqpq+j2B224dp/x4JQfxaNsqKSasp6\n",
       "9i+RKE/qeoLZd29i3uhRieKQimoKpLoEktQiF70wYK3gdXtgHF3GoWSjTM9FaiSNMx4mlAcjdXTG\n",
       "gU7Ey4+HsrcGxhcDfZebPNOunlcJPHR1DYQl4IB0CAHq/7lKQ/KkSzlB/RTVB3p+ku1/7m6zeN/N\n",
       "LAaesL2/WLMQ51Xzissgra67PMKxm4Y3TVh5N0QBz/Byw2UOVlySjfw2Zqb8oseeig1PJjvgTmYe\n",
       "H/Wk2f1ecfHsHPs0hxPuVkRnBHdnNzxFdQKSl/MFj7iVT/XMvjc4wKHh939opLLJi0p86kizyJnk\n",
       "bT/4PJEKlbB0/c4Fr3ZHZ9Kv5tSsR5/9TyR7ACaWoYSEvTeHfJdxydIS/vXPbb3PCUQLE6Ph5vzI\n",
       "PgK+bLqiT25okeRmv1/U1sEHF7KcEkiTrVL1LY5N8YiQqCLvftimKtzJWczUyMre/o1qYLI4SDER\n",
       "G/nuCCgN39OcqwWUrRn4eDiyi/+zFz/GF+ao9h9kJNRYe6jdV5sGkx7D8sXL0IDDsN8poCsOrEK6\n",
       "aunuNNhfqEvJ5ZfT2rf2Mg+sQna1+CXeGFKaUAFkLHffkm0Tjud/keZ5UdoJGhdQFN/QMNESIXm5\n",
       "ADXttK6/fkS4f2Y6QVoNfuLzLESFL9n2U+VbNYkI9tJxNB6ksR0alrNBza7uHfLJO32/vKO1/Ja2\n",
       "znCB0YYbhcicTPsCu82TQzNgbb+6Qa9YSEL3SQtGbP0QVuATGFy0DMaR5BBVLpFM2gUu5M2fVoYJ\n",
       "b3YNkG/BWsxRnBmBJwSU8a6SAcFoYJho96eFFF6u514mUv10T63s/Kfms9s82AndMNhnIuA+06/S\n",
       "KlrOgQgU3M4s+YWBh1ikudQvOmWh30PvGSNKgCHuEN2zGCJnwiLzHCQ7D1rhUkmG+arCSQ3sr/bd\n",
       "6YCKlbR3BP2rmfAHiBDWe8Q1k6glj9Z14jUqzs/nbNGv6kVyOfZdOYZVMprlWWnejYPyFJYyZ/uL\n",
       "QgUD0LH0m9fEqpI9fygDLUDS8v4sKHKgBZdgWGgOzAMqvwTyLsC1oDRswSprujlJJtfTa/00oTj7\n",
       "ioI51dnnEV/Jrlgvg0fCpj8Lf02A88Ku50K6BsauDulQsQKIgAAABLdBnkJ4hf8A/pzNex9L15aU\n",
       "v5S4AWh4s5umxZ5IKnn0ALRuZdnG3sz3bWzXLEygIV3mHyJk+wisvNpZeyTuminqaV7XTavHy4d7\n",
       "sKY7yGoO7msYwMiZw6YK0Jg649O4bRSxWgvRoNr6UjZAzs1GSJO1RS7tYvPZ5M1uNk/Iyif96Ch0\n",
       "eNGn+6Vcs5El9mPV7ym+osWhB9YdYx2BMZG+8EQ2+AYgadcw5lEJvmbwK99qIXKyhHYo0Uca39A8\n",
       "a0nC6dzoaS9uDN/lt7TFI7HpKW3T1RhMXesOQQGJRwJ4QNe5hqdeljnxl+BqPPwwcyQvQS8ocBdf\n",
       "FOLbti9gXJI4YDzn1etZ5aUa1BQ0r7ORK9r/XFczMDIRHq5GkwJeolmIAHsXcJNOKT11gJnQh8L/\n",
       "BW4FiuFv2NoGIjrNTZfupb/nKg3F2SmQ+iL1nm5ruLQOzHdqpMC7A6HwKqR6Sv0I05xpAfu8YmUr\n",
       "vZWZnVUBO2gz60YTKtaNyeN/j2u4wB2xV03VCrn+/93GFOL7+TQ9PzCCwda64rlnJNNkQZyUqjOb\n",
       "xOrCmHzbRuCClew8twLQkKKx3HlGv2JHSmIpj6bg1zeajWZUeE58OnLtvTRS/xWpohFVULvBC3Ik\n",
       "mRGbpuRoI0fd+x0nrhZEEBnfr4W6BKtXpUJB7Bv2gaZeARMshBSvrQNft5XHTqlTx+cQ/IZB464l\n",
       "gvyGcMkV8GzA+zZ2OXbk5lomyhqK9ICZjPlekCNTcY60rVngdy9yIvumMDGbvivZfhJgv3QSbrH0\n",
       "QHAs/6J//kptBvdQYc/TMnZYTOZZ2heNFw6z+Os3EqUhkRQ7NUVFDsziL0vhxTjn/DpJHr2w8JT2\n",
       "Z28Gi1kJXEQe2vLarPaB9iW4LVYN4kYgpdPzac8Nvh7rrD2X2CYDXtxdTHbdVIxHs3muIOHeqmo7\n",
       "eJcRwyT0DjTkSb5n4d2bpysmOwqdcf7S5UKCIrFmDrXauK9jr9p6yeSt27TrGGlh7P0+Vj7++GrL\n",
       "uy/I34mKr6uTD4WB7cHzqhH6Q+kc3sTJFQQW0crzJQtWqtBFb8lWmOAFw0vv5LqG1IGDNrP5UW9Z\n",
       "+3kok/XhRaSOqnKRk8xlwtmOADEgGgF20usXzCCHgwq7ZgiQLUfqul+BEq+h1fDpjOB3K1myVZgZ\n",
       "90JGF36vdI+gx7R8YzzdV1NZWjVbvBXmAOrWsmjY3zVQyHCRBvtdBaPKOO5iuMk0Xx/jlPOXGWZ1\n",
       "zWkUFYRWhiapf5pzRWDIXd5PQnFkXSAtIE6y//rOVI/SQfq4jQ5TWJdviS1Mf7E6DWhwmxLGij4u\n",
       "PIPwBmRIZeFqrV7YR8/ygsDZ3pjfiwHmF/repAvl9QCYCpM1ee2gHeR92vDW+t/+Dv6z/kelIh9a\n",
       "AgJaaJA/sQAM9rWw7djwXLFWUbe5Cz7yEVNtFmXpMVeewz/2tzUUjwUrM7e9+PLRW9CXLSLTsxWw\n",
       "w0CT1eK5PQZMIBFcE+nrUkNcQJwOXGFhbr7EaepvTVcafvCZYZelVZRK9RPiXsh5HJebud8Ihonq\n",
       "UQome7HUPrFXDKLoZYNKrtjphxAsJR3ZC/DMc/jurVZqZSJdmrp7Uc4FXgW7/dGygI2BAAABuQGe\n",
       "YXRCvwFZ9jnmB/X4lfnAOXYjbK50ZJ1wHnN1KMJGI0klNdGa2lWc9g/7gdg80ANtXbyrWdoVdCJD\n",
       "b2QGEasapbIJf0RUKq/UZIvI2oZTQQRXb0MgNMKuhwI3WuawyNZ3PWf+zQaxt9prLjyHW6yKjsVO\n",
       "Zr5A5xiGjGJY0FP2Xd8tReVGIeje4dn4qQQSsXaq60SuQhZsVqQakrlxH6kgh5trK8Yze6OsgHj6\n",
       "HnOGZA+ECO0HsMho28OawHvRFQ9P1rr+RrSOBQ0jvc4FarJZrbVEcmOOdirrAckNO4YQS9+rMQ3B\n",
       "1FPS+F7CfHQ8OcdHl+r85hmrORQAsuQYyEm660IZXXbTMmfxQ7E1Ycm52C2CubQR66is1Hi/+TT7\n",
       "f3GsNSNa4uUeJ30WCrSK/Pu2ai1UocFLYdoRxG3IcQ2A6aQDbxBHgzKKg+fuZhMxnI+D8Nw0FCI6\n",
       "ZzDkdPfsJIAaP+q8GXdogv3v4VgYCgseEDb3hnonXK/iw8W0Vane8EDrgEKgoZwBipA08EQUw1ER\n",
       "Vz7omVUvwBXjg2TjY/FEOQyYccy5z9S5QFLqtSkpMmJ5CqeX7ygCfgAAA7oBnmNqQr8A+DL8Sjfy\n",
       "Y6v3A/Q8ADRRbQ6bmmj1J94wMatlE+zTGPnBcIR44lICQGExA5emtzRzitlEQZHYNPdNtfJv74r8\n",
       "IS3UUFs661AFtr3Bc0AZWdWprIHkeKnXGQtJiszHDZG+7BYlNviDGtj1CWZj22/8ReGjXjLvOJaK\n",
       "HXruuAbVIxzoZG+y+7/50hPrT4TeB0ryjVXDtf1+Q3XOf0++ZeVD6eqP7s8tqOOljPWx99vLK/wv\n",
       "mje7C8R11pbZHTe8gZ0N0/rx2o9lj8ACuXg6uIj3oWa21kip808FtFarOrnFt2zwbMU3LaPc7wWp\n",
       "UZ3ppGmRJcDE8grVWyyInhcFF8vlZLd2HgI/RqYm7SkgTKklGEEi/kdkzNq51dcBHm1QfQQThHMs\n",
       "m/AmnAb5xHTQj5eGuUbGVZasgtKaCsqJdU3OhT/9Jc2qd2zOPEzQhPn/McmmUHEM85uszKnGQk1S\n",
       "mSeCTnO0A9K1aRsM2iPHs9ZLH4DP0NdiZfyIx+SynmKgAciS7Yk8AMnOYnOXTDuAwRVfLEx5/5J+\n",
       "YCpZwppIt+cZYKNfgqfl6cgG4p2oXGzy3cZWohWpfpldCcJuvEoK966E/QnWvFntTZ9Hnecuwlz5\n",
       "d26H8wuB1WDxt1uo5f+SZ+EcT7zVmtTKdnTb4JdSh4++f+zOxcxIhIHQG3vjoDqCuIbVuuYIzIzS\n",
       "luFWYgTpu1rvtk7YGd1GIHjtfZ4RntOp090JjtgPpjA1qGk+U2sv0jAB0oFH2LcJvvABOdO2bI2c\n",
       "nYjnA98HUetzSKWzuSnUL9g+bmgTZzHvnI9Q6arDMnaScKi/5QVElO+aLjARK7S5s3dudvdH8LD0\n",
       "GJQaWqGOOyrMcymXjtVh2niTrCZuFgkqfEXorkE04J5dxqNgfw7qziGjRl3Iwoka4ErinxTx8AUL\n",
       "nRMj8QxCyzB0HvBAad/Mryix6JbFF/JsObn8tQc2+D3N0fEw+rcfnK52j8GcQnu82wBO5WWK4Wlk\n",
       "fFyL+iDBzHYfD2/HU1gYrJ6Ad9P26kAsC6Oc1FNsob0kHX8htOaL72p5TCHKTQJ2jYuhKIjDSUEr\n",
       "HSa1BsnfaBAe3uxJH+s7n+3BpB/qit/L5Bx0O5baVFKMiFkYum3Nd4hFqd5IENi2iH8rq0O0YalC\n",
       "ryGsXjjwvT1OuMyn8XgjJHraNrTC8jc0DzDbr+FwJ2IYBS2ZjqjGYNDEBa361ojnaJgBzRIepxPI\n",
       "u9CQoA5nTUV2FGIZ6avw5D5yrEr2LjlrO7p6j4EAAAiUQZpmSahBaJlMFPDf/qeEAY3nNwAmr23G\n",
       "jAz/8Hf+0IjQZF58Pj9q0QkpM/05geeH9qB5GGlVtcgRakwlkclokk2k9xLg0ygY2tSdz22cYZob\n",
       "TSM7341klIJqy8vd4qNQQ9asXA6jkFMHo83RFf/w8eNBgF5w/MeU2z1tFIhWCZfg3I5ysYbPcYZw\n",
       "ujVJ734Bguqpf1kMZM+FXqE0u8l44XFhmmtQlU7ZLqugYNN7JE6fEOYtBqoOIz7ykBatRBuTsIkW\n",
       "ykZQYrOcfZWQkRLQwUH+ELb7HW0BhQuD2fKY1g7ZN9LpCM8Og0JfOmWTPW4EGMZ9WMJNlhyOejYS\n",
       "Pc1RP/32o8MungKju+uk0djMXK4Ue0yyvrQ1qc82pcJzObuDZfzowew5N6yj/xT+e4vgQ2+DhiAx\n",
       "jNYmYbqEmisgi25aaS6+VWN7+j3HCJmgGAFfyRMsNqS/CTqH3CqF9TOe9mqnOyPq106TLZg7JXCS\n",
       "JNfgOEhRscsgLj1PCD4fohBtJSJ8RhQjx0GFQ7CIE2vuPHAc95fC1o4JcztwACdB8e8AZ/d+04AT\n",
       "rqLS7D0lBVz9mDXhCNBOHrIIHY3syLMCurhFaGwUruj0TFmVUCcBkg3++T1NK5YQcrHJHGBgC9UQ\n",
       "trf9CPd+tVhX7zJrUi7tV7H9zxaqFSTchNeWA8Z2WBS0rtVwIqbqOyEEDGyinReajgOsAFz864s7\n",
       "O0RD33tcpw4/+Av8G3NbJ1H4rXt8mFsb5KBtgI06kWTOu397YniXq2n+fK+lpjLODhNbesDz9NvM\n",
       "eyGXb0rBoZvuP6ni0enGjLk2JAgkiylhzKoSsP9FizDe1XncIIOaNcPCqhlR349eB2iY4lRXyWGE\n",
       "hyJ4ZICq+B17jBD5uTljREd54mOTLgsGEXmORjHbW93LonKZHeXR1zyXc2ylkD0b8Y1Fk7c23VtK\n",
       "SIl0inxGcF772ae7z6/Yflx3ImgOzAb/JUpDD7J3RdcnP7XX7/ArGsNFE/+yHlbRbGGj/9VxYI/s\n",
       "2YkkVO7wKLNC2Zq7avdm6rBjllD5pCPP9ykWfiuUSy9zO1CVZjjS6UnM3BH6jMvcQrHx8JhprSW5\n",
       "oGDoS6UUIOgAhiXM2MIcHkNX+S0Xxiyy015+voArYwApNGrAZ+um6ZzqKb5Iv50fCpQIrz8uaDqI\n",
       "kEW4nJLYf616dG3kGGX8UcYO7+fbexqA+g57IP6ilgc4OD58JOR87DEFTSsdt4QTTjUMUoRcYjub\n",
       "DOejpN4Dcfj+HDR+qe7DRHpfrMKnm8PMnteO10mtUHJJsTpGEMKzKIdG8lH00cnSiN4Xn0p4LfvS\n",
       "lBpYHZKjh6Aw8KYHar6xNz0L2X9u277KRtXUDbxrOIt+0L6YUxOs9k2KHQr9/ZlHcSGYsJovob7u\n",
       "aNbllOfKkcFKyPnJ3s4FfDPRNuPaqPhWV1PEP+/V+vOfwQz8eIygS4yQzg/KoDbTBz27lJWV2R09\n",
       "lIRmaGAABvVxqjrCiDscOvMk7uQultdftSWt7jy8lXEN0KjH8GI9hrDt/Arzmpxyt1ciD3gH989Z\n",
       "MIGR0LoDqTKTX3c9Qkxega463lAFeYu3YUeWMLUCNgdc4NtQX42eor8DMFTvTYdasAjx2zWgiabU\n",
       "8uuv5M9unUvK5ENsBsCHSSn4dB6fi5zRo+hVFJV/iphlZ9KUgsCJTYBcRVO4aRqX1jhXXWLRIkvB\n",
       "LpRmFx7uqqJTsZoTf9NXL1mTAneOgsNEUAmp5SjTXVu1Z6FSf95L6kmjPmejA8PhHqajITR3cvr1\n",
       "KaQp7PN5+WxWtWnVAkmBy67itIIhuY7kz0WaJ0CImXbuVkcI1NQ7Kh1Xc1gn1US89fSxTm2WaRZT\n",
       "Gs5at0e49js6vvOSVwP+UKVgthAI6/E0x6nVyG6M+u22qQxSH4Jhsen25x4TXwCspp7OmfrqL8Od\n",
       "HVDXxbmkAGBN9TJhCZzNAVR4+erDjZRlsqNwYYvuvA4hkdSGJajg+QPTXg/lMFvu3yIo5l8SY8yO\n",
       "MjbdWy2VJNofwSaJI+JqRwVTarKF7VA/u6giZjUf5MdNLT/TsETb91gVpzrd+12KBJlb9cqUchaD\n",
       "Y3q/BT96HYkL8Btva9/b+1GOfXSrz+Ulr1EXYnMoXVo7rKcxfFtDiR1a4+Lodd5HSQL2KqPD6V18\n",
       "0aR5wmBiP9Up9rFpRS5ZoFfXLk/raa7KQnoVUGrdqwvhWIpmW0o4uw74nPYam7jXtqlSFewl6Jpw\n",
       "7tPRirFswbhOBm6Ih13dpT1mEmFxgk5r+/hUd5jpYgU6PYqBcXizQvQu/eiGTj2Ar/kqvNOnmxuY\n",
       "KhVAkl7nb5ZloaeNaajZItN2xuPpg+FVljWXmSlsEcZhGdGGVXi84tIXj167BDf8mPcb1NQ46U5V\n",
       "TmmYKBpVHX4hZaCgElTFZPQhbFJxVJooJD3cqI6rfBfDjLQGOEpIcJDlkvA+AJ+BAISE7oj18LrB\n",
       "zNhFoeDiyjzfSFDMNxTQddvs8bVjVh6kE3LPcZ9RBePydkxGNEe4wGoUygfO6+NVtYy6b0LkZAan\n",
       "4FDqssxozcUVBX19GchX/7g9IhCDW3KKsC8r7bjto1TTWmyU9lSYvO5UpA6YHk7ytKpoESk5r67R\n",
       "ggSbt2zFGwXyxfB2Y+saqyqPu8YG0QBiGdTxnJao3mT6G/gLZ651cb7qo3sDwI+XGEBmvFKkqZwA\n",
       "m6X+Q6UVqZ1wN/ziUMdS6PiNaEmo+ZWs+HloCQJC0vwJnYJzyUDSMHcmAePk/b+bXJpOefGdZFDw\n",
       "GEKADw/OctklTKaY6ExcD9LUUfqGytJ5vDZ78z0nvUksprc9w2wifp/ClXAhddz51zPFXpstGox7\n",
       "Eda2NGvB5YSXa7bpxmI3xAC22ctkDo0yYm4poXTy9AzcNEC7hiSj2Enx2khT7GgXfQpHvlBc2tou\n",
       "3hejcde1AAADjAGehWpCvwE3DJWhBdoATVi7O2gB6Uk71gD3mwookqBKuSKOWZ4fOOc2GVF6FycE\n",
       "EIxUT/B1nj4o7k5tfzDtGhImCr9IBRmalVOLyH7iIshI3qyACWPtSY5lQIvXL0KU/EXeAVUNSlCG\n",
       "thGVpr2y+y+jrrShbUVoZ/Ee5U4gn+seR3SayMjTzx462fRavPHT0QZNmgn3Q3k1A7yHQRLP6l9k\n",
       "F3KsmoFbsKkXAEPvJhl9wC0CNiYMXN/Dcg36MOizBgS+76pPCZ+Wb37rt0vysZVwO1yDdGboVcxh\n",
       "0UgeTbHU6sbxOf1O3zlq+NtAzzyPu+y5jkEAmHa4kEpVBMz3SCAk6BXdbw1Gipf0DmiesxrI6rLj\n",
       "VUB2gB0coXRVHaTMRi7xix5W050iSgps5N29vSEv65xqvsj3AiVr0mlk47M8SjYBwE9Ai68UDX2R\n",
       "4/ljF6eJ3BATdQpsBSSxcVIs6GRieUeMBNOuGCIoPJtZ9h2aSN1Hw7svT2+gLOYBsBMubCs4/DiC\n",
       "iwYMk2wx3iPcn/kLP3D0SAK+xX77nQpAtYAeEL43NliUCfOgu6PmVNDYiOWdhICtl82k0IpSBuE7\n",
       "bV/25qXBYul874G2vpUa+hrmOVqTZFOtpy3LObSxUKM3Q37Sb8JnO0z5yWEfCTu0wYnAiSiwXGsw\n",
       "6bpqd/Jzpd/aRXSKDBH06nj9K9wKCoWEQMlZ2hiq0heFrshZ/j/NmL3jbBZSjsa0pmxnc1EZV1OO\n",
       "fhz1Aut74/ECU6bAFOEMuxqNJBj0QXAsfF+jYazmDtzT4s4GxFc+5fLOutD9a/csPdY/UZVIKzFZ\n",
       "E0vogxm3pTiFVjuF3c5GP9eRcDsm6v0du18OQNKuhRIo0//CzALZLrALd9N8pY/MN0P3ZlYGTiKA\n",
       "Q0zgpVXGiyj4qAxrzXB3aVHzDBXSa0W9Ok7PHwOu0PE0LyGN6Vm2js62wDdr221ksPDeYM8U9+8P\n",
       "SM9HlbnW/56AaGlcWnUG4v3j2VnFPWSqQhMPJWrUhHNXN0BpzNmB7mUMiONq9+AUhg2xuRrGCI7b\n",
       "zZtCXgRxMFaKXRy89eHUHP6WDXuJH7B+mIWEI37GSDPkHIMEMeab5Slwo1PKFXEUi7eIMIf1sFo6\n",
       "CofzdKwE5xr9hPUoo4Cg64nlRWjruBShYjknpBoevofCgFUuM1qnB1WgmLP0yqT6Z1QWuEa5sySz\n",
       "42pYT16xAAAFhUGah0nhClJlMCG//qeEAY4otfiujUDKRzaAveCUSxjp9ePEpsNHvSSTHAALQ726\n",
       "q8puSFtL+djBc0WEUqUbFUV3SyU1T5o03+j3lyYVfrh7qDD6wXM4uckh3ObV7nkRXTqggTRbh+iV\n",
       "UjM1W2qzXlQHEPeO6CWmd7OcleayUkIClDHQCfdkF0mOYf+d0n7UYDZ1TZaDb+BBttH7W+JaiE64\n",
       "98OMEPz8ft/VSJb1znaSuKpPlRJlNqJ5Sgv12GcAvvY93tNpdb8kGcW4lD/K0aFKJqBibZTYBX93\n",
       "aC0fvx/dHaiHD4igYmDF/zA/fAgZSzDZOl5xMIN78xCD8PtNs8LODvGgfRCVktvfRSFquSSqX43g\n",
       "gJsMQu2gWuU4Mfzq4/oQhcs6/b4FCrzEJI6ulYETdh54toSBuaMyH4q2pgdMYQPsAwkwuYYygpye\n",
       "13CBSCvZxmh5EuHKHEJiZtez5Bwmbhl2cbcT6dU0FAgyzgyzUhwE0rEe96XmpKFFtjXkcky3keZl\n",
       "OX8Wiww8igvCSAB9rk+mMJSK2+zPSbs17Z/y0h9JXIxupvCOEQj4z0NHqTpFhHt3xA7Qd5To5J28\n",
       "EB1TLaZnJ1yawI16fodLQ+xlJgj9EnT8FUD2eYxUTjOtShrVYx+XB+wtoiLRz0/LaT1eP1BQVBhl\n",
       "yM9ujwoEYXYOKutMtKOjQBgK0SLEAYldXX2FtfiMSf+Wck9FPFTuH79WVwPIjQbEAlKN8/Ek6Zco\n",
       "yjq798zOH7liCoxDXBjlB7XZD/1d7YnIZblR55X8S+NOZ4xEdREw+T/19PHcHr+DASIg7iid+pXl\n",
       "c58K30Y7vW8o/la2/GQ8UtLnMDI4RuZpA1fz+3aYq77P6h68WI3PhGRf5BjLx7mlQXwF0XL0aQfB\n",
       "MmkW/XUJTKAy0aQPIF1lCmbu68TySxbkBBCiE5spAyi3X4v3or7FlfQS+BXBn06X9F8ayIIQh+9I\n",
       "u0VFcr6UbcLo10114REdtBE6eFgcAp52H6Rb0ORbhDQzVCIL2wBfb78RmDcPNL6XHp4jpIohPZVa\n",
       "QFVKymlFziUzf5pzc3BgcI+Pv6rn9F3ZorNUglFPwmWd/9PYPJcoTYQPfsUyGROx8//1jZHW8pew\n",
       "JALKcVUhZgXzGdWnXcXzk1OnCGHxOiXAvfZoWvflcm2Jc6jB+z707r0n6Bgh7ODah/SCqUX+Lw6F\n",
       "d0t2FWuxjQiPAHk1AggcuKJ4Jbc/7vSLwX8Jbc3dKLlW8IABUJ1PPn/RCXUbOMAvieBqG0x6Zsdc\n",
       "IBhBqBvGWrSWjbprIAFAXGr2qIBDO/8H6CEFu+pSSJH/jL398fRcw1ZqXODwVMnxYALJ1F58LnA8\n",
       "mlby9ROfbY/YHFD4lj0rzoq5oc4KmfNmeHgQeyRjTplYWoJw/u43g0dhCDo0iDuBS/lXbXjAl71l\n",
       "cg/y8D4+q9HGQEo9neBIMZ3Z/jDEeMH/fSorpsAjz5rNv9LWhJ/uZo/uYEyVtjC5n0KOxxfAVADv\n",
       "X6lPudnVcGS2Hjil9ZEwFgUlu1rVcnsele7FFCvM4eEyfu5ioo0M8oYOxzPCW9NRxLXjtUXJ0WMi\n",
       "ktEc0mFFFevVtIo3Zqmf18fYg5M5vvR77+EfAKJOPcKI0NI7VLmuh5l/3Zo+5RlZzFsP72bvXhWT\n",
       "/N7F2Tz7XSuQgXG0NjJqfAZMoUP5WBeP+iQ2pSdzjZSpgv0HwtYXk4Tb1QPdUi1Od08o6hmYInbP\n",
       "6uq7oC1A4pTpd6IdC1k/gInBUNsZSVf6wiQulO97oWxHYnCDdjxPbokqZkQHaci1eZe8BVmjyjNj\n",
       "n+gm8yBGoRl9eT7+8Jc9LmIoL6oopthbaRdDh1F0vkBGIivOvDgPmyDnXIeYdni7FBTjkdd7uQAA\n",
       "ChlBmqtJ4Q6JlMCG//6nhAHbmn/go1IAIgz8pBLBlxqIwuy3CS5oXxi75E2/KBBa86Cp8ktr73+v\n",
       "WEUy3SFLZq/jAloBjLQ8WEQ+f3+OX1vtbih3Enp/xHh7VwSspHnOcwuVI3QTxZrcA2WNwEmgLUqE\n",
       "imbhdQQBUHmN02rTdZ4MdiZX0jacGtqMEwNWbH5ZWptztG5hh3Pk9WcpCS/e5oS+lEciXk5MVYbN\n",
       "AH+m4hoXUVqoqmOjnS9SU+QWoUXeWy1cQPBc4+d2cGb/NphUqyq6b49Wnvil7L4LdDIMQJCyKdvb\n",
       "RhqZPOnOr6Y1QuUGwyGZJwE+zHB29mdr8QvDMfzEBPMJnXCS2JHf7/r/amNToAHwlQCp77sgBnZH\n",
       "C4+P7iuH4G92UZbHohqdprMEfaWDmq8GvBq/Gh6o4VmEiTwmRwroiMt44ezlgxsFjbTaq9Vh4rb9\n",
       "8z0dTVoSHLlL/NTof0h2pYlgjU1viXxl1k8YocwCtBEZdZSDp31Tpd6MJCEkrQdasaLcRVRNzIRw\n",
       "L5OqN/B3JL0KyZu0u8iM8Qpk1LAWsWOzfZPQKp53yA0cllMZ6jG/fObe4fMi1dY78ehDCc71HIz1\n",
       "G5Jod+91bpefDdFs4ipX729HMvVXAcGn6MLHu53+KCwqXl69P3bGeWOR+4MGyG0pCyLE3D+pCEpS\n",
       "SShw67so8MOo0kuS5qzVWZCkYHHuYDKOG0rLKHYbTyX3wTDZNtSv9vfaBtXT8vM5Rd6nffyViEBO\n",
       "rTHd3xQ+GEIEPb1OS5WxqAM6J/ihCrrnm8YuGchkSI6hzodn64dUqp3EjsqqJdbDMoo9e82prrLN\n",
       "ZuZQyU102qZ3F3t0YOTioBSxEte9vY0EkWKfNCi/JbCU80gr0cudUeFuGnf18rRvETq3DWNjSt9u\n",
       "IC0F0UN1iM0rbYmzMO4oy55/BWGFXUEgHo2BfI+EDMwhtVlx8F/XRx8Gy2BbaICax6aU9tVmS83h\n",
       "nuyt38Q5Eib0aieCfu85h0+Jg3IGG2jj3o4lQrcnnD3HYOeIavRpSTd/E0z+rB2TdAge4QeoPwV3\n",
       "MIs0hYKuo5xc4buI2/pj0whSS/c47kXYyO0kfdfnzbCoKEd12eK1UorqDi1w/r26v9ROmgwhO90U\n",
       "sFJLMPhpN6oV/blYGRONtn3oVmfgG6eA9Rm6nUkvX1jowuall3dzw0kwxDJ2VbJc8lAcv+FQxoWH\n",
       "de7wmmFkXTaMwaTYWO/QihFQ+HFv1NCae/nvf0P8lWo0jnGMjZDKhwx+okvOE4Xd67tAmfOkuMdB\n",
       "XKzo1aQsPd7Z6Z0PBpGwJMTK2bCxpEWIknZDYWWma+HhiZ0ijN26MzLGRgppuIa10qhcSCl+DOTf\n",
       "o85nU9j2mRs2wA6HU/hyrLjO+hHZfKyAYSTON1xIpFrSx1xEzj6IugsF1lYfEYywGb4AQU9PwSSC\n",
       "uq9ocKbOhuwATdM1J9ygvUy8lBU97NsPKSf7X00axGcZEd5euEAOoFHvLYrk7+4P46ap0WRu53YS\n",
       "3TIxQ/DEmm881//au9WjjIHq5YvMnwkrdRzSlzRhLE/jjOMHC7duuyOu/zPhIHezdOoT3jWTno+c\n",
       "icNwCfjwH9RwaaDBvveLT1SaQI0GnxbWWme509IkxW3xGGPOC7eWPzOh7AfwMxr9TpB8IHKdcRXq\n",
       "/orAiTwTzLcLeFTlXbn8exVXPC7rQzQvv9TSgzwPnvrNtGFJJSSycGrgVjyoNpJLdj4tjBgIwl5j\n",
       "C7d2UxewwXL3zfY2GmC1N4/zxPBHjKgw9qkUENtoDdik0h4VZexyXb/aMLekqV5iVgVT8jdXQV1E\n",
       "Sh5KT37ZwWbs3Pdyb8Az1XAWDWOadiHe42/5Bt2kYIJymfPY8lGc+HNDyM5yN++9i+MgCjcrS1yr\n",
       "YPloMndLMfHYBeS9y2lV1irIDwfLNZu1M0xO6f+QgkFC4l2HM62UkySLPh8sYRUrnNTLCMwBCrrz\n",
       "Am+DtIdsOaVYqBIp2rFlYx9BbA6iIdl0TNL99D04o2J0GyKaiPkljkfvE0rwDi1paI1OzqL/XIWz\n",
       "ZtEejU0ocw4lTGkjYdZyLIluUQZk5guaKJ/obroaPqCZE9YZ7lqYGOqrQwu0lHgEcZuf3c/lRM7E\n",
       "sm/B5o4RA7kJA8bgQ6WP3fnx3+qGoqH6EgonF3LNGf7jOEh0PnBVKB29+1+epPWd9x8TXQ4PbFPv\n",
       "Ud4mUV+4AdqhEhrmcy7xHxat2MBgx2PVjsb/uLcOx1ZTXFVp9f2C7noP+OE6lwykhkI48EMsr9Vv\n",
       "1drJcE1W9m237mdDBej/ZkqG9DmGIlgNdhWk0wTRti2poJf3M2l7/j9986MhN4fuAymg1+yej2Tz\n",
       "MIRd/vgRvn3jTvr5c3FZuevWC9qjT/tVtcKGtZMPnNVaDPXG0E6QQX600fjQ4CuDKgnoD2C73+zM\n",
       "7A0wn88YO9xft40waNbOl8k1lr63+gNO99ZVdrDh9k+78OdP5JqjSLfGBAvRAJZFnPYDRD84c011\n",
       "sdGrBjT2LlPAILOnTJaH9UniOhFS09JacWqF8rqADQ82WDYMOt8ThKDBIqZWdKnRko3RZRktWUwl\n",
       "cXldPCXnCH+hkUmJt6oLmCfEi/7XY2F2DlGWZBIUD9fK2Qz7Q0YpJPQHoQFuNxAf7l8MGmm4deDV\n",
       "0FqzJ68c3mzADbStE85V/5BRP0QL2sitiIGbIPxgvAnlWaNK+ebKL6Omxx8LMuyUKUWa+gB+KFdo\n",
       "zm873iIJhk5aNliSo2+u8XSbisD6GfqETXzdVMrCoYZEC0UrIFOTgmZrr/yL6RodMh8g5E6FMedm\n",
       "XePxY+npX/zMylwW2gJKuVcpxrHlZVIFxIyfYltRcBgVWjhuDc3VcAKOlYksG8uBZPyuvgJqyc53\n",
       "vGUwl2sqbxOI3wc+zYw2jCbaFQ6Sr2jmgnZ385rYSWi4u4Hjv23As9f1q89RlgaLx+U5hf8CKRcM\n",
       "F89fSnQWvwxSvg7qHA/EuosrIjpEOFvm25Sz7crlV3WZ4qe8OeDehVh1Kcgryg+4WhX96LTvaJuW\n",
       "m5ou7FTJoVuuy4vddqlIZfe0u8XU2NxyMi5XhV6X2NL9g5G1JJfbS6Jg6Wpp+iTy+ZuhG1Tc1O8d\n",
       "VycAwxilFd7WG+Kd8iLl3FyD8cu/x7W9CRJgu6EriONi1XezBwQITw1d16lmVnWSYJnIF4ik3gor\n",
       "tOcm7J8lFyCABghGD84PYBMOPpDKqGbPqbbJj91+S7Qnn3gksvm4vM08r1We1dzeqjbkNBI/0jRP\n",
       "WSbvUX4tiGa6/AeP/SPMzIJRFn4kQjLHZsNSOeZAQt8DCeAYTUYAh6PrPnzYf7EqG80X53/E9KP6\n",
       "UcpcyhdKvgVcJb+fZ27f24BfaqwW1C26H1tKKXIxrtpdInP8wdI+i4UltoYmsJnbp1OXwaknMuey\n",
       "X62flpuD8mzLR+ZOYUfAe1AIO6U6YAAABQZBnslFETwv/wD4JfEYhfwqS6sO8xYKA1a1zEGkAHkB\n",
       "v4he5q2D2XMu4V88Et/QUXnyTk9qKn7P/klkQQWy6lvx8sy6IOAC6B2H4JOL38tg6h+HF+pqntkK\n",
       "GaERKegqAv+lzCsNExeVd53AUVLJIAq210+nwc/TKYpKADA18RzdZcKEcNpm4eVBO6nQ0I4jprbR\n",
       "LdYXfOubpWh0wvQEStRWucLtAHwu4vwTvldtVU/hs+hzCpG0oZhcsCiHCe7TJmDCB3Yfmi28Xcgm\n",
       "vpizw8pKUMt6ERGvyEGeuTPkJklQLBiCNTY+PoDJdtMn/J+I1w5ys+Ryz3SHWAmglaPZlZTQ727I\n",
       "8iZdCEQYn1eccURzlgnf14ccQz4PfMa33UwBplo9BKNEK6rTxzQvm53jukrF7KSNIE5GbWU27ixR\n",
       "dvpBcOew/J4174FIrkNpUjQ4O8eyYlISikfeQJVpC25HHolSB/QBtYttnaMaMDltADJq5DiURnY6\n",
       "ABTN2VuatoG2raq/bun+MRsqiCwG+itfcgxE73ZMomUH9FAxm3rroKV5weZFgp79rXL/EbOygc40\n",
       "mHtVWd3WDIU8yOf8GuSrJaJgKFFNmO4xUwqUnJ6zkuDRMdIUOhBVw5+uZ7iYR7htSotc8/MoDiWt\n",
       "ozI7Z4gLpzciErSn9ndG0I7jYrUdvARYCnYd6hXHyKhEaG4I2EeLilaMzUnlGPX+BEussettH8nD\n",
       "V0SLTwJKx4hdlEXQN0dWHLPXMaG1DzVGmiUU5EqC2wvPi+7N13Xzw3CRsURmQ0RTw+iH+f05T7BJ\n",
       "GPQvMdOvT9zX3qjBst+b4eLGGk6LiPu7gfD8YBrCDqwtMNJzdwaLPddxTV1NQPZ5v3VbEt4xwKcV\n",
       "mLr0XiC2OigfA/ZbjrzlkHVazCO9y4P5u8ozoAxHT20fOe86OQhi98/Pq3iPEwHnYq3aeedz7v31\n",
       "ys35lLjTvdH8t9vRT6Zas7RAbCZIFLZptB79p84aaMREqXLosHxg4r6+cOh2nGq4OEHwJ5t4AEs4\n",
       "SJlkIj+1BabeMKcJVHVAxo/0K/g5rN6Fwa0TGjvSgD/sD93TbaL+S2E0DyWRw5/1UQTS4h33Z3fn\n",
       "THNjUR4IioqZAeDfnuzhOzbI/wQLex2syfTxzCbokSZtIAZOX36ZXhTAruJihBTT/f73YfbG0ilu\n",
       "sLHD2K24P6FwofLvnzc1HE4J5npMkJPmwSNrkVYjY/9j/4KWQ6pczJiYiVXHPG4cka/Q/pa4KV4H\n",
       "G166gPJPuiaZfanwZINu6P1T+6uLcbHJrCnWhSuGVUOdqTxHUg12REQsP4L1bFJwk3mXDguGL16B\n",
       "QR2PrvBjfFoWCIL2fbtX1vWz753Q7ULeuC020+0SwjxKEgxiakn3Fs3wPQJKzK/WoqL7A9pmnTqc\n",
       "15zfORA/tJBWyO1bOQj+OW+dhB1UqoSeIsVoMxvS6p8NeWSkra4IYSCnfajK169jA9Pit7a8BCHY\n",
       "bID/OqLso0syXiLIVv83w3te53Hve2Ata1RZUids8LCA0cx3AERQwkcMPk3YhfeY6NNi9i7i4C3x\n",
       "Swn+TW7Wlddd6ZKt9S76nsXObj4+K4IJBj6aXJIbrKYj6RIMwlnkdl4ECz5lBJ+15b45UqjI/MJy\n",
       "6L5XUFWfjVxEtyimRFeG8MsV+UzcMmY7FrYYeL/G9Mg0aPj47E/WBl74aj9sO1PBltU/uO1zWGc3\n",
       "oAAAAzEBnuh0Qr8BLnNihRlpcJw51tqoAb8yCGrYNxzg7GPLPX22N1vnKdUk3b+KYwdQcGeHUm/U\n",
       "eyJ7xnU2QepWYiGx+6ru0EnELr7y8FY/w8S8qvcN4UqKAIebYNcfTlLw2zMCJe1G1wPtxnsubH9B\n",
       "oG0MtImNaKQSfyjmU3H1pdpE1B+geWDqTuxZfr27HUxyZJ5ae2rG2nk1Pto4PoX+CIqjcTjJUTBf\n",
       "1kWr59lWHOEX1LZD92n+znbSkL6W0bG4R40hBgDzWuQuGEieI5WiG3fDIua8ORoClxuy0K3gaqdi\n",
       "PigNV5kzwKb4q8eDa081AbR0uKZwDHWMn6u/RigLIYS6jEAdfRJAHijXHMH3SP8m0uw1kixMOADk\n",
       "e3UQp1qxd2ydi0w7pc5FpyW00Q9NBBaaeD6aoZB1HEhdnJ6iTWKIL4LRQkvsSYr+M+19wlMLPRCC\n",
       "IVlU4Dv6XfJyVNsdKqtNDDhDAq52BIuGAOxecuPPuBSMuDHHhh2u77xPk12+TEMpfwT0nSgyc4Z6\n",
       "JIEPNrQXM22MxCbZtBBBxoiqJeTySs7sk3OynKWkEOPFLoin/GgIyH4Zn1/KizQrspp/u2vTcbiu\n",
       "1+vLAAWRf4J219cOX1sTC00UJdhW5Zsqh9DPHVw/SdqErb3Dz10uePm2Jnw8dC0zl7MbS0klg4Io\n",
       "I+cEAaO/kxJJN4D0L9PsXoOH3PhZkXe7J0QGXdIPjrDgYdCME9DurTK9tizy1ab0aHijeKXY75Ep\n",
       "SelY+tW7+2e1Z6eJG1Jhe9YxkmbqJH4be4AKWd7J5lD6f0Vv1ielyL5FXGu8nSiw5oOEZdyrB+1c\n",
       "+D9UDsEVA9YFx29/vdaG9j2Omgkl+dwwbv6q+nunLUffQQ7v5jWVoXOETSQAwymqedjLz2HrxfxR\n",
       "2k7MzhkxyhQoDAlz/Bkqdjya9GeFeumEO09V/F4V134Hpprai4UcCwavzzf563T+msAdQnuDfMmt\n",
       "vqr2HgdEV+d/nm2tHYA+zLC3VKBSjCl555gAGn0Lh7gkQC+X93rtGite6ubL2TGY3l7RZ1TfyPWE\n",
       "9mhSu+l7dBB2dKjlX3uCwPFGKiov7t1lAAADPQGe6mpCvwFar3MznQwXtDCwrov0DRTzwzCiNljA\n",
       "Aqk1/ouvzAVo9PAUEgJ/UjIkS9CfMHBLsMC9qs3+OVRAaXBimn8t05+1W7FXT+WvdFNJsDJLWU55\n",
       "n0TANch3QeP4GWEw7O852z9BkRVbBUyEedfHA9ppd2xM/t58+yzizQF18FbBVTubPjGMWN3gS4Ez\n",
       "hLvQJz4j/XcEhA0udaAFFRZK7kBGj6wVRzktgTw5EqmPNOZTauk1BQQFdteF5qRUde0zBFKGByR5\n",
       "RKB4Ad0kGK8weAiw9pjii13/xazsPYhW96KlZ/fHQyF6m8qP37qVruQl0XrOUJchOW8A3OWNV2TI\n",
       "Jc9a+hYwBkzx/tYiEzu9yH0tiXV50JQkwun2YrHv1vZGbYFC82XaPnWtEyJrPb8gZ+wAKgNvKPjf\n",
       "vAjUt8DhS/L7nJk7BHC0ZNrP/l1rwSawsp1aGsTfbeUGSJRyC5lDA069FOnVBztdbq7TcaG4YTZ6\n",
       "L1HFRPemvMVc/8y46Hwh7zUbwPZKhtsayYBUBTanofKbZPwF0MJUBPxQEGOVNusmdboyfZDLr0ci\n",
       "7WdDloEKjNF28s8ka9vnKklNLc6xtYFtV2oEhTKsw7pB3UPne3ozaoVxRL0vbcyPab+stX4S7IcC\n",
       "E4T6QKbSHmmt/mKu73HAsLeok0vwBivmfdWWX/B+CLzVD44FruZ5FQSOjvkXq5rl3DABi7ZD7SXv\n",
       "rpsXaZH4d7XtBSlIG1a4u7UW+EWDozKj7uBTqQEWfyxWl6tCq7/nTLCkp48OeSk0veVXZdWCoeDk\n",
       "hizgbz7DJz027A6FdUoIKmend4tOa/zJ7Atmj1Iz3Tzh5mPOa6+gHpfcBf3HqaZT6j3BqT5Y5om1\n",
       "c727HtglPSPrU9n9bJwj2T/cUmFvtfnY/36zG6y7oWDVKspzXr6gvZUi6UQBxh+A9V+mZznmDtli\n",
       "8i61ehaThAHsALIYUEl02kQslon9vNsYMr8MoIgEHOBllzngddJFxFvMMSibY/KdXj4sT3SWnEe+\n",
       "wNacfTK/u6dp5J/oQ3xKnL1ulU+6/+KPnHTE2+QE57KhzdAP/KkNxByCDCDJsrJWBf/7RqFU8kYq\n",
       "NYQAAAX8QZrtSahBaJlMFPDf/qeEAeswbgwPIGGowvAkvzTCn5vIKamlVqtHcrheqSgzhbpl4n6K\n",
       "ziRFKPugAQaR1KjcL4OD7GKXImUgc4IyhhUaz45xFSTrWTezb/TZ9CGEcv8mbg9rs+6mNb2OnWvw\n",
       "sp4wWAPsO4Z3UuP7GGkKInemXSf6WH+PbnjA4UKxP+lvkTBrk5MEjNL1YCtlXEWsQReBnu1Im6b4\n",
       "1//6HtACM440L91Q/v4h4mvmzOCGuSLBeh7W+I+dpQ6QVKguL0MmF72joh2FLmvTURQfuB9ZdNMV\n",
       "JYkEStiyaHUFS1uO9ES6jyK4yRCf53aQnSJg4CiuJe0lIhcI63uiDsYD/g/8ytyGZ70ijtcR2ZP7\n",
       "EqshR+7BOb236i9nMfbbJYQOj7EHbZ4uZefSVMuIbeIZTHjib4kFdd3G2min6kl3QQ/FQdKH46A1\n",
       "8qAr5VtYj1OfJU60JF55M4iT4bTIG9JRuXzE+7JfoMuakFsW0VZciqhH5j1p5RnIsKqph0AICjD6\n",
       "khmV5FQPqi3o0sZPTcUPMNH4xmcypDGo7P5JsJ0l4wyx9XtHsT7PSkEsP9u+JtvQ2PZ8PvtdMEe9\n",
       "KdXBQuIhr8T+k3CSl+lUFCsgNJ1CxSPkkG9RU2Vx8T86SaXA6zEfe0UeIaWi3T0LrE6M2lW0xwRE\n",
       "YHDlCKVFuS136VxLda25bRnJaqZzuHSH5LrH0slOWKK8qWGzekeZ1cFduNgllF9XeG9llMP5NDIp\n",
       "NiOnhAhPbjcJ+dQNt3P/rfTAyYl+1InA5zwJjGAtn7XS7x4uKoTKd3/aZbXILlDLZZb8AOetabiG\n",
       "eD++8x+bCrVEEd/beARAqKmQLyyrP/qzaM+zFuRWSHHinWve77cYejxcYkJy4wUBA7an2ZwybvsI\n",
       "+/g24G6KleUcCq+nioXHFm1Nfv/K7ranYHvxrlwWz51L3mK3UXvDgfr/7b0gpwTHYOlZShehVTZJ\n",
       "tOv8qLaoy8oJq2i4cga16qGgB8Npq9cV2MwFyT5FTjce4BkqbpuB3kwj5KDDPWVqjmDfzHXoVwD5\n",
       "Lt4hgcWAqlhTqULBEWYehj0OMJGJypYvvSO3rigyhnGeW4Q2iV8D4Lyk+CbC4CbgKbBeaXYFoSsX\n",
       "q9wikrfMPgs41/rmbMx8X/foHcFk52uLNh6Vw5fahvS+p3JmF0H/Yla+BfSyhhQvKBtSpHesR+h+\n",
       "qfIQy/iQYnpmAFSzH/MtWT4glhwlXANu0Q2LV1MjM/NiM+20yiclR5meKxzJoJtu0DvX6L2V6xCt\n",
       "rvi/wkff6+dQeIXHhq5ofALjotKQ2/hPw6HWLCicu4BVsFoy2KJhJyXHFrnGdzIhjoNhF3WGwF7o\n",
       "AucAC09iuYmfSY3DYyDKMBM+16BzTs17v/3IXvSMlV+vnr3KTcs3H0cofcH+6v6+S0GKraBLQwYg\n",
       "/M/MWBJTeTFYeqLirVK6/oaykritQqa6vyme616VkLZIi6mhu6g/nusXEznxCxpPNSkqU6jVU+Os\n",
       "jCFR+ZZr5ONJCeVnMI9jypE3R55vR1mj+Li2WrHGpUAFkfOcMnlh/G8Of8IJtY5EgQVjppRiBkis\n",
       "02vz3gwqNCEbZrk8W3I0+qQs83PUl3s9bNmw7u3NX+QjvHWI3cyphaSSAzrUM0Wk9uCTRY2kQR41\n",
       "oSUWTKy9L/YRBLxPFwUpRQ6xNRYf0e+DAIKhpvJb7IuZqEYA/uK1w5Qgnbd8qH32eQImymzzSEx1\n",
       "3LN17aOkGTnLLRi5nVLtc/CFp9auYDOD/JGVGiQI0xG9khNtjN9Q40Lohe4h2S+AwzWhT8NUHpo8\n",
       "CNTlNdszVe5XHtNJuvCMumNTj1pe+kNIJiwFFO3QSz4NSJlzFC60wlaZPvyxkmtZsgCUre+N9Fgi\n",
       "5zgYMfTYIcnmqhOi4o/+Sd1qRMu+IImt8APl5axp9zDAjgktcwXmIh8DDdHFt0XRC07FUmgPH5No\n",
       "aLszfNuteNIZPAqrbPbhi7CvFsv7149IXxN6KAWo0AFjqg3Vk5Z/73JoI8qjb4b4/J7qbCdBFrAA\n",
       "AALBAZ8MakK/Aykj+LGIu6oXHI13uG3tUuGhw/hAAgsLHhhDEe3Qkz5s383xACw1b6ty/PYI/og8\n",
       "FClohHtYJoZX+FzWK8vxZ27IDC1EU++NXFh0gn/paQfaGLulOytJ11aPv/NdSaRd+nPwa6/ij9/E\n",
       "IZsrIDC/7mtYEKHkABcdTusU0TlXQQ4D2SN9ytfej98UALmXScK0WhZZGKcPs0Sh+TSZ+kDOCM+E\n",
       "POAyLs1S7gEWYck8gFQ9M7ICFD/oWLuix1BbP82ILXFEcC7Um9Qocq5e+cVCmfME71qoorMJoqo4\n",
       "lhGTcHjKZD7nP/aa5qL03HP0Af9XL1bSIaOLNo4KAdC09GIMNT4GO9jQXNUi3uA0z3dfNsgtYDLP\n",
       "X9f3Uy5UJmAEyuR3GMucgfeYiYgd9wv/MRqTUj3d2ZmXvgnGRGIvPLvcdkUUXy2dqPRmmOMrm109\n",
       "sxTS5JZKTP7QNFHnFFn059lvT50JAYytcXQ6w9aLLIPBvktghX9uBDl5RZyD6/56jK0XY27l4y5p\n",
       "+0eSk2hYTZBTWzIRndE4++0MixkalT9qnaBSOypwAXyUixGytYrMNplVj5Y1Drmb9g9RQ4OXzChO\n",
       "f/eCaTDwcuxE3CqQH53WF5qrVhYzfagoUA0UAKDmhiVIB3Ha5Vqt3+wuUr4D7TNiI9AM/krepKwM\n",
       "jEnYc8OYcrRHq6LVqRKGcd3wNUIxLtPfvQqRlxe+56ATsXaTCxHRm6cp4kDADYSFuAKFR7MKjUGD\n",
       "wlfxxaVhqn9tPfxwytwAFQe+7/kW/+bWwFmCjgVHEII4oraB9ONV/Xuap+ttZaD5ME+iWESCPYl1\n",
       "nTRGzVSxtpPXcIDji2TKe3LKgjppJaxgTkWEFKC2tBtPIFQNriGDOY9hSYOeXVj4e+PucQ64gjMQ\n",
       "WYFJ2or619UJBfiM862P/qXWBo8lid3pAAAIlkGbD0nhClJlMFLDf/6nhBnbKhQmhXxru3EmwOmU\n",
       "wtqAgwUJWi0zIZZAESC+3HUO+5hANEKMxdH8rvkfSWxsYOyiOcHpa9p5k5N1hjSNrfFAiv+gMg09\n",
       "1cF4v/LCLRmlpi9u1/p1quKmkC3IyZexcp/VNYtiLUza5czNF0u8Qn8v4wjfyinjFQ3+Bcq9S0Wn\n",
       "cezHVxCSnxjTrAAWFwYn/DKNUernCSSOlzFJCGnjBeRxbva1HhHKeqeQgSzrg32Tt6glGshqzK5m\n",
       "qDqJgFyTte9Syow7hBy+CBbPn9GBWT3UEVoCm3eEEuvyz6CwPNI2nrQH48yTu9CCr/WcHlR6vXhz\n",
       "N316znlo9rcs9x8VFHIF0InmUzqv4+b6Tifa21davXOA8htRfkVAqZzdYSsyJAgdb0XXPAmg/Z4g\n",
       "6Lsu2RdwIHMxFBtOZNVOF6bYH0r7CHF59IKQZ3chF63erQrSK69WFan4gFTxNP7cRPxLvTwvcoL/\n",
       "S5LEOXWC3KNs+OIY1iQWlJVF3BY+HMN6UVhLdhh4XFOg1vRhg4Ndx/PFnxZ3RByqVr6Igb+auB7z\n",
       "OzG+Z8MevEv92TlrYySJ3NFxL70m3OhbDsdMjEl+SCB0f7I/hbyizpWMjHuQhqd4cJen05HQqOYc\n",
       "E7CdgJ3WohYvPYM8THlPhr5nEhsxRTSFWTQPvmJxD3h6zlbYDdB1/rQQHok5HEqIIveUSvcKaJrl\n",
       "9RwsADixj5ff7+V2TUysevK4IhZfH9rExGzagPqed5dU01RyYeSo06drg1WIyqo8B8lKzi/B3Uib\n",
       "xfjUc9MY4Er2qmDhgP4KEnhmrWiF/O6WfMtZxwFcDtSX8jvf4+j6/UGP0XELu3amkgtbH054QcQx\n",
       "DO/2f0FScj8aLnZLLkeda6a9pOUm657joAKcL80m4sVcejCDj30EQ2OatdRiH1XU2iy9UvOJyVzG\n",
       "tfhETu9AOcsNkDpti0eEUqNCJBUduc3eE8LGG0Wk/4OSP6m4S7mkowyEAMf/El/sLO4b1zng58b9\n",
       "f2dFed1TDEoG0NShuXthLp3BR8Xl1LzxSxi9oUj6VLwYmuVPUEneu+L8xmjAXklk8vjz2nTFs7O1\n",
       "UQJK6g1tvF2pWF4yCVcBRMO5zHedZLtAIrUztY0IMoSPO3qsKQsbX4Us+zvxUD2utAsvIQge7oMO\n",
       "Y+ARWpoFv1G7fhqFQfoD5TlHY/zAzgKbCZkGqR6H9E5XE0JnOsVHui8pGEIhICeltpGvIWXgp+Gj\n",
       "6LaE5rjMZA/+QADZrtDEDEnYpLiySBpydgOTgirRxAwXU0nDkdiRN9QwnuOMpAzgavNdDLfNhhGs\n",
       "wWuR9lMlc1KqrzCpP96AiOyhKH2WgsZVz9DuOdToR6lDng0XDmdELnn+evmJM4wRqV++FIXGcdHC\n",
       "gJJe6+EhwW4drkoHH3ZvBpyRQ/nwe2jw+JmTqRZ88H/6bEFV5Trwd8MrnJCnJ5T3x1/2puP6N6JH\n",
       "Sr7D1K9OLWL/056nm6/rdL9faEMhhxpGzdf2R1Ia10/XvgvkhbwSOrD5Ot48FL19JTmY8M5W8cqA\n",
       "OU+CiCsO8cAt3/ZGhGI+Zzv0riZ7pGKFr87ZBlruLdbwcm+lWPYvxCkAJQw55jjXOIZn2BlT9/yF\n",
       "LN7Z/VD/TjCfEjv7tsSyk6/BVROFZHVpJ+pjp7TvSUGV/vTsH+BEFEKRA1hbFbct4WJ7ZXi0nUn1\n",
       "vfV6AkOxnGyQWTakwAoDzwBy0RFi2zlVCgZ/g3Cctkly6sR7MUE/Jm2z8X9FFXrFQkG9IA9X2qa0\n",
       "iLZnsR/aeyATnApsF094b3tN6TpqQH8AYDZeH0Ew+UvVgQssIrhiBWdFhFmr2cXdU6xlTIqVTSLo\n",
       "Ktf9sWjEqpMV7kb0QQnYXS2Zpylon75OHRAKzfUunCKxE435CdhJTcbikB0vLA63RUBmscpKPZh5\n",
       "kHeJCyRfF7564Ueg54X6FphyEjqxoRZamdOz/lInX8PByS0PLKwuyufFu9Ex+AlfslKI2C/D2jg5\n",
       "RtQZzi+q4Ky0x+Yk6BeX7SAO87Q67p983JFBbR1/1lf88HGtU2yswID/hF/Ua84DKvWAFm2QA9j5\n",
       "Sev4+fn9+1/hKIb7kqu5udxHvrjzlsEfIsunTdznr/Qh7UxRl3pDjZjME6CeVIgSsst/uk+trD1I\n",
       "6AFzGm9kgGT6V3k0AxdUMZLJFvItsTqACJIEeAHA3lQuREpu7pPytNhcehGOLid/SuLe09wKgN0D\n",
       "VCX4AeUDFqJL2oAawMBDWV35Ew5OTytIbVlFkDLURJfIwqLe/bHaaCuyQdNaUTU5ajhhtFRfh1ms\n",
       "DPLKoUB6DQzRBK0iheZV1V+XCVdcpYAsyw8sz73gEky8BlRxv8ir0w7J0tbfiLEkXX/rzqv8M1NY\n",
       "sUp51+++weOGK+lA9SvgkeE2QY1KBcynNVffo+gdDL/GuiZU91Fei2YbXt3pHaHy4CYk3CIlkmFo\n",
       "yh17wsFdl46CcW5cxGKrI6KU+0Tn4P9G8MeaPRKRnnv6WFkAT9EqPrZ2hDR89UYidCzG5mxL1EFU\n",
       "IyP80Qez81f6gJWFvy/YH4+2yxJ8nozeoeb6n2qdpVXhjyjE2m4G6ffQuazd+4I/N/n/ZEr+65DH\n",
       "qZx7dyZ04J4lBwhqMKKMMXI8McJyhhXLYvE95qM/vmAlvET2askinZ3ssu6vnXyYYm3M8wrkaNFv\n",
       "TEXeL7Av10UPQurVMk2pgbTF05+2a02cI6GC5u+p70SAyg+4T3avxl4mizqrUTh1Tmy+YC7/0fxW\n",
       "m/3Q/i6OPUGJTu4fp45//7kAPk07SOl27HFQ3Ub0bbYwQpHqMHWTWbqy6lid9eOgDYCzC8+Nx6mW\n",
       "Mn9TfkAXjeOz+oEnnBoKNtzTXGKEoqKLrJUb5PPaMK4V8+nu6wldXTxqPidVEbBM59bjEY68ViwN\n",
       "GJeBAAADJAGfLmpCvwM93RX9I43cQeaLNchNb4/BkOOABxs6tdw6kjH6YurnOd2qAv+2QkXl70wi\n",
       "GWHM8oGhTd7Q3fwZNLGgVe4mPltKN47saKS/DB9//fVE4LhM1uiOQCvvLahLNXd1M8R2Y//Gapt3\n",
       "9pOzIHbTDXSfYgvO4JoQSETnBmf2UVUdATUIupFrO8n8dPJbFkkZaxuc8ZYq0iAA9RNDRKygadRH\n",
       "M85KoQ9vBEVVbpN+KhLbaTLB0IkQwsi2QOKjZgERTQmK79CYy51JJb91Z2iMoLgHyL5lPHuWqYFw\n",
       "WkMF8QURJ8/4ky0s6QDvqnXmDjqLOjAPfyQd+++exSZsQMcaqIL+u6EjW27jxYlnC2R30u3bHJC8\n",
       "mCZte4lS6GSJcIvuz4V367f/FhxBDf5luJICfjrYbJ8+pQLshJIP/JYYLDIYNmv5fzlV8Qk+ngIX\n",
       "0d72CMLylTu2qbLOhlw1QhIlh8iJYa4Zy40NrOkDbGpUThqfx9icXwtVKUg3WjAELD2T79Th+NuE\n",
       "8Fb1aT3JV9PKtc033PyA4HfBBayYW6C8dp5nDBaGi+8Jh1VAXbRkqI63f+p8eVoRDhD9RWKYm5F2\n",
       "J9i6gSKGV6AQDu6oO7lpB98mJ1oCNDNrZrlnG982rUoe5z34wv8ddRZNpHrdFWoioek6rj2QjD1n\n",
       "qxdq9twQnMfIDNOEP49Sv5vfaDVa/Scg9UpPb2LPk2iPZL5Wj78LXIdXsIFwqKmR4FSF5YS1xUIf\n",
       "BZQkEGGSDZAqOV9sa2XdmYB2GgV48X+hphzprIb5a1LVFAAAAwMLVlSSpPekdrq2SM5+ctBXxKFP\n",
       "ci4BvpfMaHzcsY0s/thovdCyuZED1XpJ681ajdeX7zXg2i6pPra5LuDqyZmqjBuWt/mFGK8at9U5\n",
       "McdK2etFTLRCoqgUl+knbMV/iKq+nMavM8KA7PcYOPt8jVIDELFfRQyN+uoZNxwhRhW+s6TlHHYb\n",
       "7P7BIVrhL5kamNUC6E6RX/HCw+mRGbjGHuLSAHnJ/o1KK/PNNFa+E5GVJ2FcJRtOlrqLsGoBUMl7\n",
       "8nTDWEKJB5bwhthEaQAACJFBmzJJ4Q6JlMCGf/6eEAXS2/+wiVIAAnWaVuNxJAp0mow5s0h9G5Lv\n",
       "08KT39QGZkSyOrDMVgMT++4Ghazkx7/gi2p3H92lUB7HL5DzEXTEEMGPQggfbpXxl4j9XE6D0pUH\n",
       "b42W0asIxHtxRW06HBtxLekQUoEoJOuZaYgpOQ7EwGvtMAi9xQ7tMCQmNbpdFUGr4GgFbCKnq9p9\n",
       "8E6pReyZ5e4sOxHIhhvzghDnBQOVOrE2vzJ0aqjLCAbG6P6ov8YHP+4NqnUuVlaqNmZImrcJuVXr\n",
       "dos+Simfqm9NB8DjtLUzY4v8F53rhDLkN6PyqramUpJZi1zNda+Q5X7nEZVPVB7o0xLfvYr+ky4V\n",
       "oMJGcu2AB050jQE5viWkt+GyxkPIUjy2utC2nlNaxmoe3klJhQ3PIA3gqp85oddkUd/4Axo0G0Ut\n",
       "a6rAex7quOsHQ0nlZ8ABM+DM9Ga2iow9iHpkW48CVCv9WSU6VMsfyItTOBMRc8Ln/zxA/iaIJ19G\n",
       "g7oKNWOC8k4OxG40sP48hR3Uj28yvTp8P6O2vickTtZGL9elIXpB3Df9wmQH1DZFLoL2oYxJBJgX\n",
       "2BudfXabfIBJ1hDRagrDIAS+DjFWuZhtt57idiKs8KHXBfJrNzk3fRVzYvhw4JGXxaO6SiityBB5\n",
       "vYrqH9k5zr2ro3DO1q02DWCqyzDjSpKg4pVqdoYqlx/qNjHI3Y9EMLv4gnhH0LNKhTkWZB6BhZDY\n",
       "/3lizRVNiCQ0HYDI1J9kIdqivdxNr6KRWwcHdj0AVXk5UiP1T6kBaMMShFkGZLDtou8yZ0xBfZ6O\n",
       "oPJsWPjlgZL254Eid28ej33Zgq38gPzJsZ7CIf4FEB3g0e0yBMEqAEY8hxEKyrFMPeQQ/+RBG8fW\n",
       "vl+8qHx/gpH4BdVrAgVaCIujkjkjJBFpzUVp+yNHEcsdm5iVEH1yAWGNcM8XtjoAV6d6ycNzte2I\n",
       "l12rIjbMD7lVU56YY1g/MyHZfxYuIcxxlp4Et9HkBv3PFVXUryPOfBLo5fnycGTyMsnrbwZ0ySQp\n",
       "hxikHysEi7U1FnJ3ht8g44PT1vsd7pnIYVWEMRiTsbq7Zq3jL7qLhbgUvmPrFPMlRWD0Q06ppWxV\n",
       "B63+NY1/rELtMfNjupLUgRjF/H5x5svNPmMIWEBrgcD+bE+s4M4I0rkSHlO/doK/GHSZScX3bzYo\n",
       "BKsl4rxLZa6iP5s7sOv0ofrwrlRsf1ODuwlSAPUAu1iibLNeUFjpGWUqi3Iw9rTfIib4Un+y3+64\n",
       "jFuQPdYi/nPrZbQeFw5K6UpVZpBPROdzAwItQxV3jy2pW+U95a1qrLbNWttnzoK5MN1UBXAj5dXd\n",
       "4LhBt2jxbcIILf6KnF+efD6JlHwvk048jgcCaD2Funa5Gmpu28suh4Wzql4KG6zOcZqSmcweDr50\n",
       "9xcHSqWxDlWq9n8T60/U2OVb5d2kXOR6kMAd0sLNPEE643fgk6BmckdT7vkAZZQKVg9asLO17z1I\n",
       "xFvqHlx/YeNjk9wkGNwIWj/Vi9HzwC/5bFNakKX9+BiVD6954oiHGUw+FBUw3jV0jiCXNIFffixe\n",
       "C7KzpJsWM6Z38X0JfOoH619D/DkkKCOqHMqwFnOOadXRC1V0xNALjsI3VDhVgStxyeJwv+7rEdIr\n",
       "UIe4ALdw4EQ+Zg7oZ97D6eynl90C7NsjzF9EPGSw36HCqv01CgN8AxOpl/sr5rM0jG8+A4YkOdtt\n",
       "c1u5y2NBEyoMn44cFljrm+DRUvFVba2qlvemmojTZaSBoEHyQio/Y0UmbCRjAGZeb/x7BK/yiMLU\n",
       "Ov0KIuPQniRIAF4kOJIFmXbF7tLaaTWmE4etBNbxJN5s65Th1R5kHtdu+wMX4g+ZZCWLiUrZyeVR\n",
       "12DKDATHebWC99ynazHL5o92z3i53fBQZGuVaoLrnC9qSpVXLDlN2w3LxB3klP8InOREp9oVL5cJ\n",
       "6pc00GrOHdur095lNv4xkMcY2+GL1IYQBHypPFACwxu1gJmzcUlPtsZPut3TV7eOvV23C1yOCoKg\n",
       "DWHiIdyXSJauCy2GH2WzuWJYPxTj3FiGE8fsvtNzwp4vFONRnryd+zGJxCT84f9ReEnyCvSGjxse\n",
       "JLIpf2jviCKepINU9RM2TJlMDOe5guOjxAcacURNKzNyK2WX55lGfsJydeMrVCkl+Moegxhf2zRm\n",
       "I3yBKemRuFM9Ti4VPs+o3vWtng5h6B9yPWQ/P/SlaySLM1FgDgMJ/ESSfkGs827At5GTxlW/1769\n",
       "9vRY08Co2+Gkm5BWM39WfRSR+AEzr4b/2gAbzaXfLdwyPopei7PeO0Tcn7jM+DzlycwWQ7ZjZDUU\n",
       "aDIQZJOAkre8UNwpu7/6ROAQXDGWgVv25CRo4wrjowdOlAoF+3iih7xGnrEo0K7u8s8RSwxLBbFp\n",
       "BRSWAL9dgTvONSxGnGSRtoLMRmU8o7uU8Hri0nQm/06WiuHtFMkY3kMVRIyCwAQekoK12s7ATt6K\n",
       "ekHtOlkzSqpl28Y/vXAzwwVd6B1N+mKDWbkFnXGK1jSDtWiYz+PRF1Za0PxmU+FjeyacRaUWmfLy\n",
       "xuUOZID1RatrIpuWb0J0WDGx7gVw2NQI6x1Zcikh1uCu9ajrUrpqPVOPyQ08A47LXCaPBeL0oP8O\n",
       "qO4lgiJsJK3AJmS5dbTHHP0AC0eT/kJZlRwot/971AhuIKYoOVhKE4YC/cqFkUfVxGDJPufQ4tuF\n",
       "5TicfeKW6AymaKpK7NaDxIcplaRUPpaZjC71TNfsy4yP09CMzB4ZxD/uQIktcYgduFAXWwjvgu0/\n",
       "kdR1yxRoVa6md1CQAlkSGXj/CJgWLHdsiDSSy0syi/09Tqiatq+UtucA5SO3oKmG5T1/kKnahPBQ\n",
       "mLh3HwKgKebIOO/ZuX/9wfyld2fd1mFuVxiBbtzilXq5aRResPTkMxde1dwAAARJQZ9QRRU8K/8B\n",
       "LtdyneGosQphFGKK9RPdoAbij66DHy5taHRdwkpV8h0e6k+/Cgj+CsfsQZiT9uBUGaoO1PtNmtwq\n",
       "pSkMLm4jZFtFP1O3R9DkqETe3kmeJWQbwVMuu2g61mIyqowM5gvlLFpAgJ+IVfzpagTJeOq7Lke+\n",
       "HqLRerU9LU6qdA3YYpiTMjf7tNWCnpQ85nlmVAXMUmjAsv2kY0MQ+P8Mlz5Tdcfg4Q3ICAIzD0cM\n",
       "Li1dLyHK8QjGQGylsBbZ+lFFvawpFV7yPL6YivDAfOyn2S8OZ8AhZ7FCvu7s5Z9+OFqqZpBAoz9p\n",
       "CLrRjPooKXrWapDBiPAYFTr/GIFDrKxd62W28EmDj4SxdXi7LfGKOVbSVZZLyeadYew3j+Qm9jDg\n",
       "Oe1yAjT513D5L2jkw8ckZIoTVn9OzM5Lpt4BMYmnYW56OEeV22lAvYVocqEron3yWzvzRlBcfYBu\n",
       "jizJOqkRtLuPyWN6jeGz0XcEMkyT1WCFjRKr0r+Bq3dTb5WytNNE8+UvkpO/z7WgRQG3doFXUWPf\n",
       "DEKUDkn8A8ejJvDg4CNIEGB8AcxsWKutNTcCNwyFWFenG4TJ0fxLtx0+vjrb/1qVHkHgggVTN9Xi\n",
       "odxYdRGrp5UTtmXhC8vuYYNqfYJTeZ/dN0Ev96CYqzAYRVXKyti8MV4a+AksqupDHBRN3j5zkUO5\n",
       "dV2BlzKe/Feh/tQ9WLrBETQWO6+n6/T9IebHjXucAM25g/fUTrIXqRWJOOz6qriOYhIcPBGdJur0\n",
       "KnJiGt7OpRjDxP0OdOR9ZRileLXjjZb/k+VrwIv6rgwR3WwliVs+l4eJvi4kSbAum7tXdPGjhZFO\n",
       "vbVEoXaKftFtGC5J70uMHHHGlkO38RmMgQppJ7PLmUADQhaL4PmAFBOmrhIYEolWgy9pHTzHu3Qj\n",
       "zJsIA1e6/W7ZcSKPKjWeBD7TNqq1YGOpKU/dsZozdSFrW5R+hiaSQjEGA7sj3F2rB4yfoF/5CPqa\n",
       "zaD62RL26p3YHMumcQf7M7Q4KxNAfZ3S9o2xjpMMSAlwRLxc1rLxy7trwLXrXDgj+hN7LR1WSQJh\n",
       "kNvQpx4cTUFNVTSBJjp5xhUxpZYA8y+KUO9ewnkGaVcimz1dLWDPAPnX23Lyxzw1NPtX6O27pft8\n",
       "gg2pbdQ23RNFA/yOyAu7MT8f1K6MDN76OBhfTeGEnE0lPvxqfmwoZ30/Z1T5/E7lMHJpM5vLs3xp\n",
       "9H4CefIdOHS0YPavTAHNCX79wFOnXznZLsi4tTLMqOYbs3B9reTSYxfmoMogd0NwAHoT1P6IV9nU\n",
       "uWQAsA3bV965vp0Q3d171dUfnMb5H0v7cTyWkSO+/jT9+OhTfwSB3uOlp+4Kyxd4hoYkMId/Q+Gy\n",
       "ENEzRiQz2LAK8rkucYFWWkoOsNP1BsT+UJwwy+7B0jw2chrlkSncvNAAty5rOsEumRCU3TdKbfDp\n",
       "bocvBrwAAAL+AZ9xakK/AS4YUoPQnt/ERpxACatpiWRPHCPQefc/w3o3YX4B+Fw+n2rd5eRB1WAS\n",
       "eiDqzdIRXtqfartxmFQCKGade6eS295NeiGYZBRpxbTRInTYtmAEwmp12a9P6H7rOzu1Qpy7uoy9\n",
       "5uWo5o/L6JrYo1DwKRkNBgsAFq/qKkZus9opZdrczu20IVfzliGlCaZOyGce7wJK/aRMfVA2beSl\n",
       "YHeSAsB4Eul038m80DfQc8ZNS/WFy+meu48KtKZsT5mz9aXwrtqohr9XQKAcA9EROXvdh8eiMufa\n",
       "MljvFSnE3HH+El3KGkCiLuWQiXV0iT3xX7NIltm1xD+rQ/5mTxAJAUhRzqAOFquZ2mh1gDLavOV9\n",
       "eX9eU3XuTPo8RrNzTKNqVUbohebYMv91E8AZFABf7MmSGXBETy19rUNyEw5c0+rUIuZcAwb8Anyl\n",
       "nzW/njX8wToSZml7yBBi2H+EVotPG6WNaGncZE8JI9w0YYlnbj7xzJytG/TaxZYMh9REN/1SOY1S\n",
       "sGf4XP+LsrtqLD9vrEuesx9+yxL/rUKsmbn6g50tHCEzDjhJzhhGmXTODBjv5c03fK15kgZilu8q\n",
       "v3JQgQ9Ya4fAPX9/4XJyJL1e+Av/kcxhTUopIDBExF8OalyXImrALN89ywARbANvpqOvvvvJm5O0\n",
       "QV8b1s1VeVtpIgmrD28OK5GtXR04CDNsS0j/onvmEDEYvjCFgeP9rgVydzODpDl9zgd4pruErDLO\n",
       "pel3JXqGcVWEE6GrkwNorNcZFh/vmlWnHrvXzy7gzFHPjfrarOnmdVoVXy3lSqmC0cHvC+ejJlez\n",
       "h5iodq5PRfrwMH3TLwvNew6DqFEXDKug878NfasQ7l/hict2Ig9mf1LebYDmCZ0QBmN6DQ5X6G7f\n",
       "lLoFvJPSG8wmBOCTg4d0bMrOr3Ontia1Ep1DgxMSiSfFbdyAfyEpSqOcfVhou4hOKSGWXMAVP0t4\n",
       "m3KrSBU64tDrC9+tUEAgS9Q6OF+G9+a8E5s6KI9Dc+xh1wAABR1Bm3NJqEFomUwIZ//+nhAFxe3s\n",
       "tUGQwSVQwLP0i/2BLSABy+w7G3VVkRU2Z5qMUEBMTHZxHwKlm024zNRcK8wDf5q0eAOqoumgHdmw\n",
       "ZsJN0JhuE1XiVcOQ0qkP4CqCKPFsFpgAwXNEU5l7MeoVGjmFOXtsRK5H4Hd5QpCsBseMATHUHmkl\n",
       "Yng7KrTji8WWKZ5QGzW8la0ihKvFFnM01zOFTJN3LpDcU44Cmf5Md5R6dV7t+ef2YcQNKXuUoFY/\n",
       "ot3gvPijqKROC44XwjROpgDpPSfB09bKmS7EmMX3v8XWuGcVt5uRJMOnHGrtiM8v28hGfn9i1acq\n",
       "UrX8wb/2GET6m3RYz/XXxD5LttKhpDTnixsZpO9OcWMCc4A7tDsLW8rXEkRASKCKTL35AxZquf7o\n",
       "bOeeZcHSJdxI28c5kbl+NjZCFiCydh0Eh/Pd31scHrCa6zgT0nQHF1Ks67qbqzcVpdxbLHmO9v8T\n",
       "7DMgMgXi12tKkmv5E+Zo7QFHuvihbyo6Ay/ZywVUbppZmuQDtQCeE2wHVRm1EpvlHCes2Kqjppcy\n",
       "ZyxVVBldYsuATuJ5IcZbrUUndb3tPGk+fFE+S4Eh3pyaXhpIFaDDXJcAyx4EyhD8Azuczku6sltw\n",
       "doAtLvu7jhnoJqd6KwnNHudB6leo8FZNBidoPndY52TZ8ftkrCP1M0MDocA6wtJdlsfwK76L58zo\n",
       "NYf8GH2HJyriNra+VNH17bAdXBXzBuRmVd0N4Fy+PiEe+50Q8VsukBNtLHIiWH5j/YpA0Lj0spRG\n",
       "b/fiAcdinZ6sPvxrNt8aFSt5rFkmcJZXkkLr4bXZd7M2bb1gXMw0NdnyjmpbQw+Re9cLQO88GGld\n",
       "+WEGvd3r+0EPbD6zbDtff0kTEmNHwR6QYqAa0KVBRdAC5eKIKcxa9lrS9YRnquW2JerzwFcssUwr\n",
       "BIZ37hHFBpYKsi+UMjJsBeGO+/z0GcLRHfQ6cTQNLCCAj8fyGF6FsMgUTVWLJPN4OwVuPJ+zwOL7\n",
       "zUXvhGxNEkdhtSVUDBwY1YaFFKrSWeqqlIkvb8gAzOw18rYwJZTDjiY97J9qUb+OYBgEqul7dxk2\n",
       "9ol+DO2OCtbRzRJH707U16YpyvDYQFm3qQgoVOCkvuPqS9yLzXH0a4YTiGZVP5SpYlltLg5EI4t6\n",
       "vJJPlfyOWBUkb7Xh4fIs4QVPLeZL605zBhaYHHAy+k1Ls4s9tVV0TMcezn8d5tQJtpnQGImfKa1w\n",
       "TslkSzqFfvsMRzyR+f7BtDSMGVQz6LOIYY4C//Ou9Yfa5Lsp2W145wI3SNijfbsHaJDCrpx+Gcrf\n",
       "FLPussZt5yeCt9G1CKNIF63vFj78MD4YKEAGjBOpoN6Jn7/1e1OvUqjb6159wnru0FOsWJ5JfCH2\n",
       "ZnblxkCdRmhrYI9PRVyUH/JSf5b5llwByWiUFhwKsVp5sw5cpYfEIAf4QnE72ZPQhwP/+vr6hDaQ\n",
       "lZtFuMKn4N0mo0S8C3uRFk/AoeO1WbtbJ8+rvfhF1p8rzJ8DvV7++2ykpWtqVAZaYiSGZx8XAoLg\n",
       "ubqpr2b7P1D9+ovZ42tfixJ2B5phOalhnjpNm/lNM/aXdMlzoGJgm6UOFNt3nlvvHNi/wKKlCxzG\n",
       "jA7U65i+HuDDc3dU5YRWtsrvCZGtGitv6tT+e2gvFQF1WMMmRLAGRC4GkuCwYqo/ZzNXo6d5JA2R\n",
       "Isxrzev1G84kenX8rDLsA5NLIm0ClFxK17SnkHPlvoRCNg/oAAAGgkGblEnhClJlMCGf/p4QBcc1\n",
       "eMK7ylSRy7Ex/8E3Sor/9ycAfABdAewScXKIdauqmEi6rl0lnVL/KZNv6RZuUIyl3ms4Tcd8v1DB\n",
       "FtzNAKLwCVR2bScqjHt8vKbiE54Gn4Af7P6kn/SxXJNV8C74Tj9TMd67nWNYaMExV1ltEKU5Wssw\n",
       "Iph5EjVhWk+Bjm5+6ovSL57ak3XOLXW7dPD9wY+SlC36omjBq1rwqsM2ZbU8jhJFn81/dGKREEfJ\n",
       "dOuB9nFdG06nKG6ECAhtkrUTs0jkpoVnA7hJCSop+6yoH+9rMdj6qtVM0uUGyb8yf9x0haw1D65q\n",
       "1VZgFZRDuD13c9B2wA1vJox1icGd4kVRetmtajC0DTQIq/nuf0rfW/s5dUILuncPZECpfFRatPdp\n",
       "Aj+z4sdoYLSjXZHO8mgT4Qc+Hffp7HDmtV72AcUsqHwJe+Q8QHUR9UPon/5nN46yCIvrwwtZtAqj\n",
       "gon45YiZtZDCRwSVRDX1lixs7Lum9RTkVU9NWDUgY8UPh5TUdl4e5E44RXEESLWbnd1Uw3CZ3ilI\n",
       "Vh+vDEnT3fgZDUsNDkVkXfa0v6qcZPAvlEqFVaKYRokCkbyKAPNG8egCGAkAQAlrYohWd6IwnTE4\n",
       "AANufqemLcAIbPqjJR97M3GXgFjvE7STnpmGsncLheu7xM8a0claJGOcCZqhbO+S5HyhYLe2qRh1\n",
       "vQba/BvSmkoE4NXENj2IBocwTszQtcFFyDbI61TVO6mXjqqvnlvyBVQ2tImne4qh9RadPJC6YEpE\n",
       "A2KGUy8P9EztBfpOyKElnqq3CqWS6PlZZXDMc5GbrKEEf+NHO63/budW7BvxQboM+x9fxBCjOnsO\n",
       "tG3bPdob6W6z5E9J/whCF4QEzi1H1tiyUfBdonsrAprJJ+KtdJh+ymPyoZS4b1IqLakMpohmmgHj\n",
       "7YTzQK1h8YA+HDBvWo3fqc9EDICBvs1xmUXIEcAfY7q56ZDLh0Lv3SSmUJxldapTqRjqitB73tEk\n",
       "MPjkt3ujNqpNtRQ9li8bMNmdOI5LXZFcQp4mNoqGdHweot7DMB7cqYrkqnJb+wpG+TfbY6uIOBYY\n",
       "PrTjEXkbRwNW0ZgMjJARJZvQb8iv/6pyqLyVzmSpOjrC8kzm2Jg2+ZL7OL9EXr1p2TnIhD7M5kDZ\n",
       "PK+DvDGHBWXhFg4c/w/SbH+Tg+l3rzR6qgnafAjZzlD+nyh0wC/rWrpIBoak1j/X3v3K98f07g7D\n",
       "mzMwE1+ls9hHJ3QhpwQI7yQz0Jc9PaMDP9WjS6KnSjDcHL1/O6bQ1XM5LPrxm+Ao9hOvpYfcDlgy\n",
       "IYnUCrVIN//VS/keZTsIfOajYXM1/PWHH3kmlF22GV7jDNR4gEkgNIsTC2LxGgrQSkkdnluZaB+K\n",
       "noJuZBSveK/wRyBpnMu07+mfjA7EQl1oEwIRflKj3vkhbBrvl1QaQb3nF1k8aY/yIeDcqmRrCDQt\n",
       "ncjyFIn6YOWaLxG1Z4WSnPbvw1UjmxY1X89mZtrFnaDHfYZGBNIj+YYUYFrMXZ81CQlsc81mXQYb\n",
       "pU6qsrxx+albdw4VUio6TLtVsOtUqYPeVmLA1VOsCWJXBhyEbgWzpKXncms32VQFO5ais8FPu9YQ\n",
       "ivR6iYiZMZTF470x8eVR271KB7D7x03SKWsiBt2vJUSe5BCL5CzpsO1lFeaRnRGU3/UFX+9LIT0O\n",
       "r0Fn6oRO3e5jsyY5jCN/g5BBswwff4LzYbahLwimTz5UZMcQgc2L97XtAunFXtkXTQ9xEif05yXh\n",
       "ZR2Ee/UU+mLd1O/ogzaO9CbtfQW9vDjajymjhnNI5Mb8jJlUCSTENDwz7dblbtPvLv3yrF2gkjsi\n",
       "MpNaMGPLei9CeuIcw0PeENs9yTd8S1rIJoTEX0OYx30w5paqtLkMTkWi4tIq0oCmsuvPAh/O4Cas\n",
       "Mi+ANJsF3YoPiOFYFNHw4aCvMA3B5zQ0uECY6KPOHMU+Bna0zzjyVh2haGOu5UB5R4A92HmnlT5W\n",
       "YTjPbQlHRDSS6DdpMRNiF9hnzZ8kV2aYqyzLAErSnl/Pv992ferhryjMLbCXhTsH+ECasvA5WX/N\n",
       "4isFj95QaC0cWiJJZXvy0+NbY/yz02Q7THd1ZWVVd+vtGY2VfXDMm7cJJzKVmDVsDJLTv7pUKNjJ\n",
       "hsEUBGa975IAoOcyXoVVrDCfURpEUmuujsD77IBaSWsQsRiAgkObVlNLEInYLDB+HZY7SpgAAAc+\n",
       "QZu1SeEOiZTAhv/+p4QA28VGkAKyy65jGsSFqtNggmKt7zSg954k+M3s+og8eW+4jQImQT80mvmq\n",
       "vez0nZ/MyS+ot124X6EWct4MwBwIVqnmlXU89K8n0qOCeaZevEu37Qv9kfIg7gh2fXCq9hSAkPXQ\n",
       "+q3lkCcmoDZTVEojNSoNA4cxvWsZex3AqJsy+Ya48trxlcbISssKRZfycZPWLkEeibyGK7pxh8EO\n",
       "PKVQKhYssIliqdvYnb2J9cLm66YyH4ZMEVtnC6FKL4txmU2LK1vXORBn82L/ySRiU+/MyQ4m9XkQ\n",
       "fxmwzuc4R1T5fYrpwYaHoGo3kyflCMfR0SFcWk8T9HLmwiQghKKnNB/gZemf6q5bqErcHcRSBFb7\n",
       "GLtY3/JXui8s/n+fGKvF+KXYDI/amPfvlrAJc66P3He/JhDBy8VTj2xB++9eNFx5M9YhD+1NnnhV\n",
       "RaIbnBNtmoLF9pwHCq/qvx5MQORdNihe9/OYxsuW2xOzmInKF51XoCEf2GA1hvJNCgX4D2LTU/0B\n",
       "xylpXznHYal7pIEsPCb/YaZsUSqPfgswV95q2RXxdNlexWirW8VovRp0I3lEUfKtLIp8wz8fUEvr\n",
       "SCJ055+qoniflDksw5ySs35AVYrlKB+NVj6KpE+jI2JmMhjeT3CxmU0+LDpFfGBZEVcr3yMTZXeT\n",
       "YvCdVMVi3ziQJG54GdRW2C863gVRIqVzmsdy0teCkQZloQKOxrxJyFaQy8uRBsn0O0OagsCnOyVC\n",
       "OrD7foYEVooXO4/jzz/whvH4np1+cdVEdwkBxzPtRYC2esdEvqFdZq6q4JR8IJYS7GGWcgWpybfy\n",
       "HZ91dyvaTAFRK+q5BhQoZO7Fw9nQSbLFW1umf/Abt/ppKbNo31LXIiZ8DU1Ca0Bb9qbUVtH9q29a\n",
       "A5rWFmVxqfXEF9oQucntq4clXwaBtl8GQOhz1sECX6Pu6OcZ/rCC4Wiqn/fYNoQqAxPUNbc+n8dv\n",
       "nLu0jPgnwS2iNSQ1DB2kkl3sJDy6oT/7M/zDm64yBsgFdAB+Z+1z/0IEMywNXBEFG2X7FtYv8nga\n",
       "e4N+bK+T5RLIabfA+uKw97u2cnuU5wb94OLGVrlCVq4Xg3kmX9EXyyHpP4+SWeCfmYsOqdG1f31b\n",
       "BL0ZkQX+kLUn4m3Cnp5AvfxSaVgSy+gk77t1NXzOCEc/ttdAApvEePGQ59uq9NgTfBrq3wuSv9sj\n",
       "wn1Ye3B38C9eqqHbvajJGvkxSTppm4IGooUs8nhm6JoFmDMIqvA/H3Lu7ksfodV5y2jUxgKphph4\n",
       "GR3kLLNN0YKQxgL+AYADdUb4BPvNFr87hYpwfZ9qldnzR75Su5GXzOk3dgvVbnR9HJCGU9fk6rgz\n",
       "2ny2t3UDZrFVrXOWXJnyBJ1lzTP2KCVg+LXyoJ7Lrl6UytY8Grfa9rCEmu2VoH/vXUoGi/5fcAQX\n",
       "zazMWqROuWA4CsoObYeVHwDeCOMFzyfNw1E7oItO6KZrKzWqrPJYGM6p5W1n7IJq6woOekwKKb+B\n",
       "AIL6OPI2Kq/vz0Og5Fp2ZU+22iV8tZSknXd2yQvBId/Hr78an76sXTpWqXXw9Id/PuJoVPYwx3TF\n",
       "gMAQD5IGO8E8Z3rL72FrWEQUcYTMm5eUmrSeG6egeRYqIrZpkDtfSI6Pb35TfR9SihHyyvHkbipW\n",
       "oAW1EHBxW2PuZWFlPnDMHxENf5WrRXwSSFbA0EXm+GVrfVrXZYJwWWkpah7tqS8/0hVvF5y4xY5p\n",
       "xpdFA/sHNVnr8LsDNYqpZbs+wz8rozBbxCAqdPUUVr/DT7QDNCB7pRHHXDUV0tRDdHfLIt0+7/4l\n",
       "b1+B+XoWAE4dZLD0EnZXmzT2VBJBV4IynAd7csjuZnJ/3rEgTEOO+mlcu68DO5cXBfL/t7Xv1/UD\n",
       "/2V1eAAZbhR3qoHAt+3zVVu3dsKXW5FaDkmw8xZqcAxL+ThsP052a1K9RfyzRb+PKDs2RR6Q3iay\n",
       "FslmkFi4QHc+IZrb/uWjGvJ+VgXYh/15nJ8Yen58nKatdNg06z1ti+Wtgq7ZM5Y2rEZaM8t7AgQY\n",
       "qMENxqy+sqCTWYk9GNtJheDQF0xv6w5tbFUuR3d2mLnwwKf0LMH2Y6sCdMGlp3d1of5vAxjKkeHh\n",
       "MOZ1OqkDUjhfxZITRDKzaSnMipafUgL3hJBlEofk3xzKJ3DMO4vdiAiKBsY6LB2YgBNTmkyhzyZ4\n",
       "m5Ovu4Zl2HgJ0PfrdFnJT2/H+tqOOEJVRSr9F57dl3RfWLDfsT4zSPW6lhVp7TfgXGPI2cZiJwHR\n",
       "3+KYUWES4LLszUmOk3MI0x6dPAeXJT0dFjYo+m6OISpAUGq6i3nrrlMqVIxp+SDGLMS55CT9IKcF\n",
       "MIJewYC0w+e8WzGsZRzIblSxV46TPr3b6qAI5bxxDboVEpN5vmQFiKwvkFH3wwjk1slB85OJ3MNU\n",
       "Em1ds+6sOZB3hyWMDK8dnpvvN1bdsC3Nf6lGuI8XAAAHQEGb1knhDyZTAhv//qeEANvFLUAJbmxo\n",
       "n9hxH7LsJTHTHiufLzgxyk336LoojbxhRShfaYhG+COxjqLl09MdkUjnD/lEwAj2+iP4dBgQhXDk\n",
       "DmBQuawcNsnT/LVcM9eNlbuEDySeEpq+WRpKxo31NlBrd6GrqbZl+Xv09uIsehZw4IPBbV6KIUlD\n",
       "Z5O/Ix4G9Rp+RTm6PflHJVrHILFM6w8P2MeakC7NnNMca/n6d4CgiNO3gt6GVaOqPya0zVE8gitL\n",
       "EAzUZxNFVSeMbWzQo99LE7dXzBsa4tFcK4mCc3YZW8BzvyYZIO1gFHk2hKwN3bA6TUr0yWblL9dy\n",
       "Oe8gUWl5QawJ7UeIuc4XLmRv21t1TZybxXxzmetO/+k9jp8jyZOEylZv5ecpQd/sWbOjXPEQW7PS\n",
       "7HTJkMiDoq7EUmEZi1J7EYvm70+A1ta62y7TveaRYOa6mlxtO+wcDD1cBAdBkzJZzdfmxmERdyWA\n",
       "xojMRrcNTnC+lPrh2mRW3kmORtA57GqNYQRZH7KVnTbSqxNNHKAMlkVMvxsv+jGVQ+3h6hvY4Bdr\n",
       "hbHtOx9/OMlmFselewrWNmRCk5km3G62/gBqXIHRRNbx84l4md03yqgh3zzp6vT1/e5JPh6Xjat0\n",
       "YO3QC3AURvNIz8qbdMT1dVsI0PwABHaSpCndDVwSWMaHharOv3WuLNWe3CEjvM287cgaVzdzuCWH\n",
       "4OxzH2FSkV16hyKnwbaOHOUw36bb9J69hHgfmD9gRnjQtZST1R1XIHtul076ziSUlFcfFCTY7xqx\n",
       "LMIuwQylXHCyHjsYAXURn3gzwXnQn5ApcIgpxfGB5Pb637TiItLTbQLTwoxiu13DiZ7vDKD4J5V8\n",
       "2g7ojykJWWW42YVNMc6tQ2RRExSHHZ2m5KsdepiZ4DqUUEcryz8tLxsbjIqoTJOomRgZGx8x5tuk\n",
       "hN+fQ4IEKcH8VwYXfPhW9xmKVXPzPstMMOfygo78G/5JIXiqJpjryYqBd/KgrRCAi+FeEr9rMljH\n",
       "aZN5L8DjA/+k0ZhSH4sW1QLq0wsSvgT/Ds61hJvpWNUZY0DB6dr+njHlpjakRbRPkXvZYYS4lT5C\n",
       "FIL2fRk4cdE+CF3gqFfPXDpwIBb3SDCsYLODcKpgBIJ81MEBdDez2FSDagkbaBKyptHW1ZYsrX75\n",
       "XelTQlBwHKMkU2NjmAF5qaoBLDcQSujuKDcg5yMdOCH+5c/aKo9iUcpl/mvYOpIrP7kcZhpAmMeQ\n",
       "l+08OSJCVveZgZAw72LoWYVKdlyqvrz2eJXvSUCqbakFTrk4ETimlB8bJ5Kcdu3VO6T7a1990VJP\n",
       "X8qIYEU61drTGmFlLQw17BWeu0oKn+61vs+scJigHK+gBxDO30XabRf/EY+LnoMCQClqm5Aw2weo\n",
       "G7PZZHLSdF3SJnNgfR7i1RzYcfRvHt13xJCGSHJMZ98cgnX9Z16iPInfqy2lJXPrAt3g+D11GrOz\n",
       "vWAalXuRoAnsgusuMWPZGZ39JM95nIUToajvKVI0javuyGidaCA7yLbiMMgNKNucHyg6Z2bOcNgW\n",
       "GZvQTo8h7LobF4cvU9PCiZdzv0v5ecCOYTsInyUKTVH2uXy9SLnI0Qh8xfnJ/3ZV3v/41TZK+Nnh\n",
       "MIVYvGkI2PEuwn68c2A9Vubz2ztBXmUvLWVGTETmbl1DfI0KF6pqs6YYhh3wSOFulte+xrd2O7tM\n",
       "YHXFoaWoGUQ+GWS7ef7hyAYRkUCQeAKl2vVnlEGfl4najnyIlpFr2ERqjDXhdJQSCCt0rkQClxhE\n",
       "4uv+sVU2wclvciFYu4WiKb9EDRKasx75zgSGwsnKwFHaMkg3lUCglPB54WuHMixJ5ko6l01kmeeR\n",
       "23w4ieKfOOkLpFsQ8iQOVlYg4Z7GnuRJxMbR/exPp+9U0/wNvQoBlNF0XljDWRrve3KJ8q1d+V5I\n",
       "+hCviOn8DgD7fA1QLgUp3fie6Qlq6xEtsmUuQwNkJORJ9rXSHPB643EDz8CGRZ5IFsfnvM8CXLny\n",
       "RUxp/ZNk9DlVKZ/l9WBrZAbs8gNsQK5WW/hZpp69hYuenmDEMDHWP377xzC0qJtABYLKh30u81oa\n",
       "K/x5Mj63VWOnvH4Vzw/IGSKVZg5IQFPJAVRIO+r7SwbdvfL1yg+GqMOtIGrgr+v+KSnydzrPjAbb\n",
       "ISP0D/pt/sV1W/PQecYagb7WSUz432J4g6ikORj01tkXA/gHFn5AwOQKLhOzvTOyEYbcr91GiNII\n",
       "36vohRCULocWR0vXRv/5KDEhBvusy+xHWr3dgvxvYzOi+ZwN5tx4yqc3Rt7JoYuuyfH1d3DtM+UR\n",
       "lUnZeqby7p4/fTEHED+4EihQEAaE/Bo8we/u6XlwuT5eftKYcfWi6IvyC3XatGyBWEvQIIjRS+Lb\n",
       "0SQ0mSgKlh3Rg3HGvow50pcG4r8DuSOR2hKzKDRO1A39/ZNctw3T+z8LUCaN9KfIlKMSvizYowzT\n",
       "9XRB6XDNoPs8AAAJTEGb+EnhDyZTBRE8O//+qZYA+QlFABEHxVqZ4/c8rn/bQlGcs35w0Qz8pfuY\n",
       "giThA8Z1HoN+vpN6h6cEOqrzpphyZbbqh39yxKB35RbMO0CB1pWdafmtj0XXKc/Ad5aDs4oivpn7\n",
       "fQH/L/2OzY5FaaNBPCtCJv0e8wcDt/jSbgK9PGXCgc4IY8fiGiraVWF9wuzRpv+0SQBFNMODXWdg\n",
       "7r5iRoL1l26UwzV4oDV+pk5r+lXVHcYcmGG8bGevSSF+4nyMibUdpMl3W6lD9SwfepLr9EcV9a+k\n",
       "5JT5/vOrK0DaREToMWjt/19fRZHS0G9EYiCq02IdLWp1lHQF2NK+Bi3jG2IWNGS7KPTKbNwTT2BS\n",
       "e0IcnpoJCZHLWcnTJNnaBXe5FSxdL8CPbvylTupEAh5F8X7w/Mxr2ZcankYYI7jbCPD5eWZzFqg3\n",
       "pINVvRlQv6ly3EyUYZFDrvb6kJdBw/N23t0fAboJ50IwD6MhPYhCb2CXUEb9VPbMwxUs89V5vqPw\n",
       "GPcqeS+tVj+9Jyf3DDMGp795EeUa3V1SRkX99KSWSBfGTltbvdnhe/ArtmcivHOtiWcWcWx/M4OJ\n",
       "ZPMkZd0QNpPJbv7ImnVG1HERbOpeXx6NPC5o3w6IEvpjTG2S5Uazxq8H0u1uAdAiLHnIL1+ysBlD\n",
       "PHPn+EqQKIwS+Cb1cUjUUJ0jxbEjzhQjIm2fYrBViv1xlLUeeYxntZTNGLudE38ANhRlSuot3KoP\n",
       "fEe11o6ZTamhLWSculL068Hgt9aK1MU7gd4lxb3UUyruv1QLzQCMwVTB9RnJO1cq7+LExjJtf/UH\n",
       "3V8AlO03E0X/OFnUuGsxv9Up35cS75oBt9xqXiF7G0/BlsAS5dOy04jwSSai84LqRG7j05Dv8AoX\n",
       "zZg/ajz+5J3tQX7sdF0ayc3d++Az0u9dmMw/g79u7j6/yQ4F/unye2AVohD+ApxNrRaEesNcn08/\n",
       "Lri0NR7hVHbqt5pzhKrcuf64oQ9jhNTrYDcPrumcV2x9pctI1PDlwY6pwBw2EVF11ObfqbQ12pES\n",
       "mMVNybHt3I/FxOS4qk+OQwKzzYRjGvm57/lLLUZU0ogloPv/Jh3SM13PQzb1xPHPnJAEi/sTB/si\n",
       "wGZAC8/kmxC9bmKknbJrfoBK7OAO97c15VLrg3rRIAZUxNCH0u3uEJ4Lpzu+Zw8GhTTbQb+D8VII\n",
       "9B654yLAHbg3oTjRRJ9F+w4DaE3TnEYQHFkVO7yukXkwEujw78QwV2Pce/+tSKsmtXwN5czohtSC\n",
       "g++LTBzojm+Mw/IDoe+rfWS86UgGhcao1rE/YVNggOT9IQsUPP8+3LCV9AjaB4ARxJck6Xrzg0UU\n",
       "P4rNm9nLGuH7n2KAaRe8AsrxYPojWwuKQUdv5PguZrdPll1RRU+V9Z7C2MIALuN5Mntioi5YNzFM\n",
       "CbsvQ/efMjj18fhHQiKMyswvtZGvgTpd9phKIMdThb8XzLpRiKBHzUQsaiOSDy7Hewsr1LniGOLb\n",
       "c4yRLpvNqwK8lKPOqydNT2E+HrTdehluqY/2UmPMs3oRNWCmA9E67at5fFQgpbIa0eZ+xNiDgCnL\n",
       "xbGv5FAk6nQix+owKoTX1CGAJ4q3EaSEAuUJjk6Z8oRC8LZZ0TaOswfuzQg2wa0+MYZdN8I8LcgE\n",
       "1DwLVe//P8VUR7nfZjtmJ0Lph4c9cmECp0jd94vnDEplWS9h0dxhHrASoP3flI4k2SKuFpi5Bn5/\n",
       "ErNrJMe7KPMEVhG/jlMP7CATPWAB8575ZMEec4TgT1JvavWPjNFgax6GhGNOZUfIEASf4b8M/gj/\n",
       "88meJbMdf82KGlrPKWhV7z+su99xt5RM80Hfz5AjPdppXyVEB2+sgQjXdEEZox0UY6lxP0cqo+WH\n",
       "9kArlPhztMpmKGxDPpfG1RuiDLazGm2wdCkgbBd+jJCPq0CfjUqhqvExobSM4wfqRFHI7gs+6w3W\n",
       "DgOQC36fHwjnn7H5DU9dXkLphD65WQ+jARkmbdXq+456IAcX8VmKaDiDS6K7z3OUlp5YXq8qDTkZ\n",
       "xrGS/6DzOQ3HXnstZaZZDf3RSRuYqz6iFm6afCps7b/2TwWnQ+zWmxxpEVOamESvl5gMap6L2X21\n",
       "fiDCo8oONbzCp6Ki6wuYExFtgmzA6uAu10E3jbpJbmgWEGaXjFpQR1OlCPZavWWbJe/smgwAvCV0\n",
       "YN8WJd2hWlraFORr70OI0vJnjw4aPXff2MqQbdjo5g/ZFieN+XG2/j0Qnc6DLCFSxeTUj8La0kj8\n",
       "rIN+aUgH70NBSFIJv+RIzf626DvYqoCoH7NIzZPd1ZoyATHeuHCCxuLBH3r0qwtmvrepYJg6YfS3\n",
       "8Z49/VhWmuCJotxZDxZtbr74qW8xB6mW1EzvW4AYjdmcM6v9h+1VNEFYKstiHsqh4xgwZ0UC/iy1\n",
       "Fv1a8wKZXPOP2V5oRmzvuagyW0S49iQDVtXQyRpuPBHdpk2xTxKBeaGNRM6IHL+PHEMyg5vRY4QM\n",
       "bBnh2AlbUTicdIRCQErqLqj6/vs8KhNft5sK27/ZYYRU/ndaj4PxV6yjrEGk1IU/mnDLT9y8EE9i\n",
       "Jkj31Lm+HwBvp0n9JQN4btXVQbr9jZc4FTq3MJkehddJWR5gPB8QOg4X09/4230qiJCaqRulZ4rL\n",
       "JpvsFH3fex8Vei6YiJ8vLu3n55Wy/Aqsg4GOki2D6naMRhErIHgUgIYJYaZJIfWfBNbFy4R8eVoj\n",
       "y10wAMT+VO8Lw02u45Iibg8h77kqEjB1J+hY7isLJtX8tONLITHU/iCTBb5xB+RupZ8ANz7PL3Xm\n",
       "ClMBsVWTtINfrcZIH91z5t8cwi7ZTGvX7lJKjF7dFOaZg9o/WTQFmt48aSVCpzW5gnwjMrhnySDM\n",
       "DTwHU3qTPtgLTX+FRlebQu95M849T5E4Y+x/YpzVugkF+fjnTkFVnIOPcWHCYYlizBnOnMGLxZdl\n",
       "4aTd4Yc8Rrybir7benwo9q1WW2cV6M2kDFOwivjRcxnJ7KQYAOZIlZu2mQKE2MJH8rHzyI2yJhnx\n",
       "WshANksGfIffqZ/gGTLnBFGMMQAGVQ68koGVwaeldaWKP898c/pl7v+/1XghlVya3SafS3o/oV/C\n",
       "ls+dOGOc2ha9R8sREm0HE5vM7/v++eT/2rba+uxsx5QfABwQLQBxnb708n0byGNGH6nJvS412NEA\n",
       "AAIvAZ4XakK/AwFHOmwKZHaVvDeSzIlSbGvpRx7rRQA4ln7swaP9i21qi/SAv00yjxAJ0JTFkmes\n",
       "LD7o/XmFHSwwNHbegoIBngD74GSgsAzPJL15IM6KQ6ThdBHm1piXE63ZCHUfiooYBtGKGsfSO1D8\n",
       "IE7qRurBz7R+InGCNBrhNVZ/oeWz4DEXdNn18mtAUvkLgSQNwF+lxmCgRamDHDNc1r0YDCzZOJmy\n",
       "RwmIErVowGmFDRSHuq/sSz/wa0WWbmSFE4gUBDYjtZpkbtdLz1v5KZyLcMeX2+m5KYOvXW3MwJf/\n",
       "6L5X2erWrEfjQPLXOOyZiPCwUDBmH4kKXWoejCCD2P1OVukOW60L1gP3djBV8sHjCTbAXeAklZAK\n",
       "jZXcWi8lYAPjxhihDCyAQd3MS6zYGMtMSg3srC7UGUZyLvZXEAVjMCr8SdNBFuF3GZm+Eech+O4H\n",
       "0v6wvm1npBjfRJVANrx36iIn8dz6DCgIuKPABggoXJAi7lnVfq4V6eQpr5H38foDGVJ8JejAdkK+\n",
       "3nsdUmdPun+Q/C5Wy9uwXONuI8wK1Cvv54HfKYWqj2K1XO7DORWdVF7Nsap0IqOCQL1+3C8jyyZL\n",
       "jb2VOmhBOcs4bmd5AYlaSn+flAviInX92aNmTOeJtTw1MoRYWxmVW4JZsaWtYFqTwdoM++B9d3BN\n",
       "DFC/yZ5XWfizLJqALWF9Czk0c/3Qo7N+XXZgKAtWJ0IJnkAT7cm4ibpPmZFweqst4QAAAUBBmhxJ\n",
       "4Q8mUwIb//6nhBWcjXOVQa800DymkzFQhq9AC2dXMLBNvCxJdsfmsvXMWoC7OPy5k5QmjmXwnCQJ\n",
       "06EvELlMPJaaNv/5lATeVtJSyh1PvN01CrvUQ3E9C9kbN71FFDbuiRWqYADLyBAaUZ+OSZ3/Gexl\n",
       "W0shBBhaVTqmUE+VkILEHlCUARMBwCTn6zIzdGS92b8wvDQufkitWvJgBMqpUX4LqaA6Aafl/dP4\n",
       "Jxmt/erZHobVw/o/TKyWdY8elge2LwRo4IcM4vKxyd8A0JHyhgRwN5Lzcz2CPKwxBFW0hM20mN37\n",
       "e/FhoB8ZwSNCLqesouPNt2ifNbqBV1FOsAHBfT52f2dG+wNd/zUZo2Z8lNlVgQJbnyvjQ+zXTqZS\n",
       "L2Yci3LaWDL7sD2KCR3gb+bkPydWqbU5YxgtuLO48AAAApdBnjpFETwv/wJWJwD5YLi4GgkrI04K\n",
       "ureSAEzdboB5BsZ4s+eCUV1rcvGdY87exWn6Tp5WXKH75lTsIVxmDTiksM4TpT0ExLepMLVEqzYs\n",
       "+Tk+M0xJpesCjyij7g7YSxwBbykjwVbUFvZyaBH5KzDY+jS27M5qVi/CuJtuiVAaj67aLJFo69UX\n",
       "isFNCa0hvd4FvS2qd5yDOjTPBtUj7MYyQoVosS53T0TjpSEsjRNgJR+KgaMC6OvY38gevsiy3sKQ\n",
       "28/5NFItBJaxtPBJKtzUOI3eO2rQ46pI+gHV1zdf1kMZgpbBXLUv/8U21lgLEWnX2g6aw7mSKe+p\n",
       "xkaWIXHS2Y7uQMU5XNaTKo6diG2qoIHZgSzRR15VC2LlykfAkea0USi8nfxd3M2SA73ua+HLf9Md\n",
       "UjrEoUEz/CleD2tj3/JDlmeuiVJmJcuHqeGzBXLaN7YgGx1mN9eBfzImuNg3y5hLBhQvNuIXwv8/\n",
       "zkgAeTAebSSrg/ZoE9nztWzm/6gOD4KR9LsrA74BOpvG8hpQJhfWAExLnePJPUaGKkmXy/xMJEyt\n",
       "u5MDkDVU/HOUETt8M8J81BvKdGeMzrilzsr4tx3UtGhpuB+hR44oCPgDgSGu9T+hFhfhtLu1B+x1\n",
       "NWOcJyCEOtEL0fTc1Pd0Ik3WnJ2ngpCmsOOYWcewOmWfq4Bvmu6f+ASc9q82n+FmC6Gx7IP/Lk3v\n",
       "o3bP+9TPIiFndP/O/3IqSEdw6h9T1JekabTPoj3iYeHdqLk2frFJEbmBvHf63B3xfB4QwDWwABUz\n",
       "jIke5Hnk657ajICR1izrmSpNrdw0OAUO/TbpxikjjsFXYO6tLbEdsfNa7U2j2hbJsaP2TwUS5Hbk\n",
       "O6cJfpyuo6NelIcPKGEAAACWAZ5ZdEK/AxOA2pUTG8wsUwW4wkI2Ny+3uTIkFkTvkjUeK+ADMza6\n",
       "x4MXWgka4MeJ8KvkfFgDLD1lbW08YNIl8MoBTq/qCgx29Ia+k9vq4OQHpHmI4F/QqZ6y7USUY9eq\n",
       "P1Ajw0TvRNANIWCfhZyAJuNfAA7F3jGgY8IGmJXVUxHYXL/CSonUDH7C25hmzv8+DGi+zqcsAAAD\n",
       "iAGeW2pCvwC061+sAE4Vw7BMtkq23DHlm32Q6/sfiXpOunQeDJiAGn2uYUYOfv2HnaW8doEX1Tni\n",
       "0CoNkKg66oZPySClW1PlGQt/5p3KSbtTJvauMPnEVfxoPwQzIDpTR77D3C+8DxRAQYSo+erqUgYa\n",
       "aY/jmKNSPn9eLq94ZmV2qDYlPsta6Tt3rJhlG4vEjkpxtx+FXSOWXdbEq2oD9EJ0wz4VsAPGqH1E\n",
       "QkN6wLRI+lDixHpnGY4u3MayDbpSLne/BvAGzLaTrS4cUmI5yQ/F45p26AnvqpkO+FhS/20W//OL\n",
       "EQUpsjHxBt/9dpICszZCprk/0XsX8eRb4VoG8IyR4am7qmINrJiti4zjSD1++x7ej8g4ayvafSl9\n",
       "fZxmGYbMnFjUqBngobxRyIpzqI6YYqZP8Hlew/1XAgmccifIFq+ZjEwCmROghd/9DssKHYGXdSOs\n",
       "hvxw254wJSn1MNefiqOd3zaHzUe/SWnQffQHLCieEYxxeUz/H/69Q26OuC3o2+9e275Kg4FUTC7R\n",
       "0Rs/M9mQyqHF1W2D6QSt+8aTMBG3KO5Ss9ngrQOhWqJ3hQzroaPp2ZgdhSIwWWrZ8QAC/w18KxeR\n",
       "dNen2uzP4UFARcQ1zSzjlFBpbr68gAXiT6mUvnB2xumeeH5I+8zwGA3VzygTkx7ozYgn4cmCgNbO\n",
       "ZblG7212lHB9soWlpJjgSHgi7UDKTxZqbxWsH/JPu21BB/uMB85Pbki2YUnRSS2/PQgpklatsSj2\n",
       "7Ie44AYBHATKqDBX69Z0rj4+JYZ3eAMNxPUl+a2Up/wSC18C6OA1FV1SAGUV0MvOGPxhFSuyuStE\n",
       "wYiYFoqMXPjSqQMD3TF1Mr9T8h3YiZSnalnSxZkofhHabTVzWgndzqkFEXJEwLzNNTzJ0oAhpxIy\n",
       "WvXDnXwb2AkxAHIGjpmbqsGDUcllf85gipPeAfCTD95h2Zul0xUcOrb/N4oy6k9MMlTGWYmjCQ2v\n",
       "gNHT0X7L9tltmR3uQkTUKbXEz8jk/bl4VCSSdWZSGu99nomBCSjKRliltAY4c+UWBGwDLXkWW4Bc\n",
       "oBogF9jXb3rMGx95/UQK31hbdDdwE4fSqgWaIWok6Jq0H4G3TC+BOK4HjChwFu3iYEUReNKdAlYR\n",
       "G2pFjlmntY4tJIBu+FB2JHeGKsJNQX7Tou9nvFkY+L4ZLMrtaHRXSsRK8HmE2mqkQMEAAAqFQZpf\n",
       "SahBaJlMCG///qeEAYK53+4h4bwAFR0dtHzTHBBrBEJKGv6oXt++M48J/hIegjBAaqN4Kn3qPHLg\n",
       "wvdB/V+qywL6talU5iRrYj09077kG85c6KW3S+hhnV2oxuxjhUxvActas2OwJldk4A9Q+h0UxkMz\n",
       "E//L2DIemE0/edVIpUIdC0n+CgPTgT5sdldY2Xa91i0/TlofGqqhznn6w8AFhGKcwEmfs6KL2mrk\n",
       "zp2zoO9XstdoT3nZNawgZqO8LQ8gOiZpoypkoxq9j3qAFM4QjGKsGRMe4ulHHZKKpj8sLZ3hrSu3\n",
       "RGL9+HK5H2lJlKOhH/5JEtqh2omA1EWxM6pxzeFlmj5gAnDU+mbJ15fXEpPwi5Ojoo4llwTso8Bq\n",
       "evctmxocFYBZl11p8IHSdrt1aJCfk6vjM6xctfEjvMmlyXLlTyGBtN6ZZZOWJ1Ukh5Io+/3WfCT3\n",
       "E9sD9jJY1U6oLQGUFDJACbijfYM9RuvT9hCWPhNLMEmGT/FNaCZl4OkFIhj9koQIgxGYkYsApOiA\n",
       "Cr0EawnI+IukyBYozOZzK/Ce2h+GXY4+4+CBEvKqt8Fx3CVT3Bn7HxeenU1+G/pyGn67VfG4qM5e\n",
       "2k40Cbr7rqFq/W3riEaKCrUKkXMAkeWjTUG7Qp9I2ChE6u50LBoGESqzUr0qtwVUZIrkpACvbcUO\n",
       "YfIqxxLnDJIkJ13CsUNlu/v0V+nR5F5RVLFuzDdhZiPBXEwxX8wG+Vjh3RYeK2e3aBJ9S/DudMmY\n",
       "gG5aVULU2cUWGzFVVUthMA4DFiNbxJdDeloPlAx/iila4/Xlh44BWP9NVZmrEuLAQfa8EDXN+YmF\n",
       "03Nn04cq9l/k+PCjKyktzB6YMkHb9agCqNKzR9XZCbMUrfAtMdeE0Kq9Nf6fv3tKZDzDU8xAAYmF\n",
       "9HsUcv2qsVgmkWIBlVoFSNlWamMcoFz0vXLLCSaFDWEAGyoaPuVnjcK1YAv6XZ0DIODZpu3stT4e\n",
       "NfqgJv7MUmTg3ukAie/ED6c0bs6tb0ucszZfxiUtwU99owcZePvyev2wYixdL7Mv6DYJX7duanmi\n",
       "xzAHSuE5Oc0ZvI7INseFgT/U1N9G8rkLOtmqhLVwl0ZaKxXGKU6Tsre4F9MVN3xiw8wT6dwLsWvL\n",
       "R3Q4NBjHwBjQLrx8CHI1KlLGi8ckAS85mrzAWIUqprSI342SZCSeVyKLaucTrDmIuKLq5xNuixLW\n",
       "/FnTg1XQbsDDBQYz52wZyrjb+1veSDGf31rh2/6S75nYyHEEocE3t5gqhJQCtLoDxCqp4Rvwdx8E\n",
       "JcosxdAC/AZbzTiuABzyIx8Af1OTkWnE2sXZ/thrw8GM2BEWA3r2CipNyQ+Qlah7hbdd3wPDtPNx\n",
       "bp0bulQ53WSRPWYRtMIsf7pCnyMwx1Lcchwg9UlmcvTn7sMSuFYD0OTrpKJ0svqUKy3CWs/0AsAp\n",
       "BAaUmjU81OQCUCYJ9TUzKKTDSsydSAYnyTgXT7GHQ1pO30/w0cNpX/k9r51HOk40/Xpw5Jxt2D1r\n",
       "6WWs/piRTFQMg4eLC8uaCGInLAkooXQJ5H8VjYFG88PDVuz6FRlNQZDOvtw7MbYY8lDEU4kOIuBp\n",
       "bJubQPg4Y3kVfHyL2+wIQY50ZHYeq3JMwTEvnWFVlE6x7bvbTaKF9ae8f1L6/kZD2HxjL/EO/puA\n",
       "CrXWozWS3uOksEpXlOuwIIySfjc3sJdNNeA7wmkbl+ylVC5G1XrZ5vsbWwqzqHP/QGcZHM6hEH57\n",
       "e9/L7pT2oNH2YE1EqIqFLYmf9swGF43iulgU5awIqtwceK2+xP4vd4OKFyj4THFwd5RG7t2R+ijV\n",
       "A6vxHf39AUWDVufbGZhc3JlhTw52kMp4wqP4C6tBzp3R5UGAddbubcwh1xgV3yeQbaaV4tKq/bbI\n",
       "A5d5vFYpT630c1BIzJsnTnhNb5XmpZ9E6pe6J74q5RarjVxjiBohgh6AOuDL8RykPsAiRQEotggd\n",
       "X/RX68gPv8W8iiXcYoBdA+pz1oh29nI2ahLOKHrK/+xn8ShMJYVvvp0YpyNmIUPK1g51Ma8ux7e5\n",
       "EtzThT7LMy4hkjf9bmRUnGvBIP3ABRf3ZTBGA9JsaMDO9fYl5e4sbb1reO+knFSr6DLIuEz9JQeu\n",
       "QQd+q/WAUuXparenQunFPwntAkuNCyITHFLgsf6GkATkiMOBpUijbb39KyeaThWkPn9uEeM0rd/u\n",
       "IqAfcRR0VnaeRxwot4ieTbHDXZTM9/sLGGPo6eQfjIgF8CalAytUPMZtjm4xJAmG8csh6b5Hbbdl\n",
       "4IiFVHhCtIaCtwJjnd/Wz7F+iX7KAaQUiyhaoNW0cw/D1puXITIV5n6Cp/wJigrykd3Po09feYDd\n",
       "AhjLmq8Ja8G7FwboCjn/ANj71lAN+vg7zPJEzi5CnCL7zxgY97u/l9H8oBXSiqWp2vyFL6Tm9y+j\n",
       "u/kqVbSY2zbwimcyqILIx3wYI1N6n3C9jSlDd95AHkT6U7H/tCJ4ZyYS2Or/12SGHews3q68zXji\n",
       "jtfNz2nIAA17aiL6d9A+vXAnWJKpDAH/1sZkzXrWZTdTKzew5Kl9oZ1WbkO0TPzeucUzHKBLTgcu\n",
       "kAeoQPNkBTL0+v8u9T3+OSDmTfdKLOKfs78i8o29Z4KOzKrNPX3IQZIra/eFeaCHJi6JuptawlCr\n",
       "d1WQBxEiJedU+4y4WG2vkIBtvPltmYwxTYf+COBEnSXyyx4tGEWoX87UuZ34Pq1AYkJxRmZIKTqw\n",
       "xKtxfdwFhZ02wah9Wej3gN7/l6QstMbMKFQUI7fLkX/i/KrGn4b0AaViMAZd9mELBKHXsmM18K1Q\n",
       "uPKj9NYk7qnq3TEQE5izQVBUCQMFGrAoVD8QIOPlY9cnB3O6b332osLq4tnhJpstwP9ZspA8WJzR\n",
       "aVIE73AhpwNRr2QYv2aLV2pH7V8IUoXumRk1/PKhTGok7FCPhNNM7Sriy8DlXvLerixYZL7tC90v\n",
       "szDjiSvztJYve+hHJ3q3DwODFRXhbIRGinPj0qETGNbe/PZSvxcF1TAuPVdMvPANlTJF7QM2aYjw\n",
       "0bTXcWjfwkJIGmWPjz9YPL2CIrvUcfaEvDDqDA4j8ymhp0PpjKJfTeKydoDAhPs4IzSwnphPCSF/\n",
       "LKayIHyNZ44nnxyCnkUu9yIMcIRjK3Wesbr79x+mnpwuiYQghQ/g7X30llKw3Es8dgrq0LlRmF5Z\n",
       "FXWyKefmlT7qba+EqxwuvtgOQkMllToT51ttnR9e68jButM93etuaAe6tZvdzTh69alZDkHwQE+i\n",
       "ubR+iX19gJpbQGLYTq+xYZx5sW4UPeKUEfav2Cj4UaKEBYQsgg9Gf0vzyyshNqktwezeX/JAKdUj\n",
       "fSnlXdDwLmpP0b/+cB88GaZ7lJRxkNqW2fLoEjoojxU+pWeYYQxzi6dHuuOzYTKUX7ZorrP2K4uB\n",
       "uiyp29PbCTfzdetaaAx/W3/gC6kq84pVyeoWf5ninbZ+hFW5EeDyqs7/aEaG5JP04ea5JB6WF8O/\n",
       "c0WtYAHSKAukfiNKS4/sfKZp3pdJ/l4O7UUyPLWGNk+Bnwo9F1DDfTqmym94Mg/7olA0XAwjTTz2\n",
       "fVdVfHtvM1wfZLMAAAQmQZ59RREsK/8BLtdyo+DFCHX4+bDnAhADPjzus7LtIQstnkelfWsnWOdm\n",
       "rVeU/RfLB7Nt/we2O70RAUvPdEE+XElX38b7UGS+6ujS/y0+ZQ+klxiaiJQ4PFZTuZn7aHtd8Dj9\n",
       "SuH1ffBu2EYqrM2VGiue6Or/shGYqkVItVQdnKQhvryIJAqCPj+NXC+IALi5XzUt/ugFJHHv0wvL\n",
       "wnBIAmVemXMo+3ArFv9MqJb7QytilcHbdXoQn4qAX8KKLJLLWpnnFf6KF29chJ/eo29EHigei1+R\n",
       "JhSUgqmh/Cd1rv4056Th0pIii1ZZeyqKr7J9cPc3Vbq2XI2xi6dR5uuzlzhvjFgXOI13Vrif7Yz0\n",
       "stB6wmdxMVJsxJ5Gv9Wz+VLrJKOUYThJ1qI4uIKwpbtSnOjEmEqIrZsu+Uv6rnL0KgMnInjKZNDq\n",
       "XKJbuElk1Yw8W8nqNIuLPbg2XOdYg7eKDks1zU0StahV8mFj1Pp0fsm0wBCkK4n5xkTxGiSPdofw\n",
       "LZrM76PyGILNhzGqkxxjs41lpy+EWqbM6fDaS6D9MG5Z1sdUrBgobi3D6MoOJHZFlKOzxeVVWb0K\n",
       "3r7qO70OK6BVDmnRiS9QSAXONz+/gcjqUzf/KYu1pXuP+PL7xiW7VDEIVY9M4E6am84FuamAhJpp\n",
       "s1NwrRz2iYRTKPT3Vj0mqkX8ZNyvbWi1NAK0q/7h+XBRkOuNkmCEbGzgTXrSl/hIuUEcZVTkDzcH\n",
       "RCGn6ZE1FvDC/T6veDMggkPLLjA27oDvJgn1Zpm1DrDHMhVirlp7uFlmfQaQHDqlQC9wR4QEvKOc\n",
       "PyGEuK9YZyicAA1/YJbH90VNJqTMH1rI1x6HqtcM/m6rSHYEwiW4w/GUBF+NxFe5Gadjobr/NFTE\n",
       "7tQvu4NUJmmYN2agqrtQSwQyypDxgJO9Gmr/RI8eBTg/D47BAGR5NmJvhnNbHoU163UB0TQVTcYa\n",
       "tjdDszs57MF2hksPzRuEGjvpalbbkxdpBa5rHo6474t8zkKdi3q5C4pnakPRuFh+SLlyJhxI+F6Z\n",
       "GZLWCiXQZ4Gp/sHLG4qjr8T3ZJisztLpF9X1geI7eZpARoDCAZuZcAxaeBCng24kBiCUFAqfFbVp\n",
       "4NaWlcxvxE2WFbjOHGEMJAZvYKcHCK8ZevZrP7+iBupscwU2NEf8mtLhGNX+tWktn/pjKuQR4vpv\n",
       "pfOwLM34ACqi5nBFcymlYk0VjNN3R2qiidnDF5zhfepJQf+QrxeyUNftZnRoqJDyC8VUilTHn7dO\n",
       "RRNMUjeyouW4MeC4rn2TloutzkuWuaJI7r8D1YPvoXYU7Ok4tKJeBuDtCcfiKGf1DfY5+GJuwzbC\n",
       "XEG+qZepyaQ+qlesXsqkz6FNd8EtPQnO3D5939vBSA+lvaVWbyEzX4PWTBh5vI360gQQAAADWQGe\n",
       "nmpCvwEthsWyiOVyA1XsEnepBIMe9mApMwUR9VK4atL9+8GrSEuIoASW3FSi9i5uaORUTbO0fawB\n",
       "Z0X9io0HaAkTHQaw6n1V7jPf+oU+GbFF7FOcWVDvdaSMshexvUbxneEnyRS66BXUsPsIQS62Pgu0\n",
       "6QVS2zQu7sLGSRVp6YVejphPcK10UTcp7+bZp0CU0RKMOYbKq5uESKokOYYFwLWbzQKcSe2xFPcz\n",
       "/e0esMuLwiMTsp5NE8DtGQkaiG0KIHsmlAH6nmcQNWc/ROZmb4cwECcsv7p9gXp+/kXjAVe6foya\n",
       "+3Zai0TAX8pM2vEPQmxQ4RQb7EttbwFcGtzTYc7C3WjFRQd4P5HoCsigoVyLDsHSFkMUneLBka6V\n",
       "Azgnqx2Djh3fL9A/wuXC4L0ibr9XvPSXxGlDXNJ002C24LWqcsCs+pgWWLWMidSGW/T30NqlnyCH\n",
       "dEY58Bg9FE8rMDriS3QhfGXiECTLtrEZJ5dgio+NxoD9myn6TVjb9kz7h9NiU+jFuZRFgLNkzZCJ\n",
       "ZqU78wJ8FSWRMTwJv5Wfd4IXeSSgACszmkJeMaw5PsfM3tbKxAjwGxl5jpTeub0ZmCVWpaNcf46P\n",
       "ofgvONFk2k0CJwDHbFXXdjsmLF4HqyXK+kMvSBo1Y8NNQ+Cv2fBwpKLJdjtxHm66JoLbROxpaA3t\n",
       "b7UC129pcmWJzfP3QU9i0l4Ip7aERK6tNMgRq+Jq5EsIwyJ89Rqo6xcTLFUdSCYS0PPxYH4lC6Gh\n",
       "mcegu4MDgKIfDbUwYE3wUXiMnmbIikeb/zEmOhHYr5evOuRcFbZ8PG8Nab5XY5N0Bhxm/0k6bzYP\n",
       "7GwcWu0GsiSMo4+zD9KmrsqU45tXKSuoxs+MsIPtZ9VuyMNsfhLN7e5JOSPpBfujpkdkSN3DZFB1\n",
       "VvdWSd1lUtAcTvndLoVUctRnYWAOk8m3mTIEEfANPde6foHAhJFgHkLpOPulrslwdIkwBlIviLMd\n",
       "rfPG2RzwO7gDhhTOIQuO7Mcy9Z41yLo+4k1s7W5xwJh2vsUUAUW78ycVvLIzA0gKqo8gh8Zc7YGf\n",
       "XHjbPzxbMl+oRLENjfUQXJCHT0Ot2u/eEhcyIJqUg6OGwRMeT5CtSFyFh4EvUUJKUM62QrcBK+QY\n",
       "AAAJjkGag0moQWyZTAhv//6nhAF/tm9MYfQyUMwAlvMsh4AW9cEZyapFTtiw3J9at3jlQIRavMUQ\n",
       "b6GVPNf1wR1dPs0nmLWbM4zvOcUk7ITfRpmTR3NiCih2dTUeZmUyObACNVgZnmX+DQRPZa/OkYNd\n",
       "C+YowKOuPaCrLisutxacCcg5g2NZLwdzGSfKkXfsnaMCT368Uz78vnia27Kz2q0rDvqqXsLKffUm\n",
       "1gjzhvn+U6rQHb5MnQEOZuq9s/P8u7q7Jgkmv06cN2w0coO4NqacOPNNKbdt0E0b/dGE10Zwdpys\n",
       "1rdCRqAA9w4qICv+7J0mkRbt6xDES1pmpRlvrdlWEa2BUp7G2qj5ykMU2Z270qGYMnEHS0eGj8qL\n",
       "tp+433kVSsZ/RKVJ3O4K2sXag2o4PApjqa/HYUcxAYCqcFR8ieLbseji28A11SevD9w7oVCa06XR\n",
       "+GryhgPxqD1OomXDvYjGNKF2MDMDOO0rZKapP/6W6gxMOioPkgvUdMBx2OCmcqtivy95uxitM4JA\n",
       "ttZ+wpv7VoWKTsClR8d+NOEk8GgHYUpThE69gv9369j5iUruolqAVNh77RvMBY4b4s6cufbacxKP\n",
       "/pxBtT/o3g65ZRQ9ULEXjfLWRgpGpNt3aqDYVHWezeGH8vOtxRSO7Wlz/m6nESXQ3YURxnFWcYqo\n",
       "FvTxCAshNrGPZg0CfJ4DyA/AAgB45cWrlEXDBHY9gpVvxUnvwNC4ECpeV1/3jBuSYr8/aPiS/nbm\n",
       "6g73BW6iwiP35hxELIA9MPy+ioYAuinJJ5MPNu6O2dnEyDsIog1fQsr9MY5jcr4wzxdaj95i32OA\n",
       "EdAlCsARcVMT2i4nLQGXOuD9amCvbyoN1cEQYxCBwHPB+1cxk3vE46ErVvOEEjsgfLzQHMQJ/k6u\n",
       "WMo8He4sbH6XkVYrDkzClJC8l7MdkDj2sgTV2Q4ljH5Ju38e7fvLm+o15CSvqiMVkYamzSYLzMKm\n",
       "HKJFkplYEg22uAahCg5L9SGE3S08df9WeN4V9kaaSmZYWxZTfZHeKkQDyF0SWmjtLUg1StUCOOyf\n",
       "cEA00ACstunNFhFA5DydeAM5RPkjemrv6R/OiWJyTeFy21NzdHnoeeHMbGPLGI6OMeR9WbaSTosb\n",
       "bCMI+15EdxYjWYBM2udnvQn4ZL0kkOMD3FD5Nzc/EQlqX5tK5O6CfbtSJvUGWr1OOpZ/E+UAM4hw\n",
       "hLg1zkeuXqf5eykVZHiat3qF4HZhpkNBkgTK+0Pcgdm+/tkWqbNV4xv/FedkRKh2AnRZ31/i7ih9\n",
       "kVFB4hNctCd/SDyNO5/WFzSVJ5bbb3AL4pHBa6XW6EpgmCacGHwsO1vi8V6ulRkJCsXG12Io5SPj\n",
       "+xhQ0Vu2Z3PhLrw7d0JFWVFgSzH8KpmqQcdWkZ8DRGW3GfNlb/OSI9rqcr/ZFO8jIXXfACG7wcko\n",
       "bIwx1jPxoTR25S0W0vqMktTYBv/pQ7BckS2GW1jrqu6/I4DQnG3wx6hUUKH3qm+5n60g7TXbvk7V\n",
       "Qf4v8D4xHxLIRgqYuacjaeOkHg5UMkbCcG/66fePbloQVUHNIg/5Tb0hXt65Yl5wjOVdaV9HIWGh\n",
       "4yztqq3s1IzU8ASoXfZA4SKhKd/aPDJh7bV2Ns6n4CP/M+RJJt3D146lbFARLGrvv5mGDNj2hoVr\n",
       "j/WO6Dn1q/XTRQfLpwMXw1Ju914LQclfv/qCO3vfyK2g3RmOysStdoRWA0Fyz9D2nxPqzoB3fDUe\n",
       "9ijpgw1Cp5r07hr48o5RYLuURc9R74LiRXBnJeNNwJ6n/HSc5bqEb6Xe+eDgjzquTAPqRZh6U6pk\n",
       "i52Q3QoL3/322KkorZlfD9ZaHJhyP/DK6wkR8mR7ZEgY6AuFlA9NOVPz/OHU0zFsJ3/OhtsV1mhE\n",
       "AlXSG1bfuaeTqhxo3eja7Eyi4p5na1YmO/bYDxovWq3SdnKc/PzvpaGwEfuUh7gryg2ANz/KhNwm\n",
       "cErXwY8ZJxG1wsrOFsey5/dyg+YZ+kQI5MtKcoCs8KQCeNG7LHhPvy4BYnUduZrr5JchgpHUOp1R\n",
       "q+zE63ipAaf/rJwx4kfm8sGW71WB/BRemaeY3gAsKSXxBzUCHDZ7RZ6SCz4J+c8gpIox/DGgCscA\n",
       "OVuII2GuONc6Yrz5n9i0RTeVKRxTr+ZCzWnxIkTVnq/DkoRiN8eYUS3+9jinBg8GXRPq1+ztRkw5\n",
       "pbtqfBQCM7BWUQpQMcTnlKEMHKHvPr60kxIskjL4TEGLpnD8WgqpL9m14PBVGPWDkRf+v99+Pxtr\n",
       "aldsh03SHFsZwT2cARgZYWmjgOUwaTheuFxHF0s0tZ0nejI8DT4zLiQtSzaGNLQxd1ivE+0du3Qe\n",
       "Fr+OSh05b42q1TLiEcMw7IhWqFCYpcFxXzXrrN/l8rupiBXKBJncxIE3RLlf5a9KWJGjGj1qe9VF\n",
       "Ag3Va0ZnAz2DTDDeskrNCilFQQ29dn64Z+y9dJYbSwGxqEJSa7OcxpX6Piuv22bKffDBOuPMa7V+\n",
       "qgeVWYSvD9qQZanSnbhY4/Gx19QUm6zkJSoKORbp7zqHgu21YBkEoOQBKGZeZOoQh76IUmKBQeaf\n",
       "N20l7nLEMH3wb0pNTEJOGbAMWM1P/4SBiP/bcHIgetPEvbwxc6xdgiqE0KGPn0eJXpMkzp0v0kyv\n",
       "88mWGI2kNpq/anF/SbrWVQUX11R4xVD29H6dj3X3jKKi42HssmE9D8hK2zC8cK94qZbUw6+q+T5/\n",
       "z7OxJXpPsXYl6KrOOS1tGY+r8yOGE93nu5UJK7ntNCm3n+w0xNYaKOYmyLDLPv4gh3kLq9ONlNFq\n",
       "h1/Rnb7tAlDxKD+mMWezedm7AfxR/rHAZ2b9znWE29IiUgMviDDc/DpsgGtJcQd/0myOiTLIx2Fk\n",
       "Ps74iJQ1YN51Ko2EcjPijjITvPdx9ACaA6UEf3dJvvTX+LPB/Ab7ujmpUEP34v+i54cHCNOMpvLD\n",
       "CQX0Zt5nv2bOxCBmvQtPgyIB5QCoA/zjGwiYZWgMeKJEMqEM+uO0B/271Yz8YgCfwmmEsWa2K9vu\n",
       "l40B7uE7g2H5/c5yR1faZmVBWhBLn9Pcd+CVDxEdDz3YCYKkKiSmwVhMign5wn+kafrD7C9dE8qQ\n",
       "sBGD/+KAdSPNYnzCSfj12kQl6lr6YNhGHFB3Kq60gQ51iXeqWKBDa2f1R18ni7O24MaG4A1fBQBh\n",
       "tmWgd9f1Zfkx/Q88PqoS8YPh/a8wj5onXuG18RkAJ5aylJOVziUntg2uNSJTfZBIneUMAlmwb0EA\n",
       "AAVfQZ6hRRUsL/8A3IX+vioJOJlWFEd2MoqI7586AG4ssMZ4xUo1Ns1dFwqOglRjkd7DBxM7NyCE\n",
       "tR+b4AWACndUcssbLQqnoIBSAH//jjarez++hS+we92cDAEfDbFBsuiUltIG0yfTJRbMk7osrNfx\n",
       "BF07XT4djnmcLAEA6g/bX9o+hS1skMlcX/NxGtjicKKn6HBS0Hp474vI6yVE8Reu/K0YFIPMJ9XB\n",
       "UZcwxSRkFTTatat5nUcmRKWNxVYB8m3sn6YYb+ANuLudQvOJMKAMt/UuGnhTQhvO418JT7cn8fDL\n",
       "CishON6/n7kasfdBAk5NiOshrXGATGBD0rCGkO6/JZskPKxXQglerLqI323bTsmzlfMQ3VqNdoWV\n",
       "CPc23w4XzAIaEZ+HUgeIzW80qjsRK5UyPV0UrolLh7eFD5ZKGhAcgQy2cg0R/cOtbMOUbr3HsoTY\n",
       "XF5oYJCP7Va03iiFLJByOnnqvCnb+EHJxBHSsOy0z4JrEqwiOxn2/llBZjfliCJXS7z8MEHvkknm\n",
       "LwHcYDlaD5ZE0gsGrjayoKUWIiBtvGhhigbySuESRWbsLy1hq8o4KdJ1avLo7+22zza0/9gD9xUk\n",
       "UpGYgCwgyYmOZrelJcARVGnYbCfH1wSnmEiRNQv62QQvOJ0HN2hJ+AT33Lwmzn5QibeEn067YGUY\n",
       "Zew/9h30huwBic2086VkG0kSidq6cuddhXCsEFCCUzKYV35kJxd9y3uVc+svKHiibdb3MJ46ndEl\n",
       "o+tb01CjKkv3IsclOBQj8+y5JBmTFTxfTJWwiE3pka3FHkGLCOsQhcBcrmHKizaQ0Uepf2GLVJKN\n",
       "wL0YeSFVJxbeEN+BSNxqc1fp/+zfRdKYT0mRpw6Ta7uJEbhMm4G+FcBYau5665ir1k4kE5GAhYyl\n",
       "l59O2zxVpAfvTnyAXG7yTSbVmpdhpev+pZSBKTz/+OBAEg9IiIacbZ3zbPBm1JR/4yjURbVhla5s\n",
       "+D7H1OvAOx9w9qlqR2nRj7PkxkHX3CjL5oJQA4goboXThu8zOmEuJ6nICmeH0V0IPsU4Zp5IW5Mf\n",
       "bDeoTfu3slX5llWm7DT9YZEE7HpqNNisun+06iaTtKLPXjMWEkym//wVHZ4PNsxoBPz9ZKCishkn\n",
       "asd63ggAdU+xMOaPqMCLGYDJ91DiPnu5OsyNtTG3kzocB8VQYxiLXCuA++5XEey3Bx9aQKzW0jtV\n",
       "W15IaOsvyEPCas0CEq0M12p1PiFcApItmNA9KDuzFf5AII7qIXMRnPvbmeynw5J3klLKKhdwrYA2\n",
       "OgcYjygxzB5AXEMi8hGhHljfxTO0frQkLjqqmWcHk8hzx6xlwSOQbWJ+1SVtkdbrIf6G94tgpqbN\n",
       "mq9UfQzsgJWyPCNhmioByRT96M32gTtX2w+w1C5Ul4Gg1ARyLCLW6v9vQKp7aqthcgJQ4ZRYPqDl\n",
       "Il8slUjtF2xUKJIBnrUjW8mP7UeywG+OwqWfX0uM4DaMHPCs3eHkyJhz/WWjNB3vJ7w1WdyLM7yE\n",
       "0XTefuGjRVYF2+2SEb7SbfKTW/MWRAJ/HRMmZumObSTmV2qf5pHKmTsBJ2T1F7pLtPr5KNPrJgcn\n",
       "rchqzfV8+SNzdwMrOe9JuIjH7J6NzqzhwLy487Gtc+SZOwQ+UK/phW+ZWZiRbxF/JfSvGFium9xV\n",
       "ovzbo9o2URuS2oAN36Ui/u9jEgVw54pAHRCExtWqiU8sLPLseM5TCGlwVYwE1FuamSxftdiRGp0r\n",
       "ukNV/fHZ7vdL7EuHy42J5RbK/ynH/6qpZ26FF9pGwFTvaG6cTFT32kIwSABkkV8WQH7o1wLgZ+65\n",
       "oTyeiaY2mfaFrAAAA0QBnsB0Qr8BLnhAgBNJi8xbbUStMyUV3XSokJmzUsd/+/8Fe41jJvQlO4qD\n",
       "33J0FE2mCAk1F5yQIKwEL9BunECz/ZVdLKcZEoXh67A+R+qbtbAXLPOcAnz9/Z1bxsvFc0bjPo7+\n",
       "FbPAr6dlWdPifXtj1wzufqsls3rGxuB0b/yoxk0gIdAjLWGwnF/wseU/lFiF3IsYhR6Z+46u/YNA\n",
       "tgjsFdz4iVMZKiLfZGBiu6WyX2hyX1WLZ5ltzDPMxdk1up7AcJBaFvbqmSm+R+F9hfCS8dkH1BHq\n",
       "2LbGCNFHRY1U7OaMu0xUGJF8dfrm7qZ+WkQ5KxzrIxfkG3a8PtXeJ6W/u3OJJJiqyUewgiTguawE\n",
       "fcYw+ZLlXJBX5NIrnm8ALqKmmJ9Cj4BcFgYvo7vs04W6pVZ01tiCesvshkpxWnBzujdxF6QjVuTU\n",
       "+HuoBcEutC0G0Ii2wnD6olc/IO9fAO+mwSxYmC1FzSOrmCQBOerI8lHV9/NNFx3jiaC8pAtQhUa+\n",
       "OGSuNerOsrNNpYK/6Ug9Q0IznarrCwjOzl4n//HAZ6nNhWw+x6C57YnucwMPNxPJomFGZEuhC+GG\n",
       "BmfEXVSK4WBKjBoYxAEA4FsYmf294KGyeJJWQPztjdRQ8o/YX1IkoqaGkS7f9y1DxZqI+Eo0M6QA\n",
       "pQBaCD5QLXZBUTBAfbMWFQixonxa2PdQ47UdQ6NZnTnDBm/emHksabkyQK8QliF518KwXMNUjCdE\n",
       "yEC8PeMgaVYFKTbEjrY0W6SXerx55EfH6CrlTaaYkI9yrAuH0o6YFbiOAWwx9tzbOw9H00krXt3u\n",
       "mm8y66C6cV/Y1a9CmwpzfSA0g/xPo6k/yNouwvB9ZI812EDWLgtS4DMbxKEP+WfkgFmqSX+PTug0\n",
       "ELT2NdlF4ilLLURQfUaRxj6jH9fTuXYucIIQxIp2/hnAdOW/aEqUeWwJksdtijKXnuXU+uptTIMu\n",
       "BcBmM6lcg1Bm02FT2KVTfi/vOySZ9PICgLSXDvWD6SzhpX8Ouf9wC8FbhMIqc40d0oljkIxTuz/i\n",
       "iKEu5pn76QKyQqmUxKANIoX2460LJZ7nYyhkfgmxxDkrAOHAHtmEtY8MmE9VzHl5IpUdMQAAA5EB\n",
       "nsJqQr8AsQirQ/kY6DQArHlVHYejl986bZJ/L+xwZLt4OLnc2xALImjMCpoHJ8lwU1lS5mEKVYig\n",
       "RJXFZdJq11et2pXOODUe2QwTwgjf1O2ZZa04UCPy7wNLPn3thSLnGRaW8Vkxo91Gzcdybzv0tjXq\n",
       "udMC0CTFcdKQaO4RQEjAnwe7PxtOdKtGVnhWR8cm+0ySn4gCuAkmhd5dZWSIcdn/EmjnopAeZTpc\n",
       "oor/bGutNwIcVBzKWe0WwxniztK4Lgfnb3BF/UH1uPsrwTJiTf8Am2mMQf4b+fBPFKvG4Ihas0fj\n",
       "USwGCTiCjAKSgrF8zeQ0yLBp8Id2ev7Q5Wuqflwll2OkejxYC3qkKh9LPgSJv+QyugEKhszsBUqo\n",
       "fWtlf6Ez/Z7A4ZPh8yJv8aOTNATxS5aVDHUaQITTojvDFbBtzkm0CCE/0oJyLuIUUsDwJyHyXBgI\n",
       "rLRCsU0CsIBmgEleWCZ2NGEDvGy1nLDMj4574fc/d5njs285J66U00B9D7WhrlWMwTaWQvCr8Cyj\n",
       "MnzvvNwrTZ23TdWMWJwZtA9cuwDnteiA5bAEAv1Si/YyW3tqbfpxaA6kenCS3GaO4IOJ5JrCxOMT\n",
       "aHUBpCA+T0m3zCDKLWfcBMNifcMuBn2HeMQMcgWgnEF3jDTeiyIYSzi67Xg9OfgPmpssIhbXKJPM\n",
       "0CaXmRrucQubcRrwoCmG1IByNwBNBzkdI/AXOznxd6ZZMMqNtCRkDmQbZmVFeh/7aNYeJdhgU6qQ\n",
       "PnAmKaYB0rS1RWwmZdC79jotpug19MGn/Xssa0mpHi87bHvPn4RpdOuNZ1i1RSIzpyTmb43s9ZcX\n",
       "lgEyTtXDXDxDmL2S3L62FRFVWOBT5TDvR5I6A7/5b1E+Vkr+MWlSoFwhTNgAu9lC9qoqqZiHy0Jt\n",
       "RTlJ+YCblRVFWJFY8DZ9JK7nLLe4wrykTlPcOegsQ2IV9d7j9hAQabKxp/NSYZlB90kIVsGjTUF4\n",
       "s07BMycStAfYFwbB9tuvsJRH1xO2AMEfWJRvWK6GaA448DmTitVEej1AE9Qv/8Zev5Hwql2Blqg0\n",
       "ZTio/xVa218bi80oMCXpLmhe9XxPZPoYHjgMrMr69Vx42tfRLULwLuDOrBsQbpUSo+03WAChFdr7\n",
       "ZKxJ8W9xhbJUOSvRPhMhYDRLie7pGAA9RA3qWmQeUfQpo0MuseNP5onZ3JYa5XNTkRglexPMcU3A\n",
       "AAAGMUGaxUmoQWyZTBRMN//+p4QB6/PKAAb7bG9Qv21iDLqBEGVeTqtD9DNjLR0zTQu3YrTlJVkp\n",
       "FE+bMu0MF43YTdyDiBBOA54Svf4ukLProOeX2okz4JEsRCVFWKFIk1pnCJhUpd/ewUX3XviiErip\n",
       "RA/TZGh9tZ+wAA2b8OfSMAw9zjR4WuprFuXMzbuby/37J1sqSkmeUDHaH/A5d2sKSoqRyDg5hjZn\n",
       "3WfkFHXw42YpOcLPn9083XjU+TuHu7VkeAGRt/gTyZDLvvmw7c964Avd/qBElaztSVNw8jOT9uD4\n",
       "S6zP7/25jRMISa8DQADtKQw9ZgE2GfvU3ANfgJcXK7GmWbZA28/G4OlV1WQ7LnyIw6JtsB9lmoK8\n",
       "/a//qYQqVbyIPSMWhuE9r0ievloac1JHwkTVLRqGJ3vN9YJCmTjkAOYmcnZkSpbToCcOcgNQoyyh\n",
       "nHUPQGY+Jfi1v2fmY02QGrtHHjjHdxnfwdBABIRVM//j7zsxD/MXQ1syJf9tNeKwbMpmj66BW/lq\n",
       "n0oJR7nYEQ9qjdofmbDodLoXarUQrrQkM4TBIYv2MJwTI7Vs6xrb6dwesYxQXWZ6zqQMi8QqlNhK\n",
       "DiRvoCzug4BtHdk4n/Oa6oqEqKJ6bp7zTEZmn9u3PlpOBh8iLoODG8sqm12026U1CprljPc6MlJy\n",
       "quYq5m89+UZ8YmYIqJplgq0hZ0w+JNh4RFl5Cs4lh3k0ksgl6ahmkZrYb7xdD8n2zmBv7GyQS7+S\n",
       "NYGxCg93w9Ty2h8AoeL05D3cg3aSUWi9gx1gQ94qMx9L4l961P1F7E5sBcTDQdOXXWcOFrlTY0U/\n",
       "hIMR56HodZD37mP7Bn7me8Jv8K4RDP54Jg7fOo4RV5ukXlpv38FPDNP6id5iIq2/g/OhnlcyggTj\n",
       "JfTup69ucE65DzukzacJuxBDqohIPq7KS4H7IunlEqB7aRbvstbO/5ABpgwBCn7wIWR+ektjU2zL\n",
       "Zw6isY4AvjwOJlGlI7QnJgix+TgLl7MiQ1m28sSt8F9ouK37I11jTyPPqaRJ9QL48o5yDdZwXcnJ\n",
       "pmduexj/TQbXmX/qpEBXSewgIgMEoMBNf/yEZVfVUcDrKKPc5O3L5s0o3EAAiniojBshEu13fDxH\n",
       "nElmY0QMLff+y4MORULkCPimUDfYXw5C0dNB2ucC3xMIXKEHw+waS4H6nlLkLaxSav+7Y5xulmCH\n",
       "JLhP75DHYryelkGa7wJT+QbOJMdruhT2cLblOqkWcLtGIvN/BFtS6kr5UDJJM6fCtCwiKBe9Fdw/\n",
       "xoacbIzJQZ3SHGfmvuUIssdfywiwRlBlb5x113FKjR6EaPwOra7CkDeR3hILtHtUdu0L9a5uY0U9\n",
       "6rlmLBHPlzd2YyFOTwcrpCCsUjhBlKXzGMSgeN3MwaCsLW+7k5azPxiCCPlpUzHZjCVSoQgWjqvz\n",
       "kDeSYz77koue7TSQvuf1w3hCKFb7wbtcBgTPytM1ik1tu88IHF0xBceOAIhSWW6Py9nbH99raWDb\n",
       "tUAENca5blbp6FJHbrXd4vRqLYXz6s8KPZKIiMgDvCf5uVUw77beZYQoVwBi8ZLYSmSHopP4i8X2\n",
       "WZfBulc1/bf3l26TlUdZSvzFThNXTOyrL1dW+pT1W0gI/r6b0RW6VTG8U0Ewd0ZV1yPAQRQ77Y88\n",
       "mkELiglPWT6w4XkYtg8TWAwgsjqIRLdsj+lMdxgzJY6iX9IfI22dz53hT4AxoA9U8/MUTnCLLlmn\n",
       "RH1E5xZJ/W7ptTrcLXDOV0x1+A8nKi6V7totBQKUnKteDgz4hH3s6qqTry9rHoCe5wbftzddLayS\n",
       "Od8YzDhex8/xTzZgm9H9CQo6mTPJ3ZH6TV9pe2jOlBtD2Efz/8DC5oPIWrK40g//PAzpZsJXktL/\n",
       "wDiDjuQMGlqF84cSKTEHFTwXZ+v+Z0dIE+RGksAJR/XFF8HoQI8HL/hES1Z81GmXlvJrBwbrLZNP\n",
       "T1opAMZDAocu/E2et/joebPixyM/IIcBEz4k17D3YVpuFkYvx7FVAcZfj1/CQKcDQPr4UtIkWvN4\n",
       "3tLodWFVpFCrD1OmmPcN5eX6ERiwtuLIlwpmZS8u8cIF9zgUsJOI0GihcD9+yr+V1M0AAAMrAZ7k\n",
       "akK/AVlxQAPXKmojfhvVh1+mo0eCJpH54jAd+gBY78oqwbV3h7hIXWU2vXwtReQDwlarXM1qY5gk\n",
       "9Knpob/j6/nHQ8InnmvAjlpE+j2Ki7ELuXts8cgjKS7TRclKI7A5rMQFEYF8C7W5jih1coVinrWj\n",
       "2fyeAG6Dj6w4sAXT9IbLCck+AhVSkX3QbaKTEbLMAoci/rD9PKnTkdrhjSjHn4KViSeJk7ZrYaPv\n",
       "ycomOaTThnbA50ZaG0ax/k/IjakzqwsKjn1Cn0DXBS/9OMoqggm2lJ1g+m62k7N9dsC+2b2S7XS0\n",
       "Mzv2qH7xu0CT4cwVo1PpCq90evSt4/wLYWVVMNN/qow2AYf9GclywznBj0B824EX/mV9VAV7JlES\n",
       "wHCTEES5TyrW6JoW4xosRaqR80kfxPDu4lCsIIvw1AFbDmAu7N5h/J6sJaPhDrsqK7thj8yZ/G4B\n",
       "ZdL3NsWiECX6Oxud7QTpweT2RCuNezCLFksGIzNoAAAIghJMV1NEMd1CA22Lo+5x1dYGoOCinA4R\n",
       "QfEWU09NBM88tS20YM+jWxC6gvMlI3ayK3U90L+NU3BfZ4dSp0zAT+7WiKE6JFvONpBMKmkWLEPv\n",
       "hQ3/dG0aZuDqIJ+v5jQgilbVRrJmtAnusDrIGPf8mGuA+9QkSLRR74WCJTs2Nstfssjz4M7RKcxv\n",
       "+Fej8hc1stqAM2wJE6PdKWn/LNBrKZK1+qpb2G7IOaONnxTnzLQkz6dMwb+dJi8Mq58kXlTkruur\n",
       "goAxPTUm7Go9FXO+xXy3qEaZRTMn8IutH6j2GLVpafKs5Ww4+2AdsLIT2i9buPN+cnEb2heS33oR\n",
       "H4Q+tYiTXYmWlRr7jmQ6eOcawYEREyEbvv62a0d5yDRSmlZd2VVpU6IzOV8XW+sRL5BRtuLRy2yG\n",
       "h5PH7XqiiAi4fCHZPW0QtSkiVMZKQ+5V4bB2HmnzaFjmNfR0EcFku5fkMHiBN5UCtDYfo9qYhvrc\n",
       "J63djDSmPKdarqfKggHbaq/UjUVQ1oR2LGrL2Sv0AoFbdNn8CzHSbRpA7xb62hd/JanDTjdFZ0JQ\n",
       "BIgd/xWWoezbsQAABYFBmuZJ4QpSZTAhv/6nhAHsZXzwhRkE2B6TvgBa96nsrjv0Ygg55QHQp4xO\n",
       "FIl+xDkMDDmPAKv76CsqRACgJtXVd3JwvWiqeTSoJd+M17+WY3Zo0CaOr6a1T1qkeNdTI4lcWi7C\n",
       "hHOEGKCGxusv/vlQj0eTqTHxp4gDV+kso0E/m5/XlQACyPNB8WRla4x1D/bxYeF2D819Ie9F6/o7\n",
       "mYQ0dtkkDAAAcwX3+bFr6Aokx9aZiw13pdUkHYkWwzLYwubJ43Zk4JJfv7ZJrFMNYMH0CZ2YXywe\n",
       "kEqKJaoUcBUJnYar+I6VqYdUajcQyuc+865R9jkXKTjnQeUykzXJ3bhqJnf/heGHuJ6M6oCi9tAc\n",
       "KE2OlmfSFGbMZpHOndtQelawMMk4IneGGvHmRE9eGcllKZcboinxcVZPHWHQoof2JiPULTpEPNRL\n",
       "izTFs+gOibdyXiMOOFxw+zutjxDZ8AqJvJ0kTMkP8Bj02bWuSUZEkcxpAB28nZ4+/O17vbKFlTJi\n",
       "SE67UPHfDq9R1Np6VMaCuRVtTWQTmhFSWxoNCSCs4cLR3mZ0D+GbjPkGCAUdzv4wfU6ii8vjWpva\n",
       "PDg8RRXC6fjC9sezKNSe3DsJ25TkUnfbV4Vy8EgJnQeIZfoTZuXGQrjTT98+vGOSxOEKJmxG/21r\n",
       "6lbJl0c8Q79ABUlwOullW9qAOn86YmfLAE1qWqoUGc0jE6oMGXufHRAFHxPs6myzSbfHGayvyBPJ\n",
       "2bWc1rCTHytr3vmkqJkW4MwOzqL9p2H7ovUbzp53vSGcff2Ep7+6KMTR3QfG1JnoeWDpXVsd7kO5\n",
       "ngZTaR9mGaBwhPrap7mKl9QHfB/QqwQaDfz7zV+HS8aSibGC2jFjbXaZm09DMdAIEuEjXcheyHi9\n",
       "uNZeApvlg1wuG1XigzcPT7GsAB8YIPBYJUVFfTMUG5qIJLpY8L+BsF8rEBUlGPhz0SE1nR9RHfRi\n",
       "ayndgKMHe+a72HFiFzlt9NNEcGNXew5ZBgCOiJnB+LZD9lDCd1Dl9zJVme1MaiDGvIE2bv8hGuLO\n",
       "z6SUiFFDOTHRri3nhEHEgbbc1vnKBAypoH1HmLRb9y0Vm9VXdVxjjqNkMWzrnaGFSESbcIoxLq4w\n",
       "PWzzQjq5PUlLH8mcQAbnx3+t+786bt1CL5ZVh4aCo6GWtwWzRJrafADrMpfvs3u9/kJ55hnLPdmu\n",
       "5tDH6NrcZBRZb8h8cZpJ5/7qO8wybdKYbL9vmUbtwz1A/eDyRiUQsNfhdl5V4pg5OK34vp1E6PqR\n",
       "G6aOPWw4htoeCh7xWS9HsZnnXe7LDrJTGtiOIYoq4lO2gX01GKEj0/sCOYk7O5FXxHoEP7lOlrbL\n",
       "wjUo2Hi3lv9vvLI9lqBn20YBicMPv2oX16Ow+3xkAR57L/26AJJaxL5n1iGndqhfdljgf+3MgoQz\n",
       "zNuVDXah8xka5hX4rr8e5eure9FkKiYEkLGnNEkQfJM33kdrb280FJzXHk2oFD3Z3cdo9jnu631s\n",
       "gamTv7nuY/NOZrXvf1o/dWOV0d/h9wEeEWGydiMG6uUSfQKxsc/1mPaHuZXs5xRUWU3KW5rhRcKX\n",
       "s96x2Dib+L/d1DQHaZMYbCn39tXFjlkm54fAuGIBBuLNBgP6ohAty/05azGYXOwFKEvwi9nM5T4z\n",
       "ZLZ7SRLf5TgAdUeVcPcBVZROtN0l0jtvPS4t7UHob9/JBQxKK+9MU2eCwI/Ryfk/bF/G4zv3khaX\n",
       "p8eUFJ/Ss5qr2XCbMofoSI+tFOoiexypQmfUvkS+Y0lh+KxH1s2ZOkr5UCr7Ge7jTXo1/lc5CnX6\n",
       "qexwuetitSFlTeIiWmv/8xs45bLzfAEuIHOu+atI5kPgJAoU6a6AHB71U0Ooid5u9z0uMZouIQAA\n",
       "CudBmwpJ4Q6JlMCGf/6eEAcGsAJ4/bf/YHdjAB+6xToieCbnh3rbay3QS1IttLLcQN5NEpieF4fO\n",
       "VkMlQskNfkzyI9P7wKLjBW880Bzu30zMXaxEyT5STX+lfTKATlI+1wbcusRxiyqABA8oqSejgZRd\n",
       "Ot9fXW3GmQCRUNs5B5TfiNX3nT4l+FKVmpTPAwTjrMO3Mhu9tAr756AOb73xpCcVtn5G8lmCxONP\n",
       "y4GnKOXw4KZS1gv/b6bzNLDACu6buwhIjckDrx9py3sa4Hwrt5b+V7ClNDgFoBilR1Yh1vl7Mmzz\n",
       "1s2uQwNM9om4iXxLw2Z1csZCqBsXHzHsu/l/YcC/yoDnjIytcOqqqB1kPbBiqekKBi57VG3vZjWL\n",
       "YnJH+bEkQeDLwAt38j4x7XR2SMhk1D7rV3PHVoLM0fpMbC2zjRKUC13HL9zkBnH1NU7/JW1drr+b\n",
       "e3A3XIAu5zmzrO5CoKcHd21alwe8yd3Q0cmZDaXxr9h+b968kUlGdvMncbtp5RSc1G7XrDAwpsjM\n",
       "SnWmTBPHqsRDJJq1ERepFA65Igg8bDWU+EsHG7Xobt0vOLJ8uYcD5+rOsiSORHuS6P2917QaEvPw\n",
       "U4NlqKnwy775I6FQaVaHKgC1148SoXcR2c2q4GNii9yJZKvKEp+xfThn8bjMfAwBs434SnhJC6df\n",
       "06h4SRy13DQwqBf/Ixh///9Fq2dfUwU574mD5bAhXABqzkD9wyJW8Hf/V5rIunPQiRH8PTXst4z2\n",
       "1uASfXFFqj2yuJ7a0FEHrVr6g09pTAdjczn8MyaQIzKSyaWVzspo+uu+JLfyosMgc6doMX9B9N3O\n",
       "xK8hQHOxTKYfNSEA1lpfdAiOXPIS3c0gIqeCS9qaEI6tV9B1/3Y97r2P5vQzKAAa7KZR1UAIB3Mr\n",
       "SzMckRbdmsSSxaKruBUTsm4th+YxjOuxPwuEuTcINB3tIV3dpmryBD523xQqc0+gAjid397wzTTO\n",
       "fa4axF/cmpinKLyl9ribJl+iraW39xHGieY5sq3D+c9/xOyLOnY+v/bOsvlZxVXIwAQwH20U+a01\n",
       "60Fb8guYBnTQymetJyLYy4794TcfvjJyttOMAbY7Z4B9VE44R1z/6WK3lpI9BxZoKPVKfhqe9o85\n",
       "4Jp4644TCPiMGfru29Li0NZwWf32xQuaFDP32YbGxDA29VbwMUlp385sRNl6Wjb/tELq3s0Y6yaN\n",
       "CRd9Zr4XgHLRFMZ3qp6Ys0EjRFYDH7Da20OL4v8OoaMpYW27ueCPpv+eJueCPxuKD86E23I+Tgih\n",
       "sOOMdo3sTu+Rwk6mXTmYrjZuhXasc8I8gGnbivaMwS7eg/7S7xlLqANffQSvwO0IJrAHmsd2l0gM\n",
       "KDpKgN2IwKn1wkkvZF3LVJvw60btZOdo1oK1vgC0ubp4xeESsfhCToouQhHYeJVYwKtgiCgTC8vc\n",
       "aIRZGPk83JOtOvvCqmR9rl7K6QIj3m5C04FiMZbOCxMqTidiRzL6ztNhveT5WCe3zmT1Tlnc5r9P\n",
       "ROv7Za5iE0LGguSIxiVpchQ62ErI2V1M4FpytYNffWBYFASnOz4q4hl7yVkcv9L79uBR2CtiSUZp\n",
       "KZayfiXBxrV+QGq3nqb8qoQLEVR+SFyDIj0GlhHeV1bK5O0KVMR+7gdmWsFeAz7ON9QJdgSPerg4\n",
       "jdw7YSIVEIAxBZuvQeP5b8RWBn2cZLxBt3eZTU4AxN+pCruMFhmisH9b0/0rlUhRBforDcLzM074\n",
       "Jl7yP9x6JxFBmQHJGHves/sk13CVzM9Za76VRvW2A58kfEwc7OYtOcLIRiiN8bwzLYXMa6TCmi+0\n",
       "dLzGHEijLIt6r+jG5Vc67PCNo3vLCwvduUFSk8pzSuHuU0yk8Ib9a2ZdLMjWnISWkRO7eawf2KA+\n",
       "+Cx8dt7GildCIrgzVRnRTBo2vBhfxDOo1F02TTJD6Wb1GD5OouIpDybFwWU51wW1mpgUoqAF3FEp\n",
       "x6hO0JFjePBI09UILbhq8dwVnt5WDhlTa9wvlNAbekvzG7HBmPceLkWc8Fuecnp6b6GCkSUL/oBm\n",
       "boczEnILlB+ZNkGea8g3uxbKf5Vdgd3nUqmjswe6ppxPR/jayQftLIhtrKGZh/CXaY+4oVBT/4iy\n",
       "r1if8hvP8UDQLmcQJ54VCS1vqCFA/SvZO8JBL+B8JTEZY/y9SZuHZkZb2dRrpKeVJZPsFfUXpHo6\n",
       "Dfzq7NHrs06h0ZkaEwNArUVn9pIGIsyJNrgWcrZBOYFYvJ/wEn2nTvm/P4GZTsVpEutmMJP6nHJL\n",
       "tNkef3SDI52YwBEBnfoJcJ0kNS3CgUF5ee4hnsGLpY93FVaMVcBfreW+ym8TnyPnqGIyNRgmb/8G\n",
       "dy6lEtOnBMvnlufytu759Xo2+xdAteoDiutn1Z24d9R8E2VIOkzuOoAPRmVdvTf66w/2UFieDA0L\n",
       "KkHELQVMpYdfvVrbimHH+QjvufXB/j5FpcETVEF13tWwAgeJSkhhzJFix6jTV+EuEPQa7faRDO5m\n",
       "/xDv3WAyBtlMBvc9mR1kf2IoU3iH1dgR8BQdywxRb+HyM1FfgDFTy9Wv2s8/ITR1VsUnxYUi8NdD\n",
       "bed++f6YXxP+QxmuwrfaQHXHZkQjneQNozx/QN5vEByMATwtAX7Qj44JGmucq74zklmziy0GsBcS\n",
       "xO7nfQmRCTe1DTPndFfw5fSmPdzG/rMscadlEoQm6Wt/5zekBHTaupIE0XJbADiIH396tEN1FofZ\n",
       "r1RiWwT5TwepRtxXg6dnDYIoJye+X+12ustEcO5CHJMo56+eAN6ssN/Az35Eauvl+x41mOIldtqF\n",
       "b9pZm6RFByJOfnnJYFDhc31YonA5U/fmnJXHN4bqTSaKCuoRB2Zyczd9vgQwhJL9T4DbNu/Fn5VA\n",
       "l7WP83/GphPT6BTTe/UFE4GVS3J1Kv2GeKQSsHQ6ljIrWbrNUY8iyup2NZXuvMqozDJ6VILeME/y\n",
       "fsbJ0AWNiYV9WmGc7/cKGY4RR2IFrNjudPcEDrpSOZeKyS0ZC2f63bo3pUS+hTOYGyKT3B06ZTi1\n",
       "t/l6IDvMKaZnVtHTEqhayb6iZ2KpEN6hNUL9ut9nxMr8fANY2KcAz2m2PynRdjY+nz/L0la+k82v\n",
       "YQ9XYItJHFBaHqA5UMf6Xjt7YUwskwvcGdS0cQiSsjpzle4WnEmYsJIKcFd07X+E08hcLv0dMctg\n",
       "VqFDMHtfQJof80S5eMsCQXT5eHk2gu2xZTdYxvPYjY4mU9wZoxUF26e/9p4uU+XaNRrAfihh+24i\n",
       "WX/sGrC23HLLo+AWYTFS9ZWxLD9jCFZQpYXFZyBtS7KWa/h+grWlvqSQYq3AoGeOcoJLb6zM9m/+\n",
       "HiHH9nMBbNaj4NqvjKSpxugtl9RgFqWSJ335UMx2VT7MUos6JuVQf9RbauqKhh+rzy5gAkFDLLGe\n",
       "IimQ11zrtvp9DLKVkK1C/iYwnVAFfKhpPbRnJ8KEBqXTm2MDByo1jCWbhUd9xZL68oxiDDIYJfP0\n",
       "ndtv7tfQonli7+ZUnRDhSqBvFjVLB/Sii9eTY184aK2Q9rVDtGygKg3BH3Naa6/8VLAko7LnJzmK\n",
       "r4Akprl7kAl5r6AgLWuPb0hqncEeuACGdjNZQ9ZLhuyEg4lJJvT53xVuYSiJaWedInvMZfZ5QIgS\n",
       "1ilyQvLpgy6aTRjXyx7gJz0EeB9v2nlgGVzbqV8i7IyhBbPqp2wuq9FDGqm3wnhw4WWnniplxSi5\n",
       "AAAEzUGfKEURPC//APf72C2HWUEs3Fc8WJR9BlYXiAIYqRXXCgJ8bWO9KcLHPiTaNqZljh4kW3DZ\n",
       "g/m3NUg6ARfTfe9EJwcLpM3O+bcng9DfWNnCc2VD5Ak93hdM7G65aBqNYtztSk8qXCNeWlWMbXNM\n",
       "Eo7b1t7SFhMLm3+8YuSq+OXSCJmECrzpNLZv9xDYML1eZIXbeFwKVKvvOCp/KXwYoYwJEQsgryPH\n",
       "v37iQJosRRw0Ah1dTxNS8C3Mn/Wx9e+wrz7a95TsoUvWKBrRr6wTAojiOBst8nHO7421IafIzzqc\n",
       "qezQkahMlSdw7seF9dTD5DjnetU8QYJEH3epFi1okXJaXI7EQfATel5rGa0Xs5u5OQwhWxkxXBLw\n",
       "1M2r8ooZ8JAubvFwQjafaBZ0kOTfjmB9Y+xpv98EeccfNU3pV0U9laL913act23oKR2OCw2eAA4R\n",
       "CRTfVVxu+Yw9MLYDeRuIaRKrzmHvrF+bieiqegy1OmnFolVHfrpuLIyTIz8zmmcjYChClmXSczQ6\n",
       "77Mb3Tzz8y6XmXjzOrOlLRAMhDojOhd60iaSPJ/CbBQFYP5+BFW6MyiGdv2M3oyrpQZlzamzEmI3\n",
       "BOTRuOBgGzsgXgNy5L/32qtIXWrGZHG1ILgQq7RQVqE/WFchARGXrtpzN5k7f2eM7pRMSQjBGJ1F\n",
       "N9FS8XR73mysHlHuJkAvULMlSX2PNFBr3bUsOEQ6On4b3cacfbXGcguoElDjShirADqSCQ4rul+M\n",
       "EZcGQ9UaflsOuRWEwhhKK8hVdtkebXxNYsPEaMXQaLbEPdmlLdSBtoqakRaF3y95i1USEiW3ltx8\n",
       "L1EpXKnY+iWp9PFR8I1wM9YiO/wgkBwPT4Eh0uK+rotiuBNi4qdHZ9NF8Z0EToZDFUrI4xqDnwzj\n",
       "wSLOtpyoelolhDGzJ8ytf/jUYiU1HLWp7EfWgvxX9aUG6L6eOxSnNyuYKTodC02bA/cjZpyX/Dx8\n",
       "suHxBc1IlIQKR5gAC140+xE1jYk8T7/dTYl4dfC4/1imCjK6LujleSC4c7GgK0GV7p8jeZnNLjmh\n",
       "ANoqQNYt87rRZXIxGR3urBWeX0AIqIRhjUjK33phRDny7RRGHAQ9En1dkvwspeWVRrFgpNFAsgvx\n",
       "JPbPLBeAsUoO5EAQhFfS+aw5MI81+nR2s4oJtsngHXnf9FtJxpJK7eHTiy6Z0sxG2knyi5/P8r17\n",
       "142VE9cvBeDbEizm7Xb6rHYznWVsVUYWaeOqHMqdLHE3ercFFrWoGGE+hvG9N4h6NFGVJCD+IEsm\n",
       "XeTeC610IcdmCkclmN1SWkBrzDMIOi4gj2Tinfgg6gpQApQ91VSjuZZzAQT4jL9pLekn88eoFenH\n",
       "dkMTDovhisMA9RyILE9knQ61H6s+HCVQubVAlysgXjN1jlpdeR90brcJT8C1LypLxHvE0SVORO/R\n",
       "QMtZGni3dDOZPtKcwHvikfUMhbIpYdE15Vcikvt5Anr3w5SoQ7mZFryCDPa13v9kaSGpTMzSNYNN\n",
       "++I5scIFVsob16JdQBwJJVpIauC/0+kDi4jVfAcF+V/FkNLFLbzZi6dkP6IWP9WiWyun3EeYwcMg\n",
       "D5vyu8tFCuWDy9FVNl7VKKVhRTaHyDyfd4foUfRYxKhhEsiYAAADLwGfR3RCvwFaS2O9+LFgJbgK\n",
       "smvbarABxNega80e2duwHYpGAsVS+D//REhUvGedmpw+RzZUGmE3Y/Tw832J7YPO1WRkBZetkwAg\n",
       "Doi06VW1HkjBuhDt9jiFS7/77pxNG1HOkBAR+oLdYMnbzqZ9H2iW1+Uz7Nv5AKdt21r+YSpfPjQD\n",
       "iGCkuMIqRTi04DtefcZUD8Y9iKf8r0Y6kZx/8CHVg/lQxPIlFUca+rsz3k6/QZHCndcYY4Bveo/G\n",
       "phwO/JxuVxpXfp/oGRcbq1xKVuGaMhX/WzKAt7MCXZOXnB4kmwskPJEVph077UwyV9p//FqYMdHA\n",
       "kml/S5pZwCy1zO+XbpEVbcMdMNk9vG0GdELe4EgYQeJLOTUo/3OTn8fBhiZMCkdWnb8DZk0kgofJ\n",
       "6i4drmCJamX4GjFCYLaxz1zE80HVkLNORqitunq+YRLxrsX9JdP/2nDFp/dRMBbC99gLCyAAbATT\n",
       "lE7kvayFCqaaR7iiiMKdkvcNf2ZPC+9nstz5zRll/mHK4e8vCmAyms1JvwGhGrUtD2YYdMMdsz49\n",
       "RDS5VejtWBs03ONxYcLHncRYMyxUWjVvuz6Dp55KdBzthMaIThNx0uFRJXQ3O4oRxpiL7g2oLItR\n",
       "ycjrqN/OpZ4wAc9nczdV6wE+BKQ1uFqNczyLTsRcnhNPq4T4Z2weqoPW8rBY+BWsLUYuIB1YH/RB\n",
       "KBTNGi6ruVpuZvWk6s72H+REUuITjfzTztrkKvVjnkVzExTkULjb2f+Ko1/fXQ1BcBTpNlaw9tQa\n",
       "Jlvvhcy2RswsL80QW+0yBQ+l09KY6ciPS5Wzk00NesJH4dU5ojK0qWxZNIZ0E6/2IjgL2HyfVXa4\n",
       "XSkF0BH7JbuF/V0hpAuEq4ish7GMHwCsFj9278gSyYPiNqgMqCmGa3HOuJPbuxMDJf7oRhoRQF9g\n",
       "hs/oFR5wpE6eJ2ZO0koajGC04PovE/ONlj4I8M2UuxRHfFZR3ieCKj8PdLKRFo0eHYNzK2Ne13Iy\n",
       "5kkHecmLYXokwvD3c1IFIlQn4GxF8VyoaKmP1o5Uei8lLf+1C1U0PWSswfCeNnKzprYKKazTrXAo\n",
       "AAADVgGfSWpCvwEu13Kj4MUIdItKNIdyAIWy+gI54hGp/8gpeiJ7+ENLU6X5HI6dTSj2ShJkqrTj\n",
       "K86cjYmeqpCetLy10sEGJtaRlCBc61ZonyiwBQLlqyCutCgzZX6Mkc5d2ot9x9osu2c/JpFDzDOu\n",
       "2nG9aAqJqjB9y88wS5M1QdiS3i/12poEgG065OixLC28O4/raAK2Y/s/4Isne0CQNpotIzmXz7jS\n",
       "3BpabrNQaguZ5umH9HNNW6pSG9/Bc4R8My4GYW7G4C5vwV2dyfKzBH5iuxwtIVoYjFs2SS849ua/\n",
       "CT26ROK+lbtcq6ZftNbFkzqCduG1aaMOttV+XMLbsQU4zvJTl/n4h4Sz2nAcexfGiNqmP5CGNG1M\n",
       "rEiA1E4TuDjE/2VqHb/5NZU9uvpfcclPFEPo8XfCt2g+1aUpCA3Iu/I14vA42iQk7eNv49IHLb+U\n",
       "ARFKjhCL2haIUCaq7EvqAS2qTlwlGQ2SUxiLuxIfTnqd8gbTd9OVKJNGfTZKQOmHaIbIEMjzmtpe\n",
       "7AFTUdDG5GmkqHLdHtcVRqrHOx5FdTa9+xu/1+igIf5cZ84rypBeUya8eZqkt1TV5DLAgjD+mcp4\n",
       "8N6PGpTX9RUTlJFgytABKr5yun1xF0vOeux/xbjIP5mQtUGd/vCb/4vDjywFFo0hlkCOmXasp3vS\n",
       "Xj3zp5qWxD41/q7NG0SlQkM0oe7OGohzqEkczv0NeS3NOxVFBmPMQkj6SDEqYWgIoHqYdEKTQj2c\n",
       "nOFRXI9Bzp7oTApNQfzX6Q9/NjGFCxYODPD7SVv/3wCwsUj/vgZcEYoJHqAE4V2NT30C+NV86xE4\n",
       "SSWouPzvq6WYc+Q4SUqhRZPAN9UmDTWBghPUhYYE+YTqs+zWV2JPpKlTnzCCe0CggCuv3+zjaZnd\n",
       "IgrM5hbRevLxctCOi1wVRezbtxptP306xSuBt5YSXoLcqnw89Zdh7X+rVhz3TvtscUAtZHN/+/JM\n",
       "ac9XEL9AwuO2NTEG0guikWn9QfzRzMPZZC9WFKufZ+/7GTQcZMU7rJkXStudCBF8YYOe0o+aCgnW\n",
       "tXjo69zBquHx/CUwG4nEwyVLFLE2wNOS+6AG8cAeQl1xIuSh2/VsHDGbsPJuyIFBTTARBqUlS8kH\n",
       "tVExAAAEekGbS0moQWiZTAhn//6eEAYIaqy0JoUPUV0921sqzWTLBpDcLwtCaIAQIdN3iBh63Nlk\n",
       "OWxMqjwULi/hU49dvM3kyrVHBe5SwYXhvp5FNTrY792v3+UsVlkZclq6J3SgNEI/IavOaY1ONAN7\n",
       "9eWKpkjCC/SSgd/3ny3IG+s323shwJeHQkb0oOBrCZ7zf5FL5xI56lGK9wuSirLXD6nyjDijQ0Oq\n",
       "+GHcon9285PuiEqE5thrdOiGOBq3PyVH+puDNz20LNERtf0Rw8v3eZlQEaWcjLa/WRv43jnf79+v\n",
       "330MxX9Rf6mx5rZ+NFnYDW64WKfF9PChmjoLcXEFcZB3JwT7m4fUVKCAYlF8SpDM24R+oBJHkwPK\n",
       "NUmjOmqXRVHg9WBYwPPh4dFBoASkKo9HeAArzDAqMZFeyYqob8Q4Z/Vf9W6tonYAROIWJMkr9tSc\n",
       "s/SitK+BXm9+HNV1NQUOK5vVRxFDnnP9oTExDyN/WA0O4czuqA7qq21RHEAIKQbcr9EHdh3Xj3Yo\n",
       "Yw3VEPyv/TJD5WCIRSmSLSS7jl5Njlbvz6S01oKLmNe86BN5Xqotpv1vibZGC08/00dtTXUIffsC\n",
       "Mw/96G4qjgSzIAyrl/Mvyr4/EdpEGzM/BY4NasRTioiz3ORd+DFDzcsy5UwsjLLmL/vScRnhSH4c\n",
       "DnZ4S3x6xpOjGL+u8GvGI6Ov7vvGTzLX5BiwzdGP/yzamyD0dojKMHslZ1QIVnRlIuivUvQH/ZZW\n",
       "sNhMfTtsURUHU2k7Ggp4ENYbE6Qp1iCmtSn04EJp4lfoujo12rQUBMCR4m5lSxRnRVUX8+CHYmWF\n",
       "N7iEXJAucsxdoydtllRnecAytirMmFi6ZjLUb0Gm769Pmxd45n19lyOflENPvZX2NCk+wCxUhuXW\n",
       "jPvhj5iCM4Y3xS4Czl3l9Pec9XomvuqQEpgC4uMDN0CGzom5jMeqqHVNhFFUVjkM0D8nFy3uGJx3\n",
       "UXFiYHNuAF+f4wBHndbYToct5YEFIYZN8Ajv11wQ1Vk/X6lWmOAQaiDxHCbR0QTifuwozB6wSC3b\n",
       "/CtYPVk5hoaLt5opLwE1GDuM69lEseYtYcnEiG0KeYRitOI3Ox0Vpw9RdBaFNO9IeFzKUjd+pzNa\n",
       "uDPOOIKZDY/wdGb4Xpzkw+xNij80JGWpX5pnjeKT1t6nrHjAxMiWqFaPYaoHngI/zEI5IM3qF/V0\n",
       "SvIFSt9SkiTzzBYxcXs392BnaFxtNcSLSW6FF0VEi1KpHQPINFGuKfbjuOL3jQ769mA1Ob9y/lR7\n",
       "mDDS+KynAuyFxMs+GeuB3emDWGJlSeRy4qQojD3+5FgNIjHmRxwCSjdl3QvvpNGqLaA8TRT8FtPp\n",
       "MHtdxaaPDtoLpPAMt88hdO3e0ICouwUWleJzCOCzwUzfyWeDPgpf5B+rIrTYbXCz3kS0gE2O4Ui5\n",
       "WuCkTI2cSs67HS/WvL9gT+Zq4A+qp69zWZcOrBFdk2foXM1dLyKKWaIUTTc+82N/NIhql1DjYIAE\n",
       "CSPaVQChnFe6RHdfwAAABw9Bm21J4QpSZTBREsM//p4QBf4+2iyeAyp3TUcwow/WwALhsbamgT/I\n",
       "HFcSm3ZfnbBswGEX0MNlFebzFS9n06mq8HTPEsnHP81nTUlao0pGD29m2YfSfGYMNL1hNVyjeEQa\n",
       "yLPcmhF+cAvbfQyCjBPBpxXJ4R0DdkU2hNYfeuF4QDIj70o7U8prr5z28po41wj0L3i/DNvufpb3\n",
       "qjvQotOyg8GAnzfu+AB/Z2y1sie5NysaqutbN6EjOqGO7MhiZhUPVV5qNFcac5f2KKgnhipTslet\n",
       "NjMMENnhd1WWPX4tDg0Nf4a/uCvExlt3OrAR9Lrt069xsbMWyOD+b0Dcb0/LrZ5/9VxmQKgYJnDH\n",
       "I8n6DeKb/N8mumW7YgBr3XpHH1UtJk8RjDJHB2A92EoqcMfaMXuTydTX22C1Ot2SDQCFNeAbS/B1\n",
       "1djdRtiAGLe3QZkovbzdbJdakGEHCYnZVJczFlz4BKxJvFptHJfaWGiGplifzWJpjSoAryBaYi2H\n",
       "e+Ot1kLfz4QoHjc9/34YyLPqKdqbYF359Agl7ESLmYFve6NId2Yg3v+pRsamKDIUrRrrAZY3RCMr\n",
       "KpkZ9urJ7T8kzxDdFmZIG//gL0hAatSK8A0S0BwebBvu1uY5cvUuNsJJRClHa06ix1OUo3TIJ8u1\n",
       "zsvngMiVlYzmQIKuaWBJ6cCPfjGkDIBFWIWX+jmT8eaWyLHCrnR+kId1YDdUrn2WY0eTJvrS9saV\n",
       "ng3hVkobpjeox3EGmErHw/IOgzUPFseFSuj8ZFpyg/47JDG/b4kU9iVUvQbR+f9lyM/X1hcrIqG1\n",
       "orM107nvaXT5KnZf6G7kIZqxABfuWTYPzgsu3t2PIAR5Id5GqNomnD1O3zyMym74/n66IiAin2oA\n",
       "X0kVddrvrV1dX4e8uVNcGBeQcjTbaxonducddE0BsIua1y+YdZDhIX/1faeiwHQIcdDjNYBDgXeC\n",
       "NX/1NPCuTTEHuHyR44bzq9Fs8Jzgpo95c2HiJOs+bGbTIeN1r112uo5S92UVJFRESTY2puJraNh8\n",
       "VIOhEJaP21DIBWGpM9Vi+hBQqtH8WMxOLBY4J5PMbU3cOf/Mu/BGZ3i/thJWzN1/dNTHDK01oxAb\n",
       "GXgBjS/TNxALRSuovoEKqZxcWktQKOs4MTcH5kYEtA7opMEfupBg1yt0Q3Zo6pGef0csigIrFfEI\n",
       "o7WNNc3EVPWNSQKeSyGCz1ZA6StQ+XCY4oH1HCctqcKoNCeltC2H/0tGl+wjKP5HGJxpMiad7tDc\n",
       "Hrblbp+fGftVc7L0wLxQkLby9n2A62xHZ4Z3v7IKaAWoCg3DbJw4Tt5inWTYz9NIq8hKdEF5y8L5\n",
       "6ICXyLbXoxCfQSf9eIt6JWCrwRs+MGDNRlBOhF9UX2iYkx9cWslpdCYMLA1ns412mZ7yzzD8My0p\n",
       "37skhXjWLOe7S6Amp80cRsZMFYS2wz1Kh0zQ0pIINXiSRbnYe4Msjl9z+I+4xV/ji3o1rrzm387h\n",
       "XIfpgv7pi5DTt980Au2NxncNz1BpPiccJMN8+wewBrx5boAP4jT92HUUaMB732GFktxQuLZGiF+e\n",
       "4IeglGwTKNAReuGejsRy2flYEntnhvjrWdrKeJ7hKITK+b8h+AdFvBfzgT2QE22QZnkRcteRPCL/\n",
       "DQVeBiz6q3vafSHOK4s/q/NiSqpNuh9cUnUx03FNTkQW4UWeshM9i2UDMYL0wKpmTPDhlvagz8wn\n",
       "LLaVsrv5DACX2wEYo9rR0aD1tGi6USNuxGjXyuiuYz0iiuiQX7FTWcRgWSJAxPHF043MDrftYeXE\n",
       "N6mYrFmUZR8TIInJu+7U/U3KpBOWKTJ1JivuDo7bykHGB5VDAUSERhNFqTz7viX8y4DpeSXtZ7/e\n",
       "2L5rI1oix4IUA3e84jv4dx+d3xZ4Enk95aZdDahidCYvbI5SaH9Z/Zxgcx7Bg1ZxXoBLBgO45+Yt\n",
       "LGj1GwabPA8Y2TBDujgyEB+tjKb22hFxvBq5P9WNUHHIfY5r/nGK34t0FB9HI3Wv66Rskz7EIhoY\n",
       "rd2m9v8HPLPwpOzB0v18JzAcaqxHdstt00p72yaL54KlDABTKF69BxROpoLb737n40EsJhU9fR7S\n",
       "Be9arDamoAkjZUlD18qwpSMyitYxuBb7o7rQM4UfPrKf5EvWsFWoBt2YGRofn2eBufEpe+17pQFH\n",
       "IJ3+4f//ffxmup4AFfnMObqF9KOiPIbys0zUgp2JOGRlYcN9jr5Q0L/QwnhsU/RDZlbS+uyKBBTK\n",
       "mnN6Tv6k+OUgvJS7HE7QRSp+19UfEfzVQQjETp8N+QZreNkNTczDCgANql8OYN8ODStkQw/a+NGX\n",
       "mFmv7fq8WXVedkVNXy+JKAYnrWo9ueb2fQ5CI95cNwkNNyu8lVuJFdbalPAHtECd1g5SPTPuZ0+A\n",
       "AAADMQGfjGpCvwE2kC5R8/du4lolwB5/hxD6QlKwZp2OD8YMCm54wpfox69gsOLAAFx08fYOW0Mv\n",
       "N0Y/csLPCsBBvjy5PAvrxMQlEST3zncGtqaB6CobE70WXf1HsbjtXbHKHXKIRKvQpD1ZBN5TMJDp\n",
       "h4onoTbWz5CKq0745Q0lw8KEFsmDjsyrg0rUzk2nR71GAB8E8lGbwcsZ1yX+Nn7VV5V4gKAteXUj\n",
       "lVafTHJpsv9VUatMVrZ3GZAn/ZmfIqSV5DfQ8Br/QV2jNIikBPfxnyaTsicggm/cgFJWgmHFT4Yk\n",
       "Kh4dKF/qj1t3mbqPlPrblloBETiqFcA2oZlHfuoB50heKpHo6p5YAaH7/+2LtfgORhIaeXVnKmhF\n",
       "P8DwfjdcxLiPwqDmnKs/1CG2AmD5hMOgkfiqKIDUZ4qvxjZgxalx9UvQbhFlSL1VoaFtWXAgOOc7\n",
       "31SzmrHOQS//RwathW5prH49OHWA6tFZ2NkjoRhWGtFTOTekhmfsga0KNnYcLPtXwKxSEX4Y8R/M\n",
       "rMWrq/Hp4tDTtcb8p2rwPdFqyp9ZpSJFiiDQ8DrO5kUFQY6XAbT4w9GCLiW+6bDWXb1OiASlgqnz\n",
       "LfO5YzqZtk3DVRTASM890lvLNDf9r/10iVq8HXLWXdecIs8+z3RIwOjsPeTvTB32Bg9mquBeVSBC\n",
       "wlrcFSzo4p6KhVej1awUzu3UHRWR0u8s0NcvgndMZpxbQNQTF92z+gezpdq42QkAikpxoNGMV2+s\n",
       "EToiyKrq1nPgX63Sr+nmzGjR4ik2HldTgrNS6jsbEBDjM36Y1S68zwpY35IhN2SSkOYT/uqse/nj\n",
       "C77+U09N+agJfbn4GWdP9W4pUHrK+oXy2E41vQOiE27wuyf2AuXejKyC+Fpd4B4SuVDcCM7t5tp4\n",
       "Yykbfda8/PawmeU3crNqrggUhzepmoS08BsAQ5b7v4wAWJRQaZPPka0I8L19ZJQJp2/fVgTGwWF5\n",
       "ZCPzrJ1ohHtyPgz+y+PDQqdHfqzvfJ+NDEudCN5JSHTW6jys8GL7pevPR4ZEqJPT/+pm/Ki+BrLK\n",
       "jKX5l6t9zNlZJOBTkZFlWpW1nK6HE8sAAAYDQZuOSeEOiZTAhn/+nhADWu7SgA9n4RyMu3TwmHXq\n",
       "mzLARmoalMjRABjVagJdeBsGPR4PikNwqu7bgnpTkGKn7APmH/nxNEPK5b1cK/n/8PmcXCuGav+d\n",
       "IlJH3j9kZ3sbsGhvWlQhfXUj7NnrDG0P3WrQ2QUC7/ISwB0SiJjlXpXXbrUOeSAw6AdjYLGDrTeC\n",
       "Sg5wIoSrHngtNdbxhgoe6t03VVfsS8jyqiq5VinUrpSiRtB6THlz2IcKZ/dCP7LlP7tHxqv56jPd\n",
       "Vx8UzT4JRBofC3F+mg/mRSH6eicTDlySpuUyBsIsOkIB+tBuoMkTHt9+ku3TSrg5b4Q61NLEatcr\n",
       "yAyaLcRfTyiO22ylaEIRi0LAWOYq9sTn3gvkIXJN2I69qvLqYZFmqd3yZiStMXmvzBf28m2YqIbM\n",
       "UecsTcJjuL99ADuL4gTVPP8opW2+wCaUXKt07REPXITkH3kLJODBfhC+nUVosv12yX8mJfjC0ED8\n",
       "cyO++rDX/mauqYgE8iUwFxPdC7e4QkxszoUe3AqhmMfeuIsizl1YFkRTbTEz89wSKaCP4bUQyVpX\n",
       "/Ar98zq28nTLdEDury45zCurXZFfkYRZexnAfyYY1GMDWpFkxvLtrlb0EaEHwsIutr7DOEl097Gk\n",
       "VPpVc5+sdA3wSAWlEW5rgzI2Kr3vqdi4gyoNdbRVVG1h8CJdzQZcPnp9uJDw4A0op6AnNQnRWzLh\n",
       "cJH0ft4ly3rTRW2KLI/9AW6JozKxOEdxcmtUHeujh/MInKBYQoBxxK/yFXkoRhF0RESrlGmTpSl6\n",
       "WCG7va/zUSatp3mI/iJn/y39/YxjAtMr6EIpi7tzQogUtWYXYNSyfQWSAzxdDMHpCfVgnI19Zoeg\n",
       "CYfMVBGIFbcpCfFxn0tYl40/NuXvQP2CGfkMkTHS86/s7AKC+HoqCehi7vRMrzRt3Wl5cuTLgxZH\n",
       "6ScNimUjs/sd6UbrQVz6HeHXP1fSL0K1UXRkmIzFbVHQotWURFykbhWbpvlk1X7rdWvbAQLfW4c/\n",
       "xvRET8ZufsMnIz6rVlY09i37AbIvPRxsJHluTghTfxkD1SDAmizC15z2CpIi2F2v9SfpKfD4Dm1/\n",
       "0PEoefDxy7qn6vLcOq6nJrssOvm5+hHBjc6jyZhoQ8hr5RTul9Imj45X/Tm+9oIaBAAUkO/92q8d\n",
       "d3+gRqQyRYxLaOJoeLeaqTSep8XkiAcdUcKupnDgJ7YsJ2sB6XB5f72jKTmHJZuisAD3fQioLllp\n",
       "ZjGlb2JnMv2kfkTPe1AbagiysufpskSxpmeRKhPH7n1h0+cuusFUCnd30pcbYzV30Vl22XiavAFC\n",
       "WmDgn2CP9plC9durGjYbbccgxF9JIbZ18xcbs4Y/pcV2eP+ir6celvu5Pv1b6mTLIV6rYwBevgh/\n",
       "yjGbeSd42I3OOIc62SahONk23NylnVQN8De/4Tvsd/wPghKTSnRvKtnfjM0PeTVKfNOvafxNq4/K\n",
       "oegoy+kcw6Kw8sRFuuggJAVOIzugg0gnLjcoFzM+2oXnL7ogLb7piVuUZy3AVY7buY08HsZV7VSJ\n",
       "RIiAVnqUopAtUcQEUux5+EPk+I67HlsnfcCELEd3+oLAHUZb3vuM+ZtSad97w1gOzWlMmwGeAWBq\n",
       "CuWtgx3Cina7jvv6IGIgCEJrD/r2YRNotKNdke4naTjlXNkVpvRSBr2WIybaLASJXUu8gZJRrw0X\n",
       "6t5OaD+8gQQ6cW7VgAHTD6I8THvxM0RzxlMkwPlq8hTx8mYw8ZSDN222Sb1HgFV8uBsI/3T9gDbC\n",
       "ySZs1lYnOItRgEQO/2OcuEZnKi9SKvnfBw2qb2JGKIOcBgU1sg4vs0srDAyhTTbyejCVDDJdsvam\n",
       "FR6Jjf8ajJYwmJVbwpZDZXXZ9BfP27uOq9ptfrXIMOOTxUBIV0eYYpGqFKw1A4DXdvJ+y9vJIYVr\n",
       "6FiMgMFJoHShSJvFOC7nv6MqUR6vuWwA/Jvm/ARVLI4wrozd9QNgFRTEbmZftxL01avfyiKq7vtV\n",
       "/K2UNuyoors3YKZo4FW87pHh0c6qOREHGfHBAAAGfUGbr0nhDyZTAhn//p4QA1wkQZt/EAJd8lQG\n",
       "72xkQ6bhQR4DhVrolpZc8AJpQ+YJQUNv1WbRBs6tlXITGnEiyg5bqmvxbLRpKuYyPjIX+45bsHL7\n",
       "F6H0v0dTZ4zj+CK0AxrSGff/pYNtQ2sjxpRkAKBipWpo7THKL9JK1dlBE5DM0PpbVFOVI2LL/noM\n",
       "kSPif60sH+1bNPBqwORy56pxuShyiBjOLARW++5N0AtsbrN5mo/RQdPQifRvc5chutFyFfSSp+78\n",
       "pYIJr0om6NJGnXxH5mRY2pWxmthqNAzKSvzsVwAGD5LG+Gqo5e4xHKVx3tHaDvJzUXh9WfxesVul\n",
       "XwfcH//Az37fOHFQks1NCEvrZGv6MEu+ho+jwiqJ/o3w6ui4wSlkXg5iV9AgXdqb6Jd/8pbhrL56\n",
       "rayLdnteZtF/p+adfUgHKYzZRoD4SyFhrncfzZcyvAsknGx7rD/cFYlANVI8BnOxGd1rfLrbxAtQ\n",
       "lMSssDdDx1gk+hcwPxdSNl7sE/0aimQck5BIqh6tJG8NUHH2x2QSHPhLb+qau0t5FoNCmthPZPwI\n",
       "DLLjSXZNAeTf5vqrJaartRsXhneblQXeEP3F6aicRGMbWX2MSiCjnztH4gzXcRFidP1pLW9b1+dV\n",
       "+QyEUwnCkOHE9xqZ6+ktUoBvehO0n1SUzl02EstKjgRVntvI06OGOA1ILqmGtj3PRJqUWQyQX90y\n",
       "NwbgWG4RqezT9K0veaS3905BXdhhxCfkZkC8KWTgAjhW4XxHG0jcPV5FMQrsGQ+ANBCANDf/GjKO\n",
       "VVXmHDjnU9FRfekqrTygdPbD+917HV/bN/JJC19//oSUSt35DHMYNy4/+Jumh6vK0envyLv7WJwL\n",
       "XyGCmiWgyeFAC5+A4GqlbQcl94mwGjEu4V07oZ/DtG3MiUTptD6bh0ZINPyErYMHHd3999zcHdvf\n",
       "2+fDIbLTrhX83SZGr0gc8ojNsrQK345hf/zUMK1d7juxK73o9EWF6eN0zPXWsDn+LgF3AtzZxJ/T\n",
       "sSPC8qrC0uNUqMIXpJSiAlbyheCEX23Jilho6cAKCRnZyvKQ8ISVjnSvIR6v7Ytmr402nOpq8Flx\n",
       "zL/CvtiwfcSTUtgubNvp42Ebx5Q/n3R7SmMK7kTy8PYAgkb5MOxnT5FfL0IU4KlzUaEfRYQOdsHR\n",
       "uApSpYz1q93qxu07WTJYax1f3167E5y0ftDJ5txXU66E1Hae5uHsk6yHv2acFGx3fNzuVemdxf5i\n",
       "0JdCym7jfjWeRbjST01om12jytRFqcinZt89pcot8klxy2xezlIM1k8U+7ly7ruhYpoQdix2yd4T\n",
       "gFLSrrUt6d9hl864KH8Co0uYuRQEDDjhST8HLVD5lRv2NDwefjGNlDV9M9gkB4r61dDCB2XcaEne\n",
       "UdQcjLqruFuW6EMmOKhovlGMc8mOVnvGwK4u1LSEDmnHNiUdFtH4lrNrTiz7p8x9xFVjcXW+Sq/M\n",
       "X3WpJLYCV1Tg+iB4DOISUikfdPO0DT2buZvnz2+r7EvniYAg3VylJhzBXUS4z1g1TPfOMEwsK7O7\n",
       "tnu3eZra+9tIL1IbjlnNeE8at1+ef5VySVRtpjMtpYd6khnZCoQXa1XNShRim8F4my4kChVR9ZA2\n",
       "XWXdDijKDFuCExK8q5/wVEYPZEzs2lu+9rkoCz5GRLqyM1k8xvYzast6YmA2ndRu5NHgpodhGZrF\n",
       "mfpkECwDrq1V1XlkTStNuKz6uoAw0m17NnSD7txXHobUmP6AwiTdBYgoxl51SeW60ZzfHBYC5Sz/\n",
       "7BVEIrY45bT8cdDRYiEpy/WCftwNAuiU3j/XEKnb86YXUjAW1IuwqQRMXlXEWAjilcjm0xEDbpgW\n",
       "9oKExvxcjpfFlwmTmN2z5Ja78Ai8thH9JmQNHPl8FpP7KrrZ12qF4+29zofRPg/hXRPNZKAA8BCx\n",
       "LgdyEpMDiZ8Dn+SttQNKGhoOnun6cKgi+AC+JYFeMNCk5aR8vHHdHfxuVrx/3Ukwcu5GWi/7P5LC\n",
       "oGyjLfh3nrFzGjGsuR7Y8YA6q79s7OAdrNB8lB5fIi5Gl85sGv6qjr89yheJ8fTCiafArCF7HMZ9\n",
       "k20FUN42WCmmTm/nqsT1jarxdT+D6lENnsQZs69gS/6Iyf6I5G/Je3SnOYrn8FFx/tR5F7Ufpe0Q\n",
       "BGrMFABqE5tSAa1eTG7aT174bLFTS+Ltn3bd07EpLAIgGSOmCuOBAAAFNkGb0UnhDyZTBRE8K//+\n",
       "OEAcDo9oAO9g2pOppzWG/+Ap4/w4kgKn4Si4YLCNFT3b+BeevEym2QVMaUR7k9hf3uZK3RU0xQcq\n",
       "bw0XwiAQuHG1yG9XXTHcgrKtQxk+RYEIuaBewwupdNaFJ1SToIIF82qeDZ5ULEsKLymrQ+4ZFj+d\n",
       "rK2mRuTSMcOABLFJPCufbqW+8GZcHGskf+fGkuT3s1NasQIgcjoDVNI1B7GcvS+U91sNSrz98xOj\n",
       "hLN85xMBx+SxEN15yz1RJj/zzMK32qmv2xJfyP6xfTZFrEWRqsh09glm3vhBo3qD+VOMZSYGgAQQ\n",
       "ou8/LzQSYzq4nO6YVXOaA4VuZGY1T19QQ2p2dhglzaMBHGyL7aPOc4jlPMML67hhrl+MHhRIX8Bd\n",
       "c5v2c6mQPJJ8tBm+nLyzCWgMF6DbY1htxXcVyE9Xwd+ZeDPAH5+G/p0m8oYxtVw+x4wzaSBrFH64\n",
       "vfSrnpqyySyEHEnfOtnKBbIh/IvtiZD/XBt5q0TEJKrgi/35jGs7rujjWZtyG21AwYFTzS93sBhv\n",
       "y9pzXmiTMt4d8xb+sN7WoT3tM58efZqw11KDbGiMtxmFQ/cwNYbZYrj6BK44SK1mvTA87UD0qcRY\n",
       "pydjZpjTa7/I4mGU1tna7+EqpUFWuKf7tszPjdT5qeO6KYUXKn/Wg8HAHFrqDlMUuQNE9ICxV2q6\n",
       "a6oj/j+cVzvl48S1UIBYjuZsQo2Skh9wSVypL50a64H4rBmMKvyUdTaguXQ3BPsCTaALMW7n7uqw\n",
       "UoE9Rfq3Yxv3nVrQpNxl/7fnkIj02w4xjRtiIR1H0P1aLMjqFC71wgFqUlMqq8HIDUO4c/WexRr3\n",
       "yuPj6iuWHyvYaw+4RzIzm0IrWeLvyK7GqBcLilFopvCYdkopbVngNHzVL1/r5S21lZrRDwEMQZC/\n",
       "IT0mYCKB7uNa9LXReTM1Yf6iLYxgb2DhxTT59EKMV7fHfHuaMDVYrY7J6fi7Ivs31opUjlZ64QjM\n",
       "maiAQCoS7Hg3IyzKPIE0Ml3bP6kQwKukLKjlq9Ukjd/CX+WFDRkHGEtVZmXAw+fj+iCEGMZwopKu\n",
       "mcjAC5lX2VQmj426fbhWQYYmqchomBQ+DbG9/BlpMBH0Sghn78h9j2jSfr/qpw0dId0SceqGcjbF\n",
       "N4qlgHuSyCoAOBIVcLD/hHfAYp80NBfiqFioN1rpIsKKp+ij9l8dm5oleiVmiVpe+d1lqf1+fskH\n",
       "Qd+HrHmCr+mLNYqMC0p8VjoT+qtB8ogQh+7WET+x+8N8cMA8cPWPIJF0ovh/sDlueQ3clpXVrwPN\n",
       "VL7JJ+F687zbW7PgXhHVjJP9gdpy9/UhzsQC3FIEPGTtGLdMi90D/NPvtFUEu9S+mw1gUjOY8mhG\n",
       "TiuON328wnW9J1ReV/z7iQ0LrVCHd391vat4POldYWvxQ3BoBjmHjES/tTksv+CBVDzzS6oJLQWv\n",
       "mDXA/4JUiFsltzYFXv+Qf/uEj3++prz+9lYutheFktAG5bdlz2TJSegeGg960khqc/Ptfhc1gG9p\n",
       "u9dis3/oqmLqqXyFfuTopgT96iXoz9bGQkOQFp2PCzmrZLKDjnJuCChjm/ZsJ7M6siZUfG79d3o3\n",
       "+3V15UmGfltX40TEHhEA6lIMpyX6Ztx+H8IEh5YUiwqAjv7ANsIwhDwU3kfebOS4LA/3vXL5FvbT\n",
       "VrBpb7Au/GCvVrHYCq9xCmAhzwxUTqjibTF6pwE3taq+QO+rgW9ysbnavochSVK/9DAkyaD5JAsM\n",
       "ERVvAiQ8VyH+AAABywGf8GpCvwFZq2fizCoACYxiEvCFiN0L0HglIUOHj1MtLyWPYoHKMutarTsi\n",
       "lhzMBU+zZgri0V2gKy+uagq08RXOPlU6GmcQ7ru7Am9DEgkm/7kTcA/BxarlJLPffRMWQakhgsLI\n",
       "2HWzBxS1xVd9e4TOJit1Fhy04VDBUkszndeQhfu+Mj0HBchbyQPwUUAi3NQtg/tkUxQPIgJ4Gy16\n",
       "dfl/W83a6r/+banG2AG746pLrr+s7EQCxNvmueTbRwnEPaEZalsrInNGHJs/9KDfUb1EZF/Lwxpl\n",
       "o6LhBWSXju68TCkTJAi8Nq1qyINWLI/Ea0RcumMJC9QA0jy3T5qif787lJSVeHFuP+ZmIj5nni6q\n",
       "NErflTcEzjqCnwhS3suC9j+VwMZDAlMEaGruS1KIbVzZAFUDOsJ2jUO4KXn426mOhKSlT3Z02MOA\n",
       "ltsF8dOoSMOZ0sHcMPVzgnbM6M94w07RZrW2Bba8sMzZtXKkE3X+H3C9ROg7vDBbzskhYuj64f3r\n",
       "ONGKtMBirSkduGYD40ARhsdxhfXDm5tcWGnwoTvC+1zSXFkS2tnfaMTBfcGumxDv9hag6tF+ilYY\n",
       "crzr1dp17RlMjXuvlsWuIAAABVZtb292AAAAbG12aGQAAAAAAAAAAAAAAAAAAAPoAAAH0AABAAAB\n",
       "AAAAAAAAAAAAAAAAAQAAAAAAAAAAAAAAAAAAAAEAAAAAAAAAAAAAAAAAAEAAAAAAAAAAAAAAAAAA\n",
       "AAAAAAAAAAAAAAAAAAAAAAACAAAEgHRyYWsAAABcdGtoZAAAAAMAAAAAAAAAAAAAAAEAAAAAAAAH\n",
       "0AAAAAAAAAAAAAAAAAAAAAAAAQAAAAAAAAAAAAAAAAAAAAEAAAAAAAAAAAAAAAAAAEAAAAABsAAA\n",
       "ASAAAAAAACRlZHRzAAAAHGVsc3QAAAAAAAAAAQAAB9AAAAQAAAEAAAAAA/htZGlhAAAAIG1kaGQA\n",
       "AAAAAAAAAAAAAAAAADIAAABkAFXEAAAAAAAtaGRscgAAAAAAAAAAdmlkZQAAAAAAAAAAAAAAAFZp\n",
       "ZGVvSGFuZGxlcgAAAAOjbWluZgAAABR2bWhkAAAAAQAAAAAAAAAAAAAAJGRpbmYAAAAcZHJlZgAA\n",
       "AAAAAAABAAAADHVybCAAAAABAAADY3N0YmwAAACzc3RzZAAAAAAAAAABAAAAo2F2YzEAAAAAAAAA\n",
       "AQAAAAAAAAAAAAAAAAAAAAABsAEgAEgAAABIAAAAAAAAAAEAAAAAAAAAAAAAAAAAAAAAAAAAAAAA\n",
       "AAAAAAAAAAAAAAAY//8AAAAxYXZjQwFkABX/4QAYZ2QAFazZQbCWhAAAAwAEAAADAMg8WLZYAQAG\n",
       "aOvjyyLAAAAAHHV1aWRraEDyXyRPxbo5pRvPAyPzAAAAAAAAABhzdHRzAAAAAAAAAAEAAAAyAAAC\n",
       "AAAAABRzdHNzAAAAAAAAAAEAAAABAAABcGN0dHMAAAAAAAAALAAAAAEAAAQAAAAAAQAACgAAAAAB\n",
       "AAAEAAAAAAEAAAAAAAAAAQAAAgAAAAABAAAGAAAAAAEAAAIAAAAAAQAABAAAAAABAAAKAAAAAAEA\n",
       "AAQAAAAAAQAAAAAAAAABAAACAAAAAAEAAAYAAAAAAQAAAgAAAAABAAAGAAAAAAEAAAIAAAAAAQAA\n",
       "CAAAAAACAAACAAAAAAQAAAQAAAAAAQAABgAAAAABAAACAAAAAAEAAAoAAAAAAQAABAAAAAABAAAA\n",
       "AAAAAAEAAAIAAAAAAQAACAAAAAACAAACAAAAAAEAAAoAAAAAAQAABAAAAAABAAAAAAAAAAEAAAIA\n",
       "AAAAAQAABgAAAAABAAACAAAAAAEAAAQAAAAAAQAACgAAAAABAAAEAAAAAAEAAAAAAAAAAQAAAgAA\n",
       "AAABAAAEAAAAAAEAAAYAAAAAAQAAAgAAAAACAAAEAAAAAAEAAAYAAAAAAQAAAgAAAAAcc3RzYwAA\n",
       "AAAAAAABAAAAAQAAADIAAAABAAAA3HN0c3oAAAAAAAAAAAAAADIAAB2kAAAI2gAABLsAAAG9AAAD\n",
       "vgAACJgAAAOQAAAFiQAACh0AAAUKAAADNQAAA0EAAAYAAAACxQAACJoAAAMoAAAIlQAABE0AAAMC\n",
       "AAAFIQAABoYAAAdCAAAHRAAACVAAAAIzAAABRAAAApsAAACaAAADjAAACokAAAQqAAADXQAACZIA\n",
       "AAVjAAADSAAAA5UAAAY1AAADLwAABYUAAArrAAAE0QAAAzMAAANaAAAEfgAABxMAAAM1AAAGBwAA\n",
       "BoEAAAU6AAABzwAAABRzdGNvAAAAAAAAAAEAAAAsAAAAYnVkdGEAAABabWV0YQAAAAAAAAAhaGRs\n",
       "cgAAAAAAAAAAbWRpcmFwcGwAAAAAAAAAAAAAAAAtaWxzdAAAACWpdG9vAAAAHWRhdGEAAAABAAAA\n",
       "AExhdmY1OC4xMi4xMDA=\n",
       "\">\n",
       "  Your browser does not support the video tag.\n",
       "</video>"
      ],
      "text/plain": [
       "<IPython.core.display.HTML object>"
      ]
     },
     "execution_count": 9,
     "metadata": {},
     "output_type": "execute_result"
    }
   ],
   "source": [
    "# Show the animation\n",
    "HTML(ani.to_html5_video())"
   ]
  },
  {
   "cell_type": "code",
   "execution_count": 10,
   "metadata": {
    "scrolled": false,
    "slideshow": {
     "slide_type": "skip"
    }
   },
   "outputs": [],
   "source": [
    "# Save the animation\n",
    "ani.save('VibrationModes.mp4')"
   ]
  },
  {
   "cell_type": "markdown",
   "metadata": {
    "slideshow": {
     "slide_type": "skip"
    }
   },
   "source": [
    "The animation coded above is saved under `VibrationModes.mp4` and uploaded onto the Q.\n",
    "Compare it with the video called `masses_for_04_modes.mp4` of the previous chapter!\n",
    "See also fig. 3 (King fig. 6.2) for a picture of the first four modes and fig. 4 (King fig. 6.1) for a representation of the time evolution of mode number 2."
   ]
  },
  {
   "cell_type": "markdown",
   "metadata": {
    "slideshow": {
     "slide_type": "skip"
    }
   },
   "source": [
    "![Fig. 3: King 6.2](King62.png)"
   ]
  },
  {
   "cell_type": "markdown",
   "metadata": {
    "slideshow": {
     "slide_type": "skip"
    }
   },
   "source": [
    "![Fig. 4: King 6.1](King61.png)"
   ]
  },
  {
   "cell_type": "markdown",
   "metadata": {
    "slideshow": {
     "slide_type": "skip"
    }
   },
   "source": [
    "Here are a few important remarks that you will also find on the captions of King's figures.\n",
    "\n",
    "* Those points where the string doesn't move are called **nodes**.\n",
    "* Those points in-between where the string moves with the largest amplitude are called **antinodes**. I might call them bellies. It is *not* standard practice to do so.\n",
    "* The mode with no nodes ($n = 1$ here) is called the **fundamental** (mode), or **first harmonic** (but really, \"fundamental\" is more standard). It is originally a musical term, I guess, as in, it corresponds to the gravest sound an instrument of piece of instrument can produce. The one with one node ($n = 2$) is called the **second harmonic**, and so on.\n",
    "* The $n^{th}$ harmonic has $n-1$ nodes, and $n$ antinodes.\n",
    "* $k_n$ is called the **wavenumber** of the $n^{th}$ mode, $$\\boxed{\\lambda_n = \\frac{2\\pi}{k_n}} = \\frac{2L}n $$ is its **wavelength**. The units of $k_n$ are rad.m$^{-1}$ and those of $\\lambda_n$ are m (metres)."
   ]
  },
  {
   "cell_type": "markdown",
   "metadata": {
    "slideshow": {
     "slide_type": "skip"
    }
   },
   "source": [
    "***\n",
    "\n",
    "*End of 2 October lecture, beginning of 5 October lecture.*\n",
    "\n",
    "***\n",
    "\n",
    "**Worked example: King p. 143. Also recommended: worked example p. 144.**\n",
    "\n",
    "***"
   ]
  },
  {
   "cell_type": "markdown",
   "metadata": {
    "slideshow": {
     "slide_type": "skip"
    }
   },
   "source": [
    "# Standing Waves as Normal Modes of a Vibrating String\n",
    "\n",
    "*[Book: § 6.4]*"
   ]
  },
  {
   "cell_type": "markdown",
   "metadata": {
    "slideshow": {
     "slide_type": "skip"
    }
   },
   "source": [
    "## Results from Fourier Series"
   ]
  },
  {
   "cell_type": "markdown",
   "metadata": {
    "slideshow": {
     "slide_type": "skip"
    }
   },
   "source": [
    "We just saw that if $y_n$ and $y_m$ were modes of vibrations of the string, then a linear combination of those two was a solution. But is the reverse true? Namely, if $y$ is a solution, can it be written as $\\sum_{n=1}^{\\infty} A_n y_n$? After all, maybe we have only covered the set of solutions which were separable, and we are missing plenty of elementary solutions that cannot be written as $y_n(t, x) = f_n(x)h_n(t)$."
   ]
  },
  {
   "cell_type": "markdown",
   "metadata": {
    "slideshow": {
     "slide_type": "skip"
    }
   },
   "source": [
    "The answer is yes, the decomposition exists and is unique, but I will not prove it because you saw it in Calculus II with Fourier series.\n",
    "Just as the existence and unicity of the decomposition into eigenmodes for a coupled system of oscillations was a gift from a linear algebra class, the existence and unicity of the decomposition of any solution into standing wave mode is a gift from Fourier analysis."
   ]
  },
  {
   "cell_type": "markdown",
   "metadata": {
    "slideshow": {
     "slide_type": "skip"
    }
   },
   "source": [
    "Namely, the main result to remember from a lecture on Fourier series is that if a function $s(x)$ of the real variable $x$ is continuous and periodic, with period $L$, then $\\exists! \\{A_n, B_n\\}_{n\\in \\mathbb N^*}$ such that \n",
    "$$ s(x) = \\frac{A_0}2 + \\sum_{n=1}^\\infty A_n \\cos(k_n x) + B_n \\sin(k_n x). $$"
   ]
  },
  {
   "cell_type": "markdown",
   "metadata": {
    "slideshow": {
     "slide_type": "skip"
    }
   },
   "source": [
    "And if the function is odd, i.e., $s(x) = -s(-x)$, then it is even simpler:\n",
    "$$ s(x) = \\sum_{n=1}^\\infty B_n \\sin(k_n x). $$"
   ]
  },
  {
   "cell_type": "markdown",
   "metadata": {
    "slideshow": {
     "slide_type": "skip"
    }
   },
   "source": [
    "You may object that Fourier series apply to periodic function, i.e., functions that exist on $\\mathbb R$, not $[0, L]$.\n",
    "The connection is that we can imagine our solution on $[0, L]$ as a \"cropped\" sub-set of a function that would be periodic.\n",
    "In this case, the actual solution and the corresponding infinitely long and periodic function share the same Fourier coefficients."
   ]
  },
  {
   "cell_type": "markdown",
   "metadata": {
    "slideshow": {
     "slide_type": "skip"
    }
   },
   "source": [
    "Let me plot a sketch of what I mean by \"actual solution\" (fig. 5) and \"infinitely long and periodic function\" (fig. 6)."
   ]
  },
  {
   "cell_type": "code",
   "execution_count": 11,
   "metadata": {
    "slideshow": {
     "slide_type": "skip"
    }
   },
   "outputs": [],
   "source": [
    "# Definition of the function\n",
    "# Let's draw a triangular shape, with the top at a point where the string is plucked\n",
    "pluck_point = 0.25*L  # in [m]\n",
    "d = 0.01  # how high the string is plucked [m]\n",
    "s = d * x / pluck_point  # the first part of the string\n",
    "s[x > pluck_point] = d * (L - x[x > pluck_point]) / (L-pluck_point)  # the 2nd part\n",
    "\n",
    "plt.figure()\n",
    "plt.plot(x/L, s/d, 'r')\n",
    "plt.grid()\n",
    "plt.xlabel('$x/L$', fontsize=ftsz)\n",
    "plt.ylabel('$s/d$', fontsize=ftsz)\n",
    "plt.axvline(pluck_point/L, color='k', linestyle='--')\n",
    "plt.title('The plucked string on $[0, L]$', fontsize=ftsz)\n",
    "plt.ylim([0., 2.])\n",
    "plt.savefig('PluckedString.png', dpi=100)\n",
    "plt.close()"
   ]
  },
  {
   "cell_type": "markdown",
   "metadata": {},
   "source": [
    "![Fig.5: Plucked string](PluckedString.png)"
   ]
  },
  {
   "cell_type": "code",
   "execution_count": 13,
   "metadata": {
    "slideshow": {
     "slide_type": "skip"
    }
   },
   "outputs": [],
   "source": [
    "x_extend = np.linspace(-1.5*L, 2.5*L, 512)  # x extended beyoind [0, L]\n",
    "s_extend = d * x_extend / pluck_point  # the first part of the string\n",
    "s_extend[x_extend > pluck_point] = d * (L - x_extend[x_extend > pluck_point]\n",
    "                                       ) / (L-pluck_point)\n",
    "s_extend[x_extend > 2*L-pluck_point] = d * (x_extend[x_extend > 2*L-pluck_point]/pluck_point\n",
    "                                            - 2*L/pluck_point)\n",
    "s_extend[x_extend > 2*L+pluck_point] = d * (L - x_extend[x_extend > 2*L+pluck_point]\n",
    "                                           ) / (L-pluck_point) + 2*d*L/(L-pluck_point)\n",
    "s_extend[x_extend < -pluck_point] = d * (L - x_extend[x_extend < -pluck_point]\n",
    "                                        ) / (L-pluck_point) - 2*d*L/(L-pluck_point)\n",
    "\n",
    "plt.figure()\n",
    "plt.plot(x_extend/L, s_extend/d, 'b--', label='$s(x)$ extended')\n",
    "plt.plot(x/L, s/d, 'r', label='$s(x)$')\n",
    "plt.grid()\n",
    "plt.xlabel('$x/L$', fontsize=ftsz)\n",
    "plt.ylabel('$s/d$', fontsize=ftsz)\n",
    "plt.ylim([-2., 2.])\n",
    "plt.axhline(0., color='k')\n",
    "plt.axvline(pluck_point/L, color='k', linestyle='--')\n",
    "plt.axvline(0., color='k')\n",
    "plt.axvline(1., color='k')\n",
    "plt.title('Equivalent plucked string on an extended interval', fontsize=ftsz)\n",
    "plt.legend()\n",
    "plt.savefig('PeriodicPlucked.png', dpi=100)\n",
    "plt.close()"
   ]
  },
  {
   "cell_type": "markdown",
   "metadata": {},
   "source": [
    "![Fig. 6: The plucked string, if it was part of an infinitely long and periodic function.](PeriodicPlucked.png)"
   ]
  },
  {
   "cell_type": "markdown",
   "metadata": {
    "slideshow": {
     "slide_type": "skip"
    }
   },
   "source": [
    "While the plucked string (red, solid line on fig. 6) is not periodic, the blue, dashed line is, and can be decomposed as a Fourier series.\n",
    "In the interval $[0, L]$, the two are indistinguishable, and the plucked string shares the extended string's expression."
   ]
  },
  {
   "cell_type": "markdown",
   "metadata": {
    "slideshow": {
     "slide_type": "skip"
    }
   },
   "source": [
    "Mathematically speaking, the rest of this section is basically an application of the Fourier series theory to string vibrations."
   ]
  },
  {
   "cell_type": "markdown",
   "metadata": {
    "slideshow": {
     "slide_type": "skip"
    }
   },
   "source": [
    "## Orthogonality of Standing Wave Modes"
   ]
  },
  {
   "cell_type": "markdown",
   "metadata": {
    "slideshow": {
     "slide_type": "skip"
    }
   },
   "source": [
    "In the last chapter, the linked masses resulted in a symmetric matrix to diagonalize, in which case the eigenvectors were orthogonal to each other.\n",
    "Something similar is happening here: the string is homogeneous ($\\mu$ is a constant), and the normal modes are orthogonal to each other.\n",
    "The \"dot product\" however needs to be redefined, because the vector space has changed.\n",
    "In the chapter on coupled oscillators, the inner product of the vector space was the good ol' dot product.\n",
    "Now, the inner product for two stress-free functions [^3] $f$ and $g$ is:\n",
    "$$f\\odot g = \\frac2L \\int_0^L f(x)g(x)\\di x.\\hspace{5cm}(3)$$\n",
    "\n",
    "[^3]: the physicist's definition of a \"stress-free function\" is a function that won't cause any problem when deriving, integrating or else. The kind of chill function we like to not worry about. Obviously, this chapter is not NIST approved."
   ]
  },
  {
   "cell_type": "markdown",
   "metadata": {
    "slideshow": {
     "slide_type": "skip"
    }
   },
   "source": [
    "The $2/L$ pre-factor is optional and is used to ensure that the functions are orthonormal with respect to the inner product. Indeed, here is a claim:\n",
    "$$ \\boxed{\\sin(k_n x) \\odot \\sin(k_m x) = \\delta_{mn}}.$$\n",
    "Recall that the Kronecker delta is $\\delta_{mn} = 1$ if $m=n$, and zero otherwise.\n",
    "That is, **modes are orthogonal to each other**."
   ]
  },
  {
   "cell_type": "markdown",
   "metadata": {
    "slideshow": {
     "slide_type": "skip"
    }
   },
   "source": [
    "*Note: Similarly,* $\\cos(k_n x) \\odot \\cos(k_m x) = \\delta_{mn}$ *and* $\\cos(k_n x) \\odot \\sin(k_m x) = 0$. *Yes, the last one is always zero, even if* $m = n$. *As far as I can tell though, we won't be using these relationships with the boundary conditions of strings attached to walls. We would if the origin of the $x$-axis was in the middle of the two walls, or if we had other boundary conditions. Therefore, it is not completely usueless to know that these relationships exist.*"
   ]
  },
  {
   "cell_type": "markdown",
   "metadata": {
    "slideshow": {
     "slide_type": "skip"
    }
   },
   "source": [
    "***\n",
    "\n",
    "*While not difficult, and even though it resembles a result we have seen earlier, I skipped the proof in class. Here it is, FYI. Don't worry about remembering it.*\n",
    "\n",
    "Recall that \n",
    "$$\\cos(a\\pm b) = \\cos a \\cos b \\mp \\sin a \\sin b.$$\n",
    "\n",
    "Sum those two and you get:\n",
    "$$ 2\\cos a\\cos b = \\cos(a-b) + \\cos(a+b). $$\n",
    "Subtract them and you obtain\n",
    "$$ 2\\sin a\\sin b = \\cos(a-b) - \\cos(a+b). $$\n",
    "\n",
    "* $m\\neq n$: for $a = n\\pi x/L$ and $b = m\\pi x/L$\n",
    "\n",
    "\\begin{align*}\n",
    "    \\sin a \\odot \\sin b & = \\frac{1}{L} \\int_0^L \\left(\\cos\\left(\\frac{(n-m) \\pi x}{L}\\right) +  \\cos\\left(\\frac{(n+m)\\pi x}{L}\\right) \\right) \\di x \\\\\n",
    "                        & = \\frac{1}{L} \\left[\\frac{L}{\\pi(n-m)}\\sin\\left(\\frac{(n-m) \\pi x}{L}\\right) + \\frac{L}{\\pi(n+m)} \\sin\\left(\\frac{(n+m)\\pi x}{L}\\right) \\right]_0^L \\\\\n",
    "                        & = 0 + 0 = 0 \\quad\\textrm{if}\\quad m \\neq n.\n",
    "\\end{align*}\n",
    "\n",
    "* $m=n$ on the other hand, we need to go back to $2\\sin a\\sin b = \\cos(a-b) - \\cos(a+b)$, which, if $a = b$, becomes $2\\sin^2(2a) = 1 - \\cos(2a)$. \n",
    "Of the two integrals that are to be computed, $\\int_0^L \\cos(2n\\pi x/L) \\di x = 0$ but $\\int_0^L \\di x = L$, and therefore,\n",
    "$$\\sin\\left(\\frac{n\\pi x}L\\right) \\odot \\sin\\left(\\frac{n\\pi x}L\\right) = \\frac{2}{L}\\frac{L}2 = 1. $$\n",
    "\n",
    "Very similar derivations exist for $\\cos(k_n x) \\odot \\cos(k_m x) = \\delta_{mn}$ and $\\cos(k_n x) \\odot \\sin(k_m x) = 0$.\n",
    "\n",
    "***"
   ]
  },
  {
   "cell_type": "markdown",
   "metadata": {
    "slideshow": {
     "slide_type": "skip"
    }
   },
   "source": [
    "Note that similarly to the last chapter, these results can be extended to strings that are non-homogeneous (i.e. $v$ depends on $x$, like a whip getting thinner away from the handle). A new inner product would need to be defined. \n",
    "This would be the equivalent of a matrix that is not symmetric in the previous chapter.\n",
    "These considerations are outside of what you need to know for this class."
   ]
  },
  {
   "cell_type": "markdown",
   "metadata": {
    "slideshow": {
     "slide_type": "skip"
    }
   },
   "source": [
    "## Initial Value Problems"
   ]
  },
  {
   "cell_type": "markdown",
   "metadata": {
    "slideshow": {
     "slide_type": "skip"
    }
   },
   "source": [
    "Like in previous chapters, while we know that the general form of the solution is in the form of eqn. $(2)$, finding the amplitudes $C_n$ and phases $\\phi_n$ remains to be computed for an IVP."
   ]
  },
  {
   "cell_type": "markdown",
   "metadata": {
    "slideshow": {
     "slide_type": "skip"
    }
   },
   "source": [
    "And like at the end of the previous chapter, the orthogonality condition will help us to solve this problem relatively easily."
   ]
  },
  {
   "cell_type": "markdown",
   "metadata": {
    "slideshow": {
     "slide_type": "skip"
    }
   },
   "source": [
    "First of all though, allow me to rewrite eqn. $(2)$ as\n",
    "$$\\boxed{y(t, x) = \\sum_{n = 1}^{\\infty} \\left[\\alpha_n \\cos(\\omega_n t) + \\beta_n \\sin(\\omega_n t)\\right]\\sin(k_n x)},\\hspace{4cm}(4)$$\n",
    "which is more convenient for IVPs."
   ]
  },
  {
   "cell_type": "markdown",
   "metadata": {
    "slideshow": {
     "slide_type": "skip"
    }
   },
   "source": [
    "Consider now an initial value problem\n",
    "$$ y(0, x) = P(x)\\and \\dot y(0, x) = V(x). $$"
   ]
  },
  {
   "cell_type": "markdown",
   "metadata": {
    "slideshow": {
     "slide_type": "skip"
    }
   },
   "source": [
    "We now have two equations,\n",
    "$$\\sum_{n = 1}^{\\infty} \\alpha_n\\sin(k_n x) = P(x) \\and \\sum_{n = 1}^{\\infty} \\omega_n\\beta_n\\sin(k_n x) = V(x).$$"
   ]
  },
  {
   "cell_type": "markdown",
   "metadata": {
    "slideshow": {
     "slide_type": "skip"
    }
   },
   "source": [
    "These could be seen as two equations with an infinite number of unknown each ($2\\times \\infty$ unknown total). But because these unknown multiply eigenfunctions that are all orthogonal to each other, we can use projections to turn it into a system with as many equations as there are unknown.\n",
    "For example,\n",
    "$$\\left[\\sum_{n = 1}^{\\infty} \\alpha_n\\sin(k_n x)\\right] \\odot \\sin(k_m x) = \\sum_{n = 1}^{\\infty} \\alpha_n\\left[\\sin(k_n x) \\odot \\sin(k_m x)\\right] = \\alpha_m.$$\n",
    "*Note: in the result above, I used that the $\\sin(k_n x)$ functions are orthonormal with respect to the inner product that I defined. Had I not added a $2/L$ pre-factor in my definition of the inner product (eqn. 3), I would have needed to multiply the right-most-hand-side of the equation above with $L/2$. This is what King sort of does in his book.*"
   ]
  },
  {
   "cell_type": "markdown",
   "metadata": {
    "slideshow": {
     "slide_type": "skip"
    }
   },
   "source": [
    "Therefore, \n",
    "$$ \\forall m\\in \\mathbb N^*, \\quad \\alpha_m = P(x) \\odot \\sin(k_m x) \\and \\beta_m = \\frac{1}{\\omega_m}V(x) \\odot \\sin(k_m x). $$"
   ]
  },
  {
   "cell_type": "markdown",
   "metadata": {
    "slideshow": {
     "slide_type": "skip"
    }
   },
   "source": [
    "We solved one problem but created a new one, which is to compute all the $P(x)\\odot \\sin(k_m x)$ and $V(x)\\odot \\sin(k_m x)$.\n",
    "But at least, there is a road map, which is to compute integrals.\n",
    "If the initial condition is simple enough, the integrals can be computed analytically (which we will do for a couple of examples), and if not, a computer can do it."
   ]
  },
  {
   "cell_type": "markdown",
   "metadata": {
    "slideshow": {
     "slide_type": "skip"
    }
   },
   "source": [
    "## Example: Initializing a Single Mode"
   ]
  },
  {
   "cell_type": "markdown",
   "metadata": {
    "slideshow": {
     "slide_type": "skip"
    }
   },
   "source": [
    "### Analytical Resolution\n",
    "\n",
    "Suppose we start with\n",
    "$$y(0, x) = P(x) = 4d\\sin\\left(\\frac{3\\pi x}{L}\\right) \\and \\dot y(0, x) = V(x) = 0,$$\n",
    "with $4d$ the initial amplitude of displacement (in m).\n",
    "Of course, the first things to notice is that $3\\pi/L = k_3$."
   ]
  },
  {
   "cell_type": "markdown",
   "metadata": {
    "slideshow": {
     "slide_type": "skip"
    }
   },
   "source": [
    "That $V(x) = 0$ means that $\\forall n\\in \\mathbb N^*$, $\\beta_n = 0$."
   ]
  },
  {
   "cell_type": "markdown",
   "metadata": {
    "slideshow": {
     "slide_type": "skip"
    }
   },
   "source": [
    "As for the $\\alpha_n$'s,\n",
    "\\begin{align*}\n",
    "    \\alpha_n & = P(x) \\odot \\sin(k_n x) \\\\\n",
    "             & = \\frac2L \\int_0^L P(x)\\sin(k_n x)\\di x \\\\\n",
    "             & = \\frac{8d}{L} \\int_0^L \\sin(k_3 x) \\sin(k_n x) \\di x \\\\\n",
    "             & = 4d \\delta_{3n}.\n",
    "\\end{align*}"
   ]
  },
  {
   "cell_type": "markdown",
   "metadata": {
    "slideshow": {
     "slide_type": "skip"
    }
   },
   "source": [
    "Therefore, the only frequency of oscillation is $\\omega_3 = \\frac{3\\pi }L\\sqrt{\\frac{T}{\\mu}}$ and the solution is \n",
    "$$y(t, x) = 4d\\cos\\left(\\frac{3\\pi t}{L}\\sqrt{\\frac{T}{\\mu}}\\right)\\sin\\left(\\frac{3\\pi x}{L}\\right) \n",
    "          = 4d\\cos\\left(\\omega_3 t\\right)\\sin\\left(k_3 x\\right),$$\n",
    "which is the only term that is left from eqn. (4)."
   ]
  },
  {
   "cell_type": "markdown",
   "metadata": {
    "slideshow": {
     "slide_type": "skip"
    }
   },
   "source": [
    "Note that the frequency was not explicitly present in the initial conditions, just the wave number.\n",
    "It is just like with the coupled pendulums: one mode, one frequency was selected by just initializing the masses positions with the right pattern (or *polarization*)."
   ]
  },
  {
   "cell_type": "markdown",
   "metadata": {
    "slideshow": {
     "slide_type": "skip"
    }
   },
   "source": [
    "A quick sanity check on the units: $T$ is in N, or kg.m.s$^{-2}$, and $\\mu$ is in kg.m$^{-1}$, therefore $\\sqrt{T/\\mu}$ is in m.s$^{-1}$ (which is good, because it is the phase speed), $\\sqrt{T/\\mu}/L$ is in s$^{-1}$ in SI base units, $3\\pi$ times the same is in rad.s$^{-1}$ (*not SI base units, but it is* $\\omega_3$ in rad.s$^{-1}$), and $\\omega_3 t$ is indeed dimensionless."
   ]
  },
  {
   "cell_type": "markdown",
   "metadata": {
    "slideshow": {
     "slide_type": "skip"
    }
   },
   "source": [
    "### Graphic Representation: Spectrum\n",
    "\n",
    "Then, there is the problem of the graphic representation of this solution.\n",
    "I could display an animation, as I did before, but while pedagogically useful, it is not the representation that compresses the information the most.\n",
    "After all, if the motion is harmonic, we don't need to display a moving string to know the time information, which is completely encapsulated in the number $\\omega_3$.\n",
    "The only other piece of information I need to know is the amplitude of the third harmonic, $4d$."
   ]
  },
  {
   "cell_type": "markdown",
   "metadata": {
    "slideshow": {
     "slide_type": "skip"
    }
   },
   "source": [
    "A solution is therefore to plot the amplitude as a function of frequency, and the plot is called a **spectrum** (see fig. 7)."
   ]
  },
  {
   "cell_type": "code",
   "execution_count": 15,
   "metadata": {
    "scrolled": false,
    "slideshow": {
     "slide_type": "skip"
    }
   },
   "outputs": [],
   "source": [
    "# Let's plot\n",
    "plt.figure()\n",
    "plt.plot([3]*2, [0, 4], 'o-', linewidth=5)\n",
    "plt.axis([0, 5.1, 0, 4.4])\n",
    "plt.xticks(range(1, 6), \n",
    "          ['$\\omega_{0:1d}$'.format(n) for n in range(1, 6)],\n",
    "          fontsize=ftsz)\n",
    "plt.xlabel('Vibration frequency ($\\omega_n = n\\pi v/L$)', fontsize=ftsz)\n",
    "plt.ylabel(r'Modal amplitude $\\alpha_n/d$', fontsize=ftsz)\n",
    "plt.grid()\n",
    "plt.savefig('Spectrum1mode.png', dpi=100)\n",
    "plt.close()"
   ]
  },
  {
   "cell_type": "markdown",
   "metadata": {},
   "source": [
    "![Fig. 7: Spectrum when only one mode of amplitude $4d$ is present.](Spectrum1mode.png)"
   ]
  },
  {
   "cell_type": "markdown",
   "metadata": {
    "slideshow": {
     "slide_type": "skip"
    }
   },
   "source": [
    "Two remarks on spectra.\n",
    "\n",
    "* We did plot very similar graphs on the lecture on resonance, when we were plotting the amplitude (or dissipated power) as a function of frequency. And indeed, we do not have dissipation, meaning that we don't need to invoke forcing to describe sustained oscillations. If we introduced damping and forcing, we could plot spectra of the string vibrations under a certain periodic forcing as a function of frequency indeed, and it would look very similar. I alluded to it in the lecture on forced coupled oscillators (not in the lecture notes though).\n",
    "* You might remember from your linear algebra class that \"spectrum\" is also the name of the set of eigenvalues of a matrix. While a set is not a plot, there is a connection, because the plot will have all the frequencies on the $x$-axis, and because there is a connection between these frequencies, the eigenfrequencies of the previous chapter, and linear algebra."
   ]
  },
  {
   "cell_type": "markdown",
   "metadata": {},
   "source": [
    "***\n",
    "\n",
    "*End of 5 October lecture, beginning of 9 October lecture.*\n",
    "\n",
    "***"
   ]
  },
  {
   "cell_type": "markdown",
   "metadata": {
    "slideshow": {
     "slide_type": "slide"
    }
   },
   "source": [
    "## Example: Plucked String.\n",
    "\n",
    "*Note: this is King, worked example p. 155.*"
   ]
  },
  {
   "cell_type": "markdown",
   "metadata": {
    "slideshow": {
     "slide_type": "skip"
    }
   },
   "source": [
    "### Analytical resolution\n",
    "\n",
    "Analytically speaking, it is relatively easy to compute the Fourier decomposition of a string, plucked in the middle:\n",
    "$$ y(0, x) = P(x) = \\frac{2d x}{L} \\quad \\textrm{for} \\quad 0\\leq x < L/2, $$\n",
    "$$ y(0, x) = P(x) = 2d\\left(1 - \\frac{x}{L}\\right) \\quad \\textrm{for} \\quad x_p \\leq x \\leq L. $$"
   ]
  },
  {
   "cell_type": "markdown",
   "metadata": {
    "slideshow": {
     "slide_type": "skip"
    }
   },
   "source": [
    "As before, we will consider the case $\\dot y(0, x) = V(x) = 0$, which again means that $\\forall n\\in \\mathbb N^*$, $\\beta_n = 0$."
   ]
  },
  {
   "cell_type": "markdown",
   "metadata": {
    "slideshow": {
     "slide_type": "skip"
    }
   },
   "source": [
    "\\begin{align*}\n",
    "    \\alpha_n & = P(x) \\odot \\sin(k_n x) \\\\\n",
    "             & = \\frac{4d}L \\left[\\int_0^{L/2}\\frac{x}{L} \\sin(k_n x)\\di x + \\int_{L/2}^L \\left(1 - \\frac{x}{L}\\right) \\sin(k_n x)\\di x\\right].\n",
    "\\end{align*}"
   ]
  },
  {
   "cell_type": "markdown",
   "metadata": {
    "slideshow": {
     "slide_type": "skip"
    }
   },
   "source": [
    "A useful formula to compute these integrals is\n",
    "$$ \\int x' \\sin(ax') \\di x' = \\frac{\\sin(ax)}{a^2} - \\frac{x\\cos(ax)}{a},$$\n",
    "which is the result of an integration by parts, followed by a simple integration. Ask Wofram Alpha if you are curious. Do not try to remember it of course, but make sure you'd be able to find it by yourself."
   ]
  },
  {
   "cell_type": "raw",
   "metadata": {
    "raw_mimetype": "text/markdown",
    "slideshow": {
     "slide_type": "skip"
    }
   },
   "source": [
    "# for verification, I ask Python's symbolic math package to do it\n",
    "from sympy import *  # symbolic math operations\n",
    "init_printing(use_unicode=True)  # to print pretty\n",
    "\n",
    "n = Symbol('n', integer=True, positive=True)\n",
    "x, L = symbols('n, L', real=True, positive=True)"
   ]
  },
  {
   "cell_type": "raw",
   "metadata": {
    "raw_mimetype": "text/markdown",
    "slideshow": {
     "slide_type": "skip"
    }
   },
   "source": [
    "factor(integrate(x/L*sin(n*pi*x/L), (x, 0, L/2)))  # for verification"
   ]
  },
  {
   "cell_type": "markdown",
   "metadata": {
    "slideshow": {
     "slide_type": "skip"
    }
   },
   "source": [
    "The first integral is\n",
    "\\begin{align*}\n",
    "    \\int_0^{L/2}\\frac{x}{L} \\sin(k_n x)\\di x \n",
    "        & = \\frac{1}{k_n L} \\left[ \\frac{\\sin(k_n x)}{k_n} - x\\cos(k_n x) \\right]_0^{L/2} \\\\\n",
    "        & = \\frac{L}{n\\pi}\\left[\\frac{1}{n\\pi}\\sin\\left(\\frac{n\\pi}{2}\\right) - \\frac12\\cos\\left(\\frac{n\\pi}{2}\\right) \\right].\n",
    "\\end{align*}"
   ]
  },
  {
   "cell_type": "raw",
   "metadata": {
    "raw_mimetype": "text/markdown",
    "slideshow": {
     "slide_type": "skip"
    }
   },
   "source": [
    "factor(integrate((1-x/L)*sin(n*pi*x/L), (x, L/2, L)))  # for verification"
   ]
  },
  {
   "cell_type": "markdown",
   "metadata": {
    "slideshow": {
     "slide_type": "skip"
    }
   },
   "source": [
    "For the other integral, and following a similar calculation, we get\n",
    "$$\\int_{L/2}^L\\left(1 - \\frac{x}{L}\\right) \\sin(k_n x)\\di x = \\frac{L}{n\\pi}\\left[\\frac{1}{n\\pi}\\sin\\left(\\frac{n\\pi}{2}\\right) + \\frac12\\cos\\left(\\frac{n\\pi}{2}\\right) \\right]. $$"
   ]
  },
  {
   "cell_type": "markdown",
   "metadata": {
    "slideshow": {
     "slide_type": "skip"
    }
   },
   "source": [
    "Adding the two, we get\n",
    "$$ \\int_0^{L/2}\\frac{x}{L} \\sin(k_n x)\\di x + \\int_{L/2}^L \\left(1 - \\frac{x}{L}\\right) \\sin(k_n x)\\di x = \\frac{2L}{(n\\pi)^2}\\sin\\left(\\frac{n\\pi}{2}\\right) $$"
   ]
  },
  {
   "cell_type": "markdown",
   "metadata": {
    "slideshow": {
     "slide_type": "skip"
    }
   },
   "source": [
    "The final form of $\\alpha_n$ is therefore\n",
    "$$ \\alpha_n = \\frac{8d}{(n\\pi^2)}\\sin\\left(\\frac{n\\pi}{2}\\right) = 0 \\quad\\textrm{if } n\\textrm{ even}, \\quad \\frac{8d}{(n\\pi)^2}(-1)^{(n-1)/2}\\quad\\textrm{if } n\\textrm{ odd}. $$"
   ]
  },
  {
   "cell_type": "markdown",
   "metadata": {
    "slideshow": {
     "slide_type": "skip"
    }
   },
   "source": [
    "Let us only consider the $n$ odd case then, and let $n=2m+1$, $m\\in\\mathbb N$.\n",
    "From eqn. (4), the solution to the string, plucked in the middle is therefore:\n",
    "$$ \\boxed{y(t, x) = \\frac{8 d}{\\pi^2}\\sum_{m=0}^{\\infty}\\frac{(-1)^{m}}{(2m+1)^2}\\cos\\left(\\frac{(2m+1)\\pi v}{L}t\\right)\\sin\\left(\\frac{(2m+1)\\pi}{L}x\\right)}. $$"
   ]
  },
  {
   "cell_type": "markdown",
   "metadata": {
    "slideshow": {
     "slide_type": "skip"
    }
   },
   "source": [
    "### Spectrum"
   ]
  },
  {
   "cell_type": "markdown",
   "metadata": {
    "slideshow": {
     "slide_type": "skip"
    }
   },
   "source": [
    "Although complicated, we can plot the formula above relatively easily as a spectrum. Let me compute a few values, with $d = 1 cm$, $L = 1 m$\n",
    "\n",
    "* $y_1(t, x) = \\frac{8d}{\\pi^2}\\cos(\\pi v t/L)\\sin(\\pi x/L)$,\n",
    "* $y_2(t, x) = 0$,\n",
    "* $y_3(t, x) = -\\frac{8d}{9\\pi^2}\\cos(3\\pi v t/L)\\sin(3\\pi x/L)$,\n",
    "* $y_4(t, x) = 0$,\n",
    "* $y_5(t, x) = \\frac{8d}{25\\pi^2}\\cos(5\\pi v t/L)\\sin(5\\pi x/L)$,\n",
    "* $y_6(t, x) = 0$,\n",
    "* ...\n",
    "\n",
    "We can easily plot the spectrum for the first few modes."
   ]
  },
  {
   "cell_type": "code",
   "execution_count": 16,
   "metadata": {
    "slideshow": {
     "slide_type": "skip"
    }
   },
   "outputs": [],
   "source": [
    "# Let's plot\n",
    "N = 8  # maximum number of modes we plot\n",
    "plt.figure()\n",
    "for n in range(N):\n",
    "    plt.plot([n+1]*2, [0, np.sin(0.5*(n+1)*np.pi)/(n+1)**2], 'o-', linewidth=5)\n",
    "plt.axis([0, N+0.5, -0.15, 1.1])\n",
    "plt.axhline(0., color='k')\n",
    "plt.xticks(range(1, N+1), \n",
    "          ['$\\omega_{0:1d}$'.format(n) for n in range(1, N+1)],\n",
    "          fontsize=ftsz)\n",
    "plt.xlabel('Vibration frequency ($\\omega_n = n\\pi v/L$)', fontsize=ftsz)\n",
    "plt.ylabel(r'Modal amplitude $\\alpha_n\\pi^2/(8d)$', fontsize=ftsz)\n",
    "plt.grid()\n",
    "plt.savefig('SpectrumPlucked.png', dpi=100)\n",
    "plt.close()"
   ]
  },
  {
   "cell_type": "markdown",
   "metadata": {
    "slideshow": {
     "slide_type": "subslide"
    }
   },
   "source": [
    "![Fig. 8: Spectrum for a plucked string](SpectrumPlucked.png)"
   ]
  },
  {
   "cell_type": "markdown",
   "metadata": {
    "slideshow": {
     "slide_type": "skip"
    }
   },
   "source": [
    "The amplitude of each mode decays fast with the mode number.\n",
    "This is because by plucking the string in the middle, we created a \"large-scale pattern\" whose Fourier series converges very fast.\n",
    "We can plot this to visualise better."
   ]
  },
  {
   "cell_type": "markdown",
   "metadata": {
    "slideshow": {
     "slide_type": "skip"
    }
   },
   "source": [
    "*Note: usually, a \"spectrum\" plots $|\\alpha_n|$, not $\\alpha_n$ as I did, as if the sign was included in the phase of $\\cos(\\omega_n t)$.*"
   ]
  },
  {
   "cell_type": "code",
   "execution_count": 26,
   "metadata": {
    "scrolled": false,
    "slideshow": {
     "slide_type": "skip"
    }
   },
   "outputs": [],
   "source": [
    "# I have to redefine the two quantities below because I used them as symbols in-between\n",
    "L = .33  # length of string: 33 cm\n",
    "x = np.linspace(0., L, 128)  # the x array\n",
    "\n",
    "mode = {}  # all modes stored in a dictionary\n",
    "y_approx = 0*x  # this will be the sum of thre first N modes\n",
    "y_init = 2*x/L  # the first part of the string; I will divide all y's by d\n",
    "y_init[x > 0.5*L] = 2. * (1 - x[x > 0.5*L]/L)  # the 2nd part\n",
    "\n",
    "fig = plt.figure()\n",
    "\n",
    "ff = 1  # frame number, or subplot number\n",
    "for m in range(N//2):\n",
    "    n = 2*m + 1\n",
    "    \n",
    "    mMax = 8/(n*np.pi)**2\n",
    "    mode[n] = mMax * np.sin(0.5*n*np.pi) * np.sin(n*np.pi*x/L)\n",
    "    y_approx += mode[n]\n",
    "    \n",
    "    axl = fig.add_subplot(len(range(N//2)), 2, ff)\n",
    "    axl.plot(x/L, mode[n])\n",
    "    axl.axis([0, 1., -mMax*1.1, mMax*1.1])\n",
    "    axl.ticklabel_format(axis='y', style='sci', scilimits=(-1, 1))\n",
    "    axl.set_ylabel(r'$N = {0:1d}$'.format(n))\n",
    "    axl.set_yticks([-mMax, 0., mMax])\n",
    "    axl.grid()\n",
    "    \n",
    "    axr = fig.add_subplot(len(range(N//2)), 2, ff+1)\n",
    "    axr.plot(x/L, y_approx, x/L, y_init, 'r--')\n",
    "    axr.axis([0, 1., 0., y_init.max()])\n",
    "    axr.set_yticks([0., 0.5, 1.])\n",
    "    axr.grid()\n",
    "    \n",
    "    if n == 1:\n",
    "        axl.set_title(r'$\\alpha_N\\sin(k_N x)$')\n",
    "        axr.set_title(r'$\\sum_{n=1}^N\\alpha_n\\sin(k_n x)$')\n",
    "    \n",
    "    if m == N//2-1:\n",
    "        axl.set_xlabel('$x/L$')\n",
    "        axr.set_xlabel('$x/L$')\n",
    "    else:\n",
    "        axl.set_xticklabels([])\n",
    "        axr.set_xticklabels([])\n",
    "    \n",
    "    ff += 2\n",
    "\n",
    "plt.tight_layout()\n",
    "plt.savefig(\"Modes1to4.png\", dpi=150)\n",
    "plt.close()"
   ]
  },
  {
   "cell_type": "markdown",
   "metadata": {
    "scrolled": false,
    "slideshow": {
     "slide_type": "subslide"
    }
   },
   "source": [
    "![Fig. 8:](Modes1to4.png)"
   ]
  },
  {
   "cell_type": "markdown",
   "metadata": {
    "slideshow": {
     "slide_type": "skip"
    }
   },
   "source": [
    "In the figure above, the left column shows each individual initial mode, and the right column shows their sum, up to the mode on the left.\n",
    "Notice how after three modes ($N = 5$), most of the pattern is captured, and adding the fourth mode ($n=7$) does not improve the solution that much.\n",
    "This is why this approach is feasible: because we usually don't need an infinite number of modes to obtain a satisfying approximation to the solution."
   ]
  },
  {
   "cell_type": "markdown",
   "metadata": {
    "slideshow": {
     "slide_type": "skip"
    }
   },
   "source": [
    "Solving for the initial conditions means that we solved the problem at all times, as the animation below shows."
   ]
  },
  {
   "cell_type": "code",
   "execution_count": 27,
   "metadata": {
    "slideshow": {
     "slide_type": "skip"
    }
   },
   "outputs": [],
   "source": [
    "# Various quantities\n",
    "t_end = 2.*np.pi/(omega[0]) # time array spans one fundamental frequency\n",
    "n_frames = 100  # number of frames for animation\n",
    "time = np.linspace(0., t_end, n_frames)  # time array\n",
    "\n",
    "imagelist = []  # list of frames to eventually animate\n",
    "\n",
    "# Animation\n",
    "fig = plt.figure()\n",
    "ax = plt.gca()\n",
    "ax.set_xlim([0., 1.])\n",
    "ax.set_ylim([-1., N//2+0.5])\n",
    "ax.set_xlabel('$x/L$', fontsize=ftsz)\n",
    "ax.set_yticks(range(0, N//2+1))\n",
    "ax.set_yticklabels(['$tot$', '1', '3', '5', '7'])\n",
    "ax.set_ylabel('$y_n(t, x)/d + \\mathrm{ mode\\ number}\\ n$', fontsize=ftsz)\n",
    "ax.grid()\n",
    "\n",
    "k = [n*k0 for n in range(1, N+1)]  # the list of k's\n",
    "omega = [n*k0*v for n in range(1, N+1)]  # the list of k's\n",
    "\n",
    "x_positions = np.tile(x, (N//2+1, 1))/L  # replicate the x array N/2+1 times\n",
    "for t in time: # We loop over time to animate the modes\n",
    "    y_modes = 0*x_positions  # nx positions for N modes\n",
    "    for m in range(N//2):\n",
    "        n = 2*m + 1\n",
    "        y_modes[m, :] = 1 + m + mode[n]*np.cos(omega[n]*t)\n",
    "        y_modes[N//2, :] += y_modes[m, :] - 1 - m\n",
    "\n",
    "    im = plt.scatter(x_positions, y_modes, c=y_modes, cmap='copper')\n",
    "    imagelist.append([im])\n",
    "\n",
    "# Creation of the animation\n",
    "ani = animation.ArtistAnimation(fig, imagelist, interval=40, blit=True, repeat_delay=80)\n",
    "plt.close()"
   ]
  },
  {
   "cell_type": "code",
   "execution_count": 28,
   "metadata": {
    "scrolled": false,
    "slideshow": {
     "slide_type": "subslide"
    }
   },
   "outputs": [
    {
     "data": {
      "text/html": [
       "<video width=\"432\" height=\"288\" controls autoplay loop>\n",
       "  <source type=\"video/mp4\" src=\"data:video/mp4;base64,AAAAHGZ0eXBNNFYgAAACAGlzb21pc28yYXZjMQAAAAhmcmVlAAFeV21kYXQAAAKuBgX//6rcRem9\n",
       "5tlIt5Ys2CDZI+7veDI2NCAtIGNvcmUgMTUyIHIyODU0IGU5YTU5MDMgLSBILjI2NC9NUEVHLTQg\n",
       "QVZDIGNvZGVjIC0gQ29weWxlZnQgMjAwMy0yMDE3IC0gaHR0cDovL3d3dy52aWRlb2xhbi5vcmcv\n",
       "eDI2NC5odG1sIC0gb3B0aW9uczogY2FiYWM9MSByZWY9MyBkZWJsb2NrPTE6MDowIGFuYWx5c2U9\n",
       "MHgzOjB4MTEzIG1lPWhleCBzdWJtZT03IHBzeT0xIHBzeV9yZD0xLjAwOjAuMDAgbWl4ZWRfcmVm\n",
       "PTEgbWVfcmFuZ2U9MTYgY2hyb21hX21lPTEgdHJlbGxpcz0xIDh4OGRjdD0xIGNxbT0wIGRlYWR6\n",
       "b25lPTIxLDExIGZhc3RfcHNraXA9MSBjaHJvbWFfcXBfb2Zmc2V0PS0yIHRocmVhZHM9OSBsb29r\n",
       "YWhlYWRfdGhyZWFkcz0xIHNsaWNlZF90aHJlYWRzPTAgbnI9MCBkZWNpbWF0ZT0xIGludGVybGFj\n",
       "ZWQ9MCBibHVyYXlfY29tcGF0PTAgY29uc3RyYWluZWRfaW50cmE9MCBiZnJhbWVzPTMgYl9weXJh\n",
       "bWlkPTIgYl9hZGFwdD0xIGJfYmlhcz0wIGRpcmVjdD0xIHdlaWdodGI9MSBvcGVuX2dvcD0wIHdl\n",
       "aWdodHA9MiBrZXlpbnQ9MjUwIGtleWludF9taW49MjUgc2NlbmVjdXQ9NDAgaW50cmFfcmVmcmVz\n",
       "aD0wIHJjX2xvb2thaGVhZD00MCByYz1jcmYgbWJ0cmVlPTEgY3JmPTIzLjAgcWNvbXA9MC42MCBx\n",
       "cG1pbj0wIHFwbWF4PTY5IHFwc3RlcD00IGlwX3JhdGlvPTEuNDAgYXE9MToxLjAwAIAAABbyZYiE\n",
       "ADf//vbw/gU2O5jQlxHN6J0zH78VuLo0N73OAAADAAA33OZE/sqTBubAAALo8fpH37/mAZ09Sct8\n",
       "jMgUwaxZ4USOFRdrKKwddCbeWxkMAquZvcegsIDC6fNJgkqPis2FjjBigho7+rBGCC0TLk3Mo6ql\n",
       "dnWWt6N5rx2Hi4XEv++AqZPAJ2rtZKFsxoZu5fTdn0+TKLXtaKk6DuEHI5t4O+hFTffCXZ8Er65n\n",
       "0vPHxa/B7+6yyqOCizS8wTpSMyyHh9tc0XidqgZyyLLXv5FmNDTnvYybVo1ORQQ+Yl7Gt3n9ZAH6\n",
       "VQNNV0I8s1mxzWNrrKGBdg7rEFUP+84jXv8sk0FR6Lb11G+ieZbCFz9eArNe++rnhCk7KSCoIn53\n",
       "Fc9rF72pTy+wcqC+3n9fSLhgDDNRbzVXg2k8wt1pHMMj8COGxQE0w/oICVO06vMBs1kJgcsjTc7+\n",
       "59aEXCAOBdqTlh/m0XE7kPS2HEXGDaytibN+vAqP65tpnpZ5aSnvg+cnCXPFYndEKXRuVQyXVU/f\n",
       "twpTmN6XS2nfvE2O0OSl4kjqTgUxrG5rEcyOAXSUwMrFaY4emF5Un2qeB7ce6jE5LuqOuqn0pRUe\n",
       "HvMkoJlItSCQl1ezF7CETTolmXlAER29st6hHCE+wPr7UkS66kxXZhdqNv5XooS4uIdX4KwMUSvm\n",
       "BbuW/6VFidNw8BAVuKZR2Su7GYyOXdBnGT7SxUKkWX7/x6A9ahlHyCdvywq/rTAfbaQj6XnDoPiU\n",
       "C7UGtqQPWoT95300SrWHUvpX5uQey3L5ag7lp/pRRFWj8uIapfmzV7MdkZPb9+kVpxdHTz40Ul1g\n",
       "mcfLnm8OOI79HHyNTkeCWFG9IveACx5xT1qzlGFzilpOiI3W+bHY0A3/xHJzhdZXzHnw1UZST/J3\n",
       "gRIpw4P8FJJulTVI/msZgimJsXuO+sLCG/7rYx5w8LJYCvV8z9FrrMF6DLdPiVLBDCvh7xuN9I9p\n",
       "uDHplXiEAT6z0MkjE/U/s1lk8T+H6w0d/NN8SkR8AePFoZPG3u84FDnPEbz4vaZ05xgEk1h7uuAF\n",
       "WhpBJ67WQR8xw3Xryg+lBDGZC9eOgj+J+OGZhAjMK13H+enVuQpggUZWdsoKO219h9ms5nCBqxYe\n",
       "BZ6kQhrsVK9Pyp0cpPBmpGQoxJ70YAOg/74SIR6gHy7I19I2VOmv8wJ9IVWuYN0GeXKvYYLd/dwc\n",
       "b5eaDTAiFuCkpdlFi2Lu1HSTbnv1cvmcNWA7sHZDv0OzoQXtuVGQ4WWWezq8BVGu7l4HowEB4jIL\n",
       "FnVKkhckCqLYw/hGWlif3lNBT/4SYcsPCbOPz/lRTX62mlsh5Gd95/xSzj96sk+NxAfoYAl0LeGs\n",
       "pfLxy4W5d5nAqGKS55tbQ2km8u+Tv2PinZHm4Dd1hEroxQGEV5q/CVT0noX+WmvhnE0A9qnuvsGi\n",
       "WqqJBwo1xkwTk+/qxx09OViBw6UCHoROdblVLQ/J+69qLCE2drCrnvXl5UzArLgCtO54kslXnWvo\n",
       "g1fLOKM7g/0jCzEdkBpCH0DeDwTdJTHL1ixP++ai0yQRss4gKiLx+xLuwdn8QVO5fUg2zeQh5YIN\n",
       "GJdn6FhThU0WSUYVX8jLl+S6dbkk+phmDNnRTYGihACit/d+Deh0PBjmrxmwgpbQbpHuVjA0QBpd\n",
       "2PZ4TgyMiABbTekshJCuoxNP3sq1lhIQm8o5ZGYw7RCIZc2EEHxbTmc6lPW5jtO7Mf3sLqK+Q7a5\n",
       "cUWoaE2TDIsof3D0k3rIArx0cltu24niKKkODqSZAWALDiwHjSGJQ89gR/jMBf2sUCAFv/HveS8y\n",
       "VfbEyBtAiYWoXSnhSaEG+QdU2wvWS3lGvu19IdzzjdxbPgW3RD/bpN5KXHO8Wz4BEVPeX+dhF9pc\n",
       "IJP3B2ksqpjXT3y0LAJyu2U3q3H/o0+yoEktkkX7UcWd0AJ7jhE4eSQkyPQ7YSf74G/jNxm95AMk\n",
       "G8KDQqehhL1FgMdx2nfDHJwac/g0TirdPaqCVfH0CNf6zGdpntTXDpLoGRMDyStrcR/Cf3QpNO3I\n",
       "5cm6c7H3pXrpDnr6Tmme4Xhv9RMgJF+3w79GTajqUMBFfVyz5v+PtmZC606p0y+Zc/OrrcpRahKt\n",
       "BLmSiApHGyYqcaMn5EoxxaXhE+/Oy12oQzeQxAnMK/joct2Q8EDTd7LpLEETy9xWFKTBupYzXlBH\n",
       "EDBvUzQhZSCK7K/fC+IWMvB4oZoRZs40hJYWVtaXrf8Z+9RTjNsr0tKkTPO6iJXyfwnZDA0bkx1f\n",
       "Y22jgrYHSgWY0hRs/ssaJKWrqSs0269Ru+54Gd+zftVQwsolCoUaEEhCJkfDYaHSuf7UC/cBVGhd\n",
       "3i9xVecuSn+kXzAJiQj7WNLFDfog5LgQOP6y64XmWiN8mGr7YnvEmFJvk79sQ3eerDmfvgF4kxxN\n",
       "mWTWrAGJfCvpXHEonIFaTX8WAXvXydo9lqMNfLMczt0Up9Ma6vRE18Tk64Wooulep0Vb6Ne4PhSX\n",
       "0Ff7YqyVcBLi4HkvDEzhb/j0t+hqgXnrp786/A7G1CUXpKHsRQanuPlkYxmykgtxAqTLp6lFPpBE\n",
       "pfWfOp8DAgh0LVgS4aLQglmlDptxcgn4zOwDx5ef0aKmqYp58gZM2AYBzHwkOyuFpQs2sIQPkh0U\n",
       "x7cgmN0q278HH3HgpBJOXZVkEI/rw01Z+NO24Wp+rPaWoEnwxA1sCeJ9S0XkDOKoZtg/5HiDKu6X\n",
       "AGNH1K61zBzqZA8lTMNPILCf1cZJRd5WlbSPa/ulcB20zfAQBKPkyoYmsOvmMbsk5Chx+ZVJ8Jcg\n",
       "br5MgaPg/fIB+ffHgu5HMwseoueuW5OCKL98ZDWErFnsGZV7Afo4qO1u9i9L74IIkCPOJyzCebTd\n",
       "LDs5wgZZ/t47IqxQ+NnAC8zQtahi1++QdQXszf/Z1pUyLAnLxVML3EoQoJBGD5joKV+7yF/dzaEP\n",
       "Im9pp3DCAMYQldyewQkpwPxzm0rowocUaqkj5IkEe6P2/s/Ee0Q+oOAkomDYGQhYlKWoogzBqET3\n",
       "UZ2AN0yyXaG7gVdDze6Opp4dj62I911VI5QCIe3n+4xqjXCb/6yfs+z/+QDFhpTR3phqXRUoY+VS\n",
       "sbmTVdWWU5uv4Pc9LrvP/YFKJWjHlgzPGlLC0Ekis7B9TcX8+1eBNvE4PrQ2O+o2ZNsjknyGf3/6\n",
       "i6MO5PP+PpliVxtY2zPFy2v77r40WhO4xPtZVRMTn4I4y68RbsjrAdiWhlAa8ti0CWSKMhsSXNvl\n",
       "mLWAG3BZ+0q1NpWw5oIITd+FFuYyJwY1cy+OKsofVgM2YLTjxLjg/aFYr3tcPlGULYBm2xwHfJyi\n",
       "5dDCoC2TPa3HVugq6tEm2Zo3YBuu4SgjoA7+5pG2CUuRPiVe4HHhjdOqumQYDV5VHsk92ZkgI1tW\n",
       "bn4Izzc7FuR/JJkAKcEDQljF3lcpRgNhGppxu9eIOJXwHaL7jcLA4299opxFu1cYrjtTYgvQZEsF\n",
       "Xvs2fs8mgYR69ny7SPxRmZdSwOXv9TeNIGLHTYtPczyMvHSrGJNtGNxqQKc9sDRniOtjZLS5T8Ur\n",
       "MwVnsD45q4d23Ewl3TlsUvUiRnOjtY3DfvfOl1QN9545dFh0LzeJOxz5lSgnE5yJpFmxH28eVSZD\n",
       "PI+lD3Mut7IKE3vuDvlooxHDYUUgHvDOX9UUWrSVa9chCHm7baJsjmDkt97D2LZ9UwDrH+tSHXJP\n",
       "icHgwjaNkshOWmXtfsAAG4NjE3sj0WaBO4Lrgib8JXhEQf4JAHDmdC+20jKkQdvt226qKkEmHrnG\n",
       "YLFIMZcBZOC0glWOjY3k98xq+mV/JjqQvcPVUYhYEmnd7CMjyiamz4SQtF9REUe01XMO7ja6P/0Y\n",
       "HSKjKWyyPXIZZMQ0TW3W4BaeY4hCDNrbt5KTdpuB4DqF4+uVLpdJujqhVqg/MMES6SB1clEP3tup\n",
       "NjqcnRw3kZvQQ9Fkw3eWwe7Qe0bbQQAkfr32Pa88GFS/BgBOWmu4ugFwPcAUGpFDlJ6oFBQwokb2\n",
       "49yCYQECq2miTXpfKNKIG/plKsT9/LEVj+U3qFCLgkn5pCH3rM3DL7n/0CW9b6MstJe+J5O7ke7a\n",
       "3P49130rd27eEEB/SY8ylVvBAFPCKr/nBMa/ryHmKaBM6e6+x6nWB9117BSkodCDGmALl0ML44Jc\n",
       "q2COWZd7aBDXE18GmfrUkgBv/9XW30FHDP/8a+h+iU3vnDURnb21+mF6KcoNlc+xQyO9GypMBTcS\n",
       "garqj8BXkyyK7Zb8w4Cx1kzmOJVwyUWYhDx3vPYgunHumM5X8ATSWDJDTpzvcyzGC+pKAjY6mDYZ\n",
       "BctqaiaFggZmtyBkDELFfwgARmcb97K2ubm2vPFmX1/n0hVaI60R8bXskFnkVuWA3hu0DPX7YZNU\n",
       "Wo7AYHRn5THMYIRYCv21K/D84TUBDdtqjZcW1h8Tx6bNRt1WMhoJR0OS8T+5JMKWD9Y0wQXexMVV\n",
       "lh/M1Gl8c2ZEA61YefOPorDDtqYnqB+7kVdbf7OM4homVijILGheZXXYwZnDVD04e9PJkOPNOWND\n",
       "zWzquguP3FKUD5Bflzah3rVdkC2BdfkNt7lRI1ywo5jFzur2QmoTRiw/opdn4CyWZSN/iARfYdo7\n",
       "zLYiXOx2Gxt/pA8ZutMrM+XaZx6D8Rf9vorQChN0zC7JLC0JtZlpUF0B8uiB85kswrk/MDLeSQl2\n",
       "DxT0X97LBDDvjsTbRfADtUW17V4o42BRIEE7hopQJyBvKaCjxAMIyS3LaA4wAM7YhCSezy5xHd6Z\n",
       "gE9mZpa2aXI0X5ihfh3kpW1qXkJ606tq+F8/EfzTrxKVO/AFwqlIHPuAMaenTHN5lLxRxaY5f66E\n",
       "KqzYEVaZv0OvsQngIR8+IED6Yp02GkxVB1UGrSu2EonmBrSRveL5TK7ti+vNQ+Tdrrq2hecuw2g3\n",
       "tbNDwkk2KX6/pKPtph8Hc6WxNIY2haSWN/gknde/8iUYnmlGELeBi9rxLaojVYZVCdZbswo2K0E8\n",
       "txYSwoHUcSo78qesqUi1AR7XFVy9JgbhIpaZwlgTZmpeK294jqpfWNJV90A0ivPB+PLmy7GQAUjB\n",
       "y/5BWu2NfQg6ZIwogFLsN7d2nwfv3HvYyl9URcuR9uDoIvcJWlkGgr/aGEZ1zmINuje4MonnAD2u\n",
       "4LyLqCxJ7SdL6bq/oeWD9Xma6Xewlye4aFtNnKRanGqtxMBhE6kF1dD5gD/9r1EBcaQ2p6IwSFHR\n",
       "GzISZITF2s4VRgrSvGXets3Psf9Gq3YXHu/0m6xEAbBVCVK7HpQmHmfTEgUW//1LS0gEHAyLJeGD\n",
       "pmFrWZLxuBv+uVpMq3HFZkIeDWBfTQlrV58tTjhG4zc6nubvusf6vrxK0wO2MqO5PaG+5SN1CDk9\n",
       "zlxGphF+vGY4z/el1rdf9xkvyhdupuXEr6+6cVzAo2cLp5KpZFFXHXr7zRKHXFaLUJrAaaQqfMML\n",
       "ayYT6dWy/vL1lEhEEZTr/gcljFhWgSw5Gi8bP4kZaPJKDmjUmX9oEd24IJ0SIcStbN9C539G7vDT\n",
       "V5/TxX/xFQ7T20LGoo0qPwPUskgdWYaMXSkJe5JqOxiLciiT8Tkudtv89Q+Ogi6kg4g6lYwVAAQa\n",
       "f9MHPV55SJl/DBfdkGsZ/eY8rY9VWaR9JPysmtQ6QIVWz+0cZkNMGbg5Pudl0WlroF7TA8j3bqnt\n",
       "h0C516nUoojS6wagU7c77gCjTgcxpsBLOsCsusXx7vaYZhOdLRo15imDLgaY+btYJAEdgR41btkn\n",
       "W3dEb6oZKcEktlRFXpWNZyMR8pbjbzj9SL9hpnVtRW6LV4SSS1U/zI/7AdiT2JCWQyAi1uoH2Epy\n",
       "XF382yGMEcZYGSuUpCTqr7zx7nTf8NhMr1N/agSxc/z7Za1VpVeTRsX64sPYGgJ9FxqnimLo3ZTB\n",
       "wUxH8c4lrZP/Pi6QryhnCo6cZhrSS+2cZwDyf9PGcaP0JhuVA9OLXTpkamOni4F27zA85cw4Jqg6\n",
       "IdAnxE+Xrdl++a0GVbOEBIJzMLu4mWqSvhVmxZiZ1Zu3qCFUGDNQxNU8glg2pF1o7loEf7wRoTNz\n",
       "bH8T30PG1096xCD0OOTsVI9qXAUVr3iSLyUh++dKlheXZFlMzCV3Nt+/Bxs3cHiamLwdy1c2XCu1\n",
       "J5qMP49BH0iLzb3C5nQ4T7N+bdR8r5adSC/Sx6v8jaGyp8y970G/XgcRgxnVHAvBI+d97bAR4zB9\n",
       "vegBGEsXfu72ujhgWdulytuNlQP5vkpu9k5CbRzIxhqEoOVzJAAiP96Wrnl+crxGg/3+ThR6d7mb\n",
       "VU2Jnh7zlZ/ki9cOpNHUfp+F4cUbOiUR0zQIhiKOIVeHtsar7e6lxnmrdmDbWl5I36nqfsrgTKRt\n",
       "Nbq1AplFgyWbFLW4eMHzdIzcarYbaS/YZTdvNxrUKc7PuJ6OMmDM1e4WZ77D32paiRfP83FoSgUp\n",
       "1MrmKnzb1M8y1iuU1asp0E78GUid6GesU8GomWCTAB3MM+bDeFjhZCr71ws7DdARAX27uJ2ElXdm\n",
       "N/wbxQkNYxcbUHpgjkGWfDQ9Q3Ac5pSXHVDm/+CJWH7bcRTCrOpXq2iq6/wBRVctHZKhviC6IPw1\n",
       "CXVf0qzq1l7/Zpy28No7ECS01s1jR45rO36DDWS63MP9dWE7J9NRI4YL7KKUUsv1d3viOCre+Kyb\n",
       "3JSPTSWz3JFh41C/uXXgzEyZ710Fx1wz791byxH/Ofq4InfrjZaryjsv/zcI8CImN6QOPU9HlYnZ\n",
       "A83iXjNHUV0snZ5MLG5hoaY+VrUw2TDxQ1ehCXpCyIugfC3EldSAlKVM4afhAIe35m8EgQasgEUn\n",
       "/toJHJPhB9XUcbinQ9HVNkcEY9oNUJ3DkrTBIRDzFkUFi4KRGx6UsrI2ALJNf+NkUPq97F5DJGdo\n",
       "tYxxuVnw5WpcjPYO9j62xR/pflVrnCh/ZyQYAnlQ8PB4U40g0hvHg8Hq4K2yoGSSJ02oehBxjzAC\n",
       "zdWMzjymHFkM9ic2JXTrQ7Grg9vUrcBIP2RNQ2eYG/OQ7wjGtbX6ijaRq0cMt9/wWZgrxeHa5l8x\n",
       "Sp6Syqkz2wXUu/yMNAM/nCqCYuAuNDdDvqIjQzqROnvmTVCuMk9eLHEat4Pn1/XiAp3Vr2G7XgDx\n",
       "kmgD28qVzFRSuEgqpRmZS6uH1ASd2W3S2zXTIKq6VNklfJItXE8m/ooJ3zYrhxFNKKsd1ZwQr7W3\n",
       "g9fjRT+cJvDKhLpa4wp3ODyAmJerB6QAyUEPdUSY/0GG8sarVIuOEPNnYPvKFsMSay9XlY0Ff5Ml\n",
       "Wo2DFBXG0BGoIvP7Mf7PQUwrfNGBFLAPTUFz5f1LXqg8MqJ7PPSyh4rwsjz9gARYVN6w48PxdO1/\n",
       "sguWvKIKpODN7t+yS5lkTBKOVrYco3zC/AlfPmjBjFSCt8Zob++sJ/vK2MjcM9Tq/cG9noMhn3zf\n",
       "/y/yGJhXsLvlQcfss7Qmsp+P49EwPAOYc7aQfjm5Ldmrx1floeKofShA3jsznHfqK+CKr5fegcuW\n",
       "VmYz5n5j/bb5bhq3UxlKpv3z0+/7OOZhhO/HA9U3b5Z8XgxV66ob6EEzPvEhobveLXhS5zx53/84\n",
       "O/Su0YOyDGWJORG+K+szJgD+DzFZOTGlXouGyhAcuobB1tHKJWihTINfMfvkGI66A2/fgl9BjAnl\n",
       "i4NaTA7n+P2mNQb4ZeHeZPOARY61VSeDygBVYuiF9DUb0dSFKzuJ/LMxcmMmW/Aer1yEEaUSbzAA\n",
       "QvIsLzoWQigEMdEsGxLUo48gRo0AfdXnFy3ccDHIpUcLZJwrcNqhxLwu8SIKbDSOqhaoqYjNsAhJ\n",
       "AAACu0GaIWxDv/6plgC8KG4AhHDbtaDWsDt0UHpC/gIp4l+/9/l79itCneIh7XVnI+dOK3fUjwoh\n",
       "ro+Y+Tvcz0aRjp6u8ZNbOhw6QfnCA7EkiEwO19mODdrufveGJE0uQ01LrlfP3+U6BiTDH5BxBijb\n",
       "+00W3doEqepJ8HRo9bRp75vAFoklMMsYXGsutV4PlvboY5ukOzbgCLbEQoITpDe03mDmOKfwZeR1\n",
       "bLXI8L9eCHe5+8Nf1vna+kPIsm4XzQHooxcnTNGhxPmT5RRAdixEKo9Wt9rPvkc28OruOWw8LpEK\n",
       "+HkR7T7GWYxjYBoAeiSl2tZHnTVY4L/itnf8vFmPulHQ3FYgyfjcfX8qKlUgwy+PC5QlKVQYpwD6\n",
       "D5Ndau0/57fXW/xspdC0SbLoVHb/eE62TmAZnxy/VmKjY5vhKLtcqnR88ChmUK66GiSYFD1cXXjQ\n",
       "rJm4Dx2a8CC4hn90Gk320sxshTUwJUUQKXTRzGYQWbtTRZg3CYibgMqphI5Ce7WTmYTCPeGqm/Te\n",
       "R1kOI2mG24TmG6viUW4VD0mCUxZjt71jeoLRB2M8sy+IcvNdIyFqyGlW+SHgpljpfDcM8HQjH4S3\n",
       "3j8NWjNT+VtyxQpahIiWqzoz//J3/Ns8JzjtqJlJtGbLFabpD9vBKbgYuMr8AVgd74Sr/edV9dT6\n",
       "n4o71ph4V2/i8nUYrQgjJPxbq6kvREAVGV+alDcPsxpnH5ADmH/FuXJw42xNel6nKpghAzXh0rVi\n",
       "aRggorLj6LiuZhiXO8Ntl2c4E6n++i/1Tw5dPkJrV+SJg2YdhbsY5C60ZOw8YwMt3L0vkC/SrZKJ\n",
       "6DIA5L7I8CPlml0KeBuWfzj90Esgoo2SQTsZLsZNJpEDLt4akQJGfnpjWfRxoaWck7a8pmGQxMfD\n",
       "ZY/u3MQkvgGHq/BXl7Ft5ugDegAABl9BmkU8IZMphDf//qeEAVAIBpaCqhQQj7FGEGI/DsE4TANT\n",
       "xM/9/J/vHDs6qatf5zUrM4xxcyczpn1JprPmDP/IgCA0rIC/h8iMDo3ryMwWx7UcBFj+hvhWKqjI\n",
       "1A0fd6eWKS2TkSAoGq9X9sxrWJ5519L/7s+lX0crfcg95CtZ3JFYYuyFLw+PyRdV72QMsHKuFr7X\n",
       "vMyNamyfzx16tha/rIDjvw0gcd7M36ZfoqRneHx2UdwOGBmXGyCUwyxxARra/uH6GOeZ6JGQxAk1\n",
       "weCSdP7sFWlLOPbj66lHwv0qAUYWEaRQjbx1PjDf/aI2AleGxqLtW4D815qZ33dFMuIF9rAXqPtF\n",
       "WxxEOOmYfTEhcnyHw/0OlyP3n957F2e8EBddnhXAy7FFzZKTQRtEabj3vidi4UFoySiKC5tcowub\n",
       "BZ8ZbJJV3ByQQbIfpdvJD3FBpsGzPgkHy/LmhEAgF3CtGdnGIs+EDEu4zacVKAfj/b4e8TG120be\n",
       "vp8P3VUW1lsY094plL8Md5bfsko5OgwG4MQWMUgl7/TU5IXbnunq9RDT4WrDVPa+wyUKj79w2Wbh\n",
       "kAkoWeRYb2ZhW9eXatiPIoQmr5/hRDAf+grc18Le4eNur4u+lXfXMsDrZ5ibhUwUDUARPVOnnT7w\n",
       "GSAOfkgJm4DaUJEDEPeGGlkI7fApKWWoOHD927uHg4iWOE6VqoQAWW7c65Zc0yIZaBySpHw3H+4/\n",
       "fZsbA1PsenEwtW4FR9lVWhz/AeMUIl3BdbUK09uZcxI+vhpoR2Q2u8n33HBAs4fbrvKKIXe30wAb\n",
       "fiRyahLqXGXRfs08IBPW88eTFrGSKzytLXm/1JYa3+fk5XFRpZlSoo/PXNpY4WI9T7OnlJVksZ92\n",
       "6OgIInAUjT5IMVHQzqYyjtZeCY1qqqSgaV0MX08DCL3rSvEnTxYKmHQ6fajSvGZrII59SoRcwPHF\n",
       "A0T+LblD7iPwgzlPFNas7/0FlBzwo7rSDNlM0BbqAt3nQgPt6KNtZfyMelhqAF7Bb4HY5eB7P1qk\n",
       "Ss9zIrhSzcFHCV+r6efNkf3LbBeKn4Ri5PQAxbt+Qw4XHMK9wdqpQcxTJO5xL3yae+2tOCpRmXPT\n",
       "oiZFj/5ggG3O4Yx/E8RRs1+d0NOwmC3N18MwW+AL4+R3OadvzCarrGQJwbV43NuCrZ049+yL0SpB\n",
       "lJNl0lkgEfZfdy4hmBgRM52AtbKO1LgRSUrLe5cxJuNs3L+1p4fz4nAAXY+lcjNPqXaep01FC0YK\n",
       "rCb3ncUWxbNCCWGDGjwvPpl1EY4eCAOl7fKKPgMC9M4xS45vr+LHuaD31gvJB0C3lWb4in1aN5z4\n",
       "YHIvnMFuB+zs7A17qaiD8C4hthh+4zPqYiP6wf3glrRS+LyptbEvzAPbqpqH62OCxkJHYBywPXxp\n",
       "yE8eP6aAJI0+41v6zvGszCYiEo0qm5Om9KYoHZS8AZUAl1ssFffPMRlCuSNSEtLsRswxxZTZLwET\n",
       "HLozGG3dUUhSaFmC1j+1X24DpijHd+MUvGb6nGQjF51jqV5dDTVFTfy+sO6YteTXeaf8DO12bbNh\n",
       "Lj1GY40r7uIzjvPaFS8L+kAX7CNzfzcaO/50rs1OC875SGziE1DKGB2A+X+m8CRrZJM2BRCCh98p\n",
       "27KzcALyCH/lUfQeBXVxyavTzFxqMNErr4iZ+8Louw2fn9/neuVkMFHsqQKtvH8YT5A/I1jHPJyz\n",
       "5FChdDV4oe099shwesXLyUBQXL/kY3XFTEw0w+xPdyCTHtbsVbzjc5RTgl2q8GBGBxg/13HyFDkP\n",
       "i44zrvtcxPO9E97+5FtiZwrrQm6xFhjzmTi37FzAPzK7EVKHpy0Wv7bTKiuw0BC2C2afP/3qAAMN\n",
       "ayjoDG/Mhn7muXfyqyWp4EJGyNlNX8Lu9AJMVMRrd08L9xRY9ZB+55nTqNb7X7e6nq7ByACmiP0C\n",
       "pT2BznkP8uiw+IS02O5fRIwjLUp+I0uNnr2+XV7K+RXMZokOrJX8vyvrGz/RkgC+AIyCg8pHhgs8\n",
       "rMRbm6Vr+XbQk/639mDZBxKS0L7c+uM1mH3WIFnFJzwc/SOjtD7sUM4eUOMWEGUtgtHdIGiMw025\n",
       "VTaoBYV+YLbTz3UY6hp00GMk2Pa2amkfFRM8cjKhSB61EXc8W6adeZXD3L2/MrfkJ3tdtRUeTdo0\n",
       "kQAAAy9BnmNqU8L/AbJIrqYomLNlTBkfdkIAJEqKrxTYs8kFTz6AFosniKn6v45Yvc9QmlJ10tHR\n",
       "oayc2PEwifP4xxqYSuRN5R5Wldwyc1CGGNP3l4tff/djG6un3kUPzHVONtAu5nAKIHYw1zuwaguF\n",
       "sZvzoUIsyEvjoNa+i9lMWCh8fb5/HLPi99WFebvzfmIY5jzjoCcldDbjEHtcH/gbcTyOm/F68E1W\n",
       "mqSdj88yeO/mS136EKF1BTMbbZd88gxSy8gTkZw2cPDGrWsGs0rtx6jMaT3R8T8igu0z0QrQuTTV\n",
       "GfDmOuoXByb626h/oYX0Gvr4wqXaZX8iOs/89rKiZsYoGPetfGDftovrjLhPplCPbsgsUc4NHlFM\n",
       "Kczb0EAqovzevkGnaGpiJrfYM/2OLVbR80j2mfbbIvYCSboeA2n/NbQzRSs6OoAlMH6QyRhGGLeJ\n",
       "IxLxIbrMxeRGtXVboOy34rsAxeodWx/destgiJGOsYrEQUMAST38wqb76ZGcbGkw0644+o4+D6F/\n",
       "jfFsMpC3H7Oq9vHOSMHrXi9XCbtAjPkAYAPlw8wTQwtD+2Q0lElFrFS6SdvGRrO7Cxq1HhAZxdRW\n",
       "Eza9J2GDYa+QiOcF3yXT57SUXhthDyhdmcyKmIW71wXPdr1+JKML6BFrc6UXw9HSMFTp8bA5XyvR\n",
       "sjOUQfAhDF1yi/dZnBO1BZc7FWG7pmDONwWBH3MojXvYh/nbSvZoHaRN5z6l0IbkI5p4fsT2kMg+\n",
       "0nT6VvcPXSlblc8snd72BTTWTDRjQY1vCqy2XYDOAcB2lPpf44+EHFfJ6RlF8R/SFYiQEzEyBvpZ\n",
       "cQWjhhunPCZe9fiEzWD8P4IBKXAJjBpYdlDRdBCLUgs8JM+ugPNmDc4ZbGA6wgt7gq5Czu05rHHF\n",
       "1e/tedjZLdLCX9RAq669qPLvLWs/0byuZsOFJbkMW5/ltcvzSZgV0E1aDK3AF37EjZF1C6N0hwSN\n",
       "NustzInHC/IorkbToDu2CqYYaaKnJWSyJLjZ48ljfXN18nO8zSCzB+5mOmK/ow+XWXicER/suKJ4\n",
       "J8LC3TH0QpNw9TJxlLiXxEOfm7mE4AAAAVoBnoJ0Qr8A/rP4//ETPZjWRbdQKN+c63bS3jgveF3O\n",
       "LZs3IzZyVQ+P843DqWSoKvWeVJF0+WNyv3ntuxEAITL7FiZykgl4EMSuca3SQtl2x64SZNvGDj7l\n",
       "NvNPOX4fUF2grLlxogRkgaXf+k9KXJHfSXxl448JYDSwoung/Wy1ImK3xbCLar03FCZfNS6EJxLa\n",
       "yqiUp1VevH54shE6Z55j7ufhemSCx9R5gpD0H8poyuuEIVZDDZbi3ozqwU7SuJZUCxFprtLRSs7t\n",
       "2+npbNiq1qgJA/2UkWhhgrSZnKvz7xuUBDQAeMzNMjlFD7oCr5Ao2XQSfq14iPtqzmjVIoJKxmID\n",
       "+AsAQPENrPaKnLsE/PFoh09MSMGfhtk+5iD2OeSHB8fULwKJUaRZGZymX13XNLYmwOHU/ht75JXl\n",
       "0YxrHw0izjYIJv4b2+ethfzxifLDIkUD1fcOT993AAABkQGehGpCvwDnskqIBk7zgrZg5icSo/X+\n",
       "XxMFshTzTO2eNj/1VQS87+bopkgY6U7SWaBZnaCqE8HUawoAHPpH47PWy7H/ZRNKcT+xsgBBHUAy\n",
       "3PkZxTiV2tckl7VqmtMaa2MlHSjutJUuO1JmU8FvxFhK5xhjswMl8Elfqf1xiZABjOrHHdqDXSx8\n",
       "UW7sdUWf6YFGZyOIFugoFxBpfHA+v+fft/d1svfZ1kvQiAcP8Wk2Z48MyHiu1k5T4l2M1vv5DxXv\n",
       "r5edUtsocu1+N7ffvcP9nUOTUTgP8fKrWYY75WmwAAxtsR8HUORaXXCzgQwNTctDuBCM5TIDalg4\n",
       "UEt1STk9lOVgyWtnaQysqzwC7BYQdWRqY0sqanqdO5N7irtmLuqvxYKuu5dwlIjMThWo6u+0FD4h\n",
       "vGmm8JX5kE94q2klt5hgsCa0yBi9CUCaF6qsCVFkQLzO1WpCBc5CY0ivIqAnekRgVj0aitqmnUn7\n",
       "n0UlNewn6TF2zEQLaJhk8V79BnzSSY3HP4OlNypGPGxrXrQFAAAFU0Gah0moQWiZTBTw3/6nhAEc\n",
       "UkmgBg2J95Yh+eWttHldVzoZ9MS3N1tHRY/Da/FrNJmaIhZCB+0036VZIbPtIzrNHw9CsVIlQ0nG\n",
       "ub06uI+MfpMgtcxkh9gJ/04LVz7x7qxaZaWsvHZguAtZnAS8WidSlvaR5mSs1WDARTUxoAgkY71e\n",
       "6FbcsClsNxmsgffeAKyXE5FxNQLUSpUygzhyb1ibTkfKwzAb8F6DsLik/abAAMIU0/43xNP0EmyJ\n",
       "mVwNczSSuzlIMVd6U7poKEXWz9z1oXIuc1yIIqEDaXSxOc4NdTyL6K2mvYDvk0znAVRWClI+huUI\n",
       "qklVCmnnVKuuzhAPl9KPzqDTOZeOpdKwysKpQbUJlnhfr0tALNTKXnxxeKD+InV1lor0SWF0y845\n",
       "k5YEXlxT+bGHWsm3zNIRjwNIfoMAhW4nPyaT66QHerD/f7hebP32Osus6NOfXp/Wbum2Tu5L+YrC\n",
       "bv2MFtwTUgmXfPV1oTShYFcR6hyF74tr5BsZD6sAtaJVmvnI7k04FAy1YxO0X9H56SN7Co7SUduA\n",
       "x98vekmLWQUl7S/513dx8nHk1vEvPddIX6nC7zkLKwyOdKlUpAbMb3F90wouDpd8ey98cvCPQ0eU\n",
       "kKh0U8qcpAiSzCy2+ZltCE9jZhgtPJIPqJAkPQLuLAyaqTQAFDa4w8YRDQ1w+13CfcOSbpZ1v1Vh\n",
       "BQnB3eTwUrJzKW1oxvSFWqXK8t1/4Kb1nLIAJUoIksRw7x8ffZhiW8g50zkZYkR0Q4kwntiaqZJu\n",
       "49og0qbW5gckkn9opI1EpWbkPNVv9D+u/FA1nGXHMO5ImeVUTKnWP/x3z5gUxoxgGyF5AqvudtJD\n",
       "jz849YFOWM2A1MlavgvUibwTwTlL8XLQqbr4DT4iLiLPzLYfvpI78GgjB5XDdmZwj1j+BFFnHMfq\n",
       "pHzl+xp1PObaGexQd17hImrGgpMRpf9PbiaFQBEUNozKUA09uq4L6SeqYVC2E1l3lcqa3EchbLTJ\n",
       "MMOsQH0kZ1Da1DfQY2/L9csQ8C/S/gyZG8PEU7SVlKX2sVbQvlgKPsU/A0+4NfaC6ubtwMCCfcfK\n",
       "AVQ5gOdJv0A4KHKjbMlcWaAHeyaan8EFuInqKwTtW46WPKMKe+gj6T6tUNww/lIcv/VCcIk+TlJD\n",
       "r++gyYLyEWCoZAAz0zQ1xQsO9zte7cEfC6eQQymk7jBvhF53sdnz3a25QMDY/V+UETqwPUaaC90p\n",
       "F6sGd4uhscfXV6HLucXDwi/2MwWgdEUCzOCXT0vSdcBW2RKtEggnKWeKjsaQdsJIHddEcAeoLPbS\n",
       "thDIJZui0nWOpnBH2l58yXeHtzPL0FQTuHtOUiUGVslsjnYB0ZrGyizIuO/oC4xiOK+IEM6m2JZk\n",
       "8oRBHC4tdyzCTlkZv9yhmd7M+3kl5d3wApfovLRaRCqZiIh4YY91h1msMIZN4BMQTXHjcETFEavY\n",
       "UeunDsNIwDOQsvUCOwycBeuPLalnzXEtlmIrEwzP/y05n+z1kkHl+OAT92XcX6HMpycURABx7ZV3\n",
       "cEuY5ys0ixfUOeEKKmxVLugAlIhP9HcKRhPE9uoIb2enaUOJURV7jwGanGGH9QwUIYep6rYqcFrh\n",
       "3bGOK7lUzgkbuZvXMvtcFvhZ2Oyes29n4Srdxmobfs4QVDhiDUuO+6UJNTqrpylQJ5XqH2LO7slb\n",
       "3ZGD/cmWTs/KEoKHEG9APzAEdivXOsxupQ+l/TB8wrUpeM8Yf4ANjS4DdwC0NdA3lGAufc044Y6D\n",
       "MOUvnGRUpdvXPFuJVzVLF8WUiD/leU8proKnsNn9yR8bH60AAAHKAZ6makK/AkleLNVk8M4f5T2N\n",
       "bO9HL3Kb7fCy5Hdllhp+Tu5bmMLmS2ZQRo9mTEfD/BhS1hRseUcaMyXSWnylgA+s+W8B2ibuJE+v\n",
       "mwKpV3kMTGP6cdOQFcrU/fQUhFqNg+j/GHv+KS2hJ8AMpj7/vI7tnZIyOBQAqoIzX2L5jC3No5Nf\n",
       "D6N0xxy6ToioxwAtZ5gSQDL+7BXV7tzVi4Y9T7l+8Y67Aeyq8kvN3rBxleTOnaN6L6ScB4cFY7wd\n",
       "L6HfxrOAUIPfXc6qJaGbCdcsvwrghWBLCqemrJmQ+ietjmc6PzmpisFt4io0GNFC1nb/klLYUtCp\n",
       "Zk7PGEEeFYykzYOn/xMBKW9oMsRkqsIzP/npF4PofkxdeCpIAnrhfmR6rXYfwqJuwu2wvOyYb0AW\n",
       "C/e5BY1IqOMSchQXLyLpQQPyrDbp5EaGOib1MS+0TbCvanyug6C0p3kLJIzyOlrj7SEpMpyR+J75\n",
       "YaiXRRCunoEy9k+o5f3JJANJ5bnsVPmWJMHUQuF5iOzqvanp1IIefWBOdCyDjyG7NHQC8Pp/MFRG\n",
       "FdH703JaMRQY4MqFq/WxSfzbF95cw7zuqYnDsPLIe6zQ2egyJp8R8cEAAAZYQZqrSeEKUmUwIb/+\n",
       "p4QA2+CFYAE+q6xZxjSlrkYMbIQALSjULDBxgDj42faEgd82inTslcjXu5XyzsYV3LzFhL/WQm+e\n",
       "Dn9hkRKPSSloIdyQiijz0cyM3v6zdb2zkmy0TqeP03awJEvmBUKWSElPLaTMD1txPs4YRIoCQHQk\n",
       "779uQLNr17qCiLS3mr2qrYi9dEwagM2zGg/11ldQ/LN9txxVzCGiHSwWowqm5Ll0CyIQ4xYWQYWh\n",
       "z3n141kV4sB69SUhEqITR7vHYxczJjkgGNSN/+mA8Xyq4+4Ig0v7VypdQdeeCInd3iT5ltkOiwDl\n",
       "s1djj3m/pVBxbQFrq30mHzGC+0tJP5I0HUllVjFG/Ujq+dDC2Bl1QX67rmdj136ew47I0UbZy1tD\n",
       "HEB5SZEwOSitvvzqUIIphgTuthz4eI51P25doH8bq1VUSbDytT1t1UILZgT4IZt6j3rMutgV1u4L\n",
       "66bHMN9zEs8lowdSH3WlYiDCj/fT/4g6YY+49kzsqmwgshOGo4nhvZWfX156bZzAfSDplJkplw8N\n",
       "/Rzr0AjWpQzanmI/WMq6xM2pmNEHe0n9NQxRcsDOyeb6s+svkMSCxqNsUZO/AblYkosm7BBYCwqv\n",
       "uEXhBoDZYDoUdrfr0MsccmCkeGokgubjIA5zR68kk+6Z2oTJ2Ufvl7FVr252G9sgiXNrGVBePdqF\n",
       "vvENvja5nBCad0MD6Fesjxf8p+Un1onroYGZQE39VFqc3zBpGBxVuqBawSed17Kes/sbBHXYNx4R\n",
       "Rh9aeovWpB80QodaQRsYCu68UWKTNcYbXxRaagEY3HW0nMtoH5dQEfDCfdIE+HubxnNvlIal7Tdf\n",
       "Ip+fFhf53b9FmDc2th5vdSUVAifujd9ba21Mrfs/7aPcARaV3SZANlRDS3ut7DFUScK7CIXLt+FU\n",
       "3W4U3xr8BwA3/DQUg3EnBvKegz/50/sqrFITYCBmpqQw03MUJiTS35XRu7eeeYhPkQHm6mKPy93y\n",
       "MiN7hgxlcYoXodlcPO+xriSAh8xN/zIkWQAdTbEfcZzW+mMMx8SJyRDJMkXGhRUPndfz1F/liq1u\n",
       "9dne0ExLNwzxdqtGMQe8hm4MCxJTm6v8F+0CFRPQ1hxTf0bEh0N2T2v4YGZi64utDqFhxghFH0a/\n",
       "uLy9zSWyAU5Y0SZ8MUh4XljkIS/w4Lk290F0WtxkQius2LICDpAtglBYArUL5BLH97759k8XvxID\n",
       "3j/t0UewhPG1MTqtLNvJ6VSX6uBmBOxrNVR3tx6wmbuUqQ0081tlWSi+Rdw2U8PK0sLUhYut4HJT\n",
       "PfBtHRwL6dt5+Jdjla/q3yhEJrNuyzfJiyiwMaJqXGaE854P8El40xy7/0T8WWm7dX91RkGOOdug\n",
       "V5foFyZWao42IhVeHzJjiIk5gLJwiFOC2dyjdyrvhp1vbtWgxCgI++DcZAIu/zpts9VRDCQrL0hW\n",
       "nMRm0FWbNfXkvc2fwcuWiCYfpmFc4cp20sFnOaqeakK+VSkoZz13JDMjZTWzeD4tll/hPwaMnyuv\n",
       "F3Iojz/ESAzyYATWJor0Aodh60GFR/MhE4FKNcwpbN7S0jGCJZEyFZZPEtkD+zIpWGLRs5YZFmAU\n",
       "WmhydWQsqq6QHu1DJZjHujhXl5q8NNl1r//I8hBPxRldsgfyLczxdt6qPk6FvcfS7z1jdt6Q5std\n",
       "nelkUNLs4OaGtF5NNk7ExiOPAHK9APHcuZgowltWkOOQWYLjm5wRwZre3rYUGer+1J1MuSR+DVMp\n",
       "laaRAUh8LTXwYzatp/3SI3HZQSi99Re/PUzQsTzC5hGxBb/vjCDYZzCd6RB94UrVItD0PluOGH79\n",
       "DlWfqJ1A0+8wVbded+kcyoNVUUe/hfhEGnsrgakUkQuUtUJEhPXByg4pltiQdfWufQJUvUEqojuP\n",
       "3a81xi2Z84TC8uonxBTS5HWak/stQ9oK32vUuC6F85Jcb2uAbfJBaKArXtIhL8NfTJZX6n/36wWg\n",
       "+W07CBPyCVP+LbpkCTb71CK/7zyxG81sz3i2Q8h/rdkPwYxy0j5oZB54zQpDGjtqZ2vNVneJECVA\n",
       "220V/feE68DL8nNsM+jL/lX9qW9JVf59i3k23qfeXlGu8syl2sAail4J6BXvk68RHwC+JthDDk0/\n",
       "dMOlBQm15k0QvBSTp+pgMAAAA4ZBnslFNEwv/wGyurpjtb9z8oJ2b7ALGT/mg//8ZPvcvqG9ttw8\n",
       "9h5ygzgcTxixJ2eCABs0PG4fECt4e6+SogBXv+0ytS3I3H1RS8+8qPl4QlQNnnn5A4qui2n882be\n",
       "oIs6nMpHtvO6+2IjefDVd2qTfKDacrkd4pXdr03nRDFRY/ra+iAI6i+QWLwY0EY1uZE1ohQSZNrG\n",
       "p4ROvarU2hdcbfUXNw5W6NtmLP1q+pkctMSZ776u5E6Tj3VzlyULqpJA2QuxLcszt/rIRY9cBu8q\n",
       "YdIqUWyhrkhB/VLKo7dMvWVbhN19q4FIAE4qkQdn4kwlAs5V/JKb1kjr04mOJ2ud+2tSmVj/YgeG\n",
       "h7Rkt0fpB4yNwr5xMd4PLY0p7OBNAm6TcbR8m2a7UTg4fcslMpXlS0NIr+xCBz8jyCLsGHZqSmT0\n",
       "RDEvAvdx8WNwN6hdnzG5/vFWs+I4VkNtpY7Wvx6zTodMnZH9l+fICQayLFZ5nqxPgUuJikgnWJxH\n",
       "Hg5N44xsIm5fUGlz0Gs9HJhYDfsHzFZGUci6IAYOvpFjFlfEdyn+txoadFkolPVNAOcHHdYPzhcp\n",
       "/Kc2++gAjmpIQJlFg4jHHJruoZz9g6h7bilnqe/5ABHgFoIB1ESyKThohYgZjazucDF6PU7fvmyy\n",
       "gzUnPgNzSX9Z3vXFJtMZx2INX2SnxNd/Ni2+tTvw2UX8iVRz6bbXeymFa+y+DYIEGoonolWDZeO9\n",
       "t157ShTHdsPInclQwOIKXj5ZC8VMGNsBUDKyA+UpOEAC6tOEiLhBqvbW8Zc+JwsfzOU4b2Lm8Wvo\n",
       "fmZGmUlZtaoBrL+X26fY4MhFo/agJR0SVmRKoJg/K6sID7b5QunPZu0+xni8rJ7WfmfjdlwdZurK\n",
       "Im0Xg3DDjlR+4aTI8lJO9M1ou8CD/vAJxMfhNLudr1mWPHSHBjWkUX0x8I12Brw9k8vuEp4GTMdf\n",
       "Gf/A/+H+O8Ztbq0YfmSTWzWiCkpS0KuwisCVQtwwIo7iq4kOUbE4NUQ6KxKlHrff0pj5fXsc99Bh\n",
       "wKTTiEBeSq8bV69DBnkE9Vd3YuLEHDIXR7N5cOUo9bkPxaO2al/vG39h9bp4mA/I461WKNtS9Pz9\n",
       "PUzbMFqslLxA1F97ffoRG1P5efmGG+kDVcumPDxEDW/MK7ksMxullG5/jby6ReBLEZxuWRT9flen\n",
       "/aAe6JKrY42e0AAAAgoBnuh0Qr8ASWzn16m5rN1Hvg8RYWB6Pw+bMxxxYQSImWlOykWhugXk+6+4\n",
       "dr6gvFcGYdemFABtPM726mEwCDf3ElEADZX21d86PaD2ID+2luvFZhDx+yDMHYpCVZ/IVejAUGbl\n",
       "YDPE55AIO2h3hT13GsiqoUAiN4moItExvCZXAljIet6SmNaytANR2md9v8oe5JXXwrNbcqXOT5Io\n",
       "QfwQlf/w7esZkd5dVk20r8xAh7S+E22sJMFeOdD+3Fw0GckwIBvKg1FPazU0kARoDA3UFRiXMCpn\n",
       "cjQVXHiOnkTSZawITp2QuaXGj/e231MmHZiv3azTZG8828m9+XZMZJ45dwmrdySbxootEJU2orOr\n",
       "62UYC48j5YLEvQ+n9q4W2wi3SPXtDmkyqrwPya+cbGclFmfTkzIAlJNRjRIPHWBLB7meb/UyPeTV\n",
       "lro7i0QDBBo+1pyYjksDOtO9NyD9Pjwxm3wuiVTuc+jB2NHcCV2vVrVXnOpO6OnS6z5vtdRWW6Pi\n",
       "BH+LTbRoLH5M8wt2FQfkNe4x76yWA5NpEIH7BeTKwrgswrwZeZItmU+qKf+wIPt5O6BWBJOEx7M1\n",
       "CJ9u+x1IfKBv0kftrh8vDj94oS8hOHfyRss2N588EPP+YSVqzU48NhWHrXfn+qQ2mktEUxjKLhgv\n",
       "XUdyAZuYtwxDdzgJinZnnrfn2rOMc6sAAAHZAZ7qakK/AJbruaHxnk6cGfeuv3EE0FU/IvMynaV7\n",
       "Q94PW2cjVSut+52iXlxyt/fT2ou3kE06nBsrKIyKL5FABrVi3kq9ED/Ibxqj6dWC+Tcp6USZILWc\n",
       "o4YBQaWzreD4uqZHOkAGlfRjEjZiSimIDWlzX8dsrBx8ldYQOCGWMDpvht3IBb8Q5rfOVoBYepKY\n",
       "LQArmv5VJnsLRCIekAvoK/pb/K0/uosq6hrnPSnJO6xKTjQMAEtTZ6GR4SrOGUQHDTeYeqYoRlRm\n",
       "KE96aG8VwL1lCq78wXOVX0dPGwCM8Jb+y4VO10jnabFPGO52s9nyisJyQSXC+qd3UvRLTPknRGzj\n",
       "Yvj7ZNUcemPXZr17CCzAZTg+6JoAAOZm7qcC/jyzuFbiHQjOQJ/wR57GbyKxkh4la1UaP5pnNc1y\n",
       "CJmvKtG2dYRx8+9ErGNgoljhMBELkatCfSulzGmpdhquPILgWXcBSG25TkweXYWHq4BY0wfybZVc\n",
       "6eZ141d8p7MK55L+Yd6OoMbCGxC7L9QEgeDw1I16UCIMxvHZEDbdJmWqVLUFf1Td3I/uRPMVHXwX\n",
       "MN7aeJi10JM3Kw+MBFeWNLdA74jEdl1IpniSUhcBqy0FxpRKUQ2FsNDrWuAAAAQQQZrsSahBaJlM\n",
       "CG///qeEANcTTt6x74goACNdpSFpds7KvLuHsezYAF5gdLglRnJdKNoDIZYiyLcK3P32GsjDBsdt\n",
       "Tvp79MbC5+mbu33OEZ3KQ9ltopGdd1Arlbha0Qtl1GbNN3FjDVm0344PcNG+Mfs+uMDX0dXvpzFs\n",
       "L2jB5QKPv0S7baR7D3ZH6ZHllO7RNWbx1u1S/taGw9KtotkoQy/jehWMQG49X3z/5Zx9QZUJWnQk\n",
       "XBskTKWrsohP383RwOZxiF8OZoinXqohgTy02V1zCpQ5H/40OP3h1xSNEgFtBvQ+7868Ex+3vbbd\n",
       "21D/mJnWR3RdD/gKDVjOiwAIeNzUnreNNxqyaGQbz2tjtNKEU4Gj/w8f13SumoyN/j5+c/lUx5kf\n",
       "2VVefECpFkYdggYgHA2wEr03YxYunCuRxiyyS8/bEke0kRNXwct2YqCn5ZzTcOP/WMUYNUFHnihm\n",
       "/8TggRILhHEU3DiP2ClPvTRMp339cCv0tfULIqqymbtA8tFlmRuGG5HfbZ40u3sHb/MjLSEZuTXA\n",
       "928yp/Mg/AwVkatR+HxVruBhR8UByiF3gQDMfVNPtlknT4Ka8sdjf40vg4WaZRLJEV3V1vmASKT6\n",
       "3rMHE44PgpjqyNgN/Sid05v4DMyOPM+tCARwXT73xXqiF5hi4/8363xbFXv7mzYN+b0/RSQS9TWO\n",
       "8r7Z5kKXQLaHHY+tNWHEDjG+dctqmSyj6DSNdotzkGxITC+R9r6IUGlu5ZeGpzOPxsXKEzDRvUVF\n",
       "qQJ56TnokLWzWE3CGHFB0su5eBsYlf73dZiT0Kns4UvGHuvqIhgLFG/+xdWHaL2/F9HZh3rVm6AS\n",
       "fvqabw0fBtXOQFQsHb4WeB10JjD5Cz6gpx1D0H67GkWYhgWXY0vPZNWz8EC6zecobUoS4eHQS9da\n",
       "bbd3oW9txMJiwAKYpbhr6EB/iORxpfclBhrCBO3jbdGNCWI6wxA+KidYtDLooK8qXA+o93kiJiYj\n",
       "NKuEDeL571xlrIu/HBZVAUWJkMx7vUc3gV1Z1KI/XlqheX+5USYPz5sdedSrZH8evSqfxKHWt4kG\n",
       "YV1Y0xG8Fk+LUxRUFzW7koPtId+NDI/a5Nv5j04jQo8p3zvzPx/5zdSjeb+lEGdYpmA44+mJQoI9\n",
       "kNPIcheCXY/7pLY29nHlfyMDPCYoPP9VDcduKqyXdWJYKUAF094FK7z4UeJxk+2Idv1qoiZOWqRe\n",
       "a6Y9RfoOZ+Bv3mtM4xNa8mMxNC3jqsXTfaG3gqKvvRj3mDaLJZ1BQEoRegcTxwok1cIYka7MJbtQ\n",
       "FHvdfGQ3fj69MSCDaXhvQzQbJseQ3zpdHjJSF1NnYe63/R6s4hkzNHwlvikbukXfM0L4DGIiI47O\n",
       "DuvGJSAAAAcwQZsPSeEKUmUwIb/+p4QBWweFPxTNRoSEa2xbyx4AcVRl0/R4iy+yUeWOYVW0NkUz\n",
       "z/Zuv1kv7w1xI3/k2L6zKikKQyVPtkjRIQfIjKlKrIpml77DolSPjG1/8ALz8HMOs22nmtAkbPqg\n",
       "/0CCDhLU2a75cTa9cXzAT9o+f2lfp5gXhy+YcnLvQEvPVPmg/bWOMgsG9BBcIfLI4atqcc0dYK2B\n",
       "pgUo/OxkzJH4irqBMnACmL/8+fzeQqVFJ4hCZ3LsozbxLd4SxFeaIHVI28jR9KzzV4k5FdNcv/wU\n",
       "zO8Q+Y978jUlUli4gqYWET7wiYpazQmvNvAGBhpKX+pyOI/1uACb8lbldw4HrNilq9tyjFla7nK7\n",
       "hby1mK/h/8IWL4zTg1KwKBDZwxq3tNyhpP7qbQm3wCj7rGzG3lKW+gJSqcdWQPtt0UI3FBS8yXue\n",
       "IXLgk9WBFyzV05CJ4KmjryM/jCuUHh8iC0uPbBgC+AnbDUqA3IdDjt8ykuQpg/uk+OjaFqLPyJ/D\n",
       "xJu0SvtuQoOpeRyzC7gWJTIiW8CNmhZ0kQeuV57nF4cfmveNDu6MK6CK42O1GBbWK3RfhAZCWJti\n",
       "8TBOUllVdNhRD86CaKzz+5DxuCF/ytNeFm0GkuycpP70IqUQBKp+YlAB/stw8O+UyMXs8Bwry4IT\n",
       "M6xz0aQZMq70w5Oe2PHwAHKBLDB1pPEjkDeGDgWHm/6YYb9B/SNLjcAroo1+TYj2M9pOIhV7d/+8\n",
       "Ou+Ac9GqHT5cCD3kYVI6q1/lQyEMUjlm9sTp1YUi8ZwidJBpvz3F+J0jvhKIl7mTo3JU3wvL/Na7\n",
       "bLJ8fgfLl9iF/QMJfuBEk3/4ziDoEfZd9mVCuIhoucTFQk8bF8265Q8E6SmXIM1WAtsWDOeEkt2j\n",
       "DlcXOLSqRo3lgWVPBXU0Qbvot/SfIGd9/H1Kbb0aroAOce8U0XzQ3p6MBk+x3gz+N2P07Biu1zeD\n",
       "qDnozYne7mMrN5FPhprt+M6EVHF6Ve/3WCwmeqqqa7Aqfn024LTLJZoFEL025OCYbcha3zvzDOE5\n",
       "FpNi/Ves1L6IcXAs7rP4oeG09nzl5R0OvuUMEm+lXLdk2pyriGYlbJ+KI5q/Lu7nPMTWu5WgeVAZ\n",
       "RP7bWxIITkndrs6I1zTPonVS3SeTC3y2/IWifnuLQ5y3tTTzFBlZ1wCF8w6P6ZDg7r1Zhw4NNDbm\n",
       "tmQzcEJT18qAAnMqK701vgiKWOQzij2stobkfJz2TY5xIs34LxuV5I7Cfo1qBXGWTmpB6DZPDNRm\n",
       "bJ3UJmL7C48QWurBbAoNXO/7kfE6P/xWEOc5HWwogDYRCQ4LseP6e8kkIOu6TdP0RDlxkhNiyjff\n",
       "1Ny/s7a4fLoF2KeRZ/j34mLfbc9VC1ptLSbnhuJwKQlNhPwy9p9uZ8hdE+1SL6qH3cExBL8Sd6FX\n",
       "R6lUELQjsuyWpbTSTaeF0ssvMsMNYx2rXBUE954wi8Lzh4Ns5+xtL3Eyz2XKE2+DI8wObcuzuS4+\n",
       "wX0erHg/Oe4+h/xcVEv8ojoSTxR22gTWObcT1kj5H6RDBvYg/isBtYmH6oxs9jbZuAC7DHwhMUUL\n",
       "zfUn46Y4h5fHZcuINBIgJnR3DIuFdwX3b1lgQ4InLBUff8nelwA5x4HxyHaXZncWejxWegzjypa7\n",
       "l/jAuDyGrZn7qVqg/IGd+suN57HNw7XFwbIiKqFOsPLWm8Z1vTvXQgTjdcEQf+29v2Y2sEgKtnsz\n",
       "O98xyrOWvm1CkyHunD6FWDE1WTi53go0hSWqJLJHjpA4YnXH8q0b8ex1Sy3KmyJOViQyQjOcHRQE\n",
       "ABc7mJA7eL151QU3XvoHT7m6ZuT6D6Kn5GlFGOemVoSAAd5Yco1d72qwcHzCQ03pvqn/WYEgvvXy\n",
       "ScwzjqkSogESweqhTfmUUwAskxSR2WpYKPGCj/yI5iy3dfq9LnYbIa6+5UJ27TNOVXSyt/YWXAua\n",
       "tdi0Kxjdu6a/WkV9HArCfs2aXsKIn/KU9Exv/0lKO1AF7SZxoO9phxArBaKzldcII+k9/Cd9Ed/5\n",
       "BHS5gvuw6CQ561q2aitQDw29+2LxTmCkxrq/4XWgtSpEUvN9xXvdalkGVgrRDNcpOg6GFvWS/P3B\n",
       "dudaL5i1KioDm6JcIcni2CmgFNbFXFhJq6OG9m/GeWpTVQTM+zkpp2kEGxoxeHe2BBkJyYl+Sqml\n",
       "ts46hxFL92dySKgoEk/oXWna+4rrz7GxNZdzjj+TpfqwcBwGNj/8q3lpZkiNV5WqOMfHhZrtVHOG\n",
       "s/kVH9For2g4o4yZfir8wF4ZA3l5PESI2RDO819sMglLDMfznd0Z1VAINopxowP0vvzeVt5COPR8\n",
       "ciMJDSoT6uunUP26BmPb/L3H83LLQ60m9fMPLLXoa0TKNO16tmxwI4+NoRDVfWVwcRZtebIdNO0a\n",
       "uQH7Tga4hYCYliOE+HAj9s0kARzOeHHJQQAAAtVBny1FNEwr/wJJG2Sx9pandtkQdTgBpxfjcU+4\n",
       "u4zvDjMqbGrzxQ3OceAKQDJhUOZriL3JB/uoA9qZA5oeT3DaWrS0RFlYs4+FzSIToXS8sRA+Jidn\n",
       "ZmFL61S1lFNO59W/udRzvCOkV1YNJ0SqiXcmHlC+n6sioWl6+NV52cP9XE23SrQg//VWFMDUX37q\n",
       "C0px8aNfMvGNxj1DGqhrA1hGG9wRn59Jc0Rj/y4zNBwtyQ5Qx34UJK2bdKT82SMibFRSRA2lX3rm\n",
       "TYxABmW4pftYCfITZhwm2ayGEauO3NOgDHPpqvFaDoekPAk6VTxr0thtM3tRjZQfaK93gPpUhoKH\n",
       "tAzmASksjH1eAie+llUEVJv2rQjbjRtUlcSK/FQibqtM8Vuok/hT2OM4XFLuvVws+aqvDUfKyJbL\n",
       "lCiy92tno+bxPs+LK+HE0sVmkqNlCYLFN11VJnHHROsUjdS6PFF6YnNYvF3WOlSrI95b9LOfEm17\n",
       "nnGeUcM5tHaiR8Gjr+6FzFfw1vvIaXooILEemzqBrlexRrnNoDXELVwa7Nfh7K+2JnWRTJCgpSts\n",
       "anb7g6nAWUuDsmLIwqiGV5lFYXDCzkVLDzYfP8YnJPBkVTUZUp2X1Bv5/hE5swuIDBAXZL/jBYqP\n",
       "VElP5NGp7fHplZPT3GnQhBfz/gkKbLvATkcx19fo1tZhEu3kLGPMSxElHQJbe/kpz6vYkKkt6I34\n",
       "nSLXxhn4WtxDZgCtKyXJytQeGzFY5GKBkWDpVk20MPbMuRI7syOejVLLMEEloFxIbSgAOrH8Hxzv\n",
       "kvHWlsyHSd65h5LSS8p3/Fsjl0WWDM47oGNagwQ3Ub3M99V+pCq4S8lNE6D0A6CMtQHgSX1dGCeV\n",
       "pl6h+mkG4oI1MLi8bXH8oWGj75ZfrlXpok8xQN2m/Y3LEt8EEKLgM2i98nUufQETwdykwa0U3XPP\n",
       "gAo+cZgU+kREhB+DuwAAAf8Bn05qQr8Ao9e5lSuXwU85s+ReJoASBDTNXuLcAP/AgblZ0+K4Ocx8\n",
       "KfmcPgGmFFg6eQjin3FSYJnbG+CBMVcrpkCPs9GGbZmuG4FDAuGoe2rUvIj8ECDwvCboVHxehpqQ\n",
       "43nagTX2ShhBgtegxjGuwQiUbhEH0pZ8sJsXe7a1ZqMEhA0M/uclcppfL8UOfjijsStyrqK13HyE\n",
       "vpTP5fInzv6oKFHF6Sl2IJslRl6HoMQvPAgeyS0CmCg3nDD8NLr1Hp1d5BvbhqnV/HDi2+muxHa8\n",
       "SC7qalK/aBtGwEdswL3dLqb1DXkVGEp0+b8PmiAbmG1XwPw0GyKX0jqTTen37o7IcuCQWhNjq70l\n",
       "O/jxE0gbB0wjGC5Y5iDIgP88tkLKtAgNcLEQ222GWEoY+0YOXDQKNdvOfSDNoH0HRAmbQ0fFMpaq\n",
       "vzyYE3Ln0e8uF0b3zwDR3HABF7vY4AJrBc95IbHgofpRLfvYS4FTAZ7/kyUuB4k3R/JkzChuSEZB\n",
       "8iMX4F2vp1EItHUNvHM4HrdJz/DOJe1PdARSEUj7SAHMrciGE91owWK02gx+ggRVZaPKInM+11SN\n",
       "KpJlU+W95bM9T2GLU1hDcf+F7ivggxrB6kOrrkx8EoS3DGTTy9zhCrtaOvl8pBmyB/h2TvuOci50\n",
       "cNKV1akmx1pLmxELoAGnAAAE2kGbUEmoQWiZTAhv//6nhADX2noL2fqWaIaIArMwRdWvsgW2fZhD\n",
       "dxxJQGPv3Lx3Lf8seKN9uW3OzNTQLPQG9ldpYF4ZRC/NTKhyHtM5Dpw827mnjHkia2XHXKESbunr\n",
       "kJtUs0ZLLMex5+NOiAi2WZB0ID+QYb7uQpJN6n1X/X4mE/r5ATxunpdtHHh/t/+X1R2v9xa9Ovhg\n",
       "FvY5Ct1ce5JTZ1DvOno3poWuPj1WdQZmbOWNjLc8WFyC5XMt/GOOPUrK3NHYsIKa9oefajBrIzz+\n",
       "UHHQ5q74R16K6vlaAZSygaD06B5zA/XyyTU4SLMlAz2QjkNvR8T7tn/yxGa5rf3QL0JQ1RA2759H\n",
       "w7u2dge+F7bIBcQJDtamdqKn0K9kyTnqfv5Bo7bG+bas/Wm0NDdgtpmiG9mFE1H9kOuFXo3iOqIn\n",
       "MxR0Zl25AUTt+j731pjRtWsG0h4Z9Xb//gpFwfyuo9Hzi80x+uRBLczEb2iJ6fhE7pc1J3rBY4T3\n",
       "QlRNPf94zRSpozc30d/p+4RAobQ6EyY8EoWtIfL3/Q9ZETUUn5+Hr7/nMK21zxDb0oOReytMvc1p\n",
       "REdhB0t7mbE89zlONmieoUQ5AdFVOEjAOL//VYug7eumJl3TCU5KgyUPqzhiZzHQZQzVS3vXCDVI\n",
       "OZO/fevj220EQv/jRFd74nHaGCBQSe/OxpFRiknRsjBupCEQax2t1IbLzI7haDWQe/Mfk4+N1McA\n",
       "STlxZvVGCvV58QGNy6fYow+GWvd6qoAT3psDXtwPzNKtCfEIfts/22KDic9yJmJJk5EP0TmmEq6M\n",
       "0z5sw8Hv/jsEmqsstKK5quWHdUoMPXQEilUzTvBm9FXKtZUl6YfmRLjbPz/H/feqiLyQFi5B04E1\n",
       "KX2f7QhYN9Ecr4AVH+IJVOpShgNL0plVfBqcMY5/hdqWPJ494VCSk/aia3egbn6LcBHHWbP2XZbO\n",
       "+Q8fEtZ4cGjRFHlA09UUHu8C9DFkxUmgSuMlSg6rlVdSGAlPla5smmmWxV1aiN5amB1tk5mp5LBX\n",
       "E+M6B0VxdDM7CyaBX29NlyHOWKzN0JR2948Fd3emaN/l7z1zUqSms7PSQXaXVZoWuHCJ8Px4/kM6\n",
       "7HXeyIePXc3by2MzA/lXW8qNlnAVzyCP+E6Lxx9TL94PBF/bhY6S1JV8trds+dglhT/wzGGz4qyw\n",
       "sQhVE5eGxH80OfRwCl+CLm2bDVmwm3Epp9ZhseJvpkfy+G2c0+qkLMXqyox+pXgOyyebO6aarva8\n",
       "v5D0lKkaMsq+JkhC2NtzE2fT7xcnZwLob06FHOKyVGLr45oyVFEPCXhOKJCna9EZTrXFGIo4Bcjb\n",
       "vfqSk+6VYpPFrBsbqT/Vmv3xsAQc6FVmNq+XiMiPQjY9Q7MmaNrLjYXIVJveKz65qjXH4kLVQvhn\n",
       "Kkujq7IAI4nw7+Bwx98gjQV9ggyA7mb2qibVzS5/4tsXINO+GQu1rI323kIusK2DbO426fY4s+jO\n",
       "khmPY05S9hZrKuQy8F2G0cDoVvLyvro91IrluD4wQFidx6S9o5hTf+3KrwG9DXC9r97xyj5U1OXw\n",
       "6pcbixyp3r9okl3uEEwq1DUATTIHV6VYMvsa16BaTVg8pVapRZZziPz8Y4pxD75oV7qvzaFfutWk\n",
       "hoUb/ADSgAAABpVBm3NJ4QpSZTAhn/6eEANfabK8AL8OMaZ5jZDdBxe2bzu0GvjDbf+Bk4K0FW+S\n",
       "gdP5EyUuca5DDy7sAqD220YV3PGi9DhSswMPFMQYj+dW9rNlB6uHnncVXC6chKQ/Cfixjycx8iAT\n",
       "Z1EyHuvqKOg/Jp4CbyMZUc3TqvdYpPzes9QKTJLoBIYlqqKg+4cuTZDIbr9LGoW9OXqxJsF9J8mh\n",
       "JBBb3nEKMW5LVGBcs9i/AJ8839EWUKB4q12ATgzqWNZb8Umyick5OfkWHDpoY3N8Oal4F/PjE2qT\n",
       "Xwq5zR0uYtJ50yMc4+NOZ49+x1ugj/CsWYcUQIEwHrEJjtwpawUP2scQc1HyZulmvdZoT/t5FTr+\n",
       "boTTP0g2c6BnNkmmj/9C2OH9Uk1/maBbfeIpZ7HpbtLp0MDjA1toeRnv+KZuZQPXhgYRQU8HIMrN\n",
       "TK5KQ5+nnwtyS9HIw+P4PBleoGw+oEiO722Jm7Sl4e2utXQyrBB1F06vjZnwc9Sn7ka3BQBKA6I3\n",
       "HzOiSSgYjij+RffA83gLJ8irfRTisvn9H9nHVOENKS1lXaEXggPtu1wxAAIB6L05bdUVhHV1KYNZ\n",
       "CN4VQBsui4WecdUE82+Jbj9fzFh2gLSH95CvYKPoVQx6gAro0almDFrl4LTwKZ0E814/fp9XIkcI\n",
       "dU3bU/zvjuhcdlTmqBswtyAAECCDrkU8fUU0bcJ4TFQtoiVfEVOynoxL1q5IskSY3IPMWhNF+XJP\n",
       "twcX/FZMPs/lluT6cmxMP9dy4tEOK1x93qm/AccRU8UMRXwWrnVyo/JweSLOpVQFP7i8/EoPXTm0\n",
       "N4xAV62sZOYNoWmBjFdY/Ge8oToHLj5nYcGmLGVI9TpoABpp/BGFPGSIGgZIGnPC1H+Ddh6rsdjG\n",
       "UFcSKKJpRPCNoFrv1o0k1WLHvCNPhzcNkZee/dR1WksNJ5zEgZh8G591Vl9aoza/dvXGcvK1d6eY\n",
       "vwxZGJ6f2y2h+iirRrANkwQJVKKEqHFXuqc3rqoFJ0hXwMJOMiZzpkjoBU9llG8J2d8F/HUpiRrp\n",
       "+NhFdToYr1m64x2m9wQGzrygN8p3DOkEi6DTBTp3ebJj/1xR+yTdXSC4iEm8dDq6SiTKn8+ZhTst\n",
       "dXSuE8Bp1queAPlvGh8QqgXM1gudpiqMqm0gFdJoKstIPbQlyCaTarOVcODwbBKRAF3U0Qwk9G+S\n",
       "9bLC9rHLuFLh8JnQSGEaKDhfCOkTG2U2IV1V2lT+5TIYO9UkR39G5iYGtNXGB/aDEv1QobLXdjmr\n",
       "h4YZPgDa50mdNAYy9+QwrGWFMyhklyr+lD4X8J20X5tToV6iic94O/gys7HP3en4ZyPX1cr1iJtJ\n",
       "V8dUc7lOruk/FKeSL7S/y063si0OOH44zRePEJY3D+vCFNuVbtvlFhGNaehDP/BO+J4x8JTau22L\n",
       "3QscUQPE64X5h8t7V5NRiRYzI/SJ+axSLGvwGOOUgatpwLzX3xtbFsM2QUa9GVriIyVxZKXnmSKy\n",
       "ZrPT8Gfu1JJanGzqf3fcM46H35F/fb9WbKlYltqrgO/XhuM0YopXmINlh0dwHgqTizfFUchzx+Bl\n",
       "WfJezLr+kPBTv4zeqoYfNUvsIgBU0z6Md6iIJGnASKRXbHCWPCX5Ei/FAG/3UfaP5VLYDYqI37vy\n",
       "ggiGSvmSC2dd8HQr+eImTJc8Yz01Gf4RKkFH79/Syiw9aoId82U4hPtuJNOvaOfhb0v/2Doc1UWU\n",
       "I1IPgU3aJuEn8adxEUd14DebZLa/ywFMU9OfX37OsxGGboNw/3Luo2F29lwdP5YshtBx8lUi4Gma\n",
       "FjBAdj7AmrAiUnTYbGaiPD7axzGAHeC4vidaWeGIwMV9bWNJlkkLhgU+Hafyncz/XhByE1m3BHHk\n",
       "8wDMd0JhfIJU1q6KJBXbSMjJTn+kuRDmYHph6Pty2Et/Xwz7T2qSkfQym1KtpX47qK8Cvr7jHlTg\n",
       "+vYvz/Q3AGs4TtOupLAlUoRm9+4a+hODRdbG9cgaYZ6XmI3CJoxmOa59tAhET0dzzqCr9LW+jKyA\n",
       "GSPbO3dFqG9TnuxsgCN8AXdlKJq5aNkKylYE2qN1ytHjub1/lRWitwjLVa8zHp2yA0o0o9+kqRw4\n",
       "ETbbbc28H9Q/ObFlnyaS4mLrfstmVzt39+zSARdh0Wryl7yUSJPaspRqvThuWMNrVNusvlkEbSmE\n",
       "h7YbxDEBuEBKp4EZSIg/vRDT2IQi/uEIyRVVxi9z9MGREyim+mTQ0oD28AAAAfNBn5FFNEwr/wJJ\n",
       "G2Sx9parHwFMIR4X60RMXdUD64xjJsrnZedBkqM5bKEatS9RP3iJRMQsIWnRfxjd1ZOx3bDduFgB\n",
       "O19qotJpSs/FUii7MLhCjSMZQcaDNDrE3anoEsOEUxgb/4FISzyRjeAAx6WHVKcvzqK7pxbLdU3X\n",
       "5nG5u4mkT6fJNJ+EncWurWhzEYLG9WY09uIJT+yXyI29cydzDRWMc+320B6FpHkLfVOwm/+SRDq/\n",
       "MndE8N8vN7RPQuHojmD2iKmF1bM/3WbrbfI6jz1rP5tIDbIrgWI8kUIOzz7/zRcHHNvBeUyJ7udD\n",
       "GvGfcW8GMV7O+wS7XFTiabs4xr1h+zNAIuihsrCKHxmX9LGgxESCLud3wL/DX/5H7JGn2SwemgNo\n",
       "b8QI+f12L3BuSFwLqjv0/+2O14giU+tDLalMpwT5SaZXCLQNKyJG3YnVV4CBMnjwMqyfdUiPn0eB\n",
       "qsr10201F2NOXNn4dhMr3San0ERjse4x7H+yEZnmf9zcJ/hQqy/BPKsL1UZCPjo1tsJLnf51g37d\n",
       "yqxgtzx/lrrkkBqwj7t6DbdHBQN9qiGh7YeRp/qKL/rNvtxX/0VVNy4ETYvXsFh+JzSDahSe/Vn0\n",
       "D9uKXs0pPzXzb9rID7EpvTdO/kvEM7665X+Thoo860jBAAABbQGfsmpCvwCqjjz26qHiikVKK2WK\n",
       "uNDMOpFQUFfTtF9YQ//EUzvDqywLtCSR/ZqBQEABU+5NIgBK8DOu7JukXfUxQF+axg0UEUX8m2I/\n",
       "5nCq9TUwyRr5LXbb3/2WtggoCFp+m943QQ4b1gSaZJ/Wt0K3F2MqliwDKM3tekiew/OOyYnYWLUB\n",
       "H8suy65mWC/nj4SzyXRPX+AWo/AzwQMCDEa3l6d2+FweqNeTy5wK5HQKRpWQUO/6Z9L96GEEp30V\n",
       "ODRHCASOzpLbz/eMR4JwYdI/AnSCtaauOKPdEjmyTIueAwvlS5Le0H4280W7kisK9bg91QcA/TEX\n",
       "hf0XYSz/bgzj5/zkQ6b7xS8eh6OCHvkEgepSUgl8H1mAhLwC+WQEYwTdcG+JnfLzr0sqEF9sGK52\n",
       "hQ9PnYHRx8YvVgn5dcx3y1CQcVS0EMPUbY6dJ4Y8p/tyc08PAlLHM42U1gbjm397eRN6UzXt0H/Y\n",
       "xAmoAAAD+0GbtEmoQWiZTAhv//6nhADSHOs4coqkAJXsjKV+h+3vLYFWt145TlomYMKnjboltN+7\n",
       "wMKE5Mr/JYQZ6Q45Hw7ltM2VvG2LVx4i+4WoPJkwKib2J1rdZ5R0CGynmLrVxr78t4hKBM/irk7I\n",
       "Pmg6tOamTfc17nfCQgwrSn1KI2Hy0VLNVfHrnnaTxB7WAelAoWPyifFN9y3NlS1EZRWduklArNJs\n",
       "bgjcFj/ZvyNUu/f/ROcnN3ZavZZ3VCsudeVYpONgVybPR2eQLvZS9Oebtt2f1QJwxnbDxMTf57U4\n",
       "wMGaTbAGtTAH/rvOmnAZFVNDS2YaIQK45QpXPw6w/zrwAWJpBaK6lRmE++DV/URl/QKH/54eQ244\n",
       "L7bb632rR1p2mK+fI+NvHKUmGigwf6daTALavBO1yzDxiit4OvXxAVt2AkNan4gp17AP/p0KJDL5\n",
       "pgO3WvSjfFgG/J0wcJFsnyHePGN1QgYJARHHyPqrwiC74t7Q7qbO8gAMKa56lKQ4ZBLH/nbb5f0f\n",
       "1rp7QKfJURf3fV5E+QqUcORLV7YU5Y+Ykndyjt/6tUePhZBYBpxghKMkeGe6b2En4tJDU//cEDrA\n",
       "EpmscKee7Ju/IN8tENYBrL4ZrFcCYTqcneOkES7yL21+UP1a5F0MddEqCypRzchEg8L6hXtopx3B\n",
       "+m4r2/dT7ysvrlEDgHHPn1EF/LGCzW9pSTpvdqjelOdjo3JlZpivUEekry/wqIl2XtlRYe9kfD0u\n",
       "Ou5WGjetAMhXmzThamqZISwR7BD9AnlU3YOQqRluSQespxsf5GHu6xxU4z2F8+2Z4JoL7r1xgH9q\n",
       "/618BspyTRE8qCN49IgHrkyM2XYirBSDm9GbD0eD6O0O8gr9mJWnLZG3EIn8BNXRaq75DOmG4k3y\n",
       "FXj1BWwvWBJekO+5i25iKYMNZC0MBltd1CoAYhUIE4NNVDMtsOXNvkZyvLBDdWMhC9+F198eDhI9\n",
       "aWa/ahy4C7Q/khqGkX/N6JJK20/fC8mczJLHLqxJu2+ghM08fBP28MPvxSrnTYpbRaWKJq7eNzVc\n",
       "761FCfwepk31DuUK1IOWHzow7ruvtihUzZmHIhGP4LAPlrE7EL8l5FIBbckxTHc7xPaeVCdMONCM\n",
       "O4j1gdQWAjR2qa5StDNTNNqUQOM9uBxQwdY+T9AsMJ42SP+XGCLNFg392OxjhERIrDMsD3nBfOzS\n",
       "JZobRXZl89RpnRJWR83odGXUaRhbWR8l+AnVgrIWyp5k43q0YOrahyKIxah24YP3bFuFHhvBX8Rp\n",
       "VGotJlj1cm88A2MXTkjTumfPOZX8rv8f59RW+mwO9719BPIs2V1m4t7zWVYG2JF88RhpX6tbSo6A\n",
       "AAAEkEGb1UnhClJlMCG//qeEANvgZjhX3Ks5v0N382Rwd22a+N+NX+CSXuQeLkfx4IxXgLTzQz9x\n",
       "gFu1JQ2T0LWfF5ecxLsOGCJY28b1R+mjIHhAHsswqg9mqxlZ1RGMJjRTV2eLE4xbMcKY9NnxROUO\n",
       "vGXBzLDDfDKyuaCz0sYd79GGYjpKvKEzmqukd2KOg+UnquwAmLEaamD5jtdBu68lpoJYVfV9/Dai\n",
       "eujsIhORoAqhhfpJWzygdbm3rcazDWmPgagwBI9avCoG/QNhqhQkpXGwOdM5X+lilLryH7MjapA+\n",
       "PHmAnCkhIdJl9wVmOVVgAbiTH1RAT5QAN23Rru8ZEfY9eR4pCDCgbiq1a6WFBiF/yIBKwlx+ezzt\n",
       "ZmvRZHU260Y6Jrai3oXn7sEl1hUOO8EXQpZcnxyEA2Hm41g+KcyMcRmx1dg822GZNS0QGNCQj+Za\n",
       "mVwRLcFA3W/NEGqwbqzcDqybt28SclE/2i+GRBKKyVgM+n8vRH3t8SrWuyUQAR98WQhkDC2lxmQY\n",
       "kH06XgVAKs1vpLAFvveuB//Iw7VvOiPJvArBZUgdUUqRJaRGT1uZ4BwIgmvJEhAJLoARuSDR/U51\n",
       "Nvjz07tQmMeqmI/TG+mfuJhsVjAB9oqW/3qSzEqhiFGPP0+utNtGhY6v2HKY8pGCbca+KfYg4xeI\n",
       "zBcii1ZTXByho+fCsyfiGwWh9S4jR/LfWT0txad7vdc2SkPDzFnnTdghWsFrL55iccax3mW2I5Yh\n",
       "7pXjgNjxEA99jH+1DCg/TqY7hoTnt61DALnhywawjSUWr21Q+qG8uLCqM1AvSVuGygrUzq/qw2b8\n",
       "6rCErLyuvaFLSNeLu/+fsoUG5XXwuheImnFhhFbUF5yAZXoRmRYE//bQ8IyT618woCnTiNN2l1LO\n",
       "1xp2cZANIvGON6rBM/OO97syf31u/8cal4+notRgQge77p7BTp2L1yjs95gJk7izTMloEva4Ph8d\n",
       "afnUf9somFbZWHveQKnCGa154TzmjXT003k8cgDR0ePbVMy8h1VLrM/qJoZ+Xu8gJ6xr2rSRWBGQ\n",
       "ZEjpFGJMoP07U2DSIpuhrjBwA15QN0QeWqRvCwHPO1P7kCgWXWuxCM+eSx00Fe7CqWsAJnNHLg+g\n",
       "dvwOaY1QXqw4li3RxDLWJcht/Fw8LWmUKPaJUsuojMqWe1tyChUagylHQQZkZwqNOKpx8VXWKm8Z\n",
       "2kcLzkzhgNQnNu971g24aM/BEgrXBY1ygb5OQr+w0uad5jtTV9tXt/gtyuBqXyXnuY2qAzJjOz+l\n",
       "PI3VDWv3AM1zV5NCeGgm3IyFVP+vMrrThd5s89vJdARx9f2n/JfRITVbEm0h6JV2tOXQYHdNB08B\n",
       "gsNZANf+aOd/1mvRVtRIyGTyXJdDb98idhxjMABqm1kph3Kih0/XWww4x78x2yZ/8wQXtZw6Rs/g\n",
       "DgpZxh6iNjOy2+hpp/1zjWt9zy5JrhtwYEBqAqnTPoDxYLaTdhv/Yy26mV99ZBymg7zD+i3lNu6q\n",
       "xWGlpCZLJrE+QwMKgiHz1A9SbTKGexACzHPvGmWOfyEAAAVlQZv3SeEOiZTBTRMN//6nhADbyL6A\n",
       "QNOQhypc5NYGJBY7NxhgyMgZlLZnpOKeryfkeB6MHBSv14aEF0U3f9zvOE0HxRSM5ELh6Yxzwg0B\n",
       "zvCs6Y72vrYau/iP7pRrbhWrEptj6GszMRq8zoigiZLc5YrdaCwB7HUAGum6uATBg+oU32FjtHN9\n",
       "WqAvzJM1ter5n02qUTgGsIuZs6Chs8SFmEdgw/piWOl0Xei2Sby5e2nBuglCug5ffNvgpwX2v5l+\n",
       "Vf3LM+TC+1Oxb4n5iQbXXmmiQKOwUfiyB7wpuAuaoaX1iJEkFi0VqHooKC5q3eZ++bbPGDo5fvHI\n",
       "My/SE2x8E8n34lsIb+dr5fqVHQ/bEjGU0Q9p03Ilqtr0Hyrxn5zZd5FnpAI8Rz5kRzOf5BaMp90L\n",
       "vpEtEFjyGUEWT0bIzPFKqbY8Ux2FIdbBI6i7RvJSdaUM3ACnZ7qeoRirN6P3bcmhHaAl2U/0hwzZ\n",
       "uMD1mhCYqFSvL8BQBSofbnB/v21UIffR2yBjw8RWvRPoUZye+bahUhjaD31aJg5cHCDAOlEGm9eO\n",
       "Azeq9A9D136x1QFilBM2YmeONXOgvASwnjDUYgZPosLG6/EzEqs1tVgzlmPm5b7K6BmWyqYBYpYy\n",
       "iRNs1KAbQaR9q2FqTuGxPGRzGGdDt0nRpiDKapdyHjJXkDYJ0FX/Eoq5HecrA01t0xmQ8tpGKkDg\n",
       "6IsTX/XXWo/yrQvv8iJ4BoPJRZjt0iUGnJRTBqWmcjGMJUlr4g2fSLvguHp8qT5QmmmzzfYyWuhS\n",
       "az44DE+FaPTRHWUIWkVIwIaUkZ7Q/7hrefZNdBcHeGBr8+FpdIe7tFHZtWJOC9X8fe/VeLTWi5jz\n",
       "NZiGz/Stjp/fYDnHBZx4Tmf/Wes0RgkKeVoHHtooKB53cGxs4H0iKMl/wCp8yA4P38c7q09meOed\n",
       "gn7sYgG4ZpMHxpLlk9Ej9Ly0Tdc+IEn/AFW7ojhIXGWUGQdjGQScjR7NerZ361xSkIaiOjnKMOUN\n",
       "rh3slfOn0G94gDVKhnSMWzM3EbukPq4TsXinjqwCw8PyZgAzAwWQFGqA/vM7ZlKi7U5zh1/GMwlR\n",
       "285CXZzqie5rwbRjKdfGPB+gLzK/tOYmG+tlFR7fRVDshDCMbZ6Nj93TWtasIiBWo0j7QAiQwTdQ\n",
       "+i7H1IARcE8FcE8kdmoS2D0OGVZnNS+J0eYNqJJfE2b7nFDh7i1LXJMXoryvuDUsb4KpNynpY7o2\n",
       "K3YCMjKL0oAJVlz4JzzEPkMUGSuQCrN/xcQSxnjHOtOmF5VnTrF2tIM7NTLJNsWcpMwVSI8aTOIy\n",
       "5/YHXCX1jWBDkbEzCFYYwUDUGMpXXZbmw4qK0qmkzxQI4h/e7BSEe9irS6uvSBTdXcXC8HjRIJN4\n",
       "X1Wri8ufFOUDtgO/hhG5oHxxTJK8bUW2kihJpy/OIvrvWkKRbVXwiKLw9BtrbqvIOa5g4D8k3EDe\n",
       "+jXpdkFEtrJgWgQSdshRuidDXDzXcNbmeVDD1KGtab9GBsiljjsm2k72m8VmleGMpC7cnVA3XROq\n",
       "VMCW1B04GH2mlHNKk0UqAf/x0k2ns02q3Omv25agyVr15DLUsV2AaqQwlxURJ/eSJFboiXlgHMv+\n",
       "WELwXaaGnjqpfvRjXkOkNbH2H00/DrUctOVoe+0Qh+v5L5BbqPIhLh/ttpWzlkeTQtvaA7YMzVfK\n",
       "y1AZstPKPi0duRKNCJiU2sunhhLY2zT0cxPqlDCNfRDr8cR4Eugp9FUWed5KwH8GnPuRNNXTArbc\n",
       "3WmNtAGRILuW2G5NQCJXB5ASGLVKBURSyRcgRGgLWR+zAbUa0mBdqplt3DTzWpr5IAAAAVMBnhZq\n",
       "Qr8CHojyHEEGnm5i1IF+7iHHTCasgAC0BhLWxPMK460tUF8LgKyy9GTIzqA8qA8hxQbsTwdx8EmL\n",
       "fJBfE+UFWcG1nexsK2EN1PEwiSud3JfT+l5lOkK7xBfLSRxlXTdgMkntBN4uCGKyjlBVk5pj/WOj\n",
       "RONuETniEdkgSy4PZun6H6qyxTMQmKOkkYtwtVXDwwEKIG1r4uztrTJ8yRAYa6HzmSSzau3xtcPz\n",
       "y8wEbDLmFG3prNuXGhBbuDt3MFqQvMyxJEnI9xiOPbkazVj+ItUTzLPdSuwIHqRc+/ZXI+Qn8X6k\n",
       "8MWK9p/bCMxCpAGMKxpNNKzT+ddJ831t/4HIZ0LHmt2wdxAXUjYZ+nZ3BvqOBov7AIwvrlXaZbMO\n",
       "oeIZgJbiBJ1awjLpl7yOowIOpQcsUT2yvjsyg1Kc6N+rQJNXrs8MjF0/4+IBpe649C0AAALQQZoY\n",
       "SeEPJlMCG//+p4QA1s+zEALV7j7uqJlFh5uCypWiEGmAK7ICZ6Jb2EP5UdCEl8ojwHxLEy+qbF98\n",
       "7zgs6wVeoyj1lxdeQGVcYKcGZgdTgb+6WC9QAZXbVD3havQ2lMwUW/D5RHxzZSCIKzbWP2yAD+m7\n",
       "qU5GNBJY5i28vl3TCgWjvCuLAZXyQ7YI+zk9z/6zx5KSsFU2Kyww+Elik2jlFhM6Ld9kr9TATX4O\n",
       "Yk601hGib4JQH+xV3FZvPJSD+qnjGI35GnB5jZGrWzUpNqPwuN7ehXhDh2VwJ4KFMBzOyCiyAUvW\n",
       "0DoOhZMBNSijCThwgcBXaX4weorpKOJhMedUoh4MxiAmybWmlPPGgFj0EesCa+OH2l1G2axg9YFR\n",
       "sYEoDzrc3za0nMSJaBFvJgl/0FJJvEYfDPxWNopcYT/MDri2wdOs5ZUxAc06IezPfPOJ9MOstnHB\n",
       "GRMvMuiN7GlUTcd5pasLmyeNKcu1tzwkB86+3qU9AgHCNQEj67NUatbj9yuHffuzRyIeLdLzf9Zo\n",
       "GFCnchU/zIM7qk48dTrNB3akgK2VM5GlJAukxVG2GuJm9+bbnG9Fk1xWVgIMZCtnX+zPVIJYOjS5\n",
       "m1hDPLgiLjHQd3wvBdt2oMhN4hnkj3+ssPdPeCrdiEohCrIcskYWH6DkfedrfN57/T+knGtcS1Nz\n",
       "cTAdgAL65rbBr/l4KAe0t+BJB59eGjalplccFrRp25CDgNEOkErf3+a1YoDWAjX8IV956+p+hjZI\n",
       "iq6uiS6cC1ElgnVg8Nnezy746y1sSubyqgy0VlBwUR+7eUERaXrG6xJl1k6tH+vbqflxXMk8cu/i\n",
       "6hdImQ/yUmpSdeoBfrJA+cu3k/5GSFvfXy0F4xh67ND3yX/YPbgyGgHWATfmx6Z6+OUCiBqJ0B1o\n",
       "bu4WbHIGZJJNUVw/N/MpasiGhsh9OTaf5I6kcv3OenO5AAABK0GaOknhDyZTBRE8O//+qZYAZ6I2\n",
       "N7CjMhC8AGX8TJbrR6mSg1Fr34udxVw4v0WeCKXdpZi9pF0KACANLX/3LXWbTAMg87XPutHj8Cn6\n",
       "XmM+pUNYVtMIAMvsUH2nPyxlFxmMMKZQKgzJ+MZK+0fHkJhUE38Pa0IWFbYbHwBaKqepN6XwkrgN\n",
       "Dn285eZRJ5zplQSTGdsAgYeuNC5YABsWXMf3FY3RDbFH8CFy8q09oHT06PcCFw5czxMA4j9Rr6q9\n",
       "U5JbAbY7HkYwBbPlm9gBMNmdj9q0uXslT9jtVIDHUr8YJvvYQYJmMqBQ576Y3mVtW/A9uRcXle1w\n",
       "xU9TRm4+jYV+54/sHG1jX+k7ci08Kz3Rh5fwS1taoyvOZSnYCbrtkAcq8C2vadUyL1IqAAAAvAGe\n",
       "WWpCvwIeiPIcQUauXpJuc2Hv3Z9c5xCr6BzkF4dZtIsKmqwhftj1XIEzNSlVcoISzOMynhGKeb7R\n",
       "ovHvXjC9Gbb8XwmeUSj4grGFTxWF1tLPAFABd7q2M6lzQATXgK8ErfLYnY01YAvy4irRrzN1LCMf\n",
       "bF1fEbVDVpH6md9K3kcveEIq22Lka6aB4w+F2aByQwiW8xt9k9jfs5DrlCD4BpDIihks+zVi2cxz\n",
       "MTVLcf2giiJFeCIk6PIbAAAFoUGaXknhDyZTAh3//qmWAG+tQUcALxVzCDIiU0+DvR51rvbBjfEj\n",
       "J037cyBo6vqDOMtOgrhUNxMuQEEVFp/8E54y8mUaxMgmz3uxGcmbM3MiS9QyIBLDXbgvXBv3/1R4\n",
       "Q+JfvoIw8lGjgCi3WoI0hwYymzxuhTaR4GY8lVs4+nXo/NjGVJANxu5z+dJ1bHgIyMgFHVbzVWls\n",
       "rMa7C0sjLElEFQUuGLoDDbtJYdGHJ5SeyotEA61hcls6+PRfpQ8xthGeLvLQAZbEjF2PY4VLTUYf\n",
       "E/HF0E7F5n8ib5e6g1VdGIUDvFJQb6x7GSwsCrtTZSchlRMLnwRNaLzoH0ehGXhMinnPRP/cG27s\n",
       "JLP22muwrTpHKIiPLJSjJkFo251Vz7pv7AfX6+joFI/W7Vck7qTA3pU2ckW5XNr3gm2et07qfquQ\n",
       "A2j1nYfdijD06u13Ca1YUiRAp+qWoZMDBsjAvRQ0xw0dh2nYMmCvXTQCmcGc29Ww1QPV7FsUqGgD\n",
       "6EPRzcaYvQD2/BEfojzG7fDMIF3NjO7EBKW4qfwJiQrYX4BtdhQ93p0SLlzZMrUcMKPQm3/OfDBk\n",
       "qRjLHOBTRTC/YvMhKIYT/q/wekuImet3McunyK3dBkw7+MImOp/xtJiG251YeuK5oHxIWbPb+DNK\n",
       "t9UNAR0u4EAuGroW/ayg9+Itrp2GMEI3OorVMozXkevWL9e2g5Lgqunrs/OgVjbDTORYRRFoGtOF\n",
       "OoKxHIhNv81qNhT7taa/WIkedSy3u9r1TtbSNghxPaKL6MvxP77KzirNkb1OC17LOAw+WJOQYgSB\n",
       "ccm/XMbCkjbD9/SSdEojPwhn3t0ueU6MxG/KRWoWi2zZZBRA3F9+0Sh0YxvxKBFWXGKEIfF6dh0C\n",
       "zlq4b4i1lZW6nXMJV5ePV4DCgZpeLPLtV5KOVaz1B9P3Vu5HJ8sFhKVPKeNRTtafs7xDRtSSD/Mm\n",
       "8FlizOT8UtI3JsP/JujmYZNjNKMhax2q/LtFB/XO+p4kJQypF7K0IgNylxH10fduxu+lGvDG/5i/\n",
       "/UlyPBgK+C4471GmLA8JjQKbGc8/I1SWRBidl4XfLaKYv5O+1xZasLQoN2NbvSfeaDyN+2aIfeIc\n",
       "2SxwG84hZLfKYWmK1tOQXdBiMyASYIORULWCQL2l/T5k+QaN5u1wwi1uMvtfG0qic8YiFQTQw/9T\n",
       "tkODSgqinqnlWiguIByz0vqz+lA3FinB+g7Dvyyr57kasudUdjCf+qUPb+7RWTRyi2WocCq4Jc0J\n",
       "bt9KvkSfeMmEbstB2RxSoW0WMfhs7rmf9nsDcYBHwFXyHbc4c0QwgpU9rBdyH6fJQGh55WdLaPn3\n",
       "ObykkTbtMqCQ0iVjH3QCdyVGbs7f8CXBszKVoqpAJ0olRSPgaMqRsAdBeve/rquMt73TdL8YD1Ep\n",
       "38eN+QLsjmr3f9JRQtU04Cl6V+xvo1clAnMF3xP+qWVcCs3eeRfNTTF4zeURd5QPkiSmkBzzCCHY\n",
       "QYcV4Bas0wFOkP/FqddUSp0wFFmoGqy3mXLbli/fDuV2KpS1+nod95IfjZh27hnZUgokbhQ1obHa\n",
       "UJjUlzLvw0E+YAmziEvHGtmqafPv5vObz7j4uPfFJWmIpWD8OPicyAd8IJIm3Ic/5iGet2CujtS7\n",
       "b1uL+ul2+3WZE/seipKoVhU7JDKtQCqgNuTeyKBmfFfORbcfR+GxcDcVwwuA7vAAyfy/5rO5uzxr\n",
       "wd+zylAX9rWDXxKYTX+oj24yhOzP/Olln7TV6jYugaU617Y//oUgGdNgWGj8YjEEmUXZo11wGgKr\n",
       "i84mx2GTaLXFZZyGZIX85WRmsZ932idaBcO5vrY2qWr0TbDjfLGmvJXaGgQL/77nv2qvErMihV24\n",
       "4cxM9u9VJoVX505pb6bvJwWIEQzcipZcC2+RS0Intab1M7oAAAJpQZ58RRE8L/8BlWQXrQC0SowE\n",
       "PGpoABwSiuYJa6TmdGZDVZc4CYv2EL74OwS4eOHD7wjl/SIpejWVo3obaV+8QQbxamd9gUeomLba\n",
       "4w0PWf6sywXO59+jfxqPbU05Ag1YgDbkRZiz6dkuSsMtKT/J+KXkguw5Ol6QBhzgsB6zcGruNgLS\n",
       "PtTpo7XbB/J47vUIXSmNr/eX7GWu3R5N5rn8o3Zljm85cyeicUMKkOl4U310OiBdGupd8Ca4l1ri\n",
       "SX20fHYrD09co+xPKe4AGDC39+wbDKURnQwEvzDVAr0OqPFl+ZwOzCkfe8q8gAwCS3LiggsHodP1\n",
       "mHznhqDwWI1r6k9DULFoFyvvaGRg9iiAdIP34/Sgd7cve5JW10q5byL+0/ru4RM9+zLsCTHS46bF\n",
       "Y1bO/VDZo6mu71O5c9liRVGDiD0QazKNWCRq8Gnsw3/MG3wl3QBsGP3UKu7ZO3TsayCEDXY1vv9z\n",
       "/ZL9ZBQbxasNTrYPK/LfJbtqvbGsOHc6ajtiKGRRgsjGeJOKgMMep7oKOtNSFFJfL0j6kLADZFwS\n",
       "2trUR/wbGDSlGl3xdbweJxLLwuPpM0mo9iRxn1SgXt8/dplxl3YN82P7958C/q0Q5F4KVNQvmtat\n",
       "PuMYU2i5KbvcjYFU/OYRVnFmwzyOb+0lcYCtOVbEJ5hPwA5Ut6YgsGXLGLACeP9kEs29KVliQPdO\n",
       "BW+We1u17KIeQkHSAGkn5xa1K8Qlulwrx91eT+FGXEmGuU0IHMqH7Laz3R+8+zHAV+fj1Tivz4PY\n",
       "UkfgAWCjD/VmsCNha+Oppt39gS10M8mAltZBaCMAAAEsAZ6bdEK/AH74MXVDdmyajtJxorT6Wmm5\n",
       "oN1MgMcBilo4rZ1CYl9Frri7OFwLVMoKB32IQ1AVzGinXba6Sjy06JrqJCJppvjRUtVbyADWeym9\n",
       "thX8eYWAAwn8WDzI3+pKZl16yJE+HxeWYjS9BjzH/At+zraFea7BLCUaq2thARWAryGYXjQefG/b\n",
       "hrIvHtZpFxcCfWTK2ao+mayS8OQB7XLf75LjKAplZ64VdVpeKUznizXqsjpxbpqD0hqNhURE7CZn\n",
       "pvaui5sR9xmTSpQUmRd8b9Njp0bkmdqBbmRge6O3WMZTLSFqdUu3OXntPhw9a3ytozxQaTA8MYcg\n",
       "bBNmd42Io21kW30VALp9t2a73aq0edoUcUprQ45DAOtmriaOyc0BhklB4avLJ7VBAAABkAGenWpC\n",
       "vwBHdhFR0XhnQsBZOgGKF71mHcjdqiwFTxm8xBXJPZ1uk25ES2Mr/vf/xv93xtaQgF8INRiZq/xO\n",
       "+YQKQ4Tchwgy7xkrjiChP1GYATGtXV2qTS7S51DHPw9MefEyt3TEF5J7Edr3mWj3xOlloR+Sdi+w\n",
       "A3Ss2RUYLVamAyK1F/yIkShifgPb7Y/VuhJVJnyH3ajTVwSCCIglsDgyv+qeU7BM5FArUfpVAC96\n",
       "oyGBaSTiYyZuU6FnpsjXFZ6r6enwA2MzHxBMSCC0GnsTtsQO/zBrBNfQLN+og4TUF/yhBNG/wu17\n",
       "KSAFxDqMFQYRQZYQGOdR7Hgm6CIr9xZ+yK2ETg7Uj8zJTybITNwlyB3dDkqcVFXtDMFieN1gPD9z\n",
       "wGLStxKyoNVMiRjbM/1nOH8NHGBpHmp/6i0+QgrHKcVmTccldseu4J6GI0LJG0f9q2IOOvqIPXrs\n",
       "/xx/XVpZyFRLP72S/y/1I6U1ZeHGmdhgwm1HMnDicq2w++rXYmzMJJY2Ig+CDO3OpLh3+ogAAAX+\n",
       "QZqCSahBaJlMCG///qeEANvgVzBHHUX7AAqC3Wjd3jZGsV7jW3eJUNvNY3HTbjj+08EQwobpa8Kk\n",
       "pneBK7hsuwJiM1LZXe6AuDlrWLDndfb2jBR4mG69Bj9RYNPfkoHcJGCxO78j/GvFIIHtosqo7hnN\n",
       "VcXQaNqzbvbN02KhFgbtRL1ddRr9YrEVteqUlP9dnBA3zQMlMQpgfbXTiaWEv9srVQkhfMaYgEQv\n",
       "/E69oNNcPwYU0NlwYlW253CViQQuiuw/8omQ7KDCojfhGaDILZacdd0eRV8z4FoxYbeVAhThpHW3\n",
       "rYiqIQByjkfco5XATBCE3sMyxHdtZ7s7mNThKuB3VWeRG6Im3imvIHZSpyvHa3ElM+OKWTv+XaCx\n",
       "uth/ZTGcLEOiGY5B+7DfEShgWRxHOCTBTl4kwO0+jGyKfeVF6aiM+Uje4EZWff1vHJDlg39/XK8Z\n",
       "wAztWe8zlmKIJ5HEVyQAn2Y+jVnetcwpgb4EhbAA+610yWRWsDg7nbQ5Bm73y0uFXE6bQAARHVZT\n",
       "rwB1loQaA7xvwBsK6CwQhgHlTlS8h0F62P/AJEYm4LtKcziDvnUttcxR8pzMY13vkRgPhI1GcVDs\n",
       "Wfes9gcso28HDxbkGupbvd7KmFw/cs4D/cbFTLva5tr4s6P5DlUy4iKokFZtksAkPHuCwI0F5TKV\n",
       "bEqwLB8+S7ndaSgXhgoHCPG/hfbOQwydP3RVSp7/fCcoZzY4PElt06CsZ8BE9Pu++2iSzv54eLnN\n",
       "fF39FaZDo2Lm1Cpk42hnZ4bE4ZlKYTEeYje5s2L+h4yYLLXp3l6mVHpgBQxi2bxmIv4wsKIwo4a9\n",
       "6wAk5OTt1wMwBDRKBMqJwDIfcVwoTzyBXy/cijqEaPljAO13I9RoLJ5yU2JlZmxCGHumKeIlmI7Y\n",
       "nBWcK0y5O4GBBv+rT3M/vV4wM7/8p/VV1VMIQzC+FJgKQuWGQ0HYTpSzekW47ZYEQ8KeCt9OLjvG\n",
       "AQfoHEylB9HnpWb6lLWhZLDWE8ZOhUwrTtJLkYgOMfJy85l7h9D/aOdkq5lPh7j3wqSlAgYMoWTG\n",
       "d21faYMloJAPcSjgdzNxnk4QbQbonE//n3RyKgHTiY+Mh7SMpWjPcBxf/baVlZxaktYMf+4/7a4M\n",
       "+oXyPGyMfNjMcaSBrYg1VLb1GGk5hqyH55Qnsgq7ouck5hRLGJoMoRgqKZNkv8wXXEjzxHl7Qhsc\n",
       "pnQoVww06ByUeq8C7gyTpa2oKXgB4C484dcjfLvkW9MKRcgBgLp3P/Hykb5DpFU/C8saE3+lZn3H\n",
       "zObQ9kCaKpknqWeGB9BBqG+DarY27ukL1r8smfPib20abK4RJnQdRcg0H7bQMzuaIhWkdLwOJ/9i\n",
       "Ni5U7+2QQxqahsSveCAMEnHi2swArpW3/pskVZEyDTSZmKK1EePlXQT9Tp2C9kI7XRCygLTF+irD\n",
       "rb/gxgAXTz6jmbp1YfdmnCGrsShFaIuzPP9NmtADvGWv06u1RJO3WaAso9ftMrA/QYTr7kNmNnZG\n",
       "S8iAt/sh98qlfwg3U6xyPHcY4//qW+WlSbkUTPWhQ66M+pwYkUnAAUOs16U8PzuV0CR5CR0hw2Ha\n",
       "S0Ekpo/C1CXmLNpEG+mBqFTv5bj07BqoLDzbARqA77QbFeDwijiARtKKfWu2y66I/PeGwWVyAVvf\n",
       "KrzLwI298aqqLD3BFVhwfx4KAhQWDgraNzcJ85JFuMPwgf1LXSLeJsYkLMeL3fMruRpMeKivdEyG\n",
       "mFQaTG8bgcbLr2g+ZmuNcenwz/D5Gi3E0SXGZU9atMK17YI8PDNCseOTexEVgK6BNFWFA8onYe1v\n",
       "vBN6sKOrC+iA5mUGUw6y/mcH0X59LCkxXF3qM/eCyPoLWPTAFkNYV6U4h9TvHufLf895nVXmtsr0\n",
       "P9zXtRLRogBTElfdZz8EPx3+xdTQJ6H0T4xRryj1MQ4+E1nZz9LY2g+iCxpO/TjcGiHo0dc/fR+1\n",
       "CjjFG9EXd5AUuZ93uXZK+qBkWLt0LEt3miH9zxP/ESu2/5lmJJLoR4SlQWUQYbYTfNpggAAAAqxB\n",
       "nqBFESwv/wGV506ydFqhrqldK8B7ufCmRFvaAANHoaPmErX556S3M04AyWAATHrhlmIFDuvz4cIW\n",
       "oFZ3LQar/5f9HXTO/tiLhfXHiRfwg/FnAKOelznbPweHvfv+FIJTcjzSAkMkO+23cZRmE9l84wUT\n",
       "mVDGxg3IKmQR+ZDZ6Ozx1RlH530rIekk/5ObpjPqY5nB48bbAi8NVyLXu8AXza3vJJMixZ7w+Tyh\n",
       "yHHW6BXfzmHA7X8mmR8nMKRfWij8wYCMz44UvlRGHuLbhtmF18A9vN6RcO4BGKt0HOL/8+ziK0az\n",
       "tZhBJx2ZmbNKPyyVw4MSpEEIIfLr6BMR1KJOp91WxH6617MShHqP6xfhAGjvZZo9uLOw/G7RS36A\n",
       "OJcq+6NeNBHI9I0RIOWIHn4qxfMDbmRuTUNJ8WQXjZZPX4SCwjVxHaVPtk4OGZQzU3qC5csmQ1Ii\n",
       "2/P3hjo2X9ykEI6bXeigcoebYlVWnK8bREAHDSDdFRP2uOGChun7Oyb7dpGbhpwdx9nMUajWUuqF\n",
       "qSuhMjuK1KquWFZ4Ugt0A5Xj34hSvOoSIqMHqXIl6TPQ65Ge1EB/n96h8wopyt4AvepbNqcdcDTz\n",
       "C/a0RadmfgC7HGKzzKqR/BD4KwVeEsjDcBUMtjJe2IQy+aCLNJfD7YdCTo6rUboW9quZ89bIy0AL\n",
       "I73RbPonRYiasl0hkPQA0XveylgAv8b6kbIOOvNBSfrsc4NnOsuoVgGGH9G/iUoDI+oqZHnbJS29\n",
       "I8U0gzmtGfCK5PnjgY9bk0cUh4TCegASwyNYF1prbG+OChCBovJkbPxD3k6vN2e/alkInTHN9Ijb\n",
       "ziinFEyYp7xSNp73NUHnH6HEhRgO0LZO6fq3dzzeJM6xUILDAicFtUNFlbmcuWvfMDAperVwkS8A\n",
       "AAHwAZ7fdEK/AJqzQn8aeBal5X6GjszZQx3msKsEEn9H36rsgDIbGsOS/XU8MNazEwE7D1uAqAgh\n",
       "TKhXPDxM80vK8qKvt+FL6kK22LKXC6+6kpYwlmy5BqPMgvVoTCC5bKMNyN7FYjDh53yr+GzrvUVL\n",
       "aSR+mrGas6V7CfWTYYGiKBsCrCk0DWnpVTk2xp3MaeT5zT+wwhOZO3IwqRVEFQmM1HQ7EJM5S/Nx\n",
       "vE6zm1pvzsLWhhMbceS8VhlZXqCEJWX+3HG9pT1uJwHikMno1InN/hG6IWf6IxA5JSRmj8whtZVS\n",
       "ypNS6MBs41Stv/e4IWN0D1gXJrMMERtOyWjY6SmZ/+HqibvM7K/r8y+qYbtQveCJmauMdu/WX7u7\n",
       "uorBMSYm5ilGzWxAFDkrpoDaKO1Q1rE/yDsTC8vFKQrO8Qm/xUlBSdKwBUqspMWf6JmO+L/F5dPP\n",
       "z7vV1X2D5FV7abCnGeVGHsigIBdC3qxlvRP2poVdhm1FiwVRAS4XuNzm9LRK1R/6+s4tmeBjySC6\n",
       "S6TCzjQId7nZk4w/9O5WXqo29R6JsY/T7Kcx7d4W5a6MFrweID6kBecLln19jInu2AKBicRXuhel\n",
       "gvElTmQ3TjgTTSC7jnTVpEwAd1Kjt7ao2dh81QxyoSeJdD9GeV1Gh4AakAAAAi8BnsFqQr8AR3YR\n",
       "UdHTSuyAFiMTYc1Vd7bA9W+F3HuoB4EEzBEqiVH51jy05leUfr8IIRPaWURboR39v4GANogo++zi\n",
       "sPcAtGri4hEybO2nO6bnw1xOd4zQySyCfcQcaDejeZyBqAgkXUQLuVYm0D1ZOznkas29JdtDGT6Q\n",
       "iVidvFslVcb7/jse1Vg+OyireOgoZyBj8DO/UvsZwSROYc4fSlYyYH9Z2yLSho5HOusXBWcGuLq3\n",
       "FL2DRVupFvJpUj5DTRTwUAck704ynzxhrtfTBWwjZtrmpJYnL32k/aB+NG09BM9IRPJyuyZYxdW1\n",
       "D9H/jTvsKasJAZw9UXxkCrcK1vnKUAj2mMZLp/YGPGXCQXBTWQHvPYe3HK8VREeYKUS0yqMUPnGU\n",
       "gf3o0f5ynbcYlPWuRdR5k1aL+yWoXlV8AyWJYYtIZXg2HKmrjJC9c4RkRBPvdkTzfZbnKQJIoNRG\n",
       "hI16Nw6c9ClGg7yQszDjA+O0TejrscVesxm/zmexDbLmdFs2YpKoCuPhqWY8NY3mxQibWAgtPABe\n",
       "1p2S45YiOQySf+vHX1j8F5Kc5LgjtGWdywTsEAeczYmw3bvWcEQ01nslJBB6rMOoVMyiQktrO1O6\n",
       "XZmaK33spzjNh32nS6AaGwTRG+a752GmyC2FHeU4fq7Ye1aS238/blXgvJIU0P8y9/ksdFbmMCWw\n",
       "9uWQC97QRNM/8RiGaWChsw7tkTG8vOanOK+NlAvUwDP9xU0ZAAAFlkGaxUmoQWyZTAhv//6nhADW\n",
       "z7MQAmRGGN28nX8T6g4JTFHpJS0EOcqERzBifVd4zGjdN56SF+3PsalQ57fxwPhdf2dhbbULEq6p\n",
       "9YqpzH1+TkrjqOtqm6kEUOVgeoz3/3vcVhP5ZBX+isdX93pYsIqD3hZpcE4hADvTyQzSp3lVoEK4\n",
       "6SWg2dM5sXAUME87+f1wnjuoSQJAmEAqVFhgcqadbRyOMagjzeWuS5PZ0BCkb3RIgSK5iLHRqI/g\n",
       "sWbO0YhUyCKnhLyBT4CAzucLB8p/Z9lduwJRGRvZvB3NGOnKDHp0lEryTxosPbXP8aLtEdu0HUr4\n",
       "2PwLlVqenGahHAHNFcaXvHUl+O7hTt+5EkKPiL8QsbQIM4i4knfchm05rVuLwsKrceQbsD1QRP79\n",
       "Wav+0yphRJo9XXgAAd3/xB9OwAl3zFuWbQvJdM1DAYosacncHNMIV3pQRH38xVuRQxrxJ05vhhdc\n",
       "ssQLKY6Jiy9Zev8C38HU981WPMAGxJVVNha7S1+3/uioPidWMe4PpJUNaKYUEqFd2mnGZWn0DFW7\n",
       "fnO6ZhGZUHwlWiWtXnnC0yfME9YU/uMOsBRvv/uCWW94Ahc0C1QEvWRzFn8fYQwPv00yBQoO64Dt\n",
       "v/a+MWXqweGq4FlHL6vdf7TVqdmFontb/cwttUVONq2rGpVwyWoYgCorjB4cgV93aJ7q99USpHa0\n",
       "tpkXvKGyQc52UAa5Dyfg6cKWsJd2NCbX2NFmF/XBdBaScs9f1HjM2Ytw48qQvhjdLbTx54Yk4WoM\n",
       "pqq0QlQ6gBres/On9SI+uOYmubr2j0d9/RtuGTdnIlYyIpzY811lcNngOmWEbAH4mv4Y88cK7fFr\n",
       "esyMNJ9BiWR71DlGLSJyad7zF0zFQIKwzIYTyJFZrHXFw8t8dzHPTTXiUQPWS22Ov//NxSUSJ+Aj\n",
       "91K2Tr3XirbZHLUYqvYtrm168Ddc2Aj47G5pAmilgEFpQlKC5kdHteqYIeGSWxBmn9yhXlUI9xah\n",
       "G/Gz6yc0cIVYMT0Dk1YDf9a0FkCHBHexqvbadKIri9YO98ua3NhawKO4MzxMcFb4OxkM0NUtxLmI\n",
       "dQc7M9DU81UpbTGZI3koNqmmMdgGXDMnxArZ5g3XNUvj69FaCW2ITO8DRK2uPYM0nCGo9xn1VIgX\n",
       "n9gCUoaGdtvdDNDYCaOemcKqauJjOjk5pevesYp7KTkPdQm+zpb4s70xXe28nPLlziNTx6ZlOjmj\n",
       "7u8wncNWLUZSwOPVB5lv6c8pGMGYIPjzXoe+0ym23JYVJ/N+ZiwY19P/dcq2NdXlgHni3dUIjhbK\n",
       "GkipkB4pvwQpThe9R9djer7VzJqTd7VX/uCOobMV6sHQ4uHUJoaRH1O4HCj0G5RjuTCMDGOgwjUz\n",
       "Mw26DV7NqReyzNZSx1Jel++MtcIUPmFzymHclXlXh5AKH//63XDbMSeVze9YzECzO1THOp4P4JXx\n",
       "JWvd90G0+qjf6sCSXDXT95UzQD8SiXr8xRBxcvLE1v92M4FqHCpctqaPOLelA5RxsPVDMmrMP9dr\n",
       "9bMukoFfaKGXJp36T8jJDsaga2XgmRzfpz+OzZ6Z8Nwl8ZhlS7Pl4JGcTwaU6D2sEBh1NuVGOEKG\n",
       "uejxUXlTIYgJDFg912utD82J0clpsYFyNhzjDDmt+MojKLwofP5Caq18Kdw2Q+5wJ8frZGwRDc3E\n",
       "9M5SLcHA9g8K9ms4Oc5yH/aYOEeqYsv1RLVsyR8yaMDFh6lVPz0yTlK2uTcdvEv1N/LYXIihtZF6\n",
       "C2Xd5jkXJxX8mLc/6tjPaurupnRs8s+dY3ApBjBiCtNBzz/aB6HXvxfPSl3EhEaha1prlrywZo9B\n",
       "rc3Uv1DYWxKBg4P7dZ+33TubMbt2F8JCC1BN138pVl55VKAmH7Rv5Ru0LmPuAAACf0Ge40UVLCv/\n",
       "Ah9hzRsE+d12yqVMVzNAEnVfKuA1JUKWlWkr9xQ1tjnxCAGpllgAx9AOhEXZDJUOef8R+PIp/Th+\n",
       "MkRcrnK/JXTHOIUomzwoABXkVI9QCqsWaX1XKGGyjNaEaXYQm9xiZXOb7apbORhLff0wbYVnQLjg\n",
       "0RuqvTI6ZwCxapEKGpHoSHnQHpvjBlr7l/JYute/CcFFXffg00wb5Qa7Xfpz0B/PWweQLq8ilf2q\n",
       "ICaM2YqJNihQpxsxDeJslJSR1VLz3seKxDo+sOYTYPS/BdT5XYFQmLIwglpYY300GIUR3gLBP1cd\n",
       "tTVH0ra2w9OM2QtbgcRu0+5+3hA18zxtV9NdgSxOY734efaUeqPwIlwlu2PElRgSUQm6wHoQBxJX\n",
       "lpcAienMO0p+/5Q85iJXLfQxNXPsqRZO90sWBjYDc2XjBA6b4j/gpQFd7S6U462lzC3YauRMyPU1\n",
       "pnZuKgmFAofMo0svGK4SZf7D0koYZWTUIEAaWOMVYOoQ3f4i4sUZao9vaYAoS4psS89bQX1XcbdT\n",
       "Zb/gKVPjbjig14c4gbRJCGfvC2YzIKEIDhdaFA53rTThwviZxk+xaNk+6peEHxZKwEBQZ4K04sSh\n",
       "ctjBbk4aeIZm9Wy0h2hZZrkW1xuZX81X0rRvCH0SRnEs4Ygf3tqIOJ5nnjF4ze8a6NdLxKZGl3+u\n",
       "8lm3E0ALqobF6o2uB/5GqX7Pr3Gi2bQd9HIZIqOF/y6zLfd0EB6ue3rLA0pr1xwhGqm6mj9p8BLv\n",
       "RnmEjejU6UPBMgpLlkuVEy0NROPbnC5rYsqeUNsl4N0Qi6l9tzpUoDA672qPYgnrxzmCmogMrUOj\n",
       "vRDvgQAAAi0BnwRqQr8Ao7Qp2UDdRCcRID06lvXVjnIAC2wVKsVVvaXsjiONEGP0ORNwZ6BNLLhS\n",
       "uj/PXRNp3nk75ekcCJlNw/numbJQBcr/Q3KsrNqu+/YDQAhXZvbLm7LSKYLmjqp2nF70hnvOShxx\n",
       "geLpRmjbOfQm2J8akiPOKWf8OBTJfoUiZT7hvKMOMFuIg1PYlja5ecyCWk0tEqYb+DsueehM0Oac\n",
       "0igMhOaIHevfO3OfGkLQ4ArbVBQN9x/if0eMbrY1OZEHfyMsz1WalVBm1SG0ATYadKIiZ1aI1nE3\n",
       "FAYCtYD8yQ9kNIXypmKmk35UABPB5jPvU3NF/4ZerW8ILDVsUrDMKEMPCUes9B80k9znRameDbFI\n",
       "afZR2UG0SWCDd6WEFeowQv11uGshq0BkgAp2vAGmVMHZHHazp1DAcQdGfjxnfFoIstGHVujatUrb\n",
       "Vq3MS8mvoEsxJNGxkqZq3CqIlXSLj2ySDThaS7hEZ4CL1Ed242uxFJazCtwGgZAFvZQXAC09Jmfc\n",
       "3THAMyJDYoJ6QrZk7spuMYHErfdGRbUxfiTiMe+CWZreZ2gB4EgyppnGxoIxW3jE78An0hVmPML4\n",
       "hLNzhCS6RfaS8wtVobhieEJNtad91hg72WvUG/Rd/AO6g2VNluZ2mWc/hXTbsaMX1xphT5XEdr2q\n",
       "JeJ5z6ExYDyVjh2pC10jEBoO5IOgaeidIDQKF0tID9iHhJvNvRKlRV4uI9bXG80lrDCO9wAABRVB\n",
       "mwZJqEFsmUwIb//+p4QAlpLG9lvCM669gQAlNwbyLJQjp5Bopx/itin/2GimN8aKAP/lc38TCqOY\n",
       "SocPsg1sNMQS/fEVlePVhUIii0sXYYrV65TbCButGdBMMDnmmiqPvFAKyFttvlCA+0qXmENuSPnO\n",
       "9UNbK/5LKt1WTpMn9GPA+0BtBF8txuWjALYb5xhULFw251h/UcraLPTszs8CEqSEGy7EdjBFOJrP\n",
       "EjRk4xg66G8zsYMhAQs1TPTdU9u603X+z0a6aRxh71ycUx97vllPFB/qxdzbzM3Xy9uqjQsgAb9X\n",
       "8zTgSLjVxR84bd9q7wWPstUHrXz/NSxZsAN1OZV46hgP2kEZc9E9CXu9FyJ4Jc/IY3fUsdhV+2QK\n",
       "CE8NE2jH4a9Dtuj5Xf3et3jqrUGAJM9MK1el/reUCdce0q21JKXa969bXUNQJJfpm0kLu7VmO8aZ\n",
       "Rq4//gZIP1hoI7CjDm0UuU/cQrHsxMsCAKILlEPGdfQp7zzeQ4UH7gKFeZqVrW/8ym9uUbYo3Fvd\n",
       "+EUXDZsLxBitCFdDkb72TJMkB8+wGJyuEdwASvDSKvjup0VLt0cf8jJmtaWa5k2PzzGCG2xIobQG\n",
       "ewbJLcIZMXIGkeP/uaKGa1IOEYx2Sr6VEk91a5LFfBjqxhlznX3ULwr5OOshCvpy+iW8zARTmwCV\n",
       "iLI32wXlvglmh9P30cjJActkArbEbW+Qa/lsipX4ajv8kgpNQEaaWlE1JlRTKu5sDWRcZ7iTHf7v\n",
       "ZwzdfXdyGkqyTPA2rnbPJJVsVqK6COALNa2TEq2qQ5VQCOuJlb0aVLKoJUUEDCPtq/uFzGBcEiHX\n",
       "Dq3s88d8JgBAtgmBI2HzVLtEhvoQ2to57NyCV5+JXDYfbEJLr7lr3cqXJhyVG/kIAZTOYz9bb2Z/\n",
       "ldxy92vQWPhuCUl0Gtqc7OC/x+n90PaAu6Om1WhKykcYWol/4TjSrHmTYn5c4918BrQC5PWBgk9m\n",
       "/BduAMZSzItQPAI14LRvit55xFBpnNb0tCFHj+iBqpbH/B1DlHqfOCredUXONH+cVmbTeLRFbICe\n",
       "nEW2J4QNLiWKe3HTirPFQHkiw1h29hyznAE5i5sLHWoFWHg8sqM4I52lla+WLBzlN9IiaY0kZj7f\n",
       "OR8nS8KVLogMGNKBC63zkUad0TONr36EqYawxcVZH4SCYclYo2de7go0hxiROzr17SIxGLKQr8Nm\n",
       "3g8urgREUalv06dEGPx8yvKo+LClLNNFcoL8kIjro/LHknnEeGz9ddddNH8qb683CkMSY+VPVAdU\n",
       "8ADi/J8ilFAU5edNsuxr8OlVEnDXNVZv0XrBBL9ImOykrg5HkOaCH+o2YLwqQIFL7hbf7vFaOi4r\n",
       "mTyegnxR1VQlwyb3x+uEPmiXbiISSCPx8FdsbUPfigJgEWdkmPTtob21QqWAz0fFHwMVoIEFEHoE\n",
       "vTqE+7qlHK+NwWBJgtV4aF1wm6iU/kANTM/5TWWoU8KWj2qMlRGsgZi/Z8//aQu7CGF5IScxoAwK\n",
       "oS5rW1Vxllel0wj/Noa1F1wdvID/QYWzEX5vM93/USyQVjGtA1mKWRQzXLw0WfIYIbJihVO/BefZ\n",
       "6lNS/DluWINznAJytnebw6MdVNXp8ZFumvQ/poyWx/OuR6fucj7Hb6VWHmjEsH9Lb1aSx0SN037I\n",
       "a6sMuV4+qoTj+aaBJZo57YYMVEZEYcFll+zApqGo+Kl/sAZuPe+nCSIfwjRT4QAAB4NBmylJ4QpS\n",
       "ZTAhn/6eEANHcyiLr3QaZ323iAAFbOPXyJZchfqt5s5RoumO0UyVBezTpnas8X1+STFexiGK8L7C\n",
       "ySTVvBBPo9F3sAVCK+VBxxfDnjmaloezTvHLAZgLYbWbXbcMGJRrAylhXvHTmuGxkoA0xryF+yAd\n",
       "43SN/CyIta+ASzCcoHb5saSmOkXCcp59m/PnXyJtcbOoDqC4i8BJ/iNjWolUXjMwt1e20Nt6H0ed\n",
       "m5fdKDCZi1sf+uYCQlCIQ4z+p1EHejt1WIFnPGB28MpL90RdVssq6FUl+O7MEcbkmy/7LSnljqNN\n",
       "TdazYfAO8YhhJ/ju1+lUJ6zQABeXmvzvRjSWPb+YWJMPPeI3lZby+nxJ4V4cQ05iMe1EzVjw0Y+e\n",
       "iIyWtoV+Da5EK31b0Zbg2Oh0wfMI+Fu7kfoVfYw5jUub0dGvrvdvQSM0BhEoCTMgEOyTcWLEYph2\n",
       "NoJy4TAs6A3m5vwsyxktAbZIjpx93n5bJSzNVDit2YamnmFsomd1gTRPDUbv2lIsSBi5REdbB1vA\n",
       "MIuBdR5+tSjMIw4TH4MjAuICq9TVSBz5ZF2zMcqJ9U1Z/YGuVCQCFeiPqYQrLIrr1Cf4ORiWs46V\n",
       "RhnK7+EWu+I9IkAnmHSlpbThvuBWJ1e8U1ZeOChjkrg+B9D88R1qRgNqHnA5q4V0tkvyZXKVMIv7\n",
       "6g9dBjibwBiFrjC7xgxLZ6zBoeD+rH/YDnoftc24Nw1lSSVCblGk/R5mUkUB5FLqPJq+kiTMC8UF\n",
       "9qOO6LJTPm8+5AL97cHdEIfcm20lmbx8E1tHyz50mDFAyd7dfGpo2tqSXG9wcWg96kjH/G0WKxUW\n",
       "kK025ouuCZzyDy+6IZaq1E0alTtmhvhnzV5QPXhXQoopiHPBYnt+MddER0nBpspkB8n70oXuWpQv\n",
       "MkODD0SX+SX4uT9mBjnzIyXdSAr8E/pIktbl37Zdby/Nz8yML8+kK9/PpuWCoDmun7jJGav7hV2I\n",
       "6Xf+lKu26K3mjcVYrHF90yNGdlxcoKR3w0wKoE4U/+Hyc5yVGTWQXsOIFBE16y6cSMm4Y8bx07Bf\n",
       "WTobdQN7SZxjJ5n1Z4Ga2gCptHyvwhAJzCQE5QdJarzPHVeDJKBS8Fgm1wlfSkWG79DilGI2NfSo\n",
       "yraUxhPoi6KfMe89ySZF0EwAR37PXvChwOpY3mREaUzFCUw0ucPPFvxxhSLgr0dgfQMJXja+UKmu\n",
       "TFPiFAMoLk083HDqA9D8ouh141QXtpZNJ7bWwqaZ5yILzvZG/Xs3xW++8sFoPeiNpsBM6zCJtPC7\n",
       "p9z/CKHFZ9+OZRUhJiaA2n3CQ7O0jSzW7bfFTrKTsEt2vP+Bu4c3+mlTLp4lBIRhehXtjGfmapsX\n",
       "4fbtZoqeegPrZUY2fBnPywUUznBuEIjZ2DeKMEV7FPieXphUP6AIGpBRigHfQmERvPEDNiBDQybC\n",
       "xXhqDqX8Qj8bDZ3dTjnuJpQSzIW2W45ERiDht4tVmszmXA0qUMqvpKKQN4PjlYmfIRSyxC1PdZeC\n",
       "nqdb0IBWG5fxKXeo9pwrq/UX1I2ZfTOC9Vsk4g8CMUe3gdABCFVYCmpAzFgfSC9t2mzExOEKL5wT\n",
       "BPHQSouKNV9ujzB/TNNevWLA2Oj0ZD5tJy0iDu4hVe7ilDQ3ZQsFkbaQuOzt08EeStvDpSYYy6bA\n",
       "EljbswNk9N6O9rWENwWhcKEqeMNu7SCPmS92tee59OanH74E63tsUTF5O/eGDKYu+0ivefux6CmV\n",
       "unLgD+gB2JG68mHqMqGnJ6Gcw2pROR0DQTwDfCTJ2zpSYbt0Blb318ltK+bCd1ROQf40x7gJi5ta\n",
       "CE4ue9DvYGonrjJkejASK4KYB/fPdjKrxggVLxJ+1Lc1OZmjwP1cGUH95FBlvZeeMn3RQfDjEDfS\n",
       "pUrqp9nZZBor0fXuUxAW/Uwq7zTobMBQWmyiGFU1BYlWivw8SiIWpXEvDftJoWq+AZwWjeeTA9PV\n",
       "zeF6nRcvacTtZmri1kykszfbTDJgKllB6CVRYSWicSFm5EjUlIo8hB0dMmvctrESblLgpe1mQ6rQ\n",
       "1WKWgV6ZT9WYHJLxv9J2W6xhA3G60lxAcNAlY7EfkVODaVahxC2S9PBW5dX6drVI/MVHsEy9WJOk\n",
       "/bsZMw9xGKSvjkSI7qwt7os+67lkTz/Qlyi2pIlR74nyiL+owhkABnQInWHBDDaQdL2f7fZQbSMf\n",
       "BZQ8TTePaoXHXhDnpMHyn9Rluf0dFJYevI+Q2xV7G4YD8ZLCFeiSs98bjxQP9n/UT8qJPI8w2k5I\n",
       "pdGlQpw6ehT76Ywzea+Nu9GlSqQfAjbGAVNCjcbYlO/rsszdo0JCDJOdBFxqCl51kH3yoZRylv/h\n",
       "J+QP1oz6cEoMZ5+buyGvD6XzEAxEK+62Tljp+nuFwNEJ7G9exjVamBcIYmCT5nnOLr5IEDti0/wS\n",
       "mRnssI1zsDpVBBeHI9rob9Yjg8FWgrweNajpGCVSVV1rgqmSEIGsP2XNz6XTyDr081FHPcBXsOVR\n",
       "62Z9iU/ND5QpB2wRnzL2cVgLaWdLcp3jI0FeF7ak6UwQvfEAAAKPQZ9HRTRMK/8CHyZNAxa1lBvU\n",
       "3U58Wp9aqu1kzSBHK4YrIMZ2yTr4ep25DDZOxlamu8KKDOgQFqLVKu4wBBqKqAg15gIccu82uk8J\n",
       "ypOiALBK9ttMaQeizxaH/zmT4PVFWG2EZ88N02wHuzRoICJrE/XwKCC1V/HZ9ELj2S4SGE9k4BEf\n",
       "CBFiaDYZp5t6IBszowClu43POnF3yzbtMFdAlyHyTQu3JKm4K9mgbzX7JvkykUXYx03WQ5aQz1+8\n",
       "7dVkEfXNZ6v9o7QGdrIjjYCCZHERELjc/Y69CrMBEKgxFv5eg6cyP8Rq1w53azqIY3k8GpgPc6Gu\n",
       "iERMUlAxZmfq52txDNilRoXQxkWTKcU4XKdZxACbdTz5qLgwbRTAYgBRwxCDVtwEW4KgF1dYVSi3\n",
       "5U18J/Noa200daZxUyB3TiLID/iramtBMPQGQ2rJ8FFhHKivCTOFQfJ0yUWfpaMzOf7mcNkqGWF/\n",
       "4GVoN9WdOC92I4a+4PexpdOdGxK5TiFBPP0aHFbmOkLHbwK/CNmF1TOPr5bsRPZRgy1qFYhiE82s\n",
       "EPSiYih2ZWRgrzF/vrJQwQE6WQGIjBFsVODneCPCREz9KVuACS5735pDccdwXOB26yi7K+BW9X6p\n",
       "3x7HmVanbUdXkoTBm1xQH0AWjjx0OCDe8DGcYwiJFynY+9CJMc88M7rZs2/jRGt6VADAS4u0QEgX\n",
       "aD0apemmrbr+0vO773qibeaaHz5TQO36boMG9RN5iGykhgV8hnA5NvIiBgvM8hgZAyhwkt/9dkBi\n",
       "fSKip+4KZM+Yn5NIDfzMnKIXLwIH+LPOXA7I8TFJJTucYhN3bMDpMGd3GJetGo5fqSR1twQrnpJv\n",
       "pCE5OhH+DGVfcQAAAaoBn2hqQr8AsVe5sgaUz+cwPPwOsQN6QNWZd/cOwXixGLyI3Vg34J7hAJGp\n",
       "O/RP5vi0oCsb1+qTLexeC4AUAEX1r5ttktTyRl+8OtDbvAF/u1gDU3G0+7DdhR3Iobubwr/CnBQ0\n",
       "5EOsk+o+a3l6pJj0cOUkIN98nPX97zgD7q57onQqlm50LMw0BMASw5t1kbDlWV0WsxNQp02PCByS\n",
       "Ufnoul3eWwsvAOLGjZ/50F3HLNsyIBMfKs9watP1PEcCgKagtohE4BouyC/QUocKB7GsgVonnkws\n",
       "S8BBfuFs1NH32+DIio+NB7+Fc01RNeqX6R6x/KRKvYiHno/QOl/8aSEIUS4qRILA7lzI5L4MJ69z\n",
       "oH+QcA6L2mNW/bEs2KiOMthaunq+1Tr9cC5Kqww9ujuXQg8oF4OxUZ2qYcU/TkpqIraoaASdyt30\n",
       "GwpAhZAlhRoseRoFttXG40cJ9FJ8+tUwv6CdJZdQGkA88PhCmc3L9XdX4CyhlmXUvDk+j+Ltsjmq\n",
       "II9I4a+RPWocMxUkha6WuVOW2R0uze5MBvK+kn50o8KL5VPL2Fom+2IAAAQ1QZtqSahBaJlMCG//\n",
       "/qeEANzagx0AgYMtXFDTVohRNX5NtiyoIncXhpnRUpWYgtdiIa1zc0cHKmf+u8AVEY8Q/Yq30goZ\n",
       "PjcwX+TUVe5J/iFv08J9EHq5pma9/4IeQQLWgzmMvV+V7MDvoHmpC/35idTA9mWMqtLlaHBRz7h3\n",
       "XyJSFVRaJtyzTOy3GDmlV7m5my+Rt4NLMDqxYugsdX9Kxi+wx4wvO0NUr/dpw3RVLEVGNT3QHw4z\n",
       "qxuaPqszeVfWqU40wB+1cpKJNFqVFwmzrWpQymXPGoMmdk/PmIJcV73u3pvDxUN93ALB2JG3gzRf\n",
       "xln1FB/ftEsvRdBxhnwubmnbgIl298FpL1tr/bcNOWW6//7edFBpLYd1xoQy2L6VE4rRUq4LxG3S\n",
       "q+EZ11FCsSnzRYwhivy03wecygXt8UDaFnG1rfv+k+ziuHTC0+ZnfoQUXOif3oNDPv0o90i/lTeP\n",
       "jF95DharztDnnGT3bV76FxJsuAv5B0y7wbSwaeAq3QXAQ5ns/DtO1siyUNxZCwg1ybZp/sbI9y9O\n",
       "mKkRzwnoef1lbhcQm4gN9CUePeU3plMtqH6RmtSE6JIKuHDKqy7/KcCQD4DzyrEz+XVbF56nKo5r\n",
       "t+Q/jUkaF7N9uUPyRF7NsS0ELP1HE6/MdK+SKRoDdI9QgASzwb670hbV9j7BpK3ssCQtPoJngioj\n",
       "hFqovkr7RNQJReOfMkVhGAkmS29F4CIe61m9dE+vLGTYtfqYcVl7V7QHaXs6Yg5N2pZfdQvoAmYV\n",
       "yI3yr9BYuNObVkRU1hFmb/GblJUTkZVQpTkkAXdzcxiBkeVpal009cNw9YzDeEBsswYHGoNXM3fB\n",
       "/sdxh2/vq4ioM+qVbSG1qSPHgVFW35LG8pQ/7kU+5v9zyr0eHDhs4h3tWBJfFfgHrlgs8Jn1Di87\n",
       "lSxbtOrLZ4WTGFZGprRp0fpjyPfi8zC8qrx3/3UnGqIE4HyPVFQul2shQlCYcXOUjVoRT4XaP21U\n",
       "EI2Nf3O5wRUrX5JKj70MDO15rN5zKXttWMy5comQmoEE37J+Fj77PewpkStsLsbg3zezr0h2yzMD\n",
       "Qf/cO8doxZuSHSavwAfH/y7gBlvEf8wIqI9Q76wci9DyGNFR3+KYSaNUmUK1D0wjGMMy8GSNjV8Z\n",
       "fPMm9VJ5IbPrJmc3m5aftpdQF9PEqJQwcOSnh2zMRvvmt1Ab7KiuPY2GuJKb3R+AjDOFLWS4chqF\n",
       "xhc1p7DOh0HEJQFfmvum1GCkmTj1NjixNHR8yHL8WlJpr9RFuxdzqaNtWcGmSVY8yBHpeR57slkW\n",
       "OeRv8yoodZDs56HYxjiVa2YApQf+ofUlJ2gRZLEfiF8byIc5zb0Vy/Ew5D/WFMI9fPE52uy9zirw\n",
       "ngBoWu4uNQu8U4rn8YldipaaBUPekTQ7kA2FKtVga+T9HEAq/40NAAAFxUGbjEnhClJlMFESwz/+\n",
       "nhADCwrRIAVXx1LvhPqM84WU6jwmYRamY5ynPTqlTrlbxoqX1Zzlw5wm+arIFNkGsYd9FAAeALe6\n",
       "vSWDLT6sW+ZwdUr4Nmp+fZ8yMmbF9KR1BPhEwU/TTXtkRF6uUCM3FAb+z/q7l9gd4gSnMI9GVRZM\n",
       "MtBybbSqFxuOZe79k0o1xJ7LicGVH5Oz56APPzTB97GxlBLI0/ma7inYTznv7Vad7cgZ0CS2D4cG\n",
       "r/lm8pzDlrLx19ALP2cMnt0OAucooJr0vaB/Ioy6ha3BI8nPTaz2GGoM0HcUUjdaXpIOgUPTWOXX\n",
       "fQshJzBwBwPZ8gUMSz0b6uPwGBvkUYGnVqIIkAjQYQBU92oqPwE4nGREGj8YF2Ah5z50dKnxbFsQ\n",
       "+Lvfo0kMEDDRU3LmcK5/wJY0wypx9Xe8H3QUfKgXSMKKDWo3c9a3pjqAlg9hS1CN8ovmWEoeidsL\n",
       "FUrMJxnIJaZa1Wl+ldjJMhVIMvtYcZacsbwGj6/pZ9c2Ujn9eYSYCP7uPOCNIbMgEY4zhrbPYuYa\n",
       "To8J+41xSIa/TOkjEtFmv/6sMfKw5cS9LdfjjHruh7Zp2/iwZM+J7NBdxCWPF67yXHfEK9UkYELU\n",
       "375+vghSL5Oihw2RC4ezsn97V4x1ZR+Xxnpr6+1NtBRpFKFvXOPwD15sv8DflhzlQxxUEgJfm7oH\n",
       "qTQQq3VM1b1GbL/sDDIESCELYEBr3Sw0EH2+SMTAcn+Gxo1GzKAHvXwNuJoWHCQUmCUySuDyon13\n",
       "qQbgX9n5ziXJxFIzJppHSzt0Kcg9T1h7fRpghpO/wQXozrjK+R35ooEd/aeX3YvQEQG5ranEoqnM\n",
       "15bF7Zto6u8lckQ3OdmTQwJ91gHAOG1Q1lsFymz/pYJwQAv0URbH9wF5blJbf7PtF2Uf+ae01MTz\n",
       "9RlW7xyzWf26NZG5nm1PE73Me1xfgwt3JQeKVzBPhJVgDSdt/EiUUoF2D0N92oLNUjXVqvq5ky6L\n",
       "6YFRgc70H1rODgAqllczYsgT7FTfTd48KEPB1wt0vs1N9+qaqe8b+MAowT5NL9MQQroH7eEDqt2U\n",
       "PDd5mPt2OE40eF3Ic2/aUJuc/8/ElqhrHyZ82wGrGNvE7WKBTscDF+8m018Usk3P7P9VdEVXpMOg\n",
       "bViJUkS287ioKDCbIaAU8Fud5qFNRMl/LXjwGXukoIAIjaZo8oj1QiqWL5qae9yVYCF8k6ev+kWd\n",
       "dMQRANrInfcyz6vshppIkNXBgS7Wq+maSoTi0nA6q+xzROZgucIep1wh5PdaNksgis0wHja0tLF/\n",
       "oGbpKhy0DYXzcV1Ab5UXqHWXWFz8zZFuGtSkli1HcifVGu6vTlmZp43dX3KSHADFIZPYo5lMkPTh\n",
       "RDDoi7qbT6exx1coZOz1rL/ucfZDpoD8rd2f8n+rSpvZS6xcNKz8jP7TaVQjNnVVdTxMJLwQN2Pu\n",
       "12KTjUzZDxwl+xEhOlWIZ4tD4TPoz4motIqJDRSl8iUIMQBLnK8hsszRfTvjqOa/+RDCc2ajs/iY\n",
       "qF6LfEWQjPM4mnT9coU/ipJjBXUwuCGf81bcdhXxgRAlgafzba7WaeA1HYU+O9cF/wh+uhk/ynfJ\n",
       "k46m4/4aHc7rjklZ4XclxXApUMTWoqihN1yVDH9G0e7aISfiGNEanu/K2x+h17yDvGBzgzJOL0O8\n",
       "CgZHAQnUfQ9CU6L5xijV+XGE5I5YO03aERZ6OAYpKzHD+f2pNAStlugIORdGx9hdHuenOHwTA3nj\n",
       "90twluEY9wBtTtjIxZfANL3APZm6GgWOOT3Ydii0q6vLcZeHRQWrCxGiGLNC/gvmeezkMjQdcNo5\n",
       "cxoe7EMA692TuDHvsRSLMMBj9u2flZmroYS0KELxtOKvVjz7aMtT4poRCuT7bfG8TPorJ2scJ7h/\n",
       "mb2KE9frMYtXTooTtO+UwnYvEDGNKXDZqVOGnVbaiUKcAKrhr4AAAAHCAZ+rakK/Ah6I8hxBNqg2\n",
       "WfY2b1RZ/H1ggV6ydAbJNxdr++FNsQQo9YJciWaUurS0+6n3tYkSLFPGJBtBNA4OSEAIS4uKXtL4\n",
       "QO3w1TC2X5Ya4fTnGwUieVtM0+ok/xmLGch99mlTeFpLzuwn/I5zF5Tau3qT7Opqd8LDqbWmfRbv\n",
       "cClrGX3NPt8/1eGE9X6VK6zgH/eKwBimVEDeI3ccdisZfxPjUFZSl5UkKwURxYyGkpUAJq/XkTt4\n",
       "HENSj3DD49Ykan73THA6ISZ7NSELzWW7/MNHEGZrTQYyeAICaR+YDsLdTKT/J7dVKux7RWwr9XGc\n",
       "dympsOElf+M2ioT1M5iJbMSiqkSg35Y2emLqGWm0Flu8r5SzV25CTeeXYMhaV5gSF774Uq0DZXXr\n",
       "vfdPtT4w2zeq9Icgll3BMVL8n9I9ck71lrQ5gnQ96qVTmu0WMFwgcwCJ6zAPhFF2jQ2Odo/zO7h3\n",
       "ZGxleiPyJ32TvkYd7SISaVddD4fcbp2QEn9Yqw01BqXOe+AYapoq8swAiIhVZRz1XO53cLZoLmbs\n",
       "WfTnPlpTgVJub5rhNAztOqCdTUwrrSVxyuLYNxpjOzAcvipgAAAECUGbrUnhDomUwIb//qeEAFR9\n",
       "xV1rc5AJyuL3De0Ir70sn2W+oe1oz3SA5PbB6BW5lMuXycLn7dRenDwn63fWXnawYXN+dpBgwDat\n",
       "iHQjMJcpjDUQjgAF+st3uXuvB5WzVHIUrjfZNj1Fwl7CabvJIvXzwDnlgWWBgWKcHl+Vs5oKn52F\n",
       "2oa8lcr7/Yi60Q8TpiKM4LfW/2J+00Uq7DBUyoFXGHaBrIPVeRzeC94IpWz76PeRV2BiXKh7G2yW\n",
       "rdiybPOtFdDFY8dJB674HXaSmaER0ZMNT6D2ecTrPkTwKLb1+GVR46Cc5MeUc5wPfjic45/9vlJJ\n",
       "twWr1b/nQxi4wCGWItIC8BSg8c1p9jRpI9XNkrC0U5NLxSxHuKza13KMJcFqjmePNeW+WrHCIlLm\n",
       "fF+yKrb8JMz1fSp4amlf7RXJ1MXsA1yWM1di3pMT4VOpp8shbxAVqaI1Bi02zu5AxaYtjkuE8Kvo\n",
       "PIealVcR9IlI2YyjtV+cuk/Lx82Ye6gsVT/A621yCrdHidP+BPHP4vhroStBXKpSjIbYV4O2el5k\n",
       "W/oeUZ4AojhZFV4Lni8zkjVoYvDeFyQg/6qJS0KKpy/k/6iNuf1WhQQRaRp48BTg+B8jZHGllnQW\n",
       "43Vs1/lc8b8bm04RWjfy28Axd0dkSpYFffTtgl4fh5T5icqbTHWf1h5Hq1pAxypM1Una3CcuLawO\n",
       "W7aqowDYmgyR8L+4n5sZyb14P/8o+xnM+r6PGqIoVibJ+W+XYe+Q8dZydvTUOy1NxwOLAWJP3dw1\n",
       "jkPdu5ViT3YBCQaHVELDtfXmKMd6hkhISieloxOT1FCj5bI1JAxIBrnQeuTbCDlVYrrFn7J5873j\n",
       "L+I/9tBMM4meMq+nRNmjcJXAEQCC7kry2n94UurhdzP9BuQ0q+BYohqrT7fTQ1FFyRshsoNJkmME\n",
       "4a3akVVJyd0cFa7Elp5UEV3msyGZpzbRCqL4FfFAOENwh0deL0qmZ/ipZfDXGf8+byEG8UqvXUm/\n",
       "2Sbj5ET7xk84QMvgzbOkQ6R3L6n0eDQdY7JwKXaqqBcTXVCSOiLE/gz5aEU/6hSuSbT33tptyQKv\n",
       "aye9PvWNDdaSbnrUBo6Kj/w/7s+5RCpVgt3ZulXJ3gZXCtHbbJSTcpCMPb9q7eE5b1OB6j9mMfXD\n",
       "O9RwH8dKzP3llhJD4wKUUuvAV3R6H4NxeG3tYOpYzIi+de0qIWIbUxbSk+A78Lji8aIzeMoPr7sK\n",
       "DNXPj97j6GnbMHYW6zxX/2g/U2/sZ4rgtHulzQJD+chB89KSCL1UWpYCYzCbQ71C0ef7O/PD4Nkj\n",
       "XDbmF6bbV1OzkhIKSWhr+e/dzBCGXmgb+gPW40Cg/9AK3newNQf+tTRYVcFk0HEAAATAQZvOSeEP\n",
       "JlMCG//+p4QA28k5IBAwZHWU8/fJ0jUo1FLuls1WvD4acFFAj6xQrgu4TnzcWstAZ8GKvuxlx3HL\n",
       "8Yh6knH2cyJukdGki01lMAEwfavhLaKCel42l+mUxYTirFMxoKIUG/JaAiNYI6aM02hU85Xeh4Kf\n",
       "QYjvCQvPty2/d9yKBMvMzogr5DSmS7iJBDiNJ64Sj4JM5s2kzh0YJERms9ZX7LdLjwjVaGLektuq\n",
       "5jSKBZbiHg8or+yICCnJoanOLtr1M7f+k3HpJoIos8Ae2g5KJJwBcm14kUL+dFPdgj6QXj16nMdJ\n",
       "0gEGsV652dNYAS22U0ANkWXvgLu61ydQ/dDnvHEQHJU8rjGD2sOcqE8upf3W0SXlK5ZFkY/Zak+Z\n",
       "jTB5vPrZV5m0wYIp4CKxZLJwwpwD93A1iyCvKtVl/Oz/7eokHxZJgeB4A3uYXUpvcCKjMKPAWHpb\n",
       "hIESmnTe32ZUen7p92LWnCF4VfKWMdOeHEVsHyKcZdEEIfixRgvcqayKv+tbm/OybEloYWK2ZpZh\n",
       "xNNMPXWw65SWkCxDakMXtIv4zrbIhnoHehNr1zBK7TFgE00ZTqe+6SCV/PSdPAPS60q6allAcfZ3\n",
       "T3GGlhEC6uz1M8Ipv4Z3A+f2DEvJEjP8f+kiypgF28a0JGWSbpif4Lsy3kzu5m21F7x9Q+SBtDnh\n",
       "Pl8HtKEXch85c8y2X7A3B4G+X2dnwvpFxlFoOZsNFDlXga3vj76szPS4WZP5382o6upL+HXdsRFO\n",
       "cZoUrEhCjS2EMxKyGUbdXaqruvC9uqOg68NMmXuRshqO7PRfoJrVsSU3vVxFhyMKOa+5R6jkhZ4e\n",
       "clyaiPW99nSfJXr84G6LiusJwUJl30Ep2ozXHWLwmdgcY4IXWT+YVVx1uffTbjYwlYjYPDspZ0eD\n",
       "XM6EPqgASqPhG9wyHyqoEmF3+XWA5asgRmbfNkNYDZM4OWt2oc6kuLkhejo5xx8griUb0aq5vgj9\n",
       "/ZiVHv7FaS6KxDkCDtCV/CLFD+aiChWSzoOK0eygPHmTQxrHYyldQxBMJfjB2B5R9Rh6qjn6cPjg\n",
       "bVEqypjgf7PtGDGzeoQqlKinp+6bvTXG/UtyFWxVP9gZVu6zc6zZ2MS8yBgZOb8VUybACSIX/4Zi\n",
       "aB25WLKC1Iia1R1bKjBMBW9Oag0FbTC9QRdPQ83fwaiVxncUblqviZGUScIWjJzw2jz9WoyPHg6X\n",
       "0MZ9VszfomlhZOdnuscSGpU8sWqntVeBK8RshFKIvLLuezs1SWJ7c7MvGvg5PaH/3qCfOJsxStta\n",
       "3YAYS7YuLJ3OD+s/ppcgAfshcj0NBFyrNvlOXLFWI3EeDOKru32zgjqU/F1AWqj45zLQtDSXdQA1\n",
       "0K/FikKbsfKkgLYGLKE5Irpdp7Bns5ZFkOjW/Wn/aeP/9IcOJSPCv+oYca7lbO7cY11ifMTKY5dm\n",
       "AqFj1qvX5VPhU9nMTk+sl/OcgZr2wA5Ry6iITUvYwyvS+/vNAjqv7ZFziLeG88eWdnhGFE8yoygU\n",
       "NRB3DOGgY5F4YZzdXxPtlF58n8mPECVgJf5nIWIPQ44r020XNSAXPNikDzP6G+T5SdE5LgVAPL/n\n",
       "2zgnRq60+Uy7Gw69cQAABdpBm/BJ4Q8mUwURPDf//qeEANua7RFn1LfjlUPs1jfLTjLTWmAHAm4L\n",
       "QpTOQMPZsDnS282qJjWBdKgQPnX221hCHnGTwFa2KYfSlpdvA8g+oM4hnVlLHgMnCxgrdcpHeVrd\n",
       "njrr9IRWKOlqYcPq3jLtb+yNYt7HrFpEqoyKWKNRDleaCFrI1oUBXi8XvTLMDe51gTap2yI7RARr\n",
       "/m4B9ZryPr7cFdvtW/X34kyhKaV+2C45RVBh1aLvkjWdCJTgN3k0M/GvfDkPKD+pTKBlUoe5SjHI\n",
       "trm7gHE6AbEbynp2HijTza5mQUNUKx4pFY+ArQP26/4YMYPCgCsOKPJdnXn9fuBUBRjvU5pitocy\n",
       "aji8yFK/UtFkMpF7/UXlJxHBp+XOkvBHzmU+0at5esLK2T9axB5YoKlgEqPbvJ8liUisrsvVS545\n",
       "99BqBWzhhfKAQMNTS4ZSc2BTHaQVlkgVH81JQCT2EHBMpUWGJhQrmjBHzYBaoHmVsSRv+INrb6zM\n",
       "gi/cSEvkvAis2d7Hmus0EscR6IYbkGDAHIJTxVWnMhiz2VADjCOnO4i7UkGkpvTVppOnigIbqq9O\n",
       "GLwpQagniGYw3KazHI2AA557dsat2Lg+FycCF7Cod1rt3kfMK5n+RTQs3HDqzKVDaT8Qb8eujHtI\n",
       "Wn3kO9hJSyvaxIQM2XMK92iG91I7YpETHPzs5pxmSaxDOVPjvC9pkfFYuAdsRMh3hwVcHa3Q3wC8\n",
       "NWE8LqSwIZuy/LUP7+ITWoDZTKvFZ65dzY6ADAFKUaqh6SJWvvc9jAfyxTWlochFtDv593/AS4zK\n",
       "jBgYlA6j1oR5HzpL1gRjb8IjkgzQXwZSiA6zfOqQiKJk3n2sBp/wX8jSWP+Eev9qrAhEvPM15qJe\n",
       "5PxsHhwJpeo4LLSLuQqEAtnHIa71vgtJDWczOhORZMsLwnj0m7c4y1v5Bhk0BU6WR6DQY6RN1tFA\n",
       "6d98TiYpdok/rVwIOOCSqwcpxJRErbK4EAnnTxTkwMGNJYOokFzxmWaQjkv3eNL0cafpn0aDrICs\n",
       "m6WXjNk5sX+ikYkcX9cBIlpAYEsYRW0p7gdnIpK2HPIK/kEUDopFapD6TXDXkOgTCLiX95NH4kSK\n",
       "EG6Ux4vK5bkkqCgbreXFclsN30uyds6VfCsEO5I1yWmypYl3RjpfKgjhm5sPvawiLoRcFCgLGWpP\n",
       "PbH2WMfxChqiLX+CCmEKhdKWtnOpkskmJ3Fg+ypaIAcW1LQ1VNFiDUiZIwxQr4OgNiA3Hk4Shw8h\n",
       "hhMjq4eO4UWBepDmduaiua7vmoEm/wjw5A1Fe/6gE1CgwgXB5SXZqFcNWM8miol1oBlQAuJFYmpX\n",
       "5uecXOxgiyv623fpph5lWTeG+ehemXu7MKq4JCYBd9zII/T6i9eX/kaF2mPl6AC1dg8qjlK1YHQ0\n",
       "GghoN3dga2dsJAETtGJjI0/lPXnmux4MigPZqIAjCTi3QqH16ShrfkcS7gYvKLrvTqTjyCsyu0Pv\n",
       "fSQVy3GA3EAlngJxa0Fa+lMCwNMweRNmvR+uNS8ZKv82SO5eVmGaPGU4aZh2Cx/StOQlvuJl1Lwk\n",
       "9NjqUkAHj+WJYEmQdiExJeoGnUCoSdo6hjhAuDC46bJWLsbK+/bkKwJa4K5HLMHXonP+k/3rrZAI\n",
       "XmXhgKKRoaiC4yWa+28KTPxV6xDOPboXSSeNe8Ip/tBd/1EsQ5SG7zHtWac1Ghdx9/+El2Bls9+d\n",
       "m2JuGM+tMPo/6Y/omMaFyDUKhcuJZ06VMSKighDYlubCu2oOQhe8QT+OmZGtsqBbiDCEa6kVKfW+\n",
       "upR8WAtX+WNr6N6j4TEOp8VSoNx9J+kICSJyIbSWerTzqtULqrc/0qkdh2kh/04/Ot1huAFZkNJY\n",
       "k3NGirIZYaQCLQiJOzEwLTBbZJrX9VoBWRaChHc8VN5pc4U2U46nav1oaXsANaN+OcKzK9OfriYb\n",
       "4q7SrkDUlhODhc4HwCPJ16KxnYr9E9tnd0lGn2l0S44bAAABaQGeD2pCvwIeiPIcQWnabkdsRr9j\n",
       "6GVJxxAcya+/gdKZodfCuKGXiEwXEnHayKf2syWnyR5VCwAcd+lMP3JQEBkM6VD7THIqrSqRBtbw\n",
       "TeCktASqzJo47oM21W0A27bAW3F9XvOh9BQ0nrAUsO3b4Zbe+tUnfkfRz0WJ+0j5+hIK1UwqoNCq\n",
       "0tfYsGPnOovTUaz9zVtC/i6GjQnTXXbtNA4QHvKmcU3QOiZUe8sc29PHMhhFoFflCZJ68kOgdwMq\n",
       "Rb5A80C7yayXFxH280AgKrHvYxPjNLJWUDZCgj3gnnAZiQcAxUBGTze0qKFPyFneTPxqCmoKZIUd\n",
       "Me4tvt3tpOkOyjxwlWBs+VKTZ3xV3JwTuwxUErhcg1f0bjK/2Pg9k//0qcJX2Vg/0Gbq9mMpEGJQ\n",
       "4hqKMCuvUsCf7XVcgKCdhQ2qATyM2/r8rQSN2jehRRrZh/9Bco7vsATTcK6gTLV6JhozRIWuiOQA\n",
       "AABBQZoTSeEPJlMCG//+p4QAaW1DHqqb1AkdM3+Yj84cwZq5y+ZYQrxQIZ6aU1f4FYldvwV7jIsF\n",
       "26xnNHj+xyiGTugAAAGbQZ4xRRE8K/8CHojyHEFqd3MgCOr1KAfZBx2EhXrw+YHKASarbvS7BRIk\n",
       "z648L9XkaNuO99nli728tge3uTub5zERyJibVq1iUHiLFUQmu3d2xhR7A74D4T3DPtqVG2j8lCdA\n",
       "X5ZuPV2Mrdw3C/W/ZfmzZRNQX8MITYDKprilKyZTexig7aX9ChH8Ihy4hWUq5eOkb0glMx1FIUuA\n",
       "W+h7G/HJlYwuTatTNMXjxR110ZfprAkDquUcZ8OiWKLOx9l4NxUtENe8HD/Vdo1KBZEaHB4FBwUb\n",
       "O2BOXITAGuELL3Gv5mYmNVqzBuHbUNfcEwj/phs7CQR8g+So75JptbzszkRDSYU6kN5HbwIsXGBz\n",
       "euc2bkWbx0IUrgNfs6yffiWGAEdXA0u1zcEcEphIIfrKUHrxpORU9M7/r+SuaLMTMm4apLSofuks\n",
       "p8D9JnbiCsjiPi8M7Sjegr/L5Pi+d4k8mGzWxiMbGmrxteKyse/TkswAFymf2xVIiFOrwkWsQk2C\n",
       "KSP71ti9c1YBowvOoJLSeReTlkSAWgMnMo4vAAAAQQGeUmpCvwAsVe5qWVbioi/TXLSpzZHThUdw\n",
       "GxTh4F9TNkYq7WApBa5ABPe82rGHvVOIpo+nqzNpBhB8LiFKYBUwAAAFI0GaV0moQWiZTAhv//6n\n",
       "hADcDl/XAJlQ5dxFvV79Bs4Uj+p5MnvuPB6O1372LDzD+iS+3MTC1h4gvTVe37rPSbFG6mdSXTTX\n",
       "fYQ3vGhMh4xpn8z4L5/KHY0h0m2Bz9qXnka6PSPxic2r1R6bZ+Y/xbZJGanz9XvePdxwFTtLy7qU\n",
       "AGjx/1hPCA+RryOjjXDwmFbHA5heoMwlzlo5DSy5F0FqBBiqj8Dofi99OX4eH1+DIlckHiIIeOCO\n",
       "DYvKlQEZCZNXHjnQluWDnjfD/oNkGlgedzpSFoJ02GttkWYTp/IvVJTk7wLu9Ij8ltDg2qMxlt6x\n",
       "BiWq3SKqltrlCnNsd6GMLiEnKV8SJJSvRuctRxpXLkaS/N+Bi8Etxl89ArMpUhSFHpNRzp7vq4pd\n",
       "qv2I7reow4ojQ6fePvHCUGp4zyed8H4IPnFP/P9UGAIPQzLzQce0qsQeQ9aT/8Nii0M9tyNvBsnr\n",
       "AMxwovwavQSbhl9ua1vyE4T608InbLJ6kynqJgr+O/WQK+eFMMB391F9wa5rXeDCVB5LApB+wLSa\n",
       "XRlBu39DKA5r1j9cwe9xlMW7JVKSAvrPKC3rP9pWr20wLZIqNxCwk/C+PRXixA36kZSsZrA7iMJX\n",
       "IQXvsGsEl7W4oL/m6PK/aB7/U7Qj5k9POUvYop6zGJOP9XJiO2CFeUow6b5F6fxIe4siDSRIWQLw\n",
       "3gcH6bvfZwBprecUEgGPc3bhbhgqLaOMDs76fiVEqP7u1xa70qtVMIKNxkPN/BoFUxmoSX7NVLy/\n",
       "KnWXmzEO5gv95/VE6zR3I9+jF3Y/241LLCa5EIz9eetW3JaF0b6qLc4/XeNxVlYkFHherEeE5IMU\n",
       "WIO7RVu+42O1kLcRVUhUhmFVzWfqHMU1R/o3EWPwYzVDBb4XUMasYblzwE87YkdzFtgnaWTJWYXE\n",
       "qUoJrsQfso+jVmLSB0UhL2prF6ahYX06dDZIiz0JMpDZ/V/vlh2EUU8Ed9R5VqSUZ77mVdFdhIX0\n",
       "07U2qtT/U87koKldnPtYa4v3lznDO52EkaggBmeXHOn8VEkERRbcqIfyv/jKTazJf8HZx7yOW2/W\n",
       "qWcwkJKLKYZOKPUpSxNSoHrna8krNWcGdWxNVr75GzEvHXBVEvbYQqUtYKGvgLvmfhrHpiYRSXww\n",
       "xPLD6/Tn38p7hgPFl1PMM2KBbMLu+gXJaQttTS7RkcXwVwaNU42PNQIvs1GvKFeKLvbUDzASazl7\n",
       "sOrjUF1RIRFMDTCkFDrTH0dtCZdqRtweEHF+vZJN4JeJQi34tkZgCS4mUHfTXlr8CkRHMGqDNpMB\n",
       "Fi7tNrhEv7B+aStXdGc1kH+t1sVDVHg4Jd1Q6qNj/evlJjJE+sPsDujdDMsZoQodk6XmvSBCKYIq\n",
       "S9ulZl+EntCY0VwmqFAMuPGSmFC9wZW4lDyOtHj1JV6OuMe7lXZ/aHmsAe/WsjllT+XOKKg804rR\n",
       "1dSEGOq1RJrjTdbfznNoiBo+AVG+kailwjnGYvIkmZt7a0SwnYP0Hup3/Tb9B/Nd3d44cSo9JB46\n",
       "MejeilpT2Le0S13IkFmFJQ9Ur6Vhlo7WrCMoeqaJzZymPCi5L+utCluy/yUyGCTq30L7eUMor9wn\n",
       "/9ups9jFKqfgz8TgHquXfzPnHv13E7tm1x5GrgU3bY+gA3aCIxIFBpiCSonr7cef+3iu70BP2fcN\n",
       "01LC5CeMkw8sf1HZRP7cG4iu4TvShED5YXBW6/38+MhjJj/Y4r/cBfrQiUSUviAAAAKjQZ51RREs\n",
       "L/8BledOsnRaLzFKsDXQAQz1UvLf3+IHfpK0uLP72Y4GlIUoYOr1cG0ekWOZWe34Jx63sRLzoihv\n",
       "ymdsKGgr8UrXPCTH5lIJGQPng3dAAejImhaQW/DQ4bqK98WavWCJD/Xfll5EppY1T/qAOtiuk7LJ\n",
       "qEwNFyvZyYRoECkCEepGPSEBSJeL+VbR8sx3n+hjfQ3/eAGtv3s2ztkiRaMBq02sbW0jhf0PMvdx\n",
       "Pbdmn7L+oUP0xtEBBv05zHHxXxmIUksaR6SN1goWsBEJWLigH4qMHJUigYPrqj5SLzr3mFAXbEcs\n",
       "X6DunJgHkGCVh0a7JilpWDUhj/dqKBmwwkHR2AimSCgeqfyJUhWQthBCm2OZ2ZpwtDigVePkys7g\n",
       "VTEmNjO4r6f9fePKqNggqc8sNZyYgEwv11+2xOzFYaGtK6EuuUhFiVNNib6xnVpmvGO39J///f+u\n",
       "ityhLOqz5vzXaClIehr/tAJsgsut+RHuI9mTa4ZnkItJiFFtYZdu8elqm/nMPBTiXcz2iNFrfsOG\n",
       "OHsNwTdJ6SWrbW+EXOjcEZtUI2D3sQ+sB8SL6JTjER67yMbIMTiKTAABhB4m6x531K91+c/h9EOL\n",
       "9BKypwkoqKnMSvyX9Z15E8iPcTWLvuFe6wuADwKscIGtQe6H2c0MXq93df/1ZiSRHgdA2NQPq+iL\n",
       "1ix5w+yLJ4QZC6BIXSWAUW62EQpPYFRYZbHF5MPDKZim75I+SiQRoDSAH5liTUtYjSWgdCEruviQ\n",
       "HDIlhDE6LfvOBhyuV+pkXKBtGL1i+OjQOS+I+YCJOoADXHEZd6WAXp0XMEG+REReNorjQOom6Q8o\n",
       "gTxJedehClfurZnl/8p9GgxLWQozLfNimyOGEcxoycCyk4kAPBkNaROhAAABZgGelHRCvwCs0XM1\n",
       "G/TD3JGDPgbL8/i4dl3AHtjwz62MgW8UQRMYjf4Npy465cV2i36ka0JlJeP+nVQ0Ah2QFTFB8WL9\n",
       "jTxhBNsoPxd46poBynvQRKHlmJHoFyzAAh753nKN3LlpUA9KlGv6QnCczv3SCPf3IPm0s7yEsonD\n",
       "QOKhxmQFXes+dc/Jc/vnbcX+uytcNO7+2QLOspTZk2Kp0rigYld8PJoJWqXq02bjvAwxFK3/Qszx\n",
       "x67M/Z2RnKV07+w+MVHJt9JKxQzm9MesQJgKReMXSS2RLtI82Jx4KwK5vaPQgdBe1qr+CaQSYWhn\n",
       "rMCUVN6N3bBaV6p1PlKB65FNsqSlSlwMe1keATA9UeN2uRVjvAhRghgrLktsKV0HYSksyVX73rI+\n",
       "uaZVaTq75ZL9SJXKwhH8wlra1Htsz4Rc/QQIhrR9ujLoWY1PlbM95zufA+cGwTYLNELRhso4StMG\n",
       "/lg0WYAAAAGxAZ6WakK/AEODQMxGf6WKLhLJxHVLIArvibpRnUTpbrwGCRxdgSiGR6TDXzJ+Ep/C\n",
       "u0ZUjb/Nk6zAAIRuYyClUXn0OlFRoq7gM4DPzDgfkoqWVRsZ6aAl4jTWm8S3FlgWkXb7GjI2RIus\n",
       "y5koL/dzTCSDxcudusQyKG31sQwO/MQkqQBV/4u1q9wniBCZ52fBE4SrZaQC9D5yDszn2iybb6ON\n",
       "fnRsD4Mf7QZd9auXSsjTLY+he01BMMwkU6+iN3jUxhNgXTwEDQkVzO1Q6WPMRk9HqrznT7m9BMoA\n",
       "1K7fzGi/t9bdm1IuGar0QLIEx+OaR0paai2FqHQuE3aWSHvrPUuvuergImUFWhFy40AVXZweU0AO\n",
       "jIxtWrvngiO1oPO0DALf1aS9QTE+25k7K62yF1UdGs9Lm5TgPCg4q4D+l5KwzXt0Isd8gx2Eht6H\n",
       "qwXVg/5w3gNEIPYxi0ig2wV9i5Iwf4E3+jmh2+Q+FDBHLoucY4fFIF99Y6g0WV2sv6oX1VYC8Not\n",
       "n/IUmMDMgpJNDqddtkz83VRp3ytRorJ7W+U8QcdVSYawhioUuocvBOmQ4QAABLxBmplJqEFsmUwU\n",
       "TDP//p4QAgoddIsW0rbbjYAa1eVTO7zgoCQBULzoQ7IvNvfThHA4C49e3w5KN/kPQSh11OEvd5IT\n",
       "5uGkGZHotJJ2JgGiLdBhS463VFtCKeKRJdRQZDqzf4KqhfmEc52qbzUrV0kheQj/Anywd0K5BE+w\n",
       "1YOskf3Q830M3sXQKhUZNpz/qouf46bCB72ZGLtSKQOX689dlMosx6gTBhrcDmWDzJMl3wSpIrpG\n",
       "dN2qrOKumht78yhajZbGfJxGbluFgZTShccWJMQxMTrN21ejs4GZxL3qyovXubbJAArPLkYmfY+t\n",
       "cAvswcFR3ZG7T139biGmF642GGU56H4+lPF+3wTOTBeUa0AhAR4R+HMynO5X+ocUEHb/tnJjJYIJ\n",
       "431b+CmfUmNDv5PyYEE4afm2aIhC4KzDyfBQlLvMbKWwu4OWd6zKLn2fvOZ7ukE5WZqhWMwTsTTE\n",
       "XNIEqgsrj2Zic8+hiSkL5lbE+at/qH9kQu7LZs9Fq9OgJEmvyM2OWbDhYcAv4AUJIbQ6LRLXEzXG\n",
       "laCj7p6IZ7vhysX98y2MHeyWfOCjFiGT60/oDDTs2+N7M3rFCnUKcerIoME6Gi/8Pr1zx9iHe+ye\n",
       "QemUs/72YHtHoHLrpDhw6fMtN/ZdguFd65DjqX+IDR/PdQRf6ciKsq1ULAwGa4qPJROrQ7t7qWLW\n",
       "rfap/kdzZB9313pRv9wwDeAGx71nGMDCZ5EbYMR+Upiti5fIMYXd4Mex2EnAheKfYdo3Amy3SPVz\n",
       "Id8l+N9tVTAAEjg91qrIbQSqw38rNUTvkQCSdMNlAWVXT5kVLNke6SlWqvQVGdaTkMoDgetyAIa6\n",
       "jpFCfhL7L7KXxR8gZ39e70VF4BhTB8FgLzTH6G1DzIiTMT9pIeIOLO3+0JfKokeHaWF1GPsUGw15\n",
       "a/rw0AlMAfU/u8DRtvGswPIE2kvpbLYQ7LFiasB6Pk/ng9H+1GdVU94aekQvxM7Lsc1fVwzR7qLY\n",
       "b5cF7QdPrpxMSqZLQ+oVXZCgAV0s5QvSMwXUUY1p6ENEbpYbK8HUoiPKqs9GViTd80GcciQocgHn\n",
       "PeBoVLjIZEs+6JCV/Yog4zkpkZRIZUKRFSPRDm0xkYCcaf+bau45+FcislkNjlpqrk2u/leSk/s1\n",
       "+EQJv+XPHF0j3DAfpKgtV7i/LwWbKYk9T9nhFScxmd/pQ6dQfclCJjI12zTfQX8vHahcQtq+lBpm\n",
       "chECV5Z9kap6A3uxwKe+GgyCdJVI2u4/NT/n1EWfFVQjCb9V/shtZ9O4Lf6oYKT2vNv3KH6d2jHu\n",
       "UwbT9YzBrWuFjNhQKLUgPRZdonrTywnIGsjghcYnaOtWmlyRLC6Q4BLoydGuMy67wbQQUVa7bCcp\n",
       "Gw7QQ/9BQTemWODxqXY3+5+wBeZxBS6M2y10NBclaT97EsSR9pzw4kW1Sgaz6F1zY05JGAPgVbcE\n",
       "Lpw4jMLz4LfCpaDAGpyICaQLPNd9qgFGeTa9hRnETpXlJN+1a6fCHwU1V/xmQfDpAjXbn6mVt7Z+\n",
       "oBvoGh2GCOxS9r/G5X/qGD4pzG/PRJj8bSGHeSVXJUnrvma3uFRdKvFOnaVHb4i9gcsT8C68+8tm\n",
       "oK+JmgMAAAGeAZ64akK/Ah9hzRsEPTJyqPxm8ra9rBGncGhydtjeL0Ly7vtQ9QtdM87aKDsxFIcy\n",
       "9mC8tVMAIdH3GYIttKCOrk5cA2lda48FKyJqajYeoqqaaZtNPZYSJPAxe0TQMiooPkf5eSVKb/Bm\n",
       "mBRnEBiHSMpPdjqXoENE7WnCz2OC8qt12zxznWMrhPUM4R9Wcg2uG5vM3dLOiqusUJeQDqDL8CJG\n",
       "Cd86l6KYbNxc2FL5LELUguxYassCbYOqKKjlFnAEI3I+cSNehFQ2+uGreYFtyKccGxxEZsh6vev1\n",
       "XmqlUUFL90gjQ5Cm86Gvm2sD1oVslVvrN9XajCuv+qrrP573jISV5Iw/lKGS3rSzA6rjjniVzxwv\n",
       "lGhq2LoHCjc6P0LM3W6c4JFehTxff9Q97w0HCFuZW8BgB6u2U7qKHsy59jJ0FdX3nOSs3vy47aGF\n",
       "im2aoe8kUzZYahVOFCdH0FC4F5mqOM7Box0U7W6NVL1L75uUX8PVImnr7ORt1/b/gMcmrGnreJFV\n",
       "eXQjsEo143s10sLH2JHbl3TRHjaQV4oIAAADhEGauknhClJlMCG//qeEANvgV+cgQ61peAAsQADz\n",
       "Y3bkLqx1hY36WPuvDCBo1mHBYzUIWbV7L/9Zs9ODWmUnsbh39bFM6s+V1XQEo2uDNS2mnSXkjrAx\n",
       "WLfU4gmu47Gxep5TQtrPkyDlQwLT/sLcvFUmo4K5CJZl+heKd6IBMyktb7eDGjnjifZIynDrCYF6\n",
       "XC0yuE6jWxQH8NWijH+8W4hT7hyRaqK23F/rez+Z15wx8uMDhcOxbgwaovV7ehEDBZ5RPPQkdhma\n",
       "bY0f2P5jpN8cTIz47BSdQJ7KCKWZGVgN7mxmG1DaF+vHWq9ppfwJ/+29sPSRQEZc2KtLcYwK3yCR\n",
       "5OdBy2/Uwy6VAI5ceFTgrKdF7qUVFm536Nfp/est2x24d2LnsscwQ7EKXfT8e2+vHSXQK+CewJgL\n",
       "5sfq4dc0dqxHLms2ZT1xod0S4wV0SXcZn912hjc59n/2nFgkkxp6uvmPBIsqiWr0/G9QTNKFNjwz\n",
       "aV56HWPBk3Uph3j3ayTvcGl5bLb23b8LeqXDwoU/kV2JUomdfZH78quoyfiNOY7u5TNjxjxOjNK6\n",
       "C+gsHkVqGRz1M24FaEV/ZTGl/CvxHn3JZSs4kSYrrtZ3VHdKu+kYRFU9MhMJb9ei9yGIkkiMiIye\n",
       "DNwoXiOmZuLg1yJBgvL51HEn6+GqfuKiOOxExYH5z4GPWAoajSK36bLve8yXJJykx853VLLNcLCF\n",
       "MGh3dQeHgyyC+T54NAsi9lUkuG+FABTM+LgzKwjmMxVJJI/ppYhCDkfZ4fbfym6saR/Xm97+ZkBX\n",
       "Y8KUqhzgV9yZu7hUyxcsrNDZxQJZDTSu84aobZslSxPlGhW7j3U25zC8/oCJfmWtjvqkrQAIwJXT\n",
       "bF/xFUzMWttdbgQQQzxvg3XLx7wkvt4BOWgXTf051A2sJCG4xpkVr+6gXqkY2p8q8yJ4aALaJFh8\n",
       "qdlsUeCzqmueogc0AMr3u6Yq5ar1L3klULw1x6ZO1YOFf7TSsXvkhCTYSXi8edjAmq+OluKjq4Wx\n",
       "rgwDZgezZZTstt64JNHbbCm0CSxY+slEAmEl0yL4HtcTkcccjEUg9nYXyeu/kzgH5UU7s0FuQ7j0\n",
       "7ovVJBbIgceFN3DBh7Fkqng0Booe4n8jk7K0l3OonXSF4Hq2fP3WvsZF+1XQdBuAu3odSg4Wc8hE\n",
       "6FDLJkcacKTuswElacFB2wAAA4pBmttJ4Q6JlMCG//6nhADbyTkgECCIdw8YRln10NpaRu7JCJ8R\n",
       "JzHmF3UiCIGGcOeCMbNGR1ykiLTcFtt4bYz3a0lnK4NGZ14O5Lt0a+5lb8zg2/eUWM1v40EZB7AP\n",
       "p+7+dxrALpzuaw3eoTtGCVUFvzBPKjtTk728Dnrqc21IXZnQ8nCSnRYJrA8RH75mkK+vV0ugfk/A\n",
       "NxZ1YPyHNZri3iZtoNiQz3K/RqJE2/CQ/SJXnVSst/FdsJSxRBmlUipG/BTqyMdxSrtQnWDF5uQA\n",
       "u2mxVXx6bpzEyLs2izaLMHYHzlLYlYMZJKjFTPIprwMirp3u62j6/NpcsJGQCs+pA7xK1QSIPG/S\n",
       "/x9K5hG9zR1EQvVYPQSZZ3u0i1x82fz6G3URF1wmreil2RrWEcQKl/tZ/lCXzYpQYFp+/m71Kt0h\n",
       "PefKWEq3y9n/Rvs+Q/E0Hg6jj9ambPNLBINQyqnhKJIFS59PtTRMLNrxXjFC7f+ZECK/GRjHZh00\n",
       "6/mI+l/ejnBJX/O0aB0cu49+ank4ItfxHPdDb7EvG6B5G2nHhtY8iaJo9pQigjQFJQDZ9giHcjc7\n",
       "oRlQmN5jmj6kN3piwd4VgX8dfsl2QS5bhcmMw8jG92m2836wkqtq5+ad9/cOlM8c+ySD0kxqOPZa\n",
       "hYIFSi5Tpu0014NHCeEQrIyUGUKbbC6IR2qjkOS1n3XurP2FIuP8jWfmprkB4dracFdNzjnPfBOh\n",
       "Ry7Vi66kRiuyDDspfUW/ujO/z82WKLtDknZ/xWyTB3zSwDP2WqHK5GrcCRO9SJo+kVDlJtixqQ5j\n",
       "wT7utuC5YUrzS0uN6K2XnYAiNBVSodjGYEY5TA0k4qV00NZQtRIKC4e6wGRKeH3HJ0Y1Q44344Kf\n",
       "QM+AoX3kpYrFZIH7SZho9/6nLkc6DJ09qo1mH1njjsqFqoghZLxclyPwXy4OBGjqPi/JKWRXS+1b\n",
       "jEkCoAN1bkPFOA4Nf1hksO05OuCrTaXAZIZ2YA4BQ5D5XAca5OrHmxgt8J90OOpxI0FkyeZVV5Oz\n",
       "O189c+jR5jeBQd82jfwDve7LK0KwUOtF1h1P5iSKUUOGEzC1Ct+tztx4vrw6TRZJbkif4Zbxg7+4\n",
       "Dor9KQonmzd3zFymIxYZ7f6QPg6E8mtD3/LBbDzKxgx1vgPFNbcJ+q3nLVvBZiPr5Ws/kogrgYKG\n",
       "Gfm5coL+3Uh0hhTwr/YAAAXKQZr+SeEPJlMCG//+p4QA3AnZwtACV7Gv2ajB+Sn4CLN4uTE0nhFX\n",
       "6dyh6O5bUiqYdFQn4S7NxvEmNiFvZ3Nrg8eXxM/Vl6JWgpOPIiuUPolZ9Cjo9X5hyi5Y6ZpJgUNp\n",
       "ZbdfhL2AQnBcaETkdQ0lzcSMSBw9ZAKIyOFPsVw+FRmOnYvO/bQMuIGjRQqeTxloj8MfgqNHncia\n",
       "XPOAPPcqx55XgUKkZZD3kamDLc5MTIb3txLYj8xUQcAa2W2qhrqDZ0HyzO05TAaNofi0j2zxqprK\n",
       "bx5dlQRMcAQxTlPJ8OHNxsUtOMkRna3D9QvEbaS6HOS8PBmQbSEFD/wqi5TI5PGv6b757LVDjEJm\n",
       "0E/0Q9rQdxsnP0ngZzUcti/zn3mXLA6lwNR2RPCDMrtVVf/AXOGtMdk+EN9MkXP6jHYs6/r4aEwQ\n",
       "wQb3HelYP1K/Q0tHDz/Vd9B2erbtXiZiVFC1r/TpZmwsHOspRQSgz4dfhaXBAP3Xrwj8GNVv2CaX\n",
       "P03HDc8wxah4FCI25kkZ/Lca1RxZS+hFk0GA41AfAZl56PbO+M9zgEOWe+YDl/dvfqTAIxmYjbkn\n",
       "E2jK0I1bQnBWL58xtJWk432nz2fdJBQ87G6G1E65RB/YoJMAdFNUuCtUYrDM6BaMBsCDdo3i8SrX\n",
       "MlReefV1FiAUHopf9tFhm2SzIw2xALCKP9hb5Bfjbeq+7RWls0Q5lc6KYeWOQIL+5cQp+lZ4Io/C\n",
       "7VPk9gTnSrbnNxXplwDDkjD3bquCilnuiDucRPMlx/Y35KKbtjNpaJeHEIC5izo2NkGI8LfwICSa\n",
       "S+BpaUynskVVNjLaQdvtqaFH3k26NENvDsebhfjl49DQg92u8qRrC6YEXt8fEL+NtNKWSMGnDb4M\n",
       "c+JKVZwWBQNHiWzcULYEUpGW1or9HXLIraAJjTKI+grz0tcPMEu6Kq6GBeiuyLL9PoEG6JX8CNHh\n",
       "NLS7TqKJknILdznhRF+JJxZCqHbx7yz0T5lfHLZISvQMCda9xEpT2o64HqA/dr/IYeNTRAGbdlG0\n",
       "ax/aUcPI5wbzBMghKV0aEvz6+tEGg+8sq2h7KkRt++XKef5MqFiExfWmQsqYzKfjwUZorLQy5fbw\n",
       "cc11ISEYKzA15UHzFTcQwQA8sFOrNl2nh8IeWffahDHmqUP31OpOIsXDKXUxPc3T81+ktvPFgIBv\n",
       "Gv7hIzYi89Qsw0eDaYhB7fJ0GC22PebyfZ4gXuxsYXtHZTq9x29o0/prwSJJ41opFgnjFjCt0IgM\n",
       "0vRCWY7oCKCz/ZEsimf8xL4ogXAqmYFskzjGjp+WfGYyj1lzJel0s9fYU3jj6c5SJ5ZOdmsjd+wQ\n",
       "TtrXHPWjmd6ugzjRU2YFG1iGUxMVtoqzlgu5ePsXWrMiDJXmxt5G/bwEacnNZPorJfWNsD41pubP\n",
       "0TuAlVUDlSJKUmN1CNY5LbB0qgzO+ag0vaYcR2+YxxZ+Pwyo5mbk+xDcLgfnpvwmeY5aSwWoL7q9\n",
       "gGHrVTiD9ByVAlEe6XxlcfCUdF2VbQmTeuVhOKLnIh9QhgGBg+oxtIf8eRIG1DJCmjWFpCdD/su4\n",
       "kP6oywmwWM9YjN1cHWQFdSRcNvKV39VYj+t6Gg3iZrfc1Sz6GdcwWzJ7TOcBv9/oWgtU9ulMeBSW\n",
       "pMBVidMJJ2RJaPDR31QHI13ipr0aTRPwvi8rrRyft3cHsfZcajK2D424E3KF6D9p+ULZojGFnLe3\n",
       "F3MQ7DV3t7FhYr7cWPbKxC1Wd/zU16QlRIvoChcYxuFh1vULuVdXipnyZVEswpNt3WmwwDEsYowA\n",
       "RexvteLjy3KaCDdPg74Xt9XcK73/noVdI0/B+pbvN1/OiRMDQrvmACH0sDPZEgb4HbQR6k3eVlPx\n",
       "O0SeiBEEco51vAU2Dim1zM3XzjtAgHGTDzsfzOTY3jHRBtzYF3gEhAjNDQhfaRXdQVgjK6ONVaW+\n",
       "tql9Dcbkj2APz53SbpgIGQPxAAACsUGfHEURPCv/Ah6I8hxBV92LEHrodIgJHD7dcJ2yK03gAFxb\n",
       "A3lIrW0VKg6Fdrj1Q7PfTcs/WoTeJYnlfWlXAACEIyyCJKrDVm6AxTLiwyVe/3NoCxopSaVEpLLe\n",
       "k72fB0JEB/7C6eOh6+FqvMblc79Uf7gtJb6o1CmG3bzYxao03LndHSJNqYZNPcUt/mAOelZ4Q0oX\n",
       "MRV4AJrgl6jftnSPGVkia60FZ/tHCNaJrYwQaxjYXT17zc2zgiYnohZ4FC5Cq8I9CNzhIrGX7vfj\n",
       "qPWu72MsV45bu+F4G1pNHMBd+FLKy18qHCQhJyMoAP+lpmcsAKzZ1XkjPdTs3pz3RB/bRYDincc4\n",
       "EBRrfslUdx0CH5orii5FYv0mUrxt5ZM9Q4N35Aa3uFtiDDnYUDiCPYb8h7xpM8ujATsljRHVWGm7\n",
       "86ODgvp4goONyx2i+tp8dRs684wrLQrewKPToPC7piGr8E6K/ZPo6YDSx2luSarArhbJnuP62WRT\n",
       "q1+rrgwSI6HH/JyMjbHxBJ+2uGE6OhXjMbg37yuuHDjDmnzVDuannBnhoz1DX37MvAXYxgf6HTXB\n",
       "dY4frOluQDTFwBezzJE21wZtyb8CU1RSiVqy12M2Uo0+xTL/H1ttxzzjCtS6G03FsY35N6XCN4sA\n",
       "AGvSrHvrFTZtDJh5Km7P+SjlebHg295KanDr0WWjXt7HDUjhBv6KgtkILHuvY/iknm6JuRV1JN5y\n",
       "XVklzyhm8w90dW7diyxMPatf/QKm0XqcdsgjiYPG0MWF24dMMiBxV9aVCLNUlOvgoUYn+XuYylV/\n",
       "LhE022Cae5XUL/prFN0AeePZ9Hpr7zp1teiHhLVPNFmSp7qNnJ9x2TSq2UqiApPjsx6+DcuO339I\n",
       "YRP2Q/+Srech9KraIx24tC99OqVTr8XXfKGpAAACGAGfPWpCvwCxNa3OdzxiMIVwjDjhTJLgjdsO\n",
       "Sgf5qIm6ca3/gBoJ1yoAP8x/zMYiF/9wsxZ3kgcu/75p0K0xRSAVMCVWtSADUG+9wp5JRsSQ71oK\n",
       "XsBWhMRH6nPyJTJeRhaBXoivawJfes92dJMLky4fsSmV2PzyFxOJG+U9DDHv9oFY/bVLEs0yv17g\n",
       "m+nd01TYEUk0fq9Xl5P9Td+M6x3nTy80PkqbpKuuX9sVJrHsbTqchw+LK4ve38WArKunacmiufO3\n",
       "SwELKH+G/ckDWgeLNQ/N5SxTDq4dGrYf//qW+0OY6g0gtJdGRnpUkyZlRO/5bIm54+zhUUldfM0v\n",
       "x5XNIM0uletBrAKX0sOrAtAH0zaY6bN8I/tolYNk9v5/4F4Vtw9Jd2ekoa+FJgvi1xloTM4vNNni\n",
       "kIrwzYVcoUu66Qf8f1NTvbrUk5yrlTwydFvkW9qtXXfu5kpzMYVcCoV4UfoC+yA8m6PKpOTM2i+5\n",
       "NWvkibVw2Weo8vmgzI6xQ3wgzPjLWDyrE4nrU4z+s587vBVHptKod7RDBAxqRNrOCs3RMkNzfqfa\n",
       "6TQmEy64kl97iJtMpYntLUUbmH/oGibzFzVTm8zM4H0qqVrHmX1bh6JElr5iL8SKKkJxifXaXncs\n",
       "2ggpIQ+pi8s6JydJrZ8diF80YAMdFMwYLC4BAKER785vgr3pRd2M1p63KoNj3WCeeNqo3GjAAAAG\n",
       "rEGbIEmoQWiZTBTw3/6nhADW2mQT8U2xoCaIhaklxM5AF/oDmjNwpv0gKfh91f/dILGk23O1qpQl\n",
       "23bpdiMuQuZgcH/9ARrg6T8fixkPtTDiL/KxRRK3/LkJqrMQwf09n7ua65S58zsq5eALE/yjY6WJ\n",
       "oyBFIsZTOY/GLC504DXTe8h47NePvjuaVfwJhp8Ah+T7w5FLvq5iwfjGpRWyP0wTHncdX8bBJAjz\n",
       "XGmbRyRM0LaIkeCU3tqO9nqyaNLIg2AK0mdA6O6r3rUk6yaPtghKOSvB/2kUuw/hXCA4erWHZsTo\n",
       "1Z3ivHpyi58p7tHh/LsUOLe0C6sJEr4FTvlaen8WDCr8RTyzz1HkawzuoNBO87tEbCAasDE4zbAV\n",
       "i+ZcIOqXKOBwvvDh0qxXjfT6/fu03bbknWN++KENThsYyz1vL60sEyKcOwW0nl6aBmq3kLl1VdPO\n",
       "QlBD2TTNs2KjSvZc/JQORHTaP+hegPm2rbeJ/QFjfV5elAtB0ho35xKNsKGHaSvb6D6G0bmd8fmD\n",
       "0ipz+1K/Y0wZwTChPj6sFENPwglx4iHbpLY4G+pIeTy5UJB+BNQW0yLP+MGDX2nNaTkvmW2Uet6p\n",
       "sYZMv1ZJL6w3FT1/CQufO43b3H6usBIEZmMfLeaiDDUNNdGRz6LrcHZrrJlabb6C+MUPZpcGqo2j\n",
       "g/FzmC3PDpEJMnNZgAuv2jATPgmh9uLplVn5JU/TaFUIY2gtB1ECFevLdK8pF2RuGlLjzOkoHVWB\n",
       "c3o8MUq6bhrh6m7gEAOS77L2l6Uyk60LXsTZMrpGoWakV6wn79WtMVGVpk8/8oM8khm6zYE13JG1\n",
       "vCN0Lxe+5phIBMF1jbKa8p3D3A7HVjwRIrMOUdPJbMBRRf7zCgWDYbq8GZnvf+1eGAAeK8Febz4S\n",
       "7l55aLvXVtAGvGnI4r/npX7BZ9Rch9lsRPOwfEbA5AviumDfnkYW42m1guKbE6+mZTrfqjmGIahS\n",
       "c8aeiGrCdnnc1eaJVhcxJUkOJaFx71eJssowqyQZxlHIPY9e5/wCpH+n+X1AffhdFf3M2iyZjxRt\n",
       "BNwpywDvX3bwgiK3KXWoIuYawVtTdLk0XFtFn0zs4RB3vHxlr6eqSmjlgaTOYjiCoTR+sbZq89/n\n",
       "gihV02002RcdkWvWw4EuQDij7/h2D0Yukw8xm1S8Va6g8DjGAjs52AbczPiR74nr555/Kd43RsG/\n",
       "iQNOD4G5VyyUofPelYMThtVeJECnnOT3H2ZKh1z7qkWZdF7rDVfmLphtEsvFj7QG0k6+PufxyWk5\n",
       "NE6kuIwJqd4+YTjH+j7kVaIwcraQuHdTBv/FLCS+pmk1M074a69sq1c7DAoumDXaIT/U6wgfC57I\n",
       "TntseNdUdt9Bl2KQpDQ2gxxcfPs6Jd8ahjygiWyN0mjMP71o8034Yd9rJgCa8CN5A28yHkmzP1rg\n",
       "CsYzkPxafs/77STfa5q5hfkykAFVUW8JNIZmWY9wSFOcYD69524zY1BzjGgRjBDU0WlDd/JRdDqc\n",
       "ZGrsJoP4ly/2o+kF8v5M+mjyX7w/PfjASJ7E7P82lEQt+awUnuQ/GpZBjUbKABURDCJXmdEBMNPv\n",
       "U3kX8EBbmG7udQak7wgfP3oHfZ8GeVl0O3g1sBcyoYthpJn830S4Caebi7VVHoACaY4mHccRf4Ta\n",
       "eNCZ42zv2dT0IKkR71GWHyDLHso3qz5k0yP2WaSmUTCAu+gBcS1nCgEDOBr2gww3IPvVfIMJkksz\n",
       "3XLktCEE1fylWBZEI4Z2EravOi5YajNTYmD/8wKnsM2/blTCFIrIGdm9WBjQVaBCFGQDMxSgNf8E\n",
       "TcQqHBP9JAsS2I6XS+7tmldK4TJLMCBi7cTj/WhEUNz8T2ixfApShhXcf6eqrxOxNyOTvIgZu/ZE\n",
       "6wiS6jZf32B3ydzCiAiPRrFxWoExV84KoBiL1/V38yZJO7tu6ip9AC2553a7WFY7xzaNNXNamoH1\n",
       "JjYOmqKAwJQ0w4VNZYZtdYT9xWWsAX8RFVbgEUfU3HoF18+RM9HPXkg2gh9g3qDP1cm2Mn+TU+/i\n",
       "CSS//O4oxcMNuvepIBFlbiWraOVgec/PA6OQRLKyIksW8ELQ+iSEfxlYn//Ee7ptDq/9AEjiecjX\n",
       "RJVg5CQdifO16tViFrgzEmG38yF+c3AzjHBE7bmx6mkpP36+rDyNk8zn88l/5Ks3DtyJ9wzHlJ/7\n",
       "3GzsY//2v2uQsYAxsoesT0y2bN3lSzBmLOAJ4M0smNaIo66GJ0KLf2llU62Kw+gA67CvtboyjTgA\n",
       "AAICAZ9fakK/Ah9hzRsFT0yrRP/X2P/gfTdQUGE4iRA+dRFZBi/5WKHFEe3YxNRpB45VA8b5JWUi\n",
       "Q5TKreQY0Jl9018FKx2HbUyeQWgwm0V2mszwf5VrE4Sm/+Bj4dGuoozUHw16AEPzVvkWTTgY4odF\n",
       "gkmuMdfiqqIX5gKfAsxhvH4dcOHnurKl/8z6ZdCw/ZquzHGco/cJXXoxQ5YIFjQl5h6H/grrJS2Z\n",
       "52mHCbHaCHf03xeN3c3jjWgrytHofv10dz81oMLk+BYLWRgRSI45lZLIKsQncIuGFB9dcoV4emhb\n",
       "rUAwS2von3Cn5g4QWhjjM3C8qyBHzA7KOzHAYeRgt2TA8haL95BKqpfCmQEmHfKkHQp1ej3MTnWg\n",
       "WR5fPE6lNIPf6SERX/Ytnv7mf+BsUs0z4NWwaeZccar+xmC/UpI5S7BrG6XzPUIe5dYlzyBMtTXR\n",
       "kjgYp0/8408hVxVwBz+15AOTzvxrgku3FxUtJhrDD7b6EF0m3RB1aFSayzp7E7VF2yBVb6EYG1hC\n",
       "y+DY0wSL9b9bvFCXnFlUeH3+05nIm6hJBudjVoUSJmsZ/Swuuy/RidoRa/Ag53qGF5//k9/jLkYo\n",
       "Dmymfn19Pcspil1+aUbb23ACjSxijmJiiIaWn8ghmNbcuFf78r2zuG2qg09IYWxzOSeafNFIjUuN\n",
       "XDBO6QAAB6FBm0NJ4QpSZTAhv/6nhADb4M2gBOpuCxCAy26d6Dkdeb5KpPXh0b4q1+K3SswW1Rs3\n",
       "2LvFsjf2MNpRpdiNt5R14ZZ4BTAHbeDJnwGz80GQQyTWDU9JowDj8ls6h58se9ClRdxDOrtSSY7+\n",
       "2yG8akabTkCY5E9Ifc7mZeL1+09hsIJUTpPUBFHDC2PJSh5wvKCMQsXhIk/jvPcnppmUIDbxeVP8\n",
       "Q5M2++uIA3bNpvQFW/S0yr/c6uQQ0rl63clYhRYl2tH9Wi/noCFmlY4/8jskcjMYl5ReXqj2V6qO\n",
       "mc/4tPyz/UkGDCkVDK1dRxww033baRpzmUL8uAYlSG/lKDovlZUlCRWEK6V4sEExyY6zWwPBnBdz\n",
       "km0OYdogrVgBNLBJoqLNHItDi9D4ZdH9mqcWGJtqBkuoz5ejEEffY4lZsNZDdncBykTXFlKxBKgq\n",
       "j4yHNyteIQgQw2qBvZg21dFO+muBJtYH2+Lp2nptoeBoCNdU13iUhJY7fgbYyJ0P8WAAq/VDDAdA\n",
       "vZV2dM8uMriK3cZ7ZbWyuezRF9MRt8lV3zQXKPPQ9Ub7Nd598ineY5qwSHJfVlanUrq3/3QNWR/p\n",
       "8o9IozFaVcyribTSXLNWyMDkSY3fO9v2R0pqbMc4GpRoqh6+AL9jrKntE9xwp9qUQHw9Jm3SGbT4\n",
       "yEMINXRzQn6GwUvqU0DAUSRSvQuvgQGQDaoCYaaRChEcwS6SBpYl6Ua8xc9QwcdsezFXJxp2PFQN\n",
       "+fD+ChzAchwZWYgZZKS0TuF8Lr5uMCMXM5JFAenR1LMC9aOGpCpl5NvF30oS7AjjWCD/XYULKrkx\n",
       "Y1wCju2MnmpOEgTKKIh8wZLxhKwLpRLfsBSEJNkDD5Yxd4A9n1HIWFCRuvgv8C0Vm06zHaBzf0sl\n",
       "iBPvLhmrqN2bmiDyysGeHOCSA0sDOfZn4zNlKpjuxqhWfI4g/ykKV5D2uEO/xWRdDDizK+9VstxO\n",
       "nOJp4x9pl7pWyaTZhGJjN2ss61+36BXyop/5UBzKQhieexxUD8z9T9Z0MBbAFeJjtfKln2ZqtT9U\n",
       "FjlOssOk5ELQBJ/rWRtmw6GLUgpz3pp2Iu6X/faNk2nBOzqc1qKfJ3aro2Y+3f1Ylxp7yrCuyt2v\n",
       "JdiLgZJm8UpNeB/3NVYi+x/npcENAyVf+BnJbXeIlQwAaasgmt1MB1SZPiFX2TYJaLcnvxpXha8p\n",
       "oENEVGg52S/jtxURF7uZNsoz5ivU23L4UBfy0IMHbv1XKx+iyrS/NGG4/p33dBv+2d/Mr2F3QybM\n",
       "Zs0kkt3SP2EuToLreXtU8LzG/94SZRAsZzWZSKnBhfiN8TtCMFk/IDphR9rE+wzCgExUFoPl3XiT\n",
       "goSiypXGrTPsUDH/zlkVoI7AW+TftHwl0VAd2xO+8Woh5UWgc7QuJOKeNnzY+0IO9jnSaaMvk2Jz\n",
       "gKMPrDIPX5Nmzr9SoR96ZQsBe1Icl5XVV/FgDc/zb+KDhTLWcdkZaXX39515LXTPJOoBh8fBxHZe\n",
       "CR/5zHsUd6QfXHyT3YxR6AWQsCorHp43FHizS2wjBN870XqRdIcZpRZ/1QYNoqrGjNW83b2U2RQk\n",
       "Z7PEv0PXJG7hEamMshqMTHKBDeDXtSdqBkujwhrP9mk8s+svjlJ8p7HTNssK+CzPVasVpV9LOQbt\n",
       "MvZPTupVUX7j0Vr1lq935U5CArtjv8hwCQBGOcvVDDJT5TJr9RmvzjLV3Cvbxiq9lyObc+GgqmPj\n",
       "xLzC5SXkCezetnT93YKzKM83pkvVsitJD6/a+oQF82gorWdEENf3tq9YiAsXCAZ1au4zv3fTH/5Q\n",
       "pHaCFXm2TxyNw6bVyKRBzU+FOez05YFh0MRS0fn1bzS4rxuviSqZ2kAlfuajhqZpI48M734Y+zOX\n",
       "mc2u4z35QlM+GGS0K33BHoxxvIcHGhPfu0+4Lu5JdI12DNRNGAR+8MPGbIsyviuUin96jklb8w5s\n",
       "om5TvNoqE+Sh7TSRwcZvqeAtA0zbXOSaTplDNZe43i45Zs5j7i39InPYh/if9us5WyqEx9KZfugC\n",
       "etrXgvWqUde+6bqKui9x2TIiNjNTpzdZijCLzc7X71tm309RjJLCw40uHdhp4bxqfH7gFXj1JdEo\n",
       "Rq0jkH46e2GAfRnHo6qkzhheT2F61X2aAEeNq60mkhB07IrFcpCgew/hVdD8t338tOsX9DVtai6x\n",
       "ooYAqcaychav1TN/N2IAhZdvxszoiTptlkQYH3fMoRbwYrs/oszwTchRMkjUByzBbY6tMAiGtaxz\n",
       "0yA/aag44zXcgJbXKuFhV6VUNcEOLHtWlAS/9a8qtG3IsqtyCo3vEYymLdwrczrhOETe1YOt2MdH\n",
       "gHJyUg0Af14AAuANnS54LGNq0Juyz5ZHk4soWayKScNHCy7UPNN4A9CQc34o65q64Mi701fGcycO\n",
       "uCf6Z2Ff4eyjnW3mh1rXs8G1bhn8nHK/xz3sv1hbG56G0NxMvQNEU63GqyymPdIKBddfnVHB3mR2\n",
       "hirHkSv012MN8T7ouE4n8AsXZu2F7zE1ayqF+aemDBmw3dfCOyigU0AW/p2hBpBiSWpOIIH8HZi3\n",
       "YXWjdyv4UgZslg+kz05/ugbGjwU+HFAAAAKAQZ9hRTRMK/8CHyZNAxa0qYxAlUDFUdtHreLyQ8aO\n",
       "XWY9LAe2GL9yAyLCBeJIJjkt+Hsnz9xVR6UwAuLYSz+rNm1Jwih3ny3VwF1DN+uPYlQkgQ2F8Q0G\n",
       "fknvLMQgrmTTYqWdnCmU6Y+3H0NAfHLbEP2ADP7J7Y1qv0GfD93CTecAMPul1aTq3+dRoOr1SVsF\n",
       "QkJWZBDVtWXi4KN2wW++ryp8Dt0fnMWqZRzZ8ufuyaxGhEABh5RWlSofn/1Dsk2cLJeA3nMpbsAI\n",
       "Pv3dAKq858LqdUVA+ppOyDb04sz7FgFWu4QdYhkDMuq8qTNRj6u2AyxdbjZJGL+5/ugwuhWYjivb\n",
       "oT1jOXDPTxQffDhVH5RB83svNoW8UuwcuwQ0/udaAzj3bDie9UFwXFlqNYXJ91YXIZ4PPzpAQ5ou\n",
       "2qYPj5qAdC4fTH/X5gA43xg5EFXJgNQBj9ppveSTfssNrPb68JHiod/OGc6qakV2kGHJXTO7v4iM\n",
       "zss0jiNvxLcOKS73LMNJN0WrQTbkavcalu9RCAkXW4/ItBQfVB9y61g/n1qf2M6Bl4or7s3ThdcB\n",
       "H+bQaIP/kkBjd3l+uKSzcENpeA3M3LDHvm6Q8tIoTvZa5y4G4ELSiG6zU7yv3VcIxHnKOtKOgQ9y\n",
       "gD40iC57vBtfShsthc0Jct5Z/hVmqh4L+5m5MJw1vQgxc8cdyQk0G8sPj/H4pm3HTGu0ZADF44dH\n",
       "4jkeH8Ldq2xre+31wgsIAZQhVbpY7V+62wZlxW+amEgswY6AfQ5JWan07QM/VVV8s5ahutWukitE\n",
       "FEHQDCsTAGC/KI2dg5/WCcThV4zj3Ph2JX4tKDyI4IA7EOiaK8cU0QAAAeIBn4JqQr8AhrxeALtf\n",
       "p7fikO0wAZ7tbp0yRlbqkPY87kyTvOlc1at541qcb2YkBROO27YeLLUTI4ABNbJQZYJrBX8z25aO\n",
       "13GCNNcgcFIOq7JCGocyUAo4u/VtW9uqz41FeTfxXjXYsgGZU+UnrVhjsXWUBRgd6MtaWSr+TlJx\n",
       "ebYURAseqADfQ8TmWxUKujSCU2b418RRe2ugb0oMOVCPZfxPK/08l3BMd2GUoqQHLrvDGdMJwt0t\n",
       "Jg4tkKOo2XPTZx+DIxDA2/g5eCs6l8fxF7U5s+KEYx5iCIqcv8BL01fd/Fn5/n1fmiKz6AIf6Dgy\n",
       "Yt0ock51DF+VU/gde0PRWVu4tWTNDn6oa9QOxG0Sp9AXtnh6KrtzFOShWPptjnzCAlz4pZjj8Lhf\n",
       "qq8H1bhQhR4nnGFz8vacfCKn0YjEwJNMuzU5dTW4zs8Trt3QAjlZodVFzlXK1O3WqAHc2MRFk8MM\n",
       "p7HpZwW8qo6N1F5Y2kZpAV9JZiMwE1kosYEcTSaUH/kAXft+EajklMeeCEbDFvegnhek/xbIUdhJ\n",
       "B3BEQXCOYN9TSM3huwDrS56za7A+HSlixKqpA6i+ppLU59BVeE6O4JJkntTAMWfBq6WEF5qbzIJ0\n",
       "P0DVJ0zQWBsrJrCJgAAABX5Bm4VJqEFomUwU8N/+p4QAVkFDLN+2AA3Yk1Dbtohzo6aRlQx7zG8o\n",
       "leibauiGAkZKvEwxcRBljDSkspaeLjNPtT3Djjr81JZHd9HoGV8iGquJJoReLhI/L9b6j7Hq/c6T\n",
       "vkiXGtjHXnQ23JHshmmKep4e/No+WhUxfWGhqIRASDgHUPEgFuU54ZDwAzLP5z4oQnuxLlofM9To\n",
       "O5c4Xp1hOk1ma5fpmj/s9ekBfY1rAN9ZGChHf+E2f/7lYwtNpY7YAERGvxj7wAR37gACI4K7/M0V\n",
       "QheibAzd8ki97Suh3ZkIJH59NMzuvaC49S49AKCqVqjl3JTBHTPm2JURjS/Xwt/X+oHpNEPJJ5pN\n",
       "ZzOIvlqLjgOf7NZcYRu8CexGxNEGpds7I9ibtE2lWOebqqOPKb216X2AQAJYvzY5iE+Otf9FUBoF\n",
       "PkLxlaP80rnFinGIgEt+zANHi1+6CyzF2Geq17BbFQmqAcECbcg72s06EUDGEIQH2GRo4QyJIFix\n",
       "RM/i/qQHHq9xpiiXcgfSEWNUzPru4XMojvHe2EodHmi43SOd4KcF0tVzJJrQT+yftyu5hnrzuUQj\n",
       "LJ10jaKoxsfNvyEtsiLRK+6R2qL8KWkH7ovJnSRhK5sAnMTQ/2/mnKSbEtdln7ouNXsXiy0OJNbW\n",
       "m2uDUN3Z3nlWxTPg+nrhT4tc+qkA+g2cCGwBmWuSHnDdOtKABapsivROI5olcmtQSsxQ3OvD6TA9\n",
       "FfZKWtQh+oXDCaotI0d5MEtbxrQx4ik+wEwDXYGQcFMVisdRVJLVNCYQ3+ERk8P1rO4GOlP6kY9Q\n",
       "gePoixRocuXIwNiaxW3JyKfjeUFNSK4U4wPA96RGTMpSeIavSIqkS310b/jTwuDzjkaSc8UsDizG\n",
       "zkPKPdcLfoZpIpefFXn8XX7bfnlV48MhhLL+IsnX8FIuk2EPk+QFqGDie1Px9v48TIX1d5nRqZ5q\n",
       "pJNvAeocBs/Wmr+bq3QEcNYvsHEL61OX5+WFFHddf6MmxSmpXdQre1ZxyXxuYzdyJJG/YjTfuS8g\n",
       "sFKc7u/oPx6VOZPkLorpVbDZEi5BcQ4AoCluXm458CFvb883xodlTthgpRC7sRxQJv1RW8AJllNQ\n",
       "hEmgLVUCQw1fvNJC3RWJmOHBZa9+3qd4ujue9UzvVrCdJ6Tl27TCb3lEjQBT5WHeZD1zrAhq7arF\n",
       "tThoZ9xdFnawRT4VyJFHDyPN/Dn4k3haiPL3FKH49yu6fXQoknOibyuo6X9OLrk/AMF68IN00JTO\n",
       "EGn0Mo2Z7ocfS1V50vkiikLJSgpJ03wnKZLxnH3b2BAb9NPaCPaaejEk/2SY521/VseX92DbnwLQ\n",
       "dvAvHyUsixe8TgZm9XrUmvci4TaWvKoF4uDzu+RjIMNpuV3L8JQg1ivhBPm1coN//G0J9qKRL1NK\n",
       "mK+Nc8NeUvLZoiCZ4aNxx9SbR4yeuDF40lsPw8+/8UPt5+4lLiM9rDwtc8ZJTFJrq7R/IOj51JT5\n",
       "Qg2o0sY0XZRq+dPLuMd5eir230l0iq7M5DGLRJ4pcLQaB+4pctHfefKC1Q7pdW8V3Vme+59sxiv/\n",
       "PAIealJ8wuo+ST/r+zQ8UKoCVO2IbM1oZcSUw0HoyeR68rK8I5UTIhaB12+KAaMRw3UnVy3Qd7xv\n",
       "An42eSq0APkJF4ofIqNCffJCC3hApkWKfSmBnnc7ERT6U34rFaHhYw6oZyOkwGhaLUtMb2LAuRZt\n",
       "W0Hw5w7S1rlGIVT9LCvMTkTXvG3CWVzerXWtWJIQGpxej/LhP7jL4lIidZ4GBjG/y6BUwA2cutYL\n",
       "ucssWyM15LEeOSQxOp2KECuBYnQckM6Y3G37ps2Fh0s9z88n05jzGeDGusxYunvIrG1s+TGfwQAA\n",
       "AcABn6RqQr8CH2HNGwQ8brECurv3fyxjxv6msfojI11gAewXKGI9HOQg9duQDORMwwAkdt01bt2c\n",
       "qva8To76HQdkRuEigPl2Zb9i0xttELoFGFWhmheVWpRiPat8VR1cHawzfPLYRHVzorSx3Lq+MXDs\n",
       "FQ1awA5/TW6ECNkwAQndqy9vqfjP4oWRQYlRVYnXqfrcRuSM4mVkafSW3dgtZvMEvgepuxb6YWoo\n",
       "D05JhYcpVSGhBL47W1rcQIzSlA/sYOYJENt7pCaN2MP+zprJmsO07qUYP/zEYaNNCD3Li+8OjYxQ\n",
       "ZHTa8LUYiLHu5Am/QXTWB+0JsIJrPl3FI1dVl9rs2QZv3y9t7OlzRFNfHAU3kCMhhzv0LtudmBra\n",
       "41A+syIKKo9q/uXmWCPCzUUCn1tK8iXBslrBnkKjx1qdXouiSyRWW7vMOjQjsd8owcyKayZuSiyj\n",
       "kLpRoNhRS+Ojme29TmdcnoJYTuK9T6wcdvwnJXxNbAgBNXgejLJVSAugpkdhwuhoeXdDboxRbnkQ\n",
       "7aP0lgaP7KZZHu/uUTwI1dYXj9kUQHz6ya3vji80D+yNl8Uu7OBsq8Lu+pevepNVpYyBAAAEn0Gb\n",
       "pknhClJlMCHf/qmWAG0+BPOEQ+wBBy2e0sN1aTJ3sVrSoaDYVweKwIvTmu7PSoGa1AReTuYFlvCh\n",
       "fLsGtohbmg+hxOtaFdTl84/UbhM07YVzEu71lyNJMfl35xpvAC4jCSL7Klufz035DYj11JKM/u81\n",
       "7HGns69SVYC+pij6zqfp6t/XHovSPiNiztjKw2OhtpFBALcW/cS/sGF+K2SbGZehj6BM4ZFxIOjz\n",
       "QlfCWY/jk6o7LyntZ6bmNojvSfpu19TPguLaj1kfAwR8lQRfxHL1CdpuhbfmtBraFEY1eY/s6CAv\n",
       "zs/6bkFAPyhHXikjAUrm0/9fj/7yOvgsl4ESuisJBEE0DAMFeIxj4S9uQzCnRat/f+8wKFH/jR1h\n",
       "5qAN6RYtQzkQUVRCL6Mp+qdQQvrM3otWCeD+SwZ0TnIOlzWUtBh3wmBXGZ3F7SYwd0vV8ET6erNb\n",
       "s704VyIRWakKd4ATCbBc7G2ipBmWstfh1RNRJ9QACUx3hNI0PvEMTk5Tit01kfgtZWHgMoD4yqXA\n",
       "uHfgWNFYLYY0Ee9x++maXytNZk/1SbK48WCx2Rfm8wExQMDyl0iFDZKuFQaqgh9lTGXJkoBjumO+\n",
       "j/2tI33a4HXRG0mwW3pRgbkLjFDuI7xP+ZdwBNyluwkxziZG/XclIOKl6ScLULAYrUmgYscR/xVQ\n",
       "2JJ091ZNrpANZS7qa7I+DmBD7wHCDY8lSyCRiIEmyZDDoK7BF7CCwI3MDUaH51+7fzIioAo3V7H3\n",
       "LbRbmDzCdmMy8XfEoUhU0axmrIV9F8DmpvHLKJJFeEHFJVAuCdrtXRDfmHrztBl6DwNGt5MH3WsV\n",
       "sPsDhyeHjMOJ7HNvO75V35m2oHWriLkIg/aTXBE/5gmiD8qzO+ofK3n8drjL91gz5Wb9I8mknZnC\n",
       "SJ3f0e1aq1SKh9HyIG6AG/wCA6JbZaL8Kwspn8ZXQb4lZjyvobaGbuk5AisTlcx85nWkMQ+1ABdH\n",
       "yjeULCMa6BkaQ9GRvyc9l+U3KelKI00iUHRm/NeeMWqvLls3F1uinXb6BvAIlz63F9BHK64RfL8P\n",
       "J9YGDm6XfU72Gd18eC6dnHleZ8uVKGfuKsxnSxp27+OV+Y4wjpKdrLdx3mnKVOKY1dxWfD/rA9VM\n",
       "lKHTDI9kZXX9Nm3Ihir4H2OYOlv3EKMFU4V9CUqJirJdrSRkptpUeiJbDLkso6REzbFtSYaoSOlx\n",
       "1Ybx4nI6gpyNOXXr2OialnmsuWFEbRMEwqjXeRPufCqtEcz6rr9wMfLZHMHWieVGEiLliA07Y4ZY\n",
       "5ahCNoPVqkLvYtXbfwuJwcLacwc1mc4rA/ZCdkeBktOsg7qpskSmihKuKL+yio0Ugkn8MhCR+bI3\n",
       "d/BIO2r5D4c5tEXZLdvwIY2IhhzlUR61hDR82RtxlDJPcwWo6EJTcSg86oyGYuf01W7OW3wVIoSX\n",
       "YWT///ZxOIhXTmjsIE5H+lLY4acx5z17akqoDLv3eQ/5CgLjdpmVhT5psE+TRg2qSQ+3L+5qEDz+\n",
       "xzlT6I/hWK4XjhRXN+u/8i5xoUPnaTjeimJ8pyp/1BSg6/5En2upk4EAAAaJQZvJSeEOiZTAh3/+\n",
       "qZYAbyX+UAK4GRz83BMjo0hGRxNjVuk/ISodSpP0x20gdMjtpghp9aqgeH14Olj/ZftCifchJlAB\n",
       "XPr2hmKUWMztKi2q3ZVaA0svgZALP8vdb7QErISQgsWElcHDNi6z3IILQhnUlSCOcd7gEuU2Ta61\n",
       "DZyUM1T+Y8mbyUxH8NixXjy1eYG412dFgbLqdWkHNXhlsDdUCH7m80R4ls7Sr7mYvEFWy4jKzC3g\n",
       "wZ3kSAXxb2D+1KpdBSRY7qJ3+k1loxxKrx6/mL42PgN5uUBBn/uQwjQcap028A+u+n/WH7rJ8Q+C\n",
       "4PQlfQLTx+2EWlXl2Q5r7oJvO8ZSSC7BnFCcd7mM/3NBdGRL9JW+nvIt6G4WJhR7EX0G0+BK56BI\n",
       "6zTw80l9wqt0rz9zQ46Owceqhoc8M5sL3QEuuCgbMqV3zCxsDQ0YkAApnAgU6vvMfUfRvOF8RdXV\n",
       "4dKAYqTsYEFhAmko111Ar95t/ylz920Bv/pODNAT7fq9H5ox9aUCaTnEWgFVg27tzszAAw7ikGzJ\n",
       "yI7yJEYiUXg88yC0T3Xrs2bdbqNSPFaV25AereqHKAvEd3lNQiPIR4Hq4rIpR1GNCOL1MqE6XChe\n",
       "K6CG1p1OH6weFspWKACmhDrQ2GyhiKwvMzljRKrliCdQPxRv7AJLyzpBn9C65zThEVqCM7IpoG3t\n",
       "FOSjnYm3PbHvpY60cBkOw/ployV81Ice345rYt24xavYkeDVvzpl1QF8mD47SZ7mKsGl/BFdG+4d\n",
       "/uv0Z/FvvKTkpcUqrxojYZkUV49opebQwn82prvY8YiMEhNbw6NjXhNHocNyV01eMLVun8CB2OYp\n",
       "qivWz5fugd2atQT4Uvpkd5CH1vSMS2mCigEnq/3m8Tbe9wAIW2Ls3jhAogqQVRIG3OghNitbtVF6\n",
       "7wCB1ASYjRblqicXGvdQa3OjIvctZ7zV+idiKKoJxQdFwJOG+MK/aztgQgSLE3tbDW5OqBDP1DMB\n",
       "DmZWWJ+x4emxJmoRO6cJRj0PB8U3UARpEyx4UTQEYm0rY0UqdBsvOaNkhRx2WbVIWK5y8BgVMhxH\n",
       "vTBSzY5NP7H0IY6PrIQUYIMWOCZ5yHNwOcGiLfwDhe5M3tpcy+dr6Aa+EDvJv/vT2/++ny9XNpLU\n",
       "+vYvgWT/G6F3w4MbAMi5cRNdth7IpPdysgHsExwnbiANfLi8LbsxYlNBfqazXI5N9mWnbM4qbc/X\n",
       "pqgvOjT5chN6ZJXu3ZISl6iXuQNGRirGB6kVhfMT9mh7/1VnDG4fYWLWZIxsAPL+j8z/KDfJH+o1\n",
       "FfxFHG4fz6TAq+0p3x5IHLAeQ7wQA87iOiAyLGJN3Xa9zIYkiKsx50o+H31n4JxKJFDvu9xMjlZz\n",
       "Z0EibfnlmGpzMuq/09pW4zugUU0e8o7XZ4AIqYECeYYxcqSh0+TVnqxI2D8EyxET1RldAa2HVfj6\n",
       "pQqtDfS9CICzzmRu7oNpIv9MI7+WZxA94bZQDhaIXXj4YufycKu1KlWqPGu2KdDiB/MuSbUOqb2L\n",
       "foKBhvdrXGcSGO1uBexmD4/n0V5Vee0Ll0yqZw4oY0mFVymKWVObzD0vR1nII7wzyRA/B1ysx9xa\n",
       "LrVkMpitRT+oAyWtcdtAlZiyx0qg5XNaxclcoJhr+QxR0kdKjHFrUEqY5EIOFcKgrk1jJsRION2C\n",
       "VnTKwdI0RNliSRWRVJfGywQ5xo601WsfczOLxbvxyKjvtDaRg5AEiF8TyCgW1WEXauc2tBCqJZcP\n",
       "le4htdfPWeM4v1AApyI8+/7qJK68JprH6dHW08VQfJJ9Lx8VdYMYIl3Xf45u8q9C+1dL+fsWwjp5\n",
       "ryJMFtflYyMHSm2q2L6FhnxcEePhBToNWLzXyLw5OeRps919/uzQ22J4g/sHnBOE5ZEospRouyk+\n",
       "Z/FLoc+1tXB/ge1N38Hx8nJ0skuP4uzVO4VV2Jnf6pNh1IWfwFg0lvdfskCDlDQ1AYDtPd3cmKQP\n",
       "cJlP4DuRQqNux33XPElWMObUg2s6G65FMewONFFw5WkAcX4d1irEqi1eSqSjMhbNbv2sSjy4Zkyl\n",
       "RfWUINjyVsY9kFRPxpm1A/vVe+LdbFYvwwD6spYOS+kQi21q/VvtkNdaXf58lQWwgRvM/r7v5msg\n",
       "KMLSOlN9LhtqBgit4aDF5VDxZFGxtWzSkNRprbuawEa6Yxt1mDXHlNjAHRUQK8TCVDnwYTSrnN2w\n",
       "h1G4NVHWPuEAAAHwQZ/nRRE8K/8CHyZNAxa1lBv/HngZLQ349rq6hS7++AEyJhTMRITu6AliAL5s\n",
       "wb/8KQk6Zqt8p466hWU1pSlAtYMZbHrb/1R0XdZAGttF/Q12HtnRu0a4wVYfbZhAhbq1XG0GHGx9\n",
       "AnlR0sPt8w5g89tIDKK3ZZsKiQ3nctseu/v4sWDQLcw6S+EH9RA+A1aD3kKyl1ww6FASTGJaSsqe\n",
       "0ycMu3oNObw+YAnOJ//6mE0BKj1e2083il0BDJOU0IPzmgS3ZTkQ+X1OTyRPRFAiO62tngqk6WAi\n",
       "j58xcnF+IGGU95Fc9FwlidTkWTGdWSK3C98H17sp6lLsiUXZDEHM0ktgvkZ3KFQQZztopJuDzsum\n",
       "YPPcTVujK5Gm3YtJPmxLT6jpU4G/eVEc5S52VkQPeRS8Wx8dqf4NBx3Be1XeVxvjid5SbbdnU1OV\n",
       "ij8lV0w2m+5/ZKTQSScLyW7QmYBy5EXO4Vl86ZshOIAz++SXoB5czER+PmHsD6MmQsRGaWkPSl7S\n",
       "I6nSkYin5Z8MniS+U52owI66yO8bG1PMiLxti9dEsAaWLgTWk45Y4Ei3rVcmnoUehcWO3ZC25tTz\n",
       "MqJOVK/aWwt/ZImEX/TKo5YB8UzuPAdtR79uUWDEFz8BwMF0Pau6rmgAZ/LvsWMW2jOR6QAAAT8B\n",
       "nghqQr8AR3YDRqwJ4FK3TpjLfeIMTGcdAHiXhNS3EUEjhqjYC2csRXxluw/9mj3orQnQI/d0ExlG\n",
       "IgfgZuMrTAhbr1RNNwooAPxzEYBDv9p9CS3NMfpszxCaOsiUaZMY5SnodYs3UqdEu5f1pioXeNUS\n",
       "gm8iVqq5iYDwVkPk+6olKccElHeP8UWJtyJR1DvKuq4CUk2e0Zv6YjGGak4JpqxufxB/JBwrdXHx\n",
       "CPdMADchQ/gRTqSeL6RSy+qp1WnYSy1YWo7iASOe2JkGL2QSZiO3loUIvSnHhUuhBriXsygqyktq\n",
       "JDKFP4Ar3jCIn2lm2DduxOmA7bUEvZi0MezlYRHLADQXE7AWzNggsS5WibpncgviYNI8vv9LYH7G\n",
       "d2qWUkGVer9kqfNEttV69rXpGh1rdmHzhUeug22sMJTwAAACR0GaDUmoQWiZTAhv//6nhADH2mZ/\n",
       "mwDHSkgUrSByAGubzDtR3jME8lMAF85kvHkJiFSbempnZqZ0w+1+3EeAKUgFk4ATcR4DrY2sYZky\n",
       "/GvI38T9KZB+MnBcgAGk0yP/qlAUEYkSA/+6gahnoZW0VWqp3e1+Y6AZnhSV8/qBpH99b72gUrkP\n",
       "m+C1iiVTQ2gkfuCtVN3T59du6KvuE54KRKez++0l/5ubdSjjGMqu0T8ED9UFNzudZ0GmkPbBa/nd\n",
       "IO0Y3wfHrRmcMg8A9SeVrxx0kcVWr6jiGjIO3BH8Khizo8VcrExSSdBT+tmnLTeIJRSWDQvGYq3Q\n",
       "pLwisa/VjqoaHmJcBl/qQb/HskFt7RR2IMBhpAVFzgS1Fd46H7rQ+R14m42JtnrNTxKrcTmtd5+a\n",
       "M/wSl6jFQKqNkmKzLJ+QPkqi9J7sFiZs1AawpsW5JnN5mTALGgjjJLa61kiRs+meB0DGrsETUl62\n",
       "AjIHJQHOlK3vR7BlckIw/5XBIfRjDav2yNKJWXWa5Wl8bQ/eDWWHAgCg1piQSjjMXj71llJJQuVw\n",
       "a4org8RuQ3cN9UKGw939Q8ivtArvMMv9DUElv8AE3rCH0NSEwzRJoYkBlI2i/FkUIkdsbo2p/MfT\n",
       "B0LjIU8qm7KlBmuiwDLvOrA3+zRyURteKKDt2GRhic9Q89gZ4A3GdGQoguO32gPH7NuZ6J0vRWCT\n",
       "jsPSkwt6IKer/O+d6udrX4nbwnldhr4P9nXRezjKfk4aUPsIigwmox+hGPfqWD8JlqUAAAFzQZ4r\n",
       "RREsL/8BledOsnRaEOTC9To3HrpFMV675FpCZ5mKCBiAINZ9e96LTZhk75csCRIQ9VCUFEeR1M1M\n",
       "Chw2iOUsBqJzPrO64KLrQihmwSiaonaPqd+Xagt4SmvA+204arjCbEBHUCmy3uziY28KNee14Suv\n",
       "raboE3KFwJjaShtU2+ApMAb+ylK509OCvOnVvFh6l11IbPofxtrc8Heix0m5MFinGrhD/RvkjJxH\n",
       "KCphKsynraBHbFVc/yiuTM5L6xVlUW5hV9DrOuprrfVI6Qv3V8TntPuPk/rnG6Mp1jMGjwZBe9hL\n",
       "YdrjN8YQBRaE7WCNW8DNiw4eblCcvOfLp2V8ESJGopHapOAt4sO7NrugGyg1bq3BPfwLe5HmXbgV\n",
       "T+Nf8zUO4dbuoR855+/Yy08E7sUsoA0X3yAZoD/uiNAFjNWN6/ELDXxEtsozYn8k9zS6j28CbAEy\n",
       "BcCVYYJOlqiEgZKIX84bCZS0B0Di9s7bWYAAAADGAZ5KdEK/ALEmdTCZ8leAz9V4wdbTHNGHuM/b\n",
       "C/yHGkTwoPrRw4m+UJQaQjsG89yBM2ibkO7zB+IZux+zUC++Ut1M/GrswxlN6CSKXMUAFr7fz+vN\n",
       "cww+OatwzoLPfE6whMpH7g3bRLxzKyff4HvAcm0gcNxvuIxWnkegWIck0dBnq2q3AQEAjwHdxosu\n",
       "dX9LXhrcXdFlrl5ZqAbFUPhcdKlLKah6t2dB4xetjEqVTTSCN0BCnSzfs6U+aUQeYwfLGcQCiEew\n",
       "AAAA+QGeTGpCvwCO7FfgvbUrKVv9pDrWsJM78V5JJpqqeIYedH2Xm+bGdADUrLdHeaRz9RE7FDJN\n",
       "jdeyYi9CEmAOCdE3bs95oeRqSoxBv466F5WcqyKLEbRmlGe5uIZw0l8EL8XigwN3s++8MInF7lGQ\n",
       "va0QeDf/feT/nPJ0juaV6eiaLebwi66MNou0b11FgazmNDXBeoFwoqi8T11NSkF6Z18wd5QAvRzV\n",
       "kFfWXrlxgWSn4Rl8cdEWwBwRJhpNMgcvhsLNsf/bixSyoY0I9lQnCEhX9b8cwwGF+ylxbhLmpE7t\n",
       "DbVvS4Hqpdybj2hDzY4CMdiYRPEg8FmYJwAABMtBmk9JqEFsmUwUTDf//qeEANvILyALxNwWM2uq\n",
       "/rLtHCSGShdiiVdt2JzEKSuuM1oPiprWS2QNY2GbDWuovT3+wTW5x21O9M2s4BRDlk89BzTWCnjp\n",
       "5kLuTIJa/gs9NpHMJQLL6jqP0mPh/UMqyJMV22TDFDEDBV1IRpAa36uCtBaaqYW7vUv6WVksGIzM\n",
       "4g32BdZb7dKyrAF6Ro0SvBX4r110Uz5lEh0uRWN/5PXP/1HltiZvOBelPVBilMVOG+xTeJKx+MPr\n",
       "J7Tz4HzVhKD5NhkFIK1JRIHHmvyxyIdFgjy+Dt2pXodei7YiiZWW0X20hq7zjmGJaUnYtJMYmNe2\n",
       "83cUbh/9LCGJF/Tj6pBJo679NMAiZjGFoGYWhAEfO5iHQGGlwDlS204gjlhw8QtWGzNzgFUlEF83\n",
       "MOIKZeZw3j4afY4iYvjKd2z+yBipN/QJ4nr0r4OZ1C5ucXsLp7ehGaKCYG1RTkZa4iEThuqELGZg\n",
       "Aiss+5jPvIH6ZtogehQp3CcEEDOhKF6MGuEqWLNcxO4v7+SBk08RnWTfjW96V1pVQH+HpWweKF/B\n",
       "8bfY865CT0rTehvTXMbecxX+fIZmycl0BUWhX/7mUJ95MmGj6S/VrizfkY3j6ft4pE9qjD5RGra3\n",
       "RjKWm0m+5uYGpOlMM/I/LMx7uOC+DGRRIsIhdNahDtCiXdpzvnCFfekzayma7iVsCG+2D2zXYiHH\n",
       "p3Y5SwMnE7pAOjUi4ewTlN8mKlkQp6OkZG1wV0D1U9y0F1U1yz8e3Pmm4fNT28WmrJB9bxFvxOSA\n",
       "+dN+0Eqfn3EFZZnbOPY8UkZjE0E/aYDFxxJ79IR6h3kzcA4BzyOoilmRhinjBsG5g3gOEvlbOF6Y\n",
       "MsNeKLCJvb+HxBLXtI5hirWiFCh46DxUAc8PN/rDNlRKR/eS4bGIv0MxKH8MSSxfKLctjup+Jk22\n",
       "odx4Vl6BMrsOd96/sbCy0G0FUz40Y41FuJamDxVhrmchvOjR1wFyLixYZUmWnWu/2WtbxmyxLNWL\n",
       "5xfFnXZRdM2SNcyWegnwWW3VubmPY1+cdMGT4inr/F+Jez+9+MrhLZIigb1fmN/DQMeuPo7umZLz\n",
       "hQMrd+8eIHuutpeMEl9uxTsRg1y87yurypN9Wxq8q2RwV++E66RiYt2S5fkB3iyy5qWwSY7WYrZd\n",
       "vq8z4eQ80XKk1NpWB511tkPHGck/sZK2DH2jWdL3QT+t1kKPJ6IURiq8WGh5NdbRohKdlTJ3Ya5x\n",
       "7B3aaprawOeJpH2VwGInexzgLaEdngT4TCXPQrIwlYS1IXLc1ww+zcQkamHr/R0DTAoHt9L/4fE4\n",
       "gpzYRNYpqRjl+Upes7agoHToJf6R9bpb36m+cjmUYOq6bG2dVCnuAS8MSDcB1qC14eIOs0CVTLUY\n",
       "MDrbwerja4LOUHjQOkc6Etd7g3lF23RicLTadcTUwz6pmXqDeGxq8m8MJNxG1LCcn8TYmC071U15\n",
       "LAy7jniCwg7b0fQ6/2F/6F41OeqjQbV2JzSagoVguuUkvMDcHRBA5Q0w7QM9OEAXZAHcHLko7o9Q\n",
       "fUBgtaNjaGZiRVmUGBZhtdO7hDkC31M0G/APqyJQlq2hnd0BMGg+O5CuR5/M3C7ZdRr24aMWEm+w\n",
       "hc0AAAHHAZ5uakK/Ah9hzRsE3A92SsyzT++GTLQYa0rfPKcnB3k4Y4kcdAV5VG7KBUKSbOnFHl1i\n",
       "SJ8PrfJ/O1hRuMJTFP0jXcQZkF/rhk7jag/iMYAc7VcCfvccbs0gfMGkZZ+IpNUizrcWwem2FWtS\n",
       "h+Onk8lXB9hJyvKBpul02rlrc9lm8LVOHQFc+oliszT8EzpjEfjFt+9HqjzgZMg7yKrfRvzfNbe2\n",
       "IJdVoIxCiz7wjxzF76R2HjYze6pkH2iy46KUyruXq6KfKkxSVYaAsll+/OECcVU2+9yLIlE0adoY\n",
       "B3Q9dtlbRoGUyP/Ttk6VuOSc8yQIdxFYszxRXbYZC0b2FpxoJcpK9kOMxkpNYI32DF4EmtxIUYdH\n",
       "8XoEmuR68FWq0NlfGm1D2VIluADnfJJZjJ3tuRrBcAZUlq6aAX/pp4qfsXTGMJkJbhN5EVIM6xQJ\n",
       "e94oQZVoUg1vxjSA5pEIpBL84tBurDnU9s7pMfwXCeM5gbV6OJ1K9LsFLhkYUCdNZlbOKWNpT5qA\n",
       "XwOqat5tSKz7qSTfg2WRejnJhFz3+gO5Yvhk+PQIGcCSMXlq+Qca+UY7IQgCPrp1HNcULdwPjImE\n",
       "6gsQBYEAAAXxQZpzSeEKUmUwIZ/+nhADMr68Xdo6gAQQ7ftVYRkspSen/X553wwG5AVD1gbagWZ6\n",
       "TwIuLcCUpvl3CwLEwhZmTq3EoG7fLWtkntvT9YzgPNxClMQ1+4YTzmB07OyqY/W+0TsY/SHJRVrH\n",
       "KkYUFD1FE4bPO96B0qI6eNY8rus24E3fPI3Wh0WORfYz3jbhiFohDyHFcjnSajVrM1/C8SuWfl5G\n",
       "SHyHLAmAXbX2k5mzlxLUujw9qQw3NLXse7UbUAQoRH/TatOlTcHFdA1h2aE3Z0GFgyEMH3nSoklk\n",
       "1crQy1HNixFaBEGZSPeKX99ijb/Uo4ap/laFp+oYj4T2F7LC/cURy3Wo8Cts+L8L+uAp+RgAQBfK\n",
       "Za/2rDOX5V8yJ9S2XeTkAomFOQPWzgfCybXeN9gYnXVu6DBncDVWNEQjuXYImLD10nXSiCKRsNhV\n",
       "rI4nO83WWob+IKwAgL+X7Dify55nXJBWd7t04SUAsiPoKB1jeOASa1ay85btbQz7bfwaVaybltTs\n",
       "dX7TmaRTsGwK39PTDCjOorw/urL4ZtDjXEDW2C/LP4yB+x8GOjOCWQ1GwW/dLmdW5X/iTBnIuvxt\n",
       "Ef+epHgUbhkGURhIFcJxs345JIhprPY1zSs9RwVrdPnGSAkTNYSHb33vaBZCoLFe3BQPJlorcvP/\n",
       "fPVjJ0QnGlRUbL4Icfog955mL7aKcI3/WcOfnvP67iujGv3TMkw6Iq/7KOKUlBWYtR5unDAsoSp/\n",
       "IchuF/SDIfqElkylSXtYQNgO/LG21G7A25xv8WMOqLWbPVspUxv9B+4I8Z/DYTqFe+1braObsKi0\n",
       "FL8apvfNamu5RO7y1M7Q2FIYcoh1pqFcH+/dK0HU+p6xbbjFNxi6jgMzWBU4EhLRPPX3B4Te9r+u\n",
       "gdtI4arH3LHSSYlFYbtfCebDDNxudZvOs/LxL2Y6OmHw5x3Oup+QQ2QRymGJ0E/TYVbUZ+FuxAN4\n",
       "EJqrGS2JmGCK13oYqE010IJaY4RTymMUmWLwUuTmgU7orQEBks76en24vAyB6v30nTWBz0Dd01p4\n",
       "AxacdfVTZ6spmEpFtfdzreSeNuFQ0fpVzQ1AnVjCAStRB+qJHZJ7GIyEIyTCxVNOzUkICotQhryy\n",
       "e5sVxSm0VaBDw8X8Jn9SrGn33g+24rH6bn2F590bT1TqC+uNkbqzd3XWAiSdxhufWneDFirZNxP3\n",
       "WuhtVGIcIWODU1XGssBL8s9CqsTre8HE/5BG4uM6wtFOtCeJ4gFMTzI4kpeNsBYdyE7UUjA58D6q\n",
       "LNgrO5VgDGruG60upJ+Fo1zrGJDRRdeGD4q/Ov8K4MBpM2/TwrN7rMbwwUBcdfuRE1jGZqBG5mVV\n",
       "ZL8wwAvI1oODC7m17GN4sY/PTl8cI8ZzIEswLUjlLJP18SGdLGBLbFUW73eUGJxp0aDzQ5QgIA+J\n",
       "Oz/Z6NHUoUraAx8H+hgZe/7sOWvXI03NVlUnJieAN83CwsRUKvgY/PRnOfyjnwjs5MEQ50a8Cn32\n",
       "JBDleq5T/QHc//2LnvSTqAjuseoI2O3OODM9YB50F87r4Yrem5uB6jz+VXyLeMNaDCo+1iiNgP0u\n",
       "jO5fXWYtqvH83R5yN1BKVi0Wt4fTRLyAXei3vlUhWaFC3xTlBxg99kR4Jwrc1IBCnHTQeiQDJT+Z\n",
       "D+/3XQBMkWsdA+Xab/sqHGerHrlm6F8BmgdnALuwpiUrUdzZH/o4vlSTfbt36EJJcM42dRa9Yna4\n",
       "Gu4h8c4LyoomWWLYw/TlnJZ91/EQobRmVnsdVg3wMt4A++QK4on1DT5Sr/CLiJR/gQy3t1Sdwoxp\n",
       "vPnw1fwhyxATeSo9z999iX/cs3ohyrrwRRaPJ7GIJNtmuHJxBbnziQOwi+fjUMJ+Bg3WvCztlbXA\n",
       "CwNpki/LLJj8VJWLPltAe77vAxKfWzgMiULBkt2hX//d7utTL3af46cnDq7mS5kzLmjDA1+r3T6T\n",
       "a1pPGyQW/BlnfMjl/R4kXKGrr4Q9Gh0J7fN7iJZ/yr6cNOFqF+3tQReVwZhIBRZgAAADAEGekUU0\n",
       "TC//AZXF4+q+1ZyTYgCJA9QCrf01szibVtdkcHl+eBTpde25z/o0noTkyg729D26KGYhxv9vvrZX\n",
       "Wfs8ppfpfOAdPN68JphQwH6zaxDMt/KhKUqhxjQo1p5pwayFf0FOujUfgCWP0TfSY17mBCskM3Xk\n",
       "tepqRQ4yS+6ESR5UISjUr7S06ZPyr+71x7YMcENS6Sxku6adY5NsguDd6/5v+UOP9lSbKb4w+RSG\n",
       "01jMsoNbK2RvwzoVlpAIwBKzkvc4GtP7Qa9cJ9ADbHUOv4JzkmK8/A6jyRPaHqSAuYNJs1b9wB8N\n",
       "EP4haBDMZMZp8dNCh8+WQt6lS69sLcw8FPsZPI6tbNVd6HkoGiQvPRe7wIL9Aq0E9acjTwSxlQVM\n",
       "I7zbNmK4+QnJXG1Ym/5BTOgBjhEW1Sk1K16x+DRwq7OQIHIcqz+aH+LfB9/l/OWwsD3YPdatuBXM\n",
       "vA3GwaL5VBuLdNi/DrSGIsW6ncJsQssyNfZ8Qgrqebmw/MD3UV9RuZeN9PXTcVa2wOwBIMikwlHU\n",
       "b0pK/2DgeBUIQqb4tnWfXpBWFsBbBWZnBWorRLD+b9JZTvkwJaiQ+CkY7FBKtHOnGFK/Av+RiaQR\n",
       "AWG0bx+VHIljfy0+FuJHnGi3p4CjJOV1HfEgWuvMtK19jXegCu3GIzCWhE2tv1V2dWhhan1XBHDu\n",
       "wQv2dmJ24JHcqm0okrnRcM0ADn+M7dpDP+gvhkNW3XsubCrziLb7jSuZGp5uB3cJPYKJX4EJ4LnV\n",
       "fIu37mrAFD1tGr8S1lyAmLofRKmj78HRxTSr701Qn2c9zKiakTbg078vVmBDQYP+NlUtlfe1GXQl\n",
       "0jp383vutmSOBaVK2hM/UrIQ2EfP0RnkcUdiKfAEU0qmrOMrXUr7LP1Bwqabo0wpML3VCPjeI71s\n",
       "crtZtgXsMFgDOy1jWkb1KOBZ7ooFmnELEYgdXwSUDunzCe+rhESj/ErUCCFO9fUIyLkznmocw/fD\n",
       "isSJCMD9j1nrhADSOnexBLMcRfDULgAAAXkBnrB0Qr8AsSWx8vAVQ7+aa/h1QxsDpVWyl7ckdWAp\n",
       "cldVWh3XIj4S3oWj7sn1gg6ArsMMKzFNpoXLG/jtDoVDxBeAsv6VRgAHfPHvsHTf6tsBQnSYK6/G\n",
       "llRcTJm5K/gPSS1pqSx3pl9uSVU7B1a14gip0o6hz633Spvsxku1o5tGXZwLeVyAcaFZX050UlxN\n",
       "K6Wy6LTen94hgJ0kR745CagwEt21fvm1uS5e05fb/Aul9KOLO40aAtUU7ksZiL0N9cJBntmZsrdy\n",
       "86d8TQLLmeARG0NeL0Ili6AHosl4wg2oC+yp5DCFWCkcfhRIItqxLj8hyRWi2zCvaSmSWRV23lxf\n",
       "DBrXTtgI6xbTuT5rSQ1UHIedgumKO3oOUqHo6QiODMELsHvYCG68V3wiUvM8AamnIAwX69YsJkuX\n",
       "zsR5vQIAXq6ekZBnsc+fhIxHSfQMAB38nBnuGCshZQkdbm1rFDw5J82YtD5/lGUGqb5jWPsDBpVu\n",
       "UvkGkQAAAcABnrJqQr8AluvHU4bPGP2dOAQOuwZTeL55WsgA7UEkskHMfJEI+44966eWiH/DjXvk\n",
       "3ZCDHbyaxAB+Rz5x9u3zVkosZrzzHQ3R6BQxreZ15iP14bxIDjwOCgmvrs+wZobZwePRCKm03dY5\n",
       "QJjmRe7tctFsESQjU1eMxAGLYYWLasflYXC/L9Kj3r1V83Byd83S4ah+Z71MKKHhFZB7cgOabVgd\n",
       "O/XEexMcMm6Wu4s20ZF4Ey/FFpZJM8RKDTrL2gSKwcQ9YQ8SG/6nUDOZsjcwHni8bkyZk4F6MIaU\n",
       "hnlUte/Gjn3L9yPDrSfUkSW044D8HjarECgxagJY4YvF/IYRZ66ghQ1KMh2XOSXBR11NNARR2Lod\n",
       "xEOg6XhdnRRcYJx040HERhz+SeLHTVaK9brq8812Lw/ALYAYzX2wXYo8LR5lHiAq77I0UuSMBNmq\n",
       "vsvQkehl69k5OGB4oQdTyIMVqOpfrSLu6mO4D7r3NndIb14TKRxH/4xQolq3q6Am/aN7/dVtQ6YC\n",
       "1aKqeIk8dXCBXRX+FK3ek8wpvda6aAnGjCRmG0jescl94P4t2BSC1m+vSpjWNN0gJXpRnI5jyoUM\n",
       "AAADmEGatEmoQWiZTAhn//6eEANa+BgAclN7S9qUkwleCC64GgJt0//rPDelOJx4vQ11Mz9WhrTg\n",
       "wHM4/Tbz3klh1wbas66LQlWi9wOwJ74xNQe3SUhFWT8Sv45QYunD3XZeCpEOIpcKlAHKzMcBJaIN\n",
       "OWpLkxzdiQBAPt1mwHyfYFlm2WZuMDy69Tf9TTPJmpu3nduUEk+E5/EWeYdrFwFRjaSw6tq7Q3LU\n",
       "MX3EN12QvqfEpj2/zwvPZvtPs4wdGJzwddm659QWLNVYXhLQjaSe9fTafZbuCWBaPYyO/HAoxVEr\n",
       "iUKLFnAenhw5q2LZDwR0DweTo8hJCfoAmy0ySePL+n3wDgAixKm8EasbOYYRr/9VKgt5WrE2WJDm\n",
       "AtNvBdLGmQwStqxNa0yhQAYdZfRw+nki7dyQCsKPJeGo0pX1bDUWQWMsUcUsnZTT3w6J61BFxI4Y\n",
       "pBNN7dfROHRc2GOV2G0x4KFK3uZlymcV3HUMZsjRsLEdls0bL0V8Gk+IYPL86rV5WAVM2cidRVZ/\n",
       "Ckkda2cMjIlJAVjZjOAMxDNdSufnW4hCgxzhXVFT90MlzSrkx1ap9Jig02UQtp7VYbeCu2veahDH\n",
       "Q4rOUwi78HBwJTJm521PGi4GiUAbdIc4WhmAvmYkNKbZxYYa8575VsMooapfQjohG0+VyMCwsUbe\n",
       "cZE3UkcQ65gQLQHu37qwLvD2oSxYDrBBS4iPGOL100BKqmJhdoKtW52fSJJKRjrebVSqldloDJoH\n",
       "jvEGyTfU96WKDw/4G5Fj0R0k+el4RWyZg5/pZQ5DoQDf7PmTR+blxnsOJ9jIHlttZHqxWgeKEIEP\n",
       "5xrHJiCNR6VKOe4SVfeZdAHamldwz4IeRfwoagVTS4eAIBKYgNgN92swc7EVTCyPY9CeE1GfGqIP\n",
       "uMut9BjqtBOS7xonCgauBjqyxUsRXyooysBH/z7S6kM8VDALwaTQc5ImlpWgpn5mhSpy3jPaXc2+\n",
       "m3a28phHybi9088EPf1txnCCznA4eHtmsYG+3xsWwiQ7mQoAnMxZu6KngozIvf1Ezr67lhhGMSfC\n",
       "+XNdEPDfIDi4khN6CD8K1tDaNjVfkHOVg9DF7VWQTzITat3B/kCPcpRZH2UYSgMxzwT/c6LitXCQ\n",
       "qi5ughnYeqX68hSlAI0YaMbU0ZNOi0064dmfAVubtxAEznl7VBqFQc6PMGiMnBFEP0fxHNPNAJKF\n",
       "SBDDHAN6Vzk6USqgAAAET0Ga1UnhClJlMCG//qeEANbYQpc7mUjvlYLA3cAK8wQYOBVNBZ+/lGj8\n",
       "8PNnYokP0b0iPKYZE475dJYelp0Gra/gle5HEIyaY3ndrX8daYKCVdDuCEvpNG2lpA7VCsm1aMef\n",
       "A2378JPKBBN7hsM92YyUZovP8sstJAco5jh31azzDltRs1Rs2OYldsg16LnG3n6l5uhD6cAd331A\n",
       "/3GYVcL2WoFoy/Mh+2KuSW5+1iA5rFt/hYeq4baXxYvR7wLv2iwyrF27TXZOPjdAB+xrZG5yhPaM\n",
       "KZNeK/852d5d3knj/ly4IG/D1sEKmuby0Mpy81bVG8wGuRFepCMgfpYSVm4IAb/6WdtWtBU8Ju75\n",
       "f2agIRVozAbj7kF/K9sLWwZ3PDo4Ngf9XhfQ75zfXr96Opk+qP7t82Jqd+UqYBoXD64Lg/PQIbnT\n",
       "ZZA7p96ATNWR5NpctRqruB6vbzPRkCEH4Opjb84+k7x9ayoMPxEh5XGjmqnmy9VrFcxuthiJobrR\n",
       "/CfwzrynBLGclnKJo0ob+UU3l5FuBZKwAg8El6Pe7I56tFiLLQJdWEp1hr18ZnDVeXaCDDA9vw3A\n",
       "mk3GRniN5d1LVvQWSClZbS/eelK/Kxvb8FrQ0wZWF2Ts46aUPSelSpNrj6RLfme9Sfn9ULvxeEDa\n",
       "gGU+LHl0vFVCmAdnXxdoLK0v3kalyC/viQwA/vCCBTvNuLyf5n/vhsXRw2OGYBJ5uTeaktoPmtq3\n",
       "6NSi5rI1dxKJf0Z2XxeasUH/Ib6ofLDvQPxUq3xeCjEQ1MP7hIMPAaqrzdXRoTbG0+JZ8L66GsiA\n",
       "pHKlfeT2VFvGxtEJzA5LwsIJb4czs/3khsp8GvrP7U9uSO3AAjVMxOQxJJmFWMc6WtNiR/VO4CJM\n",
       "K/SxpDG8epXm3QMOJmAeh4tNzH7elUBuU3tE+95KNEIYi8JUTcGpgkpAErHacancyoHbY5rLo+Yk\n",
       "2rGn7k67fhP43lqbNZKRhWzW3m2s5HULGIiYDq/wx00OPUs9WQzFDLTTtoNoyC5UnV/s706ePXkn\n",
       "Y66AVNvEv1ekr0zDe3X5IrIPIz/ZVcqva5/7EvYGRwXqq3XGf8TvALqo1dAwbrHdg/dfpo51xR7L\n",
       "Z5MFFRaVU9BieRg/z/K5IuG06rnSyWk6VUfXyYSW+Ylj9NXW6f0aBWobhZ2qlFoDvpZcs/++cX6h\n",
       "6IUJlxYxo5k4zK+v43BtGFl2afzF4wz7waZeRTQEbLldRnLkX+1NAuBLhuEdgCm6ckUB/hvCN1SB\n",
       "WU/O29cd4rWXpFTSNBogIKZB/ORE/o2yDFLnL4/A6vf/fyueFcqf/wWBkho2NcqqotjoIjIoNcE2\n",
       "xaanFvtDW0yj+L3xAUn569vFqQ8tLNjh9iqJZwmkm2TOCPaUIte3d9GghbFmEq890XJTpepEWsQB\n",
       "tJ/JzEOEscxhPMewUEjsZfS7xlUrtSLBtzgzbe9T4UrQRGARAAAFMkGa90nhDomUwU0TDP/+nhAD\n",
       "SDYc3Y56iWgBG1zVFPaS8w2Re8Ae9g5udkG4Gg1p4QJPqrLe+q8pnV0bdis5uccOlJpwrjnwRUV0\n",
       "vIgs9SLg9K5bs1+yT+4S+sQtsFbpr3sGH30BkBeJ/oea5SIB0uLbw7/+bOb13CEkmI5GnMMQ4IDo\n",
       "JhnEjo6PI/kJdMhpNc8jnIGhePEHmWjQPaTG6yj2n/P8eO10X6nKft3hMCreJWxnnpU29kA+GE9g\n",
       "6GEosY9WQbpspMiG70wKWBn/M1o8qcL0PtwlypOd2xG44P+3bS0lMLbwy30qppIQuVVlVF32sYqv\n",
       "E453Kz6HT36G6F2o6RKgCZP3X+IUm8oRyOxiIVyOsNRiJimONwV1rvG9FZAdJVBU9iUfCCAgHrvc\n",
       "4kKyYlALDTsNqEXkjqBMtxg2SMBLOlZPnnoc0FkHxDdb4LdwI7eFzwtmc7KvfidgrQG227SWfZbs\n",
       "zqSJan593/td0y4cvPVarqU369lewfRnulPwi6FsdU5thb6/LOoZlRMQZXxmuRTUCLguZbwkyRF1\n",
       "pnB4Wsrg0gk3NCAv6vtSszDrlcayQfPK2HohHGQauTc5k0ivKz/QkYpDOCN9PNXjEJueSsIe0cY/\n",
       "Je1CmoGpPtp2vyuAAhi9uMPlzw3ovN9dJZzAWkEPj/2n02q5eLFCgISe6yXCLunhQPBorsu887kc\n",
       "6HZ+Womm2i0Ov7Fq6Q97PO4u5kExAQflE5LyqxBd7ulpjXaUBmF2tnTBKIpCwKrU/9kTX+lktj7N\n",
       "DLNmEOkUP9LRP6oVKKGAkqzAtrpYoKQkjVAir3hmjIVnSvnqvJ0Lc8eO9ESd8Y+f0RAFC1OD7Zee\n",
       "HxWL6VOTaFGBl0Mzxm6Ex1+8UKHweeKyewZ+91QiJXMYTPT//91+wGldAzcvzT1P7byJKu211aTp\n",
       "6L8S+DpVkNlhIIKSEqDO1kx5ESKzoHvpdTaavqZMIQtKdALdn9DtNsbaD12IjLMszL9WqYYuSA3b\n",
       "hPruzBgiFRarhKM/OMH3OnxeYuMhGOlg93f6y54PYWmjDMi4MYd4fjc8Sk9EjUDoptsf7f1Y2Ed1\n",
       "ofQYIg+TMyEGFKsaC10jWPye802bS9YjnB8ePBuHS5FKP/EoZI7eb1sRl9DK9bsZerr3KgUcGu9T\n",
       "/i+AMa/fFyXs1/Nf0zL9UuoDWNM7B3L1ClSaYCZE2jENAZFV3L935jJWanJ5vjSBJBy8SvvEYkG7\n",
       "NkQ1N1Ff2LyL0Q0PrtLQ7ZhznKWzTmnYV9IXDBLY67aZDkVslhyNFpPaetYK8UUlhHGQEaPK3pxz\n",
       "7QUHetPfxj6dvS/tWeiRmvTn0xPVqMBI1bKRamZMn1IVraaNg1V08QCDv8xyI7kjlsS1T91ccAKa\n",
       "+7ZLKctAEIG3AXK9Gp87lwrED6cHGqjS3qfMhD4OvtMan1tKOnRfQIeLVW1bbG4AoZwMChxnjFnX\n",
       "xS9yRZDFGNjeKHH0PCKBOZiUUyt+sLeek42gFR/4dMP8yGIVJTLf5yLCdT5jLujp6TbI1IJMbeAO\n",
       "qdmSdKqgYZ5x5r8vlvByP9Kq30tJMsLx15iVvgd0UK3ku8FDSV5dFpErzC997sS90z672M9F5xIi\n",
       "dBlrzG/TmI2ThXwvrTv8RxUcn5P+HtccRZR/15gC7vH8+sSDDCZRh9GggxsGQXLOdp/VFIGzs6Qa\n",
       "M2E5vyKWCwAVi8Nv1vw3qZhybVLvrcV+ug/0j0W5kFU1pF1HPVxj5CrcrMfXYD1uJnkRRXi84vNW\n",
       "Q+AAAAI5AZ8WakK/Ah6I8hxBNp5nE3ISR2vaNTDSfAlH+uMKAEfpK8WOHydDOYPvAdgYtOE/0Doo\n",
       "b6koiI0qKRdy8cOd8YHLNbuHLXMLxs7lcm6iKn4iDaos5xA+xPnBFP8vqWdB7DNbMY7Mao2DV4uK\n",
       "Bz/dfec2CEVAXcyUaGWQfCc3MN3Iorbq/JUpfJfCAoV7mOQuMYw7XpG5CvQnsBGkv7mc/6Xn42SD\n",
       "PnIg7q26fco559FLAIn7xnuCABVdSjzRLIGac6Y9LlSMGsdYn3bxGQF+wPZC0CsoDdb4O3RwDplS\n",
       "CE0fYpp963fWnjA3GaYz4tTjLf1IA1/DVWHznu0/kR18xqWrZ6wSMML1GfQ+uoQVypYaoCDhp+M1\n",
       "J9YkMKBShoSpZa3w0V+FttQ8Li4wZ+HCspl7c05N1fwW1Q7BDDSnOYIsAdmAPKrq/3/8MrckQ4kc\n",
       "KQw84EqhBVNf+ueYk82RuXhU0ve+FVEgxQndScqn19WzR+SMT9V70UETXbX5ioF0ZiJBSIQorUBK\n",
       "DXeWkV6xeKwk+XzJAtUxhI12ehs9mHgyNjJdgkuloUYYuHPJJ7+kGJL78+pzXZWGFsB1Kmnw2eoE\n",
       "ZwWGUUzFIJet0dSejAwz1Cz/kk8jwnWxyfeFRkPxSPm/amQkKnD0izdJqeJ9war4Y6NctY0R8CRg\n",
       "ucRZOEi2gv9sdfBKJt5XCToCo0PDWA7I2I5KOLrgLUwShtKFB25kEZUK23bGYQHmYhbBskXoZfer\n",
       "4zrLlkEAAARPQZsYSeEPJlMCG//+p4QAWz3hRgBvMgCKcLtBGkp9tkHVaUUo7pNnqnFF1G3H7s++\n",
       "1/sHY4opW2qFHR9jMHr57P51OhjM6wNmNu2DYYDMsgCzSQWCULySDfw4LhRY4oDnSNNqKh7h1M4t\n",
       "3HpYPftO1PrRf477Y05ITfx0l09cAawxcilNu4jzUumm2BIFsNzAjFUmWnmnpC513u/oGva9axy6\n",
       "19nb2eoLWdqjFWaHYnDoUivlg5WpGxOpxrkfq76GHya6CQpU45fFqOAB2+30ljfCr8DqwfTz6EgT\n",
       "poWvKWMmuNxG0XoP9LmpSRdl9617omcoWa0Tz+6n9qULU8cFZHpufjlN417AU8T7+3Ff3TnpNO1y\n",
       "ymDNv5/ocU93TB7zqeXH9kOY+1BfgATbvlnB6du1XHjbBZMctoC2MVWYiXHF8zVYjXCttBhOlWoZ\n",
       "eF+zdSztxlIVPMv4ITp56TTw7pGjRX/i4k4k9IW2EgreJJ+Z6Yqarb297uSABttkl/ubs1j6I/BB\n",
       "3pWBzeGqaMUsekopHApOBKE3cBLB6ATNTGDxme1jODg2/5FLDY3hJTqcQevrmkb6HUfWDAdg3SXw\n",
       "kbksAB//28ulsxAEMd5qSAgM476WMQM3xULC1XIJroTrauZdqSPfVAsPKuhklyMrIAtBMUYpOQ3h\n",
       "cmM1Y0qHXw8zZAQAk9shpuVLlni6HBdhC1vRBEM6d+mDQkiRA1zPIPXOXlgYwAnzEQ1YOhtRKCra\n",
       "rzaqwfT0XkPMp2q9t+STiCHPaS24WZjBcVdUKHrVGvp0zs3rjZijM8j+ZdSBkxndnHwAnhzD+tuY\n",
       "G2YGr5wQhfZZ+ktpkzNtre342IOCRuvJopASV2AQO+gyFpwHPXr4P/ofz1ihFDqBOW6MEZ8fwton\n",
       "BVJg6m0xIXoDE6stsserVrCom3nFDEVNwgnh315jW2Riqw74u3nfnprkvlXymPRFm5pa2tcYN80n\n",
       "EHR14z/cTaIcYUyLwVf45/oDFqOdpkiMt0w0ftVjdXE7sCS5wl9iL9GRnxMmOeEflCNuS2C1kDUj\n",
       "NT7T/28MWFPks4XyyRFJ3j7cJiWICZFg2NfB/GbEEhNeXaSpPMkeY9+dvv4GI/swASKLbrKWnrcN\n",
       "IF2Ba5W18tOIUi/i8Yga70Ta20PAzR1m4nIxthzQAe+hBMvfgqNLFiKFwC9osauC7LuWwBJc48Gw\n",
       "LbVZvwKiU2YTZx3ych4fBDyCmceJn9/QbOu2oYwXNm6b8o8+rECOYGkkP2zMb3pDFuEk6tKcEe1Z\n",
       "fw1rE1lnG/XiIZ5hDGdBDyscsYgJJSisGZ6m/4sqnd1UYO8NnlSgFNyX1q++ibjgMgPJ+POJ4caw\n",
       "Mtzb1fUi5ebFMTFfxYWXyvDftV4dGXQh2z3vqNzBso/lQCO7gIWGqG48is3L1SAAi18d5k8OOD+w\n",
       "qZiCuPDVa5gXDFAlsfdzcrhoFXKWSUwVEICZL9UAAAYjQZs6SeEPJlMFETw3//6nhADX+8p+VCQ2\n",
       "E77bwX4gCDwAc8gwrF56SsJSmrONP7NcAOMiuPybFtvnsBmFDyIhJuCTAnQOzjuWUs/jOfY+fpnI\n",
       "dba0WiUyL5LMuE7Icn27eHG9pg8qaXmE3q9Psa0MctcYm26oxKmHhYBQue+wDmaXgBnbboOIfFXz\n",
       "wsZaJVEfHB9UVP5B7y5IgySiLsOJVnK/zSGmpC/Op3CPxHi4G06ZDAdLkxGxHIYi/Q7oMsbInLBv\n",
       "ZukTUgf/zgfS1WGA0b7WOl1nYwfN+7fqIq55T0LnKHpfWOiJbKLhJrWBE4K8t3357Bi7+Yx0oSZb\n",
       "YBH2zMiFfCypd/dw6vCewu9Kl62MOzCiuVnXZWP7g6/NtGFiCZf7KBcxZsq7j9az/w22LIFSkyoP\n",
       "iQk+BM2XXSuCrppR2Y302xffJ8cWPKipAhhAiw9IVwFhJsgQvevAbUix0f3ND0yTjC/ixMranMqY\n",
       "vKqugUGF0qvYFMZoEYNPvgtg0RnYyK1y7fzdbRFYYElBGHYsvp5nZTN3kxBbxtQsiRdJ7U1Uu9mL\n",
       "bGwqMqzEvg4H+YL4hjjjBnEr9f3v7LN84RLLyQSNlFXGhmAfHBJYyYRKAQQCn7Slc7KpTaYua1fk\n",
       "NcvNKGO8GiYWQ+rwKIl4KE50w2ct2H+hnahHVSbxZyiDctwHU+kzOOL6mBGt+3abpXVT3Fnaj92u\n",
       "+2WDVJ6hRCHX8h5o1fhERTREI+Y7TKyzqys6HPf/wV1R6eUyXDExZ/Ged9RT+Js70evhDl06Lklg\n",
       "6PJlCnYZy0WKcNQuwdUofmqlb7/mmP8nTohqghHr55bysMWdzBJgr1Jqw+ELSZtvcL6QElkl4zfn\n",
       "BdMuGhsHHSjec1wzTNuhoaMdDx4B9w+FZYQOWmNLEHyaQL7L+yhUGTI9GzWfXWMnG6/G9ovHIea7\n",
       "mVDKGF4P3/gxKB0xapcoftSTKIs+WBl1AzfAKUxUmd2skP0yaTEfQnnvSY2NA6vC9lIOHdej9Avt\n",
       "mWsA/QrwsLjtq0ZmO0/UxExNNt/Ndb9JdzaPI9jycS5Q/IwukUjD9FP2Ymt17vedrboFtI40vieB\n",
       "CN/+psyzP6sr2wLl15y+7zneCydBbeP4jNjNm9csIZSP89CjMo8MyDUPY7z2D2ZUbboRstE7oJeA\n",
       "nqDiGc7i397l+j5SMSUosUt4HS5t+JANmEwL//OD+Igio/mFjxCzay2IJhZgmNYgCcrJAbNk3hSl\n",
       "M9sODxADVNhUXzpKKNywUzhpMfZFf6Q1DoztFPM1ba88QA7Kx3n2BhcCKAGsEe26pJwwf7WWwjsf\n",
       "1SJFACjBX0lX+yWQCMhHenQ3kZnQes//1BxNCXEnpSIw2ckfYn8s1sXkByBAPVOpCfKl/nnkJF9P\n",
       "4MrNtbEdXTWGSK6dG2xUqiA0USofmP0czl627n/b4rtFe+jyYevfXnWEnJL8dx/X/522cWvWI19F\n",
       "5vf/L6IAeBCNyzgXrwaKwy6jUb8/sH9HP8bCfE7AkZ0UXiaUsBpa9pBtfpCinka9O7o9dmpedS8x\n",
       "ShG0qamOS6NqRxwi80ACq1u7RwXUhP2lM9GWVMEPTt+8InvJgV49m6OK2FgIn39Nx61kF7goW2K3\n",
       "O8CnvwtnaiokpuXAsdt8ZFAJ6YRoF9bb3jhCiQNUDIoZF0FbP4IOp4CKZ0hOk/qyKRjYIS8/01JB\n",
       "xD+hyQjroI3x+bKs2pAWkAhvcqHU6QwPoKbWBjzjSuQWxkWhxC5aYsQkDDJjouBKp2O9wlm8W/xK\n",
       "P+974Bvg2Rz0p7GvmfBXzkXDsrZWyI9qzSkG/X5q8TgMQpzZ9GPRFLwXzuBNJDFeUFFIzrBShkrB\n",
       "0reRmm87cizOlz1OHlfD4AnFdr9uy9fC4wM3GsZjl15lbMkdP7ucChd/RvJRvjR6IBiEGcBgLZZo\n",
       "JFloSGTgPf+un0tQEnSvrcTHONPtoXzMXP5mBdt+JzKA+nyZ4sMhY9CI3O+RAe5OBsGH+j5QTtpS\n",
       "thgRqw1hBUl84Lh2Wbk6i3encfEs3gixm7VGM+QOiu7920XJFQnKBFszO+4ZdQ5QjCIG8g6lpmox\n",
       "SsSkrfAqYDoAAAHPAZ9ZakK/Ah6I8hxBad9sn47vMvCvNXqK4BpEtliMriMnzl8zOAAlW8DbiwsI\n",
       "z/LStqdLqkNdCXyCYDtjSKWKmTtA3UoLZciDpbh0YuQQ29N+jei4j/Yz9sWWrK7gDQU+qBEmscqF\n",
       "I/mIQii24/SsCwqhNIB6wdsp/Ah7daCozJAYfLzPS4Y9InaSaE52mGnp0Gbe99pFH0K7uxUU/wx1\n",
       "ICG4GyaICmg33qzYXU2goGWPOXFN42NFYHDzvmE0LGKaffpWZQkI9tyrBJ9ScaCOISxiJ34H0V3C\n",
       "0SsuL9s5lpGz35vjDel/wYG2ehAXIJzUDWjKmFZ814ZBAK4XBHGiAly24jDFVfI5MChXGuFTJ02+\n",
       "+fESdhTPoRSA8atcAhiax546SFKUEiX1wX73YtGRlQP3L8wUrFeFZfn1hde29C30uhz0t8cgsiY2\n",
       "UMM3N8UcNIfatfwY9gNEaIaq0rvK3tUVT9AyEBb+o2N+pHfjFP5qZ2+sy+LtL45H/r57XbIQzN8z\n",
       "aQIK7yNfge9OTQIRHNnPx+MVLbrkbs/i0TA+OLPwfo42ClS3pspBCfGwo1ydlePKaMdTjMK9Q000\n",
       "eVGNiC/cvdoungjyeozPjOG6gQAABBFBm1tJ4Q8mUwIb//6nhADWqDvS1aCOG3UQCwBOLBW07buS\n",
       "strjnm49Kg5cXeLsOMdnUJv0OSfRtPXzK/8HoQTLULIXOiGyzHdW9Vkb4hFRnV/kJqpDTmXCBojV\n",
       "qnotqto0XsHQR8/5khmP4Y4ufnuF6g/knRaNXgcfcnCOggSZjvUXw47GeODeYr8TjGSSGt+x9U2q\n",
       "saMXrK6eogILyqQhrRVxKtUSmmX46777Hk9K4Nm7+sladJiH9QKTlBK/57Coo3pK88jdK68HWd3+\n",
       "q+WmFTLSywoaal/vSf+jvfCYprOqtO5kT3XF1nigIsgshaESx+Fp+IfsqGC+txYPE86iIDhYh5Oz\n",
       "evfr/99oic5CR1nRogQMdIzD1jvpbSIKjapSeUQg7cVCQeJ4yGC15QvYNBcP71eT02GoWWr9jyxP\n",
       "UVaHiGaE+mXVqaUxwPguB+kcQdnroyB3k9YqIhz+TqFhZr52l5CJwLHfFaiUclpIB5lYgfYgs8x8\n",
       "S7W8Q37vw/fC+AITzg41SFe6CzaRRJf4K1blJQB0k+ie8dhOV8MxPDMzTJF/DfV0Io7J3iwUqlh4\n",
       "hqHzmKl9FfTb0zLWty/Ys0q6dwPcssgAsn9KR3GeJ1WPeBj2JMFzLgjGy+dKWWrXjfoWHf3QjSGC\n",
       "8pKwkKoHmLpc39PWuxgJXflu5IeL43dK1Y3WHquv3yLv4fJqzRaYWyVr7QpAh0MlAQ9k9hqCTLxD\n",
       "Zu+vxep4ZVZBB5Sp2TKnamTwNXtt+54Oi8da4qGsfkD4K4DIDpAEKrxpf8V6vb27JM85nDykGkEO\n",
       "MxXDagHTiHvqHwU6wg3yKtd0aucTDj87jvlcwln3iOxIBWsw9jrfHKNYTJq4IRilA9BvyX+GQaYx\n",
       "xqmpXcMTaAiQoiUQYcoMMFHSX7AGICKERM0c701sUat6YbCX79+Zs5jm/EMdDmKUnevOlpq7Sc6N\n",
       "yzy7hXNi0zIiJPH7RcSeoWcJgroxwOtw2F9b+NNmT7XCffhxpFaNEj1rd0zYP85bSSJKcsp7EK0t\n",
       "EqrFeNteIpMWkGLydFmXKJmIHGR3BKRIWN/uW15X1uFaNYQmEq+hk23q4NN3ncqwzdBpyUZ16zjT\n",
       "Px/s7+Fvk7+Q4f/J/mP4RrVxfjxFXYGrQX2/NuZ1PSruCHFYRyIgjs+W3IDK+O86xzy03VGoEpLP\n",
       "/QMChzZofeYHB7cxld4Db3rBXch+U4SvDlBnm/6rWIn9UNJMOpYJO31GEPdmxo5BtE2CMTBA3qR6\n",
       "lGtfKZN6juzaJY1/3Fcwp9B2ERJmeDGh6VZ4W8NnR6ZYV4Fz4WzZ9bYoD8JSKgIwD/4V9jm32qaC\n",
       "uHzMUvnHsL58meErO5qiBCQ7+QqthKntJO2OAeElrgtBFLiWU8wAAAY2QZt+SeEPJlMCG//+p4QA\n",
       "25rs1O7B0UVfrFyp0+kv6bdZI7/7aPOrEhgK/psvhACz5m8BHTT83J6rYQFYN2GM+RWJYptKlQf1\n",
       "vtsyubYJr1KMcTVy1kl357eP/I2m37gD4uU2NMq/1B4oT5VClAGQlvgDv9XrhueDbvGmXVQrM0FW\n",
       "k2rPqyTpNUgHsTQC5vlwUK0YEfghNDZGGd3NsYkbcZ2zvh4omXd8g872XM81iBhd1zgrqbeUyU/w\n",
       "G+tQlXWQ1dhpTa2e8py1kcVwZiWfhzrd6Tdk7BiMUGlE78OLe09gNcne0OGenuORvcFp3YPAoNNo\n",
       "b2Spov8i7XWkOWB3w+wy2baDPn/O6/X8/+fl/OVsV70QJywGMXYSe7AdAlyKIxN2DmXcZf3kCrbG\n",
       "JmRRHPljEJ36Ua5Z8sHYq7pjWDW9E6gAsAAW//Z5Glyi9nrSCUvMy1lGRwtBbq/7/8YZGt91MGcP\n",
       "nuN4zOQj+T9wsN0ncncpB7REmCdIYJc5qwzQneVvBM0lpPJDymynnZjz9Ot4FrXoQjxtIAtaM1nN\n",
       "OcBsZtURmEi3t/0SDwcLbdwH9jg91l2YpT7xcPT1qWByKxLuiEIB4BTF2ZdDsCJMVhvffRkuTlv2\n",
       "kVTWmbiWhTWkrg9/7VYdubKZAo87Cz/CpPnJNsq2cAHoLiDolSWVe7KOUrfNoopPwfwAopRZMTrQ\n",
       "LuWssNQfBhlZtirXAtdgIJGAaYSkDK4RQ49V6W2Cjxb0cT4Q3z7HuOH2uLwb4oIpnLYyDfxAb3yw\n",
       "6s9hCovknOPNr71cVK/6jLvuFPLmgqsmPjKq3UN/kq/0/gYP6sdCh3WhmRc1mR6Vd/sGe5rj9MOW\n",
       "GzUQWy236tN/DEIGfA2TrPFNjErRwoUVxHPPmhAeBIL3ec+eb+XugJhKmNjry0m7zksDAGe9pNqR\n",
       "EAYcW3j2Bo/c/LGGjyt04Kqid0dwylCUPF8MBgzGZLTkrtyIB+tsOSsuFmLUjbSz4NnjFgi3SkhT\n",
       "hX6Nw3ATNUzWxe4eHP20WjrIF6eFqOqZJ0lm2iEd4YNslbXC2GVsCd3cj7Ez+qkyOhz/81fi88gz\n",
       "bgc8DKLPEpJpFbMPAJ4aJjEm2lOOQNb9R7Fb2He77P2Ea2yxgdbKenVcVxeKNByxlUIfThcIdB8L\n",
       "rt3pAoABKeVTnEnoO7dv3jDzAMxgB+zQJVm5K9cxgHEd1oURzYB5cOpqc7XmYJMClG8t7mnsy592\n",
       "neAwiDLY37f59HCibnTw7tAvo0x3l6Cm3ME+EZ7dX4Vi8H2+Lg1b0kIkhqTZ9tUSo1rqxlzPeju5\n",
       "GwiNV89ZeD6YbXEIpgEq85ev+8dZI9LxasWEOEpiZMFJFH74EuSgg+zFrp1cH/ENid+XUCcJu/8l\n",
       "SyVWk1QAGAsUlCmpN3Vgh7kHEj/BfGatEDB8p5CqFF/8aB2u2TcehwV7EytkF5oXomwSb6XWhtHx\n",
       "e0RJ5QFdmx+uPdCNxrMVVqW/aPKyJ0dr+2Ub7uoMqY4oT2L1dUExpNIjCcU9NL5kWuLzWHaMVFux\n",
       "ExBelG0ypGYL5NgR+O2oK3cXVrrQLep50nWgooh0Rg4Q9z8+Y2v2oAiwZxoNPBTX9apzfmR1KeAB\n",
       "VglR6Mz78/8Arvkp7R7c1PcYeuzfKTg91lJnUGpW/VUw+LYuXPipL5YJ0Rsq3JKp3HxmbsoiLmyQ\n",
       "lvn8/q301DgRItoIE4BytHsll3PBfvFz1/UufreM5hQi3bz4UHEE0v1FFU7UClUEX1WzoWa9wX/8\n",
       "oCj1VNc6/KERkQ6rUOeAWrmloChqbfQP5rXkyoRYBijCMMNQB4PKnHw6b1QXXwQzFrT9/ISFQBJG\n",
       "TZe/v3SpC4hPg7HrS4lx/vhT9tSioUIX6slNZtYL9p3HDbexduke1AWrIL8Nv+m0JRQO1AJ6rKDK\n",
       "ePNw8E5CnuVVKj9wb/yfuqMvCWs6k9/KvgvEhFPSRey7G1CEcp0vNl4oy8v303n1UMvjnMEHx8oY\n",
       "st5Ipwpe9bBG5Yyk7sSdKtNO0mJ8Nh8JsMvXte1EsefeTVVb1aljjIp+6IiEgMM2rrdYqXnvvOVU\n",
       "w6/+IbbrpjLWLVyKYm9xysOgMl4TJIFBa+jaTFKt/wP8YhofAAACK0GfnEURPCv/Ah6I8hxBakF6\n",
       "EXyAKfo1MPgM9P7Zanrrmoy0nqmVWWwwMZjhmclU9erKXfIZHwhx1Z1IJpQUCzGw826JP0b3Gshx\n",
       "4JgL0HwKeGkH7IaZgCtbS9X82njT2VHf0JQ6lmA4ZsATL6GlqSk7LuzcTwvkflIYJgzouYLPqx8s\n",
       "XY/IVBYJpVAVlCMCLLjqD7DjhOCGyJ/85xUXTXtkPeZmFGhZmGDPEXNYG7fEpPv8ObzIb44tzavr\n",
       "oTjftmP92pFei/j5QqELDS+zK9mXI69I+kEnquCYefnPVomyJ3DydLi3uadE9ykE1VVx6ksLwob1\n",
       "8i2stTt6n0eUQkUdohx+54NFkhhf8s3dllNPkiiuNoZy/cwp0R7Q6JvaNgqbVv1HCGlmKpE3npfe\n",
       "RQl3ViwXVcWD1UsYfjn+WvbIIHp1dt5ktFONE3yXiZVg6f7JRftgRszsxU25ohD5Pi6jATLxT8gO\n",
       "7th5q5AQKjqWpKZYEm1DDGN0JJU6eCjJUDzkIvPub5ajO5laUqCr/Rw2nMqAFlmUT3PqtzBpNmFw\n",
       "gkUELc/Vq1mCY9Ht7Z6wc4LAWPSx2qpT8xUTeZD5UTJBXziRMt5YIKvLJyZnmSxmt33i0ioU34q9\n",
       "wLi0ga13TRLltyAScDpx9NraO5zvnd+afVpicV6cFA/opnOoFB9AJvklA5/j9klZsZGw/qA22/nT\n",
       "YSJZIwtgUwqp/R8MsPAdDgrvY9w/BoxAXwAAAdEBn71qQr8Aiuu5smnpCIDIEwkALWo8IcV/WU8l\n",
       "U/EXQyAbBP6FqtZCQBvrJAL48UP+QTIWUYkr/t/On5zYOsoYr862QeitYM7mJFDXmMFFzkPV7Som\n",
       "6EoUrpRo7A/RsJPcFz72xLx245T8Zlge9Ha9qYvq3sT9WvptFjVm4HrXqSL24vI+pirCJRsscnOC\n",
       "hHpr4RS1AS1j70aIiKbuPz9WwHl3CswNiOvSJubvhOiBpNKTpt9fewdJcpLd9qUZRzNLJK/Zn98O\n",
       "JxZ0NoVqna5kYIn7CA3oSdHd4m1kbVHP24A9Fqj8WzObxDrtpjjca8sU1JgjCMFC3prYjOwr7pik\n",
       "/3iWAfZE0XzFj6LXFCl53Qyi+EsBnO7A1HOhRP+G0Gszr+XNgn8t0ksvYeVSuuevRaYK4QO8lXNR\n",
       "qcawM2HK44oTPggVIUvzoOppXMI09ev8DLTkcXySWCK9UzLx81sO171zHrIYxDP9vUeBFg/xGxRY\n",
       "q2pu01oEyAO/Vm63i6R8Lb07l7iSBfsw2XMjoeki0dHjw1JtiyBr2prfowtrP32LV0ElQzouG8QU\n",
       "Vj2ZbzMoaMiLAtYIp5rMZL0m2XuYPt1aqmMBTVCEVbOOAhvQVDAAAAV5QZuhSahBaJlMCGf//p4Q\n",
       "A1tvMcgYsKbeZQUzVNyXMUyHaRSFvvrHV+TWq69a0QAtgNoYw00dZ4AYMdbEEAqIkNDl4htHbaZx\n",
       "9QxwODfMrJebczStjg2D+8zj4tGL7trKXIP9YDttaxSnnV/sweGeTdE+MXx5CxoONk6O3fiaf4VW\n",
       "GtexiY/TzLK0SsdhfEkAPKk4dbAmpARk0zeE8qf5yTpdacySv01m9hsA3MkUak5Ia6i8msEnQqWE\n",
       "EXDVqI4V2OA4f3/C3ZY1XEsf2LhNlt6sO5Y4tLMGGQPeoJmheTA1jxZpbE1ZqgmDlehTOiBe8lNU\n",
       "ck/8yJ7r18KE+qBTwZTXaPkiuhRzXphYQ3VhRIPO5kma31xINl1hIhYdquqkppr9ZIT+cq1IJQNz\n",
       "kVG1DGPIfJawbCxTWG7MyfoLaacUK9ulUp6OPZpR5Uy3e8Z6WyX5Zbkq89C2O3tlp/AiQtDvOyhv\n",
       "bjY8OAgpdhXtMzEEpKBpHkI7quwyCuAR6qRbm4zjlzzSb9UYeALy3LjAdu36+OKB9T1HGVFz9vO7\n",
       "IilP+IUwD/Ipk1eu38m83XzYK5lr6xaRi5NZfH41ihFEkdby3Kn1SlMc1pgNTpJmXC0gyfWtjjNA\n",
       "7mW3Q5rUGSGBiMdb2jOzLQleH1br8uHymqH34hmet0ZHDjnovom9S3YSKImdfcDXnbrQKz0fv7Oo\n",
       "xYdpY1vFSfafT1yN3V0qS++ksi95BoKVhiZ/KizTlUGphczlFHYgo4eG/EypQ2XuqLFuO3X/9RfP\n",
       "7hWU6DeKJr6dyIrsw1BWv4SgbFni/w3UsBtLPxFIT4+SkFV/e18HQr1yUYUzSoLYebFGq9PGArwH\n",
       "HqxPmnuMByYBY2/baKo2Nhv0LYL0QY/dqnPwOvD+XwT3xD5Nvjn2ikcVK64opayCo1Fr+0pK75rM\n",
       "XhQm5T5+1E7o4ooUOYmdXGtKJ9cQLZJSVe1XndXDi8GSbui1LE11+pk9fC8KoIjwOZ1r7n51teSP\n",
       "DvpRE5B7vcfb2lLm5PACqgHt6KFCvRLFoTcXqjxNfNa1KcIqt/2bywLPeVYBJ16JUEA8n6ZkMf/g\n",
       "kNhL4j7XlugSyg4P4JuElKQJRE/PQjg4CiKo4Vsbtth1wZtYPT48J/hUN7ai+T+16FJ7DkHyQAp5\n",
       "gaiqClmyUR/gx1+SlPsa9IhWTzEUE+ZdabYmm1mmGiNm+jdF7WOImIcgKCt+zhO1rq0FTzwBCd0a\n",
       "aCV5I/nP6gvgY4KaYk4QdJHDTADzxiTepdl7BYUTQaaJyRIjzN7QPG36iWsZ+Dqm9WzEbeZTMzHX\n",
       "RMxVxGVYentsCEcvQ0lRwI9V3euTbRgdQGObGUCX2PGdhCtcMWdC6Gpm9gy6M8phFNBsyMoss+j1\n",
       "NkkCNeAjct4qckaNJ8F4RBgCbYtH3f1mrdBvaH1YWGWJGm2Da+VMezP+ENJ+rkS7sxfTN5TX2HCX\n",
       "UebZaD0VCVwm7WAOg2HVgGNKoxNx7higUBCfIAnqV+Vn7SS7C+olTfKVy9fvUApwmIiCFkpycYWf\n",
       "nPVVborBTKqGMe53TQfknEkkUaZR4iNp7ebaWALIoptBd6ks3X7OAlKCLPw3csZFUl9nIMHFWrKw\n",
       "OMbrLC9oTjxqw9I2nnZWVerZXiLzDU/Nz0ZV8tBlpgSD2T0gBqokKoDqpSeai5vYZZWP5UBxhtPe\n",
       "/GTabuGAcJRRK0PemSeFPdKwr7rxJio6i9dxHM1XRHCNBtu87z7PFVn2HRRsnqbOzuRzG6NKR6Wd\n",
       "G6HRgUf2dRqyfX3s2riFTaN6Z5kWfPxcsIdbpcnojfPaZGMxYt9zHrbpNBDR2fQ9rSE070USO2Zw\n",
       "I0UjINmIwMT415wuLtLOZcdAAAAB7EGf30URLCv/Ah9hzRsFT4HB3YWwQb962/uFYcDbVACS3soU\n",
       "Lfb6C3spOdM064n+yvJaHcvGCv5G36bfu2Ut91AQMDe/wTEPBOqBdAP0PUuZ9NAKxiK2mDp2JC0R\n",
       "Q3pVhy1nl04DyddAvFdtAwhdlmQVqq0Rrs6cBJUSyLdDHqKYWWwPxgYArKgJIO0h7P1BgctzJRof\n",
       "hRp2Ou1V7iifLmVLMIlvNxAUQvMt+LJKrhQ9E3VEj1UER5atqHIPO6ZuSWwNIEI9A9FR3XsWMowl\n",
       "za+pirlRXUmUITvL+wqGIGaIs8te0YjJKHRzXLmLMmP5qiq6i4czUVbfyCQaBt1DMt8VAVd5sjBZ\n",
       "UDQWeuk2fSBB1AywsW+a/RflX9nYu4RcecVn30sE8ogivBu15Nnf67x0fb537Zs3crLweCEQU9pV\n",
       "CWwnt0ZCs3dsT12b4KHDCGHmj8iaZnbYtYJEFnnbd0jWtfid04sDIqLiAvLnZo59+aDe/MqoOGf9\n",
       "XgiD0qcYRm57nB0IQrnJWjdD/3NlO6gNfnY2R5v9unuP1ZvnIr+rjDgocBKPZdaLWXd0Qddprv8Q\n",
       "vh7OGidFjF/A1rVyZPlJ8bBch0WTlCIypYq9rcAFmW/86D0K9NHrUkPuMkQfY++gnpbWwhGCC3L4\n",
       "gQAAAb8Bn+BqQr8AsTRQCdQ/v+MYZVrI0IjwzAA2lplXmC7fmOu+x6o/4ooJZi1lt8vOfqdDBPpS\n",
       "lEM0XDT73EWWMLk/oKLq2PBFbIRcNyda2SgEIz1i3VtL/KBPAO+FEKJ6n69TmlM/fyzj2gznE62h\n",
       "gW2IdYnqI+q0i7/EMjF9WjL4rKtfsbsK3+YQBJ2S+9JqEVcpWdrYPHKJbHvOfL2OKf8ybqrDqlMN\n",
       "41LHopb/NKKm1AkYrWwEeo8VaKo4KAPavi5wFrBbKzs32Vq50ltaLvBu0wQiAdfFbqC3cmaD2fiJ\n",
       "Lr/1jnPKCGxlQT60ryGsVZ6GdGaLND1r+wIWWsRRNTD7e+hRLNIatRdNniDOtRv77us9TXkt7BM9\n",
       "SILNFxbBRoG5/kVu8866KrohN8uadJOet7rgFR92JrZ0TPbYPV9u5GD0fIun7kptx9KBYGXKl40H\n",
       "6IsHL43G0zqIJ6LIYHgeQ57Cm0E6hzxdn+CnsINwMb6/itJ5n/qnH0cY5Or2DGc/PW8HBS+CWkKd\n",
       "rdokyuIgrf44L7IsksPO8T0MIhwlVm6uAKRIShOhFZTPVqq2CSOclT0yytUpDxJwzi/os7gAAAJc\n",
       "QZvjSahBbJlMFEwr//44QAzMA+0ABxo0YMiL0Ce1u3Y76QV/IN7b5325sh3+Le1cO1MDmBcOGsD+\n",
       "KolWI0JR63Utd378pVdjQGMJ85WNSzVHuEtKSqwxb05SiVJM44DPPKJOoON6I5ncGzNGrvG/1EFA\n",
       "++tahn6JsxsslFSNTm0NyNBgFPOHXEVcEO7IYOjtxua0iJIUkx6DjhZWu83lJoTS28CRfFS3Qkq9\n",
       "k03KCLccu1kjrA94M3bH+HHqYJjHYMOnhvgfK0GXV+9T+sMgeEtCXk7RGGcljBOXspUr41/evx66\n",
       "Xj+NtdKh/x0vNK/XnCYEtS+B+DwFq0bLdo4/Twr5yPWHR+WDiKR7pWqwNczfyG1mpBvF/6LcQaUB\n",
       "8NsRTToRnazY0nmeYYi2RyhcFR+uNM9etbiZDqt590m1VEWeIly6K5JhPAQcyfMlhB9zaGlVLOCc\n",
       "Lx/yaLx2HkXKuTNtp4OteQfdqF+CAihIV9bQuVYCn1RSThs/yqmkj/RPou2qjW/EK920i4oIWwr/\n",
       "mg/LTIyFG6OjGtt3K8R+2hqBbJ7Yz1q7QwrY0KOePalRAmsjdktqzAyx086L/sr25HGF47sK/Cwq\n",
       "MLo5I340FMF0YRkKQmWBgnhvI7B4ZeB4JR42YKAmL/FJGX/bZzFftBR2jyHuNjEcjKLnPSPmdr3k\n",
       "i8r/sMQTu6VpZx8aNqvmaWWdOsDd7VqzEc6vHJHbd1NYwtOUoyIkfj43aEqOZASpKTren3VLj7k7\n",
       "01UeujzRlyDcGur++L6e7doeuUHEZPScx7o7p8jcE4g+IQAAAPwBngJqQr8CH2HNGwUD33VTzox3\n",
       "++/hsNjG0VKZ3/B9AJGVCNc36OIGrxMWlpP6RZhGoDIBlS4PXWWEK3dhJFGAgeA/F8g3QxsOdVBR\n",
       "8qu8CnCRKdPRu4o3Ypz2bKwpfy4XyPY9R04to+kj5yDNKbyAN9eKdZNuvWhMsSDm2p/WbNIxi2Hr\n",
       "CWp6ssFe7RScpWzJTjmQGTX3rwkOXq796FBJw5elMLAA3RA2SWB5OnCWO4KQ/UkoizAQhghP2rIx\n",
       "2u9bnClvwyT9TD3B14lTErULZPfeg1r/xvmfVmuw6J9EP2YdAt+wUV8x25vb+HULk+aUgXYVRP0b\n",
       "G2IDcrQAAAdmbW9vdgAAAGxtdmhkAAAAAAAAAAAAAAAAAAAD6AAAD6AAAQAAAQAAAAAAAAAAAAAA\n",
       "AAEAAAAAAAAAAAAAAAAAAAABAAAAAAAAAAAAAAAAAABAAAAAAAAAAAAAAAAAAAAAAAAAAAAAAAAA\n",
       "AAAAAAAAAgAABpB0cmFrAAAAXHRraGQAAAADAAAAAAAAAAAAAAABAAAAAAAAD6AAAAAAAAAAAAAA\n",
       "AAAAAAAAAAEAAAAAAAAAAAAAAAAAAAABAAAAAAAAAAAAAAAAAABAAAAAAbAAAAEgAAAAAAAkZWR0\n",
       "cwAAABxlbHN0AAAAAAAAAAEAAA+gAAAEAAABAAAAAAYIbWRpYQAAACBtZGhkAAAAAAAAAAAAAAAA\n",
       "AAAyAAAAyABVxAAAAAAALWhkbHIAAAAAAAAAAHZpZGUAAAAAAAAAAAAAAABWaWRlb0hhbmRsZXIA\n",
       "AAAFs21pbmYAAAAUdm1oZAAAAAEAAAAAAAAAAAAAACRkaW5mAAAAHGRyZWYAAAAAAAAAAQAAAAx1\n",
       "cmwgAAAAAQAABXNzdGJsAAAAs3N0c2QAAAAAAAAAAQAAAKNhdmMxAAAAAAAAAAEAAAAAAAAAAAAA\n",
       "AAAAAAAAAbABIABIAAAASAAAAAAAAAABAAAAAAAAAAAAAAAAAAAAAAAAAAAAAAAAAAAAAAAAAAAA\n",
       "GP//AAAAMWF2Y0MBZAAV/+EAGGdkABWs2UGwloQAAAMABAAAAwDIPFi2WAEABmjr48siwAAAABx1\n",
       "dWlka2hA8l8kT8W6OaUbzwMj8wAAAAAAAAAYc3R0cwAAAAAAAAABAAAAZAAAAgAAAAAUc3RzcwAA\n",
       "AAAAAAABAAAAAQAAArhjdHRzAAAAAAAAAFUAAAACAAAEAAAAAAEAAAoAAAAAAQAABAAAAAABAAAA\n",
       "AAAAAAEAAAIAAAAAAQAABgAAAAABAAACAAAAAAEAAAoAAAAAAQAABAAAAAABAAAAAAAAAAEAAAIA\n",
       "AAAAAQAABAAAAAABAAAIAAAAAAIAAAIAAAAAAQAABAAAAAABAAAIAAAAAAIAAAIAAAAAAgAABAAA\n",
       "AAABAAAGAAAAAAEAAAIAAAAAAQAABAAAAAABAAAGAAAAAAEAAAIAAAAAAQAACgAAAAABAAAEAAAA\n",
       "AAEAAAAAAAAAAQAAAgAAAAABAAAKAAAAAAEAAAQAAAAAAQAAAAAAAAABAAACAAAAAAEAAAgAAAAA\n",
       "AgAAAgAAAAABAAAEAAAAAAEAAAgAAAAAAgAAAgAAAAABAAAEAAAAAAEAAAYAAAAAAQAAAgAAAAAC\n",
       "AAAEAAAAAAEAAAYAAAAAAQAAAgAAAAABAAAIAAAAAAIAAAIAAAAAAQAACgAAAAABAAAEAAAAAAEA\n",
       "AAAAAAAAAQAAAgAAAAABAAAGAAAAAAEAAAIAAAAAAgAABAAAAAABAAAIAAAAAAIAAAIAAAAAAQAA\n",
       "BgAAAAABAAACAAAAAAEAAAgAAAAAAgAAAgAAAAABAAAGAAAAAAEAAAIAAAAAAQAABAAAAAABAAAI\n",
       "AAAAAAIAAAIAAAAAAQAACgAAAAABAAAEAAAAAAEAAAAAAAAAAQAAAgAAAAABAAAGAAAAAAEAAAIA\n",
       "AAAAAQAACgAAAAABAAAEAAAAAAEAAAAAAAAAAQAAAgAAAAACAAAEAAAAAAEAAAYAAAAAAQAAAgAA\n",
       "AAABAAAEAAAAAAEAAAYAAAAAAQAAAgAAAAABAAAEAAAAAAEAAAgAAAAAAgAAAgAAAAABAAAIAAAA\n",
       "AAIAAAIAAAAAAQAABgAAAAABAAACAAAAABxzdHNjAAAAAAAAAAEAAAABAAAAZAAAAAEAAAGkc3Rz\n",
       "egAAAAAAAAAAAAAAZAAAGagAAAK/AAAGYwAAAzMAAAFeAAABlQAABVcAAAHOAAAGXAAAA4oAAAIO\n",
       "AAAB3QAABBQAAAc0AAAC2QAAAgMAAATeAAAGmQAAAfcAAAFxAAAD/wAABJQAAAVpAAABVwAAAtQA\n",
       "AAEvAAAAwAAABaUAAAJtAAABMAAAAZQAAAYCAAACsAAAAfQAAAIzAAAFmgAAAoMAAAIxAAAFGQAA\n",
       "B4cAAAKTAAABrgAABDkAAAXJAAABxgAABA0AAATEAAAF3gAAAW0AAABFAAABnwAAAEUAAAUnAAAC\n",
       "pwAAAWoAAAG1AAAEwAAAAaIAAAOIAAADjgAABc4AAAK1AAACHAAABrAAAAIGAAAHpQAAAoQAAAHm\n",
       "AAAFggAAAcQAAASjAAAGjQAAAfQAAAFDAAACSwAAAXcAAADKAAAA/QAABM8AAAHLAAAF9QAAAwQA\n",
       "AAF9AAABxAAAA5wAAARTAAAFNgAAAj0AAARTAAAGJwAAAdMAAAQVAAAGOgAAAi8AAAHVAAAFfQAA\n",
       "AfAAAAHDAAACYAAAAQAAAAAUc3RjbwAAAAAAAAABAAAALAAAAGJ1ZHRhAAAAWm1ldGEAAAAAAAAA\n",
       "IWhkbHIAAAAAAAAAAG1kaXJhcHBsAAAAAAAAAAAAAAAALWlsc3QAAAAlqXRvbwAAAB1kYXRhAAAA\n",
       "AQAAAABMYXZmNTguMTIuMTAw\n",
       "\">\n",
       "  Your browser does not support the video tag.\n",
       "</video>"
      ],
      "text/plain": [
       "<IPython.core.display.HTML object>"
      ]
     },
     "execution_count": 28,
     "metadata": {},
     "output_type": "execute_result"
    }
   ],
   "source": [
    "# Show the animation\n",
    "HTML(ani.to_html5_video())"
   ]
  },
  {
   "cell_type": "code",
   "execution_count": 29,
   "metadata": {
    "slideshow": {
     "slide_type": "skip"
    }
   },
   "outputs": [],
   "source": [
    "# Save the animation\n",
    "ani.save('PluckMiddle.mp4')"
   ]
  },
  {
   "cell_type": "markdown",
   "metadata": {
    "slideshow": {
     "slide_type": "slide"
    }
   },
   "source": [
    "## Some videos"
   ]
  },
  {
   "cell_type": "markdown",
   "metadata": {},
   "source": [
    "I find them cool and instructive."
   ]
  },
  {
   "cell_type": "markdown",
   "metadata": {
    "slideshow": {
     "slide_type": "skip"
    }
   },
   "source": [
    "### Bowed Violin String in Slow Motion\n",
    "\n",
    "https://youtu.be/6JeyiM0YNo4"
   ]
  },
  {
   "cell_type": "code",
   "execution_count": 30,
   "metadata": {
    "slideshow": {
     "slide_type": "subslide"
    }
   },
   "outputs": [
    {
     "data": {
      "text/html": [
       "<iframe width=\"560\" height=\"315\" src=\"https://www.youtube.com/embed/6JeyiM0YNo4?start=55\" frameborder=\"0\" allowfullscreen></iframe>"
      ],
      "text/plain": [
       "<IPython.core.display.HTML object>"
      ]
     },
     "execution_count": 30,
     "metadata": {},
     "output_type": "execute_result"
    }
   ],
   "source": [
    "from IPython.display import HTML\n",
    "HTML('<iframe width=\"560\" height=\"315\" src=\"https://www.youtube.com/embed/6JeyiM0YNo4?start=55\" frameborder=\"0\" allowfullscreen></iframe>')"
   ]
  },
  {
   "cell_type": "markdown",
   "metadata": {
    "slideshow": {
     "slide_type": "notes"
    }
   },
   "source": [
    "About this video of a violin string, note that:\n",
    "\n",
    "* The oscillation is created by the bow of the violin, sticking-and-slipping (this is actually a real expression) at a frequency that resonates with the oscillation we see.\n",
    "* When the bow is removed, towards the end of the video, you can see that very quickly, the oscillation becomes like a fundamental oscillation, and nothing else, the kink is gone. That's because in reality, there is damping, and the higher the harmonic is, the stronger the damping acts on it. Indeed, as we saw before, the kink is reproduced by very high modes, and those modes oscillate faster. Assuming (and this is actually a conservative assumption) that the damping force on a mode $n$ can be modeled as something like $-b\\dot y$ again, then it proportional to the frequency: $F_{damping} \\propto \\sum -\\omega_n\\alpha_n\\sin(\\omega_n t)\\sin(k_nx)$. Therefore, the higher a mode is, the faster the damping is. After a short period of time, damping has killed all the modes but the fundamental, which is the last harmonic standing (pun intended).\n",
    "* The violin is out-of-tune to visualize a pattern. The string's oscillations are way too large for a functioning violin."
   ]
  },
  {
   "cell_type": "markdown",
   "metadata": {
    "slideshow": {
     "slide_type": "skip"
    }
   },
   "source": [
    "### Chladni Plate\n",
    "\n",
    "https://youtu.be/wvJAgrUBF4w to complement the class demo."
   ]
  },
  {
   "cell_type": "code",
   "execution_count": 31,
   "metadata": {
    "slideshow": {
     "slide_type": "subslide"
    }
   },
   "outputs": [
    {
     "data": {
      "text/html": [
       "<iframe width=\"560\" height=\"315\" src=\"https://www.youtube.com/embed/wvJAgrUBF4w\" frameborder=\"0\" allowfullscreen></iframe>"
      ],
      "text/plain": [
       "<IPython.core.display.HTML object>"
      ]
     },
     "execution_count": 31,
     "metadata": {},
     "output_type": "execute_result"
    }
   ],
   "source": [
    "HTML('<iframe width=\"560\" height=\"315\" src=\"https://www.youtube.com/embed/wvJAgrUBF4w\" frameborder=\"0\" allowfullscreen></iframe>')"
   ]
  },
  {
   "cell_type": "markdown",
   "metadata": {
    "slideshow": {
     "slide_type": "-"
    }
   },
   "source": [
    "For an in-house explanation, see the web page, created by our very own Prof. Stephen Morris: https://www.physics.utoronto.ca/~nonlin/chladni.html"
   ]
  },
  {
   "cell_type": "markdown",
   "metadata": {
    "slideshow": {
     "slide_type": "skip"
    }
   },
   "source": [
    "### Fourier Analysis (and guitar jammin')\n",
    "\n",
    "https://youtu.be/u1Lz8pm2npQ\n",
    "\n",
    "I love it and I hate it: this guy makes me look lame. Goes way beyond what I covered, in a compressed amount of time."
   ]
  },
  {
   "cell_type": "code",
   "execution_count": 32,
   "metadata": {
    "slideshow": {
     "slide_type": "subslide"
    }
   },
   "outputs": [
    {
     "data": {
      "text/html": [
       "<iframe width=\"560\" height=\"315\" src=\"https://www.youtube.com/embed/u1Lz8pm2npQ\" frameborder=\"0\" allowfullscreen></iframe>"
      ],
      "text/plain": [
       "<IPython.core.display.HTML object>"
      ]
     },
     "execution_count": 32,
     "metadata": {},
     "output_type": "execute_result"
    }
   ],
   "source": [
    "HTML('<iframe width=\"560\" height=\"315\" src=\"https://www.youtube.com/embed/u1Lz8pm2npQ\" frameborder=\"0\" allowfullscreen></iframe>')"
   ]
  },
  {
   "cell_type": "markdown",
   "metadata": {
    "slideshow": {
     "slide_type": "skip"
    }
   },
   "source": [
    "### Ruben's Tubes\n",
    "\n",
    "https://youtu.be/2awbKQ2DLRE\n",
    "\n",
    "The first minute of the video is pretty instructive, but the entire video is like a pyrotechnical version of a Chladni plate."
   ]
  },
  {
   "cell_type": "code",
   "execution_count": 33,
   "metadata": {
    "slideshow": {
     "slide_type": "subslide"
    }
   },
   "outputs": [
    {
     "data": {
      "text/html": [
       "<iframe width=\"560\" height=\"315\" src=\"https://www.youtube.com/embed/2awbKQ2DLRE\" frameborder=\"0\" allowfullscreen></iframe>"
      ],
      "text/plain": [
       "<IPython.core.display.HTML object>"
      ]
     },
     "execution_count": 33,
     "metadata": {},
     "output_type": "execute_result"
    }
   ],
   "source": [
    "HTML('<iframe width=\"560\" height=\"315\" src=\"https://www.youtube.com/embed/2awbKQ2DLRE\" frameborder=\"0\" allowfullscreen></iframe>')"
   ]
  },
  {
   "cell_type": "markdown",
   "metadata": {
    "slideshow": {
     "slide_type": "skip"
    }
   },
   "source": [
    "### The Walking Water Mystery\n",
    "\n",
    "https://youtu.be/KJDEsAy9RyM\n",
    "\n",
    "The connection with standing waves may not be obvious at first. Jump to 4'15 or 8'14 if you are impatient, but the whole thing is worth a watch. Awesome stuff at 9'30."
   ]
  },
  {
   "cell_type": "code",
   "execution_count": 34,
   "metadata": {
    "slideshow": {
     "slide_type": "subslide"
    }
   },
   "outputs": [
    {
     "data": {
      "text/html": [
       "<iframe width=\"560\" height=\"315\" src=\"https://www.youtube.com/embed/KJDEsAy9RyM\" frameborder=\"0\" allowfullscreen></iframe>"
      ],
      "text/plain": [
       "<IPython.core.display.HTML object>"
      ]
     },
     "execution_count": 34,
     "metadata": {},
     "output_type": "execute_result"
    }
   ],
   "source": [
    "HTML('<iframe width=\"560\" height=\"315\" src=\"https://www.youtube.com/embed/KJDEsAy9RyM\" frameborder=\"0\" allowfullscreen></iframe>')"
   ]
  },
  {
   "cell_type": "markdown",
   "metadata": {
    "slideshow": {
     "slide_type": "skip"
    }
   },
   "source": [
    "# Energy of Standing Waves\n",
    "\n",
    "*[King: §§ 6.3 and 6.4.4; skipped parts of the derivations also found in § 5.5]*"
   ]
  },
  {
   "cell_type": "markdown",
   "metadata": {
    "slideshow": {
     "slide_type": "skip"
    }
   },
   "source": [
    "The energy per unit length of the string is (cf. King § 5.5):\n",
    "$$E =  \\frac12 \\mu \\int_0^L \\left[\\left(\\pde{y}t\\right)^2 + v^2\\left(\\pde{y}x\\right)^2 \\right]\\di x,$$\n",
    "where the first part in the integral corresponds to the kinetic energy and the second part corresponds to the potential energy stored when the string moves away from its rest position ad gets stretched or compressed a little."
   ]
  },
  {
   "cell_type": "markdown",
   "metadata": {
    "slideshow": {
     "slide_type": "skip"
    }
   },
   "source": [
    "## Single Mode"
   ]
  },
  {
   "cell_type": "markdown",
   "metadata": {
    "slideshow": {
     "slide_type": "skip"
    }
   },
   "source": [
    "For a single mode, and assuming for simplicity that $V(x) = 0$,\n",
    "$$y(t, x) = y_n(t, x) = A_n \\cos(\\omega_n t + \\phi_n)\\sin(k_n x),$$\n",
    "$$\\pde{y}t = -\\omega_n A_n \\sin(\\omega_n t + \\phi_n)\\sin(k_n x),\\textrm{ and}$$\n",
    "$$\\pde{y}x = k_n A_n \\cos(\\omega_n t + \\phi_n)\\cos(k_n x).$$"
   ]
  },
  {
   "cell_type": "markdown",
   "metadata": {
    "slideshow": {
     "slide_type": "skip"
    }
   },
   "source": [
    "Substituting into the expression for energy,\n",
    "\\begin{align*}\n",
    "    E_n & = \\frac12 \\mu \\int_0^L \\left[\\omega_n^2 A_n^2 \\sin^2(\\omega_n t + \\phi_n)\\sin^2(k_n x)  + v^2k_n^2 A_n^2 \\cos^2(\\omega_n t + \\phi_n)\\cos^2(k_n x)\\right]\\di x, \\\\\n",
    "        & = \\frac12 \\mu \\omega_n^2 A_n^2 \\left[\\sin^2(\\omega_n t + \\phi_n)\\int_0^L \\sin^2(k_n x)\\di x + \\cos^2(\\omega_n t + \\phi_n)\\int_0^L\\cos^2(k_n x)\\di x\\right].\n",
    "\\end{align*}"
   ]
  },
  {
   "cell_type": "markdown",
   "metadata": {
    "slideshow": {
     "slide_type": "skip"
    }
   },
   "source": [
    "You can compute (in which case you could use $\\cos^2 + \\sin^2 = 1$), or convince yourself by drawing $\\cos^2$ and $\\sin^2$, that the two integrals are the same:\n",
    "$$\\int_0^L \\sin^2(k_n x)\\di x = \\int_0^L \\cos^2(k_n x)\\di x = \\frac{L}2.$$"
   ]
  },
  {
   "cell_type": "markdown",
   "metadata": {
    "slideshow": {
     "slide_type": "skip"
    }
   },
   "source": [
    "And because $\\cos^2(\\omega_n t + \\phi_n) + \\sin^2(\\omega_n t + \\phi_n) = 1$,\n",
    "$$\\boxed{E_n = \\frac14\\mu\\omega_n^2 A_n^2 L}.$$"
   ]
  },
  {
   "cell_type": "markdown",
   "metadata": {
    "slideshow": {
     "slide_type": "skip"
    }
   },
   "source": [
    "The expression above may look silly to remember, but there actually is physics in there, it is not so complicated, and I would like you to remember it.\n",
    "The energy of the SHO was already $kA^2/2 = m\\omega_0^2 A^2/2$, and so, if you could remember the energy of the SHO, you can remember this one.\n",
    "\n",
    "* $E_n \\propto m = \\mu L$, the mass of the string. Why not.\n",
    "* $E_n \\propto A_n^2$: quadratic dependence of the energy on the amplitude, a super-duper general statement that you have been needing to remember from the start of this lecture series,\n",
    "* $E_n \\propto \\omega_n^2$: looking straight at it, this looks new. But the energy of the SHO was already proportional to $k = m\\omega_0^2$, so, this is actually not that new. But it is important to remember it this way! \"Everything else being equal, a mode that oscillates twice as fast has four times the energy.\"\n",
    "* factor $1/4$: this one can be annoying because it is not $1/2$, and I forget about it all the time myself. I try to get around this problem by remembering that $L = 2n\\lambda_n$, and so $\\mu L/4 = n\\mu\\lambda_n/2$: the energy in one wavelength is $E_n/n = (m_n \\omega_n^2 A_n^2)/2$, with $m_n = \\mu \\lambda_n$ the mass of string in one wavelength. The pre-factor is not as important to remember as the other scalings though."
   ]
  },
  {
   "cell_type": "markdown",
   "metadata": {
    "slideshow": {
     "slide_type": "skip"
    }
   },
   "source": [
    "If we had different boundary conditions, we may have a combination of $\\sin(k_n x)$ and $\\cos(k_n x)$ in $y_n(t, x)$, but the derivation would be conceptually the same."
   ]
  },
  {
   "cell_type": "markdown",
   "metadata": {
    "slideshow": {
     "slide_type": "skip"
    }
   },
   "source": [
    "## Many modes"
   ]
  },
  {
   "cell_type": "markdown",
   "metadata": {
    "slideshow": {
     "slide_type": "skip"
    }
   },
   "source": [
    "With more than one mode,\n",
    "$$ y(t, x) = \\sum_{n=1}^\\infty A_n \\cos(\\omega_n t + \\phi_n)\\sin(k_n x).$$\n",
    "Let's discard $\\phi_n$, for example by shifting the time origin or assuming $\\dot y(x, 0) = 0$."
   ]
  },
  {
   "cell_type": "markdown",
   "metadata": {
    "slideshow": {
     "slide_type": "skip"
    }
   },
   "source": [
    "\\begin{align*}\n",
    "    \\pde{y}t & = -\\sum_{n=1}^\\infty \\omega_n A_n \\sin(\\omega_n t)\\sin(k_n x),\\textrm{ and}\\\\\n",
    "    \\left(\\pde{y}t\\right)^2 & = \\left[\\sum_{n=1}^\\infty \\omega_n A_n \\sin(\\omega_n t)\\sin(k_n x)\\right]\\left[\\sum_{m=1}^\\infty \\omega_m A_m \\sin(\\omega_m t)\\sin(k_m x)\\right] \\\\\n",
    "                            & = \\sum_{n=1}^\\infty \\left(\\omega_n A_n \\sin(\\omega_n t)\\sin(k_n x)\\right)^2 + 2\\sum_{m=1}^\\infty\\sum_{n=m+1}^\\infty \\omega_m A_m\\omega_n A_n \\sin(\\omega_m t)\\sin(k_m x)\\sin(\\omega_n t)\\sin(k_n x).\n",
    "\\end{align*}"
   ]
  },
  {
   "cell_type": "markdown",
   "metadata": {
    "slideshow": {
     "slide_type": "skip"
    }
   },
   "source": [
    "Notice the $2\\sum_{m=1}^{\\infty}\\sum_{n=m+1}^{\\infty}$ double sum (like I need to remind you of it).\n",
    "The factor 2 is here because each term that has $m\\neq n$ will appear twice, say, the couples $\\{m=1, n=2\\}$ and $\\{m=2, n=1\\}$ each appear once, but lead to the same expression. Might as well just sum them once, but make them count twice.\n",
    "We start the second sum at $n=m+1$, not $n=m$, because the $n=m$ case is treated separately, in the first summation."
   ]
  },
  {
   "cell_type": "markdown",
   "metadata": {
    "slideshow": {
     "slide_type": "skip"
    }
   },
   "source": [
    "Before going any further, let us not forget that eventually, we will integrate these sums over $[0, L]$.\n",
    "In particular, the double sum will only contain terms proportional to \n",
    "$$\\int_0^L\\sin(k_m x)\\sin(k_n x) \\di x = 0\\quad \\textrm{because}\\quad n\\neq m.$$\n",
    "Therefore, \n",
    "$$ \\int_0^L \\left(\\pde{y}t\\right)^2 \\di x = \\sum_{n=1}^\\infty \\int_0^L \\left[\\omega_n A_n \\sin(\\omega_n t)\\sin(k_n x)\\right]^2 \\di x = \\sum_{n=1}^\\infty \\int_0^L \\left(\\pde{y_n}{t}\\right)^2 \\di x. $$\n"
   ]
  },
  {
   "cell_type": "markdown",
   "metadata": {
    "slideshow": {
     "slide_type": "skip"
    }
   },
   "source": [
    "A very similar derivation leads to\n",
    "$$ \\int_0^L\\left(\\pde{y}x\\right)^2\\di x = \\sum_{n=1}^\\infty\\int_0^L \\left(\\pde{y_n}{x}\\right)^2 \\di x, $$\n",
    "and therefore,\n",
    "$$\\boxed{E = \\sum_{n=1}^\\infty E_n} = \\frac{1}{2}\\mu L \\sum_{n=1}^\\infty \\omega_n^2 A_n^2.$$\n",
    "\n",
    "If you look back on your lectures on Fourier series, there should be a piece about Parseval's theorem. You may realize that the framed expression above is actually an application of it."
   ]
  },
  {
   "cell_type": "markdown",
   "metadata": {
    "slideshow": {
     "slide_type": "skip"
    }
   },
   "source": [
    "Just like for coupled oscillators, **each mode has its own energy, it does not communicate it to any other mode, and the total energy is the sum of the energy of each mode.** Remember it!"
   ]
  },
  {
   "cell_type": "markdown",
   "metadata": {
    "slideshow": {
     "slide_type": "skip"
    }
   },
   "source": [
    "## Power Spectra"
   ]
  },
  {
   "cell_type": "markdown",
   "metadata": {
    "slideshow": {
     "slide_type": "skip"
    }
   },
   "source": [
    "Power spectra are plots of $E_n$ vs. $\\omega_n$. The result is a bar plot like the amplitude spectra I showed before. \n",
    "The most visually striking differences would be that all values would be positive, and the bars heights would fall off more rapidly as $n$ increases, because $E_n \\propto A_n^2\\omega_n^2$ instead of $A_n$.\n",
    "Power spectra are much more widely used that amplitude spectra."
   ]
  }
 ],
 "metadata": {
  "anaconda-cloud": {},
  "celltoolbar": "Slideshow",
  "kernelspec": {
   "display_name": "Python [default]",
   "language": "python",
   "name": "python3"
  },
  "language_info": {
   "codemirror_mode": {
    "name": "ipython",
    "version": 3
   },
   "file_extension": ".py",
   "mimetype": "text/x-python",
   "name": "python",
   "nbconvert_exporter": "python",
   "pygments_lexer": "ipython3",
   "version": "3.5.6"
  }
 },
 "nbformat": 4,
 "nbformat_minor": 1
}
