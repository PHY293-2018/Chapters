{
 "cells": [
  {
   "cell_type": "raw",
   "metadata": {
    "raw_mimetype": "text/latex"
   },
   "source": [
    "\\newcommand{\\rads}{~rad.s$^{-1}$}\n",
    "\\newcommand{\\BV}{Brunt-V\\\"ais\\\"al\\\"a{} }\n",
    "\\newcommand{\\bnabla}{\\boldsymbol{\\nabla}}\n",
    "\\newcommand{\\eexp}[1]{\\textsf{e}^{#1}}\n",
    "\\newcommand{\\glm}[1]{\\overline{#1}^L}\n",
    "\\newcommand{\\psmom}[0]{\\boldsymbol{\\textsf{p}}}\n",
    "\\newcommand{\\di}[0]{\\textrm{d}}\n",
    "\\newcommand{\\bs}[1]{\\boldsymbol{#1}}\n",
    "\\newcommand{\\ode}[2]{\\frac{\\di {#1}}{\\di {#2}}}\n",
    "\\newcommand{\\oden}[3]{\\frac{\\di^{#1} {#2}}{\\di {#3}^{#1}}}\n",
    "\\newcommand{\\odel}[2]{\\di {#1}/\\di {#2}}\n",
    "\\newcommand{\\odeln}[3]{\\di^{#1} {#2}/\\di {#3}^{#1}}\n",
    "\\newcommand{\\pde}[2]{\\frac{\\partial {#1}}{\\partial {#2}}}\n",
    "\\newcommand{\\pden}[3]{\\frac{\\partial^{#1} {#2}}{\\partial {#3}^{#1}}}\n",
    "\\newcommand{\\pdel}[2]{\\partial_{#2} {#1}}\n",
    "\\newcommand{\\pdenl}[3]{\\partial^{#1}_{#3} {#2}}\n",
    "\\newcommand{\\mde}[1]{\\frac{\\textrm{D} {#1}}{\\textrm{D} t}}\n",
    "\\newcommand{\\mdel}[1]{\\textrm{D}_t {#1}}\n",
    "\\newcommand{\\divr}[1]{\\vec\\nabla \\cdot {#1}}\n",
    "\\newcommand{\\divrb}[1]{\\boldsymbol{\\nabla} \\cdot {#1}}\n",
    "\\newcommand{\\grad}[1]{\\vec \\nabla {#1}}\n",
    "\\newcommand{\\gradb}[1]{\\boldsymbol\\nabla {#1}}\n",
    "\\newcommand{\\curl}[1]{\\vec\\nabla \\times {#1}}\n",
    "\\newcommand{\\curlb}[1]{\\boldsymbol{\\nabla}\\times\\boldsymbol{#1}}\n",
    "\\newcommand{\\lapl}[0]{\\vec\\nabla^2}\n",
    "\\newcommand{\\laplb}[0]{\\boldsymbol{\\nabla}^2}\n",
    "\\newcommand{\\cplxi}[0]{\\mathrm i}\n",
    "\\newcommand{\\unit}[1]{\\mathbf{\\hat{#1}}}\n",
    "\\newcommand{\\red}[1]{\\textcolor{red}{#1}}\n",
    "\\newcommand{\\blue}[1]{\\textcolor{blue}{#1}}\n",
    "\\newcommand{\\mage}[1]{\\textcolor{magenta}{#1}}"
   ]
  },
  {
   "cell_type": "raw",
   "metadata": {
    "raw_mimetype": "text/latex"
   },
   "source": [
    "\\DefineVerbatimEnvironment{Verbatim}{Verbatim}{fontsize=\\scriptsize}"
   ]
  },
  {
   "cell_type": "markdown",
   "metadata": {
    "raw_mimetype": "text/markdown"
   },
   "source": [
    "$\\newcommand{\\rads}{~rad.s$^{-1}$}$\n",
    "$\\newcommand{\\bnabla}{\\boldsymbol{\\nabla}}$\n",
    "$\\newcommand{\\eexp}[1]{\\textsf{e}^{#1}}$\n",
    "$\\newcommand{\\glm}[1]{\\overline{#1}^L}$\n",
    "$\\newcommand{\\psmom}[0]{\\boldsymbol{\\textsf{p}}}$\n",
    "$\\newcommand{\\di}[0]{\\textrm{d}}$\n",
    "$\\newcommand{\\bs}[1]{\\boldsymbol{#1}}$\n",
    "$\\newcommand{\\ode}[2]{\\frac{\\di {#1}}{\\di {#2}}}$\n",
    "$\\newcommand{\\oden}[3]{\\frac{\\di^{#1} {#2}}{\\di {#3}^{#1}}}$\n",
    "$\\newcommand{\\odel}[2]{\\di {#1}/\\di {#2}}$\n",
    "$\\newcommand{\\odeln}[3]{\\di^{#1} {#2}/\\di {#3}^{#1}}$\n",
    "$\\newcommand{\\pde}[2]{\\frac{\\partial {#1}}{\\partial {#2}}}$\n",
    "$\\newcommand{\\pden}[3]{\\frac{\\partial^{#1} {#2}}{\\partial {#3}^{#1}}}$\n",
    "$\\newcommand{\\pdel}[2]{\\partial_{#2} {#1}}$\n",
    "$\\newcommand{\\pdenl}[3]{\\partial^{#1}_{#3} {#2}}$\n",
    "$\\newcommand{\\mde}[1]{\\frac{\\textrm{D} {#1}}{\\textrm{D} t}}$\n",
    "$\\newcommand{\\mdel}[1]{\\textrm{D}_t {#1}}$\n",
    "$\\newcommand{\\divr}[1]{\\vec\\nabla \\cdot {#1}}$\n",
    "$\\newcommand{\\divrb}[1]{\\boldsymbol{\\nabla} \\cdot {#1}}$\n",
    "$\\newcommand{\\grad}[1]{\\vec \\nabla {#1}}$\n",
    "$\\newcommand{\\gradb}[1]{\\boldsymbol\\nabla {#1}}$\n",
    "$\\newcommand{\\curl}[1]{\\vec\\nabla \\times {#1}}$\n",
    "$\\newcommand{\\curlb}[1]{\\boldsymbol{\\nabla}\\times\\boldsymbol{#1}}$\n",
    "$\\newcommand{\\lapl}[0]{\\vec\\nabla^2}$\n",
    "$\\newcommand{\\laplb}[0]{\\boldsymbol{\\nabla}^2}$\n",
    "$\\newcommand{\\cplxi}[0]{\\mathrm i}$\n",
    "$\\newcommand{\\unit}[1]{\\mathbf{\\hat{#1}}}$\n",
    "$\\newcommand{\\thrfor}[0]{\\quad\\Rightarrow\\quad}$\n",
    "$\\newcommand{\\red}[1]{\\textcolor{red}{#1}}$\n",
    "$\\newcommand{\\blue}[1]{\\textcolor{blue}{#1}}$\n",
    "$\\newcommand{\\mage}[1]{\\textcolor{magenta}{#1}}$"
   ]
  },
  {
   "cell_type": "code",
   "execution_count": 53,
   "metadata": {
    "collapsed": true
   },
   "outputs": [],
   "source": [
    "from IPython.display import Image, display"
   ]
  },
  {
   "cell_type": "markdown",
   "metadata": {},
   "source": [
    "*[Book: chapter 1]*\n",
    "\n",
    "This first chapter should be brief, a reminder of things you have seen before (and if not, well, it's not that hard). I will mostly forcus on a massive object, oscillating because attached to a spring. Although very simple, this system encapsulates many features that we will see throughout the class. In particular, a second derivative will appear, and second derivatives are all that this half-term is about.\n",
    "\n",
    "All framed equations should be memorized."
   ]
  },
  {
   "cell_type": "markdown",
   "metadata": {},
   "source": [
    "# Equations of motion\n",
    "\n",
    "Consider the spring-mass system in fig. 1. An ideal spring (that is, a weightless, dissipationless spring) of stiffess $k > 0$ [in N.m$^{-1}$, or kg.s$^{-2}$], attached to a fixed wall on one end, and an objet of mass $m$ [kg] on the other.\n",
    "\n",
    "![Fig. 1: Basic spring-mass system, with $k$ the stiffness of the spring and $m$ the mass of the object.](SpringMass.png)\n",
    "\n",
    "Let $x$ be the position of the centre of mass of the object. $x=0$ at rest, $x\\neq 0$ otherwise.\n",
    "Let's also assume the mass can slide on the surface without friction, and that the spring is \"perfect\" (that is, weightless and can oscillate without dissipation)."
   ]
  },
  {
   "cell_type": "markdown",
   "metadata": {},
   "source": [
    "We now pull the mass to position $x = x_0 \\neq 0$ and hold it there.\n",
    "If $x_0$ is \"not too big\", the spring will not deform or break.\n",
    "In this case, the force of the spring on the mass is (Hooke's law)\n",
    "$$ \\Large \\boxed{F = -kx_0.} $$\n",
    "\n",
    "* The negative sign mean that the force is a **restoring force** (tends to bring back to origin).\n",
    "\n",
    "* $k$ being constant, the force is proportional to the distance from rest state.\n",
    "\n",
    "This behaviour could define what \"linear\" means in physics.\n",
    "Any system for which a state of rest can be defined will respond linearly to weak disturbances or forces.\n",
    "\n",
    "![Fig. 2: Illustration of what linear behavious means.](Linear.png)"
   ]
  },
  {
   "cell_type": "markdown",
   "metadata": {},
   "source": [
    "**PHY293A: 100% linear physics.**\n",
    "\n",
    "*Note that fig. 2 is incorrect for the spring: is a spring is compressed to the max, it simply stops compressing. For $x$ too far in the negative, the non-linear regime is a vertical line representing an infinite force for too much compression.*"
   ]
  },
  {
   "cell_type": "markdown",
   "metadata": {},
   "source": [
    "Let us now release our spring.\n",
    "The motion of the object has to obey Newton's second law, which constitutes an equation of motion.\n",
    "$$ ma = F\\ \\Rightarrow\\ m\\ddot{x} = -kx, $$\n",
    "with $a = \\ddot{x}$ the acceleration.\n",
    "The equation above is a **second-order Ordinary Differential Equation (ODE)**.\n",
    "\n",
    "**PHY293A: 99% 2**$^{nd}$**-order derivatives.**\n",
    "\n",
    "*Note: a dot on top of a quantity usually denotes time derivative, and time derivative only:*\n",
    "$$ \\dot{x} = \\ode{x}t = v, \\ \\textrm{and}\\ \\ddot x = \\oden{2}{x}{t} = a $$\n",
    "*It cannot denote, e.g., a spatial derivative.*"
   ]
  },
  {
   "cell_type": "markdown",
   "metadata": {},
   "source": [
    "# Solutions\n",
    "\n",
    "Let $$\\boxed{ \\large \\omega^2 = \\frac{k}{m} \\ \\Rightarrow \\ \\ddot{x} + \\omega^2 x = 0.} $$"
   ]
  },
  {
   "cell_type": "markdown",
   "metadata": {},
   "source": [
    "$\\omega$ is called the *angular frequency*.\n",
    "Because $k$ is in kg.s$^{-1}$ and $m$ is in kg, $\\omega$ is in s$^{-1}$ in SI units. In many cases, people prefer to refer to the *frequency* (just frequency), as a measure of how many cycles per seconds there are.\n",
    "Frequency $\\nu$ and angular frequency $\\omega$ are related via $\\omega = 2\\pi \\nu$. Because one full cycle corresponds to $2\\pi$ radiants, many people prefer to refer to the units of $\\omega$ as rad.s$^{-1}$, and those of frequency as cycles.s$^{-1}$, or Hz. It makes it less confusing but not SI compliant (both cycles and radiants have SI units of 1). In the context of this class, you are expected to quote angular frequencies in rad.s$^{-1}$ and frequencies in Hz, and know which one is which. "
   ]
  },
  {
   "cell_type": "markdown",
   "metadata": {},
   "source": [
    "The solution of the framed equation above is $$ x = A\\cos(\\omega t + \\phi), $$\n",
    "with $A$ the *amplitude* of the oscillation and $\\phi$ a *phase*, both to be determined.\n",
    "\n",
    "Note that because $\\cos(a+b) = \\cos{a}\\cos{b} - \\sin{a}\\sin{b}$, the solution can also be written $x = A_1\\cos(\\omega t) + A_2\\sin(\\omega t)$, with $A_1$ and $A_2$ now to be determined.\n",
    "My derivation could be done in these terms, but I will stick to the first form of the solution."
   ]
  },
  {
   "cell_type": "markdown",
   "metadata": {},
   "source": [
    "We want to determine two parameters, $A$ and $\\phi$. \n",
    "Therefore, we need two pieces of information.\n",
    "We do have two *initial conditions*: we know that \n",
    "\n",
    "1. initially (at $t=0$), the position was $x(t=0) = x_0$ and\n",
    "\n",
    "2. we were holding the mass still ($v(t=0)=0$). \n",
    "\n",
    "The velocity is $$ v = \\dot x = -A\\omega\\sin(\\omega t + \\phi). $$ Therefore, at $t=0$,\n",
    "    $$ x(t=0) = x_0 = A\\cos(\\phi)\\quad \\textrm{and}\\quad v(t=0) = 0 = -A\\omega\\sin(\\phi). $$"
   ]
  },
  {
   "cell_type": "markdown",
   "metadata": {},
   "source": [
    "According to the second equation, either $A$ or $\\phi$ is zero. But $A\\neq0$, unless $x_0 = 0$ (first eqn.). \n",
    "Therefore, $\\phi = 0$, and $A=x_0$."
   ]
  },
  {
   "cell_type": "markdown",
   "metadata": {},
   "source": [
    "Thus, $x(t) = x_0\\cos(\\omega t)$.\n",
    "Let us plot this (numerical values taken from the worked example of the book, page 9, expect for the initial velocity which is zero)."
   ]
  },
  {
   "cell_type": "code",
   "execution_count": 70,
   "metadata": {
    "collapsed": true
   },
   "outputs": [],
   "source": [
    "from numpy import cos, sin, sqrt, linspace, pi\n",
    "\n",
    "# fundamental parameters\n",
    "k = 180.  # stiffness [N/m, kg/(s**2)]\n",
    "m = 0.8  # mass of object [kg]\n",
    "x0 = 4e-2  # initial position [m]\n",
    "\n",
    "# derived quantities\n",
    "omega = sqrt(k/m)  # angular frequency of the oscillation, [rad/s]\n",
    "T = 2*pi/omega  # period of oscillation [s]\n",
    "t = linspace(0., 0.6, 128)  # time array, from 0 to 0.6 s, 128 points\n",
    "x = x0*cos(omega*t)  # postion [m]\n",
    "v = -x0*omega*sin(omega*t)"
   ]
  },
  {
   "cell_type": "code",
   "execution_count": 71,
   "metadata": {},
   "outputs": [
    {
     "data": {
      "image/png": "[encoded data removed]",
      "text/plain": [
       "<matplotlib.figure.Figure at 0x1147b7f98>"
      ]
     },
     "metadata": {},
     "output_type": "display_data"
    }
   ],
   "source": [
    "# let's plot\n",
    "import matplotlib.pyplot as plt\n",
    "\n",
    "ftsz=13  # font size\n",
    "plt.figure()\n",
    "\n",
    "# plotting the position x(t)\n",
    "ax1 = plt.gca()\n",
    "ax1.plot(t, x, 'b')  # plotting the position x\n",
    "ax1.set_xlabel('time [s]', fontsize=ftsz) \n",
    "ax1.set_ylabel(r'position $x$ [m]', color='b', fontsize=ftsz)\n",
    "ax1.tick_params('y', colors='b')  # color for y-axis is blue\n",
    "\n",
    "# annotation ot highlight the position amplitude\n",
    "ax1.axhline(x0, color='b', linestyle='-.')  # the x=x0 mark\n",
    "ax1.text(T*1.11, x0, '$x_0 = {0:1.0f}$ mm'.format(x0*1000),\n",
    "         verticalalignment='top', horizontalalignment='left',\n",
    "         color='b')\n",
    "\n",
    "ax1.axhline(0., color='k')  # draw the zero-axis as horizontal line\n",
    "\n",
    "# plotting the velocity v(t)\n",
    "ax2 = ax1.twinx()  # creates another set of y-axis on the right\n",
    "ax2.plot(t, v, 'r')  # plotting the velocity v\n",
    "ax2.set_ylabel(r'velocity $v$ [m/s]', color='r', fontsize=ftsz)\n",
    "ax2.tick_params(colors='r')  # color for other y-axis is red\n",
    "ax2.set_xlim([t.min(), t.max()])\n",
    "\n",
    "# annotation to highlight the velocity amplitude\n",
    "ax2.axhline(-x0*omega, color='r', linestyle='-.')  # the v=v0 mark\n",
    "ax2.text(T/2, -x0*omega,\n",
    "         r'$|\\omega x_0| \\approx {0:1.1f}$ cm/s'.format(x0*omega*100),\n",
    "         verticalalignment='bottom', horizontalalignment='left',\n",
    "         color='r')\n",
    "\n",
    "# annotation to highlight the period\n",
    "ax2.axvline(T, color='k', linestyle='-.')  # the t=T mark\n",
    "ax2.annotate(s='', xy=(0., 4e-2), xytext=(T, 4e-2),\n",
    "             arrowprops=dict(arrowstyle='<|-|>'))  # the double arrow\n",
    "ax2.text(T/2, 4e-2, r'$T = 2\\pi/\\omega = {0:.2f}$ s'.format(T),\n",
    "         verticalalignment='center', horizontalalignment='center',\n",
    "         backgroundcolor='w', fontsize=ftsz)\n",
    "\n",
    "plt.show()"
   ]
  },
  {
   "cell_type": "markdown",
   "metadata": {},
   "source": [
    "$T = 2\\pi/\\omega = 1/\\nu$ is called the *period* of the oscillation, expressed in seconds."
   ]
  },
  {
   "cell_type": "markdown",
   "metadata": {},
   "source": [
    "***\n",
    "\n",
    "*End of first lecture. Suggested practise:*\n",
    "\n",
    "* *What happens to $\\omega$ if $m$ or $k$ increase? Convince yourself that it makes physical sense.*\n",
    "\n",
    "* *What if $v(t=0) = v_0 \\neq 0?$ Solve numerically with the values of King (worked example p. 9), and modify the code to plot it. Remove the annotations if they are annoying.*\n",
    "\n",
    "***"
   ]
  },
  {
   "cell_type": "markdown",
   "metadata": {},
   "source": [
    "I will work out the second bullet point in detail here.\n",
    "The only difference with my previous example are the initial conditions.\n",
    "We are still looking for a solution of the form $x = A\\cos(\\omega t + \\phi)$.\n",
    "The velocity is $v = -A\\omega\\sin(\\omega t + \\phi)$.\n",
    "\n",
    "Plugging the initial conditions for $t=0$ yields $x_0 = A \\cos\\phi$ and\n",
    "\\begin{align*}\n",
    "    v_0 & = -A\\omega\\sin\\phi \\\\\n",
    "        & = -A\\omega\\sqrt{1-\\cos^2\\phi} \\\\\n",
    "        & = -A\\omega\\sqrt{1-x_0^2/A^2} = -\\omega\\sqrt{A^2-x_0^2}.\n",
    "\\end{align*}"
   ]
  },
  {
   "cell_type": "markdown",
   "metadata": {},
   "source": [
    "If we square the last equation, we get\n",
    "$$ v_0^2 - \\omega^2(A^2 - x_0^2) = 0 \\quad\\Rightarrow\\quad  A = \\sqrt{x_0^2 + v_0^2/\\omega^2}. $$\n",
    "Note: technically, $A$ should be $\\pm$ the result above.\n",
    "Mathematically, we could choose $A<0$, which would add or remove $\\pi$ to the phase.\n",
    "However, an amplitude is always positive by definition."
   ]
  },
  {
   "cell_type": "markdown",
   "metadata": {},
   "source": [
    "The phase satisfies both $\\cos\\phi = x_0/A$ and $\\sin\\phi = -v_0/(A\\omega)$.\n",
    "At this point, the analytical approach becomes cumbersome.\n",
    "Let us just use the numerical values of King, p.9.: $m = 0.8$ kg, $k = 180$ N.m$^{-1}$, therefore, $\\omega = 15$ rad.s$^{-1}$. For the initial conditions, $x_0 = 4$ cm and $v_0 = 0.5$ m.s$^{-1}$, and therefore, $A \\approx 5.21$ cm."
   ]
  },
  {
   "cell_type": "markdown",
   "metadata": {},
   "source": [
    "Based on these numerical values, $\\cos\\phi \\approx 0.768$, meaning $\\phi \\approx \\pm 39.8^o$, and $\\sin\\phi \\approx -0.640$, meaning $\\phi \\approx -39.8^o$ or $220^o$.\n",
    "Therefore, $\\phi \\approx -39.8^o$."
   ]
  },
  {
   "cell_type": "code",
   "execution_count": 83,
   "metadata": {
    "scrolled": true
   },
   "outputs": [
    {
     "name": "stdout",
     "output_type": "stream",
     "text": [
      "phi = 39.8 or -39.8\n"
     ]
    }
   ],
   "source": [
    "from numpy import arccos, arcsin\n",
    "cos_of_phi = x0/A\n",
    "print('phi = {0:.1f} or {1:.1f}'.format(180*arccos(cos_of_phi)/pi,\n",
    "                                        -180*arccos(cos_of_phi)/pi))"
   ]
  },
  {
   "cell_type": "code",
   "execution_count": 82,
   "metadata": {},
   "outputs": [
    {
     "name": "stdout",
     "output_type": "stream",
     "text": [
      "phi = -39.8 or 219.8\n"
     ]
    }
   ],
   "source": [
    "sin_of_phi = -v0/(omega*A)\n",
    "print('phi = {0:.1f} or {1:.1f}'.format(180*arcsin(sin_of_phi)/pi,\n",
    "                                        180-180*arcsin(sin_of_phi)/pi))"
   ]
  },
  {
   "cell_type": "code",
   "execution_count": 93,
   "metadata": {},
   "outputs": [
    {
     "data": {
      "image/png": "[encoded data removed]",
      "text/plain": [
       "<matplotlib.figure.Figure at 0x1149b5ef0>"
      ]
     },
     "metadata": {},
     "output_type": "display_data"
    }
   ],
   "source": [
    "# Let us plot\n",
    "v0 = 0.5  # initial velocity [m/s]\n",
    "A = sqrt(x0**2 + v0**2/omega**2)\n",
    "phi = -39.8/180*pi\n",
    "x = A*cos(omega*t + phi)  # position [m]\n",
    "v = -A*omega*sin(omega*t + phi)  # velocity [m/s]\n",
    "\n",
    "# let's plot\n",
    "import matplotlib.pyplot as plt\n",
    "\n",
    "ftsz=13  # font size\n",
    "plt.figure()\n",
    "\n",
    "# plotting the position x(t)\n",
    "ax1 = plt.gca()\n",
    "ax1.plot(t, x, 'b')  # plotting the position x\n",
    "ax1.set_xlabel('time [s]', fontsize=ftsz) \n",
    "ax1.set_ylabel(r'position $x$ [m]', color='b', fontsize=ftsz)\n",
    "ax1.tick_params('y', colors='b')  # color for y-axis is blue\n",
    "\n",
    "ax1.axhline(0., color='k')  # draw the zero-axis as horizontal line\n",
    "\n",
    "# plotting the velocity v(t)\n",
    "ax2 = ax1.twinx()  # creates another set of y-axis on the right\n",
    "ax2.plot(t, v, 'r')  # plotting the velocity v\n",
    "ax2.set_ylabel(r'velocity $v$ [m/s]', color='r', fontsize=ftsz)\n",
    "ax2.tick_params(colors='r')  # color for other y-axis is red\n",
    "ax2.set_xlim([t.min(), t.max()])\n",
    "\n",
    "ax1.grid()\n",
    "plt.show()"
   ]
  },
  {
   "cell_type": "markdown",
   "metadata": {
    "collapsed": true
   },
   "source": [
    "# Energy Juggling"
   ]
  },
  {
   "cell_type": "markdown",
   "metadata": {},
   "source": [
    "In many cases, considering the energy is a powerful tool to solve some problems.\n",
    "SHOs are no exception, because without dissipation, their total mechanical energy stays the same forever.\n",
    "\n",
    "You certainly remember that the kinetic energy (KE) $K$ of an object of mass $m$ and velocity $v$ is $$K = \\frac12 m v^2.$$\n",
    "The only part of the system that has KE is the mass, because the spring is ideal (weightless)."
   ]
  },
  {
   "cell_type": "markdown",
   "metadata": {},
   "source": [
    "But what is the equivalent of the potential energy (PE), which I will call $U$?\n",
    "When an object of mass $m$ initially at rest is dropped in vacuum and travels a distance $h$, it KE is equal to $mgh$, the PE it had initially.\n",
    "Following this analogy, $U$ in our system is measure from a state when the KE is zero, i.e., when the spring is in a  state of maximal extension or compression.\n",
    "This time, it is the spring that contains $U$, not the mass.\n",
    "The spring packs all the potential for the mass to gain KE.\n",
    "This is where the analogy with the dropped ball fails: the PE that the ball had before being dropped was proportional to its mass because the force that was going to set it in motion was the gravitational force.\n",
    "Here, it is the force of the spring, which does not care about the mass, or absence thereof, of the spring."
   ]
  },
  {
   "cell_type": "markdown",
   "metadata": {},
   "source": [
    "So, back to our spring. The infinitesimal PE of an infinitesimally small piece of spring located at position $x'$ is related to the work $W = -\\di U$ done when moving it by a distance $\\di x'$, following\n",
    "$$ W = \\vec F(x') \\cdot \\di \\vec x' = -kx'\\di x'. $$\n",
    "The potential energy stored in the *entire* spring whose length has increased by $x$ (the position of the mass) is therefore\n",
    "$$ U = \\int_0^x kx'\\di x' = \\frac12 kx^2. $$"
   ]
  },
  {
   "cell_type": "markdown",
   "metadata": {},
   "source": [
    "It is easy to check that the total mechanical energy is constant:\n",
    "$$\\boxed{ E = K + U = \\frac12 mv^2 + \\frac12 kx^2 = \\frac12 k A^2 =  constant.} $$\n",
    "Indeed, recall that we already computed $x(t)$ and $v(t)$. \n",
    "It is simply a matter of substituting for them, and remembering that $\\cos^2 + \\sin^2 = 1$."
   ]
  },
  {
   "cell_type": "markdown",
   "metadata": {},
   "source": [
    "Note that when I introduced this chapter, I mentioned that considerations about energy conservation helped solve problems.\n",
    "Here, I just did the opposite: I verified conservation of energy by solving the problem first.\n",
    "King § 1.2.5 has a derivation that derives energy conservation from Newton's 2$^{nd}$ law, which you should definitely check out."
   ]
  },
  {
   "cell_type": "markdown",
   "metadata": {},
   "source": [
    "Back to the framed equation above: **the energy is proportional to the square of the amplitude**, which is a very general statement about oscillations. Remember it!"
   ]
  },
  {
   "cell_type": "code",
   "execution_count": 56,
   "metadata": {
    "collapsed": true
   },
   "outputs": [],
   "source": [
    "# Let us plot this.\n",
    "K = 0.5*m*v**2\n",
    "U = 0.5*k*x**2\n",
    "E = 0.5*k*x0**2"
   ]
  },
  {
   "cell_type": "code",
   "execution_count": 94,
   "metadata": {
    "scrolled": false
   },
   "outputs": [
    {
     "data": {
      "image/png": "[encoded data removed]",
      "text/plain": [
       "<matplotlib.figure.Figure at 0x11493ac18>"
      ]
     },
     "metadata": {},
     "output_type": "display_data"
    }
   ],
   "source": [
    "# Let us plot this.\n",
    "ftsz=13  # font size\n",
    "plt.figure()\n",
    "\n",
    "ax1 = plt.gca()\n",
    "ax1.plot(t, K, 'b', label='$K$')  # plotting the KE K\n",
    "ax1.plot(t, U, 'r--', label='$U$')  # plotting the PE U\n",
    "ax1.legend()\n",
    "ax1.set_xlabel('time [s]', fontsize=ftsz) \n",
    "ax1.set_ylabel(r'Energy [J, or kg.m$^2$.s$^{-2}$]', color='b', fontsize=ftsz)\n",
    "\n",
    "# annotation to highlight the total energy\n",
    "ax1.axhline(E, color='k', linestyle='-.')  # total mechanical energy\n",
    "ax1.text(T*1.11, E*0.97, '$E = kA^2/2$', color='k',\n",
    "         verticalalignment='top', horizontalalignment='left',\n",
    "         backgroundcolor='w', fontsize=ftsz)\n",
    "\n",
    "ax1.axhline(0., color='k')  # draw the zero-axis as horizontal line\n",
    "ax1.set_xlim([t.min(), t.max()])\n",
    "\n",
    "# annotation to highlight the period\n",
    "ax1.axvline(T, color='k', linestyle='-.')  # the t=T mark\n",
    "ax1.annotate(s='', xy=(0., 0.2*E), xytext=(T, 0.2*E),\n",
    "             arrowprops=dict(arrowstyle='<|-|>'))  # the double arrow\n",
    "ax1.text(T/2, 0.2*E, r'$T = 2\\pi/\\omega \\approx {0:.2f}$ s'.format(T),\n",
    "         verticalalignment='center', horizontalalignment='center',\n",
    "         backgroundcolor='w', fontsize=ftsz)\n",
    "\n",
    "plt.show()"
   ]
  },
  {
   "cell_type": "markdown",
   "metadata": {},
   "source": [
    "Which makes sense: initially, we hold the mass still, and so $K=0$ and $U = kx_0^2/2$ is maximum. When the mass passes by the rest position $x=0$ at $t=T/4$, the velocity and therefore $K$ are at their  maxima, but the spring is neither stretched or compressed and $U=0$. \n",
    "Half a period later, the spring is at its maximum compression (if initially stretched), $U = kx_0^2/2$ again, and the velocity is zero ($K=0$ again).\n",
    "\n",
    "Notice how I just described a frequency doubling: $K$ and $U$ get back to their original values after *half* a period.\n",
    "The periodicity of $K$ and $U$ is twice that of $x$ and $v$, which one can tell mathematically because $\\sin^2(\\omega t) = [1 - \\cos(2\\omega t)]/2$ and $\\cos^2(\\omega t) = [1 + \\cos(2\\omega t)]/2$."
   ]
  },
  {
   "cell_type": "markdown",
   "metadata": {},
   "source": [
    "# Electrical Analogy: LC Circuit"
   ]
  },
  {
   "cell_type": "markdown",
   "metadata": {},
   "source": [
    "## Solutions"
   ]
  },
  {
   "cell_type": "markdown",
   "metadata": {},
   "source": [
    "The derivation we just did can be applied to countless systems.\n",
    "It could be about small oscillations of a pendulum (King § 1.3), a horizontal disk hanging from a tortional string, and many more.\n",
    "They all obey a second-order ODE, and the different physics of each oscillator is contained in the angular frequency $\\omega$.\n",
    "We illustrate this point with an electric circuit consisting of a capacitor (capacitance $C$) and an inductor (inductance $L$) connected in series, with a switch in-between (cf. fig. 3).\n",
    "As for the spring, where we ignored all frictional or dissipative processes, we ignore the resistance in the circuit for now.\n",
    "But not to fear: it will take back its rightful place in the next chapter."
   ]
  },
  {
   "cell_type": "markdown",
   "metadata": {},
   "source": [
    "![Fig. 3](LC_circuit.png)"
   ]
  },
  {
   "cell_type": "markdown",
   "metadata": {},
   "source": [
    "Initial conditions:\n",
    "\n",
    "1. Switch is open, capacitor is charged to voltage $V_C$. The charge in the capacitor is $q = V_C C$.\n",
    "\n",
    "2. Switch is open thus currrent $I=\\dot{q} = 0$."
   ]
  },
  {
   "cell_type": "markdown",
   "metadata": {
    "collapsed": true
   },
   "source": [
    "We then close the switch. Current starts flowing, $I = \\dot q \\neq 0$, and the voltage accross $L$ is $V_L = L \\dot I$.\n",
    "Therefore,\n",
    "$$ \\underbrace{V_L+V_C = 0}_{Kirchhof\\!f's\\ law} = L\\dot I + \\frac{q}C  = L\\ddot q + \\frac{q}C, $$\n",
    "or, written in a now familiar form,\n",
    "$$ \\boxed{\\ddot q + \\omega^2 q = 0, \\quad \\textrm{with}\\quad \\omega^2 = 1/(LC).} $$"
   ]
  },
  {
   "cell_type": "markdown",
   "metadata": {},
   "source": [
    "Based on the few equations above, there is a one-to-one correspondence between the mass+spring and the capacitor+inductor system.\n",
    "The capacitor packs 'potential energy' (actually, electrostatic energy) and relases it as 'kinetic energy' (actually, magnetic energy), which the inductor uses to send electrons in the other direcitons and revert the sign of the voltage.\n",
    "More specifically, the correspondance is:\n",
    "\n",
    "| Mass+spring | LC circuit |\n",
    "| :-: | :-: |\n",
    "| $x$ | $q$ |\n",
    "| $v$ | $I$ |\n",
    "| $m$ | $L$ |\n",
    "| $k$ | $1/C$ |\n",
    "| KE $K = mv^2/2$ | Magnetic energy $LI^2/2$ |\n",
    "| PE $U = kA^2/2$ | Electrostatic energy $CV_C^2/2$ |"
   ]
  },
  {
   "cell_type": "code",
   "execution_count": null,
   "metadata": {
    "collapsed": true
   },
   "outputs": [],
   "source": [
    " "
   ]
  }
 ],
 "metadata": {
  "anaconda-cloud": {},
  "celltoolbar": "Raw Cell Format",
  "kernelspec": {
   "display_name": "Python [default]",
   "language": "python",
   "name": "python3"
  },
  "language_info": {
   "codemirror_mode": {
    "name": "ipython",
    "version": 3
   },
   "file_extension": ".py",
   "mimetype": "text/x-python",
   "name": "python",
   "nbconvert_exporter": "python",
   "pygments_lexer": "ipython3",
   "version": "3.5.2"
  }
 },
 "nbformat": 4,
 "nbformat_minor": 1
}
