{
 "cells": [
  {
   "cell_type": "raw",
   "metadata": {
    "raw_mimetype": "text/latex",
    "scrolled": true,
    "slideshow": {
     "slide_type": "skip"
    }
   },
   "source": [
    "\\newcommand{\\rads}{~rad.s$^{-1}$}\n",
    "\\newcommand{\\BV}{Brunt-V\\\"ais\\\"al\\\"a{} }\n",
    "\\newcommand{\\bnabla}{\\boldsymbol{\\nabla}}\n",
    "\\newcommand{\\eexp}[1]{\\textrm{e}^{#1}}\n",
    "\\newcommand{\\glm}[1]{\\overline{#1}^L}\n",
    "\\newcommand{\\di}[0]{\\textrm{d}}\n",
    "\\newcommand{\\bs}[1]{\\boldsymbol{#1}}\n",
    "\\newcommand{\\ode}[2]{\\frac{\\di {#1}}{\\di {#2}}}\n",
    "\\newcommand{\\oden}[3]{\\frac{\\di^{#1} {#2}}{\\di {#3}^{#1}}}\n",
    "\\newcommand{\\odel}[2]{\\di {#1}/\\di {#2}}\n",
    "\\newcommand{\\odeln}[3]{\\di^{#1} {#2}/\\di {#3}^{#1}}\n",
    "\\newcommand{\\pde}[2]{\\frac{\\partial {#1}}{\\partial {#2}}}\n",
    "\\newcommand{\\pden}[3]{\\frac{\\partial^{#1} {#2}}{\\partial {#3}^{#1}}}\n",
    "\\newcommand{\\pdel}[2]{\\partial_{#2} {#1}}\n",
    "\\newcommand{\\pdenl}[3]{\\partial^{#1}_{#3} {#2}}\n",
    "\\newcommand{\\divr}[1]{\\vec\\nabla \\cdot {#1}}\n",
    "\\newcommand{\\divrb}[1]{\\boldsymbol{\\nabla} \\cdot {#1}}\n",
    "\\newcommand{\\grad}[1]{\\vec \\nabla {#1}}\n",
    "\\newcommand{\\gradb}[1]{\\boldsymbol\\nabla {#1}}\n",
    "\\newcommand{\\curl}[1]{\\vec\\nabla \\times {#1}}\n",
    "\\newcommand{\\curlb}[1]{\\boldsymbol{\\nabla}\\times\\boldsymbol{#1}}\n",
    "\\newcommand{\\lapl}[0]{\\vec\\nabla^2}\n",
    "\\newcommand{\\laplb}[0]{\\boldsymbol{\\nabla}^2}\n",
    "\\newcommand{\\cplxi}[0]{\\mathrm i}\n",
    "\\newcommand{\\unit}[1]{\\mathbf{\\hat{#1}}}\n",
    "\\newcommand{\\red}[1]{\\textcolor{red}{#1}}\n",
    "\\newcommand{\\blue}[1]{\\textcolor{blue}{#1}}\n",
    "\\newcommand{\\mage}[1]{\\textcolor{magenta}{#1}}"
   ]
  },
  {
   "cell_type": "raw",
   "metadata": {
    "raw_mimetype": "text/latex",
    "slideshow": {
     "slide_type": "skip"
    }
   },
   "source": [
    "\\DefineVerbatimEnvironment{Verbatim}{Verbatim}{fontsize=\\scriptsize}"
   ]
  },
  {
   "cell_type": "markdown",
   "metadata": {
    "slideshow": {
     "slide_type": "skip"
    }
   },
   "source": [
    "$\\newcommand{\\rads}{~rad.s$^{-1}$}$\n",
    "$\\newcommand{\\bnabla}{\\boldsymbol{\\nabla}}$\n",
    "$\\newcommand{\\eexp}[1]{\\text{e}^{#1}}$\n",
    "$\\newcommand{\\glm}[1]{\\overline{#1}^L}$\n",
    "$\\newcommand{\\di}[0]{\\textrm{d}}$\n",
    "$\\newcommand{\\bs}[1]{\\boldsymbol{#1}}$\n",
    "$\\newcommand{\\ode}[2]{\\frac{\\di {#1}}{\\di {#2}}}$\n",
    "$\\newcommand{\\oden}[3]{\\frac{\\di^{#1} {#2}}{\\di {#3}^{#1}}}$\n",
    "$\\newcommand{\\odel}[2]{\\di {#1}/\\di {#2}}$\n",
    "$\\newcommand{\\odeln}[3]{\\di^{#1} {#2}/\\di {#3}^{#1}}$\n",
    "$\\newcommand{\\pde}[2]{\\frac{\\partial {#1}}{\\partial {#2}}}$\n",
    "$\\newcommand{\\pden}[3]{\\frac{\\partial^{#1} {#2}}{\\partial {#3}^{#1}}}$\n",
    "$\\newcommand{\\pdel}[2]{\\partial_{#2} {#1}}$\n",
    "$\\newcommand{\\pdenl}[3]{\\partial^{#1}_{#3} {#2}}$\n",
    "$\\newcommand{\\mde}[1]{\\frac{\\textrm{D} {#1}}{\\textrm{D} t}}$\n",
    "$\\newcommand{\\mdel}[1]{\\textrm{D}_t {#1}}$\n",
    "$\\newcommand{\\divr}[1]{\\vec\\nabla \\cdot {#1}}$\n",
    "$\\newcommand{\\divrb}[1]{\\boldsymbol{\\nabla} \\cdot {#1}}$\n",
    "$\\newcommand{\\grad}[1]{\\vec \\nabla {#1}}$\n",
    "$\\newcommand{\\gradb}[1]{\\boldsymbol\\nabla {#1}}$\n",
    "$\\newcommand{\\curl}[1]{\\vec\\nabla \\times {#1}}$\n",
    "$\\newcommand{\\curlb}[1]{\\boldsymbol{\\nabla}\\times\\boldsymbol{#1}}$\n",
    "$\\newcommand{\\lapl}[0]{\\vec\\nabla^2}$\n",
    "$\\newcommand{\\laplb}[0]{\\boldsymbol{\\nabla}^2}$\n",
    "$\\newcommand{\\cplxi}[0]{\\mathrm i}$\n",
    "$\\newcommand{\\unit}[1]{\\mathbf{\\hat{#1}}}$\n",
    "$\\newcommand{\\thrfor}[0]{\\quad\\Rightarrow\\quad}$\n",
    "$\\newcommand{\\red}[1]{\\textcolor{red}{#1}}$\n",
    "$\\newcommand{\\blue}[1]{\\textcolor{blue}{#1}}$\n",
    "$\\newcommand{\\mage}[1]{\\textcolor{magenta}{#1}}$"
   ]
  },
  {
   "cell_type": "code",
   "execution_count": 1,
   "metadata": {
    "slideshow": {
     "slide_type": "skip"
    }
   },
   "outputs": [],
   "source": [
    "from IPython.display import Image, display"
   ]
  },
  {
   "cell_type": "markdown",
   "metadata": {
    "slideshow": {
     "slide_type": "skip"
    }
   },
   "source": [
    "*[King § 2]*\n",
    "\n",
    "In the previous chapter, we introduced the importance of second-order ODEs in the description of simple oscillators. \n",
    "But our oscillations went on forever, which of course is not realistic: the mass attached to the spring eventually comes to rest, and electrical oscillations eventually come to a stop because there is always some electric resistance in any circuit.\n",
    "\n",
    "This is because almost every physical system contains dissipative processes, which slowly leak energy out to the wider world (often in the form of heat).\n",
    "Fortunately for us, many of these processes are proportional to the velocity (or its equivalent).\n",
    "This has the advantage of being mathematically relatively simple, and that they do not change the second-order nature of the ODE we need to solve.\n",
    "\n",
    "Again, the physics of how the dissipation processes are measured is contained in the additional coefficient, is usually very hard to predict theoretically, and often can only be measured.\n",
    "In the context of this class again, we do not worry about the physics: we assume that we know the coefficients, and solve the behaviour of the system based on it."
   ]
  },
  {
   "cell_type": "markdown",
   "metadata": {
    "slideshow": {
     "slide_type": "skip"
    }
   },
   "source": [
    "# Expectations\n",
    "\n",
    "Here is a list of things you need to take out of this chapter."
   ]
  },
  {
   "cell_type": "markdown",
   "metadata": {
    "slideshow": {
     "slide_type": "slide"
    }
   },
   "source": [
    "## Remember:\n",
    "\n",
    "* the generic form of the DHO, $\\ddot x + \\gamma \\dot x + \\omega_0^2x = 0$,\n",
    "* the definitions of $\\omega_0^2$ and $\\gamma$ for the mass-spring system, and what they represent physically (oscillations and damping),\n",
    "* the three regimes, and how $\\omega_0^2 - \\gamma^2/4$ determines the regime.\n",
    "* for a lightly-damped oscillator, the expression of the (pseudo-)period of oscillation, i.e., $\\omega_d^2 = \\omega_0^2 - \\gamma^2/4$,\n",
    "* the general shape of the oscillations for underdamped, overdamped and critically damped oscillators, and the various features that are present on it (envelope, pseudo-period, logarithmic decrement),\n",
    "* that the mechanical energy in an underdamped oscillator decays exponentially, with e-folding time scale $1/\\gamma$,\n",
    "* that the critically-damped oscillator is the one for which the decay is the quickest,\n",
    "* the definition of the quality factor $Q = \\omega_0/\\gamma$, and\n",
    "* that $Q$ is a measure of how many times an underdamped oscillator oscillates before dying, or of the relative energy loss per radian of oscillation."
   ]
  },
  {
   "cell_type": "markdown",
   "metadata": {
    "slideshow": {
     "slide_type": "subslide"
    }
   },
   "source": [
    "## Understand:\n",
    "\n",
    "* the three terms entering Newton's 2nd law for a damped oscillator, and how to cast it in the generic form $\\ddot x + \\gamma \\dot x + \\omega_0^2x = 0$,\n",
    "* how the three cases of oscillators are derived, and the connection between complex exponentials and oscillations vs. real exponentials and exponential decay (*understand* it, don't *re-derive* it),\n",
    "* that damping removes energy from the system,\n",
    "* how the expressions for the evolution of the various energies are derived, and\n",
    "* that all damped linear harmonic oscillators behave the same way."
   ]
  },
  {
   "cell_type": "markdown",
   "metadata": {
    "slideshow": {
     "slide_type": "fragment"
    }
   },
   "source": [
    "## Apply\n",
    "\n",
    "See worked examples, tutorials and problem sets."
   ]
  },
  {
   "cell_type": "markdown",
   "metadata": {
    "slideshow": {
     "slide_type": "skip"
    }
   },
   "source": [
    "# General considerations\n",
    "\n",
    "## Equation of Motion"
   ]
  },
  {
   "cell_type": "markdown",
   "metadata": {
    "slideshow": {
     "slide_type": "slide"
    }
   },
   "source": [
    "Back to our favourite oscillator (fig. 1): the spring-mass system.\n",
    "\n",
    "![Fig. 1: Spring-mass system, again](SpringMass.png)"
   ]
  },
  {
   "cell_type": "markdown",
   "metadata": {
    "slideshow": {
     "slide_type": "skip"
    }
   },
   "source": [
    "Now, on top of the force of the spring on the mass, we assume a more realistic case in which the mass is feeling some friction proportional to its velocity:\n",
    "$$ F_d = -bv = -b\\dot x, $$\n",
    "where the subscript $d$ stands for \"damping\", and $b$ is in kg.s$^{-1}$.\n",
    "The negative sign indicates that the force acts on the direction, opposite to that of the motion, and the proportionality is the simplest mathematical form one could think of.\n",
    "\n",
    "*Note: this is a linear approximation again.*\n",
    "*For example, for a car on a highway (therefore not oscillating, but the force would have the same expression), the damping force would be proportional to $v^2$.*\n",
    "*This would be a lot more difficult to handle, mathematically speaking.*\n",
    "*And again, this approximation is sufficient to describe a lot of physical systems.*"
   ]
  },
  {
   "cell_type": "markdown",
   "metadata": {
    "slideshow": {
     "slide_type": "skip"
    }
   },
   "source": [
    "The new equation of motion (EOM) is\n",
    "\\begin{equation}\n",
    "    m \\ddot x = -kx - b \\dot x \\quad \\Rightarrow\\quad \\boxed{\\ddot x + \\gamma \\dot x + \\omega_0^2 x = 0,\\quad\\textrm{with } \\gamma = b/m,\\ \\omega_0^2 = k/m.\\ }\n",
    "    \\label{eq:EDO-DSHO}\n",
    "\\end{equation}\n",
    "* $\\gamma$ is often called the *damping factor*, in s$^{-1}$.\n",
    "* The angular frequency $\\omega_0$ is now called the *natural (angular) frequency* of the oscillator, i.e., the frequency of the system if there was no damping. This is a hint that there could be more than one frequency."
   ]
  },
  {
   "cell_type": "markdown",
   "metadata": {
    "slideshow": {
     "slide_type": "skip"
    }
   },
   "source": [
    "Before I dig into the math, you should watch the following video of the two things that can happen when oscillators are damped (that is, a lot of damping and a little damping), and how the situation that is in-between, i.e., neither very damped nor weakly damped, is worth consideration by itself (it is the one that stops first).\n",
    "I will quantifiy all of my statements later, but before I do, watch the video so that you at least know what I want to get at.\n",
    "\n",
    "For those of you who only use the pdf, look up \"`Critical Damping -- xmdemo 068`\" in YouTube."
   ]
  },
  {
   "cell_type": "code",
   "execution_count": 2,
   "metadata": {
    "slideshow": {
     "slide_type": "subslide"
    }
   },
   "outputs": [
    {
     "data": {
      "text/html": [
       "<iframe width=\"560\" height=\"315\" src=\"https://www.youtube.com/embed/99ZE2RGwqSM\" frameborder=\"0\" allow=\"autoplay; encrypted-media\" allowfullscreen></iframe>"
      ],
      "text/plain": [
       "<IPython.core.display.HTML object>"
      ]
     },
     "execution_count": 2,
     "metadata": {},
     "output_type": "execute_result"
    }
   ],
   "source": [
    "from IPython.display import HTML\n",
    "HTML('<iframe width=\"560\" height=\"315\" src=\"https://www.youtube.com/embed/99ZE2RGwqSM\" frameborder=\"0\" allow=\"autoplay; encrypted-media\" allowfullscreen></iframe>')"
   ]
  },
  {
   "cell_type": "markdown",
   "metadata": {
    "slideshow": {
     "slide_type": "skip"
    }
   },
   "source": [
    "## General Solutions"
   ]
  },
  {
   "cell_type": "markdown",
   "metadata": {
    "slideshow": {
     "slide_type": "skip"
    }
   },
   "source": [
    "The equation above is still a homogeneous second-order ODE: the general form of the solution will still be the same, and there will be two coefficients to solve for, for which we will need two initial conditions.\n",
    "\n",
    "The form of the solution is slightly more complicated for the DHO than for the SHO, but we will see that there is a way to make the connection.\n",
    "For now, let us just *try* a solution: \n",
    "$$x = a\\exp(rt),\\quad \\textrm{with } (a, r) \\in \\mathbb C^2.$$\n",
    "\"$r$\" stands for *root*: we are looking for the root(s) of the ODE.\n",
    "\n",
    "Why should $r\\in\\mathbb C$?\n",
    "You will see it in your ODE class, if you haven't already.\n",
    "As an indication, recall that for $\\theta \\in \\mathbb R$,\n",
    "$$\\exp(i\\theta) = \\cos\\theta + i\\sin\\theta.$$\n",
    "So, if you split the root into its real and imaginary parts, i.e., $rt = r_r t + i\\theta t$ with $(r_r, \\theta) \\in \\mathbb R^2$, then \n",
    "$$\\exp(r t) = \\left[\\cos(\\theta t) + i \\sin(\\theta t)\\right]\\exp(r_r t).$$\n",
    "Hopefully, we are starting to see a connection: in the case of $r_r < 0$, then the real or imaginary part of $\\exp(r)$ is an oscillation, multiplying an exponential decay.\n",
    "\n",
    "We don't know yet if this is the right solution, but let's just say that it could work."
   ]
  },
  {
   "cell_type": "markdown",
   "metadata": {
    "slideshow": {
     "slide_type": "skip"
    }
   },
   "source": [
    "Because we want to plug in the trial solution $a\\exp(rt)$ into eqn.~\\eqref{eq:EDO-DSHO}, we need the derivatives:\n",
    "$$ \\dot x(t) = ar\\exp(rt) = rx(t) \\quad\\textrm{and}\\quad \\ddot x = ar^2\\exp(rt) = r^2x(t). $$"
   ]
  },
  {
   "cell_type": "markdown",
   "metadata": {
    "slideshow": {
     "slide_type": "skip"
    }
   },
   "source": [
    "We can now plug in:\n",
    "$$ \\ddot x + \\gamma \\dot x + \\omega_0^2 x = r^2 x(t) + \\gamma r x(t) + \\omega_0^2 x(t) =  0$$\n",
    "Because we know that $x(t)$ it is not zero except at specific instants, and that we need a solution that works at every instant, we can divide by $x(t)$:\n",
    "\\begin{equation}\n",
    "    r^2 + \\gamma r + \\omega_0^2 = 0\n",
    "\\end{equation}"
   ]
  },
  {
   "cell_type": "markdown",
   "metadata": {
    "slideshow": {
     "slide_type": "skip"
    }
   },
   "source": [
    "The equation is a good ol' second-order polynomial, which is solved in the same way, whether the variable is real or complex. \n",
    "Starting with its discriminant, which is \n",
    "\\begin{equation}\n",
    "    \\Delta = \\gamma^2 - 4\\omega_0^2.\n",
    "\\end{equation}\n",
    "This quantity will be important later."
   ]
  },
  {
   "cell_type": "markdown",
   "metadata": {
    "slideshow": {
     "slide_type": "skip"
    }
   },
   "source": [
    "The roots are therefore\n",
    "\\begin{equation}\n",
    "    r_p = -\\frac\\gamma2 + \\sqrt{\\frac{\\gamma^2}4 -\\omega_0^2}\\quad \\textrm{and}\\quad r_m = -\\frac\\gamma2 - \\sqrt{\\frac{\\gamma^2}4 -\\omega_0^2}.\n",
    "    \\label{eq:r_plus_or_minus}\n",
    "\\end{equation}\n",
    "There are two possible roots, and because the ODE is linear, any linear combination of them is also a solution of the original equation (*check if you are not sure!*).\n",
    "The most general solution is therefore\n",
    "\\begin{equation}\n",
    "    x(t) = a_p\\exp(r_p t) + a_m\\exp(r_mt).\n",
    "    \\label{eq:gensol}\n",
    "\\end{equation}\n",
    "\n",
    "But careful, the above expression does not work when $\\omega^2 = \\gamma^2/4$, are we are about to see!"
   ]
  },
  {
   "cell_type": "markdown",
   "metadata": {
    "slideshow": {
     "slide_type": "skip"
    }
   },
   "source": [
    "# Damping: Weak or Strong?"
   ]
  },
  {
   "cell_type": "markdown",
   "metadata": {
    "slideshow": {
     "slide_type": "skip"
    }
   },
   "source": [
    "## Preliminary Considerations"
   ]
  },
  {
   "cell_type": "markdown",
   "metadata": {
    "slideshow": {
     "slide_type": "skip"
    }
   },
   "source": [
    "Looking at eqn. \\eqref{eq:r_plus_or_minus} in detail, we realize that there are three cases to consider:\n",
    "\n",
    "1. if $\\gamma^2/4 < \\omega_0^2$ ($\\Delta < 0$), then inside the square root is negative, the square root is purely imaginary, and $r_{p,m}$ have a real and an imaginary part. As we are about to see, solutions oscillate, on top of decaying exponentially. This case is called \"underdamped\", or \"light damping\", because the dissipation ($\\gamma$) is small enough that oscillations ($\\omega_0$) can happen.\n",
    "\n",
    "2. if $\\gamma^2/4 > \\omega_0^2$ ($\\Delta >0$), then inside the square root is positive, the square root is real, and both $r_{p,m}$ are real. The solutions are decaying exponentially. This case is called \"overdamped\" or \"heavy damping\", because the dissipation ($\\gamma$) is so strong that the oscillation ($\\omega_0$) cannot happen even once.\n",
    "\n",
    "3. if $\\gamma^2/4 = \\omega_0^2$ ($\\Delta = 0$), $r_p = r_m = -\\gamma/2$. The solution I wrote at the end of the previous section is not even valid anymore, the actual solution being $x(t) = (A + B t)\\exp(-\\gamma t/2)$, with $A$ and $B$ TBD. This case is called \"critical damping\"\n",
    "\n",
    "Let us investigate these three cases in more detail."
   ]
  },
  {
   "cell_type": "markdown",
   "metadata": {
    "slideshow": {
     "slide_type": "skip"
    }
   },
   "source": [
    "## Light Damping ($\\omega_0^2 > \\gamma^2/4$)\n",
    "\n",
    "### Solution\n",
    "\n",
    "Let $$ \\omega_d^2 = \\omega_0^2 - \\frac{\\gamma^2}4 >0 \\quad\\textrm{and}\\quad T_d = \\frac{2\\pi}{\\omega_d}. $$\n",
    "Therefore, $$r_{p, m} = -\\frac\\gamma2 \\pm \\cplxi\\omega_d,\\quad \\textrm{and} $$\n",
    "$$ x(t) = \\exp\\left(- \\frac{\\gamma t}2\\right)\\left(a_p\\eexp{\\cplxi\\omega_d t} + a_m\\eexp{-\\cplxi\\omega_d t}\\right),$$\n",
    "with $(a_p, a_m) \\in \\mathbb C^2$."
   ]
  },
  {
   "cell_type": "markdown",
   "metadata": {
    "slideshow": {
     "slide_type": "skip"
    }
   },
   "source": [
    "At this point, the problem is more complicated than with the SHO, because we have four unknown (the real and imaginary parts of $a_p$ and $a_m$).\n",
    "But we should also have four pieces of information: the initial position, the initial velocity, and --- and this is going to be weird --- *the knowledge that $x\\in \\mathbb R$*, and *the knowledge that $v\\in \\mathbb R$*. \n",
    "\n",
    "These last two pieces of information help, not so much in *computing two out of four unknown*, but rather in knowing that *you only need to compute two unknown*.\n",
    "Indeed, recall that $\\exp(i\\theta) = \\cos\\theta + i\\sin\\theta$, as well as the existence of trigonometric identities such as $\\cos(a+b) = \\cos a \\cos b - \\sin a \\sin b$ (you only need to know hat they exist).\n",
    "Using a polar decomposition for $a_p = |a_p|\\exp(i\\phi_p)$ and same for $a_m$, and using all these identities I just recalled, it is relatively easy to imagine that the position $x(t)$ could be re-written in the form of\n",
    "$$ x(t) = \\exp\\left(- \\frac{\\gamma t}2\\right)\\left(A\\cos(\\omega_d t + \\phi) + i A'\\cos(\\omega_d t + \\phi')\\right), $$\n",
    "with $A$, $\\phi$, $A'$ and $\\phi'$ being real numbers, and also horrible combinations of $|a_p|$, $\\phi_p$, etc.\n",
    "But then, if we know that $x\\in \\mathbb R$, then $A' = 0$, and $\\phi'$ becomes irrelevant.\n",
    "Note that we could do the same thing with $v$.\n",
    "\n",
    "So, we now know that those complex exponentials are unnecessarily complicated, which in fact, what we really need is to solve for\n",
    "$$ x(t) = A_0\\eexp{- \\gamma t/2}\\cos(\\omega_d t +\\phi).$$"
   ]
  },
  {
   "cell_type": "markdown",
   "metadata": {
    "slideshow": {
     "slide_type": "skip"
    }
   },
   "source": [
    "***\n",
    "\n",
    "*Note: Here is a longer explanation, but before I write it, let me reassure you: I went quicky over it during the lecture, not because it is so obvious that I don't need to spend some chalk on it, but because you shouldn't worry about what is essentially a detail.*\n",
    "\n",
    "So, let us see how we would do if we were to solve the problem with initial conditions.\n",
    "We would need to define $a_p = |a_p|\\eexp{i\\phi_p}$ and $a_m = |a_m|\\eexp{i\\phi_m}$.\n",
    "So far we have\n",
    "$$a_p\\eexp{\\cplxi\\omega_d t} + a_m\\eexp{-\\cplxi\\omega_d t} = |a_p|\\eexp{\\cplxi(\\omega_d t +\\phi_p)} + |a_m|\\eexp{\\cplxi(\\phi_m - \\omega_d t)}$$\n",
    "\n",
    "Then, remember that $\\eexp{i\\theta} = \\cos\\theta + \\cplxi\\sin\\theta$.\n",
    "The real part of the expression above is therefore\n",
    "$$ |a_p|\\cos(\\omega_d t +\\phi_p) + |a_m|\\cos(\\omega_d t - \\phi_m), $$\n",
    "and its imaginary part is\n",
    "$$ |a_p|\\sin(\\omega_d t +\\phi_p) - |a_m|\\sin(\\omega_d t - \\phi_m). $$\n",
    "\n",
    "What a mess, and this is just for the position $x(t)$: it needs to be done again for the velocity $v(t)$.\n",
    "\n",
    "We now have four unknown ($|a_p|, |a_m|, \\phi_p, \\phi_m$), and four equations:\n",
    "$$\\textrm{Re}[x(t=0)] = x_0 = \\textrm{Re}(a_p + a_m) = |a_p|\\cos\\phi_p + |a_m|\\cos\\phi_m, $$\n",
    "$$\\textrm{Im}[x(t=0)] = 0 = \\textrm{Im}(a_p + a_m) = |a_p|\\sin\\phi_p - |a_m|\\sin\\phi_m, $$\n",
    "$$\\textrm{Re}[v(t=0)] = v_0 = \\textrm{Re}(r_p a_p + r_m a_m) = \\textrm{something that looks like what is above}, $$\n",
    "$$\\textrm{Im}[v(t=0)] = 0 = \\textrm{Im}(r_p a_p + r_m a_m) = \\textrm{more of the same but different}. $$\n",
    "\n",
    "We kept complex numbers around, adding two unknowns, and in response, we had to add two equations to make sure that the imaginary parts would be zero.\n",
    "\n",
    "And then, assuming that we managed to solve the system, what would the real parts looks like? A bunch of sines and cosines with phases in them, which we would expand using the formulae $\\cos(a+b) = \\cos a\\cos b - \\sin a \\sin b$ and  $\\sin(a+b) = \\sin a\\cos b + \\cos a \\sin b$. \n",
    "The next step would be to regroup all the $\\sin(\\omega_dt)$ together, the $\\cos(\\omega_d t)$ together, and we would find an expression of the type\n",
    "$$ x_0 = A_1 \\cos(\\omega_dt) + A_2 \\sin(\\omega_d t), $$\n",
    "where $A_1$ and $A_2$ would be very long expressions of $|a_p|$, $|a_m|$, $\\phi_p$ and $\\phi_m$. \n",
    "And finally, the expression above can also be written as $A\\cos(\\omega_d t + \\phi)$.\n",
    "\n",
    "The point that I want to make is that a lot of the damage was self-inflicted: it was completely predictable, based on these considerations, that the solution was going to take the form $A\\cos(\\omega_dt + \\phi)$, and that the imaginary parts were going to disappear because the solutions had to be real.\n",
    "\n",
    "Perhaps one last objection you could raise is that King's book starts directly with $A \\cos(\\omega t + \\phi)$. \n",
    "Why not do the same?\n",
    "That is because:\n",
    "\n",
    "1. at some point, I would need to compute $v(t) = \\dot x(t)$, which turns out to be a little complicated if sines and cosines are used;\n",
    "2. this approach allows for a similar treatment between the underdamped and overdamped cases (King has to re-boot his derivation, and you lose the connection between real and complex exponentials),\n",
    "3. eventually, you should be comfortable with the notion of switching from complex exponentials.\n",
    "\n",
    "*Let me re-iterate though: whether you are now convinced or not, you will not be tested on such technical points.\n",
    "It will make you a better engineer and scientist if you understand it, and it will make your life easier in the classes that come after this one, but you will not loose points if you don't.*\n",
    "\n",
    "Back to our regular business.\n",
    "\n",
    "***"
   ]
  },
  {
   "cell_type": "markdown",
   "metadata": {
    "slideshow": {
     "slide_type": "skip"
    }
   },
   "source": [
    "The velocity is $$ v(t) = \\dot x(t) = A_0\\eexp{- \\gamma t/2}\\left[-\\omega_d\\sin(\\omega_d t + \\phi) - \\frac{\\gamma}{2}\\cos(\\omega_dt +\\phi)\\right].$$"
   ]
  },
  {
   "cell_type": "markdown",
   "metadata": {
    "slideshow": {
     "slide_type": "skip"
    }
   },
   "source": [
    "Like in the previous chapter, we have two coefficients to solve for, and we need two initial conditions to solve it.\n",
    "\n",
    "***\n",
    "\n",
    "The specific derivation of $A_0$ and $\\phi$ that follows doesn't really matter, and I didn't cover it in class, but I need it for plotting purposes.\n",
    "Using the initial conditions I used before:\n",
    "\n",
    "* $x(t=0) = x_0 = A_0\\cos\\phi$, and\n",
    "* $v(t=0) = 0 = -A_0\\left[\\omega_d\\sin\\phi + \\frac{\\gamma}{2}\\cos\\phi\\right]\\ \\Rightarrow\\ \\tan\\phi = -\\frac\\gamma{2\\omega_d}$.\n",
    "\n",
    "On the $[0, 2\\pi]$ circle, $\\phi$ is the angle for which $\\cos\\phi$ and $x_0$ have the same sign, because $A_0>0$ by definition.\n",
    "\n",
    "***"
   ]
  },
  {
   "cell_type": "code",
   "execution_count": 2,
   "metadata": {
    "slideshow": {
     "slide_type": "skip"
    }
   },
   "outputs": [
    {
     "data": {
      "application/javascript": [
       "/* Put everything inside the global mpl namespace */\n",
       "window.mpl = {};\n",
       "\n",
       "\n",
       "mpl.get_websocket_type = function() {\n",
       "    if (typeof(WebSocket) !== 'undefined') {\n",
       "        return WebSocket;\n",
       "    } else if (typeof(MozWebSocket) !== 'undefined') {\n",
       "        return MozWebSocket;\n",
       "    } else {\n",
       "        alert('Your browser does not have WebSocket support.' +\n",
       "              'Please try Chrome, Safari or Firefox ≥ 6. ' +\n",
       "              'Firefox 4 and 5 are also supported but you ' +\n",
       "              'have to enable WebSockets in about:config.');\n",
       "    };\n",
       "}\n",
       "\n",
       "mpl.figure = function(figure_id, websocket, ondownload, parent_element) {\n",
       "    this.id = figure_id;\n",
       "\n",
       "    this.ws = websocket;\n",
       "\n",
       "    this.supports_binary = (this.ws.binaryType != undefined);\n",
       "\n",
       "    if (!this.supports_binary) {\n",
       "        var warnings = document.getElementById(\"mpl-warnings\");\n",
       "        if (warnings) {\n",
       "            warnings.style.display = 'block';\n",
       "            warnings.textContent = (\n",
       "                \"This browser does not support binary websocket messages. \" +\n",
       "                    \"Performance may be slow.\");\n",
       "        }\n",
       "    }\n",
       "\n",
       "    this.imageObj = new Image();\n",
       "\n",
       "    this.context = undefined;\n",
       "    this.message = undefined;\n",
       "    this.canvas = undefined;\n",
       "    this.rubberband_canvas = undefined;\n",
       "    this.rubberband_context = undefined;\n",
       "    this.format_dropdown = undefined;\n",
       "\n",
       "    this.image_mode = 'full';\n",
       "\n",
       "    this.root = $('<div/>');\n",
       "    this._root_extra_style(this.root)\n",
       "    this.root.attr('style', 'display: inline-block');\n",
       "\n",
       "    $(parent_element).append(this.root);\n",
       "\n",
       "    this._init_header(this);\n",
       "    this._init_canvas(this);\n",
       "    this._init_toolbar(this);\n",
       "\n",
       "    var fig = this;\n",
       "\n",
       "    this.waiting = false;\n",
       "\n",
       "    this.ws.onopen =  function () {\n",
       "            fig.send_message(\"supports_binary\", {value: fig.supports_binary});\n",
       "            fig.send_message(\"send_image_mode\", {});\n",
       "            if (mpl.ratio != 1) {\n",
       "                fig.send_message(\"set_dpi_ratio\", {'dpi_ratio': mpl.ratio});\n",
       "            }\n",
       "            fig.send_message(\"refresh\", {});\n",
       "        }\n",
       "\n",
       "    this.imageObj.onload = function() {\n",
       "            if (fig.image_mode == 'full') {\n",
       "                // Full images could contain transparency (where diff images\n",
       "                // almost always do), so we need to clear the canvas so that\n",
       "                // there is no ghosting.\n",
       "                fig.context.clearRect(0, 0, fig.canvas.width, fig.canvas.height);\n",
       "            }\n",
       "            fig.context.drawImage(fig.imageObj, 0, 0);\n",
       "        };\n",
       "\n",
       "    this.imageObj.onunload = function() {\n",
       "        fig.ws.close();\n",
       "    }\n",
       "\n",
       "    this.ws.onmessage = this._make_on_message_function(this);\n",
       "\n",
       "    this.ondownload = ondownload;\n",
       "}\n",
       "\n",
       "mpl.figure.prototype._init_header = function() {\n",
       "    var titlebar = $(\n",
       "        '<div class=\"ui-dialog-titlebar ui-widget-header ui-corner-all ' +\n",
       "        'ui-helper-clearfix\"/>');\n",
       "    var titletext = $(\n",
       "        '<div class=\"ui-dialog-title\" style=\"width: 100%; ' +\n",
       "        'text-align: center; padding: 3px;\"/>');\n",
       "    titlebar.append(titletext)\n",
       "    this.root.append(titlebar);\n",
       "    this.header = titletext[0];\n",
       "}\n",
       "\n",
       "\n",
       "\n",
       "mpl.figure.prototype._canvas_extra_style = function(canvas_div) {\n",
       "\n",
       "}\n",
       "\n",
       "\n",
       "mpl.figure.prototype._root_extra_style = function(canvas_div) {\n",
       "\n",
       "}\n",
       "\n",
       "mpl.figure.prototype._init_canvas = function() {\n",
       "    var fig = this;\n",
       "\n",
       "    var canvas_div = $('<div/>');\n",
       "\n",
       "    canvas_div.attr('style', 'position: relative; clear: both; outline: 0');\n",
       "\n",
       "    function canvas_keyboard_event(event) {\n",
       "        return fig.key_event(event, event['data']);\n",
       "    }\n",
       "\n",
       "    canvas_div.keydown('key_press', canvas_keyboard_event);\n",
       "    canvas_div.keyup('key_release', canvas_keyboard_event);\n",
       "    this.canvas_div = canvas_div\n",
       "    this._canvas_extra_style(canvas_div)\n",
       "    this.root.append(canvas_div);\n",
       "\n",
       "    var canvas = $('<canvas/>');\n",
       "    canvas.addClass('mpl-canvas');\n",
       "    canvas.attr('style', \"left: 0; top: 0; z-index: 0; outline: 0\")\n",
       "\n",
       "    this.canvas = canvas[0];\n",
       "    this.context = canvas[0].getContext(\"2d\");\n",
       "\n",
       "    var backingStore = this.context.backingStorePixelRatio ||\n",
       "\tthis.context.webkitBackingStorePixelRatio ||\n",
       "\tthis.context.mozBackingStorePixelRatio ||\n",
       "\tthis.context.msBackingStorePixelRatio ||\n",
       "\tthis.context.oBackingStorePixelRatio ||\n",
       "\tthis.context.backingStorePixelRatio || 1;\n",
       "\n",
       "    mpl.ratio = (window.devicePixelRatio || 1) / backingStore;\n",
       "\n",
       "    var rubberband = $('<canvas/>');\n",
       "    rubberband.attr('style', \"position: absolute; left: 0; top: 0; z-index: 1;\")\n",
       "\n",
       "    var pass_mouse_events = true;\n",
       "\n",
       "    canvas_div.resizable({\n",
       "        start: function(event, ui) {\n",
       "            pass_mouse_events = false;\n",
       "        },\n",
       "        resize: function(event, ui) {\n",
       "            fig.request_resize(ui.size.width, ui.size.height);\n",
       "        },\n",
       "        stop: function(event, ui) {\n",
       "            pass_mouse_events = true;\n",
       "            fig.request_resize(ui.size.width, ui.size.height);\n",
       "        },\n",
       "    });\n",
       "\n",
       "    function mouse_event_fn(event) {\n",
       "        if (pass_mouse_events)\n",
       "            return fig.mouse_event(event, event['data']);\n",
       "    }\n",
       "\n",
       "    rubberband.mousedown('button_press', mouse_event_fn);\n",
       "    rubberband.mouseup('button_release', mouse_event_fn);\n",
       "    // Throttle sequential mouse events to 1 every 20ms.\n",
       "    rubberband.mousemove('motion_notify', mouse_event_fn);\n",
       "\n",
       "    rubberband.mouseenter('figure_enter', mouse_event_fn);\n",
       "    rubberband.mouseleave('figure_leave', mouse_event_fn);\n",
       "\n",
       "    canvas_div.on(\"wheel\", function (event) {\n",
       "        event = event.originalEvent;\n",
       "        event['data'] = 'scroll'\n",
       "        if (event.deltaY < 0) {\n",
       "            event.step = 1;\n",
       "        } else {\n",
       "            event.step = -1;\n",
       "        }\n",
       "        mouse_event_fn(event);\n",
       "    });\n",
       "\n",
       "    canvas_div.append(canvas);\n",
       "    canvas_div.append(rubberband);\n",
       "\n",
       "    this.rubberband = rubberband;\n",
       "    this.rubberband_canvas = rubberband[0];\n",
       "    this.rubberband_context = rubberband[0].getContext(\"2d\");\n",
       "    this.rubberband_context.strokeStyle = \"#000000\";\n",
       "\n",
       "    this._resize_canvas = function(width, height) {\n",
       "        // Keep the size of the canvas, canvas container, and rubber band\n",
       "        // canvas in synch.\n",
       "        canvas_div.css('width', width)\n",
       "        canvas_div.css('height', height)\n",
       "\n",
       "        canvas.attr('width', width * mpl.ratio);\n",
       "        canvas.attr('height', height * mpl.ratio);\n",
       "        canvas.attr('style', 'width: ' + width + 'px; height: ' + height + 'px;');\n",
       "\n",
       "        rubberband.attr('width', width);\n",
       "        rubberband.attr('height', height);\n",
       "    }\n",
       "\n",
       "    // Set the figure to an initial 600x600px, this will subsequently be updated\n",
       "    // upon first draw.\n",
       "    this._resize_canvas(600, 600);\n",
       "\n",
       "    // Disable right mouse context menu.\n",
       "    $(this.rubberband_canvas).bind(\"contextmenu\",function(e){\n",
       "        return false;\n",
       "    });\n",
       "\n",
       "    function set_focus () {\n",
       "        canvas.focus();\n",
       "        canvas_div.focus();\n",
       "    }\n",
       "\n",
       "    window.setTimeout(set_focus, 100);\n",
       "}\n",
       "\n",
       "mpl.figure.prototype._init_toolbar = function() {\n",
       "    var fig = this;\n",
       "\n",
       "    var nav_element = $('<div/>')\n",
       "    nav_element.attr('style', 'width: 100%');\n",
       "    this.root.append(nav_element);\n",
       "\n",
       "    // Define a callback function for later on.\n",
       "    function toolbar_event(event) {\n",
       "        return fig.toolbar_button_onclick(event['data']);\n",
       "    }\n",
       "    function toolbar_mouse_event(event) {\n",
       "        return fig.toolbar_button_onmouseover(event['data']);\n",
       "    }\n",
       "\n",
       "    for(var toolbar_ind in mpl.toolbar_items) {\n",
       "        var name = mpl.toolbar_items[toolbar_ind][0];\n",
       "        var tooltip = mpl.toolbar_items[toolbar_ind][1];\n",
       "        var image = mpl.toolbar_items[toolbar_ind][2];\n",
       "        var method_name = mpl.toolbar_items[toolbar_ind][3];\n",
       "\n",
       "        if (!name) {\n",
       "            // put a spacer in here.\n",
       "            continue;\n",
       "        }\n",
       "        var button = $('<button/>');\n",
       "        button.addClass('ui-button ui-widget ui-state-default ui-corner-all ' +\n",
       "                        'ui-button-icon-only');\n",
       "        button.attr('role', 'button');\n",
       "        button.attr('aria-disabled', 'false');\n",
       "        button.click(method_name, toolbar_event);\n",
       "        button.mouseover(tooltip, toolbar_mouse_event);\n",
       "\n",
       "        var icon_img = $('<span/>');\n",
       "        icon_img.addClass('ui-button-icon-primary ui-icon');\n",
       "        icon_img.addClass(image);\n",
       "        icon_img.addClass('ui-corner-all');\n",
       "\n",
       "        var tooltip_span = $('<span/>');\n",
       "        tooltip_span.addClass('ui-button-text');\n",
       "        tooltip_span.html(tooltip);\n",
       "\n",
       "        button.append(icon_img);\n",
       "        button.append(tooltip_span);\n",
       "\n",
       "        nav_element.append(button);\n",
       "    }\n",
       "\n",
       "    var fmt_picker_span = $('<span/>');\n",
       "\n",
       "    var fmt_picker = $('<select/>');\n",
       "    fmt_picker.addClass('mpl-toolbar-option ui-widget ui-widget-content');\n",
       "    fmt_picker_span.append(fmt_picker);\n",
       "    nav_element.append(fmt_picker_span);\n",
       "    this.format_dropdown = fmt_picker[0];\n",
       "\n",
       "    for (var ind in mpl.extensions) {\n",
       "        var fmt = mpl.extensions[ind];\n",
       "        var option = $(\n",
       "            '<option/>', {selected: fmt === mpl.default_extension}).html(fmt);\n",
       "        fmt_picker.append(option)\n",
       "    }\n",
       "\n",
       "    // Add hover states to the ui-buttons\n",
       "    $( \".ui-button\" ).hover(\n",
       "        function() { $(this).addClass(\"ui-state-hover\");},\n",
       "        function() { $(this).removeClass(\"ui-state-hover\");}\n",
       "    );\n",
       "\n",
       "    var status_bar = $('<span class=\"mpl-message\"/>');\n",
       "    nav_element.append(status_bar);\n",
       "    this.message = status_bar[0];\n",
       "}\n",
       "\n",
       "mpl.figure.prototype.request_resize = function(x_pixels, y_pixels) {\n",
       "    // Request matplotlib to resize the figure. Matplotlib will then trigger a resize in the client,\n",
       "    // which will in turn request a refresh of the image.\n",
       "    this.send_message('resize', {'width': x_pixels, 'height': y_pixels});\n",
       "}\n",
       "\n",
       "mpl.figure.prototype.send_message = function(type, properties) {\n",
       "    properties['type'] = type;\n",
       "    properties['figure_id'] = this.id;\n",
       "    this.ws.send(JSON.stringify(properties));\n",
       "}\n",
       "\n",
       "mpl.figure.prototype.send_draw_message = function() {\n",
       "    if (!this.waiting) {\n",
       "        this.waiting = true;\n",
       "        this.ws.send(JSON.stringify({type: \"draw\", figure_id: this.id}));\n",
       "    }\n",
       "}\n",
       "\n",
       "\n",
       "mpl.figure.prototype.handle_save = function(fig, msg) {\n",
       "    var format_dropdown = fig.format_dropdown;\n",
       "    var format = format_dropdown.options[format_dropdown.selectedIndex].value;\n",
       "    fig.ondownload(fig, format);\n",
       "}\n",
       "\n",
       "\n",
       "mpl.figure.prototype.handle_resize = function(fig, msg) {\n",
       "    var size = msg['size'];\n",
       "    if (size[0] != fig.canvas.width || size[1] != fig.canvas.height) {\n",
       "        fig._resize_canvas(size[0], size[1]);\n",
       "        fig.send_message(\"refresh\", {});\n",
       "    };\n",
       "}\n",
       "\n",
       "mpl.figure.prototype.handle_rubberband = function(fig, msg) {\n",
       "    var x0 = msg['x0'] / mpl.ratio;\n",
       "    var y0 = (fig.canvas.height - msg['y0']) / mpl.ratio;\n",
       "    var x1 = msg['x1'] / mpl.ratio;\n",
       "    var y1 = (fig.canvas.height - msg['y1']) / mpl.ratio;\n",
       "    x0 = Math.floor(x0) + 0.5;\n",
       "    y0 = Math.floor(y0) + 0.5;\n",
       "    x1 = Math.floor(x1) + 0.5;\n",
       "    y1 = Math.floor(y1) + 0.5;\n",
       "    var min_x = Math.min(x0, x1);\n",
       "    var min_y = Math.min(y0, y1);\n",
       "    var width = Math.abs(x1 - x0);\n",
       "    var height = Math.abs(y1 - y0);\n",
       "\n",
       "    fig.rubberband_context.clearRect(\n",
       "        0, 0, fig.canvas.width, fig.canvas.height);\n",
       "\n",
       "    fig.rubberband_context.strokeRect(min_x, min_y, width, height);\n",
       "}\n",
       "\n",
       "mpl.figure.prototype.handle_figure_label = function(fig, msg) {\n",
       "    // Updates the figure title.\n",
       "    fig.header.textContent = msg['label'];\n",
       "}\n",
       "\n",
       "mpl.figure.prototype.handle_cursor = function(fig, msg) {\n",
       "    var cursor = msg['cursor'];\n",
       "    switch(cursor)\n",
       "    {\n",
       "    case 0:\n",
       "        cursor = 'pointer';\n",
       "        break;\n",
       "    case 1:\n",
       "        cursor = 'default';\n",
       "        break;\n",
       "    case 2:\n",
       "        cursor = 'crosshair';\n",
       "        break;\n",
       "    case 3:\n",
       "        cursor = 'move';\n",
       "        break;\n",
       "    }\n",
       "    fig.rubberband_canvas.style.cursor = cursor;\n",
       "}\n",
       "\n",
       "mpl.figure.prototype.handle_message = function(fig, msg) {\n",
       "    fig.message.textContent = msg['message'];\n",
       "}\n",
       "\n",
       "mpl.figure.prototype.handle_draw = function(fig, msg) {\n",
       "    // Request the server to send over a new figure.\n",
       "    fig.send_draw_message();\n",
       "}\n",
       "\n",
       "mpl.figure.prototype.handle_image_mode = function(fig, msg) {\n",
       "    fig.image_mode = msg['mode'];\n",
       "}\n",
       "\n",
       "mpl.figure.prototype.updated_canvas_event = function() {\n",
       "    // Called whenever the canvas gets updated.\n",
       "    this.send_message(\"ack\", {});\n",
       "}\n",
       "\n",
       "// A function to construct a web socket function for onmessage handling.\n",
       "// Called in the figure constructor.\n",
       "mpl.figure.prototype._make_on_message_function = function(fig) {\n",
       "    return function socket_on_message(evt) {\n",
       "        if (evt.data instanceof Blob) {\n",
       "            /* FIXME: We get \"Resource interpreted as Image but\n",
       "             * transferred with MIME type text/plain:\" errors on\n",
       "             * Chrome.  But how to set the MIME type?  It doesn't seem\n",
       "             * to be part of the websocket stream */\n",
       "            evt.data.type = \"image/png\";\n",
       "\n",
       "            /* Free the memory for the previous frames */\n",
       "            if (fig.imageObj.src) {\n",
       "                (window.URL || window.webkitURL).revokeObjectURL(\n",
       "                    fig.imageObj.src);\n",
       "            }\n",
       "\n",
       "            fig.imageObj.src = (window.URL || window.webkitURL).createObjectURL(\n",
       "                evt.data);\n",
       "            fig.updated_canvas_event();\n",
       "            fig.waiting = false;\n",
       "            return;\n",
       "        }\n",
       "        else if (typeof evt.data === 'string' && evt.data.slice(0, 21) == \"data:image/png;base64\") {\n",
       "            fig.imageObj.src = evt.data;\n",
       "            fig.updated_canvas_event();\n",
       "            fig.waiting = false;\n",
       "            return;\n",
       "        }\n",
       "\n",
       "        var msg = JSON.parse(evt.data);\n",
       "        var msg_type = msg['type'];\n",
       "\n",
       "        // Call the  \"handle_{type}\" callback, which takes\n",
       "        // the figure and JSON message as its only arguments.\n",
       "        try {\n",
       "            var callback = fig[\"handle_\" + msg_type];\n",
       "        } catch (e) {\n",
       "            console.log(\"No handler for the '\" + msg_type + \"' message type: \", msg);\n",
       "            return;\n",
       "        }\n",
       "\n",
       "        if (callback) {\n",
       "            try {\n",
       "                // console.log(\"Handling '\" + msg_type + \"' message: \", msg);\n",
       "                callback(fig, msg);\n",
       "            } catch (e) {\n",
       "                console.log(\"Exception inside the 'handler_\" + msg_type + \"' callback:\", e, e.stack, msg);\n",
       "            }\n",
       "        }\n",
       "    };\n",
       "}\n",
       "\n",
       "// from http://stackoverflow.com/questions/1114465/getting-mouse-location-in-canvas\n",
       "mpl.findpos = function(e) {\n",
       "    //this section is from http://www.quirksmode.org/js/events_properties.html\n",
       "    var targ;\n",
       "    if (!e)\n",
       "        e = window.event;\n",
       "    if (e.target)\n",
       "        targ = e.target;\n",
       "    else if (e.srcElement)\n",
       "        targ = e.srcElement;\n",
       "    if (targ.nodeType == 3) // defeat Safari bug\n",
       "        targ = targ.parentNode;\n",
       "\n",
       "    // jQuery normalizes the pageX and pageY\n",
       "    // pageX,Y are the mouse positions relative to the document\n",
       "    // offset() returns the position of the element relative to the document\n",
       "    var x = e.pageX - $(targ).offset().left;\n",
       "    var y = e.pageY - $(targ).offset().top;\n",
       "\n",
       "    return {\"x\": x, \"y\": y};\n",
       "};\n",
       "\n",
       "/*\n",
       " * return a copy of an object with only non-object keys\n",
       " * we need this to avoid circular references\n",
       " * http://stackoverflow.com/a/24161582/3208463\n",
       " */\n",
       "function simpleKeys (original) {\n",
       "  return Object.keys(original).reduce(function (obj, key) {\n",
       "    if (typeof original[key] !== 'object')\n",
       "        obj[key] = original[key]\n",
       "    return obj;\n",
       "  }, {});\n",
       "}\n",
       "\n",
       "mpl.figure.prototype.mouse_event = function(event, name) {\n",
       "    var canvas_pos = mpl.findpos(event)\n",
       "\n",
       "    if (name === 'button_press')\n",
       "    {\n",
       "        this.canvas.focus();\n",
       "        this.canvas_div.focus();\n",
       "    }\n",
       "\n",
       "    var x = canvas_pos.x * mpl.ratio;\n",
       "    var y = canvas_pos.y * mpl.ratio;\n",
       "\n",
       "    this.send_message(name, {x: x, y: y, button: event.button,\n",
       "                             step: event.step,\n",
       "                             guiEvent: simpleKeys(event)});\n",
       "\n",
       "    /* This prevents the web browser from automatically changing to\n",
       "     * the text insertion cursor when the button is pressed.  We want\n",
       "     * to control all of the cursor setting manually through the\n",
       "     * 'cursor' event from matplotlib */\n",
       "    event.preventDefault();\n",
       "    return false;\n",
       "}\n",
       "\n",
       "mpl.figure.prototype._key_event_extra = function(event, name) {\n",
       "    // Handle any extra behaviour associated with a key event\n",
       "}\n",
       "\n",
       "mpl.figure.prototype.key_event = function(event, name) {\n",
       "\n",
       "    // Prevent repeat events\n",
       "    if (name == 'key_press')\n",
       "    {\n",
       "        if (event.which === this._key)\n",
       "            return;\n",
       "        else\n",
       "            this._key = event.which;\n",
       "    }\n",
       "    if (name == 'key_release')\n",
       "        this._key = null;\n",
       "\n",
       "    var value = '';\n",
       "    if (event.ctrlKey && event.which != 17)\n",
       "        value += \"ctrl+\";\n",
       "    if (event.altKey && event.which != 18)\n",
       "        value += \"alt+\";\n",
       "    if (event.shiftKey && event.which != 16)\n",
       "        value += \"shift+\";\n",
       "\n",
       "    value += 'k';\n",
       "    value += event.which.toString();\n",
       "\n",
       "    this._key_event_extra(event, name);\n",
       "\n",
       "    this.send_message(name, {key: value,\n",
       "                             guiEvent: simpleKeys(event)});\n",
       "    return false;\n",
       "}\n",
       "\n",
       "mpl.figure.prototype.toolbar_button_onclick = function(name) {\n",
       "    if (name == 'download') {\n",
       "        this.handle_save(this, null);\n",
       "    } else {\n",
       "        this.send_message(\"toolbar_button\", {name: name});\n",
       "    }\n",
       "};\n",
       "\n",
       "mpl.figure.prototype.toolbar_button_onmouseover = function(tooltip) {\n",
       "    this.message.textContent = tooltip;\n",
       "};\n",
       "mpl.toolbar_items = [[\"Home\", \"Reset original view\", \"fa fa-home icon-home\", \"home\"], [\"Back\", \"Back to  previous view\", \"fa fa-arrow-left icon-arrow-left\", \"back\"], [\"Forward\", \"Forward to next view\", \"fa fa-arrow-right icon-arrow-right\", \"forward\"], [\"\", \"\", \"\", \"\"], [\"Pan\", \"Pan axes with left mouse, zoom with right\", \"fa fa-arrows icon-move\", \"pan\"], [\"Zoom\", \"Zoom to rectangle\", \"fa fa-square-o icon-check-empty\", \"zoom\"], [\"\", \"\", \"\", \"\"], [\"Download\", \"Download plot\", \"fa fa-floppy-o icon-save\", \"download\"]];\n",
       "\n",
       "mpl.extensions = [\"eps\", \"jpeg\", \"pdf\", \"png\", \"ps\", \"raw\", \"svg\", \"tif\"];\n",
       "\n",
       "mpl.default_extension = \"png\";var comm_websocket_adapter = function(comm) {\n",
       "    // Create a \"websocket\"-like object which calls the given IPython comm\n",
       "    // object with the appropriate methods. Currently this is a non binary\n",
       "    // socket, so there is still some room for performance tuning.\n",
       "    var ws = {};\n",
       "\n",
       "    ws.close = function() {\n",
       "        comm.close()\n",
       "    };\n",
       "    ws.send = function(m) {\n",
       "        //console.log('sending', m);\n",
       "        comm.send(m);\n",
       "    };\n",
       "    // Register the callback with on_msg.\n",
       "    comm.on_msg(function(msg) {\n",
       "        //console.log('receiving', msg['content']['data'], msg);\n",
       "        // Pass the mpl event to the overridden (by mpl) onmessage function.\n",
       "        ws.onmessage(msg['content']['data'])\n",
       "    });\n",
       "    return ws;\n",
       "}\n",
       "\n",
       "mpl.mpl_figure_comm = function(comm, msg) {\n",
       "    // This is the function which gets called when the mpl process\n",
       "    // starts-up an IPython Comm through the \"matplotlib\" channel.\n",
       "\n",
       "    var id = msg.content.data.id;\n",
       "    // Get hold of the div created by the display call when the Comm\n",
       "    // socket was opened in Python.\n",
       "    var element = $(\"#\" + id);\n",
       "    var ws_proxy = comm_websocket_adapter(comm)\n",
       "\n",
       "    function ondownload(figure, format) {\n",
       "        window.open(figure.imageObj.src);\n",
       "    }\n",
       "\n",
       "    var fig = new mpl.figure(id, ws_proxy,\n",
       "                           ondownload,\n",
       "                           element.get(0));\n",
       "\n",
       "    // Call onopen now - mpl needs it, as it is assuming we've passed it a real\n",
       "    // web socket which is closed, not our websocket->open comm proxy.\n",
       "    ws_proxy.onopen();\n",
       "\n",
       "    fig.parent_element = element.get(0);\n",
       "    fig.cell_info = mpl.find_output_cell(\"<div id='\" + id + \"'></div>\");\n",
       "    if (!fig.cell_info) {\n",
       "        console.error(\"Failed to find cell for figure\", id, fig);\n",
       "        return;\n",
       "    }\n",
       "\n",
       "    var output_index = fig.cell_info[2]\n",
       "    var cell = fig.cell_info[0];\n",
       "\n",
       "};\n",
       "\n",
       "mpl.figure.prototype.handle_close = function(fig, msg) {\n",
       "    var width = fig.canvas.width/mpl.ratio\n",
       "    fig.root.unbind('remove')\n",
       "\n",
       "    // Update the output cell to use the data from the current canvas.\n",
       "    fig.push_to_output();\n",
       "    var dataURL = fig.canvas.toDataURL();\n",
       "    // Re-enable the keyboard manager in IPython - without this line, in FF,\n",
       "    // the notebook keyboard shortcuts fail.\n",
       "    IPython.keyboard_manager.enable()\n",
       "    $(fig.parent_element).html('<img src=\"' + dataURL + '\" width=\"' + width + '\">');\n",
       "    fig.close_ws(fig, msg);\n",
       "}\n",
       "\n",
       "mpl.figure.prototype.close_ws = function(fig, msg){\n",
       "    fig.send_message('closing', msg);\n",
       "    // fig.ws.close()\n",
       "}\n",
       "\n",
       "mpl.figure.prototype.push_to_output = function(remove_interactive) {\n",
       "    // Turn the data on the canvas into data in the output cell.\n",
       "    var width = this.canvas.width/mpl.ratio\n",
       "    var dataURL = this.canvas.toDataURL();\n",
       "    this.cell_info[1]['text/html'] = '<img src=\"' + dataURL + '\" width=\"' + width + '\">';\n",
       "}\n",
       "\n",
       "mpl.figure.prototype.updated_canvas_event = function() {\n",
       "    // Tell IPython that the notebook contents must change.\n",
       "    IPython.notebook.set_dirty(true);\n",
       "    this.send_message(\"ack\", {});\n",
       "    var fig = this;\n",
       "    // Wait a second, then push the new image to the DOM so\n",
       "    // that it is saved nicely (might be nice to debounce this).\n",
       "    setTimeout(function () { fig.push_to_output() }, 1000);\n",
       "}\n",
       "\n",
       "mpl.figure.prototype._init_toolbar = function() {\n",
       "    var fig = this;\n",
       "\n",
       "    var nav_element = $('<div/>')\n",
       "    nav_element.attr('style', 'width: 100%');\n",
       "    this.root.append(nav_element);\n",
       "\n",
       "    // Define a callback function for later on.\n",
       "    function toolbar_event(event) {\n",
       "        return fig.toolbar_button_onclick(event['data']);\n",
       "    }\n",
       "    function toolbar_mouse_event(event) {\n",
       "        return fig.toolbar_button_onmouseover(event['data']);\n",
       "    }\n",
       "\n",
       "    for(var toolbar_ind in mpl.toolbar_items){\n",
       "        var name = mpl.toolbar_items[toolbar_ind][0];\n",
       "        var tooltip = mpl.toolbar_items[toolbar_ind][1];\n",
       "        var image = mpl.toolbar_items[toolbar_ind][2];\n",
       "        var method_name = mpl.toolbar_items[toolbar_ind][3];\n",
       "\n",
       "        if (!name) { continue; };\n",
       "\n",
       "        var button = $('<button class=\"btn btn-default\" href=\"#\" title=\"' + name + '\"><i class=\"fa ' + image + ' fa-lg\"></i></button>');\n",
       "        button.click(method_name, toolbar_event);\n",
       "        button.mouseover(tooltip, toolbar_mouse_event);\n",
       "        nav_element.append(button);\n",
       "    }\n",
       "\n",
       "    // Add the status bar.\n",
       "    var status_bar = $('<span class=\"mpl-message\" style=\"text-align:right; float: right;\"/>');\n",
       "    nav_element.append(status_bar);\n",
       "    this.message = status_bar[0];\n",
       "\n",
       "    // Add the close button to the window.\n",
       "    var buttongrp = $('<div class=\"btn-group inline pull-right\"></div>');\n",
       "    var button = $('<button class=\"btn btn-mini btn-primary\" href=\"#\" title=\"Stop Interaction\"><i class=\"fa fa-power-off icon-remove icon-large\"></i></button>');\n",
       "    button.click(function (evt) { fig.handle_close(fig, {}); } );\n",
       "    button.mouseover('Stop Interaction', toolbar_mouse_event);\n",
       "    buttongrp.append(button);\n",
       "    var titlebar = this.root.find($('.ui-dialog-titlebar'));\n",
       "    titlebar.prepend(buttongrp);\n",
       "}\n",
       "\n",
       "mpl.figure.prototype._root_extra_style = function(el){\n",
       "    var fig = this\n",
       "    el.on(\"remove\", function(){\n",
       "\tfig.close_ws(fig, {});\n",
       "    });\n",
       "}\n",
       "\n",
       "mpl.figure.prototype._canvas_extra_style = function(el){\n",
       "    // this is important to make the div 'focusable\n",
       "    el.attr('tabindex', 0)\n",
       "    // reach out to IPython and tell the keyboard manager to turn it's self\n",
       "    // off when our div gets focus\n",
       "\n",
       "    // location in version 3\n",
       "    if (IPython.notebook.keyboard_manager) {\n",
       "        IPython.notebook.keyboard_manager.register_events(el);\n",
       "    }\n",
       "    else {\n",
       "        // location in version 2\n",
       "        IPython.keyboard_manager.register_events(el);\n",
       "    }\n",
       "\n",
       "}\n",
       "\n",
       "mpl.figure.prototype._key_event_extra = function(event, name) {\n",
       "    var manager = IPython.notebook.keyboard_manager;\n",
       "    if (!manager)\n",
       "        manager = IPython.keyboard_manager;\n",
       "\n",
       "    // Check for shift+enter\n",
       "    if (event.shiftKey && event.which == 13) {\n",
       "        this.canvas_div.blur();\n",
       "        event.shiftKey = false;\n",
       "        // Send a \"J\" for go to next cell\n",
       "        event.which = 74;\n",
       "        event.keyCode = 74;\n",
       "        manager.command_mode();\n",
       "        manager.handle_keydown(event);\n",
       "    }\n",
       "}\n",
       "\n",
       "mpl.figure.prototype.handle_save = function(fig, msg) {\n",
       "    fig.ondownload(fig, null);\n",
       "}\n",
       "\n",
       "\n",
       "mpl.find_output_cell = function(html_output) {\n",
       "    // Return the cell and output element which can be found *uniquely* in the notebook.\n",
       "    // Note - this is a bit hacky, but it is done because the \"notebook_saving.Notebook\"\n",
       "    // IPython event is triggered only after the cells have been serialised, which for\n",
       "    // our purposes (turning an active figure into a static one), is too late.\n",
       "    var cells = IPython.notebook.get_cells();\n",
       "    var ncells = cells.length;\n",
       "    for (var i=0; i<ncells; i++) {\n",
       "        var cell = cells[i];\n",
       "        if (cell.cell_type === 'code'){\n",
       "            for (var j=0; j<cell.output_area.outputs.length; j++) {\n",
       "                var data = cell.output_area.outputs[j];\n",
       "                if (data.data) {\n",
       "                    // IPython >= 3 moved mimebundle to data attribute of output\n",
       "                    data = data.data;\n",
       "                }\n",
       "                if (data['text/html'] == html_output) {\n",
       "                    return [cell, data, j];\n",
       "                }\n",
       "            }\n",
       "        }\n",
       "    }\n",
       "}\n",
       "\n",
       "// Register the function which deals with the matplotlib target/channel.\n",
       "// The kernel may be null if the page has been refreshed.\n",
       "if (IPython.notebook.kernel != null) {\n",
       "    IPython.notebook.kernel.comm_manager.register_target('matplotlib', mpl.mpl_figure_comm);\n",
       "}\n"
      ],
      "text/plain": [
       "<IPython.core.display.Javascript object>"
      ]
     },
     "metadata": {},
     "output_type": "display_data"
    },
    {
     "data": {
      "text/html": [
       "<img src=\"data:image/png;base64,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\" width=\"639.65\">"
      ],
      "text/plain": [
       "<IPython.core.display.HTML object>"
      ]
     },
     "metadata": {},
     "output_type": "display_data"
    },
    {
     "data": {
      "text/plain": [
       "<matplotlib.legend.Legend at 0x111f91160>"
      ]
     },
     "execution_count": 2,
     "metadata": {},
     "output_type": "execute_result"
    }
   ],
   "source": [
    "# let's plot\n",
    "# This cell is for parameters that I do not intend to change across this chapter.\n",
    "from numpy import cos, sin, exp, sqrt, linspace, pi, sign, arctan\n",
    "import matplotlib.pyplot as plt\n",
    "from matplotlib import interactive\n",
    "interactive(False)\n",
    "    \n",
    "x0 = 4e-2  # initial position [m]\n",
    "v0 = 0.  # initial velocity [m/s]\n",
    "k = 180.  # spring stiffness [N/m]\n",
    "m = 0.8  # mass [kg]\n",
    "t_end = 3.  # final time of plot [s]\n",
    "\n",
    "omega_0 = sqrt(k/m)  # natural frequency of the oscillation [rad/s]\n",
    "t = linspace(0., t_end, 1024)  # time array, from 0 to 0.6 s, 128 points\n",
    "\n",
    "ftsz = 13  # font size on plots\n",
    "\n",
    "b_under = 1.  # damping [kg/s]\n",
    "\n",
    "# derived quantities\n",
    "gamma_under = b_under/m  #  damping coefficient [1/s]\n",
    "omega_d = sqrt(omega_0**2 - gamma_under**2/4)\n",
    "phi = arctan(-0.5*gamma_under/omega_d)\n",
    "if sign(cos(arctan(phi))) == -sign(x0):  # make sure the correct phase is chosen\n",
    "    phi += pi  # if not, augment phi by pi to find the other phase\n",
    "A0 = x0/cos(phi)\n",
    "\n",
    "T_d = 2*pi/omega_d  # period of oscillation [s]\n",
    "\n",
    "x_under = A0*exp(-0.5*gamma_under*t)*cos(omega_d*t + phi)  # position [m]\n",
    "envelope = A0*exp(-0.5*gamma_under*t)\n",
    "\n",
    "fig = plt.figure()\n",
    "ax1 = fig.gca()\n",
    "ax1.plot(t, x_under, 'b', label='$x(t)$')  # plotting the position x\n",
    "ax1.plot(t, envelope, 'r--', label='$A_0e^{-\\gamma t/2}$')  # plotting the envelope\n",
    "ax1.plot(t, -envelope, 'r-.', label='$-A_0e^{-\\gamma t/2}$')\n",
    "ax1.set_xlabel('time [s]', fontsize=ftsz) \n",
    "ax1.set_ylabel(r'position $x$ [m]', fontsize=ftsz)\n",
    "\n",
    "# annotation to highlight the period\n",
    "for nn in range(3, 5):\n",
    "    ax1.axvline(nn*T_d, color='k', linestyle='-.')  # the t=nT mark\n",
    "ax1.annotate(s='', xy=(3*T_d, 3.5e-2), xytext=(4*T_d, 3.5e-2),\n",
    "             arrowprops=dict(arrowstyle='<|-|>'))  # the double arrow\n",
    "ax1.text(3.5*T_d, 4.4e-2, r'$T_d = 2\\pi/\\omega_d$',\n",
    "         verticalalignment='center', horizontalalignment='center',\n",
    "         backgroundcolor='w', fontsize=ftsz)\n",
    "\n",
    "# annotations to highlight the logarithmic decay\n",
    "ax1.annotate(s='', xy=(3*T_d, 0.), xytext=(3*T_d, A0*exp(-0.5*gamma_under*3*T_d)),\n",
    "             arrowprops=dict(arrowstyle='<|-'))  # the double arrow\n",
    "ax1.text(3*T_d, 1.1*A0*exp(-0.5*gamma_under*3*T_d), '$A_n$',\n",
    "         verticalalignment='bottom', horizontalalignment='left', fontsize=ftsz)\n",
    "\n",
    "ax1.annotate(s='', xy=(4*T_d, 0.), xytext=(4*T_d, A0*exp(-0.5*gamma_under*4*T_d)),\n",
    "             arrowprops=dict(arrowstyle='<|-'))  # the double arrow\n",
    "ax1.text(4*T_d, A0*exp(-0.5*gamma_under*4*T_d), '$A_{n+1}$',\n",
    "         verticalalignment='bottom', horizontalalignment='left', fontsize=ftsz)\n",
    "\n",
    "ax1.grid()\n",
    "ax1.axhline(0., color='k')  # draw the zero-axis as horizontal line\n",
    "\n",
    "plt.legend()\n",
    "plt.savefig('LightlyDampedOscillations.png')\n",
    "plt.close()"
   ]
  },
  {
   "cell_type": "code",
   "execution_count": 4,
   "metadata": {
    "slideshow": {
     "slide_type": "slide"
    }
   },
   "source": [
    "![Fig. 2: Lightly damped oscillations](LightlyDampedOscillations.png)"
   ]
  },
  {
   "cell_type": "markdown",
   "metadata": {
    "slideshow": {
     "slide_type": "skip"
    }
   },
   "source": [
    "The behaviour is that of a (co)sine oscillation of (*pseudo*-)period $T_d = 2\\pi/\\omega_2$ (*not* $T_0 = 2\\pi/\\omega_0$), like for the SHO, multiplied by an exponential envelope that makes the waves decay.\n",
    "\n",
    "*Note: I call $T_d$ the pseudo-period, King calls it simply the period. Some of us prefer to refer to periods when systems are perfectly periodic. Here, the decay breaks the periodicity, and I prefer to talk about pseudo-periods.*"
   ]
  },
  {
   "cell_type": "markdown",
   "metadata": {
    "slideshow": {
     "slide_type": "skip"
    }
   },
   "source": [
    "A quantity that is often used is the *logarithmic decay* or *logarithmic decrement*. \n",
    "Let $A_n = A_0\\exp(-\\gamma n T_d/2)$ one local maximum, and $A_{n+1} = A_0\\exp(-\\gamma (n+1) T_d/2)$ the next local maximum, one (pseudo-)period later (see fig. above).\n",
    "Their ratio is \n",
    "$$ \\frac{A_{n}}{A_{n+1}} = \\exp\\left(\\frac{\\gamma T_d}2\\right)\\textrm{, which does not depend on time nor }n.$$\n",
    "$$ \\Rightarrow \\quad \\ln\\left(\\frac{A_{n}}{A_{n+1}}\\right) = \\frac{\\gamma T_d}2$$\n",
    "The logarithmic decrement is $\\gamma T_d/2$, and the tricky thing is to remember that the numerator corresponds to the preceding maximum.\n",
    "I find it confusing because $A_n/A_{n+1} > 1$ or $\\gamma T_d/2 > 0$, which is weird for something that decreases.\n",
    "It makes sense because if a value goes down, the decrement is positive, while the increment would be negative.\n",
    "It is just a matter of semantics."
   ]
  },
  {
   "cell_type": "markdown",
   "metadata": {
    "slideshow": {
     "slide_type": "skip"
    }
   },
   "source": [
    "### Connection with the SHO"
   ]
  },
  {
   "cell_type": "markdown",
   "metadata": {
    "slideshow": {
     "slide_type": "skip"
    }
   },
   "source": [
    "Now, here is the connection with the SHO problem, because $\\cos\\theta = (\\eexp{\\cplxi\\theta} + \\eexp{-\\cplxi\\theta})/2$ and $\\sin\\theta = (\\eexp{\\cplxi\\theta} - \\eexp{-\\cplxi\\theta})/2$.\n",
    "The \"roots\" of the SHO were simply $\\pm\\cplxi\\omega t$, with $\\omega_0 = \\omega_d = \\omega$. Therefore, it was a particular case of our current case. Indeed, $\\tan\\phi \\propto \\gamma =0 \\Rightarrow \\phi = 0$, implying that $A_0 = A = x_0$.\n",
    "\n",
    "And allow me to drill this one more time: it is still a second-order ODE, for which we need two initial conditions in order to find a solution."
   ]
  },
  {
   "cell_type": "markdown",
   "metadata": {
    "slideshow": {
     "slide_type": "skip"
    }
   },
   "source": [
    "## Heavy damping ($\\omega_0^2 < \\gamma^2/4$)"
   ]
  },
  {
   "cell_type": "markdown",
   "metadata": {
    "slideshow": {
     "slide_type": "skip"
    }
   },
   "source": [
    "A heavily damped oscillator ($\\Delta = \\gamma^2 - 4\\omega_0^2 >0$) is not even an oscillator: it just crashes down to its initial position exponentially.\n",
    "If we now define \n",
    "$$ \\alpha = \\frac{\\sqrt{\\Delta}}2 = \\sqrt{\\frac{\\gamma^2}4  - \\omega_0^2}\\quad\\textrm{then} \\quad r_{p,m} = -\\frac{\\gamma}2 \\pm \\alpha,$$\n",
    "where I used the notations of eqn.~\\eqref{eq:gensol}.\n",
    "\n",
    "The general solution is now \n",
    "$$ x(t) = a_p \\exp\\left[\\left(\\alpha - \\frac\\gamma2\\right)t\\right] + a_m \\exp\\left[-\\left(\\alpha + \\frac\\gamma2\\right)t\\right]. $$\n",
    "Note that these two exponentials are always decaying, even $\\exp[(\\alpha - \\gamma/2)t]$.\n",
    "Indeed, \n",
    "$$ \\alpha^2 = \\frac{\\gamma^2}4 - \\omega_0^2 < \\frac{\\gamma^2}4 \\quad \\Rightarrow \\quad \\alpha < \\frac{\\gamma} 2$$"
   ]
  },
  {
   "cell_type": "markdown",
   "metadata": {
    "slideshow": {
     "slide_type": "skip"
    }
   },
   "source": [
    "Once again, and for every second-order ODE, we have two coefficients to solve for, and we need two initial conditions to solve it.\n",
    "\n",
    "***\n",
    "\n",
    "And once again, the specific derivation of $a_p$ and $a_m$ that follows doesn't really matter, and I didn't cover it in class, but I need it for plotting purposes.\n",
    "Using the most general initial conditions:\n",
    "\n",
    "* $x(t=0) = x_0 = a_p + a_m$, and\n",
    "* $v(t=0) = v_0 = r_p a_p + r_m a_m$,\n",
    "\n",
    "which is a $2\\times 2$ linear system of equations (the two unknown being $a_p$ and $a_m$), we find that their solution is\n",
    "$$a_p = \\frac{v_0-r_mx_0}{r_p - r_m}\\quad \\textrm{and}\\quad a_m = \\frac{r_px_0 - v_0}{r_p - r_m}. $$ \n",
    "\n",
    "*(Do not memorize these!)*\n",
    "\n",
    "***\n",
    "\n",
    "Below, we plot for $x_0 = 4$ cm and $v_0 = 0$, just like for the other examples."
   ]
  },
  {
   "cell_type": "code",
   "execution_count": 5,
   "metadata": {
    "slideshow": {
     "slide_type": "skip"
    }
   },
   "outputs": [
    {
     "data": {
      "text/plain": [
       "<matplotlib.legend.Legend at 0x11aa8fd30>"
      ]
     },
     "execution_count": 5,
     "metadata": {},
     "output_type": "execute_result"
    },
    {
     "data": {
      "image/png": "[encoded data removed]",
      "text/plain": [
       "<Figure size 432x288 with 1 Axes>"
      ]
     },
     "metadata": {},
     "output_type": "display_data"
    }
   ],
   "source": [
    "# let's plot\n",
    "b_over = 1.5*2*sqrt(k*m)  # [kg/s]; this makes sure that the discriminant is >0\n",
    "\n",
    "# derived quantities\n",
    "gamma_over = b_over/m  #  damping coefficient [1/s]\n",
    "alpha = sqrt(0.25*gamma_over**2 - omega_0**2)\n",
    "r_p = alpha - 0.5*gamma_over\n",
    "r_m = -alpha - 0.5*gamma_over\n",
    "a_p = (r_m*x0 - v0)/(r_m - r_p)\n",
    "a_m = (v0 - r_p*x0)/(r_m - r_p)\n",
    "\n",
    "x_over_p = a_p*exp(r_p*t)  # the first exponential\n",
    "x_over_m = a_m*exp(r_m*t)  # the second exponential\n",
    "x_over = x_over_p + x_over_m  # position [m]\n",
    "\n",
    "fig = plt.figure()\n",
    "ax1 = fig.gca()\n",
    "ax1.plot(t, x_over_p, 'r--', label='$a_pe^{r_p t}$')  # plotting the 1st exponential\n",
    "ax1.plot(t, x_over_m, 'r-.', label='$a_me^{r_m t}$')  # plotting the 2nd exponential\n",
    "ax1.plot(t, x_over, 'b', label='$x(t)$')  # plotting the position x\n",
    "ax1.set_xlabel('time [s]', fontsize=ftsz) \n",
    "ax1.set_ylabel(r'position $x$ [m]', color='b', fontsize=ftsz)\n",
    "ax1.tick_params('y', colors='b')  # color for y-axis is blue\n",
    "\n",
    "ax1.grid()\n",
    "ax1.axhline(0., color='k')  # draw the zero-axis as horizontal line\n",
    "\n",
    "plt.legend()\n",
    "plt.savefig('StronglyDampedOscillations.png')\n",
    "plt.close()"
   ]
  },
  {
   "cell_type": "markdown",
   "metadata": {
    "slideshow": {
     "slide_type": "subslide"
    }
   },
   "source": [
    "![Fig. 3: strongly damped \"oscillation\"](StronglyDampedOscillations.png)"
   ]
  },
  {
   "cell_type": "markdown",
   "metadata": {
    "slideshow": {
     "slide_type": "skip"
    }
   },
   "source": [
    "So, we only have some kind of exponential decay, or more correctly, the sum of two exponential decays.\n",
    "The most daring of you might try different initial conditions with the Jupyter notebook (try, e.g., $v_0 > 0$ and $x_0 = 0$), but at least, I want you to remember the general shape of the curve above."
   ]
  },
  {
   "cell_type": "markdown",
   "metadata": {
    "slideshow": {
     "slide_type": "skip"
    }
   },
   "source": [
    "## Critical damping ($\\omega_0^2 = \\gamma^2/4$)\n",
    "\n",
    "This case can feel weird: what a coincidence it would be to have both quantities equal!\n",
    "As a natural scientist, I am actually inclined to discard it, because yes, coincidences are uninteresting when they occur naturally.\n",
    "But if I were an engineer, I should not ignore this case: humans build stuff, and can make this coincidence happen.\n",
    "In the end of this sub-section, I will show everyday applications. \n",
    "But for now, let's dive in."
   ]
  },
  {
   "cell_type": "markdown",
   "metadata": {
    "slideshow": {
     "slide_type": "skip"
    }
   },
   "source": [
    "First of all, eqn.~\\eqref{eq:gensol} does not work here with $a_p$ and $a_m$ being constant coefficients.\n",
    "Indeed, $\\omega^2_0 - \\gamma^2/2 = 0$ means that $r_p = r_m = -\\gamma/2$. \n",
    "Therefore, eqn. \\eqref{eq:gensol} is written \n",
    "$$ x(t) = (a_p + a_m)\\exp(-\\gamma t/2) $$\n",
    "and if $a_p$ and $a_m$ are constant, the velocity is $v(t) = -\\gamma x(t)/2$.\n",
    "This is a problem: what if we have $x_0 \\neq 0$ and $v_0 = 0$, like in most of our previous examples?\n",
    "It is an *overprescribed* or *overconstrained* problem, in which there is more independent information than there are degrees of freedom to accommodate it.\n",
    "In short, it is impossible unless $x(t) = 0$ at all times, and then, who cares?"
   ]
  },
  {
   "cell_type": "markdown",
   "metadata": {
    "slideshow": {
     "slide_type": "skip"
    }
   },
   "source": [
    "You might see the reason why in your ODE class, but for now, let's just accept the fact that in this very particular case, the general solution is:\n",
    "$$ x(t) = (A + Bt)\\exp(-\\gamma t / 2), $$\n",
    "which means that the velocity is\n",
    "$$v(t) = (B - \\gamma A/2 - \\gamma Bt/2)\\exp(-\\gamma t / 2). $$\n",
    "with $A$ and $B$ TBD.\n",
    "Two initial conditions, two unknowns: yay!"
   ]
  },
  {
   "cell_type": "markdown",
   "metadata": {
    "slideshow": {
     "slide_type": "skip"
    }
   },
   "source": [
    "***\n",
    "\n",
    "And for the last time, I need what follows for plotting purposes.\n",
    "Using the most general initial conditions:\n",
    "\n",
    "* $x(t=0) = x_0 = A$, and\n",
    "* $v(t=0) = v_0 = B - \\gamma A/2 = B - \\gamma x_0/2 \\quad\\Rightarrow \\quad B = v_0 + \\gamma x_0/2$.\n",
    "\n",
    "*(Do not learn this!)*\n",
    "\n",
    "***\n",
    "\n",
    "Below, we plot for $x_0 = 4$ cm and $v_0 = 0$, just like for the other examples."
   ]
  },
  {
   "cell_type": "code",
   "execution_count": 6,
   "metadata": {
    "slideshow": {
     "slide_type": "skip"
    }
   },
   "outputs": [
    {
     "data": {
      "text/plain": [
       "<matplotlib.lines.Line2D at 0x11ab8c400>"
      ]
     },
     "execution_count": 7,
     "metadata": {},
     "output_type": "execute_result"
    },
    {
     "data": {
      "image/png": "[encoded data removed]",
      "text/plain": [
       "<Figure size 432x288 with 1 Axes>"
      ]
     },
     "metadata": {},
     "output_type": "display_data"
    }
   ],
   "source": [
    "# let's plot\n",
    "# I will use the same coefficients except for the damping\n",
    "b_crit = 2*sqrt(k*m)  # [kg/s]; this makes sure that the discriminant is 0\n",
    "\n",
    "# derived quantities\n",
    "gamma_crit = b_crit/m  #  damping coefficient [1/s]\n",
    "r_c = -0.5*gamma_crit\n",
    "A = x0\n",
    "B = v0 + 0.5*gamma_crit*x0\n",
    "\n",
    "x_crit = (A + B*t)*exp(-0.5*gamma_crit*t)  # position [m]\n",
    "\n",
    "fig = plt.figure()\n",
    "ax1 = fig.gca()\n",
    "ax1.plot(t, x_crit, 'b', label='$x(t)$')  # position x\n",
    "ax1.set_xlabel('time [s]', fontsize=ftsz) \n",
    "ax1.set_ylabel(r'position $x$ [m]', color='b', fontsize=ftsz)\n",
    "ax1.tick_params('y', colors='b')  # color for y-axis is blue\n",
    "\n",
    "ax1.grid()\n",
    "ax1.axhline(0., color='k')  # draw the zero-axis as horizontal line\n",
    "plt.savefig('CriticallyDampedOscillations.png')\n",
    "plt.close()"
   ]
  },
  {
   "cell_type": "markdown",
   "metadata": {
    "scrolled": false,
    "slideshow": {
     "slide_type": "subslide"
    }
   },
   "source": [
    "![Fig. 4: Critically damped \"oscillation\"](CriticallyDampedOscillations.png)"
   ]
  },
  {
   "cell_type": "markdown",
   "metadata": {
    "slideshow": {
     "slide_type": "skip"
    }
   },
   "source": [
    "Back to the everyday application I promised.\n",
    "Notice how the decay is faster than the previous, overdamped oscillator.\n",
    "In fact, the critically-damped oscillator is the one that decays the fastest without oscillating."
   ]
  },
  {
   "cell_type": "markdown",
   "metadata": {
    "slideshow": {
     "slide_type": "skip"
    }
   },
   "source": [
    "Indeed, in the overdamped case, there are two exponentials.\n",
    "And because $r_m < -\\gamma/2$, $t\\eexp{r_m t}$ always decays more slowly that $\\eexp{-\\gamma t/2}$, and the slowest sets the pace (as is hopefully visible in the figure of the overdamped oscillator above).\n",
    "\n",
    "Here, $\\alpha = 0$, and so the decay is faster than an overdamped oscillator.\n",
    "\n",
    "*Note: more math, but even $t\\eexp{-\\beta_1 t}$ decays faster than $\\eexp{-\\beta_2 t}$ if $\\beta_1 > \\beta_2 >0$. I do not know at which point you will learn this calculus result, or if you already did, but it is true. Just accept this fact for this class.*"
   ]
  },
  {
   "cell_type": "markdown",
   "metadata": {
    "slideshow": {
     "slide_type": "skip"
    }
   },
   "source": [
    "This property can be desirable, a famous example being a car suspension system, pictured in King's fig. 2.3 (reproduced here).\n",
    "\n",
    "![King 2.3: Suspension](Suspension.png)"
   ]
  },
  {
   "cell_type": "markdown",
   "metadata": {
    "slideshow": {
     "slide_type": "skip"
    }
   },
   "source": [
    "If the spring was too stiff or the shock absorber too soft, shocks would turn into oscillations and passengers would bounce up and down.\n",
    "On the other hand, if the spring was not very stiff or the shock absorber too hard to move, shocks would also be transmitted to the car: the car might fly a little, fall hard on the ground, and so on.\n",
    "A car maker wants the shock to be smoothed (not too stiff a spring, not too soft an absorber), but also that the energy doesn't linger in the car for too long (stiff enough a spring, soft enough an absorber): it is looking for critical damping to be achieved for the mass of a car + standard load."
   ]
  },
  {
   "cell_type": "markdown",
   "metadata": {
    "slideshow": {
     "slide_type": "skip"
    }
   },
   "source": [
    "Other possible applications:\n",
    "\n",
    "* needle on a meter (don't want to wait for too long for the meter to reach value, but don't want it to oscillate around the value either),\n",
    "* shock absorber + spring for a door that is meant to close automatically (don't want the cold winter wind to gush in for too long, but don't want the door to slam against the frame either)."
   ]
  },
  {
   "cell_type": "markdown",
   "metadata": {
    "slideshow": {
     "slide_type": "skip"
    }
   },
   "source": [
    "## Summary\n",
    "\n",
    "I invite you to re-watch the YouTube video I showed towards the beginning of this chapter, in order to revisit what the three regimes mean.\n",
    "\n",
    "I also invite you to play with the tool by following this link: \n",
    "\n",
    "https://faraday.physics.utoronto.ca/GeneralInterest/Harrison/Flash/ClassMechanics/DampedSHM/DampedSHM.html\n",
    "\n",
    "Below I plot the three cases that we have seen so far. Note that the values of all parameters but $b$ (or $\\gamma$) are kept constant. \n",
    "$b$ (or $\\gamma$) is the only parameter that we vary across all cases."
   ]
  },
  {
   "cell_type": "code",
   "execution_count": 9,
   "metadata": {
    "slideshow": {
     "slide_type": "skip"
    }
   },
   "outputs": [
    {
     "data": {
      "text/plain": [
       "<matplotlib.legend.Legend at 0x11b445d30>"
      ]
     },
     "execution_count": 9,
     "metadata": {},
     "output_type": "execute_result"
    },
    {
     "data": {
      "image/png": "[encoded data removed]",
      "text/plain": [
       "<Figure size 432x288 with 1 Axes>"
      ]
     },
     "metadata": {},
     "output_type": "display_data"
    }
   ],
   "source": [
    "# let's plot\n",
    "# I will use the same parmeters except for the damping\n",
    "fig = plt.figure()\n",
    "ax1 = fig.gca()\n",
    "ax1.plot(t, x_crit, 'b', label='critical')  # plotting the position x\n",
    "ax1.plot(t, x_over, 'r--', label='overdamped')  # plotting the position x\n",
    "ax1.plot(t, x_under, 'g-.', label='underdamped')  # plotting the position x\n",
    "ax1.set_xlabel('time [s]', fontsize=ftsz) \n",
    "ax1.set_ylabel('position $x$ [m]', color='b', fontsize=ftsz)\n",
    "ax1.tick_params('y', colors='b')  # color for y-axis is blue\n",
    "\n",
    "ax1.grid()\n",
    "ax1.axhline(0., color='k')  # draw the zero-axis as horizontal line\n",
    "\n",
    "plt.legend()\n",
    "plt.savefig('DampedOscillations.png')\n",
    "plt.close()"
   ]
  },
  {
   "cell_type": "code",
   "execution_count": 7,
   "metadata": {
    "slideshow": {
     "slide_type": "subslide"
    }
   },
   "outputs": [
    {
     "name": "stdout",
     "output_type": "stream",
     "text": [
      "/bin/sh: 1: Syntax error: \"(\" unexpected\r\n"
     ]
    }
   ],
   "source": [
    "![Fig. 5: Damped oscillations, a summary](DampedOscillations.png)"
   ]
  },
  {
   "cell_type": "markdown",
   "metadata": {
    "slideshow": {
     "slide_type": "skip"
    }
   },
   "source": [
    "Note above how the transition from under- to overdamped happens, and how an overdamped oscillator takes too long to land."
   ]
  },
  {
   "cell_type": "markdown",
   "metadata": {
    "slideshow": {
     "slide_type": "skip"
    }
   },
   "source": [
    "1. $\\gamma^2/4 < \\omega_0^2$: light damping, or underdamped oscillator. Damped oscillations.\n",
    "\n",
    "2. $\\gamma^2/4 > \\omega_0^2$: heavy damping, or overdamped oscillator. Exponential decay to equilibrium position.\n",
    "\n",
    "3. $\\gamma^2/4 = \\omega_0^2$: critical damping. Quickest return to equilibrium position without overshoot."
   ]
  },
  {
   "cell_type": "markdown",
   "metadata": {
    "slideshow": {
     "slide_type": "skip"
    }
   },
   "source": [
    "# Energy\n",
    "\n",
    "## General Considerations\n",
    "\n",
    "Whether the mass moves or is held in place, the friction does not represent an energy reservoir like KE or PE do: it merely removes mechanical energy from the system.\n",
    "Therefore, the energy of the system has the same expression:\n",
    "$$ E = K + U = \\frac12 m v^2 + \\frac12 kx^2.$$"
   ]
  },
  {
   "cell_type": "markdown",
   "metadata": {
    "slideshow": {
     "slide_type": "skip"
    }
   },
   "source": [
    "What the existence of friction/damping change is the *time evolution* of the mechanical energy: it decays.\n",
    "Note that I am not violating the conservation of total energy of a closed system.\n",
    "This is because damping allows to exchange energy with other types of energy reservoirs.\n",
    "For example, friction can create heat. \n",
    "The energy is still present in the system, but it is in the form of *internal energy*, not mechanical energy.\n",
    "The energy could also be exchanged with the outside, for example in the form of vibrations (mechanical vibrations or sound waves). But in any case, the *total energy of the closed system*, which may include the entire universe if need be, stays constant.\n",
    "\n",
    "In the SHO, $E$ was constant because without any damping, the SHO is effectively a closed system, a system that cannot exchange energy with other reservoirs of energy, be they internal or external."
   ]
  },
  {
   "cell_type": "markdown",
   "metadata": {
    "slideshow": {
     "slide_type": "skip"
    }
   },
   "source": [
    "The damping does not represent an energy reservoir, but is does represent a leak, or a drain, of energy:\n",
    "\n",
    "$$ \\ode{E}t = \\ode{}{t}\\left(\\frac12 m v^2 +\\frac12k x^2\\right) = mv\\dot v + kx\\dot x = (ma + kx)v, $$\n",
    "and because $ma = -kx - bv$, \n",
    "$$ \\boxed{\\ode{E}t =  -bv^2}. $$\n",
    "The mechanical energy loss is directly attributable to the damping.\n",
    "Notice how the damping rate depends on the *square* of the linear quantities, here, $v^2$.\n",
    "This is a reminder of the quadratic dependence of energy quantities versus linear quantities (\"double the amplitude, quadruple the energy\")."
   ]
  },
  {
   "cell_type": "markdown",
   "metadata": {
    "slideshow": {
     "slide_type": "skip"
    }
   },
   "source": [
    "## Underdamped Harmonic Oscillator ($\\omega_0^2 > \\gamma^2/4$)\n",
    "\n",
    "The potential energy is\n",
    "$$ U = \\frac12 k x^2 =  \\frac12 k A_0^2 \\cos^2(\\omega_d t + \\phi) \\eexp{-\\gamma t}  $$"
   ]
  },
  {
   "cell_type": "markdown",
   "metadata": {
    "slideshow": {
     "slide_type": "skip"
    }
   },
   "source": [
    "The kinetic energy is\n",
    "\\begin{align*}\n",
    "    K & = \\frac12 m A_0^2 \\eexp{- \\gamma t}\\left[-\\omega_d\\sin(\\omega_d t + \\phi) - \\frac{\\gamma}{2}\\cos(\\omega_dt +\\phi)\\right]^2 \\\\\n",
    "      & = \\frac12 m A_0^2 \\omega_d^2 \\eexp{- \\gamma t}\\left[\\sin(\\omega_d t + \\phi) + \\frac{\\gamma}{2\\omega_d}\\cos(\\omega_dt +\\phi)\\right]^2 \\\\\n",
    "      & \\approx \\frac12 m A_0^2 \\omega_0^2 \\eexp{- \\gamma t}\\sin^2(\\omega_d t + \\phi),\n",
    "\\end{align*}\n",
    "where the last bit of approximation is valid when $\\omega_0 \\gg \\gamma/2 \\Rightarrow \\gamma/(2\\omega_d) \\approx \\gamma/(2\\omega_0) \\ll 1$."
   ]
  },
  {
   "cell_type": "markdown",
   "metadata": {
    "slideshow": {
     "slide_type": "skip"
    }
   },
   "source": [
    "The mechanical energy is therefore (under the $\\gamma/(2\\omega_0) \\ll 1$, $\\omega_d \\approx \\omega_0$ approximation):\n",
    "$$ E = K + U \\approx \\frac12 A_0^2 \\eexp{- \\gamma t}\\left[m\\omega_0^2 \\sin^2(\\omega_d t + \\phi) + k \\cos^2(\\omega_d t + \\phi)\\right], $$\n",
    "$$\\textrm{Recall that } m\\omega_0^2 = k \\textrm{ and } \\cos^2 + \\sin^2 = 1\\quad \\Rightarrow\\quad \\boxed{E = \\frac12 k A_0^2 \\eexp{- \\gamma t}}.$$"
   ]
  },
  {
   "cell_type": "markdown",
   "metadata": {
    "slideshow": {
     "slide_type": "skip"
    }
   },
   "source": [
    "The point to remember is that  **for a lightly damped oscillator, the mechanical energy decays exponentially.**\n",
    "The e-folding decay time scale $1/\\gamma$ is also called the *lifetime* of the oscillation."
   ]
  },
  {
   "cell_type": "markdown",
   "metadata": {
    "slideshow": {
     "slide_type": "skip"
    }
   },
   "source": [
    "*Remarks:*\n",
    "\n",
    "* *We only ask you to remember this $\\gamma/(2\\omega_0) \\ll 1$ limiting behaviour. Below, I plot the unapproximated version of $K$ and $E$ for your information, not because you have to remember it.*\n",
    "* *Above, I made a few approximations in a row, which can be dangerous business if we are not careful. The proper way to do it would be to define $\\varepsilon = \\gamma/(2\\omega_0)$, to Taylor-expand each term, and to collect all the leading-order terms. Such mathematical refinery is a bit too technical for what is required of you in this class.*"
   ]
  },
  {
   "cell_type": "code",
   "execution_count": 10,
   "metadata": {
    "slideshow": {
     "slide_type": "skip"
    }
   },
   "outputs": [
    {
     "data": {
      "text/plain": [
       "<matplotlib.legend.Legend at 0x11b579f28>"
      ]
     },
     "execution_count": 11,
     "metadata": {},
     "output_type": "execute_result"
    },
    {
     "data": {
      "image/png": "[encoded data removed]",
      "text/plain": [
       "<Figure size 432x288 with 1 Axes>"
      ]
     },
     "metadata": {},
     "output_type": "display_data"
    }
   ],
   "source": [
    "# let's plot, with the previous numerical values for the underdamped oscillator\n",
    "v_under = A0*exp(-0.5*gamma_under*t)*(-omega_d*sin(omega_d*t + phi)\n",
    "                                      - 0.5*gamma_under*cos(omega_d*t + phi))\n",
    "v_under_approx = -A0*exp(-0.5*gamma_under*t)*omega_0*sin(omega_d*t + phi)\n",
    "\n",
    "K_under = 0.5*m*v_under**2\n",
    "K_under_approx = 0.5*m*v_under_approx**2\n",
    "\n",
    "U_under = 0.5*k*x_under**2\n",
    "\n",
    "E_under = K_under + U_under\n",
    "E_under_approx = K_under_approx + U_under\n",
    "\n",
    "fig = plt.figure()\n",
    "ax1 = fig.gca()\n",
    "ax1.plot(t, K_under, 'b-.', label='$K(t)$')  # unapproximated kinetic energy\n",
    "ax1.plot(t, K_under_approx, 'b', label='$K(t)$, approx.')  # approximated kinetic energy\n",
    "ax1.plot(t, U_under, 'g--', label='$U(t)$')  # potential energy\n",
    "ax1.plot(t, E_under, 'r-.', label='$E(t)$')  # unapproximated mechanical energy\n",
    "ax1.plot(t, E_under_approx, 'r', label='$E(t)$, approx.')  # approximated mechanical energy\n",
    "ax1.set_xlabel('time [s]', fontsize=ftsz) \n",
    "ax1.set_ylabel('Energies [J]', fontsize=ftsz)\n",
    "\n",
    "ax1.grid()\n",
    "ax1.axhline(0., color='k')  # draw the zero-axis as horizontal line\n",
    "\n",
    "plt.legend()\n",
    "plt.savefig('LightlyDampedEnergy.png')\n",
    "plt.close()"
   ]
  },
  {
   "cell_type": "markdown",
   "metadata": {
    "slideshow": {
     "slide_type": "slide"
    }
   },
   "source": [
    "![Fig. 6: Lightly damped oscillations](LightlyDampedEnergy.png)"
   ]
  },
  {
   "cell_type": "code",
   "execution_count": 11,
   "metadata": {
    "slideshow": {
     "slide_type": "slide"
    }
   },
   "outputs": [
    {
     "name": "stdout",
     "output_type": "stream",
     "text": [
      "gamma/(2*omega0) = 4.2e-02\n",
      "Q = 1.2e+01\n",
      "1/gamma = 8.0e-01 s\n"
     ]
    }
   ],
   "source": [
    "print('gamma/(2*omega0) = {0:.1e}'.format(0.5*gamma_under/omega_0))\n",
    "print('Q = {0:.1e}'.format(omega_0/gamma_under))\n",
    "print('1/gamma = {0:.1e} s'.format(gamma_under**-1))"
   ]
  },
  {
   "cell_type": "markdown",
   "metadata": {
    "slideshow": {
     "slide_type": "skip"
    }
   },
   "source": [
    "As you can see above, it is hard to distinguish the curves with or without the $\\gamma/(2\\omega) \\ll 1$ approximation, meaning that even for an e-folding decay scale of a few pseudo-oscillation periods (here, $\\gamma/(2\\omega) \\approx 0.042$), the approximation is a good one."
   ]
  },
  {
   "cell_type": "markdown",
   "metadata": {
    "slideshow": {
     "slide_type": "skip"
    }
   },
   "source": [
    "## Over- and Critically damped oscillators"
   ]
  },
  {
   "cell_type": "markdown",
   "metadata": {
    "slideshow": {
     "slide_type": "skip"
    }
   },
   "source": [
    "There isn't much to say about these cases: their energy just decays, and because of the quadratic dependence of the energy on the amplitude, they decay twice as fast as the envelope of the oscillations.\n",
    "\n",
    "I will just plot all three cases in one plot."
   ]
  },
  {
   "cell_type": "code",
   "execution_count": 13,
   "metadata": {
    "slideshow": {
     "slide_type": "skip"
    }
   },
   "outputs": [
    {
     "data": {
      "text/plain": [
       "<matplotlib.legend.Legend at 0x11b6720b8>"
      ]
     },
     "execution_count": 13,
     "metadata": {},
     "output_type": "execute_result"
    },
    {
     "data": {
      "image/png": "[encoded data removed]",
      "text/plain": [
       "<Figure size 432x288 with 1 Axes>"
      ]
     },
     "metadata": {},
     "output_type": "display_data"
    }
   ],
   "source": [
    "# let's plot, with the previous numerical values fir the underdamped oscillator\n",
    "# Energies for the critical case\n",
    "v_crit = (B - 0.5*gamma_crit*A - 0.5*gamma_crit*B*t)*exp(-0.5*gamma_crit*t)\n",
    "# above: velocity in critical case\n",
    "K_crit = 0.5*m*v_crit**2  # kinetic\n",
    "U_crit = 0.5*k*x_crit**2  # potential\n",
    "E_crit = K_crit + U_crit  # mechanical\n",
    "\n",
    "# Energies for the overdamped case\n",
    "v_over_p = r_p*a_p*exp(r_p*t)  # velocity of the first exponential\n",
    "v_over_m = r_m*a_m*exp(r_m*t)  # velocity of the second exponential\n",
    "v_over = v_over_p + v_over_m  # veloctiy in the overdamped case [m/s]\n",
    "K_over = 0.5*m*v_over**2  # kinetic\n",
    "U_over = 0.5*k*x_over**2  # potential\n",
    "E_over = K_over + U_over  # mechanical\n",
    "\n",
    "# plot\n",
    "fig = plt.figure()\n",
    "ax1 = fig.gca()\n",
    "ax1.plot(t, E_under_approx, 'g-.', label='underdamped, approx.')\n",
    "ax1.plot(t, E_over, 'r--', label='overdamped')\n",
    "ax1.plot(t, E_crit, 'b', label='critical')\n",
    "ax1.set_xlabel('time [s]', fontsize=ftsz) \n",
    "ax1.set_ylabel('Energies [J]', fontsize=ftsz)\n",
    "\n",
    "ax1.grid()\n",
    "ax1.axhline(0., color='k')  # draw the zero-axis as horizontal line\n",
    "\n",
    "plt.legend()\n",
    "plt.savefig('DampedEnergy.png')\n",
    "plt.close()"
   ]
  },
  {
   "cell_type": "markdown",
   "metadata": {
    "slideshow": {
     "slide_type": "subslide"
    }
   },
   "source": [
    "![Fig. 7: Energy of damped oscillations](DampedEnergy.png)"
   ]
  },
  {
   "cell_type": "markdown",
   "metadata": {
    "slideshow": {
     "slide_type": "skip"
    }
   },
   "source": [
    "The critical case is the one for which the energy decays the fastest on the figure, and in all cases (all other things being equal) as well.\n",
    "In some engineering problems like the ones I was mentioning before, removing energy as fast as possible is a desirable quality."
   ]
  },
  {
   "cell_type": "markdown",
   "metadata": {
    "slideshow": {
     "slide_type": "skip"
    }
   },
   "source": [
    "# Quality factor ('$Q$-value') of an oscillator\n",
    "\n",
    "## Definition\n",
    "\n",
    "In many other engineering cases, we want a system to require as little driving as possible, for energy saving purposes for example.\n",
    "If that is indeed what one wants, the damping has to be as weak as possible.\n",
    "In this case, the *quality* of the system will therefore be measured by the ratio\n",
    "$$ Q = \\frac{\\textrm{tendency to oscillate}}{\\textrm{tendency to damp}}. $$\n",
    "Now, there is no scientific definition of what these \"tendencies\" are.\n",
    "But in the lightly damped oscillator (the only one, the $Q$-factor applies to), oscillations last longer when $\\gamma \\ll 2\\omega_0$.\n",
    "Therefore, a high \"quality\" (as defined by those for whom this is a quality...) is achieved when\n",
    "$$ \\boxed{Q = \\frac{\\omega_0}\\gamma}. $$\n",
    "\n",
    "With this definition, the pseudo-angular frequency can be written $$\\omega_d^2 = \\omega_0^2\\left(1 - \\frac1{4Q^2}\\right).$$\n",
    "\n",
    "$Q$ is called the *quality factor*, $Q$*-factor* of $Q$*-value* of the oscillator.\n",
    "In the case I used throughout this set of notes, $Q \\approx 12$.\n",
    "It can the thought of as a measure of the number of oscillations (in radians) an oscillator can achieve within one lifetime.\n",
    "Indeed, define $\\tau = 1/\\gamma$ as the lifetime, and $n = \\tau/T_0$ the number of natural cycles achieved in one lifetime; then $Q = 2\\pi n$."
   ]
  },
  {
   "cell_type": "markdown",
   "metadata": {
    "slideshow": {
     "slide_type": "skip"
    }
   },
   "source": [
    "You can verify it on the figures of lightly damped oscillations in this chapter: we have $\\gamma^{-1} = \\tau \\approx 0.8$ s, during which you see the oscillator perform almost two full cycles.\n",
    "$2\\pi \\approx 6$, 2 cycles $\\times$ 2$\\pi \\approx 12\\approx Q$.\n",
    "\n",
    "It works because $Q$ is high enough to say that $T_0 \\approx T_d$.\n",
    "For most practiucal matters, this is the case."
   ]
  },
  {
   "cell_type": "markdown",
   "metadata": {
    "slideshow": {
     "slide_type": "slide"
    }
   },
   "source": [
    "Fig. 2.7 of King (reproduced here) shows a few examples of oscillators with different $b$ parameters, and their corresponding $Q$ values.\n",
    "\n",
    "![King 2.7: Q-values](Q-valuz.png)"
   ]
  },
  {
   "cell_type": "markdown",
   "metadata": {
    "slideshow": {
     "slide_type": "skip"
    }
   },
   "source": [
    "## Energetic interpretation\n",
    "\n",
    "The quality factor also has an interpretation of how vigorously the damping removes mechanical energy from the system.\n",
    "Indeed, let $E_n = E_0\\exp(-\\gamma t)$ be the mechanical energy in the system at a given time $t$.\n",
    "One pseudo-period later, the mechanical energy will be $E_{n+1} = E_0\\exp(-\\gamma(t+T_d))$."
   ]
  },
  {
   "cell_type": "markdown",
   "metadata": {
    "slideshow": {
     "slide_type": "skip"
    }
   },
   "source": [
    "The mechanical energy lost in the system during a pseudo-period, relative to how much energy there was at the beginning of the pseudo-period, is therefore equal to\n",
    "$$ \\frac{E_{n} - E_{n+1}}{E_n} = \\frac{\\exp(-\\gamma t) - \\exp(-\\gamma(t+T_d))}{\\exp(-\\gamma t)} = 1 - \\exp(-\\gamma T_d).$$\n",
    "\n",
    "Recall that if $\\varepsilon \\ll 1$, then $\\exp(\\varepsilon) = 1 + \\varepsilon + O(\\varepsilon^2) \\approx 1 + \\varepsilon$ (Taylor expansion).\n",
    "Therefore, for a pretty lightly damped oscillator ($\\gamma \\ll \\omega_0$, $Q \\gg 1$), \n",
    "$$ \\frac{E_{n} - E_{n+1}}{E_n} \\approx \\gamma T_d = \\frac{2\\pi}{Q}.$$\n",
    "\n",
    "This was the energy lost *during one (pseudo-)cycle*.\n",
    "The energy lost *during one (pseudo-)radian* is therefore $1/Q$.\n",
    "In other words, a possible interpretation of $Q$ is\n",
    "$$ Q  = \\frac{\\textrm{energy stored in the oscillator}}{\\textrm{energy dissipated one radian later}}. $$"
   ]
  },
  {
   "cell_type": "markdown",
   "metadata": {
    "slideshow": {
     "slide_type": "subslide"
    }
   },
   "source": [
    "## Some values\n",
    "\n",
    "Taken from King's Table 2.1.\n",
    "\n",
    "| Oscillatory system | Typical value of Q |\n",
    "| :-: | :-: |\n",
    "| Paper weight suspended on a rubber band | 10 |\n",
    "| Clock pendulum | 75 |\n",
    "| Electrical LRC circuit | 200 |\n",
    "| Plucked violin string | 1,000 |\n",
    "| Microwave cavity oscillator | 10,000 |\n",
    "| Quartz crystal | 1,000,000 |"
   ]
  },
  {
   "cell_type": "markdown",
   "metadata": {
    "slideshow": {
     "slide_type": "slide"
    }
   },
   "source": [
    "# Damped Electrical Oscillations: the LRC circuit\n",
    "\n",
    "See Fig. 2.8 of King attached: we add a resistor (resistance $R$) in series to the circuit we saw in the first chapter, which adds damping to the system.\n",
    "\n",
    "![King 2.8: The LRC circuit](LRC.png)"
   ]
  },
  {
   "cell_type": "markdown",
   "metadata": {
    "slideshow": {
     "slide_type": "skip"
    }
   },
   "source": [
    "Like in the chapter on SHOs, we will draw an analogy between the spring+mass system and the LRC circuit by simply deriving the equation for the DHO, and the rest will follow.\n",
    "\n",
    "Recall that the equivalent of Newton's second law to derive the equation for an electric circuit is Kirchhoff's law, i.e., all voltages sum up to zero.\n",
    "Here are the voltages of each component at any instant:\n",
    "\n",
    "* capacitor: $V_C = q/C$,\n",
    "* inductor: $V_L = L\\dot I = L\\ddot q$, and\n",
    "* resistor: $V_R = RI = R\\dot q$.\n",
    "\n",
    "Therefore, because the equivalent of $\\dot x$ is $\\dot q$ here, the equivalent of $b$ is now $R$."
   ]
  },
  {
   "cell_type": "markdown",
   "metadata": {
    "slideshow": {
     "slide_type": "skip"
    }
   },
   "source": [
    "Kirchoff's law is now written\n",
    "$$ L\\ddot q + R\\dot q + q/C = 0 \\quad \\Rightarrow \\quad \\ddot q + \\gamma\\dot q + \\omega_0^2 q = 0, $$\n",
    "after division by $L$ and with $\\gamma = R/L$ and $\\omega_0^2 = 1/LC$."
   ]
  },
  {
   "cell_type": "markdown",
   "metadata": {
    "slideshow": {
     "slide_type": "skip"
    }
   },
   "source": [
    "We can now complete the table, which I started in Chapter 1 on SHOs:\n",
    "\n",
    "| Mass + spring + damping | LRC circuit |\n",
    "| :---------------------: | :---------------------: |\n",
    "| $x$                 | $q$         |\n",
    "| $v$                 | $I$         |\n",
    "| $m$                 | $L$         |\n",
    "| $k$                 | $1/C$       |\n",
    "| $\\omega_0^2=k/m$    | $\\omega_0^2=1/(LC)$ |\n",
    "| KE $K=mv^2/2$       | Magnetic energy $LI^2/2$ |\n",
    "| PE $U=kA^2/2$       | Electrostatic energy $CV_C^2/2$ |\n",
    "| $b$                 | $R$         |\n",
    "| $\\gamma=b/m$        | $\\gamma=R/L$ |\n",
    "| $\\omega_d^2=\\frac1m\\left(k-\\frac{b^2}{4m}\\right)$ | $\\omega_d^2=\\frac1L\\left(\\frac1C-\\frac{R^2}{4L}\\right)$ |\n",
    "| $Q=\\frac{\\sqrt{km}}b$ | $Q=\\frac1R\\sqrt{\\frac{L}{C}}$ |"
   ]
  },
  {
   "cell_type": "markdown",
   "metadata": {
    "slideshow": {
     "slide_type": "skip"
    }
   },
   "source": [
    "Equations are generic, the physics is in the parameters."
   ]
  }
 ],
 "metadata": {
  "anaconda-cloud": {},
  "celltoolbar": "Slideshow",
  "kernelspec": {
   "display_name": "Python [default]",
   "language": "python",
   "name": "python3"
  },
  "language_info": {
   "codemirror_mode": {
    "name": "ipython",
    "version": 3
   },
   "file_extension": ".py",
   "mimetype": "text/x-python",
   "name": "python",
   "nbconvert_exporter": "python",
   "pygments_lexer": "ipython3",
   "version": "3.5.6"
  }
 },
 "nbformat": 4,
 "nbformat_minor": 1
}
